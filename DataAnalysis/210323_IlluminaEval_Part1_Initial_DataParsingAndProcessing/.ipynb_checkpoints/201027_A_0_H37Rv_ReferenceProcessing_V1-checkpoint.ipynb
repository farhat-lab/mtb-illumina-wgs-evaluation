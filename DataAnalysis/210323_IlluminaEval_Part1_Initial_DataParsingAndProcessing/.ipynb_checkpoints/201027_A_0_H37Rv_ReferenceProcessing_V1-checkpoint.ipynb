{
 "cells": [
  {
   "cell_type": "markdown",
   "metadata": {},
   "source": [
    "# Processing\n",
    "\n",
    "### Maximillian Marin\n",
    "### mgmarin@g.harvard.edu\n",
    "### 2020/10/27\n",
    "\n",
    "Goal: Creating a single table with comprehensive annotations of H37Rv, along with additional annotations regarding groupings of genes (ie. PLC, Not Excluded, etc)\n",
    "\n",
    "\n",
    "Specifically, I want to produce a TSV with H37Rv annotations (0-based coordinates) that has: <br>\n",
    "1) Core information regarding each gene from Mycobrowser (Coordinates, functional annotation, etc) <br>\n",
    "2) Annotate INTERGENIC REGIONS <br>\n",
    "3) INTERGENIC REGIONs should be annotated with their neighboring genes <br>\n",
    "\n"
   ]
  },
  {
   "cell_type": "code",
   "execution_count": 85,
   "metadata": {},
   "outputs": [],
   "source": [
    "import numpy as np\n",
    "import pandas as pd\n",
    "import vcf\n",
    "from tqdm import tqdm\n",
    "import matplotlib.pyplot as plt\n",
    "import seaborn as sns\n",
    "import pickle\n",
    "\n",
    "%matplotlib inline"
   ]
  },
  {
   "cell_type": "markdown",
   "metadata": {},
   "source": [
    "#### Pandas Viewing Settings"
   ]
  },
  {
   "cell_type": "code",
   "execution_count": 86,
   "metadata": {},
   "outputs": [],
   "source": [
    "pd.set_option('display.max_rows', 500)\n",
    "pd.set_option('display.max_columns', 500)\n",
    "pd.set_option('display.width', 1000)"
   ]
  },
  {
   "cell_type": "code",
   "execution_count": null,
   "metadata": {},
   "outputs": [],
   "source": []
  },
  {
   "cell_type": "markdown",
   "metadata": {
    "toc-hr-collapsed": true
   },
   "source": [
    "## Define PATHs to starting annotation files for H37Rv\n",
    "\n",
    "### Starting annotations:\n",
    "\n",
    "#### 1) Mycobacterium_tuberculosis_H37Rv_txt_v3.txt.tsv\n",
    "#### 2) 190927_MycoBrowserV3_FunctionalCategories.tsv (This has all annotated features of H37Rv defined by Mycobrowser)\n",
    "#### 3) Coscolla_etal_2015_Table_S9_GenesExcludedFromTBanalysis.tsv\n",
    "#### 4) 190927_LouisReview_Indepth_PE_Annotations.tsv\n",
    "#### 5) 190927_LouisReview_Indepth_PPE_Annotations.tsv\n"
   ]
  },
  {
   "cell_type": "code",
   "execution_count": 87,
   "metadata": {},
   "outputs": [],
   "source": [
    "# Define path to references directory in the associated Git repository\n",
    "GitRepo_References_Dir = \"../../References\"\n",
    "# Define directory for aggregation of gene lists\n",
    "H37rv_GeneAnnotationsAndLists_Dir = GitRepo_References_Dir + \"/190927_H37rv_GeneAnnotationsAndLists\" "
   ]
  },
  {
   "cell_type": "code",
   "execution_count": 88,
   "metadata": {},
   "outputs": [
    {
     "name": "stdout",
     "output_type": "stream",
     "text": [
      "190927_Ates2020_Indepth_PE_Annotations.tsv\n",
      "190927_Ates2020_Indepth_PPE_Annotations.tsv\n",
      "190927_H37rv_ListOf_ESXgenes.tsv\n",
      "190927_LouisReview_Indepth_PE_Annotations.tsv\n",
      "190927_LouisReview_Indepth_PPE_Annotations.tsv\n",
      "190927_MycoBrowserV3_FunctionalCategories.tsv\n",
      "190927_Standard_GenesToFiler_PEPPEsAndCoscolla.tsv\n",
      "190927_Standard_GenesToFiler_PEPPEsAndCoscolla.txt\n",
      "190927_Vargas_etal_ST3_GeneCategories.csv\n",
      "191007_Standard_GenesToFilter_PEPPEsMGEsAndCoscolla.tsv\n",
      "191007_Standard_GenesToFitler_PEPPEsAndCoscolla.tsv\n",
      "191217_FromRoger_H37rv_genome_summary.tsv\n",
      "Coscolla_etal_2015_Table_S9_GenesExcludedFromTBanalysis.tsv\n"
     ]
    }
   ],
   "source": [
    "!ls -1 $H37rv_GeneAnnotationsAndLists_Dir"
   ]
  },
  {
   "cell_type": "code",
   "execution_count": 89,
   "metadata": {},
   "outputs": [
    {
     "name": "stdout",
     "output_type": "stream",
     "text": [
      "Gene name\tLocus identifier\tDescription\n",
      "-\tRv0094c\thypothetical protein\n",
      "-\tRv0095c\thypothetical protein\n",
      "-\tRv0257\thypothetical protein\n",
      "-\tRv0277c\thypothetical protein\n",
      "hspR\tRv0353\tHEAT shock\n",
      "-\tRv0393\tREP13E12 repeat\n",
      "-\tRv0397\tREP13E12 repeat family\n",
      "-\tRv0487\thypothetical protein\n",
      "senX3\tRv0490\tputative two\n"
     ]
    }
   ],
   "source": [
    "!head $H37rv_GeneAnnotationsAndLists_Dir/Coscolla_etal_2015_Table_S9_GenesExcludedFromTBanalysis.tsv"
   ]
  },
  {
   "cell_type": "markdown",
   "metadata": {},
   "source": [
    "### A) Mycobrowser Functional Categories"
   ]
  },
  {
   "cell_type": "code",
   "execution_count": 90,
   "metadata": {},
   "outputs": [
    {
     "name": "stdout",
     "output_type": "stream",
     "text": [
      "(4187, 3)\n"
     ]
    }
   ],
   "source": [
    "#### A) Mycobrowser Functional Categories\n",
    "\n",
    "H37rv_MycoBrowser_FuncCate_TSV_PATH = H37rv_GeneAnnotationsAndLists_Dir + \"/190927_MycoBrowserV3_FunctionalCategories.tsv\"\n",
    "\n",
    "H37rv_MycoBrowser_FuncCate_DF = pd.read_csv(H37rv_MycoBrowser_FuncCate_TSV_PATH, sep=\"\\t\")\n",
    "\n",
    "MycoBrowser_FunctionalCategoryMapping = dict(H37rv_MycoBrowser_FuncCate_DF[['Locus', 'Functional_Category']].values)\n",
    "\n",
    "print( H37rv_MycoBrowser_FuncCate_DF.shape )\n"
   ]
  },
  {
   "cell_type": "code",
   "execution_count": 91,
   "metadata": {},
   "outputs": [
    {
     "data": {
      "text/plain": [
       "conserved hypotheticals                    1042\n",
       "intermediary metabolism and respiration     939\n",
       "cell wall and cell processes                772\n",
       "lipid metabolism                            274\n",
       "information pathways                        244\n",
       "virulence, detoxification, adaptation       241\n",
       "regulatory proteins                         201\n",
       "PE/PPE                                      168\n",
       "insertion seqs and phages                   147\n",
       "stable RNAs                                 144\n",
       "unknown                                      15\n",
       "Name: Functional_Category, dtype: int64"
      ]
     },
     "execution_count": 91,
     "metadata": {},
     "output_type": "execute_result"
    }
   ],
   "source": [
    "H37rv_MycoBrowser_FuncCate_DF[\"Functional_Category\"].value_counts()"
   ]
  },
  {
   "cell_type": "markdown",
   "metadata": {},
   "source": [
    "### B) PE and PPE gene sub-family annotations"
   ]
  },
  {
   "cell_type": "code",
   "execution_count": 92,
   "metadata": {},
   "outputs": [
    {
     "name": "stdout",
     "output_type": "stream",
     "text": [
      "(160, 2)\n"
     ]
    }
   ],
   "source": [
    "#### B) PE and PPE gene sub-family annotations\n",
    "## Adding PPE and PE subfamily annotations to DF\n",
    "\n",
    "Ates_2020_PE_Annotations_TSV_PATH = H37rv_GeneAnnotationsAndLists_Dir + \"/190927_Ates2020_Indepth_PE_Annotations.tsv\"      \n",
    "Ates_2020_PPE_Annotations_TSV_PATH = H37rv_GeneAnnotationsAndLists_Dir + \"/190927_Ates2020_Indepth_PPE_Annotations.tsv\"   \n",
    "\n",
    "\n",
    "PE_Anno_DF = pd.read_csv(Ates_2020_PE_Annotations_TSV_PATH, sep = \"\\t\")\n",
    "PPE_Anno_DF = pd.read_csv(Ates_2020_PPE_Annotations_TSV_PATH, sep = \"\\t\")\n",
    "\n",
    "\n",
    "PPE_Anno_DF[\"PEandPPE_Subfamily\"] = \"PPE_\" +  \"SL-\" + PPE_Anno_DF[\"Sublineage\"].map(str) +\"_\"+ PPE_Anno_DF[\"Subfamily\"].map(str)\n",
    "PE_Anno_DF[\"PEandPPE_Subfamily\"] = \"PE_\" + PE_Anno_DF[\"Subfamily\"].map(str) + \"_\" + PE_Anno_DF[\"PGRS\"].fillna('')\n",
    "\n",
    "ColumnsOfInterest_Mapping = [\"H37Rv gene\", \"PEandPPE_Subfamily\"]\n",
    "PEandPPE_SubgroupMapping_DF = pd.concat( [ PPE_Anno_DF[ColumnsOfInterest_Mapping], PE_Anno_DF[ColumnsOfInterest_Mapping] ] )      \n",
    "\n",
    "print(  PEandPPE_SubgroupMapping_DF.shape )"
   ]
  },
  {
   "cell_type": "markdown",
   "metadata": {},
   "source": [
    "#### C) Genes with repetitive sequence content as defined in Coscolla et. al. 2015"
   ]
  },
  {
   "cell_type": "code",
   "execution_count": 93,
   "metadata": {},
   "outputs": [],
   "source": [
    "#### C) Genes with repetitive sequence content as defined in Coscolla et. al. 2015\n",
    "\n",
    "CoscollaEtAl_ListOf_82genes_TSV_PATH = f\"{H37rv_GeneAnnotationsAndLists_Dir}/Coscolla_etal_2015_Table_S9_GenesExcludedFromTBanalysis.tsv\"\n",
    "\n",
    "Coscolla_DF = pd.read_csv(CoscollaEtAl_ListOf_82genes_TSV_PATH, sep=\"\\t\")"
   ]
  },
  {
   "cell_type": "code",
   "execution_count": null,
   "metadata": {},
   "outputs": [],
   "source": []
  },
  {
   "cell_type": "markdown",
   "metadata": {},
   "source": [
    "# Import and parse H37rv genome annotations (MycoBrowser V3)"
   ]
  },
  {
   "cell_type": "code",
   "execution_count": 94,
   "metadata": {},
   "outputs": [],
   "source": [
    "Mtb_RefDir = \"/n/data1/hms/dbmi/farhat/mm774/References\"\n",
    "\n",
    "Mycobrowser_H37rv_RefFiles_Dir = f\"{Mtb_RefDir}/190619_Mycobrowser_H37rv_ReferenceFiles\"\n",
    "\n",
    "Mycobrowser_H37rv_GenomeAnno_TSV = f\"{Mycobrowser_H37rv_RefFiles_Dir}/Mycobacterium_tuberculosis_H37Rv_txt_v3.txt.tsv\""
   ]
  },
  {
   "cell_type": "code",
   "execution_count": 95,
   "metadata": {},
   "outputs": [],
   "source": [
    "# !ls -1 $Mycobrowser_H37rv_RefFiles_Dir"
   ]
  },
  {
   "cell_type": "code",
   "execution_count": null,
   "metadata": {},
   "outputs": [],
   "source": []
  },
  {
   "cell_type": "code",
   "execution_count": 96,
   "metadata": {},
   "outputs": [],
   "source": [
    "Mycobrowser_H37rv_GenomeAnno_DF = pd.read_csv(Mycobrowser_H37rv_GenomeAnno_TSV, sep = \"\\t\").set_index('Locus')\n",
    "\n",
    "Mycobrowser_H37rv_GenomeAnno_DF[\"H37rv_GeneID\"] = Mycobrowser_H37rv_GenomeAnno_DF.index\n",
    "Mycobrowser_H37rv_GenomeAnno_DF = Mycobrowser_H37rv_GenomeAnno_DF.sort_values(\"Start\")\n",
    "Mycobrowser_H37rv_GenomeAnno_DF[\"chromStart_0based\"] = Mycobrowser_H37rv_GenomeAnno_DF[\"Start\"] - 1\n",
    "\n",
    "Mycobrowser_H37rv_GenomeAnno_DF[\"Feature_Length\"] = Mycobrowser_H37rv_GenomeAnno_DF[\"Stop\"] - Mycobrowser_H37rv_GenomeAnno_DF[\"chromStart_0based\"]\n",
    "\n",
    "\n",
    "Mycobrowser_H37rv_GenomeAnno_DF[\"Chrom\"] = Mycobrowser_H37rv_GenomeAnno_DF[\"Refseq_ID\"]\n",
    "\n",
    "Mycobrowser_H37rv_GenomeAnno_DF = Mycobrowser_H37rv_GenomeAnno_DF.reset_index(drop=True)\n",
    "\n",
    "Mycobrowser_H37rv_GenomeAnno_Genes_DF = Mycobrowser_H37rv_GenomeAnno_DF[ ~Mycobrowser_H37rv_GenomeAnno_DF[\"Feature\"].isin(['promoter', \"-10_signal\", \"-35_signal\", 'misc_RNA', \"ncRNA\"]) ]   \n",
    "\n",
    "#Mycobrowser_H37rv_GenomeAnno_Genes_DF = Mycobrowser_H37rv_GenomeAnno_DF[ Mycobrowser_H37rv_GenomeAnno_DF[\"Feature\"].isin([\"CDS\"]) ]                      \n",
    "\n",
    "\n",
    "H37rv_GenomeAnno_ncRNA_DF = Mycobrowser_H37rv_GenomeAnno_DF[ Mycobrowser_H37rv_GenomeAnno_DF[\"Feature\"].isin(['ncRNA']) ]\n",
    "H37rv_GenomeAnno_tRNA_DF = Mycobrowser_H37rv_GenomeAnno_DF[ Mycobrowser_H37rv_GenomeAnno_DF[\"Feature\"].isin(['tRNA']) ]\n"
   ]
  },
  {
   "cell_type": "code",
   "execution_count": 97,
   "metadata": {},
   "outputs": [
    {
     "data": {
      "text/plain": [
       "CDS           4031\n",
       "ncRNA           92\n",
       "tRNA            45\n",
       "promoter         6\n",
       "-35_signal       4\n",
       "-10_signal       4\n",
       "rRNA             3\n",
       "misc_RNA         2\n",
       "Name: Feature, dtype: int64"
      ]
     },
     "execution_count": 97,
     "metadata": {},
     "output_type": "execute_result"
    }
   ],
   "source": [
    "Mycobrowser_H37rv_GenomeAnno_DF[\"Feature\"].value_counts()"
   ]
  },
  {
   "cell_type": "code",
   "execution_count": 98,
   "metadata": {},
   "outputs": [
    {
     "data": {
      "text/plain": [
       "CDS     4031\n",
       "tRNA      45\n",
       "rRNA       3\n",
       "Name: Feature, dtype: int64"
      ]
     },
     "execution_count": 98,
     "metadata": {},
     "output_type": "execute_result"
    }
   ],
   "source": [
    "Mycobrowser_H37rv_GenomeAnno_Genes_DF[\"Feature\"].value_counts()"
   ]
  },
  {
   "cell_type": "code",
   "execution_count": 99,
   "metadata": {},
   "outputs": [
    {
     "data": {
      "text/plain": [
       "conserved hypotheticals                    1042\n",
       "intermediary metabolism and respiration     936\n",
       "cell wall and cell processes                772\n",
       "lipid metabolism                            272\n",
       "information pathways                        242\n",
       "virulence, detoxification, adaptation       239\n",
       "regulatory proteins                         198\n",
       "PE/PPE                                      168\n",
       "insertion seqs and phages                   147\n",
       "stable RNAs                                  48\n",
       "unknown                                      15\n",
       "Name: Functional_Category, dtype: int64"
      ]
     },
     "execution_count": 99,
     "metadata": {},
     "output_type": "execute_result"
    }
   ],
   "source": [
    "Mycobrowser_H37rv_GenomeAnno_Genes_DF[\"Functional_Category\"].value_counts()"
   ]
  },
  {
   "cell_type": "code",
   "execution_count": 100,
   "metadata": {},
   "outputs": [
    {
     "data": {
      "text/plain": [
       "conserved hypotheticals                    1042\n",
       "intermediary metabolism and respiration     936\n",
       "cell wall and cell processes                772\n",
       "lipid metabolism                            272\n",
       "information pathways                        242\n",
       "virulence, detoxification, adaptation       239\n",
       "regulatory proteins                         198\n",
       "PE/PPE                                      168\n",
       "insertion seqs and phages                   147\n",
       "stable RNAs                                  48\n",
       "unknown                                      15\n",
       "Name: Functional_Category, dtype: int64"
      ]
     },
     "execution_count": 100,
     "metadata": {},
     "output_type": "execute_result"
    }
   ],
   "source": [
    "Mycobrowser_H37rv_GenomeAnno_Genes_DF[\"Functional_Category\"].value_counts()"
   ]
  },
  {
   "cell_type": "code",
   "execution_count": null,
   "metadata": {},
   "outputs": [],
   "source": []
  },
  {
   "cell_type": "code",
   "execution_count": 101,
   "metadata": {},
   "outputs": [
    {
     "data": {
      "text/plain": [
       "+    2049\n",
       "-    2030\n",
       "Name: Strand, dtype: int64"
      ]
     },
     "execution_count": 101,
     "metadata": {},
     "output_type": "execute_result"
    }
   ],
   "source": [
    "Mycobrowser_H37rv_GenomeAnno_Genes_DF[\"Strand\"].value_counts()"
   ]
  },
  {
   "cell_type": "code",
   "execution_count": 102,
   "metadata": {},
   "outputs": [
    {
     "data": {
      "text/html": [
       "<div>\n",
       "<style scoped>\n",
       "    .dataframe tbody tr th:only-of-type {\n",
       "        vertical-align: middle;\n",
       "    }\n",
       "\n",
       "    .dataframe tbody tr th {\n",
       "        vertical-align: top;\n",
       "    }\n",
       "\n",
       "    .dataframe thead th {\n",
       "        text-align: right;\n",
       "    }\n",
       "</style>\n",
       "<table border=\"1\" class=\"dataframe\">\n",
       "  <thead>\n",
       "    <tr style=\"text-align: right;\">\n",
       "      <th></th>\n",
       "      <th>Refseq_ID</th>\n",
       "      <th>Mycobrowser_Version</th>\n",
       "      <th>Feature</th>\n",
       "      <th>Start</th>\n",
       "      <th>Stop</th>\n",
       "      <th>Score</th>\n",
       "      <th>Strand</th>\n",
       "      <th>Frame</th>\n",
       "      <th>Name</th>\n",
       "      <th>Function</th>\n",
       "      <th>Product</th>\n",
       "      <th>Comments</th>\n",
       "      <th>UniProt_AC</th>\n",
       "      <th>Is_Pseudogene</th>\n",
       "      <th>Functional_Category</th>\n",
       "      <th>Orthologues M. leprae</th>\n",
       "      <th>Orthologues M. marinum</th>\n",
       "      <th>Orthologues M. smegmatis</th>\n",
       "      <th>Orthologues M. bovis</th>\n",
       "      <th>Orthologues M. lepromatosis</th>\n",
       "      <th>Orthologues M. tuberculosis</th>\n",
       "      <th>Orthologues M. abscessus</th>\n",
       "      <th>Orthologues M. haemophilum</th>\n",
       "      <th>H37rv_GeneID</th>\n",
       "      <th>chromStart_0based</th>\n",
       "      <th>Feature_Length</th>\n",
       "      <th>Chrom</th>\n",
       "    </tr>\n",
       "  </thead>\n",
       "  <tbody>\n",
       "    <tr>\n",
       "      <th>0</th>\n",
       "      <td>NC_000962.3</td>\n",
       "      <td>Mycobrowser_v3</td>\n",
       "      <td>CDS</td>\n",
       "      <td>1</td>\n",
       "      <td>1524</td>\n",
       "      <td>.</td>\n",
       "      <td>+</td>\n",
       "      <td>0.0</td>\n",
       "      <td>dnaA</td>\n",
       "      <td>Plays an important role in the initiation and ...</td>\n",
       "      <td>Chromosomal replication initiator protein DnaA</td>\n",
       "      <td>Rv0001, (MT0001, MTV029.01, P49993), len: 507 ...</td>\n",
       "      <td>P9WNW3</td>\n",
       "      <td>No</td>\n",
       "      <td>information pathways</td>\n",
       "      <td>ML0001</td>\n",
       "      <td>MMAR_0001</td>\n",
       "      <td>MSMEG_6947</td>\n",
       "      <td>Mb0001</td>\n",
       "      <td>NaN</td>\n",
       "      <td>NaN</td>\n",
       "      <td>NaN</td>\n",
       "      <td>NaN</td>\n",
       "      <td>Rv0001</td>\n",
       "      <td>0</td>\n",
       "      <td>1524</td>\n",
       "      <td>NC_000962.3</td>\n",
       "    </tr>\n",
       "  </tbody>\n",
       "</table>\n",
       "</div>"
      ],
      "text/plain": [
       "     Refseq_ID Mycobrowser_Version Feature  Start  Stop Score Strand  Frame  Name                                           Function                                         Product                                           Comments UniProt_AC Is_Pseudogene   Functional_Category Orthologues M. leprae Orthologues M. marinum Orthologues M. smegmatis Orthologues M. bovis  Orthologues M. lepromatosis  Orthologues M. tuberculosis  Orthologues M. abscessus  Orthologues M. haemophilum H37rv_GeneID  chromStart_0based  Feature_Length        Chrom\n",
       "0  NC_000962.3      Mycobrowser_v3     CDS      1  1524     .      +    0.0  dnaA  Plays an important role in the initiation and ...  Chromosomal replication initiator protein DnaA  Rv0001, (MT0001, MTV029.01, P49993), len: 507 ...     P9WNW3            No  information pathways                ML0001              MMAR_0001               MSMEG_6947               Mb0001                          NaN                          NaN                       NaN                         NaN       Rv0001                  0            1524  NC_000962.3"
      ]
     },
     "execution_count": 102,
     "metadata": {},
     "output_type": "execute_result"
    }
   ],
   "source": [
    "Mycobrowser_H37rv_GenomeAnno_Genes_DF.head(1)"
   ]
  },
  {
   "cell_type": "code",
   "execution_count": null,
   "metadata": {},
   "outputs": [],
   "source": []
  },
  {
   "cell_type": "markdown",
   "metadata": {},
   "source": [
    "## Strip down Mycobrowser Annotation table to core information"
   ]
  },
  {
   "cell_type": "code",
   "execution_count": 103,
   "metadata": {},
   "outputs": [
    {
     "data": {
      "text/plain": [
       "Index(['Refseq_ID', 'Mycobrowser_Version', 'Feature', 'Start', 'Stop', 'Score', 'Strand', 'Frame', 'Name', 'Function', 'Product', 'Comments', 'UniProt_AC', 'Is_Pseudogene', 'Functional_Category', 'Orthologues M. leprae', 'Orthologues M. marinum', 'Orthologues M. smegmatis', 'Orthologues M. bovis', 'Orthologues M. lepromatosis', 'Orthologues M. tuberculosis', 'Orthologues M. abscessus', 'Orthologues M. haemophilum', 'H37rv_GeneID', 'chromStart_0based', 'Feature_Length', 'Chrom'], dtype='object')"
      ]
     },
     "execution_count": 103,
     "metadata": {},
     "output_type": "execute_result"
    }
   ],
   "source": [
    "Mycobrowser_H37rv_GenomeAnno_Genes_DF.columns"
   ]
  },
  {
   "cell_type": "code",
   "execution_count": 104,
   "metadata": {},
   "outputs": [],
   "source": [
    "MycoBrowser_TSV_ColumnsToKeep = [\"Chrom\", \"chromStart_0based\", \"Stop\", \"Strand\",\n",
    "                                 \"H37rv_GeneID\", \"Name\", \"Feature\", \"Functional_Category\", \"Is_Pseudogene\", \"Product\"]\n",
    "\n",
    "H37Rv_GenomeAnno_Genes_DF = Mycobrowser_H37rv_GenomeAnno_Genes_DF[MycoBrowser_TSV_ColumnsToKeep]\n",
    "\n",
    "H37Rv_GenomeAnno_Genes_DF.columns = [\"Chrom\", \"Start\", \"End\", \"Strand\",\n",
    "                                       \"H37rv_GeneID\", \"Symbol\", \"Feature\", \"Functional_Category\", \"Is_Pseudogene\", \"Product\"]\n"
   ]
  },
  {
   "cell_type": "code",
   "execution_count": 105,
   "metadata": {},
   "outputs": [
    {
     "data": {
      "text/plain": [
       "(4079, 10)"
      ]
     },
     "execution_count": 105,
     "metadata": {},
     "output_type": "execute_result"
    }
   ],
   "source": [
    "H37Rv_GenomeAnno_Genes_DF.shape"
   ]
  },
  {
   "cell_type": "code",
   "execution_count": 106,
   "metadata": {},
   "outputs": [
    {
     "data": {
      "text/html": [
       "<div>\n",
       "<style scoped>\n",
       "    .dataframe tbody tr th:only-of-type {\n",
       "        vertical-align: middle;\n",
       "    }\n",
       "\n",
       "    .dataframe tbody tr th {\n",
       "        vertical-align: top;\n",
       "    }\n",
       "\n",
       "    .dataframe thead th {\n",
       "        text-align: right;\n",
       "    }\n",
       "</style>\n",
       "<table border=\"1\" class=\"dataframe\">\n",
       "  <thead>\n",
       "    <tr style=\"text-align: right;\">\n",
       "      <th></th>\n",
       "      <th>Chrom</th>\n",
       "      <th>Start</th>\n",
       "      <th>End</th>\n",
       "      <th>Strand</th>\n",
       "      <th>H37rv_GeneID</th>\n",
       "      <th>Symbol</th>\n",
       "      <th>Feature</th>\n",
       "      <th>Functional_Category</th>\n",
       "      <th>Is_Pseudogene</th>\n",
       "      <th>Product</th>\n",
       "    </tr>\n",
       "  </thead>\n",
       "  <tbody>\n",
       "    <tr>\n",
       "      <th>0</th>\n",
       "      <td>NC_000962.3</td>\n",
       "      <td>0</td>\n",
       "      <td>1524</td>\n",
       "      <td>+</td>\n",
       "      <td>Rv0001</td>\n",
       "      <td>dnaA</td>\n",
       "      <td>CDS</td>\n",
       "      <td>information pathways</td>\n",
       "      <td>No</td>\n",
       "      <td>Chromosomal replication initiator protein DnaA</td>\n",
       "    </tr>\n",
       "    <tr>\n",
       "      <th>1</th>\n",
       "      <td>NC_000962.3</td>\n",
       "      <td>2051</td>\n",
       "      <td>3260</td>\n",
       "      <td>+</td>\n",
       "      <td>Rv0002</td>\n",
       "      <td>dnaN</td>\n",
       "      <td>CDS</td>\n",
       "      <td>information pathways</td>\n",
       "      <td>No</td>\n",
       "      <td>DNA polymerase III (beta chain) DnaN (DNA nucl...</td>\n",
       "    </tr>\n",
       "    <tr>\n",
       "      <th>2</th>\n",
       "      <td>NC_000962.3</td>\n",
       "      <td>3279</td>\n",
       "      <td>4437</td>\n",
       "      <td>+</td>\n",
       "      <td>Rv0003</td>\n",
       "      <td>recF</td>\n",
       "      <td>CDS</td>\n",
       "      <td>information pathways</td>\n",
       "      <td>No</td>\n",
       "      <td>DNA replication and repair protein RecF (singl...</td>\n",
       "    </tr>\n",
       "    <tr>\n",
       "      <th>3</th>\n",
       "      <td>NC_000962.3</td>\n",
       "      <td>4433</td>\n",
       "      <td>4997</td>\n",
       "      <td>+</td>\n",
       "      <td>Rv0004</td>\n",
       "      <td>Rv0004</td>\n",
       "      <td>CDS</td>\n",
       "      <td>conserved hypotheticals</td>\n",
       "      <td>No</td>\n",
       "      <td>Conserved hypothetical protein</td>\n",
       "    </tr>\n",
       "    <tr>\n",
       "      <th>4</th>\n",
       "      <td>NC_000962.3</td>\n",
       "      <td>5239</td>\n",
       "      <td>7267</td>\n",
       "      <td>+</td>\n",
       "      <td>Rv0005</td>\n",
       "      <td>gyrB</td>\n",
       "      <td>CDS</td>\n",
       "      <td>information pathways</td>\n",
       "      <td>No</td>\n",
       "      <td>DNA gyrase (subunit B) GyrB (DNA topoisomerase...</td>\n",
       "    </tr>\n",
       "  </tbody>\n",
       "</table>\n",
       "</div>"
      ],
      "text/plain": [
       "         Chrom  Start   End Strand H37rv_GeneID  Symbol Feature      Functional_Category Is_Pseudogene                                            Product\n",
       "0  NC_000962.3      0  1524      +       Rv0001    dnaA     CDS     information pathways            No     Chromosomal replication initiator protein DnaA\n",
       "1  NC_000962.3   2051  3260      +       Rv0002    dnaN     CDS     information pathways            No  DNA polymerase III (beta chain) DnaN (DNA nucl...\n",
       "2  NC_000962.3   3279  4437      +       Rv0003    recF     CDS     information pathways            No  DNA replication and repair protein RecF (singl...\n",
       "3  NC_000962.3   4433  4997      +       Rv0004  Rv0004     CDS  conserved hypotheticals            No                     Conserved hypothetical protein\n",
       "4  NC_000962.3   5239  7267      +       Rv0005    gyrB     CDS     information pathways            No  DNA gyrase (subunit B) GyrB (DNA topoisomerase..."
      ]
     },
     "execution_count": 106,
     "metadata": {},
     "output_type": "execute_result"
    }
   ],
   "source": [
    "H37Rv_GenomeAnno_Genes_DF.head()"
   ]
  },
  {
   "cell_type": "code",
   "execution_count": null,
   "metadata": {},
   "outputs": [],
   "source": []
  },
  {
   "cell_type": "code",
   "execution_count": null,
   "metadata": {},
   "outputs": [],
   "source": []
  },
  {
   "cell_type": "code",
   "execution_count": null,
   "metadata": {},
   "outputs": [],
   "source": []
  },
  {
   "cell_type": "code",
   "execution_count": null,
   "metadata": {},
   "outputs": [],
   "source": []
  },
  {
   "cell_type": "markdown",
   "metadata": {},
   "source": [
    "# Add gene sub-grouping annotations to the Mycobrowser genome annotations"
   ]
  },
  {
   "cell_type": "markdown",
   "metadata": {},
   "source": [
    "## A) Add PE/PPE Sub-family annotations to DF"
   ]
  },
  {
   "cell_type": "code",
   "execution_count": 107,
   "metadata": {},
   "outputs": [
    {
     "name": "stderr",
     "output_type": "stream",
     "text": [
      "/home/mm774/conda3/envs/py37_S/lib/python3.7/site-packages/ipykernel_launcher.py:3: SettingWithCopyWarning: \n",
      "A value is trying to be set on a copy of a slice from a DataFrame.\n",
      "Try using .loc[row_indexer,col_indexer] = value instead\n",
      "\n",
      "See the caveats in the documentation: https://pandas.pydata.org/pandas-docs/stable/user_guide/indexing.html#returning-a-view-versus-a-copy\n",
      "  This is separate from the ipykernel package so we can avoid doing imports until\n",
      "/home/mm774/conda3/envs/py37_S/lib/python3.7/site-packages/ipykernel_launcher.py:5: SettingWithCopyWarning: \n",
      "A value is trying to be set on a copy of a slice from a DataFrame.\n",
      "Try using .loc[row_indexer,col_indexer] = value instead\n",
      "\n",
      "See the caveats in the documentation: https://pandas.pydata.org/pandas-docs/stable/user_guide/indexing.html#returning-a-view-versus-a-copy\n",
      "  \"\"\"\n"
     ]
    }
   ],
   "source": [
    "# Add PE and PPE subfamily mapping\n",
    "PEPPE_SubfamilyMapping = dict(PEandPPE_SubgroupMapping_DF[['H37Rv gene', 'PEandPPE_Subfamily']].values)\n",
    "H37Rv_GenomeAnno_Genes_DF['PEandPPE_Subfamily'] = H37Rv_GenomeAnno_Genes_DF.H37rv_GeneID.map(PEPPE_SubfamilyMapping)\n",
    "\n",
    "H37Rv_GenomeAnno_Genes_DF['PEandPPE_Subfamily'] = H37Rv_GenomeAnno_Genes_DF['PEandPPE_Subfamily'].fillna(\"None\")\n",
    "\n"
   ]
  },
  {
   "cell_type": "markdown",
   "metadata": {},
   "source": [
    "## B) Add \"identified Repetative Gene\" (defined in Coscolla-et-al-2015) annotations to DF"
   ]
  },
  {
   "cell_type": "code",
   "execution_count": 108,
   "metadata": {},
   "outputs": [
    {
     "name": "stderr",
     "output_type": "stream",
     "text": [
      "/home/mm774/conda3/envs/py37_S/lib/python3.7/site-packages/ipykernel_launcher.py:4: SettingWithCopyWarning: \n",
      "A value is trying to be set on a copy of a slice from a DataFrame.\n",
      "Try using .loc[row_indexer,col_indexer] = value instead\n",
      "\n",
      "See the caveats in the documentation: https://pandas.pydata.org/pandas-docs/stable/user_guide/indexing.html#returning-a-view-versus-a-copy\n",
      "  after removing the cwd from sys.path.\n",
      "/home/mm774/conda3/envs/py37_S/lib/python3.7/site-packages/ipykernel_launcher.py:5: SettingWithCopyWarning: \n",
      "A value is trying to be set on a copy of a slice from a DataFrame.\n",
      "Try using .loc[row_indexer,col_indexer] = value instead\n",
      "\n",
      "See the caveats in the documentation: https://pandas.pydata.org/pandas-docs/stable/user_guide/indexing.html#returning-a-view-versus-a-copy\n",
      "  \"\"\"\n"
     ]
    }
   ],
   "source": [
    "ListOf_82_RepGenes_CoscollaEtAl = list(Coscolla_DF[\"Locus identifier\"])\n",
    "\n",
    "\n",
    "H37Rv_GenomeAnno_Genes_DF['Coscolla_etal_RepetitiveGene'] = ( H37Rv_GenomeAnno_Genes_DF[\"H37rv_GeneID\"].isin(ListOf_82_RepGenes_CoscollaEtAl) )\n",
    "H37Rv_GenomeAnno_Genes_DF['Coscolla_etal_RepetitiveGene'] = H37Rv_GenomeAnno_Genes_DF['Coscolla_etal_RepetitiveGene'].fillna(\"None\")\n"
   ]
  },
  {
   "cell_type": "code",
   "execution_count": 109,
   "metadata": {},
   "outputs": [
    {
     "data": {
      "text/plain": [
       "(4079, 12)"
      ]
     },
     "execution_count": 109,
     "metadata": {},
     "output_type": "execute_result"
    }
   ],
   "source": [
    "H37Rv_GenomeAnno_Genes_DF.shape"
   ]
  },
  {
   "cell_type": "code",
   "execution_count": 110,
   "metadata": {},
   "outputs": [
    {
     "data": {
      "text/html": [
       "<div>\n",
       "<style scoped>\n",
       "    .dataframe tbody tr th:only-of-type {\n",
       "        vertical-align: middle;\n",
       "    }\n",
       "\n",
       "    .dataframe tbody tr th {\n",
       "        vertical-align: top;\n",
       "    }\n",
       "\n",
       "    .dataframe thead th {\n",
       "        text-align: right;\n",
       "    }\n",
       "</style>\n",
       "<table border=\"1\" class=\"dataframe\">\n",
       "  <thead>\n",
       "    <tr style=\"text-align: right;\">\n",
       "      <th></th>\n",
       "      <th>Chrom</th>\n",
       "      <th>Start</th>\n",
       "      <th>End</th>\n",
       "      <th>Strand</th>\n",
       "      <th>H37rv_GeneID</th>\n",
       "      <th>Symbol</th>\n",
       "      <th>Feature</th>\n",
       "      <th>Functional_Category</th>\n",
       "      <th>Is_Pseudogene</th>\n",
       "      <th>Product</th>\n",
       "      <th>PEandPPE_Subfamily</th>\n",
       "      <th>Coscolla_etal_RepetitiveGene</th>\n",
       "    </tr>\n",
       "  </thead>\n",
       "  <tbody>\n",
       "    <tr>\n",
       "      <th>0</th>\n",
       "      <td>NC_000962.3</td>\n",
       "      <td>0</td>\n",
       "      <td>1524</td>\n",
       "      <td>+</td>\n",
       "      <td>Rv0001</td>\n",
       "      <td>dnaA</td>\n",
       "      <td>CDS</td>\n",
       "      <td>information pathways</td>\n",
       "      <td>No</td>\n",
       "      <td>Chromosomal replication initiator protein DnaA</td>\n",
       "      <td>None</td>\n",
       "      <td>False</td>\n",
       "    </tr>\n",
       "    <tr>\n",
       "      <th>1</th>\n",
       "      <td>NC_000962.3</td>\n",
       "      <td>2051</td>\n",
       "      <td>3260</td>\n",
       "      <td>+</td>\n",
       "      <td>Rv0002</td>\n",
       "      <td>dnaN</td>\n",
       "      <td>CDS</td>\n",
       "      <td>information pathways</td>\n",
       "      <td>No</td>\n",
       "      <td>DNA polymerase III (beta chain) DnaN (DNA nucl...</td>\n",
       "      <td>None</td>\n",
       "      <td>False</td>\n",
       "    </tr>\n",
       "  </tbody>\n",
       "</table>\n",
       "</div>"
      ],
      "text/plain": [
       "         Chrom  Start   End Strand H37rv_GeneID Symbol Feature   Functional_Category Is_Pseudogene                                            Product PEandPPE_Subfamily  Coscolla_etal_RepetitiveGene\n",
       "0  NC_000962.3      0  1524      +       Rv0001   dnaA     CDS  information pathways            No     Chromosomal replication initiator protein DnaA               None                         False\n",
       "1  NC_000962.3   2051  3260      +       Rv0002   dnaN     CDS  information pathways            No  DNA polymerase III (beta chain) DnaN (DNA nucl...               None                         False"
      ]
     },
     "execution_count": 110,
     "metadata": {},
     "output_type": "execute_result"
    }
   ],
   "source": [
    "H37Rv_GenomeAnno_Genes_DF.head(2)"
   ]
  },
  {
   "cell_type": "code",
   "execution_count": null,
   "metadata": {},
   "outputs": [],
   "source": []
  },
  {
   "cell_type": "markdown",
   "metadata": {},
   "source": [
    "## C) Annotate all genes by whether they are PLC or Not-Excluded:\n",
    "a) Putative Low Confidence (PLC) <br>\n",
    "b) Not commonly excluded (Non-PLC) <br>"
   ]
  },
  {
   "cell_type": "code",
   "execution_count": 111,
   "metadata": {},
   "outputs": [
    {
     "name": "stderr",
     "output_type": "stream",
     "text": [
      "/home/mm774/conda3/envs/py37_S/lib/python3.7/site-packages/ipykernel_launcher.py:15: SettingWithCopyWarning: \n",
      "A value is trying to be set on a copy of a slice from a DataFrame.\n",
      "Try using .loc[row_indexer,col_indexer] = value instead\n",
      "\n",
      "See the caveats in the documentation: https://pandas.pydata.org/pandas-docs/stable/user_guide/indexing.html#returning-a-view-versus-a-copy\n",
      "  from ipykernel import kernelapp as app\n",
      "/home/mm774/conda3/envs/py37_S/lib/python3.7/site-packages/ipykernel_launcher.py:18: SettingWithCopyWarning: \n",
      "A value is trying to be set on a copy of a slice from a DataFrame.\n",
      "Try using .loc[row_indexer,col_indexer] = value instead\n",
      "\n",
      "See the caveats in the documentation: https://pandas.pydata.org/pandas-docs/stable/user_guide/indexing.html#returning-a-view-versus-a-copy\n",
      "/home/mm774/conda3/envs/py37_S/lib/python3.7/site-packages/ipykernel_launcher.py:21: SettingWithCopyWarning: \n",
      "A value is trying to be set on a copy of a slice from a DataFrame.\n",
      "Try using .loc[row_indexer,col_indexer] = value instead\n",
      "\n",
      "See the caveats in the documentation: https://pandas.pydata.org/pandas-docs/stable/user_guide/indexing.html#returning-a-view-versus-a-copy\n",
      "/home/mm774/conda3/envs/py37_S/lib/python3.7/site-packages/ipykernel_launcher.py:32: SettingWithCopyWarning: \n",
      "A value is trying to be set on a copy of a slice from a DataFrame.\n",
      "Try using .loc[row_indexer,col_indexer] = value instead\n",
      "\n",
      "See the caveats in the documentation: https://pandas.pydata.org/pandas-docs/stable/user_guide/indexing.html#returning-a-view-versus-a-copy\n"
     ]
    }
   ],
   "source": [
    "# 1\n",
    "H37Rv_GenomeAnno_Genes_PEPPEs_DF = H37Rv_GenomeAnno_Genes_DF[ H37Rv_GenomeAnno_Genes_DF[\"Functional_Category\"] == \"PE/PPE\"]\n",
    "\n",
    "# 2\n",
    "H37Rv_GenomeAnno_Genes_82_CoscollaGenes_DF = H37Rv_GenomeAnno_Genes_DF[ H37Rv_GenomeAnno_Genes_DF[\"Coscolla_etal_RepetitiveGene\"] == True]\n",
    "H37Rv_GenomeAnno_Genes_69_CoscollaGenes_NoMGE_DF = H37Rv_GenomeAnno_Genes_82_CoscollaGenes_DF[ H37Rv_GenomeAnno_Genes_82_CoscollaGenes_DF[\"Functional_Category\"] != \"insertion seqs and phages\"]       \n",
    "\n",
    "# 3\n",
    "H37Rv_GenomeAnno_Genes_MGEs_DF = H37Rv_GenomeAnno_Genes_DF[ H37Rv_GenomeAnno_Genes_DF[\"Functional_Category\"] == \"insertion seqs and phages\"]\n",
    "\n",
    "\n",
    "# Add \"ExcludedGroup_Category\" column to each of the 3 dataframes\n",
    "\n",
    "# 1\n",
    "H37Rv_GenomeAnno_Genes_PEPPEs_DF[\"ExcludedGroup_Category\"] = \"PE/PPEs\"\n",
    "\n",
    "# 2\n",
    "H37Rv_GenomeAnno_Genes_69_CoscollaGenes_NoMGE_DF[\"ExcludedGroup_Category\"] = \"Coscolla Repetitive Genes\"\n",
    "\n",
    "# 3\n",
    "H37Rv_GenomeAnno_Genes_MGEs_DF[\"ExcludedGroup_Category\"] = \"InsertionSeqs_And_Phages\"\n",
    "\n",
    "\n",
    "\n",
    "ExcludedGenes_384_DF = pd.concat( [H37Rv_GenomeAnno_Genes_PEPPEs_DF, H37Rv_GenomeAnno_Genes_69_CoscollaGenes_NoMGE_DF,\n",
    "                                   H37Rv_GenomeAnno_Genes_MGEs_DF])\n",
    "\n",
    "\n",
    "ListOf_ExcludedGenes_384 = ExcludedGenes_384_DF[\"H37rv_GeneID\"]\n",
    "\n",
    "IncludedGenes_3789_DF = H37Rv_GenomeAnno_Genes_DF[ ~H37Rv_GenomeAnno_Genes_DF[\"H37rv_GeneID\"].isin(ListOf_ExcludedGenes_384) ]\n",
    "IncludedGenes_3789_DF[\"ExcludedGroup_Category\"] = \"NotExcluded\"\n",
    "\n",
    "H37Rv_GenomeAnno_Genes_DF = pd.concat([IncludedGenes_3789_DF, ExcludedGenes_384_DF])\n",
    "H37Rv_GenomeAnno_Genes_DF = H37Rv_GenomeAnno_Genes_DF.drop(\"Coscolla_etal_RepetitiveGene\", axis = 1)\n",
    "H37Rv_GenomeAnno_Genes_DF = H37Rv_GenomeAnno_Genes_DF.sort_values([\"Start\", \"End\"])\n"
   ]
  },
  {
   "cell_type": "code",
   "execution_count": 112,
   "metadata": {},
   "outputs": [
    {
     "data": {
      "text/html": [
       "<div>\n",
       "<style scoped>\n",
       "    .dataframe tbody tr th:only-of-type {\n",
       "        vertical-align: middle;\n",
       "    }\n",
       "\n",
       "    .dataframe tbody tr th {\n",
       "        vertical-align: top;\n",
       "    }\n",
       "\n",
       "    .dataframe thead th {\n",
       "        text-align: right;\n",
       "    }\n",
       "</style>\n",
       "<table border=\"1\" class=\"dataframe\">\n",
       "  <thead>\n",
       "    <tr style=\"text-align: right;\">\n",
       "      <th></th>\n",
       "      <th>Chrom</th>\n",
       "      <th>Start</th>\n",
       "      <th>End</th>\n",
       "      <th>Strand</th>\n",
       "      <th>H37rv_GeneID</th>\n",
       "      <th>Symbol</th>\n",
       "      <th>Feature</th>\n",
       "      <th>Functional_Category</th>\n",
       "      <th>Is_Pseudogene</th>\n",
       "      <th>Product</th>\n",
       "      <th>PEandPPE_Subfamily</th>\n",
       "      <th>ExcludedGroup_Category</th>\n",
       "    </tr>\n",
       "  </thead>\n",
       "  <tbody>\n",
       "    <tr>\n",
       "      <th>0</th>\n",
       "      <td>NC_000962.3</td>\n",
       "      <td>0</td>\n",
       "      <td>1524</td>\n",
       "      <td>+</td>\n",
       "      <td>Rv0001</td>\n",
       "      <td>dnaA</td>\n",
       "      <td>CDS</td>\n",
       "      <td>information pathways</td>\n",
       "      <td>No</td>\n",
       "      <td>Chromosomal replication initiator protein DnaA</td>\n",
       "      <td>None</td>\n",
       "      <td>NotExcluded</td>\n",
       "    </tr>\n",
       "    <tr>\n",
       "      <th>1</th>\n",
       "      <td>NC_000962.3</td>\n",
       "      <td>2051</td>\n",
       "      <td>3260</td>\n",
       "      <td>+</td>\n",
       "      <td>Rv0002</td>\n",
       "      <td>dnaN</td>\n",
       "      <td>CDS</td>\n",
       "      <td>information pathways</td>\n",
       "      <td>No</td>\n",
       "      <td>DNA polymerase III (beta chain) DnaN (DNA nucl...</td>\n",
       "      <td>None</td>\n",
       "      <td>NotExcluded</td>\n",
       "    </tr>\n",
       "    <tr>\n",
       "      <th>2</th>\n",
       "      <td>NC_000962.3</td>\n",
       "      <td>3279</td>\n",
       "      <td>4437</td>\n",
       "      <td>+</td>\n",
       "      <td>Rv0003</td>\n",
       "      <td>recF</td>\n",
       "      <td>CDS</td>\n",
       "      <td>information pathways</td>\n",
       "      <td>No</td>\n",
       "      <td>DNA replication and repair protein RecF (singl...</td>\n",
       "      <td>None</td>\n",
       "      <td>NotExcluded</td>\n",
       "    </tr>\n",
       "    <tr>\n",
       "      <th>3</th>\n",
       "      <td>NC_000962.3</td>\n",
       "      <td>4433</td>\n",
       "      <td>4997</td>\n",
       "      <td>+</td>\n",
       "      <td>Rv0004</td>\n",
       "      <td>Rv0004</td>\n",
       "      <td>CDS</td>\n",
       "      <td>conserved hypotheticals</td>\n",
       "      <td>No</td>\n",
       "      <td>Conserved hypothetical protein</td>\n",
       "      <td>None</td>\n",
       "      <td>NotExcluded</td>\n",
       "    </tr>\n",
       "    <tr>\n",
       "      <th>4</th>\n",
       "      <td>NC_000962.3</td>\n",
       "      <td>5239</td>\n",
       "      <td>7267</td>\n",
       "      <td>+</td>\n",
       "      <td>Rv0005</td>\n",
       "      <td>gyrB</td>\n",
       "      <td>CDS</td>\n",
       "      <td>information pathways</td>\n",
       "      <td>No</td>\n",
       "      <td>DNA gyrase (subunit B) GyrB (DNA topoisomerase...</td>\n",
       "      <td>None</td>\n",
       "      <td>NotExcluded</td>\n",
       "    </tr>\n",
       "  </tbody>\n",
       "</table>\n",
       "</div>"
      ],
      "text/plain": [
       "         Chrom  Start   End Strand H37rv_GeneID  Symbol Feature      Functional_Category Is_Pseudogene                                            Product PEandPPE_Subfamily ExcludedGroup_Category\n",
       "0  NC_000962.3      0  1524      +       Rv0001    dnaA     CDS     information pathways            No     Chromosomal replication initiator protein DnaA               None            NotExcluded\n",
       "1  NC_000962.3   2051  3260      +       Rv0002    dnaN     CDS     information pathways            No  DNA polymerase III (beta chain) DnaN (DNA nucl...               None            NotExcluded\n",
       "2  NC_000962.3   3279  4437      +       Rv0003    recF     CDS     information pathways            No  DNA replication and repair protein RecF (singl...               None            NotExcluded\n",
       "3  NC_000962.3   4433  4997      +       Rv0004  Rv0004     CDS  conserved hypotheticals            No                     Conserved hypothetical protein               None            NotExcluded\n",
       "4  NC_000962.3   5239  7267      +       Rv0005    gyrB     CDS     information pathways            No  DNA gyrase (subunit B) GyrB (DNA topoisomerase...               None            NotExcluded"
      ]
     },
     "execution_count": 112,
     "metadata": {},
     "output_type": "execute_result"
    }
   ],
   "source": [
    "H37Rv_GenomeAnno_Genes_DF.head()"
   ]
  },
  {
   "cell_type": "code",
   "execution_count": 113,
   "metadata": {},
   "outputs": [
    {
     "data": {
      "text/plain": [
       "+    2049\n",
       "-    2030\n",
       "Name: Strand, dtype: int64"
      ]
     },
     "execution_count": 113,
     "metadata": {},
     "output_type": "execute_result"
    }
   ],
   "source": [
    "H37Rv_GenomeAnno_Genes_DF[\"Strand\"].value_counts()"
   ]
  },
  {
   "cell_type": "code",
   "execution_count": 114,
   "metadata": {},
   "outputs": [
    {
     "data": {
      "text/plain": [
       "No     4066\n",
       "Yes      13\n",
       "Name: Is_Pseudogene, dtype: int64"
      ]
     },
     "execution_count": 114,
     "metadata": {},
     "output_type": "execute_result"
    }
   ],
   "source": [
    "H37Rv_GenomeAnno_Genes_DF[\"Is_Pseudogene\"].value_counts()"
   ]
  },
  {
   "cell_type": "code",
   "execution_count": 115,
   "metadata": {},
   "outputs": [
    {
     "data": {
      "text/plain": [
       "NotExcluded                  3695\n",
       "PE/PPEs                       168\n",
       "InsertionSeqs_And_Phages      147\n",
       "Coscolla Repetitive Genes      69\n",
       "Name: ExcludedGroup_Category, dtype: int64"
      ]
     },
     "execution_count": 115,
     "metadata": {},
     "output_type": "execute_result"
    }
   ],
   "source": [
    "H37Rv_GenomeAnno_Genes_DF[\"ExcludedGroup_Category\"].value_counts()"
   ]
  },
  {
   "cell_type": "code",
   "execution_count": null,
   "metadata": {},
   "outputs": [],
   "source": []
  },
  {
   "cell_type": "markdown",
   "metadata": {},
   "source": [
    "## Generate a DataFrame of all intergenic regions (and annotate by nearby genes)"
   ]
  },
  {
   "cell_type": "code",
   "execution_count": 116,
   "metadata": {
    "scrolled": true
   },
   "outputs": [],
   "source": [
    "\n",
    "PreviousGene_H37Rv_ID = \"None\"\n",
    "\n",
    "PreviousGene_EndPos = -1000\n",
    "\n",
    "PreviousGene_ExcludedGroupCategory = None\n",
    "\n",
    "IntergenicGene_Counter = 0\n",
    "\n",
    "listOf_IntergenicRegionTuples = []\n",
    "\n",
    "for index, row  in H37Rv_GenomeAnno_Genes_DF.iterrows() :\n",
    "    \n",
    "\n",
    "    gene_StartPos_0based = (row['Start'])\n",
    "    gene_EndPos_0based = row['End']\n",
    "    \n",
    "    gene_H37Rv_ID = row['H37rv_GeneID']\n",
    "    gene_ExcludedGroupCategory = row['ExcludedGroup_Category']\n",
    "    \n",
    "    \n",
    "    if IntergenicGene_Counter == 0: \n",
    "        IntergenicGene_Counter += 1\n",
    "        continue\n",
    "    \n",
    "    prevGene_ClosestToLeft = H37Rv_GenomeAnno_Genes_DF[(H37Rv_GenomeAnno_Genes_DF[\"Start\"] < gene_StartPos_0based)  ].sort_values([\"End\"]).tail(1)\n",
    "    \n",
    "    PreviousGene_H37Rv_ID = prevGene_ClosestToLeft[\"H37rv_GeneID\"].values[0]\n",
    "    PreviousGene_EndPos = prevGene_ClosestToLeft[\"End\"].values[0]\n",
    "    PreviousGene_ExcludedGroupCategory = prevGene_ClosestToLeft[\"ExcludedGroup_Category\"].values[0]\n",
    "\n",
    "\n",
    "    \n",
    "    \n",
    "    IntergenicRegionID = f\"IntergenicRegion_{IntergenicGene_Counter}_{PreviousGene_H37Rv_ID}-{gene_H37Rv_ID}\"\n",
    "    \n",
    "    \n",
    "    IntergenicRegion_StartPos = PreviousGene_EndPos\n",
    "    IntergenicRegion_End = gene_StartPos_0based\n",
    "    \n",
    "    GeneID_ToTheLeft = PreviousGene_H37Rv_ID\n",
    "    GeneID_ToTheRight = gene_H37Rv_ID\n",
    "    \n",
    "    \n",
    "    Gene_ToTheLeft_FuncCategory = PreviousGene_ExcludedGroupCategory\n",
    "    Gene_ToTheRight_FuncCategory = gene_ExcludedGroupCategory\n",
    "\n",
    "    IntergenicRegion_IsNextTo_PLC_Gene = (Gene_ToTheLeft_FuncCategory != \"NotExcluded\") or (Gene_ToTheRight_FuncCategory != \"NotExcluded\")\n",
    "    \n",
    "    \n",
    "    \n",
    "    Intergenic_Region_Info = (\"NC_000962.3\", IntergenicRegion_StartPos, IntergenicRegion_End, IntergenicRegionID,\n",
    "                              IntergenicRegion_IsNextTo_PLC_Gene, GeneID_ToTheLeft, Gene_ToTheLeft_FuncCategory,\n",
    "                              GeneID_ToTheRight, Gene_ToTheRight_FuncCategory)\n",
    "\n",
    "\n",
    "    \n",
    "    # if PreviousGene_EndPos >= gene_StartPos_0based: # \">=\" is important, using \">\" results in extra intragenic regions with length = 0\n",
    "    \n",
    "    NumberOfOverlappingGenes_WithEndOfIntegenicRegion = H37Rv_GenomeAnno_Genes_DF[(H37Rv_GenomeAnno_Genes_DF[\"Start\"] <= gene_StartPos_0based) & (H37Rv_GenomeAnno_Genes_DF[\"End\"] >= gene_StartPos_0based) & (H37Rv_GenomeAnno_Genes_DF[\"H37rv_GeneID\"] != gene_H37Rv_ID)].shape[0] \n",
    "    \n",
    "    #print(NumberOfOverlappingGenes_WithEndOfIntegenicRegion)\n",
    "    if NumberOfOverlappingGenes_WithEndOfIntegenicRegion > 0:\n",
    "        continue\n",
    "    \n",
    "    if IntergenicGene_Counter != 0: # Skip only the first gene\n",
    "        #print(Intergenic_Region_Info)\n",
    "        \n",
    "        listOf_IntergenicRegionTuples.append(Intergenic_Region_Info)\n",
    "    \n",
    "\n",
    "    PreviousGene_H37Rv_ID = gene_H37Rv_ID\n",
    "    PreviousGene_EndPos = gene_EndPos_0based\n",
    "    PreviousGene_ExcludedGroupCategory = gene_ExcludedGroupCategory\n",
    "\n",
    "    \n",
    "    IntergenicGene_Counter += 1\n",
    "    \n",
    "    #if IntergenicGene_Counter > 50: break \n",
    "    \n",
    "    \n",
    "###### Add final Intergenic region after the last annotated gene of H37Rv ######\n",
    "\n",
    "Final_EndOfGenomeCoordinate = 4411532\n",
    "FinalGene_H37Rv_ID = \"Rv0001\"\n",
    "FinalGene_ToTheRight_FuncCategory = \"NotExcluded\"\n",
    "\n",
    "\n",
    "IntergenicRegion_StartPos = PreviousGene_EndPos\n",
    "GeneID_ToTheLeft = PreviousGene_H37Rv_ID\n",
    "Gene_ToTheLeft_FuncCategory = PreviousGene_ExcludedGroupCategory\n",
    "\n",
    "IntergenicRegion_IsNextTo_PLC_Gene = (Gene_ToTheLeft_FuncCategory != \"NotExcluded\") or (Gene_ToTheRight_FuncCategory != \"NotExcluded\")\n",
    "\n",
    "IntergenicRegionID = f\"IntergenicRegion_{IntergenicGene_Counter}_{PreviousGene_H37Rv_ID}-{FinalGene_H37Rv_ID}\"\n",
    "\n",
    "\n",
    "Final_Intergenic_Region_Info = (\"NC_000962.3\", IntergenicRegion_StartPos, Final_EndOfGenomeCoordinate, IntergenicRegionID,\n",
    "                                IntergenicRegion_IsNextTo_PLC_Gene, GeneID_ToTheLeft, Gene_ToTheLeft_FuncCategory,\n",
    "                                FinalGene_H37Rv_ID, FinalGene_ToTheRight_FuncCategory)\n",
    "\n",
    "listOf_IntergenicRegionTuples.append(Final_Intergenic_Region_Info)\n",
    "\n",
    "################################################################################\n",
    "\n",
    "\n",
    "H37Rv_IntergenicRegions_DF = pd.DataFrame(listOf_IntergenicRegionTuples)\n",
    "H37Rv_IntergenicRegions_DF.columns = ['Chrom', 'Start', 'End', 'H37rv_GeneID', \"IntergenicRegion_IsNextTo_PLC_Gene\",\n",
    "                                     'Intergenic_GeneToTheLeft', 'Intergenic_GeneToTheLeft_FuncCategory',\n",
    "                                     'Intergenic_GeneToTheRight', 'Intergenic_GeneToTheRight_FuncCategory']\n",
    "\n"
   ]
  },
  {
   "cell_type": "code",
   "execution_count": 117,
   "metadata": {},
   "outputs": [
    {
     "data": {
      "text/html": [
       "<div>\n",
       "<style scoped>\n",
       "    .dataframe tbody tr th:only-of-type {\n",
       "        vertical-align: middle;\n",
       "    }\n",
       "\n",
       "    .dataframe tbody tr th {\n",
       "        vertical-align: top;\n",
       "    }\n",
       "\n",
       "    .dataframe thead th {\n",
       "        text-align: right;\n",
       "    }\n",
       "</style>\n",
       "<table border=\"1\" class=\"dataframe\">\n",
       "  <thead>\n",
       "    <tr style=\"text-align: right;\">\n",
       "      <th></th>\n",
       "      <th>Chrom</th>\n",
       "      <th>Start</th>\n",
       "      <th>End</th>\n",
       "      <th>H37rv_GeneID</th>\n",
       "      <th>IntergenicRegion_IsNextTo_PLC_Gene</th>\n",
       "      <th>Intergenic_GeneToTheLeft</th>\n",
       "      <th>Intergenic_GeneToTheLeft_FuncCategory</th>\n",
       "      <th>Intergenic_GeneToTheRight</th>\n",
       "      <th>Intergenic_GeneToTheRight_FuncCategory</th>\n",
       "    </tr>\n",
       "  </thead>\n",
       "  <tbody>\n",
       "    <tr>\n",
       "      <th>0</th>\n",
       "      <td>NC_000962.3</td>\n",
       "      <td>1524</td>\n",
       "      <td>2051</td>\n",
       "      <td>IntergenicRegion_1_Rv0001-Rv0002</td>\n",
       "      <td>False</td>\n",
       "      <td>Rv0001</td>\n",
       "      <td>NotExcluded</td>\n",
       "      <td>Rv0002</td>\n",
       "      <td>NotExcluded</td>\n",
       "    </tr>\n",
       "    <tr>\n",
       "      <th>1</th>\n",
       "      <td>NC_000962.3</td>\n",
       "      <td>3260</td>\n",
       "      <td>3279</td>\n",
       "      <td>IntergenicRegion_2_Rv0002-Rv0003</td>\n",
       "      <td>False</td>\n",
       "      <td>Rv0002</td>\n",
       "      <td>NotExcluded</td>\n",
       "      <td>Rv0003</td>\n",
       "      <td>NotExcluded</td>\n",
       "    </tr>\n",
       "    <tr>\n",
       "      <th>2</th>\n",
       "      <td>NC_000962.3</td>\n",
       "      <td>4997</td>\n",
       "      <td>5239</td>\n",
       "      <td>IntergenicRegion_3_Rv0004-Rv0005</td>\n",
       "      <td>False</td>\n",
       "      <td>Rv0004</td>\n",
       "      <td>NotExcluded</td>\n",
       "      <td>Rv0005</td>\n",
       "      <td>NotExcluded</td>\n",
       "    </tr>\n",
       "  </tbody>\n",
       "</table>\n",
       "</div>"
      ],
      "text/plain": [
       "         Chrom  Start   End                      H37rv_GeneID  IntergenicRegion_IsNextTo_PLC_Gene Intergenic_GeneToTheLeft Intergenic_GeneToTheLeft_FuncCategory Intergenic_GeneToTheRight Intergenic_GeneToTheRight_FuncCategory\n",
       "0  NC_000962.3   1524  2051  IntergenicRegion_1_Rv0001-Rv0002                               False                   Rv0001                           NotExcluded                    Rv0002                            NotExcluded\n",
       "1  NC_000962.3   3260  3279  IntergenicRegion_2_Rv0002-Rv0003                               False                   Rv0002                           NotExcluded                    Rv0003                            NotExcluded\n",
       "2  NC_000962.3   4997  5239  IntergenicRegion_3_Rv0004-Rv0005                               False                   Rv0004                           NotExcluded                    Rv0005                            NotExcluded"
      ]
     },
     "execution_count": 117,
     "metadata": {},
     "output_type": "execute_result"
    }
   ],
   "source": [
    "H37Rv_IntergenicRegions_DF.head(3)"
   ]
  },
  {
   "cell_type": "code",
   "execution_count": 118,
   "metadata": {},
   "outputs": [
    {
     "data": {
      "text/plain": [
       "(3072, 9)"
      ]
     },
     "execution_count": 118,
     "metadata": {},
     "output_type": "execute_result"
    }
   ],
   "source": [
    "H37Rv_IntergenicRegions_DF.shape"
   ]
  },
  {
   "cell_type": "code",
   "execution_count": null,
   "metadata": {},
   "outputs": [],
   "source": []
  },
  {
   "cell_type": "code",
   "execution_count": null,
   "metadata": {},
   "outputs": [],
   "source": []
  },
  {
   "cell_type": "code",
   "execution_count": null,
   "metadata": {},
   "outputs": [],
   "source": []
  },
  {
   "cell_type": "markdown",
   "metadata": {},
   "source": [
    "## Combine annotations for Genes & Intergenic regions"
   ]
  },
  {
   "cell_type": "code",
   "execution_count": 119,
   "metadata": {},
   "outputs": [],
   "source": [
    "H37Rv_AllRegions_DF = pd.concat([H37Rv_GenomeAnno_Genes_DF, H37Rv_IntergenicRegions_DF], axis=0, ignore_index=True)\n",
    "\n",
    "H37Rv_AllRegions_DF = H37Rv_AllRegions_DF[ ['Chrom',  'Start', 'End', 'Strand', 'H37rv_GeneID', 'Symbol',  'Feature', 'ExcludedGroup_Category', 'PEandPPE_Subfamily', 'Product',  'Functional_Category', 'Is_Pseudogene', 'IntergenicRegion_IsNextTo_PLC_Gene', 'Intergenic_GeneToTheLeft', 'Intergenic_GeneToTheLeft_FuncCategory','Intergenic_GeneToTheRight',  'Intergenic_GeneToTheRight_FuncCategory', ]  ]   \n",
    "\n",
    "\n",
    "H37Rv_AllRegions_DF = H37Rv_AllRegions_DF.sort_values(\"Start\")\n",
    "H37Rv_AllRegions_DF = H37Rv_AllRegions_DF.reset_index(drop=True)\n",
    "\n",
    "H37Rv_AllRegions_DF[\"Feature\"] = H37Rv_AllRegions_DF[\"Feature\"].fillna(\"Intergenic\")\n",
    "\n",
    "H37Rv_AllRegions_DF[\"ExcludedGroup_Category\"] = H37Rv_AllRegions_DF[\"ExcludedGroup_Category\"].fillna(\"Intergenic\")\n",
    "\n",
    "H37Rv_AllRegions_DF[\"Functional_Category\"] = H37Rv_AllRegions_DF[\"Functional_Category\"].fillna(\"Intergenic\")\n"
   ]
  },
  {
   "cell_type": "code",
   "execution_count": 120,
   "metadata": {},
   "outputs": [
    {
     "data": {
      "text/plain": [
       "(4079, 12)"
      ]
     },
     "execution_count": 120,
     "metadata": {},
     "output_type": "execute_result"
    }
   ],
   "source": [
    "H37Rv_GenomeAnno_Genes_DF.shape"
   ]
  },
  {
   "cell_type": "code",
   "execution_count": 121,
   "metadata": {},
   "outputs": [
    {
     "data": {
      "text/plain": [
       "(3072, 9)"
      ]
     },
     "execution_count": 121,
     "metadata": {},
     "output_type": "execute_result"
    }
   ],
   "source": [
    "H37Rv_IntergenicRegions_DF.shape"
   ]
  },
  {
   "cell_type": "code",
   "execution_count": 122,
   "metadata": {},
   "outputs": [
    {
     "data": {
      "text/plain": [
       "(7151, 17)"
      ]
     },
     "execution_count": 122,
     "metadata": {},
     "output_type": "execute_result"
    }
   ],
   "source": [
    "H37Rv_AllRegions_DF.shape"
   ]
  },
  {
   "cell_type": "code",
   "execution_count": 123,
   "metadata": {},
   "outputs": [
    {
     "data": {
      "text/plain": [
       "NotExcluded                  3695\n",
       "Intergenic                   3072\n",
       "PE/PPEs                       168\n",
       "InsertionSeqs_And_Phages      147\n",
       "Coscolla Repetitive Genes      69\n",
       "Name: ExcludedGroup_Category, dtype: int64"
      ]
     },
     "execution_count": 123,
     "metadata": {},
     "output_type": "execute_result"
    }
   ],
   "source": [
    "H37Rv_AllRegions_DF[\"ExcludedGroup_Category\"].value_counts()"
   ]
  },
  {
   "cell_type": "code",
   "execution_count": 124,
   "metadata": {},
   "outputs": [
    {
     "data": {
      "text/html": [
       "<div>\n",
       "<style scoped>\n",
       "    .dataframe tbody tr th:only-of-type {\n",
       "        vertical-align: middle;\n",
       "    }\n",
       "\n",
       "    .dataframe tbody tr th {\n",
       "        vertical-align: top;\n",
       "    }\n",
       "\n",
       "    .dataframe thead th {\n",
       "        text-align: right;\n",
       "    }\n",
       "</style>\n",
       "<table border=\"1\" class=\"dataframe\">\n",
       "  <thead>\n",
       "    <tr style=\"text-align: right;\">\n",
       "      <th></th>\n",
       "      <th>Chrom</th>\n",
       "      <th>Start</th>\n",
       "      <th>End</th>\n",
       "      <th>H37rv_GeneID</th>\n",
       "      <th>IntergenicRegion_IsNextTo_PLC_Gene</th>\n",
       "      <th>Intergenic_GeneToTheLeft</th>\n",
       "      <th>Intergenic_GeneToTheLeft_FuncCategory</th>\n",
       "      <th>Intergenic_GeneToTheRight</th>\n",
       "      <th>Intergenic_GeneToTheRight_FuncCategory</th>\n",
       "    </tr>\n",
       "  </thead>\n",
       "  <tbody>\n",
       "    <tr>\n",
       "      <th>0</th>\n",
       "      <td>NC_000962.3</td>\n",
       "      <td>1524</td>\n",
       "      <td>2051</td>\n",
       "      <td>IntergenicRegion_1_Rv0001-Rv0002</td>\n",
       "      <td>False</td>\n",
       "      <td>Rv0001</td>\n",
       "      <td>NotExcluded</td>\n",
       "      <td>Rv0002</td>\n",
       "      <td>NotExcluded</td>\n",
       "    </tr>\n",
       "    <tr>\n",
       "      <th>1</th>\n",
       "      <td>NC_000962.3</td>\n",
       "      <td>3260</td>\n",
       "      <td>3279</td>\n",
       "      <td>IntergenicRegion_2_Rv0002-Rv0003</td>\n",
       "      <td>False</td>\n",
       "      <td>Rv0002</td>\n",
       "      <td>NotExcluded</td>\n",
       "      <td>Rv0003</td>\n",
       "      <td>NotExcluded</td>\n",
       "    </tr>\n",
       "  </tbody>\n",
       "</table>\n",
       "</div>"
      ],
      "text/plain": [
       "         Chrom  Start   End                      H37rv_GeneID  IntergenicRegion_IsNextTo_PLC_Gene Intergenic_GeneToTheLeft Intergenic_GeneToTheLeft_FuncCategory Intergenic_GeneToTheRight Intergenic_GeneToTheRight_FuncCategory\n",
       "0  NC_000962.3   1524  2051  IntergenicRegion_1_Rv0001-Rv0002                               False                   Rv0001                           NotExcluded                    Rv0002                            NotExcluded\n",
       "1  NC_000962.3   3260  3279  IntergenicRegion_2_Rv0002-Rv0003                               False                   Rv0002                           NotExcluded                    Rv0003                            NotExcluded"
      ]
     },
     "execution_count": 124,
     "metadata": {},
     "output_type": "execute_result"
    }
   ],
   "source": [
    "H37Rv_IntergenicRegions_DF.head(2)"
   ]
  },
  {
   "cell_type": "code",
   "execution_count": 125,
   "metadata": {},
   "outputs": [
    {
     "data": {
      "text/html": [
       "<div>\n",
       "<style scoped>\n",
       "    .dataframe tbody tr th:only-of-type {\n",
       "        vertical-align: middle;\n",
       "    }\n",
       "\n",
       "    .dataframe tbody tr th {\n",
       "        vertical-align: top;\n",
       "    }\n",
       "\n",
       "    .dataframe thead th {\n",
       "        text-align: right;\n",
       "    }\n",
       "</style>\n",
       "<table border=\"1\" class=\"dataframe\">\n",
       "  <thead>\n",
       "    <tr style=\"text-align: right;\">\n",
       "      <th></th>\n",
       "      <th>Chrom</th>\n",
       "      <th>Start</th>\n",
       "      <th>End</th>\n",
       "      <th>Strand</th>\n",
       "      <th>H37rv_GeneID</th>\n",
       "      <th>Symbol</th>\n",
       "      <th>Feature</th>\n",
       "      <th>ExcludedGroup_Category</th>\n",
       "      <th>PEandPPE_Subfamily</th>\n",
       "      <th>Product</th>\n",
       "      <th>Functional_Category</th>\n",
       "      <th>Is_Pseudogene</th>\n",
       "      <th>IntergenicRegion_IsNextTo_PLC_Gene</th>\n",
       "      <th>Intergenic_GeneToTheLeft</th>\n",
       "      <th>Intergenic_GeneToTheLeft_FuncCategory</th>\n",
       "      <th>Intergenic_GeneToTheRight</th>\n",
       "      <th>Intergenic_GeneToTheRight_FuncCategory</th>\n",
       "    </tr>\n",
       "  </thead>\n",
       "  <tbody>\n",
       "    <tr>\n",
       "      <th>0</th>\n",
       "      <td>NC_000962.3</td>\n",
       "      <td>0</td>\n",
       "      <td>1524</td>\n",
       "      <td>+</td>\n",
       "      <td>Rv0001</td>\n",
       "      <td>dnaA</td>\n",
       "      <td>CDS</td>\n",
       "      <td>NotExcluded</td>\n",
       "      <td>None</td>\n",
       "      <td>Chromosomal replication initiator protein DnaA</td>\n",
       "      <td>information pathways</td>\n",
       "      <td>No</td>\n",
       "      <td>NaN</td>\n",
       "      <td>NaN</td>\n",
       "      <td>NaN</td>\n",
       "      <td>NaN</td>\n",
       "      <td>NaN</td>\n",
       "    </tr>\n",
       "    <tr>\n",
       "      <th>1</th>\n",
       "      <td>NC_000962.3</td>\n",
       "      <td>1524</td>\n",
       "      <td>2051</td>\n",
       "      <td>NaN</td>\n",
       "      <td>IntergenicRegion_1_Rv0001-Rv0002</td>\n",
       "      <td>NaN</td>\n",
       "      <td>Intergenic</td>\n",
       "      <td>Intergenic</td>\n",
       "      <td>NaN</td>\n",
       "      <td>NaN</td>\n",
       "      <td>Intergenic</td>\n",
       "      <td>NaN</td>\n",
       "      <td>False</td>\n",
       "      <td>Rv0001</td>\n",
       "      <td>NotExcluded</td>\n",
       "      <td>Rv0002</td>\n",
       "      <td>NotExcluded</td>\n",
       "    </tr>\n",
       "  </tbody>\n",
       "</table>\n",
       "</div>"
      ],
      "text/plain": [
       "         Chrom  Start   End Strand                      H37rv_GeneID Symbol     Feature ExcludedGroup_Category PEandPPE_Subfamily                                         Product   Functional_Category Is_Pseudogene IntergenicRegion_IsNextTo_PLC_Gene Intergenic_GeneToTheLeft Intergenic_GeneToTheLeft_FuncCategory Intergenic_GeneToTheRight Intergenic_GeneToTheRight_FuncCategory\n",
       "0  NC_000962.3      0  1524      +                            Rv0001   dnaA         CDS            NotExcluded               None  Chromosomal replication initiator protein DnaA  information pathways            No                                NaN                      NaN                                   NaN                       NaN                                    NaN\n",
       "1  NC_000962.3   1524  2051    NaN  IntergenicRegion_1_Rv0001-Rv0002    NaN  Intergenic             Intergenic                NaN                                             NaN            Intergenic           NaN                              False                   Rv0001                           NotExcluded                    Rv0002                            NotExcluded"
      ]
     },
     "execution_count": 125,
     "metadata": {},
     "output_type": "execute_result"
    }
   ],
   "source": [
    "H37Rv_AllRegions_DF.head(2)"
   ]
  },
  {
   "cell_type": "code",
   "execution_count": 126,
   "metadata": {},
   "outputs": [
    {
     "data": {
      "text/html": [
       "<div>\n",
       "<style scoped>\n",
       "    .dataframe tbody tr th:only-of-type {\n",
       "        vertical-align: middle;\n",
       "    }\n",
       "\n",
       "    .dataframe tbody tr th {\n",
       "        vertical-align: top;\n",
       "    }\n",
       "\n",
       "    .dataframe thead th {\n",
       "        text-align: right;\n",
       "    }\n",
       "</style>\n",
       "<table border=\"1\" class=\"dataframe\">\n",
       "  <thead>\n",
       "    <tr style=\"text-align: right;\">\n",
       "      <th></th>\n",
       "      <th>Chrom</th>\n",
       "      <th>Start</th>\n",
       "      <th>End</th>\n",
       "      <th>Strand</th>\n",
       "      <th>H37rv_GeneID</th>\n",
       "      <th>Symbol</th>\n",
       "      <th>Feature</th>\n",
       "      <th>ExcludedGroup_Category</th>\n",
       "      <th>PEandPPE_Subfamily</th>\n",
       "      <th>Product</th>\n",
       "      <th>Functional_Category</th>\n",
       "      <th>Is_Pseudogene</th>\n",
       "      <th>IntergenicRegion_IsNextTo_PLC_Gene</th>\n",
       "      <th>Intergenic_GeneToTheLeft</th>\n",
       "      <th>Intergenic_GeneToTheLeft_FuncCategory</th>\n",
       "      <th>Intergenic_GeneToTheRight</th>\n",
       "      <th>Intergenic_GeneToTheRight_FuncCategory</th>\n",
       "    </tr>\n",
       "  </thead>\n",
       "  <tbody>\n",
       "  </tbody>\n",
       "</table>\n",
       "</div>"
      ],
      "text/plain": [
       "Empty DataFrame\n",
       "Columns: [Chrom, Start, End, Strand, H37rv_GeneID, Symbol, Feature, ExcludedGroup_Category, PEandPPE_Subfamily, Product, Functional_Category, Is_Pseudogene, IntergenicRegion_IsNextTo_PLC_Gene, Intergenic_GeneToTheLeft, Intergenic_GeneToTheLeft_FuncCategory, Intergenic_GeneToTheRight, Intergenic_GeneToTheRight_FuncCategory]\n",
       "Index: []"
      ]
     },
     "execution_count": 126,
     "metadata": {},
     "output_type": "execute_result"
    }
   ],
   "source": [
    "H37Rv_AllRegions_DF[H37Rv_AllRegions_DF[\"ExcludedGroup_Category\"] == np.nan]"
   ]
  },
  {
   "cell_type": "code",
   "execution_count": null,
   "metadata": {},
   "outputs": [],
   "source": []
  },
  {
   "cell_type": "markdown",
   "metadata": {},
   "source": [
    "# Files to output:\n",
    "\n",
    "1) Output a TSV which has the annotations for ALL GENES of H37Rv \n",
    "\n",
    "2) Output a TSV which has the annotations for ALL INTERGENIC REGIONS of H37Rv \n",
    "\n",
    "3) Output a TSV which has the annotations for ALL REGIONS (GENE & INTERGENIC) of H37Rv \n"
   ]
  },
  {
   "cell_type": "code",
   "execution_count": 127,
   "metadata": {},
   "outputs": [],
   "source": [
    "RepoRef_Dir = \"../../References\""
   ]
  },
  {
   "cell_type": "code",
   "execution_count": 128,
   "metadata": {},
   "outputs": [
    {
     "name": "stdout",
     "output_type": "stream",
     "text": [
      "total 1.1M\n",
      "drwxrwsr-x 11 mm774 farhat  898 Oct 29 12:02 .\n",
      "drwxrwsr-x 10 mm774 farhat  228 Jun 28  2019 ..\n",
      "-rw-rw-r--  1 mm774 farhat 5.9K Jul  1  2019 190619_PEPPEsubfamily_Anno.tsv\n",
      "-rw-rw-r--  1 mm774 farhat  139 Jul  1  2019 190701_PPE_MPTR_SubfamilyList_BasedOn_Pittius_etal2006.txt\n",
      "drwxrwsr-x  2 mm774 farhat  834 Oct 28 21:49 190927_H37rv_GeneAnnotationsAndLists\n",
      "-rw-rw-r--  1 mm774 farhat  25K Sep 29  2019 190927_LouisReviewPreview_PE-PPEs_Annotations_MGMmodified.xlsx\n",
      "-rw-rw-r--  1 mm774 farhat  22K Sep 29  2019 190927_LouisReviewPreview_PE-PPEs_Annotations.xlsx\n",
      "-rw-rw-r--  1 mm774 farhat  20K Jun 24  2020 200624_CoscollaExcludedGenes.bed\n",
      "drwxrwsr-x  2 mm774 farhat  160 Sep  4 09:52 200901_H37rv_AnnotatedGenes_And_IntergenicRegions\n",
      "drwxrwsr-x  2 mm774 farhat  371 Feb  2 15:37 201027_H37rv_AnnotatedGenes_And_IntergenicRegions\n",
      "-rw-rw-r--  1 mm774 farhat 2.9K Jun 10  2019 Coscolla_etal_2015_Table_S9_GenesExcludedFromTBanalysis.tsv\n",
      "drwxr-sr-x  2 mm774 farhat  115 May 19  2020 Hicketal2018_GenomicRegionsRemoved\n",
      "drwxr-sr-x  2 mm774 farhat   77 Mar  8  2020 HMMs_Pfam_PE_and_PPE\n",
      "drwxr-sr-x  2 mm774 farhat   36 Oct  9 15:08 MTBC_RD_References\n",
      "drwxrwsr-x  2 mm774 farhat  876 Oct 29 15:06 pLowConfideceRegions_CoscollaEtAlScheme_Files\n",
      "-rw-rw-r--  1 mm774 farhat    0 Feb 26  2019 References_README.md\n",
      "drwxrwsr-x  2 mm774 farhat  396 Mar 18  2020 Vargas_etal_SupTables_V2\n",
      "drwxr-sr-x  2 mm774 farhat  363 Sep 27  2019 Varges_etal_SupTables_V1\n"
     ]
    }
   ],
   "source": [
    "!ls -lah $RepoRef_Dir"
   ]
  },
  {
   "cell_type": "code",
   "execution_count": 129,
   "metadata": {},
   "outputs": [
    {
     "name": "stdout",
     "output_type": "stream",
     "text": [
      "mkdir: cannot create directory ‘../../References/201027_H37rv_AnnotatedGenes_And_IntergenicRegions’: File exists\n"
     ]
    }
   ],
   "source": [
    "RepoRef_Dir = \"../../References\"\n",
    "\n",
    "AnnotatedGenes_And_IntergenicRegions_RepoRef_Dir = f\"{RepoRef_Dir}/201027_H37rv_AnnotatedGenes_And_IntergenicRegions\"\n",
    "!mkdir $AnnotatedGenes_And_IntergenicRegions_RepoRef_Dir\n",
    "\n",
    "H37Rv_GenomeAnnotations_Genes_TSV = f\"{AnnotatedGenes_And_IntergenicRegions_RepoRef_Dir}/H37Rv_GenomeAnnotations.Genes.tsv\"\n",
    "H37Rv_GenomeAnnotations_IntergenicRegions_TSV = f\"{AnnotatedGenes_And_IntergenicRegions_RepoRef_Dir}/H37Rv_GenomeAnnotations.IntergenicRegions.tsv\"\n",
    "H37Rv_GenomeAnnotations_Genes_And_IntergenicRegions_TSV = f\"{AnnotatedGenes_And_IntergenicRegions_RepoRef_Dir}/H37Rv_GenomeAnnotations.Genes.And.IntergenicRegions.tsv\"\n",
    "H37Rv_GenomeAnnotations_Genes_And_IntergenicRegions_BED = f\"{AnnotatedGenes_And_IntergenicRegions_RepoRef_Dir}/H37Rv_GenomeAnnotations.Genes.And.IntergenicRegions.bed\"\n"
   ]
  },
  {
   "cell_type": "code",
   "execution_count": null,
   "metadata": {},
   "outputs": [],
   "source": []
  },
  {
   "cell_type": "markdown",
   "metadata": {},
   "source": [
    "## 1) Output H37Rv Gene Annotations TSV"
   ]
  },
  {
   "cell_type": "code",
   "execution_count": 130,
   "metadata": {},
   "outputs": [],
   "source": [
    "H37Rv_GenomeAnno_Genes_DF.to_csv(H37Rv_GenomeAnnotations_Genes_TSV,\n",
    "                                 sep = \"\\t\", index = False, header = True)"
   ]
  },
  {
   "cell_type": "markdown",
   "metadata": {},
   "source": [
    "## 2) Output H37Rv_Integenic_Regions_TSV"
   ]
  },
  {
   "cell_type": "code",
   "execution_count": 131,
   "metadata": {},
   "outputs": [],
   "source": [
    "H37Rv_IntergenicRegions_DF.to_csv(H37Rv_GenomeAnnotations_IntergenicRegions_TSV,\n",
    "                                 sep = \"\\t\", index = False, header = True)"
   ]
  },
  {
   "cell_type": "markdown",
   "metadata": {},
   "source": [
    "## 3) Output H37Rv_GeneAndIntegenic_Regions_TSV"
   ]
  },
  {
   "cell_type": "code",
   "execution_count": 132,
   "metadata": {},
   "outputs": [],
   "source": [
    "H37Rv_AllRegions_DF.to_csv(H37Rv_GenomeAnnotations_Genes_And_IntergenicRegions_TSV,\n",
    "                                 sep = \"\\t\", index = False, header = True)"
   ]
  },
  {
   "cell_type": "code",
   "execution_count": 133,
   "metadata": {},
   "outputs": [
    {
     "data": {
      "text/plain": [
       "Index(['Chrom', 'Start', 'End', 'Strand', 'H37rv_GeneID', 'Symbol', 'Feature', 'ExcludedGroup_Category', 'PEandPPE_Subfamily', 'Product', 'Functional_Category', 'Is_Pseudogene', 'IntergenicRegion_IsNextTo_PLC_Gene', 'Intergenic_GeneToTheLeft', 'Intergenic_GeneToTheLeft_FuncCategory', 'Intergenic_GeneToTheRight', 'Intergenic_GeneToTheRight_FuncCategory'], dtype='object')"
      ]
     },
     "execution_count": 133,
     "metadata": {},
     "output_type": "execute_result"
    }
   ],
   "source": [
    "H37Rv_AllRegions_DF.columns"
   ]
  },
  {
   "cell_type": "code",
   "execution_count": 134,
   "metadata": {},
   "outputs": [],
   "source": [
    "### To BED format too"
   ]
  },
  {
   "cell_type": "code",
   "execution_count": 135,
   "metadata": {},
   "outputs": [
    {
     "data": {
      "text/html": [
       "<div>\n",
       "<style scoped>\n",
       "    .dataframe tbody tr th:only-of-type {\n",
       "        vertical-align: middle;\n",
       "    }\n",
       "\n",
       "    .dataframe tbody tr th {\n",
       "        vertical-align: top;\n",
       "    }\n",
       "\n",
       "    .dataframe thead th {\n",
       "        text-align: right;\n",
       "    }\n",
       "</style>\n",
       "<table border=\"1\" class=\"dataframe\">\n",
       "  <thead>\n",
       "    <tr style=\"text-align: right;\">\n",
       "      <th></th>\n",
       "      <th>Chrom</th>\n",
       "      <th>Start</th>\n",
       "      <th>End</th>\n",
       "      <th>Strand</th>\n",
       "      <th>H37rv_GeneID</th>\n",
       "      <th>Symbol</th>\n",
       "      <th>ExcludedGroup_Category</th>\n",
       "      <th>PEandPPE_Subfamily</th>\n",
       "      <th>Functional_Category</th>\n",
       "    </tr>\n",
       "  </thead>\n",
       "  <tbody>\n",
       "    <tr>\n",
       "      <th>0</th>\n",
       "      <td>NC_000962.3</td>\n",
       "      <td>0</td>\n",
       "      <td>1524</td>\n",
       "      <td>+</td>\n",
       "      <td>Rv0001</td>\n",
       "      <td>dnaA</td>\n",
       "      <td>NotExcluded</td>\n",
       "      <td>None</td>\n",
       "      <td>information pathways</td>\n",
       "    </tr>\n",
       "    <tr>\n",
       "      <th>1</th>\n",
       "      <td>NC_000962.3</td>\n",
       "      <td>1524</td>\n",
       "      <td>2051</td>\n",
       "      <td>NaN</td>\n",
       "      <td>IntergenicRegion_1_Rv0001-Rv0002</td>\n",
       "      <td>NaN</td>\n",
       "      <td>Intergenic</td>\n",
       "      <td>NaN</td>\n",
       "      <td>Intergenic</td>\n",
       "    </tr>\n",
       "    <tr>\n",
       "      <th>2</th>\n",
       "      <td>NC_000962.3</td>\n",
       "      <td>2051</td>\n",
       "      <td>3260</td>\n",
       "      <td>+</td>\n",
       "      <td>Rv0002</td>\n",
       "      <td>dnaN</td>\n",
       "      <td>NotExcluded</td>\n",
       "      <td>None</td>\n",
       "      <td>information pathways</td>\n",
       "    </tr>\n",
       "    <tr>\n",
       "      <th>3</th>\n",
       "      <td>NC_000962.3</td>\n",
       "      <td>3260</td>\n",
       "      <td>3279</td>\n",
       "      <td>NaN</td>\n",
       "      <td>IntergenicRegion_2_Rv0002-Rv0003</td>\n",
       "      <td>NaN</td>\n",
       "      <td>Intergenic</td>\n",
       "      <td>NaN</td>\n",
       "      <td>Intergenic</td>\n",
       "    </tr>\n",
       "    <tr>\n",
       "      <th>4</th>\n",
       "      <td>NC_000962.3</td>\n",
       "      <td>3279</td>\n",
       "      <td>4437</td>\n",
       "      <td>+</td>\n",
       "      <td>Rv0003</td>\n",
       "      <td>recF</td>\n",
       "      <td>NotExcluded</td>\n",
       "      <td>None</td>\n",
       "      <td>information pathways</td>\n",
       "    </tr>\n",
       "  </tbody>\n",
       "</table>\n",
       "</div>"
      ],
      "text/plain": [
       "         Chrom  Start   End Strand                      H37rv_GeneID Symbol ExcludedGroup_Category PEandPPE_Subfamily   Functional_Category\n",
       "0  NC_000962.3      0  1524      +                            Rv0001   dnaA            NotExcluded               None  information pathways\n",
       "1  NC_000962.3   1524  2051    NaN  IntergenicRegion_1_Rv0001-Rv0002    NaN             Intergenic                NaN            Intergenic\n",
       "2  NC_000962.3   2051  3260      +                            Rv0002   dnaN            NotExcluded               None  information pathways\n",
       "3  NC_000962.3   3260  3279    NaN  IntergenicRegion_2_Rv0002-Rv0003    NaN             Intergenic                NaN            Intergenic\n",
       "4  NC_000962.3   3279  4437      +                            Rv0003   recF            NotExcluded               None  information pathways"
      ]
     },
     "execution_count": 135,
     "metadata": {},
     "output_type": "execute_result"
    }
   ],
   "source": [
    "columnsToKeep_ForBED = ['Chrom', 'Start', 'End', 'Strand', 'H37rv_GeneID', 'Symbol', 'ExcludedGroup_Category', 'PEandPPE_Subfamily', 'Functional_Category']\n",
    "\n",
    "H37Rv_AllRegions_DF_BED = H37Rv_AllRegions_DF[columnsToKeep_ForBED]\n",
    "H37Rv_AllRegions_DF_BED.head()"
   ]
  },
  {
   "cell_type": "code",
   "execution_count": 136,
   "metadata": {},
   "outputs": [],
   "source": [
    "\n",
    "H37Rv_AllRegions_DF_BED.to_csv(H37Rv_GenomeAnnotations_Genes_And_IntergenicRegions_BED,\n",
    "                                 sep = \"\\t\", index = False, header = False)"
   ]
  },
  {
   "cell_type": "code",
   "execution_count": 137,
   "metadata": {},
   "outputs": [
    {
     "data": {
      "text/plain": [
       "Index(['Chrom', 'Start', 'End', 'Strand', 'H37rv_GeneID', 'Symbol', 'ExcludedGroup_Category', 'PEandPPE_Subfamily', 'Functional_Category'], dtype='object')"
      ]
     },
     "execution_count": 137,
     "metadata": {},
     "output_type": "execute_result"
    }
   ],
   "source": [
    "H37Rv_AllRegions_DF_BED.columns"
   ]
  },
  {
   "cell_type": "code",
   "execution_count": null,
   "metadata": {},
   "outputs": [],
   "source": []
  },
  {
   "cell_type": "code",
   "execution_count": null,
   "metadata": {},
   "outputs": [],
   "source": []
  },
  {
   "cell_type": "code",
   "execution_count": null,
   "metadata": {},
   "outputs": [],
   "source": []
  },
  {
   "cell_type": "code",
   "execution_count": null,
   "metadata": {},
   "outputs": [],
   "source": []
  },
  {
   "cell_type": "code",
   "execution_count": 138,
   "metadata": {},
   "outputs": [],
   "source": [
    "## Look at output directory"
   ]
  },
  {
   "cell_type": "code",
   "execution_count": 139,
   "metadata": {},
   "outputs": [
    {
     "name": "stdout",
     "output_type": "stream",
     "text": [
      "total 4.4M\n",
      "drwxrwsr-x  2 mm774 farhat  371 Feb  2 15:37 .\n",
      "drwxrwsr-x 11 mm774 farhat  898 Oct 29 12:02 ..\n",
      "-rw-rw-r--  1 mm774 farhat 348K Feb  2 22:26 201027_Mtb_H37rv_AllGenes_Info.bed\n",
      "-rw-rw-r--  1 mm774 farhat  83K Feb  2 22:26 201027_Mtb_H37rv_AllIntergenicRegions.bed\n",
      "-rw-rw-r--  1 mm774 farhat 623K Feb  2 22:28 H37Rv_GenomeAnnotations.Genes.And.IntergenicRegions.bed\n",
      "-rw-rw-r--  1 mm774 farhat 1.1M Feb  2 22:28 H37Rv_GenomeAnnotations.Genes.And.IntergenicRegions.tsv\n",
      "-rw-rw-r--  1 mm774 farhat 569K Feb  2 22:28 H37Rv_GenomeAnnotations.Genes.tsv\n",
      "-rw-rw-r--  1 mm774 farhat 331K Feb  2 22:28 H37Rv_GenomeAnnotations.IntergenicRegions.tsv\n"
     ]
    }
   ],
   "source": [
    "!ls -lah $AnnotatedGenes_And_IntergenicRegions_RepoRef_Dir"
   ]
  },
  {
   "cell_type": "code",
   "execution_count": 140,
   "metadata": {},
   "outputs": [
    {
     "name": "stdout",
     "output_type": "stream",
     "text": [
      "   4079 ../../References/201027_H37rv_AnnotatedGenes_And_IntergenicRegions/201027_Mtb_H37rv_AllGenes_Info.bed\n",
      "   3072 ../../References/201027_H37rv_AnnotatedGenes_And_IntergenicRegions/201027_Mtb_H37rv_AllIntergenicRegions.bed\n",
      "   7151 ../../References/201027_H37rv_AnnotatedGenes_And_IntergenicRegions/H37Rv_GenomeAnnotations.Genes.And.IntergenicRegions.bed\n",
      "   7152 ../../References/201027_H37rv_AnnotatedGenes_And_IntergenicRegions/H37Rv_GenomeAnnotations.Genes.And.IntergenicRegions.tsv\n",
      "   4080 ../../References/201027_H37rv_AnnotatedGenes_And_IntergenicRegions/H37Rv_GenomeAnnotations.Genes.tsv\n",
      "   3073 ../../References/201027_H37rv_AnnotatedGenes_And_IntergenicRegions/H37Rv_GenomeAnnotations.IntergenicRegions.tsv\n",
      "  28607 total\n"
     ]
    }
   ],
   "source": [
    "!wc -l $AnnotatedGenes_And_IntergenicRegions_RepoRef_Dir/*"
   ]
  },
  {
   "cell_type": "code",
   "execution_count": null,
   "metadata": {},
   "outputs": [],
   "source": []
  },
  {
   "cell_type": "markdown",
   "metadata": {},
   "source": [
    "## Let's inspect the dataframes which were just exported to TSV"
   ]
  },
  {
   "cell_type": "markdown",
   "metadata": {},
   "source": [
    "### Genes"
   ]
  },
  {
   "cell_type": "code",
   "execution_count": 141,
   "metadata": {},
   "outputs": [
    {
     "data": {
      "text/plain": [
       "(4079, 12)"
      ]
     },
     "execution_count": 141,
     "metadata": {},
     "output_type": "execute_result"
    }
   ],
   "source": [
    "H37Rv_GenomeAnno_Genes_DF.shape"
   ]
  },
  {
   "cell_type": "code",
   "execution_count": 142,
   "metadata": {},
   "outputs": [
    {
     "data": {
      "text/html": [
       "<div>\n",
       "<style scoped>\n",
       "    .dataframe tbody tr th:only-of-type {\n",
       "        vertical-align: middle;\n",
       "    }\n",
       "\n",
       "    .dataframe tbody tr th {\n",
       "        vertical-align: top;\n",
       "    }\n",
       "\n",
       "    .dataframe thead th {\n",
       "        text-align: right;\n",
       "    }\n",
       "</style>\n",
       "<table border=\"1\" class=\"dataframe\">\n",
       "  <thead>\n",
       "    <tr style=\"text-align: right;\">\n",
       "      <th></th>\n",
       "      <th>Chrom</th>\n",
       "      <th>Start</th>\n",
       "      <th>End</th>\n",
       "      <th>Strand</th>\n",
       "      <th>H37rv_GeneID</th>\n",
       "      <th>Symbol</th>\n",
       "      <th>Feature</th>\n",
       "      <th>Functional_Category</th>\n",
       "      <th>Is_Pseudogene</th>\n",
       "      <th>Product</th>\n",
       "      <th>PEandPPE_Subfamily</th>\n",
       "      <th>ExcludedGroup_Category</th>\n",
       "    </tr>\n",
       "  </thead>\n",
       "  <tbody>\n",
       "    <tr>\n",
       "      <th>0</th>\n",
       "      <td>NC_000962.3</td>\n",
       "      <td>0</td>\n",
       "      <td>1524</td>\n",
       "      <td>+</td>\n",
       "      <td>Rv0001</td>\n",
       "      <td>dnaA</td>\n",
       "      <td>CDS</td>\n",
       "      <td>information pathways</td>\n",
       "      <td>No</td>\n",
       "      <td>Chromosomal replication initiator protein DnaA</td>\n",
       "      <td>None</td>\n",
       "      <td>NotExcluded</td>\n",
       "    </tr>\n",
       "    <tr>\n",
       "      <th>1</th>\n",
       "      <td>NC_000962.3</td>\n",
       "      <td>2051</td>\n",
       "      <td>3260</td>\n",
       "      <td>+</td>\n",
       "      <td>Rv0002</td>\n",
       "      <td>dnaN</td>\n",
       "      <td>CDS</td>\n",
       "      <td>information pathways</td>\n",
       "      <td>No</td>\n",
       "      <td>DNA polymerase III (beta chain) DnaN (DNA nucl...</td>\n",
       "      <td>None</td>\n",
       "      <td>NotExcluded</td>\n",
       "    </tr>\n",
       "  </tbody>\n",
       "</table>\n",
       "</div>"
      ],
      "text/plain": [
       "         Chrom  Start   End Strand H37rv_GeneID Symbol Feature   Functional_Category Is_Pseudogene                                            Product PEandPPE_Subfamily ExcludedGroup_Category\n",
       "0  NC_000962.3      0  1524      +       Rv0001   dnaA     CDS  information pathways            No     Chromosomal replication initiator protein DnaA               None            NotExcluded\n",
       "1  NC_000962.3   2051  3260      +       Rv0002   dnaN     CDS  information pathways            No  DNA polymerase III (beta chain) DnaN (DNA nucl...               None            NotExcluded"
      ]
     },
     "execution_count": 142,
     "metadata": {},
     "output_type": "execute_result"
    }
   ],
   "source": [
    "H37Rv_GenomeAnno_Genes_DF.head(2)"
   ]
  },
  {
   "cell_type": "markdown",
   "metadata": {},
   "source": [
    "### Intergenic Regions"
   ]
  },
  {
   "cell_type": "code",
   "execution_count": 143,
   "metadata": {},
   "outputs": [
    {
     "data": {
      "text/plain": [
       "(3072, 9)"
      ]
     },
     "execution_count": 143,
     "metadata": {},
     "output_type": "execute_result"
    }
   ],
   "source": [
    "H37Rv_IntergenicRegions_DF.shape"
   ]
  },
  {
   "cell_type": "code",
   "execution_count": 144,
   "metadata": {},
   "outputs": [
    {
     "data": {
      "text/html": [
       "<div>\n",
       "<style scoped>\n",
       "    .dataframe tbody tr th:only-of-type {\n",
       "        vertical-align: middle;\n",
       "    }\n",
       "\n",
       "    .dataframe tbody tr th {\n",
       "        vertical-align: top;\n",
       "    }\n",
       "\n",
       "    .dataframe thead th {\n",
       "        text-align: right;\n",
       "    }\n",
       "</style>\n",
       "<table border=\"1\" class=\"dataframe\">\n",
       "  <thead>\n",
       "    <tr style=\"text-align: right;\">\n",
       "      <th></th>\n",
       "      <th>Chrom</th>\n",
       "      <th>Start</th>\n",
       "      <th>End</th>\n",
       "      <th>H37rv_GeneID</th>\n",
       "      <th>IntergenicRegion_IsNextTo_PLC_Gene</th>\n",
       "      <th>Intergenic_GeneToTheLeft</th>\n",
       "      <th>Intergenic_GeneToTheLeft_FuncCategory</th>\n",
       "      <th>Intergenic_GeneToTheRight</th>\n",
       "      <th>Intergenic_GeneToTheRight_FuncCategory</th>\n",
       "    </tr>\n",
       "  </thead>\n",
       "  <tbody>\n",
       "    <tr>\n",
       "      <th>0</th>\n",
       "      <td>NC_000962.3</td>\n",
       "      <td>1524</td>\n",
       "      <td>2051</td>\n",
       "      <td>IntergenicRegion_1_Rv0001-Rv0002</td>\n",
       "      <td>False</td>\n",
       "      <td>Rv0001</td>\n",
       "      <td>NotExcluded</td>\n",
       "      <td>Rv0002</td>\n",
       "      <td>NotExcluded</td>\n",
       "    </tr>\n",
       "    <tr>\n",
       "      <th>1</th>\n",
       "      <td>NC_000962.3</td>\n",
       "      <td>3260</td>\n",
       "      <td>3279</td>\n",
       "      <td>IntergenicRegion_2_Rv0002-Rv0003</td>\n",
       "      <td>False</td>\n",
       "      <td>Rv0002</td>\n",
       "      <td>NotExcluded</td>\n",
       "      <td>Rv0003</td>\n",
       "      <td>NotExcluded</td>\n",
       "    </tr>\n",
       "  </tbody>\n",
       "</table>\n",
       "</div>"
      ],
      "text/plain": [
       "         Chrom  Start   End                      H37rv_GeneID  IntergenicRegion_IsNextTo_PLC_Gene Intergenic_GeneToTheLeft Intergenic_GeneToTheLeft_FuncCategory Intergenic_GeneToTheRight Intergenic_GeneToTheRight_FuncCategory\n",
       "0  NC_000962.3   1524  2051  IntergenicRegion_1_Rv0001-Rv0002                               False                   Rv0001                           NotExcluded                    Rv0002                            NotExcluded\n",
       "1  NC_000962.3   3260  3279  IntergenicRegion_2_Rv0002-Rv0003                               False                   Rv0002                           NotExcluded                    Rv0003                            NotExcluded"
      ]
     },
     "execution_count": 144,
     "metadata": {},
     "output_type": "execute_result"
    }
   ],
   "source": [
    "H37Rv_IntergenicRegions_DF.head(2)"
   ]
  },
  {
   "cell_type": "markdown",
   "metadata": {},
   "source": [
    "### All regions (Genes & Intergenic Regions)"
   ]
  },
  {
   "cell_type": "code",
   "execution_count": 145,
   "metadata": {},
   "outputs": [
    {
     "data": {
      "text/plain": [
       "(7151, 17)"
      ]
     },
     "execution_count": 145,
     "metadata": {},
     "output_type": "execute_result"
    }
   ],
   "source": [
    "H37Rv_AllRegions_DF.shape"
   ]
  },
  {
   "cell_type": "code",
   "execution_count": 146,
   "metadata": {},
   "outputs": [
    {
     "data": {
      "text/html": [
       "<div>\n",
       "<style scoped>\n",
       "    .dataframe tbody tr th:only-of-type {\n",
       "        vertical-align: middle;\n",
       "    }\n",
       "\n",
       "    .dataframe tbody tr th {\n",
       "        vertical-align: top;\n",
       "    }\n",
       "\n",
       "    .dataframe thead th {\n",
       "        text-align: right;\n",
       "    }\n",
       "</style>\n",
       "<table border=\"1\" class=\"dataframe\">\n",
       "  <thead>\n",
       "    <tr style=\"text-align: right;\">\n",
       "      <th></th>\n",
       "      <th>Chrom</th>\n",
       "      <th>Start</th>\n",
       "      <th>End</th>\n",
       "      <th>Strand</th>\n",
       "      <th>H37rv_GeneID</th>\n",
       "      <th>Symbol</th>\n",
       "      <th>Feature</th>\n",
       "      <th>ExcludedGroup_Category</th>\n",
       "      <th>PEandPPE_Subfamily</th>\n",
       "      <th>Product</th>\n",
       "      <th>Functional_Category</th>\n",
       "      <th>Is_Pseudogene</th>\n",
       "      <th>IntergenicRegion_IsNextTo_PLC_Gene</th>\n",
       "      <th>Intergenic_GeneToTheLeft</th>\n",
       "      <th>Intergenic_GeneToTheLeft_FuncCategory</th>\n",
       "      <th>Intergenic_GeneToTheRight</th>\n",
       "      <th>Intergenic_GeneToTheRight_FuncCategory</th>\n",
       "    </tr>\n",
       "  </thead>\n",
       "  <tbody>\n",
       "    <tr>\n",
       "      <th>0</th>\n",
       "      <td>NC_000962.3</td>\n",
       "      <td>0</td>\n",
       "      <td>1524</td>\n",
       "      <td>+</td>\n",
       "      <td>Rv0001</td>\n",
       "      <td>dnaA</td>\n",
       "      <td>CDS</td>\n",
       "      <td>NotExcluded</td>\n",
       "      <td>None</td>\n",
       "      <td>Chromosomal replication initiator protein DnaA</td>\n",
       "      <td>information pathways</td>\n",
       "      <td>No</td>\n",
       "      <td>NaN</td>\n",
       "      <td>NaN</td>\n",
       "      <td>NaN</td>\n",
       "      <td>NaN</td>\n",
       "      <td>NaN</td>\n",
       "    </tr>\n",
       "    <tr>\n",
       "      <th>1</th>\n",
       "      <td>NC_000962.3</td>\n",
       "      <td>1524</td>\n",
       "      <td>2051</td>\n",
       "      <td>NaN</td>\n",
       "      <td>IntergenicRegion_1_Rv0001-Rv0002</td>\n",
       "      <td>NaN</td>\n",
       "      <td>Intergenic</td>\n",
       "      <td>Intergenic</td>\n",
       "      <td>NaN</td>\n",
       "      <td>NaN</td>\n",
       "      <td>Intergenic</td>\n",
       "      <td>NaN</td>\n",
       "      <td>False</td>\n",
       "      <td>Rv0001</td>\n",
       "      <td>NotExcluded</td>\n",
       "      <td>Rv0002</td>\n",
       "      <td>NotExcluded</td>\n",
       "    </tr>\n",
       "  </tbody>\n",
       "</table>\n",
       "</div>"
      ],
      "text/plain": [
       "         Chrom  Start   End Strand                      H37rv_GeneID Symbol     Feature ExcludedGroup_Category PEandPPE_Subfamily                                         Product   Functional_Category Is_Pseudogene IntergenicRegion_IsNextTo_PLC_Gene Intergenic_GeneToTheLeft Intergenic_GeneToTheLeft_FuncCategory Intergenic_GeneToTheRight Intergenic_GeneToTheRight_FuncCategory\n",
       "0  NC_000962.3      0  1524      +                            Rv0001   dnaA         CDS            NotExcluded               None  Chromosomal replication initiator protein DnaA  information pathways            No                                NaN                      NaN                                   NaN                       NaN                                    NaN\n",
       "1  NC_000962.3   1524  2051    NaN  IntergenicRegion_1_Rv0001-Rv0002    NaN  Intergenic             Intergenic                NaN                                             NaN            Intergenic           NaN                              False                   Rv0001                           NotExcluded                    Rv0002                            NotExcluded"
      ]
     },
     "execution_count": 146,
     "metadata": {},
     "output_type": "execute_result"
    }
   ],
   "source": [
    "H37Rv_AllRegions_DF.head(2)"
   ]
  },
  {
   "cell_type": "code",
   "execution_count": null,
   "metadata": {},
   "outputs": [],
   "source": []
  },
  {
   "cell_type": "code",
   "execution_count": null,
   "metadata": {},
   "outputs": [],
   "source": []
  },
  {
   "cell_type": "code",
   "execution_count": null,
   "metadata": {},
   "outputs": [],
   "source": []
  },
  {
   "cell_type": "code",
   "execution_count": 147,
   "metadata": {},
   "outputs": [
    {
     "data": {
      "text/html": [
       "<div>\n",
       "<style scoped>\n",
       "    .dataframe tbody tr th:only-of-type {\n",
       "        vertical-align: middle;\n",
       "    }\n",
       "\n",
       "    .dataframe tbody tr th {\n",
       "        vertical-align: top;\n",
       "    }\n",
       "\n",
       "    .dataframe thead th {\n",
       "        text-align: right;\n",
       "    }\n",
       "</style>\n",
       "<table border=\"1\" class=\"dataframe\">\n",
       "  <thead>\n",
       "    <tr style=\"text-align: right;\">\n",
       "      <th></th>\n",
       "      <th>Chrom</th>\n",
       "      <th>Start</th>\n",
       "      <th>End</th>\n",
       "      <th>Strand</th>\n",
       "      <th>H37rv_GeneID</th>\n",
       "      <th>Symbol</th>\n",
       "      <th>Feature</th>\n",
       "      <th>ExcludedGroup_Category</th>\n",
       "      <th>PEandPPE_Subfamily</th>\n",
       "      <th>Product</th>\n",
       "      <th>Functional_Category</th>\n",
       "      <th>Is_Pseudogene</th>\n",
       "      <th>IntergenicRegion_IsNextTo_PLC_Gene</th>\n",
       "      <th>Intergenic_GeneToTheLeft</th>\n",
       "      <th>Intergenic_GeneToTheLeft_FuncCategory</th>\n",
       "      <th>Intergenic_GeneToTheRight</th>\n",
       "      <th>Intergenic_GeneToTheRight_FuncCategory</th>\n",
       "    </tr>\n",
       "  </thead>\n",
       "  <tbody>\n",
       "    <tr>\n",
       "      <th>0</th>\n",
       "      <td>NC_000962.3</td>\n",
       "      <td>0</td>\n",
       "      <td>1524</td>\n",
       "      <td>+</td>\n",
       "      <td>Rv0001</td>\n",
       "      <td>dnaA</td>\n",
       "      <td>CDS</td>\n",
       "      <td>NotExcluded</td>\n",
       "      <td>None</td>\n",
       "      <td>Chromosomal replication initiator protein DnaA</td>\n",
       "      <td>information pathways</td>\n",
       "      <td>No</td>\n",
       "      <td>NaN</td>\n",
       "      <td>NaN</td>\n",
       "      <td>NaN</td>\n",
       "      <td>NaN</td>\n",
       "      <td>NaN</td>\n",
       "    </tr>\n",
       "    <tr>\n",
       "      <th>1</th>\n",
       "      <td>NC_000962.3</td>\n",
       "      <td>1524</td>\n",
       "      <td>2051</td>\n",
       "      <td>NaN</td>\n",
       "      <td>IntergenicRegion_1_Rv0001-Rv0002</td>\n",
       "      <td>NaN</td>\n",
       "      <td>Intergenic</td>\n",
       "      <td>Intergenic</td>\n",
       "      <td>NaN</td>\n",
       "      <td>NaN</td>\n",
       "      <td>Intergenic</td>\n",
       "      <td>NaN</td>\n",
       "      <td>False</td>\n",
       "      <td>Rv0001</td>\n",
       "      <td>NotExcluded</td>\n",
       "      <td>Rv0002</td>\n",
       "      <td>NotExcluded</td>\n",
       "    </tr>\n",
       "    <tr>\n",
       "      <th>2</th>\n",
       "      <td>NC_000962.3</td>\n",
       "      <td>2051</td>\n",
       "      <td>3260</td>\n",
       "      <td>+</td>\n",
       "      <td>Rv0002</td>\n",
       "      <td>dnaN</td>\n",
       "      <td>CDS</td>\n",
       "      <td>NotExcluded</td>\n",
       "      <td>None</td>\n",
       "      <td>DNA polymerase III (beta chain) DnaN (DNA nucl...</td>\n",
       "      <td>information pathways</td>\n",
       "      <td>No</td>\n",
       "      <td>NaN</td>\n",
       "      <td>NaN</td>\n",
       "      <td>NaN</td>\n",
       "      <td>NaN</td>\n",
       "      <td>NaN</td>\n",
       "    </tr>\n",
       "    <tr>\n",
       "      <th>3</th>\n",
       "      <td>NC_000962.3</td>\n",
       "      <td>3260</td>\n",
       "      <td>3279</td>\n",
       "      <td>NaN</td>\n",
       "      <td>IntergenicRegion_2_Rv0002-Rv0003</td>\n",
       "      <td>NaN</td>\n",
       "      <td>Intergenic</td>\n",
       "      <td>Intergenic</td>\n",
       "      <td>NaN</td>\n",
       "      <td>NaN</td>\n",
       "      <td>Intergenic</td>\n",
       "      <td>NaN</td>\n",
       "      <td>False</td>\n",
       "      <td>Rv0002</td>\n",
       "      <td>NotExcluded</td>\n",
       "      <td>Rv0003</td>\n",
       "      <td>NotExcluded</td>\n",
       "    </tr>\n",
       "    <tr>\n",
       "      <th>4</th>\n",
       "      <td>NC_000962.3</td>\n",
       "      <td>3279</td>\n",
       "      <td>4437</td>\n",
       "      <td>+</td>\n",
       "      <td>Rv0003</td>\n",
       "      <td>recF</td>\n",
       "      <td>CDS</td>\n",
       "      <td>NotExcluded</td>\n",
       "      <td>None</td>\n",
       "      <td>DNA replication and repair protein RecF (singl...</td>\n",
       "      <td>information pathways</td>\n",
       "      <td>No</td>\n",
       "      <td>NaN</td>\n",
       "      <td>NaN</td>\n",
       "      <td>NaN</td>\n",
       "      <td>NaN</td>\n",
       "      <td>NaN</td>\n",
       "    </tr>\n",
       "  </tbody>\n",
       "</table>\n",
       "</div>"
      ],
      "text/plain": [
       "         Chrom  Start   End Strand                      H37rv_GeneID Symbol     Feature ExcludedGroup_Category PEandPPE_Subfamily                                            Product   Functional_Category Is_Pseudogene IntergenicRegion_IsNextTo_PLC_Gene Intergenic_GeneToTheLeft Intergenic_GeneToTheLeft_FuncCategory Intergenic_GeneToTheRight Intergenic_GeneToTheRight_FuncCategory\n",
       "0  NC_000962.3      0  1524      +                            Rv0001   dnaA         CDS            NotExcluded               None     Chromosomal replication initiator protein DnaA  information pathways            No                                NaN                      NaN                                   NaN                       NaN                                    NaN\n",
       "1  NC_000962.3   1524  2051    NaN  IntergenicRegion_1_Rv0001-Rv0002    NaN  Intergenic             Intergenic                NaN                                                NaN            Intergenic           NaN                              False                   Rv0001                           NotExcluded                    Rv0002                            NotExcluded\n",
       "2  NC_000962.3   2051  3260      +                            Rv0002   dnaN         CDS            NotExcluded               None  DNA polymerase III (beta chain) DnaN (DNA nucl...  information pathways            No                                NaN                      NaN                                   NaN                       NaN                                    NaN\n",
       "3  NC_000962.3   3260  3279    NaN  IntergenicRegion_2_Rv0002-Rv0003    NaN  Intergenic             Intergenic                NaN                                                NaN            Intergenic           NaN                              False                   Rv0002                           NotExcluded                    Rv0003                            NotExcluded\n",
       "4  NC_000962.3   3279  4437      +                            Rv0003   recF         CDS            NotExcluded               None  DNA replication and repair protein RecF (singl...  information pathways            No                                NaN                      NaN                                   NaN                       NaN                                    NaN"
      ]
     },
     "execution_count": 147,
     "metadata": {},
     "output_type": "execute_result"
    }
   ],
   "source": [
    "H37Rv_AllRegions_DF.head()"
   ]
  },
  {
   "cell_type": "code",
   "execution_count": null,
   "metadata": {},
   "outputs": [],
   "source": []
  },
  {
   "cell_type": "code",
   "execution_count": null,
   "metadata": {},
   "outputs": [],
   "source": []
  },
  {
   "cell_type": "code",
   "execution_count": null,
   "metadata": {},
   "outputs": [],
   "source": []
  },
  {
   "cell_type": "code",
   "execution_count": null,
   "metadata": {},
   "outputs": [],
   "source": []
  },
  {
   "cell_type": "code",
   "execution_count": null,
   "metadata": {},
   "outputs": [],
   "source": []
  },
  {
   "cell_type": "code",
   "execution_count": null,
   "metadata": {},
   "outputs": [],
   "source": []
  },
  {
   "cell_type": "code",
   "execution_count": null,
   "metadata": {},
   "outputs": [],
   "source": []
  },
  {
   "cell_type": "code",
   "execution_count": null,
   "metadata": {},
   "outputs": [],
   "source": []
  },
  {
   "cell_type": "markdown",
   "metadata": {},
   "source": [
    "# Output H37rv gene and integenic region info in BED format"
   ]
  },
  {
   "cell_type": "code",
   "execution_count": 148,
   "metadata": {},
   "outputs": [
    {
     "data": {
      "text/html": [
       "<div>\n",
       "<style scoped>\n",
       "    .dataframe tbody tr th:only-of-type {\n",
       "        vertical-align: middle;\n",
       "    }\n",
       "\n",
       "    .dataframe tbody tr th {\n",
       "        vertical-align: top;\n",
       "    }\n",
       "\n",
       "    .dataframe thead th {\n",
       "        text-align: right;\n",
       "    }\n",
       "</style>\n",
       "<table border=\"1\" class=\"dataframe\">\n",
       "  <thead>\n",
       "    <tr style=\"text-align: right;\">\n",
       "      <th></th>\n",
       "      <th>Chrom</th>\n",
       "      <th>Start</th>\n",
       "      <th>End</th>\n",
       "      <th>Strand</th>\n",
       "      <th>H37rv_GeneID</th>\n",
       "      <th>Symbol</th>\n",
       "      <th>Feature</th>\n",
       "      <th>Functional_Category</th>\n",
       "      <th>Is_Pseudogene</th>\n",
       "      <th>Product</th>\n",
       "      <th>PEandPPE_Subfamily</th>\n",
       "      <th>ExcludedGroup_Category</th>\n",
       "    </tr>\n",
       "  </thead>\n",
       "  <tbody>\n",
       "    <tr>\n",
       "      <th>0</th>\n",
       "      <td>NC_000962.3</td>\n",
       "      <td>0</td>\n",
       "      <td>1524</td>\n",
       "      <td>+</td>\n",
       "      <td>Rv0001</td>\n",
       "      <td>dnaA</td>\n",
       "      <td>CDS</td>\n",
       "      <td>information pathways</td>\n",
       "      <td>No</td>\n",
       "      <td>Chromosomal replication initiator protein DnaA</td>\n",
       "      <td>None</td>\n",
       "      <td>NotExcluded</td>\n",
       "    </tr>\n",
       "    <tr>\n",
       "      <th>1</th>\n",
       "      <td>NC_000962.3</td>\n",
       "      <td>2051</td>\n",
       "      <td>3260</td>\n",
       "      <td>+</td>\n",
       "      <td>Rv0002</td>\n",
       "      <td>dnaN</td>\n",
       "      <td>CDS</td>\n",
       "      <td>information pathways</td>\n",
       "      <td>No</td>\n",
       "      <td>DNA polymerase III (beta chain) DnaN (DNA nucl...</td>\n",
       "      <td>None</td>\n",
       "      <td>NotExcluded</td>\n",
       "    </tr>\n",
       "    <tr>\n",
       "      <th>2</th>\n",
       "      <td>NC_000962.3</td>\n",
       "      <td>3279</td>\n",
       "      <td>4437</td>\n",
       "      <td>+</td>\n",
       "      <td>Rv0003</td>\n",
       "      <td>recF</td>\n",
       "      <td>CDS</td>\n",
       "      <td>information pathways</td>\n",
       "      <td>No</td>\n",
       "      <td>DNA replication and repair protein RecF (singl...</td>\n",
       "      <td>None</td>\n",
       "      <td>NotExcluded</td>\n",
       "    </tr>\n",
       "    <tr>\n",
       "      <th>3</th>\n",
       "      <td>NC_000962.3</td>\n",
       "      <td>4433</td>\n",
       "      <td>4997</td>\n",
       "      <td>+</td>\n",
       "      <td>Rv0004</td>\n",
       "      <td>Rv0004</td>\n",
       "      <td>CDS</td>\n",
       "      <td>conserved hypotheticals</td>\n",
       "      <td>No</td>\n",
       "      <td>Conserved hypothetical protein</td>\n",
       "      <td>None</td>\n",
       "      <td>NotExcluded</td>\n",
       "    </tr>\n",
       "    <tr>\n",
       "      <th>4</th>\n",
       "      <td>NC_000962.3</td>\n",
       "      <td>5239</td>\n",
       "      <td>7267</td>\n",
       "      <td>+</td>\n",
       "      <td>Rv0005</td>\n",
       "      <td>gyrB</td>\n",
       "      <td>CDS</td>\n",
       "      <td>information pathways</td>\n",
       "      <td>No</td>\n",
       "      <td>DNA gyrase (subunit B) GyrB (DNA topoisomerase...</td>\n",
       "      <td>None</td>\n",
       "      <td>NotExcluded</td>\n",
       "    </tr>\n",
       "  </tbody>\n",
       "</table>\n",
       "</div>"
      ],
      "text/plain": [
       "         Chrom  Start   End Strand H37rv_GeneID  Symbol Feature      Functional_Category Is_Pseudogene                                            Product PEandPPE_Subfamily ExcludedGroup_Category\n",
       "0  NC_000962.3      0  1524      +       Rv0001    dnaA     CDS     information pathways            No     Chromosomal replication initiator protein DnaA               None            NotExcluded\n",
       "1  NC_000962.3   2051  3260      +       Rv0002    dnaN     CDS     information pathways            No  DNA polymerase III (beta chain) DnaN (DNA nucl...               None            NotExcluded\n",
       "2  NC_000962.3   3279  4437      +       Rv0003    recF     CDS     information pathways            No  DNA replication and repair protein RecF (singl...               None            NotExcluded\n",
       "3  NC_000962.3   4433  4997      +       Rv0004  Rv0004     CDS  conserved hypotheticals            No                     Conserved hypothetical protein               None            NotExcluded\n",
       "4  NC_000962.3   5239  7267      +       Rv0005    gyrB     CDS     information pathways            No  DNA gyrase (subunit B) GyrB (DNA topoisomerase...               None            NotExcluded"
      ]
     },
     "execution_count": 148,
     "metadata": {},
     "output_type": "execute_result"
    }
   ],
   "source": [
    "H37Rv_GenomeAnno_Genes_DF.head()"
   ]
  },
  {
   "cell_type": "code",
   "execution_count": 149,
   "metadata": {},
   "outputs": [
    {
     "name": "stderr",
     "output_type": "stream",
     "text": [
      "/home/mm774/conda3/envs/py37_S/lib/python3.7/site-packages/ipykernel_launcher.py:2: SettingWithCopyWarning: \n",
      "A value is trying to be set on a copy of a slice from a DataFrame.\n",
      "Try using .loc[row_indexer,col_indexer] = value instead\n",
      "\n",
      "See the caveats in the documentation: https://pandas.pydata.org/pandas-docs/stable/user_guide/indexing.html#returning-a-view-versus-a-copy\n",
      "  \n"
     ]
    }
   ],
   "source": [
    "H37rv_AllGenesAnnotated_BED_DF = H37Rv_GenomeAnno_Genes_DF[[\"Start\", \"End\", \"H37rv_GeneID\", \"Symbol\", \"Functional_Category\", \"PEandPPE_Subfamily\", \"ExcludedGroup_Category\"]]\n",
    "H37rv_AllGenesAnnotated_BED_DF[\"Chrom\"] = \"NC_000962.3\"\n",
    "H37rv_AllGenesAnnotated_BED_DF = H37rv_AllGenesAnnotated_BED_DF[[\"Chrom\", \"Start\", \"End\", \"H37rv_GeneID\", \"Symbol\", \"Functional_Category\", \"PEandPPE_Subfamily\", \"ExcludedGroup_Category\"]]     \n",
    "H37rv_AllGenesAnnotated_BED_DF = H37rv_AllGenesAnnotated_BED_DF.sort_values([\"Chrom\", \"Start\", \"End\"])"
   ]
  },
  {
   "cell_type": "code",
   "execution_count": 150,
   "metadata": {},
   "outputs": [
    {
     "data": {
      "text/plain": [
       "(4079, 8)"
      ]
     },
     "execution_count": 150,
     "metadata": {},
     "output_type": "execute_result"
    }
   ],
   "source": [
    "H37rv_AllGenesAnnotated_BED_DF.shape"
   ]
  },
  {
   "cell_type": "code",
   "execution_count": 151,
   "metadata": {},
   "outputs": [
    {
     "data": {
      "text/html": [
       "<div>\n",
       "<style scoped>\n",
       "    .dataframe tbody tr th:only-of-type {\n",
       "        vertical-align: middle;\n",
       "    }\n",
       "\n",
       "    .dataframe tbody tr th {\n",
       "        vertical-align: top;\n",
       "    }\n",
       "\n",
       "    .dataframe thead th {\n",
       "        text-align: right;\n",
       "    }\n",
       "</style>\n",
       "<table border=\"1\" class=\"dataframe\">\n",
       "  <thead>\n",
       "    <tr style=\"text-align: right;\">\n",
       "      <th></th>\n",
       "      <th>Chrom</th>\n",
       "      <th>Start</th>\n",
       "      <th>End</th>\n",
       "      <th>H37rv_GeneID</th>\n",
       "      <th>Symbol</th>\n",
       "      <th>Functional_Category</th>\n",
       "      <th>PEandPPE_Subfamily</th>\n",
       "      <th>ExcludedGroup_Category</th>\n",
       "    </tr>\n",
       "  </thead>\n",
       "  <tbody>\n",
       "    <tr>\n",
       "      <th>0</th>\n",
       "      <td>NC_000962.3</td>\n",
       "      <td>0</td>\n",
       "      <td>1524</td>\n",
       "      <td>Rv0001</td>\n",
       "      <td>dnaA</td>\n",
       "      <td>information pathways</td>\n",
       "      <td>None</td>\n",
       "      <td>NotExcluded</td>\n",
       "    </tr>\n",
       "    <tr>\n",
       "      <th>1</th>\n",
       "      <td>NC_000962.3</td>\n",
       "      <td>2051</td>\n",
       "      <td>3260</td>\n",
       "      <td>Rv0002</td>\n",
       "      <td>dnaN</td>\n",
       "      <td>information pathways</td>\n",
       "      <td>None</td>\n",
       "      <td>NotExcluded</td>\n",
       "    </tr>\n",
       "    <tr>\n",
       "      <th>2</th>\n",
       "      <td>NC_000962.3</td>\n",
       "      <td>3279</td>\n",
       "      <td>4437</td>\n",
       "      <td>Rv0003</td>\n",
       "      <td>recF</td>\n",
       "      <td>information pathways</td>\n",
       "      <td>None</td>\n",
       "      <td>NotExcluded</td>\n",
       "    </tr>\n",
       "    <tr>\n",
       "      <th>3</th>\n",
       "      <td>NC_000962.3</td>\n",
       "      <td>4433</td>\n",
       "      <td>4997</td>\n",
       "      <td>Rv0004</td>\n",
       "      <td>Rv0004</td>\n",
       "      <td>conserved hypotheticals</td>\n",
       "      <td>None</td>\n",
       "      <td>NotExcluded</td>\n",
       "    </tr>\n",
       "    <tr>\n",
       "      <th>4</th>\n",
       "      <td>NC_000962.3</td>\n",
       "      <td>5239</td>\n",
       "      <td>7267</td>\n",
       "      <td>Rv0005</td>\n",
       "      <td>gyrB</td>\n",
       "      <td>information pathways</td>\n",
       "      <td>None</td>\n",
       "      <td>NotExcluded</td>\n",
       "    </tr>\n",
       "  </tbody>\n",
       "</table>\n",
       "</div>"
      ],
      "text/plain": [
       "         Chrom  Start   End H37rv_GeneID  Symbol      Functional_Category PEandPPE_Subfamily ExcludedGroup_Category\n",
       "0  NC_000962.3      0  1524       Rv0001    dnaA     information pathways               None            NotExcluded\n",
       "1  NC_000962.3   2051  3260       Rv0002    dnaN     information pathways               None            NotExcluded\n",
       "2  NC_000962.3   3279  4437       Rv0003    recF     information pathways               None            NotExcluded\n",
       "3  NC_000962.3   4433  4997       Rv0004  Rv0004  conserved hypotheticals               None            NotExcluded\n",
       "4  NC_000962.3   5239  7267       Rv0005    gyrB     information pathways               None            NotExcluded"
      ]
     },
     "execution_count": 151,
     "metadata": {},
     "output_type": "execute_result"
    }
   ],
   "source": [
    "H37rv_AllGenesAnnotated_BED_DF.head()"
   ]
  },
  {
   "cell_type": "markdown",
   "metadata": {},
   "source": [
    "#### Output H37rv_AllGenesAnnotated_BED_DF to BED format"
   ]
  },
  {
   "cell_type": "code",
   "execution_count": 152,
   "metadata": {},
   "outputs": [],
   "source": [
    "RepoRef_Dir = \"../../References\""
   ]
  },
  {
   "cell_type": "code",
   "execution_count": 153,
   "metadata": {},
   "outputs": [
    {
     "name": "stdout",
     "output_type": "stream",
     "text": [
      "190619_PEPPEsubfamily_Anno.tsv\n",
      "190701_PPE_MPTR_SubfamilyList_BasedOn_Pittius_etal2006.txt\n",
      "190927_H37rv_GeneAnnotationsAndLists\n",
      "190927_LouisReviewPreview_PE-PPEs_Annotations_MGMmodified.xlsx\n",
      "190927_LouisReviewPreview_PE-PPEs_Annotations.xlsx\n",
      "200624_CoscollaExcludedGenes.bed\n",
      "200901_H37rv_AnnotatedGenes_And_IntergenicRegions\n",
      "201027_H37rv_AnnotatedGenes_And_IntergenicRegions\n",
      "Coscolla_etal_2015_Table_S9_GenesExcludedFromTBanalysis.tsv\n",
      "Hicketal2018_GenomicRegionsRemoved\n",
      "HMMs_Pfam_PE_and_PPE\n",
      "MTBC_RD_References\n",
      "pLowConfideceRegions_CoscollaEtAlScheme_Files\n",
      "References_README.md\n",
      "Vargas_etal_SupTables_V2\n",
      "Varges_etal_SupTables_V1\n"
     ]
    }
   ],
   "source": [
    "!ls -1 $RepoRef_Dir"
   ]
  },
  {
   "cell_type": "code",
   "execution_count": 154,
   "metadata": {},
   "outputs": [
    {
     "name": "stdout",
     "output_type": "stream",
     "text": [
      "mkdir: cannot create directory ‘../../References/201027_H37rv_AnnotatedGenes_And_IntergenicRegions’: File exists\n"
     ]
    }
   ],
   "source": [
    "RepoRef_Dir = \"../../References\"\n",
    "AnnotatedGenes_And_IntergenicRegions_RepoRef_Dir = f\"{RepoRef_Dir}/201027_H37rv_AnnotatedGenes_And_IntergenicRegions\"\n",
    "\n",
    "!mkdir $AnnotatedGenes_And_IntergenicRegions_RepoRef_Dir\n",
    "\n",
    "H37rv_AllGenesAnnotated_BED_DF_PATH = f\"{AnnotatedGenes_And_IntergenicRegions_RepoRef_Dir}/201027_Mtb_H37rv_AllGenes_Info.bed\"\n",
    "\n",
    "\n",
    "# Output pLC Gene Level bed file\n",
    "H37rv_AllGenesAnnotated_BED_DF.to_csv(H37rv_AllGenesAnnotated_BED_DF_PATH, sep = \"\\t\", index = False, header = False)\n",
    "\n",
    "\n",
    "### Output BED file with ranges of intergenic regions which do NOT overlap with any annotated genes\n",
    "\n",
    "RepoRef_Dir = \"../../References\"\n",
    "\n",
    "H37rv_BED_GENOME = \"/n/data1/hms/dbmi/farhat/mm774/References/GCF_000195955.2_ASM19595v2_genomic.fasta.bedtools.genome\"     \n",
    "\n",
    "H37rv_AllIntergenicRegions_BED_DF_PATH = f\"{AnnotatedGenes_And_IntergenicRegions_RepoRef_Dir}/201027_Mtb_H37rv_AllIntergenicRegions.bed\"\n",
    "\n",
    "!bedtools complement -i $H37rv_AllGenesAnnotated_BED_DF_PATH -g $H37rv_BED_GENOME > $H37rv_AllIntergenicRegions_BED_DF_PATH "
   ]
  },
  {
   "cell_type": "code",
   "execution_count": null,
   "metadata": {},
   "outputs": [],
   "source": []
  },
  {
   "cell_type": "markdown",
   "metadata": {},
   "source": [
    "#### Look at output files"
   ]
  },
  {
   "cell_type": "code",
   "execution_count": 155,
   "metadata": {},
   "outputs": [
    {
     "name": "stdout",
     "output_type": "stream",
     "text": [
      "   4079 ../../References/201027_H37rv_AnnotatedGenes_And_IntergenicRegions/201027_Mtb_H37rv_AllGenes_Info.bed\n",
      "   3072 ../../References/201027_H37rv_AnnotatedGenes_And_IntergenicRegions/201027_Mtb_H37rv_AllIntergenicRegions.bed\n",
      "   7151 ../../References/201027_H37rv_AnnotatedGenes_And_IntergenicRegions/H37Rv_GenomeAnnotations.Genes.And.IntergenicRegions.bed\n",
      "   7152 ../../References/201027_H37rv_AnnotatedGenes_And_IntergenicRegions/H37Rv_GenomeAnnotations.Genes.And.IntergenicRegions.tsv\n",
      "   4080 ../../References/201027_H37rv_AnnotatedGenes_And_IntergenicRegions/H37Rv_GenomeAnnotations.Genes.tsv\n",
      "   3073 ../../References/201027_H37rv_AnnotatedGenes_And_IntergenicRegions/H37Rv_GenomeAnnotations.IntergenicRegions.tsv\n",
      "  28607 total\n"
     ]
    }
   ],
   "source": [
    "!wc -l $AnnotatedGenes_And_IntergenicRegions_RepoRef_Dir/*"
   ]
  },
  {
   "cell_type": "code",
   "execution_count": 156,
   "metadata": {},
   "outputs": [
    {
     "name": "stdout",
     "output_type": "stream",
     "text": [
      "   3072 ../../References/201027_H37rv_AnnotatedGenes_And_IntergenicRegions/201027_Mtb_H37rv_AllIntergenicRegions.bed\n",
      "   7151 ../../References/201027_H37rv_AnnotatedGenes_And_IntergenicRegions/H37Rv_GenomeAnnotations.Genes.And.IntergenicRegions.bed\n",
      "   7152 ../../References/201027_H37rv_AnnotatedGenes_And_IntergenicRegions/H37Rv_GenomeAnnotations.Genes.And.IntergenicRegions.tsv\n",
      "   3073 ../../References/201027_H37rv_AnnotatedGenes_And_IntergenicRegions/H37Rv_GenomeAnnotations.IntergenicRegions.tsv\n",
      "  20448 total\n"
     ]
    }
   ],
   "source": [
    "!wc -l $AnnotatedGenes_And_IntergenicRegions_RepoRef_Dir/*IntergenicRegions*"
   ]
  },
  {
   "cell_type": "code",
   "execution_count": 157,
   "metadata": {},
   "outputs": [
    {
     "name": "stdout",
     "output_type": "stream",
     "text": [
      "total 3.3M\n",
      "drwxrwsr-x  2 mm774 farhat  371 Feb  2 15:37 .\n",
      "drwxrwsr-x 11 mm774 farhat  898 Oct 29 12:02 ..\n",
      "-rw-rw-r--  1 mm774 farhat 348K Feb  2 22:28 201027_Mtb_H37rv_AllGenes_Info.bed\n",
      "-rw-rw-r--  1 mm774 farhat  83K Feb  2 22:28 201027_Mtb_H37rv_AllIntergenicRegions.bed\n",
      "-rw-rw-r--  1 mm774 farhat 623K Feb  2 22:28 H37Rv_GenomeAnnotations.Genes.And.IntergenicRegions.bed\n",
      "-rw-rw-r--  1 mm774 farhat 1.1M Feb  2 22:28 H37Rv_GenomeAnnotations.Genes.And.IntergenicRegions.tsv\n",
      "-rw-rw-r--  1 mm774 farhat 569K Feb  2 22:28 H37Rv_GenomeAnnotations.Genes.tsv\n",
      "-rw-rw-r--  1 mm774 farhat 331K Feb  2 22:28 H37Rv_GenomeAnnotations.IntergenicRegions.tsv\n"
     ]
    }
   ],
   "source": [
    "!ls -lah $AnnotatedGenes_And_IntergenicRegions_RepoRef_Dir"
   ]
  },
  {
   "cell_type": "code",
   "execution_count": null,
   "metadata": {},
   "outputs": [],
   "source": []
  },
  {
   "cell_type": "code",
   "execution_count": 158,
   "metadata": {},
   "outputs": [
    {
     "name": "stdout",
     "output_type": "stream",
     "text": [
      "NC_000962.3\t1524\t2051\n",
      "NC_000962.3\t3260\t3279\n"
     ]
    }
   ],
   "source": [
    "!head -n 2 $H37rv_AllIntergenicRegions_BED_DF_PATH"
   ]
  },
  {
   "cell_type": "code",
   "execution_count": 159,
   "metadata": {},
   "outputs": [
    {
     "data": {
      "text/html": [
       "<div>\n",
       "<style scoped>\n",
       "    .dataframe tbody tr th:only-of-type {\n",
       "        vertical-align: middle;\n",
       "    }\n",
       "\n",
       "    .dataframe tbody tr th {\n",
       "        vertical-align: top;\n",
       "    }\n",
       "\n",
       "    .dataframe thead th {\n",
       "        text-align: right;\n",
       "    }\n",
       "</style>\n",
       "<table border=\"1\" class=\"dataframe\">\n",
       "  <thead>\n",
       "    <tr style=\"text-align: right;\">\n",
       "      <th></th>\n",
       "      <th>Chrom</th>\n",
       "      <th>Start</th>\n",
       "      <th>End</th>\n",
       "      <th>H37rv_GeneID</th>\n",
       "      <th>IntergenicRegion_IsNextTo_PLC_Gene</th>\n",
       "      <th>Intergenic_GeneToTheLeft</th>\n",
       "      <th>Intergenic_GeneToTheLeft_FuncCategory</th>\n",
       "      <th>Intergenic_GeneToTheRight</th>\n",
       "      <th>Intergenic_GeneToTheRight_FuncCategory</th>\n",
       "    </tr>\n",
       "  </thead>\n",
       "  <tbody>\n",
       "    <tr>\n",
       "      <th>0</th>\n",
       "      <td>NC_000962.3</td>\n",
       "      <td>1524</td>\n",
       "      <td>2051</td>\n",
       "      <td>IntergenicRegion_1_Rv0001-Rv0002</td>\n",
       "      <td>False</td>\n",
       "      <td>Rv0001</td>\n",
       "      <td>NotExcluded</td>\n",
       "      <td>Rv0002</td>\n",
       "      <td>NotExcluded</td>\n",
       "    </tr>\n",
       "    <tr>\n",
       "      <th>1</th>\n",
       "      <td>NC_000962.3</td>\n",
       "      <td>3260</td>\n",
       "      <td>3279</td>\n",
       "      <td>IntergenicRegion_2_Rv0002-Rv0003</td>\n",
       "      <td>False</td>\n",
       "      <td>Rv0002</td>\n",
       "      <td>NotExcluded</td>\n",
       "      <td>Rv0003</td>\n",
       "      <td>NotExcluded</td>\n",
       "    </tr>\n",
       "  </tbody>\n",
       "</table>\n",
       "</div>"
      ],
      "text/plain": [
       "         Chrom  Start   End                      H37rv_GeneID  IntergenicRegion_IsNextTo_PLC_Gene Intergenic_GeneToTheLeft Intergenic_GeneToTheLeft_FuncCategory Intergenic_GeneToTheRight Intergenic_GeneToTheRight_FuncCategory\n",
       "0  NC_000962.3   1524  2051  IntergenicRegion_1_Rv0001-Rv0002                               False                   Rv0001                           NotExcluded                    Rv0002                            NotExcluded\n",
       "1  NC_000962.3   3260  3279  IntergenicRegion_2_Rv0002-Rv0003                               False                   Rv0002                           NotExcluded                    Rv0003                            NotExcluded"
      ]
     },
     "execution_count": 159,
     "metadata": {},
     "output_type": "execute_result"
    }
   ],
   "source": [
    "H37Rv_IntergenicRegions_DF.head(2)"
   ]
  },
  {
   "cell_type": "code",
   "execution_count": 160,
   "metadata": {},
   "outputs": [
    {
     "name": "stdout",
     "output_type": "stream",
     "text": [
      "NC_000962.3\t4408897\t4408968\n",
      "NC_000962.3\t4410929\t4411532\n"
     ]
    }
   ],
   "source": [
    "!tail -n 2 $H37rv_AllIntergenicRegions_BED_DF_PATH"
   ]
  },
  {
   "cell_type": "code",
   "execution_count": 161,
   "metadata": {},
   "outputs": [
    {
     "data": {
      "text/html": [
       "<div>\n",
       "<style scoped>\n",
       "    .dataframe tbody tr th:only-of-type {\n",
       "        vertical-align: middle;\n",
       "    }\n",
       "\n",
       "    .dataframe tbody tr th {\n",
       "        vertical-align: top;\n",
       "    }\n",
       "\n",
       "    .dataframe thead th {\n",
       "        text-align: right;\n",
       "    }\n",
       "</style>\n",
       "<table border=\"1\" class=\"dataframe\">\n",
       "  <thead>\n",
       "    <tr style=\"text-align: right;\">\n",
       "      <th></th>\n",
       "      <th>Chrom</th>\n",
       "      <th>Start</th>\n",
       "      <th>End</th>\n",
       "      <th>H37rv_GeneID</th>\n",
       "      <th>IntergenicRegion_IsNextTo_PLC_Gene</th>\n",
       "      <th>Intergenic_GeneToTheLeft</th>\n",
       "      <th>Intergenic_GeneToTheLeft_FuncCategory</th>\n",
       "      <th>Intergenic_GeneToTheRight</th>\n",
       "      <th>Intergenic_GeneToTheRight_FuncCategory</th>\n",
       "    </tr>\n",
       "  </thead>\n",
       "  <tbody>\n",
       "    <tr>\n",
       "      <th>3070</th>\n",
       "      <td>NC_000962.3</td>\n",
       "      <td>4408897</td>\n",
       "      <td>4408968</td>\n",
       "      <td>IntergenicRegion_3071_Rv3920c-Rv3921c</td>\n",
       "      <td>False</td>\n",
       "      <td>Rv3920c</td>\n",
       "      <td>NotExcluded</td>\n",
       "      <td>Rv3921c</td>\n",
       "      <td>NotExcluded</td>\n",
       "    </tr>\n",
       "    <tr>\n",
       "      <th>3071</th>\n",
       "      <td>NC_000962.3</td>\n",
       "      <td>4410789</td>\n",
       "      <td>4411532</td>\n",
       "      <td>IntergenicRegion_3072_Rv3923c-Rv0001</td>\n",
       "      <td>False</td>\n",
       "      <td>Rv3923c</td>\n",
       "      <td>NotExcluded</td>\n",
       "      <td>Rv0001</td>\n",
       "      <td>NotExcluded</td>\n",
       "    </tr>\n",
       "  </tbody>\n",
       "</table>\n",
       "</div>"
      ],
      "text/plain": [
       "            Chrom    Start      End                           H37rv_GeneID  IntergenicRegion_IsNextTo_PLC_Gene Intergenic_GeneToTheLeft Intergenic_GeneToTheLeft_FuncCategory Intergenic_GeneToTheRight Intergenic_GeneToTheRight_FuncCategory\n",
       "3070  NC_000962.3  4408897  4408968  IntergenicRegion_3071_Rv3920c-Rv3921c                               False                  Rv3920c                           NotExcluded                   Rv3921c                            NotExcluded\n",
       "3071  NC_000962.3  4410789  4411532   IntergenicRegion_3072_Rv3923c-Rv0001                               False                  Rv3923c                           NotExcluded                    Rv0001                            NotExcluded"
      ]
     },
     "execution_count": 161,
     "metadata": {},
     "output_type": "execute_result"
    }
   ],
   "source": [
    "H37Rv_IntergenicRegions_DF.tail(2)"
   ]
  },
  {
   "cell_type": "code",
   "execution_count": null,
   "metadata": {},
   "outputs": [],
   "source": []
  },
  {
   "cell_type": "code",
   "execution_count": 162,
   "metadata": {},
   "outputs": [
    {
     "name": "stdout",
     "output_type": "stream",
     "text": [
      "NC_000962.3\t1989006\t1989041\n",
      "NC_000962.3\t1989566\t1989832\n",
      "NC_000962.3\t1992577\t1993152\n"
     ]
    }
   ],
   "source": [
    "!head -n 1385 $H37rv_AllIntergenicRegions_BED_DF_PATH | tail -n 3"
   ]
  },
  {
   "cell_type": "code",
   "execution_count": 163,
   "metadata": {},
   "outputs": [
    {
     "data": {
      "text/html": [
       "<div>\n",
       "<style scoped>\n",
       "    .dataframe tbody tr th:only-of-type {\n",
       "        vertical-align: middle;\n",
       "    }\n",
       "\n",
       "    .dataframe tbody tr th {\n",
       "        vertical-align: top;\n",
       "    }\n",
       "\n",
       "    .dataframe thead th {\n",
       "        text-align: right;\n",
       "    }\n",
       "</style>\n",
       "<table border=\"1\" class=\"dataframe\">\n",
       "  <thead>\n",
       "    <tr style=\"text-align: right;\">\n",
       "      <th></th>\n",
       "      <th>Chrom</th>\n",
       "      <th>Start</th>\n",
       "      <th>End</th>\n",
       "      <th>H37rv_GeneID</th>\n",
       "      <th>IntergenicRegion_IsNextTo_PLC_Gene</th>\n",
       "      <th>Intergenic_GeneToTheLeft</th>\n",
       "      <th>Intergenic_GeneToTheLeft_FuncCategory</th>\n",
       "      <th>Intergenic_GeneToTheRight</th>\n",
       "      <th>Intergenic_GeneToTheRight_FuncCategory</th>\n",
       "    </tr>\n",
       "  </thead>\n",
       "  <tbody>\n",
       "    <tr>\n",
       "      <th>1382</th>\n",
       "      <td>NC_000962.3</td>\n",
       "      <td>1989006</td>\n",
       "      <td>1989041</td>\n",
       "      <td>IntergenicRegion_1383_Rv1757c-Rv1758</td>\n",
       "      <td>True</td>\n",
       "      <td>Rv1757c</td>\n",
       "      <td>InsertionSeqs_And_Phages</td>\n",
       "      <td>Rv1758</td>\n",
       "      <td>NotExcluded</td>\n",
       "    </tr>\n",
       "    <tr>\n",
       "      <th>1383</th>\n",
       "      <td>NC_000962.3</td>\n",
       "      <td>1989566</td>\n",
       "      <td>1989832</td>\n",
       "      <td>IntergenicRegion_1384_Rv1758-Rv1759c</td>\n",
       "      <td>True</td>\n",
       "      <td>Rv1758</td>\n",
       "      <td>NotExcluded</td>\n",
       "      <td>Rv1759c</td>\n",
       "      <td>PE/PPEs</td>\n",
       "    </tr>\n",
       "    <tr>\n",
       "      <th>1384</th>\n",
       "      <td>NC_000962.3</td>\n",
       "      <td>1992577</td>\n",
       "      <td>1993152</td>\n",
       "      <td>IntergenicRegion_1385_Rv1759c-Rv1760</td>\n",
       "      <td>True</td>\n",
       "      <td>Rv1759c</td>\n",
       "      <td>PE/PPEs</td>\n",
       "      <td>Rv1760</td>\n",
       "      <td>NotExcluded</td>\n",
       "    </tr>\n",
       "  </tbody>\n",
       "</table>\n",
       "</div>"
      ],
      "text/plain": [
       "            Chrom    Start      End                          H37rv_GeneID  IntergenicRegion_IsNextTo_PLC_Gene Intergenic_GeneToTheLeft Intergenic_GeneToTheLeft_FuncCategory Intergenic_GeneToTheRight Intergenic_GeneToTheRight_FuncCategory\n",
       "1382  NC_000962.3  1989006  1989041  IntergenicRegion_1383_Rv1757c-Rv1758                                True                  Rv1757c              InsertionSeqs_And_Phages                    Rv1758                            NotExcluded\n",
       "1383  NC_000962.3  1989566  1989832  IntergenicRegion_1384_Rv1758-Rv1759c                                True                   Rv1758                           NotExcluded                   Rv1759c                                PE/PPEs\n",
       "1384  NC_000962.3  1992577  1993152  IntergenicRegion_1385_Rv1759c-Rv1760                                True                  Rv1759c                               PE/PPEs                    Rv1760                            NotExcluded"
      ]
     },
     "execution_count": 163,
     "metadata": {},
     "output_type": "execute_result"
    }
   ],
   "source": [
    "H37Rv_IntergenicRegions_DF.head(1385).tail(3)"
   ]
  },
  {
   "cell_type": "code",
   "execution_count": null,
   "metadata": {},
   "outputs": [],
   "source": []
  },
  {
   "cell_type": "code",
   "execution_count": null,
   "metadata": {},
   "outputs": [],
   "source": []
  },
  {
   "cell_type": "code",
   "execution_count": null,
   "metadata": {},
   "outputs": [],
   "source": []
  },
  {
   "cell_type": "code",
   "execution_count": null,
   "metadata": {},
   "outputs": [],
   "source": []
  },
  {
   "cell_type": "code",
   "execution_count": null,
   "metadata": {},
   "outputs": [],
   "source": []
  },
  {
   "cell_type": "code",
   "execution_count": null,
   "metadata": {},
   "outputs": [],
   "source": []
  },
  {
   "cell_type": "code",
   "execution_count": null,
   "metadata": {},
   "outputs": [],
   "source": []
  },
  {
   "cell_type": "code",
   "execution_count": null,
   "metadata": {},
   "outputs": [],
   "source": []
  },
  {
   "cell_type": "code",
   "execution_count": null,
   "metadata": {},
   "outputs": [],
   "source": []
  },
  {
   "cell_type": "code",
   "execution_count": null,
   "metadata": {},
   "outputs": [],
   "source": []
  },
  {
   "cell_type": "code",
   "execution_count": null,
   "metadata": {},
   "outputs": [],
   "source": []
  },
  {
   "cell_type": "markdown",
   "metadata": {},
   "source": [
    "# Output BED file of Putative Low Confidence regions (ranges of GENEs excluded in Coscolla et al. 2015 SCHEME)"
   ]
  },
  {
   "cell_type": "code",
   "execution_count": 164,
   "metadata": {},
   "outputs": [],
   "source": [
    "ExcludedGenes_384_DF = H37Rv_GenomeAnno_Genes_DF[H37Rv_GenomeAnno_Genes_DF[\"ExcludedGroup_Category\"] != \"NotExcluded\"]    "
   ]
  },
  {
   "cell_type": "code",
   "execution_count": 165,
   "metadata": {},
   "outputs": [
    {
     "data": {
      "text/plain": [
       "(384, 12)"
      ]
     },
     "execution_count": 165,
     "metadata": {},
     "output_type": "execute_result"
    }
   ],
   "source": [
    "ExcludedGenes_384_DF.shape"
   ]
  },
  {
   "cell_type": "code",
   "execution_count": 166,
   "metadata": {},
   "outputs": [
    {
     "name": "stderr",
     "output_type": "stream",
     "text": [
      "/home/mm774/conda3/envs/py37_S/lib/python3.7/site-packages/ipykernel_launcher.py:2: SettingWithCopyWarning: \n",
      "A value is trying to be set on a copy of a slice from a DataFrame.\n",
      "Try using .loc[row_indexer,col_indexer] = value instead\n",
      "\n",
      "See the caveats in the documentation: https://pandas.pydata.org/pandas-docs/stable/user_guide/indexing.html#returning-a-view-versus-a-copy\n",
      "  \n"
     ]
    }
   ],
   "source": [
    "CoscollaExcludedGenes_BED_DF = ExcludedGenes_384_DF[[\"Start\", \"End\", \"H37rv_GeneID\", \"Symbol\", \"ExcludedGroup_Category\", \"PEandPPE_Subfamily\"]]\n",
    "CoscollaExcludedGenes_BED_DF[\"Chrom\"] = \"NC_000962.3\"\n",
    "CoscollaExcludedGenes_BED_DF = CoscollaExcludedGenes_BED_DF[[\"Chrom\", \"Start\", \"End\", \"H37rv_GeneID\", \"Symbol\", \"ExcludedGroup_Category\", \"PEandPPE_Subfamily\"]]\n",
    "#CoscollaExcludedGenes_BED_DF = CoscollaExcludedGenes_BED_DF.sort_values([\"Chrom\", \"Start\", \"End\"])"
   ]
  },
  {
   "cell_type": "code",
   "execution_count": 167,
   "metadata": {},
   "outputs": [
    {
     "data": {
      "text/plain": [
       "PE/PPEs                      168\n",
       "InsertionSeqs_And_Phages     147\n",
       "Coscolla Repetitive Genes     69\n",
       "Name: ExcludedGroup_Category, dtype: int64"
      ]
     },
     "execution_count": 167,
     "metadata": {},
     "output_type": "execute_result"
    }
   ],
   "source": [
    "CoscollaExcludedGenes_BED_DF[\"ExcludedGroup_Category\"].value_counts()"
   ]
  },
  {
   "cell_type": "code",
   "execution_count": null,
   "metadata": {},
   "outputs": [],
   "source": []
  },
  {
   "cell_type": "markdown",
   "metadata": {},
   "source": [
    "#### Output BED files to TSV"
   ]
  },
  {
   "cell_type": "code",
   "execution_count": 168,
   "metadata": {},
   "outputs": [
    {
     "name": "stdout",
     "output_type": "stream",
     "text": [
      "mkdir: cannot create directory ‘../../References/pLowConfideceRegions_CoscollaEtAlScheme_Files’: File exists\n"
     ]
    }
   ],
   "source": [
    "RepoRef_Dir = \"../../References\"\n",
    "pLC_ExcludedRegionsScheme_RepoRef_Dir = f\"{RepoRef_Dir}/pLowConfideceRegions_CoscollaEtAlScheme_Files\"\n",
    "\n",
    "!mkdir $pLC_ExcludedRegionsScheme_RepoRef_Dir\n",
    "\n",
    "Mtb_H37rv_pLCRegions_Coscolla_BED_PATH = f\"{pLC_ExcludedRegionsScheme_RepoRef_Dir}/201027_Mtb_H37rv_pLC_Regions_CoscollaExcludedGenes.bed\"\n",
    "\n",
    "Mtb_H37rv_pLCRegions_Coscolla_Subset_PEPPEs_BED_PATH = f\"{pLC_ExcludedRegionsScheme_RepoRef_Dir}/201027_Mtb_H37rv_pLC_Regions_CoscollaExcludedGenes.PEPPEs.bed\"\n",
    "\n",
    "Mtb_H37rv_pLCRegions_Coscolla_Subset_MGEs_BED_PATH = f\"{pLC_ExcludedRegionsScheme_RepoRef_Dir}/201027_Mtb_H37rv_pLC_Regions_CoscollaExcludedGenes.MGEs.bed\"\n",
    "\n",
    "Mtb_H37rv_pLCRegions_Coscolla_Subset_RepetitiveGenes_BED_PATH = f\"{pLC_ExcludedRegionsScheme_RepoRef_Dir}/201027_Mtb_H37rv_pLC_Regions_CoscollaExcludedGenes.RepetitiveGenes.bed\"\n",
    "\n",
    "\n",
    "\n",
    "Mtb_H37rv_pLCRegions_Only_PE_PGRS_And_PPE_MPTR_BED_PATH = f\"{pLC_ExcludedRegionsScheme_RepoRef_Dir}/201027_Mtb_H37rv_pLC_Regions_Subset_For_PE_PGRS_And_PPE_MPTR_Only_85_genes.bed\"\n",
    "\n",
    "Mtb_H37rv_pLCRegions_Coscolla_BED_MERGED_PATH = f\"{pLC_ExcludedRegionsScheme_RepoRef_Dir}/201027_Mtb_H37rv_pLC_Regions_CoscollaExcludedRegion.Merged.bed\"\n",
    "\n",
    "# Output pLC Gene Level bed file\n",
    "CoscollaExcludedGenes_BED_DF.to_csv(Mtb_H37rv_pLCRegions_Coscolla_BED_PATH, sep = \"\\t\", index = False, header = False)\n",
    "\n",
    "## A) \n",
    "!grep -e 'PE/PPEs' $Mtb_H37rv_pLCRegions_Coscolla_BED_PATH > $Mtb_H37rv_pLCRegions_Coscolla_Subset_PEPPEs_BED_PATH\n",
    "\n",
    "## B) \n",
    "!grep -e 'InsertionSeqs_And_Phages' $Mtb_H37rv_pLCRegions_Coscolla_BED_PATH > $Mtb_H37rv_pLCRegions_Coscolla_Subset_MGEs_BED_PATH\n",
    "\n",
    "## C) \n",
    "!grep -e 'Coscolla Repetitive Genes' $Mtb_H37rv_pLCRegions_Coscolla_BED_PATH > $Mtb_H37rv_pLCRegions_Coscolla_Subset_RepetitiveGenes_BED_PATH\n",
    "\n",
    "\n",
    "\n",
    "\n",
    "\n",
    "# Output pLC Region Level bed file\n",
    "!bedtools merge -i $Mtb_H37rv_pLCRegions_Coscolla_BED_PATH > $Mtb_H37rv_pLCRegions_Coscolla_BED_MERGED_PATH\n",
    "\n",
    "\n",
    "\n",
    "### Output BED file with ranges of GENEs NOT excluded by the Coscolla SCHEME\n",
    "\n",
    "RepoRef_Dir = \"../../References\"\n",
    "\n",
    "H37rv_BED_GENOME = \"/n/data1/hms/dbmi/farhat/mm774/References/GCF_000195955.2_ASM19595v2_genomic.fasta.bedtools.genome\"     \n",
    "\n",
    "Mtb_H37rv_HighConfidenceRegions_NONCoscollaRegions_BED_PATH = f\"{pLC_ExcludedRegionsScheme_RepoRef_Dir}/201027_Mtb_H37rv_HighConfidence_Regions_NONpLC_Regions.bed\"\n",
    "\n",
    "!bedtools complement -i $Mtb_H37rv_pLCRegions_Coscolla_BED_PATH -g $H37rv_BED_GENOME > $Mtb_H37rv_HighConfidenceRegions_NONCoscollaRegions_BED_PATH "
   ]
  },
  {
   "cell_type": "code",
   "execution_count": null,
   "metadata": {},
   "outputs": [],
   "source": []
  },
  {
   "cell_type": "code",
   "execution_count": 169,
   "metadata": {},
   "outputs": [],
   "source": [
    "!grep -e 'PGRS' -e 'MPTR' $Mtb_H37rv_pLCRegions_Coscolla_BED_PATH > $Mtb_H37rv_pLCRegions_Only_PE_PGRS_And_PPE_MPTR_BED_PATH"
   ]
  },
  {
   "cell_type": "code",
   "execution_count": 170,
   "metadata": {},
   "outputs": [
    {
     "name": "stdout",
     "output_type": "stream",
     "text": [
      "200630_Mtb_H37rv_HighConfidence_Regions_NONpLC_Regions.bed\n",
      "200630_Mtb_H37rv_pLC_Regions_CoscollaExcludedGenes.bed\n",
      "200630_Mtb_H37rv_pLC_Regions_CoscollaExcludedRegion.Merged.bed\n",
      "200819_Mtb_H37rv_HighConfidence_Regions_NONpLC_Regions.bed\n",
      "200819_Mtb_H37rv_pLC_Regions_CoscollaExcludedGenes.bed\n",
      "200819_Mtb_H37rv_pLC_Regions_CoscollaExcludedRegion.Merged.bed\n",
      "200819_Mtb_H37rv_pLC_Regions_Subset_For_PE_PGRS_And_PPE_MPTR_Only_85_genes.bed\n",
      "201027_Mtb_H37rv_HighConfidence_Regions_NONpLC_Regions.bed\n",
      "201027_Mtb_H37rv_pLC_Regions_CoscollaExcludedGenes.bed\n",
      "201027_Mtb_H37rv_pLC_Regions_CoscollaExcludedGenes.MGEs.bed\n",
      "201027_Mtb_H37rv_pLC_Regions_CoscollaExcludedGenes.PEPPEs.bed\n",
      "201027_Mtb_H37rv_pLC_Regions_CoscollaExcludedGenes.RepetitiveGenes.bed\n",
      "201027_Mtb_H37rv_pLC_Regions_CoscollaExcludedRegion.Merged.bed\n",
      "201027_Mtb_H37rv_pLC_Regions_Subset_For_PE_PGRS_And_PPE_MPTR_Only_85_genes.bed\n"
     ]
    }
   ],
   "source": [
    "!ls -1 $pLC_ExcludedRegionsScheme_RepoRef_Dir"
   ]
  },
  {
   "cell_type": "code",
   "execution_count": 171,
   "metadata": {},
   "outputs": [
    {
     "name": "stdout",
     "output_type": "stream",
     "text": [
      "   331 ../../References/pLowConfideceRegions_CoscollaEtAlScheme_Files/200630_Mtb_H37rv_HighConfidence_Regions_NONpLC_Regions.bed\n",
      "   384 ../../References/pLowConfideceRegions_CoscollaEtAlScheme_Files/200630_Mtb_H37rv_pLC_Regions_CoscollaExcludedGenes.bed\n",
      "   330 ../../References/pLowConfideceRegions_CoscollaEtAlScheme_Files/200630_Mtb_H37rv_pLC_Regions_CoscollaExcludedRegion.Merged.bed\n",
      "   331 ../../References/pLowConfideceRegions_CoscollaEtAlScheme_Files/200819_Mtb_H37rv_HighConfidence_Regions_NONpLC_Regions.bed\n",
      "   384 ../../References/pLowConfideceRegions_CoscollaEtAlScheme_Files/200819_Mtb_H37rv_pLC_Regions_CoscollaExcludedGenes.bed\n",
      "   330 ../../References/pLowConfideceRegions_CoscollaEtAlScheme_Files/200819_Mtb_H37rv_pLC_Regions_CoscollaExcludedRegion.Merged.bed\n",
      "    85 ../../References/pLowConfideceRegions_CoscollaEtAlScheme_Files/200819_Mtb_H37rv_pLC_Regions_Subset_For_PE_PGRS_And_PPE_MPTR_Only_85_genes.bed\n",
      "   331 ../../References/pLowConfideceRegions_CoscollaEtAlScheme_Files/201027_Mtb_H37rv_HighConfidence_Regions_NONpLC_Regions.bed\n",
      "   384 ../../References/pLowConfideceRegions_CoscollaEtAlScheme_Files/201027_Mtb_H37rv_pLC_Regions_CoscollaExcludedGenes.bed\n",
      "   147 ../../References/pLowConfideceRegions_CoscollaEtAlScheme_Files/201027_Mtb_H37rv_pLC_Regions_CoscollaExcludedGenes.MGEs.bed\n",
      "   168 ../../References/pLowConfideceRegions_CoscollaEtAlScheme_Files/201027_Mtb_H37rv_pLC_Regions_CoscollaExcludedGenes.PEPPEs.bed\n",
      "    69 ../../References/pLowConfideceRegions_CoscollaEtAlScheme_Files/201027_Mtb_H37rv_pLC_Regions_CoscollaExcludedGenes.RepetitiveGenes.bed\n",
      "   330 ../../References/pLowConfideceRegions_CoscollaEtAlScheme_Files/201027_Mtb_H37rv_pLC_Regions_CoscollaExcludedRegion.Merged.bed\n",
      "    85 ../../References/pLowConfideceRegions_CoscollaEtAlScheme_Files/201027_Mtb_H37rv_pLC_Regions_Subset_For_PE_PGRS_And_PPE_MPTR_Only_85_genes.bed\n",
      "  3689 total\n"
     ]
    }
   ],
   "source": [
    "!wc -l $pLC_ExcludedRegionsScheme_RepoRef_Dir/*"
   ]
  },
  {
   "cell_type": "markdown",
   "metadata": {},
   "source": [
    "#### Let's check that the union of the two feature sets (and make sure it makes up all of H37rv)"
   ]
  },
  {
   "cell_type": "code",
   "execution_count": 172,
   "metadata": {},
   "outputs": [
    {
     "name": "stdout",
     "output_type": "stream",
     "text": [
      "NC_000962.3\t0\t4411532\n"
     ]
    }
   ],
   "source": [
    "# Let's check that the union of the two feature sets (and make sure it makes up all of H37rv)\n",
    "!cat $Mtb_H37rv_pLCRegions_Coscolla_BED_PATH $Mtb_H37rv_HighConfidenceRegions_NONCoscollaRegions_BED_PATH | cut -f 1,2,3 | sort -k 1,1 -k2,2n | bedtools merge     "
   ]
  },
  {
   "cell_type": "code",
   "execution_count": 173,
   "metadata": {},
   "outputs": [
    {
     "name": "stdout",
     "output_type": "stream",
     "text": [
      "NC_000962.3\t4411532\n"
     ]
    }
   ],
   "source": [
    "!head $H37rv_BED_GENOME"
   ]
  },
  {
   "cell_type": "code",
   "execution_count": null,
   "metadata": {},
   "outputs": [],
   "source": []
  },
  {
   "cell_type": "code",
   "execution_count": null,
   "metadata": {},
   "outputs": [],
   "source": []
  },
  {
   "cell_type": "code",
   "execution_count": 174,
   "metadata": {},
   "outputs": [
    {
     "data": {
      "text/plain": [
       "PE/PPEs                      168\n",
       "InsertionSeqs_And_Phages     147\n",
       "Coscolla Repetitive Genes     69\n",
       "Name: ExcludedGroup_Category, dtype: int64"
      ]
     },
     "execution_count": 174,
     "metadata": {},
     "output_type": "execute_result"
    }
   ],
   "source": [
    "CoscollaExcludedGenes_BED_DF[\"ExcludedGroup_Category\"].value_counts()"
   ]
  },
  {
   "cell_type": "code",
   "execution_count": 178,
   "metadata": {},
   "outputs": [
    {
     "name": "stdout",
     "output_type": "stream",
     "text": [
      "168 ../../References/pLowConfideceRegions_CoscollaEtAlScheme_Files/201027_Mtb_H37rv_pLC_Regions_CoscollaExcludedGenes.PEPPEs.bed\n"
     ]
    }
   ],
   "source": [
    "!wc -l $Mtb_H37rv_pLCRegions_Coscolla_Subset_PEPPEs_BED_PATH"
   ]
  },
  {
   "cell_type": "code",
   "execution_count": 179,
   "metadata": {},
   "outputs": [
    {
     "name": "stdout",
     "output_type": "stream",
     "text": [
      "147 ../../References/pLowConfideceRegions_CoscollaEtAlScheme_Files/201027_Mtb_H37rv_pLC_Regions_CoscollaExcludedGenes.MGEs.bed\n"
     ]
    }
   ],
   "source": [
    "!wc -l $Mtb_H37rv_pLCRegions_Coscolla_Subset_MGEs_BED_PATH"
   ]
  },
  {
   "cell_type": "code",
   "execution_count": 180,
   "metadata": {},
   "outputs": [
    {
     "name": "stdout",
     "output_type": "stream",
     "text": [
      "69 ../../References/pLowConfideceRegions_CoscollaEtAlScheme_Files/201027_Mtb_H37rv_pLC_Regions_CoscollaExcludedGenes.RepetitiveGenes.bed\n"
     ]
    }
   ],
   "source": [
    "!wc -l $Mtb_H37rv_pLCRegions_Coscolla_Subset_RepetitiveGenes_BED_PATH"
   ]
  },
  {
   "cell_type": "code",
   "execution_count": null,
   "metadata": {},
   "outputs": [],
   "source": []
  },
  {
   "cell_type": "code",
   "execution_count": null,
   "metadata": {},
   "outputs": [],
   "source": []
  },
  {
   "cell_type": "code",
   "execution_count": 86,
   "metadata": {},
   "outputs": [
    {
     "data": {
      "text/plain": [
       "(331, 4)"
      ]
     },
     "execution_count": 86,
     "metadata": {},
     "output_type": "execute_result"
    }
   ],
   "source": [
    "HighConfidenceRegions_BED_DF = pd.read_csv(Mtb_H37rv_HighConfidenceRegions_NONCoscollaRegions_BED_PATH, sep = \"\\t\", header = None)\n",
    "HighConfidenceRegions_BED_DF.columns = [\"Chrom\", \"Start\", \"End\"]\n",
    "HighConfidenceRegions_BED_DF[\"Length\"] = HighConfidenceRegions_BED_DF[\"End\"] - HighConfidenceRegions_BED_DF[\"Start\"]\n",
    "HighConfidenceRegions_BED_DF.shape"
   ]
  },
  {
   "cell_type": "code",
   "execution_count": 87,
   "metadata": {},
   "outputs": [
    {
     "data": {
      "text/plain": [
       "(330, 4)"
      ]
     },
     "execution_count": 87,
     "metadata": {},
     "output_type": "execute_result"
    }
   ],
   "source": [
    "LowConfidenceRegions_BED_DF = pd.read_csv(Mtb_H37rv_pLCRegions_Coscolla_BED_MERGED_PATH, sep = \"\\t\", header = None)\n",
    "LowConfidenceRegions_BED_DF.columns = [\"Chrom\", \"Start\", \"End\"]\n",
    "LowConfidenceRegions_BED_DF[\"Length\"] = LowConfidenceRegions_BED_DF[\"End\"] - LowConfidenceRegions_BED_DF[\"Start\"]\n",
    "LowConfidenceRegions_BED_DF.shape"
   ]
  },
  {
   "cell_type": "code",
   "execution_count": 88,
   "metadata": {},
   "outputs": [
    {
     "data": {
      "text/plain": [
       "469501"
      ]
     },
     "execution_count": 88,
     "metadata": {},
     "output_type": "execute_result"
    }
   ],
   "source": [
    "LowConfidenceRegions_BED_DF[\"Length\"].sum()"
   ]
  },
  {
   "cell_type": "code",
   "execution_count": 89,
   "metadata": {},
   "outputs": [
    {
     "data": {
      "text/plain": [
       "3942031"
      ]
     },
     "execution_count": 89,
     "metadata": {},
     "output_type": "execute_result"
    }
   ],
   "source": [
    "HighConfidenceRegions_BED_DF[\"Length\"].sum()"
   ]
  },
  {
   "cell_type": "code",
   "execution_count": 90,
   "metadata": {},
   "outputs": [
    {
     "data": {
      "text/plain": [
       "4411532"
      ]
     },
     "execution_count": 90,
     "metadata": {},
     "output_type": "execute_result"
    }
   ],
   "source": [
    "HighConfidenceRegions_BED_DF[\"Length\"].sum() + LowConfidenceRegions_BED_DF[\"Length\"].sum()"
   ]
  },
  {
   "cell_type": "code",
   "execution_count": null,
   "metadata": {},
   "outputs": [],
   "source": []
  },
  {
   "cell_type": "markdown",
   "metadata": {},
   "source": [
    "### What % of the genome is excluded in the Coscolla gene filtering scheme?\n",
    "\n",
    "Answer: 10.6% of the H37rv reference genome is systematically excluded from a majority of analyses"
   ]
  },
  {
   "cell_type": "code",
   "execution_count": 91,
   "metadata": {},
   "outputs": [
    {
     "data": {
      "text/plain": [
       "469501"
      ]
     },
     "execution_count": 91,
     "metadata": {},
     "output_type": "execute_result"
    }
   ],
   "source": [
    "LowConfidenceRegions_BED_DF[\"Length\"].sum()"
   ]
  },
  {
   "cell_type": "code",
   "execution_count": 92,
   "metadata": {},
   "outputs": [
    {
     "data": {
      "text/plain": [
       "0.10642584027498837"
      ]
     },
     "execution_count": 92,
     "metadata": {},
     "output_type": "execute_result"
    }
   ],
   "source": [
    "LowConfidenceRegions_BED_DF[\"Length\"].sum() / 4411532"
   ]
  },
  {
   "cell_type": "code",
   "execution_count": null,
   "metadata": {},
   "outputs": [],
   "source": []
  },
  {
   "cell_type": "code",
   "execution_count": 93,
   "metadata": {},
   "outputs": [
    {
     "name": "stdout",
     "output_type": "stream",
     "text": [
      "NC_000962.3\t33581\t33794\tRv0031\tRv0031\tInsertionSeqs_And_Phages\tNone\n",
      "NC_000962.3\t103709\t104663\tRv0094c\tRv0094c\tInsertionSeqs_And_Phages\tNone\n",
      "NC_000962.3\t104804\t105215\tRv0095c\tRv0095c\tInsertionSeqs_And_Phages\tNone\n",
      "NC_000962.3\t105323\t106715\tRv0096\tPPE1\tPE/PPEs\tPPE_SL-2_PPE-PPW\n",
      "NC_000962.3\t131381\t132872\tRv0109\tPE_PGRS1\tPE/PPEs\tPE_V_PGRS\n",
      "NC_000962.3\t149532\t150996\tRv0124\tPE_PGRS2\tPE/PPEs\tPE_V_PGRS\n",
      "NC_000962.3\t177542\t179309\tRv0151c\tPE1\tPE/PPEs\tPE_V_\n",
      "NC_000962.3\t179318\t180896\tRv0152c\tPE2\tPE/PPEs\tPE_V_\n",
      "NC_000962.3\t187432\t188839\tRv0159c\tPE3\tPE/PPEs\tPE_V_\n",
      "NC_000962.3\t188930\t190439\tRv0160c\tPE4\tPE/PPEs\tPE_V_\n"
     ]
    }
   ],
   "source": [
    "!head $Mtb_H37rv_pLCRegions_Coscolla_BED_PATH"
   ]
  },
  {
   "cell_type": "code",
   "execution_count": 94,
   "metadata": {},
   "outputs": [
    {
     "name": "stdout",
     "output_type": "stream",
     "text": [
      "65\n"
     ]
    }
   ],
   "source": [
    "!grep 'PGRS' $Mtb_H37rv_pLCRegions_Coscolla_BED_PATH | wc -l "
   ]
  },
  {
   "cell_type": "code",
   "execution_count": 95,
   "metadata": {},
   "outputs": [
    {
     "name": "stdout",
     "output_type": "stream",
     "text": [
      "20\n"
     ]
    }
   ],
   "source": [
    "!grep 'MPTR' $Mtb_H37rv_pLCRegions_Coscolla_BED_PATH | wc -l "
   ]
  },
  {
   "cell_type": "code",
   "execution_count": 96,
   "metadata": {},
   "outputs": [
    {
     "name": "stdout",
     "output_type": "stream",
     "text": [
      "85\n"
     ]
    }
   ],
   "source": [
    "!grep -e 'PGRS' -e 'MPTR' $Mtb_H37rv_pLCRegions_Coscolla_BED_PATH | wc -l "
   ]
  },
  {
   "cell_type": "code",
   "execution_count": null,
   "metadata": {},
   "outputs": [],
   "source": []
  },
  {
   "cell_type": "code",
   "execution_count": 97,
   "metadata": {},
   "outputs": [
    {
     "name": "stdout",
     "output_type": "stream",
     "text": [
      "NC_000962.3\t131381\t132872\tRv0109\tPE_PGRS1\tPE/PPEs\tPE_V_PGRS\n",
      "NC_000962.3\t149532\t150996\tRv0124\tPE_PGRS2\tPE/PPEs\tPE_V_PGRS\n",
      "NC_000962.3\t333436\t336310\tRv0278c\tPE_PGRS3\tPE/PPEs\tPE_V_PGRS\n",
      "NC_000962.3\t336559\t339073\tRv0279c\tPE_PGRS4\tPE/PPEs\tPE_V_PGRS\n",
      "NC_000962.3\t361333\t363109\tRv0297\tPE_PGRS5\tPE/PPEs\tPE_V_PGRS\n",
      "NC_000962.3\t622792\t624577\tRv0532\tPE_PGRS6\tPE/PPEs\tPE_V_PGRS\n",
      "NC_000962.3\t671995\t675916\tRv0578c\tPE_PGRS7\tPE/PPEs\tPE_V_PGRS\n",
      "NC_000962.3\t832980\t833508\tRv0742\tPE_PGRS8\tPE/PPEs\tPE_V_PGRS\n",
      "NC_000962.3\t835700\t838052\tRv0746\tPE_PGRS9\tPE/PPEs\tPE_V_PGRS\n",
      "NC_000962.3\t838450\t840856\tRv0747\tPE_PGRS10\tPE/PPEs\tPE_V_PGRS\n",
      "NC_000962.3\t846158\t847913\tRv0754\tPE_PGRS11\tPE/PPEs\tPE_V_PGRS\n",
      "NC_000962.3\t924950\t925364\tRv0832\tPE_PGRS12\tPE/PPEs\tPE_V_PGRS\n",
      "NC_000962.3\t925360\t927610\tRv0833\tPE_PGRS13\tPE/PPEs\tPE_V_PGRS\n",
      "NC_000962.3\t927836\t930485\tRv0834c\tPE_PGRS14\tPE/PPEs\tPE_V_PGRS\n",
      "NC_000962.3\t968423\t970244\tRv0872c\tPE_PGRS15\tPE/PPEs\tPE_V_PGRS\n",
      "NC_000962.3\t1090372\t1093144\tRv0977\tPE_PGRS16\tPE/PPEs\tPE_V_PGRS\n",
      "NC_000962.3\t1093360\t1094356\tRv0978c\tPE_PGRS17\tPE/PPEs\tPE_V_PGRS\n",
      "NC_000962.3\t1095077\t1096451\tRv0980c\tPE_PGRS18\tPE/PPEs\tPE_V_PGRS\n",
      "NC_000962.3\t1188420\t1190424\tRv1067c\tPE_PGRS19\tPE/PPEs\tPE_V_PGRS\n",
      "NC_000962.3\t1190756\t1192148\tRv1068c\tPE_PGRS20\tPE/PPEs\tPE_V_PGRS\n",
      "NC_000962.3\t1211559\t1213863\tRv1087\tPE_PGRS21\tPE/PPEs\tPE_V_PGRS\n",
      "NC_000962.3\t1216468\t1219030\tRv1091\tPE_PGRS22\tPE/PPEs\tPE_V_PGRS\n",
      "NC_000962.3\t1384988\t1386677\tRv1243c\tPE_PGRS23\tPE/PPEs\tPE_V_PGRS\n",
      "NC_000962.3\t1488153\t1489965\tRv1325c\tPE_PGRS24\tPE/PPEs\tPE_V_PGRS\n",
      "NC_000962.3\t1572126\t1573857\tRv1396c\tPE_PGRS25\tPE/PPEs\tPE_V_PGRS\n",
      "NC_000962.3\t1618208\t1619684\tRv1441c\tPE_PGRS26\tPE/PPEs\tPE_V_PGRS\n",
      "NC_000962.3\t1630637\t1634627\tRv1450c\tPE_PGRS27\tPE/PPEs\tPE_V_PGRS\n",
      "NC_000962.3\t1636003\t1638229\tRv1452c\tPE_PGRS28\tPE/PPEs\tPE_V_PGRS\n",
      "NC_000962.3\t1655608\t1656721\tRv1468c\tPE_PGRS29\tPE/PPEs\tPE_V_PGRS\n",
      "NC_000962.3\t1862346\t1865382\tRv1651c\tPE_PGRS30\tPE/PPEs\tPE_V_PGRS\n",
      "NC_000962.3\t1989832\t1992577\tRv1759c\twag22\tPE/PPEs\tPE_V_PGRS\n",
      "NC_000962.3\t2000613\t2002470\tRv1768\tPE_PGRS31\tPE/PPEs\tPE_V_PGRS\n",
      "NC_000962.3\t2044922\t2046842\tRv1803c\tPE_PGRS32\tPE/PPEs\tPE_V_PGRS\n",
      "NC_000962.3\t2061177\t2062674\tRv1818c\tPE_PGRS33\tPE/PPEs\tPE_V_PGRS\n",
      "NC_000962.3\t2087970\t2089518\tRv1840c\tPE_PGRS34\tPE/PPEs\tPE_V_PGRS\n",
      "NC_000962.3\t2226243\t2227920\tRv1983\tPE_PGRS35\tPE/PPEs\tPE_V_PGRS\n",
      "NC_000962.3\t2356728\t2358033\tRv2098c\tPE_PGRS36\tPE/PPEs\tNone\n",
      "NC_000962.3\t2358032\t2358206\tRv2099c\tPE21\tPE/PPEs\tPE_V_PGRS\n",
      "NC_000962.3\t2387201\t2387972\tRv2126c\tPE_PGRS37\tPE/PPEs\tNone\n",
      "NC_000962.3\t2423239\t2424838\tRv2162c\tPE_PGRS38\tPE/PPEs\tPE_V_PGRS\n",
      "NC_000962.3\t2617666\t2618908\tRv2340c\tPE_PGRS39\tPE/PPEs\tPE_V_PGRS\n",
      "NC_000962.3\t2651752\t2651938\tRv2371\tPE_PGRS40\tPE/PPEs\tPE_V_\n",
      "NC_000962.3\t2692798\t2693884\tRv2396\tPE_PGRS41\tPE/PPEs\tPE_V_PGRS\n",
      "NC_000962.3\t2795300\t2797385\tRv2487c\tPE_PGRS42\tPE/PPEs\tPE_V_PGRS\n",
      "NC_000962.3\t2801253\t2806236\tRv2490c\tPE_PGRS43\tPE/PPEs\tPE_V_PGRS\n",
      "NC_000962.3\t2835784\t2837263\tRv2519\tPE26\tPE/PPEs\tPE_V_PGRS\n",
      "NC_000962.3\t2921550\t2923182\tRv2591\tPE_PGRS44\tPE/PPEs\tPE_V_PGRS\n",
      "NC_000962.3\t2943599\t2944985\tRv2615c\tPE_PGRS45\tPE/PPEs\tPE_V_PGRS\n",
      "NC_000962.3\t2960104\t2962441\tRv2634c\tPE_PGRS46\tPE/PPEs\tPE_V_PGRS\n",
      "NC_000962.3\t3053913\t3055491\tRv2741\tPE_PGRS47\tPE/PPEs\tPE_V_PGRS\n",
      "NC_000962.3\t3162267\t3164115\tRv2853\tPE_PGRS48\tPE/PPEs\tPE_V_PGRS\n",
      "NC_000962.3\t3736983\t3738438\tRv3344c\tPE_PGRS49\tPE/PPEs\tNone\n",
      "NC_000962.3\t3738157\t3742774\tRv3345c\tPE_PGRS50\tPE/PPEs\tNone\n",
      "NC_000962.3\t3778567\t3780334\tRv3367\tPE_PGRS51\tPE/PPEs\tPE_V_PGRS\n",
      "NC_000962.3\t3801652\t3803848\tRv3388\tPE_PGRS52\tPE/PPEs\tPE_V_PGRS\n",
      "NC_000962.3\t3926568\t3930714\tRv3507\tPE_PGRS53\tPE/PPEs\tPE_V_PGRS\n",
      "NC_000962.3\t3931004\t3936710\tRv3508\tPE_PGRS54\tPE/PPEs\tPE_V_PGRS\n",
      "NC_000962.3\t3939616\t3941761\tRv3511\tPE_PGRS55\tPE/PPEs\tPE_V_PGRS\n",
      "NC_000962.3\t3941723\t3944963\tRv3512\tPE_PGRS56\tPE/PPEs\tPE_V_PGRS\n",
      "NC_000962.3\t3945793\t3950263\tRv3514\tPE_PGRS57\tPE/PPEs\tPE_V_PGRS\n",
      "NC_000962.3\t4031403\t4033158\tRv3590c\tPE_PGRS58\tPE/PPEs\tPE_V_PGRS\n",
      "NC_000962.3\t4036730\t4038050\tRv3595c\tPE_PGRS59\tPE/PPEs\tPE_V_PGRS\n",
      "NC_000962.3\t4093631\t4093946\tRv3652\tPE_PGRS60\tPE/PPEs\tPE_V_PGRS\n",
      "NC_000962.3\t4093939\t4094527\tRv3653\tPE_PGRS61\tPE/PPEs\tPE_V_PGRS\n",
      "NC_000962.3\t4276570\t4278085\tRv3812\tPE_PGRS62\tPE/PPEs\tPE_V_PGRS\n"
     ]
    }
   ],
   "source": [
    "!grep PGRS $Mtb_H37rv_pLCRegions_Coscolla_BED_PATH"
   ]
  },
  {
   "cell_type": "code",
   "execution_count": null,
   "metadata": {},
   "outputs": [],
   "source": []
  },
  {
   "cell_type": "code",
   "execution_count": null,
   "metadata": {},
   "outputs": [],
   "source": []
  },
  {
   "cell_type": "code",
   "execution_count": 98,
   "metadata": {},
   "outputs": [
    {
     "name": "stdout",
     "output_type": "stream",
     "text": [
      "200630_Mtb_H37rv_HighConfidence_Regions_NONpLC_Regions.bed\n",
      "200630_Mtb_H37rv_pLC_Regions_CoscollaExcludedGenes.bed\n",
      "200630_Mtb_H37rv_pLC_Regions_CoscollaExcludedRegion.Merged.bed\n",
      "200819_Mtb_H37rv_HighConfidence_Regions_NONpLC_Regions.bed\n",
      "200819_Mtb_H37rv_pLC_Regions_CoscollaExcludedGenes.bed\n",
      "200819_Mtb_H37rv_pLC_Regions_CoscollaExcludedRegion.Merged.bed\n",
      "200819_Mtb_H37rv_pLC_Regions_Subset_For_PE_PGRS_And_PPE_MPTR_Only_85_genes.bed\n",
      "201027_Mtb_H37rv_HighConfidence_Regions_NONpLC_Regions.bed\n",
      "201027_Mtb_H37rv_pLC_Regions_CoscollaExcludedGenes.bed\n",
      "201027_Mtb_H37rv_pLC_Regions_CoscollaExcludedRegion.Merged.bed\n",
      "201027_Mtb_H37rv_pLC_Regions_Subset_For_PE_PGRS_And_PPE_MPTR_Only_85_genes.bed\n"
     ]
    }
   ],
   "source": [
    "!ls -1 $pLC_ExcludedRegionsScheme_RepoRef_Dir"
   ]
  },
  {
   "cell_type": "code",
   "execution_count": 99,
   "metadata": {},
   "outputs": [
    {
     "name": "stdout",
     "output_type": "stream",
     "text": [
      "   331 ../../References/pLowConfideceRegions_CoscollaEtAlScheme_Files/200630_Mtb_H37rv_HighConfidence_Regions_NONpLC_Regions.bed\n",
      "   384 ../../References/pLowConfideceRegions_CoscollaEtAlScheme_Files/200630_Mtb_H37rv_pLC_Regions_CoscollaExcludedGenes.bed\n",
      "   330 ../../References/pLowConfideceRegions_CoscollaEtAlScheme_Files/200630_Mtb_H37rv_pLC_Regions_CoscollaExcludedRegion.Merged.bed\n",
      "   331 ../../References/pLowConfideceRegions_CoscollaEtAlScheme_Files/200819_Mtb_H37rv_HighConfidence_Regions_NONpLC_Regions.bed\n",
      "   384 ../../References/pLowConfideceRegions_CoscollaEtAlScheme_Files/200819_Mtb_H37rv_pLC_Regions_CoscollaExcludedGenes.bed\n",
      "   330 ../../References/pLowConfideceRegions_CoscollaEtAlScheme_Files/200819_Mtb_H37rv_pLC_Regions_CoscollaExcludedRegion.Merged.bed\n",
      "    85 ../../References/pLowConfideceRegions_CoscollaEtAlScheme_Files/200819_Mtb_H37rv_pLC_Regions_Subset_For_PE_PGRS_And_PPE_MPTR_Only_85_genes.bed\n",
      "   331 ../../References/pLowConfideceRegions_CoscollaEtAlScheme_Files/201027_Mtb_H37rv_HighConfidence_Regions_NONpLC_Regions.bed\n",
      "   384 ../../References/pLowConfideceRegions_CoscollaEtAlScheme_Files/201027_Mtb_H37rv_pLC_Regions_CoscollaExcludedGenes.bed\n",
      "   330 ../../References/pLowConfideceRegions_CoscollaEtAlScheme_Files/201027_Mtb_H37rv_pLC_Regions_CoscollaExcludedRegion.Merged.bed\n",
      "    85 ../../References/pLowConfideceRegions_CoscollaEtAlScheme_Files/201027_Mtb_H37rv_pLC_Regions_Subset_For_PE_PGRS_And_PPE_MPTR_Only_85_genes.bed\n",
      "  3305 total\n"
     ]
    }
   ],
   "source": [
    "!wc -l $pLC_ExcludedRegionsScheme_RepoRef_Dir/*"
   ]
  },
  {
   "cell_type": "code",
   "execution_count": null,
   "metadata": {},
   "outputs": [],
   "source": []
  },
  {
   "cell_type": "code",
   "execution_count": null,
   "metadata": {},
   "outputs": [],
   "source": []
  },
  {
   "cell_type": "code",
   "execution_count": null,
   "metadata": {},
   "outputs": [],
   "source": []
  },
  {
   "cell_type": "code",
   "execution_count": null,
   "metadata": {},
   "outputs": [],
   "source": []
  },
  {
   "cell_type": "code",
   "execution_count": null,
   "metadata": {},
   "outputs": [],
   "source": []
  },
  {
   "cell_type": "code",
   "execution_count": null,
   "metadata": {},
   "outputs": [],
   "source": []
  },
  {
   "cell_type": "code",
   "execution_count": null,
   "metadata": {},
   "outputs": [],
   "source": []
  }
 ],
 "metadata": {
  "kernelspec": {
   "display_name": "py37_S",
   "language": "python",
   "name": "py37_s"
  },
  "language_info": {
   "codemirror_mode": {
    "name": "ipython",
    "version": 3
   },
   "file_extension": ".py",
   "mimetype": "text/x-python",
   "name": "python",
   "nbconvert_exporter": "python",
   "pygments_lexer": "ipython3",
   "version": "3.7.3"
  }
 },
 "nbformat": 4,
 "nbformat_minor": 4
}
