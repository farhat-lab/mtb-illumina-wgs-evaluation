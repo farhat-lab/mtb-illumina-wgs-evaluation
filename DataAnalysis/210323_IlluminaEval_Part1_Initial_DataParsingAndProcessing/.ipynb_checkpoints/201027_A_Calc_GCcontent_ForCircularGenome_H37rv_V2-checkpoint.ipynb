{
 "cells": [
  {
   "cell_type": "markdown",
   "metadata": {},
   "source": [
    "# Calculating GC content across the H37rv reference genome\n",
    "\n",
    "### Maximillian Marin\n",
    "### mgmarin@g.harvard.edu\n",
    "\n",
    "GOAL: To calculate the GC content using a sliding window across H37rv\n"
   ]
  },
  {
   "cell_type": "code",
   "execution_count": 1,
   "metadata": {},
   "outputs": [],
   "source": [
    "import numpy as np\n",
    "import pandas as pd\n",
    "import vcf\n",
    "from tqdm import tqdm\n",
    "import matplotlib.pyplot as plt\n",
    "import seaborn as sns\n",
    "import pickle\n",
    "\n",
    "%matplotlib inline"
   ]
  },
  {
   "cell_type": "code",
   "execution_count": 2,
   "metadata": {},
   "outputs": [],
   "source": [
    "from Bio import SeqIO"
   ]
  },
  {
   "cell_type": "markdown",
   "metadata": {},
   "source": [
    "#### Pandas Viewing Settings"
   ]
  },
  {
   "cell_type": "code",
   "execution_count": 3,
   "metadata": {},
   "outputs": [],
   "source": [
    "pd.set_option('display.max_rows', 500)\n",
    "pd.set_option('display.max_columns', 500)\n",
    "pd.set_option('display.width', 1000)"
   ]
  },
  {
   "cell_type": "markdown",
   "metadata": {},
   "source": [
    "## Parse the H37rv Genbank (GBK) file with BioPython\n",
    "H37rv genome is stored as a SeqIO record"
   ]
  },
  {
   "cell_type": "code",
   "execution_count": 4,
   "metadata": {},
   "outputs": [],
   "source": [
    "Mtb_RefDir=\"/n/data1/hms/dbmi/farhat/mm774/References\"\n",
    "H37rv_Ref_GBK_PATH = f\"{Mtb_RefDir}/GCF_000195955.2_ASM19595v2_genomic.gbk\""
   ]
  },
  {
   "cell_type": "code",
   "execution_count": 5,
   "metadata": {},
   "outputs": [
    {
     "data": {
      "text/plain": [
       "1"
      ]
     },
     "execution_count": 5,
     "metadata": {},
     "output_type": "execute_result"
    }
   ],
   "source": [
    "records = list(SeqIO.parse(H37rv_Ref_GBK_PATH, \"genbank\"))\n",
    "\n",
    "len(records)"
   ]
  },
  {
   "cell_type": "code",
   "execution_count": 6,
   "metadata": {},
   "outputs": [
    {
     "name": "stdout",
     "output_type": "stream",
     "text": [
      "4411532\n"
     ]
    }
   ],
   "source": [
    "Mtb_H37rv_SeqIO_Record = records[0]\n",
    "\n",
    "# Convert sequence of SeqIO record to just a normal string\n",
    "Mtb_H37rv_Sequence = str( Mtb_H37rv_SeqIO_Record.seq )\n",
    "\n",
    "print( len(Mtb_H37rv_Sequence) )"
   ]
  },
  {
   "cell_type": "code",
   "execution_count": null,
   "metadata": {},
   "outputs": [],
   "source": []
  },
  {
   "cell_type": "markdown",
   "metadata": {},
   "source": [
    "### Define function for calculating GC content with a sliding window across a circular chromosome"
   ]
  },
  {
   "cell_type": "code",
   "execution_count": 7,
   "metadata": {},
   "outputs": [],
   "source": [
    "def calc_GCcontent_SlidingWindow (input_Seq, window_size):\n",
    "\n",
    "    halfOf_WindowSize = window_size/2\n",
    "\n",
    "    print(\"Half of window size:\", halfOf_WindowSize)\n",
    "    \n",
    "    calc_gc_content = lambda s: 100.0 * len([c for c in s if c in \"GC\"]) / len(s)\n",
    "\n",
    "    GC_yy = []\n",
    "\n",
    "    for i in  tqdm(  np.arange(0, len(input_Seq) - window_size, dtype=int) ):\n",
    "        finalSeq = input_Seq[i:i + window_size]\n",
    "        GC_yy.append(  calc_gc_content(finalSeq) )\n",
    "\n",
    "\n",
    "    GC_yy_FRONT_Circ = []\n",
    "\n",
    "    for i in  np.arange(-halfOf_WindowSize, 0 , dtype=int):\n",
    "        finalSeq = input_Seq[i:] + input_Seq[: window_size + i] # backSeq_IDX = window_size + i\n",
    "\n",
    "        GC_yy_FRONT_Circ.append(  calc_gc_content(finalSeq) )\n",
    "\n",
    "    GC_yy_BACK_Circ = []\n",
    "\n",
    "    for i in  np.arange( -window_size, -halfOf_WindowSize, dtype=int):    \n",
    "        finalSeq = input_Seq[i:] + input_Seq[: window_size + i] # backSeq_IDX = window_size + i\n",
    "        GC_yy_BACK_Circ.append(  calc_gc_content(finalSeq) )\n",
    "\n",
    "    GC_yy_FINAL = GC_yy_FRONT_Circ + GC_yy + GC_yy_BACK_Circ\n",
    "    \n",
    "    return np.array(GC_yy_FINAL)"
   ]
  },
  {
   "cell_type": "code",
   "execution_count": null,
   "metadata": {},
   "outputs": [],
   "source": []
  },
  {
   "cell_type": "markdown",
   "metadata": {},
   "source": [
    "## Define function for output of a BED file from a NP array with values for each basepair position"
   ]
  },
  {
   "cell_type": "code",
   "execution_count": 8,
   "metadata": {},
   "outputs": [],
   "source": [
    "# BED format specifications: https://useast.ensembl.org/info/website/upload/bed.html\n",
    "\n",
    "def convert_GenomeNParray_To_BED_DF(input_GenomeNParray, genomeChrom = \"NC_000962.3\"):\n",
    "    \"\"\" \"\"\"\n",
    "    last_Score = input_GenomeNParray[0]\n",
    "\n",
    "    startOfRegion = 0\n",
    "    listOfBED_Tuples = []\n",
    "    RegionCounter = 1\n",
    "\n",
    "    for RefPos_0based in (np.arange(len(input_GenomeNParray))):\n",
    "\n",
    "        EBR_Score = input_GenomeNParray[RefPos_0based]\n",
    "\n",
    "        if EBR_Score != last_Score:\n",
    "\n",
    "            endOfRegion = RefPos_0based\n",
    "            lengthOfRegion = endOfRegion - startOfRegion \n",
    "\n",
    "            BED_EntryTuple = (genomeChrom, startOfRegion, endOfRegion, f\"Region{RegionCounter}_Length_{lengthOfRegion}_bp\", last_Score,)\n",
    "            listOfBED_Tuples.append(BED_EntryTuple)\n",
    "\n",
    "            RegionCounter += 1\n",
    "\n",
    "            #print(f\"{H37rv_ChrName}, {startOfRegion}, {RefPos_0based}, {lengthOfRegion}_bp, {last_Score}, .\")\n",
    "\n",
    "            startOfRegion = RefPos_0based \n",
    "\n",
    "            #1 Output the last range\n",
    "            #2 Store the new score    \n",
    "\n",
    "        last_Score = EBR_Score #2 Store the new score   \n",
    "\n",
    "        \n",
    "        \n",
    "    endOfRegion = RefPos_0based + 1\n",
    "    lengthOfRegion = endOfRegion - startOfRegion \n",
    "\n",
    "    BED_EntryTuple = (genomeChrom, startOfRegion, endOfRegion, f\"Region{RegionCounter}_Length_{lengthOfRegion}_bp\", last_Score)\n",
    "    listOfBED_Tuples.append(BED_EntryTuple)       \n",
    "\n",
    "    BED_DF = pd.DataFrame(listOfBED_Tuples)\n",
    "    \n",
    "    BED_DF.columns = [\"chrom\", \"chromStart\", \"chromEnd\", \"name\", \"score\" ]\n",
    "    \n",
    "    \n",
    "    return BED_DF"
   ]
  },
  {
   "cell_type": "code",
   "execution_count": 9,
   "metadata": {},
   "outputs": [],
   "source": [
    "def convert_EBR_Array_To_TSV(input_EBR_Array, EBR_Output_TSV_PATH):\n",
    "    \n",
    "    input_EBR_TSV_DF = pd.DataFrame(input_EBR_Array)\n",
    "\n",
    "    input_EBR_TSV_DF.columns = [\"EmpiricalBasePairRecall\"]\n",
    "    input_EBR_TSV_DF[\"H37rv_RefPos_0based\"] = input_EBR_TSV_DF.index\n",
    "    input_EBR_TSV_DF[\"H37rv_RefPos_1based\"] = input_EBR_TSV_DF[\"H37rv_RefPos_0based\"] + 1\n",
    "\n",
    "    input_EBR_TSV_DF = input_EBR_TSV_DF[[\"H37rv_RefPos_0based\", \"H37rv_RefPos_1based\", \"EmpiricalBasePairRecall\"]  ]     \n",
    "\n",
    "    input_EBR_TSV_DF.to_csv(EBR_Output_TSV_PATH, sep = \"\\t\", index = False)\n",
    "    \n",
    "    print(\"TSV output to:\", EBR_Output_TSV_PATH)\n",
    "    \n",
    "    return input_EBR_TSV_DF"
   ]
  },
  {
   "cell_type": "code",
   "execution_count": null,
   "metadata": {},
   "outputs": [],
   "source": []
  },
  {
   "cell_type": "code",
   "execution_count": null,
   "metadata": {},
   "outputs": [],
   "source": []
  },
  {
   "cell_type": "code",
   "execution_count": null,
   "metadata": {},
   "outputs": [],
   "source": []
  },
  {
   "cell_type": "code",
   "execution_count": null,
   "metadata": {},
   "outputs": [],
   "source": []
  },
  {
   "cell_type": "code",
   "execution_count": null,
   "metadata": {},
   "outputs": [],
   "source": []
  },
  {
   "cell_type": "code",
   "execution_count": null,
   "metadata": {},
   "outputs": [],
   "source": []
  },
  {
   "cell_type": "code",
   "execution_count": null,
   "metadata": {},
   "outputs": [],
   "source": []
  },
  {
   "cell_type": "markdown",
   "metadata": {},
   "source": [
    "# A) Calculate GC content across H37rv with varying window sizes"
   ]
  },
  {
   "cell_type": "code",
   "execution_count": 10,
   "metadata": {},
   "outputs": [
    {
     "name": "stderr",
     "output_type": "stream",
     "text": [
      "  0%|          | 0/4411522 [00:00<?, ?it/s]"
     ]
    },
    {
     "name": "stdout",
     "output_type": "stream",
     "text": [
      "Half of window size: 5.0\n"
     ]
    },
    {
     "name": "stderr",
     "output_type": "stream",
     "text": [
      "100%|██████████| 4411522/4411522 [00:08<00:00, 505740.15it/s]\n",
      "  1%|          | 26032/4411482 [00:00<00:16, 260310.94it/s]"
     ]
    },
    {
     "name": "stdout",
     "output_type": "stream",
     "text": [
      "Half of window size: 25.0\n"
     ]
    },
    {
     "name": "stderr",
     "output_type": "stream",
     "text": [
      "100%|██████████| 4411482/4411482 [00:17<00:00, 254890.31it/s]\n",
      "  0%|          | 16336/4411432 [00:00<00:26, 163357.82it/s]"
     ]
    },
    {
     "name": "stdout",
     "output_type": "stream",
     "text": [
      "Half of window size: 50.0\n"
     ]
    },
    {
     "name": "stderr",
     "output_type": "stream",
     "text": [
      "100%|██████████| 4411432/4411432 [00:27<00:00, 157947.98it/s]\n"
     ]
    }
   ],
   "source": [
    "H37rv_GC_10bp_SW_Array = calc_GCcontent_SlidingWindow (input_Seq = Mtb_H37rv_Sequence, window_size = 10)\n",
    "H37rv_GC_50bp_SW_Array = calc_GCcontent_SlidingWindow (input_Seq = Mtb_H37rv_Sequence, window_size = 50)\n",
    "H37rv_GC_100bp_SW_Array = calc_GCcontent_SlidingWindow (input_Seq = Mtb_H37rv_Sequence, window_size = 100)"
   ]
  },
  {
   "cell_type": "code",
   "execution_count": 11,
   "metadata": {},
   "outputs": [
    {
     "data": {
      "text/plain": [
       "array([60., 60., 60., 60., 50., 50., 50., 60., 60., 70.])"
      ]
     },
     "execution_count": 11,
     "metadata": {},
     "output_type": "execute_result"
    }
   ],
   "source": [
    "H37rv_GC_10bp_SW_Array[:10]"
   ]
  },
  {
   "cell_type": "code",
   "execution_count": 12,
   "metadata": {},
   "outputs": [
    {
     "data": {
      "text/plain": [
       "array([56., 56., 58., 58., 58., 58., 58., 58., 58., 60.])"
      ]
     },
     "execution_count": 12,
     "metadata": {},
     "output_type": "execute_result"
    }
   ],
   "source": [
    "H37rv_GC_50bp_SW_Array[:10]"
   ]
  },
  {
   "cell_type": "code",
   "execution_count": 13,
   "metadata": {},
   "outputs": [
    {
     "data": {
      "text/plain": [
       "array([59., 60., 59., 59., 60., 60., 59., 58., 58., 57.])"
      ]
     },
     "execution_count": 13,
     "metadata": {},
     "output_type": "execute_result"
    }
   ],
   "source": [
    "H37rv_GC_100bp_SW_Array[:10]"
   ]
  },
  {
   "cell_type": "code",
   "execution_count": null,
   "metadata": {},
   "outputs": [],
   "source": []
  },
  {
   "cell_type": "markdown",
   "metadata": {},
   "source": [
    "# B) Save np arrays of GC content as pickles, NPY arrays, BED, and BEDGRAPH formats"
   ]
  },
  {
   "cell_type": "code",
   "execution_count": 14,
   "metadata": {},
   "outputs": [
    {
     "name": "stdout",
     "output_type": "stream",
     "text": [
      "mkdir: cannot create directory ‘../../../210112_PBvsI_VCeval_AnalysisDir_V7_36CI/191217_H37rv_GC_CircGenome_Arrays’: File exists\n"
     ]
    }
   ],
   "source": [
    "Mtb_RefDir=\"/n/data1/hms/dbmi/farhat/mm774/References\"\n",
    "\n",
    "PB_Vs_Illumina_DataAnalysis_Dir = \"../../../210112_PBvsI_VCeval_AnalysisDir_V7_36CI\"\n",
    "\n",
    "GCcontent_OutputDir = f\"{PB_Vs_Illumina_DataAnalysis_Dir}/191217_H37rv_GC_CircGenome_Arrays\"\n",
    "\n",
    "!mkdir $GCcontent_OutputDir"
   ]
  },
  {
   "cell_type": "code",
   "execution_count": null,
   "metadata": {},
   "outputs": [],
   "source": []
  },
  {
   "cell_type": "markdown",
   "metadata": {},
   "source": [
    "### 1) Output - GC Content (10 bp window size, circular) across H37Rv genome"
   ]
  },
  {
   "cell_type": "code",
   "execution_count": 15,
   "metadata": {},
   "outputs": [],
   "source": [
    "# PATHs - 10 bp\n",
    "# Pickle_PATH_H37rv_GC_10bp_SW_Array = GCcontent_OutputDir + \"/191217_H37rv_GC_10bp_SW_Array.pickle\"   \n",
    "NPZ_PATH_H37rv_GC_10bp_SW_Array = GCcontent_OutputDir + \"/191217_H37rv_GC_10bp_SW_Array.npz\"   \n",
    "BED_PATH_H37rv_GC_10bp_SW_Array = GCcontent_OutputDir + \"/191217_H37rv_GC_10bp_SW_Array.bed\"   \n",
    "BEDGRAPH_PATH_H37rv_GC_10bp_SW_Array = GCcontent_OutputDir + \"/191217_H37rv_GC_10bp_SW_Array.bedgraph\"   \n",
    "\n",
    "# Output PICKLE of NPY array\n",
    "# with open(Pickle_PATH_H37rv_GC_10bp_SW_Array, 'wb') as outputFile: pickle.dump(H37rv_GC_10bp_SW_Array, outputFile)\n",
    "\n",
    "\n",
    "# Output .NPY of NPY array\n",
    "np.savez_compressed(NPZ_PATH_H37rv_GC_10bp_SW_Array, H37rv_GC_10bp_SW_Array )\n",
    "\n",
    "# Output BED & BEDGRAPH of NPY array\n",
    "H37rv_GC_10bp_BED_DF = convert_GenomeNParray_To_BED_DF(H37rv_GC_10bp_SW_Array)\n",
    "H37rv_GC_10bp_BED_DF.columns = [\"chrom\", \"chromStart\", \"chromEnd\", \"name\", \"GC_Content_10bp\"]\n",
    "\n",
    "H37rv_GC_10bp_BED_DF.to_csv(BED_PATH_H37rv_GC_10bp_SW_Array, sep = \"\\t\", index = False, header = False)\n",
    "\n",
    "\n",
    "!cut -f 1,2,3,5 $BED_PATH_H37rv_GC_10bp_SW_Array > $BEDGRAPH_PATH_H37rv_GC_10bp_SW_Array\n",
    "\n",
    "!rm $BED_PATH_H37rv_GC_10bp_SW_Array"
   ]
  },
  {
   "cell_type": "markdown",
   "metadata": {},
   "source": [
    "### 2) Output - GC Content (50 bp window size, circular) across H37Rv genome"
   ]
  },
  {
   "cell_type": "code",
   "execution_count": 16,
   "metadata": {},
   "outputs": [],
   "source": [
    "# PATHs - 50 bp\n",
    "Pickle_PATH_H37rv_GC_50bp_SW_Array = GCcontent_OutputDir + \"/191217_H37rv_GC_50bp_SW_Array.pickle\"   \n",
    "NPZ_PATH_H37rv_GC_50bp_SW_Array = GCcontent_OutputDir + \"/191217_H37rv_GC_50bp_SW_Array.npz\"   \n",
    "BED_PATH_H37rv_GC_50bp_SW_Array = GCcontent_OutputDir + \"/191217_H37rv_GC_50bp_SW_Array.bed\"   \n",
    "BEDGRAPH_PATH_H37rv_GC_50bp_SW_Array = GCcontent_OutputDir + \"/191217_H37rv_GC_50bp_SW_Array.bedgraph\"   \n",
    "\n",
    "\n",
    "# Output PICKLE of NPY array\n",
    "# with open(Pickle_PATH_H37rv_GC_50bp_SW_Array, 'wb') as outputFile: pickle.dump(H37rv_GC_50bp_SW_Array, outputFile)\n",
    "\n",
    "\n",
    "# Output .NPY of NPY array\n",
    "np.savez_compressed(NPZ_PATH_H37rv_GC_50bp_SW_Array, H37rv_GC_50bp_SW_Array )\n",
    "\n",
    "# Output BED & BEDGRAPH of NPY array\n",
    "H37rv_GC_50bp_BED_DF = convert_GenomeNParray_To_BED_DF(H37rv_GC_50bp_SW_Array)\n",
    "H37rv_GC_50bp_BED_DF.columns = [\"chrom\", \"chromStart\", \"chromEnd\", \"name\", \"GC_Content_10bp\"]\n",
    "\n",
    "H37rv_GC_50bp_BED_DF.to_csv(BED_PATH_H37rv_GC_50bp_SW_Array, sep = \"\\t\", index = False, header = False)\n",
    "\n",
    "\n",
    "!cut -f 1,2,3,5 $BED_PATH_H37rv_GC_50bp_SW_Array > $BEDGRAPH_PATH_H37rv_GC_50bp_SW_Array\n",
    "\n",
    "!rm $BED_PATH_H37rv_GC_50bp_SW_Array"
   ]
  },
  {
   "cell_type": "markdown",
   "metadata": {},
   "source": [
    "### 3) Output - GC Content (100 bp window size, circular) across H37Rv genome"
   ]
  },
  {
   "cell_type": "code",
   "execution_count": 17,
   "metadata": {},
   "outputs": [],
   "source": [
    "\n",
    "# PATHs - 100 bp\n",
    "# Pickle_PATH_H37rv_GC_100bp_SW_Array = GCcontent_OutputDir + \"/191217_H37rv_GC_100bp_SW_Array.pickle\"   \n",
    "NPZ_PATH_H37rv_GC_100bp_SW_Array = GCcontent_OutputDir + \"/191217_H37rv_GC_100bp_SW_Array.npz\"\n",
    "BED_PATH_H37rv_GC_100bp_SW_Array = GCcontent_OutputDir + \"/191217_H37rv_GC_100bp_SW_Array.bed\"   \n",
    "BEDGRAPH_PATH_H37rv_GC_100bp_SW_Array = GCcontent_OutputDir + \"/191217_H37rv_GC_100bp_SW_Array.bedgraph\"   \n",
    "\n",
    "\n",
    "# Output PICKLE of NPY array\n",
    "# with open(Pickle_PATH_H37rv_GC_100bp_SW_Array, 'wb') as outputFile: pickle.dump(H37rv_GC_100bp_SW_Array, outputFile)\n",
    "\n",
    "\n",
    "# Output .NPY of NPY array\n",
    "np.savez_compressed(NPZ_PATH_H37rv_GC_100bp_SW_Array, H37rv_GC_100bp_SW_Array )\n",
    "\n",
    "# Output BED & BEDGRAPH of NPY array\n",
    "H37rv_GC_100bp_BED_DF = convert_GenomeNParray_To_BED_DF(H37rv_GC_100bp_SW_Array)\n",
    "H37rv_GC_100bp_BED_DF.columns = [\"chrom\", \"chromStart\", \"chromEnd\", \"name\", \"GC_Content_10bp\"]\n",
    "\n",
    "H37rv_GC_100bp_BED_DF.to_csv(BED_PATH_H37rv_GC_100bp_SW_Array, sep = \"\\t\", index = False, header = False)\n",
    "\n",
    "\n",
    "!cut -f 1,2,3,5 $BED_PATH_H37rv_GC_100bp_SW_Array > $BEDGRAPH_PATH_H37rv_GC_100bp_SW_Array\n",
    "\n",
    "!rm $BED_PATH_H37rv_GC_100bp_SW_Array\n"
   ]
  },
  {
   "cell_type": "code",
   "execution_count": null,
   "metadata": {},
   "outputs": [],
   "source": []
  },
  {
   "cell_type": "markdown",
   "metadata": {},
   "source": [
    "## Inspect output files"
   ]
  },
  {
   "cell_type": "code",
   "execution_count": 18,
   "metadata": {},
   "outputs": [
    {
     "name": "stdout",
     "output_type": "stream",
     "text": [
      "e57783039c32cde9efeba99b1bc5c5bc  ../../../210112_PBvsI_VCeval_AnalysisDir_V7_36CI/191217_H37rv_GC_CircGenome_Arrays/191217_H37rv_GC_100bp_SW_Array.bed\n",
      "e0aee96350dc9b93542ab6c4525fcbee  ../../../210112_PBvsI_VCeval_AnalysisDir_V7_36CI/191217_H37rv_GC_CircGenome_Arrays/191217_H37rv_GC_10bp_SW_Array.bed\n",
      "b715f9dd8b82344ee1d00967f1bb7d49  ../../../210112_PBvsI_VCeval_AnalysisDir_V7_36CI/191217_H37rv_GC_CircGenome_Arrays/191217_H37rv_GC_50bp_SW_Array.bed\n"
     ]
    }
   ],
   "source": [
    "!md5sum $GCcontent_OutputDir/*.bed"
   ]
  },
  {
   "cell_type": "code",
   "execution_count": 19,
   "metadata": {},
   "outputs": [
    {
     "name": "stdout",
     "output_type": "stream",
     "text": [
      "  2042352 ../../../210112_PBvsI_VCeval_AnalysisDir_V7_36CI/191217_H37rv_GC_CircGenome_Arrays/191217_H37rv_GC_100bp_SW_Array.bed\n",
      "  2050238 ../../../210112_PBvsI_VCeval_AnalysisDir_V7_36CI/191217_H37rv_GC_CircGenome_Arrays/191217_H37rv_GC_10bp_SW_Array.bed\n",
      "  2044160 ../../../210112_PBvsI_VCeval_AnalysisDir_V7_36CI/191217_H37rv_GC_CircGenome_Arrays/191217_H37rv_GC_50bp_SW_Array.bed\n",
      "  6136750 total\n"
     ]
    }
   ],
   "source": [
    "!wc -l $GCcontent_OutputDir/*.bed"
   ]
  },
  {
   "cell_type": "code",
   "execution_count": 20,
   "metadata": {},
   "outputs": [
    {
     "name": "stdout",
     "output_type": "stream",
     "text": [
      "  2042352 ../../../210112_PBvsI_VCeval_AnalysisDir_V7_36CI/191217_H37rv_GC_CircGenome_Arrays/191217_H37rv_GC_100bp_SW_Array.bedgraph\n",
      "  2050238 ../../../210112_PBvsI_VCeval_AnalysisDir_V7_36CI/191217_H37rv_GC_CircGenome_Arrays/191217_H37rv_GC_10bp_SW_Array.bedgraph\n",
      "  2044160 ../../../210112_PBvsI_VCeval_AnalysisDir_V7_36CI/191217_H37rv_GC_CircGenome_Arrays/191217_H37rv_GC_50bp_SW_Array.bedgraph\n",
      "  6136750 total\n"
     ]
    }
   ],
   "source": [
    "!wc -l $GCcontent_OutputDir/*.bedgraph"
   ]
  },
  {
   "cell_type": "code",
   "execution_count": 21,
   "metadata": {},
   "outputs": [],
   "source": [
    "# !md5sum $GCcontent_OutputDir/*"
   ]
  },
  {
   "cell_type": "code",
   "execution_count": 22,
   "metadata": {},
   "outputs": [
    {
     "name": "stdout",
     "output_type": "stream",
     "text": [
      "NC_000962.3\t0\t4\tRegion1_Length_4_bp\t60.0\n",
      "NC_000962.3\t4\t7\tRegion2_Length_3_bp\t50.0\n",
      "NC_000962.3\t7\t9\tRegion3_Length_2_bp\t60.0\n",
      "NC_000962.3\t9\t20\tRegion4_Length_11_bp\t70.0\n",
      "NC_000962.3\t20\t21\tRegion5_Length_1_bp\t60.0\n",
      "NC_000962.3\t21\t24\tRegion6_Length_3_bp\t50.0\n",
      "NC_000962.3\t24\t28\tRegion7_Length_4_bp\t60.0\n",
      "NC_000962.3\t28\t31\tRegion8_Length_3_bp\t50.0\n",
      "NC_000962.3\t31\t32\tRegion9_Length_1_bp\t60.0\n",
      "NC_000962.3\t32\t33\tRegion10_Length_1_bp\t50.0\n"
     ]
    }
   ],
   "source": [
    "!head /n/data1/hms/dbmi/farhat/mm774/References/191217_H37rv_GC_CircGenome_Arrays/191217_H37rv_GC_10bp_SW_Array.bed\n"
   ]
  },
  {
   "cell_type": "code",
   "execution_count": 23,
   "metadata": {},
   "outputs": [
    {
     "name": "stdout",
     "output_type": "stream",
     "text": [
      "NC_000962.3\t0\t4\t60.0\n",
      "NC_000962.3\t4\t7\t50.0\n",
      "NC_000962.3\t7\t9\t60.0\n",
      "NC_000962.3\t9\t20\t70.0\n",
      "NC_000962.3\t20\t21\t60.0\n",
      "NC_000962.3\t21\t24\t50.0\n",
      "NC_000962.3\t24\t28\t60.0\n",
      "NC_000962.3\t28\t31\t50.0\n",
      "NC_000962.3\t31\t32\t60.0\n",
      "NC_000962.3\t32\t33\t50.0\n"
     ]
    }
   ],
   "source": [
    "!head /n/data1/hms/dbmi/farhat/mm774/References/191217_H37rv_GC_CircGenome_Arrays/191217_H37rv_GC_10bp_SW_Array.bedgraph\n"
   ]
  },
  {
   "cell_type": "code",
   "execution_count": null,
   "metadata": {},
   "outputs": [],
   "source": []
  },
  {
   "cell_type": "markdown",
   "metadata": {},
   "source": [
    "## Read in GC content pickles (GC% calculated as a sliding window)"
   ]
  },
  {
   "cell_type": "code",
   "execution_count": 24,
   "metadata": {},
   "outputs": [],
   "source": [
    "Mtb_RefDir=\"/n/data1/hms/dbmi/farhat/mm774/References\"\n",
    "GCcontent_OutputDir = f\"{Mtb_RefDir}/191217_H37rv_GC_CircGenome_Arrays\"\n",
    "\n",
    "Pickle_PATH_H37rv_GC_10bp_SW_Array = GCcontent_OutputDir + \"/191217_H37rv_GC_10bp_SW_Array.pickle\"   \n",
    "Pickle_PATH_H37rv_GC_50bp_SW_Array = GCcontent_OutputDir + \"/191217_H37rv_GC_50bp_SW_Array.pickle\"   \n",
    "Pickle_PATH_H37rv_GC_100bp_SW_Array = GCcontent_OutputDir + \"/191217_H37rv_GC_100bp_SW_Array.pickle\"   \n",
    "\n",
    "#with open(Pickle_PATH_H37rv_GC_10bp_SW_Array, \"rb\") as f: H37rv_GC_10bp_SW_Array = pickle.load(f)\n",
    "#with open(Pickle_PATH_H37rv_GC_50bp_SW_Array, \"rb\") as f: H37rv_GC_50bp_SW_Array = pickle.load(f)\n",
    "#with open(Pickle_PATH_H37rv_GC_100bp_SW_Array, \"rb\") as f: H37rv_GC_100bp_SW_Array = pickle.load(f)"
   ]
  },
  {
   "cell_type": "code",
   "execution_count": 25,
   "metadata": {},
   "outputs": [
    {
     "data": {
      "text/plain": [
       "array([60., 60., 60., ..., 40., 50., 50.])"
      ]
     },
     "execution_count": 25,
     "metadata": {},
     "output_type": "execute_result"
    }
   ],
   "source": [
    "H37rv_GC_10bp_SW_Array"
   ]
  },
  {
   "cell_type": "code",
   "execution_count": 26,
   "metadata": {},
   "outputs": [
    {
     "data": {
      "text/plain": [
       "array([56., 56., 58., ..., 54., 56., 58.])"
      ]
     },
     "execution_count": 26,
     "metadata": {},
     "output_type": "execute_result"
    }
   ],
   "source": [
    "H37rv_GC_50bp_SW_Array"
   ]
  },
  {
   "cell_type": "code",
   "execution_count": null,
   "metadata": {},
   "outputs": [],
   "source": []
  },
  {
   "cell_type": "code",
   "execution_count": null,
   "metadata": {},
   "outputs": [],
   "source": []
  },
  {
   "cell_type": "code",
   "execution_count": 27,
   "metadata": {},
   "outputs": [
    {
     "name": "stdout",
     "output_type": "stream",
     "text": [
      "total 637M\n",
      "drwxrwsr-x  2 mm774 farhat  640 Mar 16 14:22 .\n",
      "drwxrwsr-x 16 mm774 farhat 2.3K Feb 18 18:12 ..\n",
      "-rw-rw-r--  1 mm774 farhat 113M Mar 16 14:22 191217_H37rv_GC_100bp_SW_Array.bed\n",
      "-rw-rw-r--  1 mm774 farhat  64M Mar 16 14:22 191217_H37rv_GC_100bp_SW_Array.bedgraph\n",
      "-rw-rw-r--  1 mm774 farhat 2.0M Mar 16 14:22 191217_H37rv_GC_100bp_SW_Array.npz\n",
      "-rw-rw-r--  1 mm774 farhat  34M Mar 16 14:21 191217_H37rv_GC_100bp_SW_Array.pickle\n",
      "-rw-rw-r--  1 mm774 farhat 114M Mar 16 14:21 191217_H37rv_GC_10bp_SW_Array.bed\n",
      "-rw-rw-r--  1 mm774 farhat  64M Mar 16 14:21 191217_H37rv_GC_10bp_SW_Array.bedgraph\n",
      "-rw-rw-r--  1 mm774 farhat 1.6M Mar 16 14:21 191217_H37rv_GC_10bp_SW_Array.npz\n",
      "-rw-rw-r--  1 mm774 farhat  34M Mar 16 14:21 191217_H37rv_GC_10bp_SW_Array.pickle\n",
      "-rw-rw-r--  1 mm774 farhat 113M Mar 16 14:21 191217_H37rv_GC_50bp_SW_Array.bed\n",
      "-rw-rw-r--  1 mm774 farhat  64M Mar 16 14:21 191217_H37rv_GC_50bp_SW_Array.bedgraph\n",
      "-rw-rw-r--  1 mm774 farhat 1.8M Mar 16 14:21 191217_H37rv_GC_50bp_SW_Array.npz\n",
      "-rw-rw-r--  1 mm774 farhat  34M Mar 16 14:21 191217_H37rv_GC_50bp_SW_Array.pickle\n"
     ]
    }
   ],
   "source": [
    "!ls -lah $GCcontent_OutputDir"
   ]
  },
  {
   "cell_type": "code",
   "execution_count": 28,
   "metadata": {},
   "outputs": [],
   "source": [
    "    \n",
    "NPZ_PATH_H37rv_GC_10bp_SW_Array = GCcontent_OutputDir + \"/191217_H37rv_GC_10bp_SW_Array.npz\"   \n",
    "NPZ_PATH_H37rv_GC_50bp_SW_Array = GCcontent_OutputDir + \"/191217_H37rv_GC_50bp_SW_Array.npz\"   \n",
    "NPZ_PATH_H37rv_GC_100bp_SW_Array = GCcontent_OutputDir + \"/191217_H37rv_GC_100bp_SW_Array.npz\"   \n",
    "\n",
    "H37rv_GC_10bp_SW_Array = np.load(NPZ_PATH_H37rv_GC_10bp_SW_Array)[\"arr_0\"]\n",
    "H37rv_GC_50bp_SW_Array = np.load(NPZ_PATH_H37rv_GC_50bp_SW_Array)[\"arr_0\"]\n",
    "H37rv_GC_100bp_SW_Array = np.load(NPZ_PATH_H37rv_GC_100bp_SW_Array)[\"arr_0\"]\n"
   ]
  },
  {
   "cell_type": "code",
   "execution_count": 29,
   "metadata": {},
   "outputs": [
    {
     "data": {
      "text/plain": [
       "array([60., 60., 60., ..., 40., 50., 50.])"
      ]
     },
     "execution_count": 29,
     "metadata": {},
     "output_type": "execute_result"
    }
   ],
   "source": [
    "H37rv_GC_10bp_SW_Array"
   ]
  },
  {
   "cell_type": "code",
   "execution_count": 30,
   "metadata": {},
   "outputs": [
    {
     "data": {
      "text/plain": [
       "array([56., 56., 58., ..., 54., 56., 58.])"
      ]
     },
     "execution_count": 30,
     "metadata": {},
     "output_type": "execute_result"
    }
   ],
   "source": [
    "H37rv_GC_50bp_SW_Array"
   ]
  },
  {
   "cell_type": "code",
   "execution_count": 31,
   "metadata": {},
   "outputs": [
    {
     "data": {
      "text/plain": [
       "array([59., 60., 59., ..., 59., 60., 60.])"
      ]
     },
     "execution_count": 31,
     "metadata": {},
     "output_type": "execute_result"
    }
   ],
   "source": [
    "H37rv_GC_100bp_SW_Array"
   ]
  },
  {
   "cell_type": "code",
   "execution_count": null,
   "metadata": {},
   "outputs": [],
   "source": []
  },
  {
   "cell_type": "code",
   "execution_count": null,
   "metadata": {},
   "outputs": [],
   "source": []
  },
  {
   "cell_type": "markdown",
   "metadata": {},
   "source": [
    "# EXTRA: Testing Functions for calculating GC content across a circular genome"
   ]
  },
  {
   "cell_type": "code",
   "execution_count": null,
   "metadata": {},
   "outputs": [],
   "source": []
  },
  {
   "cell_type": "markdown",
   "metadata": {},
   "source": [
    "## A) Quick tests of the \"calc_gc_content\" function"
   ]
  },
  {
   "cell_type": "code",
   "execution_count": 32,
   "metadata": {},
   "outputs": [],
   "source": [
    "calc_gc_content = lambda s: 100.0 * len([c for c in s if c in \"GC\"]) / len(s)"
   ]
  },
  {
   "cell_type": "code",
   "execution_count": 33,
   "metadata": {},
   "outputs": [
    {
     "data": {
      "text/plain": [
       "100.0"
      ]
     },
     "execution_count": 33,
     "metadata": {},
     "output_type": "execute_result"
    }
   ],
   "source": [
    "calc_gc_content(\"G\"*10)"
   ]
  },
  {
   "cell_type": "code",
   "execution_count": 34,
   "metadata": {},
   "outputs": [
    {
     "data": {
      "text/plain": [
       "100.0"
      ]
     },
     "execution_count": 34,
     "metadata": {},
     "output_type": "execute_result"
    }
   ],
   "source": [
    "calc_gc_content(\"GC\"*10)"
   ]
  },
  {
   "cell_type": "code",
   "execution_count": 35,
   "metadata": {},
   "outputs": [
    {
     "data": {
      "text/plain": [
       "90.0"
      ]
     },
     "execution_count": 35,
     "metadata": {},
     "output_type": "execute_result"
    }
   ],
   "source": [
    "calc_gc_content(\"GC\"*9 + \"AA\")"
   ]
  },
  {
   "cell_type": "markdown",
   "metadata": {},
   "source": [
    "# B) Test case: 20 bp circular sequence \n",
    "### Let's do a quick test with a circular 20 bp sequence with 10 \"A\"s and 5 \"GC\"s"
   ]
  },
  {
   "cell_type": "code",
   "execution_count": 36,
   "metadata": {},
   "outputs": [
    {
     "name": "stdout",
     "output_type": "stream",
     "text": [
      "AAAAAAAAAAGCGCGCGCGC\n"
     ]
    }
   ],
   "source": [
    "TestSequence_20bp = (\"A\" * 10) + (\"GC\" * 5)\n",
    "print(TestSequence_20bp)"
   ]
  },
  {
   "cell_type": "code",
   "execution_count": 37,
   "metadata": {},
   "outputs": [
    {
     "name": "stderr",
     "output_type": "stream",
     "text": [
      "100%|██████████| 10/10 [00:00<00:00, 7284.31it/s]"
     ]
    },
    {
     "name": "stdout",
     "output_type": "stream",
     "text": [
      "Half of window size: 5.0\n"
     ]
    },
    {
     "name": "stderr",
     "output_type": "stream",
     "text": [
      "\n"
     ]
    }
   ],
   "source": [
    "TestSeq_V1_10bp_SW_Array = calc_GCcontent_SlidingWindow (input_Seq = TestSequence_20bp, window_size = 10)\n"
   ]
  },
  {
   "cell_type": "code",
   "execution_count": 38,
   "metadata": {},
   "outputs": [
    {
     "data": {
      "text/plain": [
       "20"
      ]
     },
     "execution_count": 38,
     "metadata": {},
     "output_type": "execute_result"
    }
   ],
   "source": [
    "len(TestSeq_V1_10bp_SW_Array)"
   ]
  },
  {
   "cell_type": "code",
   "execution_count": 39,
   "metadata": {},
   "outputs": [
    {
     "data": {
      "text/plain": [
       "array([ 50.,  40.,  30.,  20.,  10.,   0.,  10.,  20.,  30.,  40.,  50.,\n",
       "        60.,  70.,  80.,  90., 100.,  90.,  80.,  70.,  60.])"
      ]
     },
     "execution_count": 39,
     "metadata": {},
     "output_type": "execute_result"
    }
   ],
   "source": [
    "TestSeq_V1_10bp_SW_Array"
   ]
  },
  {
   "cell_type": "code",
   "execution_count": null,
   "metadata": {},
   "outputs": [],
   "source": []
  },
  {
   "cell_type": "code",
   "execution_count": 40,
   "metadata": {},
   "outputs": [
    {
     "data": {
      "text/plain": [
       "100.0"
      ]
     },
     "execution_count": 40,
     "metadata": {},
     "output_type": "execute_result"
    }
   ],
   "source": [
    "calc_gc_content(\"G\"*10)"
   ]
  },
  {
   "cell_type": "code",
   "execution_count": null,
   "metadata": {},
   "outputs": [],
   "source": []
  },
  {
   "cell_type": "code",
   "execution_count": null,
   "metadata": {},
   "outputs": [],
   "source": []
  },
  {
   "cell_type": "code",
   "execution_count": null,
   "metadata": {},
   "outputs": [],
   "source": []
  },
  {
   "cell_type": "code",
   "execution_count": null,
   "metadata": {},
   "outputs": [],
   "source": []
  },
  {
   "cell_type": "code",
   "execution_count": null,
   "metadata": {},
   "outputs": [],
   "source": []
  }
 ],
 "metadata": {
  "kernelspec": {
   "display_name": "py37_S",
   "language": "python",
   "name": "py37_s"
  },
  "language_info": {
   "codemirror_mode": {
    "name": "ipython",
    "version": 3
   },
   "file_extension": ".py",
   "mimetype": "text/x-python",
   "name": "python",
   "nbconvert_exporter": "python",
   "pygments_lexer": "ipython3",
   "version": "3.7.3"
  }
 },
 "nbformat": 4,
 "nbformat_minor": 4
}
