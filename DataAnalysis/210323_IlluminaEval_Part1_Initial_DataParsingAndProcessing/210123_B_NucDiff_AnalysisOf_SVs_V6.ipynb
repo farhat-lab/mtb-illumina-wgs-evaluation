{
 "cells": [
  {
   "cell_type": "code",
   "execution_count": null,
   "metadata": {},
   "outputs": [],
   "source": []
  },
  {
   "cell_type": "code",
   "execution_count": 1,
   "metadata": {},
   "outputs": [],
   "source": [
    "import numpy as np\n",
    "import pandas as pd\n",
    "import matplotlib.pyplot as plt\n",
    "from tqdm import tqdm\n",
    "import vcf\n",
    "\n",
    "%matplotlib inline"
   ]
  },
  {
   "cell_type": "code",
   "execution_count": 2,
   "metadata": {},
   "outputs": [],
   "source": [
    "import pickle\n",
    "from Bio import SeqIO\n",
    "import plotly.express as px"
   ]
  },
  {
   "cell_type": "code",
   "execution_count": 3,
   "metadata": {},
   "outputs": [],
   "source": [
    "import seaborn as sns"
   ]
  },
  {
   "cell_type": "markdown",
   "metadata": {},
   "source": [
    "#### Pandas Viewing Settings"
   ]
  },
  {
   "cell_type": "code",
   "execution_count": 4,
   "metadata": {},
   "outputs": [],
   "source": [
    "pd.set_option('display.max_rows', 500)\n",
    "pd.set_option('display.max_columns', 500)\n",
    "pd.set_option('display.width', 1000)"
   ]
  },
  {
   "cell_type": "code",
   "execution_count": null,
   "metadata": {},
   "outputs": [],
   "source": []
  },
  {
   "cell_type": "markdown",
   "metadata": {},
   "source": [
    "### Set matplotlib text export settings for Adobe Illustrator"
   ]
  },
  {
   "cell_type": "code",
   "execution_count": 5,
   "metadata": {},
   "outputs": [],
   "source": [
    "import matplotlib\n",
    "matplotlib.rcParams['pdf.fonttype'] = 42\n",
    "matplotlib.rcParams['ps.fonttype'] = 42"
   ]
  },
  {
   "cell_type": "code",
   "execution_count": null,
   "metadata": {},
   "outputs": [],
   "source": []
  },
  {
   "cell_type": "code",
   "execution_count": null,
   "metadata": {},
   "outputs": [],
   "source": []
  },
  {
   "cell_type": "markdown",
   "metadata": {},
   "source": [
    "## Parse metadata for 36 have circular assemblies"
   ]
  },
  {
   "cell_type": "code",
   "execution_count": 6,
   "metadata": {},
   "outputs": [
    {
     "name": "stdout",
     "output_type": "stream",
     "text": [
      "M0011368_9,M0014888_3,M0016395_7,M0010874_7,01_R1430,02_R0894,02_R1708,02_R1896,M0016737_0,M0017522_5,01_R1134,M0003941_3,02_R1179,N1176,N0072,N0153,N0145,N0155,N0004,N1274,N0054,N1272,N0091,N1202,N1177,RW-TB008,DNA028,DNA075,DNA091,DNA044,DNA020,AZE_02_042,DNA019_Rose,DNA120,DNA188,DNA086\n"
     ]
    }
   ],
   "source": [
    "Repo_DataDir = \"../../Data\"\n",
    "\n",
    "PMP_SM_ResultsSummary_Dir_210108 = Repo_DataDir + \"/210108_PMP_SM_50CI_V7_ResultsSummary\"\n",
    "\n",
    "PMP_36CI_CicularOnly_F2Filtered_AtLeast40XIllDepth_AssemblySummary_TSV_PATH = PMP_SM_ResultsSummary_Dir_210108 + \"/210108_PMP_36CI_CircularOnly_F2Filtered_AtLeast40XMeanDepthIllumina_AssemblySummary_V7.tsv\"       \n",
    "\n",
    "PMP_36CI_CicularOnly_F2Filtered_AtLeast40XDepth_AssemblySummary = pd.read_csv(PMP_36CI_CicularOnly_F2Filtered_AtLeast40XIllDepth_AssemblySummary_TSV_PATH, sep = \"\\t\")\n",
    "\n",
    "PMP_36CI_AnalysisSet_AssemblySummary = PMP_36CI_CicularOnly_F2Filtered_AtLeast40XDepth_AssemblySummary\n",
    "\n",
    "\n",
    "SampleIDs_36CI_SOI = list( PMP_36CI_AnalysisSet_AssemblySummary[\"SampleID\"].values )\n",
    "\n",
    "\n",
    "print(','.join(SampleIDs_36CI_SOI) )\n",
    "\n",
    "# Make sample to metadata mapping dicts\n",
    "\n",
    "ID_To_IlluminaAvrgCov_Dict = dict(PMP_36CI_AnalysisSet_AssemblySummary[['SampleID', 'IlluminaWGSToH37rv_AvrgCov']].values)                     \n",
    "ID_To_Lineage_Dict = dict(PMP_36CI_AnalysisSet_AssemblySummary[['SampleID', 'PrimaryLineage_PB']].values)\n",
    "ID_To_Dataset_Dict = dict(PMP_36CI_AnalysisSet_AssemblySummary[['SampleID', 'Dataset_Tag']].values)"
   ]
  },
  {
   "cell_type": "code",
   "execution_count": null,
   "metadata": {},
   "outputs": [],
   "source": []
  },
  {
   "cell_type": "code",
   "execution_count": null,
   "metadata": {},
   "outputs": [],
   "source": []
  },
  {
   "cell_type": "code",
   "execution_count": null,
   "metadata": {},
   "outputs": [],
   "source": []
  },
  {
   "cell_type": "markdown",
   "metadata": {},
   "source": [
    "# Read in all SVs detected across all 36 clinical isolates (with NucDiff)"
   ]
  },
  {
   "cell_type": "code",
   "execution_count": 7,
   "metadata": {},
   "outputs": [],
   "source": [
    "Repo_DataDir = \"../../Data\"\n",
    "\n",
    "PMP_36CI_NucDiff_SV_Analysis_Dir = Repo_DataDir + \"/210126_PMP_36CI_NucDiff_SV_Analysis_Dir\"\n",
    "PMP_36CI_NucDiff_AllSVs_Detected_TSV = PMP_36CI_NucDiff_SV_Analysis_Dir + \"/210126.PMP.36CI.NucDiff_AllSVs_Detected.V2.tsv\"\n",
    "\n",
    "NucDiff_SVs_36CI_DF = pd.read_csv(PMP_36CI_NucDiff_AllSVs_Detected_TSV, sep=\"\\t\")"
   ]
  },
  {
   "cell_type": "code",
   "execution_count": 8,
   "metadata": {},
   "outputs": [
    {
     "data": {
      "text/html": [
       "<div>\n",
       "<style scoped>\n",
       "    .dataframe tbody tr th:only-of-type {\n",
       "        vertical-align: middle;\n",
       "    }\n",
       "\n",
       "    .dataframe tbody tr th {\n",
       "        vertical-align: top;\n",
       "    }\n",
       "\n",
       "    .dataframe thead th {\n",
       "        text-align: right;\n",
       "    }\n",
       "</style>\n",
       "<table border=\"1\" class=\"dataframe\">\n",
       "  <thead>\n",
       "    <tr style=\"text-align: right;\">\n",
       "      <th></th>\n",
       "      <th>Chrom</th>\n",
       "      <th>start_0based</th>\n",
       "      <th>end_0based</th>\n",
       "      <th>SV_Type</th>\n",
       "      <th>SV_Length</th>\n",
       "      <th>SampleID</th>\n",
       "      <th>PrimaryLineage</th>\n",
       "    </tr>\n",
       "  </thead>\n",
       "  <tbody>\n",
       "    <tr>\n",
       "      <th>0</th>\n",
       "      <td>NC_000962.3</td>\n",
       "      <td>71583</td>\n",
       "      <td>71586</td>\n",
       "      <td>duplication</td>\n",
       "      <td>2</td>\n",
       "      <td>M0011368_9</td>\n",
       "      <td>lineage4</td>\n",
       "    </tr>\n",
       "    <tr>\n",
       "      <th>1</th>\n",
       "      <td>NC_000962.3</td>\n",
       "      <td>71585</td>\n",
       "      <td>71586</td>\n",
       "      <td>insertion</td>\n",
       "      <td>35</td>\n",
       "      <td>M0011368_9</td>\n",
       "      <td>lineage4</td>\n",
       "    </tr>\n",
       "    <tr>\n",
       "      <th>2</th>\n",
       "      <td>NC_000962.3</td>\n",
       "      <td>150889</td>\n",
       "      <td>150903</td>\n",
       "      <td>duplication</td>\n",
       "      <td>13</td>\n",
       "      <td>M0011368_9</td>\n",
       "      <td>lineage4</td>\n",
       "    </tr>\n",
       "    <tr>\n",
       "      <th>3</th>\n",
       "      <td>NC_000962.3</td>\n",
       "      <td>150902</td>\n",
       "      <td>150903</td>\n",
       "      <td>insertion</td>\n",
       "      <td>167</td>\n",
       "      <td>M0011368_9</td>\n",
       "      <td>lineage4</td>\n",
       "    </tr>\n",
       "    <tr>\n",
       "      <th>4</th>\n",
       "      <td>NC_000962.3</td>\n",
       "      <td>335050</td>\n",
       "      <td>337913</td>\n",
       "      <td>tandem_duplication</td>\n",
       "      <td>2862</td>\n",
       "      <td>M0011368_9</td>\n",
       "      <td>lineage4</td>\n",
       "    </tr>\n",
       "  </tbody>\n",
       "</table>\n",
       "</div>"
      ],
      "text/plain": [
       "         Chrom  start_0based  end_0based             SV_Type  SV_Length    SampleID PrimaryLineage\n",
       "0  NC_000962.3         71583       71586         duplication          2  M0011368_9       lineage4\n",
       "1  NC_000962.3         71585       71586           insertion         35  M0011368_9       lineage4\n",
       "2  NC_000962.3        150889      150903         duplication         13  M0011368_9       lineage4\n",
       "3  NC_000962.3        150902      150903           insertion        167  M0011368_9       lineage4\n",
       "4  NC_000962.3        335050      337913  tandem_duplication       2862  M0011368_9       lineage4"
      ]
     },
     "execution_count": 8,
     "metadata": {},
     "output_type": "execute_result"
    }
   ],
   "source": [
    "NucDiff_SVs_36CI_DF.head()"
   ]
  },
  {
   "cell_type": "code",
   "execution_count": null,
   "metadata": {},
   "outputs": [],
   "source": []
  },
  {
   "cell_type": "code",
   "execution_count": 9,
   "metadata": {},
   "outputs": [
    {
     "data": {
      "text/html": [
       "<div>\n",
       "<style scoped>\n",
       "    .dataframe tbody tr th:only-of-type {\n",
       "        vertical-align: middle;\n",
       "    }\n",
       "\n",
       "    .dataframe tbody tr th {\n",
       "        vertical-align: top;\n",
       "    }\n",
       "\n",
       "    .dataframe thead th {\n",
       "        text-align: right;\n",
       "    }\n",
       "</style>\n",
       "<table border=\"1\" class=\"dataframe\">\n",
       "  <thead>\n",
       "    <tr style=\"text-align: right;\">\n",
       "      <th></th>\n",
       "      <th>Chrom</th>\n",
       "      <th>start_0based</th>\n",
       "      <th>end_0based</th>\n",
       "      <th>SV_Type</th>\n",
       "      <th>SV_Length</th>\n",
       "      <th>SampleID</th>\n",
       "      <th>PrimaryLineage</th>\n",
       "    </tr>\n",
       "  </thead>\n",
       "  <tbody>\n",
       "    <tr>\n",
       "      <th>0</th>\n",
       "      <td>NC_000962.3</td>\n",
       "      <td>71583</td>\n",
       "      <td>71586</td>\n",
       "      <td>duplication</td>\n",
       "      <td>2</td>\n",
       "      <td>M0011368_9</td>\n",
       "      <td>lineage4</td>\n",
       "    </tr>\n",
       "    <tr>\n",
       "      <th>1</th>\n",
       "      <td>NC_000962.3</td>\n",
       "      <td>71585</td>\n",
       "      <td>71586</td>\n",
       "      <td>insertion</td>\n",
       "      <td>35</td>\n",
       "      <td>M0011368_9</td>\n",
       "      <td>lineage4</td>\n",
       "    </tr>\n",
       "    <tr>\n",
       "      <th>2</th>\n",
       "      <td>NC_000962.3</td>\n",
       "      <td>150889</td>\n",
       "      <td>150903</td>\n",
       "      <td>duplication</td>\n",
       "      <td>13</td>\n",
       "      <td>M0011368_9</td>\n",
       "      <td>lineage4</td>\n",
       "    </tr>\n",
       "  </tbody>\n",
       "</table>\n",
       "</div>"
      ],
      "text/plain": [
       "         Chrom  start_0based  end_0based      SV_Type  SV_Length    SampleID PrimaryLineage\n",
       "0  NC_000962.3         71583       71586  duplication          2  M0011368_9       lineage4\n",
       "1  NC_000962.3         71585       71586    insertion         35  M0011368_9       lineage4\n",
       "2  NC_000962.3        150889      150903  duplication         13  M0011368_9       lineage4"
      ]
     },
     "execution_count": 9,
     "metadata": {},
     "output_type": "execute_result"
    }
   ],
   "source": [
    "NucDiff_SVs_36CI_DF.head(3)"
   ]
  },
  {
   "cell_type": "code",
   "execution_count": 10,
   "metadata": {},
   "outputs": [
    {
     "data": {
      "text/plain": [
       "(5484, 7)"
      ]
     },
     "execution_count": 10,
     "metadata": {},
     "output_type": "execute_result"
    }
   ],
   "source": [
    "NucDiff_SVs_36CI_DF.shape"
   ]
  },
  {
   "cell_type": "code",
   "execution_count": 11,
   "metadata": {},
   "outputs": [
    {
     "data": {
      "text/plain": [
       "(3620, 7)"
      ]
     },
     "execution_count": 11,
     "metadata": {},
     "output_type": "execute_result"
    }
   ],
   "source": [
    "NucDiff_SVs_50bp_OrMore_DF = NucDiff_SVs_36CI_DF[NucDiff_SVs_36CI_DF[\"SV_Length\"] >=50 ]\n",
    "NucDiff_SVs_50bp_OrMore_DF.shape"
   ]
  },
  {
   "cell_type": "code",
   "execution_count": 12,
   "metadata": {},
   "outputs": [
    {
     "data": {
      "text/html": [
       "<div>\n",
       "<style scoped>\n",
       "    .dataframe tbody tr th:only-of-type {\n",
       "        vertical-align: middle;\n",
       "    }\n",
       "\n",
       "    .dataframe tbody tr th {\n",
       "        vertical-align: top;\n",
       "    }\n",
       "\n",
       "    .dataframe thead th {\n",
       "        text-align: right;\n",
       "    }\n",
       "</style>\n",
       "<table border=\"1\" class=\"dataframe\">\n",
       "  <thead>\n",
       "    <tr style=\"text-align: right;\">\n",
       "      <th></th>\n",
       "      <th>Chrom</th>\n",
       "      <th>start_0based</th>\n",
       "      <th>end_0based</th>\n",
       "      <th>SV_Type</th>\n",
       "      <th>SV_Length</th>\n",
       "      <th>SampleID</th>\n",
       "      <th>PrimaryLineage</th>\n",
       "    </tr>\n",
       "  </thead>\n",
       "  <tbody>\n",
       "    <tr>\n",
       "      <th>3</th>\n",
       "      <td>NC_000962.3</td>\n",
       "      <td>150902</td>\n",
       "      <td>150903</td>\n",
       "      <td>insertion</td>\n",
       "      <td>167</td>\n",
       "      <td>M0011368_9</td>\n",
       "      <td>lineage4</td>\n",
       "    </tr>\n",
       "    <tr>\n",
       "      <th>4</th>\n",
       "      <td>NC_000962.3</td>\n",
       "      <td>335050</td>\n",
       "      <td>337913</td>\n",
       "      <td>tandem_duplication</td>\n",
       "      <td>2862</td>\n",
       "      <td>M0011368_9</td>\n",
       "      <td>lineage4</td>\n",
       "    </tr>\n",
       "    <tr>\n",
       "      <th>5</th>\n",
       "      <td>NC_000962.3</td>\n",
       "      <td>424091</td>\n",
       "      <td>424143</td>\n",
       "      <td>tandem_duplication</td>\n",
       "      <td>51</td>\n",
       "      <td>M0011368_9</td>\n",
       "      <td>lineage4</td>\n",
       "    </tr>\n",
       "    <tr>\n",
       "      <th>6</th>\n",
       "      <td>NC_000962.3</td>\n",
       "      <td>580760</td>\n",
       "      <td>580814</td>\n",
       "      <td>tandem_duplication</td>\n",
       "      <td>53</td>\n",
       "      <td>M0011368_9</td>\n",
       "      <td>lineage4</td>\n",
       "    </tr>\n",
       "    <tr>\n",
       "      <th>8</th>\n",
       "      <td>NC_000962.3</td>\n",
       "      <td>623296</td>\n",
       "      <td>623297</td>\n",
       "      <td>insertion</td>\n",
       "      <td>67</td>\n",
       "      <td>M0011368_9</td>\n",
       "      <td>lineage4</td>\n",
       "    </tr>\n",
       "  </tbody>\n",
       "</table>\n",
       "</div>"
      ],
      "text/plain": [
       "         Chrom  start_0based  end_0based             SV_Type  SV_Length    SampleID PrimaryLineage\n",
       "3  NC_000962.3        150902      150903           insertion        167  M0011368_9       lineage4\n",
       "4  NC_000962.3        335050      337913  tandem_duplication       2862  M0011368_9       lineage4\n",
       "5  NC_000962.3        424091      424143  tandem_duplication         51  M0011368_9       lineage4\n",
       "6  NC_000962.3        580760      580814  tandem_duplication         53  M0011368_9       lineage4\n",
       "8  NC_000962.3        623296      623297           insertion         67  M0011368_9       lineage4"
      ]
     },
     "execution_count": 12,
     "metadata": {},
     "output_type": "execute_result"
    }
   ],
   "source": [
    "NucDiff_SVs_50bp_OrMore_DF.head()"
   ]
  },
  {
   "cell_type": "code",
   "execution_count": 13,
   "metadata": {},
   "outputs": [
    {
     "data": {
      "text/plain": [
       "(36,)"
      ]
     },
     "execution_count": 13,
     "metadata": {},
     "output_type": "execute_result"
    }
   ],
   "source": [
    "NucDiff_SVs_50bp_OrMore_DF[\"SampleID\"].value_counts().shape"
   ]
  },
  {
   "cell_type": "code",
   "execution_count": 14,
   "metadata": {},
   "outputs": [],
   "source": [
    "NumSVs_Per_Sample_DF = pd.DataFrame( NucDiff_SVs_50bp_OrMore_DF[\"SampleID\"].value_counts(),  )\n",
    "\n",
    "NumSVs_Per_Sample_DF.columns = [\"Num_SVs_FiltLen_50bp\"]\n",
    "NumSVs_Per_Sample_DF[\"SampleID\"] = NumSVs_Per_Sample_DF.index"
   ]
  },
  {
   "cell_type": "code",
   "execution_count": 15,
   "metadata": {},
   "outputs": [
    {
     "data": {
      "text/html": [
       "<div>\n",
       "<style scoped>\n",
       "    .dataframe tbody tr th:only-of-type {\n",
       "        vertical-align: middle;\n",
       "    }\n",
       "\n",
       "    .dataframe tbody tr th {\n",
       "        vertical-align: top;\n",
       "    }\n",
       "\n",
       "    .dataframe thead th {\n",
       "        text-align: right;\n",
       "    }\n",
       "</style>\n",
       "<table border=\"1\" class=\"dataframe\">\n",
       "  <thead>\n",
       "    <tr style=\"text-align: right;\">\n",
       "      <th></th>\n",
       "      <th>Num_SVs_FiltLen_50bp</th>\n",
       "      <th>SampleID</th>\n",
       "    </tr>\n",
       "  </thead>\n",
       "  <tbody>\n",
       "    <tr>\n",
       "      <th>RW-TB008</th>\n",
       "      <td>135</td>\n",
       "      <td>RW-TB008</td>\n",
       "    </tr>\n",
       "    <tr>\n",
       "      <th>N1176</th>\n",
       "      <td>132</td>\n",
       "      <td>N1176</td>\n",
       "    </tr>\n",
       "  </tbody>\n",
       "</table>\n",
       "</div>"
      ],
      "text/plain": [
       "          Num_SVs_FiltLen_50bp  SampleID\n",
       "RW-TB008                   135  RW-TB008\n",
       "N1176                      132     N1176"
      ]
     },
     "execution_count": 15,
     "metadata": {},
     "output_type": "execute_result"
    }
   ],
   "source": [
    "NumSVs_Per_Sample_DF.head(2)"
   ]
  },
  {
   "cell_type": "code",
   "execution_count": null,
   "metadata": {},
   "outputs": [],
   "source": []
  },
  {
   "cell_type": "code",
   "execution_count": 16,
   "metadata": {},
   "outputs": [],
   "source": [
    "PMP_36CI_AnnoWith_NumTotalSVs_DF = pd.merge(PMP_36CI_AnalysisSet_AssemblySummary, NumSVs_Per_Sample_DF, \n",
    "                                               how='left', left_on=['SampleID', ], right_on = ['SampleID', ])"
   ]
  },
  {
   "cell_type": "code",
   "execution_count": 17,
   "metadata": {},
   "outputs": [
    {
     "data": {
      "image/png": "[encoded data removed]",
      "text/plain": [
       "<Figure size 1152x576 with 1 Axes>"
      ]
     },
     "metadata": {
      "needs_background": "light"
     },
     "output_type": "display_data"
    }
   ],
   "source": [
    "plt.figure( figsize = (16,8))\n",
    "sns.stripplot(x = \"PrimaryLineage_PB\",\n",
    "               y = \"Num_SVs_FiltLen_50bp\",\n",
    "               hue = \"PrimaryLineage_PB\",\n",
    "               data = PMP_36CI_AnnoWith_NumTotalSVs_DF)\n",
    "\n",
    "plt.show()"
   ]
  },
  {
   "cell_type": "code",
   "execution_count": 18,
   "metadata": {},
   "outputs": [
    {
     "data": {
      "text/html": [
       "<div>\n",
       "<style scoped>\n",
       "    .dataframe tbody tr th:only-of-type {\n",
       "        vertical-align: middle;\n",
       "    }\n",
       "\n",
       "    .dataframe tbody tr th {\n",
       "        vertical-align: top;\n",
       "    }\n",
       "\n",
       "    .dataframe thead th {\n",
       "        text-align: right;\n",
       "    }\n",
       "</style>\n",
       "<table border=\"1\" class=\"dataframe\">\n",
       "  <thead>\n",
       "    <tr style=\"text-align: right;\">\n",
       "      <th></th>\n",
       "      <th>SampleID</th>\n",
       "      <th>numContigs_Complete</th>\n",
       "      <th>circContig_Length</th>\n",
       "      <th>circContig_Cov</th>\n",
       "      <th>PacBio_Subread_Median_Length</th>\n",
       "      <th>LineageCall_Illumina</th>\n",
       "      <th>LineageCall_PacBio</th>\n",
       "      <th>F2_Illumina</th>\n",
       "      <th>F2_PacBio</th>\n",
       "      <th>ANI_I3</th>\n",
       "      <th>ANI_I3_PP</th>\n",
       "      <th>IlluminaWGSToH37rv_AvrgCov</th>\n",
       "      <th>PacBio_Subreads_H37Rv_AvrgCov</th>\n",
       "      <th>NumAnno_ORFs_PB_PilonPolished</th>\n",
       "      <th>NumAnno_ORFs_PB_DeNovo</th>\n",
       "      <th>GCcontent_PB_PP_GBK</th>\n",
       "      <th>NumChanges_PilonPolished</th>\n",
       "      <th>NumSNPs_PilonPolished</th>\n",
       "      <th>NumTotalInsertions_PilonPolished</th>\n",
       "      <th>Num1bpInsertion_PilonPolished</th>\n",
       "      <th>Num2bpInsertion_PilonPolished</th>\n",
       "      <th>NumTotalDeletions_PilonPolished</th>\n",
       "      <th>Num1bpDeletion_PilonPolished</th>\n",
       "      <th>PrimaryLineage_PB</th>\n",
       "      <th>PrimaryLineage_Ill</th>\n",
       "      <th>Dataset_Tag</th>\n",
       "      <th>Num_SVs_FiltLen_50bp</th>\n",
       "    </tr>\n",
       "  </thead>\n",
       "  <tbody>\n",
       "    <tr>\n",
       "      <th>0</th>\n",
       "      <td>M0011368_9</td>\n",
       "      <td>1</td>\n",
       "      <td>4397765</td>\n",
       "      <td>203</td>\n",
       "      <td>3773.0</td>\n",
       "      <td>lineage4,lineage4.4,lineage4.4.1</td>\n",
       "      <td>lineage4,lineage4.4,lineage4.4.1</td>\n",
       "      <td>0.004937</td>\n",
       "      <td>0.305222</td>\n",
       "      <td>99.9368</td>\n",
       "      <td>99.9364</td>\n",
       "      <td>40</td>\n",
       "      <td>191</td>\n",
       "      <td>4050</td>\n",
       "      <td>4075</td>\n",
       "      <td>65.614721</td>\n",
       "      <td>63</td>\n",
       "      <td>0</td>\n",
       "      <td>59</td>\n",
       "      <td>58</td>\n",
       "      <td>1</td>\n",
       "      <td>4</td>\n",
       "      <td>4</td>\n",
       "      <td>lineage4</td>\n",
       "      <td>lineage4</td>\n",
       "      <td>Farhat_Peru_2019</td>\n",
       "      <td>76</td>\n",
       "    </tr>\n",
       "  </tbody>\n",
       "</table>\n",
       "</div>"
      ],
      "text/plain": [
       "     SampleID  numContigs_Complete  circContig_Length  circContig_Cov  PacBio_Subread_Median_Length              LineageCall_Illumina                LineageCall_PacBio  F2_Illumina  F2_PacBio   ANI_I3  ANI_I3_PP  IlluminaWGSToH37rv_AvrgCov  PacBio_Subreads_H37Rv_AvrgCov  NumAnno_ORFs_PB_PilonPolished  NumAnno_ORFs_PB_DeNovo  GCcontent_PB_PP_GBK  NumChanges_PilonPolished  NumSNPs_PilonPolished  NumTotalInsertions_PilonPolished  Num1bpInsertion_PilonPolished  Num2bpInsertion_PilonPolished  NumTotalDeletions_PilonPolished  Num1bpDeletion_PilonPolished PrimaryLineage_PB PrimaryLineage_Ill       Dataset_Tag  Num_SVs_FiltLen_50bp\n",
       "0  M0011368_9                    1            4397765             203                        3773.0  lineage4,lineage4.4,lineage4.4.1  lineage4,lineage4.4,lineage4.4.1     0.004937   0.305222  99.9368    99.9364                          40                            191                           4050                    4075            65.614721                        63                      0                                59                             58                              1                                4                             4          lineage4           lineage4  Farhat_Peru_2019                    76"
      ]
     },
     "execution_count": 18,
     "metadata": {},
     "output_type": "execute_result"
    }
   ],
   "source": [
    "PMP_36CI_AnnoWith_NumTotalSVs_DF.head(1)"
   ]
  },
  {
   "cell_type": "markdown",
   "metadata": {},
   "source": [
    "# A) Plot relationship between ANI-to-H37Rv and # of SVs"
   ]
  },
  {
   "cell_type": "code",
   "execution_count": 19,
   "metadata": {},
   "outputs": [
    {
     "name": "stdout",
     "output_type": "stream",
     "text": [
      "mkdir: cannot create directory ‘./NucDiff_SV_Analysis/’: File exists\n"
     ]
    },
    {
     "data": {
      "image/png": "[encoded data removed]",
      "text/plain": [
       "<Figure size 576x432 with 1 Axes>"
      ]
     },
     "metadata": {
      "needs_background": "light"
     },
     "output_type": "display_data"
    }
   ],
   "source": [
    "plt.figure( figsize = (8,6))\n",
    "sns.scatterplot(x=\"ANI_I3_PP\", y=\"Num_SVs_FiltLen_50bp\",\n",
    "                hue = \"PrimaryLineage_PB\", #style = \"Dataset_Tag\",\n",
    "                data = PMP_36CI_AnnoWith_NumTotalSVs_DF, linewidth=0,)\n",
    "\n",
    "plt.xlabel(\"Average Nucleotide Identity (ANI) to H37Rv reference genome\")\n",
    "plt.ylabel(\"Total Number of SVs detected (>= 50 bp)\")\n",
    "\n",
    "!mkdir ./NucDiff_SV_Analysis/\n",
    "\n",
    "Output_PNG_PATH = \"./NucDiff_SV_Analysis/SupFig7C_RelationshipBetween_SVs_And_ANI_ToH37Rv_AcrossLineages1to8.png\"       \n",
    "Output_PDF_PATH = \"./NucDiff_SV_Analysis/SupFig7C_RelationshipBetween_SVs_And_ANI_ToH37Rv_AcrossLineages1to8.pdf\"       \n",
    "\n",
    "plt.savefig(Output_PNG_PATH, bbox_inches='tight', dpi=125)\n",
    "plt.savefig(Output_PDF_PATH, bbox_inches='tight', transparent=True)\n",
    "plt.show()\n"
   ]
  },
  {
   "cell_type": "code",
   "execution_count": 20,
   "metadata": {},
   "outputs": [
    {
     "data": {
      "text/html": [
       "<div>\n",
       "<style scoped>\n",
       "    .dataframe tbody tr th:only-of-type {\n",
       "        vertical-align: middle;\n",
       "    }\n",
       "\n",
       "    .dataframe tbody tr th {\n",
       "        vertical-align: top;\n",
       "    }\n",
       "\n",
       "    .dataframe thead th {\n",
       "        text-align: right;\n",
       "    }\n",
       "</style>\n",
       "<table border=\"1\" class=\"dataframe\">\n",
       "  <thead>\n",
       "    <tr style=\"text-align: right;\">\n",
       "      <th></th>\n",
       "      <th>SampleID</th>\n",
       "      <th>numContigs_Complete</th>\n",
       "      <th>circContig_Length</th>\n",
       "      <th>circContig_Cov</th>\n",
       "      <th>PacBio_Subread_Median_Length</th>\n",
       "      <th>LineageCall_Illumina</th>\n",
       "      <th>LineageCall_PacBio</th>\n",
       "      <th>F2_Illumina</th>\n",
       "      <th>F2_PacBio</th>\n",
       "      <th>ANI_I3</th>\n",
       "      <th>ANI_I3_PP</th>\n",
       "      <th>IlluminaWGSToH37rv_AvrgCov</th>\n",
       "      <th>PacBio_Subreads_H37Rv_AvrgCov</th>\n",
       "      <th>NumAnno_ORFs_PB_PilonPolished</th>\n",
       "      <th>NumAnno_ORFs_PB_DeNovo</th>\n",
       "      <th>GCcontent_PB_PP_GBK</th>\n",
       "      <th>NumChanges_PilonPolished</th>\n",
       "      <th>NumSNPs_PilonPolished</th>\n",
       "      <th>NumTotalInsertions_PilonPolished</th>\n",
       "      <th>Num1bpInsertion_PilonPolished</th>\n",
       "      <th>Num2bpInsertion_PilonPolished</th>\n",
       "      <th>NumTotalDeletions_PilonPolished</th>\n",
       "      <th>Num1bpDeletion_PilonPolished</th>\n",
       "      <th>PrimaryLineage_PB</th>\n",
       "      <th>PrimaryLineage_Ill</th>\n",
       "      <th>Dataset_Tag</th>\n",
       "      <th>Num_SVs_FiltLen_50bp</th>\n",
       "    </tr>\n",
       "  </thead>\n",
       "  <tbody>\n",
       "    <tr>\n",
       "      <th>0</th>\n",
       "      <td>M0011368_9</td>\n",
       "      <td>1</td>\n",
       "      <td>4397765</td>\n",
       "      <td>203</td>\n",
       "      <td>3773.0</td>\n",
       "      <td>lineage4,lineage4.4,lineage4.4.1</td>\n",
       "      <td>lineage4,lineage4.4,lineage4.4.1</td>\n",
       "      <td>0.004937</td>\n",
       "      <td>0.305222</td>\n",
       "      <td>99.9368</td>\n",
       "      <td>99.9364</td>\n",
       "      <td>40</td>\n",
       "      <td>191</td>\n",
       "      <td>4050</td>\n",
       "      <td>4075</td>\n",
       "      <td>65.614721</td>\n",
       "      <td>63</td>\n",
       "      <td>0</td>\n",
       "      <td>59</td>\n",
       "      <td>58</td>\n",
       "      <td>1</td>\n",
       "      <td>4</td>\n",
       "      <td>4</td>\n",
       "      <td>lineage4</td>\n",
       "      <td>lineage4</td>\n",
       "      <td>Farhat_Peru_2019</td>\n",
       "      <td>76</td>\n",
       "    </tr>\n",
       "    <tr>\n",
       "      <th>1</th>\n",
       "      <td>M0014888_3</td>\n",
       "      <td>1</td>\n",
       "      <td>4399966</td>\n",
       "      <td>194</td>\n",
       "      <td>5038.0</td>\n",
       "      <td>lineage4,lineage4.1,lineage4.1.2,lineage4.1.2.1</td>\n",
       "      <td>lineage4,lineage4.1,lineage4.1.2,lineage4.1.2.1</td>\n",
       "      <td>0.007132</td>\n",
       "      <td>0.279607</td>\n",
       "      <td>99.9185</td>\n",
       "      <td>99.9193</td>\n",
       "      <td>77</td>\n",
       "      <td>182</td>\n",
       "      <td>4048</td>\n",
       "      <td>4060</td>\n",
       "      <td>65.635971</td>\n",
       "      <td>39</td>\n",
       "      <td>0</td>\n",
       "      <td>39</td>\n",
       "      <td>39</td>\n",
       "      <td>0</td>\n",
       "      <td>0</td>\n",
       "      <td>0</td>\n",
       "      <td>lineage4</td>\n",
       "      <td>lineage4</td>\n",
       "      <td>Farhat_Peru_2019</td>\n",
       "      <td>86</td>\n",
       "    </tr>\n",
       "    <tr>\n",
       "      <th>2</th>\n",
       "      <td>M0016395_7</td>\n",
       "      <td>1</td>\n",
       "      <td>4420916</td>\n",
       "      <td>195</td>\n",
       "      <td>4621.0</td>\n",
       "      <td>lineage4,lineage4.3,lineage4.3.2</td>\n",
       "      <td>lineage4,lineage4.3,lineage4.3.2</td>\n",
       "      <td>0.003671</td>\n",
       "      <td>0.299199</td>\n",
       "      <td>99.9248</td>\n",
       "      <td>99.9262</td>\n",
       "      <td>43</td>\n",
       "      <td>183</td>\n",
       "      <td>4068</td>\n",
       "      <td>4096</td>\n",
       "      <td>65.615829</td>\n",
       "      <td>71</td>\n",
       "      <td>1</td>\n",
       "      <td>66</td>\n",
       "      <td>65</td>\n",
       "      <td>1</td>\n",
       "      <td>4</td>\n",
       "      <td>4</td>\n",
       "      <td>lineage4</td>\n",
       "      <td>lineage4</td>\n",
       "      <td>Farhat_Peru_2019</td>\n",
       "      <td>74</td>\n",
       "    </tr>\n",
       "    <tr>\n",
       "      <th>3</th>\n",
       "      <td>M0010874_7</td>\n",
       "      <td>1</td>\n",
       "      <td>4396274</td>\n",
       "      <td>172</td>\n",
       "      <td>4675.0</td>\n",
       "      <td>lineage4,lineage4.3,lineage4.3.3</td>\n",
       "      <td>lineage4,lineage4.3,lineage4.3.3</td>\n",
       "      <td>0.002880</td>\n",
       "      <td>0.289791</td>\n",
       "      <td>99.9283</td>\n",
       "      <td>99.9310</td>\n",
       "      <td>89</td>\n",
       "      <td>161</td>\n",
       "      <td>4054</td>\n",
       "      <td>4103</td>\n",
       "      <td>65.614744</td>\n",
       "      <td>111</td>\n",
       "      <td>9</td>\n",
       "      <td>95</td>\n",
       "      <td>95</td>\n",
       "      <td>0</td>\n",
       "      <td>7</td>\n",
       "      <td>6</td>\n",
       "      <td>lineage4</td>\n",
       "      <td>lineage4</td>\n",
       "      <td>Farhat_Peru_2019</td>\n",
       "      <td>81</td>\n",
       "    </tr>\n",
       "    <tr>\n",
       "      <th>4</th>\n",
       "      <td>01_R1430</td>\n",
       "      <td>1</td>\n",
       "      <td>4409128</td>\n",
       "      <td>227</td>\n",
       "      <td>6009.0</td>\n",
       "      <td>lineage4,lineage4.4,lineage4.4.1</td>\n",
       "      <td>lineage4,lineage4.4,lineage4.4.1</td>\n",
       "      <td>0.005372</td>\n",
       "      <td>0.295069</td>\n",
       "      <td>99.9284</td>\n",
       "      <td>99.9290</td>\n",
       "      <td>253</td>\n",
       "      <td>212</td>\n",
       "      <td>4070</td>\n",
       "      <td>4119</td>\n",
       "      <td>65.613390</td>\n",
       "      <td>93</td>\n",
       "      <td>0</td>\n",
       "      <td>90</td>\n",
       "      <td>89</td>\n",
       "      <td>0</td>\n",
       "      <td>3</td>\n",
       "      <td>3</td>\n",
       "      <td>lineage4</td>\n",
       "      <td>lineage4</td>\n",
       "      <td>Farhat_Peru_2019</td>\n",
       "      <td>78</td>\n",
       "    </tr>\n",
       "  </tbody>\n",
       "</table>\n",
       "</div>"
      ],
      "text/plain": [
       "     SampleID  numContigs_Complete  circContig_Length  circContig_Cov  PacBio_Subread_Median_Length                             LineageCall_Illumina                               LineageCall_PacBio  F2_Illumina  F2_PacBio   ANI_I3  ANI_I3_PP  IlluminaWGSToH37rv_AvrgCov  PacBio_Subreads_H37Rv_AvrgCov  NumAnno_ORFs_PB_PilonPolished  NumAnno_ORFs_PB_DeNovo  GCcontent_PB_PP_GBK  NumChanges_PilonPolished  NumSNPs_PilonPolished  NumTotalInsertions_PilonPolished  Num1bpInsertion_PilonPolished  Num2bpInsertion_PilonPolished  NumTotalDeletions_PilonPolished  Num1bpDeletion_PilonPolished PrimaryLineage_PB PrimaryLineage_Ill       Dataset_Tag  Num_SVs_FiltLen_50bp\n",
       "0  M0011368_9                    1            4397765             203                        3773.0                 lineage4,lineage4.4,lineage4.4.1                 lineage4,lineage4.4,lineage4.4.1     0.004937   0.305222  99.9368    99.9364                          40                            191                           4050                    4075            65.614721                        63                      0                                59                             58                              1                                4                             4          lineage4           lineage4  Farhat_Peru_2019                    76\n",
       "1  M0014888_3                    1            4399966             194                        5038.0  lineage4,lineage4.1,lineage4.1.2,lineage4.1.2.1  lineage4,lineage4.1,lineage4.1.2,lineage4.1.2.1     0.007132   0.279607  99.9185    99.9193                          77                            182                           4048                    4060            65.635971                        39                      0                                39                             39                              0                                0                             0          lineage4           lineage4  Farhat_Peru_2019                    86\n",
       "2  M0016395_7                    1            4420916             195                        4621.0                 lineage4,lineage4.3,lineage4.3.2                 lineage4,lineage4.3,lineage4.3.2     0.003671   0.299199  99.9248    99.9262                          43                            183                           4068                    4096            65.615829                        71                      1                                66                             65                              1                                4                             4          lineage4           lineage4  Farhat_Peru_2019                    74\n",
       "3  M0010874_7                    1            4396274             172                        4675.0                 lineage4,lineage4.3,lineage4.3.3                 lineage4,lineage4.3,lineage4.3.3     0.002880   0.289791  99.9283    99.9310                          89                            161                           4054                    4103            65.614744                       111                      9                                95                             95                              0                                7                             6          lineage4           lineage4  Farhat_Peru_2019                    81\n",
       "4    01_R1430                    1            4409128             227                        6009.0                 lineage4,lineage4.4,lineage4.4.1                 lineage4,lineage4.4,lineage4.4.1     0.005372   0.295069  99.9284    99.9290                         253                            212                           4070                    4119            65.613390                        93                      0                                90                             89                              0                                3                             3          lineage4           lineage4  Farhat_Peru_2019                    78"
      ]
     },
     "execution_count": 20,
     "metadata": {},
     "output_type": "execute_result"
    }
   ],
   "source": [
    "PMP_36CI_AnnoWith_NumTotalSVs_DF.head()"
   ]
  },
  {
   "cell_type": "code",
   "execution_count": 21,
   "metadata": {},
   "outputs": [],
   "source": [
    "## Measure correlation between"
   ]
  },
  {
   "cell_type": "code",
   "execution_count": 22,
   "metadata": {},
   "outputs": [],
   "source": [
    "from scipy.stats import spearmanr"
   ]
  },
  {
   "cell_type": "code",
   "execution_count": 23,
   "metadata": {},
   "outputs": [
    {
     "data": {
      "text/plain": [
       "SpearmanrResult(correlation=-0.8963875547556301, pvalue=1.4600602503926925e-13)"
      ]
     },
     "execution_count": 23,
     "metadata": {},
     "output_type": "execute_result"
    }
   ],
   "source": [
    "spearmanr(PMP_36CI_AnnoWith_NumTotalSVs_DF[\"ANI_I3_PP\"], PMP_36CI_AnnoWith_NumTotalSVs_DF[\"Num_SVs_FiltLen_50bp\"])"
   ]
  },
  {
   "cell_type": "code",
   "execution_count": null,
   "metadata": {},
   "outputs": [],
   "source": []
  },
  {
   "cell_type": "code",
   "execution_count": null,
   "metadata": {},
   "outputs": [],
   "source": []
  },
  {
   "cell_type": "code",
   "execution_count": null,
   "metadata": {},
   "outputs": [],
   "source": []
  },
  {
   "cell_type": "code",
   "execution_count": null,
   "metadata": {},
   "outputs": [],
   "source": []
  },
  {
   "cell_type": "code",
   "execution_count": null,
   "metadata": {},
   "outputs": [],
   "source": []
  },
  {
   "cell_type": "code",
   "execution_count": null,
   "metadata": {},
   "outputs": [],
   "source": []
  },
  {
   "cell_type": "code",
   "execution_count": 24,
   "metadata": {},
   "outputs": [
    {
     "data": {
      "text/html": [
       "<div>\n",
       "<style scoped>\n",
       "    .dataframe tbody tr th:only-of-type {\n",
       "        vertical-align: middle;\n",
       "    }\n",
       "\n",
       "    .dataframe tbody tr th {\n",
       "        vertical-align: top;\n",
       "    }\n",
       "\n",
       "    .dataframe thead th {\n",
       "        text-align: right;\n",
       "    }\n",
       "</style>\n",
       "<table border=\"1\" class=\"dataframe\">\n",
       "  <thead>\n",
       "    <tr style=\"text-align: right;\">\n",
       "      <th></th>\n",
       "      <th>Chrom</th>\n",
       "      <th>start_0based</th>\n",
       "      <th>end_0based</th>\n",
       "      <th>SV_Type</th>\n",
       "      <th>SV_Length</th>\n",
       "      <th>SampleID</th>\n",
       "      <th>PrimaryLineage</th>\n",
       "    </tr>\n",
       "  </thead>\n",
       "  <tbody>\n",
       "    <tr>\n",
       "      <th>3</th>\n",
       "      <td>NC_000962.3</td>\n",
       "      <td>150902</td>\n",
       "      <td>150903</td>\n",
       "      <td>insertion</td>\n",
       "      <td>167</td>\n",
       "      <td>M0011368_9</td>\n",
       "      <td>lineage4</td>\n",
       "    </tr>\n",
       "    <tr>\n",
       "      <th>4</th>\n",
       "      <td>NC_000962.3</td>\n",
       "      <td>335050</td>\n",
       "      <td>337913</td>\n",
       "      <td>tandem_duplication</td>\n",
       "      <td>2862</td>\n",
       "      <td>M0011368_9</td>\n",
       "      <td>lineage4</td>\n",
       "    </tr>\n",
       "    <tr>\n",
       "      <th>5</th>\n",
       "      <td>NC_000962.3</td>\n",
       "      <td>424091</td>\n",
       "      <td>424143</td>\n",
       "      <td>tandem_duplication</td>\n",
       "      <td>51</td>\n",
       "      <td>M0011368_9</td>\n",
       "      <td>lineage4</td>\n",
       "    </tr>\n",
       "    <tr>\n",
       "      <th>6</th>\n",
       "      <td>NC_000962.3</td>\n",
       "      <td>580760</td>\n",
       "      <td>580814</td>\n",
       "      <td>tandem_duplication</td>\n",
       "      <td>53</td>\n",
       "      <td>M0011368_9</td>\n",
       "      <td>lineage4</td>\n",
       "    </tr>\n",
       "    <tr>\n",
       "      <th>8</th>\n",
       "      <td>NC_000962.3</td>\n",
       "      <td>623296</td>\n",
       "      <td>623297</td>\n",
       "      <td>insertion</td>\n",
       "      <td>67</td>\n",
       "      <td>M0011368_9</td>\n",
       "      <td>lineage4</td>\n",
       "    </tr>\n",
       "  </tbody>\n",
       "</table>\n",
       "</div>"
      ],
      "text/plain": [
       "         Chrom  start_0based  end_0based             SV_Type  SV_Length    SampleID PrimaryLineage\n",
       "3  NC_000962.3        150902      150903           insertion        167  M0011368_9       lineage4\n",
       "4  NC_000962.3        335050      337913  tandem_duplication       2862  M0011368_9       lineage4\n",
       "5  NC_000962.3        424091      424143  tandem_duplication         51  M0011368_9       lineage4\n",
       "6  NC_000962.3        580760      580814  tandem_duplication         53  M0011368_9       lineage4\n",
       "8  NC_000962.3        623296      623297           insertion         67  M0011368_9       lineage4"
      ]
     },
     "execution_count": 24,
     "metadata": {},
     "output_type": "execute_result"
    }
   ],
   "source": [
    "NucDiff_SVs_50bp_OrMore_DF.head()"
   ]
  },
  {
   "cell_type": "markdown",
   "metadata": {},
   "source": [
    "### We observe that two samples have fairly large inversions, and also that besides that there are some deletions around length 10 kb"
   ]
  },
  {
   "cell_type": "code",
   "execution_count": 25,
   "metadata": {},
   "outputs": [
    {
     "data": {
      "text/html": [
       "<div>\n",
       "<style scoped>\n",
       "    .dataframe tbody tr th:only-of-type {\n",
       "        vertical-align: middle;\n",
       "    }\n",
       "\n",
       "    .dataframe tbody tr th {\n",
       "        vertical-align: top;\n",
       "    }\n",
       "\n",
       "    .dataframe thead th {\n",
       "        text-align: right;\n",
       "    }\n",
       "</style>\n",
       "<table border=\"1\" class=\"dataframe\">\n",
       "  <thead>\n",
       "    <tr style=\"text-align: right;\">\n",
       "      <th></th>\n",
       "      <th>Chrom</th>\n",
       "      <th>start_0based</th>\n",
       "      <th>end_0based</th>\n",
       "      <th>SV_Type</th>\n",
       "      <th>SV_Length</th>\n",
       "      <th>SampleID</th>\n",
       "      <th>PrimaryLineage</th>\n",
       "    </tr>\n",
       "  </thead>\n",
       "  <tbody>\n",
       "    <tr>\n",
       "      <th>4063</th>\n",
       "      <td>NC_000962.3</td>\n",
       "      <td>704243</td>\n",
       "      <td>1262963</td>\n",
       "      <td>inversion</td>\n",
       "      <td>559121</td>\n",
       "      <td>DNA028</td>\n",
       "      <td>lineage2</td>\n",
       "    </tr>\n",
       "    <tr>\n",
       "      <th>5274</th>\n",
       "      <td>NC_000962.3</td>\n",
       "      <td>1997452</td>\n",
       "      <td>2365411</td>\n",
       "      <td>inversion</td>\n",
       "      <td>371530</td>\n",
       "      <td>DNA188</td>\n",
       "      <td>lineage4</td>\n",
       "    </tr>\n",
       "    <tr>\n",
       "      <th>5228</th>\n",
       "      <td>NC_000962.3</td>\n",
       "      <td>1165192</td>\n",
       "      <td>1481735</td>\n",
       "      <td>inversion</td>\n",
       "      <td>318683</td>\n",
       "      <td>DNA188</td>\n",
       "      <td>lineage4</td>\n",
       "    </tr>\n",
       "    <tr>\n",
       "      <th>5253</th>\n",
       "      <td>NC_000962.3</td>\n",
       "      <td>1789811</td>\n",
       "      <td>1986626</td>\n",
       "      <td>inversion</td>\n",
       "      <td>196815</td>\n",
       "      <td>DNA188</td>\n",
       "      <td>lineage4</td>\n",
       "    </tr>\n",
       "    <tr>\n",
       "      <th>4169</th>\n",
       "      <td>NC_000962.3</td>\n",
       "      <td>3379027</td>\n",
       "      <td>3549198</td>\n",
       "      <td>inversion</td>\n",
       "      <td>174139</td>\n",
       "      <td>DNA028</td>\n",
       "      <td>lineage2</td>\n",
       "    </tr>\n",
       "    <tr>\n",
       "      <th>5245</th>\n",
       "      <td>NC_000962.3</td>\n",
       "      <td>1543307</td>\n",
       "      <td>1715888</td>\n",
       "      <td>inversion</td>\n",
       "      <td>172830</td>\n",
       "      <td>DNA188</td>\n",
       "      <td>lineage4</td>\n",
       "    </tr>\n",
       "    <tr>\n",
       "      <th>4181</th>\n",
       "      <td>NC_000962.3</td>\n",
       "      <td>3552585</td>\n",
       "      <td>3710381</td>\n",
       "      <td>inversion</td>\n",
       "      <td>156362</td>\n",
       "      <td>DNA028</td>\n",
       "      <td>lineage2</td>\n",
       "    </tr>\n",
       "    <tr>\n",
       "      <th>5249</th>\n",
       "      <td>NC_000962.3</td>\n",
       "      <td>1715971</td>\n",
       "      <td>1779278</td>\n",
       "      <td>inversion</td>\n",
       "      <td>63308</td>\n",
       "      <td>DNA188</td>\n",
       "      <td>lineage4</td>\n",
       "    </tr>\n",
       "    <tr>\n",
       "      <th>5238</th>\n",
       "      <td>NC_000962.3</td>\n",
       "      <td>1481735</td>\n",
       "      <td>1541949</td>\n",
       "      <td>inversion</td>\n",
       "      <td>55468</td>\n",
       "      <td>DNA188</td>\n",
       "      <td>lineage4</td>\n",
       "    </tr>\n",
       "    <tr>\n",
       "      <th>3314</th>\n",
       "      <td>NC_000962.3</td>\n",
       "      <td>1183274</td>\n",
       "      <td>1213692</td>\n",
       "      <td>inversion</td>\n",
       "      <td>31471</td>\n",
       "      <td>N0091</td>\n",
       "      <td>lineage6</td>\n",
       "    </tr>\n",
       "    <tr>\n",
       "      <th>528</th>\n",
       "      <td>NC_000962.3</td>\n",
       "      <td>1989058</td>\n",
       "      <td>1998841</td>\n",
       "      <td>deletion</td>\n",
       "      <td>9783</td>\n",
       "      <td>01_R1430</td>\n",
       "      <td>lineage4</td>\n",
       "    </tr>\n",
       "    <tr>\n",
       "      <th>1415</th>\n",
       "      <td>NC_000962.3</td>\n",
       "      <td>1989063</td>\n",
       "      <td>1998622</td>\n",
       "      <td>deletion</td>\n",
       "      <td>9559</td>\n",
       "      <td>M0003941_3</td>\n",
       "      <td>lineage2</td>\n",
       "    </tr>\n",
       "    <tr>\n",
       "      <th>4114</th>\n",
       "      <td>NC_000962.3</td>\n",
       "      <td>1989063</td>\n",
       "      <td>1998622</td>\n",
       "      <td>deletion</td>\n",
       "      <td>9559</td>\n",
       "      <td>DNA028</td>\n",
       "      <td>lineage2</td>\n",
       "    </tr>\n",
       "    <tr>\n",
       "      <th>4290</th>\n",
       "      <td>NC_000962.3</td>\n",
       "      <td>1989063</td>\n",
       "      <td>1998622</td>\n",
       "      <td>deletion</td>\n",
       "      <td>9559</td>\n",
       "      <td>DNA075</td>\n",
       "      <td>lineage2</td>\n",
       "    </tr>\n",
       "    <tr>\n",
       "      <th>2273</th>\n",
       "      <td>NC_000962.3</td>\n",
       "      <td>1989063</td>\n",
       "      <td>1998622</td>\n",
       "      <td>deletion</td>\n",
       "      <td>9559</td>\n",
       "      <td>N0145</td>\n",
       "      <td>lineage2</td>\n",
       "    </tr>\n",
       "  </tbody>\n",
       "</table>\n",
       "</div>"
      ],
      "text/plain": [
       "            Chrom  start_0based  end_0based    SV_Type  SV_Length    SampleID PrimaryLineage\n",
       "4063  NC_000962.3        704243     1262963  inversion     559121      DNA028       lineage2\n",
       "5274  NC_000962.3       1997452     2365411  inversion     371530      DNA188       lineage4\n",
       "5228  NC_000962.3       1165192     1481735  inversion     318683      DNA188       lineage4\n",
       "5253  NC_000962.3       1789811     1986626  inversion     196815      DNA188       lineage4\n",
       "4169  NC_000962.3       3379027     3549198  inversion     174139      DNA028       lineage2\n",
       "5245  NC_000962.3       1543307     1715888  inversion     172830      DNA188       lineage4\n",
       "4181  NC_000962.3       3552585     3710381  inversion     156362      DNA028       lineage2\n",
       "5249  NC_000962.3       1715971     1779278  inversion      63308      DNA188       lineage4\n",
       "5238  NC_000962.3       1481735     1541949  inversion      55468      DNA188       lineage4\n",
       "3314  NC_000962.3       1183274     1213692  inversion      31471       N0091       lineage6\n",
       "528   NC_000962.3       1989058     1998841   deletion       9783    01_R1430       lineage4\n",
       "1415  NC_000962.3       1989063     1998622   deletion       9559  M0003941_3       lineage2\n",
       "4114  NC_000962.3       1989063     1998622   deletion       9559      DNA028       lineage2\n",
       "4290  NC_000962.3       1989063     1998622   deletion       9559      DNA075       lineage2\n",
       "2273  NC_000962.3       1989063     1998622   deletion       9559       N0145       lineage2"
      ]
     },
     "execution_count": 25,
     "metadata": {},
     "output_type": "execute_result"
    }
   ],
   "source": [
    "NucDiff_SVs_50bp_OrMore_DF.sort_values(\"SV_Length\", ascending = False).head(15)"
   ]
  },
  {
   "cell_type": "code",
   "execution_count": null,
   "metadata": {},
   "outputs": [],
   "source": []
  },
  {
   "cell_type": "code",
   "execution_count": null,
   "metadata": {},
   "outputs": [],
   "source": []
  },
  {
   "cell_type": "code",
   "execution_count": 26,
   "metadata": {},
   "outputs": [
    {
     "data": {
      "text/plain": [
       "1355    321\n",
       "57      126\n",
       "53       83\n",
       "62       79\n",
       "1353     77\n",
       "Name: SV_Length, dtype: int64"
      ]
     },
     "execution_count": 26,
     "metadata": {},
     "output_type": "execute_result"
    }
   ],
   "source": [
    "NucDiff_SVs_50bp_OrMore_DF[\"SV_Length\"].value_counts().head()"
   ]
  },
  {
   "cell_type": "markdown",
   "metadata": {},
   "source": [
    "# B) Plot SV Length Distribution (50 bp to 10 kb)"
   ]
  },
  {
   "cell_type": "code",
   "execution_count": 27,
   "metadata": {},
   "outputs": [
    {
     "name": "stdout",
     "output_type": "stream",
     "text": [
      "mkdir: cannot create directory ‘./NucDiff_SV_Analysis/’: File exists\n"
     ]
    },
    {
     "data": {
      "image/png": "[encoded data removed]",
      "text/plain": [
       "<Figure size 432x288 with 1 Axes>"
      ]
     },
     "metadata": {
      "needs_background": "light"
     },
     "output_type": "display_data"
    }
   ],
   "source": [
    "binwidth = 100\n",
    "Min = 0\n",
    "Max = 15000\n",
    "bins_I = np.arange(Min , Max + binwidth, binwidth)\n",
    "\n",
    "plt.hist(NucDiff_SVs_50bp_OrMore_DF[\"SV_Length\"], bins = bins_I)\n",
    "plt.xlabel(\"# of SVs (Length >= 50 bp)\")\n",
    "plt.ylabel(\"SV Length (bp)\")\n",
    "\n",
    "plt.xlim(0,10000)\n",
    "\n",
    "!mkdir ./NucDiff_SV_Analysis/\n",
    "\n",
    "Output_PNG_PATH = \"./NucDiff_SV_Analysis/SupFig7A_SV_Length_Distr_FiltLongerThan50bp_100bpBinSize.png\"       \n",
    "Output_PDF_PATH = \"./NucDiff_SV_Analysis/SupFig7A_SV_Length_Distr_FiltLongerThan50bp_100bpBinSize.pdf\"       \n",
    "\n",
    "plt.savefig(Output_PNG_PATH, bbox_inches='tight', dpi=125)\n",
    "plt.savefig(Output_PDF_PATH, bbox_inches='tight', transparent=True)\n",
    "plt.show()\n"
   ]
  },
  {
   "cell_type": "code",
   "execution_count": null,
   "metadata": {},
   "outputs": [],
   "source": []
  },
  {
   "cell_type": "code",
   "execution_count": 28,
   "metadata": {},
   "outputs": [
    {
     "data": {
      "image/png": "[encoded data removed]",
      "text/plain": [
       "<Figure size 432x288 with 1 Axes>"
      ]
     },
     "metadata": {
      "needs_background": "light"
     },
     "output_type": "display_data"
    }
   ],
   "source": [
    "plt.hist(NucDiff_SVs_50bp_OrMore_DF[\"SV_Length\"], bins = np.arange(0, 20000, 50))\n",
    "\n",
    "plt.xlim(0,2000)\n",
    "plt.show()"
   ]
  },
  {
   "cell_type": "code",
   "execution_count": null,
   "metadata": {},
   "outputs": [],
   "source": []
  },
  {
   "cell_type": "code",
   "execution_count": null,
   "metadata": {},
   "outputs": [],
   "source": []
  },
  {
   "cell_type": "code",
   "execution_count": null,
   "metadata": {},
   "outputs": [],
   "source": []
  },
  {
   "cell_type": "code",
   "execution_count": null,
   "metadata": {},
   "outputs": [],
   "source": []
  },
  {
   "cell_type": "code",
   "execution_count": 29,
   "metadata": {},
   "outputs": [],
   "source": [
    "list_Of_SVtypes = ['insertion',\n",
    "                     'deletion',\n",
    "                     'tandem_duplication',\n",
    "                     'duplication',\n",
    "                     'collapsed_tandem_repeat',\n",
    "                     'collapsed_repeat',\n",
    "                     'inversion',\n",
    "                     'substitution']"
   ]
  },
  {
   "cell_type": "code",
   "execution_count": 30,
   "metadata": {},
   "outputs": [
    {
     "name": "stdout",
     "output_type": "stream",
     "text": [
      "insertion (1394, 7)\n"
     ]
    },
    {
     "data": {
      "image/png": "[encoded data removed]",
      "text/plain": [
       "<Figure size 432x288 with 1 Axes>"
      ]
     },
     "metadata": {
      "needs_background": "light"
     },
     "output_type": "display_data"
    },
    {
     "name": "stdout",
     "output_type": "stream",
     "text": [
      "deletion (1159, 7)\n"
     ]
    },
    {
     "data": {
      "image/png": "[encoded data removed]",
      "text/plain": [
       "<Figure size 432x288 with 1 Axes>"
      ]
     },
     "metadata": {
      "needs_background": "light"
     },
     "output_type": "display_data"
    },
    {
     "name": "stdout",
     "output_type": "stream",
     "text": [
      "tandem_duplication (658, 7)\n"
     ]
    },
    {
     "data": {
      "image/png": "[encoded data removed]",
      "text/plain": [
       "<Figure size 432x288 with 1 Axes>"
      ]
     },
     "metadata": {
      "needs_background": "light"
     },
     "output_type": "display_data"
    },
    {
     "name": "stdout",
     "output_type": "stream",
     "text": [
      "duplication (933, 7)\n"
     ]
    },
    {
     "data": {
      "image/png": "[encoded data removed]",
      "text/plain": [
       "<Figure size 432x288 with 1 Axes>"
      ]
     },
     "metadata": {
      "needs_background": "light"
     },
     "output_type": "display_data"
    },
    {
     "name": "stdout",
     "output_type": "stream",
     "text": [
      "collapsed_tandem_repeat (323, 7)\n"
     ]
    },
    {
     "data": {
      "image/png": "[encoded data removed]",
      "text/plain": [
       "<Figure size 432x288 with 1 Axes>"
      ]
     },
     "metadata": {
      "needs_background": "light"
     },
     "output_type": "display_data"
    },
    {
     "name": "stdout",
     "output_type": "stream",
     "text": [
      "collapsed_repeat (703, 7)\n"
     ]
    },
    {
     "data": {
      "image/png": "[encoded data removed]",
      "text/plain": [
       "<Figure size 432x288 with 1 Axes>"
      ]
     },
     "metadata": {
      "needs_background": "light"
     },
     "output_type": "display_data"
    },
    {
     "name": "stdout",
     "output_type": "stream",
     "text": [
      "inversion (158, 7)\n"
     ]
    },
    {
     "data": {
      "image/png": "[encoded data removed]",
      "text/plain": [
       "<Figure size 432x288 with 1 Axes>"
      ]
     },
     "metadata": {
      "needs_background": "light"
     },
     "output_type": "display_data"
    },
    {
     "name": "stdout",
     "output_type": "stream",
     "text": [
      "substitution (156, 7)\n"
     ]
    },
    {
     "data": {
      "image/png": "[encoded data removed]",
      "text/plain": [
       "<Figure size 432x288 with 1 Axes>"
      ]
     },
     "metadata": {
      "needs_background": "light"
     },
     "output_type": "display_data"
    }
   ],
   "source": [
    "for SV_Type in list_Of_SVtypes:\n",
    "    \n",
    "    NucDiff_SVs_36CI_DF_SubsetFor_SV_Type = NucDiff_SVs_36CI_DF[   NucDiff_SVs_36CI_DF[\"SV_Type\"] ==  SV_Type   ]\n",
    "    \n",
    "    print(SV_Type, NucDiff_SVs_36CI_DF_SubsetFor_SV_Type.shape)\n",
    "    \n",
    "    plt.hist(NucDiff_SVs_36CI_DF_SubsetFor_SV_Type[\"SV_Length\"] )# , bins = np.arange(0, 15000, 100))\n",
    "\n",
    "    #plt.xlim(0,2000)\n",
    "    plt.show()\n",
    "    \n",
    "    "
   ]
  },
  {
   "cell_type": "code",
   "execution_count": null,
   "metadata": {},
   "outputs": [],
   "source": []
  },
  {
   "cell_type": "code",
   "execution_count": 31,
   "metadata": {},
   "outputs": [
    {
     "name": "stdout",
     "output_type": "stream",
     "text": [
      "insertion (1394, 7)\n"
     ]
    },
    {
     "data": {
      "image/png": "[encoded data removed]",
      "text/plain": [
       "<Figure size 432x288 with 1 Axes>"
      ]
     },
     "metadata": {
      "needs_background": "light"
     },
     "output_type": "display_data"
    },
    {
     "name": "stdout",
     "output_type": "stream",
     "text": [
      "\n",
      "\n",
      "deletion (1159, 7)\n"
     ]
    },
    {
     "data": {
      "image/png": "[encoded data removed]",
      "text/plain": [
       "<Figure size 432x288 with 1 Axes>"
      ]
     },
     "metadata": {
      "needs_background": "light"
     },
     "output_type": "display_data"
    },
    {
     "name": "stdout",
     "output_type": "stream",
     "text": [
      "\n",
      "\n",
      "tandem_duplication (658, 7)\n"
     ]
    },
    {
     "data": {
      "image/png": "[encoded data removed]",
      "text/plain": [
       "<Figure size 432x288 with 1 Axes>"
      ]
     },
     "metadata": {
      "needs_background": "light"
     },
     "output_type": "display_data"
    },
    {
     "name": "stdout",
     "output_type": "stream",
     "text": [
      "\n",
      "\n",
      "duplication (933, 7)\n"
     ]
    },
    {
     "data": {
      "image/png": "[encoded data removed]",
      "text/plain": [
       "<Figure size 432x288 with 1 Axes>"
      ]
     },
     "metadata": {
      "needs_background": "light"
     },
     "output_type": "display_data"
    },
    {
     "name": "stdout",
     "output_type": "stream",
     "text": [
      "\n",
      "\n",
      "collapsed_tandem_repeat (323, 7)\n"
     ]
    },
    {
     "data": {
      "image/png": "[encoded data removed]",
      "text/plain": [
       "<Figure size 432x288 with 1 Axes>"
      ]
     },
     "metadata": {
      "needs_background": "light"
     },
     "output_type": "display_data"
    },
    {
     "name": "stdout",
     "output_type": "stream",
     "text": [
      "\n",
      "\n",
      "collapsed_repeat (703, 7)\n"
     ]
    },
    {
     "data": {
      "image/png": "[encoded data removed]",
      "text/plain": [
       "<Figure size 432x288 with 1 Axes>"
      ]
     },
     "metadata": {
      "needs_background": "light"
     },
     "output_type": "display_data"
    },
    {
     "name": "stdout",
     "output_type": "stream",
     "text": [
      "\n",
      "\n",
      "inversion (158, 7)\n"
     ]
    },
    {
     "data": {
      "image/png": "[encoded data removed]",
      "text/plain": [
       "<Figure size 432x288 with 1 Axes>"
      ]
     },
     "metadata": {
      "needs_background": "light"
     },
     "output_type": "display_data"
    },
    {
     "name": "stdout",
     "output_type": "stream",
     "text": [
      "\n",
      "\n",
      "substitution (156, 7)\n"
     ]
    },
    {
     "data": {
      "image/png": "[encoded data removed]",
      "text/plain": [
       "<Figure size 432x288 with 1 Axes>"
      ]
     },
     "metadata": {
      "needs_background": "light"
     },
     "output_type": "display_data"
    },
    {
     "name": "stdout",
     "output_type": "stream",
     "text": [
      "\n",
      "\n"
     ]
    }
   ],
   "source": [
    "for SV_Type in list_Of_SVtypes:\n",
    "    \n",
    "    NucDiff_SVs_36CI_DF_SubsetFor_SV_Type = NucDiff_SVs_36CI_DF[   NucDiff_SVs_36CI_DF[\"SV_Type\"] ==  SV_Type   ]\n",
    "    \n",
    "    print(SV_Type, NucDiff_SVs_36CI_DF_SubsetFor_SV_Type.shape)\n",
    "    \n",
    "    plt.hist(NucDiff_SVs_36CI_DF_SubsetFor_SV_Type[\"SV_Length\"], bins = np.arange(0, 20000, 50))\n",
    "\n",
    "    plt.xlim(0,500)\n",
    "    plt.show()\n",
    "    \n",
    "    print(\"\\n\")"
   ]
  },
  {
   "cell_type": "code",
   "execution_count": null,
   "metadata": {},
   "outputs": [],
   "source": []
  },
  {
   "cell_type": "code",
   "execution_count": null,
   "metadata": {},
   "outputs": [],
   "source": []
  },
  {
   "cell_type": "code",
   "execution_count": null,
   "metadata": {},
   "outputs": [],
   "source": []
  },
  {
   "cell_type": "code",
   "execution_count": 32,
   "metadata": {},
   "outputs": [
    {
     "data": {
      "text/plain": [
       "insertion                  1043\n",
       "deletion                    830\n",
       "tandem_duplication          606\n",
       "duplication                 402\n",
       "collapsed_tandem_repeat     308\n",
       "collapsed_repeat            171\n",
       "inversion                   147\n",
       "substitution                113\n",
       "Name: SV_Type, dtype: int64"
      ]
     },
     "execution_count": 32,
     "metadata": {},
     "output_type": "execute_result"
    }
   ],
   "source": [
    "NucDiff_SVs_50bp_OrMore_DF[\"SV_Type\"].value_counts()"
   ]
  },
  {
   "cell_type": "code",
   "execution_count": 33,
   "metadata": {},
   "outputs": [
    {
     "data": {
      "text/plain": [
       "['insertion',\n",
       " 'deletion',\n",
       " 'tandem_duplication',\n",
       " 'duplication',\n",
       " 'collapsed_tandem_repeat',\n",
       " 'collapsed_repeat',\n",
       " 'inversion',\n",
       " 'substitution']"
      ]
     },
     "execution_count": 33,
     "metadata": {},
     "output_type": "execute_result"
    }
   ],
   "source": [
    "list(NucDiff_SVs_50bp_OrMore_DF[\"SV_Type\"].value_counts().index)"
   ]
  },
  {
   "cell_type": "code",
   "execution_count": null,
   "metadata": {},
   "outputs": [],
   "source": []
  },
  {
   "cell_type": "code",
   "execution_count": null,
   "metadata": {},
   "outputs": [],
   "source": []
  },
  {
   "cell_type": "code",
   "execution_count": 34,
   "metadata": {},
   "outputs": [
    {
     "data": {
      "image/png": "[encoded data removed]",
      "text/plain": [
       "<Figure size 720x720 with 1 Axes>"
      ]
     },
     "metadata": {
      "needs_background": "light"
     },
     "output_type": "display_data"
    }
   ],
   "source": [
    "NucDiff_SVs_50bp_OrMore_DF[\"SV_Type\"].value_counts().plot(kind='barh', figsize=(10, 10));"
   ]
  },
  {
   "cell_type": "code",
   "execution_count": null,
   "metadata": {},
   "outputs": [],
   "source": []
  },
  {
   "cell_type": "code",
   "execution_count": 35,
   "metadata": {},
   "outputs": [],
   "source": [
    "df_g = NucDiff_SVs_50bp_OrMore_DF.groupby(['SampleID']).SV_Type.value_counts()"
   ]
  },
  {
   "cell_type": "code",
   "execution_count": 36,
   "metadata": {},
   "outputs": [
    {
     "data": {
      "text/plain": [
       "SampleID  SV_Type                \n",
       "01_R1134  deletion                   19\n",
       "          insertion                  14\n",
       "          tandem_duplication         13\n",
       "          collapsed_tandem_repeat    10\n",
       "          collapsed_repeat            4\n",
       "Name: SV_Type, dtype: int64"
      ]
     },
     "execution_count": 36,
     "metadata": {},
     "output_type": "execute_result"
    }
   ],
   "source": [
    "df_g.head()"
   ]
  },
  {
   "cell_type": "code",
   "execution_count": 37,
   "metadata": {},
   "outputs": [],
   "source": [
    "df1 = df_g.unstack()"
   ]
  },
  {
   "cell_type": "code",
   "execution_count": 38,
   "metadata": {},
   "outputs": [
    {
     "data": {
      "image/png": "[encoded data removed]",
      "text/plain": [
       "<Figure size 1440x1080 with 1 Axes>"
      ]
     },
     "metadata": {
      "needs_background": "light"
     },
     "output_type": "display_data"
    }
   ],
   "source": [
    "df1.plot(kind='barh', figsize=(20, 15), stacked=True)\n",
    "plt.ylabel('count')\n",
    "\n",
    "plt.show()"
   ]
  },
  {
   "cell_type": "code",
   "execution_count": null,
   "metadata": {},
   "outputs": [],
   "source": []
  },
  {
   "cell_type": "code",
   "execution_count": null,
   "metadata": {},
   "outputs": [],
   "source": []
  },
  {
   "cell_type": "code",
   "execution_count": null,
   "metadata": {},
   "outputs": [],
   "source": []
  },
  {
   "cell_type": "code",
   "execution_count": null,
   "metadata": {},
   "outputs": [],
   "source": []
  },
  {
   "cell_type": "code",
   "execution_count": 39,
   "metadata": {},
   "outputs": [
    {
     "data": {
      "image/png": "[encoded data removed]",
      "text/plain": [
       "<Figure size 576x432 with 1 Axes>"
      ]
     },
     "metadata": {
      "needs_background": "light"
     },
     "output_type": "display_data"
    }
   ],
   "source": [
    "NucDiff_SVs_50bp_OrMore_DF[\"SV_Type\"].value_counts().plot(kind='barh', figsize=(8, 6));"
   ]
  },
  {
   "cell_type": "code",
   "execution_count": 40,
   "metadata": {},
   "outputs": [
    {
     "data": {
      "text/html": [
       "<div>\n",
       "<style scoped>\n",
       "    .dataframe tbody tr th:only-of-type {\n",
       "        vertical-align: middle;\n",
       "    }\n",
       "\n",
       "    .dataframe tbody tr th {\n",
       "        vertical-align: top;\n",
       "    }\n",
       "\n",
       "    .dataframe thead th {\n",
       "        text-align: right;\n",
       "    }\n",
       "</style>\n",
       "<table border=\"1\" class=\"dataframe\">\n",
       "  <thead>\n",
       "    <tr style=\"text-align: right;\">\n",
       "      <th></th>\n",
       "      <th>Chrom</th>\n",
       "      <th>start_0based</th>\n",
       "      <th>end_0based</th>\n",
       "      <th>SV_Type</th>\n",
       "      <th>SV_Length</th>\n",
       "      <th>SampleID</th>\n",
       "      <th>PrimaryLineage</th>\n",
       "    </tr>\n",
       "  </thead>\n",
       "  <tbody>\n",
       "    <tr>\n",
       "      <th>3</th>\n",
       "      <td>NC_000962.3</td>\n",
       "      <td>150902</td>\n",
       "      <td>150903</td>\n",
       "      <td>insertion</td>\n",
       "      <td>167</td>\n",
       "      <td>M0011368_9</td>\n",
       "      <td>lineage4</td>\n",
       "    </tr>\n",
       "    <tr>\n",
       "      <th>4</th>\n",
       "      <td>NC_000962.3</td>\n",
       "      <td>335050</td>\n",
       "      <td>337913</td>\n",
       "      <td>tandem_duplication</td>\n",
       "      <td>2862</td>\n",
       "      <td>M0011368_9</td>\n",
       "      <td>lineage4</td>\n",
       "    </tr>\n",
       "    <tr>\n",
       "      <th>5</th>\n",
       "      <td>NC_000962.3</td>\n",
       "      <td>424091</td>\n",
       "      <td>424143</td>\n",
       "      <td>tandem_duplication</td>\n",
       "      <td>51</td>\n",
       "      <td>M0011368_9</td>\n",
       "      <td>lineage4</td>\n",
       "    </tr>\n",
       "    <tr>\n",
       "      <th>6</th>\n",
       "      <td>NC_000962.3</td>\n",
       "      <td>580760</td>\n",
       "      <td>580814</td>\n",
       "      <td>tandem_duplication</td>\n",
       "      <td>53</td>\n",
       "      <td>M0011368_9</td>\n",
       "      <td>lineage4</td>\n",
       "    </tr>\n",
       "    <tr>\n",
       "      <th>8</th>\n",
       "      <td>NC_000962.3</td>\n",
       "      <td>623296</td>\n",
       "      <td>623297</td>\n",
       "      <td>insertion</td>\n",
       "      <td>67</td>\n",
       "      <td>M0011368_9</td>\n",
       "      <td>lineage4</td>\n",
       "    </tr>\n",
       "  </tbody>\n",
       "</table>\n",
       "</div>"
      ],
      "text/plain": [
       "         Chrom  start_0based  end_0based             SV_Type  SV_Length    SampleID PrimaryLineage\n",
       "3  NC_000962.3        150902      150903           insertion        167  M0011368_9       lineage4\n",
       "4  NC_000962.3        335050      337913  tandem_duplication       2862  M0011368_9       lineage4\n",
       "5  NC_000962.3        424091      424143  tandem_duplication         51  M0011368_9       lineage4\n",
       "6  NC_000962.3        580760      580814  tandem_duplication         53  M0011368_9       lineage4\n",
       "8  NC_000962.3        623296      623297           insertion         67  M0011368_9       lineage4"
      ]
     },
     "execution_count": 40,
     "metadata": {},
     "output_type": "execute_result"
    }
   ],
   "source": [
    "NucDiff_SVs_50bp_OrMore_DF.head()"
   ]
  },
  {
   "cell_type": "code",
   "execution_count": null,
   "metadata": {},
   "outputs": [],
   "source": []
  },
  {
   "cell_type": "code",
   "execution_count": 41,
   "metadata": {},
   "outputs": [
    {
     "data": {
      "text/html": [
       "<div>\n",
       "<style scoped>\n",
       "    .dataframe tbody tr th:only-of-type {\n",
       "        vertical-align: middle;\n",
       "    }\n",
       "\n",
       "    .dataframe tbody tr th {\n",
       "        vertical-align: top;\n",
       "    }\n",
       "\n",
       "    .dataframe thead th {\n",
       "        text-align: right;\n",
       "    }\n",
       "</style>\n",
       "<table border=\"1\" class=\"dataframe\">\n",
       "  <thead>\n",
       "    <tr style=\"text-align: right;\">\n",
       "      <th></th>\n",
       "      <th>Chrom</th>\n",
       "      <th>start_0based</th>\n",
       "      <th>end_0based</th>\n",
       "      <th>SV_Type</th>\n",
       "      <th>SV_Length</th>\n",
       "      <th>SampleID</th>\n",
       "      <th>PrimaryLineage</th>\n",
       "    </tr>\n",
       "  </thead>\n",
       "  <tbody>\n",
       "    <tr>\n",
       "      <th>3</th>\n",
       "      <td>NC_000962.3</td>\n",
       "      <td>150902</td>\n",
       "      <td>150903</td>\n",
       "      <td>insertion</td>\n",
       "      <td>167</td>\n",
       "      <td>M0011368_9</td>\n",
       "      <td>lineage4</td>\n",
       "    </tr>\n",
       "    <tr>\n",
       "      <th>4</th>\n",
       "      <td>NC_000962.3</td>\n",
       "      <td>335050</td>\n",
       "      <td>337913</td>\n",
       "      <td>tandem_duplication</td>\n",
       "      <td>2862</td>\n",
       "      <td>M0011368_9</td>\n",
       "      <td>lineage4</td>\n",
       "    </tr>\n",
       "    <tr>\n",
       "      <th>5</th>\n",
       "      <td>NC_000962.3</td>\n",
       "      <td>424091</td>\n",
       "      <td>424143</td>\n",
       "      <td>tandem_duplication</td>\n",
       "      <td>51</td>\n",
       "      <td>M0011368_9</td>\n",
       "      <td>lineage4</td>\n",
       "    </tr>\n",
       "    <tr>\n",
       "      <th>6</th>\n",
       "      <td>NC_000962.3</td>\n",
       "      <td>580760</td>\n",
       "      <td>580814</td>\n",
       "      <td>tandem_duplication</td>\n",
       "      <td>53</td>\n",
       "      <td>M0011368_9</td>\n",
       "      <td>lineage4</td>\n",
       "    </tr>\n",
       "    <tr>\n",
       "      <th>8</th>\n",
       "      <td>NC_000962.3</td>\n",
       "      <td>623296</td>\n",
       "      <td>623297</td>\n",
       "      <td>insertion</td>\n",
       "      <td>67</td>\n",
       "      <td>M0011368_9</td>\n",
       "      <td>lineage4</td>\n",
       "    </tr>\n",
       "  </tbody>\n",
       "</table>\n",
       "</div>"
      ],
      "text/plain": [
       "         Chrom  start_0based  end_0based             SV_Type  SV_Length    SampleID PrimaryLineage\n",
       "3  NC_000962.3        150902      150903           insertion        167  M0011368_9       lineage4\n",
       "4  NC_000962.3        335050      337913  tandem_duplication       2862  M0011368_9       lineage4\n",
       "5  NC_000962.3        424091      424143  tandem_duplication         51  M0011368_9       lineage4\n",
       "6  NC_000962.3        580760      580814  tandem_duplication         53  M0011368_9       lineage4\n",
       "8  NC_000962.3        623296      623297           insertion         67  M0011368_9       lineage4"
      ]
     },
     "execution_count": 41,
     "metadata": {},
     "output_type": "execute_result"
    }
   ],
   "source": [
    "NucDiff_SVs_50bp_OrMore_DF.head()"
   ]
  },
  {
   "cell_type": "code",
   "execution_count": null,
   "metadata": {},
   "outputs": [],
   "source": []
  },
  {
   "cell_type": "code",
   "execution_count": 42,
   "metadata": {},
   "outputs": [],
   "source": [
    "df_g = NucDiff_SVs_50bp_OrMore_DF.groupby(['SampleID']).SV_Type.value_counts()"
   ]
  },
  {
   "cell_type": "code",
   "execution_count": 43,
   "metadata": {},
   "outputs": [
    {
     "data": {
      "text/plain": [
       "SampleID  SV_Type                \n",
       "01_R1134  deletion                   19\n",
       "          insertion                  14\n",
       "          tandem_duplication         13\n",
       "          collapsed_tandem_repeat    10\n",
       "          collapsed_repeat            4\n",
       "          duplication                 4\n",
       "          inversion                   3\n",
       "          substitution                1\n",
       "01_R1430  insertion                  22\n",
       "          deletion                   20\n",
       "Name: SV_Type, dtype: int64"
      ]
     },
     "execution_count": 43,
     "metadata": {},
     "output_type": "execute_result"
    }
   ],
   "source": [
    "df_g.head(10)"
   ]
  },
  {
   "cell_type": "code",
   "execution_count": 44,
   "metadata": {},
   "outputs": [],
   "source": [
    "df1 = df_g.unstack()"
   ]
  },
  {
   "cell_type": "markdown",
   "metadata": {},
   "source": [
    "# C) Plot counts of each SV type across each isolate"
   ]
  },
  {
   "cell_type": "code",
   "execution_count": 45,
   "metadata": {},
   "outputs": [
    {
     "name": "stdout",
     "output_type": "stream",
     "text": [
      "mkdir: cannot create directory ‘./NucDiff_SV_Analysis/’: File exists\n"
     ]
    },
    {
     "data": {
      "image/png": "[encoded data removed]",
      "text/plain": [
       "<Figure size 1440x1080 with 1 Axes>"
      ]
     },
     "metadata": {
      "needs_background": "light"
     },
     "output_type": "display_data"
    }
   ],
   "source": [
    "df1.plot(kind='barh', figsize=(20, 15), stacked=True)\n",
    "\n",
    "plt.ylabel('SampleID')\n",
    "plt.xlabel(\"# of SVs (Length >= 50 bp)\")\n",
    "\n",
    "!mkdir ./NucDiff_SV_Analysis/\n",
    "\n",
    "Output_PNG_PATH = \"./NucDiff_SV_Analysis/SupFig7B_SV_TypeCountsPerIsolate.png\"       \n",
    "Output_PDF_PATH = \"./NucDiff_SV_Analysis/SupFig7B_SV_TypeCountsPerIsolate.pdf\"       \n",
    "\n",
    "plt.savefig(Output_PNG_PATH, bbox_inches='tight', dpi=125)\n",
    "plt.savefig(Output_PDF_PATH, bbox_inches='tight', transparent=True)\n",
    "plt.show()"
   ]
  },
  {
   "cell_type": "code",
   "execution_count": null,
   "metadata": {},
   "outputs": [],
   "source": []
  },
  {
   "cell_type": "code",
   "execution_count": 46,
   "metadata": {},
   "outputs": [],
   "source": [
    "df_g = NucDiff_SVs_50bp_OrMore_DF.groupby(['SampleID']).SV_Type.value_counts()"
   ]
  },
  {
   "cell_type": "code",
   "execution_count": 47,
   "metadata": {},
   "outputs": [],
   "source": [
    "df_g = pd.DataFrame(df_g)\n",
    "df_g.rename(columns={'SV_Type': 'count'}, inplace=True)\n",
    "df_g.reset_index(inplace=True)"
   ]
  },
  {
   "cell_type": "code",
   "execution_count": 48,
   "metadata": {},
   "outputs": [
    {
     "data": {
      "text/html": [
       "<div>\n",
       "<style scoped>\n",
       "    .dataframe tbody tr th:only-of-type {\n",
       "        vertical-align: middle;\n",
       "    }\n",
       "\n",
       "    .dataframe tbody tr th {\n",
       "        vertical-align: top;\n",
       "    }\n",
       "\n",
       "    .dataframe thead th {\n",
       "        text-align: right;\n",
       "    }\n",
       "</style>\n",
       "<table border=\"1\" class=\"dataframe\">\n",
       "  <thead>\n",
       "    <tr style=\"text-align: right;\">\n",
       "      <th></th>\n",
       "      <th>SampleID</th>\n",
       "      <th>SV_Type</th>\n",
       "      <th>count</th>\n",
       "    </tr>\n",
       "  </thead>\n",
       "  <tbody>\n",
       "    <tr>\n",
       "      <th>0</th>\n",
       "      <td>01_R1134</td>\n",
       "      <td>deletion</td>\n",
       "      <td>19</td>\n",
       "    </tr>\n",
       "    <tr>\n",
       "      <th>1</th>\n",
       "      <td>01_R1134</td>\n",
       "      <td>insertion</td>\n",
       "      <td>14</td>\n",
       "    </tr>\n",
       "    <tr>\n",
       "      <th>2</th>\n",
       "      <td>01_R1134</td>\n",
       "      <td>tandem_duplication</td>\n",
       "      <td>13</td>\n",
       "    </tr>\n",
       "  </tbody>\n",
       "</table>\n",
       "</div>"
      ],
      "text/plain": [
       "   SampleID             SV_Type  count\n",
       "0  01_R1134            deletion     19\n",
       "1  01_R1134           insertion     14\n",
       "2  01_R1134  tandem_duplication     13"
      ]
     },
     "execution_count": 48,
     "metadata": {},
     "output_type": "execute_result"
    }
   ],
   "source": [
    "df_g.head(3)"
   ]
  },
  {
   "cell_type": "code",
   "execution_count": 49,
   "metadata": {},
   "outputs": [],
   "source": [
    "#sns.barplot(x='SampleID', y= 'count', data=df_g, hue='SV_Type')\n",
    "#plt.show()"
   ]
  },
  {
   "cell_type": "code",
   "execution_count": null,
   "metadata": {},
   "outputs": [],
   "source": []
  },
  {
   "cell_type": "code",
   "execution_count": null,
   "metadata": {},
   "outputs": [],
   "source": []
  },
  {
   "cell_type": "code",
   "execution_count": null,
   "metadata": {},
   "outputs": [],
   "source": []
  },
  {
   "cell_type": "markdown",
   "metadata": {},
   "source": [
    "### Let's make a dataframe with all UNIQUE SVs detected"
   ]
  },
  {
   "cell_type": "code",
   "execution_count": 50,
   "metadata": {},
   "outputs": [],
   "source": [
    "NucDiff_All_Unique_SVs_Across_36CI_DF = NucDiff_SVs_36CI_DF[[\"Chrom\", \"start_0based\", \"end_0based\", \"SV_Type\", \"SV_Length\"]].drop_duplicates()   #.drop_duplicates([\"Chrom\", \"start\", \"end\", \"SV_Type\"])"
   ]
  },
  {
   "cell_type": "code",
   "execution_count": 51,
   "metadata": {},
   "outputs": [],
   "source": [
    "Unq_Cols = [\"Chrom\", \"start_0based\", \"end_0based\", \"SV_Type\", \"SV_Length\"]\n",
    "\n",
    "NucDiff_All_Unique_SVs_Across_36CI_DF[\"SV_ID\"] = NucDiff_All_Unique_SVs_Across_36CI_DF[Unq_Cols].apply(lambda row: '_'.join(row.values.astype(str)), axis=1)\n"
   ]
  },
  {
   "cell_type": "code",
   "execution_count": 52,
   "metadata": {},
   "outputs": [
    {
     "data": {
      "text/plain": [
       "(1861, 6)"
      ]
     },
     "execution_count": 52,
     "metadata": {},
     "output_type": "execute_result"
    }
   ],
   "source": [
    "NucDiff_All_Unique_SVs_Across_36CI_DF.shape"
   ]
  },
  {
   "cell_type": "code",
   "execution_count": 53,
   "metadata": {},
   "outputs": [
    {
     "data": {
      "text/html": [
       "<div>\n",
       "<style scoped>\n",
       "    .dataframe tbody tr th:only-of-type {\n",
       "        vertical-align: middle;\n",
       "    }\n",
       "\n",
       "    .dataframe tbody tr th {\n",
       "        vertical-align: top;\n",
       "    }\n",
       "\n",
       "    .dataframe thead th {\n",
       "        text-align: right;\n",
       "    }\n",
       "</style>\n",
       "<table border=\"1\" class=\"dataframe\">\n",
       "  <thead>\n",
       "    <tr style=\"text-align: right;\">\n",
       "      <th></th>\n",
       "      <th>Chrom</th>\n",
       "      <th>start_0based</th>\n",
       "      <th>end_0based</th>\n",
       "      <th>SV_Type</th>\n",
       "      <th>SV_Length</th>\n",
       "      <th>SV_ID</th>\n",
       "    </tr>\n",
       "  </thead>\n",
       "  <tbody>\n",
       "    <tr>\n",
       "      <th>0</th>\n",
       "      <td>NC_000962.3</td>\n",
       "      <td>71583</td>\n",
       "      <td>71586</td>\n",
       "      <td>duplication</td>\n",
       "      <td>2</td>\n",
       "      <td>NC_000962.3_71583_71586_duplication_2</td>\n",
       "    </tr>\n",
       "    <tr>\n",
       "      <th>1</th>\n",
       "      <td>NC_000962.3</td>\n",
       "      <td>71585</td>\n",
       "      <td>71586</td>\n",
       "      <td>insertion</td>\n",
       "      <td>35</td>\n",
       "      <td>NC_000962.3_71585_71586_insertion_35</td>\n",
       "    </tr>\n",
       "    <tr>\n",
       "      <th>2</th>\n",
       "      <td>NC_000962.3</td>\n",
       "      <td>150889</td>\n",
       "      <td>150903</td>\n",
       "      <td>duplication</td>\n",
       "      <td>13</td>\n",
       "      <td>NC_000962.3_150889_150903_duplication_13</td>\n",
       "    </tr>\n",
       "    <tr>\n",
       "      <th>3</th>\n",
       "      <td>NC_000962.3</td>\n",
       "      <td>150902</td>\n",
       "      <td>150903</td>\n",
       "      <td>insertion</td>\n",
       "      <td>167</td>\n",
       "      <td>NC_000962.3_150902_150903_insertion_167</td>\n",
       "    </tr>\n",
       "    <tr>\n",
       "      <th>4</th>\n",
       "      <td>NC_000962.3</td>\n",
       "      <td>335050</td>\n",
       "      <td>337913</td>\n",
       "      <td>tandem_duplication</td>\n",
       "      <td>2862</td>\n",
       "      <td>NC_000962.3_335050_337913_tandem_duplication_2862</td>\n",
       "    </tr>\n",
       "  </tbody>\n",
       "</table>\n",
       "</div>"
      ],
      "text/plain": [
       "         Chrom  start_0based  end_0based             SV_Type  SV_Length                                              SV_ID\n",
       "0  NC_000962.3         71583       71586         duplication          2              NC_000962.3_71583_71586_duplication_2\n",
       "1  NC_000962.3         71585       71586           insertion         35               NC_000962.3_71585_71586_insertion_35\n",
       "2  NC_000962.3        150889      150903         duplication         13           NC_000962.3_150889_150903_duplication_13\n",
       "3  NC_000962.3        150902      150903           insertion        167            NC_000962.3_150902_150903_insertion_167\n",
       "4  NC_000962.3        335050      337913  tandem_duplication       2862  NC_000962.3_335050_337913_tandem_duplication_2862"
      ]
     },
     "execution_count": 53,
     "metadata": {},
     "output_type": "execute_result"
    }
   ],
   "source": [
    "NucDiff_All_Unique_SVs_Across_36CI_DF.head()"
   ]
  },
  {
   "cell_type": "code",
   "execution_count": 54,
   "metadata": {},
   "outputs": [],
   "source": [
    "NucDiff_All_Unique_SVs_Across_36CI_2kbAndBigger_DF = NucDiff_All_Unique_SVs_Across_36CI_DF[ NucDiff_All_Unique_SVs_Across_36CI_DF[\"SV_Length\"] >= 2000]"
   ]
  },
  {
   "cell_type": "code",
   "execution_count": 55,
   "metadata": {},
   "outputs": [
    {
     "data": {
      "text/html": [
       "<div>\n",
       "<style scoped>\n",
       "    .dataframe tbody tr th:only-of-type {\n",
       "        vertical-align: middle;\n",
       "    }\n",
       "\n",
       "    .dataframe tbody tr th {\n",
       "        vertical-align: top;\n",
       "    }\n",
       "\n",
       "    .dataframe thead th {\n",
       "        text-align: right;\n",
       "    }\n",
       "</style>\n",
       "<table border=\"1\" class=\"dataframe\">\n",
       "  <thead>\n",
       "    <tr style=\"text-align: right;\">\n",
       "      <th></th>\n",
       "      <th>Chrom</th>\n",
       "      <th>start_0based</th>\n",
       "      <th>end_0based</th>\n",
       "      <th>SV_Type</th>\n",
       "      <th>SV_Length</th>\n",
       "      <th>SV_ID</th>\n",
       "    </tr>\n",
       "  </thead>\n",
       "  <tbody>\n",
       "    <tr>\n",
       "      <th>151</th>\n",
       "      <td>NC_000962.3</td>\n",
       "      <td>1779278</td>\n",
       "      <td>1788513</td>\n",
       "      <td>inversion</td>\n",
       "      <td>9236</td>\n",
       "      <td>NC_000962.3_1779278_1788513_inversion_9236</td>\n",
       "    </tr>\n",
       "    <tr>\n",
       "      <th>273</th>\n",
       "      <td>NC_000962.3</td>\n",
       "      <td>1779278</td>\n",
       "      <td>1788513</td>\n",
       "      <td>deletion</td>\n",
       "      <td>9235</td>\n",
       "      <td>NC_000962.3_1779278_1788513_deletion_9235</td>\n",
       "    </tr>\n",
       "    <tr>\n",
       "      <th>1725</th>\n",
       "      <td>NC_000962.3</td>\n",
       "      <td>1761790</td>\n",
       "      <td>1761791</td>\n",
       "      <td>insertion</td>\n",
       "      <td>2148</td>\n",
       "      <td>NC_000962.3_1761790_1761791_insertion_2148</td>\n",
       "    </tr>\n",
       "    <tr>\n",
       "      <th>1911</th>\n",
       "      <td>NC_000962.3</td>\n",
       "      <td>1761790</td>\n",
       "      <td>1761791</td>\n",
       "      <td>insertion</td>\n",
       "      <td>2151</td>\n",
       "      <td>NC_000962.3_1761790_1761791_insertion_2151</td>\n",
       "    </tr>\n",
       "  </tbody>\n",
       "</table>\n",
       "</div>"
      ],
      "text/plain": [
       "            Chrom  start_0based  end_0based    SV_Type  SV_Length                                       SV_ID\n",
       "151   NC_000962.3       1779278     1788513  inversion       9236  NC_000962.3_1779278_1788513_inversion_9236\n",
       "273   NC_000962.3       1779278     1788513   deletion       9235   NC_000962.3_1779278_1788513_deletion_9235\n",
       "1725  NC_000962.3       1761790     1761791  insertion       2148  NC_000962.3_1761790_1761791_insertion_2148\n",
       "1911  NC_000962.3       1761790     1761791  insertion       2151  NC_000962.3_1761790_1761791_insertion_2151"
      ]
     },
     "execution_count": 55,
     "metadata": {},
     "output_type": "execute_result"
    }
   ],
   "source": [
    "NucDiff_All_Unique_SVs_Across_36CI_2kbAndBigger_DF[   (NucDiff_All_Unique_SVs_Across_36CI_2kbAndBigger_DF[\"start_0based\"] > 1740000) &  (NucDiff_All_Unique_SVs_Across_36CI_2kbAndBigger_DF[\"start_0based\"] < 1780000)]"
   ]
  },
  {
   "cell_type": "code",
   "execution_count": null,
   "metadata": {},
   "outputs": [],
   "source": []
  },
  {
   "cell_type": "code",
   "execution_count": 56,
   "metadata": {},
   "outputs": [
    {
     "data": {
      "text/plain": [
       "deletion              59\n",
       "insertion             55\n",
       "inversion             16\n",
       "duplication            6\n",
       "tandem_duplication     5\n",
       "substitution           2\n",
       "Name: SV_Type, dtype: int64"
      ]
     },
     "execution_count": 56,
     "metadata": {},
     "output_type": "execute_result"
    }
   ],
   "source": [
    "NucDiff_All_Unique_SVs_Across_36CI_2kbAndBigger_DF[\"SV_Type\"].value_counts()"
   ]
  },
  {
   "cell_type": "code",
   "execution_count": 57,
   "metadata": {},
   "outputs": [
    {
     "data": {
      "text/plain": [
       "insertion                  522\n",
       "deletion                   470\n",
       "collapsed_repeat           252\n",
       "duplication                225\n",
       "tandem_duplication         168\n",
       "collapsed_tandem_repeat     80\n",
       "inversion                   76\n",
       "substitution                68\n",
       "Name: SV_Type, dtype: int64"
      ]
     },
     "execution_count": 57,
     "metadata": {},
     "output_type": "execute_result"
    }
   ],
   "source": [
    "NucDiff_All_Unique_SVs_Across_36CI_DF[\"SV_Type\"].value_counts()"
   ]
  },
  {
   "cell_type": "code",
   "execution_count": null,
   "metadata": {},
   "outputs": [],
   "source": []
  },
  {
   "cell_type": "code",
   "execution_count": null,
   "metadata": {},
   "outputs": [],
   "source": []
  },
  {
   "cell_type": "code",
   "execution_count": 58,
   "metadata": {},
   "outputs": [
    {
     "name": "stderr",
     "output_type": "stream",
     "text": [
      "143it [00:12, 11.01it/s]\n"
     ]
    }
   ],
   "source": [
    "listOf_Rows = []\n",
    "\n",
    "for i, row in tqdm(NucDiff_All_Unique_SVs_Across_36CI_2kbAndBigger_DF.iterrows() ):\n",
    "    \n",
    "    #print(row)\n",
    "    \n",
    "    NucDiff_SVs_36CI_DF_Subset_ForSpecificSV = NucDiff_SVs_36CI_DF[ (NucDiff_SVs_36CI_DF[\"start_0based\"] == row[\"start_0based\"] )\n",
    "                                                                     & (NucDiff_SVs_36CI_DF[\"end_0based\"] == row[\"end_0based\"] ) \n",
    "                                                                     & (NucDiff_SVs_36CI_DF[\"SV_Type\"] == row[\"SV_Type\"] ) \n",
    "                                                                     & (NucDiff_SVs_36CI_DF[\"SV_Length\"] == row[\"SV_Length\"] )   ]\n",
    "    \n",
    "\n",
    "    row[\"Freq_Across_28CI\"] = NucDiff_SVs_36CI_DF_Subset_ForSpecificSV.shape[0]\n",
    "    \n",
    "    for sampleID in (SampleIDs_36CI_SOI):\n",
    "        \n",
    "        if sampleID in list(NucDiff_SVs_36CI_DF_Subset_ForSpecificSV[\"SampleID\"].values):\n",
    "            row[f\"{sampleID}\"] = 1\n",
    "        else:\n",
    "            row[f\"{sampleID}\"] = 0\n",
    "    \n",
    "    \n",
    "    listOf_Rows.append(row)\n",
    "    \n",
    "\n",
    "SV_Unq_Counts = pd.DataFrame(listOf_Rows)\n",
    "\n",
    "\n",
    "\n",
    "SV_Unq_Counts.sort_values(\"SV_ID\")\n",
    "SV_Unq_Counts.index = SV_Unq_Counts[\"SV_ID\"]\n"
   ]
  },
  {
   "cell_type": "code",
   "execution_count": 59,
   "metadata": {},
   "outputs": [],
   "source": [
    "#SV_Unq_Counts.head()"
   ]
  },
  {
   "cell_type": "code",
   "execution_count": 60,
   "metadata": {},
   "outputs": [],
   "source": [
    "#PMP_28CI_AssemblySummary_LinInfo_Mapping[\"H37Rv\"] = 'lineage4'\n",
    "#SampleIDs_28CI_WiCircA = SampleIDs_28CI_WiCircA + [\"H37Rv\"]\n",
    "#SV_Unq_Counts[\"H37Rv\"] = 0"
   ]
  },
  {
   "cell_type": "code",
   "execution_count": 61,
   "metadata": {},
   "outputs": [],
   "source": [
    "#SV_Unq_Counts[   (SV_Unq_Counts[\"start\"] > 1750000) &  (SV_Unq_Counts[\"start\"] < 1770000)]"
   ]
  },
  {
   "cell_type": "code",
   "execution_count": null,
   "metadata": {},
   "outputs": [],
   "source": []
  },
  {
   "cell_type": "code",
   "execution_count": 62,
   "metadata": {},
   "outputs": [],
   "source": [
    "SV_Unq_Counts_SamplesPerRow = SV_Unq_Counts[SampleIDs_36CI_SOI].T\n",
    "\n",
    "\n",
    "SV_Unq_Counts_SamplesPerRow[\"PrimaryLineage\"] = SV_Unq_Counts_SamplesPerRow.index.map(ID_To_Lineage_Dict)\n",
    "\n",
    "# subset df\n",
    "M = SV_Unq_Counts_SamplesPerRow.iloc[:, :-1]\n",
    "\n"
   ]
  },
  {
   "cell_type": "code",
   "execution_count": 63,
   "metadata": {},
   "outputs": [
    {
     "data": {
      "text/html": [
       "<div>\n",
       "<style scoped>\n",
       "    .dataframe tbody tr th:only-of-type {\n",
       "        vertical-align: middle;\n",
       "    }\n",
       "\n",
       "    .dataframe tbody tr th {\n",
       "        vertical-align: top;\n",
       "    }\n",
       "\n",
       "    .dataframe thead th {\n",
       "        text-align: right;\n",
       "    }\n",
       "</style>\n",
       "<table border=\"1\" class=\"dataframe\">\n",
       "  <thead>\n",
       "    <tr style=\"text-align: right;\">\n",
       "      <th>SV_ID</th>\n",
       "      <th>NC_000962.3_335050_337913_tandem_duplication_2862</th>\n",
       "      <th>NC_000962.3_1987457_1996100_deletion_8643</th>\n",
       "      <th>NC_000962.3_2026163_2028425_deletion_2262</th>\n",
       "      <th>NC_000962.3_2268724_2268725_insertion_4996</th>\n",
       "      <th>NC_000962.3_3123269_3125705_deletion_2436</th>\n",
       "      <th>NC_000962.3_3711735_3711736_insertion_2727</th>\n",
       "      <th>NC_000962.3_3731031_3735635_deletion_4604</th>\n",
       "      <th>NC_000962.3_335502_337913_duplication_2410</th>\n",
       "      <th>NC_000962.3_1519822_1524571_deletion_4749</th>\n",
       "      <th>NC_000962.3_1779278_1788513_inversion_9236</th>\n",
       "      <th>NC_000962.3_1987701_1987702_insertion_6807</th>\n",
       "      <th>NC_000962.3_2545196_2551675_deletion_6479</th>\n",
       "      <th>NC_000962.3_2786342_2793886_deletion_7544</th>\n",
       "      <th>NC_000962.3_3710380_3710381_insertion_3673</th>\n",
       "      <th>NC_000962.3_3842766_3846460_deletion_3694</th>\n",
       "      <th>NC_000962.3_334657_334658_insertion_2819</th>\n",
       "      <th>NC_000962.3_1779278_1788513_deletion_9235</th>\n",
       "      <th>NC_000962.3_1987701_1987702_insertion_6830</th>\n",
       "      <th>NC_000962.3_2163537_2168184_deletion_4647</th>\n",
       "      <th>NC_000962.3_2634132_2634133_insertion_3956</th>\n",
       "      <th>NC_000962.3_334651_336877_duplication_2225</th>\n",
       "      <th>NC_000962.3_453366_455972_deletion_2606</th>\n",
       "      <th>NC_000962.3_2366768_2366769_insertion_3830</th>\n",
       "      <th>NC_000962.3_335703_337913_duplication_2209</th>\n",
       "      <th>NC_000962.3_1989058_1998841_deletion_9783</th>\n",
       "      <th>NC_000962.3_3710380_3710381_insertion_3867</th>\n",
       "      <th>NC_000962.3_1481708_1481709_insertion_2569</th>\n",
       "      <th>NC_000962.3_1987701_1987702_insertion_6825</th>\n",
       "      <th>NC_000962.3_2163753_2168188_deletion_4435</th>\n",
       "      <th>NC_000962.3_2634050_2634051_insertion_2285</th>\n",
       "      <th>NC_000962.3_1481708_1481709_insertion_2568</th>\n",
       "      <th>NC_000962.3_335051_337913_tandem_duplication_2861</th>\n",
       "      <th>NC_000962.3_888788_888789_insertion_2671</th>\n",
       "      <th>NC_000962.3_1481708_1481709_insertion_2934</th>\n",
       "      <th>NC_000962.3_1989057_1996100_deletion_7043</th>\n",
       "      <th>NC_000962.3_3710380_3710381_insertion_3855</th>\n",
       "      <th>NC_000962.3_3710381_3712822_deletion_2441</th>\n",
       "      <th>NC_000962.3_334651_337913_duplication_3261</th>\n",
       "      <th>NC_000962.3_337912_337913_insertion_2564</th>\n",
       "      <th>NC_000962.3_1987701_1987702_insertion_6808</th>\n",
       "      <th>NC_000962.3_1989056_1989057_insertion_5450</th>\n",
       "      <th>NC_000962.3_2338666_2340759_duplication_2092</th>\n",
       "      <th>NC_000962.3_1987130_1987131_insertion_2314</th>\n",
       "      <th>NC_000962.3_1987131_1996100_deletion_8969</th>\n",
       "      <th>NC_000962.3_3710380_3710381_insertion_3895</th>\n",
       "      <th>NC_000962.3_79575_83035_deletion_3460</th>\n",
       "      <th>NC_000962.3_1989063_1998622_deletion_9559</th>\n",
       "      <th>NC_000962.3_2219417_2219418_insertion_4494</th>\n",
       "      <th>NC_000962.3_3122552_3127926_deletion_5374</th>\n",
       "      <th>NC_000962.3_3710380_3710381_insertion_3567</th>\n",
       "      <th>NC_000962.3_3732791_3732792_insertion_2790</th>\n",
       "      <th>NC_000962.3_840373_840374_insertion_2656</th>\n",
       "      <th>NC_000962.3_1986625_1989057_deletion_2432</th>\n",
       "      <th>NC_000962.3_3552584_3552585_insertion_3471</th>\n",
       "      <th>NC_000962.3_334669_336877_duplication_2207</th>\n",
       "      <th>NC_000962.3_1415886_1415887_insertion_3434</th>\n",
       "      <th>NC_000962.3_1714723_1719659_deletion_4936</th>\n",
       "      <th>NC_000962.3_1761790_1761791_insertion_2148</th>\n",
       "      <th>NC_000962.3_2219418_2221738_substitution_2320</th>\n",
       "      <th>NC_000962.3_2235803_2239116_deletion_3313</th>\n",
       "      <th>NC_000962.3_2330073_2332101_deletion_2028</th>\n",
       "      <th>NC_000962.3_3710380_3710381_insertion_3754</th>\n",
       "      <th>NC_000962.3_3945597_3948135_deletion_2538</th>\n",
       "      <th>NC_000962.3_3948278_3951329_deletion_3051</th>\n",
       "      <th>NC_000962.3_335095_337913_tandem_duplication_2817</th>\n",
       "      <th>NC_000962.3_1415886_1415887_insertion_3442</th>\n",
       "      <th>NC_000962.3_1718911_1721213_deletion_2302</th>\n",
       "      <th>NC_000962.3_1761790_1761791_insertion_2151</th>\n",
       "      <th>NC_000962.3_2219417_2219418_insertion_4495</th>\n",
       "      <th>NC_000962.3_466047_468294_deletion_2247</th>\n",
       "      <th>NC_000962.3_836249_838897_substitution_2648</th>\n",
       "      <th>NC_000962.3_2226598_2232590_deletion_5992</th>\n",
       "      <th>NC_000962.3_3119808_3121937_deletion_2129</th>\n",
       "      <th>NC_000962.3_1896865_1899350_deletion_2485</th>\n",
       "      <th>NC_000962.3_3121742_3127926_deletion_6184</th>\n",
       "      <th>NC_000962.3_945460_948288_deletion_2828</th>\n",
       "      <th>NC_000962.3_1989057_1996099_deletion_7042</th>\n",
       "      <th>NC_000962.3_3710380_3710381_insertion_3798</th>\n",
       "      <th>NC_000962.3_1987701_1987702_insertion_6822</th>\n",
       "      <th>NC_000962.3_2044026_2046094_deletion_2068</th>\n",
       "      <th>NC_000962.3_3119925_3121936_deletion_2011</th>\n",
       "      <th>NC_000962.3_3377418_3379751_deletion_2333</th>\n",
       "      <th>NC_000962.3_3710380_3710381_insertion_3571</th>\n",
       "      <th>NC_000962.3_889048_891461_deletion_2413</th>\n",
       "      <th>NC_000962.3_1997446_1999613_deletion_2167</th>\n",
       "      <th>NC_000962.3_2636942_2636943_insertion_2055</th>\n",
       "      <th>NC_000962.3_3710380_3710381_insertion_4091</th>\n",
       "      <th>NC_000962.3_1989059_1996100_deletion_7041</th>\n",
       "      <th>NC_000962.3_3711735_3711736_insertion_4086</th>\n",
       "      <th>NC_000962.3_335052_337913_tandem_duplication_2860</th>\n",
       "      <th>NC_000962.3_1183274_1213692_inversion_31471</th>\n",
       "      <th>NC_000962.3_1415886_1415887_insertion_3679</th>\n",
       "      <th>NC_000962.3_1875726_1881414_deletion_5688</th>\n",
       "      <th>NC_000962.3_1882831_1887086_inversion_4255</th>\n",
       "      <th>NC_000962.3_3710380_3710381_insertion_4083</th>\n",
       "      <th>NC_000962.3_4056840_4062733_deletion_5893</th>\n",
       "      <th>NC_000962.3_1415886_1415887_insertion_3664</th>\n",
       "      <th>NC_000962.3_3866186_3868230_deletion_2044</th>\n",
       "      <th>NC_000962.3_3740912_3744353_deletion_3441</th>\n",
       "      <th>NC_000962.3_373363_377787_deletion_4424</th>\n",
       "      <th>NC_000962.3_1053787_1053788_insertion_4005</th>\n",
       "      <th>NC_000962.3_1981819_1987702_deletion_5883</th>\n",
       "      <th>NC_000962.3_3115597_3122435_deletion_6838</th>\n",
       "      <th>NC_000962.3_3732570_3736130_deletion_3560</th>\n",
       "      <th>NC_000962.3_3759746_3763348_deletion_3602</th>\n",
       "      <th>NC_000962.3_3945597_3950829_deletion_5232</th>\n",
       "      <th>NC_000962.3_704243_1262963_inversion_559121</th>\n",
       "      <th>NC_000962.3_2219417_2219418_insertion_2702</th>\n",
       "      <th>NC_000962.3_2551370_2551371_insertion_3567</th>\n",
       "      <th>NC_000962.3_3120176_3127926_deletion_7750</th>\n",
       "      <th>NC_000962.3_3379027_3549198_inversion_174139</th>\n",
       "      <th>NC_000962.3_3549199_3551227_inversion_2028</th>\n",
       "      <th>NC_000962.3_3552585_3710381_inversion_156362</th>\n",
       "      <th>NC_000962.3_2627829_2634022_deletion_6193</th>\n",
       "      <th>NC_000962.3_830275_833440_deletion_3165</th>\n",
       "      <th>NC_000962.3_3120176_3122435_deletion_2259</th>\n",
       "      <th>NC_000962.3_1987701_1987702_insertion_6693</th>\n",
       "      <th>NC_000962.3_2366768_2366769_insertion_4115</th>\n",
       "      <th>NC_000962.3_3529093_3529094_insertion_3087</th>\n",
       "      <th>NC_000962.3_3710380_3710381_insertion_3844</th>\n",
       "      <th>NC_000962.3_1989058_1996100_deletion_7042</th>\n",
       "      <th>NC_000962.3_2634132_2634133_insertion_2997</th>\n",
       "      <th>NC_000962.3_3120551_3125705_deletion_5154</th>\n",
       "      <th>NC_000962.3_1986625_1996098_deletion_9473</th>\n",
       "      <th>NC_000962.3_3120524_3122915_deletion_2391</th>\n",
       "      <th>NC_000962.3_3552584_3552585_insertion_3563</th>\n",
       "      <th>NC_000962.3_2635575_2635576_insertion_2160</th>\n",
       "      <th>NC_000962.3_335032_337913_tandem_duplication_2880</th>\n",
       "      <th>NC_000962.3_1987008_1987702_inversion_2052</th>\n",
       "      <th>NC_000962.3_1989057_1997452_deletion_8395</th>\n",
       "      <th>NC_000962.3_2551367_2551368_insertion_6808</th>\n",
       "      <th>NC_000962.3_3448507_3451398_deletion_2891</th>\n",
       "      <th>NC_000962.3_3710380_3710381_insertion_5179</th>\n",
       "      <th>NC_000962.3_1165192_1481735_inversion_318683</th>\n",
       "      <th>NC_000962.3_1481735_1541949_inversion_55468</th>\n",
       "      <th>NC_000962.3_1543307_1715888_inversion_172830</th>\n",
       "      <th>NC_000962.3_1715971_1779278_inversion_63308</th>\n",
       "      <th>NC_000962.3_1789811_1986626_inversion_196815</th>\n",
       "      <th>NC_000962.3_1989059_1996100_inversion_6956</th>\n",
       "      <th>NC_000962.3_1996099_1996100_insertion_6807</th>\n",
       "      <th>NC_000962.3_1997452_2365411_inversion_371530</th>\n",
       "      <th>NC_000962.3_2268720_2268721_insertion_4996</th>\n",
       "      <th>NC_000962.3_2366769_2373843_inversion_7131</th>\n",
       "      <th>PrimaryLineage</th>\n",
       "    </tr>\n",
       "  </thead>\n",
       "  <tbody>\n",
       "    <tr>\n",
       "      <th>DNA120</th>\n",
       "      <td>0</td>\n",
       "      <td>0</td>\n",
       "      <td>0</td>\n",
       "      <td>0</td>\n",
       "      <td>0</td>\n",
       "      <td>0</td>\n",
       "      <td>1</td>\n",
       "      <td>0</td>\n",
       "      <td>0</td>\n",
       "      <td>0</td>\n",
       "      <td>0</td>\n",
       "      <td>0</td>\n",
       "      <td>0</td>\n",
       "      <td>0</td>\n",
       "      <td>0</td>\n",
       "      <td>0</td>\n",
       "      <td>0</td>\n",
       "      <td>0</td>\n",
       "      <td>0</td>\n",
       "      <td>0</td>\n",
       "      <td>0</td>\n",
       "      <td>0</td>\n",
       "      <td>0</td>\n",
       "      <td>0</td>\n",
       "      <td>0</td>\n",
       "      <td>0</td>\n",
       "      <td>0</td>\n",
       "      <td>0</td>\n",
       "      <td>0</td>\n",
       "      <td>0</td>\n",
       "      <td>0</td>\n",
       "      <td>0</td>\n",
       "      <td>0</td>\n",
       "      <td>0</td>\n",
       "      <td>0</td>\n",
       "      <td>0</td>\n",
       "      <td>0</td>\n",
       "      <td>0</td>\n",
       "      <td>0</td>\n",
       "      <td>0</td>\n",
       "      <td>0</td>\n",
       "      <td>0</td>\n",
       "      <td>0</td>\n",
       "      <td>0</td>\n",
       "      <td>0</td>\n",
       "      <td>0</td>\n",
       "      <td>0</td>\n",
       "      <td>0</td>\n",
       "      <td>0</td>\n",
       "      <td>0</td>\n",
       "      <td>0</td>\n",
       "      <td>0</td>\n",
       "      <td>0</td>\n",
       "      <td>0</td>\n",
       "      <td>0</td>\n",
       "      <td>0</td>\n",
       "      <td>0</td>\n",
       "      <td>0</td>\n",
       "      <td>0</td>\n",
       "      <td>0</td>\n",
       "      <td>0</td>\n",
       "      <td>0</td>\n",
       "      <td>0</td>\n",
       "      <td>0</td>\n",
       "      <td>0</td>\n",
       "      <td>0</td>\n",
       "      <td>0</td>\n",
       "      <td>0</td>\n",
       "      <td>0</td>\n",
       "      <td>0</td>\n",
       "      <td>0</td>\n",
       "      <td>0</td>\n",
       "      <td>0</td>\n",
       "      <td>0</td>\n",
       "      <td>0</td>\n",
       "      <td>0</td>\n",
       "      <td>0</td>\n",
       "      <td>0</td>\n",
       "      <td>0</td>\n",
       "      <td>0</td>\n",
       "      <td>0</td>\n",
       "      <td>0</td>\n",
       "      <td>0</td>\n",
       "      <td>0</td>\n",
       "      <td>0</td>\n",
       "      <td>0</td>\n",
       "      <td>0</td>\n",
       "      <td>0</td>\n",
       "      <td>0</td>\n",
       "      <td>0</td>\n",
       "      <td>0</td>\n",
       "      <td>0</td>\n",
       "      <td>0</td>\n",
       "      <td>0</td>\n",
       "      <td>0</td>\n",
       "      <td>0</td>\n",
       "      <td>0</td>\n",
       "      <td>0</td>\n",
       "      <td>0</td>\n",
       "      <td>0</td>\n",
       "      <td>0</td>\n",
       "      <td>0</td>\n",
       "      <td>0</td>\n",
       "      <td>0</td>\n",
       "      <td>0</td>\n",
       "      <td>0</td>\n",
       "      <td>0</td>\n",
       "      <td>0</td>\n",
       "      <td>0</td>\n",
       "      <td>0</td>\n",
       "      <td>0</td>\n",
       "      <td>0</td>\n",
       "      <td>0</td>\n",
       "      <td>0</td>\n",
       "      <td>0</td>\n",
       "      <td>0</td>\n",
       "      <td>0</td>\n",
       "      <td>0</td>\n",
       "      <td>0</td>\n",
       "      <td>0</td>\n",
       "      <td>0</td>\n",
       "      <td>0</td>\n",
       "      <td>0</td>\n",
       "      <td>0</td>\n",
       "      <td>0</td>\n",
       "      <td>0</td>\n",
       "      <td>0</td>\n",
       "      <td>1</td>\n",
       "      <td>1</td>\n",
       "      <td>1</td>\n",
       "      <td>1</td>\n",
       "      <td>1</td>\n",
       "      <td>1</td>\n",
       "      <td>0</td>\n",
       "      <td>0</td>\n",
       "      <td>0</td>\n",
       "      <td>0</td>\n",
       "      <td>0</td>\n",
       "      <td>0</td>\n",
       "      <td>0</td>\n",
       "      <td>0</td>\n",
       "      <td>0</td>\n",
       "      <td>0</td>\n",
       "      <td>lineage4</td>\n",
       "    </tr>\n",
       "    <tr>\n",
       "      <th>DNA188</th>\n",
       "      <td>0</td>\n",
       "      <td>0</td>\n",
       "      <td>0</td>\n",
       "      <td>0</td>\n",
       "      <td>0</td>\n",
       "      <td>0</td>\n",
       "      <td>1</td>\n",
       "      <td>0</td>\n",
       "      <td>1</td>\n",
       "      <td>1</td>\n",
       "      <td>0</td>\n",
       "      <td>1</td>\n",
       "      <td>0</td>\n",
       "      <td>1</td>\n",
       "      <td>1</td>\n",
       "      <td>0</td>\n",
       "      <td>0</td>\n",
       "      <td>0</td>\n",
       "      <td>0</td>\n",
       "      <td>0</td>\n",
       "      <td>0</td>\n",
       "      <td>0</td>\n",
       "      <td>0</td>\n",
       "      <td>0</td>\n",
       "      <td>0</td>\n",
       "      <td>0</td>\n",
       "      <td>0</td>\n",
       "      <td>0</td>\n",
       "      <td>0</td>\n",
       "      <td>0</td>\n",
       "      <td>0</td>\n",
       "      <td>0</td>\n",
       "      <td>0</td>\n",
       "      <td>0</td>\n",
       "      <td>0</td>\n",
       "      <td>0</td>\n",
       "      <td>0</td>\n",
       "      <td>0</td>\n",
       "      <td>0</td>\n",
       "      <td>0</td>\n",
       "      <td>0</td>\n",
       "      <td>0</td>\n",
       "      <td>0</td>\n",
       "      <td>0</td>\n",
       "      <td>0</td>\n",
       "      <td>0</td>\n",
       "      <td>0</td>\n",
       "      <td>0</td>\n",
       "      <td>0</td>\n",
       "      <td>0</td>\n",
       "      <td>0</td>\n",
       "      <td>0</td>\n",
       "      <td>0</td>\n",
       "      <td>0</td>\n",
       "      <td>0</td>\n",
       "      <td>0</td>\n",
       "      <td>0</td>\n",
       "      <td>0</td>\n",
       "      <td>0</td>\n",
       "      <td>0</td>\n",
       "      <td>0</td>\n",
       "      <td>0</td>\n",
       "      <td>0</td>\n",
       "      <td>0</td>\n",
       "      <td>0</td>\n",
       "      <td>0</td>\n",
       "      <td>0</td>\n",
       "      <td>0</td>\n",
       "      <td>0</td>\n",
       "      <td>0</td>\n",
       "      <td>0</td>\n",
       "      <td>0</td>\n",
       "      <td>0</td>\n",
       "      <td>0</td>\n",
       "      <td>0</td>\n",
       "      <td>0</td>\n",
       "      <td>0</td>\n",
       "      <td>0</td>\n",
       "      <td>0</td>\n",
       "      <td>0</td>\n",
       "      <td>0</td>\n",
       "      <td>0</td>\n",
       "      <td>0</td>\n",
       "      <td>0</td>\n",
       "      <td>0</td>\n",
       "      <td>0</td>\n",
       "      <td>0</td>\n",
       "      <td>0</td>\n",
       "      <td>0</td>\n",
       "      <td>0</td>\n",
       "      <td>0</td>\n",
       "      <td>0</td>\n",
       "      <td>0</td>\n",
       "      <td>0</td>\n",
       "      <td>0</td>\n",
       "      <td>0</td>\n",
       "      <td>0</td>\n",
       "      <td>0</td>\n",
       "      <td>0</td>\n",
       "      <td>0</td>\n",
       "      <td>0</td>\n",
       "      <td>0</td>\n",
       "      <td>0</td>\n",
       "      <td>0</td>\n",
       "      <td>0</td>\n",
       "      <td>0</td>\n",
       "      <td>0</td>\n",
       "      <td>0</td>\n",
       "      <td>0</td>\n",
       "      <td>0</td>\n",
       "      <td>0</td>\n",
       "      <td>0</td>\n",
       "      <td>0</td>\n",
       "      <td>0</td>\n",
       "      <td>0</td>\n",
       "      <td>0</td>\n",
       "      <td>0</td>\n",
       "      <td>0</td>\n",
       "      <td>0</td>\n",
       "      <td>0</td>\n",
       "      <td>0</td>\n",
       "      <td>0</td>\n",
       "      <td>0</td>\n",
       "      <td>0</td>\n",
       "      <td>0</td>\n",
       "      <td>0</td>\n",
       "      <td>0</td>\n",
       "      <td>0</td>\n",
       "      <td>0</td>\n",
       "      <td>0</td>\n",
       "      <td>0</td>\n",
       "      <td>0</td>\n",
       "      <td>0</td>\n",
       "      <td>1</td>\n",
       "      <td>1</td>\n",
       "      <td>1</td>\n",
       "      <td>1</td>\n",
       "      <td>1</td>\n",
       "      <td>1</td>\n",
       "      <td>1</td>\n",
       "      <td>1</td>\n",
       "      <td>1</td>\n",
       "      <td>1</td>\n",
       "      <td>lineage4</td>\n",
       "    </tr>\n",
       "    <tr>\n",
       "      <th>DNA086</th>\n",
       "      <td>0</td>\n",
       "      <td>0</td>\n",
       "      <td>0</td>\n",
       "      <td>1</td>\n",
       "      <td>0</td>\n",
       "      <td>0</td>\n",
       "      <td>0</td>\n",
       "      <td>0</td>\n",
       "      <td>0</td>\n",
       "      <td>0</td>\n",
       "      <td>0</td>\n",
       "      <td>0</td>\n",
       "      <td>0</td>\n",
       "      <td>0</td>\n",
       "      <td>1</td>\n",
       "      <td>0</td>\n",
       "      <td>1</td>\n",
       "      <td>0</td>\n",
       "      <td>0</td>\n",
       "      <td>0</td>\n",
       "      <td>1</td>\n",
       "      <td>1</td>\n",
       "      <td>0</td>\n",
       "      <td>0</td>\n",
       "      <td>0</td>\n",
       "      <td>0</td>\n",
       "      <td>0</td>\n",
       "      <td>0</td>\n",
       "      <td>0</td>\n",
       "      <td>0</td>\n",
       "      <td>0</td>\n",
       "      <td>0</td>\n",
       "      <td>0</td>\n",
       "      <td>0</td>\n",
       "      <td>0</td>\n",
       "      <td>0</td>\n",
       "      <td>0</td>\n",
       "      <td>0</td>\n",
       "      <td>0</td>\n",
       "      <td>0</td>\n",
       "      <td>0</td>\n",
       "      <td>0</td>\n",
       "      <td>0</td>\n",
       "      <td>0</td>\n",
       "      <td>0</td>\n",
       "      <td>0</td>\n",
       "      <td>0</td>\n",
       "      <td>0</td>\n",
       "      <td>0</td>\n",
       "      <td>0</td>\n",
       "      <td>0</td>\n",
       "      <td>0</td>\n",
       "      <td>0</td>\n",
       "      <td>0</td>\n",
       "      <td>0</td>\n",
       "      <td>0</td>\n",
       "      <td>0</td>\n",
       "      <td>0</td>\n",
       "      <td>0</td>\n",
       "      <td>0</td>\n",
       "      <td>0</td>\n",
       "      <td>0</td>\n",
       "      <td>0</td>\n",
       "      <td>0</td>\n",
       "      <td>0</td>\n",
       "      <td>0</td>\n",
       "      <td>0</td>\n",
       "      <td>0</td>\n",
       "      <td>0</td>\n",
       "      <td>0</td>\n",
       "      <td>0</td>\n",
       "      <td>0</td>\n",
       "      <td>0</td>\n",
       "      <td>0</td>\n",
       "      <td>0</td>\n",
       "      <td>0</td>\n",
       "      <td>0</td>\n",
       "      <td>0</td>\n",
       "      <td>0</td>\n",
       "      <td>0</td>\n",
       "      <td>0</td>\n",
       "      <td>0</td>\n",
       "      <td>0</td>\n",
       "      <td>0</td>\n",
       "      <td>0</td>\n",
       "      <td>0</td>\n",
       "      <td>0</td>\n",
       "      <td>0</td>\n",
       "      <td>0</td>\n",
       "      <td>0</td>\n",
       "      <td>0</td>\n",
       "      <td>0</td>\n",
       "      <td>0</td>\n",
       "      <td>0</td>\n",
       "      <td>0</td>\n",
       "      <td>0</td>\n",
       "      <td>0</td>\n",
       "      <td>0</td>\n",
       "      <td>0</td>\n",
       "      <td>0</td>\n",
       "      <td>0</td>\n",
       "      <td>0</td>\n",
       "      <td>0</td>\n",
       "      <td>0</td>\n",
       "      <td>0</td>\n",
       "      <td>0</td>\n",
       "      <td>0</td>\n",
       "      <td>0</td>\n",
       "      <td>0</td>\n",
       "      <td>0</td>\n",
       "      <td>0</td>\n",
       "      <td>0</td>\n",
       "      <td>0</td>\n",
       "      <td>0</td>\n",
       "      <td>0</td>\n",
       "      <td>0</td>\n",
       "      <td>0</td>\n",
       "      <td>0</td>\n",
       "      <td>0</td>\n",
       "      <td>0</td>\n",
       "      <td>0</td>\n",
       "      <td>0</td>\n",
       "      <td>0</td>\n",
       "      <td>1</td>\n",
       "      <td>0</td>\n",
       "      <td>1</td>\n",
       "      <td>0</td>\n",
       "      <td>0</td>\n",
       "      <td>0</td>\n",
       "      <td>0</td>\n",
       "      <td>0</td>\n",
       "      <td>0</td>\n",
       "      <td>0</td>\n",
       "      <td>0</td>\n",
       "      <td>0</td>\n",
       "      <td>0</td>\n",
       "      <td>0</td>\n",
       "      <td>0</td>\n",
       "      <td>0</td>\n",
       "      <td>0</td>\n",
       "      <td>0</td>\n",
       "      <td>0</td>\n",
       "      <td>0</td>\n",
       "      <td>lineage4</td>\n",
       "    </tr>\n",
       "  </tbody>\n",
       "</table>\n",
       "</div>"
      ],
      "text/plain": [
       "SV_ID   NC_000962.3_335050_337913_tandem_duplication_2862  NC_000962.3_1987457_1996100_deletion_8643  NC_000962.3_2026163_2028425_deletion_2262  NC_000962.3_2268724_2268725_insertion_4996  NC_000962.3_3123269_3125705_deletion_2436  NC_000962.3_3711735_3711736_insertion_2727  NC_000962.3_3731031_3735635_deletion_4604  NC_000962.3_335502_337913_duplication_2410  NC_000962.3_1519822_1524571_deletion_4749  NC_000962.3_1779278_1788513_inversion_9236  NC_000962.3_1987701_1987702_insertion_6807  NC_000962.3_2545196_2551675_deletion_6479  NC_000962.3_2786342_2793886_deletion_7544  NC_000962.3_3710380_3710381_insertion_3673  NC_000962.3_3842766_3846460_deletion_3694  NC_000962.3_334657_334658_insertion_2819  NC_000962.3_1779278_1788513_deletion_9235  NC_000962.3_1987701_1987702_insertion_6830  NC_000962.3_2163537_2168184_deletion_4647  NC_000962.3_2634132_2634133_insertion_3956  NC_000962.3_334651_336877_duplication_2225  NC_000962.3_453366_455972_deletion_2606  \\\n",
       "DNA120                                                  0                                          0                                          0                                           0                                          0                                           0                                          1                                           0                                          0                                           0                                           0                                          0                                          0                                           0                                          0                                         0                                          0                                           0                                          0                                           0                                           0                                        0   \n",
       "DNA188                                                  0                                          0                                          0                                           0                                          0                                           0                                          1                                           0                                          1                                           1                                           0                                          1                                          0                                           1                                          1                                         0                                          0                                           0                                          0                                           0                                           0                                        0   \n",
       "DNA086                                                  0                                          0                                          0                                           1                                          0                                           0                                          0                                           0                                          0                                           0                                           0                                          0                                          0                                           0                                          1                                         0                                          1                                           0                                          0                                           0                                           1                                        1   \n",
       "\n",
       "SV_ID   NC_000962.3_2366768_2366769_insertion_3830  NC_000962.3_335703_337913_duplication_2209  NC_000962.3_1989058_1998841_deletion_9783  NC_000962.3_3710380_3710381_insertion_3867  NC_000962.3_1481708_1481709_insertion_2569  NC_000962.3_1987701_1987702_insertion_6825  NC_000962.3_2163753_2168188_deletion_4435  NC_000962.3_2634050_2634051_insertion_2285  NC_000962.3_1481708_1481709_insertion_2568  NC_000962.3_335051_337913_tandem_duplication_2861  NC_000962.3_888788_888789_insertion_2671  NC_000962.3_1481708_1481709_insertion_2934  NC_000962.3_1989057_1996100_deletion_7043  NC_000962.3_3710380_3710381_insertion_3855  NC_000962.3_3710381_3712822_deletion_2441  NC_000962.3_334651_337913_duplication_3261  NC_000962.3_337912_337913_insertion_2564  NC_000962.3_1987701_1987702_insertion_6808  NC_000962.3_1989056_1989057_insertion_5450  NC_000962.3_2338666_2340759_duplication_2092  NC_000962.3_1987130_1987131_insertion_2314  NC_000962.3_1987131_1996100_deletion_8969  \\\n",
       "DNA120                                           0                                           0                                          0                                           0                                           0                                           0                                          0                                           0                                           0                                                  0                                         0                                           0                                          0                                           0                                          0                                           0                                         0                                           0                                           0                                             0                                           0                                          0   \n",
       "DNA188                                           0                                           0                                          0                                           0                                           0                                           0                                          0                                           0                                           0                                                  0                                         0                                           0                                          0                                           0                                          0                                           0                                         0                                           0                                           0                                             0                                           0                                          0   \n",
       "DNA086                                           0                                           0                                          0                                           0                                           0                                           0                                          0                                           0                                           0                                                  0                                         0                                           0                                          0                                           0                                          0                                           0                                         0                                           0                                           0                                             0                                           0                                          0   \n",
       "\n",
       "SV_ID   NC_000962.3_3710380_3710381_insertion_3895  NC_000962.3_79575_83035_deletion_3460  NC_000962.3_1989063_1998622_deletion_9559  NC_000962.3_2219417_2219418_insertion_4494  NC_000962.3_3122552_3127926_deletion_5374  NC_000962.3_3710380_3710381_insertion_3567  NC_000962.3_3732791_3732792_insertion_2790  NC_000962.3_840373_840374_insertion_2656  NC_000962.3_1986625_1989057_deletion_2432  NC_000962.3_3552584_3552585_insertion_3471  NC_000962.3_334669_336877_duplication_2207  NC_000962.3_1415886_1415887_insertion_3434  NC_000962.3_1714723_1719659_deletion_4936  NC_000962.3_1761790_1761791_insertion_2148  NC_000962.3_2219418_2221738_substitution_2320  NC_000962.3_2235803_2239116_deletion_3313  NC_000962.3_2330073_2332101_deletion_2028  NC_000962.3_3710380_3710381_insertion_3754  NC_000962.3_3945597_3948135_deletion_2538  NC_000962.3_3948278_3951329_deletion_3051  NC_000962.3_335095_337913_tandem_duplication_2817  NC_000962.3_1415886_1415887_insertion_3442  \\\n",
       "DNA120                                           0                                      0                                          0                                           0                                          0                                           0                                           0                                         0                                          0                                           0                                           0                                           0                                          0                                           0                                              0                                          0                                          0                                           0                                          0                                          0                                                  0                                           0   \n",
       "DNA188                                           0                                      0                                          0                                           0                                          0                                           0                                           0                                         0                                          0                                           0                                           0                                           0                                          0                                           0                                              0                                          0                                          0                                           0                                          0                                          0                                                  0                                           0   \n",
       "DNA086                                           0                                      0                                          0                                           0                                          0                                           0                                           0                                         0                                          0                                           0                                           0                                           0                                          0                                           0                                              0                                          0                                          0                                           0                                          0                                          0                                                  0                                           0   \n",
       "\n",
       "SV_ID   NC_000962.3_1718911_1721213_deletion_2302  NC_000962.3_1761790_1761791_insertion_2151  NC_000962.3_2219417_2219418_insertion_4495  NC_000962.3_466047_468294_deletion_2247  NC_000962.3_836249_838897_substitution_2648  NC_000962.3_2226598_2232590_deletion_5992  NC_000962.3_3119808_3121937_deletion_2129  NC_000962.3_1896865_1899350_deletion_2485  NC_000962.3_3121742_3127926_deletion_6184  NC_000962.3_945460_948288_deletion_2828  NC_000962.3_1989057_1996099_deletion_7042  NC_000962.3_3710380_3710381_insertion_3798  NC_000962.3_1987701_1987702_insertion_6822  NC_000962.3_2044026_2046094_deletion_2068  NC_000962.3_3119925_3121936_deletion_2011  NC_000962.3_3377418_3379751_deletion_2333  NC_000962.3_3710380_3710381_insertion_3571  NC_000962.3_889048_891461_deletion_2413  NC_000962.3_1997446_1999613_deletion_2167  NC_000962.3_2636942_2636943_insertion_2055  NC_000962.3_3710380_3710381_insertion_4091  NC_000962.3_1989059_1996100_deletion_7041  \\\n",
       "DNA120                                          0                                           0                                           0                                        0                                            0                                          0                                          0                                          0                                          0                                        0                                          0                                           0                                           0                                          0                                          0                                          0                                           0                                        0                                          0                                           0                                           0                                          0   \n",
       "DNA188                                          0                                           0                                           0                                        0                                            0                                          0                                          0                                          0                                          0                                        0                                          0                                           0                                           0                                          0                                          0                                          0                                           0                                        0                                          0                                           0                                           0                                          0   \n",
       "DNA086                                          0                                           0                                           0                                        0                                            0                                          0                                          0                                          0                                          0                                        0                                          0                                           0                                           0                                          0                                          0                                          0                                           0                                        0                                          0                                           0                                           0                                          0   \n",
       "\n",
       "SV_ID   NC_000962.3_3711735_3711736_insertion_4086  NC_000962.3_335052_337913_tandem_duplication_2860  NC_000962.3_1183274_1213692_inversion_31471  NC_000962.3_1415886_1415887_insertion_3679  NC_000962.3_1875726_1881414_deletion_5688  NC_000962.3_1882831_1887086_inversion_4255  NC_000962.3_3710380_3710381_insertion_4083  NC_000962.3_4056840_4062733_deletion_5893  NC_000962.3_1415886_1415887_insertion_3664  NC_000962.3_3866186_3868230_deletion_2044  NC_000962.3_3740912_3744353_deletion_3441  NC_000962.3_373363_377787_deletion_4424  NC_000962.3_1053787_1053788_insertion_4005  NC_000962.3_1981819_1987702_deletion_5883  NC_000962.3_3115597_3122435_deletion_6838  NC_000962.3_3732570_3736130_deletion_3560  NC_000962.3_3759746_3763348_deletion_3602  NC_000962.3_3945597_3950829_deletion_5232  NC_000962.3_704243_1262963_inversion_559121  NC_000962.3_2219417_2219418_insertion_2702  NC_000962.3_2551370_2551371_insertion_3567  NC_000962.3_3120176_3127926_deletion_7750  \\\n",
       "DNA120                                           0                                                  0                                            0                                           0                                          0                                           0                                           0                                          0                                           0                                          0                                          0                                        0                                           0                                          0                                          0                                          0                                          0                                          0                                            0                                           0                                           0                                          0   \n",
       "DNA188                                           0                                                  0                                            0                                           0                                          0                                           0                                           0                                          0                                           0                                          0                                          0                                        0                                           0                                          0                                          0                                          0                                          0                                          0                                            0                                           0                                           0                                          0   \n",
       "DNA086                                           0                                                  0                                            0                                           0                                          0                                           0                                           0                                          0                                           0                                          0                                          0                                        0                                           0                                          0                                          0                                          0                                          0                                          0                                            0                                           0                                           0                                          0   \n",
       "\n",
       "SV_ID   NC_000962.3_3379027_3549198_inversion_174139  NC_000962.3_3549199_3551227_inversion_2028  NC_000962.3_3552585_3710381_inversion_156362  NC_000962.3_2627829_2634022_deletion_6193  NC_000962.3_830275_833440_deletion_3165  NC_000962.3_3120176_3122435_deletion_2259  NC_000962.3_1987701_1987702_insertion_6693  NC_000962.3_2366768_2366769_insertion_4115  NC_000962.3_3529093_3529094_insertion_3087  NC_000962.3_3710380_3710381_insertion_3844  NC_000962.3_1989058_1996100_deletion_7042  NC_000962.3_2634132_2634133_insertion_2997  NC_000962.3_3120551_3125705_deletion_5154  NC_000962.3_1986625_1996098_deletion_9473  NC_000962.3_3120524_3122915_deletion_2391  NC_000962.3_3552584_3552585_insertion_3563  NC_000962.3_2635575_2635576_insertion_2160  NC_000962.3_335032_337913_tandem_duplication_2880  NC_000962.3_1987008_1987702_inversion_2052  NC_000962.3_1989057_1997452_deletion_8395  NC_000962.3_2551367_2551368_insertion_6808  NC_000962.3_3448507_3451398_deletion_2891  \\\n",
       "DNA120                                             0                                           0                                             0                                          0                                        0                                          0                                           0                                           0                                           0                                           0                                          0                                           0                                          0                                          0                                          0                                           0                                           0                                                  1                                           1                                          1                                           1                                          1   \n",
       "DNA188                                             0                                           0                                             0                                          0                                        0                                          0                                           0                                           0                                           0                                           0                                          0                                           0                                          0                                          0                                          0                                           0                                           0                                                  0                                           0                                          0                                           0                                          0   \n",
       "DNA086                                             0                                           0                                             0                                          0                                        0                                          0                                           0                                           0                                           0                                           0                                          0                                           0                                          0                                          1                                          0                                           1                                           0                                                  0                                           0                                          0                                           0                                          0   \n",
       "\n",
       "SV_ID   NC_000962.3_3710380_3710381_insertion_5179  NC_000962.3_1165192_1481735_inversion_318683  NC_000962.3_1481735_1541949_inversion_55468  NC_000962.3_1543307_1715888_inversion_172830  NC_000962.3_1715971_1779278_inversion_63308  NC_000962.3_1789811_1986626_inversion_196815  NC_000962.3_1989059_1996100_inversion_6956  NC_000962.3_1996099_1996100_insertion_6807  NC_000962.3_1997452_2365411_inversion_371530  NC_000962.3_2268720_2268721_insertion_4996  NC_000962.3_2366769_2373843_inversion_7131 PrimaryLineage  \n",
       "DNA120                                           1                                             0                                            0                                             0                                            0                                             0                                           0                                           0                                             0                                           0                                           0       lineage4  \n",
       "DNA188                                           0                                             1                                            1                                             1                                            1                                             1                                           1                                           1                                             1                                           1                                           1       lineage4  \n",
       "DNA086                                           0                                             0                                            0                                             0                                            0                                             0                                           0                                           0                                             0                                           0                                           0       lineage4  "
      ]
     },
     "execution_count": 63,
     "metadata": {},
     "output_type": "execute_result"
    }
   ],
   "source": [
    "SV_Unq_Counts_SamplesPerRow.tail(3)"
   ]
  },
  {
   "cell_type": "code",
   "execution_count": null,
   "metadata": {},
   "outputs": [],
   "source": []
  },
  {
   "cell_type": "code",
   "execution_count": null,
   "metadata": {},
   "outputs": [],
   "source": []
  },
  {
   "cell_type": "markdown",
   "metadata": {
    "toc-hr-collapsed": true
   },
   "source": [
    "# Detection of Regions of Difference across the 36 clinical Mtb isolates (lineages 1-6, and 8)"
   ]
  },
  {
   "cell_type": "code",
   "execution_count": 64,
   "metadata": {},
   "outputs": [],
   "source": [
    "\n",
    "MTBC_RD_Ref_Dir = \"../../References/MTBC_RD_References\"\n",
    "\n",
    "RD_MtbDiff_Ref_CSV = f\"{MTBC_RD_Ref_Dir}/RD_MtbDiff_Ref.csv\"\n"
   ]
  },
  {
   "cell_type": "code",
   "execution_count": 65,
   "metadata": {},
   "outputs": [
    {
     "name": "stdout",
     "output_type": "stream",
     "text": [
      "RD_MtbDiff_Ref.csv\n"
     ]
    }
   ],
   "source": [
    "!ls -1 $MTBC_RD_Ref_Dir"
   ]
  },
  {
   "cell_type": "code",
   "execution_count": 66,
   "metadata": {},
   "outputs": [],
   "source": [
    "RDs_MTBC_DF = pd.read_csv(RD_MtbDiff_Ref_CSV)"
   ]
  },
  {
   "cell_type": "code",
   "execution_count": 67,
   "metadata": {},
   "outputs": [
    {
     "data": {
      "text/plain": [
       "(57, 5)"
      ]
     },
     "execution_count": 67,
     "metadata": {},
     "output_type": "execute_result"
    }
   ],
   "source": [
    "RDs_MTBC_DF.shape"
   ]
  },
  {
   "cell_type": "code",
   "execution_count": 68,
   "metadata": {},
   "outputs": [
    {
     "data": {
      "text/html": [
       "<div>\n",
       "<style scoped>\n",
       "    .dataframe tbody tr th:only-of-type {\n",
       "        vertical-align: middle;\n",
       "    }\n",
       "\n",
       "    .dataframe tbody tr th {\n",
       "        vertical-align: top;\n",
       "    }\n",
       "\n",
       "    .dataframe thead th {\n",
       "        text-align: right;\n",
       "    }\n",
       "</style>\n",
       "<table border=\"1\" class=\"dataframe\">\n",
       "  <thead>\n",
       "    <tr style=\"text-align: right;\">\n",
       "      <th></th>\n",
       "      <th>RD_name</th>\n",
       "      <th>Start</th>\n",
       "      <th>Stop</th>\n",
       "      <th>Size</th>\n",
       "      <th>Rv</th>\n",
       "    </tr>\n",
       "  </thead>\n",
       "  <tbody>\n",
       "    <tr>\n",
       "      <th>0</th>\n",
       "      <td>RD711</td>\n",
       "      <td>1501713</td>\n",
       "      <td>1503655</td>\n",
       "      <td>1943</td>\n",
       "      <td>Rv1333-1336</td>\n",
       "    </tr>\n",
       "    <tr>\n",
       "      <th>1</th>\n",
       "      <td>RD702</td>\n",
       "      <td>216795</td>\n",
       "      <td>218516</td>\n",
       "      <td>1722</td>\n",
       "      <td>Rv0186</td>\n",
       "    </tr>\n",
       "    <tr>\n",
       "      <th>2</th>\n",
       "      <td>RD1bcg</td>\n",
       "      <td>4349600</td>\n",
       "      <td>4359000</td>\n",
       "      <td>9400</td>\n",
       "      <td>Rv3871-3879c</td>\n",
       "    </tr>\n",
       "  </tbody>\n",
       "</table>\n",
       "</div>"
      ],
      "text/plain": [
       "  RD_name    Start     Stop  Size            Rv\n",
       "0   RD711  1501713  1503655  1943   Rv1333-1336\n",
       "1   RD702   216795   218516  1722        Rv0186\n",
       "2  RD1bcg  4349600  4359000  9400  Rv3871-3879c"
      ]
     },
     "execution_count": 68,
     "metadata": {},
     "output_type": "execute_result"
    }
   ],
   "source": [
    "RDs_MTBC_DF.head(3)"
   ]
  },
  {
   "cell_type": "code",
   "execution_count": null,
   "metadata": {},
   "outputs": [],
   "source": []
  },
  {
   "cell_type": "code",
   "execution_count": 69,
   "metadata": {},
   "outputs": [
    {
     "data": {
      "text/html": [
       "<div>\n",
       "<style scoped>\n",
       "    .dataframe tbody tr th:only-of-type {\n",
       "        vertical-align: middle;\n",
       "    }\n",
       "\n",
       "    .dataframe tbody tr th {\n",
       "        vertical-align: top;\n",
       "    }\n",
       "\n",
       "    .dataframe thead th {\n",
       "        text-align: right;\n",
       "    }\n",
       "</style>\n",
       "<table border=\"1\" class=\"dataframe\">\n",
       "  <thead>\n",
       "    <tr style=\"text-align: right;\">\n",
       "      <th></th>\n",
       "      <th>RD_name</th>\n",
       "      <th>Start</th>\n",
       "      <th>Stop</th>\n",
       "      <th>Size</th>\n",
       "      <th>Rv</th>\n",
       "    </tr>\n",
       "  </thead>\n",
       "  <tbody>\n",
       "    <tr>\n",
       "      <th>0</th>\n",
       "      <td>RD711</td>\n",
       "      <td>1501713</td>\n",
       "      <td>1503655</td>\n",
       "      <td>1943</td>\n",
       "      <td>Rv1333-1336</td>\n",
       "    </tr>\n",
       "    <tr>\n",
       "      <th>1</th>\n",
       "      <td>RD702</td>\n",
       "      <td>216795</td>\n",
       "      <td>218516</td>\n",
       "      <td>1722</td>\n",
       "      <td>Rv0186</td>\n",
       "    </tr>\n",
       "    <tr>\n",
       "      <th>2</th>\n",
       "      <td>RD1bcg</td>\n",
       "      <td>4349600</td>\n",
       "      <td>4359000</td>\n",
       "      <td>9400</td>\n",
       "      <td>Rv3871-3879c</td>\n",
       "    </tr>\n",
       "    <tr>\n",
       "      <th>3</th>\n",
       "      <td>RD1mic</td>\n",
       "      <td>4340400</td>\n",
       "      <td>4353500</td>\n",
       "      <td>13100</td>\n",
       "      <td>Rv3864-3871</td>\n",
       "    </tr>\n",
       "    <tr>\n",
       "      <th>4</th>\n",
       "      <td>RD2seal</td>\n",
       "      <td>2221000</td>\n",
       "      <td>2222900</td>\n",
       "      <td>1901</td>\n",
       "      <td>Rv1978-1979c</td>\n",
       "    </tr>\n",
       "  </tbody>\n",
       "</table>\n",
       "</div>"
      ],
      "text/plain": [
       "   RD_name    Start     Stop   Size            Rv\n",
       "0    RD711  1501713  1503655   1943   Rv1333-1336\n",
       "1    RD702   216795   218516   1722        Rv0186\n",
       "2   RD1bcg  4349600  4359000   9400  Rv3871-3879c\n",
       "3   RD1mic  4340400  4353500  13100   Rv3864-3871\n",
       "4  RD2seal  2221000  2222900   1901  Rv1978-1979c"
      ]
     },
     "execution_count": 69,
     "metadata": {},
     "output_type": "execute_result"
    }
   ],
   "source": [
    "RDs_MTBC_DF.head()"
   ]
  },
  {
   "cell_type": "code",
   "execution_count": null,
   "metadata": {},
   "outputs": [],
   "source": []
  },
  {
   "cell_type": "code",
   "execution_count": null,
   "metadata": {},
   "outputs": [],
   "source": []
  },
  {
   "cell_type": "code",
   "execution_count": null,
   "metadata": {},
   "outputs": [],
   "source": []
  },
  {
   "cell_type": "code",
   "execution_count": 70,
   "metadata": {},
   "outputs": [
    {
     "name": "stderr",
     "output_type": "stream",
     "text": [
      "57it [00:06,  9.68it/s]\n"
     ]
    }
   ],
   "source": [
    "listOf_Rows = []\n",
    "\n",
    "dictOf_OverlappingSVs_PerRD = {}\n",
    "\n",
    "for i, row in tqdm(RDs_MTBC_DF.iterrows() ):\n",
    "    \n",
    "    #print(row)\n",
    "    \n",
    "    i_RD_Name = row[\"RD_name\"]\n",
    "    i_RD_Start_Area = row[\"Start\"] - 1000\n",
    "    i_RD_End_Area = row[\"Start\"] + 1000\n",
    "\n",
    "    i_RD_Length = int( row[\"Size\"].replace(',', '') )\n",
    "    \n",
    "    \n",
    "    \n",
    "    NucDiff_SVs_36CI_DF_Subset_ForSpecificRD = NucDiff_SVs_36CI_DF[ (NucDiff_SVs_36CI_DF[\"start_0based\"] >= i_RD_Start_Area )\n",
    "                                                                     & (NucDiff_SVs_36CI_DF[\"end_0based\"] <= i_RD_End_Area ) & ( (np.abs(NucDiff_SVs_36CI_DF[\"SV_Length\"] - i_RD_Length)) <= 100) ]\n",
    "    \n",
    "\n",
    "    dictOf_OverlappingSVs_PerRD[i_RD_Name] = NucDiff_SVs_36CI_DF_Subset_ForSpecificRD\n",
    "    \n",
    "    \n",
    "    row[\"Freq_Across_28CI\"] = NucDiff_SVs_36CI_DF_Subset_ForSpecificRD.shape[0]\n",
    "    \n",
    "    for sampleID in (SampleIDs_36CI_SOI):\n",
    "        \n",
    "        if sampleID in list(NucDiff_SVs_36CI_DF_Subset_ForSpecificRD[\"SampleID\"].values):\n",
    "            row[f\"{sampleID}\"] = 1\n",
    "        else:\n",
    "            row[f\"{sampleID}\"] = 0\n",
    "    \n",
    "    listOf_Rows.append(row)\n",
    "    \n",
    "\n",
    "RD_Unq_Counts = pd.DataFrame(listOf_Rows)\n",
    "\n",
    "#RD_Unq_Counts.sort_values(\"RD_name\",)\n",
    "RD_Unq_Counts.index = RD_Unq_Counts[\"RD_name\"]\n"
   ]
  },
  {
   "cell_type": "code",
   "execution_count": 71,
   "metadata": {},
   "outputs": [
    {
     "data": {
      "text/html": [
       "<div>\n",
       "<style scoped>\n",
       "    .dataframe tbody tr th:only-of-type {\n",
       "        vertical-align: middle;\n",
       "    }\n",
       "\n",
       "    .dataframe tbody tr th {\n",
       "        vertical-align: top;\n",
       "    }\n",
       "\n",
       "    .dataframe thead th {\n",
       "        text-align: right;\n",
       "    }\n",
       "</style>\n",
       "<table border=\"1\" class=\"dataframe\">\n",
       "  <thead>\n",
       "    <tr style=\"text-align: right;\">\n",
       "      <th></th>\n",
       "      <th>RD_name</th>\n",
       "      <th>Start</th>\n",
       "      <th>Stop</th>\n",
       "      <th>Size</th>\n",
       "      <th>Rv</th>\n",
       "      <th>Freq_Across_28CI</th>\n",
       "      <th>M0011368_9</th>\n",
       "      <th>M0014888_3</th>\n",
       "      <th>M0016395_7</th>\n",
       "      <th>M0010874_7</th>\n",
       "      <th>01_R1430</th>\n",
       "      <th>02_R0894</th>\n",
       "      <th>02_R1708</th>\n",
       "      <th>02_R1896</th>\n",
       "      <th>M0016737_0</th>\n",
       "      <th>M0017522_5</th>\n",
       "      <th>01_R1134</th>\n",
       "      <th>M0003941_3</th>\n",
       "      <th>02_R1179</th>\n",
       "      <th>N1176</th>\n",
       "      <th>N0072</th>\n",
       "      <th>N0153</th>\n",
       "      <th>N0145</th>\n",
       "      <th>N0155</th>\n",
       "      <th>N0004</th>\n",
       "      <th>N1274</th>\n",
       "      <th>N0054</th>\n",
       "      <th>N1272</th>\n",
       "      <th>N0091</th>\n",
       "      <th>N1202</th>\n",
       "      <th>N1177</th>\n",
       "      <th>RW-TB008</th>\n",
       "      <th>DNA028</th>\n",
       "      <th>DNA075</th>\n",
       "      <th>DNA091</th>\n",
       "      <th>DNA044</th>\n",
       "      <th>DNA020</th>\n",
       "      <th>AZE_02_042</th>\n",
       "      <th>DNA019_Rose</th>\n",
       "      <th>DNA120</th>\n",
       "      <th>DNA188</th>\n",
       "      <th>DNA086</th>\n",
       "    </tr>\n",
       "    <tr>\n",
       "      <th>RD_name</th>\n",
       "      <th></th>\n",
       "      <th></th>\n",
       "      <th></th>\n",
       "      <th></th>\n",
       "      <th></th>\n",
       "      <th></th>\n",
       "      <th></th>\n",
       "      <th></th>\n",
       "      <th></th>\n",
       "      <th></th>\n",
       "      <th></th>\n",
       "      <th></th>\n",
       "      <th></th>\n",
       "      <th></th>\n",
       "      <th></th>\n",
       "      <th></th>\n",
       "      <th></th>\n",
       "      <th></th>\n",
       "      <th></th>\n",
       "      <th></th>\n",
       "      <th></th>\n",
       "      <th></th>\n",
       "      <th></th>\n",
       "      <th></th>\n",
       "      <th></th>\n",
       "      <th></th>\n",
       "      <th></th>\n",
       "      <th></th>\n",
       "      <th></th>\n",
       "      <th></th>\n",
       "      <th></th>\n",
       "      <th></th>\n",
       "      <th></th>\n",
       "      <th></th>\n",
       "      <th></th>\n",
       "      <th></th>\n",
       "      <th></th>\n",
       "      <th></th>\n",
       "      <th></th>\n",
       "      <th></th>\n",
       "      <th></th>\n",
       "      <th></th>\n",
       "    </tr>\n",
       "  </thead>\n",
       "  <tbody>\n",
       "    <tr>\n",
       "      <th>RD711</th>\n",
       "      <td>RD711</td>\n",
       "      <td>1501713</td>\n",
       "      <td>1503655</td>\n",
       "      <td>1943</td>\n",
       "      <td>Rv1333-1336</td>\n",
       "      <td>0</td>\n",
       "      <td>0</td>\n",
       "      <td>0</td>\n",
       "      <td>0</td>\n",
       "      <td>0</td>\n",
       "      <td>0</td>\n",
       "      <td>0</td>\n",
       "      <td>0</td>\n",
       "      <td>0</td>\n",
       "      <td>0</td>\n",
       "      <td>0</td>\n",
       "      <td>0</td>\n",
       "      <td>0</td>\n",
       "      <td>0</td>\n",
       "      <td>0</td>\n",
       "      <td>0</td>\n",
       "      <td>0</td>\n",
       "      <td>0</td>\n",
       "      <td>0</td>\n",
       "      <td>0</td>\n",
       "      <td>0</td>\n",
       "      <td>0</td>\n",
       "      <td>0</td>\n",
       "      <td>0</td>\n",
       "      <td>0</td>\n",
       "      <td>0</td>\n",
       "      <td>0</td>\n",
       "      <td>0</td>\n",
       "      <td>0</td>\n",
       "      <td>0</td>\n",
       "      <td>0</td>\n",
       "      <td>0</td>\n",
       "      <td>0</td>\n",
       "      <td>0</td>\n",
       "      <td>0</td>\n",
       "      <td>0</td>\n",
       "      <td>0</td>\n",
       "    </tr>\n",
       "    <tr>\n",
       "      <th>RD702</th>\n",
       "      <td>RD702</td>\n",
       "      <td>216795</td>\n",
       "      <td>218516</td>\n",
       "      <td>1722</td>\n",
       "      <td>Rv0186</td>\n",
       "      <td>0</td>\n",
       "      <td>0</td>\n",
       "      <td>0</td>\n",
       "      <td>0</td>\n",
       "      <td>0</td>\n",
       "      <td>0</td>\n",
       "      <td>0</td>\n",
       "      <td>0</td>\n",
       "      <td>0</td>\n",
       "      <td>0</td>\n",
       "      <td>0</td>\n",
       "      <td>0</td>\n",
       "      <td>0</td>\n",
       "      <td>0</td>\n",
       "      <td>0</td>\n",
       "      <td>0</td>\n",
       "      <td>0</td>\n",
       "      <td>0</td>\n",
       "      <td>0</td>\n",
       "      <td>0</td>\n",
       "      <td>0</td>\n",
       "      <td>0</td>\n",
       "      <td>0</td>\n",
       "      <td>0</td>\n",
       "      <td>0</td>\n",
       "      <td>0</td>\n",
       "      <td>0</td>\n",
       "      <td>0</td>\n",
       "      <td>0</td>\n",
       "      <td>0</td>\n",
       "      <td>0</td>\n",
       "      <td>0</td>\n",
       "      <td>0</td>\n",
       "      <td>0</td>\n",
       "      <td>0</td>\n",
       "      <td>0</td>\n",
       "      <td>0</td>\n",
       "    </tr>\n",
       "    <tr>\n",
       "      <th>RD1bcg</th>\n",
       "      <td>RD1bcg</td>\n",
       "      <td>4349600</td>\n",
       "      <td>4359000</td>\n",
       "      <td>9400</td>\n",
       "      <td>Rv3871-3879c</td>\n",
       "      <td>0</td>\n",
       "      <td>0</td>\n",
       "      <td>0</td>\n",
       "      <td>0</td>\n",
       "      <td>0</td>\n",
       "      <td>0</td>\n",
       "      <td>0</td>\n",
       "      <td>0</td>\n",
       "      <td>0</td>\n",
       "      <td>0</td>\n",
       "      <td>0</td>\n",
       "      <td>0</td>\n",
       "      <td>0</td>\n",
       "      <td>0</td>\n",
       "      <td>0</td>\n",
       "      <td>0</td>\n",
       "      <td>0</td>\n",
       "      <td>0</td>\n",
       "      <td>0</td>\n",
       "      <td>0</td>\n",
       "      <td>0</td>\n",
       "      <td>0</td>\n",
       "      <td>0</td>\n",
       "      <td>0</td>\n",
       "      <td>0</td>\n",
       "      <td>0</td>\n",
       "      <td>0</td>\n",
       "      <td>0</td>\n",
       "      <td>0</td>\n",
       "      <td>0</td>\n",
       "      <td>0</td>\n",
       "      <td>0</td>\n",
       "      <td>0</td>\n",
       "      <td>0</td>\n",
       "      <td>0</td>\n",
       "      <td>0</td>\n",
       "      <td>0</td>\n",
       "    </tr>\n",
       "  </tbody>\n",
       "</table>\n",
       "</div>"
      ],
      "text/plain": [
       "        RD_name    Start     Stop  Size            Rv  Freq_Across_28CI  M0011368_9  M0014888_3  M0016395_7  M0010874_7  01_R1430  02_R0894  02_R1708  02_R1896  M0016737_0  M0017522_5  01_R1134  M0003941_3  02_R1179  N1176  N0072  N0153  N0145  N0155  N0004  N1274  N0054  N1272  N0091  N1202  N1177  RW-TB008  DNA028  DNA075  DNA091  DNA044  DNA020  AZE_02_042  DNA019_Rose  DNA120  DNA188  DNA086\n",
       "RD_name                                                                                                                                                                                                                                                                                                                                                                                                       \n",
       "RD711     RD711  1501713  1503655  1943   Rv1333-1336                 0           0           0           0           0         0         0         0         0           0           0         0           0         0      0      0      0      0      0      0      0      0      0      0      0      0         0       0       0       0       0       0           0            0       0       0       0\n",
       "RD702     RD702   216795   218516  1722        Rv0186                 0           0           0           0           0         0         0         0         0           0           0         0           0         0      0      0      0      0      0      0      0      0      0      0      0      0         0       0       0       0       0       0           0            0       0       0       0\n",
       "RD1bcg   RD1bcg  4349600  4359000  9400  Rv3871-3879c                 0           0           0           0           0         0         0         0         0           0           0         0           0         0      0      0      0      0      0      0      0      0      0      0      0      0         0       0       0       0       0       0           0            0       0       0       0"
      ]
     },
     "execution_count": 71,
     "metadata": {},
     "output_type": "execute_result"
    }
   ],
   "source": [
    "RD_Unq_Counts.head(3)"
   ]
  },
  {
   "cell_type": "code",
   "execution_count": 72,
   "metadata": {},
   "outputs": [],
   "source": [
    "RD_Unq_Counts_SamplesPerRow = RD_Unq_Counts[SampleIDs_36CI_SOI].T\n",
    "\n",
    "\n",
    "RD_Unq_Counts_SamplesPerRow[\"PrimaryLineage\"] = RD_Unq_Counts_SamplesPerRow.index.map(ID_To_Lineage_Dict)\n",
    "\n",
    "RD_Unq_Counts_SamplesPerRow = RD_Unq_Counts_SamplesPerRow.sort_values(\"PrimaryLineage\")\n",
    "\n",
    "\n",
    "# subset df\n",
    "M_RD = RD_Unq_Counts_SamplesPerRow.iloc[:, :-1]\n",
    "\n"
   ]
  },
  {
   "cell_type": "code",
   "execution_count": null,
   "metadata": {},
   "outputs": [],
   "source": []
  },
  {
   "cell_type": "code",
   "execution_count": 73,
   "metadata": {},
   "outputs": [
    {
     "data": {
      "text/plain": [
       "<seaborn.matrix.ClusterGrid at 0x7f7692af0438>"
      ]
     },
     "execution_count": 73,
     "metadata": {},
     "output_type": "execute_result"
    },
    {
     "data": {
      "image/png": "[encoded data removed]",
      "text/plain": [
       "<Figure size 2880x1080 with 5 Axes>"
      ]
     },
     "metadata": {
      "needs_background": "light"
     },
     "output_type": "display_data"
    }
   ],
   "source": [
    "\n",
    "# color code\n",
    "color_dict = {'lineage1': '#DC7DA0',  #pink\n",
    "              'lineage2': '#0F63A8',  #blue\n",
    "              'lineage3': '#875A99',  #purple\n",
    "              'lineage4': '#ED6330',  #orange\n",
    "              'lineage5': '#653B1B',  #brown\n",
    "              'lineage6': '#4FA76A',  #green\n",
    "              'lineage8': '#FC361B',} #red\n",
    "\n",
    "# map color code to lineage column\n",
    "color_map = pd.Series(RD_Unq_Counts_SamplesPerRow['PrimaryLineage'].map(color_dict).fillna('w'))\n",
    "\n",
    "\n",
    "sns.clustermap(M_RD, \n",
    "               row_colors=color_map,\n",
    "               row_cluster=False,\n",
    "               col_cluster=True, #cbar_pos=None, \n",
    "               figsize=(40,15),\n",
    "               linewidths=.5,\n",
    "               cmap=\"Blues\")\n"
   ]
  },
  {
   "cell_type": "code",
   "execution_count": null,
   "metadata": {},
   "outputs": [],
   "source": []
  },
  {
   "cell_type": "code",
   "execution_count": 74,
   "metadata": {},
   "outputs": [
    {
     "data": {
      "text/html": [
       "<div>\n",
       "<style scoped>\n",
       "    .dataframe tbody tr th:only-of-type {\n",
       "        vertical-align: middle;\n",
       "    }\n",
       "\n",
       "    .dataframe tbody tr th {\n",
       "        vertical-align: top;\n",
       "    }\n",
       "\n",
       "    .dataframe thead th {\n",
       "        text-align: right;\n",
       "    }\n",
       "</style>\n",
       "<table border=\"1\" class=\"dataframe\">\n",
       "  <thead>\n",
       "    <tr style=\"text-align: right;\">\n",
       "      <th>RD_name</th>\n",
       "      <th>RD711</th>\n",
       "      <th>RD702</th>\n",
       "      <th>RD1bcg</th>\n",
       "      <th>RD1mic</th>\n",
       "      <th>RD2seal</th>\n",
       "      <th>RD2bcg</th>\n",
       "      <th>RD12bov</th>\n",
       "      <th>RD12can</th>\n",
       "      <th>RD105</th>\n",
       "      <th>RD239</th>\n",
       "      <th>RD750</th>\n",
       "      <th>RD142</th>\n",
       "      <th>RD150</th>\n",
       "      <th>RD181</th>\n",
       "      <th>RD207</th>\n",
       "      <th>RD115</th>\n",
       "      <th>RD122</th>\n",
       "      <th>RD174</th>\n",
       "      <th>RD182</th>\n",
       "      <th>RD183</th>\n",
       "      <th>RD193</th>\n",
       "      <th>RD219</th>\n",
       "      <th>RD724</th>\n",
       "      <th>RD726</th>\n",
       "      <th>RD761</th>\n",
       "      <th>pks15/1</th>\n",
       "      <th>RD11</th>\n",
       "      <th>RD1</th>\n",
       "      <th>RD2</th>\n",
       "      <th>RD3</th>\n",
       "      <th>RD4</th>\n",
       "      <th>RD5</th>\n",
       "      <th>RD6</th>\n",
       "      <th>RD7</th>\n",
       "      <th>RD8</th>\n",
       "      <th>RD9</th>\n",
       "      <th>RD10</th>\n",
       "      <th>RD12</th>\n",
       "      <th>RD13</th>\n",
       "      <th>RD14</th>\n",
       "      <th>RD108</th>\n",
       "      <th>RD110a</th>\n",
       "      <th>RD127</th>\n",
       "      <th>RD129</th>\n",
       "      <th>RD139BWa</th>\n",
       "      <th>RD144BWa</th>\n",
       "      <th>RD149</th>\n",
       "      <th>RD152</th>\n",
       "      <th>RD165</th>\n",
       "      <th>RD166</th>\n",
       "      <th>RD168BWa</th>\n",
       "      <th>RD182a</th>\n",
       "      <th>RD200BWa</th>\n",
       "      <th>RD213BWa</th>\n",
       "      <th>RD220BWa</th>\n",
       "      <th>RD224ca</th>\n",
       "      <th>RDoryx_wag22</th>\n",
       "      <th>PrimaryLineage</th>\n",
       "    </tr>\n",
       "  </thead>\n",
       "  <tbody>\n",
       "    <tr>\n",
       "      <th>N0072</th>\n",
       "      <td>0</td>\n",
       "      <td>0</td>\n",
       "      <td>0</td>\n",
       "      <td>0</td>\n",
       "      <td>0</td>\n",
       "      <td>0</td>\n",
       "      <td>0</td>\n",
       "      <td>0</td>\n",
       "      <td>0</td>\n",
       "      <td>1</td>\n",
       "      <td>0</td>\n",
       "      <td>0</td>\n",
       "      <td>0</td>\n",
       "      <td>0</td>\n",
       "      <td>0</td>\n",
       "      <td>0</td>\n",
       "      <td>0</td>\n",
       "      <td>0</td>\n",
       "      <td>0</td>\n",
       "      <td>0</td>\n",
       "      <td>0</td>\n",
       "      <td>0</td>\n",
       "      <td>0</td>\n",
       "      <td>0</td>\n",
       "      <td>0</td>\n",
       "      <td>0</td>\n",
       "      <td>0</td>\n",
       "      <td>0</td>\n",
       "      <td>0</td>\n",
       "      <td>0</td>\n",
       "      <td>0</td>\n",
       "      <td>0</td>\n",
       "      <td>0</td>\n",
       "      <td>0</td>\n",
       "      <td>0</td>\n",
       "      <td>0</td>\n",
       "      <td>0</td>\n",
       "      <td>0</td>\n",
       "      <td>0</td>\n",
       "      <td>0</td>\n",
       "      <td>0</td>\n",
       "      <td>0</td>\n",
       "      <td>0</td>\n",
       "      <td>0</td>\n",
       "      <td>0</td>\n",
       "      <td>0</td>\n",
       "      <td>0</td>\n",
       "      <td>0</td>\n",
       "      <td>0</td>\n",
       "      <td>0</td>\n",
       "      <td>0</td>\n",
       "      <td>0</td>\n",
       "      <td>0</td>\n",
       "      <td>0</td>\n",
       "      <td>0</td>\n",
       "      <td>0</td>\n",
       "      <td>0</td>\n",
       "      <td>lineage1</td>\n",
       "    </tr>\n",
       "    <tr>\n",
       "      <th>N0153</th>\n",
       "      <td>0</td>\n",
       "      <td>0</td>\n",
       "      <td>0</td>\n",
       "      <td>0</td>\n",
       "      <td>0</td>\n",
       "      <td>0</td>\n",
       "      <td>0</td>\n",
       "      <td>0</td>\n",
       "      <td>0</td>\n",
       "      <td>1</td>\n",
       "      <td>0</td>\n",
       "      <td>0</td>\n",
       "      <td>0</td>\n",
       "      <td>0</td>\n",
       "      <td>0</td>\n",
       "      <td>0</td>\n",
       "      <td>0</td>\n",
       "      <td>0</td>\n",
       "      <td>0</td>\n",
       "      <td>0</td>\n",
       "      <td>0</td>\n",
       "      <td>0</td>\n",
       "      <td>0</td>\n",
       "      <td>0</td>\n",
       "      <td>0</td>\n",
       "      <td>0</td>\n",
       "      <td>0</td>\n",
       "      <td>0</td>\n",
       "      <td>0</td>\n",
       "      <td>0</td>\n",
       "      <td>0</td>\n",
       "      <td>0</td>\n",
       "      <td>0</td>\n",
       "      <td>0</td>\n",
       "      <td>0</td>\n",
       "      <td>0</td>\n",
       "      <td>0</td>\n",
       "      <td>0</td>\n",
       "      <td>0</td>\n",
       "      <td>0</td>\n",
       "      <td>0</td>\n",
       "      <td>0</td>\n",
       "      <td>0</td>\n",
       "      <td>0</td>\n",
       "      <td>0</td>\n",
       "      <td>0</td>\n",
       "      <td>0</td>\n",
       "      <td>0</td>\n",
       "      <td>0</td>\n",
       "      <td>0</td>\n",
       "      <td>0</td>\n",
       "      <td>0</td>\n",
       "      <td>0</td>\n",
       "      <td>0</td>\n",
       "      <td>0</td>\n",
       "      <td>0</td>\n",
       "      <td>0</td>\n",
       "      <td>lineage1</td>\n",
       "    </tr>\n",
       "    <tr>\n",
       "      <th>N0155</th>\n",
       "      <td>0</td>\n",
       "      <td>0</td>\n",
       "      <td>0</td>\n",
       "      <td>0</td>\n",
       "      <td>0</td>\n",
       "      <td>0</td>\n",
       "      <td>0</td>\n",
       "      <td>0</td>\n",
       "      <td>0</td>\n",
       "      <td>0</td>\n",
       "      <td>0</td>\n",
       "      <td>0</td>\n",
       "      <td>0</td>\n",
       "      <td>1</td>\n",
       "      <td>0</td>\n",
       "      <td>0</td>\n",
       "      <td>0</td>\n",
       "      <td>0</td>\n",
       "      <td>0</td>\n",
       "      <td>0</td>\n",
       "      <td>0</td>\n",
       "      <td>0</td>\n",
       "      <td>0</td>\n",
       "      <td>0</td>\n",
       "      <td>0</td>\n",
       "      <td>0</td>\n",
       "      <td>0</td>\n",
       "      <td>0</td>\n",
       "      <td>0</td>\n",
       "      <td>0</td>\n",
       "      <td>0</td>\n",
       "      <td>0</td>\n",
       "      <td>0</td>\n",
       "      <td>0</td>\n",
       "      <td>0</td>\n",
       "      <td>0</td>\n",
       "      <td>0</td>\n",
       "      <td>0</td>\n",
       "      <td>0</td>\n",
       "      <td>0</td>\n",
       "      <td>0</td>\n",
       "      <td>0</td>\n",
       "      <td>0</td>\n",
       "      <td>0</td>\n",
       "      <td>0</td>\n",
       "      <td>0</td>\n",
       "      <td>0</td>\n",
       "      <td>0</td>\n",
       "      <td>0</td>\n",
       "      <td>0</td>\n",
       "      <td>0</td>\n",
       "      <td>0</td>\n",
       "      <td>0</td>\n",
       "      <td>0</td>\n",
       "      <td>0</td>\n",
       "      <td>0</td>\n",
       "      <td>0</td>\n",
       "      <td>lineage2</td>\n",
       "    </tr>\n",
       "    <tr>\n",
       "      <th>M0003941_3</th>\n",
       "      <td>0</td>\n",
       "      <td>0</td>\n",
       "      <td>0</td>\n",
       "      <td>0</td>\n",
       "      <td>0</td>\n",
       "      <td>0</td>\n",
       "      <td>0</td>\n",
       "      <td>0</td>\n",
       "      <td>0</td>\n",
       "      <td>0</td>\n",
       "      <td>0</td>\n",
       "      <td>0</td>\n",
       "      <td>0</td>\n",
       "      <td>1</td>\n",
       "      <td>0</td>\n",
       "      <td>0</td>\n",
       "      <td>0</td>\n",
       "      <td>0</td>\n",
       "      <td>0</td>\n",
       "      <td>0</td>\n",
       "      <td>0</td>\n",
       "      <td>0</td>\n",
       "      <td>0</td>\n",
       "      <td>0</td>\n",
       "      <td>0</td>\n",
       "      <td>0</td>\n",
       "      <td>0</td>\n",
       "      <td>0</td>\n",
       "      <td>0</td>\n",
       "      <td>0</td>\n",
       "      <td>0</td>\n",
       "      <td>0</td>\n",
       "      <td>0</td>\n",
       "      <td>0</td>\n",
       "      <td>0</td>\n",
       "      <td>0</td>\n",
       "      <td>0</td>\n",
       "      <td>0</td>\n",
       "      <td>0</td>\n",
       "      <td>0</td>\n",
       "      <td>0</td>\n",
       "      <td>0</td>\n",
       "      <td>0</td>\n",
       "      <td>0</td>\n",
       "      <td>0</td>\n",
       "      <td>0</td>\n",
       "      <td>0</td>\n",
       "      <td>0</td>\n",
       "      <td>0</td>\n",
       "      <td>0</td>\n",
       "      <td>0</td>\n",
       "      <td>0</td>\n",
       "      <td>0</td>\n",
       "      <td>0</td>\n",
       "      <td>0</td>\n",
       "      <td>0</td>\n",
       "      <td>0</td>\n",
       "      <td>lineage2</td>\n",
       "    </tr>\n",
       "    <tr>\n",
       "      <th>DNA075</th>\n",
       "      <td>0</td>\n",
       "      <td>0</td>\n",
       "      <td>0</td>\n",
       "      <td>0</td>\n",
       "      <td>0</td>\n",
       "      <td>0</td>\n",
       "      <td>0</td>\n",
       "      <td>0</td>\n",
       "      <td>0</td>\n",
       "      <td>0</td>\n",
       "      <td>0</td>\n",
       "      <td>0</td>\n",
       "      <td>0</td>\n",
       "      <td>1</td>\n",
       "      <td>0</td>\n",
       "      <td>0</td>\n",
       "      <td>0</td>\n",
       "      <td>0</td>\n",
       "      <td>0</td>\n",
       "      <td>0</td>\n",
       "      <td>0</td>\n",
       "      <td>0</td>\n",
       "      <td>0</td>\n",
       "      <td>0</td>\n",
       "      <td>0</td>\n",
       "      <td>0</td>\n",
       "      <td>0</td>\n",
       "      <td>0</td>\n",
       "      <td>0</td>\n",
       "      <td>0</td>\n",
       "      <td>0</td>\n",
       "      <td>0</td>\n",
       "      <td>0</td>\n",
       "      <td>0</td>\n",
       "      <td>0</td>\n",
       "      <td>0</td>\n",
       "      <td>0</td>\n",
       "      <td>0</td>\n",
       "      <td>0</td>\n",
       "      <td>0</td>\n",
       "      <td>0</td>\n",
       "      <td>0</td>\n",
       "      <td>0</td>\n",
       "      <td>0</td>\n",
       "      <td>0</td>\n",
       "      <td>0</td>\n",
       "      <td>0</td>\n",
       "      <td>0</td>\n",
       "      <td>0</td>\n",
       "      <td>0</td>\n",
       "      <td>0</td>\n",
       "      <td>0</td>\n",
       "      <td>0</td>\n",
       "      <td>0</td>\n",
       "      <td>0</td>\n",
       "      <td>0</td>\n",
       "      <td>0</td>\n",
       "      <td>lineage2</td>\n",
       "    </tr>\n",
       "  </tbody>\n",
       "</table>\n",
       "</div>"
      ],
      "text/plain": [
       "RD_name     RD711  RD702  RD1bcg  RD1mic  RD2seal  RD2bcg  RD12bov  RD12can  RD105  RD239  RD750  RD142  RD150  RD181  RD207  RD115  RD122  RD174  RD182  RD183  RD193  RD219  RD724  RD726  RD761  pks15/1  RD11  RD1  RD2  RD3  RD4  RD5  RD6  RD7  RD8  RD9  RD10  RD12  RD13  RD14  RD108  RD110a  RD127  RD129  RD139BWa  RD144BWa  RD149  RD152  RD165  RD166  RD168BWa  RD182a  RD200BWa  RD213BWa  RD220BWa  RD224ca  RDoryx_wag22 PrimaryLineage\n",
       "N0072           0      0       0       0        0       0        0        0      0      1      0      0      0      0      0      0      0      0      0      0      0      0      0      0      0        0     0    0    0    0    0    0    0    0    0    0     0     0     0     0      0       0      0      0         0         0      0      0      0      0         0       0         0         0         0        0             0       lineage1\n",
       "N0153           0      0       0       0        0       0        0        0      0      1      0      0      0      0      0      0      0      0      0      0      0      0      0      0      0        0     0    0    0    0    0    0    0    0    0    0     0     0     0     0      0       0      0      0         0         0      0      0      0      0         0       0         0         0         0        0             0       lineage1\n",
       "N0155           0      0       0       0        0       0        0        0      0      0      0      0      0      1      0      0      0      0      0      0      0      0      0      0      0        0     0    0    0    0    0    0    0    0    0    0     0     0     0     0      0       0      0      0         0         0      0      0      0      0         0       0         0         0         0        0             0       lineage2\n",
       "M0003941_3      0      0       0       0        0       0        0        0      0      0      0      0      0      1      0      0      0      0      0      0      0      0      0      0      0        0     0    0    0    0    0    0    0    0    0    0     0     0     0     0      0       0      0      0         0         0      0      0      0      0         0       0         0         0         0        0             0       lineage2\n",
       "DNA075          0      0       0       0        0       0        0        0      0      0      0      0      0      1      0      0      0      0      0      0      0      0      0      0      0        0     0    0    0    0    0    0    0    0    0    0     0     0     0     0      0       0      0      0         0         0      0      0      0      0         0       0         0         0         0        0             0       lineage2"
      ]
     },
     "execution_count": 74,
     "metadata": {},
     "output_type": "execute_result"
    }
   ],
   "source": [
    "RD_Unq_Counts_SamplesPerRow.head()"
   ]
  },
  {
   "cell_type": "code",
   "execution_count": 75,
   "metadata": {},
   "outputs": [],
   "source": [
    "RD_Unq_Counts_SamplesPerRow_MTBC_RDsOnly = RD_Unq_Counts_SamplesPerRow[[\"RD239\", \"RD181\", \"RD750\", \"PrimaryLineage\"]]\n",
    "M_RD_MTBC_RDsOnly = RD_Unq_Counts_SamplesPerRow_MTBC_RDsOnly.iloc[:, :-1]\n"
   ]
  },
  {
   "cell_type": "code",
   "execution_count": null,
   "metadata": {},
   "outputs": [],
   "source": []
  },
  {
   "cell_type": "code",
   "execution_count": 76,
   "metadata": {},
   "outputs": [
    {
     "data": {
      "text/html": [
       "<div>\n",
       "<style scoped>\n",
       "    .dataframe tbody tr th:only-of-type {\n",
       "        vertical-align: middle;\n",
       "    }\n",
       "\n",
       "    .dataframe tbody tr th {\n",
       "        vertical-align: top;\n",
       "    }\n",
       "\n",
       "    .dataframe thead th {\n",
       "        text-align: right;\n",
       "    }\n",
       "</style>\n",
       "<table border=\"1\" class=\"dataframe\">\n",
       "  <thead>\n",
       "    <tr style=\"text-align: right;\">\n",
       "      <th>RD_name</th>\n",
       "      <th>RD239</th>\n",
       "      <th>RD181</th>\n",
       "      <th>RD750</th>\n",
       "      <th>PrimaryLineage</th>\n",
       "    </tr>\n",
       "  </thead>\n",
       "  <tbody>\n",
       "    <tr>\n",
       "      <th>N0072</th>\n",
       "      <td>1</td>\n",
       "      <td>0</td>\n",
       "      <td>0</td>\n",
       "      <td>lineage1</td>\n",
       "    </tr>\n",
       "    <tr>\n",
       "      <th>N0153</th>\n",
       "      <td>1</td>\n",
       "      <td>0</td>\n",
       "      <td>0</td>\n",
       "      <td>lineage1</td>\n",
       "    </tr>\n",
       "  </tbody>\n",
       "</table>\n",
       "</div>"
      ],
      "text/plain": [
       "RD_name  RD239  RD181  RD750 PrimaryLineage\n",
       "N0072        1      0      0       lineage1\n",
       "N0153        1      0      0       lineage1"
      ]
     },
     "execution_count": 76,
     "metadata": {},
     "output_type": "execute_result"
    }
   ],
   "source": [
    "RD_Unq_Counts_SamplesPerRow_MTBC_RDsOnly.head(2)"
   ]
  },
  {
   "cell_type": "code",
   "execution_count": null,
   "metadata": {},
   "outputs": [],
   "source": []
  },
  {
   "cell_type": "code",
   "execution_count": 77,
   "metadata": {},
   "outputs": [
    {
     "data": {
      "text/html": [
       "<div>\n",
       "<style scoped>\n",
       "    .dataframe tbody tr th:only-of-type {\n",
       "        vertical-align: middle;\n",
       "    }\n",
       "\n",
       "    .dataframe tbody tr th {\n",
       "        vertical-align: top;\n",
       "    }\n",
       "\n",
       "    .dataframe thead th {\n",
       "        text-align: right;\n",
       "    }\n",
       "</style>\n",
       "<table border=\"1\" class=\"dataframe\">\n",
       "  <thead>\n",
       "    <tr style=\"text-align: right;\">\n",
       "      <th></th>\n",
       "      <th>RD_name</th>\n",
       "      <th>Start</th>\n",
       "      <th>Stop</th>\n",
       "      <th>Size</th>\n",
       "      <th>Rv</th>\n",
       "    </tr>\n",
       "  </thead>\n",
       "  <tbody>\n",
       "    <tr>\n",
       "      <th>0</th>\n",
       "      <td>RD711</td>\n",
       "      <td>1501713</td>\n",
       "      <td>1503655</td>\n",
       "      <td>1943</td>\n",
       "      <td>Rv1333-1336</td>\n",
       "    </tr>\n",
       "    <tr>\n",
       "      <th>1</th>\n",
       "      <td>RD702</td>\n",
       "      <td>216795</td>\n",
       "      <td>218516</td>\n",
       "      <td>1722</td>\n",
       "      <td>Rv0186</td>\n",
       "    </tr>\n",
       "    <tr>\n",
       "      <th>2</th>\n",
       "      <td>RD1bcg</td>\n",
       "      <td>4349600</td>\n",
       "      <td>4359000</td>\n",
       "      <td>9400</td>\n",
       "      <td>Rv3871-3879c</td>\n",
       "    </tr>\n",
       "    <tr>\n",
       "      <th>3</th>\n",
       "      <td>RD1mic</td>\n",
       "      <td>4340400</td>\n",
       "      <td>4353500</td>\n",
       "      <td>13100</td>\n",
       "      <td>Rv3864-3871</td>\n",
       "    </tr>\n",
       "    <tr>\n",
       "      <th>4</th>\n",
       "      <td>RD2seal</td>\n",
       "      <td>2221000</td>\n",
       "      <td>2222900</td>\n",
       "      <td>1901</td>\n",
       "      <td>Rv1978-1979c</td>\n",
       "    </tr>\n",
       "  </tbody>\n",
       "</table>\n",
       "</div>"
      ],
      "text/plain": [
       "   RD_name    Start     Stop   Size            Rv\n",
       "0    RD711  1501713  1503655   1943   Rv1333-1336\n",
       "1    RD702   216795   218516   1722        Rv0186\n",
       "2   RD1bcg  4349600  4359000   9400  Rv3871-3879c\n",
       "3   RD1mic  4340400  4353500  13100   Rv3864-3871\n",
       "4  RD2seal  2221000  2222900   1901  Rv1978-1979c"
      ]
     },
     "execution_count": 77,
     "metadata": {},
     "output_type": "execute_result"
    }
   ],
   "source": [
    "RDs_MTBC_DF.head()"
   ]
  },
  {
   "cell_type": "markdown",
   "metadata": {},
   "source": [
    "### RD239 (in lineage 1 only)"
   ]
  },
  {
   "cell_type": "code",
   "execution_count": 78,
   "metadata": {},
   "outputs": [
    {
     "data": {
      "text/html": [
       "<div>\n",
       "<style scoped>\n",
       "    .dataframe tbody tr th:only-of-type {\n",
       "        vertical-align: middle;\n",
       "    }\n",
       "\n",
       "    .dataframe tbody tr th {\n",
       "        vertical-align: top;\n",
       "    }\n",
       "\n",
       "    .dataframe thead th {\n",
       "        text-align: right;\n",
       "    }\n",
       "</style>\n",
       "<table border=\"1\" class=\"dataframe\">\n",
       "  <thead>\n",
       "    <tr style=\"text-align: right;\">\n",
       "      <th></th>\n",
       "      <th>RD_name</th>\n",
       "      <th>Start</th>\n",
       "      <th>Stop</th>\n",
       "      <th>Size</th>\n",
       "      <th>Rv</th>\n",
       "    </tr>\n",
       "  </thead>\n",
       "  <tbody>\n",
       "    <tr>\n",
       "      <th>9</th>\n",
       "      <td>RD239</td>\n",
       "      <td>4092077</td>\n",
       "      <td>4092919</td>\n",
       "      <td>843</td>\n",
       "      <td>Rv3651</td>\n",
       "    </tr>\n",
       "  </tbody>\n",
       "</table>\n",
       "</div>"
      ],
      "text/plain": [
       "  RD_name    Start     Stop Size      Rv\n",
       "9   RD239  4092077  4092919  843  Rv3651"
      ]
     },
     "execution_count": 78,
     "metadata": {},
     "output_type": "execute_result"
    }
   ],
   "source": [
    "RDs_MTBC_DF[RDs_MTBC_DF[\"RD_name\"] == \"RD239\"]"
   ]
  },
  {
   "cell_type": "code",
   "execution_count": 79,
   "metadata": {},
   "outputs": [
    {
     "data": {
      "text/html": [
       "<div>\n",
       "<style scoped>\n",
       "    .dataframe tbody tr th:only-of-type {\n",
       "        vertical-align: middle;\n",
       "    }\n",
       "\n",
       "    .dataframe tbody tr th {\n",
       "        vertical-align: top;\n",
       "    }\n",
       "\n",
       "    .dataframe thead th {\n",
       "        text-align: right;\n",
       "    }\n",
       "</style>\n",
       "<table border=\"1\" class=\"dataframe\">\n",
       "  <thead>\n",
       "    <tr style=\"text-align: right;\">\n",
       "      <th></th>\n",
       "      <th>Chrom</th>\n",
       "      <th>start_0based</th>\n",
       "      <th>end_0based</th>\n",
       "      <th>SV_Type</th>\n",
       "      <th>SV_Length</th>\n",
       "      <th>SampleID</th>\n",
       "      <th>PrimaryLineage</th>\n",
       "    </tr>\n",
       "  </thead>\n",
       "  <tbody>\n",
       "    <tr>\n",
       "      <th>2013</th>\n",
       "      <td>NC_000962.3</td>\n",
       "      <td>4092081</td>\n",
       "      <td>4092921</td>\n",
       "      <td>deletion</td>\n",
       "      <td>840</td>\n",
       "      <td>N0072</td>\n",
       "      <td>lineage1</td>\n",
       "    </tr>\n",
       "    <tr>\n",
       "      <th>2188</th>\n",
       "      <td>NC_000962.3</td>\n",
       "      <td>4092081</td>\n",
       "      <td>4092921</td>\n",
       "      <td>deletion</td>\n",
       "      <td>840</td>\n",
       "      <td>N0153</td>\n",
       "      <td>lineage1</td>\n",
       "    </tr>\n",
       "  </tbody>\n",
       "</table>\n",
       "</div>"
      ],
      "text/plain": [
       "            Chrom  start_0based  end_0based   SV_Type  SV_Length SampleID PrimaryLineage\n",
       "2013  NC_000962.3       4092081     4092921  deletion        840    N0072       lineage1\n",
       "2188  NC_000962.3       4092081     4092921  deletion        840    N0153       lineage1"
      ]
     },
     "execution_count": 79,
     "metadata": {},
     "output_type": "execute_result"
    }
   ],
   "source": [
    "dictOf_OverlappingSVs_PerRD[\"RD239\"]"
   ]
  },
  {
   "cell_type": "markdown",
   "metadata": {},
   "source": [
    "### RD181 (in lineage 2 only)"
   ]
  },
  {
   "cell_type": "code",
   "execution_count": 80,
   "metadata": {},
   "outputs": [
    {
     "data": {
      "text/html": [
       "<div>\n",
       "<style scoped>\n",
       "    .dataframe tbody tr th:only-of-type {\n",
       "        vertical-align: middle;\n",
       "    }\n",
       "\n",
       "    .dataframe tbody tr th {\n",
       "        vertical-align: top;\n",
       "    }\n",
       "\n",
       "    .dataframe thead th {\n",
       "        text-align: right;\n",
       "    }\n",
       "</style>\n",
       "<table border=\"1\" class=\"dataframe\">\n",
       "  <thead>\n",
       "    <tr style=\"text-align: right;\">\n",
       "      <th></th>\n",
       "      <th>RD_name</th>\n",
       "      <th>Start</th>\n",
       "      <th>Stop</th>\n",
       "      <th>Size</th>\n",
       "      <th>Rv</th>\n",
       "    </tr>\n",
       "  </thead>\n",
       "  <tbody>\n",
       "    <tr>\n",
       "      <th>13</th>\n",
       "      <td>RD181</td>\n",
       "      <td>2535429</td>\n",
       "      <td>2536140</td>\n",
       "      <td>712</td>\n",
       "      <td>Rv2262c-2263</td>\n",
       "    </tr>\n",
       "  </tbody>\n",
       "</table>\n",
       "</div>"
      ],
      "text/plain": [
       "   RD_name    Start     Stop Size            Rv\n",
       "13   RD181  2535429  2536140  712  Rv2262c-2263"
      ]
     },
     "execution_count": 80,
     "metadata": {},
     "output_type": "execute_result"
    }
   ],
   "source": [
    "RDs_MTBC_DF[RDs_MTBC_DF[\"RD_name\"] == \"RD181\"]"
   ]
  },
  {
   "cell_type": "code",
   "execution_count": 81,
   "metadata": {},
   "outputs": [
    {
     "data": {
      "text/html": [
       "<div>\n",
       "<style scoped>\n",
       "    .dataframe tbody tr th:only-of-type {\n",
       "        vertical-align: middle;\n",
       "    }\n",
       "\n",
       "    .dataframe tbody tr th {\n",
       "        vertical-align: top;\n",
       "    }\n",
       "\n",
       "    .dataframe thead th {\n",
       "        text-align: right;\n",
       "    }\n",
       "</style>\n",
       "<table border=\"1\" class=\"dataframe\">\n",
       "  <thead>\n",
       "    <tr style=\"text-align: right;\">\n",
       "      <th></th>\n",
       "      <th>Chrom</th>\n",
       "      <th>start_0based</th>\n",
       "      <th>end_0based</th>\n",
       "      <th>SV_Type</th>\n",
       "      <th>SV_Length</th>\n",
       "      <th>SampleID</th>\n",
       "      <th>PrimaryLineage</th>\n",
       "    </tr>\n",
       "  </thead>\n",
       "  <tbody>\n",
       "    <tr>\n",
       "      <th>1444</th>\n",
       "      <td>NC_000962.3</td>\n",
       "      <td>2535431</td>\n",
       "      <td>2536141</td>\n",
       "      <td>deletion</td>\n",
       "      <td>710</td>\n",
       "      <td>M0003941_3</td>\n",
       "      <td>lineage2</td>\n",
       "    </tr>\n",
       "    <tr>\n",
       "      <th>2300</th>\n",
       "      <td>NC_000962.3</td>\n",
       "      <td>2535431</td>\n",
       "      <td>2536141</td>\n",
       "      <td>deletion</td>\n",
       "      <td>710</td>\n",
       "      <td>N0145</td>\n",
       "      <td>lineage2</td>\n",
       "    </tr>\n",
       "    <tr>\n",
       "      <th>2468</th>\n",
       "      <td>NC_000962.3</td>\n",
       "      <td>2535431</td>\n",
       "      <td>2536141</td>\n",
       "      <td>deletion</td>\n",
       "      <td>710</td>\n",
       "      <td>N0155</td>\n",
       "      <td>lineage2</td>\n",
       "    </tr>\n",
       "    <tr>\n",
       "      <th>4145</th>\n",
       "      <td>NC_000962.3</td>\n",
       "      <td>2535431</td>\n",
       "      <td>2536141</td>\n",
       "      <td>deletion</td>\n",
       "      <td>710</td>\n",
       "      <td>DNA028</td>\n",
       "      <td>lineage2</td>\n",
       "    </tr>\n",
       "    <tr>\n",
       "      <th>4318</th>\n",
       "      <td>NC_000962.3</td>\n",
       "      <td>2535431</td>\n",
       "      <td>2536141</td>\n",
       "      <td>deletion</td>\n",
       "      <td>710</td>\n",
       "      <td>DNA075</td>\n",
       "      <td>lineage2</td>\n",
       "    </tr>\n",
       "    <tr>\n",
       "      <th>4495</th>\n",
       "      <td>NC_000962.3</td>\n",
       "      <td>2535431</td>\n",
       "      <td>2536141</td>\n",
       "      <td>deletion</td>\n",
       "      <td>710</td>\n",
       "      <td>DNA091</td>\n",
       "      <td>lineage2</td>\n",
       "    </tr>\n",
       "  </tbody>\n",
       "</table>\n",
       "</div>"
      ],
      "text/plain": [
       "            Chrom  start_0based  end_0based   SV_Type  SV_Length    SampleID PrimaryLineage\n",
       "1444  NC_000962.3       2535431     2536141  deletion        710  M0003941_3       lineage2\n",
       "2300  NC_000962.3       2535431     2536141  deletion        710       N0145       lineage2\n",
       "2468  NC_000962.3       2535431     2536141  deletion        710       N0155       lineage2\n",
       "4145  NC_000962.3       2535431     2536141  deletion        710      DNA028       lineage2\n",
       "4318  NC_000962.3       2535431     2536141  deletion        710      DNA075       lineage2\n",
       "4495  NC_000962.3       2535431     2536141  deletion        710      DNA091       lineage2"
      ]
     },
     "execution_count": 81,
     "metadata": {},
     "output_type": "execute_result"
    }
   ],
   "source": [
    "dictOf_OverlappingSVs_PerRD[\"RD181\"]"
   ]
  },
  {
   "cell_type": "markdown",
   "metadata": {},
   "source": [
    "### RD750 (in lineage 3 only)"
   ]
  },
  {
   "cell_type": "code",
   "execution_count": 82,
   "metadata": {},
   "outputs": [
    {
     "data": {
      "text/html": [
       "<div>\n",
       "<style scoped>\n",
       "    .dataframe tbody tr th:only-of-type {\n",
       "        vertical-align: middle;\n",
       "    }\n",
       "\n",
       "    .dataframe tbody tr th {\n",
       "        vertical-align: top;\n",
       "    }\n",
       "\n",
       "    .dataframe thead th {\n",
       "        text-align: right;\n",
       "    }\n",
       "</style>\n",
       "<table border=\"1\" class=\"dataframe\">\n",
       "  <thead>\n",
       "    <tr style=\"text-align: right;\">\n",
       "      <th></th>\n",
       "      <th>RD_name</th>\n",
       "      <th>Start</th>\n",
       "      <th>Stop</th>\n",
       "      <th>Size</th>\n",
       "      <th>Rv</th>\n",
       "    </tr>\n",
       "  </thead>\n",
       "  <tbody>\n",
       "    <tr>\n",
       "      <th>10</th>\n",
       "      <td>RD750</td>\n",
       "      <td>1710767</td>\n",
       "      <td>1711556</td>\n",
       "      <td>790</td>\n",
       "      <td>Rv1519-1520</td>\n",
       "    </tr>\n",
       "  </tbody>\n",
       "</table>\n",
       "</div>"
      ],
      "text/plain": [
       "   RD_name    Start     Stop Size           Rv\n",
       "10   RD750  1710767  1711556  790  Rv1519-1520"
      ]
     },
     "execution_count": 82,
     "metadata": {},
     "output_type": "execute_result"
    }
   ],
   "source": [
    "RDs_MTBC_DF[RDs_MTBC_DF[\"RD_name\"] == \"RD750\"]"
   ]
  },
  {
   "cell_type": "code",
   "execution_count": 83,
   "metadata": {},
   "outputs": [
    {
     "data": {
      "text/html": [
       "<div>\n",
       "<style scoped>\n",
       "    .dataframe tbody tr th:only-of-type {\n",
       "        vertical-align: middle;\n",
       "    }\n",
       "\n",
       "    .dataframe tbody tr th {\n",
       "        vertical-align: top;\n",
       "    }\n",
       "\n",
       "    .dataframe thead th {\n",
       "        text-align: right;\n",
       "    }\n",
       "</style>\n",
       "<table border=\"1\" class=\"dataframe\">\n",
       "  <thead>\n",
       "    <tr style=\"text-align: right;\">\n",
       "      <th></th>\n",
       "      <th>Chrom</th>\n",
       "      <th>start_0based</th>\n",
       "      <th>end_0based</th>\n",
       "      <th>SV_Type</th>\n",
       "      <th>SV_Length</th>\n",
       "      <th>SampleID</th>\n",
       "      <th>PrimaryLineage</th>\n",
       "    </tr>\n",
       "  </thead>\n",
       "  <tbody>\n",
       "    <tr>\n",
       "      <th>2612</th>\n",
       "      <td>NC_000962.3</td>\n",
       "      <td>1710766</td>\n",
       "      <td>1711556</td>\n",
       "      <td>deletion</td>\n",
       "      <td>790</td>\n",
       "      <td>N0004</td>\n",
       "      <td>lineage3</td>\n",
       "    </tr>\n",
       "    <tr>\n",
       "      <th>2785</th>\n",
       "      <td>NC_000962.3</td>\n",
       "      <td>1710766</td>\n",
       "      <td>1711556</td>\n",
       "      <td>deletion</td>\n",
       "      <td>790</td>\n",
       "      <td>N1274</td>\n",
       "      <td>lineage3</td>\n",
       "    </tr>\n",
       "    <tr>\n",
       "      <th>2961</th>\n",
       "      <td>NC_000962.3</td>\n",
       "      <td>1710766</td>\n",
       "      <td>1711556</td>\n",
       "      <td>deletion</td>\n",
       "      <td>790</td>\n",
       "      <td>N0054</td>\n",
       "      <td>lineage3</td>\n",
       "    </tr>\n",
       "  </tbody>\n",
       "</table>\n",
       "</div>"
      ],
      "text/plain": [
       "            Chrom  start_0based  end_0based   SV_Type  SV_Length SampleID PrimaryLineage\n",
       "2612  NC_000962.3       1710766     1711556  deletion        790    N0004       lineage3\n",
       "2785  NC_000962.3       1710766     1711556  deletion        790    N1274       lineage3\n",
       "2961  NC_000962.3       1710766     1711556  deletion        790    N0054       lineage3"
      ]
     },
     "execution_count": 83,
     "metadata": {},
     "output_type": "execute_result"
    }
   ],
   "source": [
    "dictOf_OverlappingSVs_PerRD[\"RD750\"]"
   ]
  },
  {
   "cell_type": "code",
   "execution_count": null,
   "metadata": {},
   "outputs": [],
   "source": []
  },
  {
   "cell_type": "code",
   "execution_count": null,
   "metadata": {},
   "outputs": [],
   "source": []
  },
  {
   "cell_type": "code",
   "execution_count": null,
   "metadata": {},
   "outputs": [],
   "source": []
  },
  {
   "cell_type": "markdown",
   "metadata": {},
   "source": [
    "# D) Plot heatmap of RDs for Lineages 1-3"
   ]
  },
  {
   "cell_type": "code",
   "execution_count": 84,
   "metadata": {},
   "outputs": [
    {
     "name": "stdout",
     "output_type": "stream",
     "text": [
      "mkdir: cannot create directory ‘./NucDiff_SV_Analysis/’: File exists\n"
     ]
    },
    {
     "data": {
      "image/png": "[encoded data removed]",
      "text/plain": [
       "<Figure size 2880x1080 with 4 Axes>"
      ]
     },
     "metadata": {},
     "output_type": "display_data"
    }
   ],
   "source": [
    "\n",
    "# color code\n",
    "color_dict = {'lineage1': '#DC7DA0',  #pink\n",
    "              'lineage2': '#0F63A8',  #blue\n",
    "              'lineage3': '#875A99',  #purple\n",
    "              'lineage4': '#ED6330',  #orange\n",
    "              'lineage5': '#653B1B',  #brown\n",
    "              'lineage6': '#4FA76A',  #green\n",
    "              'lineage8': '#FC361B',} #red\n",
    "\n",
    "# map color code to lineage column\n",
    "color_map = pd.Series(RD_Unq_Counts_SamplesPerRow_MTBC_RDsOnly['PrimaryLineage'].map(color_dict).fillna('w'))\n",
    "\n",
    "sns.set(font_scale=1.8)\n",
    "\n",
    "g = sns.clustermap(M_RD_MTBC_RDsOnly, \n",
    "               row_colors=color_map,\n",
    "               row_cluster=False,\n",
    "               col_cluster=True, cbar_pos=None, \n",
    "               figsize=(40,15),\n",
    "               linewidths=.5,\n",
    "               cmap=\"Blues\")\n",
    "\n",
    "g.ax_heatmap.set_yticklabels([])\n",
    "g.ax_heatmap.set_xticklabels(g.ax_heatmap.get_xmajorticklabels(), fontsize = 36)\n",
    "\n",
    "plt.xlabel(\"\")\n",
    "\n",
    "#ax.set_yticks([])\n",
    "\n",
    "!mkdir ./NucDiff_SV_Analysis/\n",
    "\n",
    "Output_PNG_PATH = \"./NucDiff_SV_Analysis/SupFig6_RD_Analysis_Lineages1to3.png\"       \n",
    "Output_PDF_PATH = \"./NucDiff_SV_Analysis/SupFig6_RD_Analysis_Lineages1to3.pdf\"       \n",
    "\n",
    "plt.savefig(Output_PNG_PATH, bbox_inches='tight', dpi=125)\n",
    "plt.savefig(Output_PDF_PATH, bbox_inches='tight', transparent=True)\n",
    "plt.show()"
   ]
  },
  {
   "cell_type": "code",
   "execution_count": null,
   "metadata": {},
   "outputs": [],
   "source": []
  },
  {
   "cell_type": "code",
   "execution_count": null,
   "metadata": {},
   "outputs": [],
   "source": []
  },
  {
   "cell_type": "code",
   "execution_count": null,
   "metadata": {},
   "outputs": [],
   "source": []
  },
  {
   "cell_type": "code",
   "execution_count": null,
   "metadata": {},
   "outputs": [],
   "source": []
  },
  {
   "cell_type": "code",
   "execution_count": null,
   "metadata": {},
   "outputs": [],
   "source": []
  },
  {
   "cell_type": "code",
   "execution_count": null,
   "metadata": {},
   "outputs": [],
   "source": []
  },
  {
   "cell_type": "code",
   "execution_count": null,
   "metadata": {},
   "outputs": [],
   "source": []
  },
  {
   "cell_type": "code",
   "execution_count": null,
   "metadata": {},
   "outputs": [],
   "source": []
  }
 ],
 "metadata": {
  "kernelspec": {
   "display_name": "py37_S",
   "language": "python",
   "name": "py37_s"
  },
  "language_info": {
   "codemirror_mode": {
    "name": "ipython",
    "version": 3
   },
   "file_extension": ".py",
   "mimetype": "text/x-python",
   "name": "python",
   "nbconvert_exporter": "python",
   "pygments_lexer": "ipython3",
   "version": "3.7.3"
  }
 },
 "nbformat": 4,
 "nbformat_minor": 4
}
