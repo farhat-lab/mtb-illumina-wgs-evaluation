{
 "cells": [
  {
   "cell_type": "markdown",
   "metadata": {},
   "source": [
    "# Parsing the output of NucDiff (Across 31 clinical Mtb isolates)\n",
    "\n",
    "### Maximillian Marin\n",
    "### mgmarin@g.harvard.edu\n",
    "\n",
    "### Date: 20/07/29\n",
    "\n",
    "### Goal: Parsing the variant calling output of NucDiff from the dataset of 36 clinical Mtb isolates\n",
    "\n",
    "#### 1) Parse NucDiff output regarding SVs in each isolate\n"
   ]
  },
  {
   "cell_type": "code",
   "execution_count": 1,
   "metadata": {},
   "outputs": [],
   "source": [
    "import numpy as np\n",
    "import pandas as pd\n",
    "import matplotlib.pyplot as plt\n",
    "from tqdm import tqdm\n",
    "\n",
    "%matplotlib inline"
   ]
  },
  {
   "cell_type": "code",
   "execution_count": 2,
   "metadata": {},
   "outputs": [],
   "source": [
    "#import vcf\n",
    "\n",
    "#import pickle\n",
    "#from Bio import SeqIO\n",
    "#import plotly.express as px"
   ]
  },
  {
   "cell_type": "code",
   "execution_count": 3,
   "metadata": {},
   "outputs": [],
   "source": [
    "#!pip install bcbio-gff"
   ]
  },
  {
   "cell_type": "code",
   "execution_count": 4,
   "metadata": {},
   "outputs": [],
   "source": [
    "#!conda install -c bioconda bcbio-gff -y "
   ]
  },
  {
   "cell_type": "code",
   "execution_count": 5,
   "metadata": {},
   "outputs": [],
   "source": [
    "#sys.path.append('/home/mm774/conda3/pkgs/bcbio-gff-0.6.6-pyh864c0ab_1/site-packages')\n",
    "#from BCBio import GFF"
   ]
  },
  {
   "cell_type": "code",
   "execution_count": null,
   "metadata": {},
   "outputs": [],
   "source": []
  },
  {
   "cell_type": "markdown",
   "metadata": {},
   "source": [
    "#### Pandas Viewing Settings"
   ]
  },
  {
   "cell_type": "code",
   "execution_count": 6,
   "metadata": {},
   "outputs": [],
   "source": [
    "pd.set_option('display.max_rows', 500)\n",
    "pd.set_option('display.max_columns', 500)\n",
    "pd.set_option('display.width', 1000)"
   ]
  },
  {
   "cell_type": "code",
   "execution_count": null,
   "metadata": {},
   "outputs": [],
   "source": []
  },
  {
   "cell_type": "markdown",
   "metadata": {},
   "source": [
    "## Parse metadata for the 36 total isolates processed (only 36 have circualr assemblies"
   ]
  },
  {
   "cell_type": "code",
   "execution_count": 7,
   "metadata": {},
   "outputs": [
    {
     "name": "stdout",
     "output_type": "stream",
     "text": [
      "M0011368_9,M0014888_3,M0016395_7,M0010874_7,01_R1430,02_R0894,02_R1708,02_R1896,M0016737_0,M0017522_5,01_R1134,M0003941_3,02_R1179,N1176,N0072,N0153,N0145,N0155,N0004,N1274,N0054,N1272,N0091,N1202,N1177,RW-TB008,DNA028,DNA075,DNA091,DNA044,DNA020,AZE_02_042,DNA019_Rose,DNA120,DNA188,DNA086\n"
     ]
    }
   ],
   "source": [
    "Repo_DataDir = \"../../Data\"\n",
    "\n",
    "PMP_SM_ResultsSummary_Dir_210108 = Repo_DataDir + \"/210108_PMP_SM_50CI_V7_ResultsSummary\"\n",
    "\n",
    "PMP_36CI_CicularOnly_F2Filtered_AtLeast40XIllDepth_AssemblySummary_TSV_PATH = PMP_SM_ResultsSummary_Dir_210108 + \"/210108_PMP_36CI_CircularOnly_F2Filtered_AtLeast40XMeanDepthIllumina_AssemblySummary_V7.tsv\"       \n",
    "\n",
    "PMP_36CI_CicularOnly_F2Filtered_AtLeast40XDepth_AssemblySummary = pd.read_csv(PMP_36CI_CicularOnly_F2Filtered_AtLeast40XIllDepth_AssemblySummary_TSV_PATH, sep = \"\\t\")\n",
    "\n",
    "PMP_36CI_AnalysisSet_AssemblySummary = PMP_36CI_CicularOnly_F2Filtered_AtLeast40XDepth_AssemblySummary\n",
    "\n",
    "\n",
    "SampleIDs_36CI_SOI = list( PMP_36CI_AnalysisSet_AssemblySummary[\"SampleID\"].values )\n",
    "\n",
    "\n",
    "print(','.join(SampleIDs_36CI_SOI) )\n",
    "\n",
    "# Make sample to metadata mapping dicts\n",
    "\n",
    "ID_To_IlluminaAvrgCov_Dict = dict(PMP_36CI_AnalysisSet_AssemblySummary[['SampleID', 'IlluminaWGSToH37rv_AvrgCov']].values)                     \n",
    "ID_To_Lineage_Dict = dict(PMP_36CI_AnalysisSet_AssemblySummary[['SampleID', 'PrimaryLineage_PB']].values)\n",
    "ID_To_Dataset_Dict = dict(PMP_36CI_AnalysisSet_AssemblySummary[['SampleID', 'Dataset_Tag']].values)"
   ]
  },
  {
   "cell_type": "markdown",
   "metadata": {},
   "source": [
    "## Define PacManPipe output directory - V1"
   ]
  },
  {
   "cell_type": "code",
   "execution_count": 8,
   "metadata": {},
   "outputs": [],
   "source": [
    "### Define directories to PMP-SM (PacBio assembly and analysis pipeline)\n",
    "\n",
    "### Define varaint calling pipeline output directories\n",
    "\n",
    "PacBio_ProjectDir = \"/n/data1/hms/dbmi/farhat/mm774/Projects/PacBio_Evaluation_Project\"\n",
    "\n",
    "PMP_SM_Outputs_Dir = PacBio_ProjectDir + \"/PacmanPipe_SM_Outputs\"\n",
    "\n",
    "PMP_SM_TB_Portals_R1_Illumina_WGS_201201_OutputDir = PMP_SM_Outputs_Dir + \"/201201_PMP_SM_TB_Portals_R1_Output_V2\"\n"
   ]
  },
  {
   "cell_type": "code",
   "execution_count": null,
   "metadata": {},
   "outputs": [],
   "source": []
  },
  {
   "cell_type": "markdown",
   "metadata": {},
   "source": [
    "## Standard fields of the GFF3 format (https://uswest.ensembl.org/info/website/upload/gff3.html#:~:text=GFF3%20File%20Format%20%2D%20Definition%20and,on%20the%20Version%203%20specifications.)\n",
    "\n",
    "1. seqid - name of the chromosome or scaffold; chromosome names can be given with or without the 'chr' prefix. Important note: the seq ID must be one used within Ensembl, i.e. a standard chromosome name or an Ensembl identifier such as a scaffold ID, without any additional content such as species or assembly. See the example GFF output below.\n",
    "2. source - name of the program that generated this feature, or the data source (database or project name)\n",
    "3. type - type of feature. Must be a term or accession from the SOFA sequence ontology\n",
    "4. start - Start position of the feature, with sequence numbering starting at 1.\n",
    "5. end - End position of the feature, with sequence numbering starting at 1.\n",
    "6. score - A floating point value.\n",
    "7. strand - defined as + (forward) or - (reverse).\n",
    "8. phase - One of '0', '1' or '2'. '0' indicates that the first base of the feature is the first base of a codon, '1' that the second base is the first base of a codon, and so on..\n",
    "9. attributes - A semicolon-separated list of tag-value pairs, providing additional information about each feature. Some of these tags are predefined, e.g. ID, Name, Alias, Parent - see the GFF documentation for more details.\n"
   ]
  },
  {
   "cell_type": "code",
   "execution_count": null,
   "metadata": {},
   "outputs": [],
   "source": []
  },
  {
   "cell_type": "markdown",
   "metadata": {},
   "source": [
    "### Notes regarding NucDiff GFF formatting for SVs\n",
    "\n",
    "Types of Length attributes\n",
    "\n",
    "1. ins_len\n",
    "2. del_len\n",
    "3. subst_len (substitution)\n",
    "4. blk_len (Inversion)\n"
   ]
  },
  {
   "cell_type": "code",
   "execution_count": 9,
   "metadata": {},
   "outputs": [],
   "source": [
    "def GFF_AttributesCol_To_Dict(input_GFF_AttributesCol_Str):\n",
    "    \n",
    "    ###For each line of your VCF, create a dictionnary with this array key : info, value : value of this info\n",
    "    dict_INFO = {}\n",
    "    for i in input_GFF_AttributesCol_Str.split(\";\"):\n",
    "        ###Just looking for line with \"=\" character (as key = value)\n",
    "        if \"=\" in i:\n",
    "            ###Left from equal sign is key (Gene.refGene, ExonicFunc.refGene...)\n",
    "            key = i.split(\"=\")[0]\n",
    "            ###Right from equal sign is value (RBL1,synonymous_SNV...)\n",
    "            value = i.split(\"=\")[1]\n",
    "            ###Put them in a dictionnary\n",
    "            dict_INFO[key]=value\n",
    "  \n",
    "    return dict_INFO\n",
    "        "
   ]
  },
  {
   "cell_type": "code",
   "execution_count": null,
   "metadata": {},
   "outputs": [],
   "source": []
  },
  {
   "cell_type": "code",
   "execution_count": 10,
   "metadata": {},
   "outputs": [],
   "source": [
    "def parse_NucDiff_SV_GFF(input_NucDiff_Query_Ref_Struct_GFF_PATH):\n",
    "\n",
    "    SV_CNT = 1\n",
    "\n",
    "    All_Valid_SV_Types = ['insertion', 'duplication', 'tandem_duplication', 'deletion',  'collapsed_repeat',  'collapsed_tandem_repeat', 'inversion', 'substitution']\n",
    "    INS_SV_Types = ['insertion', 'duplication',       'tandem_duplication']\n",
    "    DEL_SV_Types = ['deletion',  'collapsed_repeat',  'collapsed_tandem_repeat']\n",
    "    SUB_SV_Types = ['substitution']\n",
    "    BLK_SV_Types = ['inversion']\n",
    "\n",
    "    listOf_InfoTuples = []\n",
    "\n",
    "\n",
    "    with open(input_NucDiff_Query_Ref_Struct_GFF_PATH) as input_SV_GFF:\n",
    "\n",
    "        for line in input_SV_GFF:\n",
    "            if not line.startswith(\"#\"):\n",
    "                NucDiff_GFF_Row_Line = line.rstrip(\"\\n\").split(\"\\t\")\n",
    "\n",
    "                i_seqID_Chrom = NucDiff_GFF_Row_Line[0]\n",
    "                i_source = NucDiff_GFF_Row_Line[1]\n",
    "                i_type = NucDiff_GFF_Row_Line[2]            \n",
    "                i_start = int( NucDiff_GFF_Row_Line[3] )    \n",
    "                i_end = int( NucDiff_GFF_Row_Line[4] )\n",
    "                i_score = NucDiff_GFF_Row_Line[5]\n",
    "                i_strand = NucDiff_GFF_Row_Line[6]\n",
    "                i_phase = NucDiff_GFF_Row_Line[7]\n",
    "                i_attributes = NucDiff_GFF_Row_Line[8]\n",
    "\n",
    "                i_Attributes_Dict = GFF_AttributesCol_To_Dict(i_attributes)\n",
    "\n",
    "                NucDiff_SV_Type = i_Attributes_Dict[\"Name\"]\n",
    "\n",
    "                if not NucDiff_SV_Type in All_Valid_SV_Types: continue\n",
    "\n",
    "\n",
    "                if \"ins_len\"  in i_Attributes_Dict.keys():\n",
    "                    GEN_SV_Len = i_Attributes_Dict[\"ins_len\"]\n",
    "                    \n",
    "                elif \"del_len\"  in i_Attributes_Dict.keys():\n",
    "                    GEN_SV_Len = i_Attributes_Dict[\"del_len\"]\n",
    "\n",
    "                elif \"subst_len\"  in i_Attributes_Dict.keys():\n",
    "                    GEN_SV_Len = i_Attributes_Dict[\"subst_len\"]\n",
    "\n",
    "                elif \"blk_len\"  in i_Attributes_Dict.keys():\n",
    "                    GEN_SV_Len = i_Attributes_Dict[\"blk_len\"]\n",
    "\n",
    "                else: \n",
    "                    GEN_SV_Len = 0\n",
    "                    print(NucDiff_SV_Type, \"has no length attribute\")\n",
    "\n",
    "\n",
    "                GEN_SV_Len = int(GEN_SV_Len)\n",
    "                \n",
    "                \n",
    "                if NucDiff_SV_Type in ['duplication', 'tandem_duplication']: # Shift start of all duplications to the left by the length of the duplication (For NucDiff Duplications)\n",
    "                    i_start = i_start - GEN_SV_Len\n",
    "                \n",
    "\n",
    "                \n",
    "                i_start_0based = i_start - 1\n",
    "                i_end_0based = i_end\n",
    "                \n",
    "                SV_Info_Tuple = (i_seqID_Chrom, i_start_0based, i_end_0based, NucDiff_SV_Type, GEN_SV_Len, )\n",
    "\n",
    "\n",
    "                #if (not \"ins_len\"  in i_Attributes_Dict.keys()) and (not \"del_len\"  in i_Attributes_Dict.keys()) :\n",
    "                #if GEN_SV_Len >= 5000:\n",
    "                #    print(SV_Info_Tuple)    \n",
    "                #    print(NucDiff_GFF_Row_Line)\n",
    "                #    print(\"\")\n",
    "\n",
    "                SV_CNT += 1\n",
    "\n",
    "                #if SV_CNT >= 15: break\n",
    "\n",
    "                listOf_InfoTuples.append(SV_Info_Tuple)\n",
    "\n",
    "\n",
    "    NucDiff_SV_Info_DF = pd.DataFrame(listOf_InfoTuples)\n",
    "\n",
    "    return NucDiff_SV_Info_DF"
   ]
  },
  {
   "cell_type": "code",
   "execution_count": null,
   "metadata": {},
   "outputs": [],
   "source": []
  },
  {
   "cell_type": "markdown",
   "metadata": {},
   "source": [
    "# Parsing NucDiff SVs"
   ]
  },
  {
   "cell_type": "code",
   "execution_count": 11,
   "metadata": {},
   "outputs": [
    {
     "name": "stderr",
     "output_type": "stream",
     "text": [
      "100%|██████████| 36/36 [00:00<00:00, 98.06it/s]\n"
     ]
    }
   ],
   "source": [
    "dictOf_NucDiff_DFs = {}\n",
    "\n",
    "listOf_NucDiff_DFs = []\n",
    "\n",
    "for sampleID in tqdm(SampleIDs_36CI_SOI) :\n",
    "    \n",
    "    #print(sampleID)\n",
    "    Sample_Output_Dir = PMP_SM_TB_Portals_R1_Illumina_WGS_201201_OutputDir + \"/\" + sampleID\n",
    "    i_NucDiff_OutputDir = Sample_Output_Dir + f\"/pacbio_VariantCallingVersusH37Rv/NucDiff_Analysis_{sampleID}\"\n",
    "\n",
    "    i_NucDiff_ResultsDir = f\"{i_NucDiff_OutputDir}/results\"\n",
    "\n",
    "    i_NucDiff_Query_Ref_Struct_GFF_PATH = f\"{i_NucDiff_ResultsDir}/NucDiff_{sampleID}_ref_struct.Filtered.SVs.gff\"\n",
    "\n",
    "    \n",
    "    i_NucDiff_SV_DF = parse_NucDiff_SV_GFF(i_NucDiff_Query_Ref_Struct_GFF_PATH)\n",
    "    \n",
    "    i_NucDiff_SV_DF.columns = [\"Chrom\", \"start_0based\", \"end_0based\", \"SV_Type\", \"SV_Length\"]\n",
    "\n",
    "    i_NucDiff_SV_DF[\"SampleID\"] = sampleID\n",
    "    \n",
    "    i_NucDiff_SV_DF = i_NucDiff_SV_DF.sort_values([\"start_0based\", \"end_0based\"])\n",
    "    \n",
    "    i_NucDiff_SV_Wi50bp_LenFilter_DF = i_NucDiff_SV_DF.query(\"SV_Length >= 50\")\n",
    "    \n",
    "    i_NucDiff_SV_Wi50bp_LenFilter_NoInversions_DF = i_NucDiff_SV_Wi50bp_LenFilter_DF[ i_NucDiff_SV_Wi50bp_LenFilter_DF[\"SV_Type\"] != \"inversion\" ] \n",
    "    \n",
    "    \n",
    "    dictOf_NucDiff_DFs[sampleID] = i_NucDiff_SV_DF\n",
    "    \n",
    "    listOf_NucDiff_DFs.append(i_NucDiff_SV_DF)    \n",
    "    "
   ]
  },
  {
   "cell_type": "code",
   "execution_count": null,
   "metadata": {},
   "outputs": [],
   "source": []
  },
  {
   "cell_type": "code",
   "execution_count": null,
   "metadata": {},
   "outputs": [],
   "source": []
  },
  {
   "cell_type": "markdown",
   "metadata": {},
   "source": [
    "# Concat all SVs (from all 36 CI)"
   ]
  },
  {
   "cell_type": "code",
   "execution_count": 12,
   "metadata": {},
   "outputs": [],
   "source": [
    "NucDiff_SVs_36CI_DF = pd.concat(listOf_NucDiff_DFs)\n",
    "\n",
    "NucDiff_SVs_36CI_DF[\"PrimaryLineage\"] = NucDiff_SVs_36CI_DF[\"SampleID\"].map(ID_To_Lineage_Dict)\n"
   ]
  },
  {
   "cell_type": "code",
   "execution_count": 13,
   "metadata": {},
   "outputs": [
    {
     "data": {
      "text/plain": [
       "insertion                  1394\n",
       "deletion                   1159\n",
       "duplication                 933\n",
       "collapsed_repeat            703\n",
       "tandem_duplication          658\n",
       "collapsed_tandem_repeat     323\n",
       "inversion                   158\n",
       "substitution                156\n",
       "Name: SV_Type, dtype: int64"
      ]
     },
     "execution_count": 13,
     "metadata": {},
     "output_type": "execute_result"
    }
   ],
   "source": [
    "NucDiff_SVs_36CI_DF[\"SV_Type\"].value_counts()"
   ]
  },
  {
   "cell_type": "code",
   "execution_count": null,
   "metadata": {},
   "outputs": [],
   "source": []
  },
  {
   "cell_type": "code",
   "execution_count": 14,
   "metadata": {},
   "outputs": [
    {
     "data": {
      "text/html": [
       "<div>\n",
       "<style scoped>\n",
       "    .dataframe tbody tr th:only-of-type {\n",
       "        vertical-align: middle;\n",
       "    }\n",
       "\n",
       "    .dataframe tbody tr th {\n",
       "        vertical-align: top;\n",
       "    }\n",
       "\n",
       "    .dataframe thead th {\n",
       "        text-align: right;\n",
       "    }\n",
       "</style>\n",
       "<table border=\"1\" class=\"dataframe\">\n",
       "  <thead>\n",
       "    <tr style=\"text-align: right;\">\n",
       "      <th></th>\n",
       "      <th>Chrom</th>\n",
       "      <th>start_0based</th>\n",
       "      <th>end_0based</th>\n",
       "      <th>SV_Type</th>\n",
       "      <th>SV_Length</th>\n",
       "      <th>SampleID</th>\n",
       "      <th>PrimaryLineage</th>\n",
       "    </tr>\n",
       "  </thead>\n",
       "  <tbody>\n",
       "    <tr>\n",
       "      <td>1</td>\n",
       "      <td>NC_000962.3</td>\n",
       "      <td>71583</td>\n",
       "      <td>71586</td>\n",
       "      <td>duplication</td>\n",
       "      <td>2</td>\n",
       "      <td>M0011368_9</td>\n",
       "      <td>lineage4</td>\n",
       "    </tr>\n",
       "    <tr>\n",
       "      <td>0</td>\n",
       "      <td>NC_000962.3</td>\n",
       "      <td>71585</td>\n",
       "      <td>71586</td>\n",
       "      <td>insertion</td>\n",
       "      <td>35</td>\n",
       "      <td>M0011368_9</td>\n",
       "      <td>lineage4</td>\n",
       "    </tr>\n",
       "    <tr>\n",
       "      <td>3</td>\n",
       "      <td>NC_000962.3</td>\n",
       "      <td>150889</td>\n",
       "      <td>150903</td>\n",
       "      <td>duplication</td>\n",
       "      <td>13</td>\n",
       "      <td>M0011368_9</td>\n",
       "      <td>lineage4</td>\n",
       "    </tr>\n",
       "    <tr>\n",
       "      <td>2</td>\n",
       "      <td>NC_000962.3</td>\n",
       "      <td>150902</td>\n",
       "      <td>150903</td>\n",
       "      <td>insertion</td>\n",
       "      <td>167</td>\n",
       "      <td>M0011368_9</td>\n",
       "      <td>lineage4</td>\n",
       "    </tr>\n",
       "    <tr>\n",
       "      <td>4</td>\n",
       "      <td>NC_000962.3</td>\n",
       "      <td>335050</td>\n",
       "      <td>337913</td>\n",
       "      <td>tandem_duplication</td>\n",
       "      <td>2862</td>\n",
       "      <td>M0011368_9</td>\n",
       "      <td>lineage4</td>\n",
       "    </tr>\n",
       "    <tr>\n",
       "      <td>...</td>\n",
       "      <td>...</td>\n",
       "      <td>...</td>\n",
       "      <td>...</td>\n",
       "      <td>...</td>\n",
       "      <td>...</td>\n",
       "      <td>...</td>\n",
       "      <td>...</td>\n",
       "    </tr>\n",
       "    <tr>\n",
       "      <td>122</td>\n",
       "      <td>NC_000962.3</td>\n",
       "      <td>3935681</td>\n",
       "      <td>3936338</td>\n",
       "      <td>deletion</td>\n",
       "      <td>657</td>\n",
       "      <td>DNA086</td>\n",
       "      <td>lineage4</td>\n",
       "    </tr>\n",
       "    <tr>\n",
       "      <td>123</td>\n",
       "      <td>NC_000962.3</td>\n",
       "      <td>3948003</td>\n",
       "      <td>3948196</td>\n",
       "      <td>substitution</td>\n",
       "      <td>193</td>\n",
       "      <td>DNA086</td>\n",
       "      <td>lineage4</td>\n",
       "    </tr>\n",
       "    <tr>\n",
       "      <td>124</td>\n",
       "      <td>NC_000962.3</td>\n",
       "      <td>3948196</td>\n",
       "      <td>3949522</td>\n",
       "      <td>deletion</td>\n",
       "      <td>1326</td>\n",
       "      <td>DNA086</td>\n",
       "      <td>lineage4</td>\n",
       "    </tr>\n",
       "    <tr>\n",
       "      <td>125</td>\n",
       "      <td>NC_000962.3</td>\n",
       "      <td>4053437</td>\n",
       "      <td>4053549</td>\n",
       "      <td>tandem_duplication</td>\n",
       "      <td>111</td>\n",
       "      <td>DNA086</td>\n",
       "      <td>lineage4</td>\n",
       "    </tr>\n",
       "    <tr>\n",
       "      <td>126</td>\n",
       "      <td>NC_000962.3</td>\n",
       "      <td>4120938</td>\n",
       "      <td>4121053</td>\n",
       "      <td>tandem_duplication</td>\n",
       "      <td>114</td>\n",
       "      <td>DNA086</td>\n",
       "      <td>lineage4</td>\n",
       "    </tr>\n",
       "  </tbody>\n",
       "</table>\n",
       "<p>5326 rows × 7 columns</p>\n",
       "</div>"
      ],
      "text/plain": [
       "           Chrom  start_0based  end_0based             SV_Type  SV_Length    SampleID PrimaryLineage\n",
       "1    NC_000962.3         71583       71586         duplication          2  M0011368_9       lineage4\n",
       "0    NC_000962.3         71585       71586           insertion         35  M0011368_9       lineage4\n",
       "3    NC_000962.3        150889      150903         duplication         13  M0011368_9       lineage4\n",
       "2    NC_000962.3        150902      150903           insertion        167  M0011368_9       lineage4\n",
       "4    NC_000962.3        335050      337913  tandem_duplication       2862  M0011368_9       lineage4\n",
       "..           ...           ...         ...                 ...        ...         ...            ...\n",
       "122  NC_000962.3       3935681     3936338            deletion        657      DNA086       lineage4\n",
       "123  NC_000962.3       3948003     3948196        substitution        193      DNA086       lineage4\n",
       "124  NC_000962.3       3948196     3949522            deletion       1326      DNA086       lineage4\n",
       "125  NC_000962.3       4053437     4053549  tandem_duplication        111      DNA086       lineage4\n",
       "126  NC_000962.3       4120938     4121053  tandem_duplication        114      DNA086       lineage4\n",
       "\n",
       "[5326 rows x 7 columns]"
      ]
     },
     "execution_count": 14,
     "metadata": {},
     "output_type": "execute_result"
    }
   ],
   "source": [
    "NucDiff_SVs_36CI_DF[ NucDiff_SVs_36CI_DF[\"SV_Type\"] != \"inversion\" ] "
   ]
  },
  {
   "cell_type": "code",
   "execution_count": 15,
   "metadata": {},
   "outputs": [
    {
     "data": {
      "text/plain": [
       "(5484, 7)"
      ]
     },
     "execution_count": 15,
     "metadata": {},
     "output_type": "execute_result"
    }
   ],
   "source": [
    "NucDiff_SVs_36CI_DF.shape"
   ]
  },
  {
   "cell_type": "code",
   "execution_count": 16,
   "metadata": {},
   "outputs": [
    {
     "data": {
      "text/html": [
       "<div>\n",
       "<style scoped>\n",
       "    .dataframe tbody tr th:only-of-type {\n",
       "        vertical-align: middle;\n",
       "    }\n",
       "\n",
       "    .dataframe tbody tr th {\n",
       "        vertical-align: top;\n",
       "    }\n",
       "\n",
       "    .dataframe thead th {\n",
       "        text-align: right;\n",
       "    }\n",
       "</style>\n",
       "<table border=\"1\" class=\"dataframe\">\n",
       "  <thead>\n",
       "    <tr style=\"text-align: right;\">\n",
       "      <th></th>\n",
       "      <th>Chrom</th>\n",
       "      <th>start_0based</th>\n",
       "      <th>end_0based</th>\n",
       "      <th>SV_Type</th>\n",
       "      <th>SV_Length</th>\n",
       "      <th>SampleID</th>\n",
       "      <th>PrimaryLineage</th>\n",
       "    </tr>\n",
       "  </thead>\n",
       "  <tbody>\n",
       "    <tr>\n",
       "      <td>1</td>\n",
       "      <td>NC_000962.3</td>\n",
       "      <td>71583</td>\n",
       "      <td>71586</td>\n",
       "      <td>duplication</td>\n",
       "      <td>2</td>\n",
       "      <td>M0011368_9</td>\n",
       "      <td>lineage4</td>\n",
       "    </tr>\n",
       "    <tr>\n",
       "      <td>0</td>\n",
       "      <td>NC_000962.3</td>\n",
       "      <td>71585</td>\n",
       "      <td>71586</td>\n",
       "      <td>insertion</td>\n",
       "      <td>35</td>\n",
       "      <td>M0011368_9</td>\n",
       "      <td>lineage4</td>\n",
       "    </tr>\n",
       "    <tr>\n",
       "      <td>3</td>\n",
       "      <td>NC_000962.3</td>\n",
       "      <td>150889</td>\n",
       "      <td>150903</td>\n",
       "      <td>duplication</td>\n",
       "      <td>13</td>\n",
       "      <td>M0011368_9</td>\n",
       "      <td>lineage4</td>\n",
       "    </tr>\n",
       "  </tbody>\n",
       "</table>\n",
       "</div>"
      ],
      "text/plain": [
       "         Chrom  start_0based  end_0based      SV_Type  SV_Length    SampleID PrimaryLineage\n",
       "1  NC_000962.3         71583       71586  duplication          2  M0011368_9       lineage4\n",
       "0  NC_000962.3         71585       71586    insertion         35  M0011368_9       lineage4\n",
       "3  NC_000962.3        150889      150903  duplication         13  M0011368_9       lineage4"
      ]
     },
     "execution_count": 16,
     "metadata": {},
     "output_type": "execute_result"
    }
   ],
   "source": [
    "NucDiff_SVs_36CI_DF.head(3)"
   ]
  },
  {
   "cell_type": "code",
   "execution_count": null,
   "metadata": {},
   "outputs": [],
   "source": []
  },
  {
   "cell_type": "code",
   "execution_count": null,
   "metadata": {},
   "outputs": [],
   "source": []
  },
  {
   "cell_type": "code",
   "execution_count": 17,
   "metadata": {},
   "outputs": [
    {
     "data": {
      "text/plain": [
       "(127, 6)"
      ]
     },
     "execution_count": 17,
     "metadata": {},
     "output_type": "execute_result"
    }
   ],
   "source": [
    "DNA086_SVs_DF = dictOf_NucDiff_DFs[\"DNA086\"]\n",
    "DNA086_SVs_DF.shape"
   ]
  },
  {
   "cell_type": "code",
   "execution_count": 18,
   "metadata": {},
   "outputs": [
    {
     "data": {
      "text/html": [
       "<div>\n",
       "<style scoped>\n",
       "    .dataframe tbody tr th:only-of-type {\n",
       "        vertical-align: middle;\n",
       "    }\n",
       "\n",
       "    .dataframe tbody tr th {\n",
       "        vertical-align: top;\n",
       "    }\n",
       "\n",
       "    .dataframe thead th {\n",
       "        text-align: right;\n",
       "    }\n",
       "</style>\n",
       "<table border=\"1\" class=\"dataframe\">\n",
       "  <thead>\n",
       "    <tr style=\"text-align: right;\">\n",
       "      <th></th>\n",
       "      <th>Chrom</th>\n",
       "      <th>start_0based</th>\n",
       "      <th>end_0based</th>\n",
       "      <th>SV_Type</th>\n",
       "      <th>SV_Length</th>\n",
       "      <th>SampleID</th>\n",
       "    </tr>\n",
       "  </thead>\n",
       "  <tbody>\n",
       "    <tr>\n",
       "      <td>2</td>\n",
       "      <td>NC_000962.3</td>\n",
       "      <td>150902</td>\n",
       "      <td>150903</td>\n",
       "      <td>insertion</td>\n",
       "      <td>167</td>\n",
       "      <td>DNA086</td>\n",
       "    </tr>\n",
       "    <tr>\n",
       "      <td>4</td>\n",
       "      <td>NC_000962.3</td>\n",
       "      <td>171457</td>\n",
       "      <td>171778</td>\n",
       "      <td>deletion</td>\n",
       "      <td>321</td>\n",
       "      <td>DNA086</td>\n",
       "    </tr>\n",
       "    <tr>\n",
       "      <td>7</td>\n",
       "      <td>NC_000962.3</td>\n",
       "      <td>334651</td>\n",
       "      <td>336877</td>\n",
       "      <td>duplication</td>\n",
       "      <td>2225</td>\n",
       "      <td>DNA086</td>\n",
       "    </tr>\n",
       "  </tbody>\n",
       "</table>\n",
       "</div>"
      ],
      "text/plain": [
       "         Chrom  start_0based  end_0based      SV_Type  SV_Length SampleID\n",
       "2  NC_000962.3        150902      150903    insertion        167   DNA086\n",
       "4  NC_000962.3        171457      171778     deletion        321   DNA086\n",
       "7  NC_000962.3        334651      336877  duplication       2225   DNA086"
      ]
     },
     "execution_count": 18,
     "metadata": {},
     "output_type": "execute_result"
    }
   ],
   "source": [
    "DNA086_SVs_DF.query(\"SV_Length >= 50\").head(3)"
   ]
  },
  {
   "cell_type": "code",
   "execution_count": 19,
   "metadata": {},
   "outputs": [
    {
     "data": {
      "text/html": [
       "<div>\n",
       "<style scoped>\n",
       "    .dataframe tbody tr th:only-of-type {\n",
       "        vertical-align: middle;\n",
       "    }\n",
       "\n",
       "    .dataframe tbody tr th {\n",
       "        vertical-align: top;\n",
       "    }\n",
       "\n",
       "    .dataframe thead th {\n",
       "        text-align: right;\n",
       "    }\n",
       "</style>\n",
       "<table border=\"1\" class=\"dataframe\">\n",
       "  <thead>\n",
       "    <tr style=\"text-align: right;\">\n",
       "      <th></th>\n",
       "      <th>Chrom</th>\n",
       "      <th>start_0based</th>\n",
       "      <th>end_0based</th>\n",
       "      <th>SV_Type</th>\n",
       "      <th>SV_Length</th>\n",
       "      <th>SampleID</th>\n",
       "    </tr>\n",
       "  </thead>\n",
       "  <tbody>\n",
       "    <tr>\n",
       "      <td>4</td>\n",
       "      <td>NC_000962.3</td>\n",
       "      <td>171457</td>\n",
       "      <td>171778</td>\n",
       "      <td>deletion</td>\n",
       "      <td>321</td>\n",
       "      <td>DNA086</td>\n",
       "    </tr>\n",
       "    <tr>\n",
       "      <td>8</td>\n",
       "      <td>NC_000962.3</td>\n",
       "      <td>361764</td>\n",
       "      <td>361983</td>\n",
       "      <td>deletion</td>\n",
       "      <td>219</td>\n",
       "      <td>DNA086</td>\n",
       "    </tr>\n",
       "  </tbody>\n",
       "</table>\n",
       "</div>"
      ],
      "text/plain": [
       "         Chrom  start_0based  end_0based   SV_Type  SV_Length SampleID\n",
       "4  NC_000962.3        171457      171778  deletion        321   DNA086\n",
       "8  NC_000962.3        361764      361983  deletion        219   DNA086"
      ]
     },
     "execution_count": 19,
     "metadata": {},
     "output_type": "execute_result"
    }
   ],
   "source": [
    "DNA086_SVs_DF.query(\"SV_Type == 'deletion' \").head(2)"
   ]
  },
  {
   "cell_type": "code",
   "execution_count": 20,
   "metadata": {},
   "outputs": [
    {
     "data": {
      "text/plain": [
       "(82, 6)"
      ]
     },
     "execution_count": 20,
     "metadata": {},
     "output_type": "execute_result"
    }
   ],
   "source": [
    "DNA086_SVs_DF.query(\"SV_Length >= 50\").shape"
   ]
  },
  {
   "cell_type": "code",
   "execution_count": 21,
   "metadata": {},
   "outputs": [
    {
     "data": {
      "text/html": [
       "<div>\n",
       "<style scoped>\n",
       "    .dataframe tbody tr th:only-of-type {\n",
       "        vertical-align: middle;\n",
       "    }\n",
       "\n",
       "    .dataframe tbody tr th {\n",
       "        vertical-align: top;\n",
       "    }\n",
       "\n",
       "    .dataframe thead th {\n",
       "        text-align: right;\n",
       "    }\n",
       "</style>\n",
       "<table border=\"1\" class=\"dataframe\">\n",
       "  <thead>\n",
       "    <tr style=\"text-align: right;\">\n",
       "      <th></th>\n",
       "      <th>Chrom</th>\n",
       "      <th>start_0based</th>\n",
       "      <th>end_0based</th>\n",
       "      <th>SV_Type</th>\n",
       "      <th>SV_Length</th>\n",
       "      <th>SampleID</th>\n",
       "    </tr>\n",
       "  </thead>\n",
       "  <tbody>\n",
       "    <tr>\n",
       "      <td>1</td>\n",
       "      <td>NC_000962.3</td>\n",
       "      <td>71583</td>\n",
       "      <td>71586</td>\n",
       "      <td>duplication</td>\n",
       "      <td>2</td>\n",
       "      <td>DNA086</td>\n",
       "    </tr>\n",
       "    <tr>\n",
       "      <td>0</td>\n",
       "      <td>NC_000962.3</td>\n",
       "      <td>71585</td>\n",
       "      <td>71586</td>\n",
       "      <td>insertion</td>\n",
       "      <td>35</td>\n",
       "      <td>DNA086</td>\n",
       "    </tr>\n",
       "    <tr>\n",
       "      <td>3</td>\n",
       "      <td>NC_000962.3</td>\n",
       "      <td>150889</td>\n",
       "      <td>150903</td>\n",
       "      <td>duplication</td>\n",
       "      <td>13</td>\n",
       "      <td>DNA086</td>\n",
       "    </tr>\n",
       "    <tr>\n",
       "      <td>2</td>\n",
       "      <td>NC_000962.3</td>\n",
       "      <td>150902</td>\n",
       "      <td>150903</td>\n",
       "      <td>insertion</td>\n",
       "      <td>167</td>\n",
       "      <td>DNA086</td>\n",
       "    </tr>\n",
       "    <tr>\n",
       "      <td>4</td>\n",
       "      <td>NC_000962.3</td>\n",
       "      <td>171457</td>\n",
       "      <td>171778</td>\n",
       "      <td>deletion</td>\n",
       "      <td>321</td>\n",
       "      <td>DNA086</td>\n",
       "    </tr>\n",
       "    <tr>\n",
       "      <td>5</td>\n",
       "      <td>NC_000962.3</td>\n",
       "      <td>171778</td>\n",
       "      <td>171779</td>\n",
       "      <td>collapsed_repeat</td>\n",
       "      <td>1</td>\n",
       "      <td>DNA086</td>\n",
       "    </tr>\n",
       "    <tr>\n",
       "      <td>7</td>\n",
       "      <td>NC_000962.3</td>\n",
       "      <td>334651</td>\n",
       "      <td>336877</td>\n",
       "      <td>duplication</td>\n",
       "      <td>2225</td>\n",
       "      <td>DNA086</td>\n",
       "    </tr>\n",
       "    <tr>\n",
       "      <td>6</td>\n",
       "      <td>NC_000962.3</td>\n",
       "      <td>336876</td>\n",
       "      <td>336877</td>\n",
       "      <td>insertion</td>\n",
       "      <td>763</td>\n",
       "      <td>DNA086</td>\n",
       "    </tr>\n",
       "    <tr>\n",
       "      <td>8</td>\n",
       "      <td>NC_000962.3</td>\n",
       "      <td>361764</td>\n",
       "      <td>361983</td>\n",
       "      <td>deletion</td>\n",
       "      <td>219</td>\n",
       "      <td>DNA086</td>\n",
       "    </tr>\n",
       "    <tr>\n",
       "      <td>9</td>\n",
       "      <td>NC_000962.3</td>\n",
       "      <td>361983</td>\n",
       "      <td>362010</td>\n",
       "      <td>collapsed_repeat</td>\n",
       "      <td>27</td>\n",
       "      <td>DNA086</td>\n",
       "    </tr>\n",
       "  </tbody>\n",
       "</table>\n",
       "</div>"
      ],
      "text/plain": [
       "         Chrom  start_0based  end_0based           SV_Type  SV_Length SampleID\n",
       "1  NC_000962.3         71583       71586       duplication          2   DNA086\n",
       "0  NC_000962.3         71585       71586         insertion         35   DNA086\n",
       "3  NC_000962.3        150889      150903       duplication         13   DNA086\n",
       "2  NC_000962.3        150902      150903         insertion        167   DNA086\n",
       "4  NC_000962.3        171457      171778          deletion        321   DNA086\n",
       "5  NC_000962.3        171778      171779  collapsed_repeat          1   DNA086\n",
       "7  NC_000962.3        334651      336877       duplication       2225   DNA086\n",
       "6  NC_000962.3        336876      336877         insertion        763   DNA086\n",
       "8  NC_000962.3        361764      361983          deletion        219   DNA086\n",
       "9  NC_000962.3        361983      362010  collapsed_repeat         27   DNA086"
      ]
     },
     "execution_count": 21,
     "metadata": {},
     "output_type": "execute_result"
    }
   ],
   "source": [
    "DNA086_SVs_DF.head(10)"
   ]
  },
  {
   "cell_type": "code",
   "execution_count": null,
   "metadata": {},
   "outputs": [],
   "source": []
  },
  {
   "cell_type": "code",
   "execution_count": null,
   "metadata": {},
   "outputs": [],
   "source": []
  },
  {
   "cell_type": "markdown",
   "metadata": {},
   "source": [
    "# Output all SVs detected across all 36 clinical isolates (with NucDiff)"
   ]
  },
  {
   "cell_type": "code",
   "execution_count": 22,
   "metadata": {},
   "outputs": [
    {
     "name": "stdout",
     "output_type": "stream",
     "text": [
      "mkdir: cannot create directory ‘../../Data/210126_PMP_36CI_NucDiff_SV_Analysis_Dir’: File exists\n"
     ]
    }
   ],
   "source": [
    "Repo_DataDir = \"../../Data\"\n",
    "\n",
    "PMP_36CI_NucDiff_SV_Analysis_Dir = Repo_DataDir + \"/210126_PMP_36CI_NucDiff_SV_Analysis_Dir\"\n",
    "\n",
    "!mkdir $PMP_36CI_NucDiff_SV_Analysis_Dir\n",
    "PMP_36CI_NucDiff_AllSVs_Detected_TSV = PMP_36CI_NucDiff_SV_Analysis_Dir + \"/210126.PMP.36CI.NucDiff_AllSVs_Detected.V2.tsv\"\n"
   ]
  },
  {
   "cell_type": "code",
   "execution_count": 23,
   "metadata": {},
   "outputs": [],
   "source": [
    "NucDiff_SVs_36CI_DF.to_csv(PMP_36CI_NucDiff_AllSVs_Detected_TSV, sep = \"\\t\", index= False)"
   ]
  },
  {
   "cell_type": "code",
   "execution_count": 24,
   "metadata": {},
   "outputs": [
    {
     "data": {
      "text/plain": [
       "(5484, 7)"
      ]
     },
     "execution_count": 24,
     "metadata": {},
     "output_type": "execute_result"
    }
   ],
   "source": [
    "NucDiff_SVs_36CI_DF.shape"
   ]
  },
  {
   "cell_type": "code",
   "execution_count": 25,
   "metadata": {},
   "outputs": [
    {
     "name": "stdout",
     "output_type": "stream",
     "text": [
      "total 336K\n",
      "drwxrwsr-x  2 mm774 farhat  197 Feb 19 21:30 .\n",
      "drwxrwsr-x 45 mm774 farhat 2.4K Mar 24 19:41 ..\n",
      "-rw-rw-r--  1 mm774 farhat 218K Feb 19 21:30 210126.PMP.36CI.NucDiff_AllSVs_Detected.V2.50bp.bed\n",
      "-rw-rw-r--  1 mm774 farhat 327K Feb 19 21:28 210126.PMP.36CI.NucDiff_AllSVs_Detected.V2.bed\n",
      "-rw-rw-r--  1 mm774 farhat 327K Mar 26 13:42 210126.PMP.36CI.NucDiff_AllSVs_Detected.V2.tsv\n"
     ]
    }
   ],
   "source": [
    "!ls -lah $PMP_36CI_NucDiff_SV_Analysis_Dir"
   ]
  },
  {
   "cell_type": "code",
   "execution_count": null,
   "metadata": {},
   "outputs": [],
   "source": []
  },
  {
   "cell_type": "markdown",
   "metadata": {},
   "source": [
    "### Read in dataframe of SVs (Testing)"
   ]
  },
  {
   "cell_type": "code",
   "execution_count": 26,
   "metadata": {},
   "outputs": [],
   "source": [
    "Repo_DataDir = \"../../Data\"\n",
    "\n",
    "PMP_36CI_NucDiff_SV_Analysis_Dir = Repo_DataDir + \"/210126_PMP_36CI_NucDiff_SV_Analysis_Dir\"\n",
    "PMP_36CI_NucDiff_AllSVs_Detected_TSV = PMP_36CI_NucDiff_SV_Analysis_Dir + \"/210126.PMP.36CI.NucDiff_AllSVs_Detected.V2.tsv\"\n",
    "\n",
    "NucDiff_SVs_36CI_DF = pd.read_csv(PMP_36CI_NucDiff_AllSVs_Detected_TSV, sep=\"\\t\")"
   ]
  },
  {
   "cell_type": "code",
   "execution_count": 27,
   "metadata": {},
   "outputs": [
    {
     "data": {
      "text/plain": [
       "(5484, 7)"
      ]
     },
     "execution_count": 27,
     "metadata": {},
     "output_type": "execute_result"
    }
   ],
   "source": [
    "NucDiff_SVs_36CI_DF.shape"
   ]
  },
  {
   "cell_type": "code",
   "execution_count": null,
   "metadata": {},
   "outputs": [],
   "source": []
  },
  {
   "cell_type": "code",
   "execution_count": null,
   "metadata": {},
   "outputs": [],
   "source": []
  },
  {
   "cell_type": "code",
   "execution_count": null,
   "metadata": {},
   "outputs": [],
   "source": []
  }
 ],
 "metadata": {
  "kernelspec": {
   "display_name": "Python 3",
   "language": "python",
   "name": "python3"
  },
  "language_info": {
   "codemirror_mode": {
    "name": "ipython",
    "version": 3
   },
   "file_extension": ".py",
   "mimetype": "text/x-python",
   "name": "python",
   "nbconvert_exporter": "python",
   "pygments_lexer": "ipython3",
   "version": "3.7.7"
  }
 },
 "nbformat": 4,
 "nbformat_minor": 4
}
