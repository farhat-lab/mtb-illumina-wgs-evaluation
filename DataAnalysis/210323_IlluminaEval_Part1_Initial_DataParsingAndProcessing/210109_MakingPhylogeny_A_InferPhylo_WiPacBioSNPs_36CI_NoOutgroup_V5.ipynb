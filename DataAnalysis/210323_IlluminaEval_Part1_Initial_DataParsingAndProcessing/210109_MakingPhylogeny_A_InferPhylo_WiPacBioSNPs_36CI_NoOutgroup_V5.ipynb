{
 "cells": [
  {
   "cell_type": "markdown",
   "metadata": {},
   "source": [
    "# Making phylogeny of 36 clinical isolates with complete circular assemblies (and >= 40X Illumina WGS median depth)\n",
    "\n",
    "\n",
    "### Maximillian Marin\n",
    "### mgmarin@g.harvard.edu\n",
    "\n",
    "### Goal: Use BCFtools to merge all VCF files and create a phylogeny for clinical isolates with PacBio assemblies. \n"
   ]
  },
  {
   "cell_type": "code",
   "execution_count": 1,
   "metadata": {},
   "outputs": [],
   "source": [
    "import pandas as pd\n",
    "from tqdm import tqdm"
   ]
  },
  {
   "cell_type": "markdown",
   "metadata": {},
   "source": [
    "#### Pandas Viewing Settings"
   ]
  },
  {
   "cell_type": "code",
   "execution_count": 2,
   "metadata": {},
   "outputs": [],
   "source": [
    "pd.set_option('display.max_rows', 500)\n",
    "pd.set_option('display.max_columns', 500)\n",
    "pd.set_option('display.width', 1000)"
   ]
  },
  {
   "cell_type": "code",
   "execution_count": null,
   "metadata": {},
   "outputs": [],
   "source": []
  },
  {
   "cell_type": "markdown",
   "metadata": {},
   "source": [
    "## Define directories of interest:"
   ]
  },
  {
   "cell_type": "code",
   "execution_count": 3,
   "metadata": {},
   "outputs": [
    {
     "name": "stdout",
     "output_type": "stream",
     "text": [
      "M0011368_9,M0014888_3,M0016395_7,M0010874_7,01_R1430,02_R0894,02_R1708,02_R1896,M0016737_0,M0017522_5,01_R1134,M0003941_3,02_R1179,N1176,N0072,N0153,N0145,N0155,N0004,N1274,N0054,N1272,N0091,N1202,N1177,RW-TB008,DNA028,DNA075,DNA091,DNA044,DNA020,AZE_02_042,DNA019_Rose,DNA120,DNA188,DNA086\n"
     ]
    }
   ],
   "source": [
    "Repo_DataDir = \"../../Data\"\n",
    "\n",
    "PMP_SM_ResultsSummary_Dir_210108 = Repo_DataDir + \"/210108_PMP_SM_50CI_V7_ResultsSummary\"\n",
    "\n",
    "PMP_36CI_CicularOnly_F2Filtered_AtLeast40XIllDepth_AssemblySummary_TSV_PATH = PMP_SM_ResultsSummary_Dir_210108 + \"/210108_PMP_36CI_CircularOnly_F2Filtered_AtLeast40XMeanDepthIllumina_AssemblySummary_V7.tsv\"       \n",
    "\n",
    "PMP_36CI_CicularOnly_F2Filtered_AtLeast40XDepth_AssemblySummary = pd.read_csv(PMP_36CI_CicularOnly_F2Filtered_AtLeast40XIllDepth_AssemblySummary_TSV_PATH, sep = \"\\t\")\n",
    "\n",
    "PMP_36CI_AnalysisSet_AssemblySummary = PMP_36CI_CicularOnly_F2Filtered_AtLeast40XDepth_AssemblySummary\n",
    "\n",
    "\n",
    "SampleIDs_36CI_SOI = list( PMP_36CI_AnalysisSet_AssemblySummary[\"SampleID\"].values )\n",
    "\n",
    "\n",
    "print(','.join(SampleIDs_36CI_SOI) )\n",
    "\n",
    "# Make sample to metadata mapping dicts\n",
    "\n",
    "ID_To_IlluminaAvrgCov_Dict = dict(PMP_36CI_AnalysisSet_AssemblySummary[['SampleID', 'IlluminaWGSToH37rv_AvrgCov']].values)                     \n",
    "ID_To_Lineage_Dict = dict(PMP_36CI_AnalysisSet_AssemblySummary[['SampleID', 'PrimaryLineage_PB']].values)\n",
    "ID_To_Dataset_Dict = dict(PMP_36CI_AnalysisSet_AssemblySummary[['SampleID', 'Dataset_Tag']].values)"
   ]
  },
  {
   "cell_type": "code",
   "execution_count": null,
   "metadata": {},
   "outputs": [],
   "source": []
  },
  {
   "cell_type": "markdown",
   "metadata": {},
   "source": [
    "### Let's verify the shapes of the metadata dataframes"
   ]
  },
  {
   "cell_type": "code",
   "execution_count": 4,
   "metadata": {},
   "outputs": [
    {
     "data": {
      "text/plain": [
       "(36, 26)"
      ]
     },
     "execution_count": 4,
     "metadata": {},
     "output_type": "execute_result"
    }
   ],
   "source": [
    "PMP_36CI_AnalysisSet_AssemblySummary.shape"
   ]
  },
  {
   "cell_type": "code",
   "execution_count": null,
   "metadata": {},
   "outputs": [],
   "source": []
  },
  {
   "cell_type": "code",
   "execution_count": null,
   "metadata": {},
   "outputs": [],
   "source": []
  },
  {
   "cell_type": "code",
   "execution_count": null,
   "metadata": {},
   "outputs": [],
   "source": []
  },
  {
   "cell_type": "code",
   "execution_count": null,
   "metadata": {},
   "outputs": [],
   "source": []
  },
  {
   "cell_type": "code",
   "execution_count": null,
   "metadata": {},
   "outputs": [],
   "source": []
  },
  {
   "cell_type": "code",
   "execution_count": null,
   "metadata": {},
   "outputs": [],
   "source": []
  },
  {
   "cell_type": "code",
   "execution_count": null,
   "metadata": {},
   "outputs": [],
   "source": []
  },
  {
   "cell_type": "markdown",
   "metadata": {
    "toc-hr-collapsed": true
   },
   "source": [
    "## Construct dictionary with PATHs to relevant files for all samples"
   ]
  },
  {
   "cell_type": "markdown",
   "metadata": {},
   "source": [
    "### Define directories to PMP-SM (PacBio assembly and analysis pipeline)"
   ]
  },
  {
   "cell_type": "code",
   "execution_count": 5,
   "metadata": {},
   "outputs": [],
   "source": [
    "### Define directories to PMP-SM (PacBio assembly and analysis pipeline)\n",
    "\n",
    "### Define varaint calling pipeline output directories\n",
    "\n",
    "PacBio_ProjectDir = \"/n/data1/hms/dbmi/farhat/mm774/Projects/PacBio_Evaluation_Project\"\n",
    "\n",
    "PMP_SM_Outputs_Dir = PacBio_ProjectDir + \"/PacmanPipe_SM_Outputs\"\n",
    "\n",
    "PMP_SM_83CI_191203_OutputDir = PMP_SM_Outputs_Dir + \"/201201_PMP_SM_TB_Portals_R1_Output_V2\"\n"
   ]
  },
  {
   "cell_type": "code",
   "execution_count": null,
   "metadata": {},
   "outputs": [],
   "source": []
  },
  {
   "cell_type": "code",
   "execution_count": null,
   "metadata": {},
   "outputs": [],
   "source": []
  },
  {
   "cell_type": "code",
   "execution_count": null,
   "metadata": {},
   "outputs": [],
   "source": []
  },
  {
   "cell_type": "code",
   "execution_count": 6,
   "metadata": {},
   "outputs": [
    {
     "name": "stdout",
     "output_type": "stream",
     "text": [
      "36\n"
     ]
    }
   ],
   "source": [
    "print(len(SampleIDs_36CI_SOI))"
   ]
  },
  {
   "cell_type": "code",
   "execution_count": 7,
   "metadata": {},
   "outputs": [],
   "source": [
    "listOfSample_Tags = SampleIDs_36CI_SOI\n",
    "\n",
    "SampleTag_ToPaths_Dict = {}\n",
    "\n",
    "Mcanettii_ToH37rv_MM2_VCF_PilonPASS_UnionOfSNPs_WiMcanettii_PATH = f\"{PMP_SM_83CI_191203_OutputDir}/Mcanetti_VCFprocessing_TreeBuilding/Mcanettii_ToH37rv.mm2.OnlySNPpositionsIn.UnionOfAllSamples.PilonPASS.WiMcanettii.bcf.gz\"          \n",
    "Mcanettii_ToH37rv_MM2_VCF_PBMM2_UnionOfSNPs_WiMcanettii_PATH = f\"{PMP_SM_83CI_191203_OutputDir}/Mcanetti_VCFprocessing_TreeBuilding/Mcanettii_ToH37rv.mm2.OnlySNPpositionsIn.UnionOfAllSamples.PBMM2.mpileup.WiMcanettii.bcf.gz\"          \n",
    "\n",
    "\n",
    "for Sample_Tag in listOfSample_Tags:\n",
    "    \n",
    "    # Defining PATHs for PacBio data output (PacmanPipe-V4)\n",
    "    sample_PMP_OutputDir = PMP_SM_83CI_191203_OutputDir + \"/\" + Sample_Tag\n",
    "\n",
    "    variants_OutputDir = sample_PMP_OutputDir + \"/pacbio_VariantCallingVersusH37Rv\"\n",
    "\n",
    "    MM2_AssemblyToRef_Output_Dir = variants_OutputDir + \"/Minimap2_Flye_I3_PP_AlignTo_H37rv\"\n",
    "    PB_Minimap2_VCF_PATH = MM2_AssemblyToRef_Output_Dir + f\"/{Sample_Tag}_mm2_GC3_PP_AssemblyToH37rv.vcf\" \n",
    "\n",
    "\n",
    "    PB_Minimap2_paftools_UnionOfSNPs_BCF_GZ_PATH = MM2_AssemblyToRef_Output_Dir + f\"/{Sample_Tag}.mm2.Flye_I3_PP_AssemblyToH37rv.mpileup.call.SNPs.Union.AllSamples.bcf.gz\" \n",
    "    \n",
    "    sample_Pilon_OutputDir=f\"{sample_PMP_OutputDir}/IlluminaWGS/Pilon_IlluminaPE_AlignedTo_H37rv_minMQ_1_minDP_5_Fix_All_Breaks\"\n",
    "    \n",
    "    \n",
    "    Ill_Pilon_VCF_PATH = sample_Pilon_OutputDir + f\"/{Sample_Tag}.IllPE.H37rv.vcf\"\n",
    "    \n",
    "    Ill_Pilon_UnionOfSNPs_BCF_REDUCED_PATH = sample_Pilon_OutputDir + f\"/{Sample_Tag}.IllPE.H37rv.OnlySNPpositionsIn.UnionOfAllSamples.bcf.gz\"\n",
    "\n",
    "    #!ls -lah $Ill_Pilon_UnionOfSNPs_BCF_REDUCED_PATH\n",
    "    \n",
    "    dictOfPaths_Temp = {}\n",
    "\n",
    "    dictOfPaths_Temp[\"PB_Minimap2_mpileup_UnionOfSNPs_BCF_GZ_PATH\"] = PB_Minimap2_paftools_UnionOfSNPs_BCF_GZ_PATH    \n",
    "\n",
    "    \n",
    "    dictOfPaths_Temp[\"Ill_Pilon_UnionOfSNPs_BCF_REDUCED_PATH\"] = Ill_Pilon_UnionOfSNPs_BCF_REDUCED_PATH    \n",
    "\n",
    "    #dictOfPaths_Temp[\"PB_GCPolished3_Minimap2_VCF_PATH\"] = PB_Minimap2_VCF_PATH\n",
    "    #dictOfPaths_Temp[\"Ill_Pilon_VCF_PATH\"] = Ill_Pilon_VCF_PATH\n",
    "    #dictOfPaths_Temp[\"Ill_Pilon_VCF_REDUCED_PATH\"] = Ill_Pilon_VCF_REDUCED_PATH\n",
    "    #dictOfPaths_Temp[\"Reduced_VCF_PATH\"] = Ill_Pilon_VCF_REDUCED_PATH\n",
    "    \n",
    "    SampleTag_ToPaths_Dict[Sample_Tag] = dictOfPaths_Temp\n",
    "    \n",
    "    "
   ]
  },
  {
   "cell_type": "code",
   "execution_count": 20,
   "metadata": {},
   "outputs": [],
   "source": [
    "#!ls -alh $sample_Pilon_OutputDir"
   ]
  },
  {
   "cell_type": "code",
   "execution_count": null,
   "metadata": {},
   "outputs": [],
   "source": []
  },
  {
   "cell_type": "markdown",
   "metadata": {},
   "source": [
    "# Begin merging of BCFs and phylogeny construction "
   ]
  },
  {
   "cell_type": "code",
   "execution_count": 21,
   "metadata": {},
   "outputs": [],
   "source": [
    "#!ls -1 /n/data1/hms/dbmi/farhat/mm774/Projects/PacBio_Evaluation_Project"
   ]
  },
  {
   "cell_type": "markdown",
   "metadata": {},
   "source": [
    "## A) Reformating, filtering of VCFs to BCFs"
   ]
  },
  {
   "cell_type": "code",
   "execution_count": 10,
   "metadata": {},
   "outputs": [],
   "source": [
    "AnalysisName = \"210109_Phylogeny_PMPSM_36CI.PacBio_MM2.V7.UnionOfSNPs.NoOutgroup\"\n",
    "\n",
    "PB_Vs_Illumina_DataAnalysis_Dir = \"../../../210112_PBvsI_VCeval_AnalysisDir_V7_36CI\"\n",
    "\n",
    "Target_Output_Dir = f\"{PB_Vs_Illumina_DataAnalysis_Dir}/{AnalysisName}\"\n",
    "\n",
    "input_SampleInfo_Dict = SampleTag_ToPaths_Dict\n",
    "\n",
    "input_SampleNames = listOfSample_Tags\n",
    "\n",
    "# Use the \n",
    "VCF_PATH_InDictName = \"PB_Minimap2_mpileup_UnionOfSNPs_BCF_GZ_PATH\"\n"
   ]
  },
  {
   "cell_type": "code",
   "execution_count": 11,
   "metadata": {},
   "outputs": [],
   "source": [
    "!mkdir $Target_Output_Dir"
   ]
  },
  {
   "cell_type": "code",
   "execution_count": 12,
   "metadata": {
    "scrolled": true
   },
   "outputs": [
    {
     "name": "stderr",
     "output_type": "stream",
     "text": [
      "  0%|          | 0/36 [00:00<?, ?it/s]"
     ]
    },
    {
     "name": "stdout",
     "output_type": "stream",
     "text": [
      "Writing to /tmp/bcftools-sort.ypmR91\n",
      "Merging 1 temporary files\n",
      "Cleaning\n",
      "Done\n"
     ]
    },
    {
     "name": "stderr",
     "output_type": "stream",
     "text": [
      "  3%|▎         | 1/36 [00:01<00:35,  1.02s/it]"
     ]
    },
    {
     "name": "stdout",
     "output_type": "stream",
     "text": [
      "Writing to /tmp/bcftools-sort.xK4aF3\n",
      "Merging 1 temporary files\n",
      "Cleaning\n",
      "Done\n"
     ]
    },
    {
     "name": "stderr",
     "output_type": "stream",
     "text": [
      "  6%|▌         | 2/36 [00:01<00:33,  1.00it/s]"
     ]
    },
    {
     "name": "stdout",
     "output_type": "stream",
     "text": [
      "Writing to /tmp/bcftools-sort.J9Gvs3\n",
      "Merging 1 temporary files\n",
      "Cleaning\n",
      "Done\n"
     ]
    },
    {
     "name": "stderr",
     "output_type": "stream",
     "text": [
      "  8%|▊         | 3/36 [00:02<00:32,  1.02it/s]"
     ]
    },
    {
     "name": "stdout",
     "output_type": "stream",
     "text": [
      "Writing to /tmp/bcftools-sort.qXSZLW\n",
      "Merging 1 temporary files\n",
      "Cleaning\n",
      "Done\n"
     ]
    },
    {
     "name": "stderr",
     "output_type": "stream",
     "text": [
      " 11%|█         | 4/36 [00:03<00:30,  1.04it/s]"
     ]
    },
    {
     "name": "stdout",
     "output_type": "stream",
     "text": [
      "Writing to /tmp/bcftools-sort.lNvbJ6\n",
      "Merging 1 temporary files\n",
      "Cleaning\n",
      "Done\n"
     ]
    },
    {
     "name": "stderr",
     "output_type": "stream",
     "text": [
      " 14%|█▍        | 5/36 [00:04<00:29,  1.04it/s]"
     ]
    },
    {
     "name": "stdout",
     "output_type": "stream",
     "text": [
      "Writing to /tmp/bcftools-sort.CFcxj6\n",
      "Merging 1 temporary files\n",
      "Cleaning\n",
      "Done\n"
     ]
    },
    {
     "name": "stderr",
     "output_type": "stream",
     "text": [
      " 17%|█▋        | 6/36 [00:05<00:28,  1.04it/s]"
     ]
    },
    {
     "name": "stdout",
     "output_type": "stream",
     "text": [
      "Writing to /tmp/bcftools-sort.cHRqo0\n",
      "Merging 1 temporary files\n",
      "Cleaning\n",
      "Done\n"
     ]
    },
    {
     "name": "stderr",
     "output_type": "stream",
     "text": [
      " 19%|█▉        | 7/36 [00:06<00:27,  1.06it/s]"
     ]
    },
    {
     "name": "stdout",
     "output_type": "stream",
     "text": [
      "Writing to /tmp/bcftools-sort.kg0yqY\n",
      "Merging 1 temporary files\n",
      "Cleaning\n",
      "Done\n"
     ]
    },
    {
     "name": "stderr",
     "output_type": "stream",
     "text": [
      " 22%|██▏       | 8/36 [00:07<00:26,  1.08it/s]"
     ]
    },
    {
     "name": "stdout",
     "output_type": "stream",
     "text": [
      "Writing to /tmp/bcftools-sort.iMaMVT\n",
      "Merging 1 temporary files\n",
      "Cleaning\n",
      "Done\n"
     ]
    },
    {
     "name": "stderr",
     "output_type": "stream",
     "text": [
      " 25%|██▌       | 9/36 [00:08<00:24,  1.08it/s]"
     ]
    },
    {
     "name": "stdout",
     "output_type": "stream",
     "text": [
      "Writing to /tmp/bcftools-sort.HroCeP\n",
      "Merging 1 temporary files\n",
      "Cleaning\n",
      "Done\n"
     ]
    },
    {
     "name": "stderr",
     "output_type": "stream",
     "text": [
      " 28%|██▊       | 10/36 [00:09<00:23,  1.10it/s]"
     ]
    },
    {
     "name": "stdout",
     "output_type": "stream",
     "text": [
      "Writing to /tmp/bcftools-sort.LeZSEG\n",
      "Merging 1 temporary files\n",
      "Cleaning\n",
      "Done\n"
     ]
    },
    {
     "name": "stderr",
     "output_type": "stream",
     "text": [
      " 31%|███       | 11/36 [00:10<00:22,  1.10it/s]"
     ]
    },
    {
     "name": "stdout",
     "output_type": "stream",
     "text": [
      "Writing to /tmp/bcftools-sort.DzHjwF\n",
      "Merging 1 temporary files\n",
      "Cleaning\n",
      "Done\n"
     ]
    },
    {
     "name": "stderr",
     "output_type": "stream",
     "text": [
      " 33%|███▎      | 12/36 [00:11<00:22,  1.08it/s]"
     ]
    },
    {
     "name": "stdout",
     "output_type": "stream",
     "text": [
      "Writing to /tmp/bcftools-sort.yP8hAB\n",
      "Merging 1 temporary files\n",
      "Cleaning\n",
      "Done\n"
     ]
    },
    {
     "name": "stderr",
     "output_type": "stream",
     "text": [
      " 36%|███▌      | 13/36 [00:12<00:21,  1.09it/s]"
     ]
    },
    {
     "name": "stdout",
     "output_type": "stream",
     "text": [
      "Writing to /tmp/bcftools-sort.aqQNvA\n",
      "Merging 1 temporary files\n",
      "Cleaning\n",
      "Done\n"
     ]
    },
    {
     "name": "stderr",
     "output_type": "stream",
     "text": [
      " 39%|███▉      | 14/36 [00:13<00:20,  1.08it/s]"
     ]
    },
    {
     "name": "stdout",
     "output_type": "stream",
     "text": [
      "Writing to /tmp/bcftools-sort.bvoYhu\n",
      "Merging 1 temporary files\n",
      "Cleaning\n",
      "Done\n"
     ]
    },
    {
     "name": "stderr",
     "output_type": "stream",
     "text": [
      " 42%|████▏     | 15/36 [00:13<00:19,  1.08it/s]"
     ]
    },
    {
     "name": "stdout",
     "output_type": "stream",
     "text": [
      "Writing to /tmp/bcftools-sort.ZpV15t\n",
      "Merging 1 temporary files\n",
      "Cleaning\n",
      "Done\n"
     ]
    },
    {
     "name": "stderr",
     "output_type": "stream",
     "text": [
      " 44%|████▍     | 16/36 [00:14<00:18,  1.06it/s]"
     ]
    },
    {
     "name": "stdout",
     "output_type": "stream",
     "text": [
      "Writing to /tmp/bcftools-sort.Awmgsu\n",
      "Merging 1 temporary files\n",
      "Cleaning\n",
      "Done\n"
     ]
    },
    {
     "name": "stderr",
     "output_type": "stream",
     "text": [
      " 47%|████▋     | 17/36 [00:15<00:17,  1.07it/s]"
     ]
    },
    {
     "name": "stdout",
     "output_type": "stream",
     "text": [
      "Writing to /tmp/bcftools-sort.ppoV4q\n",
      "Merging 1 temporary files\n",
      "Cleaning\n",
      "Done\n"
     ]
    },
    {
     "name": "stderr",
     "output_type": "stream",
     "text": [
      " 50%|█████     | 18/36 [00:16<00:16,  1.07it/s]"
     ]
    },
    {
     "name": "stdout",
     "output_type": "stream",
     "text": [
      "Writing to /tmp/bcftools-sort.2VmtGA\n",
      "Merging 1 temporary files\n",
      "Cleaning\n",
      "Done\n"
     ]
    },
    {
     "name": "stderr",
     "output_type": "stream",
     "text": [
      " 53%|█████▎    | 19/36 [00:18<00:17,  1.02s/it]"
     ]
    },
    {
     "name": "stdout",
     "output_type": "stream",
     "text": [
      "Writing to /tmp/bcftools-sort.7bLrWJ\n",
      "Merging 1 temporary files\n",
      "Cleaning\n",
      "Done\n"
     ]
    },
    {
     "name": "stderr",
     "output_type": "stream",
     "text": [
      " 56%|█████▌    | 20/36 [00:19<00:17,  1.10s/it]"
     ]
    },
    {
     "name": "stdout",
     "output_type": "stream",
     "text": [
      "Writing to /tmp/bcftools-sort.NgGNdb\n",
      "Merging 1 temporary files\n",
      "Cleaning\n",
      "Done\n"
     ]
    },
    {
     "name": "stderr",
     "output_type": "stream",
     "text": [
      " 58%|█████▊    | 21/36 [00:20<00:16,  1.11s/it]"
     ]
    },
    {
     "name": "stdout",
     "output_type": "stream",
     "text": [
      "Writing to /tmp/bcftools-sort.xcBHGh\n",
      "Merging 1 temporary files\n",
      "Cleaning\n",
      "Done\n"
     ]
    },
    {
     "name": "stderr",
     "output_type": "stream",
     "text": [
      " 61%|██████    | 22/36 [00:21<00:15,  1.09s/it]"
     ]
    },
    {
     "name": "stdout",
     "output_type": "stream",
     "text": [
      "Writing to /tmp/bcftools-sort.BXPDyu\n",
      "Merging 1 temporary files\n",
      "Cleaning\n",
      "Done\n"
     ]
    },
    {
     "name": "stderr",
     "output_type": "stream",
     "text": [
      " 64%|██████▍   | 23/36 [00:22<00:14,  1.10s/it]"
     ]
    },
    {
     "name": "stdout",
     "output_type": "stream",
     "text": [
      "Writing to /tmp/bcftools-sort.UtOGpE\n",
      "Merging 1 temporary files\n",
      "Cleaning\n",
      "Done\n"
     ]
    },
    {
     "name": "stderr",
     "output_type": "stream",
     "text": [
      " 67%|██████▋   | 24/36 [00:23<00:12,  1.08s/it]"
     ]
    },
    {
     "name": "stdout",
     "output_type": "stream",
     "text": [
      "Writing to /tmp/bcftools-sort.XjQDeJ\n",
      "Merging 1 temporary files\n",
      "Cleaning\n",
      "Done\n"
     ]
    },
    {
     "name": "stderr",
     "output_type": "stream",
     "text": [
      " 69%|██████▉   | 25/36 [00:24<00:12,  1.09s/it]"
     ]
    },
    {
     "name": "stdout",
     "output_type": "stream",
     "text": [
      "Writing to /tmp/bcftools-sort.5G1LgN\n",
      "Merging 1 temporary files\n",
      "Cleaning\n",
      "Done\n"
     ]
    },
    {
     "name": "stderr",
     "output_type": "stream",
     "text": [
      " 72%|███████▏  | 26/36 [00:25<00:11,  1.11s/it]"
     ]
    },
    {
     "name": "stdout",
     "output_type": "stream",
     "text": [
      "Writing to /tmp/bcftools-sort.bHDYLY\n",
      "Merging 1 temporary files\n",
      "Cleaning\n",
      "Done\n"
     ]
    },
    {
     "name": "stderr",
     "output_type": "stream",
     "text": [
      " 75%|███████▌  | 27/36 [00:28<00:13,  1.48s/it]"
     ]
    },
    {
     "name": "stdout",
     "output_type": "stream",
     "text": [
      "Writing to /tmp/bcftools-sort.O9sW1p\n",
      "Merging 1 temporary files\n",
      "Cleaning\n",
      "Done\n"
     ]
    },
    {
     "name": "stderr",
     "output_type": "stream",
     "text": [
      " 78%|███████▊  | 28/36 [00:29<00:10,  1.37s/it]"
     ]
    },
    {
     "name": "stdout",
     "output_type": "stream",
     "text": [
      "Writing to /tmp/bcftools-sort.8FsErD\n",
      "Merging 1 temporary files\n",
      "Cleaning\n",
      "Done\n"
     ]
    },
    {
     "name": "stderr",
     "output_type": "stream",
     "text": [
      " 81%|████████  | 29/36 [00:30<00:09,  1.30s/it]"
     ]
    },
    {
     "name": "stdout",
     "output_type": "stream",
     "text": [
      "Writing to /tmp/bcftools-sort.vxFYdO\n",
      "Merging 1 temporary files\n",
      "Cleaning\n",
      "Done\n"
     ]
    },
    {
     "name": "stderr",
     "output_type": "stream",
     "text": [
      " 83%|████████▎ | 30/36 [00:31<00:07,  1.25s/it]"
     ]
    },
    {
     "name": "stdout",
     "output_type": "stream",
     "text": [
      "Writing to /tmp/bcftools-sort.8FiOD1\n",
      "Merging 1 temporary files\n",
      "Cleaning\n",
      "Done\n"
     ]
    },
    {
     "name": "stderr",
     "output_type": "stream",
     "text": [
      " 86%|████████▌ | 31/36 [00:32<00:06,  1.20s/it]"
     ]
    },
    {
     "name": "stdout",
     "output_type": "stream",
     "text": [
      "Writing to /tmp/bcftools-sort.55Q999\n",
      "Merging 1 temporary files\n",
      "Cleaning\n",
      "Done\n"
     ]
    },
    {
     "name": "stderr",
     "output_type": "stream",
     "text": [
      " 89%|████████▉ | 32/36 [00:33<00:04,  1.18s/it]"
     ]
    },
    {
     "name": "stdout",
     "output_type": "stream",
     "text": [
      "Writing to /tmp/bcftools-sort.ZVfbfb\n",
      "Merging 1 temporary files\n",
      "Cleaning\n",
      "Done\n"
     ]
    },
    {
     "name": "stderr",
     "output_type": "stream",
     "text": [
      " 92%|█████████▏| 33/36 [00:34<00:03,  1.16s/it]"
     ]
    },
    {
     "name": "stdout",
     "output_type": "stream",
     "text": [
      "Writing to /tmp/bcftools-sort.LYlbHn\n",
      "Merging 1 temporary files\n",
      "Cleaning\n",
      "Done\n"
     ]
    },
    {
     "name": "stderr",
     "output_type": "stream",
     "text": [
      " 94%|█████████▍| 34/36 [00:36<00:02,  1.14s/it]"
     ]
    },
    {
     "name": "stdout",
     "output_type": "stream",
     "text": [
      "Writing to /tmp/bcftools-sort.BSdSzx\n",
      "Merging 1 temporary files\n",
      "Cleaning\n",
      "Done\n"
     ]
    },
    {
     "name": "stderr",
     "output_type": "stream",
     "text": [
      " 97%|█████████▋| 35/36 [00:37<00:01,  1.14s/it]"
     ]
    },
    {
     "name": "stdout",
     "output_type": "stream",
     "text": [
      "Writing to /tmp/bcftools-sort.CjRDwJ\n",
      "Merging 1 temporary files\n",
      "Cleaning\n",
      "Done\n"
     ]
    },
    {
     "name": "stderr",
     "output_type": "stream",
     "text": [
      "100%|██████████| 36/36 [00:38<00:00,  1.13s/it]\n"
     ]
    }
   ],
   "source": [
    "\n",
    "Individual_BCFs_Dir = f\"{Target_Output_Dir}/BCFs\"\n",
    "\n",
    "!mkdir $Individual_BCFs_Dir\n",
    "\n",
    "for sampleID in tqdm(input_SampleNames):\n",
    "    \n",
    "    Reduced_VCF_PATH = input_SampleInfo_Dict[sampleID][VCF_PATH_InDictName]\n",
    "    \n",
    "    BCF_SNPs_PATH = f\"{Individual_BCFs_Dir}/{sampleID}.snps.bcf\"\n",
    "    BCF_SNPs_Sorted_AndFiltered_PATH = f\"{Individual_BCFs_Dir}/{sampleID}.snps.DPfiltered.bcf\"\n",
    "\n",
    "    BCF_SNPs_Renamed_PATH = f\"{Individual_BCFs_Dir}/{sampleID}.snps.renamed.bcf\"\n",
    "    \n",
    "    #!bcftools view $Reduced_VCF_PATH --types snps --include \"MQ>=40 && BQ>=20\" -f .,PASS -O b -o $BCF_SNPs_PATH\n",
    "    #!bcftools view $Reduced_VCF_PATH --types snps -f .,PASS -O b -o $BCF_SNPs_PATH\n",
    "    \n",
    "    \n",
    "    \n",
    "    !bcftools view $Reduced_VCF_PATH -f .,PASS -O b -o $BCF_SNPs_PATH\n",
    "\n",
    "    !bcftools index $BCF_SNPs_PATH \n",
    "\n",
    "    \n",
    "    # Now sort BCF and remove all sites with DP != 1\n",
    "    !bcftools sort $BCF_SNPs_PATH -Ou | bcftools view -e \"DP!=1\" -O b -o $BCF_SNPs_Sorted_AndFiltered_PATH \n",
    "    \n",
    "    \n",
    "    SampleTag_header_PATH = Individual_BCFs_Dir + \"/\" + sampleID + \".name.txt\"\n",
    "    !echo $sampleID > $SampleTag_header_PATH\n",
    "    \n",
    "    !bcftools reheader -s $SampleTag_header_PATH $BCF_SNPs_Sorted_AndFiltered_PATH -o $BCF_SNPs_Renamed_PATH\n",
    "    \n",
    "    !bcftools index $BCF_SNPs_Renamed_PATH\n",
    "\n",
    "    #!rm $SampleTag_header_PATH $BCF_SNPs_PATH\n",
    "    \n",
    "    #break\n"
   ]
  },
  {
   "cell_type": "code",
   "execution_count": null,
   "metadata": {},
   "outputs": [],
   "source": []
  },
  {
   "cell_type": "code",
   "execution_count": null,
   "metadata": {},
   "outputs": [],
   "source": []
  },
  {
   "cell_type": "code",
   "execution_count": null,
   "metadata": {},
   "outputs": [],
   "source": []
  },
  {
   "cell_type": "markdown",
   "metadata": {},
   "source": [
    "## B) Output Reformated SNP BCF paths to a single file (for merging)"
   ]
  },
  {
   "cell_type": "code",
   "execution_count": 13,
   "metadata": {},
   "outputs": [
    {
     "name": "stderr",
     "output_type": "stream",
     "text": [
      "100%|██████████| 36/36 [00:00<00:00, 126039.19it/s]\n"
     ]
    }
   ],
   "source": [
    "PeruIsolates_BCF_List_PATH = Target_Output_Dir + \"/ListOfAll_RenamedBCFs.txt\"\n",
    "\n",
    "with open(PeruIsolates_BCF_List_PATH, \"w\") as outputFile:\n",
    "    \n",
    "    for Sample_Tag in tqdm(input_SampleNames):\n",
    "        \n",
    "        BCF_SNPs_Renamed_PATH = f\"{Individual_BCFs_Dir}/{Sample_Tag}.snps.renamed.bcf\"\n",
    "        \n",
    "        outputFile.write(BCF_SNPs_Renamed_PATH + \"\\n\")"
   ]
  },
  {
   "cell_type": "markdown",
   "metadata": {},
   "source": [
    "## 3) Merge BCF files"
   ]
  },
  {
   "cell_type": "code",
   "execution_count": 14,
   "metadata": {},
   "outputs": [],
   "source": [
    "Merged_VCF_PATH = Target_Output_Dir + f\"/{AnalysisName}_MergedVCF_AtoRef.vcf\"\n",
    "\n",
    "!bcftools merge -i \"-\" -l $PeruIsolates_BCF_List_PATH -o $Merged_VCF_PATH -O v #-0"
   ]
  },
  {
   "cell_type": "markdown",
   "metadata": {},
   "source": [
    "## 4) Convert the Merged VCF to Phylip format"
   ]
  },
  {
   "cell_type": "code",
   "execution_count": 15,
   "metadata": {
    "scrolled": true
   },
   "outputs": [
    {
     "name": "stdout",
     "output_type": "stream",
     "text": [
      "\n",
      "Converting file ../../../210112_PBvsI_VCeval_AnalysisDir_V7_36CI/210109_Phylogeny_PMPSM_36CI.PacBio_MM2.V7.UnionOfSNPs.NoOutgroup/210109_Phylogeny_PMPSM_36CI.PacBio_MM2.V7.UnionOfSNPs.NoOutgroup_MergedVCF_AtoRef.vcf:\n",
      "\n",
      "Number of samples in VCF: 36\n",
      "Total of genotypes processed: 17995\n",
      "Genotypes excluded because they exceeded the amount of missing data allowed: 2319\n",
      "Genotypes that passed missing data filter but were excluded for not being SNPs: 3\n",
      "SNPs that passed the filters: 15673\n",
      "\n",
      "Sample 1 of 36, M0011368_9, added to the nucleotide matrix(ces).\n",
      "Sample 2 of 36, M0014888_3, added to the nucleotide matrix(ces).\n",
      "Sample 3 of 36, M0016395_7, added to the nucleotide matrix(ces).\n",
      "Sample 4 of 36, M0010874_7, added to the nucleotide matrix(ces).\n",
      "Sample 5 of 36, 01_R1430, added to the nucleotide matrix(ces).\n",
      "Sample 6 of 36, 02_R0894, added to the nucleotide matrix(ces).\n",
      "Sample 7 of 36, 02_R1708, added to the nucleotide matrix(ces).\n",
      "Sample 8 of 36, 02_R1896, added to the nucleotide matrix(ces).\n",
      "Sample 9 of 36, M0016737_0, added to the nucleotide matrix(ces).\n",
      "Sample 10 of 36, M0017522_5, added to the nucleotide matrix(ces).\n",
      "Sample 11 of 36, 01_R1134, added to the nucleotide matrix(ces).\n",
      "Sample 12 of 36, M0003941_3, added to the nucleotide matrix(ces).\n",
      "Sample 13 of 36, 02_R1179, added to the nucleotide matrix(ces).\n",
      "Sample 14 of 36, N1176, added to the nucleotide matrix(ces).\n",
      "Sample 15 of 36, N0072, added to the nucleotide matrix(ces).\n",
      "Sample 16 of 36, N0153, added to the nucleotide matrix(ces).\n",
      "Sample 17 of 36, N0145, added to the nucleotide matrix(ces).\n",
      "Sample 18 of 36, N0155, added to the nucleotide matrix(ces).\n",
      "Sample 19 of 36, N0004, added to the nucleotide matrix(ces).\n",
      "Sample 20 of 36, N1274, added to the nucleotide matrix(ces).\n",
      "Sample 21 of 36, N0054, added to the nucleotide matrix(ces).\n",
      "Sample 22 of 36, N1272, added to the nucleotide matrix(ces).\n",
      "Sample 23 of 36, N0091, added to the nucleotide matrix(ces).\n",
      "Sample 24 of 36, N1202, added to the nucleotide matrix(ces).\n",
      "Sample 25 of 36, N1177, added to the nucleotide matrix(ces).\n",
      "Sample 26 of 36, RW-TB008, added to the nucleotide matrix(ces).\n",
      "Sample 27 of 36, DNA028, added to the nucleotide matrix(ces).\n",
      "Sample 28 of 36, DNA075, added to the nucleotide matrix(ces).\n",
      "Sample 29 of 36, DNA091, added to the nucleotide matrix(ces).\n",
      "Sample 30 of 36, DNA044, added to the nucleotide matrix(ces).\n",
      "Sample 31 of 36, DNA020, added to the nucleotide matrix(ces).\n",
      "Sample 32 of 36, AZE_02_042, added to the nucleotide matrix(ces).\n",
      "Sample 33 of 36, DNA019_Rose, added to the nucleotide matrix(ces).\n",
      "Sample 34 of 36, DNA120, added to the nucleotide matrix(ces).\n",
      "Sample 35 of 36, DNA188, added to the nucleotide matrix(ces).\n",
      "Sample 36 of 36, DNA086, added to the nucleotide matrix(ces).\n",
      "\n",
      "Done!\n",
      "\n",
      "\n",
      "real\t0m2.479s\n",
      "user\t0m1.143s\n",
      "sys\t0m0.041s\n"
     ]
    }
   ],
   "source": [
    "!time /n/data1/hms/dbmi/farhat/mm774/MGM_bin/vcf2phylip/vcf2phylip.py -i $Merged_VCF_PATH -f -m 36"
   ]
  },
  {
   "cell_type": "code",
   "execution_count": null,
   "metadata": {},
   "outputs": [],
   "source": []
  },
  {
   "cell_type": "code",
   "execution_count": 16,
   "metadata": {},
   "outputs": [
    {
     "name": "stdout",
     "output_type": "stream",
     "text": [
      "total 1.4M\n",
      "drwxrwsr-x  3 mm774 farhat  388 Mar 26 13:22 .\n",
      "drwxrwsr-x 10 mm774 farhat  472 Mar 26 13:21 ..\n",
      "-rw-rw-r--  1 mm774 farhat 552K Mar 26 13:22 210109_Phylogeny_PMPSM_36CI.PacBio_MM2.V7.UnionOfSNPs.NoOutgroup_MergedVCF_AtoRef.min36.fasta\n",
      "-rw-rw-r--  1 mm774 farhat 552K Mar 26 13:22 210109_Phylogeny_PMPSM_36CI.PacBio_MM2.V7.UnionOfSNPs.NoOutgroup_MergedVCF_AtoRef.min36.phy\n",
      "-rw-rw-r--  1 mm774 farhat 7.7M Mar 26 13:22 210109_Phylogeny_PMPSM_36CI.PacBio_MM2.V7.UnionOfSNPs.NoOutgroup_MergedVCF_AtoRef.vcf\n",
      "drwxrwsr-x  2 mm774 farhat 8.5K Mar 26 13:22 BCFs\n",
      "-rw-rw-r--  1 mm774 farhat 5.1K Mar 26 13:22 ListOfAll_RenamedBCFs.txt\n"
     ]
    }
   ],
   "source": [
    "!ls -lah $Target_Output_Dir"
   ]
  },
  {
   "cell_type": "markdown",
   "metadata": {},
   "source": [
    "## 5) Generate a Phylogenetic Tree using FastTree"
   ]
  },
  {
   "cell_type": "code",
   "execution_count": 19,
   "metadata": {},
   "outputs": [
    {
     "name": "stdout",
     "output_type": "stream",
     "text": [
      "FastTree Version 2.1.10 SSE3\n",
      "Alignment: ../../../210112_PBvsI_VCeval_AnalysisDir_V7_36CI/210109_Phylogeny_PMPSM_36CI.PacBio_MM2.V7.UnionOfSNPs.NoOutgroup/210109_Phylogeny_PMPSM_36CI.PacBio_MM2.V7.UnionOfSNPs.NoOutgroup_MergedVCF_AtoRef.min36.fasta\n",
      "Nucleotide distances: Jukes-Cantor Joins: balanced Support: SH-like 1000\n",
      "Search: Normal +NNI +SPR (2 rounds range 10) +ML-NNI opt-each=1\n",
      "TopHits: 1.00*sqrtN close=default refresh=0.80\n",
      "ML Model: Generalized Time-Reversible, CAT approximation with 20 rate categories\n",
      "Initial topology in 0.37 seconds\n",
      "Refining topology: 21 rounds ME-NNIs, 2 rounds ME-SPRs, 10 rounds ML-NNIs\n",
      "Total branch-length 0.936 after 6.53 sec1, 1 of 33 splits   \n",
      "ML-NNI round 1: LogLk = -105573.482 NNIs 0 max delta 0.00 Time 9.85\n",
      "GTR Frequencies: 0.1408 0.3580 0.3587 0.1425ep 12 of 12   ptimizing GTR model, step 2 of 12   \n",
      "GTR rates(ac ag at cg ct gt) 1.0321 2.9804 0.4430 0.5129 2.9014 1.0000\n",
      "Switched to using 20 rate categories (CAT approximation)19 of 20   Site likelihoods with rate category 15 of 20   \n",
      "Rate categories were divided by 0.775 so that average rate = 1.0\n",
      "CAT-based log-likelihoods may not be comparable across runs\n",
      "Use -gamma for approximate but comparable Gamma(20) log-likelihoods\n",
      "ML-NNI round 2: LogLk = -99625.800 NNIs 0 max delta 0.00 Time 24.68\n",
      "Turning off heuristics for final round of ML NNIs (converged)\n",
      "ML-NNI round 3: LogLk = -99620.086 NNIs 0 max delta 0.00 Time 28.11 (final)\n",
      "Optimize all lengths: LogLk = -99620.084 Time 29.20\n",
      "Total time: 39.57 seconds Unique: 35/36 Bad splits: 0/32\n",
      "\n",
      "real\t0m39.606s\n",
      "user\t0m19.149s\n",
      "sys\t0m0.296s\n"
     ]
    }
   ],
   "source": [
    "Input_FASTA_Aln = Target_Output_Dir + f\"/{AnalysisName}_MergedVCF_AtoRef.min36.fasta\"\n",
    "PeruIsolates_TreeFile_PATH = Target_Output_Dir + f\"/{AnalysisName}_MergedVCF.fasttree.newick\"\n",
    "\n",
    "!time FastTree -nt -gtr $Input_FASTA_Aln > $PeruIsolates_TreeFile_PATH"
   ]
  },
  {
   "cell_type": "code",
   "execution_count": null,
   "metadata": {},
   "outputs": [],
   "source": []
  },
  {
   "cell_type": "markdown",
   "metadata": {},
   "source": [
    "### Let's look at the output directory:"
   ]
  },
  {
   "cell_type": "code",
   "execution_count": 18,
   "metadata": {},
   "outputs": [
    {
     "name": "stdout",
     "output_type": "stream",
     "text": [
      "210109_Phylogeny_PMPSM_36CI.PacBio_MM2.V7.UnionOfSNPs.NoOutgroup_MergedVCF_AtoRef.min36.fasta\n",
      "210109_Phylogeny_PMPSM_36CI.PacBio_MM2.V7.UnionOfSNPs.NoOutgroup_MergedVCF_AtoRef.min36.phy\n",
      "210109_Phylogeny_PMPSM_36CI.PacBio_MM2.V7.UnionOfSNPs.NoOutgroup_MergedVCF_AtoRef.vcf\n",
      "210109_Phylogeny_PMPSM_36CI.PacBio_MM2.V7.UnionOfSNPs.NoOutgroup_MergedVCF.fasttree.newick\n",
      "BCFs\n",
      "ListOfAll_RenamedBCFs.txt\n"
     ]
    }
   ],
   "source": [
    "!ls -1 $Target_Output_Dir"
   ]
  },
  {
   "cell_type": "code",
   "execution_count": null,
   "metadata": {},
   "outputs": [],
   "source": []
  },
  {
   "cell_type": "code",
   "execution_count": null,
   "metadata": {},
   "outputs": [],
   "source": []
  },
  {
   "cell_type": "code",
   "execution_count": null,
   "metadata": {},
   "outputs": [],
   "source": []
  },
  {
   "cell_type": "code",
   "execution_count": null,
   "metadata": {},
   "outputs": [],
   "source": []
  },
  {
   "cell_type": "code",
   "execution_count": null,
   "metadata": {},
   "outputs": [],
   "source": []
  },
  {
   "cell_type": "code",
   "execution_count": null,
   "metadata": {},
   "outputs": [],
   "source": []
  }
 ],
 "metadata": {
  "kernelspec": {
   "display_name": "py37_S",
   "language": "python",
   "name": "py37_s"
  },
  "language_info": {
   "codemirror_mode": {
    "name": "ipython",
    "version": 3
   },
   "file_extension": ".py",
   "mimetype": "text/x-python",
   "name": "python",
   "nbconvert_exporter": "python",
   "pygments_lexer": "ipython3",
   "version": "3.7.3"
  }
 },
 "nbformat": 4,
 "nbformat_minor": 4
}
