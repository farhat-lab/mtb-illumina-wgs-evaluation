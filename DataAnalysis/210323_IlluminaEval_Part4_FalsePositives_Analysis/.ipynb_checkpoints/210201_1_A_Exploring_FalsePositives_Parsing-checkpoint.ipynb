{
 "cells": [
  {
   "cell_type": "code",
   "execution_count": null,
   "metadata": {},
   "outputs": [],
   "source": []
  },
  {
   "cell_type": "code",
   "execution_count": 1,
   "metadata": {},
   "outputs": [],
   "source": [
    "import numpy as np\n",
    "import pandas as pd\n",
    "from tqdm import tqdm\n",
    "import matplotlib.pyplot as plt\n",
    "import seaborn as sns\n",
    "import pickle\n",
    "from scipy import stats\n",
    "# import gffutils\n",
    "\n",
    "%matplotlib inline"
   ]
  },
  {
   "cell_type": "markdown",
   "metadata": {},
   "source": [
    "#### Pandas Viewing Settings"
   ]
  },
  {
   "cell_type": "code",
   "execution_count": 2,
   "metadata": {},
   "outputs": [],
   "source": [
    "pd.set_option('display.max_rows', 500)\n",
    "pd.set_option('display.max_columns', 500)\n",
    "pd.set_option('display.width', 1000)"
   ]
  },
  {
   "cell_type": "code",
   "execution_count": null,
   "metadata": {},
   "outputs": [],
   "source": []
  },
  {
   "cell_type": "markdown",
   "metadata": {},
   "source": [
    "## Define Directories"
   ]
  },
  {
   "cell_type": "code",
   "execution_count": 3,
   "metadata": {},
   "outputs": [
    {
     "name": "stdout",
     "output_type": "stream",
     "text": [
      "mkdir: cannot create directory ‘../../../210112_PBvsI_VCeval_AnalysisDir_V7_36CI/210126_FalsePositivesAnalysis_V4’: File exists\n"
     ]
    }
   ],
   "source": [
    "PB_Vs_Illumina_DataAnalysis_Dir = \"../../../210112_PBvsI_VCeval_AnalysisDir_V7_36CI\"\n",
    "\n",
    "FalsePositive_Analysis_V2_Dir = PB_Vs_Illumina_DataAnalysis_Dir + \"/210126_FalsePositivesAnalysis_V4\"  \n",
    "\n",
    "PBvIll_EBR_Dir = PB_Vs_Illumina_DataAnalysis_Dir + \"/210112_EBR_H37rv_36CI_MM2vsPilon_V7\"         \n",
    "\n",
    "\n",
    "!mkdir $FalsePositive_Analysis_V2_Dir"
   ]
  },
  {
   "cell_type": "code",
   "execution_count": null,
   "metadata": {},
   "outputs": [],
   "source": []
  },
  {
   "cell_type": "code",
   "execution_count": null,
   "metadata": {},
   "outputs": [],
   "source": []
  },
  {
   "cell_type": "code",
   "execution_count": null,
   "metadata": {},
   "outputs": [],
   "source": []
  },
  {
   "cell_type": "markdown",
   "metadata": {},
   "source": [
    "## Parse Assembly and Sequence analysis results Sample Info"
   ]
  },
  {
   "cell_type": "code",
   "execution_count": 4,
   "metadata": {},
   "outputs": [
    {
     "name": "stdout",
     "output_type": "stream",
     "text": [
      "M0011368_9,M0014888_3,M0016395_7,M0010874_7,01_R1430,02_R0894,02_R1708,02_R1896,M0016737_0,M0017522_5,01_R1134,M0003941_3,02_R1179,N1176,N0072,N0153,N0145,N0155,N0004,N1274,N0054,N1272,N0091,N1202,N1177,RW-TB008,DNA028,DNA075,DNA091,DNA044,DNA020,AZE_02_042,DNA019_Rose,DNA120,DNA188,DNA086\n"
     ]
    }
   ],
   "source": [
    "Repo_DataDir = \"../../Data\"\n",
    "\n",
    "PMP_SM_ResultsSummary_Dir_210108 = Repo_DataDir + \"/210108_PMP_SM_50CI_V7_ResultsSummary\"\n",
    "\n",
    "PMP_36CI_CicularOnly_F2Filtered_AtLeast40XIllDepth_AssemblySummary_TSV_PATH = PMP_SM_ResultsSummary_Dir_210108 + \"/210108_PMP_36CI_CircularOnly_F2Filtered_AtLeast40XMeanDepthIllumina_AssemblySummary_V7.tsv\"       \n",
    "\n",
    "PMP_36CI_CicularOnly_F2Filtered_AtLeast40XDepth_AssemblySummary = pd.read_csv(PMP_36CI_CicularOnly_F2Filtered_AtLeast40XIllDepth_AssemblySummary_TSV_PATH, sep = \"\\t\")\n",
    "\n",
    "PMP_36CI_AnalysisSet_AssemblySummary = PMP_36CI_CicularOnly_F2Filtered_AtLeast40XDepth_AssemblySummary\n",
    "\n",
    "\n",
    "SampleIDs_36CI_SOI = list( PMP_36CI_AnalysisSet_AssemblySummary[\"SampleID\"].values )\n",
    "\n",
    "\n",
    "print(','.join(SampleIDs_36CI_SOI) )\n",
    "\n",
    "# Make sample to metadata mapping dicts\n",
    "\n",
    "ID_To_IlluminaAvrgCov_Dict = dict(PMP_36CI_AnalysisSet_AssemblySummary[['SampleID', 'IlluminaWGSToH37rv_AvrgCov']].values)                     \n",
    "ID_To_Lineage_Dict = dict(PMP_36CI_AnalysisSet_AssemblySummary[['SampleID', 'PrimaryLineage_PB']].values)\n",
    "ID_To_Dataset_Dict = dict(PMP_36CI_AnalysisSet_AssemblySummary[['SampleID', 'Dataset_Tag']].values)"
   ]
  },
  {
   "cell_type": "code",
   "execution_count": null,
   "metadata": {},
   "outputs": [],
   "source": []
  },
  {
   "cell_type": "markdown",
   "metadata": {},
   "source": [
    "## 1) Read back in EBR and Pmappability H37rv gene level analysis"
   ]
  },
  {
   "cell_type": "code",
   "execution_count": 5,
   "metadata": {},
   "outputs": [],
   "source": [
    "#Repo_DataDir = \"../../Data\"\n",
    "\n",
    "\n",
    "FeatureLevelAnalysis_Dir_O2 = PBvIll_EBR_Dir + \"/210113_H37Rv_FeatureLevelAnalysis_EBR_Pmap\" \n",
    "\n",
    "\n",
    "H37Rv_FeatureLevelAnalysis_EBR_Pmap_TSV_O2_Repo = f\"{FeatureLevelAnalysis_Dir_O2}/H37Rv_FeatureLevelAnalysis.EBR_And_Pmap.tsv\"\n",
    "H37Rv_GeneLevelAnalysis_EBR_Pmap_TSV_O2_Repo = f\"{FeatureLevelAnalysis_Dir_O2}/H37Rv_FeatureLevelAnalysis.EBR_And_Pmap.Genes.tsv\"\n",
    "H37Rv_IntergenicLevelAnalysis_EBR_Pmap_TSV_O2_Repo = f\"{FeatureLevelAnalysis_Dir_O2}/H37Rv_FeatureLevelAnalysis.EBR_And_Pmap.IntergenicRegions.tsv\"\n",
    "\n",
    "FLA_DF = pd.read_csv(H37Rv_FeatureLevelAnalysis_EBR_Pmap_TSV_O2_Repo, sep = \"\\t\",)\n",
    "\n",
    "GLA_DF = pd.read_csv(H37Rv_GeneLevelAnalysis_EBR_Pmap_TSV_O2_Repo, sep = \"\\t\",)"
   ]
  },
  {
   "cell_type": "code",
   "execution_count": null,
   "metadata": {},
   "outputs": [],
   "source": []
  },
  {
   "cell_type": "code",
   "execution_count": null,
   "metadata": {},
   "outputs": [],
   "source": []
  },
  {
   "cell_type": "code",
   "execution_count": null,
   "metadata": {},
   "outputs": [],
   "source": []
  },
  {
   "cell_type": "markdown",
   "metadata": {
    "toc-hr-collapsed": true
   },
   "source": [
    "## Construct dictionary with PATHs to relevant files for all samples"
   ]
  },
  {
   "cell_type": "markdown",
   "metadata": {},
   "source": [
    "### Define directories to PMP-SM (PacBio assembly and analysis pipeline)"
   ]
  },
  {
   "cell_type": "code",
   "execution_count": 6,
   "metadata": {},
   "outputs": [],
   "source": [
    "### Define directories to PMP-SM (PacBio assembly and analysis pipeline)\n",
    "\n",
    "### Define varaint calling pipeline output directories\n",
    "\n",
    "PacBio_ProjectDir = \"/n/data1/hms/dbmi/farhat/mm774/Projects/PacBio_Evaluation_Project\"\n",
    "\n",
    "PMP_SM_Outputs_Dir = PacBio_ProjectDir + \"/PacmanPipe_SM_Outputs\"\n",
    "\n",
    "PMP_SM_TB_Portals_R1_Illumina_WGS_201201_OutputDir = PMP_SM_Outputs_Dir + \"/201201_PMP_SM_TB_Portals_R1_Output_V2\"\n"
   ]
  },
  {
   "cell_type": "code",
   "execution_count": null,
   "metadata": {},
   "outputs": [],
   "source": []
  },
  {
   "cell_type": "code",
   "execution_count": 7,
   "metadata": {},
   "outputs": [],
   "source": [
    "SampleID_ToPaths_Dict = {}\n",
    "\n",
    "for SampleID in SampleIDs_36CI_SOI:\n",
    "\n",
    "    SampleID_ToPaths_Dict[SampleID] = {}    \n",
    "    \n",
    "    # Defining PATHs for PacBio data output (PacmanPipe-V4)\n",
    "    sample_PMP_OutputDir = PMP_SM_TB_Portals_R1_Illumina_WGS_201201_OutputDir + \"/\" + SampleID\n",
    "    \n",
    "    ### NucDiff SVs and SNPs/INDELs PATHs ###\n",
    "    NucDiff_OutDir = f\"{sample_PMP_OutputDir}/VariantCallingVersusH37Rv/NucDiff_Analysis_{SampleID}\"\n",
    "    NucDiff_ResultsDir = f\"{NucDiff_OutDir}/results\"\n",
    "    \n",
    "    \n",
    "    # NucDiff SVs GFF PATH #\n",
    "    NucDiff_SVs_Filtered_GFF = f\"{NucDiff_ResultsDir}/NucDiff_{SampleID}_ref_struct.Filtered.SVs.gff\"\n",
    "    \n",
    "    SampleID_ToPaths_Dict[SampleID][\"NucDiff_SVs_Filtered_GFF\"] = NucDiff_SVs_Filtered_GFF\n",
    "\n",
    "    \n",
    "    # NucDiff SNPs AND INDELs VCF #\n",
    "\n",
    "    NucDiff_SNPsAndINDELs_VCF = f\"{NucDiff_ResultsDir}/NucDiff_{SampleID}_ref_snps.Reformated.SNPsAndINDELs.Lengths_1to15bp.vcf\"\n",
    "    \n",
    "    \n",
    "    ################# END #################\n",
    "    \n",
    "    \n",
    "    \n",
    "    ### Hap.py variant classification VCFs ###\n",
    "    \n",
    "    Happy_OutDir = f\"{sample_PMP_OutputDir}/Hap.py_VariantCalling_EvalDir/PBMM2_Paftools_GroundTruthVCF_Evaluations_V3_minMQ_1_minDP_5_Fix_All_Breaks_AmbRegionsRemoved\"\n",
    "\n",
    "    # No Masking (\"None\")\n",
    "    RegionFilteringScheme = \"MM2vsPilon_NoneRemoved\"\n",
    "    SampleID_ToPaths_Dict[SampleID][RegionFilteringScheme] = {}\n",
    "    SampleID_ToPaths_Dict[SampleID][RegionFilteringScheme][\"SNPs\"] = {}\n",
    "    SampleID_ToPaths_Dict[SampleID][RegionFilteringScheme][\"INDELs\"] = {}\n",
    "    \n",
    "    Happy_Sample_Dir = f\"{Happy_OutDir}/{SampleID}_Happy_VCeval_T_PB_G3PP_MM2_paftools_Vs_Q_Ill_Pilon_VCs_NoRegionsRemoved\"\n",
    "\n",
    "    Happy_G3PP_Vs_Pilon_ROC_SNPs_PASS_CSV = f\"{Happy_Sample_Dir}/Hap.py.{SampleID}.roc.Locations.SNP.PASS.csv.gz\"\n",
    "    Happy_G3PP_Vs_Pilon_ROC_INDELs_PASS_CSV = f\"{Happy_Sample_Dir}/Hap.py.{SampleID}.roc.Locations.INDEL.PASS.csv.gz\"\n",
    "    \n",
    "    SampleID_ToPaths_Dict[SampleID][RegionFilteringScheme][\"SNPs\"][\"Happy_ROC_PASS_CSV\"] = Happy_G3PP_Vs_Pilon_ROC_SNPs_PASS_CSV\n",
    "    SampleID_ToPaths_Dict[SampleID][RegionFilteringScheme][\"INDELs\"][\"Happy_ROC_PASS_CSV\"] = Happy_G3PP_Vs_Pilon_ROC_INDELs_PASS_CSV   \n",
    "\n",
    "    \n",
    "    Happy_VCF_GZ = f\"{Happy_Sample_Dir}/Hap.py.{SampleID}.vcf.gz\"\n",
    "    Happy_SNPsOnly_VCF = f\"{Happy_Sample_Dir}/Hap.py.{SampleID}.SNPs.vcf\"\n",
    "    Happy_SNPsOnly_FPsOnly_VCF = f\"{Happy_Sample_Dir}/Hap.py.{SampleID}.SNPs.FPs.vcf\"\n",
    "    Happy_SNPsOnly_FPsOnly_MQ30_VCF = f\"{Happy_Sample_Dir}/Hap.py.{SampleID}.SNPs.FPs.FiltMQ30.vcf\"\n",
    "    Happy_SNPsOnly_TPsOnly_VCF = f\"{Happy_Sample_Dir}/Hap.py.{SampleID}.SNPs.TPs.vcf\"\n",
    "    Happy_SNPsOnly_FNsOnly_VCF = f\"{Happy_Sample_Dir}/Hap.py.{SampleID}.SNPs.FNs.vcf\"\n",
    "\n",
    "    Happy_SNPsOnly_FPsOnly_BCF_GZ = f\"{Happy_Sample_Dir}/Hap.py.{SampleID}.SNPs.FPs.bcf.gz\"\n",
    "    Happy_SNPsOnly_FPsOnly_MQ30_BCF_GZ = f\"{Happy_Sample_Dir}/Hap.py.{SampleID}.SNPs.FPs.FiltMQ30.bcf.gz\"\n",
    "    \n",
    "    Happy_SNPsOnly_TPsOnly_BCF_GZ = f\"{Happy_Sample_Dir}/Hap.py.{SampleID}.SNPs.TPs.bcf.gz\"\n",
    "    Happy_SNPsOnly_FNsOnly_BCF_GZ = f\"{Happy_Sample_Dir}/Hap.py.{SampleID}.SNPs.FNs.bcf.gz\"\n",
    "    \n",
    "    \n",
    "    SampleID_ToPaths_Dict[SampleID][RegionFilteringScheme][\"Happy_VCF_GZ_PATH\"] = Happy_VCF_GZ\n",
    "    SampleID_ToPaths_Dict[SampleID][RegionFilteringScheme][\"Happy_SNPsOnly_VCF\"] = Happy_SNPsOnly_VCF\n",
    "    SampleID_ToPaths_Dict[SampleID][RegionFilteringScheme][\"Happy_SNPsOnly_FPsOnly_VCF\"] = Happy_SNPsOnly_FPsOnly_VCF\n",
    "    SampleID_ToPaths_Dict[SampleID][RegionFilteringScheme][\"Happy_SNPsOnly_FPsOnly_BCF_GZ\"] = Happy_SNPsOnly_FPsOnly_BCF_GZ\n",
    "    SampleID_ToPaths_Dict[SampleID][RegionFilteringScheme][\"Happy_SNPsOnly_FPsOnly_FiltMQ30_VCF\"] = Happy_SNPsOnly_FPsOnly_MQ30_VCF\n",
    "    SampleID_ToPaths_Dict[SampleID][RegionFilteringScheme][\"Happy_SNPsOnly_FPsOnly_FiltMQ30_BCF_GZ\"] = Happy_SNPsOnly_FPsOnly_MQ30_BCF_GZ\n",
    "       \n",
    "    \n",
    "    \n",
    "    SampleID_ToPaths_Dict[SampleID][RegionFilteringScheme][\"Happy_SNPsOnly_TPsOnly_BCF_GZ\"] = Happy_SNPsOnly_TPsOnly_BCF_GZ\n",
    "    SampleID_ToPaths_Dict[SampleID][RegionFilteringScheme][\"Happy_SNPsOnly_FNsOnly_BCF_GZ\"] = Happy_SNPsOnly_FNsOnly_BCF_GZ\n",
    "    SampleID_ToPaths_Dict[SampleID][RegionFilteringScheme][\"Happy_SNPsOnly_TPsOnly_VCF\"] = Happy_SNPsOnly_TPsOnly_VCF\n",
    "    SampleID_ToPaths_Dict[SampleID][RegionFilteringScheme][\"Happy_SNPsOnly_FNsOnly_VCF\"] = Happy_SNPsOnly_FNsOnly_VCF\n",
    "    ################# END #################\n",
    "\n",
    "\n",
    "    \n",
    "    \n",
    "    "
   ]
  },
  {
   "cell_type": "code",
   "execution_count": 8,
   "metadata": {},
   "outputs": [
    {
     "data": {
      "text/plain": [
       "dict_keys(['M0011368_9', 'M0014888_3', 'M0016395_7', 'M0010874_7', '01_R1430', '02_R0894', '02_R1708', '02_R1896', 'M0016737_0', 'M0017522_5', '01_R1134', 'M0003941_3', '02_R1179', 'N1176', 'N0072', 'N0153', 'N0145', 'N0155', 'N0004', 'N1274', 'N0054', 'N1272', 'N0091', 'N1202', 'N1177', 'RW-TB008', 'DNA028', 'DNA075', 'DNA091', 'DNA044', 'DNA020', 'AZE_02_042', 'DNA019_Rose', 'DNA120', 'DNA188', 'DNA086'])"
      ]
     },
     "execution_count": 8,
     "metadata": {},
     "output_type": "execute_result"
    }
   ],
   "source": [
    "SampleID_ToPaths_Dict.keys()"
   ]
  },
  {
   "cell_type": "code",
   "execution_count": null,
   "metadata": {},
   "outputs": [],
   "source": []
  },
  {
   "cell_type": "code",
   "execution_count": null,
   "metadata": {},
   "outputs": [],
   "source": []
  },
  {
   "cell_type": "markdown",
   "metadata": {},
   "source": [
    "# 1) Subset and filter Hap.py annotated VCFs\n",
    "\n",
    "- Create VCFs for SNPs only and TPs, FPs, FNs"
   ]
  },
  {
   "cell_type": "code",
   "execution_count": 9,
   "metadata": {},
   "outputs": [],
   "source": [
    "#!tabix -h "
   ]
  },
  {
   "cell_type": "code",
   "execution_count": 10,
   "metadata": {},
   "outputs": [],
   "source": [
    "#SampleIDs_28CI_WiCircA"
   ]
  },
  {
   "cell_type": "code",
   "execution_count": 11,
   "metadata": {},
   "outputs": [
    {
     "data": {
      "text/plain": [
       "dict_keys(['M0011368_9', 'M0014888_3', 'M0016395_7', 'M0010874_7', '01_R1430', '02_R0894', '02_R1708', '02_R1896', 'M0016737_0', 'M0017522_5', '01_R1134', 'M0003941_3', '02_R1179', 'N1176', 'N0072', 'N0153', 'N0145', 'N0155', 'N0004', 'N1274', 'N0054', 'N1272', 'N0091', 'N1202', 'N1177', 'RW-TB008', 'DNA028', 'DNA075', 'DNA091', 'DNA044', 'DNA020', 'AZE_02_042', 'DNA019_Rose', 'DNA120', 'DNA188', 'DNA086'])"
      ]
     },
     "execution_count": 11,
     "metadata": {},
     "output_type": "execute_result"
    }
   ],
   "source": [
    "SampleID_ToPaths_Dict.keys()"
   ]
  },
  {
   "cell_type": "code",
   "execution_count": 12,
   "metadata": {
    "scrolled": true
   },
   "outputs": [
    {
     "name": "stderr",
     "output_type": "stream",
     "text": [
      "100%|██████████| 36/36 [00:15<00:00,  2.43it/s]\n"
     ]
    }
   ],
   "source": [
    "\n",
    "for SampleID in tqdm(SampleIDs_36CI_SOI):\n",
    "\n",
    "    i_Happy_VCF_GZ_PATH = SampleID_ToPaths_Dict[SampleID][\"MM2vsPilon_NoneRemoved\"][\"Happy_VCF_GZ_PATH\"]\n",
    "    i_Happy_SNPsOnly_VCF_PATH = SampleID_ToPaths_Dict[SampleID][\"MM2vsPilon_NoneRemoved\"][\"Happy_SNPsOnly_VCF\"]\n",
    "    \n",
    "    i_Happy_SNPsOnly_FPsOnly_VCF_PATH = SampleID_ToPaths_Dict[SampleID][\"MM2vsPilon_NoneRemoved\"][\"Happy_SNPsOnly_FPsOnly_VCF\"]    \n",
    "    i_Happy_SNPsOnly_FPsOnly_FiltMQ30_VCF_PATH = SampleID_ToPaths_Dict[SampleID][\"MM2vsPilon_NoneRemoved\"][\"Happy_SNPsOnly_FPsOnly_FiltMQ30_VCF\"]    \n",
    "\n",
    "    i_Happy_SNPsOnly_FPsOnly_BCF_GZ_PATH = SampleID_ToPaths_Dict[SampleID][\"MM2vsPilon_NoneRemoved\"][\"Happy_SNPsOnly_FPsOnly_BCF_GZ\"]    \n",
    "    i_Happy_SNPsOnly_FPsOnly_BCF_FiltMQ30_GZ_PATH = SampleID_ToPaths_Dict[SampleID][\"MM2vsPilon_NoneRemoved\"][\"Happy_SNPsOnly_FPsOnly_FiltMQ30_BCF_GZ\"]    \n",
    "\n",
    "    \n",
    "    !bcftools view --types snps $i_Happy_VCF_GZ_PATH > $i_Happy_SNPsOnly_VCF_PATH\n",
    "    !bcftools view --types snps -i '(FORMAT/BD[1]==\"FP\")' $i_Happy_VCF_GZ_PATH > $i_Happy_SNPsOnly_FPsOnly_VCF_PATH\n",
    "    !bcftools view --types snps -i '(FORMAT/BD[1]==\"FP\") & (FORMAT/QQ[1]>=30)' $i_Happy_VCF_GZ_PATH > $i_Happy_SNPsOnly_FPsOnly_FiltMQ30_VCF_PATH\n",
    "\n",
    "    #!bcftools view --output-type b --types snps -i '(FORMAT/BD[1]==\"FP\") & (FORMAT/QQ[1]>=30)' $i_Happy_VCF_GZ_PATH > $i_Happy_SNPsOnly_FPsOnly_BCF_FiltMQ30_GZ_PATH\n",
    "\n",
    "    #! tabix $i_Happy_SNPsOnly_FPsOnly_BCF_GZ_PATH\n",
    "    #! tabix $i_Happy_SNPsOnly_FPsOnly_BCF_GZ_PATH\n",
    "\n",
    "    #break\n",
    "    #print(SampleID)\n",
    "    #print(\"MQ > 1\")\n",
    "    #!bcftools view -H --types snps -i '(FORMAT/BD[1]==\"FP\") ' $i_Happy_VCF_GZ_PATH | wc -l \n",
    "    #print(\"MQ >= 30\")\n",
    "\n",
    "    #!bcftools view -H --types snps -i '(FORMAT/BD[1]==\"FP\") & (FORMAT/QQ[1]>=30)' $i_Happy_VCF_GZ_PATH | wc -l \n",
    "\n",
    "    #print()\n",
    "    #print()"
   ]
  },
  {
   "cell_type": "code",
   "execution_count": 13,
   "metadata": {},
   "outputs": [
    {
     "name": "stdout",
     "output_type": "stream",
     "text": [
      "6\n"
     ]
    }
   ],
   "source": [
    "!bcftools view -H --types snps -i '(FORMAT/BD[1]==\"FP\") ' $i_Happy_VCF_GZ_PATH  | wc -l"
   ]
  },
  {
   "cell_type": "code",
   "execution_count": 14,
   "metadata": {},
   "outputs": [
    {
     "name": "stdout",
     "output_type": "stream",
     "text": [
      "6\n"
     ]
    }
   ],
   "source": [
    "!bcftools view -H --types snps -i '(FORMAT/BD[1]==\"FP\") ' $i_Happy_SNPsOnly_FPsOnly_VCF_PATH  | wc -l"
   ]
  },
  {
   "cell_type": "code",
   "execution_count": 15,
   "metadata": {},
   "outputs": [
    {
     "name": "stdout",
     "output_type": "stream",
     "text": [
      "6\n"
     ]
    }
   ],
   "source": [
    "!bcftools view -H --types snps -i '(FORMAT/BD[1]==\"FP\") ' $i_Happy_SNPsOnly_FPsOnly_FiltMQ30_VCF_PATH  | wc -l"
   ]
  },
  {
   "cell_type": "code",
   "execution_count": 16,
   "metadata": {},
   "outputs": [
    {
     "name": "stdout",
     "output_type": "stream",
     "text": [
      "NC_000962.3\t1982064\t.\tG\tC\t.\t.\tBS=1982064;Regions=CONF,TS_contained\tGT:QQ:BD:BK:BI:BVT:BLT\t.:.:.:.:.:NOCALL:nocall\t1/1:53:FP:.:tv:SNP:homalt\n",
      "NC_000962.3\t1982067\t.\tG\tC\t.\t.\tBS=1982067;Regions=CONF,TS_contained\tGT:QQ:BD:BK:BI:BVT:BLT\t.:.:.:.:.:NOCALL:nocall\t1/1:53:FP:.:tv:SNP:homalt\n",
      "NC_000962.3\t2074509\t.\tC\tG\t.\t.\tBS=2074509;Regions=CONF,TS_contained\tGT:QQ:BD:BK:BI:BVT:BLT\t.:.:.:.:.:NOCALL:nocall\t1/1:52:FP:.:tv:SNP:homalt\n",
      "NC_000962.3\t2163790\t.\tA\tC\t.\t.\tBS=2163790;Regions=CONF,TS_contained\tGT:QQ:BD:BK:BI:BVT:BLT\t.:.:.:.:.:NOCALL:nocall\t1/1:55:FP:.:tv:SNP:homalt\n",
      "NC_000962.3\t2531964\t.\tC\tG\t.\t.\tBS=2531964;Regions=CONF,TS_contained\tGT:QQ:BD:BK:BI:BVT:BLT\t.:.:.:.:.:NOCALL:nocall\t1/1:51:FP:.:tv:SNP:homalt\n",
      "NC_000962.3\t3232815\t.\tA\tG\t.\t.\tBS=3232815;Regions=CONF,TS_contained\tGT:QQ:BD:BK:BI:BVT:BLT\t.:.:.:.:.:NOCALL:nocall\t1/1:54:FP:.:ti:SNP:homalt\n"
     ]
    }
   ],
   "source": [
    "!bcftools view -H --types snps -i '(FORMAT/BD[1]==\"FP\") ' $i_Happy_VCF_GZ_PATH"
   ]
  },
  {
   "cell_type": "code",
   "execution_count": null,
   "metadata": {},
   "outputs": [],
   "source": []
  },
  {
   "cell_type": "code",
   "execution_count": null,
   "metadata": {},
   "outputs": [],
   "source": []
  },
  {
   "cell_type": "code",
   "execution_count": 17,
   "metadata": {},
   "outputs": [
    {
     "data": {
      "text/plain": [
       "'/n/data1/hms/dbmi/farhat/mm774/Projects/PacBio_Evaluation_Project/PacmanPipe_SM_Outputs/201201_PMP_SM_TB_Portals_R1_Output_V2/DNA086/Hap.py_VariantCalling_EvalDir/PBMM2_Paftools_GroundTruthVCF_Evaluations_V3_minMQ_1_minDP_5_Fix_All_Breaks_AmbRegionsRemoved/DNA086_Happy_VCeval_T_PB_G3PP_MM2_paftools_Vs_Q_Ill_Pilon_VCs_NoRegionsRemoved/Hap.py.DNA086.SNPs.FPs.FiltMQ30.vcf'"
      ]
     },
     "execution_count": 17,
     "metadata": {},
     "output_type": "execute_result"
    }
   ],
   "source": [
    "SampleID_ToPaths_Dict[SampleID][\"MM2vsPilon_NoneRemoved\"][\"Happy_SNPsOnly_FPsOnly_FiltMQ30_VCF\"]"
   ]
  },
  {
   "cell_type": "code",
   "execution_count": 18,
   "metadata": {},
   "outputs": [
    {
     "data": {
      "text/plain": [
       "'/n/data1/hms/dbmi/farhat/mm774/Projects/PacBio_Evaluation_Project/PacmanPipe_SM_Outputs/201201_PMP_SM_TB_Portals_R1_Output_V2/DNA086/Hap.py_VariantCalling_EvalDir/PBMM2_Paftools_GroundTruthVCF_Evaluations_V3_minMQ_1_minDP_5_Fix_All_Breaks_AmbRegionsRemoved/DNA086_Happy_VCeval_T_PB_G3PP_MM2_paftools_Vs_Q_Ill_Pilon_VCs_NoRegionsRemoved/Hap.py.DNA086.SNPs.FPs.vcf'"
      ]
     },
     "execution_count": 18,
     "metadata": {},
     "output_type": "execute_result"
    }
   ],
   "source": [
    "SampleID_ToPaths_Dict[SampleID][\"MM2vsPilon_NoneRemoved\"][\"Happy_SNPsOnly_FPsOnly_VCF\"]"
   ]
  },
  {
   "cell_type": "markdown",
   "metadata": {},
   "source": [
    "### Question: How many FPs per sample ?\n",
    "Answer: __ false positives across 36 isolates (MQ > 1)\n",
    "Answer: __ false positives across 36 isolates (MQ > 30)"
   ]
  },
  {
   "cell_type": "code",
   "execution_count": null,
   "metadata": {},
   "outputs": [],
   "source": []
  },
  {
   "cell_type": "code",
   "execution_count": null,
   "metadata": {},
   "outputs": [],
   "source": []
  },
  {
   "cell_type": "markdown",
   "metadata": {},
   "source": [
    "## How many FPs (MQ > 1)?"
   ]
  },
  {
   "cell_type": "code",
   "execution_count": 19,
   "metadata": {},
   "outputs": [
    {
     "name": "stdout",
     "output_type": "stream",
     "text": [
      "M0011368_9 2\n",
      "M0014888_3 8\n",
      "M0016395_7 4\n",
      "M0010874_7 3\n",
      "01_R1430 15\n",
      "02_R0894 26\n",
      "02_R1708 20\n",
      "02_R1896 9\n",
      "M0016737_0 17\n",
      "M0017522_5 8\n",
      "01_R1134 4\n",
      "M0003941_3 32\n",
      "02_R1179 10\n",
      "N1176 21\n",
      "N0072 34\n",
      "N0153 33\n",
      "N0145 25\n",
      "N0155 21\n",
      "N0004 15\n",
      "N1274 37\n",
      "N0054 41\n",
      "N1272 28\n",
      "N0091 31\n",
      "N1202 27\n",
      "N1177 4\n",
      "RW-TB008 19\n",
      "DNA028 30\n",
      "DNA075 26\n",
      "DNA091 29\n",
      "DNA044 20\n",
      "DNA020 37\n",
      "AZE_02_042 9\n",
      "DNA019_Rose 21\n",
      "DNA120 13\n",
      "DNA188 11\n",
      "DNA086 6\n",
      "696\n"
     ]
    }
   ],
   "source": [
    "listOf_NumFPs = []\n",
    "\n",
    "for SampleID in (SampleIDs_36CI_SOI):\n",
    "    i_Happy_SNPsOnly_FPsOnly_VCF_PATH = SampleID_ToPaths_Dict[SampleID][\"MM2vsPilon_NoneRemoved\"][\"Happy_SNPsOnly_FPsOnly_VCF\"]    \n",
    "        \n",
    "    #!wc -l $i_Happy_SNPsOnly_FPsOnly_VCF_PATH | cut -d ' ' -f 1\n",
    "    \n",
    "    print(SampleID, end=\" \")\n",
    "    !bcftools view  --no-header $i_Happy_SNPsOnly_FPsOnly_VCF_PATH | wc -l\n",
    "    \n",
    "    Num_FPs_Str = !bcftools view  --no-header $i_Happy_SNPsOnly_FPsOnly_VCF_PATH | wc -l | cut -d ' ' -f 1\n",
    "    Num_FPs_Int = int(Num_FPs_Str[0])\n",
    "    listOf_NumFPs.append(Num_FPs_Int)\n",
    "\n",
    "print(sum(listOf_NumFPs))"
   ]
  },
  {
   "cell_type": "markdown",
   "metadata": {},
   "source": [
    "## How many FPs (MQ > 30)?"
   ]
  },
  {
   "cell_type": "code",
   "execution_count": 20,
   "metadata": {},
   "outputs": [
    {
     "name": "stdout",
     "output_type": "stream",
     "text": [
      "M0011368_9 2\n",
      "M0014888_3 7\n",
      "M0016395_7 2\n",
      "M0010874_7 2\n",
      "01_R1430 12\n",
      "02_R0894 20\n",
      "02_R1708 20\n",
      "02_R1896 9\n",
      "M0016737_0 12\n",
      "M0017522_5 8\n",
      "01_R1134 3\n",
      "M0003941_3 18\n",
      "02_R1179 7\n",
      "N1176 13\n",
      "N0072 31\n",
      "N0153 21\n",
      "N0145 19\n",
      "N0155 19\n",
      "N0004 15\n",
      "N1274 34\n",
      "N0054 35\n",
      "N1272 16\n",
      "N0091 19\n",
      "N1202 22\n",
      "N1177 4\n",
      "RW-TB008 19\n",
      "DNA028 16\n",
      "DNA075 18\n",
      "DNA091 17\n",
      "DNA044 19\n",
      "DNA020 36\n",
      "AZE_02_042 9\n",
      "DNA019_Rose 21\n",
      "DNA120 10\n",
      "DNA188 7\n",
      "DNA086 6\n",
      "548\n"
     ]
    }
   ],
   "source": [
    "listOf_NumFPs = []\n",
    "\n",
    "for SampleID in (SampleIDs_36CI_SOI):\n",
    "    i_Happy_SNPsOnly_FPsOnly_VCF_PATH = SampleID_ToPaths_Dict[SampleID][\"MM2vsPilon_NoneRemoved\"][\"Happy_SNPsOnly_FPsOnly_FiltMQ30_VCF\"]    \n",
    "        \n",
    "    #!wc -l $i_Happy_SNPsOnly_FPsOnly_VCF_PATH | cut -d ' ' -f 1\n",
    "    \n",
    "    print(SampleID, end=\" \")\n",
    "    !bcftools view  --no-header $i_Happy_SNPsOnly_FPsOnly_VCF_PATH | wc -l\n",
    "    \n",
    "    Num_FPs_Str = !bcftools view  --no-header $i_Happy_SNPsOnly_FPsOnly_VCF_PATH | wc -l | cut -d ' ' -f 1\n",
    "    Num_FPs_Int = int(Num_FPs_Str[0])\n",
    "    listOf_NumFPs.append(Num_FPs_Int)\n",
    "\n",
    "print(sum(listOf_NumFPs))"
   ]
  },
  {
   "cell_type": "code",
   "execution_count": null,
   "metadata": {},
   "outputs": [],
   "source": []
  },
  {
   "cell_type": "code",
   "execution_count": null,
   "metadata": {},
   "outputs": [],
   "source": []
  },
  {
   "cell_type": "code",
   "execution_count": null,
   "metadata": {},
   "outputs": [],
   "source": []
  },
  {
   "cell_type": "markdown",
   "metadata": {},
   "source": [
    "# 2) Merge all False Positive SNPs"
   ]
  },
  {
   "cell_type": "code",
   "execution_count": 21,
   "metadata": {},
   "outputs": [],
   "source": [
    "All_FPs_SNPs_FiltMQ30_VCF_PATH = f\"{FalsePositive_Analysis_V2_Dir}/PMP_36CI.SNPs.All.FPs.FiltMQ30.vcf\"\n",
    "All_FPs_SNPs_VCF_PATH = f\"{FalsePositive_Analysis_V2_Dir}/PMP_36CI.SNPs.All.FPs.vcf\"\n"
   ]
  },
  {
   "cell_type": "code",
   "execution_count": 22,
   "metadata": {},
   "outputs": [],
   "source": [
    "listOf_All_SNPs_FPs_VCFs = [ SampleID_ToPaths_Dict[sampleID][\"MM2vsPilon_NoneRemoved\"][\"Happy_SNPsOnly_FPsOnly_VCF\"]   for sampleID in  SampleIDs_36CI_SOI ] \n",
    "listOf_All_SNPs_FPs_FiltMQ30_VCFs = [ SampleID_ToPaths_Dict[sampleID][\"MM2vsPilon_NoneRemoved\"][\"Happy_SNPsOnly_FPsOnly_FiltMQ30_VCF\"]   for sampleID in  SampleIDs_36CI_SOI ] \n",
    "\n",
    "\n",
    "spaceSeperated_listOf_All_SNPs_FPs_VCFs = \" \".join(listOf_All_SNPs_FPs_VCFs)\n",
    "spaceSeperated_listOf_All_SNPs_FPs_FiltMQ30_VCFs = \" \".join(listOf_All_SNPs_FPs_FiltMQ30_VCFs)\n"
   ]
  },
  {
   "cell_type": "markdown",
   "metadata": {},
   "source": [
    "### Merge FP SNP VCFs w/ bcftools (MQ > 1)"
   ]
  },
  {
   "cell_type": "code",
   "execution_count": 23,
   "metadata": {
    "scrolled": true
   },
   "outputs": [
    {
     "name": "stdout",
     "output_type": "stream",
     "text": [
      "Writing to /tmp/bcftools-sort.onEXas\n",
      "Checking the headers and starting positions of 36 files\n",
      "Concatenating /n/data1/hms/dbmi/farhat/mm774/Projects/PacBio_Evaluation_Project/PacmanPipe_SM_Outputs/201201_PMP_SM_TB_Portals_R1_Output_V2/M0011368_9/Hap.py_VariantCalling_EvalDir/PBMM2_Paftools_GroundTruthVCF_Evaluations_V3_minMQ_1_minDP_5_Fix_All_Breaks_AmbRegionsRemoved/M0011368_9_Happy_VCeval_T_PB_G3PP_MM2_paftools_Vs_Q_Ill_Pilon_VCs_NoRegionsRemoved/Hap.py.M0011368_9.SNPs.FPs.vcf\t0.000379 seconds\n",
      "Concatenating /n/data1/hms/dbmi/farhat/mm774/Projects/PacBio_Evaluation_Project/PacmanPipe_SM_Outputs/201201_PMP_SM_TB_Portals_R1_Output_V2/M0014888_3/Hap.py_VariantCalling_EvalDir/PBMM2_Paftools_GroundTruthVCF_Evaluations_V3_minMQ_1_minDP_5_Fix_All_Breaks_AmbRegionsRemoved/M0014888_3_Happy_VCeval_T_PB_G3PP_MM2_paftools_Vs_Q_Ill_Pilon_VCs_NoRegionsRemoved/Hap.py.M0014888_3.SNPs.FPs.vcf\t0.000394 seconds\n",
      "Concatenating /n/data1/hms/dbmi/farhat/mm774/Projects/PacBio_Evaluation_Project/PacmanPipe_SM_Outputs/201201_PMP_SM_TB_Portals_R1_Output_V2/M0016395_7/Hap.py_VariantCalling_EvalDir/PBMM2_Paftools_GroundTruthVCF_Evaluations_V3_minMQ_1_minDP_5_Fix_All_Breaks_AmbRegionsRemoved/M0016395_7_Happy_VCeval_T_PB_G3PP_MM2_paftools_Vs_Q_Ill_Pilon_VCs_NoRegionsRemoved/Hap.py.M0016395_7.SNPs.FPs.vcf\t0.000394 seconds\n",
      "Concatenating /n/data1/hms/dbmi/farhat/mm774/Projects/PacBio_Evaluation_Project/PacmanPipe_SM_Outputs/201201_PMP_SM_TB_Portals_R1_Output_V2/M0010874_7/Hap.py_VariantCalling_EvalDir/PBMM2_Paftools_GroundTruthVCF_Evaluations_V3_minMQ_1_minDP_5_Fix_All_Breaks_AmbRegionsRemoved/M0010874_7_Happy_VCeval_T_PB_G3PP_MM2_paftools_Vs_Q_Ill_Pilon_VCs_NoRegionsRemoved/Hap.py.M0010874_7.SNPs.FPs.vcf\t0.000383 seconds\n",
      "Concatenating /n/data1/hms/dbmi/farhat/mm774/Projects/PacBio_Evaluation_Project/PacmanPipe_SM_Outputs/201201_PMP_SM_TB_Portals_R1_Output_V2/01_R1430/Hap.py_VariantCalling_EvalDir/PBMM2_Paftools_GroundTruthVCF_Evaluations_V3_minMQ_1_minDP_5_Fix_All_Breaks_AmbRegionsRemoved/01_R1430_Happy_VCeval_T_PB_G3PP_MM2_paftools_Vs_Q_Ill_Pilon_VCs_NoRegionsRemoved/Hap.py.01_R1430.SNPs.FPs.vcf\t0.000669 seconds\n",
      "Concatenating /n/data1/hms/dbmi/farhat/mm774/Projects/PacBio_Evaluation_Project/PacmanPipe_SM_Outputs/201201_PMP_SM_TB_Portals_R1_Output_V2/02_R0894/Hap.py_VariantCalling_EvalDir/PBMM2_Paftools_GroundTruthVCF_Evaluations_V3_minMQ_1_minDP_5_Fix_All_Breaks_AmbRegionsRemoved/02_R0894_Happy_VCeval_T_PB_G3PP_MM2_paftools_Vs_Q_Ill_Pilon_VCs_NoRegionsRemoved/Hap.py.02_R0894.SNPs.FPs.vcf\t0.000399 seconds\n",
      "Concatenating /n/data1/hms/dbmi/farhat/mm774/Projects/PacBio_Evaluation_Project/PacmanPipe_SM_Outputs/201201_PMP_SM_TB_Portals_R1_Output_V2/02_R1708/Hap.py_VariantCalling_EvalDir/PBMM2_Paftools_GroundTruthVCF_Evaluations_V3_minMQ_1_minDP_5_Fix_All_Breaks_AmbRegionsRemoved/02_R1708_Happy_VCeval_T_PB_G3PP_MM2_paftools_Vs_Q_Ill_Pilon_VCs_NoRegionsRemoved/Hap.py.02_R1708.SNPs.FPs.vcf\t0.000474 seconds\n",
      "Concatenating /n/data1/hms/dbmi/farhat/mm774/Projects/PacBio_Evaluation_Project/PacmanPipe_SM_Outputs/201201_PMP_SM_TB_Portals_R1_Output_V2/02_R1896/Hap.py_VariantCalling_EvalDir/PBMM2_Paftools_GroundTruthVCF_Evaluations_V3_minMQ_1_minDP_5_Fix_All_Breaks_AmbRegionsRemoved/02_R1896_Happy_VCeval_T_PB_G3PP_MM2_paftools_Vs_Q_Ill_Pilon_VCs_NoRegionsRemoved/Hap.py.02_R1896.SNPs.FPs.vcf\t0.000380 seconds\n",
      "Concatenating /n/data1/hms/dbmi/farhat/mm774/Projects/PacBio_Evaluation_Project/PacmanPipe_SM_Outputs/201201_PMP_SM_TB_Portals_R1_Output_V2/M0016737_0/Hap.py_VariantCalling_EvalDir/PBMM2_Paftools_GroundTruthVCF_Evaluations_V3_minMQ_1_minDP_5_Fix_All_Breaks_AmbRegionsRemoved/M0016737_0_Happy_VCeval_T_PB_G3PP_MM2_paftools_Vs_Q_Ill_Pilon_VCs_NoRegionsRemoved/Hap.py.M0016737_0.SNPs.FPs.vcf\t0.000681 seconds\n",
      "Concatenating /n/data1/hms/dbmi/farhat/mm774/Projects/PacBio_Evaluation_Project/PacmanPipe_SM_Outputs/201201_PMP_SM_TB_Portals_R1_Output_V2/M0017522_5/Hap.py_VariantCalling_EvalDir/PBMM2_Paftools_GroundTruthVCF_Evaluations_V3_minMQ_1_minDP_5_Fix_All_Breaks_AmbRegionsRemoved/M0017522_5_Happy_VCeval_T_PB_G3PP_MM2_paftools_Vs_Q_Ill_Pilon_VCs_NoRegionsRemoved/Hap.py.M0017522_5.SNPs.FPs.vcf\t0.000378 seconds\n",
      "Concatenating /n/data1/hms/dbmi/farhat/mm774/Projects/PacBio_Evaluation_Project/PacmanPipe_SM_Outputs/201201_PMP_SM_TB_Portals_R1_Output_V2/01_R1134/Hap.py_VariantCalling_EvalDir/PBMM2_Paftools_GroundTruthVCF_Evaluations_V3_minMQ_1_minDP_5_Fix_All_Breaks_AmbRegionsRemoved/01_R1134_Happy_VCeval_T_PB_G3PP_MM2_paftools_Vs_Q_Ill_Pilon_VCs_NoRegionsRemoved/Hap.py.01_R1134.SNPs.FPs.vcf\t0.000372 seconds\n",
      "Concatenating /n/data1/hms/dbmi/farhat/mm774/Projects/PacBio_Evaluation_Project/PacmanPipe_SM_Outputs/201201_PMP_SM_TB_Portals_R1_Output_V2/M0003941_3/Hap.py_VariantCalling_EvalDir/PBMM2_Paftools_GroundTruthVCF_Evaluations_V3_minMQ_1_minDP_5_Fix_All_Breaks_AmbRegionsRemoved/M0003941_3_Happy_VCeval_T_PB_G3PP_MM2_paftools_Vs_Q_Ill_Pilon_VCs_NoRegionsRemoved/Hap.py.M0003941_3.SNPs.FPs.vcf\t0.000878 seconds\n",
      "Concatenating /n/data1/hms/dbmi/farhat/mm774/Projects/PacBio_Evaluation_Project/PacmanPipe_SM_Outputs/201201_PMP_SM_TB_Portals_R1_Output_V2/02_R1179/Hap.py_VariantCalling_EvalDir/PBMM2_Paftools_GroundTruthVCF_Evaluations_V3_minMQ_1_minDP_5_Fix_All_Breaks_AmbRegionsRemoved/02_R1179_Happy_VCeval_T_PB_G3PP_MM2_paftools_Vs_Q_Ill_Pilon_VCs_NoRegionsRemoved/Hap.py.02_R1179.SNPs.FPs.vcf\t0.000558 seconds\n",
      "Concatenating /n/data1/hms/dbmi/farhat/mm774/Projects/PacBio_Evaluation_Project/PacmanPipe_SM_Outputs/201201_PMP_SM_TB_Portals_R1_Output_V2/N1176/Hap.py_VariantCalling_EvalDir/PBMM2_Paftools_GroundTruthVCF_Evaluations_V3_minMQ_1_minDP_5_Fix_All_Breaks_AmbRegionsRemoved/N1176_Happy_VCeval_T_PB_G3PP_MM2_paftools_Vs_Q_Ill_Pilon_VCs_NoRegionsRemoved/Hap.py.N1176.SNPs.FPs.vcf\t0.000499 seconds\n",
      "Concatenating /n/data1/hms/dbmi/farhat/mm774/Projects/PacBio_Evaluation_Project/PacmanPipe_SM_Outputs/201201_PMP_SM_TB_Portals_R1_Output_V2/N0072/Hap.py_VariantCalling_EvalDir/PBMM2_Paftools_GroundTruthVCF_Evaluations_V3_minMQ_1_minDP_5_Fix_All_Breaks_AmbRegionsRemoved/N0072_Happy_VCeval_T_PB_G3PP_MM2_paftools_Vs_Q_Ill_Pilon_VCs_NoRegionsRemoved/Hap.py.N0072.SNPs.FPs.vcf\t0.002389 seconds\n",
      "Concatenating /n/data1/hms/dbmi/farhat/mm774/Projects/PacBio_Evaluation_Project/PacmanPipe_SM_Outputs/201201_PMP_SM_TB_Portals_R1_Output_V2/N0153/Hap.py_VariantCalling_EvalDir/PBMM2_Paftools_GroundTruthVCF_Evaluations_V3_minMQ_1_minDP_5_Fix_All_Breaks_AmbRegionsRemoved/N0153_Happy_VCeval_T_PB_G3PP_MM2_paftools_Vs_Q_Ill_Pilon_VCs_NoRegionsRemoved/Hap.py.N0153.SNPs.FPs.vcf\t0.000472 seconds\n",
      "Concatenating /n/data1/hms/dbmi/farhat/mm774/Projects/PacBio_Evaluation_Project/PacmanPipe_SM_Outputs/201201_PMP_SM_TB_Portals_R1_Output_V2/N0145/Hap.py_VariantCalling_EvalDir/PBMM2_Paftools_GroundTruthVCF_Evaluations_V3_minMQ_1_minDP_5_Fix_All_Breaks_AmbRegionsRemoved/N0145_Happy_VCeval_T_PB_G3PP_MM2_paftools_Vs_Q_Ill_Pilon_VCs_NoRegionsRemoved/Hap.py.N0145.SNPs.FPs.vcf\t0.000469 seconds\n",
      "Concatenating /n/data1/hms/dbmi/farhat/mm774/Projects/PacBio_Evaluation_Project/PacmanPipe_SM_Outputs/201201_PMP_SM_TB_Portals_R1_Output_V2/N0155/Hap.py_VariantCalling_EvalDir/PBMM2_Paftools_GroundTruthVCF_Evaluations_V3_minMQ_1_minDP_5_Fix_All_Breaks_AmbRegionsRemoved/N0155_Happy_VCeval_T_PB_G3PP_MM2_paftools_Vs_Q_Ill_Pilon_VCs_NoRegionsRemoved/Hap.py.N0155.SNPs.FPs.vcf\t0.000399 seconds\n",
      "Concatenating /n/data1/hms/dbmi/farhat/mm774/Projects/PacBio_Evaluation_Project/PacmanPipe_SM_Outputs/201201_PMP_SM_TB_Portals_R1_Output_V2/N0004/Hap.py_VariantCalling_EvalDir/PBMM2_Paftools_GroundTruthVCF_Evaluations_V3_minMQ_1_minDP_5_Fix_All_Breaks_AmbRegionsRemoved/N0004_Happy_VCeval_T_PB_G3PP_MM2_paftools_Vs_Q_Ill_Pilon_VCs_NoRegionsRemoved/Hap.py.N0004.SNPs.FPs.vcf\t0.000497 seconds\n",
      "Concatenating /n/data1/hms/dbmi/farhat/mm774/Projects/PacBio_Evaluation_Project/PacmanPipe_SM_Outputs/201201_PMP_SM_TB_Portals_R1_Output_V2/N1274/Hap.py_VariantCalling_EvalDir/PBMM2_Paftools_GroundTruthVCF_Evaluations_V3_minMQ_1_minDP_5_Fix_All_Breaks_AmbRegionsRemoved/N1274_Happy_VCeval_T_PB_G3PP_MM2_paftools_Vs_Q_Ill_Pilon_VCs_NoRegionsRemoved/Hap.py.N1274.SNPs.FPs.vcf\t0.000486 seconds\n",
      "Concatenating /n/data1/hms/dbmi/farhat/mm774/Projects/PacBio_Evaluation_Project/PacmanPipe_SM_Outputs/201201_PMP_SM_TB_Portals_R1_Output_V2/N0054/Hap.py_VariantCalling_EvalDir/PBMM2_Paftools_GroundTruthVCF_Evaluations_V3_minMQ_1_minDP_5_Fix_All_Breaks_AmbRegionsRemoved/N0054_Happy_VCeval_T_PB_G3PP_MM2_paftools_Vs_Q_Ill_Pilon_VCs_NoRegionsRemoved/Hap.py.N0054.SNPs.FPs.vcf\t0.000574 seconds\n",
      "Concatenating /n/data1/hms/dbmi/farhat/mm774/Projects/PacBio_Evaluation_Project/PacmanPipe_SM_Outputs/201201_PMP_SM_TB_Portals_R1_Output_V2/N1272/Hap.py_VariantCalling_EvalDir/PBMM2_Paftools_GroundTruthVCF_Evaluations_V3_minMQ_1_minDP_5_Fix_All_Breaks_AmbRegionsRemoved/N1272_Happy_VCeval_T_PB_G3PP_MM2_paftools_Vs_Q_Ill_Pilon_VCs_NoRegionsRemoved/Hap.py.N1272.SNPs.FPs.vcf\t0.000687 seconds\n",
      "Concatenating /n/data1/hms/dbmi/farhat/mm774/Projects/PacBio_Evaluation_Project/PacmanPipe_SM_Outputs/201201_PMP_SM_TB_Portals_R1_Output_V2/N0091/Hap.py_VariantCalling_EvalDir/PBMM2_Paftools_GroundTruthVCF_Evaluations_V3_minMQ_1_minDP_5_Fix_All_Breaks_AmbRegionsRemoved/N0091_Happy_VCeval_T_PB_G3PP_MM2_paftools_Vs_Q_Ill_Pilon_VCs_NoRegionsRemoved/Hap.py.N0091.SNPs.FPs.vcf\t0.000496 seconds\n",
      "Concatenating /n/data1/hms/dbmi/farhat/mm774/Projects/PacBio_Evaluation_Project/PacmanPipe_SM_Outputs/201201_PMP_SM_TB_Portals_R1_Output_V2/N1202/Hap.py_VariantCalling_EvalDir/PBMM2_Paftools_GroundTruthVCF_Evaluations_V3_minMQ_1_minDP_5_Fix_All_Breaks_AmbRegionsRemoved/N1202_Happy_VCeval_T_PB_G3PP_MM2_paftools_Vs_Q_Ill_Pilon_VCs_NoRegionsRemoved/Hap.py.N1202.SNPs.FPs.vcf\t0.000472 seconds\n",
      "Concatenating /n/data1/hms/dbmi/farhat/mm774/Projects/PacBio_Evaluation_Project/PacmanPipe_SM_Outputs/201201_PMP_SM_TB_Portals_R1_Output_V2/N1177/Hap.py_VariantCalling_EvalDir/PBMM2_Paftools_GroundTruthVCF_Evaluations_V3_minMQ_1_minDP_5_Fix_All_Breaks_AmbRegionsRemoved/N1177_Happy_VCeval_T_PB_G3PP_MM2_paftools_Vs_Q_Ill_Pilon_VCs_NoRegionsRemoved/Hap.py.N1177.SNPs.FPs.vcf\t0.000384 seconds\n",
      "Concatenating /n/data1/hms/dbmi/farhat/mm774/Projects/PacBio_Evaluation_Project/PacmanPipe_SM_Outputs/201201_PMP_SM_TB_Portals_R1_Output_V2/RW-TB008/Hap.py_VariantCalling_EvalDir/PBMM2_Paftools_GroundTruthVCF_Evaluations_V3_minMQ_1_minDP_5_Fix_All_Breaks_AmbRegionsRemoved/RW-TB008_Happy_VCeval_T_PB_G3PP_MM2_paftools_Vs_Q_Ill_Pilon_VCs_NoRegionsRemoved/Hap.py.RW-TB008.SNPs.FPs.vcf\t0.003799 seconds\n",
      "Concatenating /n/data1/hms/dbmi/farhat/mm774/Projects/PacBio_Evaluation_Project/PacmanPipe_SM_Outputs/201201_PMP_SM_TB_Portals_R1_Output_V2/DNA028/Hap.py_VariantCalling_EvalDir/PBMM2_Paftools_GroundTruthVCF_Evaluations_V3_minMQ_1_minDP_5_Fix_All_Breaks_AmbRegionsRemoved/DNA028_Happy_VCeval_T_PB_G3PP_MM2_paftools_Vs_Q_Ill_Pilon_VCs_NoRegionsRemoved/Hap.py.DNA028.SNPs.FPs.vcf\t0.000505 seconds\n",
      "Concatenating /n/data1/hms/dbmi/farhat/mm774/Projects/PacBio_Evaluation_Project/PacmanPipe_SM_Outputs/201201_PMP_SM_TB_Portals_R1_Output_V2/DNA075/Hap.py_VariantCalling_EvalDir/PBMM2_Paftools_GroundTruthVCF_Evaluations_V3_minMQ_1_minDP_5_Fix_All_Breaks_AmbRegionsRemoved/DNA075_Happy_VCeval_T_PB_G3PP_MM2_paftools_Vs_Q_Ill_Pilon_VCs_NoRegionsRemoved/Hap.py.DNA075.SNPs.FPs.vcf\t0.000473 seconds\n",
      "Concatenating /n/data1/hms/dbmi/farhat/mm774/Projects/PacBio_Evaluation_Project/PacmanPipe_SM_Outputs/201201_PMP_SM_TB_Portals_R1_Output_V2/DNA091/Hap.py_VariantCalling_EvalDir/PBMM2_Paftools_GroundTruthVCF_Evaluations_V3_minMQ_1_minDP_5_Fix_All_Breaks_AmbRegionsRemoved/DNA091_Happy_VCeval_T_PB_G3PP_MM2_paftools_Vs_Q_Ill_Pilon_VCs_NoRegionsRemoved/Hap.py.DNA091.SNPs.FPs.vcf\t0.000465 seconds\n",
      "Concatenating /n/data1/hms/dbmi/farhat/mm774/Projects/PacBio_Evaluation_Project/PacmanPipe_SM_Outputs/201201_PMP_SM_TB_Portals_R1_Output_V2/DNA044/Hap.py_VariantCalling_EvalDir/PBMM2_Paftools_GroundTruthVCF_Evaluations_V3_minMQ_1_minDP_5_Fix_All_Breaks_AmbRegionsRemoved/DNA044_Happy_VCeval_T_PB_G3PP_MM2_paftools_Vs_Q_Ill_Pilon_VCs_NoRegionsRemoved/Hap.py.DNA044.SNPs.FPs.vcf\t0.000462 seconds\n",
      "Concatenating /n/data1/hms/dbmi/farhat/mm774/Projects/PacBio_Evaluation_Project/PacmanPipe_SM_Outputs/201201_PMP_SM_TB_Portals_R1_Output_V2/DNA020/Hap.py_VariantCalling_EvalDir/PBMM2_Paftools_GroundTruthVCF_Evaluations_V3_minMQ_1_minDP_5_Fix_All_Breaks_AmbRegionsRemoved/DNA020_Happy_VCeval_T_PB_G3PP_MM2_paftools_Vs_Q_Ill_Pilon_VCs_NoRegionsRemoved/Hap.py.DNA020.SNPs.FPs.vcf\t0.000472 seconds\n",
      "Concatenating /n/data1/hms/dbmi/farhat/mm774/Projects/PacBio_Evaluation_Project/PacmanPipe_SM_Outputs/201201_PMP_SM_TB_Portals_R1_Output_V2/AZE_02_042/Hap.py_VariantCalling_EvalDir/PBMM2_Paftools_GroundTruthVCF_Evaluations_V3_minMQ_1_minDP_5_Fix_All_Breaks_AmbRegionsRemoved/AZE_02_042_Happy_VCeval_T_PB_G3PP_MM2_paftools_Vs_Q_Ill_Pilon_VCs_NoRegionsRemoved/Hap.py.AZE_02_042.SNPs.FPs.vcf\t0.000459 seconds\n",
      "Concatenating /n/data1/hms/dbmi/farhat/mm774/Projects/PacBio_Evaluation_Project/PacmanPipe_SM_Outputs/201201_PMP_SM_TB_Portals_R1_Output_V2/DNA019_Rose/Hap.py_VariantCalling_EvalDir/PBMM2_Paftools_GroundTruthVCF_Evaluations_V3_minMQ_1_minDP_5_Fix_All_Breaks_AmbRegionsRemoved/DNA019_Rose_Happy_VCeval_T_PB_G3PP_MM2_paftools_Vs_Q_Ill_Pilon_VCs_NoRegionsRemoved/Hap.py.DNA019_Rose.SNPs.FPs.vcf\t0.000378 seconds\n",
      "Concatenating /n/data1/hms/dbmi/farhat/mm774/Projects/PacBio_Evaluation_Project/PacmanPipe_SM_Outputs/201201_PMP_SM_TB_Portals_R1_Output_V2/DNA120/Hap.py_VariantCalling_EvalDir/PBMM2_Paftools_GroundTruthVCF_Evaluations_V3_minMQ_1_minDP_5_Fix_All_Breaks_AmbRegionsRemoved/DNA120_Happy_VCeval_T_PB_G3PP_MM2_paftools_Vs_Q_Ill_Pilon_VCs_NoRegionsRemoved/Hap.py.DNA120.SNPs.FPs.vcf\t0.000474 seconds\n",
      "Concatenating /n/data1/hms/dbmi/farhat/mm774/Projects/PacBio_Evaluation_Project/PacmanPipe_SM_Outputs/201201_PMP_SM_TB_Portals_R1_Output_V2/DNA188/Hap.py_VariantCalling_EvalDir/PBMM2_Paftools_GroundTruthVCF_Evaluations_V3_minMQ_1_minDP_5_Fix_All_Breaks_AmbRegionsRemoved/DNA188_Happy_VCeval_T_PB_G3PP_MM2_paftools_Vs_Q_Ill_Pilon_VCs_NoRegionsRemoved/Hap.py.DNA188.SNPs.FPs.vcf\t0.000395 seconds\n",
      "Concatenating /n/data1/hms/dbmi/farhat/mm774/Projects/PacBio_Evaluation_Project/PacmanPipe_SM_Outputs/201201_PMP_SM_TB_Portals_R1_Output_V2/DNA086/Hap.py_VariantCalling_EvalDir/PBMM2_Paftools_GroundTruthVCF_Evaluations_V3_minMQ_1_minDP_5_Fix_All_Breaks_AmbRegionsRemoved/DNA086_Happy_VCeval_T_PB_G3PP_MM2_paftools_Vs_Q_Ill_Pilon_VCs_NoRegionsRemoved/Hap.py.DNA086.SNPs.FPs.vcf\t0.000403 seconds\n",
      "Merging 1 temporary files\n",
      "Cleaning\n",
      "Done\n"
     ]
    }
   ],
   "source": [
    "!bcftools concat $spaceSeperated_listOf_All_SNPs_FPs_VCFs | bcftools sort > $All_FPs_SNPs_VCF_PATH"
   ]
  },
  {
   "cell_type": "markdown",
   "metadata": {},
   "source": [
    "### Merge FP SNP VCFs w/ bcftools (MQ > 30)"
   ]
  },
  {
   "cell_type": "code",
   "execution_count": 24,
   "metadata": {
    "scrolled": true
   },
   "outputs": [
    {
     "name": "stdout",
     "output_type": "stream",
     "text": [
      "Writing to /tmp/bcftools-sort.loKzeH\n",
      "Checking the headers and starting positions of 36 files\n",
      "Concatenating /n/data1/hms/dbmi/farhat/mm774/Projects/PacBio_Evaluation_Project/PacmanPipe_SM_Outputs/201201_PMP_SM_TB_Portals_R1_Output_V2/M0011368_9/Hap.py_VariantCalling_EvalDir/PBMM2_Paftools_GroundTruthVCF_Evaluations_V3_minMQ_1_minDP_5_Fix_All_Breaks_AmbRegionsRemoved/M0011368_9_Happy_VCeval_T_PB_G3PP_MM2_paftools_Vs_Q_Ill_Pilon_VCs_NoRegionsRemoved/Hap.py.M0011368_9.SNPs.FPs.FiltMQ30.vcf\t0.000359 seconds\n",
      "Concatenating /n/data1/hms/dbmi/farhat/mm774/Projects/PacBio_Evaluation_Project/PacmanPipe_SM_Outputs/201201_PMP_SM_TB_Portals_R1_Output_V2/M0014888_3/Hap.py_VariantCalling_EvalDir/PBMM2_Paftools_GroundTruthVCF_Evaluations_V3_minMQ_1_minDP_5_Fix_All_Breaks_AmbRegionsRemoved/M0014888_3_Happy_VCeval_T_PB_G3PP_MM2_paftools_Vs_Q_Ill_Pilon_VCs_NoRegionsRemoved/Hap.py.M0014888_3.SNPs.FPs.FiltMQ30.vcf\t0.000386 seconds\n",
      "Concatenating /n/data1/hms/dbmi/farhat/mm774/Projects/PacBio_Evaluation_Project/PacmanPipe_SM_Outputs/201201_PMP_SM_TB_Portals_R1_Output_V2/M0016395_7/Hap.py_VariantCalling_EvalDir/PBMM2_Paftools_GroundTruthVCF_Evaluations_V3_minMQ_1_minDP_5_Fix_All_Breaks_AmbRegionsRemoved/M0016395_7_Happy_VCeval_T_PB_G3PP_MM2_paftools_Vs_Q_Ill_Pilon_VCs_NoRegionsRemoved/Hap.py.M0016395_7.SNPs.FPs.FiltMQ30.vcf\t0.000462 seconds\n",
      "Concatenating /n/data1/hms/dbmi/farhat/mm774/Projects/PacBio_Evaluation_Project/PacmanPipe_SM_Outputs/201201_PMP_SM_TB_Portals_R1_Output_V2/M0010874_7/Hap.py_VariantCalling_EvalDir/PBMM2_Paftools_GroundTruthVCF_Evaluations_V3_minMQ_1_minDP_5_Fix_All_Breaks_AmbRegionsRemoved/M0010874_7_Happy_VCeval_T_PB_G3PP_MM2_paftools_Vs_Q_Ill_Pilon_VCs_NoRegionsRemoved/Hap.py.M0010874_7.SNPs.FPs.FiltMQ30.vcf\t0.000399 seconds\n",
      "Concatenating /n/data1/hms/dbmi/farhat/mm774/Projects/PacBio_Evaluation_Project/PacmanPipe_SM_Outputs/201201_PMP_SM_TB_Portals_R1_Output_V2/01_R1430/Hap.py_VariantCalling_EvalDir/PBMM2_Paftools_GroundTruthVCF_Evaluations_V3_minMQ_1_minDP_5_Fix_All_Breaks_AmbRegionsRemoved/01_R1430_Happy_VCeval_T_PB_G3PP_MM2_paftools_Vs_Q_Ill_Pilon_VCs_NoRegionsRemoved/Hap.py.01_R1430.SNPs.FPs.FiltMQ30.vcf\t0.000389 seconds\n",
      "Concatenating /n/data1/hms/dbmi/farhat/mm774/Projects/PacBio_Evaluation_Project/PacmanPipe_SM_Outputs/201201_PMP_SM_TB_Portals_R1_Output_V2/02_R0894/Hap.py_VariantCalling_EvalDir/PBMM2_Paftools_GroundTruthVCF_Evaluations_V3_minMQ_1_minDP_5_Fix_All_Breaks_AmbRegionsRemoved/02_R0894_Happy_VCeval_T_PB_G3PP_MM2_paftools_Vs_Q_Ill_Pilon_VCs_NoRegionsRemoved/Hap.py.02_R0894.SNPs.FPs.FiltMQ30.vcf\t0.000496 seconds\n",
      "Concatenating /n/data1/hms/dbmi/farhat/mm774/Projects/PacBio_Evaluation_Project/PacmanPipe_SM_Outputs/201201_PMP_SM_TB_Portals_R1_Output_V2/02_R1708/Hap.py_VariantCalling_EvalDir/PBMM2_Paftools_GroundTruthVCF_Evaluations_V3_minMQ_1_minDP_5_Fix_All_Breaks_AmbRegionsRemoved/02_R1708_Happy_VCeval_T_PB_G3PP_MM2_paftools_Vs_Q_Ill_Pilon_VCs_NoRegionsRemoved/Hap.py.02_R1708.SNPs.FPs.FiltMQ30.vcf\t0.000474 seconds\n",
      "Concatenating /n/data1/hms/dbmi/farhat/mm774/Projects/PacBio_Evaluation_Project/PacmanPipe_SM_Outputs/201201_PMP_SM_TB_Portals_R1_Output_V2/02_R1896/Hap.py_VariantCalling_EvalDir/PBMM2_Paftools_GroundTruthVCF_Evaluations_V3_minMQ_1_minDP_5_Fix_All_Breaks_AmbRegionsRemoved/02_R1896_Happy_VCeval_T_PB_G3PP_MM2_paftools_Vs_Q_Ill_Pilon_VCs_NoRegionsRemoved/Hap.py.02_R1896.SNPs.FPs.FiltMQ30.vcf\t0.000388 seconds\n",
      "Concatenating /n/data1/hms/dbmi/farhat/mm774/Projects/PacBio_Evaluation_Project/PacmanPipe_SM_Outputs/201201_PMP_SM_TB_Portals_R1_Output_V2/M0016737_0/Hap.py_VariantCalling_EvalDir/PBMM2_Paftools_GroundTruthVCF_Evaluations_V3_minMQ_1_minDP_5_Fix_All_Breaks_AmbRegionsRemoved/M0016737_0_Happy_VCeval_T_PB_G3PP_MM2_paftools_Vs_Q_Ill_Pilon_VCs_NoRegionsRemoved/Hap.py.M0016737_0.SNPs.FPs.FiltMQ30.vcf\t0.000380 seconds\n",
      "Concatenating /n/data1/hms/dbmi/farhat/mm774/Projects/PacBio_Evaluation_Project/PacmanPipe_SM_Outputs/201201_PMP_SM_TB_Portals_R1_Output_V2/M0017522_5/Hap.py_VariantCalling_EvalDir/PBMM2_Paftools_GroundTruthVCF_Evaluations_V3_minMQ_1_minDP_5_Fix_All_Breaks_AmbRegionsRemoved/M0017522_5_Happy_VCeval_T_PB_G3PP_MM2_paftools_Vs_Q_Ill_Pilon_VCs_NoRegionsRemoved/Hap.py.M0017522_5.SNPs.FPs.FiltMQ30.vcf\t0.000465 seconds\n",
      "Concatenating /n/data1/hms/dbmi/farhat/mm774/Projects/PacBio_Evaluation_Project/PacmanPipe_SM_Outputs/201201_PMP_SM_TB_Portals_R1_Output_V2/01_R1134/Hap.py_VariantCalling_EvalDir/PBMM2_Paftools_GroundTruthVCF_Evaluations_V3_minMQ_1_minDP_5_Fix_All_Breaks_AmbRegionsRemoved/01_R1134_Happy_VCeval_T_PB_G3PP_MM2_paftools_Vs_Q_Ill_Pilon_VCs_NoRegionsRemoved/Hap.py.01_R1134.SNPs.FPs.FiltMQ30.vcf\t0.000383 seconds\n",
      "Concatenating /n/data1/hms/dbmi/farhat/mm774/Projects/PacBio_Evaluation_Project/PacmanPipe_SM_Outputs/201201_PMP_SM_TB_Portals_R1_Output_V2/M0003941_3/Hap.py_VariantCalling_EvalDir/PBMM2_Paftools_GroundTruthVCF_Evaluations_V3_minMQ_1_minDP_5_Fix_All_Breaks_AmbRegionsRemoved/M0003941_3_Happy_VCeval_T_PB_G3PP_MM2_paftools_Vs_Q_Ill_Pilon_VCs_NoRegionsRemoved/Hap.py.M0003941_3.SNPs.FPs.FiltMQ30.vcf\t0.000386 seconds\n",
      "Concatenating /n/data1/hms/dbmi/farhat/mm774/Projects/PacBio_Evaluation_Project/PacmanPipe_SM_Outputs/201201_PMP_SM_TB_Portals_R1_Output_V2/02_R1179/Hap.py_VariantCalling_EvalDir/PBMM2_Paftools_GroundTruthVCF_Evaluations_V3_minMQ_1_minDP_5_Fix_All_Breaks_AmbRegionsRemoved/02_R1179_Happy_VCeval_T_PB_G3PP_MM2_paftools_Vs_Q_Ill_Pilon_VCs_NoRegionsRemoved/Hap.py.02_R1179.SNPs.FPs.FiltMQ30.vcf\t0.000467 seconds\n",
      "Concatenating /n/data1/hms/dbmi/farhat/mm774/Projects/PacBio_Evaluation_Project/PacmanPipe_SM_Outputs/201201_PMP_SM_TB_Portals_R1_Output_V2/N1176/Hap.py_VariantCalling_EvalDir/PBMM2_Paftools_GroundTruthVCF_Evaluations_V3_minMQ_1_minDP_5_Fix_All_Breaks_AmbRegionsRemoved/N1176_Happy_VCeval_T_PB_G3PP_MM2_paftools_Vs_Q_Ill_Pilon_VCs_NoRegionsRemoved/Hap.py.N1176.SNPs.FPs.FiltMQ30.vcf\t0.000385 seconds\n",
      "Concatenating /n/data1/hms/dbmi/farhat/mm774/Projects/PacBio_Evaluation_Project/PacmanPipe_SM_Outputs/201201_PMP_SM_TB_Portals_R1_Output_V2/N0072/Hap.py_VariantCalling_EvalDir/PBMM2_Paftools_GroundTruthVCF_Evaluations_V3_minMQ_1_minDP_5_Fix_All_Breaks_AmbRegionsRemoved/N0072_Happy_VCeval_T_PB_G3PP_MM2_paftools_Vs_Q_Ill_Pilon_VCs_NoRegionsRemoved/Hap.py.N0072.SNPs.FPs.FiltMQ30.vcf\t0.000480 seconds\n",
      "Concatenating /n/data1/hms/dbmi/farhat/mm774/Projects/PacBio_Evaluation_Project/PacmanPipe_SM_Outputs/201201_PMP_SM_TB_Portals_R1_Output_V2/N0153/Hap.py_VariantCalling_EvalDir/PBMM2_Paftools_GroundTruthVCF_Evaluations_V3_minMQ_1_minDP_5_Fix_All_Breaks_AmbRegionsRemoved/N0153_Happy_VCeval_T_PB_G3PP_MM2_paftools_Vs_Q_Ill_Pilon_VCs_NoRegionsRemoved/Hap.py.N0153.SNPs.FPs.FiltMQ30.vcf\t0.000468 seconds\n",
      "Concatenating /n/data1/hms/dbmi/farhat/mm774/Projects/PacBio_Evaluation_Project/PacmanPipe_SM_Outputs/201201_PMP_SM_TB_Portals_R1_Output_V2/N0145/Hap.py_VariantCalling_EvalDir/PBMM2_Paftools_GroundTruthVCF_Evaluations_V3_minMQ_1_minDP_5_Fix_All_Breaks_AmbRegionsRemoved/N0145_Happy_VCeval_T_PB_G3PP_MM2_paftools_Vs_Q_Ill_Pilon_VCs_NoRegionsRemoved/Hap.py.N0145.SNPs.FPs.FiltMQ30.vcf\t0.002159 seconds\n",
      "Concatenating /n/data1/hms/dbmi/farhat/mm774/Projects/PacBio_Evaluation_Project/PacmanPipe_SM_Outputs/201201_PMP_SM_TB_Portals_R1_Output_V2/N0155/Hap.py_VariantCalling_EvalDir/PBMM2_Paftools_GroundTruthVCF_Evaluations_V3_minMQ_1_minDP_5_Fix_All_Breaks_AmbRegionsRemoved/N0155_Happy_VCeval_T_PB_G3PP_MM2_paftools_Vs_Q_Ill_Pilon_VCs_NoRegionsRemoved/Hap.py.N0155.SNPs.FPs.FiltMQ30.vcf\t0.000406 seconds\n",
      "Concatenating /n/data1/hms/dbmi/farhat/mm774/Projects/PacBio_Evaluation_Project/PacmanPipe_SM_Outputs/201201_PMP_SM_TB_Portals_R1_Output_V2/N0004/Hap.py_VariantCalling_EvalDir/PBMM2_Paftools_GroundTruthVCF_Evaluations_V3_minMQ_1_minDP_5_Fix_All_Breaks_AmbRegionsRemoved/N0004_Happy_VCeval_T_PB_G3PP_MM2_paftools_Vs_Q_Ill_Pilon_VCs_NoRegionsRemoved/Hap.py.N0004.SNPs.FPs.FiltMQ30.vcf\t0.000473 seconds\n",
      "Concatenating /n/data1/hms/dbmi/farhat/mm774/Projects/PacBio_Evaluation_Project/PacmanPipe_SM_Outputs/201201_PMP_SM_TB_Portals_R1_Output_V2/N1274/Hap.py_VariantCalling_EvalDir/PBMM2_Paftools_GroundTruthVCF_Evaluations_V3_minMQ_1_minDP_5_Fix_All_Breaks_AmbRegionsRemoved/N1274_Happy_VCeval_T_PB_G3PP_MM2_paftools_Vs_Q_Ill_Pilon_VCs_NoRegionsRemoved/Hap.py.N1274.SNPs.FPs.FiltMQ30.vcf\t0.000466 seconds\n",
      "Concatenating /n/data1/hms/dbmi/farhat/mm774/Projects/PacBio_Evaluation_Project/PacmanPipe_SM_Outputs/201201_PMP_SM_TB_Portals_R1_Output_V2/N0054/Hap.py_VariantCalling_EvalDir/PBMM2_Paftools_GroundTruthVCF_Evaluations_V3_minMQ_1_minDP_5_Fix_All_Breaks_AmbRegionsRemoved/N0054_Happy_VCeval_T_PB_G3PP_MM2_paftools_Vs_Q_Ill_Pilon_VCs_NoRegionsRemoved/Hap.py.N0054.SNPs.FPs.FiltMQ30.vcf\t0.000463 seconds\n",
      "Concatenating /n/data1/hms/dbmi/farhat/mm774/Projects/PacBio_Evaluation_Project/PacmanPipe_SM_Outputs/201201_PMP_SM_TB_Portals_R1_Output_V2/N1272/Hap.py_VariantCalling_EvalDir/PBMM2_Paftools_GroundTruthVCF_Evaluations_V3_minMQ_1_minDP_5_Fix_All_Breaks_AmbRegionsRemoved/N1272_Happy_VCeval_T_PB_G3PP_MM2_paftools_Vs_Q_Ill_Pilon_VCs_NoRegionsRemoved/Hap.py.N1272.SNPs.FPs.FiltMQ30.vcf\t0.000461 seconds\n",
      "Concatenating /n/data1/hms/dbmi/farhat/mm774/Projects/PacBio_Evaluation_Project/PacmanPipe_SM_Outputs/201201_PMP_SM_TB_Portals_R1_Output_V2/N0091/Hap.py_VariantCalling_EvalDir/PBMM2_Paftools_GroundTruthVCF_Evaluations_V3_minMQ_1_minDP_5_Fix_All_Breaks_AmbRegionsRemoved/N0091_Happy_VCeval_T_PB_G3PP_MM2_paftools_Vs_Q_Ill_Pilon_VCs_NoRegionsRemoved/Hap.py.N0091.SNPs.FPs.FiltMQ30.vcf\t0.000398 seconds\n",
      "Concatenating /n/data1/hms/dbmi/farhat/mm774/Projects/PacBio_Evaluation_Project/PacmanPipe_SM_Outputs/201201_PMP_SM_TB_Portals_R1_Output_V2/N1202/Hap.py_VariantCalling_EvalDir/PBMM2_Paftools_GroundTruthVCF_Evaluations_V3_minMQ_1_minDP_5_Fix_All_Breaks_AmbRegionsRemoved/N1202_Happy_VCeval_T_PB_G3PP_MM2_paftools_Vs_Q_Ill_Pilon_VCs_NoRegionsRemoved/Hap.py.N1202.SNPs.FPs.FiltMQ30.vcf\t0.000466 seconds\n",
      "Concatenating /n/data1/hms/dbmi/farhat/mm774/Projects/PacBio_Evaluation_Project/PacmanPipe_SM_Outputs/201201_PMP_SM_TB_Portals_R1_Output_V2/N1177/Hap.py_VariantCalling_EvalDir/PBMM2_Paftools_GroundTruthVCF_Evaluations_V3_minMQ_1_minDP_5_Fix_All_Breaks_AmbRegionsRemoved/N1177_Happy_VCeval_T_PB_G3PP_MM2_paftools_Vs_Q_Ill_Pilon_VCs_NoRegionsRemoved/Hap.py.N1177.SNPs.FPs.FiltMQ30.vcf\t0.000385 seconds\n",
      "Concatenating /n/data1/hms/dbmi/farhat/mm774/Projects/PacBio_Evaluation_Project/PacmanPipe_SM_Outputs/201201_PMP_SM_TB_Portals_R1_Output_V2/RW-TB008/Hap.py_VariantCalling_EvalDir/PBMM2_Paftools_GroundTruthVCF_Evaluations_V3_minMQ_1_minDP_5_Fix_All_Breaks_AmbRegionsRemoved/RW-TB008_Happy_VCeval_T_PB_G3PP_MM2_paftools_Vs_Q_Ill_Pilon_VCs_NoRegionsRemoved/Hap.py.RW-TB008.SNPs.FPs.FiltMQ30.vcf\t0.000485 seconds\n",
      "Concatenating /n/data1/hms/dbmi/farhat/mm774/Projects/PacBio_Evaluation_Project/PacmanPipe_SM_Outputs/201201_PMP_SM_TB_Portals_R1_Output_V2/DNA028/Hap.py_VariantCalling_EvalDir/PBMM2_Paftools_GroundTruthVCF_Evaluations_V3_minMQ_1_minDP_5_Fix_All_Breaks_AmbRegionsRemoved/DNA028_Happy_VCeval_T_PB_G3PP_MM2_paftools_Vs_Q_Ill_Pilon_VCs_NoRegionsRemoved/Hap.py.DNA028.SNPs.FPs.FiltMQ30.vcf\t0.000375 seconds\n",
      "Concatenating /n/data1/hms/dbmi/farhat/mm774/Projects/PacBio_Evaluation_Project/PacmanPipe_SM_Outputs/201201_PMP_SM_TB_Portals_R1_Output_V2/DNA075/Hap.py_VariantCalling_EvalDir/PBMM2_Paftools_GroundTruthVCF_Evaluations_V3_minMQ_1_minDP_5_Fix_All_Breaks_AmbRegionsRemoved/DNA075_Happy_VCeval_T_PB_G3PP_MM2_paftools_Vs_Q_Ill_Pilon_VCs_NoRegionsRemoved/Hap.py.DNA075.SNPs.FPs.FiltMQ30.vcf\t0.000460 seconds\n",
      "Concatenating /n/data1/hms/dbmi/farhat/mm774/Projects/PacBio_Evaluation_Project/PacmanPipe_SM_Outputs/201201_PMP_SM_TB_Portals_R1_Output_V2/DNA091/Hap.py_VariantCalling_EvalDir/PBMM2_Paftools_GroundTruthVCF_Evaluations_V3_minMQ_1_minDP_5_Fix_All_Breaks_AmbRegionsRemoved/DNA091_Happy_VCeval_T_PB_G3PP_MM2_paftools_Vs_Q_Ill_Pilon_VCs_NoRegionsRemoved/Hap.py.DNA091.SNPs.FPs.FiltMQ30.vcf\t0.000470 seconds\n",
      "Concatenating /n/data1/hms/dbmi/farhat/mm774/Projects/PacBio_Evaluation_Project/PacmanPipe_SM_Outputs/201201_PMP_SM_TB_Portals_R1_Output_V2/DNA044/Hap.py_VariantCalling_EvalDir/PBMM2_Paftools_GroundTruthVCF_Evaluations_V3_minMQ_1_minDP_5_Fix_All_Breaks_AmbRegionsRemoved/DNA044_Happy_VCeval_T_PB_G3PP_MM2_paftools_Vs_Q_Ill_Pilon_VCs_NoRegionsRemoved/Hap.py.DNA044.SNPs.FPs.FiltMQ30.vcf\t0.000376 seconds\n",
      "Concatenating /n/data1/hms/dbmi/farhat/mm774/Projects/PacBio_Evaluation_Project/PacmanPipe_SM_Outputs/201201_PMP_SM_TB_Portals_R1_Output_V2/DNA020/Hap.py_VariantCalling_EvalDir/PBMM2_Paftools_GroundTruthVCF_Evaluations_V3_minMQ_1_minDP_5_Fix_All_Breaks_AmbRegionsRemoved/DNA020_Happy_VCeval_T_PB_G3PP_MM2_paftools_Vs_Q_Ill_Pilon_VCs_NoRegionsRemoved/Hap.py.DNA020.SNPs.FPs.FiltMQ30.vcf\t0.000469 seconds\n",
      "Concatenating /n/data1/hms/dbmi/farhat/mm774/Projects/PacBio_Evaluation_Project/PacmanPipe_SM_Outputs/201201_PMP_SM_TB_Portals_R1_Output_V2/AZE_02_042/Hap.py_VariantCalling_EvalDir/PBMM2_Paftools_GroundTruthVCF_Evaluations_V3_minMQ_1_minDP_5_Fix_All_Breaks_AmbRegionsRemoved/AZE_02_042_Happy_VCeval_T_PB_G3PP_MM2_paftools_Vs_Q_Ill_Pilon_VCs_NoRegionsRemoved/Hap.py.AZE_02_042.SNPs.FPs.FiltMQ30.vcf\t0.000465 seconds\n",
      "Concatenating /n/data1/hms/dbmi/farhat/mm774/Projects/PacBio_Evaluation_Project/PacmanPipe_SM_Outputs/201201_PMP_SM_TB_Portals_R1_Output_V2/DNA019_Rose/Hap.py_VariantCalling_EvalDir/PBMM2_Paftools_GroundTruthVCF_Evaluations_V3_minMQ_1_minDP_5_Fix_All_Breaks_AmbRegionsRemoved/DNA019_Rose_Happy_VCeval_T_PB_G3PP_MM2_paftools_Vs_Q_Ill_Pilon_VCs_NoRegionsRemoved/Hap.py.DNA019_Rose.SNPs.FPs.FiltMQ30.vcf\t0.000389 seconds\n",
      "Concatenating /n/data1/hms/dbmi/farhat/mm774/Projects/PacBio_Evaluation_Project/PacmanPipe_SM_Outputs/201201_PMP_SM_TB_Portals_R1_Output_V2/DNA120/Hap.py_VariantCalling_EvalDir/PBMM2_Paftools_GroundTruthVCF_Evaluations_V3_minMQ_1_minDP_5_Fix_All_Breaks_AmbRegionsRemoved/DNA120_Happy_VCeval_T_PB_G3PP_MM2_paftools_Vs_Q_Ill_Pilon_VCs_NoRegionsRemoved/Hap.py.DNA120.SNPs.FPs.FiltMQ30.vcf\t0.000495 seconds\n",
      "Concatenating /n/data1/hms/dbmi/farhat/mm774/Projects/PacBio_Evaluation_Project/PacmanPipe_SM_Outputs/201201_PMP_SM_TB_Portals_R1_Output_V2/DNA188/Hap.py_VariantCalling_EvalDir/PBMM2_Paftools_GroundTruthVCF_Evaluations_V3_minMQ_1_minDP_5_Fix_All_Breaks_AmbRegionsRemoved/DNA188_Happy_VCeval_T_PB_G3PP_MM2_paftools_Vs_Q_Ill_Pilon_VCs_NoRegionsRemoved/Hap.py.DNA188.SNPs.FPs.FiltMQ30.vcf\t0.000678 seconds\n",
      "Concatenating /n/data1/hms/dbmi/farhat/mm774/Projects/PacBio_Evaluation_Project/PacmanPipe_SM_Outputs/201201_PMP_SM_TB_Portals_R1_Output_V2/DNA086/Hap.py_VariantCalling_EvalDir/PBMM2_Paftools_GroundTruthVCF_Evaluations_V3_minMQ_1_minDP_5_Fix_All_Breaks_AmbRegionsRemoved/DNA086_Happy_VCeval_T_PB_G3PP_MM2_paftools_Vs_Q_Ill_Pilon_VCs_NoRegionsRemoved/Hap.py.DNA086.SNPs.FPs.FiltMQ30.vcf\t0.004024 seconds\n",
      "Merging 1 temporary files\n",
      "Cleaning\n",
      "Done\n"
     ]
    }
   ],
   "source": [
    "!bcftools concat $spaceSeperated_listOf_All_SNPs_FPs_FiltMQ30_VCFs | bcftools sort > $All_FPs_SNPs_FiltMQ30_VCF_PATH"
   ]
  },
  {
   "cell_type": "markdown",
   "metadata": {},
   "source": [
    "### Look at output files"
   ]
  },
  {
   "cell_type": "code",
   "execution_count": 25,
   "metadata": {},
   "outputs": [
    {
     "name": "stdout",
     "output_type": "stream",
     "text": [
      "total 984K\n",
      "drwxrwsr-x  2 mm774 farhat  453 Feb  2 23:37 .\n",
      "drwxrwsr-x 11 mm774 farhat  529 Mar 26 23:36 ..\n",
      "-rw-rw-r--  1 mm774 farhat 637K Mar 26 23:54 200901_Mtb_H37rv_AllRegions_Info.SNPs.All.FPs.bed\n",
      "-rw-rw-r--  1 mm774 farhat 637K Mar 26 23:54 200901_Mtb_H37rv_AllRegions_Info.SNPs.FPs.FiltMQ30.bed\n",
      "-rw-rw-r--  1 mm774 farhat 2.6K Feb 19 21:26 210202_Mtb_H37rv.Top30SourcesOfFPs.FiltMQ30.bed\n",
      "-rw-rw-r--  1 mm774 farhat 2.7K Feb 19 21:26 210202_Mtb_H37rv.Top30SourcesOfFPs.FiltMQ30.WithHeader.bed\n",
      "-rw-rw-r--  1 mm774 farhat 665K Mar 26 23:54 H37Rv_AllRegions_GeneAndIntergenic_NumberOf_FPs.FiltMQ30.tsv\n",
      "-rw-rw-r--  1 mm774 farhat  92K Mar 27 00:02 PMP_36CI.SNPs.All.FPs.FiltMQ30.vcf\n",
      "-rw-rw-r--  1 mm774 farhat 112K Mar 27 00:02 PMP_36CI.SNPs.All.FPs.vcf\n"
     ]
    }
   ],
   "source": [
    "!ls -alh $FalsePositive_Analysis_V2_Dir"
   ]
  },
  {
   "cell_type": "code",
   "execution_count": 26,
   "metadata": {},
   "outputs": [
    {
     "name": "stdout",
     "output_type": "stream",
     "text": [
      "ad5679c448cb6f9f3ef418e956f62a80  ../../../210112_PBvsI_VCeval_AnalysisDir_V7_36CI/210126_FalsePositivesAnalysis_V4/PMP_36CI.SNPs.All.FPs.vcf\n",
      "219c296932b95c976d74209a4b4781ec  ../../../210112_PBvsI_VCeval_AnalysisDir_V7_36CI/210126_FalsePositivesAnalysis_V4/PMP_36CI.SNPs.All.FPs.FiltMQ30.vcf\n"
     ]
    }
   ],
   "source": [
    "!md5sum $All_FPs_SNPs_VCF_PATH $All_FPs_SNPs_FiltMQ30_VCF_PATH"
   ]
  },
  {
   "cell_type": "code",
   "execution_count": 27,
   "metadata": {},
   "outputs": [
    {
     "name": "stdout",
     "output_type": "stream",
     "text": [
      "696\n"
     ]
    }
   ],
   "source": [
    "!bcftools view  --no-header $All_FPs_SNPs_VCF_PATH | wc -l"
   ]
  },
  {
   "cell_type": "code",
   "execution_count": 28,
   "metadata": {},
   "outputs": [
    {
     "name": "stdout",
     "output_type": "stream",
     "text": [
      "548\n"
     ]
    }
   ],
   "source": [
    "!bcftools view  --no-header $All_FPs_SNPs_FiltMQ30_VCF_PATH | wc -l"
   ]
  },
  {
   "cell_type": "code",
   "execution_count": null,
   "metadata": {},
   "outputs": [],
   "source": []
  },
  {
   "cell_type": "markdown",
   "metadata": {},
   "source": [
    "### Look at repeating False Positives"
   ]
  },
  {
   "cell_type": "code",
   "execution_count": 29,
   "metadata": {},
   "outputs": [
    {
     "name": "stdout",
     "output_type": "stream",
     "text": [
      "     20 2163790\n",
      "     20 3846851\n",
      "     20 3846852\n",
      "     20 3846853\n",
      "     20 3846857\n",
      "     20 3846860\n",
      "     20 3846866\n",
      "     20 3846897\n",
      "     19 3846886\n",
      "     12 2165503\n"
     ]
    }
   ],
   "source": [
    "!bcftools view  --no-header $All_FPs_SNPs_VCF_PATH | cut -f 2 | sort | uniq -c | sort -k 1nr | head -n 10"
   ]
  },
  {
   "cell_type": "code",
   "execution_count": 30,
   "metadata": {},
   "outputs": [
    {
     "name": "stdout",
     "output_type": "stream",
     "text": [
      "696\n"
     ]
    }
   ],
   "source": [
    "!bcftools view  --no-header $All_FPs_SNPs_VCF_PATH | cut -f 2 | sort | wc -l"
   ]
  },
  {
   "cell_type": "code",
   "execution_count": null,
   "metadata": {},
   "outputs": [],
   "source": []
  },
  {
   "cell_type": "code",
   "execution_count": null,
   "metadata": {},
   "outputs": [],
   "source": []
  },
  {
   "cell_type": "code",
   "execution_count": null,
   "metadata": {},
   "outputs": [],
   "source": []
  },
  {
   "cell_type": "markdown",
   "metadata": {},
   "source": [
    "# 3.B) Parse processed NucDiff SVs"
   ]
  },
  {
   "cell_type": "code",
   "execution_count": 31,
   "metadata": {},
   "outputs": [
    {
     "data": {
      "text/plain": [
       "(5484, 7)"
      ]
     },
     "execution_count": 31,
     "metadata": {},
     "output_type": "execute_result"
    }
   ],
   "source": [
    "Repo_DataDir = \"../../Data\"\n",
    "\n",
    "PMP_28CI_NucDiff_SV_Analysis_Dir = Repo_DataDir + \"/210126_PMP_36CI_NucDiff_SV_Analysis_Dir\"\n",
    "PMP_28CI_NucDiff_AllSVs_Detected_TSV = PMP_28CI_NucDiff_SV_Analysis_Dir + \"/210126.PMP.36CI.NucDiff_AllSVs_Detected.V2.tsv\"\n",
    "\n",
    "NucDiff_SVs_36CI_DF = pd.read_csv(PMP_28CI_NucDiff_AllSVs_Detected_TSV, sep=\"\\t\")\n",
    "NucDiff_SVs_36CI_DF.shape"
   ]
  },
  {
   "cell_type": "markdown",
   "metadata": {},
   "source": [
    "### Filter for SVs >= 50 bp"
   ]
  },
  {
   "cell_type": "code",
   "execution_count": 32,
   "metadata": {},
   "outputs": [
    {
     "data": {
      "text/plain": [
       "(3620, 7)"
      ]
     },
     "execution_count": 32,
     "metadata": {},
     "output_type": "execute_result"
    }
   ],
   "source": [
    "NucDiff_SVs_50bp_OrMore_DF = NucDiff_SVs_36CI_DF[NucDiff_SVs_36CI_DF[\"SV_Length\"] >=50 ]\n",
    "NucDiff_SVs_50bp_OrMore_DF.shape"
   ]
  },
  {
   "cell_type": "code",
   "execution_count": 33,
   "metadata": {},
   "outputs": [
    {
     "data": {
      "text/html": [
       "<div>\n",
       "<style scoped>\n",
       "    .dataframe tbody tr th:only-of-type {\n",
       "        vertical-align: middle;\n",
       "    }\n",
       "\n",
       "    .dataframe tbody tr th {\n",
       "        vertical-align: top;\n",
       "    }\n",
       "\n",
       "    .dataframe thead th {\n",
       "        text-align: right;\n",
       "    }\n",
       "</style>\n",
       "<table border=\"1\" class=\"dataframe\">\n",
       "  <thead>\n",
       "    <tr style=\"text-align: right;\">\n",
       "      <th></th>\n",
       "      <th>Chrom</th>\n",
       "      <th>start_0based</th>\n",
       "      <th>end_0based</th>\n",
       "      <th>SV_Type</th>\n",
       "      <th>SV_Length</th>\n",
       "      <th>SampleID</th>\n",
       "      <th>PrimaryLineage</th>\n",
       "    </tr>\n",
       "  </thead>\n",
       "  <tbody>\n",
       "    <tr>\n",
       "      <th>0</th>\n",
       "      <td>NC_000962.3</td>\n",
       "      <td>71583</td>\n",
       "      <td>71586</td>\n",
       "      <td>duplication</td>\n",
       "      <td>2</td>\n",
       "      <td>M0011368_9</td>\n",
       "      <td>lineage4</td>\n",
       "    </tr>\n",
       "    <tr>\n",
       "      <th>1</th>\n",
       "      <td>NC_000962.3</td>\n",
       "      <td>71585</td>\n",
       "      <td>71586</td>\n",
       "      <td>insertion</td>\n",
       "      <td>35</td>\n",
       "      <td>M0011368_9</td>\n",
       "      <td>lineage4</td>\n",
       "    </tr>\n",
       "    <tr>\n",
       "      <th>2</th>\n",
       "      <td>NC_000962.3</td>\n",
       "      <td>150889</td>\n",
       "      <td>150903</td>\n",
       "      <td>duplication</td>\n",
       "      <td>13</td>\n",
       "      <td>M0011368_9</td>\n",
       "      <td>lineage4</td>\n",
       "    </tr>\n",
       "    <tr>\n",
       "      <th>3</th>\n",
       "      <td>NC_000962.3</td>\n",
       "      <td>150902</td>\n",
       "      <td>150903</td>\n",
       "      <td>insertion</td>\n",
       "      <td>167</td>\n",
       "      <td>M0011368_9</td>\n",
       "      <td>lineage4</td>\n",
       "    </tr>\n",
       "    <tr>\n",
       "      <th>4</th>\n",
       "      <td>NC_000962.3</td>\n",
       "      <td>335050</td>\n",
       "      <td>337913</td>\n",
       "      <td>tandem_duplication</td>\n",
       "      <td>2862</td>\n",
       "      <td>M0011368_9</td>\n",
       "      <td>lineage4</td>\n",
       "    </tr>\n",
       "  </tbody>\n",
       "</table>\n",
       "</div>"
      ],
      "text/plain": [
       "         Chrom  start_0based  end_0based             SV_Type  SV_Length    SampleID PrimaryLineage\n",
       "0  NC_000962.3         71583       71586         duplication          2  M0011368_9       lineage4\n",
       "1  NC_000962.3         71585       71586           insertion         35  M0011368_9       lineage4\n",
       "2  NC_000962.3        150889      150903         duplication         13  M0011368_9       lineage4\n",
       "3  NC_000962.3        150902      150903           insertion        167  M0011368_9       lineage4\n",
       "4  NC_000962.3        335050      337913  tandem_duplication       2862  M0011368_9       lineage4"
      ]
     },
     "execution_count": 33,
     "metadata": {},
     "output_type": "execute_result"
    }
   ],
   "source": [
    "NucDiff_SVs_36CI_DF.head()"
   ]
  },
  {
   "cell_type": "code",
   "execution_count": 34,
   "metadata": {},
   "outputs": [],
   "source": [
    "#NucDiff_SVs_36CI_DF[\"SV_Type\"].value_counts()"
   ]
  },
  {
   "cell_type": "code",
   "execution_count": 35,
   "metadata": {},
   "outputs": [],
   "source": [
    "#NucDiff_SVs_50bp_OrMore_DF[\"SV_Type\"].value_counts()"
   ]
  },
  {
   "cell_type": "code",
   "execution_count": null,
   "metadata": {},
   "outputs": [],
   "source": []
  },
  {
   "cell_type": "code",
   "execution_count": null,
   "metadata": {},
   "outputs": [],
   "source": []
  },
  {
   "cell_type": "code",
   "execution_count": null,
   "metadata": {},
   "outputs": [],
   "source": []
  },
  {
   "cell_type": "code",
   "execution_count": null,
   "metadata": {},
   "outputs": [],
   "source": []
  },
  {
   "cell_type": "code",
   "execution_count": null,
   "metadata": {},
   "outputs": [],
   "source": []
  },
  {
   "cell_type": "code",
   "execution_count": null,
   "metadata": {},
   "outputs": [],
   "source": []
  },
  {
   "cell_type": "markdown",
   "metadata": {},
   "source": [
    "# 4) Import/parse processed H37rv genome annotations"
   ]
  },
  {
   "cell_type": "code",
   "execution_count": 36,
   "metadata": {},
   "outputs": [],
   "source": [
    "RepoRef_Dir = \"../../References\"\n",
    "\n",
    "AnnotatedGenes_And_IntergenicRegions_RepoRef_Dir = f\"{RepoRef_Dir}/201027_H37rv_AnnotatedGenes_And_IntergenicRegions\"\n",
    "\n",
    "H37Rv_GenomeAnnotations_Genes_TSV = f\"{AnnotatedGenes_And_IntergenicRegions_RepoRef_Dir}/H37Rv_GenomeAnnotations.Genes.tsv\"\n",
    "H37Rv_GenomeAnnotations_IntergenicRegions_TSV = f\"{AnnotatedGenes_And_IntergenicRegions_RepoRef_Dir}/H37Rv_GenomeAnnotations.IntergenicRegions.tsv\"\n",
    "H37Rv_GenomeAnnotations_Genes_And_IntergenicRegions_TSV = f\"{AnnotatedGenes_And_IntergenicRegions_RepoRef_Dir}/H37Rv_GenomeAnnotations.Genes.And.IntergenicRegions.tsv\"    \n",
    "H37Rv_GenomeAnnotations_Genes_And_IntergenicRegions_BED = f\"{AnnotatedGenes_And_IntergenicRegions_RepoRef_Dir}/H37Rv_GenomeAnnotations.Genes.And.IntergenicRegions.bed\"\n",
    "\n",
    "\n",
    "## H37Rv Gene Annotations TSV\n",
    "H37Rv_GenomeAnno_Genes_DF = pd.read_csv(H37Rv_GenomeAnnotations_Genes_TSV, sep = \"\\t\")\n",
    "\n",
    "## H37Rv_Integenic_Regions_TSV\n",
    "H37Rv_IntergenicRegions_DF = pd.read_csv(H37Rv_GenomeAnnotations_IntergenicRegions_TSV, sep = \"\\t\")\n",
    "\n",
    "## H37Rv_GeneAndIntegenic_Regions_TSV\n",
    "H37Rv_AllRegions_DF = pd.read_csv(H37Rv_GenomeAnnotations_Genes_And_IntergenicRegions_TSV, sep = \"\\t\")\n"
   ]
  },
  {
   "cell_type": "code",
   "execution_count": 37,
   "metadata": {},
   "outputs": [],
   "source": [
    "#!ls -lah $AnnotatedGenes_And_IntergenicRegions_RepoRef_Dir"
   ]
  },
  {
   "cell_type": "code",
   "execution_count": 38,
   "metadata": {},
   "outputs": [
    {
     "data": {
      "text/plain": [
       "(7151, 17)"
      ]
     },
     "execution_count": 38,
     "metadata": {},
     "output_type": "execute_result"
    }
   ],
   "source": [
    "H37Rv_AllRegions_DF.shape"
   ]
  },
  {
   "cell_type": "code",
   "execution_count": 39,
   "metadata": {},
   "outputs": [
    {
     "data": {
      "text/plain": [
       "(3072, 9)"
      ]
     },
     "execution_count": 39,
     "metadata": {},
     "output_type": "execute_result"
    }
   ],
   "source": [
    "H37Rv_IntergenicRegions_DF.shape"
   ]
  },
  {
   "cell_type": "code",
   "execution_count": 40,
   "metadata": {},
   "outputs": [
    {
     "data": {
      "text/plain": [
       "(4079, 12)"
      ]
     },
     "execution_count": 40,
     "metadata": {},
     "output_type": "execute_result"
    }
   ],
   "source": [
    "H37Rv_GenomeAnno_Genes_DF.shape"
   ]
  },
  {
   "cell_type": "code",
   "execution_count": null,
   "metadata": {},
   "outputs": [],
   "source": []
  },
  {
   "cell_type": "code",
   "execution_count": 41,
   "metadata": {},
   "outputs": [
    {
     "name": "stdout",
     "output_type": "stream",
     "text": [
      "NC_000962.3\t0\t1524\t+\tRv0001\tdnaA\tNotExcluded\tNone\tinformation pathways\n"
     ]
    }
   ],
   "source": [
    "!head $H37Rv_GenomeAnnotations_Genes_And_IntergenicRegions_BED | head -n 1"
   ]
  },
  {
   "cell_type": "code",
   "execution_count": 42,
   "metadata": {},
   "outputs": [
    {
     "name": "stdout",
     "output_type": "stream",
     "text": [
      "NC_000962.3\t0\t1524\t+\tRv0001\tdnaA\n"
     ]
    }
   ],
   "source": [
    "!head $H37Rv_GenomeAnnotations_Genes_And_IntergenicRegions_BED | head -n 1 | cut -f 1-6"
   ]
  },
  {
   "cell_type": "code",
   "execution_count": 43,
   "metadata": {},
   "outputs": [
    {
     "data": {
      "text/html": [
       "<div>\n",
       "<style scoped>\n",
       "    .dataframe tbody tr th:only-of-type {\n",
       "        vertical-align: middle;\n",
       "    }\n",
       "\n",
       "    .dataframe tbody tr th {\n",
       "        vertical-align: top;\n",
       "    }\n",
       "\n",
       "    .dataframe thead th {\n",
       "        text-align: right;\n",
       "    }\n",
       "</style>\n",
       "<table border=\"1\" class=\"dataframe\">\n",
       "  <thead>\n",
       "    <tr style=\"text-align: right;\">\n",
       "      <th></th>\n",
       "      <th>Chrom</th>\n",
       "      <th>Start</th>\n",
       "      <th>End</th>\n",
       "      <th>Strand</th>\n",
       "      <th>H37rv_GeneID</th>\n",
       "      <th>Symbol</th>\n",
       "      <th>Feature</th>\n",
       "      <th>ExcludedGroup_Category</th>\n",
       "      <th>PEandPPE_Subfamily</th>\n",
       "      <th>Product</th>\n",
       "      <th>Functional_Category</th>\n",
       "      <th>Is_Pseudogene</th>\n",
       "      <th>IntergenicRegion_IsNextTo_PLC_Gene</th>\n",
       "      <th>Intergenic_GeneToTheLeft</th>\n",
       "      <th>Intergenic_GeneToTheLeft_FuncCategory</th>\n",
       "      <th>Intergenic_GeneToTheRight</th>\n",
       "      <th>Intergenic_GeneToTheRight_FuncCategory</th>\n",
       "    </tr>\n",
       "  </thead>\n",
       "  <tbody>\n",
       "    <tr>\n",
       "      <th>0</th>\n",
       "      <td>NC_000962.3</td>\n",
       "      <td>0</td>\n",
       "      <td>1524</td>\n",
       "      <td>+</td>\n",
       "      <td>Rv0001</td>\n",
       "      <td>dnaA</td>\n",
       "      <td>CDS</td>\n",
       "      <td>NotExcluded</td>\n",
       "      <td>None</td>\n",
       "      <td>Chromosomal replication initiator protein DnaA</td>\n",
       "      <td>information pathways</td>\n",
       "      <td>No</td>\n",
       "      <td>NaN</td>\n",
       "      <td>NaN</td>\n",
       "      <td>NaN</td>\n",
       "      <td>NaN</td>\n",
       "      <td>NaN</td>\n",
       "    </tr>\n",
       "    <tr>\n",
       "      <th>1</th>\n",
       "      <td>NC_000962.3</td>\n",
       "      <td>1524</td>\n",
       "      <td>2051</td>\n",
       "      <td>NaN</td>\n",
       "      <td>IntergenicRegion_1_Rv0001-Rv0002</td>\n",
       "      <td>NaN</td>\n",
       "      <td>Intergenic</td>\n",
       "      <td>Intergenic</td>\n",
       "      <td>NaN</td>\n",
       "      <td>NaN</td>\n",
       "      <td>Intergenic</td>\n",
       "      <td>NaN</td>\n",
       "      <td>False</td>\n",
       "      <td>Rv0001</td>\n",
       "      <td>NotExcluded</td>\n",
       "      <td>Rv0002</td>\n",
       "      <td>NotExcluded</td>\n",
       "    </tr>\n",
       "    <tr>\n",
       "      <th>2</th>\n",
       "      <td>NC_000962.3</td>\n",
       "      <td>2051</td>\n",
       "      <td>3260</td>\n",
       "      <td>+</td>\n",
       "      <td>Rv0002</td>\n",
       "      <td>dnaN</td>\n",
       "      <td>CDS</td>\n",
       "      <td>NotExcluded</td>\n",
       "      <td>None</td>\n",
       "      <td>DNA polymerase III (beta chain) DnaN (DNA nucl...</td>\n",
       "      <td>information pathways</td>\n",
       "      <td>No</td>\n",
       "      <td>NaN</td>\n",
       "      <td>NaN</td>\n",
       "      <td>NaN</td>\n",
       "      <td>NaN</td>\n",
       "      <td>NaN</td>\n",
       "    </tr>\n",
       "  </tbody>\n",
       "</table>\n",
       "</div>"
      ],
      "text/plain": [
       "         Chrom  Start   End Strand                      H37rv_GeneID Symbol     Feature ExcludedGroup_Category PEandPPE_Subfamily                                            Product   Functional_Category Is_Pseudogene IntergenicRegion_IsNextTo_PLC_Gene Intergenic_GeneToTheLeft Intergenic_GeneToTheLeft_FuncCategory Intergenic_GeneToTheRight Intergenic_GeneToTheRight_FuncCategory\n",
       "0  NC_000962.3      0  1524      +                            Rv0001   dnaA         CDS            NotExcluded               None     Chromosomal replication initiator protein DnaA  information pathways            No                                NaN                      NaN                                   NaN                       NaN                                    NaN\n",
       "1  NC_000962.3   1524  2051    NaN  IntergenicRegion_1_Rv0001-Rv0002    NaN  Intergenic             Intergenic                NaN                                                NaN            Intergenic           NaN                              False                   Rv0001                           NotExcluded                    Rv0002                            NotExcluded\n",
       "2  NC_000962.3   2051  3260      +                            Rv0002   dnaN         CDS            NotExcluded               None  DNA polymerase III (beta chain) DnaN (DNA nucl...  information pathways            No                                NaN                      NaN                                   NaN                       NaN                                    NaN"
      ]
     },
     "execution_count": 43,
     "metadata": {},
     "output_type": "execute_result"
    }
   ],
   "source": [
    "H37Rv_AllRegions_DF.head(3)"
   ]
  },
  {
   "cell_type": "code",
   "execution_count": null,
   "metadata": {},
   "outputs": [],
   "source": []
  },
  {
   "cell_type": "markdown",
   "metadata": {},
   "source": [
    "### Let's check that the union of the two feature sets (and make sure it makes up all of H37rv)"
   ]
  },
  {
   "cell_type": "code",
   "execution_count": 44,
   "metadata": {},
   "outputs": [
    {
     "name": "stdout",
     "output_type": "stream",
     "text": [
      "NC_000962.3\t0\t4411532\n"
     ]
    }
   ],
   "source": [
    "!cat $H37Rv_GenomeAnnotations_Genes_And_IntergenicRegions_BED | cut -f 1,2,3 | sort -k 1,1 -k2,2n | bedtools merge     "
   ]
  },
  {
   "cell_type": "code",
   "execution_count": 45,
   "metadata": {},
   "outputs": [],
   "source": [
    "!cat $H37Rv_GenomeAnnotations_Genes_And_IntergenicRegions_BED | cut -f 1,2,3 | sort -k 1,1 -k2,2n | bedtools merge > ./All_H37rv_Genome.bed"
   ]
  },
  {
   "cell_type": "markdown",
   "metadata": {},
   "source": [
    "### Verify that 704 FPs (MQ > 1) overlap with the entire genome"
   ]
  },
  {
   "cell_type": "code",
   "execution_count": 46,
   "metadata": {},
   "outputs": [
    {
     "name": "stdout",
     "output_type": "stream",
     "text": [
      "NC_000962.3\t0\t4411532\t696\n"
     ]
    }
   ],
   "source": [
    "!bedtools annotate -counts -i All_H37rv_Genome.bed -files $All_FPs_SNPs_VCF_PATH "
   ]
  },
  {
   "cell_type": "markdown",
   "metadata": {},
   "source": [
    "### Verify that 556 FPs (MQ > 30) overlap with the entire genome"
   ]
  },
  {
   "cell_type": "code",
   "execution_count": 47,
   "metadata": {},
   "outputs": [
    {
     "name": "stdout",
     "output_type": "stream",
     "text": [
      "NC_000962.3\t0\t4411532\t548\n"
     ]
    }
   ],
   "source": [
    "!bedtools annotate -counts -i All_H37rv_Genome.bed -files $All_FPs_SNPs_FiltMQ30_VCF_PATH "
   ]
  },
  {
   "cell_type": "code",
   "execution_count": 48,
   "metadata": {},
   "outputs": [],
   "source": [
    "!rm ./All_H37rv_Genome.bed"
   ]
  },
  {
   "cell_type": "code",
   "execution_count": null,
   "metadata": {},
   "outputs": [],
   "source": []
  },
  {
   "cell_type": "markdown",
   "metadata": {},
   "source": [
    "# 5) Overlap All regions (gene + intergenic) with all potential FPs (All 36 samples)"
   ]
  },
  {
   "cell_type": "code",
   "execution_count": 49,
   "metadata": {},
   "outputs": [],
   "source": [
    "\n",
    "H37rv_AllRegions_AnnoBy_All_FPs_PATH = f\"{FalsePositive_Analysis_V2_Dir}/200901_Mtb_H37rv_AllRegions_Info.SNPs.All.FPs.bed\" \n",
    "H37rv_AllRegions_AnnoBy_All_FPs_FiltMQ30_PATH = f\"{FalsePositive_Analysis_V2_Dir}/200901_Mtb_H37rv_AllRegions_Info.SNPs.FPs.FiltMQ30.bed\" \n",
    "\n",
    "\n",
    "\n",
    "!bedtools annotate -counts -i $H37Rv_GenomeAnnotations_Genes_And_IntergenicRegions_BED -files $All_FPs_SNPs_VCF_PATH > $H37rv_AllRegions_AnnoBy_All_FPs_PATH  \n",
    "!bedtools annotate -counts -i $H37Rv_GenomeAnnotations_Genes_And_IntergenicRegions_BED -files $All_FPs_SNPs_FiltMQ30_VCF_PATH > $H37rv_AllRegions_AnnoBy_All_FPs_FiltMQ30_PATH  "
   ]
  },
  {
   "cell_type": "code",
   "execution_count": 50,
   "metadata": {},
   "outputs": [],
   "source": [
    "#!bedtools annotate -counts -i $H37rv_AllGenesAnnotated_BED_DF_PATH -files $All_FPs_SNPs_VCF_PATH > $H37rv_Genes_AnnoBy_All_FPs_PATH  \n",
    "\n",
    "#!bedtools annotate -counts -i $H37rv_AllIntergenicRegions_BED_DF_PATH -files $All_FPs_SNPs_VCF_PATH > $H37rv_IntergenicRegions_AnnoBy_All_FPs_PATH \n",
    "\n"
   ]
  },
  {
   "cell_type": "code",
   "execution_count": 51,
   "metadata": {},
   "outputs": [
    {
     "name": "stdout",
     "output_type": "stream",
     "text": [
      "NC_000962.3\t0\t1524\t+\tRv0001\tdnaA\tNotExcluded\tNone\tinformation pathways\n",
      "NC_000962.3\t1524\t2051\t\tIntergenicRegion_1_Rv0001-Rv0002\t\tIntergenic\t\tIntergenic\n",
      "NC_000962.3\t2051\t3260\t+\tRv0002\tdnaN\tNotExcluded\tNone\tinformation pathways\n",
      "NC_000962.3\t3260\t3279\t\tIntergenicRegion_2_Rv0002-Rv0003\t\tIntergenic\t\tIntergenic\n",
      "NC_000962.3\t3279\t4437\t+\tRv0003\trecF\tNotExcluded\tNone\tinformation pathways\n",
      "NC_000962.3\t4433\t4997\t+\tRv0004\tRv0004\tNotExcluded\tNone\tconserved hypotheticals\n",
      "NC_000962.3\t4997\t5239\t\tIntergenicRegion_3_Rv0004-Rv0005\t\tIntergenic\t\tIntergenic\n",
      "NC_000962.3\t5239\t7267\t+\tRv0005\tgyrB\tNotExcluded\tNone\tinformation pathways\n",
      "NC_000962.3\t7267\t7301\t\tIntergenicRegion_4_Rv0005-Rv0006\t\tIntergenic\t\tIntergenic\n",
      "NC_000962.3\t7301\t9818\t+\tRv0006\tgyrA\tNotExcluded\tNone\tinformation pathways\n"
     ]
    }
   ],
   "source": [
    "!head $H37Rv_GenomeAnnotations_Genes_And_IntergenicRegions_BED"
   ]
  },
  {
   "cell_type": "code",
   "execution_count": 52,
   "metadata": {},
   "outputs": [
    {
     "name": "stdout",
     "output_type": "stream",
     "text": [
      "NC_000962.3\t1048411\t1050346\t+\tRv0939\tRv0939\tNotExcluded\tNone\tintermediary metabolism and respiration\t0\n",
      "NC_000962.3\t2096876\t2097299\t+\tRv1847\tRv1847\tNotExcluded\tNone\tconserved hypotheticals\t0\n",
      "NC_000962.3\t3145170\t3147873\t-\tRv2839c\tinfB\tNotExcluded\tNone\tinformation pathways\t0\n",
      "NC_000962.3\t4193390\t4195373\t-\tRv3743c\tctpJ\tNotExcluded\tNone\tcell wall and cell processes\t0\n",
      "NC_000962.3\t130894\t131104\t-\tRv0108c\tRv0108c\tNotExcluded\tNone\tconserved hypotheticals\t0\n",
      "NC_000962.3\t260923\t262252\t+\tRv0218\tRv0218\tNotExcluded\tNone\tcell wall and cell processes\t0\n",
      "NC_000962.3\t392695\t394045\t-\tRv0327c\tcyp135A1\tNotExcluded\tNone\tintermediary metabolism and respiration\t0\n",
      "NC_000962.3\t522346\t524533\t-\tRv0435c\tRv0435c\tNotExcluded\tNone\tcell wall and cell processes\t0\n",
      "NC_000962.3\t654923\t655949\t-\tRv0564c\tgpdA1\tNotExcluded\tNone\tlipid metabolism\t0\n",
      "NC_000962.3\t786148\t786946\t+\tRv0686\tRv0686\tNotExcluded\tNone\tcell wall and cell processes\t0\n"
     ]
    }
   ],
   "source": [
    "!head $H37rv_AllRegions_AnnoBy_All_FPs_PATH\n"
   ]
  },
  {
   "cell_type": "code",
   "execution_count": null,
   "metadata": {},
   "outputs": [],
   "source": []
  },
  {
   "cell_type": "code",
   "execution_count": 53,
   "metadata": {},
   "outputs": [
    {
     "data": {
      "text/html": [
       "<div>\n",
       "<style scoped>\n",
       "    .dataframe tbody tr th:only-of-type {\n",
       "        vertical-align: middle;\n",
       "    }\n",
       "\n",
       "    .dataframe tbody tr th {\n",
       "        vertical-align: top;\n",
       "    }\n",
       "\n",
       "    .dataframe thead th {\n",
       "        text-align: right;\n",
       "    }\n",
       "</style>\n",
       "<table border=\"1\" class=\"dataframe\">\n",
       "  <thead>\n",
       "    <tr style=\"text-align: right;\">\n",
       "      <th></th>\n",
       "      <th>Chrom</th>\n",
       "      <th>Start</th>\n",
       "      <th>End</th>\n",
       "      <th>Strand</th>\n",
       "      <th>H37rv_GeneID</th>\n",
       "      <th>Symbol</th>\n",
       "      <th>ExcludedGroup_Category</th>\n",
       "      <th>PEandPPE_Subfamily</th>\n",
       "      <th>Functional_Category</th>\n",
       "      <th>FP_Count</th>\n",
       "      <th>Length</th>\n",
       "    </tr>\n",
       "  </thead>\n",
       "  <tbody>\n",
       "    <tr>\n",
       "      <th>271</th>\n",
       "      <td>NC_000962.3</td>\n",
       "      <td>0</td>\n",
       "      <td>1524</td>\n",
       "      <td>+</td>\n",
       "      <td>Rv0001</td>\n",
       "      <td>dnaA</td>\n",
       "      <td>NotExcluded</td>\n",
       "      <td>None</td>\n",
       "      <td>information pathways</td>\n",
       "      <td>0</td>\n",
       "      <td>1524</td>\n",
       "    </tr>\n",
       "    <tr>\n",
       "      <th>272</th>\n",
       "      <td>NC_000962.3</td>\n",
       "      <td>1524</td>\n",
       "      <td>2051</td>\n",
       "      <td>NaN</td>\n",
       "      <td>IntergenicRegion_1_Rv0001-Rv0002</td>\n",
       "      <td>NaN</td>\n",
       "      <td>Intergenic</td>\n",
       "      <td>NaN</td>\n",
       "      <td>Intergenic</td>\n",
       "      <td>0</td>\n",
       "      <td>527</td>\n",
       "    </tr>\n",
       "    <tr>\n",
       "      <th>273</th>\n",
       "      <td>NC_000962.3</td>\n",
       "      <td>2051</td>\n",
       "      <td>3260</td>\n",
       "      <td>+</td>\n",
       "      <td>Rv0002</td>\n",
       "      <td>dnaN</td>\n",
       "      <td>NotExcluded</td>\n",
       "      <td>None</td>\n",
       "      <td>information pathways</td>\n",
       "      <td>0</td>\n",
       "      <td>1209</td>\n",
       "    </tr>\n",
       "    <tr>\n",
       "      <th>274</th>\n",
       "      <td>NC_000962.3</td>\n",
       "      <td>3260</td>\n",
       "      <td>3279</td>\n",
       "      <td>NaN</td>\n",
       "      <td>IntergenicRegion_2_Rv0002-Rv0003</td>\n",
       "      <td>NaN</td>\n",
       "      <td>Intergenic</td>\n",
       "      <td>NaN</td>\n",
       "      <td>Intergenic</td>\n",
       "      <td>0</td>\n",
       "      <td>19</td>\n",
       "    </tr>\n",
       "    <tr>\n",
       "      <th>275</th>\n",
       "      <td>NC_000962.3</td>\n",
       "      <td>3279</td>\n",
       "      <td>4437</td>\n",
       "      <td>+</td>\n",
       "      <td>Rv0003</td>\n",
       "      <td>recF</td>\n",
       "      <td>NotExcluded</td>\n",
       "      <td>None</td>\n",
       "      <td>information pathways</td>\n",
       "      <td>0</td>\n",
       "      <td>1158</td>\n",
       "    </tr>\n",
       "  </tbody>\n",
       "</table>\n",
       "</div>"
      ],
      "text/plain": [
       "           Chrom  Start   End Strand                      H37rv_GeneID Symbol ExcludedGroup_Category PEandPPE_Subfamily   Functional_Category  FP_Count  Length\n",
       "271  NC_000962.3      0  1524      +                            Rv0001   dnaA            NotExcluded               None  information pathways         0    1524\n",
       "272  NC_000962.3   1524  2051    NaN  IntergenicRegion_1_Rv0001-Rv0002    NaN             Intergenic                NaN            Intergenic         0     527\n",
       "273  NC_000962.3   2051  3260      +                            Rv0002   dnaN            NotExcluded               None  information pathways         0    1209\n",
       "274  NC_000962.3   3260  3279    NaN  IntergenicRegion_2_Rv0002-Rv0003    NaN             Intergenic                NaN            Intergenic         0      19\n",
       "275  NC_000962.3   3279  4437      +                            Rv0003   recF            NotExcluded               None  information pathways         0    1158"
      ]
     },
     "execution_count": 53,
     "metadata": {},
     "output_type": "execute_result"
    }
   ],
   "source": [
    "AllRegions_AnnoByFPs_FiltMQ30_DF = pd.read_csv(H37rv_AllRegions_AnnoBy_All_FPs_FiltMQ30_PATH, sep=\"\\t\", header=None)\n",
    "\n",
    "AllRegions_AnnoByFPs_FiltMQ30_DF.columns = ['Chrom', 'Start', 'End',\n",
    "                                    'Strand', 'H37rv_GeneID', 'Symbol',\n",
    "                                    'ExcludedGroup_Category', 'PEandPPE_Subfamily',\n",
    "                                    'Functional_Category', \"FP_Count\"] \n",
    "                                   \n",
    "AllRegions_AnnoByFPs_FiltMQ30_DF = AllRegions_AnnoByFPs_FiltMQ30_DF.sort_values(\"Start\")\n",
    "AllRegions_AnnoByFPs_FiltMQ30_DF[\"Length\"] = AllRegions_AnnoByFPs_FiltMQ30_DF[\"End\"] - AllRegions_AnnoByFPs_FiltMQ30_DF[\"Start\"]\n",
    "AllRegions_AnnoByFPs_FiltMQ30_DF.head()"
   ]
  },
  {
   "cell_type": "code",
   "execution_count": 54,
   "metadata": {},
   "outputs": [
    {
     "data": {
      "text/plain": [
       "4427939"
      ]
     },
     "execution_count": 54,
     "metadata": {},
     "output_type": "execute_result"
    }
   ],
   "source": [
    "AllRegions_AnnoByFPs_FiltMQ30_DF[\"Length\"].sum()"
   ]
  },
  {
   "cell_type": "code",
   "execution_count": 55,
   "metadata": {},
   "outputs": [
    {
     "data": {
      "text/html": [
       "<div>\n",
       "<style scoped>\n",
       "    .dataframe tbody tr th:only-of-type {\n",
       "        vertical-align: middle;\n",
       "    }\n",
       "\n",
       "    .dataframe tbody tr th {\n",
       "        vertical-align: top;\n",
       "    }\n",
       "\n",
       "    .dataframe thead th {\n",
       "        text-align: right;\n",
       "    }\n",
       "</style>\n",
       "<table border=\"1\" class=\"dataframe\">\n",
       "  <thead>\n",
       "    <tr style=\"text-align: right;\">\n",
       "      <th></th>\n",
       "      <th>Chrom</th>\n",
       "      <th>Start</th>\n",
       "      <th>End</th>\n",
       "      <th>Strand</th>\n",
       "      <th>H37rv_GeneID</th>\n",
       "      <th>Symbol</th>\n",
       "      <th>ExcludedGroup_Category</th>\n",
       "      <th>PEandPPE_Subfamily</th>\n",
       "      <th>Functional_Category</th>\n",
       "      <th>FP_Count</th>\n",
       "      <th>Length</th>\n",
       "    </tr>\n",
       "  </thead>\n",
       "  <tbody>\n",
       "    <tr>\n",
       "      <th>271</th>\n",
       "      <td>NC_000962.3</td>\n",
       "      <td>0</td>\n",
       "      <td>1524</td>\n",
       "      <td>+</td>\n",
       "      <td>Rv0001</td>\n",
       "      <td>dnaA</td>\n",
       "      <td>NotExcluded</td>\n",
       "      <td>None</td>\n",
       "      <td>information pathways</td>\n",
       "      <td>0</td>\n",
       "      <td>1524</td>\n",
       "    </tr>\n",
       "  </tbody>\n",
       "</table>\n",
       "</div>"
      ],
      "text/plain": [
       "           Chrom  Start   End Strand H37rv_GeneID Symbol ExcludedGroup_Category PEandPPE_Subfamily   Functional_Category  FP_Count  Length\n",
       "271  NC_000962.3      0  1524      +       Rv0001   dnaA            NotExcluded               None  information pathways         0    1524"
      ]
     },
     "execution_count": 55,
     "metadata": {},
     "output_type": "execute_result"
    }
   ],
   "source": [
    "AllRegions_AnnoByFPs_FiltMQ30_DF.query(\"Symbol == 'dnaA' \")"
   ]
  },
  {
   "cell_type": "code",
   "execution_count": null,
   "metadata": {},
   "outputs": [],
   "source": []
  },
  {
   "cell_type": "code",
   "execution_count": null,
   "metadata": {},
   "outputs": [],
   "source": []
  },
  {
   "cell_type": "code",
   "execution_count": 56,
   "metadata": {},
   "outputs": [
    {
     "data": {
      "text/html": [
       "<div>\n",
       "<style scoped>\n",
       "    .dataframe tbody tr th:only-of-type {\n",
       "        vertical-align: middle;\n",
       "    }\n",
       "\n",
       "    .dataframe tbody tr th {\n",
       "        vertical-align: top;\n",
       "    }\n",
       "\n",
       "    .dataframe thead th {\n",
       "        text-align: right;\n",
       "    }\n",
       "</style>\n",
       "<table border=\"1\" class=\"dataframe\">\n",
       "  <thead>\n",
       "    <tr style=\"text-align: right;\">\n",
       "      <th></th>\n",
       "      <th>Chrom</th>\n",
       "      <th>Start</th>\n",
       "      <th>End</th>\n",
       "      <th>Strand</th>\n",
       "      <th>H37rv_GeneID</th>\n",
       "      <th>Symbol</th>\n",
       "      <th>ExcludedGroup_Category</th>\n",
       "      <th>PEandPPE_Subfamily</th>\n",
       "      <th>Functional_Category</th>\n",
       "      <th>FP_Count</th>\n",
       "      <th>Length</th>\n",
       "    </tr>\n",
       "  </thead>\n",
       "  <tbody>\n",
       "    <tr>\n",
       "      <th>6286</th>\n",
       "      <td>NC_000962.3</td>\n",
       "      <td>3845970</td>\n",
       "      <td>3847164</td>\n",
       "      <td>NaN</td>\n",
       "      <td>IntergenicRegion_2683_Rv3428c-Rv3429</td>\n",
       "      <td>NaN</td>\n",
       "      <td>Intergenic</td>\n",
       "      <td>NaN</td>\n",
       "      <td>Intergenic</td>\n",
       "      <td>142</td>\n",
       "      <td>1194</td>\n",
       "    </tr>\n",
       "    <tr>\n",
       "      <th>2840</th>\n",
       "      <td>NC_000962.3</td>\n",
       "      <td>1636003</td>\n",
       "      <td>1638229</td>\n",
       "      <td>-</td>\n",
       "      <td>Rv1452c</td>\n",
       "      <td>PE_PGRS28</td>\n",
       "      <td>PE/PPEs</td>\n",
       "      <td>PE_V_PGRS</td>\n",
       "      <td>PE/PPE</td>\n",
       "      <td>59</td>\n",
       "      <td>2226</td>\n",
       "    </tr>\n",
       "    <tr>\n",
       "      <th>3645</th>\n",
       "      <td>NC_000962.3</td>\n",
       "      <td>2162931</td>\n",
       "      <td>2167311</td>\n",
       "      <td>-</td>\n",
       "      <td>Rv1917c</td>\n",
       "      <td>PPE34</td>\n",
       "      <td>PE/PPEs</td>\n",
       "      <td>PPE_SL-5_PPE-MPTR</td>\n",
       "      <td>PE/PPE</td>\n",
       "      <td>35</td>\n",
       "      <td>4380</td>\n",
       "    </tr>\n",
       "    <tr>\n",
       "      <th>138</th>\n",
       "      <td>NC_000962.3</td>\n",
       "      <td>1981613</td>\n",
       "      <td>1984775</td>\n",
       "      <td>-</td>\n",
       "      <td>Rv1753c</td>\n",
       "      <td>PPE24</td>\n",
       "      <td>PE/PPEs</td>\n",
       "      <td>PPE_SL-5_PPE-MPTR</td>\n",
       "      <td>PE/PPE</td>\n",
       "      <td>24</td>\n",
       "      <td>3162</td>\n",
       "    </tr>\n",
       "    <tr>\n",
       "      <th>6428</th>\n",
       "      <td>NC_000962.3</td>\n",
       "      <td>3941723</td>\n",
       "      <td>3944963</td>\n",
       "      <td>+</td>\n",
       "      <td>Rv3512</td>\n",
       "      <td>PE_PGRS56</td>\n",
       "      <td>PE/PPEs</td>\n",
       "      <td>PE_V_PGRS</td>\n",
       "      <td>PE/PPE</td>\n",
       "      <td>16</td>\n",
       "      <td>3240</td>\n",
       "    </tr>\n",
       "    <tr>\n",
       "      <th>5393</th>\n",
       "      <td>NC_000962.3</td>\n",
       "      <td>3232506</td>\n",
       "      <td>3232870</td>\n",
       "      <td>NaN</td>\n",
       "      <td>IntergenicRegion_2285_Rv2920c-Rv2921c</td>\n",
       "      <td>NaN</td>\n",
       "      <td>Intergenic</td>\n",
       "      <td>NaN</td>\n",
       "      <td>Intergenic</td>\n",
       "      <td>16</td>\n",
       "      <td>364</td>\n",
       "    </tr>\n",
       "    <tr>\n",
       "      <th>30</th>\n",
       "      <td>NC_000962.3</td>\n",
       "      <td>3931004</td>\n",
       "      <td>3936710</td>\n",
       "      <td>+</td>\n",
       "      <td>Rv3508</td>\n",
       "      <td>PE_PGRS54</td>\n",
       "      <td>PE/PPEs</td>\n",
       "      <td>PE_V_PGRS</td>\n",
       "      <td>PE/PPE</td>\n",
       "      <td>16</td>\n",
       "      <td>5706</td>\n",
       "    </tr>\n",
       "    <tr>\n",
       "      <th>5574</th>\n",
       "      <td>NC_000962.3</td>\n",
       "      <td>3379375</td>\n",
       "      <td>3380452</td>\n",
       "      <td>-</td>\n",
       "      <td>Rv3021c</td>\n",
       "      <td>PPE47</td>\n",
       "      <td>PE/PPEs</td>\n",
       "      <td>None</td>\n",
       "      <td>PE/PPE</td>\n",
       "      <td>14</td>\n",
       "      <td>1077</td>\n",
       "    </tr>\n",
       "    <tr>\n",
       "      <th>186</th>\n",
       "      <td>NC_000962.3</td>\n",
       "      <td>2867123</td>\n",
       "      <td>2867786</td>\n",
       "      <td>+</td>\n",
       "      <td>Rv2544</td>\n",
       "      <td>lppB</td>\n",
       "      <td>Coscolla Repetitive Genes</td>\n",
       "      <td>None</td>\n",
       "      <td>cell wall and cell processes</td>\n",
       "      <td>14</td>\n",
       "      <td>663</td>\n",
       "    </tr>\n",
       "    <tr>\n",
       "      <th>245</th>\n",
       "      <td>NC_000962.3</td>\n",
       "      <td>3945793</td>\n",
       "      <td>3950263</td>\n",
       "      <td>+</td>\n",
       "      <td>Rv3514</td>\n",
       "      <td>PE_PGRS57</td>\n",
       "      <td>PE/PPEs</td>\n",
       "      <td>PE_V_PGRS</td>\n",
       "      <td>PE/PPE</td>\n",
       "      <td>14</td>\n",
       "      <td>4470</td>\n",
       "    </tr>\n",
       "    <tr>\n",
       "      <th>3486</th>\n",
       "      <td>NC_000962.3</td>\n",
       "      <td>2074437</td>\n",
       "      <td>2074840</td>\n",
       "      <td>NaN</td>\n",
       "      <td>IntergenicRegion_1445_Rv1829-Rv1830</td>\n",
       "      <td>NaN</td>\n",
       "      <td>Intergenic</td>\n",
       "      <td>NaN</td>\n",
       "      <td>Intergenic</td>\n",
       "      <td>13</td>\n",
       "      <td>403</td>\n",
       "    </tr>\n",
       "    <tr>\n",
       "      <th>6427</th>\n",
       "      <td>NC_000962.3</td>\n",
       "      <td>3939616</td>\n",
       "      <td>3941761</td>\n",
       "      <td>+</td>\n",
       "      <td>Rv3511</td>\n",
       "      <td>PE_PGRS55</td>\n",
       "      <td>PE/PPEs</td>\n",
       "      <td>PE_V_PGRS</td>\n",
       "      <td>PE/PPE</td>\n",
       "      <td>12</td>\n",
       "      <td>2145</td>\n",
       "    </tr>\n",
       "    <tr>\n",
       "      <th>4235</th>\n",
       "      <td>NC_000962.3</td>\n",
       "      <td>2531897</td>\n",
       "      <td>2532244</td>\n",
       "      <td>NaN</td>\n",
       "      <td>IntergenicRegion_1776_Rv2258c-Rv2259</td>\n",
       "      <td>NaN</td>\n",
       "      <td>Intergenic</td>\n",
       "      <td>NaN</td>\n",
       "      <td>Intergenic</td>\n",
       "      <td>10</td>\n",
       "      <td>347</td>\n",
       "    </tr>\n",
       "    <tr>\n",
       "      <th>6917</th>\n",
       "      <td>NC_000962.3</td>\n",
       "      <td>4231319</td>\n",
       "      <td>4232393</td>\n",
       "      <td>+</td>\n",
       "      <td>Rv3785</td>\n",
       "      <td>Rv3785</td>\n",
       "      <td>NotExcluded</td>\n",
       "      <td>None</td>\n",
       "      <td>conserved hypotheticals</td>\n",
       "      <td>9</td>\n",
       "      <td>1074</td>\n",
       "    </tr>\n",
       "    <tr>\n",
       "      <th>1580</th>\n",
       "      <td>NC_000962.3</td>\n",
       "      <td>832980</td>\n",
       "      <td>833508</td>\n",
       "      <td>+</td>\n",
       "      <td>Rv0742</td>\n",
       "      <td>PE_PGRS8</td>\n",
       "      <td>PE/PPEs</td>\n",
       "      <td>PE_V_PGRS</td>\n",
       "      <td>PE/PPE</td>\n",
       "      <td>8</td>\n",
       "      <td>528</td>\n",
       "    </tr>\n",
       "    <tr>\n",
       "      <th>6711</th>\n",
       "      <td>NC_000962.3</td>\n",
       "      <td>4120955</td>\n",
       "      <td>4121197</td>\n",
       "      <td>NaN</td>\n",
       "      <td>IntergenicRegion_2870_Rv3680-Rv3681c</td>\n",
       "      <td>NaN</td>\n",
       "      <td>Intergenic</td>\n",
       "      <td>NaN</td>\n",
       "      <td>Intergenic</td>\n",
       "      <td>8</td>\n",
       "      <td>242</td>\n",
       "    </tr>\n",
       "    <tr>\n",
       "      <th>235</th>\n",
       "      <td>NC_000962.3</td>\n",
       "      <td>3743710</td>\n",
       "      <td>3753184</td>\n",
       "      <td>-</td>\n",
       "      <td>Rv3347c</td>\n",
       "      <td>PPE55</td>\n",
       "      <td>PE/PPEs</td>\n",
       "      <td>PPE_SL-5_PPE-MPTR</td>\n",
       "      <td>PE/PPE</td>\n",
       "      <td>8</td>\n",
       "      <td>9474</td>\n",
       "    </tr>\n",
       "    <tr>\n",
       "      <th>1137</th>\n",
       "      <td>NC_000962.3</td>\n",
       "      <td>580581</td>\n",
       "      <td>580808</td>\n",
       "      <td>NaN</td>\n",
       "      <td>IntergenicRegion_396_Rv0490-Rv0491</td>\n",
       "      <td>NaN</td>\n",
       "      <td>Intergenic</td>\n",
       "      <td>NaN</td>\n",
       "      <td>Intergenic</td>\n",
       "      <td>7</td>\n",
       "      <td>227</td>\n",
       "    </tr>\n",
       "    <tr>\n",
       "      <th>6589</th>\n",
       "      <td>NC_000962.3</td>\n",
       "      <td>4052949</td>\n",
       "      <td>4053603</td>\n",
       "      <td>+</td>\n",
       "      <td>Rv3611</td>\n",
       "      <td>Rv3611</td>\n",
       "      <td>Coscolla Repetitive Genes</td>\n",
       "      <td>None</td>\n",
       "      <td>conserved hypotheticals</td>\n",
       "      <td>7</td>\n",
       "      <td>654</td>\n",
       "    </tr>\n",
       "    <tr>\n",
       "      <th>3052</th>\n",
       "      <td>NC_000962.3</td>\n",
       "      <td>1779313</td>\n",
       "      <td>1779724</td>\n",
       "      <td>+</td>\n",
       "      <td>Rv1573</td>\n",
       "      <td>Rv1573</td>\n",
       "      <td>InsertionSeqs_And_Phages</td>\n",
       "      <td>None</td>\n",
       "      <td>insertion seqs and phages</td>\n",
       "      <td>7</td>\n",
       "      <td>411</td>\n",
       "    </tr>\n",
       "    <tr>\n",
       "      <th>97</th>\n",
       "      <td>NC_000962.3</td>\n",
       "      <td>1211559</td>\n",
       "      <td>1213863</td>\n",
       "      <td>+</td>\n",
       "      <td>Rv1087</td>\n",
       "      <td>PE_PGRS21</td>\n",
       "      <td>PE/PPEs</td>\n",
       "      <td>PE_V_PGRS</td>\n",
       "      <td>PE/PPE</td>\n",
       "      <td>6</td>\n",
       "      <td>2304</td>\n",
       "    </tr>\n",
       "    <tr>\n",
       "      <th>3058</th>\n",
       "      <td>NC_000962.3</td>\n",
       "      <td>1782071</td>\n",
       "      <td>1782584</td>\n",
       "      <td>-</td>\n",
       "      <td>Rv1577c</td>\n",
       "      <td>Rv1577c</td>\n",
       "      <td>InsertionSeqs_And_Phages</td>\n",
       "      <td>None</td>\n",
       "      <td>insertion seqs and phages</td>\n",
       "      <td>6</td>\n",
       "      <td>513</td>\n",
       "    </tr>\n",
       "    <tr>\n",
       "      <th>807</th>\n",
       "      <td>NC_000962.3</td>\n",
       "      <td>366149</td>\n",
       "      <td>372764</td>\n",
       "      <td>-</td>\n",
       "      <td>Rv0304c</td>\n",
       "      <td>PPE5</td>\n",
       "      <td>PE/PPEs</td>\n",
       "      <td>None</td>\n",
       "      <td>PE/PPE</td>\n",
       "      <td>6</td>\n",
       "      <td>6615</td>\n",
       "    </tr>\n",
       "    <tr>\n",
       "      <th>1588</th>\n",
       "      <td>NC_000962.3</td>\n",
       "      <td>838450</td>\n",
       "      <td>840856</td>\n",
       "      <td>+</td>\n",
       "      <td>Rv0747</td>\n",
       "      <td>PE_PGRS10</td>\n",
       "      <td>PE/PPEs</td>\n",
       "      <td>PE_V_PGRS</td>\n",
       "      <td>PE/PPE</td>\n",
       "      <td>6</td>\n",
       "      <td>2406</td>\n",
       "    </tr>\n",
       "    <tr>\n",
       "      <th>1586</th>\n",
       "      <td>NC_000962.3</td>\n",
       "      <td>835700</td>\n",
       "      <td>838052</td>\n",
       "      <td>+</td>\n",
       "      <td>Rv0746</td>\n",
       "      <td>PE_PGRS9</td>\n",
       "      <td>PE/PPEs</td>\n",
       "      <td>PE_V_PGRS</td>\n",
       "      <td>PE/PPE</td>\n",
       "      <td>5</td>\n",
       "      <td>2352</td>\n",
       "    </tr>\n",
       "    <tr>\n",
       "      <th>6421</th>\n",
       "      <td>NC_000962.3</td>\n",
       "      <td>3926568</td>\n",
       "      <td>3930714</td>\n",
       "      <td>+</td>\n",
       "      <td>Rv3507</td>\n",
       "      <td>PE_PGRS53</td>\n",
       "      <td>PE/PPEs</td>\n",
       "      <td>PE_V_PGRS</td>\n",
       "      <td>PE/PPE</td>\n",
       "      <td>5</td>\n",
       "      <td>4146</td>\n",
       "    </tr>\n",
       "    <tr>\n",
       "      <th>3070</th>\n",
       "      <td>NC_000962.3</td>\n",
       "      <td>1786583</td>\n",
       "      <td>1787099</td>\n",
       "      <td>-</td>\n",
       "      <td>Rv1585c</td>\n",
       "      <td>Rv1585c</td>\n",
       "      <td>InsertionSeqs_And_Phages</td>\n",
       "      <td>None</td>\n",
       "      <td>insertion seqs and phages</td>\n",
       "      <td>5</td>\n",
       "      <td>516</td>\n",
       "    </tr>\n",
       "    <tr>\n",
       "      <th>3053</th>\n",
       "      <td>NC_000962.3</td>\n",
       "      <td>1779724</td>\n",
       "      <td>1779929</td>\n",
       "      <td>NaN</td>\n",
       "      <td>IntergenicRegion_1254_Rv1573-Rv1574</td>\n",
       "      <td>NaN</td>\n",
       "      <td>Intergenic</td>\n",
       "      <td>NaN</td>\n",
       "      <td>Intergenic</td>\n",
       "      <td>4</td>\n",
       "      <td>205</td>\n",
       "    </tr>\n",
       "    <tr>\n",
       "      <th>2821</th>\n",
       "      <td>NC_000962.3</td>\n",
       "      <td>1618208</td>\n",
       "      <td>1619684</td>\n",
       "      <td>-</td>\n",
       "      <td>Rv1441c</td>\n",
       "      <td>PE_PGRS26</td>\n",
       "      <td>PE/PPEs</td>\n",
       "      <td>PE_V_PGRS</td>\n",
       "      <td>PE/PPE</td>\n",
       "      <td>4</td>\n",
       "      <td>1476</td>\n",
       "    </tr>\n",
       "    <tr>\n",
       "      <th>767</th>\n",
       "      <td>NC_000962.3</td>\n",
       "      <td>333436</td>\n",
       "      <td>336310</td>\n",
       "      <td>-</td>\n",
       "      <td>Rv0278c</td>\n",
       "      <td>PE_PGRS3</td>\n",
       "      <td>PE/PPEs</td>\n",
       "      <td>PE_V_PGRS</td>\n",
       "      <td>PE/PPE</td>\n",
       "      <td>4</td>\n",
       "      <td>2874</td>\n",
       "    </tr>\n",
       "  </tbody>\n",
       "</table>\n",
       "</div>"
      ],
      "text/plain": [
       "            Chrom    Start      End Strand                           H37rv_GeneID     Symbol     ExcludedGroup_Category PEandPPE_Subfamily           Functional_Category  FP_Count  Length\n",
       "6286  NC_000962.3  3845970  3847164    NaN   IntergenicRegion_2683_Rv3428c-Rv3429        NaN                 Intergenic                NaN                    Intergenic       142    1194\n",
       "2840  NC_000962.3  1636003  1638229      -                                Rv1452c  PE_PGRS28                    PE/PPEs          PE_V_PGRS                        PE/PPE        59    2226\n",
       "3645  NC_000962.3  2162931  2167311      -                                Rv1917c      PPE34                    PE/PPEs  PPE_SL-5_PPE-MPTR                        PE/PPE        35    4380\n",
       "138   NC_000962.3  1981613  1984775      -                                Rv1753c      PPE24                    PE/PPEs  PPE_SL-5_PPE-MPTR                        PE/PPE        24    3162\n",
       "6428  NC_000962.3  3941723  3944963      +                                 Rv3512  PE_PGRS56                    PE/PPEs          PE_V_PGRS                        PE/PPE        16    3240\n",
       "5393  NC_000962.3  3232506  3232870    NaN  IntergenicRegion_2285_Rv2920c-Rv2921c        NaN                 Intergenic                NaN                    Intergenic        16     364\n",
       "30    NC_000962.3  3931004  3936710      +                                 Rv3508  PE_PGRS54                    PE/PPEs          PE_V_PGRS                        PE/PPE        16    5706\n",
       "5574  NC_000962.3  3379375  3380452      -                                Rv3021c      PPE47                    PE/PPEs               None                        PE/PPE        14    1077\n",
       "186   NC_000962.3  2867123  2867786      +                                 Rv2544       lppB  Coscolla Repetitive Genes               None  cell wall and cell processes        14     663\n",
       "245   NC_000962.3  3945793  3950263      +                                 Rv3514  PE_PGRS57                    PE/PPEs          PE_V_PGRS                        PE/PPE        14    4470\n",
       "3486  NC_000962.3  2074437  2074840    NaN    IntergenicRegion_1445_Rv1829-Rv1830        NaN                 Intergenic                NaN                    Intergenic        13     403\n",
       "6427  NC_000962.3  3939616  3941761      +                                 Rv3511  PE_PGRS55                    PE/PPEs          PE_V_PGRS                        PE/PPE        12    2145\n",
       "4235  NC_000962.3  2531897  2532244    NaN   IntergenicRegion_1776_Rv2258c-Rv2259        NaN                 Intergenic                NaN                    Intergenic        10     347\n",
       "6917  NC_000962.3  4231319  4232393      +                                 Rv3785     Rv3785                NotExcluded               None       conserved hypotheticals         9    1074\n",
       "1580  NC_000962.3   832980   833508      +                                 Rv0742   PE_PGRS8                    PE/PPEs          PE_V_PGRS                        PE/PPE         8     528\n",
       "6711  NC_000962.3  4120955  4121197    NaN   IntergenicRegion_2870_Rv3680-Rv3681c        NaN                 Intergenic                NaN                    Intergenic         8     242\n",
       "235   NC_000962.3  3743710  3753184      -                                Rv3347c      PPE55                    PE/PPEs  PPE_SL-5_PPE-MPTR                        PE/PPE         8    9474\n",
       "1137  NC_000962.3   580581   580808    NaN     IntergenicRegion_396_Rv0490-Rv0491        NaN                 Intergenic                NaN                    Intergenic         7     227\n",
       "6589  NC_000962.3  4052949  4053603      +                                 Rv3611     Rv3611  Coscolla Repetitive Genes               None       conserved hypotheticals         7     654\n",
       "3052  NC_000962.3  1779313  1779724      +                                 Rv1573     Rv1573   InsertionSeqs_And_Phages               None     insertion seqs and phages         7     411\n",
       "97    NC_000962.3  1211559  1213863      +                                 Rv1087  PE_PGRS21                    PE/PPEs          PE_V_PGRS                        PE/PPE         6    2304\n",
       "3058  NC_000962.3  1782071  1782584      -                                Rv1577c    Rv1577c   InsertionSeqs_And_Phages               None     insertion seqs and phages         6     513\n",
       "807   NC_000962.3   366149   372764      -                                Rv0304c       PPE5                    PE/PPEs               None                        PE/PPE         6    6615\n",
       "1588  NC_000962.3   838450   840856      +                                 Rv0747  PE_PGRS10                    PE/PPEs          PE_V_PGRS                        PE/PPE         6    2406\n",
       "1586  NC_000962.3   835700   838052      +                                 Rv0746   PE_PGRS9                    PE/PPEs          PE_V_PGRS                        PE/PPE         5    2352\n",
       "6421  NC_000962.3  3926568  3930714      +                                 Rv3507  PE_PGRS53                    PE/PPEs          PE_V_PGRS                        PE/PPE         5    4146\n",
       "3070  NC_000962.3  1786583  1787099      -                                Rv1585c    Rv1585c   InsertionSeqs_And_Phages               None     insertion seqs and phages         5     516\n",
       "3053  NC_000962.3  1779724  1779929    NaN    IntergenicRegion_1254_Rv1573-Rv1574        NaN                 Intergenic                NaN                    Intergenic         4     205\n",
       "2821  NC_000962.3  1618208  1619684      -                                Rv1441c  PE_PGRS26                    PE/PPEs          PE_V_PGRS                        PE/PPE         4    1476\n",
       "767   NC_000962.3   333436   336310      -                                Rv0278c   PE_PGRS3                    PE/PPEs          PE_V_PGRS                        PE/PPE         4    2874"
      ]
     },
     "execution_count": 56,
     "metadata": {},
     "output_type": "execute_result"
    }
   ],
   "source": [
    "AllRegions_AnnoByFPs_FiltMQ30_DF.sort_values(\"FP_Count\", ascending=False).head(30)"
   ]
  },
  {
   "cell_type": "code",
   "execution_count": 57,
   "metadata": {},
   "outputs": [
    {
     "data": {
      "text/plain": [
       "(7151, 11)"
      ]
     },
     "execution_count": 57,
     "metadata": {},
     "output_type": "execute_result"
    }
   ],
   "source": [
    "AllRegions_AnnoByFPs_FiltMQ30_DF.shape"
   ]
  },
  {
   "cell_type": "code",
   "execution_count": null,
   "metadata": {},
   "outputs": [],
   "source": []
  },
  {
   "cell_type": "code",
   "execution_count": 58,
   "metadata": {},
   "outputs": [
    {
     "data": {
      "text/plain": [
       "439"
      ]
     },
     "execution_count": 58,
     "metadata": {},
     "output_type": "execute_result"
    }
   ],
   "source": [
    "AllRegions_AnnoByFPs_FiltMQ30_DF.sort_values(\"FP_Count\", ascending=False).head(20)[\"FP_Count\"].sum()"
   ]
  },
  {
   "cell_type": "code",
   "execution_count": 59,
   "metadata": {},
   "outputs": [
    {
     "data": {
      "text/plain": [
       "0.801094890510949"
      ]
     },
     "execution_count": 59,
     "metadata": {},
     "output_type": "execute_result"
    }
   ],
   "source": [
    "AllRegions_AnnoByFPs_FiltMQ30_DF.sort_values(\"FP_Count\", ascending=False).head(20)[\"FP_Count\"].sum() / AllRegions_AnnoByFPs_FiltMQ30_DF[\"FP_Count\"].sum()   \n"
   ]
  },
  {
   "cell_type": "code",
   "execution_count": 60,
   "metadata": {},
   "outputs": [
    {
     "data": {
      "text/plain": [
       "0.8941605839416058"
      ]
     },
     "execution_count": 60,
     "metadata": {},
     "output_type": "execute_result"
    }
   ],
   "source": [
    "AllRegions_AnnoByFPs_FiltMQ30_DF.sort_values(\"FP_Count\", ascending=False).head(30)[\"FP_Count\"].sum() / AllRegions_AnnoByFPs_FiltMQ30_DF[\"FP_Count\"].sum()"
   ]
  },
  {
   "cell_type": "code",
   "execution_count": 61,
   "metadata": {},
   "outputs": [
    {
     "data": {
      "text/plain": [
       "0.9452554744525548"
      ]
     },
     "execution_count": 61,
     "metadata": {},
     "output_type": "execute_result"
    }
   ],
   "source": [
    "AllRegions_AnnoByFPs_FiltMQ30_DF.sort_values(\"FP_Count\", ascending=False).head(40)[\"FP_Count\"].sum() / AllRegions_AnnoByFPs_FiltMQ30_DF[\"FP_Count\"].sum()\n"
   ]
  },
  {
   "cell_type": "code",
   "execution_count": null,
   "metadata": {},
   "outputs": [],
   "source": []
  },
  {
   "cell_type": "code",
   "execution_count": null,
   "metadata": {},
   "outputs": [],
   "source": []
  },
  {
   "cell_type": "code",
   "execution_count": 62,
   "metadata": {},
   "outputs": [
    {
     "data": {
      "text/plain": [
       "41987"
      ]
     },
     "execution_count": 62,
     "metadata": {},
     "output_type": "execute_result"
    }
   ],
   "source": [
    "AllRegions_AnnoByFPs_FiltMQ30_DF.sort_values(\"FP_Count\", ascending=False).head(20)[\"Length\"].sum()"
   ]
  },
  {
   "cell_type": "code",
   "execution_count": 63,
   "metadata": {},
   "outputs": [
    {
     "data": {
      "text/plain": [
       "4427939"
      ]
     },
     "execution_count": 63,
     "metadata": {},
     "output_type": "execute_result"
    }
   ],
   "source": [
    "AllRegions_AnnoByFPs_FiltMQ30_DF.sort_values(\"FP_Count\", ascending=False)[\"Length\"].sum()"
   ]
  },
  {
   "cell_type": "code",
   "execution_count": 64,
   "metadata": {},
   "outputs": [
    {
     "data": {
      "text/html": [
       "<div>\n",
       "<style scoped>\n",
       "    .dataframe tbody tr th:only-of-type {\n",
       "        vertical-align: middle;\n",
       "    }\n",
       "\n",
       "    .dataframe tbody tr th {\n",
       "        vertical-align: top;\n",
       "    }\n",
       "\n",
       "    .dataframe thead th {\n",
       "        text-align: right;\n",
       "    }\n",
       "</style>\n",
       "<table border=\"1\" class=\"dataframe\">\n",
       "  <thead>\n",
       "    <tr style=\"text-align: right;\">\n",
       "      <th></th>\n",
       "      <th>Chrom</th>\n",
       "      <th>Start</th>\n",
       "      <th>End</th>\n",
       "      <th>Strand</th>\n",
       "      <th>H37rv_GeneID</th>\n",
       "      <th>Symbol</th>\n",
       "      <th>ExcludedGroup_Category</th>\n",
       "      <th>PEandPPE_Subfamily</th>\n",
       "      <th>Functional_Category</th>\n",
       "      <th>FP_Count</th>\n",
       "      <th>Length</th>\n",
       "    </tr>\n",
       "  </thead>\n",
       "  <tbody>\n",
       "    <tr>\n",
       "      <th>271</th>\n",
       "      <td>NC_000962.3</td>\n",
       "      <td>0</td>\n",
       "      <td>1524</td>\n",
       "      <td>+</td>\n",
       "      <td>Rv0001</td>\n",
       "      <td>dnaA</td>\n",
       "      <td>NotExcluded</td>\n",
       "      <td>None</td>\n",
       "      <td>information pathways</td>\n",
       "      <td>0</td>\n",
       "      <td>1524</td>\n",
       "    </tr>\n",
       "    <tr>\n",
       "      <th>272</th>\n",
       "      <td>NC_000962.3</td>\n",
       "      <td>1524</td>\n",
       "      <td>2051</td>\n",
       "      <td>NaN</td>\n",
       "      <td>IntergenicRegion_1_Rv0001-Rv0002</td>\n",
       "      <td>NaN</td>\n",
       "      <td>Intergenic</td>\n",
       "      <td>NaN</td>\n",
       "      <td>Intergenic</td>\n",
       "      <td>0</td>\n",
       "      <td>527</td>\n",
       "    </tr>\n",
       "    <tr>\n",
       "      <th>273</th>\n",
       "      <td>NC_000962.3</td>\n",
       "      <td>2051</td>\n",
       "      <td>3260</td>\n",
       "      <td>+</td>\n",
       "      <td>Rv0002</td>\n",
       "      <td>dnaN</td>\n",
       "      <td>NotExcluded</td>\n",
       "      <td>None</td>\n",
       "      <td>information pathways</td>\n",
       "      <td>0</td>\n",
       "      <td>1209</td>\n",
       "    </tr>\n",
       "  </tbody>\n",
       "</table>\n",
       "</div>"
      ],
      "text/plain": [
       "           Chrom  Start   End Strand                      H37rv_GeneID Symbol ExcludedGroup_Category PEandPPE_Subfamily   Functional_Category  FP_Count  Length\n",
       "271  NC_000962.3      0  1524      +                            Rv0001   dnaA            NotExcluded               None  information pathways         0    1524\n",
       "272  NC_000962.3   1524  2051    NaN  IntergenicRegion_1_Rv0001-Rv0002    NaN             Intergenic                NaN            Intergenic         0     527\n",
       "273  NC_000962.3   2051  3260      +                            Rv0002   dnaN            NotExcluded               None  information pathways         0    1209"
      ]
     },
     "execution_count": 64,
     "metadata": {},
     "output_type": "execute_result"
    }
   ],
   "source": [
    "AllRegions_AnnoByFPs_FiltMQ30_DF.head(3)"
   ]
  },
  {
   "cell_type": "code",
   "execution_count": 65,
   "metadata": {},
   "outputs": [
    {
     "data": {
      "text/html": [
       "<div>\n",
       "<style scoped>\n",
       "    .dataframe tbody tr th:only-of-type {\n",
       "        vertical-align: middle;\n",
       "    }\n",
       "\n",
       "    .dataframe tbody tr th {\n",
       "        vertical-align: top;\n",
       "    }\n",
       "\n",
       "    .dataframe thead th {\n",
       "        text-align: right;\n",
       "    }\n",
       "</style>\n",
       "<table border=\"1\" class=\"dataframe\">\n",
       "  <thead>\n",
       "    <tr style=\"text-align: right;\">\n",
       "      <th></th>\n",
       "      <th>Chrom</th>\n",
       "      <th>Start</th>\n",
       "      <th>End</th>\n",
       "      <th>Strand</th>\n",
       "      <th>H37rv_GeneID</th>\n",
       "      <th>Symbol</th>\n",
       "      <th>ExcludedGroup_Category</th>\n",
       "      <th>PEandPPE_Subfamily</th>\n",
       "      <th>Functional_Category</th>\n",
       "      <th>FP_Count</th>\n",
       "      <th>Length</th>\n",
       "    </tr>\n",
       "  </thead>\n",
       "  <tbody>\n",
       "    <tr>\n",
       "      <th>7148</th>\n",
       "      <td>NC_000962.3</td>\n",
       "      <td>4410411</td>\n",
       "      <td>4410789</td>\n",
       "      <td>-</td>\n",
       "      <td>Rv3923c</td>\n",
       "      <td>rnpA</td>\n",
       "      <td>NotExcluded</td>\n",
       "      <td>None</td>\n",
       "      <td>information pathways</td>\n",
       "      <td>0</td>\n",
       "      <td>378</td>\n",
       "    </tr>\n",
       "    <tr>\n",
       "      <th>7149</th>\n",
       "      <td>NC_000962.3</td>\n",
       "      <td>4410785</td>\n",
       "      <td>4410929</td>\n",
       "      <td>-</td>\n",
       "      <td>Rv3924c</td>\n",
       "      <td>rpmH</td>\n",
       "      <td>NotExcluded</td>\n",
       "      <td>None</td>\n",
       "      <td>information pathways</td>\n",
       "      <td>0</td>\n",
       "      <td>144</td>\n",
       "    </tr>\n",
       "    <tr>\n",
       "      <th>7150</th>\n",
       "      <td>NC_000962.3</td>\n",
       "      <td>4410789</td>\n",
       "      <td>4411532</td>\n",
       "      <td>NaN</td>\n",
       "      <td>IntergenicRegion_3072_Rv3923c-Rv0001</td>\n",
       "      <td>NaN</td>\n",
       "      <td>Intergenic</td>\n",
       "      <td>NaN</td>\n",
       "      <td>Intergenic</td>\n",
       "      <td>0</td>\n",
       "      <td>743</td>\n",
       "    </tr>\n",
       "  </tbody>\n",
       "</table>\n",
       "</div>"
      ],
      "text/plain": [
       "            Chrom    Start      End Strand                          H37rv_GeneID Symbol ExcludedGroup_Category PEandPPE_Subfamily   Functional_Category  FP_Count  Length\n",
       "7148  NC_000962.3  4410411  4410789      -                               Rv3923c   rnpA            NotExcluded               None  information pathways         0     378\n",
       "7149  NC_000962.3  4410785  4410929      -                               Rv3924c   rpmH            NotExcluded               None  information pathways         0     144\n",
       "7150  NC_000962.3  4410789  4411532    NaN  IntergenicRegion_3072_Rv3923c-Rv0001    NaN             Intergenic                NaN            Intergenic         0     743"
      ]
     },
     "execution_count": 65,
     "metadata": {},
     "output_type": "execute_result"
    }
   ],
   "source": [
    "AllRegions_AnnoByFPs_FiltMQ30_DF.tail(3)"
   ]
  },
  {
   "cell_type": "code",
   "execution_count": null,
   "metadata": {},
   "outputs": [],
   "source": []
  },
  {
   "cell_type": "code",
   "execution_count": null,
   "metadata": {},
   "outputs": [],
   "source": []
  },
  {
   "cell_type": "code",
   "execution_count": null,
   "metadata": {},
   "outputs": [],
   "source": []
  },
  {
   "cell_type": "code",
   "execution_count": null,
   "metadata": {},
   "outputs": [],
   "source": []
  },
  {
   "cell_type": "code",
   "execution_count": 66,
   "metadata": {},
   "outputs": [
    {
     "data": {
      "text/html": [
       "<div>\n",
       "<style scoped>\n",
       "    .dataframe tbody tr th:only-of-type {\n",
       "        vertical-align: middle;\n",
       "    }\n",
       "\n",
       "    .dataframe tbody tr th {\n",
       "        vertical-align: top;\n",
       "    }\n",
       "\n",
       "    .dataframe thead th {\n",
       "        text-align: right;\n",
       "    }\n",
       "</style>\n",
       "<table border=\"1\" class=\"dataframe\">\n",
       "  <thead>\n",
       "    <tr style=\"text-align: right;\">\n",
       "      <th></th>\n",
       "      <th>Start</th>\n",
       "      <th>End</th>\n",
       "      <th>FP_Count</th>\n",
       "      <th>Length</th>\n",
       "    </tr>\n",
       "    <tr>\n",
       "      <th>ExcludedGroup_Category</th>\n",
       "      <th></th>\n",
       "      <th></th>\n",
       "      <th></th>\n",
       "      <th></th>\n",
       "    </tr>\n",
       "  </thead>\n",
       "  <tbody>\n",
       "    <tr>\n",
       "      <th>Coscolla Repetitive Genes</th>\n",
       "      <td>168204775</td>\n",
       "      <td>168285322</td>\n",
       "      <td>26</td>\n",
       "      <td>80547</td>\n",
       "    </tr>\n",
       "    <tr>\n",
       "      <th>InsertionSeqs_And_Phages</th>\n",
       "      <td>364622673</td>\n",
       "      <td>364731336</td>\n",
       "      <td>20</td>\n",
       "      <td>108663</td>\n",
       "    </tr>\n",
       "    <tr>\n",
       "      <th>Intergenic</th>\n",
       "      <td>6731198364</td>\n",
       "      <td>6731584086</td>\n",
       "      <td>217</td>\n",
       "      <td>385722</td>\n",
       "    </tr>\n",
       "    <tr>\n",
       "      <th>NotExcluded</th>\n",
       "      <td>8071642055</td>\n",
       "      <td>8075211718</td>\n",
       "      <td>14</td>\n",
       "      <td>3569663</td>\n",
       "    </tr>\n",
       "    <tr>\n",
       "      <th>PE/PPEs</th>\n",
       "      <td>375075922</td>\n",
       "      <td>375359266</td>\n",
       "      <td>271</td>\n",
       "      <td>283344</td>\n",
       "    </tr>\n",
       "  </tbody>\n",
       "</table>\n",
       "</div>"
      ],
      "text/plain": [
       "                                Start         End  FP_Count   Length\n",
       "ExcludedGroup_Category                                              \n",
       "Coscolla Repetitive Genes   168204775   168285322        26    80547\n",
       "InsertionSeqs_And_Phages    364622673   364731336        20   108663\n",
       "Intergenic                 6731198364  6731584086       217   385722\n",
       "NotExcluded                8071642055  8075211718        14  3569663\n",
       "PE/PPEs                     375075922   375359266       271   283344"
      ]
     },
     "execution_count": 66,
     "metadata": {},
     "output_type": "execute_result"
    }
   ],
   "source": [
    "AllRegions_AnnoByFPs_FiltMQ30_DF.groupby(\"ExcludedGroup_Category\").sum()"
   ]
  },
  {
   "cell_type": "code",
   "execution_count": 67,
   "metadata": {},
   "outputs": [
    {
     "data": {
      "text/plain": [
       "Start       15710743789\n",
       "End         15715171728\n",
       "FP_Count            548\n",
       "Length          4427939\n",
       "dtype: int64"
      ]
     },
     "execution_count": 67,
     "metadata": {},
     "output_type": "execute_result"
    }
   ],
   "source": [
    "AllRegions_AnnoByFPs_FiltMQ30_DF.groupby(\"ExcludedGroup_Category\").sum().sum()"
   ]
  },
  {
   "cell_type": "code",
   "execution_count": null,
   "metadata": {},
   "outputs": [],
   "source": []
  },
  {
   "cell_type": "code",
   "execution_count": null,
   "metadata": {},
   "outputs": [],
   "source": []
  },
  {
   "cell_type": "code",
   "execution_count": null,
   "metadata": {},
   "outputs": [],
   "source": []
  },
  {
   "cell_type": "markdown",
   "metadata": {},
   "source": [
    "# Outputting Supplementary tables for this analysis"
   ]
  },
  {
   "cell_type": "markdown",
   "metadata": {},
   "source": [
    "## Make output directory"
   ]
  },
  {
   "cell_type": "code",
   "execution_count": 68,
   "metadata": {},
   "outputs": [],
   "source": [
    "\n",
    "#FP_And_SV_DistributionAcrossH37Rv_Analysis_Dir = f\"{PB_Vs_Illumina_DataAnalysis_Dir}/201016_FP_TP_FN_And_SV_DistributionAcrossH37Rv_Analysis_V3_PB_MM2_GT\"\n",
    "#!mkdir $FP_And_SV_DistributionAcrossH37Rv_Analysis_Dir"
   ]
  },
  {
   "cell_type": "markdown",
   "metadata": {},
   "source": [
    "## A) FPs per region (gene + intergenic)"
   ]
  },
  {
   "cell_type": "code",
   "execution_count": 69,
   "metadata": {},
   "outputs": [],
   "source": [
    "AllRegions_AnnoBy_FPs_FiltMQ30_TSV = f\"{FalsePositive_Analysis_V2_Dir}/H37Rv_AllRegions_GeneAndIntergenic_NumberOf_FPs.FiltMQ30.tsv\"           "
   ]
  },
  {
   "cell_type": "code",
   "execution_count": 70,
   "metadata": {},
   "outputs": [],
   "source": [
    "AllRegions_AnnoByFPs_FiltMQ30_DF.to_csv(AllRegions_AnnoBy_FPs_FiltMQ30_TSV, sep = \"\\t\", index = False)         \n"
   ]
  },
  {
   "cell_type": "code",
   "execution_count": 71,
   "metadata": {},
   "outputs": [
    {
     "name": "stdout",
     "output_type": "stream",
     "text": [
      "Chrom\tStart\tEnd\tStrand\tH37rv_GeneID\tSymbol\tExcludedGroup_Category\tPEandPPE_Subfamily\tFunctional_Category\tFP_Count\tLength\n",
      "NC_000962.3\t0\t1524\t+\tRv0001\tdnaA\tNotExcluded\tNone\tinformation pathways\t0\t1524\n",
      "NC_000962.3\t1524\t2051\t\tIntergenicRegion_1_Rv0001-Rv0002\t\tIntergenic\t\tIntergenic\t0\t527\n",
      "NC_000962.3\t2051\t3260\t+\tRv0002\tdnaN\tNotExcluded\tNone\tinformation pathways\t0\t1209\n"
     ]
    }
   ],
   "source": [
    "!head -n 4 $AllRegions_AnnoBy_FPs_FiltMQ30_TSV"
   ]
  },
  {
   "cell_type": "code",
   "execution_count": 72,
   "metadata": {},
   "outputs": [
    {
     "data": {
      "text/html": [
       "<div>\n",
       "<style scoped>\n",
       "    .dataframe tbody tr th:only-of-type {\n",
       "        vertical-align: middle;\n",
       "    }\n",
       "\n",
       "    .dataframe tbody tr th {\n",
       "        vertical-align: top;\n",
       "    }\n",
       "\n",
       "    .dataframe thead th {\n",
       "        text-align: right;\n",
       "    }\n",
       "</style>\n",
       "<table border=\"1\" class=\"dataframe\">\n",
       "  <thead>\n",
       "    <tr style=\"text-align: right;\">\n",
       "      <th></th>\n",
       "      <th>Chrom</th>\n",
       "      <th>Start</th>\n",
       "      <th>End</th>\n",
       "      <th>Strand</th>\n",
       "      <th>H37rv_GeneID</th>\n",
       "      <th>Symbol</th>\n",
       "      <th>ExcludedGroup_Category</th>\n",
       "      <th>PEandPPE_Subfamily</th>\n",
       "      <th>Functional_Category</th>\n",
       "      <th>FP_Count</th>\n",
       "      <th>Length</th>\n",
       "    </tr>\n",
       "  </thead>\n",
       "  <tbody>\n",
       "    <tr>\n",
       "      <th>271</th>\n",
       "      <td>NC_000962.3</td>\n",
       "      <td>0</td>\n",
       "      <td>1524</td>\n",
       "      <td>+</td>\n",
       "      <td>Rv0001</td>\n",
       "      <td>dnaA</td>\n",
       "      <td>NotExcluded</td>\n",
       "      <td>None</td>\n",
       "      <td>information pathways</td>\n",
       "      <td>0</td>\n",
       "      <td>1524</td>\n",
       "    </tr>\n",
       "    <tr>\n",
       "      <th>272</th>\n",
       "      <td>NC_000962.3</td>\n",
       "      <td>1524</td>\n",
       "      <td>2051</td>\n",
       "      <td>NaN</td>\n",
       "      <td>IntergenicRegion_1_Rv0001-Rv0002</td>\n",
       "      <td>NaN</td>\n",
       "      <td>Intergenic</td>\n",
       "      <td>NaN</td>\n",
       "      <td>Intergenic</td>\n",
       "      <td>0</td>\n",
       "      <td>527</td>\n",
       "    </tr>\n",
       "    <tr>\n",
       "      <th>273</th>\n",
       "      <td>NC_000962.3</td>\n",
       "      <td>2051</td>\n",
       "      <td>3260</td>\n",
       "      <td>+</td>\n",
       "      <td>Rv0002</td>\n",
       "      <td>dnaN</td>\n",
       "      <td>NotExcluded</td>\n",
       "      <td>None</td>\n",
       "      <td>information pathways</td>\n",
       "      <td>0</td>\n",
       "      <td>1209</td>\n",
       "    </tr>\n",
       "  </tbody>\n",
       "</table>\n",
       "</div>"
      ],
      "text/plain": [
       "           Chrom  Start   End Strand                      H37rv_GeneID Symbol ExcludedGroup_Category PEandPPE_Subfamily   Functional_Category  FP_Count  Length\n",
       "271  NC_000962.3      0  1524      +                            Rv0001   dnaA            NotExcluded               None  information pathways         0    1524\n",
       "272  NC_000962.3   1524  2051    NaN  IntergenicRegion_1_Rv0001-Rv0002    NaN             Intergenic                NaN            Intergenic         0     527\n",
       "273  NC_000962.3   2051  3260      +                            Rv0002   dnaN            NotExcluded               None  information pathways         0    1209"
      ]
     },
     "execution_count": 72,
     "metadata": {},
     "output_type": "execute_result"
    }
   ],
   "source": [
    "AllRegions_AnnoByFPs_FiltMQ30_DF.head(3)"
   ]
  },
  {
   "cell_type": "code",
   "execution_count": null,
   "metadata": {},
   "outputs": [],
   "source": []
  },
  {
   "cell_type": "code",
   "execution_count": null,
   "metadata": {},
   "outputs": [],
   "source": []
  },
  {
   "cell_type": "code",
   "execution_count": null,
   "metadata": {},
   "outputs": [],
   "source": []
  },
  {
   "cell_type": "code",
   "execution_count": null,
   "metadata": {},
   "outputs": [],
   "source": []
  },
  {
   "cell_type": "code",
   "execution_count": null,
   "metadata": {},
   "outputs": [],
   "source": []
  }
 ],
 "metadata": {
  "kernelspec": {
   "display_name": "py37_S",
   "language": "python",
   "name": "py37_s"
  },
  "language_info": {
   "codemirror_mode": {
    "name": "ipython",
    "version": 3
   },
   "file_extension": ".py",
   "mimetype": "text/x-python",
   "name": "python",
   "nbconvert_exporter": "python",
   "pygments_lexer": "ipython3",
   "version": "3.7.3"
  }
 },
 "nbformat": 4,
 "nbformat_minor": 4
}
