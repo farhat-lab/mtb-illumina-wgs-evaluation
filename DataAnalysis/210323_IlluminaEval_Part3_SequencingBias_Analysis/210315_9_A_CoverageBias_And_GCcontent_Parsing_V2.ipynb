{
 "cells": [
  {
   "cell_type": "markdown",
   "metadata": {},
   "source": [
    "# Calculating relative coverage, and GC% across all 36 Mtb genome assemblies\n",
    "\n",
    "### Maximillian Marin\n",
    "### mgmarin@g.harvard.edu\n",
    "\n",
    "### Goal: Calculate 1) relative coverage and 2) GC% <br>\n",
    "\n",
    "Parsing this data will be used for any analysis of coverage bias across all 36 Mtb clinical isolates."
   ]
  },
  {
   "cell_type": "code",
   "execution_count": 2,
   "metadata": {},
   "outputs": [],
   "source": [
    "import numpy as np\n",
    "import pandas as pd\n",
    "import vcf\n",
    "from tqdm import tqdm\n",
    "import matplotlib.pyplot as plt\n",
    "import seaborn as sns\n",
    "import pickle\n",
    "\n",
    "%matplotlib inline"
   ]
  },
  {
   "cell_type": "code",
   "execution_count": 2,
   "metadata": {},
   "outputs": [],
   "source": [
    "from scipy.stats import spearmanr"
   ]
  },
  {
   "cell_type": "code",
   "execution_count": 3,
   "metadata": {},
   "outputs": [],
   "source": [
    "from Bio import SeqIO"
   ]
  },
  {
   "cell_type": "markdown",
   "metadata": {},
   "source": [
    "#### Pandas Viewing Settings"
   ]
  },
  {
   "cell_type": "code",
   "execution_count": 4,
   "metadata": {},
   "outputs": [],
   "source": [
    "pd.set_option('display.max_rows', 500)\n",
    "pd.set_option('display.max_columns', 500)\n",
    "pd.set_option('display.width', 1000)"
   ]
  },
  {
   "cell_type": "code",
   "execution_count": null,
   "metadata": {},
   "outputs": [],
   "source": []
  },
  {
   "cell_type": "code",
   "execution_count": null,
   "metadata": {},
   "outputs": [],
   "source": []
  },
  {
   "cell_type": "markdown",
   "metadata": {},
   "source": [
    "# Define functions for calculating GC% and entropy across a circular genome sequence"
   ]
  },
  {
   "cell_type": "markdown",
   "metadata": {},
   "source": [
    "### Functions for calculating GC content"
   ]
  },
  {
   "cell_type": "code",
   "execution_count": 5,
   "metadata": {},
   "outputs": [],
   "source": [
    "def calc_GCcontent_SlidingWindow (input_Seq, window_size):\n",
    "\n",
    "    halfOf_WindowSize = window_size/2\n",
    "\n",
    "    #print(\"Half of window size:\", halfOf_WindowSize)\n",
    "    \n",
    "    gc_content = lambda s: 100.0*len([c for c in s if c in \"GC\"]) / len(s)\n",
    "\n",
    "    GC_yy = []\n",
    "\n",
    "    for i in  (  np.arange(0, len(input_Seq) - window_size, dtype=int) ):\n",
    "        finalSeq = input_Seq[i:i + window_size]\n",
    "        GC_yy.append(  gc_content(finalSeq) )\n",
    "\n",
    "    GC_yy_FRONT_Circ = []\n",
    "\n",
    "    for i in  np.arange(-halfOf_WindowSize, 0 , dtype=int):\n",
    "        finalSeq = input_Seq[i:] + input_Seq[: window_size + i] # backSeq_IDX = window_size + i\n",
    "\n",
    "        GC_yy_FRONT_Circ.append(  gc_content(finalSeq) )\n",
    "\n",
    "    GC_yy_BACK_Circ = []\n",
    "\n",
    "    for i in  np.arange( -window_size, -halfOf_WindowSize, dtype=int):    \n",
    "        finalSeq = input_Seq[i:] + input_Seq[: window_size + i] # backSeq_IDX = window_size + i\n",
    "        GC_yy_BACK_Circ.append(  gc_content(finalSeq) )\n",
    "\n",
    "    GC_yy_FINAL = GC_yy_FRONT_Circ + GC_yy + GC_yy_BACK_Circ\n",
    "    \n",
    "    return np.array(GC_yy_FINAL)"
   ]
  },
  {
   "cell_type": "code",
   "execution_count": null,
   "metadata": {},
   "outputs": [],
   "source": []
  },
  {
   "cell_type": "markdown",
   "metadata": {},
   "source": [
    "## Parse Assembly and Sequence analysis results Sample Info"
   ]
  },
  {
   "cell_type": "code",
   "execution_count": 6,
   "metadata": {},
   "outputs": [
    {
     "name": "stdout",
     "output_type": "stream",
     "text": [
      "M0011368_9,M0014888_3,M0016395_7,M0010874_7,01_R1430,02_R0894,02_R1708,02_R1896,M0016737_0,M0017522_5,01_R1134,M0003941_3,02_R1179,N1176,N0072,N0153,N0145,N0155,N0004,N1274,N0054,N1272,N0091,N1202,N1177,RW-TB008,DNA028,DNA075,DNA091,DNA044,DNA020,AZE_02_042,DNA019_Rose,DNA120,DNA188,DNA086\n"
     ]
    }
   ],
   "source": [
    "Repo_DataDir = \"../../Data\"\n",
    "\n",
    "PMP_SM_ResultsSummary_Dir_210108 = Repo_DataDir + \"/210108_PMP_SM_50CI_V7_ResultsSummary\"\n",
    "\n",
    "\n",
    "PMP_50CI_AssemblySummary_TSV_PATH = PMP_SM_ResultsSummary_Dir_210108 + \"/210108_PMP_50CI_AssemblySummary_V7.tsv\"\n",
    "\n",
    "PMP_42CI_CicularOnly_AssemblySummary_TSV_PATH = PMP_SM_ResultsSummary_Dir_210108 + \"/210108_PMP_42CI_CircularOnly_F2Filtered_AssemblySummary_V7.tsv\" \n",
    "\n",
    "PMP_36CI_CicularOnly_F2Filtered_AtLeast40XIllDepth_AssemblySummary_TSV_PATH = PMP_SM_ResultsSummary_Dir_210108 + \"/210108_PMP_36CI_CircularOnly_F2Filtered_AtLeast40XMeanDepthIllumina_AssemblySummary_V7.tsv\"       \n",
    "\n",
    "\n",
    "PMP_50CI_AssemblySummary = pd.read_csv(PMP_50CI_AssemblySummary_TSV_PATH, sep = \"\\t\")\n",
    "\n",
    "PMP_42CI_CicularOnly_AssemblySummary = pd.read_csv(PMP_42CI_CicularOnly_AssemblySummary_TSV_PATH, sep = \"\\t\")\n",
    "\n",
    "PMP_36CI_CicularOnly_F2Filtered_AtLeast40XDepth_AssemblySummary = pd.read_csv(PMP_36CI_CicularOnly_F2Filtered_AtLeast40XIllDepth_AssemblySummary_TSV_PATH, sep = \"\\t\")\n",
    "\n",
    "PMP_36CI_AnalysisSet_AssemblySummary = PMP_36CI_CicularOnly_F2Filtered_AtLeast40XDepth_AssemblySummary\n",
    "\n",
    "\n",
    "SampleIDs_36CI_SOI = list( PMP_36CI_AnalysisSet_AssemblySummary[\"SampleID\"].values )\n",
    "\n",
    "\n",
    "print(','.join(SampleIDs_36CI_SOI) )\n",
    "\n",
    "# Make sample to lineage mapping dict\n",
    "\n",
    "ID_To_IlluminaAvrgCov_Dict = dict(PMP_50CI_AssemblySummary[['SampleID', 'IlluminaWGSToH37rv_AvrgCov']].values)                     \n",
    "ID_To_Lineage_Dict = dict(PMP_50CI_AssemblySummary[['SampleID', 'PrimaryLineage_PB']].values)\n",
    "ID_To_Dataset_Dict = dict(PMP_50CI_AssemblySummary[['SampleID', 'Dataset_Tag']].values)"
   ]
  },
  {
   "cell_type": "code",
   "execution_count": null,
   "metadata": {},
   "outputs": [],
   "source": []
  },
  {
   "cell_type": "code",
   "execution_count": 7,
   "metadata": {},
   "outputs": [
    {
     "data": {
      "text/html": [
       "<div>\n",
       "<style scoped>\n",
       "    .dataframe tbody tr th:only-of-type {\n",
       "        vertical-align: middle;\n",
       "    }\n",
       "\n",
       "    .dataframe tbody tr th {\n",
       "        vertical-align: top;\n",
       "    }\n",
       "\n",
       "    .dataframe thead th {\n",
       "        text-align: right;\n",
       "    }\n",
       "</style>\n",
       "<table border=\"1\" class=\"dataframe\">\n",
       "  <thead>\n",
       "    <tr style=\"text-align: right;\">\n",
       "      <th></th>\n",
       "      <th>SampleID</th>\n",
       "      <th>numContigs_Complete</th>\n",
       "      <th>circContig_Length</th>\n",
       "      <th>circContig_Cov</th>\n",
       "      <th>PacBio_Subread_Median_Length</th>\n",
       "      <th>LineageCall_Illumina</th>\n",
       "      <th>LineageCall_PacBio</th>\n",
       "      <th>F2_Illumina</th>\n",
       "      <th>F2_PacBio</th>\n",
       "      <th>ANI_I3</th>\n",
       "      <th>ANI_I3_PP</th>\n",
       "      <th>IlluminaWGSToH37rv_AvrgCov</th>\n",
       "      <th>PacBio_Subreads_H37Rv_AvrgCov</th>\n",
       "      <th>NumAnno_ORFs_PB_PilonPolished</th>\n",
       "      <th>NumAnno_ORFs_PB_DeNovo</th>\n",
       "      <th>GCcontent_PB_PP_GBK</th>\n",
       "      <th>NumChanges_PilonPolished</th>\n",
       "      <th>NumSNPs_PilonPolished</th>\n",
       "      <th>NumTotalInsertions_PilonPolished</th>\n",
       "      <th>Num1bpInsertion_PilonPolished</th>\n",
       "      <th>Num2bpInsertion_PilonPolished</th>\n",
       "      <th>NumTotalDeletions_PilonPolished</th>\n",
       "      <th>Num1bpDeletion_PilonPolished</th>\n",
       "      <th>PrimaryLineage_PB</th>\n",
       "      <th>PrimaryLineage_Ill</th>\n",
       "      <th>Dataset_Tag</th>\n",
       "    </tr>\n",
       "  </thead>\n",
       "  <tbody>\n",
       "    <tr>\n",
       "      <th>16</th>\n",
       "      <td>N0145</td>\n",
       "      <td>1</td>\n",
       "      <td>4416863</td>\n",
       "      <td>344</td>\n",
       "      <td>2042.0</td>\n",
       "      <td>lineage2,lineage2.2,lineage2.2.1,lineage2.2.1.1</td>\n",
       "      <td>lineage2,lineage2.2,lineage2.2.1,lineage2.2.1.1</td>\n",
       "      <td>0.008973</td>\n",
       "      <td>0.262688</td>\n",
       "      <td>99.8914</td>\n",
       "      <td>99.8941</td>\n",
       "      <td>89</td>\n",
       "      <td>344</td>\n",
       "      <td>4071</td>\n",
       "      <td>4073</td>\n",
       "      <td>65.604423</td>\n",
       "      <td>20</td>\n",
       "      <td>0</td>\n",
       "      <td>2</td>\n",
       "      <td>2</td>\n",
       "      <td>0</td>\n",
       "      <td>18</td>\n",
       "      <td>18</td>\n",
       "      <td>lineage2</td>\n",
       "      <td>lineage2</td>\n",
       "      <td>ChinerOms_2019</td>\n",
       "    </tr>\n",
       "  </tbody>\n",
       "</table>\n",
       "</div>"
      ],
      "text/plain": [
       "   SampleID  numContigs_Complete  circContig_Length  circContig_Cov  PacBio_Subread_Median_Length                             LineageCall_Illumina                               LineageCall_PacBio  F2_Illumina  F2_PacBio   ANI_I3  ANI_I3_PP  IlluminaWGSToH37rv_AvrgCov  PacBio_Subreads_H37Rv_AvrgCov  NumAnno_ORFs_PB_PilonPolished  NumAnno_ORFs_PB_DeNovo  GCcontent_PB_PP_GBK  NumChanges_PilonPolished  NumSNPs_PilonPolished  NumTotalInsertions_PilonPolished  Num1bpInsertion_PilonPolished  Num2bpInsertion_PilonPolished  NumTotalDeletions_PilonPolished  Num1bpDeletion_PilonPolished PrimaryLineage_PB PrimaryLineage_Ill     Dataset_Tag\n",
       "16    N0145                    1            4416863             344                        2042.0  lineage2,lineage2.2,lineage2.2.1,lineage2.2.1.1  lineage2,lineage2.2,lineage2.2.1,lineage2.2.1.1     0.008973   0.262688  99.8914    99.8941                          89                            344                           4071                    4073            65.604423                        20                      0                                 2                              2                              0                               18                            18          lineage2           lineage2  ChinerOms_2019"
      ]
     },
     "execution_count": 7,
     "metadata": {},
     "output_type": "execute_result"
    }
   ],
   "source": [
    "PMP_36CI_AnalysisSet_AssemblySummary[PMP_36CI_AnalysisSet_AssemblySummary[\"SampleID\"] == \"N0145\"]"
   ]
  },
  {
   "cell_type": "code",
   "execution_count": null,
   "metadata": {},
   "outputs": [],
   "source": []
  },
  {
   "cell_type": "code",
   "execution_count": null,
   "metadata": {},
   "outputs": [],
   "source": []
  },
  {
   "cell_type": "markdown",
   "metadata": {},
   "source": [
    "## Define Directories"
   ]
  },
  {
   "cell_type": "code",
   "execution_count": 8,
   "metadata": {
    "scrolled": true
   },
   "outputs": [
    {
     "name": "stdout",
     "output_type": "stream",
     "text": [
      "mkdir: cannot create directory ‘../../../210112_PBvsI_VCeval_AnalysisDir_V7_36CI/210113_CoverageBiasAnalysis_GCandSH_V2’: File exists\n",
      "mkdir: cannot create directory ‘../../../210112_PBvsI_VCeval_AnalysisDir_V7_36CI/210113_CoverageBiasAnalysis_GCandSH_V2/M0011368_9’: File exists\n",
      "mkdir: cannot create directory ‘../../../210112_PBvsI_VCeval_AnalysisDir_V7_36CI/210113_CoverageBiasAnalysis_GCandSH_V2/M0014888_3’: File exists\n",
      "mkdir: cannot create directory ‘../../../210112_PBvsI_VCeval_AnalysisDir_V7_36CI/210113_CoverageBiasAnalysis_GCandSH_V2/M0016395_7’: File exists\n",
      "mkdir: cannot create directory ‘../../../210112_PBvsI_VCeval_AnalysisDir_V7_36CI/210113_CoverageBiasAnalysis_GCandSH_V2/M0010874_7’: File exists\n",
      "mkdir: cannot create directory ‘../../../210112_PBvsI_VCeval_AnalysisDir_V7_36CI/210113_CoverageBiasAnalysis_GCandSH_V2/01_R1430’: File exists\n",
      "mkdir: cannot create directory ‘../../../210112_PBvsI_VCeval_AnalysisDir_V7_36CI/210113_CoverageBiasAnalysis_GCandSH_V2/02_R0894’: File exists\n",
      "mkdir: cannot create directory ‘../../../210112_PBvsI_VCeval_AnalysisDir_V7_36CI/210113_CoverageBiasAnalysis_GCandSH_V2/02_R1708’: File exists\n",
      "mkdir: cannot create directory ‘../../../210112_PBvsI_VCeval_AnalysisDir_V7_36CI/210113_CoverageBiasAnalysis_GCandSH_V2/02_R1896’: File exists\n",
      "mkdir: cannot create directory ‘../../../210112_PBvsI_VCeval_AnalysisDir_V7_36CI/210113_CoverageBiasAnalysis_GCandSH_V2/M0016737_0’: File exists\n",
      "mkdir: cannot create directory ‘../../../210112_PBvsI_VCeval_AnalysisDir_V7_36CI/210113_CoverageBiasAnalysis_GCandSH_V2/M0017522_5’: File exists\n",
      "mkdir: cannot create directory ‘../../../210112_PBvsI_VCeval_AnalysisDir_V7_36CI/210113_CoverageBiasAnalysis_GCandSH_V2/01_R1134’: File exists\n",
      "mkdir: cannot create directory ‘../../../210112_PBvsI_VCeval_AnalysisDir_V7_36CI/210113_CoverageBiasAnalysis_GCandSH_V2/M0003941_3’: File exists\n",
      "mkdir: cannot create directory ‘../../../210112_PBvsI_VCeval_AnalysisDir_V7_36CI/210113_CoverageBiasAnalysis_GCandSH_V2/02_R1179’: File exists\n",
      "mkdir: cannot create directory ‘../../../210112_PBvsI_VCeval_AnalysisDir_V7_36CI/210113_CoverageBiasAnalysis_GCandSH_V2/N1176’: File exists\n",
      "mkdir: cannot create directory ‘../../../210112_PBvsI_VCeval_AnalysisDir_V7_36CI/210113_CoverageBiasAnalysis_GCandSH_V2/N0072’: File exists\n",
      "mkdir: cannot create directory ‘../../../210112_PBvsI_VCeval_AnalysisDir_V7_36CI/210113_CoverageBiasAnalysis_GCandSH_V2/N0153’: File exists\n",
      "mkdir: cannot create directory ‘../../../210112_PBvsI_VCeval_AnalysisDir_V7_36CI/210113_CoverageBiasAnalysis_GCandSH_V2/N0145’: File exists\n",
      "mkdir: cannot create directory ‘../../../210112_PBvsI_VCeval_AnalysisDir_V7_36CI/210113_CoverageBiasAnalysis_GCandSH_V2/N0155’: File exists\n",
      "mkdir: cannot create directory ‘../../../210112_PBvsI_VCeval_AnalysisDir_V7_36CI/210113_CoverageBiasAnalysis_GCandSH_V2/N0004’: File exists\n",
      "mkdir: cannot create directory ‘../../../210112_PBvsI_VCeval_AnalysisDir_V7_36CI/210113_CoverageBiasAnalysis_GCandSH_V2/N1274’: File exists\n",
      "mkdir: cannot create directory ‘../../../210112_PBvsI_VCeval_AnalysisDir_V7_36CI/210113_CoverageBiasAnalysis_GCandSH_V2/N0054’: File exists\n",
      "mkdir: cannot create directory ‘../../../210112_PBvsI_VCeval_AnalysisDir_V7_36CI/210113_CoverageBiasAnalysis_GCandSH_V2/N1272’: File exists\n",
      "mkdir: cannot create directory ‘../../../210112_PBvsI_VCeval_AnalysisDir_V7_36CI/210113_CoverageBiasAnalysis_GCandSH_V2/N0091’: File exists\n",
      "mkdir: cannot create directory ‘../../../210112_PBvsI_VCeval_AnalysisDir_V7_36CI/210113_CoverageBiasAnalysis_GCandSH_V2/N1202’: File exists\n",
      "mkdir: cannot create directory ‘../../../210112_PBvsI_VCeval_AnalysisDir_V7_36CI/210113_CoverageBiasAnalysis_GCandSH_V2/N1177’: File exists\n",
      "mkdir: cannot create directory ‘../../../210112_PBvsI_VCeval_AnalysisDir_V7_36CI/210113_CoverageBiasAnalysis_GCandSH_V2/RW-TB008’: File exists\n",
      "mkdir: cannot create directory ‘../../../210112_PBvsI_VCeval_AnalysisDir_V7_36CI/210113_CoverageBiasAnalysis_GCandSH_V2/DNA028’: File exists\n",
      "mkdir: cannot create directory ‘../../../210112_PBvsI_VCeval_AnalysisDir_V7_36CI/210113_CoverageBiasAnalysis_GCandSH_V2/DNA075’: File exists\n",
      "mkdir: cannot create directory ‘../../../210112_PBvsI_VCeval_AnalysisDir_V7_36CI/210113_CoverageBiasAnalysis_GCandSH_V2/DNA091’: File exists\n",
      "mkdir: cannot create directory ‘../../../210112_PBvsI_VCeval_AnalysisDir_V7_36CI/210113_CoverageBiasAnalysis_GCandSH_V2/DNA044’: File exists\n",
      "mkdir: cannot create directory ‘../../../210112_PBvsI_VCeval_AnalysisDir_V7_36CI/210113_CoverageBiasAnalysis_GCandSH_V2/DNA020’: File exists\n",
      "mkdir: cannot create directory ‘../../../210112_PBvsI_VCeval_AnalysisDir_V7_36CI/210113_CoverageBiasAnalysis_GCandSH_V2/AZE_02_042’: File exists\n",
      "mkdir: cannot create directory ‘../../../210112_PBvsI_VCeval_AnalysisDir_V7_36CI/210113_CoverageBiasAnalysis_GCandSH_V2/DNA019_Rose’: File exists\n",
      "mkdir: cannot create directory ‘../../../210112_PBvsI_VCeval_AnalysisDir_V7_36CI/210113_CoverageBiasAnalysis_GCandSH_V2/DNA120’: File exists\n",
      "mkdir: cannot create directory ‘../../../210112_PBvsI_VCeval_AnalysisDir_V7_36CI/210113_CoverageBiasAnalysis_GCandSH_V2/DNA188’: File exists\n",
      "mkdir: cannot create directory ‘../../../210112_PBvsI_VCeval_AnalysisDir_V7_36CI/210113_CoverageBiasAnalysis_GCandSH_V2/DNA086’: File exists\n"
     ]
    }
   ],
   "source": [
    "PB_Vs_Illumina_DataAnalysis_Dir = \"../../../210112_PBvsI_VCeval_AnalysisDir_V7_36CI\"\n",
    "\n",
    "CoverageBiasAnalysis_V2_Dir = PB_Vs_Illumina_DataAnalysis_Dir + \"/210113_CoverageBiasAnalysis_GC_V2\"  \n",
    "\n",
    "!mkdir $CoverageBiasAnalysis_V2_Dir\n",
    "\n",
    "for SampleID in SampleIDs_36CI_SOI:\n",
    "    \n",
    "    sample_CovBias_Dir = f\"{CoverageBiasAnalysis_V2_Dir}/{SampleID}\"\n",
    "    \n",
    "    !mkdir $sample_CovBias_Dir\n"
   ]
  },
  {
   "cell_type": "code",
   "execution_count": 9,
   "metadata": {},
   "outputs": [
    {
     "name": "stdout",
     "output_type": "stream",
     "text": [
      "201016_FP_TP_FN_And_SV_DistributionAcrossH37Rv_Analysis_V3_PB_MM2_GT\n",
      "201027_Genmap_Mappability_H37rv_V1\n",
      "210112_EBR_H37rv_36CI_MM2vsPilon_V7\n",
      "210113_CoverageBiasAnalysis_GCandSH_V2\n",
      "210126_FalsePositivesAnalysis_V4\n",
      "Happy_VC_Eval_ResultsDir_36CI\n"
     ]
    }
   ],
   "source": [
    "!ls -1 $PB_Vs_Illumina_DataAnalysis_Dir"
   ]
  },
  {
   "cell_type": "code",
   "execution_count": null,
   "metadata": {},
   "outputs": [],
   "source": []
  },
  {
   "cell_type": "markdown",
   "metadata": {},
   "source": [
    "## Define directory that contains output of analysis pipeline"
   ]
  },
  {
   "cell_type": "code",
   "execution_count": 10,
   "metadata": {},
   "outputs": [],
   "source": [
    "# Define varaint calling pipeline output directories\n",
    "\n",
    "PacBio_ProjectDir = \"/n/data1/hms/dbmi/farhat/mm774/Projects/PacBio_Evaluation_Project\"\n",
    "\n",
    "PMP_SM_Outputs_Dir = PacBio_ProjectDir + \"/PacmanPipe_SM_Outputs\"\n",
    "\n",
    "PMP_SM_TB_Portals_R1_Illumina_WGS_201201_OutputDir = PMP_SM_Outputs_Dir + \"/201201_PMP_SM_TB_Portals_R1_Output_V2\"\n"
   ]
  },
  {
   "cell_type": "code",
   "execution_count": null,
   "metadata": {},
   "outputs": [],
   "source": []
  },
  {
   "cell_type": "markdown",
   "metadata": {},
   "source": [
    "## Save dictionary of paths to relevant files"
   ]
  },
  {
   "cell_type": "code",
   "execution_count": 11,
   "metadata": {},
   "outputs": [],
   "source": [
    "dictOf_PATHs_36CI_Mtb = {}\n",
    "\n",
    "for SampleID in SampleIDs_36CI_SOI: \n",
    "\n",
    "    Sample_Output_Dir = PMP_SM_TB_Portals_R1_Illumina_WGS_201201_OutputDir + \"/\" + SampleID\n",
    "   \n",
    "    # Define PATH to Assembly FASTA (filtered for contigs greater than 100 Kb)\n",
    "    GC3_PP_OutputDir = f\"{Sample_Output_Dir}/FlyeAssembly_I3_IlluminaPolishing/pilon_IllPE_Polishing_I3_Assembly_ChangeSNPsINDELsOnly\"\n",
    "    Sample_GC3_PP_Assembly_FA_PATH = f\"{GC3_PP_OutputDir}/{SampleID}.Flye.I3Assembly.PilonPolished.fasta\"\n",
    "    \n",
    "    \n",
    "    CovAnalysis_Dir = f\"{Sample_Output_Dir}/PBassembly_Flye_I3_PP_CoverageAnalysis\"\n",
    "    \n",
    "    # Define PATH to PacBio read coverage across assembly sequence\n",
    "    \n",
    "    PB_CovAnalysis_Dir = f\"{CovAnalysis_Dir}/PacBio_Subreads_AlignedTo_Flye_I3_PP_Minimap2\"\n",
    "    \n",
    "    PB_Depth_TXT_PATH = f\"{PB_CovAnalysis_Dir}/{SampleID}.pb.subreads.AlnTo.Flye_I3_PP.minimap2.bam.depth.txt\"\n",
    "    \n",
    "    \n",
    "    # Define PATH to Illumina read coverage across assembly sequence\n",
    "    \n",
    "    Illumina_CovAnalysis_Dir = f\"{CovAnalysis_Dir}/IlluminaPE_AlignedTo_Flye_I3_PP_bwamem\"\n",
    " \n",
    "    Illumina_Depth_TXT_PATH = f\"{Illumina_CovAnalysis_Dir}/{SampleID}.IllPE.AlnTo.Flye_I3_PP.duprem.bam.depth.txt\"\n",
    "    \n",
    "    dictOf_PATHs_36CI_Mtb[SampleID] = {}\n",
    "\n",
    "    dictOf_PATHs_36CI_Mtb[SampleID][\"Sample_GC3_PP_Assembly_FA_PATH\"] = Sample_GC3_PP_Assembly_FA_PATH\n",
    "    dictOf_PATHs_36CI_Mtb[SampleID][\"PB_Depth_TXT_PATH\"] = PB_Depth_TXT_PATH\n",
    "    dictOf_PATHs_36CI_Mtb[SampleID][\"Illumina_Depth_TXT_PATH\"] = Illumina_Depth_TXT_PATH\n"
   ]
  },
  {
   "cell_type": "code",
   "execution_count": null,
   "metadata": {},
   "outputs": [],
   "source": []
  },
  {
   "cell_type": "code",
   "execution_count": null,
   "metadata": {},
   "outputs": [],
   "source": []
  },
  {
   "cell_type": "markdown",
   "metadata": {},
   "source": [
    "## Parse and save TSV for coverage and GC bias information"
   ]
  },
  {
   "cell_type": "code",
   "execution_count": 12,
   "metadata": {},
   "outputs": [
    {
     "name": "stderr",
     "output_type": "stream",
     "text": [
      "100%|██████████| 36/36 [38:06<00:00, 63.06s/it]\n"
     ]
    }
   ],
   "source": [
    "listOf_Sample_Cov_GC_DF = []\n",
    "\n",
    "for SampleID in tqdm(SampleIDs_36CI_SOI):  #tqdm(SampleIDs_40CI_SOI): \n",
    "\n",
    "    ### 1) Parse Assembly sequence ###\n",
    "    Assembly_FA = dictOf_PATHs_36CI_Mtb[SampleID][\"Sample_GC3_PP_Assembly_FA_PATH\"]\n",
    "    records = list(SeqIO.parse(Assembly_FA, \"fasta\"))\n",
    "    Mtb_Assembly_Seq = str( records[0].seq )\n",
    "\n",
    "\n",
    "    ### 2) Calculate GC content ###\n",
    "    #Mtb_Assembly_GC_50bp_SW_Array = calc_GCcontent_SlidingWindow (input_Seq = Mtb_Assembly_Seq, window_size = 50)\n",
    "    Mtb_Assembly_GC_100bp_SW_Array = calc_GCcontent_SlidingWindow (input_Seq = Mtb_Assembly_Seq, window_size = 100)   \n",
    "\n",
    "    \n",
    "    ### 3) Parse PacBio sequencing depth ###\n",
    "    PB_Depth_TXT_PATH = dictOf_PATHs_36CI_Mtb[SampleID][\"PB_Depth_TXT_PATH\"]\n",
    "    Sample_PB_DP_Array = pd.read_csv(PB_Depth_TXT_PATH, sep= \"\\t\", header = None )[2].values\n",
    "    Sample_PB_DP_PerBaseNormalized = Sample_PB_DP_Array / Sample_PB_DP_Array.mean()\n",
    "\n",
    "\n",
    "    ### 4) Parse Illumina sequencing depth ###\n",
    "\n",
    "    Illumina_Depth_TXT_PATH = dictOf_PATHs_36CI_Mtb[SampleID][\"Illumina_Depth_TXT_PATH\"]\n",
    "    Sample_Illumina_DP_Array = pd.read_csv(Illumina_Depth_TXT_PATH, sep= \"\\t\", header = None )[2].values\n",
    "    Sample_Illumina_DP_PerBaseNormalized = Sample_Illumina_DP_Array / Sample_Illumina_DP_Array.mean()\n",
    "\n",
    "    \n",
    "    ### 5) Merge all data into single dataframe\n",
    "\n",
    "    Sample_CovBias_NParrays = np.array( [Sample_Illumina_DP_Array,\n",
    "                                         Sample_Illumina_DP_PerBaseNormalized,\n",
    "                                         Sample_PB_DP_Array, \n",
    "                                         Sample_PB_DP_PerBaseNormalized,\n",
    "                                         Mtb_Assembly_GC_100bp_SW_Array,] ).T\n",
    "\n",
    "    Sample_Cov_GC_DF = pd.DataFrame( Sample_CovBias_NParrays )\n",
    "    Sample_Cov_GC_DF.columns = [\"Illumina_DP\", \"Illumina_DP_PBN\", \"PacBio_DP\", \"PacBio_DP_PBN\", \"GC_100bp\"]\n",
    "    Sample_Cov_GC_DF[\"RefPos_0based\"] = Sample_Cov_GC_DF.index\n",
    "    Sample_Cov_GC_DF[\"SampleID\"] = SampleID\n",
    "\n",
    "\n",
    "    ### 6) Output DF to TSV\n",
    "    \n",
    "    sample_CovBias_Dir = f\"{CoverageBiasAnalysis_V2_Dir}/{SampleID}\"\n",
    "    \n",
    "    sample_CovBias_TSV_PATH = f\"{sample_CovBias_Dir}/{SampleID}.Depth.GCcontent.tsv\"\n",
    "\n",
    "    Sample_Cov_GC_DF.to_csv(sample_CovBias_TSV_PATH, sep = \"\\t\", index=False)\n",
    "    \n",
    "    #listOf_Sample_Cov_GC_DF.append()\n",
    "\n"
   ]
  },
  {
   "cell_type": "code",
   "execution_count": 13,
   "metadata": {},
   "outputs": [
    {
     "name": "stdout",
     "output_type": "stream",
     "text": [
      "DNA086_contig_1_pilon\t1\t24\n",
      "DNA086_contig_1_pilon\t2\t25\n",
      "DNA086_contig_1_pilon\t3\t25\n",
      "DNA086_contig_1_pilon\t4\t25\n",
      "DNA086_contig_1_pilon\t5\t27\n",
      "DNA086_contig_1_pilon\t6\t27\n",
      "DNA086_contig_1_pilon\t7\t27\n",
      "DNA086_contig_1_pilon\t8\t27\n",
      "DNA086_contig_1_pilon\t9\t28\n",
      "DNA086_contig_1_pilon\t10\t28\n"
     ]
    }
   ],
   "source": [
    "!head $Illumina_Depth_TXT_PATH"
   ]
  },
  {
   "cell_type": "code",
   "execution_count": null,
   "metadata": {},
   "outputs": [],
   "source": []
  },
  {
   "cell_type": "markdown",
   "metadata": {},
   "source": [
    "# Merge and output all individual relative coverage TSVs for all 40 samples"
   ]
  },
  {
   "cell_type": "code",
   "execution_count": 14,
   "metadata": {},
   "outputs": [
    {
     "name": "stderr",
     "output_type": "stream",
     "text": [
      "100%|██████████| 36/36 [01:52<00:00,  3.06s/it]\n"
     ]
    }
   ],
   "source": [
    "# This step requires a lot of memory\n",
    "listOf_Sample_Cov_GC_DF = []\n",
    "\n",
    "for SampleID in tqdm(SampleIDs_36CI_SOI):\n",
    "    \n",
    "    #print(f\"Sample: {SampleID}\")\n",
    "    \n",
    "    sample_CovBias_Dir = f\"{CoverageBiasAnalysis_V2_Dir}/{SampleID}\"\n",
    "    sample_CovBias_TSV_PATH = f\"{sample_CovBias_Dir}/{SampleID}.Depth.GCcontent.tsv\"\n",
    "    Sample_Cov_GC_DF = pd.read_csv(sample_CovBias_TSV_PATH, sep = \"\\t\")\n",
    "\n",
    "    listOf_Sample_Cov_GC_DF.append(Sample_Cov_GC_DF)\n",
    "    \n",
    "#All_Cov_GC_DF = pd.concat(listOf_Sample_Cov_GC_DF)\n"
   ]
  },
  {
   "cell_type": "markdown",
   "metadata": {},
   "source": [
    "## Output all samples DF to TSV\n"
   ]
  },
  {
   "cell_type": "code",
   "execution_count": 15,
   "metadata": {},
   "outputs": [],
   "source": [
    "## Output all samples DF to TSV\n",
    "\n",
    "All_Cov_GC_DF = pd.concat(listOf_Sample_Cov_GC_DF)\n"
   ]
  },
  {
   "cell_type": "code",
   "execution_count": 16,
   "metadata": {},
   "outputs": [
    {
     "data": {
      "text/plain": [
       "(158808901, 7)"
      ]
     },
     "execution_count": 16,
     "metadata": {},
     "output_type": "execute_result"
    }
   ],
   "source": [
    "All_Cov_GC_DF.shape"
   ]
  },
  {
   "cell_type": "code",
   "execution_count": 17,
   "metadata": {},
   "outputs": [],
   "source": [
    "## Output all samples DF to TSV\n",
    "\n",
    "Combined_CovBias_TSV_PATH = f\"{CoverageBiasAnalysis_V2_Dir}/210113.CoverageBiasAnalysis.Mtb.36CI.V3.GC.SH.tsv\"\n",
    "\n",
    "All_Cov_GC_DF.to_csv(Combined_CovBias_TSV_PATH, sep = \"\\t\", index=False)"
   ]
  },
  {
   "cell_type": "code",
   "execution_count": null,
   "metadata": {},
   "outputs": [],
   "source": []
  },
  {
   "cell_type": "markdown",
   "metadata": {},
   "source": [
    "### Look at output directory"
   ]
  },
  {
   "cell_type": "code",
   "execution_count": 18,
   "metadata": {},
   "outputs": [
    {
     "name": "stdout",
     "output_type": "stream",
     "text": [
      "-rw-rw-r--  1 mm774 farhat 11082325171 Mar 15 17:56 210113.CoverageBiasAnalysis.Mtb.36CI.V3.GC.SH.tsv\n"
     ]
    }
   ],
   "source": [
    "!ls -la $CoverageBiasAnalysis_V2_Dir | grep \".tsv\""
   ]
  },
  {
   "cell_type": "code",
   "execution_count": 19,
   "metadata": {},
   "outputs": [
    {
     "name": "stdout",
     "output_type": "stream",
     "text": [
      "-rw-rw-r--  1 mm774 farhat 11G Mar 15 17:56 210113.CoverageBiasAnalysis.Mtb.36CI.V3.GC.SH.tsv\n"
     ]
    }
   ],
   "source": [
    "!ls -lah $CoverageBiasAnalysis_V2_Dir | grep \".tsv\""
   ]
  },
  {
   "cell_type": "code",
   "execution_count": null,
   "metadata": {},
   "outputs": [],
   "source": []
  },
  {
   "cell_type": "code",
   "execution_count": null,
   "metadata": {},
   "outputs": [],
   "source": []
  },
  {
   "cell_type": "code",
   "execution_count": null,
   "metadata": {},
   "outputs": [],
   "source": []
  },
  {
   "cell_type": "code",
   "execution_count": null,
   "metadata": {},
   "outputs": [],
   "source": []
  },
  {
   "cell_type": "code",
   "execution_count": null,
   "metadata": {},
   "outputs": [],
   "source": []
  },
  {
   "cell_type": "code",
   "execution_count": null,
   "metadata": {},
   "outputs": [],
   "source": []
  },
  {
   "cell_type": "code",
   "execution_count": null,
   "metadata": {},
   "outputs": [],
   "source": []
  }
 ],
 "metadata": {
  "kernelspec": {
   "display_name": "py37_S",
   "language": "python",
   "name": "py37_s"
  },
  "language_info": {
   "codemirror_mode": {
    "name": "ipython",
    "version": 3
   },
   "file_extension": ".py",
   "mimetype": "text/x-python",
   "name": "python",
   "nbconvert_exporter": "python",
   "pygments_lexer": "ipython3",
   "version": "3.7.3"
  }
 },
 "nbformat": 4,
 "nbformat_minor": 4
}
