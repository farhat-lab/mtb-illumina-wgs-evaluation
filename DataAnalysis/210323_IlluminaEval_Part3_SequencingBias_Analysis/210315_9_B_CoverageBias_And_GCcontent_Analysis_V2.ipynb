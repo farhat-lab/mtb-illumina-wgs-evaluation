{
 "cells": [
  {
   "cell_type": "markdown",
   "metadata": {},
   "source": [
    "# Coverage Bias Analysis: Sequencing depth across performance averaged across all 36 isolates\n",
    "\n",
    "### Maximillian Marin\n",
    "### mgmarin@g.harvard.edu\n",
    "\n",
    "\n",
    "### Goal:"
   ]
  },
  {
   "cell_type": "code",
   "execution_count": 1,
   "metadata": {},
   "outputs": [],
   "source": [
    "import numpy as np\n",
    "import pandas as pd\n",
    "import vcf\n",
    "from tqdm import tqdm\n",
    "import matplotlib.pyplot as plt\n",
    "import seaborn as sns\n",
    "import pickle\n",
    "\n",
    "%matplotlib inline"
   ]
  },
  {
   "cell_type": "code",
   "execution_count": 2,
   "metadata": {},
   "outputs": [],
   "source": [
    "from scipy.stats import spearmanr"
   ]
  },
  {
   "cell_type": "code",
   "execution_count": 3,
   "metadata": {},
   "outputs": [],
   "source": [
    "from Bio import SeqIO"
   ]
  },
  {
   "cell_type": "markdown",
   "metadata": {},
   "source": [
    "#### Pandas Viewing Settings"
   ]
  },
  {
   "cell_type": "code",
   "execution_count": 4,
   "metadata": {},
   "outputs": [],
   "source": [
    "pd.set_option('display.max_rows', 500)\n",
    "pd.set_option('display.max_columns', 500)\n",
    "pd.set_option('display.width', 1000)"
   ]
  },
  {
   "cell_type": "markdown",
   "metadata": {},
   "source": [
    "### Set matplotlib text export settings for Adobe Illustrator"
   ]
  },
  {
   "cell_type": "code",
   "execution_count": 5,
   "metadata": {},
   "outputs": [],
   "source": [
    "import matplotlib\n",
    "matplotlib.rcParams['pdf.fonttype'] = 42\n",
    "matplotlib.rcParams['ps.fonttype'] = 42"
   ]
  },
  {
   "cell_type": "code",
   "execution_count": null,
   "metadata": {},
   "outputs": [],
   "source": []
  },
  {
   "cell_type": "code",
   "execution_count": null,
   "metadata": {},
   "outputs": [],
   "source": []
  },
  {
   "cell_type": "markdown",
   "metadata": {},
   "source": [
    "## Parse Assembly and Sequence analysis results Sample Info"
   ]
  },
  {
   "cell_type": "code",
   "execution_count": 6,
   "metadata": {},
   "outputs": [
    {
     "name": "stdout",
     "output_type": "stream",
     "text": [
      "M0011368_9,M0014888_3,M0016395_7,M0010874_7,01_R1430,02_R0894,02_R1708,02_R1896,M0016737_0,M0017522_5,01_R1134,M0003941_3,02_R1179,N1176,N0072,N0153,N0145,N0155,N0004,N1274,N0054,N1272,N0091,N1202,N1177,RW-TB008,DNA028,DNA075,DNA091,DNA044,DNA020,AZE_02_042,DNA019_Rose,DNA120,DNA188,DNA086\n"
     ]
    }
   ],
   "source": [
    "Repo_DataDir = \"../../Data\"\n",
    "\n",
    "PMP_SM_ResultsSummary_Dir_210108 = Repo_DataDir + \"/210108_PMP_SM_50CI_V7_ResultsSummary\"\n",
    "\n",
    "\n",
    "PMP_50CI_AssemblySummary_TSV_PATH = PMP_SM_ResultsSummary_Dir_210108 + \"/210108_PMP_50CI_AssemblySummary_V7.tsv\"\n",
    "\n",
    "PMP_42CI_CicularOnly_AssemblySummary_TSV_PATH = PMP_SM_ResultsSummary_Dir_210108 + \"/210108_PMP_42CI_CircularOnly_F2Filtered_AssemblySummary_V7.tsv\" \n",
    "\n",
    "PMP_36CI_CicularOnly_F2Filtered_AtLeast40XIllDepth_AssemblySummary_TSV_PATH = PMP_SM_ResultsSummary_Dir_210108 + \"/210108_PMP_36CI_CircularOnly_F2Filtered_AtLeast40XMeanDepthIllumina_AssemblySummary_V7.tsv\"       \n",
    "\n",
    "\n",
    "PMP_50CI_AssemblySummary = pd.read_csv(PMP_50CI_AssemblySummary_TSV_PATH, sep = \"\\t\")\n",
    "\n",
    "PMP_42CI_CicularOnly_AssemblySummary = pd.read_csv(PMP_42CI_CicularOnly_AssemblySummary_TSV_PATH, sep = \"\\t\")\n",
    "\n",
    "PMP_36CI_CicularOnly_F2Filtered_AtLeast40XDepth_AssemblySummary = pd.read_csv(PMP_36CI_CicularOnly_F2Filtered_AtLeast40XIllDepth_AssemblySummary_TSV_PATH, sep = \"\\t\")\n",
    "\n",
    "PMP_36CI_AnalysisSet_AssemblySummary = PMP_36CI_CicularOnly_F2Filtered_AtLeast40XDepth_AssemblySummary\n",
    "\n",
    "\n",
    "SampleIDs_36CI_SOI = list( PMP_36CI_AnalysisSet_AssemblySummary[\"SampleID\"].values )\n",
    "\n",
    "\n",
    "print(','.join(SampleIDs_36CI_SOI) )\n",
    "\n",
    "# Make sample to lineage mapping dict\n",
    "\n",
    "ID_To_IlluminaAvrgCov_Dict = dict(PMP_50CI_AssemblySummary[['SampleID', 'IlluminaWGSToH37rv_AvrgCov']].values)                     \n",
    "ID_To_Lineage_Dict = dict(PMP_50CI_AssemblySummary[['SampleID', 'PrimaryLineage_PB']].values)\n",
    "ID_To_Dataset_Dict = dict(PMP_50CI_AssemblySummary[['SampleID', 'Dataset_Tag']].values)"
   ]
  },
  {
   "cell_type": "code",
   "execution_count": null,
   "metadata": {},
   "outputs": [],
   "source": []
  },
  {
   "cell_type": "markdown",
   "metadata": {},
   "source": [
    "## Define Directories"
   ]
  },
  {
   "cell_type": "code",
   "execution_count": 7,
   "metadata": {},
   "outputs": [],
   "source": [
    "PB_Vs_Illumina_DataAnalysis_Dir = \"../../../210112_PBvsI_VCeval_AnalysisDir_V7_36CI\"\n",
    "\n",
    "CoverageBiasAnalysis_V2_Dir = PB_Vs_Illumina_DataAnalysis_Dir + \"/210113_CoverageBiasAnalysis_GC_V2\"  \n"
   ]
  },
  {
   "cell_type": "markdown",
   "metadata": {},
   "source": [
    "## Parse Coverage Bias raw data table (11 GB of data in TSV)\n",
    "\n",
    "Read in relative coverage measurements (for Illumina & PacBio) across all bp positions of all 36 genome assemblies"
   ]
  },
  {
   "cell_type": "code",
   "execution_count": 8,
   "metadata": {},
   "outputs": [],
   "source": [
    "import time"
   ]
  },
  {
   "cell_type": "code",
   "execution_count": 9,
   "metadata": {},
   "outputs": [
    {
     "name": "stdout",
     "output_type": "stream",
     "text": [
      "Running Time: 113.59826970100403\n"
     ]
    }
   ],
   "source": [
    "Combined_CovBias_TSV_PATH = f\"{CoverageBiasAnalysis_V2_Dir}/210113.CoverageBiasAnalysis.Mtb.36CI.V3.GC.SH.tsv\"\n",
    "\n",
    "\n",
    "start = time.time()\n",
    "All_Cov_GC_DF = pd.read_csv(Combined_CovBias_TSV_PATH, sep = \"\\t\")\n",
    "\n",
    "end = time.time()\n",
    "\n",
    "RunTime_Sec = (end - start)\n",
    "\n",
    "print(\"Running Time:\", RunTime_Sec)"
   ]
  },
  {
   "cell_type": "code",
   "execution_count": 10,
   "metadata": {},
   "outputs": [],
   "source": [
    "#del listOf_Sample_Cov_GC_DF"
   ]
  },
  {
   "cell_type": "code",
   "execution_count": 11,
   "metadata": {},
   "outputs": [],
   "source": [
    "#All_Cov_GC_DF.memory_usage(deep=True)"
   ]
  },
  {
   "cell_type": "code",
   "execution_count": 12,
   "metadata": {},
   "outputs": [],
   "source": [
    "#All_Cov_GC_DF.shape"
   ]
  },
  {
   "cell_type": "code",
   "execution_count": 13,
   "metadata": {},
   "outputs": [],
   "source": [
    "#All_Cov_GC_DF.head(3)"
   ]
  },
  {
   "cell_type": "code",
   "execution_count": null,
   "metadata": {},
   "outputs": [],
   "source": []
  },
  {
   "cell_type": "code",
   "execution_count": null,
   "metadata": {},
   "outputs": [],
   "source": []
  },
  {
   "cell_type": "markdown",
   "metadata": {},
   "source": [
    "# Calculate the average relative coverage for all GC% values (across all 36 samples)"
   ]
  },
  {
   "cell_type": "code",
   "execution_count": 14,
   "metadata": {},
   "outputs": [
    {
     "name": "stderr",
     "output_type": "stream",
     "text": [
      "100%|██████████| 36/36 [02:12<00:00,  3.64s/it]\n"
     ]
    }
   ],
   "source": [
    "listOf_Sample_CovBias_DFs = []\n",
    "\n",
    "for SampleID in tqdm(SampleIDs_36CI_SOI):\n",
    "    \n",
    "    #print(f\"Sample: {SampleID}\")\n",
    "    \n",
    "    sample_CovBias_Dir = f\"{CoverageBiasAnalysis_V2_Dir}/{SampleID}\"\n",
    "    sample_CovBias_TSV_PATH = f\"{sample_CovBias_Dir}/{SampleID}.Depth.GCcontent.tsv\"\n",
    "    Sample_Cov_GC_DF = pd.read_csv(sample_CovBias_TSV_PATH, sep = \"\\t\")\n",
    "\n",
    "    i_GC_Bin_Vs_Cov_Bias = Sample_Cov_GC_DF.groupby(\"GC_100bp\").mean()\n",
    "    i_GC_Bin_Vs_Cov_Bias[\"GC_100bp\"] = i_GC_Bin_Vs_Cov_Bias.index\n",
    "\n",
    "    i_GC_Bins_Counts = Sample_Cov_GC_DF.groupby(\"GC_100bp\").agg(count=('GC_100bp', 'size'))\n",
    "\n",
    "    i_GC_Bin_Vs_Cov_Bias = i_GC_Bin_Vs_Cov_Bias.merge(i_GC_Bins_Counts, left_index=True, right_index=True)\n",
    "\n",
    "    i_GC_Bin_Vs_Cov_Bias[\"Norm_Counts\"] = i_GC_Bin_Vs_Cov_Bias[\"count\"] / i_GC_Bin_Vs_Cov_Bias[\"count\"].sum()\n",
    "\n",
    "    #i_GC_Bin_Vs_Cov_Bias_F = i_GC_Bin_Vs_Cov_Bias[ i_GC_Bin_Vs_Cov_Bias[\"count\"] >= 1000]\n",
    "    i_GC_Bin_Vs_Cov_Bias_F = i_GC_Bin_Vs_Cov_Bias\n",
    "    \n",
    "    i_GC_Bin_Vs_Cov_Bias_F[\"SampleID\"] = SampleID\n",
    "    i_GC_Bin_Vs_Cov_Bias_F[\"Dataset\"] = ID_To_Dataset_Dict[SampleID]\n",
    "    \n",
    "    listOf_Sample_CovBias_DFs.append(i_GC_Bin_Vs_Cov_Bias_F)\n",
    "    \n",
    "    #break\n"
   ]
  },
  {
   "cell_type": "code",
   "execution_count": 15,
   "metadata": {},
   "outputs": [],
   "source": [
    "X_CovBiasMeans = pd.concat( listOf_Sample_CovBias_DFs )\n",
    "X_CovBiasMeans  = X_CovBiasMeans .reset_index(drop=True)"
   ]
  },
  {
   "cell_type": "code",
   "execution_count": 16,
   "metadata": {},
   "outputs": [
    {
     "data": {
      "text/plain": [
       "Farhat_Peru_2019        815\n",
       "ChinerOms_2019          747\n",
       "TB_Portals_15CI_R1      693\n",
       "Ngabonziza_Lin8_2020     63\n",
       "Name: Dataset, dtype: int64"
      ]
     },
     "execution_count": 16,
     "metadata": {},
     "output_type": "execute_result"
    }
   ],
   "source": [
    "X_CovBiasMeans[\"Dataset\"].value_counts()"
   ]
  },
  {
   "cell_type": "code",
   "execution_count": 17,
   "metadata": {},
   "outputs": [
    {
     "data": {
      "text/html": [
       "<div>\n",
       "<style scoped>\n",
       "    .dataframe tbody tr th:only-of-type {\n",
       "        vertical-align: middle;\n",
       "    }\n",
       "\n",
       "    .dataframe tbody tr th {\n",
       "        vertical-align: top;\n",
       "    }\n",
       "\n",
       "    .dataframe thead th {\n",
       "        text-align: right;\n",
       "    }\n",
       "</style>\n",
       "<table border=\"1\" class=\"dataframe\">\n",
       "  <thead>\n",
       "    <tr style=\"text-align: right;\">\n",
       "      <th></th>\n",
       "      <th>Illumina_DP</th>\n",
       "      <th>Illumina_DP_PBN</th>\n",
       "      <th>PacBio_DP</th>\n",
       "      <th>PacBio_DP_PBN</th>\n",
       "      <th>RefPos_0based</th>\n",
       "      <th>GC_100bp</th>\n",
       "      <th>count</th>\n",
       "      <th>Norm_Counts</th>\n",
       "      <th>SampleID</th>\n",
       "      <th>Dataset</th>\n",
       "    </tr>\n",
       "  </thead>\n",
       "  <tbody>\n",
       "    <tr>\n",
       "      <th>0</th>\n",
       "      <td>59.0</td>\n",
       "      <td>1.435890</td>\n",
       "      <td>226.0</td>\n",
       "      <td>1.173561</td>\n",
       "      <td>4048552.0</td>\n",
       "      <td>31.0</td>\n",
       "      <td>1</td>\n",
       "      <td>2.273853e-07</td>\n",
       "      <td>M0011368_9</td>\n",
       "      <td>Farhat_Peru_2019</td>\n",
       "    </tr>\n",
       "    <tr>\n",
       "      <th>1</th>\n",
       "      <td>58.5</td>\n",
       "      <td>1.423722</td>\n",
       "      <td>224.5</td>\n",
       "      <td>1.165772</td>\n",
       "      <td>4048552.0</td>\n",
       "      <td>32.0</td>\n",
       "      <td>2</td>\n",
       "      <td>4.547707e-07</td>\n",
       "      <td>M0011368_9</td>\n",
       "      <td>Farhat_Peru_2019</td>\n",
       "    </tr>\n",
       "    <tr>\n",
       "      <th>2</th>\n",
       "      <td>57.5</td>\n",
       "      <td>1.399385</td>\n",
       "      <td>218.0</td>\n",
       "      <td>1.132019</td>\n",
       "      <td>4048552.0</td>\n",
       "      <td>33.0</td>\n",
       "      <td>2</td>\n",
       "      <td>4.547707e-07</td>\n",
       "      <td>M0011368_9</td>\n",
       "      <td>Farhat_Peru_2019</td>\n",
       "    </tr>\n",
       "  </tbody>\n",
       "</table>\n",
       "</div>"
      ],
      "text/plain": [
       "   Illumina_DP  Illumina_DP_PBN  PacBio_DP  PacBio_DP_PBN  RefPos_0based  GC_100bp  count   Norm_Counts    SampleID           Dataset\n",
       "0         59.0         1.435890      226.0       1.173561      4048552.0      31.0      1  2.273853e-07  M0011368_9  Farhat_Peru_2019\n",
       "1         58.5         1.423722      224.5       1.165772      4048552.0      32.0      2  4.547707e-07  M0011368_9  Farhat_Peru_2019\n",
       "2         57.5         1.399385      218.0       1.132019      4048552.0      33.0      2  4.547707e-07  M0011368_9  Farhat_Peru_2019"
      ]
     },
     "execution_count": 17,
     "metadata": {},
     "output_type": "execute_result"
    }
   ],
   "source": [
    "X_CovBiasMeans.head(3)"
   ]
  },
  {
   "cell_type": "code",
   "execution_count": 18,
   "metadata": {},
   "outputs": [],
   "source": [
    "X_CovBiasMeans_S = X_CovBiasMeans.drop([\"RefPos_0based\", \"Illumina_DP\", \"PacBio_DP\", \"Dataset\"], axis = 1)"
   ]
  },
  {
   "cell_type": "code",
   "execution_count": 19,
   "metadata": {},
   "outputs": [
    {
     "data": {
      "text/html": [
       "<div>\n",
       "<style scoped>\n",
       "    .dataframe tbody tr th:only-of-type {\n",
       "        vertical-align: middle;\n",
       "    }\n",
       "\n",
       "    .dataframe tbody tr th {\n",
       "        vertical-align: top;\n",
       "    }\n",
       "\n",
       "    .dataframe thead th {\n",
       "        text-align: right;\n",
       "    }\n",
       "</style>\n",
       "<table border=\"1\" class=\"dataframe\">\n",
       "  <thead>\n",
       "    <tr style=\"text-align: right;\">\n",
       "      <th></th>\n",
       "      <th>Illumina_DP_PBN</th>\n",
       "      <th>PacBio_DP_PBN</th>\n",
       "      <th>GC_100bp</th>\n",
       "      <th>count</th>\n",
       "      <th>Norm_Counts</th>\n",
       "      <th>SampleID</th>\n",
       "    </tr>\n",
       "  </thead>\n",
       "  <tbody>\n",
       "    <tr>\n",
       "      <th>0</th>\n",
       "      <td>1.435890</td>\n",
       "      <td>1.173561</td>\n",
       "      <td>31.0</td>\n",
       "      <td>1</td>\n",
       "      <td>2.273853e-07</td>\n",
       "      <td>M0011368_9</td>\n",
       "    </tr>\n",
       "    <tr>\n",
       "      <th>1</th>\n",
       "      <td>1.423722</td>\n",
       "      <td>1.165772</td>\n",
       "      <td>32.0</td>\n",
       "      <td>2</td>\n",
       "      <td>4.547707e-07</td>\n",
       "      <td>M0011368_9</td>\n",
       "    </tr>\n",
       "    <tr>\n",
       "      <th>2</th>\n",
       "      <td>1.399385</td>\n",
       "      <td>1.132019</td>\n",
       "      <td>33.0</td>\n",
       "      <td>2</td>\n",
       "      <td>4.547707e-07</td>\n",
       "      <td>M0011368_9</td>\n",
       "    </tr>\n",
       "    <tr>\n",
       "      <th>3</th>\n",
       "      <td>1.408849</td>\n",
       "      <td>1.032203</td>\n",
       "      <td>34.0</td>\n",
       "      <td>9</td>\n",
       "      <td>2.046468e-06</td>\n",
       "      <td>M0011368_9</td>\n",
       "    </tr>\n",
       "    <tr>\n",
       "      <th>4</th>\n",
       "      <td>1.315044</td>\n",
       "      <td>0.985906</td>\n",
       "      <td>35.0</td>\n",
       "      <td>29</td>\n",
       "      <td>6.594175e-06</td>\n",
       "      <td>M0011368_9</td>\n",
       "    </tr>\n",
       "  </tbody>\n",
       "</table>\n",
       "</div>"
      ],
      "text/plain": [
       "   Illumina_DP_PBN  PacBio_DP_PBN  GC_100bp  count   Norm_Counts    SampleID\n",
       "0         1.435890       1.173561      31.0      1  2.273853e-07  M0011368_9\n",
       "1         1.423722       1.165772      32.0      2  4.547707e-07  M0011368_9\n",
       "2         1.399385       1.132019      33.0      2  4.547707e-07  M0011368_9\n",
       "3         1.408849       1.032203      34.0      9  2.046468e-06  M0011368_9\n",
       "4         1.315044       0.985906      35.0     29  6.594175e-06  M0011368_9"
      ]
     },
     "execution_count": 19,
     "metadata": {},
     "output_type": "execute_result"
    }
   ],
   "source": [
    "X_CovBiasMeans_S.head()"
   ]
  },
  {
   "cell_type": "code",
   "execution_count": null,
   "metadata": {},
   "outputs": [],
   "source": []
  },
  {
   "cell_type": "markdown",
   "metadata": {},
   "source": [
    "## make DF more \"tidy\" with pd.melt() function"
   ]
  },
  {
   "cell_type": "code",
   "execution_count": 20,
   "metadata": {},
   "outputs": [],
   "source": [
    "X_CovBiasMeans_Tidy = pd.melt(X_CovBiasMeans_S,\n",
    "                              id_vars = [ \"GC_100bp\", \"count\", 'Norm_Counts', \"SampleID\", ], #\"Dataset\"],\n",
    "                              value_vars= [\"Illumina_DP_PBN\", \"PacBio_DP_PBN\"],\n",
    "                              var_name = \"SequencingTechnology\",\n",
    "                              value_name = \"RelativeDepth\")"
   ]
  },
  {
   "cell_type": "code",
   "execution_count": 21,
   "metadata": {},
   "outputs": [
    {
     "data": {
      "text/html": [
       "<div>\n",
       "<style scoped>\n",
       "    .dataframe tbody tr th:only-of-type {\n",
       "        vertical-align: middle;\n",
       "    }\n",
       "\n",
       "    .dataframe tbody tr th {\n",
       "        vertical-align: top;\n",
       "    }\n",
       "\n",
       "    .dataframe thead th {\n",
       "        text-align: right;\n",
       "    }\n",
       "</style>\n",
       "<table border=\"1\" class=\"dataframe\">\n",
       "  <thead>\n",
       "    <tr style=\"text-align: right;\">\n",
       "      <th></th>\n",
       "      <th>GC_100bp</th>\n",
       "      <th>count</th>\n",
       "      <th>Norm_Counts</th>\n",
       "      <th>SampleID</th>\n",
       "      <th>SequencingTechnology</th>\n",
       "      <th>RelativeDepth</th>\n",
       "    </tr>\n",
       "  </thead>\n",
       "  <tbody>\n",
       "    <tr>\n",
       "      <th>0</th>\n",
       "      <td>31.0</td>\n",
       "      <td>1</td>\n",
       "      <td>2.273853e-07</td>\n",
       "      <td>M0011368_9</td>\n",
       "      <td>Illumina_DP_PBN</td>\n",
       "      <td>1.435890</td>\n",
       "    </tr>\n",
       "    <tr>\n",
       "      <th>1</th>\n",
       "      <td>32.0</td>\n",
       "      <td>2</td>\n",
       "      <td>4.547707e-07</td>\n",
       "      <td>M0011368_9</td>\n",
       "      <td>Illumina_DP_PBN</td>\n",
       "      <td>1.423722</td>\n",
       "    </tr>\n",
       "    <tr>\n",
       "      <th>2</th>\n",
       "      <td>33.0</td>\n",
       "      <td>2</td>\n",
       "      <td>4.547707e-07</td>\n",
       "      <td>M0011368_9</td>\n",
       "      <td>Illumina_DP_PBN</td>\n",
       "      <td>1.399385</td>\n",
       "    </tr>\n",
       "    <tr>\n",
       "      <th>3</th>\n",
       "      <td>34.0</td>\n",
       "      <td>9</td>\n",
       "      <td>2.046468e-06</td>\n",
       "      <td>M0011368_9</td>\n",
       "      <td>Illumina_DP_PBN</td>\n",
       "      <td>1.408849</td>\n",
       "    </tr>\n",
       "    <tr>\n",
       "      <th>4</th>\n",
       "      <td>35.0</td>\n",
       "      <td>29</td>\n",
       "      <td>6.594175e-06</td>\n",
       "      <td>M0011368_9</td>\n",
       "      <td>Illumina_DP_PBN</td>\n",
       "      <td>1.315044</td>\n",
       "    </tr>\n",
       "  </tbody>\n",
       "</table>\n",
       "</div>"
      ],
      "text/plain": [
       "   GC_100bp  count   Norm_Counts    SampleID SequencingTechnology  RelativeDepth\n",
       "0      31.0      1  2.273853e-07  M0011368_9      Illumina_DP_PBN       1.435890\n",
       "1      32.0      2  4.547707e-07  M0011368_9      Illumina_DP_PBN       1.423722\n",
       "2      33.0      2  4.547707e-07  M0011368_9      Illumina_DP_PBN       1.399385\n",
       "3      34.0      9  2.046468e-06  M0011368_9      Illumina_DP_PBN       1.408849\n",
       "4      35.0     29  6.594175e-06  M0011368_9      Illumina_DP_PBN       1.315044"
      ]
     },
     "execution_count": 21,
     "metadata": {},
     "output_type": "execute_result"
    }
   ],
   "source": [
    "X_CovBiasMeans_Tidy.head()"
   ]
  },
  {
   "cell_type": "markdown",
   "metadata": {},
   "source": [
    "### Filter Coverage Bias DF by the # of total counts across all genomes\n",
    "\n",
    "We removed all GC% values for \n"
   ]
  },
  {
   "cell_type": "code",
   "execution_count": 22,
   "metadata": {},
   "outputs": [],
   "source": [
    "X_CovBiasMeans_SumOfCounts = X_CovBiasMeans.groupby(\"GC_100bp\").sum()\n",
    "GC_ContentValues_WithEnoughCounts = X_CovBiasMeans_SumOfCounts[ X_CovBiasMeans_SumOfCounts[\"count\"] >= 1000].index.values"
   ]
  },
  {
   "cell_type": "code",
   "execution_count": 23,
   "metadata": {},
   "outputs": [
    {
     "data": {
      "text/plain": [
       "35.0"
      ]
     },
     "execution_count": 23,
     "metadata": {},
     "output_type": "execute_result"
    }
   ],
   "source": [
    "min(GC_ContentValues_WithEnoughCounts)"
   ]
  },
  {
   "cell_type": "code",
   "execution_count": 24,
   "metadata": {},
   "outputs": [
    {
     "data": {
      "text/plain": [
       "91.0"
      ]
     },
     "execution_count": 24,
     "metadata": {},
     "output_type": "execute_result"
    }
   ],
   "source": [
    "max(GC_ContentValues_WithEnoughCounts)"
   ]
  },
  {
   "cell_type": "code",
   "execution_count": null,
   "metadata": {},
   "outputs": [],
   "source": []
  },
  {
   "cell_type": "code",
   "execution_count": 25,
   "metadata": {},
   "outputs": [],
   "source": [
    "X_CovBiasMeans_F = X_CovBiasMeans[ X_CovBiasMeans[\"GC_100bp\"].isin(GC_ContentValues_WithEnoughCounts)]"
   ]
  },
  {
   "cell_type": "code",
   "execution_count": 26,
   "metadata": {},
   "outputs": [],
   "source": [
    "X_CovBiasMeans_Tidy_F = X_CovBiasMeans_Tidy[ X_CovBiasMeans_Tidy[\"GC_100bp\"].isin(GC_ContentValues_WithEnoughCounts)]"
   ]
  },
  {
   "cell_type": "code",
   "execution_count": 27,
   "metadata": {},
   "outputs": [
    {
     "data": {
      "text/html": [
       "<div>\n",
       "<style scoped>\n",
       "    .dataframe tbody tr th:only-of-type {\n",
       "        vertical-align: middle;\n",
       "    }\n",
       "\n",
       "    .dataframe tbody tr th {\n",
       "        vertical-align: top;\n",
       "    }\n",
       "\n",
       "    .dataframe thead th {\n",
       "        text-align: right;\n",
       "    }\n",
       "</style>\n",
       "<table border=\"1\" class=\"dataframe\">\n",
       "  <thead>\n",
       "    <tr style=\"text-align: right;\">\n",
       "      <th></th>\n",
       "      <th>GC_100bp</th>\n",
       "      <th>count</th>\n",
       "      <th>Norm_Counts</th>\n",
       "      <th>SampleID</th>\n",
       "      <th>SequencingTechnology</th>\n",
       "      <th>RelativeDepth</th>\n",
       "    </tr>\n",
       "  </thead>\n",
       "  <tbody>\n",
       "    <tr>\n",
       "      <th>4</th>\n",
       "      <td>35.0</td>\n",
       "      <td>29</td>\n",
       "      <td>0.000007</td>\n",
       "      <td>M0011368_9</td>\n",
       "      <td>Illumina_DP_PBN</td>\n",
       "      <td>1.315044</td>\n",
       "    </tr>\n",
       "    <tr>\n",
       "      <th>5</th>\n",
       "      <td>36.0</td>\n",
       "      <td>76</td>\n",
       "      <td>0.000017</td>\n",
       "      <td>M0011368_9</td>\n",
       "      <td>Illumina_DP_PBN</td>\n",
       "      <td>1.351991</td>\n",
       "    </tr>\n",
       "    <tr>\n",
       "      <th>6</th>\n",
       "      <td>37.0</td>\n",
       "      <td>95</td>\n",
       "      <td>0.000022</td>\n",
       "      <td>M0011368_9</td>\n",
       "      <td>Illumina_DP_PBN</td>\n",
       "      <td>1.310362</td>\n",
       "    </tr>\n",
       "    <tr>\n",
       "      <th>7</th>\n",
       "      <td>38.0</td>\n",
       "      <td>126</td>\n",
       "      <td>0.000029</td>\n",
       "      <td>M0011368_9</td>\n",
       "      <td>Illumina_DP_PBN</td>\n",
       "      <td>1.281562</td>\n",
       "    </tr>\n",
       "    <tr>\n",
       "      <th>8</th>\n",
       "      <td>39.0</td>\n",
       "      <td>181</td>\n",
       "      <td>0.000041</td>\n",
       "      <td>M0011368_9</td>\n",
       "      <td>Illumina_DP_PBN</td>\n",
       "      <td>1.280993</td>\n",
       "    </tr>\n",
       "    <tr>\n",
       "      <th>9</th>\n",
       "      <td>40.0</td>\n",
       "      <td>323</td>\n",
       "      <td>0.000073</td>\n",
       "      <td>M0011368_9</td>\n",
       "      <td>Illumina_DP_PBN</td>\n",
       "      <td>1.242851</td>\n",
       "    </tr>\n",
       "    <tr>\n",
       "      <th>10</th>\n",
       "      <td>41.0</td>\n",
       "      <td>504</td>\n",
       "      <td>0.000115</td>\n",
       "      <td>M0011368_9</td>\n",
       "      <td>Illumina_DP_PBN</td>\n",
       "      <td>1.230908</td>\n",
       "    </tr>\n",
       "    <tr>\n",
       "      <th>11</th>\n",
       "      <td>42.0</td>\n",
       "      <td>755</td>\n",
       "      <td>0.000172</td>\n",
       "      <td>M0011368_9</td>\n",
       "      <td>Illumina_DP_PBN</td>\n",
       "      <td>1.254958</td>\n",
       "    </tr>\n",
       "    <tr>\n",
       "      <th>12</th>\n",
       "      <td>43.0</td>\n",
       "      <td>982</td>\n",
       "      <td>0.000223</td>\n",
       "      <td>M0011368_9</td>\n",
       "      <td>Illumina_DP_PBN</td>\n",
       "      <td>1.242953</td>\n",
       "    </tr>\n",
       "    <tr>\n",
       "      <th>13</th>\n",
       "      <td>44.0</td>\n",
       "      <td>1391</td>\n",
       "      <td>0.000316</td>\n",
       "      <td>M0011368_9</td>\n",
       "      <td>Illumina_DP_PBN</td>\n",
       "      <td>1.240021</td>\n",
       "    </tr>\n",
       "    <tr>\n",
       "      <th>14</th>\n",
       "      <td>45.0</td>\n",
       "      <td>1874</td>\n",
       "      <td>0.000426</td>\n",
       "      <td>M0011368_9</td>\n",
       "      <td>Illumina_DP_PBN</td>\n",
       "      <td>1.237258</td>\n",
       "    </tr>\n",
       "    <tr>\n",
       "      <th>15</th>\n",
       "      <td>46.0</td>\n",
       "      <td>2483</td>\n",
       "      <td>0.000565</td>\n",
       "      <td>M0011368_9</td>\n",
       "      <td>Illumina_DP_PBN</td>\n",
       "      <td>1.237175</td>\n",
       "    </tr>\n",
       "    <tr>\n",
       "      <th>16</th>\n",
       "      <td>47.0</td>\n",
       "      <td>3441</td>\n",
       "      <td>0.000782</td>\n",
       "      <td>M0011368_9</td>\n",
       "      <td>Illumina_DP_PBN</td>\n",
       "      <td>1.234863</td>\n",
       "    </tr>\n",
       "    <tr>\n",
       "      <th>17</th>\n",
       "      <td>48.0</td>\n",
       "      <td>4839</td>\n",
       "      <td>0.001100</td>\n",
       "      <td>M0011368_9</td>\n",
       "      <td>Illumina_DP_PBN</td>\n",
       "      <td>1.221448</td>\n",
       "    </tr>\n",
       "    <tr>\n",
       "      <th>18</th>\n",
       "      <td>49.0</td>\n",
       "      <td>6760</td>\n",
       "      <td>0.001537</td>\n",
       "      <td>M0011368_9</td>\n",
       "      <td>Illumina_DP_PBN</td>\n",
       "      <td>1.215409</td>\n",
       "    </tr>\n",
       "    <tr>\n",
       "      <th>19</th>\n",
       "      <td>50.0</td>\n",
       "      <td>9571</td>\n",
       "      <td>0.002176</td>\n",
       "      <td>M0011368_9</td>\n",
       "      <td>Illumina_DP_PBN</td>\n",
       "      <td>1.204582</td>\n",
       "    </tr>\n",
       "    <tr>\n",
       "      <th>20</th>\n",
       "      <td>51.0</td>\n",
       "      <td>13432</td>\n",
       "      <td>0.003054</td>\n",
       "      <td>M0011368_9</td>\n",
       "      <td>Illumina_DP_PBN</td>\n",
       "      <td>1.192631</td>\n",
       "    </tr>\n",
       "    <tr>\n",
       "      <th>21</th>\n",
       "      <td>52.0</td>\n",
       "      <td>18763</td>\n",
       "      <td>0.004266</td>\n",
       "      <td>M0011368_9</td>\n",
       "      <td>Illumina_DP_PBN</td>\n",
       "      <td>1.179979</td>\n",
       "    </tr>\n",
       "    <tr>\n",
       "      <th>22</th>\n",
       "      <td>53.0</td>\n",
       "      <td>26151</td>\n",
       "      <td>0.005946</td>\n",
       "      <td>M0011368_9</td>\n",
       "      <td>Illumina_DP_PBN</td>\n",
       "      <td>1.167691</td>\n",
       "    </tr>\n",
       "    <tr>\n",
       "      <th>23</th>\n",
       "      <td>54.0</td>\n",
       "      <td>36159</td>\n",
       "      <td>0.008222</td>\n",
       "      <td>M0011368_9</td>\n",
       "      <td>Illumina_DP_PBN</td>\n",
       "      <td>1.159643</td>\n",
       "    </tr>\n",
       "    <tr>\n",
       "      <th>24</th>\n",
       "      <td>55.0</td>\n",
       "      <td>49658</td>\n",
       "      <td>0.011292</td>\n",
       "      <td>M0011368_9</td>\n",
       "      <td>Illumina_DP_PBN</td>\n",
       "      <td>1.141359</td>\n",
       "    </tr>\n",
       "    <tr>\n",
       "      <th>25</th>\n",
       "      <td>56.0</td>\n",
       "      <td>66805</td>\n",
       "      <td>0.015190</td>\n",
       "      <td>M0011368_9</td>\n",
       "      <td>Illumina_DP_PBN</td>\n",
       "      <td>1.130480</td>\n",
       "    </tr>\n",
       "    <tr>\n",
       "      <th>26</th>\n",
       "      <td>57.0</td>\n",
       "      <td>87260</td>\n",
       "      <td>0.019842</td>\n",
       "      <td>M0011368_9</td>\n",
       "      <td>Illumina_DP_PBN</td>\n",
       "      <td>1.116547</td>\n",
       "    </tr>\n",
       "    <tr>\n",
       "      <th>27</th>\n",
       "      <td>58.0</td>\n",
       "      <td>114141</td>\n",
       "      <td>0.025954</td>\n",
       "      <td>M0011368_9</td>\n",
       "      <td>Illumina_DP_PBN</td>\n",
       "      <td>1.102121</td>\n",
       "    </tr>\n",
       "    <tr>\n",
       "      <th>28</th>\n",
       "      <td>59.0</td>\n",
       "      <td>147585</td>\n",
       "      <td>0.033559</td>\n",
       "      <td>M0011368_9</td>\n",
       "      <td>Illumina_DP_PBN</td>\n",
       "      <td>1.091592</td>\n",
       "    </tr>\n",
       "  </tbody>\n",
       "</table>\n",
       "</div>"
      ],
      "text/plain": [
       "    GC_100bp   count  Norm_Counts    SampleID SequencingTechnology  RelativeDepth\n",
       "4       35.0      29     0.000007  M0011368_9      Illumina_DP_PBN       1.315044\n",
       "5       36.0      76     0.000017  M0011368_9      Illumina_DP_PBN       1.351991\n",
       "6       37.0      95     0.000022  M0011368_9      Illumina_DP_PBN       1.310362\n",
       "7       38.0     126     0.000029  M0011368_9      Illumina_DP_PBN       1.281562\n",
       "8       39.0     181     0.000041  M0011368_9      Illumina_DP_PBN       1.280993\n",
       "9       40.0     323     0.000073  M0011368_9      Illumina_DP_PBN       1.242851\n",
       "10      41.0     504     0.000115  M0011368_9      Illumina_DP_PBN       1.230908\n",
       "11      42.0     755     0.000172  M0011368_9      Illumina_DP_PBN       1.254958\n",
       "12      43.0     982     0.000223  M0011368_9      Illumina_DP_PBN       1.242953\n",
       "13      44.0    1391     0.000316  M0011368_9      Illumina_DP_PBN       1.240021\n",
       "14      45.0    1874     0.000426  M0011368_9      Illumina_DP_PBN       1.237258\n",
       "15      46.0    2483     0.000565  M0011368_9      Illumina_DP_PBN       1.237175\n",
       "16      47.0    3441     0.000782  M0011368_9      Illumina_DP_PBN       1.234863\n",
       "17      48.0    4839     0.001100  M0011368_9      Illumina_DP_PBN       1.221448\n",
       "18      49.0    6760     0.001537  M0011368_9      Illumina_DP_PBN       1.215409\n",
       "19      50.0    9571     0.002176  M0011368_9      Illumina_DP_PBN       1.204582\n",
       "20      51.0   13432     0.003054  M0011368_9      Illumina_DP_PBN       1.192631\n",
       "21      52.0   18763     0.004266  M0011368_9      Illumina_DP_PBN       1.179979\n",
       "22      53.0   26151     0.005946  M0011368_9      Illumina_DP_PBN       1.167691\n",
       "23      54.0   36159     0.008222  M0011368_9      Illumina_DP_PBN       1.159643\n",
       "24      55.0   49658     0.011292  M0011368_9      Illumina_DP_PBN       1.141359\n",
       "25      56.0   66805     0.015190  M0011368_9      Illumina_DP_PBN       1.130480\n",
       "26      57.0   87260     0.019842  M0011368_9      Illumina_DP_PBN       1.116547\n",
       "27      58.0  114141     0.025954  M0011368_9      Illumina_DP_PBN       1.102121\n",
       "28      59.0  147585     0.033559  M0011368_9      Illumina_DP_PBN       1.091592"
      ]
     },
     "execution_count": 27,
     "metadata": {},
     "output_type": "execute_result"
    }
   ],
   "source": [
    "X_CovBiasMeans_Tidy_F.head(25)"
   ]
  },
  {
   "cell_type": "code",
   "execution_count": 28,
   "metadata": {},
   "outputs": [
    {
     "data": {
      "text/html": [
       "<div>\n",
       "<style scoped>\n",
       "    .dataframe tbody tr th:only-of-type {\n",
       "        vertical-align: middle;\n",
       "    }\n",
       "\n",
       "    .dataframe tbody tr th {\n",
       "        vertical-align: top;\n",
       "    }\n",
       "\n",
       "    .dataframe thead th {\n",
       "        text-align: right;\n",
       "    }\n",
       "</style>\n",
       "<table border=\"1\" class=\"dataframe\">\n",
       "  <thead>\n",
       "    <tr style=\"text-align: right;\">\n",
       "      <th></th>\n",
       "      <th>GC_100bp</th>\n",
       "      <th>count</th>\n",
       "      <th>Norm_Counts</th>\n",
       "      <th>SampleID</th>\n",
       "      <th>SequencingTechnology</th>\n",
       "      <th>RelativeDepth</th>\n",
       "    </tr>\n",
       "  </thead>\n",
       "  <tbody>\n",
       "    <tr>\n",
       "      <th>4609</th>\n",
       "      <td>67.0</td>\n",
       "      <td>311103</td>\n",
       "      <td>0.070842</td>\n",
       "      <td>DNA086</td>\n",
       "      <td>PacBio_DP_PBN</td>\n",
       "      <td>0.995741</td>\n",
       "    </tr>\n",
       "    <tr>\n",
       "      <th>4610</th>\n",
       "      <td>68.0</td>\n",
       "      <td>290987</td>\n",
       "      <td>0.066262</td>\n",
       "      <td>DNA086</td>\n",
       "      <td>PacBio_DP_PBN</td>\n",
       "      <td>0.991579</td>\n",
       "    </tr>\n",
       "    <tr>\n",
       "      <th>4611</th>\n",
       "      <td>69.0</td>\n",
       "      <td>262727</td>\n",
       "      <td>0.059826</td>\n",
       "      <td>DNA086</td>\n",
       "      <td>PacBio_DP_PBN</td>\n",
       "      <td>0.988939</td>\n",
       "    </tr>\n",
       "    <tr>\n",
       "      <th>4612</th>\n",
       "      <td>70.0</td>\n",
       "      <td>228669</td>\n",
       "      <td>0.052071</td>\n",
       "      <td>DNA086</td>\n",
       "      <td>PacBio_DP_PBN</td>\n",
       "      <td>0.987271</td>\n",
       "    </tr>\n",
       "    <tr>\n",
       "      <th>4613</th>\n",
       "      <td>71.0</td>\n",
       "      <td>191003</td>\n",
       "      <td>0.043494</td>\n",
       "      <td>DNA086</td>\n",
       "      <td>PacBio_DP_PBN</td>\n",
       "      <td>0.985703</td>\n",
       "    </tr>\n",
       "    <tr>\n",
       "      <th>4614</th>\n",
       "      <td>72.0</td>\n",
       "      <td>151264</td>\n",
       "      <td>0.034445</td>\n",
       "      <td>DNA086</td>\n",
       "      <td>PacBio_DP_PBN</td>\n",
       "      <td>0.984845</td>\n",
       "    </tr>\n",
       "    <tr>\n",
       "      <th>4615</th>\n",
       "      <td>73.0</td>\n",
       "      <td>118870</td>\n",
       "      <td>0.027068</td>\n",
       "      <td>DNA086</td>\n",
       "      <td>PacBio_DP_PBN</td>\n",
       "      <td>0.982489</td>\n",
       "    </tr>\n",
       "    <tr>\n",
       "      <th>4616</th>\n",
       "      <td>74.0</td>\n",
       "      <td>90830</td>\n",
       "      <td>0.020683</td>\n",
       "      <td>DNA086</td>\n",
       "      <td>PacBio_DP_PBN</td>\n",
       "      <td>0.980823</td>\n",
       "    </tr>\n",
       "    <tr>\n",
       "      <th>4617</th>\n",
       "      <td>75.0</td>\n",
       "      <td>67425</td>\n",
       "      <td>0.015354</td>\n",
       "      <td>DNA086</td>\n",
       "      <td>PacBio_DP_PBN</td>\n",
       "      <td>0.979070</td>\n",
       "    </tr>\n",
       "    <tr>\n",
       "      <th>4618</th>\n",
       "      <td>76.0</td>\n",
       "      <td>49596</td>\n",
       "      <td>0.011294</td>\n",
       "      <td>DNA086</td>\n",
       "      <td>PacBio_DP_PBN</td>\n",
       "      <td>0.975172</td>\n",
       "    </tr>\n",
       "    <tr>\n",
       "      <th>4619</th>\n",
       "      <td>77.0</td>\n",
       "      <td>36220</td>\n",
       "      <td>0.008248</td>\n",
       "      <td>DNA086</td>\n",
       "      <td>PacBio_DP_PBN</td>\n",
       "      <td>0.967212</td>\n",
       "    </tr>\n",
       "    <tr>\n",
       "      <th>4620</th>\n",
       "      <td>78.0</td>\n",
       "      <td>26763</td>\n",
       "      <td>0.006094</td>\n",
       "      <td>DNA086</td>\n",
       "      <td>PacBio_DP_PBN</td>\n",
       "      <td>0.962968</td>\n",
       "    </tr>\n",
       "    <tr>\n",
       "      <th>4621</th>\n",
       "      <td>79.0</td>\n",
       "      <td>19665</td>\n",
       "      <td>0.004478</td>\n",
       "      <td>DNA086</td>\n",
       "      <td>PacBio_DP_PBN</td>\n",
       "      <td>0.947549</td>\n",
       "    </tr>\n",
       "    <tr>\n",
       "      <th>4622</th>\n",
       "      <td>80.0</td>\n",
       "      <td>15085</td>\n",
       "      <td>0.003435</td>\n",
       "      <td>DNA086</td>\n",
       "      <td>PacBio_DP_PBN</td>\n",
       "      <td>0.934159</td>\n",
       "    </tr>\n",
       "    <tr>\n",
       "      <th>4623</th>\n",
       "      <td>81.0</td>\n",
       "      <td>12324</td>\n",
       "      <td>0.002806</td>\n",
       "      <td>DNA086</td>\n",
       "      <td>PacBio_DP_PBN</td>\n",
       "      <td>0.918193</td>\n",
       "    </tr>\n",
       "    <tr>\n",
       "      <th>4624</th>\n",
       "      <td>82.0</td>\n",
       "      <td>9486</td>\n",
       "      <td>0.002160</td>\n",
       "      <td>DNA086</td>\n",
       "      <td>PacBio_DP_PBN</td>\n",
       "      <td>0.907009</td>\n",
       "    </tr>\n",
       "    <tr>\n",
       "      <th>4625</th>\n",
       "      <td>83.0</td>\n",
       "      <td>7553</td>\n",
       "      <td>0.001720</td>\n",
       "      <td>DNA086</td>\n",
       "      <td>PacBio_DP_PBN</td>\n",
       "      <td>0.907553</td>\n",
       "    </tr>\n",
       "    <tr>\n",
       "      <th>4626</th>\n",
       "      <td>84.0</td>\n",
       "      <td>5378</td>\n",
       "      <td>0.001225</td>\n",
       "      <td>DNA086</td>\n",
       "      <td>PacBio_DP_PBN</td>\n",
       "      <td>0.906321</td>\n",
       "    </tr>\n",
       "    <tr>\n",
       "      <th>4627</th>\n",
       "      <td>85.0</td>\n",
       "      <td>3980</td>\n",
       "      <td>0.000906</td>\n",
       "      <td>DNA086</td>\n",
       "      <td>PacBio_DP_PBN</td>\n",
       "      <td>0.894248</td>\n",
       "    </tr>\n",
       "    <tr>\n",
       "      <th>4628</th>\n",
       "      <td>86.0</td>\n",
       "      <td>2984</td>\n",
       "      <td>0.000679</td>\n",
       "      <td>DNA086</td>\n",
       "      <td>PacBio_DP_PBN</td>\n",
       "      <td>0.884947</td>\n",
       "    </tr>\n",
       "    <tr>\n",
       "      <th>4629</th>\n",
       "      <td>87.0</td>\n",
       "      <td>1747</td>\n",
       "      <td>0.000398</td>\n",
       "      <td>DNA086</td>\n",
       "      <td>PacBio_DP_PBN</td>\n",
       "      <td>0.893857</td>\n",
       "    </tr>\n",
       "    <tr>\n",
       "      <th>4630</th>\n",
       "      <td>88.0</td>\n",
       "      <td>1024</td>\n",
       "      <td>0.000233</td>\n",
       "      <td>DNA086</td>\n",
       "      <td>PacBio_DP_PBN</td>\n",
       "      <td>0.883598</td>\n",
       "    </tr>\n",
       "    <tr>\n",
       "      <th>4631</th>\n",
       "      <td>89.0</td>\n",
       "      <td>500</td>\n",
       "      <td>0.000114</td>\n",
       "      <td>DNA086</td>\n",
       "      <td>PacBio_DP_PBN</td>\n",
       "      <td>0.878551</td>\n",
       "    </tr>\n",
       "    <tr>\n",
       "      <th>4632</th>\n",
       "      <td>90.0</td>\n",
       "      <td>221</td>\n",
       "      <td>0.000050</td>\n",
       "      <td>DNA086</td>\n",
       "      <td>PacBio_DP_PBN</td>\n",
       "      <td>0.869420</td>\n",
       "    </tr>\n",
       "    <tr>\n",
       "      <th>4633</th>\n",
       "      <td>91.0</td>\n",
       "      <td>91</td>\n",
       "      <td>0.000021</td>\n",
       "      <td>DNA086</td>\n",
       "      <td>PacBio_DP_PBN</td>\n",
       "      <td>0.834792</td>\n",
       "    </tr>\n",
       "  </tbody>\n",
       "</table>\n",
       "</div>"
      ],
      "text/plain": [
       "      GC_100bp   count  Norm_Counts SampleID SequencingTechnology  RelativeDepth\n",
       "4609      67.0  311103     0.070842   DNA086        PacBio_DP_PBN       0.995741\n",
       "4610      68.0  290987     0.066262   DNA086        PacBio_DP_PBN       0.991579\n",
       "4611      69.0  262727     0.059826   DNA086        PacBio_DP_PBN       0.988939\n",
       "4612      70.0  228669     0.052071   DNA086        PacBio_DP_PBN       0.987271\n",
       "4613      71.0  191003     0.043494   DNA086        PacBio_DP_PBN       0.985703\n",
       "4614      72.0  151264     0.034445   DNA086        PacBio_DP_PBN       0.984845\n",
       "4615      73.0  118870     0.027068   DNA086        PacBio_DP_PBN       0.982489\n",
       "4616      74.0   90830     0.020683   DNA086        PacBio_DP_PBN       0.980823\n",
       "4617      75.0   67425     0.015354   DNA086        PacBio_DP_PBN       0.979070\n",
       "4618      76.0   49596     0.011294   DNA086        PacBio_DP_PBN       0.975172\n",
       "4619      77.0   36220     0.008248   DNA086        PacBio_DP_PBN       0.967212\n",
       "4620      78.0   26763     0.006094   DNA086        PacBio_DP_PBN       0.962968\n",
       "4621      79.0   19665     0.004478   DNA086        PacBio_DP_PBN       0.947549\n",
       "4622      80.0   15085     0.003435   DNA086        PacBio_DP_PBN       0.934159\n",
       "4623      81.0   12324     0.002806   DNA086        PacBio_DP_PBN       0.918193\n",
       "4624      82.0    9486     0.002160   DNA086        PacBio_DP_PBN       0.907009\n",
       "4625      83.0    7553     0.001720   DNA086        PacBio_DP_PBN       0.907553\n",
       "4626      84.0    5378     0.001225   DNA086        PacBio_DP_PBN       0.906321\n",
       "4627      85.0    3980     0.000906   DNA086        PacBio_DP_PBN       0.894248\n",
       "4628      86.0    2984     0.000679   DNA086        PacBio_DP_PBN       0.884947\n",
       "4629      87.0    1747     0.000398   DNA086        PacBio_DP_PBN       0.893857\n",
       "4630      88.0    1024     0.000233   DNA086        PacBio_DP_PBN       0.883598\n",
       "4631      89.0     500     0.000114   DNA086        PacBio_DP_PBN       0.878551\n",
       "4632      90.0     221     0.000050   DNA086        PacBio_DP_PBN       0.869420\n",
       "4633      91.0      91     0.000021   DNA086        PacBio_DP_PBN       0.834792"
      ]
     },
     "execution_count": 28,
     "metadata": {},
     "output_type": "execute_result"
    }
   ],
   "source": [
    "X_CovBiasMeans_Tidy_F.tail(25)"
   ]
  },
  {
   "cell_type": "code",
   "execution_count": null,
   "metadata": {},
   "outputs": [],
   "source": []
  },
  {
   "cell_type": "code",
   "execution_count": null,
   "metadata": {},
   "outputs": [],
   "source": []
  },
  {
   "cell_type": "code",
   "execution_count": 29,
   "metadata": {},
   "outputs": [],
   "source": [
    "#i_GC_Bin_Vs_Cov_Bias_F = X[ i_GC_Bin_Vs_Cov_Bias[\"count\"] >= 1000]"
   ]
  },
  {
   "cell_type": "code",
   "execution_count": 30,
   "metadata": {},
   "outputs": [],
   "source": [
    "#g = sns.relplot(x=\"GC_100bp\", y=\"RelativeDepth\", hue=\"SequencingTechnology\", col=\"SampleID\", col_wrap=3, height=6, aspect=3, \n",
    "#            kind=\"line\", data=X_CovBiasMeans_Tidy_F, legend=\"full\"  )\n",
    "\n",
    "#g.map(plt.axhline, y=1, ls='--', c='black')"
   ]
  },
  {
   "cell_type": "code",
   "execution_count": null,
   "metadata": {},
   "outputs": [],
   "source": []
  },
  {
   "cell_type": "code",
   "execution_count": 31,
   "metadata": {},
   "outputs": [
    {
     "data": {
      "image/png": "[encoded data removed]",
      "text/plain": [
       "<Figure size 700.234x288 with 1 Axes>"
      ]
     },
     "metadata": {
      "needs_background": "light"
     },
     "output_type": "display_data"
    }
   ],
   "source": [
    "\n",
    "sns.relplot(x=\"GC_100bp\", y=\"RelativeDepth\",\n",
    "            kind=\"line\", hue = \"SequencingTechnology\",\n",
    "            data=X_CovBiasMeans_Tidy_F,\n",
    "            height=4, # make the plot 5 units high\n",
    "            aspect=2)\n",
    "\n",
    "plt.plot([36,90], [1,1], linestyle=\"--\", color=\"black\")\n",
    "\n",
    "plt.ylim(0, 1.3)\n",
    "plt.xlim(35, 91)\n",
    "\n",
    "plt.title(\"PacBio vs Illumina: Relative Depth and GC% (100 bp windows), N = 36 Isolates\")\n",
    "\n",
    "plt.xlabel(\"GC% (100 bp window)\")\n",
    "plt.ylabel(\"Mean Relative depth (across all positions with a given GC%)\")\n",
    "\n",
    "\n",
    "!mkdir ./SeqDepthBias_Plots/\n",
    "\n",
    "Output_PNG_PATH = \"./SeqDepthBias_Plots/RelativeDepth_Vs_GCcontent_36CI_Comparing_Illumina_and_PacBio_V1.png\"\n",
    "Output_PDF_PATH = \"./SeqDepthBias_Plots/RelativeDepth_Vs_GCcontent_36CI_Comparing_Illumina_and_PacBio_V1.pdf\"\n",
    "\n",
    "plt.savefig(Output_PNG_PATH, bbox_inches='tight', dpi=100)\n",
    "plt.savefig(Output_PDF_PATH, bbox_inches='tight', transparent=True)\n",
    "\n",
    "plt.show()\n"
   ]
  },
  {
   "cell_type": "code",
   "execution_count": null,
   "metadata": {},
   "outputs": [],
   "source": []
  },
  {
   "cell_type": "markdown",
   "metadata": {},
   "source": [
    "# What is the mean relative depth of positions with a GC% >= 80%?"
   ]
  },
  {
   "cell_type": "code",
   "execution_count": 32,
   "metadata": {},
   "outputs": [
    {
     "data": {
      "text/html": [
       "<div>\n",
       "<style scoped>\n",
       "    .dataframe tbody tr th:only-of-type {\n",
       "        vertical-align: middle;\n",
       "    }\n",
       "\n",
       "    .dataframe tbody tr th {\n",
       "        vertical-align: top;\n",
       "    }\n",
       "\n",
       "    .dataframe thead th {\n",
       "        text-align: right;\n",
       "    }\n",
       "</style>\n",
       "<table border=\"1\" class=\"dataframe\">\n",
       "  <thead>\n",
       "    <tr style=\"text-align: right;\">\n",
       "      <th></th>\n",
       "      <th>GC_100bp</th>\n",
       "      <th>count</th>\n",
       "      <th>Norm_Counts</th>\n",
       "      <th>RelativeDepth</th>\n",
       "    </tr>\n",
       "    <tr>\n",
       "      <th>SequencingTechnology</th>\n",
       "      <th></th>\n",
       "      <th></th>\n",
       "      <th></th>\n",
       "      <th></th>\n",
       "    </tr>\n",
       "  </thead>\n",
       "  <tbody>\n",
       "    <tr>\n",
       "      <th>Illumina_DP_PBN</th>\n",
       "      <td>85.5</td>\n",
       "      <td>5194.93287</td>\n",
       "      <td>0.001178</td>\n",
       "      <td>0.351704</td>\n",
       "    </tr>\n",
       "    <tr>\n",
       "      <th>PacBio_DP_PBN</th>\n",
       "      <td>85.5</td>\n",
       "      <td>5194.93287</td>\n",
       "      <td>0.001178</td>\n",
       "      <td>0.786498</td>\n",
       "    </tr>\n",
       "  </tbody>\n",
       "</table>\n",
       "</div>"
      ],
      "text/plain": [
       "                      GC_100bp       count  Norm_Counts  RelativeDepth\n",
       "SequencingTechnology                                                  \n",
       "Illumina_DP_PBN           85.5  5194.93287     0.001178       0.351704\n",
       "PacBio_DP_PBN             85.5  5194.93287     0.001178       0.786498"
      ]
     },
     "execution_count": 32,
     "metadata": {},
     "output_type": "execute_result"
    }
   ],
   "source": [
    "X_CovBiasMeans_Tidy_F[ X_CovBiasMeans_Tidy_F[\"GC_100bp\"] >= 80].groupby(\"SequencingTechnology\").mean()"
   ]
  },
  {
   "cell_type": "code",
   "execution_count": 33,
   "metadata": {},
   "outputs": [
    {
     "data": {
      "text/html": [
       "<div>\n",
       "<style scoped>\n",
       "    .dataframe tbody tr th:only-of-type {\n",
       "        vertical-align: middle;\n",
       "    }\n",
       "\n",
       "    .dataframe tbody tr th {\n",
       "        vertical-align: top;\n",
       "    }\n",
       "\n",
       "    .dataframe thead th {\n",
       "        text-align: right;\n",
       "    }\n",
       "</style>\n",
       "<table border=\"1\" class=\"dataframe\">\n",
       "  <thead>\n",
       "    <tr style=\"text-align: right;\">\n",
       "      <th></th>\n",
       "      <th>GC_100bp</th>\n",
       "      <th>count</th>\n",
       "      <th>Norm_Counts</th>\n",
       "      <th>RelativeDepth</th>\n",
       "    </tr>\n",
       "    <tr>\n",
       "      <th>SequencingTechnology</th>\n",
       "      <th></th>\n",
       "      <th></th>\n",
       "      <th></th>\n",
       "      <th></th>\n",
       "    </tr>\n",
       "  </thead>\n",
       "  <tbody>\n",
       "    <tr>\n",
       "      <th>Illumina_DP_PBN</th>\n",
       "      <td>85.5</td>\n",
       "      <td>3668.5</td>\n",
       "      <td>0.00083</td>\n",
       "      <td>0.336960</td>\n",
       "    </tr>\n",
       "    <tr>\n",
       "      <th>PacBio_DP_PBN</th>\n",
       "      <td>85.5</td>\n",
       "      <td>3668.5</td>\n",
       "      <td>0.00083</td>\n",
       "      <td>0.792365</td>\n",
       "    </tr>\n",
       "  </tbody>\n",
       "</table>\n",
       "</div>"
      ],
      "text/plain": [
       "                      GC_100bp   count  Norm_Counts  RelativeDepth\n",
       "SequencingTechnology                                              \n",
       "Illumina_DP_PBN           85.5  3668.5      0.00083       0.336960\n",
       "PacBio_DP_PBN             85.5  3668.5      0.00083       0.792365"
      ]
     },
     "execution_count": 33,
     "metadata": {},
     "output_type": "execute_result"
    }
   ],
   "source": [
    "X_CovBiasMeans_Tidy_F[ X_CovBiasMeans_Tidy_F[\"GC_100bp\"] >= 80].groupby(\"SequencingTechnology\").median()"
   ]
  },
  {
   "cell_type": "code",
   "execution_count": 34,
   "metadata": {},
   "outputs": [
    {
     "data": {
      "text/html": [
       "<div>\n",
       "<style scoped>\n",
       "    .dataframe tbody tr th:only-of-type {\n",
       "        vertical-align: middle;\n",
       "    }\n",
       "\n",
       "    .dataframe tbody tr th {\n",
       "        vertical-align: top;\n",
       "    }\n",
       "\n",
       "    .dataframe thead th {\n",
       "        text-align: right;\n",
       "    }\n",
       "</style>\n",
       "<table border=\"1\" class=\"dataframe\">\n",
       "  <thead>\n",
       "    <tr style=\"text-align: right;\">\n",
       "      <th></th>\n",
       "      <th>GC_100bp</th>\n",
       "      <th>count</th>\n",
       "      <th>Norm_Counts</th>\n",
       "      <th>SampleID</th>\n",
       "      <th>SequencingTechnology</th>\n",
       "      <th>RelativeDepth</th>\n",
       "    </tr>\n",
       "  </thead>\n",
       "  <tbody>\n",
       "    <tr>\n",
       "      <th>4</th>\n",
       "      <td>35.0</td>\n",
       "      <td>29</td>\n",
       "      <td>0.000007</td>\n",
       "      <td>M0011368_9</td>\n",
       "      <td>Illumina_DP_PBN</td>\n",
       "      <td>1.315044</td>\n",
       "    </tr>\n",
       "    <tr>\n",
       "      <th>5</th>\n",
       "      <td>36.0</td>\n",
       "      <td>76</td>\n",
       "      <td>0.000017</td>\n",
       "      <td>M0011368_9</td>\n",
       "      <td>Illumina_DP_PBN</td>\n",
       "      <td>1.351991</td>\n",
       "    </tr>\n",
       "    <tr>\n",
       "      <th>6</th>\n",
       "      <td>37.0</td>\n",
       "      <td>95</td>\n",
       "      <td>0.000022</td>\n",
       "      <td>M0011368_9</td>\n",
       "      <td>Illumina_DP_PBN</td>\n",
       "      <td>1.310362</td>\n",
       "    </tr>\n",
       "    <tr>\n",
       "      <th>7</th>\n",
       "      <td>38.0</td>\n",
       "      <td>126</td>\n",
       "      <td>0.000029</td>\n",
       "      <td>M0011368_9</td>\n",
       "      <td>Illumina_DP_PBN</td>\n",
       "      <td>1.281562</td>\n",
       "    </tr>\n",
       "    <tr>\n",
       "      <th>8</th>\n",
       "      <td>39.0</td>\n",
       "      <td>181</td>\n",
       "      <td>0.000041</td>\n",
       "      <td>M0011368_9</td>\n",
       "      <td>Illumina_DP_PBN</td>\n",
       "      <td>1.280993</td>\n",
       "    </tr>\n",
       "  </tbody>\n",
       "</table>\n",
       "</div>"
      ],
      "text/plain": [
       "   GC_100bp  count  Norm_Counts    SampleID SequencingTechnology  RelativeDepth\n",
       "4      35.0     29     0.000007  M0011368_9      Illumina_DP_PBN       1.315044\n",
       "5      36.0     76     0.000017  M0011368_9      Illumina_DP_PBN       1.351991\n",
       "6      37.0     95     0.000022  M0011368_9      Illumina_DP_PBN       1.310362\n",
       "7      38.0    126     0.000029  M0011368_9      Illumina_DP_PBN       1.281562\n",
       "8      39.0    181     0.000041  M0011368_9      Illumina_DP_PBN       1.280993"
      ]
     },
     "execution_count": 34,
     "metadata": {},
     "output_type": "execute_result"
    }
   ],
   "source": [
    "X_CovBiasMeans_Tidy_F.head()"
   ]
  },
  {
   "cell_type": "code",
   "execution_count": 35,
   "metadata": {},
   "outputs": [
    {
     "data": {
      "text/html": [
       "<div>\n",
       "<style scoped>\n",
       "    .dataframe tbody tr th:only-of-type {\n",
       "        vertical-align: middle;\n",
       "    }\n",
       "\n",
       "    .dataframe tbody tr th {\n",
       "        vertical-align: top;\n",
       "    }\n",
       "\n",
       "    .dataframe thead th {\n",
       "        text-align: right;\n",
       "    }\n",
       "</style>\n",
       "<table border=\"1\" class=\"dataframe\">\n",
       "  <thead>\n",
       "    <tr style=\"text-align: right;\">\n",
       "      <th></th>\n",
       "      <th>GC_100bp</th>\n",
       "      <th>count</th>\n",
       "      <th>Norm_Counts</th>\n",
       "      <th>RelativeDepth</th>\n",
       "    </tr>\n",
       "    <tr>\n",
       "      <th>SequencingTechnology</th>\n",
       "      <th></th>\n",
       "      <th></th>\n",
       "      <th></th>\n",
       "      <th></th>\n",
       "    </tr>\n",
       "  </thead>\n",
       "  <tbody>\n",
       "    <tr>\n",
       "      <th>Illumina_DP_PBN</th>\n",
       "      <td>63.0</td>\n",
       "      <td>77390.970273</td>\n",
       "      <td>0.017544</td>\n",
       "      <td>0.874853</td>\n",
       "    </tr>\n",
       "    <tr>\n",
       "      <th>PacBio_DP_PBN</th>\n",
       "      <td>63.0</td>\n",
       "      <td>77390.970273</td>\n",
       "      <td>0.017544</td>\n",
       "      <td>0.962645</td>\n",
       "    </tr>\n",
       "  </tbody>\n",
       "</table>\n",
       "</div>"
      ],
      "text/plain": [
       "                      GC_100bp         count  Norm_Counts  RelativeDepth\n",
       "SequencingTechnology                                                    \n",
       "Illumina_DP_PBN           63.0  77390.970273     0.017544       0.874853\n",
       "PacBio_DP_PBN             63.0  77390.970273     0.017544       0.962645"
      ]
     },
     "execution_count": 35,
     "metadata": {},
     "output_type": "execute_result"
    }
   ],
   "source": [
    "X_CovBiasMeans_Tidy_F.groupby(\"SequencingTechnology\").mean()"
   ]
  },
  {
   "cell_type": "code",
   "execution_count": 36,
   "metadata": {},
   "outputs": [
    {
     "data": {
      "text/html": [
       "<div>\n",
       "<style scoped>\n",
       "    .dataframe tbody tr th:only-of-type {\n",
       "        vertical-align: middle;\n",
       "    }\n",
       "\n",
       "    .dataframe tbody tr th {\n",
       "        vertical-align: top;\n",
       "    }\n",
       "\n",
       "    .dataframe thead th {\n",
       "        text-align: right;\n",
       "    }\n",
       "</style>\n",
       "<table border=\"1\" class=\"dataframe\">\n",
       "  <thead>\n",
       "    <tr style=\"text-align: right;\">\n",
       "      <th></th>\n",
       "      <th>GC_100bp</th>\n",
       "      <th>count</th>\n",
       "      <th>Norm_Counts</th>\n",
       "      <th>RelativeDepth</th>\n",
       "    </tr>\n",
       "    <tr>\n",
       "      <th>SequencingTechnology</th>\n",
       "      <th></th>\n",
       "      <th></th>\n",
       "      <th></th>\n",
       "      <th></th>\n",
       "    </tr>\n",
       "  </thead>\n",
       "  <tbody>\n",
       "    <tr>\n",
       "      <th>Illumina_DP_PBN</th>\n",
       "      <td>85.5</td>\n",
       "      <td>5194.93287</td>\n",
       "      <td>0.001178</td>\n",
       "      <td>0.351704</td>\n",
       "    </tr>\n",
       "    <tr>\n",
       "      <th>PacBio_DP_PBN</th>\n",
       "      <td>85.5</td>\n",
       "      <td>5194.93287</td>\n",
       "      <td>0.001178</td>\n",
       "      <td>0.786498</td>\n",
       "    </tr>\n",
       "  </tbody>\n",
       "</table>\n",
       "</div>"
      ],
      "text/plain": [
       "                      GC_100bp       count  Norm_Counts  RelativeDepth\n",
       "SequencingTechnology                                                  \n",
       "Illumina_DP_PBN           85.5  5194.93287     0.001178       0.351704\n",
       "PacBio_DP_PBN             85.5  5194.93287     0.001178       0.786498"
      ]
     },
     "execution_count": 36,
     "metadata": {},
     "output_type": "execute_result"
    }
   ],
   "source": [
    "X_CovBiasMeans_Tidy_F[ X_CovBiasMeans_Tidy_F[\"GC_100bp\"] >= 80].groupby(\"SequencingTechnology\").mean()"
   ]
  },
  {
   "cell_type": "code",
   "execution_count": null,
   "metadata": {},
   "outputs": [],
   "source": []
  },
  {
   "cell_type": "code",
   "execution_count": null,
   "metadata": {},
   "outputs": [],
   "source": []
  },
  {
   "cell_type": "markdown",
   "metadata": {},
   "source": [
    "# Calculating Proportion of Low Sequencing Depth Regions for both technologies"
   ]
  },
  {
   "cell_type": "markdown",
   "metadata": {},
   "source": [
    "## Let's try calculating the proportion of the genome with relative coverage below varying thresholds"
   ]
  },
  {
   "cell_type": "code",
   "execution_count": 37,
   "metadata": {},
   "outputs": [
    {
     "name": "stderr",
     "output_type": "stream",
     "text": [
      "100%|██████████| 36/36 [05:54<00:00,  9.83s/it]\n"
     ]
    }
   ],
   "source": [
    "listOf_RelCov_Threshs = [0, 0.1, 0.25, 0.5]\n",
    "listOf_RelCov_Threshs = [0.25]\n",
    "\n",
    "listOf_RelCov_Threshs = [0.25, 0.5]\n",
    "\n",
    "listOf_RowTuples = []\n",
    "\n",
    "for i_sampleID in tqdm(SampleIDs_36CI_SOI):\n",
    "\n",
    "    i_AllBP_Cov_DF = All_Cov_GC_DF[ (All_Cov_GC_DF[\"SampleID\"] == i_sampleID) ]\n",
    "\n",
    "    i_Num_BP_Total = i_AllBP_Cov_DF.shape[0]\n",
    "\n",
    "    i_dictOf_RelCov_BelowThresh = { }\n",
    "\n",
    "\n",
    "    for thresh in listOf_RelCov_Threshs:\n",
    "        i_dictOf_RelCov_BelowThresh[thresh] = {}\n",
    "        \n",
    "        i_AllBP_Cov_DF_BelowThresh_Illumina = i_AllBP_Cov_DF[ (i_AllBP_Cov_DF[\"Illumina_DP_PBN\"] < thresh) ]\n",
    "        i_Num_BP_BelowThresh_Illumina = i_AllBP_Cov_DF_BelowThresh_Illumina.shape[0]\n",
    "    \n",
    "        i_AllBP_Cov_DF_BelowThresh_PB = i_AllBP_Cov_DF[ (i_AllBP_Cov_DF[\"PacBio_DP_PBN\"] < thresh) ]\n",
    "        i_Num_BP_BelowThresh_PB = i_AllBP_Cov_DF_BelowThresh_PB.shape[0]\n",
    "\n",
    "        i_proportionBelowThresh_Illumina = (i_Num_BP_BelowThresh_Illumina / i_Num_BP_Total)\n",
    "        i_proportionBelowThresh_PacBio = (i_Num_BP_BelowThresh_PB / i_Num_BP_Total)\n",
    "    \n",
    "        i_dictOf_RelCov_BelowThresh[thresh][\"Illumina\"] = i_proportionBelowThresh_Illumina\n",
    "        i_dictOf_RelCov_BelowThresh[thresh][\"PacBio\"] = i_proportionBelowThresh_PacBio\n",
    "\n",
    "        i_rowTuple = (i_sampleID, thresh, \"PacBio\", i_Num_BP_Total, i_proportionBelowThresh_PacBio)\n",
    "    \n",
    "        listOf_RowTuples.append( i_rowTuple )\n",
    "\n",
    "        i_rowTuple = (i_sampleID, thresh, \"Illumina\", i_Num_BP_Total, i_proportionBelowThresh_Illumina)\n",
    "    \n",
    "        listOf_RowTuples.append( i_rowTuple )\n",
    "        \n",
    "    #break"
   ]
  },
  {
   "cell_type": "code",
   "execution_count": 38,
   "metadata": {},
   "outputs": [],
   "source": [
    "RelCov_BelowThresh_DF = pd.DataFrame(listOf_RowTuples)\n",
    "RelCov_BelowThresh_DF.columns = [\"SampleID\", \"Threshold\", \"Seq_Platform\", \"Total_BP\", \"FracRelCov_BelowThresh\"]"
   ]
  },
  {
   "cell_type": "code",
   "execution_count": 39,
   "metadata": {},
   "outputs": [
    {
     "data": {
      "text/html": [
       "<div>\n",
       "<style scoped>\n",
       "    .dataframe tbody tr th:only-of-type {\n",
       "        vertical-align: middle;\n",
       "    }\n",
       "\n",
       "    .dataframe tbody tr th {\n",
       "        vertical-align: top;\n",
       "    }\n",
       "\n",
       "    .dataframe thead th {\n",
       "        text-align: right;\n",
       "    }\n",
       "</style>\n",
       "<table border=\"1\" class=\"dataframe\">\n",
       "  <thead>\n",
       "    <tr style=\"text-align: right;\">\n",
       "      <th></th>\n",
       "      <th>SampleID</th>\n",
       "      <th>Threshold</th>\n",
       "      <th>Seq_Platform</th>\n",
       "      <th>Total_BP</th>\n",
       "      <th>FracRelCov_BelowThresh</th>\n",
       "    </tr>\n",
       "  </thead>\n",
       "  <tbody>\n",
       "    <tr>\n",
       "      <th>140</th>\n",
       "      <td>DNA086</td>\n",
       "      <td>0.25</td>\n",
       "      <td>PacBio</td>\n",
       "      <td>4391492</td>\n",
       "      <td>0.000449</td>\n",
       "    </tr>\n",
       "    <tr>\n",
       "      <th>141</th>\n",
       "      <td>DNA086</td>\n",
       "      <td>0.25</td>\n",
       "      <td>Illumina</td>\n",
       "      <td>4391492</td>\n",
       "      <td>0.007783</td>\n",
       "    </tr>\n",
       "    <tr>\n",
       "      <th>142</th>\n",
       "      <td>DNA086</td>\n",
       "      <td>0.50</td>\n",
       "      <td>PacBio</td>\n",
       "      <td>4391492</td>\n",
       "      <td>0.000702</td>\n",
       "    </tr>\n",
       "    <tr>\n",
       "      <th>143</th>\n",
       "      <td>DNA086</td>\n",
       "      <td>0.50</td>\n",
       "      <td>Illumina</td>\n",
       "      <td>4391492</td>\n",
       "      <td>0.030698</td>\n",
       "    </tr>\n",
       "  </tbody>\n",
       "</table>\n",
       "</div>"
      ],
      "text/plain": [
       "    SampleID  Threshold Seq_Platform  Total_BP  FracRelCov_BelowThresh\n",
       "140   DNA086       0.25       PacBio   4391492                0.000449\n",
       "141   DNA086       0.25     Illumina   4391492                0.007783\n",
       "142   DNA086       0.50       PacBio   4391492                0.000702\n",
       "143   DNA086       0.50     Illumina   4391492                0.030698"
      ]
     },
     "execution_count": 39,
     "metadata": {},
     "output_type": "execute_result"
    }
   ],
   "source": [
    "RelCov_BelowThresh_DF.tail(4)"
   ]
  },
  {
   "cell_type": "code",
   "execution_count": 40,
   "metadata": {},
   "outputs": [],
   "source": [
    "# https://stackoverflow.com/questions/19202093/how-to-select-columns-from-groupby-object-in-pandas\n",
    "RelCov_BelowThresh_DF_AllSamplesMean = RelCov_BelowThresh_DF.groupby([\"Threshold\", \"Seq_Platform\",]).mean().reset_index()"
   ]
  },
  {
   "cell_type": "code",
   "execution_count": 41,
   "metadata": {},
   "outputs": [
    {
     "data": {
      "text/html": [
       "<div>\n",
       "<style scoped>\n",
       "    .dataframe tbody tr th:only-of-type {\n",
       "        vertical-align: middle;\n",
       "    }\n",
       "\n",
       "    .dataframe tbody tr th {\n",
       "        vertical-align: top;\n",
       "    }\n",
       "\n",
       "    .dataframe thead th {\n",
       "        text-align: right;\n",
       "    }\n",
       "</style>\n",
       "<table border=\"1\" class=\"dataframe\">\n",
       "  <thead>\n",
       "    <tr style=\"text-align: right;\">\n",
       "      <th></th>\n",
       "      <th>Threshold</th>\n",
       "      <th>Seq_Platform</th>\n",
       "      <th>Total_BP</th>\n",
       "      <th>FracRelCov_BelowThresh</th>\n",
       "    </tr>\n",
       "  </thead>\n",
       "  <tbody>\n",
       "    <tr>\n",
       "      <th>0</th>\n",
       "      <td>0.25</td>\n",
       "      <td>Illumina</td>\n",
       "      <td>4.411358e+06</td>\n",
       "      <td>0.012110</td>\n",
       "    </tr>\n",
       "    <tr>\n",
       "      <th>1</th>\n",
       "      <td>0.25</td>\n",
       "      <td>PacBio</td>\n",
       "      <td>4.411358e+06</td>\n",
       "      <td>0.000058</td>\n",
       "    </tr>\n",
       "    <tr>\n",
       "      <th>2</th>\n",
       "      <td>0.50</td>\n",
       "      <td>Illumina</td>\n",
       "      <td>4.411358e+06</td>\n",
       "      <td>0.039652</td>\n",
       "    </tr>\n",
       "    <tr>\n",
       "      <th>3</th>\n",
       "      <td>0.50</td>\n",
       "      <td>PacBio</td>\n",
       "      <td>4.411358e+06</td>\n",
       "      <td>0.002743</td>\n",
       "    </tr>\n",
       "  </tbody>\n",
       "</table>\n",
       "</div>"
      ],
      "text/plain": [
       "   Threshold Seq_Platform      Total_BP  FracRelCov_BelowThresh\n",
       "0       0.25     Illumina  4.411358e+06                0.012110\n",
       "1       0.25       PacBio  4.411358e+06                0.000058\n",
       "2       0.50     Illumina  4.411358e+06                0.039652\n",
       "3       0.50       PacBio  4.411358e+06                0.002743"
      ]
     },
     "execution_count": 41,
     "metadata": {},
     "output_type": "execute_result"
    }
   ],
   "source": [
    "RelCov_BelowThresh_DF_AllSamplesMean"
   ]
  },
  {
   "cell_type": "code",
   "execution_count": 42,
   "metadata": {},
   "outputs": [],
   "source": [
    "RelCov_BelowThresh_DF_AllSamplesStd = RelCov_BelowThresh_DF.groupby([\"Threshold\", \"Seq_Platform\",]).std().reset_index()"
   ]
  },
  {
   "cell_type": "code",
   "execution_count": 43,
   "metadata": {},
   "outputs": [
    {
     "data": {
      "text/html": [
       "<div>\n",
       "<style scoped>\n",
       "    .dataframe tbody tr th:only-of-type {\n",
       "        vertical-align: middle;\n",
       "    }\n",
       "\n",
       "    .dataframe tbody tr th {\n",
       "        vertical-align: top;\n",
       "    }\n",
       "\n",
       "    .dataframe thead th {\n",
       "        text-align: right;\n",
       "    }\n",
       "</style>\n",
       "<table border=\"1\" class=\"dataframe\">\n",
       "  <thead>\n",
       "    <tr style=\"text-align: right;\">\n",
       "      <th></th>\n",
       "      <th>Threshold</th>\n",
       "      <th>Seq_Platform</th>\n",
       "      <th>Total_BP</th>\n",
       "      <th>FracRelCov_BelowThresh</th>\n",
       "    </tr>\n",
       "  </thead>\n",
       "  <tbody>\n",
       "    <tr>\n",
       "      <th>0</th>\n",
       "      <td>0.25</td>\n",
       "      <td>Illumina</td>\n",
       "      <td>16111.314908</td>\n",
       "      <td>0.011243</td>\n",
       "    </tr>\n",
       "    <tr>\n",
       "      <th>1</th>\n",
       "      <td>0.25</td>\n",
       "      <td>PacBio</td>\n",
       "      <td>16111.314908</td>\n",
       "      <td>0.000139</td>\n",
       "    </tr>\n",
       "    <tr>\n",
       "      <th>2</th>\n",
       "      <td>0.50</td>\n",
       "      <td>Illumina</td>\n",
       "      <td>16111.314908</td>\n",
       "      <td>0.039929</td>\n",
       "    </tr>\n",
       "    <tr>\n",
       "      <th>3</th>\n",
       "      <td>0.50</td>\n",
       "      <td>PacBio</td>\n",
       "      <td>16111.314908</td>\n",
       "      <td>0.003382</td>\n",
       "    </tr>\n",
       "  </tbody>\n",
       "</table>\n",
       "</div>"
      ],
      "text/plain": [
       "   Threshold Seq_Platform      Total_BP  FracRelCov_BelowThresh\n",
       "0       0.25     Illumina  16111.314908                0.011243\n",
       "1       0.25       PacBio  16111.314908                0.000139\n",
       "2       0.50     Illumina  16111.314908                0.039929\n",
       "3       0.50       PacBio  16111.314908                0.003382"
      ]
     },
     "execution_count": 43,
     "metadata": {},
     "output_type": "execute_result"
    }
   ],
   "source": [
    "RelCov_BelowThresh_DF_AllSamplesStd"
   ]
  },
  {
   "cell_type": "code",
   "execution_count": null,
   "metadata": {},
   "outputs": [],
   "source": []
  },
  {
   "cell_type": "markdown",
   "metadata": {},
   "source": [
    "# Outputing tables of data used to make figures and cite statistics"
   ]
  },
  {
   "cell_type": "code",
   "execution_count": 44,
   "metadata": {},
   "outputs": [
    {
     "data": {
      "text/plain": [
       "(4104, 6)"
      ]
     },
     "execution_count": 44,
     "metadata": {},
     "output_type": "execute_result"
    }
   ],
   "source": [
    "X_CovBiasMeans_Tidy_F.shape"
   ]
  },
  {
   "cell_type": "code",
   "execution_count": 45,
   "metadata": {},
   "outputs": [
    {
     "data": {
      "text/html": [
       "<div>\n",
       "<style scoped>\n",
       "    .dataframe tbody tr th:only-of-type {\n",
       "        vertical-align: middle;\n",
       "    }\n",
       "\n",
       "    .dataframe tbody tr th {\n",
       "        vertical-align: top;\n",
       "    }\n",
       "\n",
       "    .dataframe thead th {\n",
       "        text-align: right;\n",
       "    }\n",
       "</style>\n",
       "<table border=\"1\" class=\"dataframe\">\n",
       "  <thead>\n",
       "    <tr style=\"text-align: right;\">\n",
       "      <th></th>\n",
       "      <th>GC_100bp</th>\n",
       "      <th>count</th>\n",
       "      <th>Norm_Counts</th>\n",
       "      <th>SampleID</th>\n",
       "      <th>SequencingTechnology</th>\n",
       "      <th>RelativeDepth</th>\n",
       "    </tr>\n",
       "  </thead>\n",
       "  <tbody>\n",
       "    <tr>\n",
       "      <th>4</th>\n",
       "      <td>35.0</td>\n",
       "      <td>29</td>\n",
       "      <td>0.000007</td>\n",
       "      <td>M0011368_9</td>\n",
       "      <td>Illumina_DP_PBN</td>\n",
       "      <td>1.315044</td>\n",
       "    </tr>\n",
       "    <tr>\n",
       "      <th>5</th>\n",
       "      <td>36.0</td>\n",
       "      <td>76</td>\n",
       "      <td>0.000017</td>\n",
       "      <td>M0011368_9</td>\n",
       "      <td>Illumina_DP_PBN</td>\n",
       "      <td>1.351991</td>\n",
       "    </tr>\n",
       "    <tr>\n",
       "      <th>6</th>\n",
       "      <td>37.0</td>\n",
       "      <td>95</td>\n",
       "      <td>0.000022</td>\n",
       "      <td>M0011368_9</td>\n",
       "      <td>Illumina_DP_PBN</td>\n",
       "      <td>1.310362</td>\n",
       "    </tr>\n",
       "    <tr>\n",
       "      <th>7</th>\n",
       "      <td>38.0</td>\n",
       "      <td>126</td>\n",
       "      <td>0.000029</td>\n",
       "      <td>M0011368_9</td>\n",
       "      <td>Illumina_DP_PBN</td>\n",
       "      <td>1.281562</td>\n",
       "    </tr>\n",
       "    <tr>\n",
       "      <th>8</th>\n",
       "      <td>39.0</td>\n",
       "      <td>181</td>\n",
       "      <td>0.000041</td>\n",
       "      <td>M0011368_9</td>\n",
       "      <td>Illumina_DP_PBN</td>\n",
       "      <td>1.280993</td>\n",
       "    </tr>\n",
       "  </tbody>\n",
       "</table>\n",
       "</div>"
      ],
      "text/plain": [
       "   GC_100bp  count  Norm_Counts    SampleID SequencingTechnology  RelativeDepth\n",
       "4      35.0     29     0.000007  M0011368_9      Illumina_DP_PBN       1.315044\n",
       "5      36.0     76     0.000017  M0011368_9      Illumina_DP_PBN       1.351991\n",
       "6      37.0     95     0.000022  M0011368_9      Illumina_DP_PBN       1.310362\n",
       "7      38.0    126     0.000029  M0011368_9      Illumina_DP_PBN       1.281562\n",
       "8      39.0    181     0.000041  M0011368_9      Illumina_DP_PBN       1.280993"
      ]
     },
     "execution_count": 45,
     "metadata": {},
     "output_type": "execute_result"
    }
   ],
   "source": [
    "X_CovBiasMeans_Tidy_F.head()"
   ]
  },
  {
   "cell_type": "code",
   "execution_count": 54,
   "metadata": {},
   "outputs": [
    {
     "data": {
      "text/plain": [
       "(4104, 5)"
      ]
     },
     "execution_count": 54,
     "metadata": {},
     "output_type": "execute_result"
    }
   ],
   "source": [
    "\n",
    "RelativeDepth_Vs_GC_Content_Table_DF = X_CovBiasMeans_Tidy_F.drop(\"Norm_Counts\", axis=1)\n",
    "RelativeDepth_Vs_GC_Content_Table_DF.columns = [\"GC%_100bpWindowSize\", \"FrequencyAcrossAssembly\", \"SampleID\", \"SequencingTechnology\", \"RelativeDepth\"]\n",
    "RelativeDepth_Vs_GC_Content_Table_DF.shape"
   ]
  },
  {
   "cell_type": "code",
   "execution_count": 55,
   "metadata": {},
   "outputs": [
    {
     "data": {
      "text/html": [
       "<div>\n",
       "<style scoped>\n",
       "    .dataframe tbody tr th:only-of-type {\n",
       "        vertical-align: middle;\n",
       "    }\n",
       "\n",
       "    .dataframe tbody tr th {\n",
       "        vertical-align: top;\n",
       "    }\n",
       "\n",
       "    .dataframe thead th {\n",
       "        text-align: right;\n",
       "    }\n",
       "</style>\n",
       "<table border=\"1\" class=\"dataframe\">\n",
       "  <thead>\n",
       "    <tr style=\"text-align: right;\">\n",
       "      <th></th>\n",
       "      <th>GC%_100bpWindowSize</th>\n",
       "      <th>FrequencyAcrossAssembly</th>\n",
       "      <th>SampleID</th>\n",
       "      <th>SequencingTechnology</th>\n",
       "      <th>RelativeDepth</th>\n",
       "    </tr>\n",
       "  </thead>\n",
       "  <tbody>\n",
       "    <tr>\n",
       "      <th>4</th>\n",
       "      <td>35.0</td>\n",
       "      <td>29</td>\n",
       "      <td>M0011368_9</td>\n",
       "      <td>Illumina_DP_PBN</td>\n",
       "      <td>1.315044</td>\n",
       "    </tr>\n",
       "    <tr>\n",
       "      <th>5</th>\n",
       "      <td>36.0</td>\n",
       "      <td>76</td>\n",
       "      <td>M0011368_9</td>\n",
       "      <td>Illumina_DP_PBN</td>\n",
       "      <td>1.351991</td>\n",
       "    </tr>\n",
       "    <tr>\n",
       "      <th>6</th>\n",
       "      <td>37.0</td>\n",
       "      <td>95</td>\n",
       "      <td>M0011368_9</td>\n",
       "      <td>Illumina_DP_PBN</td>\n",
       "      <td>1.310362</td>\n",
       "    </tr>\n",
       "    <tr>\n",
       "      <th>7</th>\n",
       "      <td>38.0</td>\n",
       "      <td>126</td>\n",
       "      <td>M0011368_9</td>\n",
       "      <td>Illumina_DP_PBN</td>\n",
       "      <td>1.281562</td>\n",
       "    </tr>\n",
       "    <tr>\n",
       "      <th>8</th>\n",
       "      <td>39.0</td>\n",
       "      <td>181</td>\n",
       "      <td>M0011368_9</td>\n",
       "      <td>Illumina_DP_PBN</td>\n",
       "      <td>1.280993</td>\n",
       "    </tr>\n",
       "  </tbody>\n",
       "</table>\n",
       "</div>"
      ],
      "text/plain": [
       "   GC%_100bpWindowSize  FrequencyAcrossAssembly    SampleID SequencingTechnology  RelativeDepth\n",
       "4                 35.0                       29  M0011368_9      Illumina_DP_PBN       1.315044\n",
       "5                 36.0                       76  M0011368_9      Illumina_DP_PBN       1.351991\n",
       "6                 37.0                       95  M0011368_9      Illumina_DP_PBN       1.310362\n",
       "7                 38.0                      126  M0011368_9      Illumina_DP_PBN       1.281562\n",
       "8                 39.0                      181  M0011368_9      Illumina_DP_PBN       1.280993"
      ]
     },
     "execution_count": 55,
     "metadata": {},
     "output_type": "execute_result"
    }
   ],
   "source": [
    "RelativeDepth_Vs_GC_Content_Table_DF.head()"
   ]
  },
  {
   "cell_type": "markdown",
   "metadata": {},
   "source": [
    "## Output Supplemental Data to TSV (Processed data table)"
   ]
  },
  {
   "cell_type": "code",
   "execution_count": 58,
   "metadata": {},
   "outputs": [],
   "source": [
    "RelativeDepth_Vs_GC_Content_36CI_TSV_PATH = f\"{CoverageBiasAnalysis_V2_Dir}/CoverageBiasAnalysis.GC_Content.Processed.Mtb.36CI.tsv\"\n",
    "\n",
    "RelativeDepth_Vs_GC_Content_Table_DF.to_csv(RelativeDepth_Vs_GC_Content_36CI_TSV_PATH, sep=\"\\t\", index=False)\n"
   ]
  },
  {
   "cell_type": "markdown",
   "metadata": {},
   "source": [
    "#### Look at output directory"
   ]
  },
  {
   "cell_type": "code",
   "execution_count": 59,
   "metadata": {},
   "outputs": [
    {
     "name": "stdout",
     "output_type": "stream",
     "text": [
      "total 2.3G\n",
      "drwxrwsr-x 38 mm774 farhat 1.1K Mar 24 18:29 .\n",
      "drwxrwsr-x  8 mm774 farhat  339 Mar 15 18:02 ..\n",
      "drwxrwsr-x  2 mm774 farhat   46 Jan 18 16:25 01_R1134\n",
      "drwxrwsr-x  2 mm774 farhat   46 Jan 18 16:20 01_R1430\n",
      "drwxrwsr-x  2 mm774 farhat   46 Jan 18 16:21 02_R0894\n",
      "drwxrwsr-x  2 mm774 farhat   46 Jan 18 16:27 02_R1179\n",
      "drwxrwsr-x  2 mm774 farhat   46 Jan 18 16:22 02_R1708\n",
      "drwxrwsr-x  2 mm774 farhat   46 Jan 18 16:23 02_R1896\n",
      "-rw-rw-r--  1 mm774 farhat  11G Mar 15 17:56 210113.CoverageBiasAnalysis.Mtb.36CI.V3.GC.SH.tsv\n",
      "drwxrwsr-x  2 mm774 farhat   48 Jan 18 16:45 AZE_02_042\n",
      "-rw-rw-r--  1 mm774 farhat 211K Mar 24 18:29 CoverageBiasAnalysis.GC_Content.Processed.Mtb.36CI.tsv\n",
      "-rw-rw-r--  1 mm774 farhat 211K Mar 24 18:28 Depth_Vs_GC_Content.36CI.tsv\n",
      "drwxrwsr-x  2 mm774 farhat   49 Jan 18 16:46 DNA019_Rose\n",
      "drwxrwsr-x  2 mm774 farhat   44 Jan 18 16:44 DNA020\n",
      "drwxrwsr-x  2 mm774 farhat   44 Jan 18 16:40 DNA028\n",
      "drwxrwsr-x  2 mm774 farhat   44 Jan 18 16:43 DNA044\n",
      "drwxrwsr-x  2 mm774 farhat   44 Jan 18 16:41 DNA075\n",
      "drwxrwsr-x  2 mm774 farhat   44 Jan 18 16:49 DNA086\n",
      "drwxrwsr-x  2 mm774 farhat   44 Jan 18 16:42 DNA091\n",
      "drwxrwsr-x  2 mm774 farhat   44 Jan 18 16:47 DNA120\n",
      "drwxrwsr-x  2 mm774 farhat   44 Jan 18 16:48 DNA188\n",
      "drwxrwsr-x  2 mm774 farhat   48 Jan 18 16:26 M0003941_3\n",
      "drwxrwsr-x  2 mm774 farhat   48 Jan 18 16:19 M0010874_7\n",
      "drwxrwsr-x  2 mm774 farhat   48 Jan 18 16:16 M0011368_9\n",
      "drwxrwsr-x  2 mm774 farhat   48 Jan 18 16:17 M0014888_3\n",
      "drwxrwsr-x  2 mm774 farhat   48 Jan 18 16:18 M0016395_7\n",
      "drwxrwsr-x  2 mm774 farhat   48 Jan 18 16:24 M0016737_0\n",
      "drwxrwsr-x  2 mm774 farhat   48 Jan 18 16:25 M0017522_5\n",
      "drwxrwsr-x  2 mm774 farhat   43 Jan 18 16:33 N0004\n",
      "drwxrwsr-x  2 mm774 farhat   43 Jan 18 16:35 N0054\n",
      "drwxrwsr-x  2 mm774 farhat   43 Jan 18 16:29 N0072\n",
      "drwxrwsr-x  2 mm774 farhat   43 Jan 18 16:37 N0091\n",
      "drwxrwsr-x  2 mm774 farhat   43 Jan 18 16:31 N0145\n",
      "drwxrwsr-x  2 mm774 farhat   43 Jan 18 16:30 N0153\n",
      "drwxrwsr-x  2 mm774 farhat   43 Jan 18 16:32 N0155\n",
      "drwxrwsr-x  2 mm774 farhat   43 Jan 18 16:28 N1176\n",
      "drwxrwsr-x  2 mm774 farhat   43 Jan 18 16:38 N1177\n",
      "drwxrwsr-x  2 mm774 farhat   43 Jan 18 16:37 N1202\n",
      "drwxrwsr-x  2 mm774 farhat   43 Jan 18 16:36 N1272\n",
      "drwxrwsr-x  2 mm774 farhat   43 Jan 18 16:34 N1274\n",
      "drwxrwsr-x  2 mm774 farhat   46 Jan 18 16:39 RW-TB008\n"
     ]
    }
   ],
   "source": [
    "!ls -lah $CoverageBiasAnalysis_V2_Dir"
   ]
  },
  {
   "cell_type": "code",
   "execution_count": null,
   "metadata": {},
   "outputs": [],
   "source": []
  },
  {
   "cell_type": "code",
   "execution_count": null,
   "metadata": {},
   "outputs": [],
   "source": []
  }
 ],
 "metadata": {
  "kernelspec": {
   "display_name": "py37_S",
   "language": "python",
   "name": "py37_s"
  },
  "language_info": {
   "codemirror_mode": {
    "name": "ipython",
    "version": 3
   },
   "file_extension": ".py",
   "mimetype": "text/x-python",
   "name": "python",
   "nbconvert_exporter": "python",
   "pygments_lexer": "ipython3",
   "version": "3.7.3"
  }
 },
 "nbformat": 4,
 "nbformat_minor": 4
}
