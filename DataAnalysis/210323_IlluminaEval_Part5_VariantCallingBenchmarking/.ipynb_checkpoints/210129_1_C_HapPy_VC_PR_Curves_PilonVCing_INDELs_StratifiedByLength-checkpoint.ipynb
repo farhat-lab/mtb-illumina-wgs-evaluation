{
 "cells": [
  {
   "cell_type": "markdown",
   "metadata": {},
   "source": [
    "# INDEL Variant Calling Performance - by INDEL length\n",
    "\n",
    "### Maximillian Marin\n",
    "### mgmarin@g.harvard.edu\n",
    "\n",
    "### Goal: To generate precision-recall curves of INDEL variant calling performance stratified by INDEL length (and by Insertion vs. Deletion)"
   ]
  },
  {
   "cell_type": "markdown",
   "metadata": {
    "toc-hr-collapsed": true
   },
   "source": [
    "### Import Statements"
   ]
  },
  {
   "cell_type": "code",
   "execution_count": 2,
   "metadata": {},
   "outputs": [],
   "source": [
    "import numpy as np\n",
    "import pandas as pd\n",
    "import vcf\n",
    "from tqdm import tqdm\n",
    "import matplotlib.pyplot as plt\n",
    "import seaborn as sns\n",
    "import pickle\n",
    "import plotly.express as px\n",
    "import statsmodels.api as sm\n",
    "\n",
    "%matplotlib inline"
   ]
  },
  {
   "cell_type": "code",
   "execution_count": 3,
   "metadata": {},
   "outputs": [],
   "source": [
    "import matplotlib\n",
    "matplotlib.rcParams['pdf.fonttype'] = 42\n",
    "matplotlib.rcParams['ps.fonttype'] = 42"
   ]
  },
  {
   "cell_type": "markdown",
   "metadata": {},
   "source": [
    "#### Pandas Viewing Settings"
   ]
  },
  {
   "cell_type": "code",
   "execution_count": 4,
   "metadata": {},
   "outputs": [],
   "source": [
    "pd.set_option('display.max_rows', 500)\n",
    "pd.set_option('display.max_columns', 500)\n",
    "pd.set_option('display.width', 1000)"
   ]
  },
  {
   "cell_type": "markdown",
   "metadata": {},
   "source": [
    "### Set matplotlib text export settings for Adobe Illustrator"
   ]
  },
  {
   "cell_type": "code",
   "execution_count": 5,
   "metadata": {},
   "outputs": [],
   "source": [
    "import matplotlib\n",
    "matplotlib.rcParams['pdf.fonttype'] = 42\n",
    "matplotlib.rcParams['ps.fonttype'] = 42"
   ]
  },
  {
   "cell_type": "code",
   "execution_count": null,
   "metadata": {},
   "outputs": [],
   "source": []
  },
  {
   "cell_type": "code",
   "execution_count": null,
   "metadata": {},
   "outputs": [],
   "source": []
  },
  {
   "cell_type": "code",
   "execution_count": null,
   "metadata": {},
   "outputs": [],
   "source": []
  },
  {
   "cell_type": "markdown",
   "metadata": {},
   "source": [
    "## Parse info regarding samples of interest"
   ]
  },
  {
   "cell_type": "code",
   "execution_count": 6,
   "metadata": {},
   "outputs": [
    {
     "name": "stdout",
     "output_type": "stream",
     "text": [
      "M0011368_9,M0014888_3,M0016395_7,M0010874_7,01_R1430,02_R0894,02_R1708,02_R1896,M0016737_0,M0017522_5,01_R1134,M0003941_3,02_R1179,N1176,N0072,N0153,N0145,N0155,N0004,N1274,N0054,N1272,N0091,N1202,N1177,RW-TB008,DNA028,DNA075,DNA091,DNA044,DNA020,AZE_02_042,DNA019_Rose,DNA120,DNA188,DNA086\n"
     ]
    }
   ],
   "source": [
    "Repo_DataDir = \"../../Data\"\n",
    "\n",
    "PMP_SM_ResultsSummary_Dir_210108 = Repo_DataDir + \"/210108_PMP_SM_50CI_V7_ResultsSummary\"\n",
    "\n",
    "\n",
    "PMP_50CI_AssemblySummary_TSV_PATH = PMP_SM_ResultsSummary_Dir_210108 + \"/210108_PMP_50CI_AssemblySummary_V7.tsv\"\n",
    "\n",
    "PMP_42CI_CicularOnly_AssemblySummary_TSV_PATH = PMP_SM_ResultsSummary_Dir_210108 + \"/210108_PMP_42CI_CircularOnly_F2Filtered_AssemblySummary_V7.tsv\" \n",
    "\n",
    "PMP_36CI_CicularOnly_F2Filtered_AtLeast40XIllDepth_AssemblySummary_TSV_PATH = PMP_SM_ResultsSummary_Dir_210108 + \"/210108_PMP_36CI_CircularOnly_F2Filtered_AtLeast40XMeanDepthIllumina_AssemblySummary_V7.tsv\"       \n",
    "\n",
    "\n",
    "PMP_50CI_AssemblySummary = pd.read_csv(PMP_50CI_AssemblySummary_TSV_PATH, sep = \"\\t\")\n",
    "\n",
    "PMP_42CI_CicularOnly_AssemblySummary = pd.read_csv(PMP_42CI_CicularOnly_AssemblySummary_TSV_PATH, sep = \"\\t\")\n",
    "\n",
    "PMP_36CI_CicularOnly_F2Filtered_AtLeast40XDepth_AssemblySummary = pd.read_csv(PMP_36CI_CicularOnly_F2Filtered_AtLeast40XIllDepth_AssemblySummary_TSV_PATH, sep = \"\\t\")\n",
    "\n",
    "PMP_36CI_AnalysisSet_AssemblySummary = PMP_36CI_CicularOnly_F2Filtered_AtLeast40XDepth_AssemblySummary\n",
    "\n",
    "\n",
    "SampleIDs_36CI_SOI = list( PMP_36CI_AnalysisSet_AssemblySummary[\"SampleID\"].values )\n",
    "\n",
    "\n",
    "print(','.join(SampleIDs_36CI_SOI) )\n",
    "\n",
    "# Make sample to lineage mapping dict\n",
    "\n",
    "ID_To_IlluminaAvrgCov_Dict = dict(PMP_50CI_AssemblySummary[['SampleID', 'IlluminaWGSToH37rv_AvrgCov']].values)                     \n",
    "ID_To_Lineage_Dict = dict(PMP_50CI_AssemblySummary[['SampleID', 'PrimaryLineage_PB']].values)\n",
    "ID_To_Dataset_Dict = dict(PMP_50CI_AssemblySummary[['SampleID', 'Dataset_Tag']].values)"
   ]
  },
  {
   "cell_type": "code",
   "execution_count": null,
   "metadata": {},
   "outputs": [],
   "source": []
  },
  {
   "cell_type": "code",
   "execution_count": null,
   "metadata": {},
   "outputs": [],
   "source": []
  },
  {
   "cell_type": "code",
   "execution_count": 7,
   "metadata": {},
   "outputs": [],
   "source": [
    "#SampleIDs_31CI_WiCircA"
   ]
  },
  {
   "cell_type": "markdown",
   "metadata": {
    "toc-hr-collapsed": true
   },
   "source": [
    "## Construct dictionary with PATHs to relevant files for all samples"
   ]
  },
  {
   "cell_type": "markdown",
   "metadata": {},
   "source": [
    "### Define directories to PMP-SM (PacBio assembly and analysis pipeline)"
   ]
  },
  {
   "cell_type": "code",
   "execution_count": 8,
   "metadata": {},
   "outputs": [],
   "source": [
    "### Define directories to PMP-SM (PacBio assembly and analysis pipeline)\n",
    "\n",
    "### Define varaint calling pipeline output directories\n",
    "\n",
    "PacBio_ProjectDir = \"/n/data1/hms/dbmi/farhat/mm774/Projects/PacBio_Evaluation_Project\"\n",
    "\n",
    "PMP_SM_Outputs_Dir = PacBio_ProjectDir + \"/PacmanPipe_SM_Outputs\"\n",
    "\n",
    "PMP_SM_TB_Portals_R1_Illumina_WGS_201201_OutputDir = PMP_SM_Outputs_Dir + \"/201201_PMP_SM_TB_Portals_R1_Output_V2\"\n"
   ]
  },
  {
   "cell_type": "code",
   "execution_count": 9,
   "metadata": {},
   "outputs": [
    {
     "name": "stdout",
     "output_type": "stream",
     "text": [
      "Happy_StratificationFiles\n",
      "PBMM2_Paftools_GroundTruthVCF_Evaluations_V3_minMQ_1_minDP_5_Fix_All_Breaks_AmbRegionsRemoved\n",
      "PBMM2_PBonly_NoPilonPolishing_Paftools_GroundTruthVCF_Evaluations_V3_minMQ_1_minDP_5_Fix_All_Breaks_AmbRegionsRemoved\n"
     ]
    }
   ],
   "source": [
    "!ls -1 $PMP_SM_TB_Portals_R1_Illumina_WGS_201201_OutputDir/M0011368_9/Hap.py_VariantCalling_EvalDir/"
   ]
  },
  {
   "cell_type": "markdown",
   "metadata": {},
   "source": [
    "## Save the PATHs of HapPy analysis from the following masking schemes:\n",
    "\n",
    "1) \"None\" <br>\n",
    "2) \"Hicks_Regions_Removed\" <br>\n",
    "3)"
   ]
  },
  {
   "cell_type": "code",
   "execution_count": null,
   "metadata": {},
   "outputs": [],
   "source": []
  },
  {
   "cell_type": "code",
   "execution_count": 10,
   "metadata": {},
   "outputs": [],
   "source": [
    "#PMP_28CI_40X_SampleIDs = SampleIDs_28CI_WiCircA"
   ]
  },
  {
   "cell_type": "code",
   "execution_count": 11,
   "metadata": {},
   "outputs": [],
   "source": [
    "#\",\".join(PMP_28CI_40X_SampleIDs)"
   ]
  },
  {
   "cell_type": "code",
   "execution_count": null,
   "metadata": {},
   "outputs": [],
   "source": []
  },
  {
   "cell_type": "code",
   "execution_count": null,
   "metadata": {},
   "outputs": [],
   "source": []
  },
  {
   "cell_type": "code",
   "execution_count": null,
   "metadata": {},
   "outputs": [],
   "source": []
  },
  {
   "cell_type": "code",
   "execution_count": 12,
   "metadata": {},
   "outputs": [],
   "source": [
    "SampleID_ToPaths_Dict = {}\n",
    "\n",
    "for SampleID in SampleIDs_36CI_SOI:\n",
    "\n",
    "    SampleID_ToPaths_Dict[SampleID] = {}    \n",
    "    \n",
    "    # Defining PATHs for PacBio data output (PacmanPipe-V4)\n",
    "    sample_PMP_OutputDir = PMP_SM_TB_Portals_R1_Illumina_WGS_201201_OutputDir + \"/\" + SampleID\n",
    "    Happy_OutDir = f\"{sample_PMP_OutputDir}/Hap.py_VariantCalling_EvalDir/PBMM2_Paftools_GroundTruthVCF_Evaluations_V3_minMQ_1_minDP_5_Fix_All_Breaks_AmbRegionsRemoved\"\n",
    "    \n",
    "    \n",
    "    # No Masking (\"None\")\n",
    "    RegionFilteringScheme = \"MM2vsPilon_NoneRemoved_1to15bp\"\n",
    "    SampleID_ToPaths_Dict[SampleID][RegionFilteringScheme] = {}\n",
    "    SampleID_ToPaths_Dict[SampleID][RegionFilteringScheme][\"SNPs\"] = {}\n",
    "    SampleID_ToPaths_Dict[SampleID][RegionFilteringScheme][\"INDELs\"] = {}\n",
    "    SampleID_ToPaths_Dict[SampleID][RegionFilteringScheme][\"ALL\"] = {}\n",
    "        \n",
    "    Happy_Sample_Dir = f\"{Happy_OutDir}/{SampleID}_Happy_VCeval_T_PB_G3PP_MM2_paftools_Vs_Q_Ill_Pilon_VCs_NoRegionsRemoved\"\n",
    "\n",
    "    Happy_G3PP_Vs_Pilon_ROC_SNPs_PASS_CSV = f\"{Happy_Sample_Dir}/Hap.py.{SampleID}.All.roc.Locations.SNP.PASS.csv.gz\"\n",
    "    Happy_G3PP_Vs_Pilon_ROC_INDELs_PASS_CSV = f\"{Happy_Sample_Dir}/Hap.py.{SampleID}.All.roc.Locations.INDEL.PASS.csv.gz\"\n",
    "    Happy_G3PP_Vs_Pilon_ROC_ALL_PASS_CSV = f\"{Happy_Sample_Dir}/Hap.py.{SampleID}.roc.all.csv.gz\"\n",
    "    \n",
    "    \n",
    "    SampleID_ToPaths_Dict[SampleID][RegionFilteringScheme][\"SNPs\"][\"Happy_ROC_PASS_CSV\"] = Happy_G3PP_Vs_Pilon_ROC_SNPs_PASS_CSV\n",
    "    SampleID_ToPaths_Dict[SampleID][RegionFilteringScheme][\"INDELs\"][\"Happy_ROC_PASS_CSV\"] = Happy_G3PP_Vs_Pilon_ROC_INDELs_PASS_CSV\n",
    "    SampleID_ToPaths_Dict[SampleID][RegionFilteringScheme][\"ALL\"][\"Happy_ROC_PASS_CSV\"] = Happy_G3PP_Vs_Pilon_ROC_ALL_PASS_CSV\n",
    "\n",
    "    "
   ]
  },
  {
   "cell_type": "code",
   "execution_count": null,
   "metadata": {},
   "outputs": [],
   "source": []
  },
  {
   "cell_type": "markdown",
   "metadata": {},
   "source": [
    "## What are the different INDEL subtypes?\n",
    "\n",
    "I1_5 == Insertions of length 1-5 <br>\n",
    "I6_15 == Insertions of length 6-15 <br>\n",
    "I16_PLUS == Insertions of length 16 or more <br>\n",
    "D1_5 == Deletions of length 1-5 <br>\n",
    "D6_15 == Deletions of length 6-15 <br>\n",
    "D16_PLUS == Deletions of length 16 or more <br>"
   ]
  },
  {
   "cell_type": "code",
   "execution_count": null,
   "metadata": {},
   "outputs": [],
   "source": []
  },
  {
   "cell_type": "code",
   "execution_count": 13,
   "metadata": {},
   "outputs": [],
   "source": [
    "def parse_HapPy_Benchmark_DF_and_FFILL(Sample_ROC_DF):\n",
    "    \"\"\" \n",
    "    \"\"\"\n",
    "    \n",
    "    #Sample_ROC_DF = Sample_ROC_DF.drop(Sample_ROC_DF.index[0])\n",
    "    \n",
    "    Sample_ROC_DF = Sample_ROC_DF[ Sample_ROC_DF[\"QQ\"] != \"*\"]\n",
    "    Sample_ROC_DF[\"QQ\"] = Sample_ROC_DF[\"QQ\"].astype(float)\n",
    "    Sample_ROC_DF = Sample_ROC_DF.sort_values(\"QQ\")\n",
    "    Sample_ROC_DF.index = Sample_ROC_DF['QQ']\n",
    "\n",
    "    Sample_ROC_DF = Sample_ROC_DF.reindex(np.arange(Sample_ROC_DF.QQ.min(), Sample_ROC_DF.QQ.max() + 1), fill_value=np.nan)  \n",
    "    Sample_ROC_DF[\"QQ\"] = Sample_ROC_DF.index\n",
    "\n",
    "    Sample_ROC_DF = Sample_ROC_DF.ffill()\n",
    "    Sample_ROC_DF = Sample_ROC_DF.reset_index(drop=True)\n",
    "    \n",
    "    return Sample_ROC_DF\n",
    "   "
   ]
  },
  {
   "cell_type": "markdown",
   "metadata": {},
   "source": [
    "## Let's try to create a DF for a single sample for a single INDEL SUBTYPE. (ie. I1_5)"
   ]
  },
  {
   "cell_type": "code",
   "execution_count": 14,
   "metadata": {},
   "outputs": [],
   "source": [
    "def parse_HapPy_Benchmark_DF_and_FFILL(Sample_ROC_DF):\n",
    "    \"\"\" \n",
    "    \"\"\"\n",
    "    \n",
    "    Sample_ROC_DF = Sample_ROC_DF[ Sample_ROC_DF[\"QQ\"] != \"*\"]\n",
    "    Sample_ROC_DF[\"QQ\"] = Sample_ROC_DF[\"QQ\"].astype(float)\n",
    "    Sample_ROC_DF = Sample_ROC_DF.sort_values(\"QQ\")\n",
    "    Sample_ROC_DF.index = Sample_ROC_DF['QQ']\n",
    "\n",
    "    Sample_ROC_DF = Sample_ROC_DF.reindex(np.arange(Sample_ROC_DF.QQ.min(), Sample_ROC_DF.QQ.max() + 1), fill_value=np.nan)  \n",
    "    Sample_ROC_DF[\"QQ\"] = Sample_ROC_DF.index\n",
    "\n",
    "    Sample_ROC_DF = Sample_ROC_DF.ffill()\n",
    "    Sample_ROC_DF = Sample_ROC_DF.reset_index(drop=True)\n",
    "    \n",
    "    return Sample_ROC_DF\n"
   ]
  },
  {
   "cell_type": "markdown",
   "metadata": {},
   "source": [
    "### UPDATED FFILL PARSER\n",
    "#### This version adds a QQ==60 row to the dataframe if it doesn't exist"
   ]
  },
  {
   "cell_type": "code",
   "execution_count": 15,
   "metadata": {},
   "outputs": [],
   "source": [
    "def parse_HapPy_Benchmark_DF_and_FFILL(Sample_ROC_DF):\n",
    "    \"\"\" \n",
    "    \"\"\"\n",
    "    \n",
    "    Sample_ROC_DF = Sample_ROC_DF[ Sample_ROC_DF[\"QQ\"] != \"*\"]\n",
    "    Sample_ROC_DF[\"QQ\"] = Sample_ROC_DF[\"QQ\"].astype(float)\n",
    "    Sample_ROC_DF = Sample_ROC_DF.sort_values(\"QQ\")\n",
    "    \n",
    "    \n",
    "    if Sample_ROC_DF.shape[0] <= 1:\n",
    "        print(Sample_ROC_DF.shape[0], )\n",
    "        #Sample_ROC_DF[\"QQ\"] = -10\n",
    "        \n",
    "        Sample_ROC_DF = Sample_ROC_DF[ Sample_ROC_DF[\"Filter\"] == \".\"]\n",
    "        \n",
    "        return Sample_ROC_DF\n",
    "\n",
    "    \n",
    "    #print(Sample_ROC_DF[-1:].values.shape)\n",
    "    \n",
    "    Sample_ROC_DF_lastRow_ToMQ60 = pd.DataFrame(Sample_ROC_DF[-1:].values,  columns=Sample_ROC_DF.columns)\n",
    "    \n",
    "    MQ_Thresh_OfLastRow = Sample_ROC_DF_lastRow_ToMQ60[\"QQ\"].values[0]\n",
    "    \n",
    "    if MQ_Thresh_OfLastRow != 60:\n",
    "        Sample_ROC_DF_lastRow_ToMQ60[\"QQ\"] = 60\n",
    "\n",
    "        Sample_ROC_DF = Sample_ROC_DF.append(Sample_ROC_DF_lastRow_ToMQ60)\n",
    "    \n",
    "    Sample_ROC_DF.index = Sample_ROC_DF['QQ']\n",
    "    \n",
    "    \n",
    "    Sample_ROC_DF = Sample_ROC_DF.reindex(np.arange(Sample_ROC_DF.QQ.min(), Sample_ROC_DF.QQ.max() + 1), fill_value=np.nan)  \n",
    "    Sample_ROC_DF[\"QQ\"] = Sample_ROC_DF.index\n",
    "\n",
    "    Sample_ROC_DF = Sample_ROC_DF.ffill()\n",
    "    Sample_ROC_DF = Sample_ROC_DF.reset_index(drop=True)\n",
    "    \n",
    "    return Sample_ROC_DF\n"
   ]
  },
  {
   "cell_type": "code",
   "execution_count": null,
   "metadata": {},
   "outputs": [],
   "source": []
  },
  {
   "cell_type": "code",
   "execution_count": 16,
   "metadata": {},
   "outputs": [],
   "source": [
    "def parse_HapPy_Benchmark_DF_and_FFILL_And_Add0_UpTo60QQ(Sample_ROC_DF):\n",
    "    \"\"\" \n",
    "    \"\"\"\n",
    "    \n",
    "    Sample_ROC_DF_OG = Sample_ROC_DF.copy()\n",
    "    \n",
    "    Sample_ROC_DF = Sample_ROC_DF[ Sample_ROC_DF[\"QQ\"] != \"*\"]\n",
    "    Sample_ROC_DF[\"QQ\"] = Sample_ROC_DF[\"QQ\"].astype(float)\n",
    "    Sample_ROC_DF = Sample_ROC_DF.sort_values(\"QQ\")\n",
    "    Sample_ROC_DF.index = Sample_ROC_DF['QQ']\n",
    "\n",
    "    if Sample_ROC_DF.shape[0] <= 1:\n",
    "        #print(Sample_ROC_DF.shape[0] )\n",
    "        Sample_ROC_DF[\"QQ\"] = -10\n",
    "        return Sample_ROC_DF\n",
    "\n",
    "    \n",
    "\n",
    "\n",
    "    Sample_ROC_DF_lastRow_ToMQ60 = pd.DataFrame(Sample_ROC_DF.iloc[[-1]].values,  columns=Sample_ROC_DF.columns)\n",
    "    MQ_Thresh_OfLastRow = Sample_ROC_DF_lastRow_ToMQ60[\"QQ\"].values[0]\n",
    "\n",
    "    if MQ_Thresh_OfLastRow != 60:\n",
    "        print(\"Max QQ in table\", Sample_ROC_DF.QQ.max() )\n",
    "        Sample_ROC_DF_lastRow_ToMQ60[\"QQ\"] = 60\n",
    "        Sample_ROC_DF_lastRow_ToMQ60[\"METRIC.Recall\"] = 0 # np.nan #0 # Set Recall to ZERO b/c there are still FN, but not a single one was called\n",
    "        Sample_ROC_DF_lastRow_ToMQ60[\"METRIC.Precision\"] = 1 # np.nan #0  # Set Precision to NAN b/c there were no Positive calls made at all\n",
    "        Sample_ROC_DF_lastRow_ToMQ60[\"METRIC.F1_Score\"] = 0 # np.nan #0   # Set F1 score to ZERO b/c Recall is ZERO\n",
    "    \n",
    "\n",
    "        #Sample_ROC_DF_lastRow_ToMQ60[\"QUERY.TPs\"] = 0\n",
    "        #Sample_ROC_DF_lastRow_ToMQ60[\"QUERY.TOTAL] + Sample_ROC_DF_lastRow_ToMQ60[\"TRUTH.TP\"]\n",
    "\n",
    "\n",
    "        Sample_ROC_DF_lastRow_ToMQ60.index = [60]\n",
    "\n",
    "        Sample_ROC_DF = Sample_ROC_DF.append(Sample_ROC_DF_lastRow_ToMQ60)\n",
    "\n",
    "\n",
    "    Sample_ROC_DF = Sample_ROC_DF.reindex(np.arange(Sample_ROC_DF.QQ.min(), Sample_ROC_DF.QQ.max() + 1), fill_value=np.nan)  \n",
    "\n",
    "    Sample_ROC_DF[\"QQ\"] = Sample_ROC_DF.index\n",
    "\n",
    "    Sample_ROC_DF = Sample_ROC_DF.ffill()\n",
    "\n",
    "    Sample_ROC_DF = Sample_ROC_DF.reset_index(drop=True)\n",
    "\n",
    "    return Sample_ROC_DF\n"
   ]
  },
  {
   "cell_type": "code",
   "execution_count": null,
   "metadata": {},
   "outputs": [],
   "source": []
  },
  {
   "cell_type": "code",
   "execution_count": null,
   "metadata": {},
   "outputs": [],
   "source": []
  },
  {
   "cell_type": "code",
   "execution_count": 17,
   "metadata": {},
   "outputs": [
    {
     "name": "stderr",
     "output_type": "stream",
     "text": [
      "  0%|          | 0/1 [00:00<?, ?it/s]/home/mm774/conda3/envs/py37_S/lib/python3.7/site-packages/ipykernel_launcher.py:8: SettingWithCopyWarning:\n",
      "\n",
      "\n",
      "A value is trying to be set on a copy of a slice from a DataFrame.\n",
      "Try using .loc[row_indexer,col_indexer] = value instead\n",
      "\n",
      "See the caveats in the documentation: https://pandas.pydata.org/pandas-docs/stable/user_guide/indexing.html#returning-a-view-versus-a-copy\n",
      "\n",
      "/home/mm774/conda3/envs/py37_S/lib/python3.7/site-packages/pandas/core/indexing.py:1596: SettingWithCopyWarning:\n",
      "\n",
      "\n",
      "A value is trying to be set on a copy of a slice from a DataFrame.\n",
      "Try using .loc[row_indexer,col_indexer] = value instead\n",
      "\n",
      "See the caveats in the documentation: https://pandas.pydata.org/pandas-docs/stable/user_guide/indexing.html#returning-a-view-versus-a-copy\n",
      "\n",
      "/home/mm774/conda3/envs/py37_S/lib/python3.7/site-packages/pandas/core/indexing.py:1763: SettingWithCopyWarning:\n",
      "\n",
      "\n",
      "A value is trying to be set on a copy of a slice from a DataFrame.\n",
      "Try using .loc[row_indexer,col_indexer] = value instead\n",
      "\n",
      "See the caveats in the documentation: https://pandas.pydata.org/pandas-docs/stable/user_guide/indexing.html#returning-a-view-versus-a-copy\n",
      "\n"
     ]
    },
    {
     "name": "stdout",
     "output_type": "stream",
     "text": [
      "Max QQ in table 59.0\n",
      "Max QQ in table 59.0\n",
      "Max QQ in table 59.0\n",
      "Max QQ in table 59.0\n",
      "Max QQ in table 59.0\n",
      "Max QQ in table 59.0\n",
      "Max QQ in table 59.0\n",
      "Max QQ in table 59.0\n",
      "Max QQ in table 59.0\n",
      "Max QQ in table 59.0\n",
      "Max QQ in table 59.0\n",
      "Max QQ in table 59.0\n",
      "Max QQ in table 59.0\n",
      "Max QQ in table 59.0\n",
      "Max QQ in table 59.0\n",
      "Max QQ in table 59.0\n",
      "Max QQ in table 59.0\n",
      "Max QQ in table 59.0\n",
      "Max QQ in table 59.0\n",
      "Max QQ in table 59.0\n",
      "Max QQ in table 59.0\n",
      "Max QQ in table 59.0\n",
      "Max QQ in table 59.0\n",
      "Max QQ in table 59.0\n"
     ]
    },
    {
     "name": "stderr",
     "output_type": "stream",
     "text": [
      "100%|██████████| 1/1 [00:03<00:00,  3.13s/it]"
     ]
    },
    {
     "name": "stdout",
     "output_type": "stream",
     "text": [
      "Max QQ in table 59.0\n"
     ]
    },
    {
     "name": "stderr",
     "output_type": "stream",
     "text": [
      "\n"
     ]
    }
   ],
   "source": [
    "\n",
    "listOf_FilteringSchemes = [\"MM2vsPilon_NoneRemoved_1to15bp\"] \n",
    "\n",
    "\n",
    "#listOf_VariantTypes = [\"SNPs\", \"INDELs\"]\n",
    "listOf_VariantTypes = [\"ALL\"]\n",
    "\n",
    "#listOf_INDEL_Subtypes = ['D1_5', 'I1_5', 'D16_PLUS', 'I6_15', 'D6_15', 'I16_PLUS']\n",
    "listOf_INDEL_Subtypes = ['D1_5', 'I1_5', 'I6_15', 'D6_15', ]\n",
    "\n",
    "                         \n",
    "listOf_HapPy_DFs = []\n",
    "\n",
    "for RegionFilteringScheme in tqdm(listOf_FilteringSchemes):\n",
    "    for SampleID in (SampleIDs_36CI_SOI):\n",
    "        for variantType in listOf_VariantTypes:\n",
    "                   \n",
    "            i_HapPy_ROC_PASS_CSV_PATH = SampleID_ToPaths_Dict[SampleID][RegionFilteringScheme][variantType][\"Happy_ROC_PASS_CSV\"]                      \n",
    "\n",
    "            i_HapPy_ALL_DF = pd.read_csv(i_HapPy_ROC_PASS_CSV_PATH)\n",
    "            i_HapPy_ALL_PASS_DF = i_HapPy_ALL_DF[ i_HapPy_ALL_DF[\"Filter\"] == \"PASS\"]\n",
    "            i_HapPy_ALL_PASS_INDEL_DF = i_HapPy_ALL_PASS_DF[ i_HapPy_ALL_PASS_DF[\"Type\"] == \"INDEL\"]\n",
    "                        \n",
    "                         \n",
    "            for INDEL_Subtype in listOf_INDEL_Subtypes:             \n",
    " \n",
    "                i_ALL_PASS_INDEL_DF_Subtype = i_HapPy_ALL_PASS_INDEL_DF[ (i_HapPy_ALL_PASS_INDEL_DF[\"Subtype\"] == INDEL_Subtype) & ( i_HapPy_ALL_PASS_INDEL_DF[\"Subset\"] == \"*\" )]\n",
    "\n",
    "                i_ALL_PASS_INDEL_DF_Subtype_FF = parse_HapPy_Benchmark_DF_and_FFILL_And_Add0_UpTo60QQ(i_ALL_PASS_INDEL_DF_Subtype)\n",
    "\n",
    "                         \n",
    "                columnsToKeep_HappyTable = ['Type', 'Subtype', 'Subset', 'Filter', 'Genotype', 'QQ.Field',\n",
    "                                             'QQ', 'METRIC.Recall', 'METRIC.Precision', 'METRIC.Frac_NA',\n",
    "                                             'METRIC.F1_Score', 'TRUTH.TP', 'TRUTH.FN', 'QUERY.TP',\n",
    "                                             'QUERY.FP', 'QUERY.UNK']\n",
    "                \n",
    "                \n",
    "                #print(SampleID, INDEL_Subtype, i_ALL_PASS_INDEL_DF_Subtype_FF.shape)\n",
    "                \n",
    "                #print(SampleID)\n",
    "                \n",
    "                i_VC_PR_Curve_DF = i_ALL_PASS_INDEL_DF_Subtype_FF[columnsToKeep_HappyTable]\n",
    "\n",
    "                if i_VC_PR_Curve_DF.shape[0] < 3: \n",
    "                    print(SampleID)\n",
    "                    #continue\n",
    "                    \n",
    "                #print(SampleID, INDEL_Subtype, i_ALL_PASS_INDEL_DF_Subtype_FF.shape)\n",
    "  \n",
    "                i_VC_PR_Curve_DF.loc[:,'SampleID'] = SampleID\n",
    "                i_VC_PR_Curve_DF.loc[:,'RegionFilteringScheme'] = RegionFilteringScheme\n",
    "                i_VC_PR_Curve_DF.loc[:,'variantType'] = variantType\n",
    "\n",
    "                listOf_HapPy_DFs.append(i_VC_PR_Curve_DF)\n",
    "\n",
    "HapPy_PR_DF = pd.concat(listOf_HapPy_DFs)\n",
    "\n",
    "HapPy_PR_DF[\"QQ\"] = HapPy_PR_DF[\"QQ\"].astype(int) #Experimental"
   ]
  },
  {
   "cell_type": "code",
   "execution_count": null,
   "metadata": {},
   "outputs": [],
   "source": []
  },
  {
   "cell_type": "code",
   "execution_count": 18,
   "metadata": {},
   "outputs": [
    {
     "data": {
      "text/html": [
       "<div>\n",
       "<style scoped>\n",
       "    .dataframe tbody tr th:only-of-type {\n",
       "        vertical-align: middle;\n",
       "    }\n",
       "\n",
       "    .dataframe tbody tr th {\n",
       "        vertical-align: top;\n",
       "    }\n",
       "\n",
       "    .dataframe thead th {\n",
       "        text-align: right;\n",
       "    }\n",
       "</style>\n",
       "<table border=\"1\" class=\"dataframe\">\n",
       "  <thead>\n",
       "    <tr style=\"text-align: right;\">\n",
       "      <th></th>\n",
       "      <th>Type</th>\n",
       "      <th>Subtype</th>\n",
       "      <th>Subset</th>\n",
       "      <th>Filter</th>\n",
       "      <th>Genotype</th>\n",
       "      <th>QQ.Field</th>\n",
       "      <th>QQ</th>\n",
       "      <th>METRIC.Recall</th>\n",
       "      <th>METRIC.Precision</th>\n",
       "      <th>METRIC.Frac_NA</th>\n",
       "      <th>METRIC.F1_Score</th>\n",
       "      <th>FP.gt</th>\n",
       "      <th>FP.al</th>\n",
       "      <th>Subset.Size</th>\n",
       "      <th>Subset.IS_CONF.Size</th>\n",
       "      <th>Subset.Level</th>\n",
       "      <th>TRUTH.TOTAL</th>\n",
       "      <th>TRUTH.TOTAL.ti</th>\n",
       "      <th>TRUTH.TOTAL.tv</th>\n",
       "      <th>TRUTH.TOTAL.het</th>\n",
       "      <th>TRUTH.TOTAL.homalt</th>\n",
       "      <th>TRUTH.TOTAL.TiTv_ratio</th>\n",
       "      <th>TRUTH.TOTAL.het_hom_ratio</th>\n",
       "      <th>TRUTH.TP</th>\n",
       "      <th>TRUTH.TP.ti</th>\n",
       "      <th>TRUTH.TP.tv</th>\n",
       "      <th>TRUTH.TP.het</th>\n",
       "      <th>TRUTH.TP.homalt</th>\n",
       "      <th>TRUTH.TP.TiTv_ratio</th>\n",
       "      <th>TRUTH.TP.het_hom_ratio</th>\n",
       "      <th>TRUTH.FN</th>\n",
       "      <th>TRUTH.FN.ti</th>\n",
       "      <th>TRUTH.FN.tv</th>\n",
       "      <th>TRUTH.FN.het</th>\n",
       "      <th>TRUTH.FN.homalt</th>\n",
       "      <th>TRUTH.FN.TiTv_ratio</th>\n",
       "      <th>TRUTH.FN.het_hom_ratio</th>\n",
       "      <th>QUERY.TOTAL</th>\n",
       "      <th>QUERY.TOTAL.ti</th>\n",
       "      <th>QUERY.TOTAL.tv</th>\n",
       "      <th>QUERY.TOTAL.het</th>\n",
       "      <th>QUERY.TOTAL.homalt</th>\n",
       "      <th>QUERY.TOTAL.TiTv_ratio</th>\n",
       "      <th>QUERY.TOTAL.het_hom_ratio</th>\n",
       "      <th>QUERY.TP</th>\n",
       "      <th>QUERY.TP.ti</th>\n",
       "      <th>QUERY.TP.tv</th>\n",
       "      <th>QUERY.TP.het</th>\n",
       "      <th>QUERY.TP.homalt</th>\n",
       "      <th>QUERY.TP.TiTv_ratio</th>\n",
       "      <th>QUERY.TP.het_hom_ratio</th>\n",
       "      <th>QUERY.FP</th>\n",
       "      <th>QUERY.FP.ti</th>\n",
       "      <th>QUERY.FP.tv</th>\n",
       "      <th>QUERY.FP.het</th>\n",
       "      <th>QUERY.FP.homalt</th>\n",
       "      <th>QUERY.FP.TiTv_ratio</th>\n",
       "      <th>QUERY.FP.het_hom_ratio</th>\n",
       "      <th>QUERY.UNK</th>\n",
       "      <th>QUERY.UNK.ti</th>\n",
       "      <th>QUERY.UNK.tv</th>\n",
       "      <th>QUERY.UNK.het</th>\n",
       "      <th>QUERY.UNK.homalt</th>\n",
       "      <th>QUERY.UNK.TiTv_ratio</th>\n",
       "      <th>QUERY.UNK.het_hom_ratio</th>\n",
       "    </tr>\n",
       "  </thead>\n",
       "  <tbody>\n",
       "    <tr>\n",
       "      <th>64</th>\n",
       "      <td>INDEL</td>\n",
       "      <td>D6_15</td>\n",
       "      <td>*</td>\n",
       "      <td>PASS</td>\n",
       "      <td>*</td>\n",
       "      <td>INFO.MQ</td>\n",
       "      <td>*</td>\n",
       "      <td>0.777778</td>\n",
       "      <td>0.875</td>\n",
       "      <td>0.0</td>\n",
       "      <td>0.823529</td>\n",
       "      <td>0</td>\n",
       "      <td>1</td>\n",
       "      <td>4411532.0</td>\n",
       "      <td>4399616.0</td>\n",
       "      <td>0.0</td>\n",
       "      <td>9</td>\n",
       "      <td>.</td>\n",
       "      <td>.</td>\n",
       "      <td>0.000000</td>\n",
       "      <td>9.000000</td>\n",
       "      <td>NaN</td>\n",
       "      <td>0.0</td>\n",
       "      <td>7</td>\n",
       "      <td>.</td>\n",
       "      <td>.</td>\n",
       "      <td>0.000000</td>\n",
       "      <td>7.000000</td>\n",
       "      <td>NaN</td>\n",
       "      <td>0.0</td>\n",
       "      <td>2</td>\n",
       "      <td>.</td>\n",
       "      <td>.</td>\n",
       "      <td>0.000000</td>\n",
       "      <td>2.000000</td>\n",
       "      <td>NaN</td>\n",
       "      <td>0.0</td>\n",
       "      <td>8</td>\n",
       "      <td>.</td>\n",
       "      <td>.</td>\n",
       "      <td>0.000000</td>\n",
       "      <td>8.000000</td>\n",
       "      <td>NaN</td>\n",
       "      <td>0.0</td>\n",
       "      <td>7</td>\n",
       "      <td>.</td>\n",
       "      <td>.</td>\n",
       "      <td>0.000000</td>\n",
       "      <td>7.000000</td>\n",
       "      <td>NaN</td>\n",
       "      <td>0.0</td>\n",
       "      <td>1</td>\n",
       "      <td>.</td>\n",
       "      <td>.</td>\n",
       "      <td>0.000000</td>\n",
       "      <td>1.000000</td>\n",
       "      <td>NaN</td>\n",
       "      <td>0.0</td>\n",
       "      <td>0</td>\n",
       "      <td>.</td>\n",
       "      <td>.</td>\n",
       "      <td>0.000000</td>\n",
       "      <td>0.000000</td>\n",
       "      <td>NaN</td>\n",
       "      <td>NaN</td>\n",
       "    </tr>\n",
       "    <tr>\n",
       "      <th>65</th>\n",
       "      <td>INDEL</td>\n",
       "      <td>D6_15</td>\n",
       "      <td>*</td>\n",
       "      <td>PASS</td>\n",
       "      <td>*</td>\n",
       "      <td>INFO.MQ</td>\n",
       "      <td>0.000000</td>\n",
       "      <td>0.777778</td>\n",
       "      <td>1.000</td>\n",
       "      <td>0.0</td>\n",
       "      <td>0.875000</td>\n",
       "      <td>0</td>\n",
       "      <td>0</td>\n",
       "      <td>4411532.0</td>\n",
       "      <td>4399616.0</td>\n",
       "      <td>0.0</td>\n",
       "      <td>9</td>\n",
       "      <td>.</td>\n",
       "      <td>.</td>\n",
       "      <td>.</td>\n",
       "      <td>.</td>\n",
       "      <td>NaN</td>\n",
       "      <td>NaN</td>\n",
       "      <td>7</td>\n",
       "      <td>.</td>\n",
       "      <td>.</td>\n",
       "      <td>.</td>\n",
       "      <td>.</td>\n",
       "      <td>NaN</td>\n",
       "      <td>NaN</td>\n",
       "      <td>2</td>\n",
       "      <td>.</td>\n",
       "      <td>.</td>\n",
       "      <td>.</td>\n",
       "      <td>.</td>\n",
       "      <td>NaN</td>\n",
       "      <td>NaN</td>\n",
       "      <td>7</td>\n",
       "      <td>.</td>\n",
       "      <td>.</td>\n",
       "      <td>.</td>\n",
       "      <td>.</td>\n",
       "      <td>NaN</td>\n",
       "      <td>NaN</td>\n",
       "      <td>7</td>\n",
       "      <td>.</td>\n",
       "      <td>.</td>\n",
       "      <td>.</td>\n",
       "      <td>.</td>\n",
       "      <td>NaN</td>\n",
       "      <td>NaN</td>\n",
       "      <td>0</td>\n",
       "      <td>.</td>\n",
       "      <td>.</td>\n",
       "      <td>.</td>\n",
       "      <td>.</td>\n",
       "      <td>NaN</td>\n",
       "      <td>NaN</td>\n",
       "      <td>0</td>\n",
       "      <td>.</td>\n",
       "      <td>.</td>\n",
       "      <td>.</td>\n",
       "      <td>.</td>\n",
       "      <td>NaN</td>\n",
       "      <td>NaN</td>\n",
       "    </tr>\n",
       "    <tr>\n",
       "      <th>66</th>\n",
       "      <td>INDEL</td>\n",
       "      <td>D6_15</td>\n",
       "      <td>*</td>\n",
       "      <td>PASS</td>\n",
       "      <td>*</td>\n",
       "      <td>INFO.MQ</td>\n",
       "      <td>59.000000</td>\n",
       "      <td>0.777778</td>\n",
       "      <td>1.000</td>\n",
       "      <td>0.0</td>\n",
       "      <td>0.875000</td>\n",
       "      <td>0</td>\n",
       "      <td>0</td>\n",
       "      <td>4411532.0</td>\n",
       "      <td>4399616.0</td>\n",
       "      <td>0.0</td>\n",
       "      <td>9</td>\n",
       "      <td>.</td>\n",
       "      <td>.</td>\n",
       "      <td>.</td>\n",
       "      <td>.</td>\n",
       "      <td>NaN</td>\n",
       "      <td>NaN</td>\n",
       "      <td>7</td>\n",
       "      <td>.</td>\n",
       "      <td>.</td>\n",
       "      <td>.</td>\n",
       "      <td>.</td>\n",
       "      <td>NaN</td>\n",
       "      <td>NaN</td>\n",
       "      <td>2</td>\n",
       "      <td>.</td>\n",
       "      <td>.</td>\n",
       "      <td>.</td>\n",
       "      <td>.</td>\n",
       "      <td>NaN</td>\n",
       "      <td>NaN</td>\n",
       "      <td>6</td>\n",
       "      <td>.</td>\n",
       "      <td>.</td>\n",
       "      <td>.</td>\n",
       "      <td>.</td>\n",
       "      <td>NaN</td>\n",
       "      <td>NaN</td>\n",
       "      <td>6</td>\n",
       "      <td>.</td>\n",
       "      <td>.</td>\n",
       "      <td>.</td>\n",
       "      <td>.</td>\n",
       "      <td>NaN</td>\n",
       "      <td>NaN</td>\n",
       "      <td>0</td>\n",
       "      <td>.</td>\n",
       "      <td>.</td>\n",
       "      <td>.</td>\n",
       "      <td>.</td>\n",
       "      <td>NaN</td>\n",
       "      <td>NaN</td>\n",
       "      <td>0</td>\n",
       "      <td>.</td>\n",
       "      <td>.</td>\n",
       "      <td>.</td>\n",
       "      <td>.</td>\n",
       "      <td>NaN</td>\n",
       "      <td>NaN</td>\n",
       "    </tr>\n",
       "    <tr>\n",
       "      <th>67</th>\n",
       "      <td>INDEL</td>\n",
       "      <td>D6_15</td>\n",
       "      <td>*</td>\n",
       "      <td>PASS</td>\n",
       "      <td>*</td>\n",
       "      <td>INFO.MQ</td>\n",
       "      <td>60.000000</td>\n",
       "      <td>0.666667</td>\n",
       "      <td>1.000</td>\n",
       "      <td>0.0</td>\n",
       "      <td>0.800000</td>\n",
       "      <td>0</td>\n",
       "      <td>0</td>\n",
       "      <td>4411532.0</td>\n",
       "      <td>4399616.0</td>\n",
       "      <td>0.0</td>\n",
       "      <td>9</td>\n",
       "      <td>.</td>\n",
       "      <td>.</td>\n",
       "      <td>.</td>\n",
       "      <td>.</td>\n",
       "      <td>NaN</td>\n",
       "      <td>NaN</td>\n",
       "      <td>6</td>\n",
       "      <td>.</td>\n",
       "      <td>.</td>\n",
       "      <td>.</td>\n",
       "      <td>.</td>\n",
       "      <td>NaN</td>\n",
       "      <td>NaN</td>\n",
       "      <td>3</td>\n",
       "      <td>.</td>\n",
       "      <td>.</td>\n",
       "      <td>.</td>\n",
       "      <td>.</td>\n",
       "      <td>NaN</td>\n",
       "      <td>NaN</td>\n",
       "      <td>5</td>\n",
       "      <td>.</td>\n",
       "      <td>.</td>\n",
       "      <td>.</td>\n",
       "      <td>.</td>\n",
       "      <td>NaN</td>\n",
       "      <td>NaN</td>\n",
       "      <td>5</td>\n",
       "      <td>.</td>\n",
       "      <td>.</td>\n",
       "      <td>.</td>\n",
       "      <td>.</td>\n",
       "      <td>NaN</td>\n",
       "      <td>NaN</td>\n",
       "      <td>0</td>\n",
       "      <td>.</td>\n",
       "      <td>.</td>\n",
       "      <td>.</td>\n",
       "      <td>.</td>\n",
       "      <td>NaN</td>\n",
       "      <td>NaN</td>\n",
       "      <td>0</td>\n",
       "      <td>.</td>\n",
       "      <td>.</td>\n",
       "      <td>.</td>\n",
       "      <td>.</td>\n",
       "      <td>NaN</td>\n",
       "      <td>NaN</td>\n",
       "    </tr>\n",
       "  </tbody>\n",
       "</table>\n",
       "</div>"
      ],
      "text/plain": [
       "     Type Subtype Subset Filter Genotype QQ.Field         QQ  METRIC.Recall  METRIC.Precision  METRIC.Frac_NA  METRIC.F1_Score  FP.gt  FP.al  Subset.Size  Subset.IS_CONF.Size  Subset.Level  TRUTH.TOTAL TRUTH.TOTAL.ti TRUTH.TOTAL.tv TRUTH.TOTAL.het TRUTH.TOTAL.homalt  TRUTH.TOTAL.TiTv_ratio  TRUTH.TOTAL.het_hom_ratio  TRUTH.TP TRUTH.TP.ti TRUTH.TP.tv TRUTH.TP.het TRUTH.TP.homalt  TRUTH.TP.TiTv_ratio  TRUTH.TP.het_hom_ratio  TRUTH.FN TRUTH.FN.ti TRUTH.FN.tv TRUTH.FN.het TRUTH.FN.homalt  TRUTH.FN.TiTv_ratio  TRUTH.FN.het_hom_ratio  QUERY.TOTAL QUERY.TOTAL.ti QUERY.TOTAL.tv QUERY.TOTAL.het QUERY.TOTAL.homalt  QUERY.TOTAL.TiTv_ratio  QUERY.TOTAL.het_hom_ratio  QUERY.TP QUERY.TP.ti QUERY.TP.tv QUERY.TP.het QUERY.TP.homalt  QUERY.TP.TiTv_ratio  QUERY.TP.het_hom_ratio  QUERY.FP QUERY.FP.ti QUERY.FP.tv QUERY.FP.het QUERY.FP.homalt  QUERY.FP.TiTv_ratio  QUERY.FP.het_hom_ratio  QUERY.UNK QUERY.UNK.ti QUERY.UNK.tv QUERY.UNK.het QUERY.UNK.homalt  QUERY.UNK.TiTv_ratio  QUERY.UNK.het_hom_ratio\n",
       "64  INDEL   D6_15      *   PASS        *  INFO.MQ          *       0.777778             0.875             0.0         0.823529      0      1    4411532.0            4399616.0           0.0            9              .              .        0.000000           9.000000                     NaN                        0.0         7           .           .     0.000000        7.000000                  NaN                     0.0         2           .           .     0.000000        2.000000                  NaN                     0.0            8              .              .        0.000000           8.000000                     NaN                        0.0         7           .           .     0.000000        7.000000                  NaN                     0.0         1           .           .     0.000000        1.000000                  NaN                     0.0          0            .            .      0.000000         0.000000                   NaN                      NaN\n",
       "65  INDEL   D6_15      *   PASS        *  INFO.MQ   0.000000       0.777778             1.000             0.0         0.875000      0      0    4411532.0            4399616.0           0.0            9              .              .               .                  .                     NaN                        NaN         7           .           .            .               .                  NaN                     NaN         2           .           .            .               .                  NaN                     NaN            7              .              .               .                  .                     NaN                        NaN         7           .           .            .               .                  NaN                     NaN         0           .           .            .               .                  NaN                     NaN          0            .            .             .                .                   NaN                      NaN\n",
       "66  INDEL   D6_15      *   PASS        *  INFO.MQ  59.000000       0.777778             1.000             0.0         0.875000      0      0    4411532.0            4399616.0           0.0            9              .              .               .                  .                     NaN                        NaN         7           .           .            .               .                  NaN                     NaN         2           .           .            .               .                  NaN                     NaN            6              .              .               .                  .                     NaN                        NaN         6           .           .            .               .                  NaN                     NaN         0           .           .            .               .                  NaN                     NaN          0            .            .             .                .                   NaN                      NaN\n",
       "67  INDEL   D6_15      *   PASS        *  INFO.MQ  60.000000       0.666667             1.000             0.0         0.800000      0      0    4411532.0            4399616.0           0.0            9              .              .               .                  .                     NaN                        NaN         6           .           .            .               .                  NaN                     NaN         3           .           .            .               .                  NaN                     NaN            5              .              .               .                  .                     NaN                        NaN         5           .           .            .               .                  NaN                     NaN         0           .           .            .               .                  NaN                     NaN          0            .            .             .                .                   NaN                      NaN"
      ]
     },
     "execution_count": 18,
     "metadata": {},
     "output_type": "execute_result"
    }
   ],
   "source": [
    "i_ALL_PASS_INDEL_DF_Subtype.sort_values(\"QQ\")"
   ]
  },
  {
   "cell_type": "code",
   "execution_count": 19,
   "metadata": {},
   "outputs": [
    {
     "data": {
      "text/html": [
       "<div>\n",
       "<style scoped>\n",
       "    .dataframe tbody tr th:only-of-type {\n",
       "        vertical-align: middle;\n",
       "    }\n",
       "\n",
       "    .dataframe tbody tr th {\n",
       "        vertical-align: top;\n",
       "    }\n",
       "\n",
       "    .dataframe thead th {\n",
       "        text-align: right;\n",
       "    }\n",
       "</style>\n",
       "<table border=\"1\" class=\"dataframe\">\n",
       "  <thead>\n",
       "    <tr style=\"text-align: right;\">\n",
       "      <th></th>\n",
       "      <th>Type</th>\n",
       "      <th>Subtype</th>\n",
       "      <th>Subset</th>\n",
       "      <th>Filter</th>\n",
       "      <th>Genotype</th>\n",
       "      <th>QQ.Field</th>\n",
       "      <th>QQ</th>\n",
       "      <th>METRIC.Recall</th>\n",
       "      <th>METRIC.Precision</th>\n",
       "      <th>METRIC.Frac_NA</th>\n",
       "      <th>METRIC.F1_Score</th>\n",
       "      <th>TRUTH.TP</th>\n",
       "      <th>TRUTH.FN</th>\n",
       "      <th>QUERY.TP</th>\n",
       "      <th>QUERY.FP</th>\n",
       "      <th>QUERY.UNK</th>\n",
       "      <th>SampleID</th>\n",
       "      <th>RegionFilteringScheme</th>\n",
       "      <th>variantType</th>\n",
       "    </tr>\n",
       "  </thead>\n",
       "  <tbody>\n",
       "    <tr>\n",
       "      <th>0</th>\n",
       "      <td>INDEL</td>\n",
       "      <td>D1_5</td>\n",
       "      <td>*</td>\n",
       "      <td>PASS</td>\n",
       "      <td>*</td>\n",
       "      <td>INFO.MQ</td>\n",
       "      <td>0</td>\n",
       "      <td>0.827586</td>\n",
       "      <td>1.0</td>\n",
       "      <td>0.0</td>\n",
       "      <td>0.90566</td>\n",
       "      <td>24.0</td>\n",
       "      <td>5.0</td>\n",
       "      <td>25.0</td>\n",
       "      <td>0.0</td>\n",
       "      <td>0.0</td>\n",
       "      <td>M0011368_9</td>\n",
       "      <td>MM2vsPilon_NoneRemoved_1to15bp</td>\n",
       "      <td>ALL</td>\n",
       "    </tr>\n",
       "    <tr>\n",
       "      <th>1</th>\n",
       "      <td>INDEL</td>\n",
       "      <td>D1_5</td>\n",
       "      <td>*</td>\n",
       "      <td>PASS</td>\n",
       "      <td>*</td>\n",
       "      <td>INFO.MQ</td>\n",
       "      <td>1</td>\n",
       "      <td>0.827586</td>\n",
       "      <td>1.0</td>\n",
       "      <td>0.0</td>\n",
       "      <td>0.90566</td>\n",
       "      <td>24.0</td>\n",
       "      <td>5.0</td>\n",
       "      <td>25.0</td>\n",
       "      <td>0.0</td>\n",
       "      <td>0.0</td>\n",
       "      <td>M0011368_9</td>\n",
       "      <td>MM2vsPilon_NoneRemoved_1to15bp</td>\n",
       "      <td>ALL</td>\n",
       "    </tr>\n",
       "    <tr>\n",
       "      <th>2</th>\n",
       "      <td>INDEL</td>\n",
       "      <td>D1_5</td>\n",
       "      <td>*</td>\n",
       "      <td>PASS</td>\n",
       "      <td>*</td>\n",
       "      <td>INFO.MQ</td>\n",
       "      <td>2</td>\n",
       "      <td>0.827586</td>\n",
       "      <td>1.0</td>\n",
       "      <td>0.0</td>\n",
       "      <td>0.90566</td>\n",
       "      <td>24.0</td>\n",
       "      <td>5.0</td>\n",
       "      <td>25.0</td>\n",
       "      <td>0.0</td>\n",
       "      <td>0.0</td>\n",
       "      <td>M0011368_9</td>\n",
       "      <td>MM2vsPilon_NoneRemoved_1to15bp</td>\n",
       "      <td>ALL</td>\n",
       "    </tr>\n",
       "  </tbody>\n",
       "</table>\n",
       "</div>"
      ],
      "text/plain": [
       "    Type Subtype Subset Filter Genotype QQ.Field  QQ  METRIC.Recall  METRIC.Precision  METRIC.Frac_NA  METRIC.F1_Score  TRUTH.TP  TRUTH.FN  QUERY.TP  QUERY.FP  QUERY.UNK    SampleID           RegionFilteringScheme variantType\n",
       "0  INDEL    D1_5      *   PASS        *  INFO.MQ   0       0.827586               1.0             0.0          0.90566      24.0       5.0      25.0       0.0        0.0  M0011368_9  MM2vsPilon_NoneRemoved_1to15bp         ALL\n",
       "1  INDEL    D1_5      *   PASS        *  INFO.MQ   1       0.827586               1.0             0.0          0.90566      24.0       5.0      25.0       0.0        0.0  M0011368_9  MM2vsPilon_NoneRemoved_1to15bp         ALL\n",
       "2  INDEL    D1_5      *   PASS        *  INFO.MQ   2       0.827586               1.0             0.0          0.90566      24.0       5.0      25.0       0.0        0.0  M0011368_9  MM2vsPilon_NoneRemoved_1to15bp         ALL"
      ]
     },
     "execution_count": 19,
     "metadata": {},
     "output_type": "execute_result"
    }
   ],
   "source": [
    "HapPy_PR_DF.head(3)"
   ]
  },
  {
   "cell_type": "code",
   "execution_count": 20,
   "metadata": {},
   "outputs": [],
   "source": [
    "#HapPy_PR_DF[ HapPy_PR_DF[\"Subtype\"] == \"I6_15\"][\"QQ\"].value_counts()"
   ]
  },
  {
   "cell_type": "code",
   "execution_count": null,
   "metadata": {},
   "outputs": [],
   "source": []
  },
  {
   "cell_type": "code",
   "execution_count": null,
   "metadata": {},
   "outputs": [],
   "source": []
  },
  {
   "cell_type": "code",
   "execution_count": null,
   "metadata": {},
   "outputs": [],
   "source": []
  },
  {
   "cell_type": "code",
   "execution_count": 21,
   "metadata": {},
   "outputs": [
    {
     "data": {
      "text/plain": [
       "I6_15    2196\n",
       "D6_15    2196\n",
       "D1_5     2196\n",
       "I1_5     2157\n",
       "Name: Subtype, dtype: int64"
      ]
     },
     "execution_count": 21,
     "metadata": {},
     "output_type": "execute_result"
    }
   ],
   "source": [
    "HapPy_PR_DF[\"Subtype\"].value_counts()"
   ]
  },
  {
   "cell_type": "code",
   "execution_count": 22,
   "metadata": {},
   "outputs": [
    {
     "data": {
      "text/plain": [
       "I6_15    2196\n",
       "D6_15    2196\n",
       "D1_5     2196\n",
       "I1_5     2157\n",
       "Name: Subtype, dtype: int64"
      ]
     },
     "execution_count": 22,
     "metadata": {},
     "output_type": "execute_result"
    }
   ],
   "source": [
    "HapPy_PR_DF[\"Subtype\"].value_counts()"
   ]
  },
  {
   "cell_type": "code",
   "execution_count": 23,
   "metadata": {},
   "outputs": [
    {
     "data": {
      "text/plain": [
       "I6_15    2196\n",
       "D6_15    2196\n",
       "D1_5     2196\n",
       "I1_5     2157\n",
       "Name: Subtype, dtype: int64"
      ]
     },
     "execution_count": 23,
     "metadata": {},
     "output_type": "execute_result"
    }
   ],
   "source": [
    "HapPy_PR_DF[\"Subtype\"].value_counts()"
   ]
  },
  {
   "cell_type": "code",
   "execution_count": 24,
   "metadata": {},
   "outputs": [],
   "source": [
    "HapPy_PR_DF_N0153 = HapPy_PR_DF[ HapPy_PR_DF[\"SampleID\"] == \"N0153\"]"
   ]
  },
  {
   "cell_type": "code",
   "execution_count": 25,
   "metadata": {},
   "outputs": [
    {
     "data": {
      "text/plain": [
       "(244, 19)"
      ]
     },
     "execution_count": 25,
     "metadata": {},
     "output_type": "execute_result"
    }
   ],
   "source": [
    "HapPy_PR_DF_N0153.shape"
   ]
  },
  {
   "cell_type": "code",
   "execution_count": 26,
   "metadata": {},
   "outputs": [
    {
     "data": {
      "text/plain": [
       "D1_5     61\n",
       "I6_15    61\n",
       "D6_15    61\n",
       "I1_5     61\n",
       "Name: Subtype, dtype: int64"
      ]
     },
     "execution_count": 26,
     "metadata": {},
     "output_type": "execute_result"
    }
   ],
   "source": [
    "HapPy_PR_DF_N0153[\"Subtype\"].value_counts()"
   ]
  },
  {
   "cell_type": "code",
   "execution_count": 27,
   "metadata": {},
   "outputs": [
    {
     "data": {
      "text/plain": [
       "D1_5     61\n",
       "I6_15    61\n",
       "D6_15    61\n",
       "I1_5     61\n",
       "Name: Subtype, dtype: int64"
      ]
     },
     "execution_count": 27,
     "metadata": {},
     "output_type": "execute_result"
    }
   ],
   "source": [
    "HapPy_PR_DF_N0153[\"Subtype\"].value_counts()"
   ]
  },
  {
   "cell_type": "code",
   "execution_count": 28,
   "metadata": {},
   "outputs": [
    {
     "data": {
      "text/plain": [
       "D1_5     61\n",
       "I6_15    61\n",
       "D6_15    61\n",
       "I1_5     61\n",
       "Name: Subtype, dtype: int64"
      ]
     },
     "execution_count": 28,
     "metadata": {},
     "output_type": "execute_result"
    }
   ],
   "source": [
    "HapPy_PR_DF[ HapPy_PR_DF[\"SampleID\"] == \"RW-TB008\"][\"Subtype\"].value_counts()"
   ]
  },
  {
   "cell_type": "code",
   "execution_count": 29,
   "metadata": {},
   "outputs": [
    {
     "data": {
      "text/plain": [
       "(36, 19)"
      ]
     },
     "execution_count": 29,
     "metadata": {},
     "output_type": "execute_result"
    }
   ],
   "source": [
    "HapPy_PR_DF[ (HapPy_PR_DF[\"QQ\"] == 50) & (HapPy_PR_DF[\"Subtype\"] == \"I6_15\")  ].shape"
   ]
  },
  {
   "cell_type": "code",
   "execution_count": 30,
   "metadata": {},
   "outputs": [
    {
     "data": {
      "text/html": [
       "<div>\n",
       "<style scoped>\n",
       "    .dataframe tbody tr th:only-of-type {\n",
       "        vertical-align: middle;\n",
       "    }\n",
       "\n",
       "    .dataframe tbody tr th {\n",
       "        vertical-align: top;\n",
       "    }\n",
       "\n",
       "    .dataframe thead th {\n",
       "        text-align: right;\n",
       "    }\n",
       "</style>\n",
       "<table border=\"1\" class=\"dataframe\">\n",
       "  <thead>\n",
       "    <tr style=\"text-align: right;\">\n",
       "      <th></th>\n",
       "      <th>Type</th>\n",
       "      <th>Subtype</th>\n",
       "      <th>Subset</th>\n",
       "      <th>Filter</th>\n",
       "      <th>Genotype</th>\n",
       "      <th>QQ.Field</th>\n",
       "      <th>QQ</th>\n",
       "      <th>METRIC.Recall</th>\n",
       "      <th>METRIC.Precision</th>\n",
       "      <th>METRIC.Frac_NA</th>\n",
       "      <th>METRIC.F1_Score</th>\n",
       "      <th>TRUTH.TP</th>\n",
       "      <th>TRUTH.FN</th>\n",
       "      <th>QUERY.TP</th>\n",
       "      <th>QUERY.FP</th>\n",
       "      <th>QUERY.UNK</th>\n",
       "      <th>SampleID</th>\n",
       "      <th>RegionFilteringScheme</th>\n",
       "      <th>variantType</th>\n",
       "    </tr>\n",
       "  </thead>\n",
       "  <tbody>\n",
       "    <tr>\n",
       "      <th>50</th>\n",
       "      <td>INDEL</td>\n",
       "      <td>I6_15</td>\n",
       "      <td>*</td>\n",
       "      <td>PASS</td>\n",
       "      <td>*</td>\n",
       "      <td>INFO.MQ</td>\n",
       "      <td>50</td>\n",
       "      <td>0.461538</td>\n",
       "      <td>1.000</td>\n",
       "      <td>0.0</td>\n",
       "      <td>0.631579</td>\n",
       "      <td>6.0</td>\n",
       "      <td>7.0</td>\n",
       "      <td>6.0</td>\n",
       "      <td>0.0</td>\n",
       "      <td>0.0</td>\n",
       "      <td>M0011368_9</td>\n",
       "      <td>MM2vsPilon_NoneRemoved_1to15bp</td>\n",
       "      <td>ALL</td>\n",
       "    </tr>\n",
       "    <tr>\n",
       "      <th>50</th>\n",
       "      <td>INDEL</td>\n",
       "      <td>I6_15</td>\n",
       "      <td>*</td>\n",
       "      <td>PASS</td>\n",
       "      <td>*</td>\n",
       "      <td>INFO.MQ</td>\n",
       "      <td>50</td>\n",
       "      <td>0.470588</td>\n",
       "      <td>1.000</td>\n",
       "      <td>0.0</td>\n",
       "      <td>0.640000</td>\n",
       "      <td>8.0</td>\n",
       "      <td>9.0</td>\n",
       "      <td>8.0</td>\n",
       "      <td>0.0</td>\n",
       "      <td>0.0</td>\n",
       "      <td>M0014888_3</td>\n",
       "      <td>MM2vsPilon_NoneRemoved_1to15bp</td>\n",
       "      <td>ALL</td>\n",
       "    </tr>\n",
       "    <tr>\n",
       "      <th>50</th>\n",
       "      <td>INDEL</td>\n",
       "      <td>I6_15</td>\n",
       "      <td>*</td>\n",
       "      <td>PASS</td>\n",
       "      <td>*</td>\n",
       "      <td>INFO.MQ</td>\n",
       "      <td>50</td>\n",
       "      <td>0.428571</td>\n",
       "      <td>0.875</td>\n",
       "      <td>0.0</td>\n",
       "      <td>0.575342</td>\n",
       "      <td>6.0</td>\n",
       "      <td>8.0</td>\n",
       "      <td>7.0</td>\n",
       "      <td>1.0</td>\n",
       "      <td>0.0</td>\n",
       "      <td>M0016395_7</td>\n",
       "      <td>MM2vsPilon_NoneRemoved_1to15bp</td>\n",
       "      <td>ALL</td>\n",
       "    </tr>\n",
       "  </tbody>\n",
       "</table>\n",
       "</div>"
      ],
      "text/plain": [
       "     Type Subtype Subset Filter Genotype QQ.Field  QQ  METRIC.Recall  METRIC.Precision  METRIC.Frac_NA  METRIC.F1_Score  TRUTH.TP  TRUTH.FN  QUERY.TP  QUERY.FP  QUERY.UNK    SampleID           RegionFilteringScheme variantType\n",
       "50  INDEL   I6_15      *   PASS        *  INFO.MQ  50       0.461538             1.000             0.0         0.631579       6.0       7.0       6.0       0.0        0.0  M0011368_9  MM2vsPilon_NoneRemoved_1to15bp         ALL\n",
       "50  INDEL   I6_15      *   PASS        *  INFO.MQ  50       0.470588             1.000             0.0         0.640000       8.0       9.0       8.0       0.0        0.0  M0014888_3  MM2vsPilon_NoneRemoved_1to15bp         ALL\n",
       "50  INDEL   I6_15      *   PASS        *  INFO.MQ  50       0.428571             0.875             0.0         0.575342       6.0       8.0       7.0       1.0        0.0  M0016395_7  MM2vsPilon_NoneRemoved_1to15bp         ALL"
      ]
     },
     "execution_count": 30,
     "metadata": {},
     "output_type": "execute_result"
    }
   ],
   "source": [
    "HapPy_PR_DF[ (HapPy_PR_DF[\"QQ\"] == 50) & (HapPy_PR_DF[\"Subtype\"] == \"I6_15\")  ].head(3)"
   ]
  },
  {
   "cell_type": "code",
   "execution_count": 31,
   "metadata": {},
   "outputs": [
    {
     "data": {
      "text/plain": [
       "(36, 19)"
      ]
     },
     "execution_count": 31,
     "metadata": {},
     "output_type": "execute_result"
    }
   ],
   "source": [
    "HapPy_PR_DF[ (HapPy_PR_DF[\"QQ\"] == 59) & (HapPy_PR_DF[\"Subtype\"] == \"I6_15\")  ].shape"
   ]
  },
  {
   "cell_type": "code",
   "execution_count": 32,
   "metadata": {},
   "outputs": [
    {
     "data": {
      "text/plain": [
       "(36, 19)"
      ]
     },
     "execution_count": 32,
     "metadata": {},
     "output_type": "execute_result"
    }
   ],
   "source": [
    "HapPy_PR_DF[ (HapPy_PR_DF[\"QQ\"] == 60) & (HapPy_PR_DF[\"Subtype\"] == \"I6_15\")  ].shape"
   ]
  },
  {
   "cell_type": "code",
   "execution_count": 33,
   "metadata": {},
   "outputs": [
    {
     "data": {
      "text/html": [
       "<div>\n",
       "<style scoped>\n",
       "    .dataframe tbody tr th:only-of-type {\n",
       "        vertical-align: middle;\n",
       "    }\n",
       "\n",
       "    .dataframe tbody tr th {\n",
       "        vertical-align: top;\n",
       "    }\n",
       "\n",
       "    .dataframe thead th {\n",
       "        text-align: right;\n",
       "    }\n",
       "</style>\n",
       "<table border=\"1\" class=\"dataframe\">\n",
       "  <thead>\n",
       "    <tr style=\"text-align: right;\">\n",
       "      <th></th>\n",
       "      <th>Type</th>\n",
       "      <th>Subtype</th>\n",
       "      <th>Subset</th>\n",
       "      <th>Filter</th>\n",
       "      <th>Genotype</th>\n",
       "      <th>QQ.Field</th>\n",
       "      <th>QQ</th>\n",
       "      <th>METRIC.Recall</th>\n",
       "      <th>METRIC.Precision</th>\n",
       "      <th>METRIC.Frac_NA</th>\n",
       "      <th>METRIC.F1_Score</th>\n",
       "      <th>TRUTH.TP</th>\n",
       "      <th>TRUTH.FN</th>\n",
       "      <th>QUERY.TP</th>\n",
       "      <th>QUERY.FP</th>\n",
       "      <th>QUERY.UNK</th>\n",
       "      <th>SampleID</th>\n",
       "      <th>RegionFilteringScheme</th>\n",
       "      <th>variantType</th>\n",
       "    </tr>\n",
       "  </thead>\n",
       "  <tbody>\n",
       "    <tr>\n",
       "      <th>60</th>\n",
       "      <td>INDEL</td>\n",
       "      <td>I6_15</td>\n",
       "      <td>*</td>\n",
       "      <td>PASS</td>\n",
       "      <td>*</td>\n",
       "      <td>INFO.MQ</td>\n",
       "      <td>60</td>\n",
       "      <td>0.0</td>\n",
       "      <td>1.0</td>\n",
       "      <td>0.0</td>\n",
       "      <td>0.0</td>\n",
       "      <td>0.0</td>\n",
       "      <td>13.0</td>\n",
       "      <td>1.0</td>\n",
       "      <td>0.0</td>\n",
       "      <td>0.0</td>\n",
       "      <td>M0011368_9</td>\n",
       "      <td>MM2vsPilon_NoneRemoved_1to15bp</td>\n",
       "      <td>ALL</td>\n",
       "    </tr>\n",
       "    <tr>\n",
       "      <th>60</th>\n",
       "      <td>INDEL</td>\n",
       "      <td>I6_15</td>\n",
       "      <td>*</td>\n",
       "      <td>PASS</td>\n",
       "      <td>*</td>\n",
       "      <td>INFO.MQ</td>\n",
       "      <td>60</td>\n",
       "      <td>0.0</td>\n",
       "      <td>1.0</td>\n",
       "      <td>0.0</td>\n",
       "      <td>0.0</td>\n",
       "      <td>0.0</td>\n",
       "      <td>17.0</td>\n",
       "      <td>1.0</td>\n",
       "      <td>0.0</td>\n",
       "      <td>0.0</td>\n",
       "      <td>M0014888_3</td>\n",
       "      <td>MM2vsPilon_NoneRemoved_1to15bp</td>\n",
       "      <td>ALL</td>\n",
       "    </tr>\n",
       "    <tr>\n",
       "      <th>60</th>\n",
       "      <td>INDEL</td>\n",
       "      <td>I6_15</td>\n",
       "      <td>*</td>\n",
       "      <td>PASS</td>\n",
       "      <td>*</td>\n",
       "      <td>INFO.MQ</td>\n",
       "      <td>60</td>\n",
       "      <td>0.0</td>\n",
       "      <td>1.0</td>\n",
       "      <td>0.0</td>\n",
       "      <td>0.0</td>\n",
       "      <td>2.0</td>\n",
       "      <td>12.0</td>\n",
       "      <td>1.0</td>\n",
       "      <td>0.0</td>\n",
       "      <td>0.0</td>\n",
       "      <td>M0016395_7</td>\n",
       "      <td>MM2vsPilon_NoneRemoved_1to15bp</td>\n",
       "      <td>ALL</td>\n",
       "    </tr>\n",
       "  </tbody>\n",
       "</table>\n",
       "</div>"
      ],
      "text/plain": [
       "     Type Subtype Subset Filter Genotype QQ.Field  QQ  METRIC.Recall  METRIC.Precision  METRIC.Frac_NA  METRIC.F1_Score  TRUTH.TP  TRUTH.FN  QUERY.TP  QUERY.FP  QUERY.UNK    SampleID           RegionFilteringScheme variantType\n",
       "60  INDEL   I6_15      *   PASS        *  INFO.MQ  60            0.0               1.0             0.0              0.0       0.0      13.0       1.0       0.0        0.0  M0011368_9  MM2vsPilon_NoneRemoved_1to15bp         ALL\n",
       "60  INDEL   I6_15      *   PASS        *  INFO.MQ  60            0.0               1.0             0.0              0.0       0.0      17.0       1.0       0.0        0.0  M0014888_3  MM2vsPilon_NoneRemoved_1to15bp         ALL\n",
       "60  INDEL   I6_15      *   PASS        *  INFO.MQ  60            0.0               1.0             0.0              0.0       2.0      12.0       1.0       0.0        0.0  M0016395_7  MM2vsPilon_NoneRemoved_1to15bp         ALL"
      ]
     },
     "execution_count": 33,
     "metadata": {},
     "output_type": "execute_result"
    }
   ],
   "source": [
    "HapPy_PR_DF[ (HapPy_PR_DF[\"QQ\"] == 60) & (HapPy_PR_DF[\"Subtype\"] == \"I6_15\")  ].head(3)"
   ]
  },
  {
   "cell_type": "code",
   "execution_count": null,
   "metadata": {},
   "outputs": [],
   "source": []
  },
  {
   "cell_type": "code",
   "execution_count": null,
   "metadata": {},
   "outputs": [],
   "source": []
  },
  {
   "cell_type": "markdown",
   "metadata": {},
   "source": [
    "# Average performance across filtering schemes, thresholds, subtypes"
   ]
  },
  {
   "cell_type": "code",
   "execution_count": 34,
   "metadata": {},
   "outputs": [],
   "source": [
    "HapPy_Mean_PR_DF = HapPy_PR_DF.groupby([\"QQ\", \"RegionFilteringScheme\", \"Type\", \"Subtype\", \"Subset\"]).mean().reset_index()   \n",
    "\n",
    "\n",
    "HapPy_SEM_PR_DF = HapPy_PR_DF.groupby([\"QQ\", \"RegionFilteringScheme\", \"Type\", \"Subtype\", \"Subset\"]).sem().reset_index()\n",
    "\n",
    "\n",
    "ColumnsToMergeOn = [\"QQ\", \"RegionFilteringScheme\", \"Type\", \"Subtype\", \"Subset\"]\n",
    "\n",
    "HapPy_Mean_PR_DF = HapPy_Mean_PR_DF.merge(HapPy_SEM_PR_DF,\n",
    "                                                     left_on = ColumnsToMergeOn,\n",
    "                                                     right_on = ColumnsToMergeOn,\n",
    "                                                     suffixes=('_MEAN', '_SEM') ).reset_index(drop=True)\n",
    "\n"
   ]
  },
  {
   "cell_type": "code",
   "execution_count": 35,
   "metadata": {},
   "outputs": [
    {
     "data": {
      "text/plain": [
       "D1_5     61\n",
       "I6_15    61\n",
       "D6_15    61\n",
       "I1_5     61\n",
       "Name: Subtype, dtype: int64"
      ]
     },
     "execution_count": 35,
     "metadata": {},
     "output_type": "execute_result"
    }
   ],
   "source": [
    "HapPy_Mean_PR_DF[\"Subtype\"].value_counts()"
   ]
  },
  {
   "cell_type": "code",
   "execution_count": 36,
   "metadata": {},
   "outputs": [
    {
     "data": {
      "text/plain": [
       "(244, 23)"
      ]
     },
     "execution_count": 36,
     "metadata": {},
     "output_type": "execute_result"
    }
   ],
   "source": [
    "HapPy_Mean_PR_DF.shape"
   ]
  },
  {
   "cell_type": "code",
   "execution_count": 37,
   "metadata": {},
   "outputs": [],
   "source": [
    "#HapPy_Mean_PR_DF.head()"
   ]
  },
  {
   "cell_type": "code",
   "execution_count": 38,
   "metadata": {},
   "outputs": [
    {
     "data": {
      "text/html": [
       "<div>\n",
       "<style scoped>\n",
       "    .dataframe tbody tr th:only-of-type {\n",
       "        vertical-align: middle;\n",
       "    }\n",
       "\n",
       "    .dataframe tbody tr th {\n",
       "        vertical-align: top;\n",
       "    }\n",
       "\n",
       "    .dataframe thead th {\n",
       "        text-align: right;\n",
       "    }\n",
       "</style>\n",
       "<table border=\"1\" class=\"dataframe\">\n",
       "  <thead>\n",
       "    <tr style=\"text-align: right;\">\n",
       "      <th></th>\n",
       "      <th>QQ</th>\n",
       "      <th>RegionFilteringScheme</th>\n",
       "      <th>Type</th>\n",
       "      <th>Subtype</th>\n",
       "      <th>Subset</th>\n",
       "      <th>METRIC.Recall_MEAN</th>\n",
       "      <th>METRIC.Precision_MEAN</th>\n",
       "      <th>METRIC.Frac_NA_MEAN</th>\n",
       "      <th>METRIC.F1_Score_MEAN</th>\n",
       "      <th>TRUTH.TP_MEAN</th>\n",
       "      <th>TRUTH.FN_MEAN</th>\n",
       "      <th>QUERY.TP_MEAN</th>\n",
       "      <th>QUERY.FP_MEAN</th>\n",
       "      <th>QUERY.UNK_MEAN</th>\n",
       "      <th>METRIC.Recall_SEM</th>\n",
       "      <th>METRIC.Precision_SEM</th>\n",
       "      <th>METRIC.Frac_NA_SEM</th>\n",
       "      <th>METRIC.F1_Score_SEM</th>\n",
       "      <th>TRUTH.TP_SEM</th>\n",
       "      <th>TRUTH.FN_SEM</th>\n",
       "      <th>QUERY.TP_SEM</th>\n",
       "      <th>QUERY.FP_SEM</th>\n",
       "      <th>QUERY.UNK_SEM</th>\n",
       "    </tr>\n",
       "  </thead>\n",
       "  <tbody>\n",
       "    <tr>\n",
       "      <th>0</th>\n",
       "      <td>0</td>\n",
       "      <td>MM2vsPilon_NoneRemoved_1to15bp</td>\n",
       "      <td>INDEL</td>\n",
       "      <td>D1_5</td>\n",
       "      <td>*</td>\n",
       "      <td>0.842452</td>\n",
       "      <td>0.966583</td>\n",
       "      <td>0.000403</td>\n",
       "      <td>0.894353</td>\n",
       "      <td>44.666667</td>\n",
       "      <td>8.166667</td>\n",
       "      <td>45.666667</td>\n",
       "      <td>1.583333</td>\n",
       "      <td>0.027778</td>\n",
       "      <td>0.019713</td>\n",
       "      <td>0.005692</td>\n",
       "      <td>0.000403</td>\n",
       "      <td>0.012541</td>\n",
       "      <td>3.028961</td>\n",
       "      <td>1.236033</td>\n",
       "      <td>3.027126</td>\n",
       "      <td>0.230166</td>\n",
       "      <td>0.027778</td>\n",
       "    </tr>\n",
       "    <tr>\n",
       "      <th>1</th>\n",
       "      <td>0</td>\n",
       "      <td>MM2vsPilon_NoneRemoved_1to15bp</td>\n",
       "      <td>INDEL</td>\n",
       "      <td>D6_15</td>\n",
       "      <td>*</td>\n",
       "      <td>0.724138</td>\n",
       "      <td>0.906572</td>\n",
       "      <td>0.006636</td>\n",
       "      <td>0.794825</td>\n",
       "      <td>9.944444</td>\n",
       "      <td>4.194444</td>\n",
       "      <td>9.777778</td>\n",
       "      <td>1.055556</td>\n",
       "      <td>0.083333</td>\n",
       "      <td>0.025803</td>\n",
       "      <td>0.013125</td>\n",
       "      <td>0.003826</td>\n",
       "      <td>0.018120</td>\n",
       "      <td>0.564765</td>\n",
       "      <td>0.495727</td>\n",
       "      <td>0.567802</td>\n",
       "      <td>0.148775</td>\n",
       "      <td>0.046718</td>\n",
       "    </tr>\n",
       "    <tr>\n",
       "      <th>2</th>\n",
       "      <td>0</td>\n",
       "      <td>MM2vsPilon_NoneRemoved_1to15bp</td>\n",
       "      <td>INDEL</td>\n",
       "      <td>I1_5</td>\n",
       "      <td>*</td>\n",
       "      <td>0.905197</td>\n",
       "      <td>0.989297</td>\n",
       "      <td>0.009584</td>\n",
       "      <td>0.944499</td>\n",
       "      <td>46.942857</td>\n",
       "      <td>4.942857</td>\n",
       "      <td>47.942857</td>\n",
       "      <td>0.514286</td>\n",
       "      <td>0.485714</td>\n",
       "      <td>0.009087</td>\n",
       "      <td>0.002036</td>\n",
       "      <td>0.002740</td>\n",
       "      <td>0.005017</td>\n",
       "      <td>3.170490</td>\n",
       "      <td>0.596830</td>\n",
       "      <td>3.165715</td>\n",
       "      <td>0.095014</td>\n",
       "      <td>0.144195</td>\n",
       "    </tr>\n",
       "    <tr>\n",
       "      <th>3</th>\n",
       "      <td>0</td>\n",
       "      <td>MM2vsPilon_NoneRemoved_1to15bp</td>\n",
       "      <td>INDEL</td>\n",
       "      <td>I6_15</td>\n",
       "      <td>*</td>\n",
       "      <td>0.636221</td>\n",
       "      <td>0.950318</td>\n",
       "      <td>0.000000</td>\n",
       "      <td>0.755860</td>\n",
       "      <td>11.250000</td>\n",
       "      <td>6.527778</td>\n",
       "      <td>11.250000</td>\n",
       "      <td>0.638889</td>\n",
       "      <td>0.000000</td>\n",
       "      <td>0.021552</td>\n",
       "      <td>0.009142</td>\n",
       "      <td>0.000000</td>\n",
       "      <td>0.018180</td>\n",
       "      <td>0.794200</td>\n",
       "      <td>0.568325</td>\n",
       "      <td>0.793200</td>\n",
       "      <td>0.120533</td>\n",
       "      <td>0.000000</td>\n",
       "    </tr>\n",
       "    <tr>\n",
       "      <th>4</th>\n",
       "      <td>1</td>\n",
       "      <td>MM2vsPilon_NoneRemoved_1to15bp</td>\n",
       "      <td>INDEL</td>\n",
       "      <td>D1_5</td>\n",
       "      <td>*</td>\n",
       "      <td>0.842452</td>\n",
       "      <td>0.966583</td>\n",
       "      <td>0.000403</td>\n",
       "      <td>0.894353</td>\n",
       "      <td>44.666667</td>\n",
       "      <td>8.166667</td>\n",
       "      <td>45.666667</td>\n",
       "      <td>1.583333</td>\n",
       "      <td>0.027778</td>\n",
       "      <td>0.019713</td>\n",
       "      <td>0.005692</td>\n",
       "      <td>0.000403</td>\n",
       "      <td>0.012541</td>\n",
       "      <td>3.028961</td>\n",
       "      <td>1.236033</td>\n",
       "      <td>3.027126</td>\n",
       "      <td>0.230166</td>\n",
       "      <td>0.027778</td>\n",
       "    </tr>\n",
       "  </tbody>\n",
       "</table>\n",
       "</div>"
      ],
      "text/plain": [
       "   QQ           RegionFilteringScheme   Type Subtype Subset  METRIC.Recall_MEAN  METRIC.Precision_MEAN  METRIC.Frac_NA_MEAN  METRIC.F1_Score_MEAN  TRUTH.TP_MEAN  TRUTH.FN_MEAN  QUERY.TP_MEAN  QUERY.FP_MEAN  QUERY.UNK_MEAN  METRIC.Recall_SEM  METRIC.Precision_SEM  METRIC.Frac_NA_SEM  METRIC.F1_Score_SEM  TRUTH.TP_SEM  TRUTH.FN_SEM  QUERY.TP_SEM  QUERY.FP_SEM  QUERY.UNK_SEM\n",
       "0   0  MM2vsPilon_NoneRemoved_1to15bp  INDEL    D1_5      *            0.842452               0.966583             0.000403              0.894353      44.666667       8.166667      45.666667       1.583333        0.027778           0.019713              0.005692            0.000403             0.012541      3.028961      1.236033      3.027126      0.230166       0.027778\n",
       "1   0  MM2vsPilon_NoneRemoved_1to15bp  INDEL   D6_15      *            0.724138               0.906572             0.006636              0.794825       9.944444       4.194444       9.777778       1.055556        0.083333           0.025803              0.013125            0.003826             0.018120      0.564765      0.495727      0.567802      0.148775       0.046718\n",
       "2   0  MM2vsPilon_NoneRemoved_1to15bp  INDEL    I1_5      *            0.905197               0.989297             0.009584              0.944499      46.942857       4.942857      47.942857       0.514286        0.485714           0.009087              0.002036            0.002740             0.005017      3.170490      0.596830      3.165715      0.095014       0.144195\n",
       "3   0  MM2vsPilon_NoneRemoved_1to15bp  INDEL   I6_15      *            0.636221               0.950318             0.000000              0.755860      11.250000       6.527778      11.250000       0.638889        0.000000           0.021552              0.009142            0.000000             0.018180      0.794200      0.568325      0.793200      0.120533       0.000000\n",
       "4   1  MM2vsPilon_NoneRemoved_1to15bp  INDEL    D1_5      *            0.842452               0.966583             0.000403              0.894353      44.666667       8.166667      45.666667       1.583333        0.027778           0.019713              0.005692            0.000403             0.012541      3.028961      1.236033      3.027126      0.230166       0.027778"
      ]
     },
     "execution_count": 38,
     "metadata": {},
     "output_type": "execute_result"
    }
   ],
   "source": [
    "HapPy_Mean_PR_DF.head()"
   ]
  },
  {
   "cell_type": "code",
   "execution_count": null,
   "metadata": {},
   "outputs": [],
   "source": []
  },
  {
   "cell_type": "code",
   "execution_count": null,
   "metadata": {},
   "outputs": [],
   "source": []
  },
  {
   "cell_type": "code",
   "execution_count": null,
   "metadata": {},
   "outputs": [],
   "source": []
  },
  {
   "cell_type": "markdown",
   "metadata": {},
   "source": [
    "# Output SNS and INDEL variant calling results for supplemental tables"
   ]
  },
  {
   "cell_type": "markdown",
   "metadata": {},
   "source": [
    "## A) Output Averaged Precision-Recall curves (Mean of 36 isolates)"
   ]
  },
  {
   "cell_type": "code",
   "execution_count": 39,
   "metadata": {},
   "outputs": [],
   "source": [
    "HapPy_Mean_PR_DF_INDELs = HapPy_Mean_PR_DF.copy()"
   ]
  },
  {
   "cell_type": "code",
   "execution_count": 40,
   "metadata": {},
   "outputs": [
    {
     "data": {
      "text/html": [
       "<div>\n",
       "<style scoped>\n",
       "    .dataframe tbody tr th:only-of-type {\n",
       "        vertical-align: middle;\n",
       "    }\n",
       "\n",
       "    .dataframe tbody tr th {\n",
       "        vertical-align: top;\n",
       "    }\n",
       "\n",
       "    .dataframe thead th {\n",
       "        text-align: right;\n",
       "    }\n",
       "</style>\n",
       "<table border=\"1\" class=\"dataframe\">\n",
       "  <thead>\n",
       "    <tr style=\"text-align: right;\">\n",
       "      <th></th>\n",
       "      <th>QQ</th>\n",
       "      <th>RegionFilteringScheme</th>\n",
       "      <th>Type</th>\n",
       "      <th>Subtype</th>\n",
       "      <th>Subset</th>\n",
       "      <th>METRIC.Recall_MEAN</th>\n",
       "      <th>METRIC.Precision_MEAN</th>\n",
       "      <th>METRIC.Frac_NA_MEAN</th>\n",
       "      <th>METRIC.F1_Score_MEAN</th>\n",
       "      <th>TRUTH.TP_MEAN</th>\n",
       "      <th>TRUTH.FN_MEAN</th>\n",
       "      <th>QUERY.TP_MEAN</th>\n",
       "      <th>QUERY.FP_MEAN</th>\n",
       "      <th>QUERY.UNK_MEAN</th>\n",
       "      <th>METRIC.Recall_SEM</th>\n",
       "      <th>METRIC.Precision_SEM</th>\n",
       "      <th>METRIC.Frac_NA_SEM</th>\n",
       "      <th>METRIC.F1_Score_SEM</th>\n",
       "      <th>TRUTH.TP_SEM</th>\n",
       "      <th>TRUTH.FN_SEM</th>\n",
       "      <th>QUERY.TP_SEM</th>\n",
       "      <th>QUERY.FP_SEM</th>\n",
       "      <th>QUERY.UNK_SEM</th>\n",
       "    </tr>\n",
       "  </thead>\n",
       "  <tbody>\n",
       "    <tr>\n",
       "      <th>0</th>\n",
       "      <td>0</td>\n",
       "      <td>MM2vsPilon_NoneRemoved_1to15bp</td>\n",
       "      <td>INDEL</td>\n",
       "      <td>D1_5</td>\n",
       "      <td>*</td>\n",
       "      <td>0.842452</td>\n",
       "      <td>0.966583</td>\n",
       "      <td>0.000403</td>\n",
       "      <td>0.894353</td>\n",
       "      <td>44.666667</td>\n",
       "      <td>8.166667</td>\n",
       "      <td>45.666667</td>\n",
       "      <td>1.583333</td>\n",
       "      <td>0.027778</td>\n",
       "      <td>0.019713</td>\n",
       "      <td>0.005692</td>\n",
       "      <td>0.000403</td>\n",
       "      <td>0.012541</td>\n",
       "      <td>3.028961</td>\n",
       "      <td>1.236033</td>\n",
       "      <td>3.027126</td>\n",
       "      <td>0.230166</td>\n",
       "      <td>0.027778</td>\n",
       "    </tr>\n",
       "    <tr>\n",
       "      <th>1</th>\n",
       "      <td>0</td>\n",
       "      <td>MM2vsPilon_NoneRemoved_1to15bp</td>\n",
       "      <td>INDEL</td>\n",
       "      <td>D6_15</td>\n",
       "      <td>*</td>\n",
       "      <td>0.724138</td>\n",
       "      <td>0.906572</td>\n",
       "      <td>0.006636</td>\n",
       "      <td>0.794825</td>\n",
       "      <td>9.944444</td>\n",
       "      <td>4.194444</td>\n",
       "      <td>9.777778</td>\n",
       "      <td>1.055556</td>\n",
       "      <td>0.083333</td>\n",
       "      <td>0.025803</td>\n",
       "      <td>0.013125</td>\n",
       "      <td>0.003826</td>\n",
       "      <td>0.018120</td>\n",
       "      <td>0.564765</td>\n",
       "      <td>0.495727</td>\n",
       "      <td>0.567802</td>\n",
       "      <td>0.148775</td>\n",
       "      <td>0.046718</td>\n",
       "    </tr>\n",
       "    <tr>\n",
       "      <th>2</th>\n",
       "      <td>0</td>\n",
       "      <td>MM2vsPilon_NoneRemoved_1to15bp</td>\n",
       "      <td>INDEL</td>\n",
       "      <td>I1_5</td>\n",
       "      <td>*</td>\n",
       "      <td>0.905197</td>\n",
       "      <td>0.989297</td>\n",
       "      <td>0.009584</td>\n",
       "      <td>0.944499</td>\n",
       "      <td>46.942857</td>\n",
       "      <td>4.942857</td>\n",
       "      <td>47.942857</td>\n",
       "      <td>0.514286</td>\n",
       "      <td>0.485714</td>\n",
       "      <td>0.009087</td>\n",
       "      <td>0.002036</td>\n",
       "      <td>0.002740</td>\n",
       "      <td>0.005017</td>\n",
       "      <td>3.170490</td>\n",
       "      <td>0.596830</td>\n",
       "      <td>3.165715</td>\n",
       "      <td>0.095014</td>\n",
       "      <td>0.144195</td>\n",
       "    </tr>\n",
       "    <tr>\n",
       "      <th>3</th>\n",
       "      <td>0</td>\n",
       "      <td>MM2vsPilon_NoneRemoved_1to15bp</td>\n",
       "      <td>INDEL</td>\n",
       "      <td>I6_15</td>\n",
       "      <td>*</td>\n",
       "      <td>0.636221</td>\n",
       "      <td>0.950318</td>\n",
       "      <td>0.000000</td>\n",
       "      <td>0.755860</td>\n",
       "      <td>11.250000</td>\n",
       "      <td>6.527778</td>\n",
       "      <td>11.250000</td>\n",
       "      <td>0.638889</td>\n",
       "      <td>0.000000</td>\n",
       "      <td>0.021552</td>\n",
       "      <td>0.009142</td>\n",
       "      <td>0.000000</td>\n",
       "      <td>0.018180</td>\n",
       "      <td>0.794200</td>\n",
       "      <td>0.568325</td>\n",
       "      <td>0.793200</td>\n",
       "      <td>0.120533</td>\n",
       "      <td>0.000000</td>\n",
       "    </tr>\n",
       "    <tr>\n",
       "      <th>4</th>\n",
       "      <td>1</td>\n",
       "      <td>MM2vsPilon_NoneRemoved_1to15bp</td>\n",
       "      <td>INDEL</td>\n",
       "      <td>D1_5</td>\n",
       "      <td>*</td>\n",
       "      <td>0.842452</td>\n",
       "      <td>0.966583</td>\n",
       "      <td>0.000403</td>\n",
       "      <td>0.894353</td>\n",
       "      <td>44.666667</td>\n",
       "      <td>8.166667</td>\n",
       "      <td>45.666667</td>\n",
       "      <td>1.583333</td>\n",
       "      <td>0.027778</td>\n",
       "      <td>0.019713</td>\n",
       "      <td>0.005692</td>\n",
       "      <td>0.000403</td>\n",
       "      <td>0.012541</td>\n",
       "      <td>3.028961</td>\n",
       "      <td>1.236033</td>\n",
       "      <td>3.027126</td>\n",
       "      <td>0.230166</td>\n",
       "      <td>0.027778</td>\n",
       "    </tr>\n",
       "  </tbody>\n",
       "</table>\n",
       "</div>"
      ],
      "text/plain": [
       "   QQ           RegionFilteringScheme   Type Subtype Subset  METRIC.Recall_MEAN  METRIC.Precision_MEAN  METRIC.Frac_NA_MEAN  METRIC.F1_Score_MEAN  TRUTH.TP_MEAN  TRUTH.FN_MEAN  QUERY.TP_MEAN  QUERY.FP_MEAN  QUERY.UNK_MEAN  METRIC.Recall_SEM  METRIC.Precision_SEM  METRIC.Frac_NA_SEM  METRIC.F1_Score_SEM  TRUTH.TP_SEM  TRUTH.FN_SEM  QUERY.TP_SEM  QUERY.FP_SEM  QUERY.UNK_SEM\n",
       "0   0  MM2vsPilon_NoneRemoved_1to15bp  INDEL    D1_5      *            0.842452               0.966583             0.000403              0.894353      44.666667       8.166667      45.666667       1.583333        0.027778           0.019713              0.005692            0.000403             0.012541      3.028961      1.236033      3.027126      0.230166       0.027778\n",
       "1   0  MM2vsPilon_NoneRemoved_1to15bp  INDEL   D6_15      *            0.724138               0.906572             0.006636              0.794825       9.944444       4.194444       9.777778       1.055556        0.083333           0.025803              0.013125            0.003826             0.018120      0.564765      0.495727      0.567802      0.148775       0.046718\n",
       "2   0  MM2vsPilon_NoneRemoved_1to15bp  INDEL    I1_5      *            0.905197               0.989297             0.009584              0.944499      46.942857       4.942857      47.942857       0.514286        0.485714           0.009087              0.002036            0.002740             0.005017      3.170490      0.596830      3.165715      0.095014       0.144195\n",
       "3   0  MM2vsPilon_NoneRemoved_1to15bp  INDEL   I6_15      *            0.636221               0.950318             0.000000              0.755860      11.250000       6.527778      11.250000       0.638889        0.000000           0.021552              0.009142            0.000000             0.018180      0.794200      0.568325      0.793200      0.120533       0.000000\n",
       "4   1  MM2vsPilon_NoneRemoved_1to15bp  INDEL    D1_5      *            0.842452               0.966583             0.000403              0.894353      44.666667       8.166667      45.666667       1.583333        0.027778           0.019713              0.005692            0.000403             0.012541      3.028961      1.236033      3.027126      0.230166       0.027778"
      ]
     },
     "execution_count": 40,
     "metadata": {},
     "output_type": "execute_result"
    }
   ],
   "source": [
    "HapPy_Mean_PR_DF_INDELs.head()"
   ]
  },
  {
   "cell_type": "code",
   "execution_count": 41,
   "metadata": {},
   "outputs": [
    {
     "data": {
      "text/plain": [
       "Index(['QQ', 'RegionFilteringScheme', 'Type', 'Subtype', 'Subset', 'METRIC.Recall_MEAN', 'METRIC.Precision_MEAN', 'METRIC.Frac_NA_MEAN', 'METRIC.F1_Score_MEAN', 'TRUTH.TP_MEAN', 'TRUTH.FN_MEAN', 'QUERY.TP_MEAN', 'QUERY.FP_MEAN', 'QUERY.UNK_MEAN', 'METRIC.Recall_SEM', 'METRIC.Precision_SEM', 'METRIC.Frac_NA_SEM', 'METRIC.F1_Score_SEM', 'TRUTH.TP_SEM', 'TRUTH.FN_SEM', 'QUERY.TP_SEM', 'QUERY.FP_SEM', 'QUERY.UNK_SEM'], dtype='object')"
      ]
     },
     "execution_count": 41,
     "metadata": {},
     "output_type": "execute_result"
    }
   ],
   "source": [
    "HapPy_Mean_PR_DF_INDELs.columns"
   ]
  },
  {
   "cell_type": "code",
   "execution_count": 42,
   "metadata": {},
   "outputs": [
    {
     "data": {
      "text/html": [
       "<div>\n",
       "<style scoped>\n",
       "    .dataframe tbody tr th:only-of-type {\n",
       "        vertical-align: middle;\n",
       "    }\n",
       "\n",
       "    .dataframe tbody tr th {\n",
       "        vertical-align: top;\n",
       "    }\n",
       "\n",
       "    .dataframe thead th {\n",
       "        text-align: right;\n",
       "    }\n",
       "</style>\n",
       "<table border=\"1\" class=\"dataframe\">\n",
       "  <thead>\n",
       "    <tr style=\"text-align: right;\">\n",
       "      <th></th>\n",
       "      <th>QQ</th>\n",
       "      <th>RegionFilteringScheme</th>\n",
       "      <th>Subtype</th>\n",
       "      <th>Type</th>\n",
       "      <th>METRIC.Recall_MEAN</th>\n",
       "      <th>METRIC.Precision_MEAN</th>\n",
       "      <th>METRIC.F1_Score_MEAN</th>\n",
       "      <th>METRIC.Recall_SEM</th>\n",
       "      <th>METRIC.Precision_SEM</th>\n",
       "      <th>METRIC.F1_Score_SEM</th>\n",
       "    </tr>\n",
       "  </thead>\n",
       "  <tbody>\n",
       "    <tr>\n",
       "      <th>0</th>\n",
       "      <td>0</td>\n",
       "      <td>MM2vsPilon_NoneRemoved_1to15bp</td>\n",
       "      <td>D1_5</td>\n",
       "      <td>INDEL</td>\n",
       "      <td>0.842452</td>\n",
       "      <td>0.966583</td>\n",
       "      <td>0.894353</td>\n",
       "      <td>0.019713</td>\n",
       "      <td>0.005692</td>\n",
       "      <td>0.012541</td>\n",
       "    </tr>\n",
       "    <tr>\n",
       "      <th>1</th>\n",
       "      <td>0</td>\n",
       "      <td>MM2vsPilon_NoneRemoved_1to15bp</td>\n",
       "      <td>D6_15</td>\n",
       "      <td>INDEL</td>\n",
       "      <td>0.724138</td>\n",
       "      <td>0.906572</td>\n",
       "      <td>0.794825</td>\n",
       "      <td>0.025803</td>\n",
       "      <td>0.013125</td>\n",
       "      <td>0.018120</td>\n",
       "    </tr>\n",
       "    <tr>\n",
       "      <th>2</th>\n",
       "      <td>0</td>\n",
       "      <td>MM2vsPilon_NoneRemoved_1to15bp</td>\n",
       "      <td>I1_5</td>\n",
       "      <td>INDEL</td>\n",
       "      <td>0.905197</td>\n",
       "      <td>0.989297</td>\n",
       "      <td>0.944499</td>\n",
       "      <td>0.009087</td>\n",
       "      <td>0.002036</td>\n",
       "      <td>0.005017</td>\n",
       "    </tr>\n",
       "  </tbody>\n",
       "</table>\n",
       "</div>"
      ],
      "text/plain": [
       "   QQ           RegionFilteringScheme Subtype   Type  METRIC.Recall_MEAN  METRIC.Precision_MEAN  METRIC.F1_Score_MEAN  METRIC.Recall_SEM  METRIC.Precision_SEM  METRIC.F1_Score_SEM\n",
       "0   0  MM2vsPilon_NoneRemoved_1to15bp    D1_5  INDEL            0.842452               0.966583              0.894353           0.019713              0.005692             0.012541\n",
       "1   0  MM2vsPilon_NoneRemoved_1to15bp   D6_15  INDEL            0.724138               0.906572              0.794825           0.025803              0.013125             0.018120\n",
       "2   0  MM2vsPilon_NoneRemoved_1to15bp    I1_5  INDEL            0.905197               0.989297              0.944499           0.009087              0.002036             0.005017"
      ]
     },
     "execution_count": 42,
     "metadata": {},
     "output_type": "execute_result"
    }
   ],
   "source": [
    "Happy_ColNeededForExport = ['QQ', 'RegionFilteringScheme', 'Subtype', 'Type', 'METRIC.Recall_MEAN', 'METRIC.Precision_MEAN', 'METRIC.F1_Score_MEAN',\n",
    "                            'METRIC.Recall_SEM', 'METRIC.Precision_SEM', 'METRIC.F1_Score_SEM' ]\n",
    "\n",
    "HapPy_PR_DF_INDELs_Averaged_TrimCol = HapPy_Mean_PR_DF_INDELs[Happy_ColNeededForExport]\n",
    "HapPy_PR_DF_INDELs_Averaged_TrimCol.head(3)"
   ]
  },
  {
   "cell_type": "code",
   "execution_count": 43,
   "metadata": {},
   "outputs": [
    {
     "name": "stdout",
     "output_type": "stream",
     "text": [
      "mkdir: cannot create directory ‘../../../210112_PBvsI_VCeval_AnalysisDir_V7_36CI/Happy_VC_Eval_ResultsDir_36CI’: File exists\n"
     ]
    }
   ],
   "source": [
    "PB_Vs_Illumina_DataAnalysis_Dir = \"../../../210112_PBvsI_VCeval_AnalysisDir_V7_36CI\"\n",
    "\n",
    "Happy_VC_Eval_ResultsDir = f\"{PB_Vs_Illumina_DataAnalysis_Dir}/Happy_VC_Eval_ResultsDir_36CI\"\n",
    "\n",
    "!mkdir $Happy_VC_Eval_ResultsDir\n",
    "\n",
    "PR_Curve_INDELs_VC_Results_TSV_PATH = f\"{Happy_VC_Eval_ResultsDir}/Benchmarking.HapPy.INDELs.36CI.StratifiedBy.TypeAndLength.AveragedResults.tsv\"\n",
    "\n",
    "HapPy_PR_DF_INDELs_Averaged_TrimCol.to_csv(PR_Curve_INDELs_VC_Results_TSV_PATH, sep = \"\\t\", index=False)"
   ]
  },
  {
   "cell_type": "code",
   "execution_count": 44,
   "metadata": {},
   "outputs": [
    {
     "data": {
      "text/html": [
       "<div>\n",
       "<style scoped>\n",
       "    .dataframe tbody tr th:only-of-type {\n",
       "        vertical-align: middle;\n",
       "    }\n",
       "\n",
       "    .dataframe tbody tr th {\n",
       "        vertical-align: top;\n",
       "    }\n",
       "\n",
       "    .dataframe thead th {\n",
       "        text-align: right;\n",
       "    }\n",
       "</style>\n",
       "<table border=\"1\" class=\"dataframe\">\n",
       "  <thead>\n",
       "    <tr style=\"text-align: right;\">\n",
       "      <th></th>\n",
       "      <th>QQ</th>\n",
       "      <th>RegionFilteringScheme</th>\n",
       "      <th>Subtype</th>\n",
       "      <th>Type</th>\n",
       "      <th>METRIC.Recall_MEAN</th>\n",
       "      <th>METRIC.Precision_MEAN</th>\n",
       "      <th>METRIC.F1_Score_MEAN</th>\n",
       "      <th>METRIC.Recall_SEM</th>\n",
       "      <th>METRIC.Precision_SEM</th>\n",
       "      <th>METRIC.F1_Score_SEM</th>\n",
       "    </tr>\n",
       "  </thead>\n",
       "  <tbody>\n",
       "    <tr>\n",
       "      <th>0</th>\n",
       "      <td>0</td>\n",
       "      <td>MM2vsPilon_NoneRemoved_1to15bp</td>\n",
       "      <td>D1_5</td>\n",
       "      <td>INDEL</td>\n",
       "      <td>0.842452</td>\n",
       "      <td>0.966583</td>\n",
       "      <td>0.894353</td>\n",
       "      <td>0.019713</td>\n",
       "      <td>0.005692</td>\n",
       "      <td>0.012541</td>\n",
       "    </tr>\n",
       "    <tr>\n",
       "      <th>1</th>\n",
       "      <td>0</td>\n",
       "      <td>MM2vsPilon_NoneRemoved_1to15bp</td>\n",
       "      <td>D6_15</td>\n",
       "      <td>INDEL</td>\n",
       "      <td>0.724138</td>\n",
       "      <td>0.906572</td>\n",
       "      <td>0.794825</td>\n",
       "      <td>0.025803</td>\n",
       "      <td>0.013125</td>\n",
       "      <td>0.018120</td>\n",
       "    </tr>\n",
       "    <tr>\n",
       "      <th>2</th>\n",
       "      <td>0</td>\n",
       "      <td>MM2vsPilon_NoneRemoved_1to15bp</td>\n",
       "      <td>I1_5</td>\n",
       "      <td>INDEL</td>\n",
       "      <td>0.905197</td>\n",
       "      <td>0.989297</td>\n",
       "      <td>0.944499</td>\n",
       "      <td>0.009087</td>\n",
       "      <td>0.002036</td>\n",
       "      <td>0.005017</td>\n",
       "    </tr>\n",
       "    <tr>\n",
       "      <th>3</th>\n",
       "      <td>0</td>\n",
       "      <td>MM2vsPilon_NoneRemoved_1to15bp</td>\n",
       "      <td>I6_15</td>\n",
       "      <td>INDEL</td>\n",
       "      <td>0.636221</td>\n",
       "      <td>0.950318</td>\n",
       "      <td>0.755860</td>\n",
       "      <td>0.021552</td>\n",
       "      <td>0.009142</td>\n",
       "      <td>0.018180</td>\n",
       "    </tr>\n",
       "    <tr>\n",
       "      <th>4</th>\n",
       "      <td>1</td>\n",
       "      <td>MM2vsPilon_NoneRemoved_1to15bp</td>\n",
       "      <td>D1_5</td>\n",
       "      <td>INDEL</td>\n",
       "      <td>0.842452</td>\n",
       "      <td>0.966583</td>\n",
       "      <td>0.894353</td>\n",
       "      <td>0.019713</td>\n",
       "      <td>0.005692</td>\n",
       "      <td>0.012541</td>\n",
       "    </tr>\n",
       "  </tbody>\n",
       "</table>\n",
       "</div>"
      ],
      "text/plain": [
       "   QQ           RegionFilteringScheme Subtype   Type  METRIC.Recall_MEAN  METRIC.Precision_MEAN  METRIC.F1_Score_MEAN  METRIC.Recall_SEM  METRIC.Precision_SEM  METRIC.F1_Score_SEM\n",
       "0   0  MM2vsPilon_NoneRemoved_1to15bp    D1_5  INDEL            0.842452               0.966583              0.894353           0.019713              0.005692             0.012541\n",
       "1   0  MM2vsPilon_NoneRemoved_1to15bp   D6_15  INDEL            0.724138               0.906572              0.794825           0.025803              0.013125             0.018120\n",
       "2   0  MM2vsPilon_NoneRemoved_1to15bp    I1_5  INDEL            0.905197               0.989297              0.944499           0.009087              0.002036             0.005017\n",
       "3   0  MM2vsPilon_NoneRemoved_1to15bp   I6_15  INDEL            0.636221               0.950318              0.755860           0.021552              0.009142             0.018180\n",
       "4   1  MM2vsPilon_NoneRemoved_1to15bp    D1_5  INDEL            0.842452               0.966583              0.894353           0.019713              0.005692             0.012541"
      ]
     },
     "execution_count": 44,
     "metadata": {},
     "output_type": "execute_result"
    }
   ],
   "source": [
    "HapPy_PR_DF_INDELs_Averaged_TrimCol.head()"
   ]
  },
  {
   "cell_type": "code",
   "execution_count": 45,
   "metadata": {},
   "outputs": [
    {
     "name": "stdout",
     "output_type": "stream",
     "text": [
      "QQ\tRegionFilteringScheme\tSubtype\tType\tMETRIC.Recall_MEAN\tMETRIC.Precision_MEAN\tMETRIC.F1_Score_MEAN\tMETRIC.Recall_SEM\tMETRIC.Precision_SEM\tMETRIC.F1_Score_SEM\n",
      "0\tMM2vsPilon_NoneRemoved_1to15bp\tD1_5\tINDEL\t0.8424520277777777\t0.9665829444444446\t0.8943530833333335\t0.019713219843042813\t0.005692142105910573\t0.012540896116077433\n",
      "0\tMM2vsPilon_NoneRemoved_1to15bp\tD6_15\tINDEL\t0.7241383888888888\t0.9065723888888889\t0.7948247500000001\t0.02580333343939437\t0.013124678146032716\t0.018120330926687255\n",
      "0\tMM2vsPilon_NoneRemoved_1to15bp\tI1_5\tINDEL\t0.9051974285714287\t0.9892966285714286\t0.9444993999999997\t0.009086612833560968\t0.0020357662402687607\t0.005016921898581895\n"
     ]
    }
   ],
   "source": [
    "!head -n 4 $PR_Curve_INDELs_VC_Results_TSV_PATH"
   ]
  },
  {
   "cell_type": "code",
   "execution_count": null,
   "metadata": {},
   "outputs": [],
   "source": []
  },
  {
   "cell_type": "code",
   "execution_count": null,
   "metadata": {},
   "outputs": [],
   "source": []
  },
  {
   "cell_type": "markdown",
   "metadata": {},
   "source": [
    "## B) Output individual Precision-Recall curves (Each PR curve for 36 isolates)"
   ]
  },
  {
   "cell_type": "code",
   "execution_count": 46,
   "metadata": {},
   "outputs": [],
   "source": [
    "HapPy_PR_DF_IndivCurves_INDELs_ByLength = HapPy_PR_DF.copy()"
   ]
  },
  {
   "cell_type": "code",
   "execution_count": 47,
   "metadata": {},
   "outputs": [
    {
     "data": {
      "text/html": [
       "<div>\n",
       "<style scoped>\n",
       "    .dataframe tbody tr th:only-of-type {\n",
       "        vertical-align: middle;\n",
       "    }\n",
       "\n",
       "    .dataframe tbody tr th {\n",
       "        vertical-align: top;\n",
       "    }\n",
       "\n",
       "    .dataframe thead th {\n",
       "        text-align: right;\n",
       "    }\n",
       "</style>\n",
       "<table border=\"1\" class=\"dataframe\">\n",
       "  <thead>\n",
       "    <tr style=\"text-align: right;\">\n",
       "      <th></th>\n",
       "      <th>Type</th>\n",
       "      <th>Subtype</th>\n",
       "      <th>Subset</th>\n",
       "      <th>Filter</th>\n",
       "      <th>Genotype</th>\n",
       "      <th>QQ.Field</th>\n",
       "      <th>QQ</th>\n",
       "      <th>METRIC.Recall</th>\n",
       "      <th>METRIC.Precision</th>\n",
       "      <th>METRIC.Frac_NA</th>\n",
       "      <th>METRIC.F1_Score</th>\n",
       "      <th>TRUTH.TP</th>\n",
       "      <th>TRUTH.FN</th>\n",
       "      <th>QUERY.TP</th>\n",
       "      <th>QUERY.FP</th>\n",
       "      <th>QUERY.UNK</th>\n",
       "      <th>SampleID</th>\n",
       "      <th>RegionFilteringScheme</th>\n",
       "      <th>variantType</th>\n",
       "    </tr>\n",
       "  </thead>\n",
       "  <tbody>\n",
       "    <tr>\n",
       "      <th>0</th>\n",
       "      <td>INDEL</td>\n",
       "      <td>D1_5</td>\n",
       "      <td>*</td>\n",
       "      <td>PASS</td>\n",
       "      <td>*</td>\n",
       "      <td>INFO.MQ</td>\n",
       "      <td>0</td>\n",
       "      <td>0.827586</td>\n",
       "      <td>1.0</td>\n",
       "      <td>0.0</td>\n",
       "      <td>0.90566</td>\n",
       "      <td>24.0</td>\n",
       "      <td>5.0</td>\n",
       "      <td>25.0</td>\n",
       "      <td>0.0</td>\n",
       "      <td>0.0</td>\n",
       "      <td>M0011368_9</td>\n",
       "      <td>MM2vsPilon_NoneRemoved_1to15bp</td>\n",
       "      <td>ALL</td>\n",
       "    </tr>\n",
       "    <tr>\n",
       "      <th>1</th>\n",
       "      <td>INDEL</td>\n",
       "      <td>D1_5</td>\n",
       "      <td>*</td>\n",
       "      <td>PASS</td>\n",
       "      <td>*</td>\n",
       "      <td>INFO.MQ</td>\n",
       "      <td>1</td>\n",
       "      <td>0.827586</td>\n",
       "      <td>1.0</td>\n",
       "      <td>0.0</td>\n",
       "      <td>0.90566</td>\n",
       "      <td>24.0</td>\n",
       "      <td>5.0</td>\n",
       "      <td>25.0</td>\n",
       "      <td>0.0</td>\n",
       "      <td>0.0</td>\n",
       "      <td>M0011368_9</td>\n",
       "      <td>MM2vsPilon_NoneRemoved_1to15bp</td>\n",
       "      <td>ALL</td>\n",
       "    </tr>\n",
       "    <tr>\n",
       "      <th>2</th>\n",
       "      <td>INDEL</td>\n",
       "      <td>D1_5</td>\n",
       "      <td>*</td>\n",
       "      <td>PASS</td>\n",
       "      <td>*</td>\n",
       "      <td>INFO.MQ</td>\n",
       "      <td>2</td>\n",
       "      <td>0.827586</td>\n",
       "      <td>1.0</td>\n",
       "      <td>0.0</td>\n",
       "      <td>0.90566</td>\n",
       "      <td>24.0</td>\n",
       "      <td>5.0</td>\n",
       "      <td>25.0</td>\n",
       "      <td>0.0</td>\n",
       "      <td>0.0</td>\n",
       "      <td>M0011368_9</td>\n",
       "      <td>MM2vsPilon_NoneRemoved_1to15bp</td>\n",
       "      <td>ALL</td>\n",
       "    </tr>\n",
       "  </tbody>\n",
       "</table>\n",
       "</div>"
      ],
      "text/plain": [
       "    Type Subtype Subset Filter Genotype QQ.Field  QQ  METRIC.Recall  METRIC.Precision  METRIC.Frac_NA  METRIC.F1_Score  TRUTH.TP  TRUTH.FN  QUERY.TP  QUERY.FP  QUERY.UNK    SampleID           RegionFilteringScheme variantType\n",
       "0  INDEL    D1_5      *   PASS        *  INFO.MQ   0       0.827586               1.0             0.0          0.90566      24.0       5.0      25.0       0.0        0.0  M0011368_9  MM2vsPilon_NoneRemoved_1to15bp         ALL\n",
       "1  INDEL    D1_5      *   PASS        *  INFO.MQ   1       0.827586               1.0             0.0          0.90566      24.0       5.0      25.0       0.0        0.0  M0011368_9  MM2vsPilon_NoneRemoved_1to15bp         ALL\n",
       "2  INDEL    D1_5      *   PASS        *  INFO.MQ   2       0.827586               1.0             0.0          0.90566      24.0       5.0      25.0       0.0        0.0  M0011368_9  MM2vsPilon_NoneRemoved_1to15bp         ALL"
      ]
     },
     "execution_count": 47,
     "metadata": {},
     "output_type": "execute_result"
    }
   ],
   "source": [
    "HapPy_PR_DF_IndivCurves_INDELs_ByLength.head(3)"
   ]
  },
  {
   "cell_type": "code",
   "execution_count": 48,
   "metadata": {},
   "outputs": [
    {
     "name": "stdout",
     "output_type": "stream",
     "text": [
      "mkdir: cannot create directory ‘../../../210112_PBvsI_VCeval_AnalysisDir_V7_36CI/Happy_VC_Eval_ResultsDir_36CI’: File exists\n"
     ]
    }
   ],
   "source": [
    "PB_Vs_Illumina_DataAnalysis_Dir = \"../../../210112_PBvsI_VCeval_AnalysisDir_V7_36CI\"\n",
    "\n",
    "Happy_VC_Eval_ResultsDir = f\"{PB_Vs_Illumina_DataAnalysis_Dir}/Happy_VC_Eval_ResultsDir_36CI\"\n",
    "\n",
    "!mkdir $Happy_VC_Eval_ResultsDir\n",
    "\n",
    "PR_Curve_Individual_SNS_VC_Results_TSV_PATH = f\"{Happy_VC_Eval_ResultsDir}/Benchmarking.HapPy.INDELs.36CI.StratifiedBy.TypeAndLength.IndividualResults.tsv\"        \n",
    "\n",
    "HapPy_PR_DF_IndivCurves_INDELs_ByLength.to_csv(PR_Curve_Individual_SNS_VC_Results_TSV_PATH, sep = \"\\t\", index=False)\n"
   ]
  },
  {
   "cell_type": "code",
   "execution_count": 49,
   "metadata": {},
   "outputs": [
    {
     "name": "stdout",
     "output_type": "stream",
     "text": [
      "total 872K\n",
      "drwxrwsr-x  2 mm774 farhat  658 Mar 29 00:47 .\n",
      "drwxrwsr-x 12 mm774 farhat  574 Mar 29 19:36 ..\n",
      "-rw-rw-r--  1 mm774 farhat  29K Mar 31 14:18 Benchmarking.HapPy.INDELs.36CI.AveragedResults.tsv\n",
      "-rw-rw-r--  1 mm774 farhat 868K Mar 31 14:18 Benchmarking.HapPy.INDELs.36CI.IndividualResults.tsv\n",
      "-rw-rw-r--  1 mm774 farhat  40K Mar 31 16:08 Benchmarking.HapPy.INDELs.36CI.StratifiedBy.TypeAndLength.AveragedResults.tsv\n",
      "-rw-rw-r--  1 mm774 farhat 1.1M Mar 31 16:08 Benchmarking.HapPy.INDELs.36CI.StratifiedBy.TypeAndLength.IndividualResults.tsv\n",
      "-rw-rw-r--  1 mm774 farhat  29K Mar 31 14:18 Benchmarking.HapPy.SNSs.36CI.AveragedResults.tsv\n",
      "-rw-rw-r--  1 mm774 farhat 885K Mar 31 14:18 Benchmarking.HapPy.SNSs.36CI.IndividualResults.tsv\n",
      "-rw-rw-r--  1 mm774 farhat  34K Mar 31 10:34 Benchmarking.HapPy.SNSs.36CI.StratifiedBy.SVandPmapContext.AveragedResults.tsv\n",
      "-rw-rw-r--  1 mm774 farhat 1.4M Mar 31 10:34 Benchmarking.HapPy.SNSs.36CI.StratifiedBy.SVandPmapContext.IndividualResults.tsv\n"
     ]
    }
   ],
   "source": [
    "!ls -lah $Happy_VC_Eval_ResultsDir"
   ]
  },
  {
   "cell_type": "code",
   "execution_count": null,
   "metadata": {},
   "outputs": [],
   "source": []
  },
  {
   "cell_type": "code",
   "execution_count": null,
   "metadata": {},
   "outputs": [],
   "source": []
  },
  {
   "cell_type": "code",
   "execution_count": null,
   "metadata": {},
   "outputs": [],
   "source": []
  },
  {
   "cell_type": "code",
   "execution_count": null,
   "metadata": {},
   "outputs": [],
   "source": []
  },
  {
   "cell_type": "code",
   "execution_count": null,
   "metadata": {},
   "outputs": [],
   "source": []
  },
  {
   "cell_type": "code",
   "execution_count": null,
   "metadata": {},
   "outputs": [],
   "source": []
  },
  {
   "cell_type": "code",
   "execution_count": null,
   "metadata": {},
   "outputs": [],
   "source": []
  },
  {
   "cell_type": "code",
   "execution_count": null,
   "metadata": {},
   "outputs": [],
   "source": []
  },
  {
   "cell_type": "code",
   "execution_count": null,
   "metadata": {},
   "outputs": [],
   "source": []
  },
  {
   "cell_type": "code",
   "execution_count": null,
   "metadata": {},
   "outputs": [],
   "source": []
  },
  {
   "cell_type": "code",
   "execution_count": null,
   "metadata": {},
   "outputs": [],
   "source": []
  },
  {
   "cell_type": "code",
   "execution_count": 50,
   "metadata": {},
   "outputs": [
    {
     "data": {
      "text/html": [
       "<div>\n",
       "<style scoped>\n",
       "    .dataframe tbody tr th:only-of-type {\n",
       "        vertical-align: middle;\n",
       "    }\n",
       "\n",
       "    .dataframe tbody tr th {\n",
       "        vertical-align: top;\n",
       "    }\n",
       "\n",
       "    .dataframe thead th {\n",
       "        text-align: right;\n",
       "    }\n",
       "</style>\n",
       "<table border=\"1\" class=\"dataframe\">\n",
       "  <thead>\n",
       "    <tr style=\"text-align: right;\">\n",
       "      <th></th>\n",
       "      <th>QQ</th>\n",
       "      <th>RegionFilteringScheme</th>\n",
       "      <th>Type</th>\n",
       "      <th>Subtype</th>\n",
       "      <th>Subset</th>\n",
       "      <th>METRIC.Recall_MEAN</th>\n",
       "      <th>METRIC.Precision_MEAN</th>\n",
       "      <th>METRIC.Frac_NA_MEAN</th>\n",
       "      <th>METRIC.F1_Score_MEAN</th>\n",
       "      <th>TRUTH.TP_MEAN</th>\n",
       "      <th>TRUTH.FN_MEAN</th>\n",
       "      <th>QUERY.TP_MEAN</th>\n",
       "      <th>QUERY.FP_MEAN</th>\n",
       "      <th>QUERY.UNK_MEAN</th>\n",
       "      <th>METRIC.Recall_SEM</th>\n",
       "      <th>METRIC.Precision_SEM</th>\n",
       "      <th>METRIC.Frac_NA_SEM</th>\n",
       "      <th>METRIC.F1_Score_SEM</th>\n",
       "      <th>TRUTH.TP_SEM</th>\n",
       "      <th>TRUTH.FN_SEM</th>\n",
       "      <th>QUERY.TP_SEM</th>\n",
       "      <th>QUERY.FP_SEM</th>\n",
       "      <th>QUERY.UNK_SEM</th>\n",
       "    </tr>\n",
       "  </thead>\n",
       "  <tbody>\n",
       "    <tr>\n",
       "      <th>0</th>\n",
       "      <td>0</td>\n",
       "      <td>MM2vsPilon_NoneRemoved_1to15bp</td>\n",
       "      <td>INDEL</td>\n",
       "      <td>D1_5</td>\n",
       "      <td>*</td>\n",
       "      <td>0.842452</td>\n",
       "      <td>0.966583</td>\n",
       "      <td>0.000403</td>\n",
       "      <td>0.894353</td>\n",
       "      <td>44.666667</td>\n",
       "      <td>8.166667</td>\n",
       "      <td>45.666667</td>\n",
       "      <td>1.583333</td>\n",
       "      <td>0.027778</td>\n",
       "      <td>0.019713</td>\n",
       "      <td>0.005692</td>\n",
       "      <td>0.000403</td>\n",
       "      <td>0.012541</td>\n",
       "      <td>3.028961</td>\n",
       "      <td>1.236033</td>\n",
       "      <td>3.027126</td>\n",
       "      <td>0.230166</td>\n",
       "      <td>0.027778</td>\n",
       "    </tr>\n",
       "    <tr>\n",
       "      <th>1</th>\n",
       "      <td>0</td>\n",
       "      <td>MM2vsPilon_NoneRemoved_1to15bp</td>\n",
       "      <td>INDEL</td>\n",
       "      <td>D6_15</td>\n",
       "      <td>*</td>\n",
       "      <td>0.724138</td>\n",
       "      <td>0.906572</td>\n",
       "      <td>0.006636</td>\n",
       "      <td>0.794825</td>\n",
       "      <td>9.944444</td>\n",
       "      <td>4.194444</td>\n",
       "      <td>9.777778</td>\n",
       "      <td>1.055556</td>\n",
       "      <td>0.083333</td>\n",
       "      <td>0.025803</td>\n",
       "      <td>0.013125</td>\n",
       "      <td>0.003826</td>\n",
       "      <td>0.018120</td>\n",
       "      <td>0.564765</td>\n",
       "      <td>0.495727</td>\n",
       "      <td>0.567802</td>\n",
       "      <td>0.148775</td>\n",
       "      <td>0.046718</td>\n",
       "    </tr>\n",
       "    <tr>\n",
       "      <th>2</th>\n",
       "      <td>0</td>\n",
       "      <td>MM2vsPilon_NoneRemoved_1to15bp</td>\n",
       "      <td>INDEL</td>\n",
       "      <td>I1_5</td>\n",
       "      <td>*</td>\n",
       "      <td>0.905197</td>\n",
       "      <td>0.989297</td>\n",
       "      <td>0.009584</td>\n",
       "      <td>0.944499</td>\n",
       "      <td>46.942857</td>\n",
       "      <td>4.942857</td>\n",
       "      <td>47.942857</td>\n",
       "      <td>0.514286</td>\n",
       "      <td>0.485714</td>\n",
       "      <td>0.009087</td>\n",
       "      <td>0.002036</td>\n",
       "      <td>0.002740</td>\n",
       "      <td>0.005017</td>\n",
       "      <td>3.170490</td>\n",
       "      <td>0.596830</td>\n",
       "      <td>3.165715</td>\n",
       "      <td>0.095014</td>\n",
       "      <td>0.144195</td>\n",
       "    </tr>\n",
       "    <tr>\n",
       "      <th>3</th>\n",
       "      <td>0</td>\n",
       "      <td>MM2vsPilon_NoneRemoved_1to15bp</td>\n",
       "      <td>INDEL</td>\n",
       "      <td>I6_15</td>\n",
       "      <td>*</td>\n",
       "      <td>0.636221</td>\n",
       "      <td>0.950318</td>\n",
       "      <td>0.000000</td>\n",
       "      <td>0.755860</td>\n",
       "      <td>11.250000</td>\n",
       "      <td>6.527778</td>\n",
       "      <td>11.250000</td>\n",
       "      <td>0.638889</td>\n",
       "      <td>0.000000</td>\n",
       "      <td>0.021552</td>\n",
       "      <td>0.009142</td>\n",
       "      <td>0.000000</td>\n",
       "      <td>0.018180</td>\n",
       "      <td>0.794200</td>\n",
       "      <td>0.568325</td>\n",
       "      <td>0.793200</td>\n",
       "      <td>0.120533</td>\n",
       "      <td>0.000000</td>\n",
       "    </tr>\n",
       "  </tbody>\n",
       "</table>\n",
       "</div>"
      ],
      "text/plain": [
       "   QQ           RegionFilteringScheme   Type Subtype Subset  METRIC.Recall_MEAN  METRIC.Precision_MEAN  METRIC.Frac_NA_MEAN  METRIC.F1_Score_MEAN  TRUTH.TP_MEAN  TRUTH.FN_MEAN  QUERY.TP_MEAN  QUERY.FP_MEAN  QUERY.UNK_MEAN  METRIC.Recall_SEM  METRIC.Precision_SEM  METRIC.Frac_NA_SEM  METRIC.F1_Score_SEM  TRUTH.TP_SEM  TRUTH.FN_SEM  QUERY.TP_SEM  QUERY.FP_SEM  QUERY.UNK_SEM\n",
       "0   0  MM2vsPilon_NoneRemoved_1to15bp  INDEL    D1_5      *            0.842452               0.966583             0.000403              0.894353      44.666667       8.166667      45.666667       1.583333        0.027778           0.019713              0.005692            0.000403             0.012541      3.028961      1.236033      3.027126      0.230166       0.027778\n",
       "1   0  MM2vsPilon_NoneRemoved_1to15bp  INDEL   D6_15      *            0.724138               0.906572             0.006636              0.794825       9.944444       4.194444       9.777778       1.055556        0.083333           0.025803              0.013125            0.003826             0.018120      0.564765      0.495727      0.567802      0.148775       0.046718\n",
       "2   0  MM2vsPilon_NoneRemoved_1to15bp  INDEL    I1_5      *            0.905197               0.989297             0.009584              0.944499      46.942857       4.942857      47.942857       0.514286        0.485714           0.009087              0.002036            0.002740             0.005017      3.170490      0.596830      3.165715      0.095014       0.144195\n",
       "3   0  MM2vsPilon_NoneRemoved_1to15bp  INDEL   I6_15      *            0.636221               0.950318             0.000000              0.755860      11.250000       6.527778      11.250000       0.638889        0.000000           0.021552              0.009142            0.000000             0.018180      0.794200      0.568325      0.793200      0.120533       0.000000"
      ]
     },
     "execution_count": 50,
     "metadata": {},
     "output_type": "execute_result"
    }
   ],
   "source": [
    "HapPy_Mean_PR_DF[ (HapPy_Mean_PR_DF[\"QQ\"] == 0 ) & (HapPy_Mean_PR_DF[\"RegionFilteringScheme\"] == \"MM2vsPilon_NoneRemoved_1to15bp\" )]"
   ]
  },
  {
   "cell_type": "code",
   "execution_count": 51,
   "metadata": {},
   "outputs": [
    {
     "data": {
      "text/html": [
       "<div>\n",
       "<style scoped>\n",
       "    .dataframe tbody tr th:only-of-type {\n",
       "        vertical-align: middle;\n",
       "    }\n",
       "\n",
       "    .dataframe tbody tr th {\n",
       "        vertical-align: top;\n",
       "    }\n",
       "\n",
       "    .dataframe thead th {\n",
       "        text-align: right;\n",
       "    }\n",
       "</style>\n",
       "<table border=\"1\" class=\"dataframe\">\n",
       "  <thead>\n",
       "    <tr style=\"text-align: right;\">\n",
       "      <th></th>\n",
       "      <th>QQ</th>\n",
       "      <th>RegionFilteringScheme</th>\n",
       "      <th>Type</th>\n",
       "      <th>Subtype</th>\n",
       "      <th>Subset</th>\n",
       "      <th>METRIC.Recall_MEAN</th>\n",
       "      <th>METRIC.Precision_MEAN</th>\n",
       "      <th>METRIC.Frac_NA_MEAN</th>\n",
       "      <th>METRIC.F1_Score_MEAN</th>\n",
       "      <th>TRUTH.TP_MEAN</th>\n",
       "      <th>TRUTH.FN_MEAN</th>\n",
       "      <th>QUERY.TP_MEAN</th>\n",
       "      <th>QUERY.FP_MEAN</th>\n",
       "      <th>QUERY.UNK_MEAN</th>\n",
       "      <th>METRIC.Recall_SEM</th>\n",
       "      <th>METRIC.Precision_SEM</th>\n",
       "      <th>METRIC.Frac_NA_SEM</th>\n",
       "      <th>METRIC.F1_Score_SEM</th>\n",
       "      <th>TRUTH.TP_SEM</th>\n",
       "      <th>TRUTH.FN_SEM</th>\n",
       "      <th>QUERY.TP_SEM</th>\n",
       "      <th>QUERY.FP_SEM</th>\n",
       "      <th>QUERY.UNK_SEM</th>\n",
       "    </tr>\n",
       "  </thead>\n",
       "  <tbody>\n",
       "    <tr>\n",
       "      <th>240</th>\n",
       "      <td>60</td>\n",
       "      <td>MM2vsPilon_NoneRemoved_1to15bp</td>\n",
       "      <td>INDEL</td>\n",
       "      <td>D1_5</td>\n",
       "      <td>*</td>\n",
       "      <td>0.709495</td>\n",
       "      <td>0.997975</td>\n",
       "      <td>0.000000</td>\n",
       "      <td>0.820214</td>\n",
       "      <td>35.888889</td>\n",
       "      <td>16.944444</td>\n",
       "      <td>36.527778</td>\n",
       "      <td>0.055556</td>\n",
       "      <td>0.000000</td>\n",
       "      <td>0.024511</td>\n",
       "      <td>0.001439</td>\n",
       "      <td>0.000000</td>\n",
       "      <td>0.018859</td>\n",
       "      <td>1.991162</td>\n",
       "      <td>2.195936</td>\n",
       "      <td>2.019149</td>\n",
       "      <td>0.038718</td>\n",
       "      <td>0.000000</td>\n",
       "    </tr>\n",
       "    <tr>\n",
       "      <th>241</th>\n",
       "      <td>60</td>\n",
       "      <td>MM2vsPilon_NoneRemoved_1to15bp</td>\n",
       "      <td>INDEL</td>\n",
       "      <td>D6_15</td>\n",
       "      <td>*</td>\n",
       "      <td>0.414292</td>\n",
       "      <td>1.000000</td>\n",
       "      <td>0.000000</td>\n",
       "      <td>0.551419</td>\n",
       "      <td>5.388889</td>\n",
       "      <td>8.750000</td>\n",
       "      <td>5.416667</td>\n",
       "      <td>0.000000</td>\n",
       "      <td>0.000000</td>\n",
       "      <td>0.036699</td>\n",
       "      <td>0.000000</td>\n",
       "      <td>0.000000</td>\n",
       "      <td>0.038303</td>\n",
       "      <td>0.420275</td>\n",
       "      <td>0.901828</td>\n",
       "      <td>0.426084</td>\n",
       "      <td>0.000000</td>\n",
       "      <td>0.000000</td>\n",
       "    </tr>\n",
       "    <tr>\n",
       "      <th>242</th>\n",
       "      <td>60</td>\n",
       "      <td>MM2vsPilon_NoneRemoved_1to15bp</td>\n",
       "      <td>INDEL</td>\n",
       "      <td>I1_5</td>\n",
       "      <td>*</td>\n",
       "      <td>0.733661</td>\n",
       "      <td>0.996432</td>\n",
       "      <td>0.001029</td>\n",
       "      <td>0.836131</td>\n",
       "      <td>36.055556</td>\n",
       "      <td>15.277778</td>\n",
       "      <td>36.694444</td>\n",
       "      <td>0.111111</td>\n",
       "      <td>0.027778</td>\n",
       "      <td>0.024062</td>\n",
       "      <td>0.001717</td>\n",
       "      <td>0.001029</td>\n",
       "      <td>0.018402</td>\n",
       "      <td>2.168294</td>\n",
       "      <td>2.341012</td>\n",
       "      <td>2.181749</td>\n",
       "      <td>0.053121</td>\n",
       "      <td>0.027778</td>\n",
       "    </tr>\n",
       "    <tr>\n",
       "      <th>243</th>\n",
       "      <td>60</td>\n",
       "      <td>MM2vsPilon_NoneRemoved_1to15bp</td>\n",
       "      <td>INDEL</td>\n",
       "      <td>I6_15</td>\n",
       "      <td>*</td>\n",
       "      <td>0.013668</td>\n",
       "      <td>0.861111</td>\n",
       "      <td>0.000000</td>\n",
       "      <td>0.013492</td>\n",
       "      <td>2.666667</td>\n",
       "      <td>15.111111</td>\n",
       "      <td>2.444444</td>\n",
       "      <td>0.000000</td>\n",
       "      <td>0.000000</td>\n",
       "      <td>0.005843</td>\n",
       "      <td>0.058456</td>\n",
       "      <td>0.000000</td>\n",
       "      <td>0.009557</td>\n",
       "      <td>0.436436</td>\n",
       "      <td>1.122482</td>\n",
       "      <td>0.422473</td>\n",
       "      <td>0.000000</td>\n",
       "      <td>0.000000</td>\n",
       "    </tr>\n",
       "  </tbody>\n",
       "</table>\n",
       "</div>"
      ],
      "text/plain": [
       "     QQ           RegionFilteringScheme   Type Subtype Subset  METRIC.Recall_MEAN  METRIC.Precision_MEAN  METRIC.Frac_NA_MEAN  METRIC.F1_Score_MEAN  TRUTH.TP_MEAN  TRUTH.FN_MEAN  QUERY.TP_MEAN  QUERY.FP_MEAN  QUERY.UNK_MEAN  METRIC.Recall_SEM  METRIC.Precision_SEM  METRIC.Frac_NA_SEM  METRIC.F1_Score_SEM  TRUTH.TP_SEM  TRUTH.FN_SEM  QUERY.TP_SEM  QUERY.FP_SEM  QUERY.UNK_SEM\n",
       "240  60  MM2vsPilon_NoneRemoved_1to15bp  INDEL    D1_5      *            0.709495               0.997975             0.000000              0.820214      35.888889      16.944444      36.527778       0.055556        0.000000           0.024511              0.001439            0.000000             0.018859      1.991162      2.195936      2.019149      0.038718       0.000000\n",
       "241  60  MM2vsPilon_NoneRemoved_1to15bp  INDEL   D6_15      *            0.414292               1.000000             0.000000              0.551419       5.388889       8.750000       5.416667       0.000000        0.000000           0.036699              0.000000            0.000000             0.038303      0.420275      0.901828      0.426084      0.000000       0.000000\n",
       "242  60  MM2vsPilon_NoneRemoved_1to15bp  INDEL    I1_5      *            0.733661               0.996432             0.001029              0.836131      36.055556      15.277778      36.694444       0.111111        0.027778           0.024062              0.001717            0.001029             0.018402      2.168294      2.341012      2.181749      0.053121       0.027778\n",
       "243  60  MM2vsPilon_NoneRemoved_1to15bp  INDEL   I6_15      *            0.013668               0.861111             0.000000              0.013492       2.666667      15.111111       2.444444       0.000000        0.000000           0.005843              0.058456            0.000000             0.009557      0.436436      1.122482      0.422473      0.000000       0.000000"
      ]
     },
     "execution_count": 51,
     "metadata": {},
     "output_type": "execute_result"
    }
   ],
   "source": [
    "HapPy_Mean_PR_DF[ (HapPy_Mean_PR_DF[\"QQ\"] == 60 ) & (HapPy_Mean_PR_DF[\"RegionFilteringScheme\"] == \"MM2vsPilon_NoneRemoved_1to15bp\" )]"
   ]
  },
  {
   "cell_type": "code",
   "execution_count": null,
   "metadata": {},
   "outputs": [],
   "source": []
  },
  {
   "cell_type": "code",
   "execution_count": null,
   "metadata": {},
   "outputs": [],
   "source": []
  },
  {
   "cell_type": "code",
   "execution_count": null,
   "metadata": {},
   "outputs": [],
   "source": []
  },
  {
   "cell_type": "code",
   "execution_count": null,
   "metadata": {},
   "outputs": [],
   "source": []
  },
  {
   "cell_type": "code",
   "execution_count": 52,
   "metadata": {},
   "outputs": [
    {
     "data": {
      "text/html": [
       "<div>\n",
       "<style scoped>\n",
       "    .dataframe tbody tr th:only-of-type {\n",
       "        vertical-align: middle;\n",
       "    }\n",
       "\n",
       "    .dataframe tbody tr th {\n",
       "        vertical-align: top;\n",
       "    }\n",
       "\n",
       "    .dataframe thead th {\n",
       "        text-align: right;\n",
       "    }\n",
       "</style>\n",
       "<table border=\"1\" class=\"dataframe\">\n",
       "  <thead>\n",
       "    <tr style=\"text-align: right;\">\n",
       "      <th></th>\n",
       "      <th>QQ</th>\n",
       "      <th>RegionFilteringScheme</th>\n",
       "      <th>Type</th>\n",
       "      <th>Subtype</th>\n",
       "      <th>Subset</th>\n",
       "      <th>METRIC.Recall_MEAN</th>\n",
       "      <th>METRIC.Precision_MEAN</th>\n",
       "      <th>METRIC.Frac_NA_MEAN</th>\n",
       "      <th>METRIC.F1_Score_MEAN</th>\n",
       "      <th>TRUTH.TP_MEAN</th>\n",
       "      <th>TRUTH.FN_MEAN</th>\n",
       "      <th>QUERY.TP_MEAN</th>\n",
       "      <th>QUERY.FP_MEAN</th>\n",
       "      <th>QUERY.UNK_MEAN</th>\n",
       "      <th>METRIC.Recall_SEM</th>\n",
       "      <th>METRIC.Precision_SEM</th>\n",
       "      <th>METRIC.Frac_NA_SEM</th>\n",
       "      <th>METRIC.F1_Score_SEM</th>\n",
       "      <th>TRUTH.TP_SEM</th>\n",
       "      <th>TRUTH.FN_SEM</th>\n",
       "      <th>QUERY.TP_SEM</th>\n",
       "      <th>QUERY.FP_SEM</th>\n",
       "      <th>QUERY.UNK_SEM</th>\n",
       "    </tr>\n",
       "  </thead>\n",
       "  <tbody>\n",
       "    <tr>\n",
       "      <th>231</th>\n",
       "      <td>57</td>\n",
       "      <td>MM2vsPilon_NoneRemoved_1to15bp</td>\n",
       "      <td>INDEL</td>\n",
       "      <td>I6_15</td>\n",
       "      <td>*</td>\n",
       "      <td>0.523753</td>\n",
       "      <td>1.0</td>\n",
       "      <td>0.0</td>\n",
       "      <td>0.673177</td>\n",
       "      <td>9.277778</td>\n",
       "      <td>8.5</td>\n",
       "      <td>8.944444</td>\n",
       "      <td>0.0</td>\n",
       "      <td>0.0</td>\n",
       "      <td>0.025986</td>\n",
       "      <td>0.0</td>\n",
       "      <td>0.0</td>\n",
       "      <td>0.024328</td>\n",
       "      <td>0.740668</td>\n",
       "      <td>0.68949</td>\n",
       "      <td>0.734571</td>\n",
       "      <td>0.0</td>\n",
       "      <td>0.0</td>\n",
       "    </tr>\n",
       "  </tbody>\n",
       "</table>\n",
       "</div>"
      ],
      "text/plain": [
       "     QQ           RegionFilteringScheme   Type Subtype Subset  METRIC.Recall_MEAN  METRIC.Precision_MEAN  METRIC.Frac_NA_MEAN  METRIC.F1_Score_MEAN  TRUTH.TP_MEAN  TRUTH.FN_MEAN  QUERY.TP_MEAN  QUERY.FP_MEAN  QUERY.UNK_MEAN  METRIC.Recall_SEM  METRIC.Precision_SEM  METRIC.Frac_NA_SEM  METRIC.F1_Score_SEM  TRUTH.TP_SEM  TRUTH.FN_SEM  QUERY.TP_SEM  QUERY.FP_SEM  QUERY.UNK_SEM\n",
       "231  57  MM2vsPilon_NoneRemoved_1to15bp  INDEL   I6_15      *            0.523753                    1.0                  0.0              0.673177       9.277778            8.5       8.944444            0.0             0.0           0.025986                   0.0                 0.0             0.024328      0.740668       0.68949      0.734571           0.0            0.0"
      ]
     },
     "execution_count": 52,
     "metadata": {},
     "output_type": "execute_result"
    }
   ],
   "source": [
    "HapPy_Mean_PR_DF.sort_values( \"METRIC.Precision_MEAN\" , ascending=False).head(1)"
   ]
  },
  {
   "cell_type": "code",
   "execution_count": 53,
   "metadata": {},
   "outputs": [
    {
     "data": {
      "text/html": [
       "<div>\n",
       "<style scoped>\n",
       "    .dataframe tbody tr th:only-of-type {\n",
       "        vertical-align: middle;\n",
       "    }\n",
       "\n",
       "    .dataframe tbody tr th {\n",
       "        vertical-align: top;\n",
       "    }\n",
       "\n",
       "    .dataframe thead th {\n",
       "        text-align: right;\n",
       "    }\n",
       "</style>\n",
       "<table border=\"1\" class=\"dataframe\">\n",
       "  <thead>\n",
       "    <tr style=\"text-align: right;\">\n",
       "      <th></th>\n",
       "      <th>QQ</th>\n",
       "      <th>RegionFilteringScheme</th>\n",
       "      <th>Type</th>\n",
       "      <th>Subtype</th>\n",
       "      <th>Subset</th>\n",
       "      <th>METRIC.Recall_MEAN</th>\n",
       "      <th>METRIC.Precision_MEAN</th>\n",
       "      <th>METRIC.Frac_NA_MEAN</th>\n",
       "      <th>METRIC.F1_Score_MEAN</th>\n",
       "      <th>TRUTH.TP_MEAN</th>\n",
       "      <th>TRUTH.FN_MEAN</th>\n",
       "      <th>QUERY.TP_MEAN</th>\n",
       "      <th>QUERY.FP_MEAN</th>\n",
       "      <th>QUERY.UNK_MEAN</th>\n",
       "      <th>METRIC.Recall_SEM</th>\n",
       "      <th>METRIC.Precision_SEM</th>\n",
       "      <th>METRIC.Frac_NA_SEM</th>\n",
       "      <th>METRIC.F1_Score_SEM</th>\n",
       "      <th>TRUTH.TP_SEM</th>\n",
       "      <th>TRUTH.FN_SEM</th>\n",
       "      <th>QUERY.TP_SEM</th>\n",
       "      <th>QUERY.FP_SEM</th>\n",
       "      <th>QUERY.UNK_SEM</th>\n",
       "    </tr>\n",
       "  </thead>\n",
       "  <tbody>\n",
       "    <tr>\n",
       "      <th>98</th>\n",
       "      <td>24</td>\n",
       "      <td>MM2vsPilon_NoneRemoved_1to15bp</td>\n",
       "      <td>INDEL</td>\n",
       "      <td>I1_5</td>\n",
       "      <td>*</td>\n",
       "      <td>0.905197</td>\n",
       "      <td>0.989658</td>\n",
       "      <td>0.009227</td>\n",
       "      <td>0.944664</td>\n",
       "      <td>46.942857</td>\n",
       "      <td>4.942857</td>\n",
       "      <td>47.942857</td>\n",
       "      <td>0.485714</td>\n",
       "      <td>0.457143</td>\n",
       "      <td>0.009087</td>\n",
       "      <td>0.002058</td>\n",
       "      <td>0.002752</td>\n",
       "      <td>0.00502</td>\n",
       "      <td>3.17049</td>\n",
       "      <td>0.59683</td>\n",
       "      <td>3.165715</td>\n",
       "      <td>0.095014</td>\n",
       "      <td>0.144029</td>\n",
       "    </tr>\n",
       "  </tbody>\n",
       "</table>\n",
       "</div>"
      ],
      "text/plain": [
       "    QQ           RegionFilteringScheme   Type Subtype Subset  METRIC.Recall_MEAN  METRIC.Precision_MEAN  METRIC.Frac_NA_MEAN  METRIC.F1_Score_MEAN  TRUTH.TP_MEAN  TRUTH.FN_MEAN  QUERY.TP_MEAN  QUERY.FP_MEAN  QUERY.UNK_MEAN  METRIC.Recall_SEM  METRIC.Precision_SEM  METRIC.Frac_NA_SEM  METRIC.F1_Score_SEM  TRUTH.TP_SEM  TRUTH.FN_SEM  QUERY.TP_SEM  QUERY.FP_SEM  QUERY.UNK_SEM\n",
       "98  24  MM2vsPilon_NoneRemoved_1to15bp  INDEL    I1_5      *            0.905197               0.989658             0.009227              0.944664      46.942857       4.942857      47.942857       0.485714        0.457143           0.009087              0.002058            0.002752              0.00502       3.17049       0.59683      3.165715      0.095014       0.144029"
      ]
     },
     "execution_count": 53,
     "metadata": {},
     "output_type": "execute_result"
    }
   ],
   "source": [
    "HapPy_Mean_PR_DF.sort_values( \"METRIC.F1_Score_MEAN\" , ascending=False).head(1)"
   ]
  },
  {
   "cell_type": "code",
   "execution_count": 54,
   "metadata": {},
   "outputs": [
    {
     "data": {
      "text/plain": [
       "D1_5     61\n",
       "I6_15    61\n",
       "D6_15    61\n",
       "I1_5     61\n",
       "Name: Subtype, dtype: int64"
      ]
     },
     "execution_count": 54,
     "metadata": {},
     "output_type": "execute_result"
    }
   ],
   "source": [
    "HapPy_Mean_PR_DF[\"Subtype\"].value_counts()"
   ]
  },
  {
   "cell_type": "code",
   "execution_count": null,
   "metadata": {},
   "outputs": [],
   "source": []
  },
  {
   "cell_type": "code",
   "execution_count": 55,
   "metadata": {},
   "outputs": [
    {
     "data": {
      "text/html": [
       "<div>\n",
       "<style scoped>\n",
       "    .dataframe tbody tr th:only-of-type {\n",
       "        vertical-align: middle;\n",
       "    }\n",
       "\n",
       "    .dataframe tbody tr th {\n",
       "        vertical-align: top;\n",
       "    }\n",
       "\n",
       "    .dataframe thead th {\n",
       "        text-align: right;\n",
       "    }\n",
       "</style>\n",
       "<table border=\"1\" class=\"dataframe\">\n",
       "  <thead>\n",
       "    <tr style=\"text-align: right;\">\n",
       "      <th></th>\n",
       "      <th>QQ</th>\n",
       "      <th>RegionFilteringScheme</th>\n",
       "      <th>Type</th>\n",
       "      <th>Subtype</th>\n",
       "      <th>Subset</th>\n",
       "      <th>METRIC.Recall_MEAN</th>\n",
       "      <th>METRIC.Precision_MEAN</th>\n",
       "      <th>METRIC.Frac_NA_MEAN</th>\n",
       "      <th>METRIC.F1_Score_MEAN</th>\n",
       "      <th>TRUTH.TP_MEAN</th>\n",
       "      <th>TRUTH.FN_MEAN</th>\n",
       "      <th>QUERY.TP_MEAN</th>\n",
       "      <th>QUERY.FP_MEAN</th>\n",
       "      <th>QUERY.UNK_MEAN</th>\n",
       "      <th>METRIC.Recall_SEM</th>\n",
       "      <th>METRIC.Precision_SEM</th>\n",
       "      <th>METRIC.Frac_NA_SEM</th>\n",
       "      <th>METRIC.F1_Score_SEM</th>\n",
       "      <th>TRUTH.TP_SEM</th>\n",
       "      <th>TRUTH.FN_SEM</th>\n",
       "      <th>QUERY.TP_SEM</th>\n",
       "      <th>QUERY.FP_SEM</th>\n",
       "      <th>QUERY.UNK_SEM</th>\n",
       "    </tr>\n",
       "  </thead>\n",
       "  <tbody>\n",
       "    <tr>\n",
       "      <th>240</th>\n",
       "      <td>60</td>\n",
       "      <td>MM2vsPilon_NoneRemoved_1to15bp</td>\n",
       "      <td>INDEL</td>\n",
       "      <td>D1_5</td>\n",
       "      <td>*</td>\n",
       "      <td>0.709495</td>\n",
       "      <td>0.997975</td>\n",
       "      <td>0.000000</td>\n",
       "      <td>0.820214</td>\n",
       "      <td>35.888889</td>\n",
       "      <td>16.944444</td>\n",
       "      <td>36.527778</td>\n",
       "      <td>0.055556</td>\n",
       "      <td>0.000000</td>\n",
       "      <td>0.024511</td>\n",
       "      <td>0.001439</td>\n",
       "      <td>0.000000</td>\n",
       "      <td>0.018859</td>\n",
       "      <td>1.991162</td>\n",
       "      <td>2.195936</td>\n",
       "      <td>2.019149</td>\n",
       "      <td>0.038718</td>\n",
       "      <td>0.000000</td>\n",
       "    </tr>\n",
       "    <tr>\n",
       "      <th>241</th>\n",
       "      <td>60</td>\n",
       "      <td>MM2vsPilon_NoneRemoved_1to15bp</td>\n",
       "      <td>INDEL</td>\n",
       "      <td>D6_15</td>\n",
       "      <td>*</td>\n",
       "      <td>0.414292</td>\n",
       "      <td>1.000000</td>\n",
       "      <td>0.000000</td>\n",
       "      <td>0.551419</td>\n",
       "      <td>5.388889</td>\n",
       "      <td>8.750000</td>\n",
       "      <td>5.416667</td>\n",
       "      <td>0.000000</td>\n",
       "      <td>0.000000</td>\n",
       "      <td>0.036699</td>\n",
       "      <td>0.000000</td>\n",
       "      <td>0.000000</td>\n",
       "      <td>0.038303</td>\n",
       "      <td>0.420275</td>\n",
       "      <td>0.901828</td>\n",
       "      <td>0.426084</td>\n",
       "      <td>0.000000</td>\n",
       "      <td>0.000000</td>\n",
       "    </tr>\n",
       "    <tr>\n",
       "      <th>242</th>\n",
       "      <td>60</td>\n",
       "      <td>MM2vsPilon_NoneRemoved_1to15bp</td>\n",
       "      <td>INDEL</td>\n",
       "      <td>I1_5</td>\n",
       "      <td>*</td>\n",
       "      <td>0.733661</td>\n",
       "      <td>0.996432</td>\n",
       "      <td>0.001029</td>\n",
       "      <td>0.836131</td>\n",
       "      <td>36.055556</td>\n",
       "      <td>15.277778</td>\n",
       "      <td>36.694444</td>\n",
       "      <td>0.111111</td>\n",
       "      <td>0.027778</td>\n",
       "      <td>0.024062</td>\n",
       "      <td>0.001717</td>\n",
       "      <td>0.001029</td>\n",
       "      <td>0.018402</td>\n",
       "      <td>2.168294</td>\n",
       "      <td>2.341012</td>\n",
       "      <td>2.181749</td>\n",
       "      <td>0.053121</td>\n",
       "      <td>0.027778</td>\n",
       "    </tr>\n",
       "    <tr>\n",
       "      <th>243</th>\n",
       "      <td>60</td>\n",
       "      <td>MM2vsPilon_NoneRemoved_1to15bp</td>\n",
       "      <td>INDEL</td>\n",
       "      <td>I6_15</td>\n",
       "      <td>*</td>\n",
       "      <td>0.013668</td>\n",
       "      <td>0.861111</td>\n",
       "      <td>0.000000</td>\n",
       "      <td>0.013492</td>\n",
       "      <td>2.666667</td>\n",
       "      <td>15.111111</td>\n",
       "      <td>2.444444</td>\n",
       "      <td>0.000000</td>\n",
       "      <td>0.000000</td>\n",
       "      <td>0.005843</td>\n",
       "      <td>0.058456</td>\n",
       "      <td>0.000000</td>\n",
       "      <td>0.009557</td>\n",
       "      <td>0.436436</td>\n",
       "      <td>1.122482</td>\n",
       "      <td>0.422473</td>\n",
       "      <td>0.000000</td>\n",
       "      <td>0.000000</td>\n",
       "    </tr>\n",
       "  </tbody>\n",
       "</table>\n",
       "</div>"
      ],
      "text/plain": [
       "     QQ           RegionFilteringScheme   Type Subtype Subset  METRIC.Recall_MEAN  METRIC.Precision_MEAN  METRIC.Frac_NA_MEAN  METRIC.F1_Score_MEAN  TRUTH.TP_MEAN  TRUTH.FN_MEAN  QUERY.TP_MEAN  QUERY.FP_MEAN  QUERY.UNK_MEAN  METRIC.Recall_SEM  METRIC.Precision_SEM  METRIC.Frac_NA_SEM  METRIC.F1_Score_SEM  TRUTH.TP_SEM  TRUTH.FN_SEM  QUERY.TP_SEM  QUERY.FP_SEM  QUERY.UNK_SEM\n",
       "240  60  MM2vsPilon_NoneRemoved_1to15bp  INDEL    D1_5      *            0.709495               0.997975             0.000000              0.820214      35.888889      16.944444      36.527778       0.055556        0.000000           0.024511              0.001439            0.000000             0.018859      1.991162      2.195936      2.019149      0.038718       0.000000\n",
       "241  60  MM2vsPilon_NoneRemoved_1to15bp  INDEL   D6_15      *            0.414292               1.000000             0.000000              0.551419       5.388889       8.750000       5.416667       0.000000        0.000000           0.036699              0.000000            0.000000             0.038303      0.420275      0.901828      0.426084      0.000000       0.000000\n",
       "242  60  MM2vsPilon_NoneRemoved_1to15bp  INDEL    I1_5      *            0.733661               0.996432             0.001029              0.836131      36.055556      15.277778      36.694444       0.111111        0.027778           0.024062              0.001717            0.001029             0.018402      2.168294      2.341012      2.181749      0.053121       0.027778\n",
       "243  60  MM2vsPilon_NoneRemoved_1to15bp  INDEL   I6_15      *            0.013668               0.861111             0.000000              0.013492       2.666667      15.111111       2.444444       0.000000        0.000000           0.005843              0.058456            0.000000             0.009557      0.436436      1.122482      0.422473      0.000000       0.000000"
      ]
     },
     "execution_count": 55,
     "metadata": {},
     "output_type": "execute_result"
    }
   ],
   "source": [
    "HapPy_Mean_PR_DF[ (HapPy_Mean_PR_DF[\"QQ\"] == 60)]"
   ]
  },
  {
   "cell_type": "code",
   "execution_count": null,
   "metadata": {},
   "outputs": [],
   "source": []
  },
  {
   "cell_type": "code",
   "execution_count": null,
   "metadata": {},
   "outputs": [],
   "source": []
  },
  {
   "cell_type": "markdown",
   "metadata": {},
   "source": [
    "### Plotting Precision-Recall curves for INDEL calling - stratified by length"
   ]
  },
  {
   "cell_type": "code",
   "execution_count": 56,
   "metadata": {},
   "outputs": [],
   "source": [
    "HapPy_Mean_PR_DF_NoneRemoved = HapPy_Mean_PR_DF[ HapPy_Mean_PR_DF[\"RegionFilteringScheme\"] == \"MM2vsPilon_NoneRemoved_1to15bp\"]\n",
    "HapPy_Mean_PR_DF_NoneRemoved_QQ_0to55 = HapPy_Mean_PR_DF_NoneRemoved[ HapPy_Mean_PR_DF_NoneRemoved[\"QQ\"].isin(  [0,]  +   list(np.arange(1, 59, 1)) )]               \n",
    "\n",
    "HapPy_Mean_PR_DF_NoneRemoved_QQ_0to60 = HapPy_Mean_PR_DF_NoneRemoved[ HapPy_Mean_PR_DF_NoneRemoved[\"QQ\"].isin(  [0,]  +   list(np.arange(5, 65, 5)) )]               \n"
   ]
  },
  {
   "cell_type": "code",
   "execution_count": null,
   "metadata": {},
   "outputs": [],
   "source": []
  },
  {
   "cell_type": "code",
   "execution_count": 57,
   "metadata": {},
   "outputs": [
    {
     "name": "stdout",
     "output_type": "stream",
     "text": [
      "mkdir: cannot create directory ‘./Illumina_VariantCalling_Eval_Plots/’: File exists\n"
     ]
    },
    {
     "data": {
      "image/png": "[encoded data removed]",
      "text/plain": [
       "<Figure size 864x360 with 1 Axes>"
      ]
     },
     "metadata": {
      "needs_background": "light"
     },
     "output_type": "display_data"
    }
   ],
   "source": [
    "f, axes = plt.subplots(1, 1, figsize=(12,5))\n",
    "\n",
    "input_DF = HapPy_Mean_PR_DF_NoneRemoved_QQ_0to55\n",
    "\n",
    "### Precision Recall\n",
    "sns.lineplot(x=\"METRIC.Recall_MEAN\", y=\"METRIC.Precision_MEAN\", hue = \"Subtype\", #style = \"variantType\",\n",
    "             data = input_DF, ax=axes, legend=\"full\")\n",
    "\n",
    "sns.scatterplot(x=\"METRIC.Recall_MEAN\", y=\"METRIC.Precision_MEAN\",  hue = \"Subtype\", #style = \"variantType\",\n",
    "                data = input_DF, ax=axes, legend=None, s=75)\n",
    "\n",
    "#axes.set_title(\"Precision-Recall Curve: Comparing different\")\n",
    "axes.set_xlabel(\"Recall (TP/(TP + FN))\")\n",
    "axes.set_ylabel(\"Precision (TP/(TP + FP))\")\n",
    "#axes.set_ylim(0.5, 1.04)\n",
    "#axes.set_xlim(0.72,1.04)\n",
    "\n",
    "#axes.tick_params(labelsize= 25)\n",
    "axes.spines[\"left\"].set_linewidth(1.5)\n",
    "axes.spines[\"bottom\"].set_linewidth(1.5)\n",
    "\n",
    "sns.despine(ax=axes)\n",
    "\n",
    "axes.tick_params(width=1.5, length=7)\n",
    "\n",
    "\n",
    "plt.legend(title='INDEL Subgroup', loc='lower left', labels=['Deletion (1-5bp)', \"Deletion (6-15 bp)\", 'Insertion (1-5 bp)', 'Insertion (6-15 bp)',])\n",
    "\n",
    "\n",
    "!mkdir ./Illumina_VariantCalling_Eval_Plots/\n",
    "\n",
    "Output_PNG_PATH = \"./Illumina_VariantCalling_Eval_Plots/SupFig5_VC_Eval_36CI_INDELs_ByLength_PrecisionRecall_Plots_INDELsubtypeANDlength_MQ_0to55_V1.png\"       \n",
    "Output_PDF_PATH = \"./Illumina_VariantCalling_Eval_Plots/SupFig5_VC_Eval_36CI_INDELs_ByLength_PrecisionRecall_Plots_INDELsubtypeANDlength_MQ_0to55_V1.pdf\"       \n",
    "\n",
    "#plt.savefig(Output_PNG_PATH, bbox_inches='tight', dpi=125)\n",
    "#plt.savefig(Output_PDF_PATH, bbox_inches='tight', transparent=True)\n",
    "plt.show()"
   ]
  },
  {
   "cell_type": "code",
   "execution_count": null,
   "metadata": {},
   "outputs": [],
   "source": []
  },
  {
   "cell_type": "code",
   "execution_count": null,
   "metadata": {},
   "outputs": [],
   "source": []
  },
  {
   "cell_type": "code",
   "execution_count": 59,
   "metadata": {},
   "outputs": [],
   "source": [
    "listOf_INDEL_Subtypes = [\"I1_5\",\n",
    "                           \"I6_15\", \n",
    "                           \"D1_5\",\n",
    "                           \"D6_15\"]\n",
    "\n",
    "\n",
    "dictOf_INDEL_SubtypeToColor = {\"I1_5\" : \"green\",\n",
    "                              \"I6_15\" : \"red\", \n",
    "                              \"D1_5\" : \"blue\",\n",
    "                              \"D6_15\" : \"orange\" }\n",
    "\n"
   ]
  },
  {
   "cell_type": "code",
   "execution_count": 60,
   "metadata": {},
   "outputs": [
    {
     "name": "stdout",
     "output_type": "stream",
     "text": [
      "mkdir: cannot create directory ‘./Illumina_VariantCalling_Eval_Plots/’: File exists\n"
     ]
    },
    {
     "data": {
      "image/png": "[encoded data removed]",
      "text/plain": [
       "<Figure size 864x360 with 1 Axes>"
      ]
     },
     "metadata": {
      "needs_background": "light"
     },
     "output_type": "display_data"
    }
   ],
   "source": [
    "f, axes = plt.subplots(1, 1, figsize=(12,5))\n",
    "\n",
    "input_DF = HapPy_Mean_PR_DF_NoneRemoved_QQ_0to55\n",
    "\n",
    "### Precision Recall\n",
    "sns.lineplot(x=\"METRIC.Recall_MEAN\", y=\"METRIC.Precision_MEAN\", hue = \"Subtype\", #style = \"variantType\",\n",
    "             data = input_DF, ax=axes, legend=\"full\")\n",
    "\n",
    "sns.scatterplot(x=\"METRIC.Recall_MEAN\", y=\"METRIC.Precision_MEAN\",  hue = \"Subtype\", #style = \"variantType\",\n",
    "                data = input_DF, ax=axes, legend=None, s=75)\n",
    "\n",
    "\n",
    "for i_subtype in listOf_INDEL_Subtypes:\n",
    "    \n",
    "    input_DF_schemeSubset = input_DF[ input_DF[\"Subtype\"] == i_subtype ]\n",
    "    \n",
    "    i_color = dictOf_INDEL_SubtypeToColor[i_subtype]\n",
    "    \n",
    "    y_i = input_DF_schemeSubset[\"METRIC.Precision_MEAN\"]\n",
    "    x_i = input_DF_schemeSubset[\"METRIC.Recall_MEAN\"]\n",
    "\n",
    "    plt.fill_between(x_i, \n",
    "                     y_i - input_DF_schemeSubset[\"METRIC.Precision_SEM\"], \n",
    "                     y_i + input_DF_schemeSubset[\"METRIC.Precision_SEM\"], alpha=0.4, color = i_color)\n",
    "\n",
    "    #plt.fill_betweenx(y_i, x_i - input_DF_schemeSubset[\"METRIC.Recall_SEM\"], x_i + input_DF_schemeSubset[\"METRIC.Recall_SEM\"], alpha=0.2, color = i_color)\n",
    "\n",
    "\n",
    "#axes.set_title(\"Precision-Recall Curve: Comparing different\")\n",
    "axes.set_xlabel(\"Recall (TP/(TP + FN))\")\n",
    "axes.set_ylabel(\"Precision (TP/(TP + FP))\")\n",
    "#axes.set_ylim(0.5, 1.04)\n",
    "#axes.set_xlim(0.72,1.04)\n",
    "\n",
    "axes.tick_params(labelsize= 25)\n",
    "axes.spines[\"left\"].set_linewidth(1.5)\n",
    "axes.spines[\"bottom\"].set_linewidth(1.5)\n",
    "\n",
    "sns.despine(ax=axes)\n",
    "\n",
    "axes.tick_params(width=1.5, length=7)\n",
    "\n",
    "\n",
    "plt.legend(title='INDEL Subgroup', loc='lower left', labels=['Deletion (1-5bp)', \"Deletion (6-15 bp)\", 'Insertion (1-5 bp)', 'Insertion (6-15 bp)',])\n",
    "\n",
    "!mkdir ./Illumina_VariantCalling_Eval_Plots/\n",
    "\n",
    "Output_PNG_PATH = \"./Illumina_VariantCalling_Eval_Plots/SupFig5_VC_Eval_36CI_INDELs_ByLength_PrecisionRecall_Plots_INDELsubtypeANDlength_MQ_0to55_V1_PrecisionSEM_Shaded.png\"       \n",
    "Output_PDF_PATH = \"./Illumina_VariantCalling_Eval_Plots/SupFig5_VC_Eval_36CI_INDELs_ByLength_PrecisionRecall_Plots_INDELsubtypeANDlength_MQ_0to55_V1_PrecisionSEM_Shaded.pdf\"       \n",
    "\n",
    "plt.savefig(Output_PNG_PATH, bbox_inches='tight', dpi=125)\n",
    "plt.savefig(Output_PDF_PATH, bbox_inches='tight', transparent=True)\n",
    "plt.show()"
   ]
  },
  {
   "cell_type": "code",
   "execution_count": null,
   "metadata": {},
   "outputs": [],
   "source": []
  },
  {
   "cell_type": "code",
   "execution_count": null,
   "metadata": {},
   "outputs": [],
   "source": []
  },
  {
   "cell_type": "code",
   "execution_count": null,
   "metadata": {},
   "outputs": [],
   "source": []
  },
  {
   "cell_type": "code",
   "execution_count": null,
   "metadata": {},
   "outputs": [],
   "source": []
  },
  {
   "cell_type": "code",
   "execution_count": null,
   "metadata": {},
   "outputs": [],
   "source": []
  },
  {
   "cell_type": "code",
   "execution_count": null,
   "metadata": {},
   "outputs": [],
   "source": []
  },
  {
   "cell_type": "code",
   "execution_count": null,
   "metadata": {},
   "outputs": [],
   "source": []
  },
  {
   "cell_type": "code",
   "execution_count": null,
   "metadata": {},
   "outputs": [],
   "source": []
  },
  {
   "cell_type": "code",
   "execution_count": null,
   "metadata": {},
   "outputs": [],
   "source": []
  },
  {
   "cell_type": "code",
   "execution_count": null,
   "metadata": {},
   "outputs": [],
   "source": []
  },
  {
   "cell_type": "code",
   "execution_count": null,
   "metadata": {},
   "outputs": [],
   "source": []
  },
  {
   "cell_type": "code",
   "execution_count": null,
   "metadata": {},
   "outputs": [],
   "source": []
  },
  {
   "cell_type": "code",
   "execution_count": 76,
   "metadata": {},
   "outputs": [
    {
     "name": "stdout",
     "output_type": "stream",
     "text": [
      "mkdir: cannot create directory ‘./Illumina_VariantCalling_Eval_Plots/’: File exists\n"
     ]
    },
    {
     "data": {
      "image/png": "[encoded data removed]",
      "text/plain": [
       "<Figure size 864x360 with 1 Axes>"
      ]
     },
     "metadata": {
      "needs_background": "light"
     },
     "output_type": "display_data"
    }
   ],
   "source": [
    "f, axes = plt.subplots(1, 1, figsize=(12,5))\n",
    "\n",
    "input_DF = HapPy_Mean_PR_DF_NoneRemoved_QQ_0to60\n",
    "\n",
    "### Precision Recall\n",
    "sns.lineplot(x=\"METRIC.Recall_MEAN\", y=\"METRIC.Precision_MEAN\", hue = \"Subtype\", #style = \"variantType\",\n",
    "             data = input_DF, ax=axes, legend=\"full\")\n",
    "\n",
    "sns.scatterplot(x=\"METRIC.Recall_MEAN\", y=\"METRIC.Precision_MEAN\",  hue = \"Subtype\", #style = \"variantType\",\n",
    "                data = input_DF, ax=axes, legend=None, s=75)\n",
    "\n",
    "\n",
    "#axes.set_title(\"Precision-Recall Curve: Comparing different\")\n",
    "axes.set_xlabel(\"Recall (TP/(TP + FN))\")\n",
    "axes.set_ylabel(\"Precision (TP/(TP + FP))\")\n",
    "#axes.set_ylim(0.5, 1.04)\n",
    "#axes.set_xlim(0.72,1.04)\n",
    "\n",
    "axes.tick_params(labelsize= 25)\n",
    "\n",
    "!mkdir ./Illumina_VariantCalling_Eval_Plots/\n",
    "\n",
    "\n",
    "Output_PNG_PATH = \"./Illumina_VariantCalling_Eval_Plots/VC_Eval_28CI_INDELs_ByLength_PrecisionRecall_Plots_INDELsubtypeANDlength_MQ_0to60_V1.png\"       \n",
    "Output_PDF_PATH = \"./Illumina_VariantCalling_Eval_Plots/VC_Eval_28CI_INDELs_ByLength_PrecisionRecall_Plots_INDELsubtypeANDlength_MQ_0to60_V1.pdf\"       \n",
    "\n",
    "#plt.savefig(Output_PNG_PATH, bbox_inches='tight', dpi=125)\n",
    "#plt.savefig(Output_PDF_PATH, bbox_inches='tight', transparent=True)\n",
    "plt.show()"
   ]
  },
  {
   "cell_type": "code",
   "execution_count": 1,
   "metadata": {},
   "outputs": [
    {
     "ename": "NameError",
     "evalue": "name 'plt' is not defined",
     "output_type": "error",
     "traceback": [
      "\u001b[0;31m---------------------------------------------------------------------------\u001b[0m",
      "\u001b[0;31mNameError\u001b[0m                                 Traceback (most recent call last)",
      "\u001b[0;32m<ipython-input-1-9b4d0063f0de>\u001b[0m in \u001b[0;36m<module>\u001b[0;34m\u001b[0m\n\u001b[0;32m----> 1\u001b[0;31m \u001b[0mf\u001b[0m\u001b[0;34m,\u001b[0m \u001b[0maxes\u001b[0m \u001b[0;34m=\u001b[0m \u001b[0mplt\u001b[0m\u001b[0;34m.\u001b[0m\u001b[0msubplots\u001b[0m\u001b[0;34m(\u001b[0m\u001b[0;36m1\u001b[0m\u001b[0;34m,\u001b[0m \u001b[0;36m1\u001b[0m\u001b[0;34m,\u001b[0m \u001b[0mfigsize\u001b[0m\u001b[0;34m=\u001b[0m\u001b[0;34m(\u001b[0m\u001b[0;36m12\u001b[0m\u001b[0;34m,\u001b[0m\u001b[0;36m5\u001b[0m\u001b[0;34m)\u001b[0m\u001b[0;34m)\u001b[0m\u001b[0;34m\u001b[0m\u001b[0;34m\u001b[0m\u001b[0m\n\u001b[0m\u001b[1;32m      2\u001b[0m \u001b[0;34m\u001b[0m\u001b[0m\n\u001b[1;32m      3\u001b[0m \u001b[0minput_DF\u001b[0m \u001b[0;34m=\u001b[0m \u001b[0mHapPy_Mean_PR_DF_NoneRemoved_QQ_0to55\u001b[0m\u001b[0;34m\u001b[0m\u001b[0;34m\u001b[0m\u001b[0m\n\u001b[1;32m      4\u001b[0m \u001b[0;34m\u001b[0m\u001b[0m\n\u001b[1;32m      5\u001b[0m \u001b[0;31m### Precision Recall\u001b[0m\u001b[0;34m\u001b[0m\u001b[0;34m\u001b[0m\u001b[0;34m\u001b[0m\u001b[0m\n",
      "\u001b[0;31mNameError\u001b[0m: name 'plt' is not defined"
     ]
    }
   ],
   "source": []
  },
  {
   "cell_type": "code",
   "execution_count": null,
   "metadata": {},
   "outputs": [],
   "source": []
  },
  {
   "cell_type": "code",
   "execution_count": null,
   "metadata": {},
   "outputs": [],
   "source": []
  },
  {
   "cell_type": "code",
   "execution_count": 78,
   "metadata": {},
   "outputs": [
    {
     "data": {
      "text/html": [
       "<div>\n",
       "<style scoped>\n",
       "    .dataframe tbody tr th:only-of-type {\n",
       "        vertical-align: middle;\n",
       "    }\n",
       "\n",
       "    .dataframe tbody tr th {\n",
       "        vertical-align: top;\n",
       "    }\n",
       "\n",
       "    .dataframe thead th {\n",
       "        text-align: right;\n",
       "    }\n",
       "</style>\n",
       "<table border=\"1\" class=\"dataframe\">\n",
       "  <thead>\n",
       "    <tr style=\"text-align: right;\">\n",
       "      <th></th>\n",
       "      <th>QQ</th>\n",
       "      <th>RegionFilteringScheme</th>\n",
       "      <th>Type</th>\n",
       "      <th>Subtype</th>\n",
       "      <th>Subset</th>\n",
       "      <th>METRIC.Recall_MEAN</th>\n",
       "      <th>METRIC.Precision_MEAN</th>\n",
       "      <th>METRIC.Frac_NA_MEAN</th>\n",
       "      <th>METRIC.F1_Score_MEAN</th>\n",
       "      <th>TRUTH.TP_MEAN</th>\n",
       "      <th>TRUTH.FN_MEAN</th>\n",
       "      <th>QUERY.TP_MEAN</th>\n",
       "      <th>QUERY.FP_MEAN</th>\n",
       "      <th>QUERY.UNK_MEAN</th>\n",
       "      <th>METRIC.Recall_SEM</th>\n",
       "      <th>METRIC.Precision_SEM</th>\n",
       "      <th>METRIC.Frac_NA_SEM</th>\n",
       "      <th>METRIC.F1_Score_SEM</th>\n",
       "      <th>TRUTH.TP_SEM</th>\n",
       "      <th>TRUTH.FN_SEM</th>\n",
       "      <th>QUERY.TP_SEM</th>\n",
       "      <th>QUERY.FP_SEM</th>\n",
       "      <th>QUERY.UNK_SEM</th>\n",
       "    </tr>\n",
       "  </thead>\n",
       "  <tbody>\n",
       "    <tr>\n",
       "      <th>0</th>\n",
       "      <td>0</td>\n",
       "      <td>MM2vsPilon_NoneRemoved_1to15bp</td>\n",
       "      <td>INDEL</td>\n",
       "      <td>D1_5</td>\n",
       "      <td>*</td>\n",
       "      <td>0.842452</td>\n",
       "      <td>0.966583</td>\n",
       "      <td>0.000403</td>\n",
       "      <td>0.894353</td>\n",
       "      <td>44.666667</td>\n",
       "      <td>8.166667</td>\n",
       "      <td>45.666667</td>\n",
       "      <td>1.583333</td>\n",
       "      <td>0.027778</td>\n",
       "      <td>0.019713</td>\n",
       "      <td>0.005692</td>\n",
       "      <td>0.000403</td>\n",
       "      <td>0.012541</td>\n",
       "      <td>3.028961</td>\n",
       "      <td>1.236033</td>\n",
       "      <td>3.027126</td>\n",
       "      <td>0.230166</td>\n",
       "      <td>0.027778</td>\n",
       "    </tr>\n",
       "  </tbody>\n",
       "</table>\n",
       "</div>"
      ],
      "text/plain": [
       "   QQ           RegionFilteringScheme   Type Subtype Subset  METRIC.Recall_MEAN  METRIC.Precision_MEAN  METRIC.Frac_NA_MEAN  METRIC.F1_Score_MEAN  TRUTH.TP_MEAN  TRUTH.FN_MEAN  QUERY.TP_MEAN  QUERY.FP_MEAN  QUERY.UNK_MEAN  METRIC.Recall_SEM  METRIC.Precision_SEM  METRIC.Frac_NA_SEM  METRIC.F1_Score_SEM  TRUTH.TP_SEM  TRUTH.FN_SEM  QUERY.TP_SEM  QUERY.FP_SEM  QUERY.UNK_SEM\n",
       "0   0  MM2vsPilon_NoneRemoved_1to15bp  INDEL    D1_5      *            0.842452               0.966583             0.000403              0.894353      44.666667       8.166667      45.666667       1.583333        0.027778           0.019713              0.005692            0.000403             0.012541      3.028961      1.236033      3.027126      0.230166       0.027778"
      ]
     },
     "execution_count": 78,
     "metadata": {},
     "output_type": "execute_result"
    }
   ],
   "source": [
    "HapPy_Mean_PR_DF_NoneRemoved_QQ_0to55.head(1)"
   ]
  },
  {
   "cell_type": "code",
   "execution_count": 79,
   "metadata": {},
   "outputs": [
    {
     "data": {
      "text/plain": [
       "D1_5     59\n",
       "I6_15    59\n",
       "I1_5     59\n",
       "D6_15    59\n",
       "Name: Subtype, dtype: int64"
      ]
     },
     "execution_count": 79,
     "metadata": {},
     "output_type": "execute_result"
    }
   ],
   "source": [
    "HapPy_Mean_PR_DF_NoneRemoved_QQ_0to55[\"Subtype\"].value_counts()"
   ]
  },
  {
   "cell_type": "code",
   "execution_count": null,
   "metadata": {},
   "outputs": [],
   "source": []
  },
  {
   "cell_type": "code",
   "execution_count": 82,
   "metadata": {},
   "outputs": [
    {
     "data": {
      "text/plain": [
       "D1_5     59\n",
       "I6_15    59\n",
       "I1_5     59\n",
       "D6_15    59\n",
       "Name: Subtype, dtype: int64"
      ]
     },
     "execution_count": 82,
     "metadata": {},
     "output_type": "execute_result"
    }
   ],
   "source": [
    "HapPy_Mean_PR_DF_NoneRemoved_QQ_0to55[\"Subtype\"].value_counts()"
   ]
  },
  {
   "cell_type": "code",
   "execution_count": 83,
   "metadata": {},
   "outputs": [
    {
     "data": {
      "text/html": [
       "<div>\n",
       "<style scoped>\n",
       "    .dataframe tbody tr th:only-of-type {\n",
       "        vertical-align: middle;\n",
       "    }\n",
       "\n",
       "    .dataframe tbody tr th {\n",
       "        vertical-align: top;\n",
       "    }\n",
       "\n",
       "    .dataframe thead th {\n",
       "        text-align: right;\n",
       "    }\n",
       "</style>\n",
       "<table border=\"1\" class=\"dataframe\">\n",
       "  <thead>\n",
       "    <tr style=\"text-align: right;\">\n",
       "      <th></th>\n",
       "      <th>QQ</th>\n",
       "      <th>RegionFilteringScheme</th>\n",
       "      <th>Type</th>\n",
       "      <th>Subtype</th>\n",
       "      <th>Subset</th>\n",
       "      <th>METRIC.Recall_MEAN</th>\n",
       "      <th>METRIC.Precision_MEAN</th>\n",
       "      <th>METRIC.Frac_NA_MEAN</th>\n",
       "      <th>METRIC.F1_Score_MEAN</th>\n",
       "      <th>TRUTH.TP_MEAN</th>\n",
       "      <th>TRUTH.FN_MEAN</th>\n",
       "      <th>QUERY.TP_MEAN</th>\n",
       "      <th>QUERY.FP_MEAN</th>\n",
       "      <th>QUERY.UNK_MEAN</th>\n",
       "      <th>METRIC.Recall_SEM</th>\n",
       "      <th>METRIC.Precision_SEM</th>\n",
       "      <th>METRIC.Frac_NA_SEM</th>\n",
       "      <th>METRIC.F1_Score_SEM</th>\n",
       "      <th>TRUTH.TP_SEM</th>\n",
       "      <th>TRUTH.FN_SEM</th>\n",
       "      <th>QUERY.TP_SEM</th>\n",
       "      <th>QUERY.FP_SEM</th>\n",
       "      <th>QUERY.UNK_SEM</th>\n",
       "    </tr>\n",
       "  </thead>\n",
       "  <tbody>\n",
       "    <tr>\n",
       "      <th>98</th>\n",
       "      <td>24</td>\n",
       "      <td>MM2vsPilon_NoneRemoved_1to15bp</td>\n",
       "      <td>INDEL</td>\n",
       "      <td>I1_5</td>\n",
       "      <td>*</td>\n",
       "      <td>0.905197</td>\n",
       "      <td>0.989658</td>\n",
       "      <td>0.009227</td>\n",
       "      <td>0.944664</td>\n",
       "      <td>46.942857</td>\n",
       "      <td>4.942857</td>\n",
       "      <td>47.942857</td>\n",
       "      <td>0.485714</td>\n",
       "      <td>0.457143</td>\n",
       "      <td>0.009087</td>\n",
       "      <td>0.002058</td>\n",
       "      <td>0.002752</td>\n",
       "      <td>0.00502</td>\n",
       "      <td>3.17049</td>\n",
       "      <td>0.59683</td>\n",
       "      <td>3.165715</td>\n",
       "      <td>0.095014</td>\n",
       "      <td>0.144029</td>\n",
       "    </tr>\n",
       "  </tbody>\n",
       "</table>\n",
       "</div>"
      ],
      "text/plain": [
       "    QQ           RegionFilteringScheme   Type Subtype Subset  METRIC.Recall_MEAN  METRIC.Precision_MEAN  METRIC.Frac_NA_MEAN  METRIC.F1_Score_MEAN  TRUTH.TP_MEAN  TRUTH.FN_MEAN  QUERY.TP_MEAN  QUERY.FP_MEAN  QUERY.UNK_MEAN  METRIC.Recall_SEM  METRIC.Precision_SEM  METRIC.Frac_NA_SEM  METRIC.F1_Score_SEM  TRUTH.TP_SEM  TRUTH.FN_SEM  QUERY.TP_SEM  QUERY.FP_SEM  QUERY.UNK_SEM\n",
       "98  24  MM2vsPilon_NoneRemoved_1to15bp  INDEL    I1_5      *            0.905197               0.989658             0.009227              0.944664      46.942857       4.942857      47.942857       0.485714        0.457143           0.009087              0.002058            0.002752              0.00502       3.17049       0.59683      3.165715      0.095014       0.144029"
      ]
     },
     "execution_count": 83,
     "metadata": {},
     "output_type": "execute_result"
    }
   ],
   "source": [
    "HapPy_Mean_PR_DF_NoneRemoved[  (HapPy_Mean_PR_DF_NoneRemoved[\"Subtype\"] == \"I1_5\")].sort_values( \"METRIC.F1_Score_MEAN\" , ascending=False).head(1)  "
   ]
  },
  {
   "cell_type": "code",
   "execution_count": null,
   "metadata": {},
   "outputs": [],
   "source": []
  },
  {
   "cell_type": "code",
   "execution_count": 84,
   "metadata": {},
   "outputs": [
    {
     "data": {
      "text/html": [
       "<div>\n",
       "<style scoped>\n",
       "    .dataframe tbody tr th:only-of-type {\n",
       "        vertical-align: middle;\n",
       "    }\n",
       "\n",
       "    .dataframe tbody tr th {\n",
       "        vertical-align: top;\n",
       "    }\n",
       "\n",
       "    .dataframe thead th {\n",
       "        text-align: right;\n",
       "    }\n",
       "</style>\n",
       "<table border=\"1\" class=\"dataframe\">\n",
       "  <thead>\n",
       "    <tr style=\"text-align: right;\">\n",
       "      <th></th>\n",
       "      <th>QQ</th>\n",
       "      <th>RegionFilteringScheme</th>\n",
       "      <th>Type</th>\n",
       "      <th>Subtype</th>\n",
       "      <th>Subset</th>\n",
       "      <th>METRIC.Recall_MEAN</th>\n",
       "      <th>METRIC.Precision_MEAN</th>\n",
       "      <th>METRIC.Frac_NA_MEAN</th>\n",
       "      <th>METRIC.F1_Score_MEAN</th>\n",
       "      <th>TRUTH.TP_MEAN</th>\n",
       "      <th>TRUTH.FN_MEAN</th>\n",
       "      <th>QUERY.TP_MEAN</th>\n",
       "      <th>QUERY.FP_MEAN</th>\n",
       "      <th>QUERY.UNK_MEAN</th>\n",
       "      <th>METRIC.Recall_SEM</th>\n",
       "      <th>METRIC.Precision_SEM</th>\n",
       "      <th>METRIC.Frac_NA_SEM</th>\n",
       "      <th>METRIC.F1_Score_SEM</th>\n",
       "      <th>TRUTH.TP_SEM</th>\n",
       "      <th>TRUTH.FN_SEM</th>\n",
       "      <th>QUERY.TP_SEM</th>\n",
       "      <th>QUERY.FP_SEM</th>\n",
       "      <th>QUERY.UNK_SEM</th>\n",
       "    </tr>\n",
       "  </thead>\n",
       "  <tbody>\n",
       "    <tr>\n",
       "      <th>156</th>\n",
       "      <td>39</td>\n",
       "      <td>MM2vsPilon_NoneRemoved_1to15bp</td>\n",
       "      <td>INDEL</td>\n",
       "      <td>D1_5</td>\n",
       "      <td>*</td>\n",
       "      <td>0.833477</td>\n",
       "      <td>0.991307</td>\n",
       "      <td>0.000427</td>\n",
       "      <td>0.900497</td>\n",
       "      <td>44.111111</td>\n",
       "      <td>8.722222</td>\n",
       "      <td>45.055556</td>\n",
       "      <td>0.388889</td>\n",
       "      <td>0.027778</td>\n",
       "      <td>0.019255</td>\n",
       "      <td>0.00228</td>\n",
       "      <td>0.000427</td>\n",
       "      <td>0.012757</td>\n",
       "      <td>2.962672</td>\n",
       "      <td>1.23867</td>\n",
       "      <td>2.967</td>\n",
       "      <td>0.091528</td>\n",
       "      <td>0.027778</td>\n",
       "    </tr>\n",
       "  </tbody>\n",
       "</table>\n",
       "</div>"
      ],
      "text/plain": [
       "     QQ           RegionFilteringScheme   Type Subtype Subset  METRIC.Recall_MEAN  METRIC.Precision_MEAN  METRIC.Frac_NA_MEAN  METRIC.F1_Score_MEAN  TRUTH.TP_MEAN  TRUTH.FN_MEAN  QUERY.TP_MEAN  QUERY.FP_MEAN  QUERY.UNK_MEAN  METRIC.Recall_SEM  METRIC.Precision_SEM  METRIC.Frac_NA_SEM  METRIC.F1_Score_SEM  TRUTH.TP_SEM  TRUTH.FN_SEM  QUERY.TP_SEM  QUERY.FP_SEM  QUERY.UNK_SEM\n",
       "156  39  MM2vsPilon_NoneRemoved_1to15bp  INDEL    D1_5      *            0.833477               0.991307             0.000427              0.900497      44.111111       8.722222      45.055556       0.388889        0.027778           0.019255               0.00228            0.000427             0.012757      2.962672       1.23867         2.967      0.091528       0.027778"
      ]
     },
     "execution_count": 84,
     "metadata": {},
     "output_type": "execute_result"
    }
   ],
   "source": [
    "HapPy_Mean_PR_DF_NoneRemoved[  (HapPy_Mean_PR_DF_NoneRemoved[\"Subtype\"] == \"D1_5\")].sort_values( \"METRIC.F1_Score_MEAN\" , ascending=False).head(1)"
   ]
  },
  {
   "cell_type": "code",
   "execution_count": null,
   "metadata": {},
   "outputs": [],
   "source": []
  },
  {
   "cell_type": "code",
   "execution_count": 85,
   "metadata": {},
   "outputs": [
    {
     "data": {
      "text/html": [
       "<div>\n",
       "<style scoped>\n",
       "    .dataframe tbody tr th:only-of-type {\n",
       "        vertical-align: middle;\n",
       "    }\n",
       "\n",
       "    .dataframe tbody tr th {\n",
       "        vertical-align: top;\n",
       "    }\n",
       "\n",
       "    .dataframe thead th {\n",
       "        text-align: right;\n",
       "    }\n",
       "</style>\n",
       "<table border=\"1\" class=\"dataframe\">\n",
       "  <thead>\n",
       "    <tr style=\"text-align: right;\">\n",
       "      <th></th>\n",
       "      <th>QQ</th>\n",
       "      <th>RegionFilteringScheme</th>\n",
       "      <th>Type</th>\n",
       "      <th>Subtype</th>\n",
       "      <th>Subset</th>\n",
       "      <th>METRIC.Recall_MEAN</th>\n",
       "      <th>METRIC.Precision_MEAN</th>\n",
       "      <th>METRIC.Frac_NA_MEAN</th>\n",
       "      <th>METRIC.F1_Score_MEAN</th>\n",
       "      <th>TRUTH.TP_MEAN</th>\n",
       "      <th>TRUTH.FN_MEAN</th>\n",
       "      <th>QUERY.TP_MEAN</th>\n",
       "      <th>QUERY.FP_MEAN</th>\n",
       "      <th>QUERY.UNK_MEAN</th>\n",
       "      <th>METRIC.Recall_SEM</th>\n",
       "      <th>METRIC.Precision_SEM</th>\n",
       "      <th>METRIC.Frac_NA_SEM</th>\n",
       "      <th>METRIC.F1_Score_SEM</th>\n",
       "      <th>TRUTH.TP_SEM</th>\n",
       "      <th>TRUTH.FN_SEM</th>\n",
       "      <th>QUERY.TP_SEM</th>\n",
       "      <th>QUERY.FP_SEM</th>\n",
       "      <th>QUERY.UNK_SEM</th>\n",
       "    </tr>\n",
       "  </thead>\n",
       "  <tbody>\n",
       "    <tr>\n",
       "      <th>3</th>\n",
       "      <td>0</td>\n",
       "      <td>MM2vsPilon_NoneRemoved_1to15bp</td>\n",
       "      <td>INDEL</td>\n",
       "      <td>I6_15</td>\n",
       "      <td>*</td>\n",
       "      <td>0.636221</td>\n",
       "      <td>0.950318</td>\n",
       "      <td>0.0</td>\n",
       "      <td>0.75586</td>\n",
       "      <td>11.25</td>\n",
       "      <td>6.527778</td>\n",
       "      <td>11.25</td>\n",
       "      <td>0.638889</td>\n",
       "      <td>0.0</td>\n",
       "      <td>0.021552</td>\n",
       "      <td>0.009142</td>\n",
       "      <td>0.0</td>\n",
       "      <td>0.01818</td>\n",
       "      <td>0.7942</td>\n",
       "      <td>0.568325</td>\n",
       "      <td>0.7932</td>\n",
       "      <td>0.120533</td>\n",
       "      <td>0.0</td>\n",
       "    </tr>\n",
       "  </tbody>\n",
       "</table>\n",
       "</div>"
      ],
      "text/plain": [
       "   QQ           RegionFilteringScheme   Type Subtype Subset  METRIC.Recall_MEAN  METRIC.Precision_MEAN  METRIC.Frac_NA_MEAN  METRIC.F1_Score_MEAN  TRUTH.TP_MEAN  TRUTH.FN_MEAN  QUERY.TP_MEAN  QUERY.FP_MEAN  QUERY.UNK_MEAN  METRIC.Recall_SEM  METRIC.Precision_SEM  METRIC.Frac_NA_SEM  METRIC.F1_Score_SEM  TRUTH.TP_SEM  TRUTH.FN_SEM  QUERY.TP_SEM  QUERY.FP_SEM  QUERY.UNK_SEM\n",
       "3   0  MM2vsPilon_NoneRemoved_1to15bp  INDEL   I6_15      *            0.636221               0.950318                  0.0               0.75586          11.25       6.527778          11.25       0.638889             0.0           0.021552              0.009142                 0.0              0.01818        0.7942      0.568325        0.7932      0.120533            0.0"
      ]
     },
     "execution_count": 85,
     "metadata": {},
     "output_type": "execute_result"
    }
   ],
   "source": [
    "HapPy_Mean_PR_DF_NoneRemoved[  (HapPy_Mean_PR_DF_NoneRemoved[\"Subtype\"] == \"I6_15\")].sort_values( \"METRIC.F1_Score_MEAN\" , ascending=False).head(1)"
   ]
  },
  {
   "cell_type": "code",
   "execution_count": null,
   "metadata": {},
   "outputs": [],
   "source": []
  },
  {
   "cell_type": "code",
   "execution_count": 86,
   "metadata": {},
   "outputs": [
    {
     "data": {
      "text/html": [
       "<div>\n",
       "<style scoped>\n",
       "    .dataframe tbody tr th:only-of-type {\n",
       "        vertical-align: middle;\n",
       "    }\n",
       "\n",
       "    .dataframe tbody tr th {\n",
       "        vertical-align: top;\n",
       "    }\n",
       "\n",
       "    .dataframe thead th {\n",
       "        text-align: right;\n",
       "    }\n",
       "</style>\n",
       "<table border=\"1\" class=\"dataframe\">\n",
       "  <thead>\n",
       "    <tr style=\"text-align: right;\">\n",
       "      <th></th>\n",
       "      <th>QQ</th>\n",
       "      <th>RegionFilteringScheme</th>\n",
       "      <th>Type</th>\n",
       "      <th>Subtype</th>\n",
       "      <th>Subset</th>\n",
       "      <th>METRIC.Recall_MEAN</th>\n",
       "      <th>METRIC.Precision_MEAN</th>\n",
       "      <th>METRIC.Frac_NA_MEAN</th>\n",
       "      <th>METRIC.F1_Score_MEAN</th>\n",
       "      <th>TRUTH.TP_MEAN</th>\n",
       "      <th>TRUTH.FN_MEAN</th>\n",
       "      <th>QUERY.TP_MEAN</th>\n",
       "      <th>QUERY.FP_MEAN</th>\n",
       "      <th>QUERY.UNK_MEAN</th>\n",
       "      <th>METRIC.Recall_SEM</th>\n",
       "      <th>METRIC.Precision_SEM</th>\n",
       "      <th>METRIC.Frac_NA_SEM</th>\n",
       "      <th>METRIC.F1_Score_SEM</th>\n",
       "      <th>TRUTH.TP_SEM</th>\n",
       "      <th>TRUTH.FN_SEM</th>\n",
       "      <th>QUERY.TP_SEM</th>\n",
       "      <th>QUERY.FP_SEM</th>\n",
       "      <th>QUERY.UNK_SEM</th>\n",
       "    </tr>\n",
       "  </thead>\n",
       "  <tbody>\n",
       "    <tr>\n",
       "      <th>213</th>\n",
       "      <td>53</td>\n",
       "      <td>MM2vsPilon_NoneRemoved_1to15bp</td>\n",
       "      <td>INDEL</td>\n",
       "      <td>D6_15</td>\n",
       "      <td>*</td>\n",
       "      <td>0.714048</td>\n",
       "      <td>0.960158</td>\n",
       "      <td>0.002315</td>\n",
       "      <td>0.805597</td>\n",
       "      <td>9.75</td>\n",
       "      <td>4.388889</td>\n",
       "      <td>9.638889</td>\n",
       "      <td>0.416667</td>\n",
       "      <td>0.027778</td>\n",
       "      <td>0.026953</td>\n",
       "      <td>0.011265</td>\n",
       "      <td>0.002315</td>\n",
       "      <td>0.018091</td>\n",
       "      <td>0.53656</td>\n",
       "      <td>0.531959</td>\n",
       "      <td>0.540653</td>\n",
       "      <td>0.115298</td>\n",
       "      <td>0.027778</td>\n",
       "    </tr>\n",
       "  </tbody>\n",
       "</table>\n",
       "</div>"
      ],
      "text/plain": [
       "     QQ           RegionFilteringScheme   Type Subtype Subset  METRIC.Recall_MEAN  METRIC.Precision_MEAN  METRIC.Frac_NA_MEAN  METRIC.F1_Score_MEAN  TRUTH.TP_MEAN  TRUTH.FN_MEAN  QUERY.TP_MEAN  QUERY.FP_MEAN  QUERY.UNK_MEAN  METRIC.Recall_SEM  METRIC.Precision_SEM  METRIC.Frac_NA_SEM  METRIC.F1_Score_SEM  TRUTH.TP_SEM  TRUTH.FN_SEM  QUERY.TP_SEM  QUERY.FP_SEM  QUERY.UNK_SEM\n",
       "213  53  MM2vsPilon_NoneRemoved_1to15bp  INDEL   D6_15      *            0.714048               0.960158             0.002315              0.805597           9.75       4.388889       9.638889       0.416667        0.027778           0.026953              0.011265            0.002315             0.018091       0.53656      0.531959      0.540653      0.115298       0.027778"
      ]
     },
     "execution_count": 86,
     "metadata": {},
     "output_type": "execute_result"
    }
   ],
   "source": [
    "HapPy_Mean_PR_DF_NoneRemoved[  (HapPy_Mean_PR_DF_NoneRemoved[\"Subtype\"] == \"D6_15\")].sort_values( \"METRIC.F1_Score_MEAN\" , ascending=False).head(1)"
   ]
  },
  {
   "cell_type": "code",
   "execution_count": null,
   "metadata": {},
   "outputs": [],
   "source": []
  },
  {
   "cell_type": "code",
   "execution_count": null,
   "metadata": {},
   "outputs": [],
   "source": []
  },
  {
   "cell_type": "code",
   "execution_count": 87,
   "metadata": {},
   "outputs": [
    {
     "ename": "NameError",
     "evalue": "name 'STOP' is not defined",
     "output_type": "error",
     "traceback": [
      "\u001b[0;31m---------------------------------------------------------------------------\u001b[0m",
      "\u001b[0;31mNameError\u001b[0m                                 Traceback (most recent call last)",
      "\u001b[0;32m<ipython-input-87-ee4decdca3b8>\u001b[0m in \u001b[0;36m<module>\u001b[0;34m\u001b[0m\n\u001b[0;32m----> 1\u001b[0;31m \u001b[0mSTOP\u001b[0m\u001b[0;34m\u001b[0m\u001b[0;34m\u001b[0m\u001b[0m\n\u001b[0m",
      "\u001b[0;31mNameError\u001b[0m: name 'STOP' is not defined"
     ]
    }
   ],
   "source": [
    "STOP"
   ]
  },
  {
   "cell_type": "code",
   "execution_count": null,
   "metadata": {},
   "outputs": [],
   "source": []
  },
  {
   "cell_type": "code",
   "execution_count": null,
   "metadata": {},
   "outputs": [],
   "source": []
  },
  {
   "cell_type": "code",
   "execution_count": null,
   "metadata": {},
   "outputs": [],
   "source": []
  },
  {
   "cell_type": "code",
   "execution_count": null,
   "metadata": {},
   "outputs": [],
   "source": []
  },
  {
   "cell_type": "code",
   "execution_count": null,
   "metadata": {},
   "outputs": [],
   "source": []
  },
  {
   "cell_type": "code",
   "execution_count": null,
   "metadata": {},
   "outputs": [],
   "source": []
  },
  {
   "cell_type": "code",
   "execution_count": null,
   "metadata": {},
   "outputs": [],
   "source": []
  },
  {
   "cell_type": "code",
   "execution_count": null,
   "metadata": {},
   "outputs": [],
   "source": [
    "listOf_FilteringSchemes"
   ]
  },
  {
   "cell_type": "code",
   "execution_count": null,
   "metadata": {},
   "outputs": [],
   "source": [
    "i_subtype"
   ]
  },
  {
   "cell_type": "code",
   "execution_count": null,
   "metadata": {},
   "outputs": [],
   "source": [
    "f, axes = plt.subplots(1, 1, figsize=(12,5))\n",
    "\n",
    "input_DF = HapPy_Mean_PR_DF_NoneRemoved\n",
    "\n",
    "### Precision Recall\n",
    "sns.lineplot(x=\"METRIC.Recall_MEAN\", y=\"METRIC.Precision_MEAN\", hue = \"Subtype\", #style = \"variantType\",\n",
    "             data = input_DF, ax=axes, legend=\"full\")\n",
    "\n",
    "sns.scatterplot(x=\"METRIC.Recall_MEAN\", y=\"METRIC.Precision_MEAN\",  hue = \"Subtype\", #style = \"variantType\",\n",
    "                data = input_DF, ax=axes, legend=None, s=75)\n",
    "\n",
    "\n",
    "for i_subtype in listOf_INDEL_Subtypes:\n",
    "    \n",
    "    input_DF_schemeSubset = input_DF[ input_DF[\"Subtype\"] == i_subtype ]\n",
    "    \n",
    "    i_color = dictOf_INDEL_SubtypeToColor[i_subtype]\n",
    "    \n",
    "    y_i = input_DF_schemeSubset[\"METRIC.Precision_MEAN\"]\n",
    "    x_i = input_DF_schemeSubset[\"METRIC.Recall_MEAN\"]\n",
    "\n",
    "    plt.fill_between(x_i, \n",
    "                     y_i - input_DF_schemeSubset[\"METRIC.Precision_SEM\"], \n",
    "                     y_i + input_DF_schemeSubset[\"METRIC.Precision_SEM\"], alpha=0.4, color = i_color)\n",
    "\n",
    "    #plt.fill_betweenx(y_i, x_i - input_DF_schemeSubset[\"METRIC.Recall_SEM\"], x_i + input_DF_schemeSubset[\"METRIC.Recall_SEM\"], alpha=0.2, color = i_color)\n",
    "\n",
    "\n",
    "\n",
    "\n",
    "\n",
    "\n",
    "#axes.set_title(\"Precision-Recall Curve: Comparing different\")\n",
    "axes.set_xlabel(\"Recall (TP/(TP + FN))\")\n",
    "axes.set_ylabel(\"Precision (TP/(TP + FP))\")\n",
    "#axes.set_ylim(0.5, 1.04)\n",
    "#axes.set_xlim(0.72,1.04)\n",
    "\n",
    "axes.tick_params(labelsize= 25)\n",
    "\n",
    "\n",
    "plt.legend(title='INDEL Subgroup', loc='lower left', labels=['Deletion (1-5bp)', \"Deletion (6-15 bp)\", 'Insertion (1-5 bp)', 'Insertion (6-15 bp)',])\n",
    "\n",
    "\n",
    "!mkdir ./Illumina_VariantCalling_Eval_Plots/\n",
    "\n",
    "Output_PNG_PATH = \"./Illumina_VariantCalling_Eval_Plots/VC_Eval_36CI_INDELs_ByLength_PrecisionRecall_Plots_INDELsubtypeANDlength_MQ_0to60_V1_PrecisionSEM_Shaded.png\"       \n",
    "Output_PDF_PATH = \"./Illumina_VariantCalling_Eval_Plots/VC_Eval_36CI_INDELs_ByLength_PrecisionRecall_Plots_INDELsubtypeANDlength_MQ_0to60_V1_PrecisionSEM_Shaded.pdf\"       \n",
    "\n",
    "#plt.savefig(Output_PNG_PATH, bbox_inches='tight', dpi=125)\n",
    "#plt.savefig(Output_PDF_PATH, bbox_inches='tight', transparent=True)\n",
    "plt.show()"
   ]
  },
  {
   "cell_type": "code",
   "execution_count": null,
   "metadata": {},
   "outputs": [],
   "source": []
  },
  {
   "cell_type": "code",
   "execution_count": null,
   "metadata": {},
   "outputs": [],
   "source": [
    "STOP"
   ]
  },
  {
   "cell_type": "code",
   "execution_count": null,
   "metadata": {},
   "outputs": [],
   "source": []
  },
  {
   "cell_type": "markdown",
   "metadata": {},
   "source": [
    "### Plotting F1-score distributions for INDEL calling - stratified by length"
   ]
  },
  {
   "cell_type": "code",
   "execution_count": null,
   "metadata": {},
   "outputs": [],
   "source": [
    "sns.boxplot(y=\"Subtype\",\n",
    "            x=\"METRIC.F1_Score\",\n",
    "            data = HapPy_Mean_PR_DF_NoneRemoved_QQ_0to55)\n",
    "\n",
    "#!mkdir ./Illumina_VariantCalling_Eval_Plots/\n",
    "\n",
    "Output_PNG_PATH = \"./Illumina_VariantCalling_Eval_Plots/VC_Eval_28CI_INDELs_ByLength_F1score_Distributions_INDELsubtypeANDlength_MQ_0to60_V1.png\"       \n",
    "Output_PDF_PATH = \"./Illumina_VariantCalling_Eval_Plots/VC_Eval_28CI_INDELs_ByLength_F1score_Distributions_INDELsubtypeANDlength_MQ_0to60_V1.pdf\"           \n",
    "\n",
    "plt.savefig(Output_PNG_PATH, bbox_inches='tight', dpi=125)\n",
    "plt.savefig(Output_PDF_PATH, bbox_inches='tight', transparent=True)\n",
    "plt.show()"
   ]
  },
  {
   "cell_type": "code",
   "execution_count": null,
   "metadata": {},
   "outputs": [],
   "source": []
  },
  {
   "cell_type": "code",
   "execution_count": null,
   "metadata": {},
   "outputs": [],
   "source": []
  },
  {
   "cell_type": "code",
   "execution_count": null,
   "metadata": {},
   "outputs": [],
   "source": [
    "f, axes = plt.subplots(1, 1, figsize=(12,5))\n",
    "\n",
    "input_DF = HapPy_Mean_PR_DF_NoneRemoved\n",
    "\n",
    "### Precision Recall\n",
    "sns.lineplot(x=\"METRIC.Recall\", y=\"METRIC.Precision\", hue = \"Subtype\", #style = \"variantType\",\n",
    "             data = input_DF, ax=axes, legend=\"full\")\n",
    "\n",
    "#sns.scatterplot(x=\"METRIC.Recall\", y=\"METRIC.Precision\",  hue = \"Subtype\", #style = \"variantType\",\n",
    "#                data = input_DF, ax=axes, legend=None, s=75)\n",
    "\n",
    "#axes.set_title(\"Precision-Recall Curve: Comparing different\")\n",
    "axes.set_xlabel(\"Recall (TP/(TP + FN))\")\n",
    "axes.set_ylabel(\"Precision (TP/(TP + FP))\")\n",
    "#axes.set_ylim(0.5, 1.04)\n",
    "#axes.set_xlim(0.72,1.04)\n",
    "\n",
    "axes.tick_params(labelsize= 25)\n",
    "\n",
    "!mkdir ./Illumina_VariantCalling_Eval_Plots/\n",
    "\n",
    "Output_PNG_PATH = \"./Illumina_VariantCalling_Eval_Plots/VC_Eval_27CI_INDELs_ByLength_PrecisionRecall_Plots_INDELsubtypeANDlength_V1.png\"       \n",
    "#plt.savefig(Output_PNG_PATH, bbox_inches='tight', dpi=125)\n",
    "#plt.show()"
   ]
  },
  {
   "cell_type": "code",
   "execution_count": null,
   "metadata": {},
   "outputs": [],
   "source": []
  },
  {
   "cell_type": "code",
   "execution_count": null,
   "metadata": {},
   "outputs": [],
   "source": [
    "HapPy_Mean_PR_DF_NoneRemoved_QQ_0to55.head(1)"
   ]
  },
  {
   "cell_type": "code",
   "execution_count": null,
   "metadata": {},
   "outputs": [],
   "source": [
    "HapPy_Mean_PR_DF_NoneRemoved_QQ_0to55.groupby(\"Subtype\").median()"
   ]
  },
  {
   "cell_type": "code",
   "execution_count": null,
   "metadata": {},
   "outputs": [],
   "source": [
    "HapPy_Mean_PR_DF_NoneRemoved_QQ_0to55.describe()"
   ]
  },
  {
   "cell_type": "code",
   "execution_count": null,
   "metadata": {},
   "outputs": [],
   "source": []
  },
  {
   "cell_type": "code",
   "execution_count": null,
   "metadata": {},
   "outputs": [],
   "source": []
  },
  {
   "cell_type": "code",
   "execution_count": null,
   "metadata": {},
   "outputs": [],
   "source": [
    "f, axes = plt.subplots(1, 1, figsize=(12,5))\n",
    "\n",
    "input_DF = HapPy_Mean_PR_DF_NoneRemoved_QQ_0to55\n",
    "\n",
    "### Precision Recall\n",
    "sns.lineplot(x=\"METRIC.Recall\", y=\"METRIC.Precision\", hue = \"Subtype\", #style = \"variantType\",\n",
    "             data = input_DF, ax=axes, legend=\"full\")\n",
    "\n",
    "#sns.scatterplot(x=\"METRIC.Recall\", y=\"METRIC.Precision\",  hue = \"Subtype\", #style = \"variantType\",\n",
    "#                data = input_DF, ax=axes, legend=\"full\", s=75)\n",
    "\n",
    "#axes.set_title(\"Precision-Recall Curve: Comparing different\")\n",
    "axes.set_xlabel(\"Recall (TP/(TP + FN))\")\n",
    "axes.set_ylabel(\"Precision (TP/(TP + FP))\")\n",
    "#axes.set_ylim(0.95,1.04)\n",
    "#axes.set_xlim(0.5,1.04)\n",
    "\n",
    "axes.tick_params(labelsize= 25)\n",
    "plt.show()"
   ]
  },
  {
   "cell_type": "code",
   "execution_count": null,
   "metadata": {},
   "outputs": [],
   "source": []
  },
  {
   "cell_type": "code",
   "execution_count": null,
   "metadata": {},
   "outputs": [],
   "source": []
  },
  {
   "cell_type": "code",
   "execution_count": null,
   "metadata": {},
   "outputs": [],
   "source": []
  },
  {
   "cell_type": "code",
   "execution_count": null,
   "metadata": {},
   "outputs": [],
   "source": []
  },
  {
   "cell_type": "code",
   "execution_count": null,
   "metadata": {},
   "outputs": [],
   "source": []
  },
  {
   "cell_type": "code",
   "execution_count": null,
   "metadata": {},
   "outputs": [],
   "source": []
  },
  {
   "cell_type": "code",
   "execution_count": null,
   "metadata": {},
   "outputs": [],
   "source": [
    "HapPy_Mean_PR_DF_QQ_0to55 = HapPy_Mean_PR_DF[ HapPy_Mean_PR_DF[\"QQ\"].isin(  [0,]  +   list(np.arange(5, 65, 5)) )]"
   ]
  },
  {
   "cell_type": "code",
   "execution_count": null,
   "metadata": {},
   "outputs": [],
   "source": [
    "f, axes = plt.subplots(1, 1, figsize=(12,5))\n",
    "\n",
    "input_DF = HapPy_Mean_PR_DF_QQ_0to55\n",
    "\n",
    "### Precision Recall\n",
    "sns.lineplot(x=\"METRIC.Recall\", y=\"METRIC.Precision\", hue = \"Subtype\", style = \"RegionFilteringScheme\",\n",
    "             data = input_DF, ax=axes, legend=\"full\")\n",
    "\n",
    "sns.scatterplot(x=\"METRIC.Recall\", y=\"METRIC.Precision\",  hue = \"Subtype\", style = \"RegionFilteringScheme\",\n",
    "                data = input_DF, ax=axes, legend=None, s=75)\n",
    "\n",
    "#axes.set_title(\"Precision-Recall Curve: Comparing different\")\n",
    "axes.set_xlabel(\"Recall (TP/(TP + FN))\")\n",
    "axes.set_ylabel(\"Precision (TP/(TP + FP))\")\n",
    "#axes.set_ylim(0.72,1.04)\n",
    "#axes.set_xlim(0.72,1.04)\n",
    "\n",
    "axes.tick_params(labelsize= 25)\n",
    "plt.show()"
   ]
  },
  {
   "cell_type": "code",
   "execution_count": null,
   "metadata": {},
   "outputs": [],
   "source": []
  },
  {
   "cell_type": "code",
   "execution_count": null,
   "metadata": {},
   "outputs": [],
   "source": []
  },
  {
   "cell_type": "code",
   "execution_count": null,
   "metadata": {},
   "outputs": [],
   "source": []
  },
  {
   "cell_type": "code",
   "execution_count": null,
   "metadata": {},
   "outputs": [],
   "source": []
  },
  {
   "cell_type": "code",
   "execution_count": null,
   "metadata": {},
   "outputs": [],
   "source": []
  },
  {
   "cell_type": "code",
   "execution_count": null,
   "metadata": {},
   "outputs": [],
   "source": []
  },
  {
   "cell_type": "code",
   "execution_count": null,
   "metadata": {},
   "outputs": [],
   "source": []
  },
  {
   "cell_type": "code",
   "execution_count": null,
   "metadata": {},
   "outputs": [],
   "source": []
  },
  {
   "cell_type": "code",
   "execution_count": null,
   "metadata": {},
   "outputs": [],
   "source": []
  },
  {
   "cell_type": "code",
   "execution_count": null,
   "metadata": {},
   "outputs": [],
   "source": []
  }
 ],
 "metadata": {
  "kernelspec": {
   "display_name": "py37_S",
   "language": "python",
   "name": "py37_s"
  },
  "language_info": {
   "codemirror_mode": {
    "name": "ipython",
    "version": 3
   },
   "file_extension": ".py",
   "mimetype": "text/x-python",
   "name": "python",
   "nbconvert_exporter": "python",
   "pygments_lexer": "ipython3",
   "version": "3.7.3"
  }
 },
 "nbformat": 4,
 "nbformat_minor": 4
}
