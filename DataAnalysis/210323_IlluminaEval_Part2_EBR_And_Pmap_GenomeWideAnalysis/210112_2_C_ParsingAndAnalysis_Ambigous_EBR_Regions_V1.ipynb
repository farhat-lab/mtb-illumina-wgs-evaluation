{
 "cells": [
  {
   "cell_type": "markdown",
   "metadata": {},
   "source": [
    "# Exploring regions that with ambiguously defined ground truths relative to the H37Rv reference genome\n",
    "\n",
    "### Goal: To summarize the characteristics of regions that are \"ambiguous\""
   ]
  },
  {
   "cell_type": "code",
   "execution_count": 1,
   "metadata": {},
   "outputs": [],
   "source": [
    "import numpy as np\n",
    "import pandas as pd\n",
    "from tqdm import tqdm\n",
    "import matplotlib.pyplot as plt\n",
    "import seaborn as sns\n",
    "import pickle\n",
    "# import gffutils\n",
    "\n",
    "%matplotlib inline"
   ]
  },
  {
   "cell_type": "code",
   "execution_count": 2,
   "metadata": {},
   "outputs": [],
   "source": [
    "from Bio import SeqIO"
   ]
  },
  {
   "cell_type": "markdown",
   "metadata": {},
   "source": [
    "#### Pandas Viewing Settings"
   ]
  },
  {
   "cell_type": "code",
   "execution_count": 3,
   "metadata": {},
   "outputs": [],
   "source": [
    "pd.set_option('display.max_rows', 500)\n",
    "pd.set_option('display.max_columns', 500)\n",
    "pd.set_option('display.width', 1000)"
   ]
  },
  {
   "cell_type": "code",
   "execution_count": null,
   "metadata": {},
   "outputs": [],
   "source": []
  },
  {
   "cell_type": "markdown",
   "metadata": {},
   "source": [
    "## Define function for output of a BED file from a NP array with values for each basepair position"
   ]
  },
  {
   "cell_type": "code",
   "execution_count": 4,
   "metadata": {},
   "outputs": [],
   "source": [
    "# BED format specifications: https://useast.ensembl.org/info/website/upload/bed.html\n",
    "\n",
    "def convert_GenomeNParray_To_BED_DF(input_GenomeNParray, genomeChrom = \"NC_000962.3\"):\n",
    "    \"\"\" \"\"\"\n",
    "    last_Score = input_GenomeNParray[0]\n",
    "\n",
    "    startOfRegion = 0\n",
    "    listOfBED_Tuples = []\n",
    "    RegionCounter = 1\n",
    "\n",
    "    for RefPos_0based in tqdm(np.arange(len(input_GenomeNParray))):\n",
    "\n",
    "        EBR_Score = input_GenomeNParray[RefPos_0based]\n",
    "\n",
    "        if EBR_Score != last_Score:\n",
    "\n",
    "            endOfRegion = RefPos_0based\n",
    "            lengthOfRegion = endOfRegion - startOfRegion \n",
    "\n",
    "            BED_EntryTuple = (genomeChrom, startOfRegion, endOfRegion, f\"Region{RegionCounter}_Length_{lengthOfRegion}_bp\", last_Score,)\n",
    "            listOfBED_Tuples.append(BED_EntryTuple)\n",
    "\n",
    "            RegionCounter += 1\n",
    "\n",
    "            #print(f\"{H37rv_ChrName}, {startOfRegion}, {RefPos_0based}, {lengthOfRegion}_bp, {last_Score}, .\")\n",
    "\n",
    "            startOfRegion = RefPos_0based \n",
    "\n",
    "            #1 Output the last range\n",
    "            #2 Store the new score    \n",
    "\n",
    "        last_Score = EBR_Score #2 Store the new score   \n",
    "\n",
    "        \n",
    "        \n",
    "    endOfRegion = RefPos_0based + 1\n",
    "    lengthOfRegion = endOfRegion - startOfRegion \n",
    "\n",
    "    BED_EntryTuple = (genomeChrom, startOfRegion, endOfRegion, f\"Region{RegionCounter}_Length_{lengthOfRegion}_bp\", last_Score)\n",
    "    listOfBED_Tuples.append(BED_EntryTuple)       \n",
    "\n",
    "    BED_DF = pd.DataFrame(listOfBED_Tuples)\n",
    "    \n",
    "    BED_DF.columns = [\"chrom\", \"chromStart\", \"chromEnd\", \"name\", \"score\" ]\n",
    "    \n",
    "    \n",
    "    return BED_DF"
   ]
  },
  {
   "cell_type": "code",
   "execution_count": null,
   "metadata": {},
   "outputs": [],
   "source": []
  },
  {
   "cell_type": "code",
   "execution_count": null,
   "metadata": {},
   "outputs": [],
   "source": []
  },
  {
   "cell_type": "code",
   "execution_count": null,
   "metadata": {},
   "outputs": [],
   "source": []
  },
  {
   "cell_type": "markdown",
   "metadata": {},
   "source": [
    "# Parse in BED file annotations of H37Rv genome (PLC groups)"
   ]
  },
  {
   "cell_type": "code",
   "execution_count": 5,
   "metadata": {},
   "outputs": [],
   "source": [
    "RepoRef_Dir = \"../../References\"\n",
    "pLC_ExcludedRegionsScheme_RepoRef_Dir = f\"{RepoRef_Dir}/pLowConfideceRegions_CoscollaEtAlScheme_Files\"\n",
    "\n",
    "\n",
    "Mtb_H37rv_pLCRegions_Coscolla_BED_PATH = f\"{pLC_ExcludedRegionsScheme_RepoRef_Dir}/201027_Mtb_H37rv_pLC_Regions_CoscollaExcludedGenes.bed\"\n",
    "\n",
    "Mtb_H37rv_pLCRegions_Coscolla_Subset_PEPPEs_BED_PATH = f\"{pLC_ExcludedRegionsScheme_RepoRef_Dir}/201027_Mtb_H37rv_pLC_Regions_CoscollaExcludedGenes.PEPPEs.bed\"\n",
    "\n",
    "Mtb_H37rv_pLCRegions_Coscolla_Subset_MGEs_BED_PATH = f\"{pLC_ExcludedRegionsScheme_RepoRef_Dir}/201027_Mtb_H37rv_pLC_Regions_CoscollaExcludedGenes.MGEs.bed\"\n",
    "\n",
    "Mtb_H37rv_pLCRegions_Coscolla_Subset_RepetitiveGenes_BED_PATH = f\"{pLC_ExcludedRegionsScheme_RepoRef_Dir}/201027_Mtb_H37rv_pLC_Regions_CoscollaExcludedGenes.RepetitiveGenes.bed\"\n",
    "\n",
    "Mtb_H37rv_pLCRegions_Only_PE_PGRS_And_PPE_MPTR_BED_PATH = f\"{pLC_ExcludedRegionsScheme_RepoRef_Dir}/201027_Mtb_H37rv_pLC_Regions_Subset_For_PE_PGRS_And_PPE_MPTR_Only_85_genes.bed\"\n",
    "\n",
    "Mtb_H37rv_pLCRegions_Coscolla_BED_MERGED_PATH = f\"{pLC_ExcludedRegionsScheme_RepoRef_Dir}/201027_Mtb_H37rv_pLC_Regions_CoscollaExcludedRegion.Merged.bed\"\n",
    "\n",
    "Mtb_H37rv_HighConfidenceRegions_NONCoscollaRegions_BED_PATH = f\"{pLC_ExcludedRegionsScheme_RepoRef_Dir}/201027_Mtb_H37rv_HighConfidence_Regions_NONpLC_Regions.bed\"\n"
   ]
  },
  {
   "cell_type": "code",
   "execution_count": 6,
   "metadata": {},
   "outputs": [
    {
     "name": "stdout",
     "output_type": "stream",
     "text": [
      "NC_000962.3\t33581\t33794\tRv0031\tRv0031\tInsertionSeqs_And_Phages\tNone\n",
      "NC_000962.3\t103709\t104663\tRv0094c\tRv0094c\tInsertionSeqs_And_Phages\tNone\n",
      "NC_000962.3\t104804\t105215\tRv0095c\tRv0095c\tInsertionSeqs_And_Phages\tNone\n",
      "NC_000962.3\t105323\t106715\tRv0096\tPPE1\tPE/PPEs\tPPE_SL-2_PPE-PPW\n",
      "NC_000962.3\t131381\t132872\tRv0109\tPE_PGRS1\tPE/PPEs\tPE_V_PGRS\n",
      "NC_000962.3\t149532\t150996\tRv0124\tPE_PGRS2\tPE/PPEs\tPE_V_PGRS\n",
      "NC_000962.3\t177542\t179309\tRv0151c\tPE1\tPE/PPEs\tPE_V_\n",
      "NC_000962.3\t179318\t180896\tRv0152c\tPE2\tPE/PPEs\tPE_V_\n",
      "NC_000962.3\t187432\t188839\tRv0159c\tPE3\tPE/PPEs\tPE_V_\n",
      "NC_000962.3\t188930\t190439\tRv0160c\tPE4\tPE/PPEs\tPE_V_\n"
     ]
    }
   ],
   "source": [
    "!head $Mtb_H37rv_pLCRegions_Coscolla_BED_PATH"
   ]
  },
  {
   "cell_type": "code",
   "execution_count": null,
   "metadata": {},
   "outputs": [],
   "source": []
  },
  {
   "cell_type": "code",
   "execution_count": null,
   "metadata": {},
   "outputs": [],
   "source": []
  },
  {
   "cell_type": "code",
   "execution_count": null,
   "metadata": {},
   "outputs": [],
   "source": []
  },
  {
   "cell_type": "code",
   "execution_count": null,
   "metadata": {},
   "outputs": [],
   "source": []
  },
  {
   "cell_type": "code",
   "execution_count": null,
   "metadata": {},
   "outputs": [],
   "source": []
  },
  {
   "cell_type": "markdown",
   "metadata": {},
   "source": [
    "## Parse Assembly and Sequence analysis results Sample Info"
   ]
  },
  {
   "cell_type": "code",
   "execution_count": 7,
   "metadata": {},
   "outputs": [
    {
     "name": "stdout",
     "output_type": "stream",
     "text": [
      "M0011368_9,M0014888_3,M0016395_7,M0010874_7,01_R1430,02_R0894,02_R1708,02_R1896,M0016737_0,M0017522_5,01_R1134,M0003941_3,02_R1179,N1176,N0072,N0153,N0145,N0155,N0004,N1274,N0054,N1272,N0091,N1202,N1177,RW-TB008,DNA028,DNA075,DNA091,DNA044,DNA020,AZE_02_042,DNA019_Rose,DNA120,DNA188,DNA086\n"
     ]
    }
   ],
   "source": [
    "Repo_DataDir = \"../../Data\"\n",
    "\n",
    "PMP_SM_ResultsSummary_Dir_210108 = Repo_DataDir + \"/210108_PMP_SM_50CI_V7_ResultsSummary\"\n",
    "\n",
    "PMP_36CI_CicularOnly_F2Filtered_AtLeast40XIllDepth_AssemblySummary_TSV_PATH = PMP_SM_ResultsSummary_Dir_210108 + \"/210108_PMP_36CI_CircularOnly_F2Filtered_AtLeast40XMeanDepthIllumina_AssemblySummary_V7.tsv\"       \n",
    "\n",
    "PMP_36CI_CicularOnly_F2Filtered_AtLeast40XDepth_AssemblySummary = pd.read_csv(PMP_36CI_CicularOnly_F2Filtered_AtLeast40XIllDepth_AssemblySummary_TSV_PATH, sep = \"\\t\")\n",
    "\n",
    "PMP_36CI_AnalysisSet_AssemblySummary = PMP_36CI_CicularOnly_F2Filtered_AtLeast40XDepth_AssemblySummary\n",
    "\n",
    "\n",
    "SampleIDs_36CI_SOI = list( PMP_36CI_AnalysisSet_AssemblySummary[\"SampleID\"].values )\n",
    "\n",
    "\n",
    "print(','.join(SampleIDs_36CI_SOI) )\n",
    "\n",
    "# Make sample to metadata mapping dicts\n",
    "\n",
    "ID_To_IlluminaAvrgCov_Dict = dict(PMP_36CI_AnalysisSet_AssemblySummary[['SampleID', 'IlluminaWGSToH37rv_AvrgCov']].values)                     \n",
    "ID_To_Lineage_Dict = dict(PMP_36CI_AnalysisSet_AssemblySummary[['SampleID', 'PrimaryLineage_PB']].values)\n",
    "ID_To_Dataset_Dict = dict(PMP_36CI_AnalysisSet_AssemblySummary[['SampleID', 'Dataset_Tag']].values)"
   ]
  },
  {
   "cell_type": "code",
   "execution_count": null,
   "metadata": {},
   "outputs": [],
   "source": []
  },
  {
   "cell_type": "code",
   "execution_count": null,
   "metadata": {},
   "outputs": [],
   "source": []
  },
  {
   "cell_type": "markdown",
   "metadata": {},
   "source": [
    "# 0) Read in pickles of processed data"
   ]
  },
  {
   "cell_type": "markdown",
   "metadata": {},
   "source": [
    "## Read back in EBR NPY arrays "
   ]
  },
  {
   "cell_type": "code",
   "execution_count": 8,
   "metadata": {},
   "outputs": [
    {
     "name": "stderr",
     "output_type": "stream",
     "text": [
      "100%|██████████| 36/36 [00:06<00:00,  4.96it/s]\n"
     ]
    }
   ],
   "source": [
    "PB_Vs_Illumina_DataAnalysis_Dir = \"../../../210112_PBvsI_VCeval_AnalysisDir_V7_36CI\"\n",
    "\n",
    "# Define directory for EBR analysis data\n",
    "PBvIll_EBR_Dir = PB_Vs_Illumina_DataAnalysis_Dir + \"/210112_EBR_H37rv_36CI_MM2vsPilon_V7\"         \n",
    "\n",
    "PBvsIll_EBR_IndivSample_NPZs = f\"{PBvIll_EBR_Dir}/210112_EBR_H37rv_IndividualSampleRecall_NPZs\"\n",
    "\n",
    "\n",
    "# Parse in aggregated EBR-36CI array\n",
    "EBR_36CI_WGS40X_NPZ_PATH = f\"{PBvIll_EBR_Dir}/210112_EBR_V7_36CI.npz\"\n",
    "\n",
    "EBR_36CI_Array_A4 = np.load(EBR_36CI_WGS40X_NPZ_PATH)[\"arr_0\"]\n",
    "\n",
    "\n",
    "\n",
    "# Parse in individual EBR arrays for each isolate and store in dictionary\n",
    "dictOf_EBR_IndivIsolate_NPYs= {}\n",
    "\n",
    "for SampleID in tqdm(SampleIDs_36CI_SOI):\n",
    "    \n",
    "    i_EBR_Agreement_NPZ_PATH = f\"{PBvsIll_EBR_IndivSample_NPZs}/EBR.V7.IndivIsolate.{SampleID}.npz\"\n",
    "\n",
    "    i_EBR_NP = np.load(i_EBR_Agreement_NPZ_PATH)[\"arr_0\"]\n",
    "\n",
    "    dictOf_EBR_IndivIsolate_NPYs[SampleID] = i_EBR_NP\n"
   ]
  },
  {
   "cell_type": "code",
   "execution_count": 9,
   "metadata": {},
   "outputs": [
    {
     "data": {
      "text/plain": [
       "dict_keys(['M0011368_9', 'M0014888_3', 'M0016395_7', 'M0010874_7', '01_R1430', '02_R0894', '02_R1708', '02_R1896', 'M0016737_0', 'M0017522_5', '01_R1134', 'M0003941_3', '02_R1179', 'N1176', 'N0072', 'N0153', 'N0145', 'N0155', 'N0004', 'N1274', 'N0054', 'N1272', 'N0091', 'N1202', 'N1177', 'RW-TB008', 'DNA028', 'DNA075', 'DNA091', 'DNA044', 'DNA020', 'AZE_02_042', 'DNA019_Rose', 'DNA120', 'DNA188', 'DNA086'])"
      ]
     },
     "execution_count": 9,
     "metadata": {},
     "output_type": "execute_result"
    }
   ],
   "source": [
    "dictOf_EBR_IndivIsolate_NPYs.keys()"
   ]
  },
  {
   "cell_type": "code",
   "execution_count": null,
   "metadata": {},
   "outputs": [],
   "source": []
  },
  {
   "cell_type": "markdown",
   "metadata": {},
   "source": [
    "# Let's define AMB regions for the EBR-36CI calculation (> 25% N/A)"
   ]
  },
  {
   "cell_type": "code",
   "execution_count": 10,
   "metadata": {},
   "outputs": [
    {
     "name": "stderr",
     "output_type": "stream",
     "text": [
      "100%|██████████| 4411532/4411532 [00:04<00:00, 988760.46it/s] \n"
     ]
    }
   ],
   "source": [
    "i_EBR_Array = pd.Series(EBR_36CI_Array_A4).fillna(\"Ambiguous\").values\n",
    "\n",
    "EBR_36CI_BED_DF = convert_GenomeNParray_To_BED_DF(i_EBR_Array)\n",
    "\n",
    "EBR_36CI_BED_DF[\"Length\"] = EBR_36CI_BED_DF[\"chromEnd\"] - EBR_36CI_BED_DF[\"chromStart\"]      \n",
    "\n",
    "EBR_36CI_BED_DF_AMB_ONLY = EBR_36CI_BED_DF[ EBR_36CI_BED_DF[\"score\"] == \"Ambiguous\" ]"
   ]
  },
  {
   "cell_type": "code",
   "execution_count": null,
   "metadata": {},
   "outputs": [],
   "source": []
  },
  {
   "cell_type": "code",
   "execution_count": null,
   "metadata": {},
   "outputs": [],
   "source": []
  },
  {
   "cell_type": "markdown",
   "metadata": {},
   "source": [
    "### What % of the genome had high levels of ambiguouity in EBR analysis? (> 25% of isolates with Amb at position) \n",
    "\n",
    "#### Answer: 0.35% (15,813 bp of the genome, largely in MGEs)"
   ]
  },
  {
   "cell_type": "code",
   "execution_count": 11,
   "metadata": {},
   "outputs": [
    {
     "data": {
      "text/plain": [
       "15813"
      ]
     },
     "execution_count": 11,
     "metadata": {},
     "output_type": "execute_result"
    }
   ],
   "source": [
    "EBR_36CI_BED_DF_AMB_ONLY[\"Length\"].sum()"
   ]
  },
  {
   "cell_type": "code",
   "execution_count": 12,
   "metadata": {},
   "outputs": [
    {
     "data": {
      "text/plain": [
       "0.35844690687951486"
      ]
     },
     "execution_count": 12,
     "metadata": {},
     "output_type": "execute_result"
    }
   ],
   "source": [
    "(EBR_36CI_BED_DF_AMB_ONLY[\"Length\"].sum() / 4411532) * 100"
   ]
  },
  {
   "cell_type": "code",
   "execution_count": null,
   "metadata": {},
   "outputs": [],
   "source": []
  },
  {
   "cell_type": "code",
   "execution_count": null,
   "metadata": {},
   "outputs": [],
   "source": []
  },
  {
   "cell_type": "code",
   "execution_count": null,
   "metadata": {},
   "outputs": [],
   "source": []
  },
  {
   "cell_type": "markdown",
   "metadata": {},
   "source": [
    "# Output AMB Regions (Individual & Aggregated Levels)"
   ]
  },
  {
   "cell_type": "code",
   "execution_count": 13,
   "metadata": {},
   "outputs": [
    {
     "name": "stdout",
     "output_type": "stream",
     "text": [
      "mkdir: cannot create directory ‘../../../210112_PBvsI_VCeval_AnalysisDir_V7_36CI/210112_EBR_H37rv_36CI_MM2vsPilon_V7/EBR_36CI_AmbigousRegions’: File exists\n"
     ]
    }
   ],
   "source": [
    "# Define directory for analysis\n",
    "\n",
    "PBvIll_EBR_Ambigous_RegionsDir = f\"{PBvIll_EBR_Dir}/EBR_36CI_AmbigousRegions\"\n",
    "\n",
    "!mkdir $PBvIll_EBR_Ambigous_RegionsDir\n"
   ]
  },
  {
   "cell_type": "code",
   "execution_count": null,
   "metadata": {},
   "outputs": [],
   "source": []
  },
  {
   "cell_type": "markdown",
   "metadata": {},
   "source": [
    "## A) Ouput AMB regions from the aggregated EBR-36CI score"
   ]
  },
  {
   "cell_type": "code",
   "execution_count": 14,
   "metadata": {},
   "outputs": [],
   "source": [
    "EBR_36CI_Ambigous_Regions_BED_PATH = f\"{PBvIll_EBR_Ambigous_RegionsDir}/EBR_36CI_AmbigousRegions_V1.bed\"\n",
    "EBR_36CI_Ambigous_Regions_WithHeader_BED_PATH = f\"{PBvIll_EBR_Ambigous_RegionsDir}/EBR_36CI_AmbigousRegions_V1.WithHeader.bed.tsv\"\n",
    "\n",
    "\n",
    "EBR_36CI_BED_DF_AMB_ONLY.to_csv(EBR_36CI_Ambigous_Regions_BED_PATH,\n",
    "                           sep = \"\\t\",\n",
    "                           index = False,\n",
    "                           header = False)\n",
    "\n",
    "\n",
    "EBR_36CI_BED_DF_AMB_ONLY.to_csv(EBR_36CI_Ambigous_Regions_WithHeader_BED_PATH,\n",
    "                           sep = \"\\t\",\n",
    "                           index = False,\n",
    "                           header = True)\n",
    "\n"
   ]
  },
  {
   "cell_type": "code",
   "execution_count": null,
   "metadata": {},
   "outputs": [],
   "source": []
  },
  {
   "cell_type": "code",
   "execution_count": 15,
   "metadata": {},
   "outputs": [
    {
     "name": "stdout",
     "output_type": "stream",
     "text": [
      "total 184K\n",
      "drwxrwsr-x 2 mm774 farhat  188 Mar 26 14:49 .\n",
      "drwxrwsr-x 4 mm774 farhat  269 Mar 26 14:46 ..\n",
      "-rw-rw-r-- 1 mm774 farhat 1.6K Mar 26 16:19 EBR_36CI_AmbigousRegions_V1.bed\n",
      "-rw-rw-r-- 1 mm774 farhat 1.7K Mar 26 16:19 EBR_36CI_AmbigousRegions_V1.WithHeader.bed.tsv\n",
      "-rw-rw-r-- 1 mm774 farhat  72K Mar 26 14:49 Mtb_AmbigouslyDefinedRegions_PerIsolate_V1.WithHeader.bed\n"
     ]
    }
   ],
   "source": [
    "!ls -lah $PBvIll_EBR_Ambigous_RegionsDir"
   ]
  },
  {
   "cell_type": "code",
   "execution_count": null,
   "metadata": {},
   "outputs": [],
   "source": []
  },
  {
   "cell_type": "code",
   "execution_count": 16,
   "metadata": {},
   "outputs": [
    {
     "data": {
      "text/plain": [
       "(21613, 6)"
      ]
     },
     "execution_count": 16,
     "metadata": {},
     "output_type": "execute_result"
    }
   ],
   "source": [
    "EBR_36CI_BED_DF.shape"
   ]
  },
  {
   "cell_type": "code",
   "execution_count": 17,
   "metadata": {},
   "outputs": [
    {
     "data": {
      "text/plain": [
       "(24, 6)"
      ]
     },
     "execution_count": 17,
     "metadata": {},
     "output_type": "execute_result"
    }
   ],
   "source": [
    "EBR_36CI_BED_DF_AMB_ONLY.shape"
   ]
  },
  {
   "cell_type": "code",
   "execution_count": null,
   "metadata": {},
   "outputs": [],
   "source": []
  },
  {
   "cell_type": "code",
   "execution_count": 18,
   "metadata": {},
   "outputs": [
    {
     "data": {
      "text/html": [
       "<div>\n",
       "<style scoped>\n",
       "    .dataframe tbody tr th:only-of-type {\n",
       "        vertical-align: middle;\n",
       "    }\n",
       "\n",
       "    .dataframe tbody tr th {\n",
       "        vertical-align: top;\n",
       "    }\n",
       "\n",
       "    .dataframe thead th {\n",
       "        text-align: right;\n",
       "    }\n",
       "</style>\n",
       "<table border=\"1\" class=\"dataframe\">\n",
       "  <thead>\n",
       "    <tr style=\"text-align: right;\">\n",
       "      <th></th>\n",
       "      <th>chrom</th>\n",
       "      <th>chromStart</th>\n",
       "      <th>chromEnd</th>\n",
       "      <th>name</th>\n",
       "      <th>score</th>\n",
       "      <th>Length</th>\n",
       "    </tr>\n",
       "  </thead>\n",
       "  <tbody>\n",
       "    <tr>\n",
       "      <th>995</th>\n",
       "      <td>NC_000962.3</td>\n",
       "      <td>334641</td>\n",
       "      <td>334653</td>\n",
       "      <td>Region996_Length_12_bp</td>\n",
       "      <td>Ambiguous</td>\n",
       "      <td>12</td>\n",
       "    </tr>\n",
       "    <tr>\n",
       "      <th>997</th>\n",
       "      <td>NC_000962.3</td>\n",
       "      <td>334694</td>\n",
       "      <td>334723</td>\n",
       "      <td>Region998_Length_29_bp</td>\n",
       "      <td>Ambiguous</td>\n",
       "      <td>29</td>\n",
       "    </tr>\n",
       "    <tr>\n",
       "      <th>4251</th>\n",
       "      <td>NC_000962.3</td>\n",
       "      <td>888762</td>\n",
       "      <td>889020</td>\n",
       "      <td>Region4252_Length_258_bp</td>\n",
       "      <td>Ambiguous</td>\n",
       "      <td>258</td>\n",
       "    </tr>\n",
       "    <tr>\n",
       "      <th>4253</th>\n",
       "      <td>NC_000962.3</td>\n",
       "      <td>889033</td>\n",
       "      <td>890373</td>\n",
       "      <td>Region4254_Length_1340_bp</td>\n",
       "      <td>Ambiguous</td>\n",
       "      <td>1340</td>\n",
       "    </tr>\n",
       "    <tr>\n",
       "      <th>5513</th>\n",
       "      <td>NC_000962.3</td>\n",
       "      <td>1093947</td>\n",
       "      <td>1094062</td>\n",
       "      <td>Region5514_Length_115_bp</td>\n",
       "      <td>Ambiguous</td>\n",
       "      <td>115</td>\n",
       "    </tr>\n",
       "  </tbody>\n",
       "</table>\n",
       "</div>"
      ],
      "text/plain": [
       "            chrom  chromStart  chromEnd                       name      score  Length\n",
       "995   NC_000962.3      334641    334653     Region996_Length_12_bp  Ambiguous      12\n",
       "997   NC_000962.3      334694    334723     Region998_Length_29_bp  Ambiguous      29\n",
       "4251  NC_000962.3      888762    889020   Region4252_Length_258_bp  Ambiguous     258\n",
       "4253  NC_000962.3      889033    890373  Region4254_Length_1340_bp  Ambiguous    1340\n",
       "5513  NC_000962.3     1093947   1094062   Region5514_Length_115_bp  Ambiguous     115"
      ]
     },
     "execution_count": 18,
     "metadata": {},
     "output_type": "execute_result"
    }
   ],
   "source": [
    "EBR_36CI_BED_DF_AMB_ONLY.head(5)"
   ]
  },
  {
   "cell_type": "code",
   "execution_count": null,
   "metadata": {},
   "outputs": [],
   "source": []
  },
  {
   "cell_type": "code",
   "execution_count": 19,
   "metadata": {},
   "outputs": [
    {
     "name": "stdout",
     "output_type": "stream",
     "text": [
      "24 ../../../210112_PBvsI_VCeval_AnalysisDir_V7_36CI/210112_EBR_H37rv_36CI_MM2vsPilon_V7/EBR_36CI_AmbigousRegions/EBR_36CI_AmbigousRegions_V1.bed\n"
     ]
    }
   ],
   "source": [
    "!wc -l $EBR_36CI_Ambigous_Regions_BED_PATH"
   ]
  },
  {
   "cell_type": "code",
   "execution_count": 20,
   "metadata": {},
   "outputs": [
    {
     "name": "stdout",
     "output_type": "stream",
     "text": [
      "168 ../../References/pLowConfideceRegions_CoscollaEtAlScheme_Files/201027_Mtb_H37rv_pLC_Regions_CoscollaExcludedGenes.PEPPEs.bed\n"
     ]
    }
   ],
   "source": [
    "!wc -l $Mtb_H37rv_pLCRegions_Coscolla_Subset_PEPPEs_BED_PATH"
   ]
  },
  {
   "cell_type": "code",
   "execution_count": 21,
   "metadata": {},
   "outputs": [
    {
     "name": "stdout",
     "output_type": "stream",
     "text": [
      "147 ../../References/pLowConfideceRegions_CoscollaEtAlScheme_Files/201027_Mtb_H37rv_pLC_Regions_CoscollaExcludedGenes.MGEs.bed\n"
     ]
    }
   ],
   "source": [
    "!wc -l $Mtb_H37rv_pLCRegions_Coscolla_Subset_MGEs_BED_PATH"
   ]
  },
  {
   "cell_type": "code",
   "execution_count": 22,
   "metadata": {},
   "outputs": [
    {
     "name": "stdout",
     "output_type": "stream",
     "text": [
      "69 ../../References/pLowConfideceRegions_CoscollaEtAlScheme_Files/201027_Mtb_H37rv_pLC_Regions_CoscollaExcludedGenes.RepetitiveGenes.bed\n"
     ]
    }
   ],
   "source": [
    "!wc -l $Mtb_H37rv_pLCRegions_Coscolla_Subset_RepetitiveGenes_BED_PATH"
   ]
  },
  {
   "cell_type": "code",
   "execution_count": null,
   "metadata": {},
   "outputs": [],
   "source": []
  },
  {
   "cell_type": "code",
   "execution_count": 23,
   "metadata": {},
   "outputs": [],
   "source": [
    "#!bedtools coverage -a $EBR_36CI_Ambigous_Regions_BED_PATH -b $Mtb_H37rv_pLCRegions_Coscolla_BED_MERGED_PATH"
   ]
  },
  {
   "cell_type": "code",
   "execution_count": null,
   "metadata": {},
   "outputs": [],
   "source": []
  },
  {
   "cell_type": "code",
   "execution_count": 24,
   "metadata": {},
   "outputs": [],
   "source": [
    "#!bedtools coverage -a $EBR_36CI_Ambigous_Regions_BED_PATH -b $Mtb_H37rv_pLCRegions_Coscolla_Subset_MGEs_BED_PATH"
   ]
  },
  {
   "cell_type": "code",
   "execution_count": 25,
   "metadata": {},
   "outputs": [],
   "source": [
    "#!bedtools coverage -a $EBR_36CI_Ambigous_Regions_BED_PATH -b $Mtb_H37rv_pLCRegions_Coscolla_Subset_PEPPEs_BED_PATH"
   ]
  },
  {
   "cell_type": "code",
   "execution_count": 26,
   "metadata": {},
   "outputs": [],
   "source": [
    "#!bedtools coverage -a $EBR_36CI_Ambigous_Regions_BED_PATH -b $Mtb_H37rv_pLCRegions_Coscolla_Subset_RepetitiveGenes_BED_PATH"
   ]
  },
  {
   "cell_type": "code",
   "execution_count": null,
   "metadata": {},
   "outputs": [],
   "source": []
  },
  {
   "cell_type": "code",
   "execution_count": 27,
   "metadata": {},
   "outputs": [
    {
     "data": {
      "text/plain": [
       "15551"
      ]
     },
     "execution_count": 27,
     "metadata": {},
     "output_type": "execute_result"
    }
   ],
   "source": [
    "15813 - 262"
   ]
  },
  {
   "cell_type": "code",
   "execution_count": 28,
   "metadata": {},
   "outputs": [
    {
     "data": {
      "text/plain": [
       "0.9834313539492823"
      ]
     },
     "execution_count": 28,
     "metadata": {},
     "output_type": "execute_result"
    }
   ],
   "source": [
    "15551/15813"
   ]
  },
  {
   "cell_type": "markdown",
   "metadata": {},
   "source": [
    "## Evaluate coverage of all 3 PLC subcategories with AMB regions\n",
    "A total of 262 bp were from regions which didn't overlap with regions that were already part of the PLC regions\n"
   ]
  },
  {
   "cell_type": "code",
   "execution_count": 29,
   "metadata": {},
   "outputs": [
    {
     "name": "stdout",
     "output_type": "stream",
     "text": [
      "NC_000962.3\t334641\t334653\tRegion996_Length_12_bp\tAmbiguous\t12\t1\t12\t12\t1.0000000\n",
      "NC_000962.3\t334694\t334723\tRegion998_Length_29_bp\tAmbiguous\t29\t1\t29\t29\t1.0000000\n",
      "NC_000962.3\t888762\t889020\tRegion4252_Length_258_bp\tAmbiguous\t258\t0\t0\t258\t0.0000000\n",
      "NC_000962.3\t889033\t890373\tRegion4254_Length_1340_bp\tAmbiguous\t1340\t2\t1262\t1340\t0.9417911\n",
      "NC_000962.3\t1093947\t1094062\tRegion5514_Length_115_bp\tAmbiguous\t115\t1\t115\t115\t1.0000000\n",
      "NC_000962.3\t1480948\t1481670\tRegion7844_Length_722_bp\tAmbiguous\t722\t1\t722\t722\t1.0000000\n",
      "NC_000962.3\t1541951\t1543304\tRegion8088_Length_1353_bp\tAmbiguous\t1353\t2\t1262\t1353\t0.9327421\n",
      "NC_000962.3\t1637087\t1637214\tRegion8717_Length_127_bp\tAmbiguous\t127\t1\t127\t127\t1.0000000\n",
      "NC_000962.3\t1987702\t1989057\tRegion9675_Length_1355_bp\tAmbiguous\t1355\t2\t1262\t1355\t0.9313653\n",
      "NC_000962.3\t1996100\t1997452\tRegion9810_Length_1352_bp\tAmbiguous\t1352\t3\t1297\t1352\t0.9593195\n",
      "NC_000962.3\t2268721\t2268725\tRegion11088_Length_4_bp\tAmbiguous\t4\t0\t0\t4\t0.0000000\n",
      "NC_000962.3\t2550013\t2551366\tRegion12413_Length_1353_bp\tAmbiguous\t1353\t3\t1278\t1353\t0.9445676\n",
      "NC_000962.3\t2632922\t2636929\tRegion12611_Length_4007_bp\tAmbiguous\t4007\t4\t3503\t4007\t0.8742201\n",
      "NC_000962.3\t2638985\t2639613\tRegion12647_Length_628_bp\tAmbiguous\t628\t1\t550\t628\t0.8757962\n",
      "NC_000962.3\t2866882\t2867400\tRegion13779_Length_518_bp\tAmbiguous\t518\t2\t518\t518\t1.0000000\n",
      "NC_000962.3\t3528674\t3528971\tRegion16381_Length_297_bp\tAmbiguous\t297\t1\t297\t297\t1.0000000\n",
      "NC_000962.3\t3528974\t3529181\tRegion16383_Length_207_bp\tAmbiguous\t207\t1\t189\t207\t0.9130435\n",
      "NC_000962.3\t3552587\t3552712\tRegion16414_Length_125_bp\tAmbiguous\t125\t0\t0\t125\t0.0000000\n",
      "NC_000962.3\t3732552\t3732570\tRegion16840_Length_18_bp\tAmbiguous\t18\t1\t18\t18\t1.0000000\n",
      "NC_000962.3\t3846591\t3846841\tRegion18146_Length_250_bp\tAmbiguous\t250\t0\t0\t250\t0.0000000\n",
      "NC_000962.3\t3890778\t3892133\tRegion18450_Length_1355_bp\tAmbiguous\t1355\t2\t1262\t1355\t0.9313653\n",
      "NC_000962.3\t3936085\t3936296\tRegion19317_Length_211_bp\tAmbiguous\t211\t1\t211\t211\t1.0000000\n",
      "NC_000962.3\t3946794\t3946879\tRegion19916_Length_85_bp\tAmbiguous\t85\t1\t85\t85\t1.0000000\n",
      "NC_000962.3\t3949264\t3949356\tRegion20221_Length_92_bp\tAmbiguous\t92\t1\t92\t92\t1.0000000\n"
     ]
    }
   ],
   "source": [
    "!bedtools coverage -a $EBR_36CI_Ambigous_Regions_BED_PATH -b $Mtb_H37rv_pLCRegions_Coscolla_Subset_PEPPEs_BED_PATH $Mtb_H37rv_pLCRegions_Coscolla_Subset_MGEs_BED_PATH $Mtb_H37rv_pLCRegions_Coscolla_Subset_RepetitiveGenes_BED_PATH"
   ]
  },
  {
   "cell_type": "code",
   "execution_count": 1,
   "metadata": {},
   "outputs": [
    {
     "data": {
      "text/plain": [
       "512"
      ]
     },
     "execution_count": 1,
     "metadata": {},
     "output_type": "execute_result"
    }
   ],
   "source": [
    "258 + 4 + 250 "
   ]
  },
  {
   "cell_type": "code",
   "execution_count": 2,
   "metadata": {},
   "outputs": [
    {
     "data": {
      "text/plain": [
       "0.032378422816669826"
      ]
     },
     "execution_count": 2,
     "metadata": {},
     "output_type": "execute_result"
    }
   ],
   "source": [
    "512 / 15813"
   ]
  },
  {
   "cell_type": "code",
   "execution_count": 3,
   "metadata": {},
   "outputs": [
    {
     "data": {
      "text/plain": [
       "0.9676215771833302"
      ]
     },
     "execution_count": 3,
     "metadata": {},
     "output_type": "execute_result"
    }
   ],
   "source": [
    "(15813 - 512) / 15813"
   ]
  },
  {
   "cell_type": "code",
   "execution_count": null,
   "metadata": {},
   "outputs": [],
   "source": []
  },
  {
   "cell_type": "markdown",
   "metadata": {},
   "source": [
    "# Let's parse and output BED files for all of the \"Ambigous Regions\" for each sample "
   ]
  },
  {
   "cell_type": "code",
   "execution_count": 30,
   "metadata": {},
   "outputs": [],
   "source": [
    "### Step 1: Parse all Ambigous Regions to a BED file formatted Pandas DF\n",
    "### Step 2: Output the AmbRegions to a BED  "
   ]
  },
  {
   "cell_type": "markdown",
   "metadata": {},
   "source": [
    "### Define directories of PMP-SM pipeline"
   ]
  },
  {
   "cell_type": "code",
   "execution_count": 31,
   "metadata": {},
   "outputs": [],
   "source": [
    "# Define varaint calling pipeline output directories\n",
    "\n",
    "PacBio_ProjectDir = \"/n/data1/hms/dbmi/farhat/mm774/Projects/PacBio_Evaluation_Project\"\n",
    "PMP_SM_Outputs_Dir = PacBio_ProjectDir + \"/PacmanPipe_SM_Outputs\"\n",
    "PMP_SM_TB_Portals_R1_Illumina_WGS_201201_OutputDir = PMP_SM_Outputs_Dir + \"/201201_PMP_SM_TB_Portals_R1_Output_V2\"      \n"
   ]
  },
  {
   "cell_type": "code",
   "execution_count": 32,
   "metadata": {},
   "outputs": [
    {
     "data": {
      "text/plain": [
       "dict_keys(['M0011368_9', 'M0014888_3', 'M0016395_7', 'M0010874_7', '01_R1430', '02_R0894', '02_R1708', '02_R1896', 'M0016737_0', 'M0017522_5', '01_R1134', 'M0003941_3', '02_R1179', 'N1176', 'N0072', 'N0153', 'N0145', 'N0155', 'N0004', 'N1274', 'N0054', 'N1272', 'N0091', 'N1202', 'N1177', 'RW-TB008', 'DNA028', 'DNA075', 'DNA091', 'DNA044', 'DNA020', 'AZE_02_042', 'DNA019_Rose', 'DNA120', 'DNA188', 'DNA086'])"
      ]
     },
     "execution_count": 32,
     "metadata": {},
     "output_type": "execute_result"
    }
   ],
   "source": [
    "dictOf_EBR_IndivIsolate_NPYs.keys()"
   ]
  },
  {
   "cell_type": "code",
   "execution_count": null,
   "metadata": {},
   "outputs": [],
   "source": []
  },
  {
   "cell_type": "code",
   "execution_count": null,
   "metadata": {},
   "outputs": [],
   "source": []
  },
  {
   "cell_type": "markdown",
   "metadata": {},
   "source": [
    "## Files to save:\n",
    "\n",
    "1) Save a BED file each for sampleID's ambigous regions <br>\n",
    "1) Save a BED-TSV file each for EBR-36CI ambigous regions (Ambigous across > 25% of isolates) <br>\n"
   ]
  },
  {
   "cell_type": "code",
   "execution_count": null,
   "metadata": {},
   "outputs": [],
   "source": []
  },
  {
   "cell_type": "markdown",
   "metadata": {},
   "source": [
    "### Define directories of Snakemake pipeline output"
   ]
  },
  {
   "cell_type": "code",
   "execution_count": 33,
   "metadata": {},
   "outputs": [],
   "source": [
    "# Define varaint calling pipeline output directories\n",
    "\n",
    "PacBio_ProjectDir = \"/n/data1/hms/dbmi/farhat/mm774/Projects/PacBio_Evaluation_Project\"\n",
    "PMP_SM_Outputs_Dir = PacBio_ProjectDir + \"/PacmanPipe_SM_Outputs\"\n",
    "PMP_SM_TB_Portals_R1_Illumina_WGS_201201_OutputDir = PMP_SM_Outputs_Dir + \"/201201_PMP_SM_TB_Portals_R1_Output_V2\"      \n"
   ]
  },
  {
   "cell_type": "code",
   "execution_count": null,
   "metadata": {},
   "outputs": [],
   "source": []
  },
  {
   "cell_type": "code",
   "execution_count": null,
   "metadata": {},
   "outputs": [],
   "source": []
  },
  {
   "cell_type": "code",
   "execution_count": 34,
   "metadata": {
    "scrolled": true
   },
   "outputs": [
    {
     "name": "stderr",
     "output_type": "stream",
     "text": [
      "  0%|          | 0/36 [00:00<?, ?it/s]\n",
      "  0%|          | 0/4411532 [00:00<?, ?it/s]\u001b[A\n",
      "  2%|▏         | 95039/4411532 [00:00<00:04, 899727.47it/s]\u001b[A\n",
      "  4%|▍         | 182828/4411532 [00:00<00:04, 893061.96it/s]\u001b[A\n",
      "  6%|▌         | 264591/4411532 [00:00<00:04, 865956.72it/s]\u001b[A\n",
      "  8%|▊         | 353922/4411532 [00:00<00:04, 873984.82it/s]\u001b[A\n",
      " 10%|█         | 449669/4411532 [00:00<00:04, 897459.08it/s]\u001b[A\n",
      " 12%|█▏        | 533641/4411532 [00:00<00:04, 879319.42it/s]\u001b[A\n",
      " 14%|█▍        | 637192/4411532 [00:00<00:04, 894984.75it/s]\u001b[A\n",
      " 17%|█▋        | 736920/4411532 [00:00<00:03, 922514.84it/s]\u001b[A\n",
      " 19%|█▉        | 835143/4411532 [00:00<00:03, 937863.30it/s]\u001b[A\n",
      " 21%|██        | 925634/4411532 [00:01<00:03, 917894.54it/s]\u001b[A\n",
      " 23%|██▎       | 1030246/4411532 [00:01<00:03, 934153.19it/s]\u001b[A\n",
      " 26%|██▌       | 1125501/4411532 [00:01<00:03, 939352.24it/s]\u001b[A\n",
      " 28%|██▊       | 1231673/4411532 [00:01<00:03, 972994.40it/s]\u001b[A\n",
      " 30%|███       | 1328560/4411532 [00:01<00:03, 952273.08it/s]\u001b[A\n",
      " 33%|███▎      | 1436045/4411532 [00:01<00:03, 953980.03it/s]\u001b[A\n",
      " 35%|███▍      | 1538361/4411532 [00:01<00:02, 961751.28it/s]\u001b[A\n",
      " 37%|███▋      | 1643151/4411532 [00:01<00:02, 965997.31it/s]\u001b[A\n",
      " 40%|███▉      | 1746411/4411532 [00:01<00:02, 970427.00it/s]\u001b[A\n",
      " 42%|████▏     | 1850993/4411532 [00:01<00:02, 961287.13it/s]\u001b[A\n",
      " 44%|████▍     | 1953795/4411532 [00:02<00:02, 980378.82it/s]\u001b[A\n",
      " 47%|████▋     | 2051925/4411532 [00:02<00:02, 964436.57it/s]\u001b[A\n",
      " 49%|████▊     | 2150548/4411532 [00:02<00:02, 970872.38it/s]\u001b[A\n",
      " 51%|█████     | 2252338/4411532 [00:02<00:02, 984516.22it/s]\u001b[A\n",
      " 53%|█████▎    | 2355930/4411532 [00:02<00:02, 999392.50it/s]\u001b[A\n",
      " 56%|█████▌    | 2456003/4411532 [00:02<00:02, 966912.40it/s]\u001b[A\n",
      " 58%|█████▊    | 2553017/4411532 [00:02<00:01, 953529.16it/s]\u001b[A\n",
      " 60%|██████    | 2659362/4411532 [00:02<00:01, 959945.61it/s]\u001b[A\n",
      " 62%|██████▏   | 2755555/4411532 [00:02<00:01, 950165.46it/s]\u001b[A\n",
      " 65%|██████▍   | 2850733/4411532 [00:03<00:01, 950419.34it/s]\u001b[A\n",
      " 67%|██████▋   | 2947543/4411532 [00:03<00:01, 924849.66it/s]\u001b[A\n",
      " 69%|██████▉   | 3042984/4411532 [00:03<00:01, 933521.99it/s]\u001b[A\n",
      " 71%|███████   | 3141144/4411532 [00:03<00:01, 947443.12it/s]\u001b[A\n",
      " 73%|███████▎  | 3236065/4411532 [00:03<00:01, 918953.31it/s]\u001b[A\n",
      " 76%|███████▌  | 3337473/4411532 [00:03<00:01, 945562.75it/s]\u001b[A\n",
      " 78%|███████▊  | 3432440/4411532 [00:03<00:01, 914005.04it/s]\u001b[A\n",
      " 80%|████████  | 3529369/4411532 [00:03<00:00, 929915.79it/s]\u001b[A\n",
      " 82%|████████▏ | 3634679/4411532 [00:03<00:00, 963734.06it/s]\u001b[A\n",
      " 85%|████████▍ | 3731666/4411532 [00:03<00:00, 900407.96it/s]\u001b[A\n",
      " 87%|████████▋ | 3829504/4411532 [00:04<00:00, 908871.37it/s]\u001b[A\n",
      " 89%|████████▉ | 3921300/4411532 [00:04<00:00, 908293.54it/s]\u001b[A\n",
      " 91%|█████████ | 4021808/4411532 [00:04<00:00, 911341.57it/s]\u001b[A\n",
      " 93%|█████████▎| 4117737/4411532 [00:04<00:00, 925214.77it/s]\u001b[A\n",
      " 95%|█████████▌| 4210623/4411532 [00:04<00:00, 910006.12it/s]\u001b[A\n",
      " 98%|█████████▊| 4312875/4411532 [00:04<00:00, 941070.62it/s]\u001b[A\n",
      "100%|█████████▉| 4407469/4411532 [00:04<00:00, 918869.15it/s]\u001b[A\n",
      "100%|██████████| 4411532/4411532 [00:04<00:00, 933802.05it/s]\u001b[A/home/mm774/conda3/envs/py37_S/lib/python3.7/site-packages/ipykernel_launcher.py:27: SettingWithCopyWarning: \n",
      "A value is trying to be set on a copy of a slice from a DataFrame.\n",
      "Try using .loc[row_indexer,col_indexer] = value instead\n",
      "\n",
      "See the caveats in the documentation: https://pandas.pydata.org/pandas-docs/stable/user_guide/indexing.html#returning-a-view-versus-a-copy\n",
      "  3%|▎         | 1/36 [00:06<03:33,  6.10s/it]\n",
      "  0%|          | 0/4411532 [00:00<?, ?it/s]\u001b[A\n",
      "  2%|▏         | 100116/4411532 [00:00<00:04, 906192.55it/s]\u001b[A\n",
      "  4%|▍         | 187857/4411532 [00:00<00:04, 897359.73it/s]\u001b[A\n",
      "  6%|▌         | 266541/4411532 [00:00<00:04, 861074.58it/s]\u001b[A\n",
      "  8%|▊         | 360066/4411532 [00:00<00:04, 880927.49it/s]\u001b[A\n",
      " 10%|█         | 450366/4411532 [00:00<00:04, 887434.11it/s]\u001b[A\n",
      " 12%|█▏        | 544959/4411532 [00:00<00:04, 904208.50it/s]\u001b[A\n",
      " 14%|█▍        | 636405/4411532 [00:00<00:04, 907258.70it/s]\u001b[A\n",
      " 16%|█▋        | 727754/4411532 [00:00<00:04, 909118.11it/s]\u001b[A\n",
      " 18%|█▊        | 813569/4411532 [00:00<00:04, 877745.20it/s]\u001b[A\n",
      " 20%|██        | 898009/4411532 [00:01<00:04, 846519.61it/s]\u001b[A\n",
      " 22%|██▏       | 991658/4411532 [00:01<00:03, 864604.18it/s]\u001b[A\n",
      " 25%|██▍       | 1085787/4411532 [00:01<00:03, 878427.59it/s]\u001b[A\n",
      " 27%|██▋       | 1189919/4411532 [00:01<00:03, 901556.18it/s]\u001b[A\n",
      " 29%|██▉       | 1288929/4411532 [00:01<00:03, 926409.63it/s]\u001b[A\n",
      " 31%|███▏      | 1383144/4411532 [00:01<00:03, 928928.72it/s]\u001b[A\n",
      " 34%|███▎      | 1488349/4411532 [00:01<00:03, 941817.05it/s]\u001b[A\n",
      " 36%|███▌      | 1586266/4411532 [00:01<00:02, 944723.08it/s]\u001b[A\n",
      " 38%|███▊      | 1692735/4411532 [00:01<00:02, 943101.80it/s]\u001b[A\n",
      " 41%|████      | 1794418/4411532 [00:01<00:02, 964072.27it/s]\u001b[A\n",
      " 43%|████▎     | 1897027/4411532 [00:02<00:02, 952188.09it/s]\u001b[A\n",
      " 45%|████▌     | 1999526/4411532 [00:02<00:02, 972918.08it/s]\u001b[A\n",
      " 48%|████▊     | 2097003/4411532 [00:02<00:02, 960148.05it/s]\u001b[A\n",
      " 50%|████▉     | 2204673/4411532 [00:02<00:02, 969259.34it/s]\u001b[A\n",
      " 52%|█████▏    | 2302620/4411532 [00:02<00:02, 964885.68it/s]\u001b[A\n",
      " 54%|█████▍    | 2404172/4411532 [00:02<00:02, 968546.59it/s]\u001b[A\n",
      " 57%|█████▋    | 2509714/4411532 [00:02<00:01, 972241.57it/s]\u001b[A\n",
      " 59%|█████▉    | 2608487/4411532 [00:02<00:01, 967845.98it/s]\u001b[A\n",
      " 61%|██████▏   | 2711656/4411532 [00:02<00:01, 986153.41it/s]\u001b[A\n",
      " 64%|██████▍   | 2814402/4411532 [00:03<00:01, 998191.28it/s]\u001b[A\n",
      " 66%|██████▌   | 2914337/4411532 [00:03<00:01, 996842.63it/s]\u001b[A\n",
      " 68%|██████▊   | 3014103/4411532 [00:03<00:01, 982682.51it/s]\u001b[A\n",
      " 71%|███████   | 3112474/4411532 [00:03<00:01, 975163.02it/s]\u001b[A\n",
      " 73%|███████▎  | 3215466/4411532 [00:03<00:01, 990968.44it/s]\u001b[A\n",
      " 75%|███████▌  | 3317808/4411532 [00:03<00:01, 1000484.62it/s]\u001b[A\n",
      " 77%|███████▋  | 3417964/4411532 [00:03<00:01, 973025.19it/s] \u001b[A\n",
      " 80%|███████▉  | 3525385/4411532 [00:03<00:00, 970742.77it/s]\u001b[A\n",
      " 82%|████████▏ | 3625578/4411532 [00:03<00:00, 979892.75it/s]\u001b[A\n",
      " 84%|████████▍ | 3723707/4411532 [00:03<00:00, 937160.76it/s]\u001b[A\n",
      " 87%|████████▋ | 3822406/4411532 [00:04<00:00, 928290.85it/s]\u001b[A\n",
      " 89%|████████▉ | 3924592/4411532 [00:04<00:00, 934602.69it/s]\u001b[A\n",
      " 91%|█████████ | 4024575/4411532 [00:04<00:00, 953258.39it/s]\u001b[A\n",
      " 93%|█████████▎| 4120178/4411532 [00:04<00:00, 943040.13it/s]\u001b[A\n",
      " 96%|█████████▌| 4216743/4411532 [00:04<00:00, 949708.73it/s]\u001b[A\n",
      " 98%|█████████▊| 4322549/4411532 [00:04<00:00, 963608.95it/s]\u001b[A\n",
      "  6%|▌         | 2/36 [00:12<03:25,  6.05s/it] 943821.02it/s]\u001b[A\n",
      "  0%|          | 0/4411532 [00:00<?, ?it/s]\u001b[A\n",
      "  2%|▏         | 86946/4411532 [00:00<00:05, 837123.89it/s]\u001b[A\n",
      "  4%|▍         | 170883/4411532 [00:00<00:05, 837794.91it/s]\u001b[A\n",
      "  6%|▌         | 245154/4411532 [00:00<00:05, 806806.62it/s]\u001b[A\n",
      "  8%|▊         | 346256/4411532 [00:00<00:04, 831296.84it/s]\u001b[A\n",
      " 10%|▉         | 440485/4411532 [00:00<00:04, 861747.77it/s]\u001b[A\n",
      " 12%|█▏        | 532081/4411532 [00:00<00:04, 873808.71it/s]\u001b[A\n",
      " 14%|█▍        | 635158/4411532 [00:00<00:04, 893244.49it/s]\u001b[A\n",
      " 17%|█▋        | 732164/4411532 [00:00<00:04, 879365.24it/s]\u001b[A\n",
      " 19%|█▉        | 839864/4411532 [00:00<00:03, 930594.99it/s]\u001b[A\n",
      " 21%|██        | 932588/4411532 [00:01<00:03, 929584.88it/s]\u001b[A\n",
      " 23%|██▎       | 1024452/4411532 [00:01<00:03, 926273.06it/s]\u001b[A\n",
      " 26%|██▌       | 1130148/4411532 [00:01<00:03, 961954.73it/s]\u001b[A\n",
      " 28%|██▊       | 1235489/4411532 [00:01<00:03, 987677.60it/s]\u001b[A\n",
      " 30%|███       | 1334114/4411532 [00:01<00:03, 962379.47it/s]\u001b[A\n",
      " 32%|███▏      | 1430395/4411532 [00:01<00:03, 954116.83it/s]\u001b[A\n",
      " 35%|███▍      | 1532687/4411532 [00:01<00:02, 973765.53it/s]\u001b[A\n",
      " 37%|███▋      | 1630195/4411532 [00:01<00:02, 967020.90it/s]\u001b[A\n",
      " 39%|███▉      | 1737866/4411532 [00:01<00:02, 968272.60it/s]\u001b[A\n",
      " 42%|████▏     | 1840605/4411532 [00:01<00:02, 985280.51it/s]\u001b[A\n",
      " 44%|████▍     | 1939428/4411532 [00:02<00:02, 976384.13it/s]\u001b[A\n",
      " 46%|████▋     | 2044946/4411532 [00:02<00:02, 956224.74it/s]\u001b[A\n",
      " 49%|████▉     | 2151112/4411532 [00:02<00:02, 985588.50it/s]\u001b[A\n",
      " 51%|█████     | 2250014/4411532 [00:02<00:02, 963296.06it/s]\u001b[A\n",
      " 53%|█████▎    | 2356620/4411532 [00:02<00:02, 962706.85it/s]\u001b[A\n",
      " 56%|█████▌    | 2455648/4411532 [00:02<00:02, 969759.09it/s]\u001b[A\n",
      " 58%|█████▊    | 2561287/4411532 [00:02<00:01, 960112.64it/s]\u001b[A\n",
      " 60%|██████    | 2665155/4411532 [00:02<00:01, 982404.78it/s]\u001b[A\n",
      " 63%|██████▎   | 2763629/4411532 [00:02<00:01, 970160.24it/s]\u001b[A\n",
      " 65%|██████▌   | 2871277/4411532 [00:03<00:01, 975651.78it/s]\u001b[A\n",
      " 67%|██████▋   | 2969182/4411532 [00:03<00:01, 970110.55it/s]\u001b[A\n",
      " 70%|██████▉   | 3073062/4411532 [00:03<00:01, 977925.95it/s]\u001b[A\n",
      " 72%|███████▏  | 3178196/4411532 [00:03<00:01, 980609.66it/s]\u001b[A\n",
      " 74%|███████▍  | 3286311/4411532 [00:03<00:01, 1008750.91it/s]\u001b[A\n",
      " 77%|███████▋  | 3387435/4411532 [00:03<00:01, 972474.29it/s] \u001b[A\n",
      " 79%|███████▉  | 3489773/4411532 [00:03<00:00, 987205.78it/s]\u001b[A\n",
      " 81%|████████▏ | 3588866/4411532 [00:03<00:00, 964672.11it/s]\u001b[A\n",
      " 84%|████████▍ | 3697128/4411532 [00:03<00:00, 969008.77it/s]\u001b[A\n",
      " 86%|████████▌ | 3802268/4411532 [00:03<00:00, 992335.90it/s]\u001b[A\n",
      " 88%|████████▊ | 3901828/4411532 [00:04<00:00, 989307.42it/s]\u001b[A\n",
      " 91%|█████████ | 4000989/4411532 [00:04<00:00, 966471.52it/s]\u001b[A\n",
      " 93%|█████████▎| 4105460/4411532 [00:04<00:00, 976158.57it/s]\u001b[A\n",
      " 95%|█████████▌| 4205883/4411532 [00:04<00:00, 984413.41it/s]\u001b[A\n",
      " 98%|█████████▊| 4304494/4411532 [00:04<00:00, 970716.92it/s]\u001b[A\n",
      "100%|█████████▉| 4407583/4411532 [00:04<00:00, 961946.72it/s]\u001b[A\n",
      "  8%|▊         | 3/36 [00:17<03:17,  5.98s/it] 955747.81it/s]\u001b[A\n",
      "  0%|          | 0/4411532 [00:00<?, ?it/s]\u001b[A\n",
      "  2%|▏         | 86843/4411532 [00:00<00:05, 818109.20it/s]\u001b[A\n",
      "  4%|▍         | 173560/4411532 [00:00<00:05, 832233.58it/s]\u001b[A\n",
      "  6%|▌         | 251110/4411532 [00:00<00:05, 814359.64it/s]\u001b[A\n",
      "  8%|▊         | 344155/4411532 [00:00<00:04, 836900.94it/s]\u001b[A\n",
      " 10%|▉         | 440337/4411532 [00:00<00:04, 870829.98it/s]\u001b[A\n",
      " 12%|█▏        | 533855/4411532 [00:00<00:04, 887107.98it/s]\u001b[A\n",
      " 14%|█▍        | 629265/4411532 [00:00<00:04, 906196.16it/s]\u001b[A\n",
      " 16%|█▋        | 719688/4411532 [00:00<00:04, 905604.38it/s]\u001b[A\n",
      " 19%|█▊        | 824617/4411532 [00:00<00:03, 923736.86it/s]\u001b[A\n",
      " 21%|██        | 925007/4411532 [00:01<00:03, 946406.90it/s]\u001b[A\n",
      " 23%|██▎       | 1029286/4411532 [00:01<00:03, 931429.31it/s]\u001b[A\n",
      " 26%|██▌       | 1130317/4411532 [00:01<00:03, 953768.79it/s]\u001b[A\n",
      " 28%|██▊       | 1225626/4411532 [00:01<00:03, 953564.64it/s]\u001b[A\n",
      " 30%|███       | 1328935/4411532 [00:01<00:03, 976105.24it/s]\u001b[A\n",
      " 32%|███▏      | 1426288/4411532 [00:01<00:03, 973630.57it/s]\u001b[A\n",
      " 35%|███▍      | 1523472/4411532 [00:01<00:03, 936907.70it/s]\u001b[A\n",
      " 37%|███▋      | 1625561/4411532 [00:01<00:02, 960614.46it/s]\u001b[A\n",
      " 39%|███▉      | 1726057/4411532 [00:01<00:02, 973501.27it/s]\u001b[A\n",
      " 41%|████▏     | 1823637/4411532 [00:01<00:02, 952396.76it/s]\u001b[A\n",
      " 44%|████▎     | 1929936/4411532 [00:02<00:02, 983078.91it/s]\u001b[A\n",
      " 46%|████▌     | 2028678/4411532 [00:02<00:02, 956252.91it/s]\u001b[A\n",
      " 48%|████▊     | 2136629/4411532 [00:02<00:02, 950567.65it/s]\u001b[A\n",
      " 51%|█████     | 2236946/4411532 [00:02<00:02, 965758.80it/s]\u001b[A\n",
      " 53%|█████▎    | 2343830/4411532 [00:02<00:02, 952694.03it/s]\u001b[A\n",
      " 55%|█████▌    | 2446143/4411532 [00:02<00:02, 972784.65it/s]\u001b[A\n",
      " 58%|█████▊    | 2551342/4411532 [00:02<00:01, 995263.91it/s]\u001b[A\n",
      " 60%|██████    | 2651189/4411532 [00:02<00:01, 979663.48it/s]\u001b[A\n",
      " 62%|██████▏   | 2749435/4411532 [00:02<00:01, 967962.19it/s]\u001b[A\n",
      " 65%|██████▍   | 2846459/4411532 [00:03<00:01, 956507.38it/s]\u001b[A\n",
      " 67%|██████▋   | 2955505/4411532 [00:03<00:01, 974994.88it/s]\u001b[A\n",
      " 69%|██████▉   | 3053974/4411532 [00:03<00:01, 963534.26it/s]\u001b[A\n",
      " 72%|███████▏  | 3157739/4411532 [00:03<00:01, 968090.56it/s]\u001b[A\n",
      " 74%|███████▍  | 3257255/4411532 [00:03<00:01, 976054.40it/s]\u001b[A\n",
      " 76%|███████▌  | 3361172/4411532 [00:03<00:01, 964091.22it/s]\u001b[A\n",
      " 78%|███████▊  | 3462771/4411532 [00:03<00:00, 979095.05it/s]\u001b[A\n",
      " 81%|████████  | 3561866/4411532 [00:03<00:00, 966160.31it/s]\u001b[A\n",
      " 83%|████████▎ | 3668981/4411532 [00:03<00:00, 962782.32it/s]\u001b[A\n",
      " 85%|████████▌ | 3765355/4411532 [00:03<00:00, 944590.07it/s]\u001b[A\n",
      " 87%|████████▋ | 3859958/4411532 [00:04<00:00, 940484.72it/s]\u001b[A\n",
      " 90%|████████▉ | 3954112/4411532 [00:04<00:00, 882092.81it/s]\u001b[A\n",
      " 92%|█████████▏| 4046389/4411532 [00:04<00:00, 893914.00it/s]\u001b[A\n",
      " 94%|█████████▍| 4151171/4411532 [00:04<00:00, 931156.61it/s]\u001b[A\n",
      " 96%|█████████▋| 4248556/4411532 [00:04<00:00, 932567.52it/s]\u001b[A\n",
      " 99%|█████████▊| 4354888/4411532 [00:04<00:00, 949309.84it/s]\u001b[A\n",
      " 11%|█         | 4/36 [00:23<03:10,  5.95s/it] 945918.53it/s]\u001b[A\n",
      "  0%|          | 0/4411532 [00:00<?, ?it/s]\u001b[A\n",
      "  2%|▏         | 87831/4411532 [00:00<00:05, 851109.35it/s]\u001b[A\n",
      "  4%|▍         | 183968/4411532 [00:00<00:04, 881436.92it/s]\u001b[A\n",
      "  6%|▌         | 257798/4411532 [00:00<00:04, 832986.14it/s]\u001b[A\n",
      "  8%|▊         | 352649/4411532 [00:00<00:04, 846071.40it/s]\u001b[A\n",
      " 10%|█         | 447559/4411532 [00:00<00:04, 874551.32it/s]\u001b[A\n",
      " 12%|█▏        | 549401/4411532 [00:00<00:04, 886417.11it/s]\u001b[A\n",
      " 15%|█▍        | 644316/4411532 [00:00<00:04, 904348.28it/s]\u001b[A\n",
      " 17%|█▋        | 748883/4411532 [00:00<00:04, 914327.28it/s]\u001b[A\n",
      " 19%|█▉        | 851411/4411532 [00:00<00:03, 945006.03it/s]\u001b[A\n",
      " 21%|██▏       | 942968/4411532 [00:01<00:03, 934748.37it/s]\u001b[A\n",
      " 24%|██▍       | 1049639/4411532 [00:01<00:03, 950335.07it/s]\u001b[A\n",
      " 26%|██▌       | 1143851/4411532 [00:01<00:03, 947855.14it/s]\u001b[A\n",
      " 28%|██▊       | 1250813/4411532 [00:01<00:03, 964941.65it/s]\u001b[A\n",
      " 31%|███       | 1355163/4411532 [00:01<00:03, 972584.60it/s]\u001b[A\n",
      " 33%|███▎      | 1459541/4411532 [00:01<00:03, 977962.23it/s]\u001b[A\n",
      " 35%|███▌      | 1562248/4411532 [00:01<00:02, 992193.20it/s]\u001b[A\n",
      " 38%|███▊      | 1661327/4411532 [00:01<00:02, 978109.42it/s]\u001b[A\n",
      " 40%|████      | 1768794/4411532 [00:01<00:02, 980293.37it/s]\u001b[A\n",
      " 42%|████▏     | 1868141/4411532 [00:01<00:02, 983764.35it/s]\u001b[A\n",
      " 45%|████▍     | 1976580/4411532 [00:02<00:02, 975694.95it/s]\u001b[A\n",
      " 47%|████▋     | 2080997/4411532 [00:02<00:02, 995274.45it/s]\u001b[A\n",
      " 49%|████▉     | 2180621/4411532 [00:02<00:02, 994490.14it/s]\u001b[A\n",
      " 52%|█████▏    | 2284389/4411532 [00:02<00:02, 1007063.70it/s]\u001b[A\n",
      " 54%|█████▍    | 2385181/4411532 [00:02<00:02, 991239.07it/s] \u001b[A\n",
      " 56%|█████▋    | 2487947/4411532 [00:02<00:01, 978089.74it/s]\u001b[A\n",
      " 59%|█████▊    | 2585877/4411532 [00:02<00:01, 959861.41it/s]\u001b[A\n",
      " 61%|██████    | 2685701/4411532 [00:02<00:01, 971061.11it/s]\u001b[A\n",
      " 63%|██████▎   | 2783970/4411532 [00:02<00:01, 974518.98it/s]\u001b[A\n",
      " 66%|██████▌   | 2890847/4411532 [00:03<00:01, 1001001.00it/s]\u001b[A\n",
      " 68%|██████▊   | 2991199/4411532 [00:03<00:01, 969493.52it/s] \u001b[A\n",
      " 70%|███████   | 3098132/4411532 [00:03<00:01, 956860.41it/s]\u001b[A\n",
      " 73%|███████▎  | 3201011/4411532 [00:03<00:01, 977360.15it/s]\u001b[A\n",
      " 75%|███████▍  | 3299073/4411532 [00:03<00:01, 964143.30it/s]\u001b[A\n",
      " 77%|███████▋  | 3399983/4411532 [00:03<00:01, 957298.88it/s]\u001b[A\n",
      " 79%|███████▉  | 3500708/4411532 [00:03<00:00, 971755.09it/s]\u001b[A\n",
      " 82%|████████▏ | 3602966/4411532 [00:03<00:00, 986463.64it/s]\u001b[A\n",
      " 84%|████████▍ | 3709618/4411532 [00:03<00:00, 1009188.43it/s]\u001b[A\n",
      " 86%|████████▋ | 3810798/4411532 [00:03<00:00, 974121.91it/s] \u001b[A\n",
      " 89%|████████▊ | 3908656/4411532 [00:04<00:00, 965900.88it/s]\u001b[A\n",
      " 91%|█████████ | 4016669/4411532 [00:04<00:00, 969625.70it/s]\u001b[A\n",
      " 93%|█████████▎| 4118614/4411532 [00:04<00:00, 982622.80it/s]\u001b[A\n",
      " 96%|█████████▌| 4224977/4411532 [00:04<00:00, 1005598.64it/s]\u001b[A\n",
      " 98%|█████████▊| 4325813/4411532 [00:04<00:00, 970935.84it/s] \u001b[A\n",
      " 14%|█▍        | 5/36 [00:29<03:02,  5.90s/it] 964744.59it/s]\u001b[A\n",
      "  0%|          | 0/4411532 [00:00<?, ?it/s]\u001b[A\n",
      "  2%|▏         | 87004/4411532 [00:00<00:05, 823253.76it/s]\u001b[A\n",
      "  4%|▍         | 172336/4411532 [00:00<00:05, 832047.86it/s]\u001b[A\n",
      "  6%|▌         | 255933/4411532 [00:00<00:04, 833219.68it/s]\u001b[A\n",
      "  8%|▊         | 340711/4411532 [00:00<00:04, 831443.94it/s]\u001b[A\n",
      " 10%|▉         | 431486/4411532 [00:00<00:04, 847012.76it/s]\u001b[A\n",
      " 12%|█▏        | 524984/4411532 [00:00<00:04, 871612.90it/s]\u001b[A\n",
      " 14%|█▍        | 625457/4411532 [00:00<00:04, 892640.18it/s]\u001b[A\n",
      " 16%|█▋        | 722018/4411532 [00:00<00:04, 913345.29it/s]\u001b[A\n",
      " 19%|█▊        | 819188/4411532 [00:00<00:03, 930101.25it/s]\u001b[A\n",
      " 21%|██        | 919953/4411532 [00:01<00:03, 952081.27it/s]\u001b[A\n",
      " 23%|██▎       | 1013576/4411532 [00:01<00:03, 947269.40it/s]\u001b[A\n",
      " 25%|██▌       | 1114144/4411532 [00:01<00:03, 964067.12it/s]\u001b[A\n",
      " 27%|██▋       | 1209654/4411532 [00:01<00:03, 918570.33it/s]\u001b[A\n",
      " 29%|██▉       | 1301335/4411532 [00:01<00:03, 909977.14it/s]\u001b[A\n",
      " 32%|███▏      | 1406551/4411532 [00:01<00:03, 927410.57it/s]\u001b[A\n",
      " 34%|███▍      | 1507349/4411532 [00:01<00:03, 941359.53it/s]\u001b[A\n",
      " 36%|███▋      | 1608159/4411532 [00:01<00:02, 953983.21it/s]\u001b[A\n",
      " 39%|███▉      | 1716193/4411532 [00:01<00:02, 964707.47it/s]\u001b[A\n",
      " 41%|████      | 1816331/4411532 [00:01<00:02, 965654.79it/s]\u001b[A\n",
      " 43%|████▎     | 1915416/4411532 [00:02<00:02, 973076.00it/s]\u001b[A\n",
      " 46%|████▌     | 2014607/4411532 [00:02<00:02, 974522.59it/s]\u001b[A\n",
      " 48%|████▊     | 2113768/4411532 [00:02<00:02, 979585.55it/s]\u001b[A\n",
      " 50%|█████     | 2211761/4411532 [00:02<00:02, 967624.67it/s]\u001b[A\n",
      " 52%|█████▏    | 2316046/4411532 [00:02<00:02, 989027.13it/s]\u001b[A\n",
      " 55%|█████▍    | 2415105/4411532 [00:02<00:02, 979048.08it/s]\u001b[A\n",
      " 57%|█████▋    | 2513143/4411532 [00:02<00:01, 970121.60it/s]\u001b[A\n",
      " 59%|█████▉    | 2616206/4411532 [00:02<00:01, 987514.32it/s]\u001b[A\n",
      " 62%|██████▏   | 2715112/4411532 [00:02<00:01, 975310.76it/s]\u001b[A\n",
      " 64%|██████▍   | 2813529/4411532 [00:02<00:01, 965916.09it/s]\u001b[A\n",
      " 66%|██████▌   | 2919960/4411532 [00:03<00:01, 993467.81it/s]\u001b[A\n",
      " 69%|██████▊   | 3026819/4411532 [00:03<00:01, 983189.57it/s]\u001b[A\n",
      " 71%|███████   | 3125359/4411532 [00:03<00:01, 971883.00it/s]\u001b[A\n",
      " 73%|███████▎  | 3232562/4411532 [00:03<00:01, 980031.44it/s]\u001b[A\n",
      " 76%|███████▌  | 3335738/4411532 [00:03<00:01, 979865.02it/s]\u001b[A\n",
      " 78%|███████▊  | 3442054/4411532 [00:03<00:00, 1003449.01it/s]\u001b[A\n",
      " 80%|████████  | 3542611/4411532 [00:03<00:00, 987122.30it/s] \u001b[A\n",
      " 83%|████████▎ | 3644451/4411532 [00:03<00:00, 989860.73it/s]\u001b[A\n",
      " 85%|████████▍ | 3743585/4411532 [00:03<00:00, 978265.12it/s]\u001b[A\n",
      " 87%|████████▋ | 3843048/4411532 [00:04<00:00, 983117.34it/s]\u001b[A\n",
      " 89%|████████▉ | 3947457/4411532 [00:04<00:00, 1000647.65it/s]\u001b[A\n",
      " 92%|█████████▏| 4047668/4411532 [00:04<00:00, 961975.66it/s] \u001b[A\n",
      " 94%|█████████▍| 4144288/4411532 [00:04<00:00, 954630.38it/s]\u001b[A\n",
      " 96%|█████████▋| 4246868/4411532 [00:04<00:00, 974920.58it/s]\u001b[A\n",
      " 98%|█████████▊| 4344682/4411532 [00:04<00:00, 962208.68it/s]\u001b[A\n",
      " 17%|█▋        | 6/36 [00:35<02:57,  5.92s/it] 953964.11it/s]\u001b[A\n",
      "  0%|          | 0/4411532 [00:00<?, ?it/s]\u001b[A\n",
      "  2%|▏         | 87900/4411532 [00:00<00:05, 848791.37it/s]\u001b[A\n",
      "  4%|▍         | 170979/4411532 [00:00<00:05, 843308.60it/s]\u001b[A\n",
      "  6%|▌         | 260479/4411532 [00:00<00:04, 842138.74it/s]\u001b[A\n",
      "  8%|▊         | 351867/4411532 [00:00<00:04, 862448.98it/s]\u001b[A\n",
      " 10%|█         | 443037/4411532 [00:00<00:04, 848888.28it/s]\u001b[A\n",
      " 12%|█▏        | 541996/4411532 [00:00<00:04, 869657.19it/s]\u001b[A\n",
      " 14%|█▍        | 639664/4411532 [00:00<00:04, 885111.76it/s]\u001b[A\n",
      " 17%|█▋        | 731311/4411532 [00:00<00:04, 894291.20it/s]\u001b[A\n",
      " 19%|█▉        | 827243/4411532 [00:00<00:03, 912854.56it/s]\u001b[A\n",
      " 21%|██        | 923864/4411532 [00:01<00:03, 926452.98it/s]\u001b[A\n",
      " 23%|██▎       | 1028872/4411532 [00:01<00:03, 934210.45it/s]\u001b[A\n",
      " 26%|██▌       | 1130451/4411532 [00:01<00:03, 957272.80it/s]\u001b[A\n",
      " 28%|██▊       | 1225468/4411532 [00:01<00:03, 952925.63it/s]\u001b[A\n",
      " 30%|███       | 1331084/4411532 [00:01<00:03, 962658.07it/s]\u001b[A\n",
      " 32%|███▏      | 1426925/4411532 [00:01<00:03, 959921.27it/s]\u001b[A\n",
      " 35%|███▍      | 1534045/4411532 [00:01<00:02, 963000.55it/s]\u001b[A\n",
      " 37%|███▋      | 1636460/4411532 [00:01<00:02, 978939.91it/s]\u001b[A\n",
      " 40%|███▉      | 1745319/4411532 [00:01<00:02, 981263.45it/s]\u001b[A\n",
      " 42%|████▏     | 1847954/4411532 [00:01<00:02, 994366.14it/s]\u001b[A\n",
      " 44%|████▍     | 1947395/4411532 [00:02<00:02, 983285.36it/s]\u001b[A\n",
      " 46%|████▋     | 2045755/4411532 [00:02<00:02, 972557.08it/s]\u001b[A\n",
      " 49%|████▊     | 2149715/4411532 [00:02<00:02, 991743.02it/s]\u001b[A\n",
      " 51%|█████     | 2252899/4411532 [00:02<00:02, 1003440.62it/s]\u001b[A\n",
      " 54%|█████▎    | 2361407/4411532 [00:02<00:01, 1026610.94it/s]\u001b[A\n",
      " 56%|█████▌    | 2464286/4411532 [00:02<00:01, 981334.27it/s] \u001b[A\n",
      " 58%|█████▊    | 2562994/4411532 [00:02<00:01, 962006.52it/s]\u001b[A\n",
      " 60%|██████    | 2665636/4411532 [00:02<00:01, 980447.58it/s]\u001b[A\n",
      " 63%|██████▎   | 2764108/4411532 [00:02<00:01, 962554.43it/s]\u001b[A\n",
      " 65%|██████▍   | 2864024/4411532 [00:03<00:01, 973250.26it/s]\u001b[A\n",
      " 69%|██████▉   | 3033637/4411532 [00:03<00:01, 1115929.69it/s]\u001b[A\n",
      " 73%|███████▎  | 3213889/4411532 [00:03<00:00, 1259898.47it/s]\u001b[A\n",
      " 77%|███████▋  | 3395636/4411532 [00:03<00:00, 1387606.93it/s]\u001b[A\n",
      " 81%|████████  | 3582063/4411532 [00:03<00:00, 1502885.34it/s]\u001b[A\n",
      " 86%|████████▌ | 3772284/4411532 [00:03<00:00, 1603894.90it/s]\u001b[A\n",
      " 90%|████████▉ | 3950806/4411532 [00:03<00:00, 1638037.78it/s]\u001b[A\n",
      " 93%|█████████▎| 4121589/4411532 [00:03<00:00, 1580188.68it/s]\u001b[A\n",
      " 97%|█████████▋| 4284934/4411532 [00:03<00:00, 1546721.12it/s]\u001b[A\n",
      " 19%|█▉        | 7/36 [00:40<02:44,  5.68s/it] 1114070.24it/s]\u001b[A\n",
      "  0%|          | 0/4411532 [00:00<?, ?it/s]\u001b[A\n",
      "  2%|▏         | 98252/4411532 [00:00<00:04, 966582.91it/s]\u001b[A\n",
      "  5%|▌         | 221803/4411532 [00:00<00:04, 1034108.72it/s]\u001b[A\n",
      "  8%|▊         | 343541/4411532 [00:00<00:03, 1081358.48it/s]\u001b[A\n",
      " 10%|█         | 457313/4411532 [00:00<00:03, 1097670.54it/s]\u001b[A\n",
      " 13%|█▎        | 564404/4411532 [00:00<00:03, 1089502.52it/s]\u001b[A\n",
      " 16%|█▌        | 711729/4411532 [00:00<00:03, 1179619.66it/s]\u001b[A\n",
      " 19%|█▉        | 828468/4411532 [00:00<00:03, 1156097.56it/s]\u001b[A\n",
      " 21%|██▏       | 938764/4411532 [00:00<00:03, 1121214.85it/s]\u001b[A\n",
      " 24%|██▎       | 1046941/4411532 [00:00<00:03, 1103875.51it/s]\u001b[A\n",
      " 26%|██▌       | 1154628/4411532 [00:01<00:03, 1068411.87it/s]\u001b[A\n",
      " 29%|██▉       | 1269887/4411532 [00:01<00:02, 1092344.90it/s]\u001b[A\n",
      " 32%|███▏      | 1407218/4411532 [00:01<00:02, 1157658.14it/s]\u001b[A\n",
      " 35%|███▍      | 1535310/4411532 [00:01<00:02, 1192071.28it/s]\u001b[A\n",
      " 38%|███▊      | 1679385/4411532 [00:01<00:02, 1257168.40it/s]\u001b[A\n",
      " 41%|████      | 1806402/4411532 [00:01<00:02, 1156724.11it/s]\u001b[A\n",
      " 44%|████▍     | 1954778/4411532 [00:01<00:02, 1204434.75it/s]\u001b[A\n",
      " 47%|████▋     | 2077472/4411532 [00:01<00:02, 1160647.29it/s]\u001b[A\n",
      " 51%|█████     | 2249923/4411532 [00:01<00:01, 1286876.62it/s]\u001b[A\n",
      " 55%|█████▌    | 2429850/4411532 [00:01<00:01, 1407087.98it/s]\u001b[A\n",
      " 58%|█████▊    | 2577854/4411532 [00:02<00:01, 1373630.76it/s]\u001b[A\n",
      " 62%|██████▏   | 2720500/4411532 [00:02<00:01, 1242438.78it/s]\u001b[A\n",
      " 65%|██████▍   | 2850833/4411532 [00:02<00:01, 1112265.87it/s]\u001b[A\n",
      " 67%|██████▋   | 2968879/4411532 [00:02<00:01, 1112528.37it/s]\u001b[A\n",
      " 70%|██████▉   | 3084906/4411532 [00:02<00:01, 1096021.72it/s]\u001b[A\n",
      " 72%|███████▏  | 3197905/4411532 [00:02<00:01, 1071394.85it/s]\u001b[A\n",
      " 75%|███████▍  | 3307545/4411532 [00:02<00:01, 1033869.70it/s]\u001b[A\n",
      " 77%|███████▋  | 3412966/4411532 [00:02<00:00, 1015436.70it/s]\u001b[A\n",
      " 80%|███████▉  | 3516007/4411532 [00:03<00:00, 999538.25it/s] \u001b[A\n",
      " 82%|████████▏ | 3617065/4411532 [00:03<00:00, 985150.56it/s]\u001b[A\n",
      " 84%|████████▍ | 3723624/4411532 [00:03<00:00, 1007976.59it/s]\u001b[A\n",
      " 87%|████████▋ | 3825126/4411532 [00:03<00:00, 982309.48it/s] \u001b[A\n",
      " 89%|████████▉ | 3926438/4411532 [00:03<00:00, 984142.00it/s]\u001b[A\n",
      " 91%|█████████▏| 4032749/4411532 [00:03<00:00, 981243.45it/s]\u001b[A\n",
      " 94%|█████████▎| 4135060/4411532 [00:03<00:00, 993437.38it/s]\u001b[A\n",
      " 96%|█████████▌| 4234661/4411532 [00:03<00:00, 977261.65it/s]\u001b[A\n",
      " 98%|█████████▊| 4341260/4411532 [00:03<00:00, 980712.17it/s]\u001b[A\n",
      " 22%|██▏       | 8/36 [00:45<02:31,  5.42s/it] 1113757.28it/s]\u001b[A\n",
      "  0%|          | 0/4411532 [00:00<?, ?it/s]\u001b[A\n",
      "  2%|▏         | 101113/4411532 [00:00<00:04, 907248.30it/s]\u001b[A\n",
      "  4%|▍         | 184961/4411532 [00:00<00:04, 858227.91it/s]\u001b[A\n",
      "  6%|▋         | 277547/4411532 [00:00<00:04, 877455.86it/s]\u001b[A\n",
      "  8%|▊         | 364157/4411532 [00:00<00:04, 866318.21it/s]\u001b[A\n",
      " 10%|█         | 445739/4411532 [00:00<00:04, 850522.02it/s]\u001b[A\n",
      " 12%|█▏        | 533453/4411532 [00:00<00:04, 850202.97it/s]\u001b[A\n",
      " 14%|█▍        | 634210/4411532 [00:00<00:04, 885629.21it/s]\u001b[A\n",
      " 17%|█▋        | 731098/4411532 [00:00<00:04, 888673.50it/s]\u001b[A\n",
      " 19%|█▊        | 823401/4411532 [00:00<00:04, 890462.68it/s]\u001b[A\n",
      " 21%|██        | 924916/4411532 [00:01<00:03, 892145.96it/s]\u001b[A\n",
      " 23%|██▎       | 1023473/4411532 [00:01<00:03, 918258.64it/s]\u001b[A\n",
      " 25%|██▌       | 1113829/4411532 [00:01<00:03, 905102.75it/s]\u001b[A\n",
      " 28%|██▊       | 1216950/4411532 [00:01<00:03, 911675.65it/s]\u001b[A\n",
      " 30%|██▉       | 1312647/4411532 [00:01<00:03, 924806.88it/s]\u001b[A\n",
      " 32%|███▏      | 1404999/4411532 [00:01<00:03, 924418.72it/s]\u001b[A\n",
      " 34%|███▍      | 1497140/4411532 [00:01<00:03, 915228.85it/s]\u001b[A\n",
      " 36%|███▌      | 1590406/4411532 [00:01<00:03, 912259.59it/s]\u001b[A\n",
      " 38%|███▊      | 1692061/4411532 [00:01<00:02, 920503.17it/s]\u001b[A\n",
      " 41%|████      | 1787928/4411532 [00:01<00:02, 931629.23it/s]\u001b[A\n",
      " 43%|████▎     | 1886516/4411532 [00:02<00:02, 930600.66it/s]\u001b[A\n",
      " 45%|████▍     | 1983727/4411532 [00:02<00:02, 942013.50it/s]\u001b[A\n",
      " 47%|████▋     | 2087297/4411532 [00:02<00:02, 968289.75it/s]\u001b[A\n",
      " 50%|████▉     | 2184326/4411532 [00:02<00:02, 945555.64it/s]\u001b[A\n",
      " 52%|█████▏    | 2280157/4411532 [00:02<00:02, 924183.37it/s]\u001b[A\n",
      " 54%|█████▍    | 2384055/4411532 [00:02<00:02, 955866.43it/s]\u001b[A\n",
      " 56%|█████▌    | 2480199/4411532 [00:02<00:02, 954877.13it/s]\u001b[A\n",
      " 59%|█████▊    | 2586007/4411532 [00:02<00:01, 969776.97it/s]\u001b[A\n",
      " 61%|██████    | 2693990/4411532 [00:02<00:01, 1000336.26it/s]\u001b[A\n",
      " 63%|██████▎   | 2794470/4411532 [00:03<00:01, 966938.15it/s] \u001b[A\n",
      " 66%|██████▌   | 2891718/4411532 [00:03<00:01, 965138.65it/s]\u001b[A\n",
      " 68%|██████▊   | 2989252/4411532 [00:03<00:01, 951063.79it/s]\u001b[A\n",
      " 70%|██████▉   | 3084677/4411532 [00:03<00:01, 946600.36it/s]\u001b[A\n",
      " 72%|███████▏  | 3185253/4411532 [00:03<00:01, 963602.65it/s]\u001b[A\n",
      " 75%|███████▍  | 3290843/4411532 [00:03<00:01, 958801.78it/s]\u001b[A\n",
      " 77%|███████▋  | 3391755/4411532 [00:03<00:01, 973361.94it/s]\u001b[A\n",
      " 79%|███████▉  | 3489263/4411532 [00:03<00:00, 951491.77it/s]\u001b[A\n",
      " 81%|████████▏ | 3593663/4411532 [00:03<00:00, 948972.33it/s]\u001b[A\n",
      " 84%|████████▎ | 3691337/4411532 [00:03<00:00, 957135.03it/s]\u001b[A\n",
      " 86%|████████▌ | 3787181/4411532 [00:04<00:00, 947369.23it/s]\u001b[A\n",
      " 88%|████████▊ | 3893319/4411532 [00:04<00:00, 951995.99it/s]\u001b[A\n",
      " 90%|█████████ | 3991908/4411532 [00:04<00:00, 957958.88it/s]\u001b[A\n",
      " 93%|█████████▎| 4099123/4411532 [00:04<00:00, 956931.81it/s]\u001b[A\n",
      " 95%|█████████▌| 4202368/4411532 [00:04<00:00, 978400.86it/s]\u001b[A\n",
      " 97%|█████████▋| 4300361/4411532 [00:04<00:00, 969545.82it/s]\u001b[A\n",
      "100%|█████████▉| 4408426/4411532 [00:04<00:00, 975395.52it/s]\u001b[A\n",
      " 25%|██▌       | 9/36 [00:51<02:30,  5.56s/it] 935157.80it/s]\u001b[A\n",
      "  0%|          | 0/4411532 [00:00<?, ?it/s]\u001b[A\n",
      "  2%|▏         | 87789/4411532 [00:00<00:05, 790986.60it/s]\u001b[A\n",
      "  4%|▍         | 178461/4411532 [00:00<00:05, 822480.63it/s]\u001b[A\n",
      "  6%|▌         | 256393/4411532 [00:00<00:05, 809037.11it/s]\u001b[A\n",
      "  8%|▊         | 343439/4411532 [00:00<00:04, 819531.26it/s]\u001b[A\n",
      " 10%|▉         | 440380/4411532 [00:00<00:04, 859391.65it/s]\u001b[A\n",
      " 12%|█▏        | 534433/4411532 [00:00<00:04, 882223.80it/s]\u001b[A\n",
      " 14%|█▍        | 625461/4411532 [00:00<00:04, 890457.00it/s]\u001b[A\n",
      " 16%|█▋        | 725024/4411532 [00:00<00:04, 904097.32it/s]\u001b[A\n",
      " 19%|█▉        | 829397/4411532 [00:00<00:03, 917080.55it/s]\u001b[A\n",
      " 21%|██        | 918215/4411532 [00:01<00:03, 892168.23it/s]\u001b[A\n",
      " 23%|██▎       | 1005558/4411532 [00:01<00:04, 807259.42it/s]\u001b[A\n",
      " 25%|██▍       | 1086515/4411532 [00:01<00:04, 767938.03it/s]\u001b[A\n",
      " 26%|██▋       | 1164281/4411532 [00:01<00:04, 763315.61it/s]\u001b[A\n",
      " 29%|██▊       | 1260571/4411532 [00:01<00:03, 813926.69it/s]\u001b[A\n",
      " 31%|███       | 1352337/4411532 [00:01<00:03, 842496.87it/s]\u001b[A\n",
      " 33%|███▎      | 1447368/4411532 [00:01<00:03, 872180.79it/s]\u001b[A\n",
      " 35%|███▌      | 1552469/4411532 [00:01<00:03, 904391.35it/s]\u001b[A\n",
      " 38%|███▊      | 1655825/4411532 [00:01<00:02, 925550.43it/s]\u001b[A\n",
      " 40%|███▉      | 1758931/4411532 [00:02<00:02, 941422.77it/s]\u001b[A\n",
      " 42%|████▏     | 1861790/4411532 [00:02<00:02, 962703.52it/s]\u001b[A\n",
      " 44%|████▍     | 1958638/4411532 [00:02<00:02, 957426.64it/s]\u001b[A\n",
      " 47%|████▋     | 2067213/4411532 [00:02<00:02, 970930.00it/s]\u001b[A\n",
      " 49%|████▉     | 2169662/4411532 [00:02<00:02, 986400.20it/s]\u001b[A\n",
      " 52%|█████▏    | 2279249/4411532 [00:02<00:02, 986467.14it/s]\u001b[A\n",
      " 54%|█████▍    | 2382898/4411532 [00:02<00:02, 1000958.47it/s]\u001b[A\n",
      " 56%|█████▋    | 2483189/4411532 [00:02<00:01, 982086.99it/s] \u001b[A\n",
      " 59%|█████▊    | 2590241/4411532 [00:02<00:01, 973080.50it/s]\u001b[A\n",
      " 61%|██████    | 2690349/4411532 [00:02<00:01, 981313.40it/s]\u001b[A\n",
      " 63%|██████▎   | 2795703/4411532 [00:03<00:01, 1001919.30it/s]\u001b[A\n",
      " 66%|██████▌   | 2896097/4411532 [00:03<00:01, 973112.12it/s] \u001b[A\n",
      " 68%|██████▊   | 2997459/4411532 [00:03<00:01, 984918.62it/s]\u001b[A\n",
      " 70%|███████   | 3096211/4411532 [00:03<00:01, 974650.06it/s]\u001b[A\n",
      " 72%|███████▏  | 3193883/4411532 [00:03<00:01, 972533.07it/s]\u001b[A\n",
      " 75%|███████▍  | 3291282/4411532 [00:03<00:01, 884223.92it/s]\u001b[A\n",
      " 77%|███████▋  | 3381351/4411532 [00:03<00:01, 785147.72it/s]\u001b[A\n",
      " 79%|███████▊  | 3464030/4411532 [00:03<00:01, 797192.32it/s]\u001b[A\n",
      " 80%|████████  | 3546038/4411532 [00:03<00:01, 732780.79it/s]\u001b[A\n",
      " 82%|████████▏ | 3621940/4411532 [00:04<00:01, 723361.30it/s]\u001b[A\n",
      " 84%|████████▍ | 3696141/4411532 [00:04<00:01, 686034.37it/s]\u001b[A\n",
      " 85%|████████▌ | 3766451/4411532 [00:04<00:00, 666005.61it/s]\u001b[A\n",
      " 87%|████████▋ | 3834374/4411532 [00:04<00:00, 646947.72it/s]\u001b[A\n",
      " 89%|████████▊ | 3908991/4411532 [00:04<00:00, 649976.21it/s]\u001b[A\n",
      " 90%|█████████ | 3976010/4411532 [00:04<00:00, 651101.46it/s]\u001b[A\n",
      " 92%|█████████▏| 4049915/4411532 [00:04<00:00, 642481.99it/s]\u001b[A\n",
      " 93%|█████████▎| 4114550/4411532 [00:04<00:00, 603618.54it/s]\u001b[A\n",
      " 95%|█████████▍| 4179617/4411532 [00:05<00:00, 588352.11it/s]\u001b[A\n",
      " 97%|█████████▋| 4263300/4411532 [00:05<00:00, 645885.64it/s]\u001b[A\n",
      " 99%|█████████▊| 4354378/4411532 [00:05<00:00, 705574.70it/s]\u001b[A\n",
      " 28%|██▊       | 10/36 [00:57<02:31,  5.83s/it]836492.28it/s]\u001b[A\n",
      "  0%|          | 0/4411532 [00:00<?, ?it/s]\u001b[A\n",
      "  2%|▏         | 87457/4411532 [00:00<00:05, 846079.72it/s]\u001b[A\n",
      "  4%|▍         | 172333/4411532 [00:00<00:05, 846881.05it/s]\u001b[A\n",
      "  6%|▌         | 248853/4411532 [00:00<00:05, 820601.55it/s]\u001b[A\n",
      "  8%|▊         | 345292/4411532 [00:00<00:04, 834487.15it/s]\u001b[A\n",
      " 10%|▉         | 439999/4411532 [00:00<00:04, 865346.68it/s]\u001b[A\n",
      " 12%|█▏        | 540204/4411532 [00:00<00:04, 875946.99it/s]\u001b[A\n",
      " 14%|█▍        | 631435/4411532 [00:00<00:04, 886547.48it/s]\u001b[A\n",
      " 16%|█▋        | 723090/4411532 [00:00<00:04, 895338.94it/s]\u001b[A\n",
      " 19%|█▊        | 821107/4411532 [00:00<00:03, 919204.99it/s]\u001b[A\n",
      " 21%|██        | 925683/4411532 [00:01<00:03, 926630.47it/s]\u001b[A\n",
      " 23%|██▎       | 1019767/4411532 [00:01<00:03, 928809.43it/s]\u001b[A\n",
      " 25%|██▌       | 1124662/4411532 [00:01<00:03, 948922.80it/s]\u001b[A\n",
      " 28%|██▊       | 1228362/4411532 [00:01<00:03, 943165.87it/s]\u001b[A\n",
      " 30%|███       | 1329635/4411532 [00:01<00:03, 963009.50it/s]\u001b[A\n",
      " 32%|███▏      | 1425577/4411532 [00:01<00:03, 961133.33it/s]\u001b[A\n",
      " 34%|███▍      | 1521440/4411532 [00:01<00:03, 959565.75it/s]\u001b[A\n",
      " 37%|███▋      | 1617222/4411532 [00:01<00:02, 934637.53it/s]\u001b[A\n",
      " 39%|███▉      | 1710706/4411532 [00:01<00:03, 850885.58it/s]\u001b[A\n",
      " 41%|████      | 1797257/4411532 [00:02<00:03, 775494.63it/s]\u001b[A\n",
      " 43%|████▎     | 1877122/4411532 [00:02<00:03, 772014.89it/s]\u001b[A\n",
      " 45%|████▍     | 1966586/4411532 [00:02<00:03, 801932.08it/s]\u001b[A\n",
      " 47%|████▋     | 2069388/4411532 [00:02<00:02, 832811.21it/s]\u001b[A\n",
      " 49%|████▉     | 2169074/4411532 [00:02<00:02, 876061.21it/s]\u001b[A\n",
      " 51%|█████     | 2258944/4411532 [00:02<00:02, 882731.19it/s]\u001b[A\n",
      " 53%|█████▎    | 2351628/4411532 [00:02<00:02, 895516.25it/s]\u001b[A\n",
      " 56%|█████▌    | 2448590/4411532 [00:02<00:02, 914912.84it/s]\u001b[A\n",
      " 58%|█████▊    | 2552046/4411532 [00:02<00:01, 932879.69it/s]\u001b[A\n",
      " 60%|██████    | 2649535/4411532 [00:02<00:01, 943122.29it/s]\u001b[A\n",
      " 62%|██████▏   | 2756310/4411532 [00:03<00:01, 950696.44it/s]\u001b[A\n",
      " 65%|██████▍   | 2853421/4411532 [00:03<00:01, 953854.65it/s]\u001b[A\n",
      " 67%|██████▋   | 2957272/4411532 [00:03<00:01, 951782.60it/s]\u001b[A\n",
      " 69%|██████▉   | 3056156/4411532 [00:03<00:01, 962604.46it/s]\u001b[A\n",
      " 71%|███████▏  | 3152552/4411532 [00:03<00:01, 947188.42it/s]\u001b[A\n",
      " 74%|███████▎  | 3247421/4411532 [00:03<00:01, 934839.54it/s]\u001b[A\n",
      " 76%|███████▌  | 3350504/4411532 [00:03<00:01, 957590.76it/s]\u001b[A\n",
      " 78%|███████▊  | 3455992/4411532 [00:03<00:00, 959265.99it/s]\u001b[A\n",
      " 81%|████████  | 3555322/4411532 [00:03<00:00, 969227.01it/s]\u001b[A\n",
      " 83%|████████▎ | 3652386/4411532 [00:04<00:00, 955519.98it/s]\u001b[A\n",
      " 85%|████████▍ | 3748081/4411532 [00:04<00:00, 941978.97it/s]\u001b[A\n",
      " 87%|████████▋ | 3848002/4411532 [00:04<00:00, 958441.55it/s]\u001b[A\n",
      " 90%|████████▉ | 3948538/4411532 [00:04<00:00, 953868.27it/s]\u001b[A\n",
      " 92%|█████████▏| 4044755/4411532 [00:04<00:00, 946478.29it/s]\u001b[A\n",
      " 94%|█████████▍| 4139503/4411532 [00:04<00:00, 945019.35it/s]\u001b[A\n",
      " 96%|█████████▌| 4234076/4411532 [00:04<00:00, 933010.11it/s]\u001b[A\n",
      " 98%|█████████▊| 4327461/4411532 [00:04<00:00, 929892.86it/s]\u001b[A\n",
      " 31%|███       | 11/36 [01:03<02:28,  5.92s/it]908382.45it/s]\u001b[A\n",
      "  0%|          | 0/4411532 [00:00<?, ?it/s]\u001b[A\n",
      "  2%|▏         | 84754/4411532 [00:00<00:05, 825558.97it/s]\u001b[A\n",
      "  4%|▍         | 168209/4411532 [00:00<00:05, 826764.81it/s]\u001b[A\n",
      "  6%|▌         | 259788/4411532 [00:00<00:04, 839524.39it/s]\u001b[A\n",
      "  8%|▊         | 352670/4411532 [00:00<00:04, 837710.07it/s]\u001b[A\n",
      " 10%|█         | 450680/4411532 [00:00<00:04, 846791.82it/s]\u001b[A\n",
      " 12%|█▏        | 548307/4411532 [00:00<00:04, 881879.36it/s]\u001b[A\n",
      " 14%|█▍        | 639097/4411532 [00:00<00:04, 887407.85it/s]\u001b[A\n",
      " 17%|█▋        | 740628/4411532 [00:00<00:04, 899745.77it/s]\u001b[A\n",
      " 19%|█▉        | 841333/4411532 [00:00<00:03, 929455.11it/s]\u001b[A\n",
      " 21%|██▏       | 946138/4411532 [00:01<00:03, 933347.83it/s]\u001b[A\n",
      " 24%|██▎       | 1043794/4411532 [00:01<00:03, 945015.70it/s]\u001b[A\n",
      " 26%|██▌       | 1148738/4411532 [00:01<00:03, 944601.07it/s]\u001b[A\n",
      " 28%|██▊       | 1251708/4411532 [00:01<00:03, 968615.24it/s]\u001b[A\n",
      " 31%|███       | 1348041/4411532 [00:01<00:03, 955475.92it/s]\u001b[A\n",
      " 33%|███▎      | 1454635/4411532 [00:01<00:03, 962782.82it/s]\u001b[A\n",
      " 35%|███▌      | 1555293/4411532 [00:01<00:02, 975515.41it/s]\u001b[A\n",
      " 37%|███▋      | 1652733/4411532 [00:01<00:02, 970214.38it/s]\u001b[A\n",
      " 40%|███▉      | 1749683/4411532 [00:01<00:02, 963124.42it/s]\u001b[A\n",
      " 42%|████▏     | 1859019/4411532 [00:01<00:02, 974082.92it/s]\u001b[A\n",
      " 44%|████▍     | 1958660/4411532 [00:02<00:02, 971320.86it/s]\u001b[A\n",
      " 47%|████▋     | 2055797/4411532 [00:02<00:02, 969282.44it/s]\u001b[A\n",
      " 49%|████▉     | 2164591/4411532 [00:02<00:02, 1002068.34it/s]\u001b[A\n",
      " 51%|█████▏    | 2265082/4411532 [00:02<00:02, 975098.48it/s] \u001b[A\n",
      " 54%|█████▎    | 2362950/4411532 [00:02<00:02, 964130.65it/s]\u001b[A\n",
      " 56%|█████▌    | 2470927/4411532 [00:02<00:01, 970590.68it/s]\u001b[A\n",
      " 58%|█████▊    | 2568192/4411532 [00:02<00:01, 963116.62it/s]\u001b[A\n",
      " 61%|██████    | 2671033/4411532 [00:02<00:01, 959029.15it/s]\u001b[A\n",
      " 63%|██████▎   | 2770007/4411532 [00:02<00:01, 968039.33it/s]\u001b[A\n",
      " 65%|██████▍   | 2866911/4411532 [00:03<00:01, 958789.47it/s]\u001b[A\n",
      " 67%|██████▋   | 2971319/4411532 [00:03<00:01, 964419.92it/s]\u001b[A\n",
      " 70%|██████▉   | 3069626/4411532 [00:03<00:01, 969638.72it/s]\u001b[A\n",
      " 72%|███████▏  | 3177163/4411532 [00:03<00:01, 969088.67it/s]\u001b[A\n",
      " 74%|███████▍  | 3279977/4411532 [00:03<00:01, 986078.93it/s]\u001b[A\n",
      " 77%|███████▋  | 3378685/4411532 [00:03<00:01, 984383.95it/s]\u001b[A\n",
      " 79%|███████▉  | 3477195/4411532 [00:03<00:00, 980573.77it/s]\u001b[A\n",
      " 81%|████████  | 3575306/4411532 [00:03<00:00, 978595.24it/s]\u001b[A\n",
      " 83%|████████▎ | 3675638/4411532 [00:03<00:00, 970510.20it/s]\u001b[A\n",
      " 86%|████████▌ | 3778301/4411532 [00:03<00:00, 986690.09it/s]\u001b[A\n",
      " 88%|████████▊ | 3877065/4411532 [00:04<00:00, 975587.14it/s]\u001b[A\n",
      " 90%|█████████ | 3980576/4411532 [00:04<00:00, 969027.14it/s]\u001b[A\n",
      " 93%|█████████▎| 4083485/4411532 [00:04<00:00, 986295.62it/s]\u001b[A\n",
      " 95%|█████████▌| 4191569/4411532 [00:04<00:00, 1012875.01it/s]\u001b[A\n",
      " 97%|█████████▋| 4293125/4411532 [00:04<00:00, 985109.14it/s] \u001b[A\n",
      "100%|█████████▉| 4398267/4411532 [00:04<00:00, 1004106.13it/s]\u001b[A\n",
      " 33%|███▎      | 12/36 [01:09<02:23,  5.97s/it]954680.16it/s] \u001b[A\n",
      "  0%|          | 0/4411532 [00:00<?, ?it/s]\u001b[A\n",
      "  2%|▏         | 85753/4411532 [00:00<00:05, 832001.27it/s]\u001b[A\n",
      "  4%|▍         | 170256/4411532 [00:00<00:05, 835867.16it/s]\u001b[A\n",
      "  6%|▌         | 257743/4411532 [00:00<00:04, 845133.56it/s]\u001b[A\n",
      "  8%|▊         | 339217/4411532 [00:00<00:04, 835779.66it/s]\u001b[A\n",
      " 10%|▉         | 438483/4411532 [00:00<00:04, 863953.05it/s]\u001b[A\n",
      " 12%|█▏        | 529927/4411532 [00:00<00:04, 878502.95it/s]\u001b[A\n",
      " 14%|█▍        | 629519/4411532 [00:00<00:04, 882843.03it/s]\u001b[A\n",
      " 16%|█▋        | 721685/4411532 [00:00<00:04, 894138.80it/s]\u001b[A\n",
      " 19%|█▊        | 822955/4411532 [00:00<00:03, 899436.12it/s]\u001b[A\n",
      " 21%|██        | 922779/4411532 [00:01<00:03, 926959.16it/s]\u001b[A\n",
      " 23%|██▎       | 1013421/4411532 [00:01<00:03, 917492.35it/s]\u001b[A\n",
      " 25%|██▌       | 1117548/4411532 [00:01<00:03, 924575.14it/s]\u001b[A\n",
      " 28%|██▊       | 1217543/4411532 [00:01<00:03, 945966.46it/s]\u001b[A\n",
      " 30%|██▉       | 1311577/4411532 [00:01<00:03, 839807.32it/s]\u001b[A\n",
      " 32%|███▏      | 1397367/4411532 [00:01<00:03, 765801.30it/s]\u001b[A\n",
      " 33%|███▎      | 1476476/4411532 [00:01<00:03, 735546.19it/s]\u001b[A\n",
      " 36%|███▌      | 1573336/4411532 [00:01<00:03, 788041.10it/s]\u001b[A\n",
      " 38%|███▊      | 1660814/4411532 [00:01<00:03, 812200.41it/s]\u001b[A\n",
      " 40%|███▉      | 1763803/4411532 [00:02<00:03, 854058.17it/s]\u001b[A\n",
      " 42%|████▏     | 1869003/4411532 [00:02<00:02, 887974.51it/s]\u001b[A\n",
      " 45%|████▍     | 1972810/4411532 [00:02<00:02, 915736.57it/s]\u001b[A\n",
      " 47%|████▋     | 2069310/4411532 [00:02<00:02, 929978.23it/s]\u001b[A\n",
      " 49%|████▉     | 2169355/4411532 [00:02<00:02, 946867.04it/s]\u001b[A\n",
      " 52%|█████▏    | 2274432/4411532 [00:02<00:02, 950322.17it/s]\u001b[A\n",
      " 54%|█████▍    | 2374819/4411532 [00:02<00:02, 965774.54it/s]\u001b[A\n",
      " 56%|█████▌    | 2471850/4411532 [00:02<00:02, 953484.99it/s]\u001b[A\n",
      " 58%|█████▊    | 2576143/4411532 [00:02<00:01, 961311.58it/s]\u001b[A\n",
      " 61%|██████    | 2678167/4411532 [00:02<00:01, 964226.40it/s]\u001b[A\n",
      " 63%|██████▎   | 2783038/4411532 [00:03<00:01, 972039.96it/s]\u001b[A\n",
      " 65%|██████▌   | 2887035/4411532 [00:03<00:01, 977543.85it/s]\u001b[A\n",
      " 68%|██████▊   | 2986969/4411532 [00:03<00:01, 983981.79it/s]\u001b[A\n",
      " 70%|██████▉   | 3085454/4411532 [00:03<00:01, 970366.95it/s]\u001b[A\n",
      " 72%|███████▏  | 3185997/4411532 [00:03<00:01, 980624.59it/s]\u001b[A\n",
      " 74%|███████▍  | 3284158/4411532 [00:03<00:01, 970863.19it/s]\u001b[A\n",
      " 77%|███████▋  | 3382092/4411532 [00:03<00:01, 973389.68it/s]\u001b[A\n",
      " 79%|███████▉  | 3482743/4411532 [00:03<00:00, 983094.21it/s]\u001b[A\n",
      " 81%|████████  | 3581122/4411532 [00:03<00:00, 965001.95it/s]\u001b[A\n",
      " 83%|████████▎ | 3681729/4411532 [00:04<00:00, 961899.21it/s]\u001b[A\n",
      " 86%|████████▌ | 3784257/4411532 [00:04<00:00, 980072.69it/s]\u001b[A\n",
      " 88%|████████▊ | 3886757/4411532 [00:04<00:00, 960702.43it/s]\u001b[A\n",
      " 91%|█████████ | 3992822/4411532 [00:04<00:00, 967343.07it/s]\u001b[A\n",
      " 93%|█████████▎| 4089699/4411532 [00:04<00:00, 958084.34it/s]\u001b[A\n",
      " 95%|█████████▌| 4193797/4411532 [00:04<00:00, 960391.00it/s]\u001b[A\n",
      " 97%|█████████▋| 4293085/4411532 [00:04<00:00, 969911.83it/s]\u001b[A\n",
      "100%|█████████▉| 4390159/4411532 [00:04<00:00, 952733.25it/s]\u001b[A\n",
      " 36%|███▌      | 13/36 [01:16<02:17,  5.99s/it]921608.92it/s]\u001b[A\n",
      "  0%|          | 0/4411532 [00:00<?, ?it/s]\u001b[A\n",
      "  2%|▏         | 91671/4411532 [00:00<00:04, 916704.32it/s]\u001b[A\n",
      "  4%|▍         | 168220/4411532 [00:00<00:04, 865416.99it/s]\u001b[A\n",
      "  6%|▌         | 260695/4411532 [00:00<00:04, 856410.96it/s]\u001b[A\n",
      "  8%|▊         | 344611/4411532 [00:00<00:04, 847286.26it/s]\u001b[A\n",
      " 10%|▉         | 435225/4411532 [00:00<00:04, 864123.34it/s]\u001b[A\n",
      " 12%|█▏        | 536497/4411532 [00:00<00:04, 877534.21it/s]\u001b[A\n",
      " 14%|█▍        | 633971/4411532 [00:00<00:04, 904029.42it/s]\u001b[A\n",
      " 16%|█▋        | 718770/4411532 [00:00<00:04, 886453.95it/s]\u001b[A\n",
      " 19%|█▊        | 823903/4411532 [00:00<00:03, 902746.30it/s]\u001b[A\n",
      " 21%|██        | 924909/4411532 [00:01<00:03, 932465.66it/s]\u001b[A\n",
      " 23%|██▎       | 1016724/4411532 [00:01<00:03, 928123.91it/s]\u001b[A\n",
      " 25%|██▌       | 1111130/4411532 [00:01<00:03, 931694.55it/s]\u001b[A\n",
      " 27%|██▋       | 1213082/4411532 [00:01<00:03, 956410.23it/s]\u001b[A\n",
      " 30%|██▉       | 1319772/4411532 [00:01<00:03, 970385.53it/s]\u001b[A\n",
      " 32%|███▏      | 1420333/4411532 [00:01<00:03, 980689.92it/s]\u001b[A\n",
      " 35%|███▍      | 1523852/4411532 [00:01<00:02, 996427.31it/s]\u001b[A\n",
      " 37%|███▋      | 1624204/4411532 [00:01<00:02, 998543.43it/s]\u001b[A\n",
      " 39%|███▉      | 1723998/4411532 [00:01<00:02, 984051.54it/s]\u001b[A\n",
      " 41%|████▏     | 1822409/4411532 [00:01<00:02, 967263.17it/s]\u001b[A\n",
      " 44%|████▎     | 1926748/4411532 [00:02<00:02, 988908.31it/s]\u001b[A\n",
      " 46%|████▌     | 2026274/4411532 [00:02<00:02, 990804.87it/s]\u001b[A\n",
      " 48%|████▊     | 2130342/4411532 [00:02<00:02, 1005257.71it/s]\u001b[A\n",
      " 51%|█████     | 2231001/4411532 [00:02<00:02, 974442.92it/s] \u001b[A\n",
      " 53%|█████▎    | 2337581/4411532 [00:02<00:02, 975001.02it/s]\u001b[A\n",
      " 55%|█████▌    | 2439858/4411532 [00:02<00:01, 988855.44it/s]\u001b[A\n",
      " 58%|█████▊    | 2542650/4411532 [00:02<00:01, 983295.26it/s]\u001b[A\n",
      " 60%|█████▉    | 2642809/4411532 [00:02<00:01, 988712.70it/s]\u001b[A\n",
      " 62%|██████▏   | 2749349/4411532 [00:02<00:01, 1010532.34it/s]\u001b[A\n",
      " 65%|██████▍   | 2850596/4411532 [00:02<00:01, 970255.71it/s] \u001b[A\n",
      " 67%|██████▋   | 2958503/4411532 [00:03<00:01, 973544.42it/s]\u001b[A\n",
      " 69%|██████▉   | 3059187/4411532 [00:03<00:01, 979385.90it/s]\u001b[A\n",
      " 72%|███████▏  | 3166098/4411532 [00:03<00:01, 963816.11it/s]\u001b[A\n",
      " 74%|███████▍  | 3274324/4411532 [00:03<00:01, 996534.31it/s]\u001b[A\n",
      " 76%|███████▋  | 3374418/4411532 [00:03<00:01, 971817.27it/s]\u001b[A\n",
      " 79%|███████▊  | 3472044/4411532 [00:03<00:00, 956720.06it/s]\u001b[A\n",
      " 81%|████████  | 3581963/4411532 [00:03<00:00, 995425.25it/s]\u001b[A\n",
      " 83%|████████▎ | 3682164/4411532 [00:03<00:00, 962500.42it/s]\u001b[A\n",
      " 86%|████████▌ | 3779455/4411532 [00:03<00:00, 965598.73it/s]\u001b[A\n",
      " 88%|████████▊ | 3877445/4411532 [00:04<00:00, 963736.54it/s]\u001b[A\n",
      " 90%|█████████ | 3978166/4411532 [00:04<00:00, 976378.96it/s]\u001b[A\n",
      " 92%|█████████▏| 4076085/4411532 [00:04<00:00, 962942.90it/s]\u001b[A\n",
      " 95%|█████████▍| 4186329/4411532 [00:04<00:00, 1000938.61it/s]\u001b[A\n",
      " 97%|█████████▋| 4286975/4411532 [00:04<00:00, 966682.88it/s] \u001b[A\n",
      " 99%|█████████▉| 4384283/4411532 [00:04<00:00, 960059.67it/s]\u001b[A\n",
      " 39%|███▉      | 14/36 [01:22<02:12,  6.01s/it]958243.75it/s]\u001b[A\n",
      "  0%|          | 0/4411532 [00:00<?, ?it/s]\u001b[A\n",
      "  2%|▏         | 86032/4411532 [00:00<00:05, 809158.79it/s]\u001b[A\n",
      "  4%|▍         | 172152/4411532 [00:00<00:05, 824098.22it/s]\u001b[A\n",
      "  6%|▌         | 246560/4411532 [00:00<00:05, 795773.22it/s]\u001b[A\n",
      "  8%|▊         | 338464/4411532 [00:00<00:05, 811147.47it/s]\u001b[A\n",
      " 10%|▉         | 426642/4411532 [00:00<00:04, 831118.93it/s]\u001b[A\n",
      " 12%|█▏        | 519702/4411532 [00:00<00:04, 833271.65it/s]\u001b[A\n",
      " 14%|█▎        | 602595/4411532 [00:00<00:04, 831963.43it/s]\u001b[A\n",
      " 16%|█▌        | 704042/4411532 [00:00<00:04, 879426.12it/s]\u001b[A\n",
      " 18%|█▊        | 790171/4411532 [00:00<00:04, 873905.21it/s]\u001b[A\n",
      " 20%|██        | 890624/4411532 [00:01<00:03, 881151.85it/s]\u001b[A\n",
      " 22%|██▏       | 987759/4411532 [00:01<00:03, 906401.04it/s]\u001b[A\n",
      " 25%|██▍       | 1088822/4411532 [00:01<00:03, 904889.23it/s]\u001b[A\n",
      " 27%|██▋       | 1186963/4411532 [00:01<00:03, 907909.94it/s]\u001b[A\n",
      " 29%|██▉       | 1282010/4411532 [00:01<00:03, 911175.80it/s]\u001b[A\n",
      " 31%|███▏      | 1383127/4411532 [00:01<00:03, 918337.99it/s]\u001b[A\n",
      " 33%|███▎      | 1476317/4411532 [00:01<00:03, 922363.26it/s]\u001b[A\n",
      " 36%|███▌      | 1577128/4411532 [00:01<00:03, 908203.24it/s]\u001b[A\n",
      " 38%|███▊      | 1680383/4411532 [00:01<00:02, 942241.88it/s]\u001b[A\n",
      " 40%|████      | 1774884/4411532 [00:02<00:02, 915792.74it/s]\u001b[A\n",
      " 42%|████▏     | 1870074/4411532 [00:02<00:02, 926333.60it/s]\u001b[A\n",
      " 44%|████▍     | 1962986/4411532 [00:02<00:02, 915695.73it/s]\u001b[A\n",
      " 47%|████▋     | 2062622/4411532 [00:02<00:02, 938489.09it/s]\u001b[A\n",
      " 49%|████▉     | 2160402/4411532 [00:02<00:02, 949946.02it/s]\u001b[A\n",
      " 51%|█████     | 2255638/4411532 [00:02<00:02, 937994.84it/s]\u001b[A\n",
      " 53%|█████▎    | 2357761/4411532 [00:02<00:02, 961503.99it/s]\u001b[A\n",
      " 56%|█████▌    | 2458068/4411532 [00:02<00:02, 973605.77it/s]\u001b[A\n",
      " 58%|█████▊    | 2555667/4411532 [00:02<00:01, 958306.33it/s]\u001b[A\n",
      " 60%|██████    | 2661994/4411532 [00:02<00:01, 957155.43it/s]\u001b[A\n",
      " 63%|██████▎   | 2764533/4411532 [00:03<00:01, 976651.11it/s]\u001b[A\n",
      " 65%|██████▍   | 2862404/4411532 [00:03<00:01, 964307.31it/s]\u001b[A\n",
      " 67%|██████▋   | 2967726/4411532 [00:03<00:01, 964832.64it/s]\u001b[A\n",
      " 69%|██████▉   | 3064557/4411532 [00:03<00:01, 958436.47it/s]\u001b[A\n",
      " 72%|███████▏  | 3167485/4411532 [00:03<00:01, 941070.91it/s]\u001b[A\n",
      " 74%|███████▍  | 3267204/4411532 [00:03<00:01, 957230.31it/s]\u001b[A\n",
      " 76%|███████▋  | 3365375/4411532 [00:03<00:01, 964441.94it/s]\u001b[A\n",
      " 78%|███████▊  | 3461948/4411532 [00:03<00:01, 938146.17it/s]\u001b[A\n",
      " 81%|████████  | 3562911/4411532 [00:03<00:00, 958503.06it/s]\u001b[A\n",
      " 83%|████████▎ | 3659043/4411532 [00:03<00:00, 958419.71it/s]\u001b[A\n",
      " 85%|████████▌ | 3755485/4411532 [00:04<00:00, 944533.09it/s]\u001b[A\n",
      " 87%|████████▋ | 3852483/4411532 [00:04<00:00, 951526.47it/s]\u001b[A\n",
      " 90%|████████▉ | 3955900/4411532 [00:04<00:00, 946495.70it/s]\u001b[A\n",
      " 92%|█████████▏| 4052316/4411532 [00:04<00:00, 950643.63it/s]\u001b[A\n",
      " 94%|█████████▍| 4158686/4411532 [00:04<00:00, 954105.79it/s]\u001b[A\n",
      " 96%|█████████▋| 4254499/4411532 [00:04<00:00, 944339.84it/s]\u001b[A\n",
      " 99%|█████████▉| 4358569/4411532 [00:04<00:00, 950810.14it/s]\u001b[A\n",
      " 42%|████▏     | 15/36 [01:27<02:05,  5.98s/it]926995.30it/s]\u001b[A\n",
      "  0%|          | 0/4411532 [00:00<?, ?it/s]\u001b[A\n",
      "  2%|▏         | 95049/4411532 [00:00<00:04, 950484.11it/s]\u001b[A\n",
      "  4%|▍         | 167766/4411532 [00:00<00:04, 870302.57it/s]\u001b[A\n",
      "  6%|▌         | 260947/4411532 [00:00<00:04, 857689.74it/s]\u001b[A\n",
      "  8%|▊         | 349917/4411532 [00:00<00:04, 867047.96it/s]\u001b[A\n",
      " 10%|█         | 447905/4411532 [00:00<00:04, 878286.61it/s]\u001b[A\n",
      " 12%|█▏        | 541315/4411532 [00:00<00:04, 886031.39it/s]\u001b[A\n",
      " 15%|█▍        | 642919/4411532 [00:00<00:04, 900999.28it/s]\u001b[A\n",
      " 17%|█▋        | 739477/4411532 [00:00<00:04, 911812.05it/s]\u001b[A\n",
      " 19%|█▉        | 844006/4411532 [00:00<00:03, 927557.24it/s]\u001b[A\n",
      " 21%|██▏       | 940888/4411532 [00:01<00:03, 939560.54it/s]\u001b[A\n",
      " 24%|██▎       | 1047270/4411532 [00:01<00:03, 943780.55it/s]\u001b[A\n",
      " 26%|██▌       | 1142189/4411532 [00:01<00:03, 945395.82it/s]\u001b[A\n",
      " 28%|██▊       | 1248227/4411532 [00:01<00:03, 977182.97it/s]\u001b[A\n",
      " 30%|███       | 1345371/4411532 [00:01<00:03, 929707.99it/s]\u001b[A\n",
      " 33%|███▎      | 1451950/4411532 [00:01<00:03, 941561.19it/s]\u001b[A\n",
      " 35%|███▌      | 1553994/4411532 [00:01<00:02, 963913.62it/s]\u001b[A\n",
      " 37%|███▋      | 1650582/4411532 [00:01<00:02, 957288.25it/s]\u001b[A\n",
      " 40%|███▉      | 1758624/4411532 [00:01<00:02, 962155.87it/s]\u001b[A\n",
      " 42%|████▏     | 1857487/4411532 [00:01<00:02, 963637.78it/s]\u001b[A\n",
      " 44%|████▍     | 1953928/4411532 [00:02<00:02, 955203.09it/s]\u001b[A\n",
      " 47%|████▋     | 2061819/4411532 [00:02<00:02, 980482.58it/s]\u001b[A\n",
      " 49%|████▉     | 2162345/4411532 [00:02<00:02, 987784.80it/s]\u001b[A\n",
      " 51%|█████▏    | 2261288/4411532 [00:02<00:02, 984852.93it/s]\u001b[A\n",
      " 54%|█████▎    | 2360520/4411532 [00:02<00:02, 952135.18it/s]\u001b[A\n",
      " 56%|█████▌    | 2470916/4411532 [00:02<00:01, 993108.73it/s]\u001b[A\n",
      " 58%|█████▊    | 2570907/4411532 [00:02<00:01, 971484.00it/s]\u001b[A\n",
      " 61%|██████    | 2680157/4411532 [00:02<00:01, 974852.07it/s]\u001b[A\n",
      " 63%|██████▎   | 2784366/4411532 [00:02<00:01, 994094.01it/s]\u001b[A\n",
      " 65%|██████▌   | 2884155/4411532 [00:03<00:01, 980818.33it/s]\u001b[A\n",
      " 68%|██████▊   | 2982543/4411532 [00:03<00:01, 959232.29it/s]\u001b[A\n",
      " 70%|███████   | 3090505/4411532 [00:03<00:01, 981819.50it/s]\u001b[A\n",
      " 72%|███████▏  | 3197871/4411532 [00:03<00:01, 966813.69it/s]\u001b[A\n",
      " 75%|███████▍  | 3300084/4411532 [00:03<00:01, 982769.13it/s]\u001b[A\n",
      " 77%|███████▋  | 3401136/4411532 [00:03<00:01, 953537.16it/s]\u001b[A\n",
      " 79%|███████▉  | 3503568/4411532 [00:03<00:00, 973722.04it/s]\u001b[A\n",
      " 82%|████████▏ | 3601831/4411532 [00:03<00:00, 972637.31it/s]\u001b[A\n",
      " 84%|████████▍ | 3709497/4411532 [00:03<00:00, 973814.04it/s]\u001b[A\n",
      " 86%|████████▋ | 3813162/4411532 [00:04<00:00, 991849.76it/s]\u001b[A\n",
      " 89%|████████▊ | 3912557/4411532 [00:04<00:00, 981596.73it/s]\u001b[A\n",
      " 91%|█████████ | 4019409/4411532 [00:04<00:00, 965543.86it/s]\u001b[A\n",
      " 94%|█████████▎| 4126438/4411532 [00:04<00:00, 994749.44it/s]\u001b[A\n",
      " 96%|█████████▌| 4226260/4411532 [00:04<00:00, 974223.60it/s]\u001b[A\n",
      " 98%|█████████▊| 4324020/4411532 [00:04<00:00, 964446.80it/s]\u001b[A\n",
      " 44%|████▍     | 16/36 [01:33<01:58,  5.92s/it]956711.04it/s]\u001b[A\n",
      "  0%|          | 0/4411532 [00:00<?, ?it/s]\u001b[A\n",
      "  2%|▏         | 85905/4411532 [00:00<00:05, 829034.56it/s]\u001b[A\n",
      "  4%|▍         | 171752/4411532 [00:00<00:05, 837527.36it/s]\u001b[A\n",
      "  6%|▌         | 247925/4411532 [00:00<00:05, 810785.61it/s]\u001b[A\n",
      "  8%|▊         | 344715/4411532 [00:00<00:04, 832498.98it/s]\u001b[A\n",
      " 10%|█         | 446545/4411532 [00:00<00:04, 870305.31it/s]\u001b[A\n",
      " 12%|█▏        | 540252/4411532 [00:00<00:04, 886231.71it/s]\u001b[A\n",
      " 14%|█▍        | 639336/4411532 [00:00<00:04, 903133.75it/s]\u001b[A\n",
      " 17%|█▋        | 742755/4411532 [00:00<00:04, 910592.68it/s]\u001b[A\n",
      " 19%|█▉        | 842940/4411532 [00:00<00:03, 936036.56it/s]\u001b[A\n",
      " 21%|██        | 933605/4411532 [00:01<00:03, 925114.19it/s]\u001b[A\n",
      " 24%|██▎       | 1039187/4411532 [00:01<00:03, 947004.82it/s]\u001b[A\n",
      " 26%|██▌       | 1141112/4411532 [00:01<00:03, 967578.59it/s]\u001b[A\n",
      " 28%|██▊       | 1237076/4411532 [00:01<00:03, 946041.14it/s]\u001b[A\n",
      " 31%|███       | 1352267/4411532 [00:01<00:03, 999637.20it/s]\u001b[A\n",
      " 33%|███▎      | 1452733/4411532 [00:01<00:03, 959543.42it/s]\u001b[A\n",
      " 35%|███▌      | 1556632/4411532 [00:01<00:02, 960639.73it/s]\u001b[A\n",
      " 37%|███▋      | 1653183/4411532 [00:01<00:02, 953983.00it/s]\u001b[A\n",
      " 40%|███▉      | 1756101/4411532 [00:01<00:02, 975362.05it/s]\u001b[A\n",
      " 42%|████▏     | 1856680/4411532 [00:01<00:02, 967892.77it/s]\u001b[A\n",
      " 45%|████▍     | 1964897/4411532 [00:02<00:02, 965002.86it/s]\u001b[A\n",
      " 47%|████▋     | 2069250/4411532 [00:02<00:02, 987290.99it/s]\u001b[A\n",
      " 49%|████▉     | 2168239/4411532 [00:02<00:02, 971955.37it/s]\u001b[A\n",
      " 52%|█████▏    | 2275663/4411532 [00:02<00:02, 963907.51it/s]\u001b[A\n",
      " 54%|█████▍    | 2379587/4411532 [00:02<00:02, 985334.62it/s]\u001b[A\n",
      " 56%|█████▌    | 2478364/4411532 [00:02<00:01, 972932.46it/s]\u001b[A\n",
      " 58%|█████▊    | 2575863/4411532 [00:02<00:01, 959894.20it/s]\u001b[A\n",
      " 61%|██████    | 2682604/4411532 [00:02<00:01, 989802.80it/s]\u001b[A\n",
      " 63%|██████▎   | 2781948/4411532 [00:02<00:01, 971339.20it/s]\u001b[A\n",
      " 65%|██████▌   | 2879413/4411532 [00:03<00:01, 971761.76it/s]\u001b[A\n",
      " 68%|██████▊   | 2983386/4411532 [00:03<00:01, 960020.37it/s]\u001b[A\n",
      " 70%|██████▉   | 3085778/4411532 [00:03<00:01, 978098.48it/s]\u001b[A\n",
      " 72%|███████▏  | 3183808/4411532 [00:03<00:01, 971962.17it/s]\u001b[A\n",
      " 75%|███████▍  | 3292501/4411532 [00:03<00:01, 979840.76it/s]\u001b[A\n",
      " 77%|███████▋  | 3391902/4411532 [00:03<00:01, 976030.20it/s]\u001b[A\n",
      " 79%|███████▉  | 3496726/4411532 [00:03<00:00, 987384.14it/s]\u001b[A\n",
      " 82%|████████▏ | 3601951/4411532 [00:03<00:00, 971021.37it/s]\u001b[A\n",
      " 84%|████████▍ | 3704769/4411532 [00:03<00:00, 987489.27it/s]\u001b[A\n",
      " 86%|████████▌ | 3803677/4411532 [00:04<00:00, 931628.34it/s]\u001b[A\n",
      " 88%|████████▊ | 3903837/4411532 [00:04<00:00, 951570.30it/s]\u001b[A\n",
      " 91%|█████████ | 3999633/4411532 [00:04<00:00, 943804.45it/s]\u001b[A\n",
      " 93%|█████████▎| 4096979/4411532 [00:04<00:00, 952509.24it/s]\u001b[A\n",
      " 95%|█████████▌| 4198647/4411532 [00:04<00:00, 970893.09it/s]\u001b[A\n",
      " 98%|█████████▊| 4306350/4411532 [00:04<00:00, 969333.75it/s]\u001b[A\n",
      "100%|█████████▉| 4409193/4411532 [00:04<00:00, 986336.59it/s]\u001b[A\n",
      " 47%|████▋     | 17/36 [01:39<01:51,  5.89s/it]953389.02it/s]\u001b[A\n",
      "  0%|          | 0/4411532 [00:00<?, ?it/s]\u001b[A\n",
      "  2%|▏         | 81979/4411532 [00:00<00:05, 819788.83it/s]\u001b[A\n",
      "  4%|▍         | 169309/4411532 [00:00<00:05, 822774.98it/s]\u001b[A\n",
      "  6%|▌         | 261333/4411532 [00:00<00:04, 835807.51it/s]\u001b[A\n",
      "  8%|▊         | 351652/4411532 [00:00<00:04, 854865.66it/s]\u001b[A\n",
      " 10%|█         | 451213/4411532 [00:00<00:04, 866166.99it/s]\u001b[A\n",
      " 12%|█▏        | 543833/4411532 [00:00<00:04, 883254.62it/s]\u001b[A\n",
      " 15%|█▍        | 645019/4411532 [00:00<00:04, 891961.74it/s]\u001b[A\n",
      " 17%|█▋        | 745716/4411532 [00:00<00:03, 923606.96it/s]\u001b[A\n",
      " 19%|█▉        | 837801/4411532 [00:00<00:03, 921322.31it/s]\u001b[A\n",
      " 21%|██▏       | 941587/4411532 [00:01<00:03, 927685.55it/s]\u001b[A\n",
      " 24%|██▎       | 1038886/4411532 [00:01<00:03, 936403.28it/s]\u001b[A\n",
      " 26%|██▌       | 1143744/4411532 [00:01<00:03, 943318.07it/s]\u001b[A\n",
      " 28%|██▊       | 1239293/4411532 [00:01<00:03, 943101.93it/s]\u001b[A\n",
      " 31%|███       | 1346164/4411532 [00:01<00:03, 950961.86it/s]\u001b[A\n",
      " 33%|███▎      | 1448765/4411532 [00:01<00:03, 972297.26it/s]\u001b[A\n",
      " 35%|███▌      | 1545777/4411532 [00:01<00:02, 963119.59it/s]\u001b[A\n",
      " 37%|███▋      | 1647028/4411532 [00:01<00:02, 977422.84it/s]\u001b[A\n",
      " 40%|███▉      | 1744729/4411532 [00:01<00:02, 975263.84it/s]\u001b[A\n",
      " 42%|████▏     | 1843671/4411532 [00:01<00:02, 979467.56it/s]\u001b[A\n",
      " 44%|████▍     | 1951408/4411532 [00:02<00:02, 976687.38it/s]\u001b[A\n",
      " 47%|████▋     | 2055314/4411532 [00:02<00:02, 994598.08it/s]\u001b[A\n",
      " 49%|████▉     | 2154848/4411532 [00:02<00:02, 976513.35it/s]\u001b[A\n",
      " 51%|█████     | 2256143/4411532 [00:02<00:02, 977124.18it/s]\u001b[A\n",
      " 53%|█████▎    | 2353944/4411532 [00:02<00:02, 975188.00it/s]\u001b[A\n",
      " 56%|█████▌    | 2461511/4411532 [00:02<00:01, 975320.13it/s]\u001b[A\n",
      " 58%|█████▊    | 2564623/4411532 [00:02<00:01, 991415.09it/s]\u001b[A\n",
      " 60%|██████    | 2663860/4411532 [00:02<00:01, 978318.89it/s]\u001b[A\n",
      " 63%|██████▎   | 2776785/4411532 [00:02<00:01, 1019183.91it/s]\u001b[A\n",
      " 65%|██████▌   | 2879219/4411532 [00:03<00:01, 969067.16it/s] \u001b[A\n",
      " 67%|██████▋   | 2977003/4411532 [00:03<00:01, 955265.54it/s]\u001b[A\n",
      " 70%|██████▉   | 3075808/4411532 [00:03<00:01, 953900.83it/s]\u001b[A\n",
      " 72%|███████▏  | 3180514/4411532 [00:03<00:01, 961065.42it/s]\u001b[A\n",
      " 74%|███████▍  | 3284517/4411532 [00:03<00:01, 969461.56it/s]\u001b[A\n",
      " 77%|███████▋  | 3388892/4411532 [00:03<00:01, 975043.86it/s]\u001b[A\n",
      " 79%|███████▉  | 3493148/4411532 [00:03<00:00, 979952.12it/s]\u001b[A\n",
      " 81%|████████▏ | 3592655/4411532 [00:03<00:00, 980632.52it/s]\u001b[A\n",
      " 84%|████████▍ | 3701513/4411532 [00:03<00:00, 982906.80it/s]\u001b[A\n",
      " 86%|████████▌ | 3804120/4411532 [00:03<00:00, 995468.48it/s]\u001b[A\n",
      " 88%|████████▊ | 3903753/4411532 [00:04<00:00, 983836.20it/s]\u001b[A\n",
      " 91%|█████████ | 4002228/4411532 [00:04<00:00, 969799.93it/s]\u001b[A\n",
      " 93%|█████████▎| 4104261/4411532 [00:04<00:00, 984424.43it/s]\u001b[A\n",
      " 95%|█████████▌| 4209731/4411532 [00:04<00:00, 973235.74it/s]\u001b[A\n",
      " 98%|█████████▊| 4316478/4411532 [00:04<00:00, 966818.16it/s]\u001b[A\n",
      " 50%|█████     | 18/36 [01:45<01:45,  5.87s/it]959322.37it/s]\u001b[A\n",
      "  0%|          | 0/4411532 [00:00<?, ?it/s]\u001b[A\n",
      "  2%|▏         | 94621/4411532 [00:00<00:04, 946206.39it/s]\u001b[A\n",
      "  4%|▎         | 165291/4411532 [00:00<00:04, 858879.84it/s]\u001b[A\n",
      "  6%|▌         | 258510/4411532 [00:00<00:04, 854045.83it/s]\u001b[A\n",
      "  8%|▊         | 350668/4411532 [00:00<00:04, 873243.08it/s]\u001b[A\n",
      " 10%|▉         | 433504/4411532 [00:00<00:04, 859273.97it/s]\u001b[A\n",
      " 12%|█▏        | 536188/4411532 [00:00<00:04, 903504.94it/s]\u001b[A\n",
      " 14%|█▍        | 628245/4411532 [00:00<00:04, 884956.95it/s]\u001b[A\n",
      " 16%|█▋        | 725781/4411532 [00:00<00:04, 910255.39it/s]\u001b[A\n",
      " 19%|█▊        | 821339/4411532 [00:00<00:03, 923393.78it/s]\u001b[A\n",
      " 21%|██        | 910440/4411532 [00:01<00:03, 903694.92it/s]\u001b[A\n",
      " 23%|██▎       | 1018898/4411532 [00:01<00:03, 951290.58it/s]\u001b[A\n",
      " 25%|██▌       | 1114740/4411532 [00:01<00:03, 937602.95it/s]\u001b[A\n",
      " 28%|██▊       | 1220340/4411532 [00:01<00:03, 936631.33it/s]\u001b[A\n",
      " 30%|██▉       | 1317900/4411532 [00:01<00:03, 947990.04it/s]\u001b[A\n",
      " 32%|███▏      | 1417959/4411532 [00:01<00:03, 963179.65it/s]\u001b[A\n",
      " 34%|███▍      | 1514170/4411532 [00:01<00:03, 937479.97it/s]\u001b[A\n",
      " 36%|███▋      | 1607994/4411532 [00:01<00:02, 937069.07it/s]\u001b[A\n",
      " 39%|███▉      | 1714808/4411532 [00:01<00:02, 956624.35it/s]\u001b[A\n",
      " 41%|████      | 1810608/4411532 [00:01<00:02, 956021.80it/s]\u001b[A\n",
      " 43%|████▎     | 1917085/4411532 [00:02<00:02, 958998.27it/s]\u001b[A\n",
      " 46%|████▌     | 2018237/4411532 [00:02<00:02, 974171.96it/s]\u001b[A\n",
      " 48%|████▊     | 2115761/4411532 [00:02<00:02, 966161.25it/s]\u001b[A\n",
      " 50%|█████     | 2221249/4411532 [00:02<00:02, 964342.48it/s]\u001b[A\n",
      " 53%|█████▎    | 2322764/4411532 [00:02<00:02, 979041.51it/s]\u001b[A\n",
      " 55%|█████▍    | 2422435/4411532 [00:02<00:02, 984274.82it/s]\u001b[A\n",
      " 57%|█████▋    | 2520939/4411532 [00:02<00:01, 949557.50it/s]\u001b[A\n",
      " 60%|█████▉    | 2627651/4411532 [00:02<00:01, 960914.62it/s]\u001b[A\n",
      " 62%|██████▏   | 2729413/4411532 [00:02<00:01, 977250.99it/s]\u001b[A\n",
      " 64%|██████▍   | 2833076/4411532 [00:03<00:01, 994336.84it/s]\u001b[A\n",
      " 66%|██████▋   | 2932755/4411532 [00:03<00:01, 967250.79it/s]\u001b[A\n",
      " 69%|██████▊   | 3029814/4411532 [00:03<00:01, 966379.69it/s]\u001b[A\n",
      " 71%|███████   | 3134457/4411532 [00:03<00:01, 954933.72it/s]\u001b[A\n",
      " 73%|███████▎  | 3237082/4411532 [00:03<00:01, 975264.64it/s]\u001b[A\n",
      " 76%|███████▌  | 3334851/4411532 [00:03<00:01, 966111.71it/s]\u001b[A\n",
      " 78%|███████▊  | 3440045/4411532 [00:03<00:01, 967179.80it/s]\u001b[A\n",
      " 80%|████████  | 3539850/4411532 [00:03<00:00, 976237.37it/s]\u001b[A\n",
      " 83%|████████▎ | 3645985/4411532 [00:03<00:00, 970856.23it/s]\u001b[A\n",
      " 85%|████████▍ | 3743439/4411532 [00:03<00:00, 971908.10it/s]\u001b[A\n",
      " 87%|████████▋ | 3840691/4411532 [00:04<00:00, 960279.89it/s]\u001b[A\n",
      " 89%|████████▉ | 3947191/4411532 [00:04<00:00, 983368.54it/s]\u001b[A\n",
      " 92%|█████████▏| 4046847/4411532 [00:04<00:00, 987288.75it/s]\u001b[A\n",
      " 94%|█████████▍| 4150402/4411532 [00:04<00:00, 972257.30it/s]\u001b[A\n",
      " 97%|█████████▋| 4257434/4411532 [00:04<00:00, 999734.97it/s]\u001b[A\n",
      " 99%|█████████▉| 4357705/4411532 [00:04<00:00, 977720.53it/s]\u001b[A\n",
      " 53%|█████▎    | 19/36 [01:51<01:39,  5.87s/it]949836.95it/s]\u001b[A\n",
      "  0%|          | 0/4411532 [00:00<?, ?it/s]\u001b[A\n",
      "  2%|▏         | 82491/4411532 [00:00<00:05, 824908.82it/s]\u001b[A\n",
      "  4%|▍         | 168782/4411532 [00:00<00:05, 827013.16it/s]\u001b[A\n",
      "  6%|▌         | 246752/4411532 [00:00<00:05, 812226.11it/s]\u001b[A\n",
      "  8%|▊         | 343706/4411532 [00:00<00:04, 836721.10it/s]\u001b[A\n",
      " 10%|▉         | 435188/4411532 [00:00<00:04, 850807.75it/s]\u001b[A\n",
      " 12%|█▏        | 529728/4411532 [00:00<00:04, 871034.38it/s]\u001b[A\n",
      " 14%|█▍        | 622954/4411532 [00:00<00:04, 888539.73it/s]\u001b[A\n",
      " 16%|█▋        | 725637/4411532 [00:00<00:04, 899805.31it/s]\u001b[A\n",
      " 19%|█▊        | 818264/4411532 [00:00<00:03, 907512.94it/s]\u001b[A\n",
      " 21%|██        | 922294/4411532 [00:01<00:03, 916996.24it/s]\u001b[A\n",
      " 23%|██▎       | 1025114/4411532 [00:01<00:03, 947745.36it/s]\u001b[A\n",
      " 25%|██▌       | 1118621/4411532 [00:01<00:03, 936884.91it/s]\u001b[A\n",
      " 28%|██▊       | 1215867/4411532 [00:01<00:03, 947280.05it/s]\u001b[A\n",
      " 30%|██▉       | 1316782/4411532 [00:01<00:03, 965028.48it/s]\u001b[A\n",
      " 32%|███▏      | 1412965/4411532 [00:01<00:03, 943700.58it/s]\u001b[A\n",
      " 34%|███▍      | 1512943/4411532 [00:01<00:03, 959851.47it/s]\u001b[A\n",
      " 37%|███▋      | 1619575/4411532 [00:01<00:02, 989490.29it/s]\u001b[A\n",
      " 39%|███▉      | 1718743/4411532 [00:01<00:02, 952668.16it/s]\u001b[A\n",
      " 41%|████      | 1814457/4411532 [00:01<00:02, 940184.62it/s]\u001b[A\n",
      " 43%|████▎     | 1908826/4411532 [00:02<00:02, 937821.01it/s]\u001b[A\n",
      " 45%|████▌     | 2007169/4411532 [00:02<00:02, 943639.23it/s]\u001b[A\n",
      " 48%|████▊     | 2101714/4411532 [00:02<00:02, 938593.26it/s]\u001b[A\n",
      " 50%|████▉     | 2198859/4411532 [00:02<00:02, 937644.07it/s]\u001b[A\n",
      " 52%|█████▏    | 2296601/4411532 [00:02<00:02, 949230.35it/s]\u001b[A\n",
      " 54%|█████▍    | 2401733/4411532 [00:02<00:02, 977711.90it/s]\u001b[A\n",
      " 57%|█████▋    | 2499789/4411532 [00:02<00:01, 960924.00it/s]\u001b[A\n",
      " 59%|█████▉    | 2598084/4411532 [00:02<00:01, 967426.36it/s]\u001b[A\n",
      " 61%|██████    | 2695022/4411532 [00:02<00:01, 965920.11it/s]\u001b[A\n",
      " 63%|██████▎   | 2793576/4411532 [00:02<00:01, 971723.15it/s]\u001b[A\n",
      " 66%|██████▌   | 2891394/4411532 [00:03<00:01, 966627.21it/s]\u001b[A\n",
      " 68%|██████▊   | 2992205/4411532 [00:03<00:01, 978707.34it/s]\u001b[A\n",
      " 70%|███████   | 3090168/4411532 [00:03<00:01, 962391.34it/s]\u001b[A\n",
      " 72%|███████▏  | 3197016/4411532 [00:03<00:01, 955434.69it/s]\u001b[A\n",
      " 75%|███████▍  | 3299310/4411532 [00:03<00:01, 974730.16it/s]\u001b[A\n",
      " 77%|███████▋  | 3405887/4411532 [00:03<00:01, 971134.64it/s]\u001b[A\n",
      " 80%|███████▉  | 3508627/4411532 [00:03<00:00, 987355.27it/s]\u001b[A\n",
      " 82%|████████▏ | 3607512/4411532 [00:03<00:00, 963577.44it/s]\u001b[A\n",
      " 84%|████████▍ | 3706469/4411532 [00:03<00:00, 971228.92it/s]\u001b[A\n",
      " 86%|████████▋ | 3807749/4411532 [00:04<00:00, 983336.36it/s]\u001b[A\n",
      " 89%|████████▊ | 3906243/4411532 [00:04<00:00, 959716.24it/s]\u001b[A\n",
      " 91%|█████████ | 4006404/4411532 [00:04<00:00, 971910.63it/s]\u001b[A\n",
      " 93%|█████████▎| 4104167/4411532 [00:04<00:00, 973618.99it/s]\u001b[A\n",
      " 95%|█████████▌| 4211707/4411532 [00:04<00:00, 971359.68it/s]\u001b[A\n",
      " 98%|█████████▊| 4315055/4411532 [00:04<00:00, 989196.17it/s]\u001b[A\n",
      " 56%|█████▌    | 20/36 [01:57<01:34,  5.90s/it]948673.10it/s]\u001b[A\n",
      "  0%|          | 0/4411532 [00:00<?, ?it/s]\u001b[A\n",
      "  2%|▏         | 85105/4411532 [00:00<00:05, 783333.02it/s]\u001b[A\n",
      "  4%|▍         | 168170/4411532 [00:00<00:05, 796950.83it/s]\u001b[A\n",
      "  6%|▌         | 246673/4411532 [00:00<00:05, 790869.11it/s]\u001b[A\n",
      "  8%|▊         | 335370/4411532 [00:00<00:04, 816752.03it/s]\u001b[A\n",
      " 10%|▉         | 432338/4411532 [00:00<00:04, 844718.39it/s]\u001b[A\n",
      " 12%|█▏        | 527197/4411532 [00:00<00:04, 873409.85it/s]\u001b[A\n",
      " 14%|█▍        | 610258/4411532 [00:00<00:04, 856650.39it/s]\u001b[A\n",
      " 16%|█▌        | 709734/4411532 [00:00<00:04, 885297.30it/s]\u001b[A\n",
      " 18%|█▊        | 813254/4411532 [00:00<00:03, 906002.99it/s]\u001b[A\n",
      " 21%|██        | 911467/4411532 [00:01<00:03, 927572.06it/s]\u001b[A\n",
      " 23%|██▎       | 1004435/4411532 [00:01<00:03, 928202.37it/s]\u001b[A\n",
      " 25%|██▍       | 1102096/4411532 [00:01<00:03, 923227.63it/s]\u001b[A\n",
      " 27%|██▋       | 1196420/4411532 [00:01<00:03, 929140.56it/s]\u001b[A\n",
      " 29%|██▉       | 1298433/4411532 [00:01<00:03, 954685.85it/s]\u001b[A\n",
      " 32%|███▏      | 1393671/4411532 [00:01<00:03, 933551.52it/s]\u001b[A\n",
      " 34%|███▍      | 1498672/4411532 [00:01<00:03, 940488.31it/s]\u001b[A\n",
      " 36%|███▌      | 1597991/4411532 [00:01<00:02, 955701.65it/s]\u001b[A\n",
      " 39%|███▊      | 1703837/4411532 [00:01<00:02, 955822.10it/s]\u001b[A\n",
      " 41%|████      | 1803453/4411532 [00:01<00:02, 967573.82it/s]\u001b[A\n",
      " 43%|████▎     | 1900265/4411532 [00:02<00:02, 955634.06it/s]\u001b[A\n",
      " 45%|████▌     | 2006094/4411532 [00:02<00:02, 960227.39it/s]\u001b[A\n",
      " 48%|████▊     | 2102965/4411532 [00:02<00:02, 955585.57it/s]\u001b[A\n",
      " 50%|█████     | 2209608/4411532 [00:02<00:02, 950495.71it/s]\u001b[A\n",
      " 52%|█████▏    | 2312848/4411532 [00:02<00:02, 973668.80it/s]\u001b[A\n",
      " 55%|█████▍    | 2410381/4411532 [00:02<00:02, 964242.47it/s]\u001b[A\n",
      " 57%|█████▋    | 2519999/4411532 [00:02<00:01, 1000362.93it/s]\u001b[A\n",
      " 59%|█████▉    | 2620477/4411532 [00:02<00:01, 976476.87it/s] \u001b[A\n",
      " 62%|██████▏   | 2718560/4411532 [00:02<00:01, 966428.28it/s]\u001b[A\n",
      " 64%|██████▍   | 2826114/4411532 [00:03<00:01, 977591.11it/s]\u001b[A\n",
      " 66%|██████▋   | 2924134/4411532 [00:03<00:01, 975606.77it/s]\u001b[A\n",
      " 69%|██████▊   | 3032329/4411532 [00:03<00:01, 977418.65it/s]\u001b[A\n",
      " 71%|███████   | 3130201/4411532 [00:03<00:01, 973581.13it/s]\u001b[A\n",
      " 73%|███████▎  | 3229816/4411532 [00:03<00:01, 980242.57it/s]\u001b[A\n",
      " 76%|███████▌  | 3336310/4411532 [00:03<00:01, 986511.51it/s]\u001b[A\n",
      " 78%|███████▊  | 3442380/4411532 [00:03<00:00, 1007654.61it/s]\u001b[A\n",
      " 80%|████████  | 3543301/4411532 [00:03<00:00, 972310.60it/s] \u001b[A\n",
      " 83%|████████▎ | 3641877/4411532 [00:03<00:00, 976306.31it/s]\u001b[A\n",
      " 85%|████████▍ | 3741019/4411532 [00:03<00:00, 978204.08it/s]\u001b[A\n",
      " 87%|████████▋ | 3843839/4411532 [00:04<00:00, 977878.99it/s]\u001b[A\n",
      " 89%|████████▉ | 3945750/4411532 [00:04<00:00, 988065.92it/s]\u001b[A\n",
      " 92%|█████████▏| 4044675/4411532 [00:04<00:00, 975753.46it/s]\u001b[A\n",
      " 94%|█████████▍| 4146018/4411532 [00:04<00:00, 980388.26it/s]\u001b[A\n",
      " 96%|█████████▋| 4247964/4411532 [00:04<00:00, 991791.25it/s]\u001b[A\n",
      " 99%|█████████▊| 4355237/4411532 [00:04<00:00, 1014759.62it/s]\u001b[A\n",
      " 58%|█████▊    | 21/36 [02:03<01:28,  5.88s/it]951378.99it/s] \u001b[A\n",
      "  0%|          | 0/4411532 [00:00<?, ?it/s]\u001b[A\n",
      "  2%|▏         | 87813/4411532 [00:00<00:04, 878084.78it/s]\u001b[A\n",
      "  4%|▍         | 171012/4411532 [00:00<00:04, 863726.51it/s]\u001b[A\n",
      "  6%|▌         | 261294/4411532 [00:00<00:04, 875092.81it/s]\u001b[A\n",
      "  8%|▊         | 336520/4411532 [00:00<00:04, 825655.32it/s]\u001b[A\n",
      " 10%|▉         | 439372/4411532 [00:00<00:04, 877581.61it/s]\u001b[A\n",
      " 12%|█▏        | 530058/4411532 [00:00<00:04, 869567.95it/s]\u001b[A\n",
      " 14%|█▍        | 627189/4411532 [00:00<00:04, 897779.59it/s]\u001b[A\n",
      " 16%|█▋        | 720677/4411532 [00:00<00:04, 908595.79it/s]\u001b[A\n",
      " 19%|█▊        | 822095/4411532 [00:00<00:03, 937887.29it/s]\u001b[A\n",
      " 21%|██        | 913725/4411532 [00:01<00:03, 931304.64it/s]\u001b[A\n",
      " 23%|██▎       | 1008028/4411532 [00:01<00:03, 934789.80it/s]\u001b[A\n",
      " 25%|██▌       | 1103333/4411532 [00:01<00:03, 922462.50it/s]\u001b[A\n",
      " 27%|██▋       | 1205417/4411532 [00:01<00:03, 949924.55it/s]\u001b[A\n",
      " 30%|██▉       | 1303040/4411532 [00:01<00:03, 957665.04it/s]\u001b[A\n",
      " 32%|███▏      | 1398509/4411532 [00:01<00:03, 937209.89it/s]\u001b[A\n",
      " 34%|███▍      | 1504040/4411532 [00:01<00:03, 943606.48it/s]\u001b[A\n",
      " 36%|███▋      | 1607026/4411532 [00:01<00:02, 965843.78it/s]\u001b[A\n",
      " 39%|███▉      | 1714011/4411532 [00:01<00:02, 966801.10it/s]\u001b[A\n",
      " 41%|████      | 1810749/4411532 [00:01<00:02, 930853.24it/s]\u001b[A\n",
      " 45%|████▍     | 1978414/4411532 [00:02<00:02, 1074197.43it/s]\u001b[A\n",
      " 49%|████▉     | 2157178/4411532 [00:02<00:01, 1220301.28it/s]\u001b[A\n",
      " 53%|█████▎    | 2341702/4411532 [00:02<00:01, 1358308.22it/s]\u001b[A\n",
      " 57%|█████▋    | 2529003/4411532 [00:02<00:01, 1480347.26it/s]\u001b[A\n",
      " 62%|██████▏   | 2718337/4411532 [00:02<00:01, 1584001.85it/s]\u001b[A\n",
      " 66%|██████▌   | 2909675/4411532 [00:02<00:00, 1670257.03it/s]\u001b[A\n",
      " 70%|██████▉   | 3085677/4411532 [00:02<00:00, 1597336.19it/s]\u001b[A\n",
      " 74%|███████▎  | 3252369/4411532 [00:02<00:00, 1525299.09it/s]\u001b[A\n",
      " 77%|███████▋  | 3410455/4411532 [00:02<00:00, 1490550.79it/s]\u001b[A\n",
      " 81%|████████  | 3563575/4411532 [00:03<00:00, 1472587.07it/s]\u001b[A\n",
      " 84%|████████▍ | 3713729/4411532 [00:03<00:00, 1376181.23it/s]\u001b[A\n",
      " 87%|████████▋ | 3854651/4411532 [00:03<00:00, 1268679.78it/s]\u001b[A\n",
      " 90%|█████████ | 3985489/4411532 [00:03<00:00, 1243028.21it/s]\u001b[A\n",
      " 93%|█████████▎| 4112687/4411532 [00:03<00:00, 1216992.01it/s]\u001b[A\n",
      " 96%|█████████▌| 4236534/4411532 [00:03<00:00, 1210828.56it/s]\u001b[A\n",
      " 99%|█████████▉| 4367263/4411532 [00:03<00:00, 1229344.77it/s]\u001b[A\n",
      " 61%|██████    | 22/36 [02:08<01:19,  5.66s/it]1182098.73it/s]\u001b[A\n",
      "  0%|          | 0/4411532 [00:00<?, ?it/s]\u001b[A\n",
      "  2%|▏         | 94914/4411532 [00:00<00:04, 949138.64it/s]\u001b[A\n",
      "  4%|▍         | 173236/4411532 [00:00<00:04, 889585.58it/s]\u001b[A\n",
      "  6%|▌         | 265440/4411532 [00:00<00:04, 885929.83it/s]\u001b[A\n",
      "  8%|▊         | 352736/4411532 [00:00<00:04, 881997.58it/s]\u001b[A\n",
      " 10%|█         | 452759/4411532 [00:00<00:04, 886393.63it/s]\u001b[A\n",
      " 12%|█▏        | 549167/4411532 [00:00<00:04, 908351.39it/s]\u001b[A\n",
      " 15%|█▍        | 651588/4411532 [00:00<00:04, 911126.80it/s]\u001b[A\n",
      " 17%|█▋        | 746831/4411532 [00:00<00:03, 916452.53it/s]\u001b[A\n",
      " 19%|█▉        | 842393/4411532 [00:00<00:03, 905647.08it/s]\u001b[A\n",
      " 21%|██        | 929274/4411532 [00:01<00:04, 790105.14it/s]\u001b[A\n",
      " 23%|██▎       | 1029157/4411532 [00:01<00:04, 818388.64it/s]\u001b[A\n",
      " 25%|██▌       | 1124581/4411532 [00:01<00:03, 854900.44it/s]\u001b[A\n",
      " 28%|██▊       | 1221897/4411532 [00:01<00:03, 872430.58it/s]\u001b[A\n",
      " 30%|███       | 1325048/4411532 [00:01<00:03, 886126.17it/s]\u001b[A\n",
      " 32%|███▏      | 1421660/4411532 [00:01<00:03, 908697.60it/s]\u001b[A\n",
      " 34%|███▍      | 1516349/4411532 [00:01<00:03, 919826.84it/s]\u001b[A\n",
      " 37%|███▋      | 1624134/4411532 [00:01<00:02, 935450.97it/s]\u001b[A\n",
      " 39%|███▉      | 1724306/4411532 [00:01<00:02, 951565.38it/s]\u001b[A\n",
      " 41%|████      | 1819743/4411532 [00:02<00:02, 944541.46it/s]\u001b[A\n",
      " 44%|████▎     | 1925368/4411532 [00:02<00:02, 953132.65it/s]\u001b[A\n",
      " 46%|████▌     | 2028065/4411532 [00:02<00:02, 965442.78it/s]\u001b[A\n",
      " 48%|████▊     | 2124763/4411532 [00:02<00:02, 965662.92it/s]\u001b[A\n",
      " 51%|█████     | 2229361/4411532 [00:02<00:02, 988431.98it/s]\u001b[A\n",
      " 53%|█████▎    | 2328412/4411532 [00:02<00:02, 954634.53it/s]\u001b[A\n",
      " 55%|█████▍    | 2425821/4411532 [00:02<00:02, 960388.67it/s]\u001b[A\n",
      " 57%|█████▋    | 2522145/4411532 [00:02<00:01, 948077.81it/s]\u001b[A\n",
      " 60%|█████▉    | 2627252/4411532 [00:02<00:01, 951668.55it/s]\u001b[A\n",
      " 62%|██████▏   | 2722587/4411532 [00:02<00:01, 946711.48it/s]\u001b[A\n",
      " 64%|██████▍   | 2825238/4411532 [00:03<00:01, 945426.30it/s]\u001b[A\n",
      " 66%|██████▋   | 2926119/4411532 [00:03<00:01, 963587.99it/s]\u001b[A\n",
      " 69%|██████▊   | 3022624/4411532 [00:03<00:01, 949379.92it/s]\u001b[A\n",
      " 71%|███████   | 3117712/4411532 [00:03<00:01, 935908.58it/s]\u001b[A\n",
      " 73%|███████▎  | 3220982/4411532 [00:03<00:01, 959412.83it/s]\u001b[A\n",
      " 75%|███████▌  | 3326037/4411532 [00:03<00:01, 957243.87it/s]\u001b[A\n",
      " 78%|███████▊  | 3421938/4411532 [00:03<00:01, 957659.06it/s]\u001b[A\n",
      " 80%|███████▉  | 3517828/4411532 [00:03<00:00, 943800.44it/s]\u001b[A\n",
      " 82%|████████▏ | 3618492/4411532 [00:03<00:00, 944018.64it/s]\u001b[A\n",
      " 84%|████████▍ | 3720733/4411532 [00:04<00:00, 952262.05it/s]\u001b[A\n",
      " 87%|████████▋ | 3816041/4411532 [00:04<00:00, 945957.26it/s]\u001b[A\n",
      " 89%|████████▉ | 3920088/4411532 [00:04<00:00, 936604.33it/s]\u001b[A\n",
      " 91%|█████████ | 4023912/4411532 [00:04<00:00, 964942.07it/s]\u001b[A\n",
      " 93%|█████████▎| 4120669/4411532 [00:04<00:00, 931068.55it/s]\u001b[A\n",
      " 96%|█████████▌| 4214217/4411532 [00:04<00:00, 922487.21it/s]\u001b[A\n",
      " 98%|█████████▊| 4319672/4411532 [00:04<00:00, 929644.48it/s]\u001b[A\n",
      " 64%|██████▍   | 23/36 [02:14<01:15,  5.80s/it]925807.69it/s]\u001b[A\n",
      "  0%|          | 0/4411532 [00:00<?, ?it/s]\u001b[A\n",
      "  2%|▏         | 82940/4411532 [00:00<00:05, 803561.82it/s]\u001b[A\n",
      "  4%|▎         | 164065/4411532 [00:00<00:05, 805851.44it/s]\u001b[A\n",
      "  6%|▌         | 245500/4411532 [00:00<00:05, 798512.99it/s]\u001b[A\n",
      "  8%|▊         | 333911/4411532 [00:00<00:04, 822397.74it/s]\u001b[A\n",
      " 10%|▉         | 419099/4411532 [00:00<00:04, 831024.39it/s]\u001b[A\n",
      " 12%|█▏        | 513565/4411532 [00:00<00:04, 862136.66it/s]\u001b[A\n",
      " 13%|█▎        | 593934/4411532 [00:00<00:04, 843728.76it/s]\u001b[A\n",
      " 16%|█▌        | 693772/4411532 [00:00<00:04, 862040.13it/s]\u001b[A\n",
      " 18%|█▊        | 788053/4411532 [00:00<00:04, 882674.82it/s]\u001b[A\n",
      " 20%|██        | 885363/4411532 [00:01<00:03, 907986.83it/s]\u001b[A\n",
      " 22%|██▏       | 974335/4411532 [00:01<00:03, 891313.32it/s]\u001b[A\n",
      " 24%|██▍       | 1077990/4411532 [00:01<00:03, 921882.86it/s]\u001b[A\n",
      " 27%|██▋       | 1174594/4411532 [00:01<00:03, 926497.83it/s]\u001b[A\n",
      " 29%|██▉       | 1279329/4411532 [00:01<00:03, 939659.14it/s]\u001b[A\n",
      " 31%|███       | 1375406/4411532 [00:01<00:03, 945893.94it/s]\u001b[A\n",
      " 33%|███▎      | 1476569/4411532 [00:01<00:03, 964698.85it/s]\u001b[A\n",
      " 36%|███▌      | 1573022/4411532 [00:01<00:02, 958937.76it/s]\u001b[A\n",
      " 38%|███▊      | 1668912/4411532 [00:01<00:02, 943662.73it/s]\u001b[A\n",
      " 40%|████      | 1765739/4411532 [00:01<00:02, 938414.24it/s]\u001b[A\n",
      " 42%|████▏     | 1863644/4411532 [00:02<00:02, 950245.26it/s]\u001b[A\n",
      " 44%|████▍     | 1958735/4411532 [00:02<00:02, 884796.08it/s]\u001b[A\n",
      " 46%|████▋     | 2048167/4411532 [00:02<00:03, 785158.83it/s]\u001b[A\n",
      " 49%|████▊     | 2141272/4411532 [00:02<00:02, 818895.54it/s]\u001b[A\n",
      " 51%|█████     | 2239141/4411532 [00:02<00:02, 861072.40it/s]\u001b[A\n",
      " 53%|█████▎    | 2329114/4411532 [00:02<00:02, 870527.87it/s]\u001b[A\n",
      " 55%|█████▍    | 2417941/4411532 [00:02<00:02, 875774.65it/s]\u001b[A\n",
      " 57%|█████▋    | 2506613/4411532 [00:02<00:02, 861058.90it/s]\u001b[A\n",
      " 59%|█████▉    | 2612074/4411532 [00:02<00:02, 891205.03it/s]\u001b[A\n",
      " 61%|██████    | 2702038/4411532 [00:03<00:01, 860853.65it/s]\u001b[A\n",
      " 63%|██████▎   | 2788937/4411532 [00:03<00:02, 761928.54it/s]\u001b[A\n",
      " 65%|██████▌   | 2867792/4411532 [00:03<00:02, 749219.91it/s]\u001b[A\n",
      " 67%|██████▋   | 2944625/4411532 [00:03<00:01, 735131.48it/s]\u001b[A\n",
      " 69%|██████▉   | 3040665/4411532 [00:03<00:01, 790775.35it/s]\u001b[A\n",
      " 71%|███████   | 3138690/4411532 [00:03<00:01, 811844.44it/s]\u001b[A\n",
      " 73%|███████▎  | 3239694/4411532 [00:03<00:01, 851515.25it/s]\u001b[A\n",
      " 76%|███████▌  | 3336844/4411532 [00:03<00:01, 884278.67it/s]\u001b[A\n",
      " 78%|███████▊  | 3426766/4411532 [00:03<00:01, 862053.37it/s]\u001b[A\n",
      " 80%|███████▉  | 3519084/4411532 [00:04<00:01, 876667.11it/s]\u001b[A\n",
      " 82%|████████▏ | 3607629/4411532 [00:04<00:00, 878405.41it/s]\u001b[A\n",
      " 84%|████████▍ | 3718814/4411532 [00:04<00:00, 937453.00it/s]\u001b[A\n",
      " 87%|████████▋ | 3818172/4411532 [00:04<00:00, 953613.40it/s]\u001b[A\n",
      " 89%|████████▊ | 3914672/4411532 [00:04<00:00, 810298.46it/s]\u001b[A\n",
      " 91%|█████████ | 4000220/4411532 [00:04<00:00, 757293.34it/s]\u001b[A\n",
      " 92%|█████████▏| 4079814/4411532 [00:04<00:00, 711970.84it/s]\u001b[A\n",
      " 94%|█████████▍| 4168119/4411532 [00:04<00:00, 755904.04it/s]\u001b[A\n",
      " 96%|█████████▋| 4250236/4411532 [00:04<00:00, 771348.99it/s]\u001b[A\n",
      " 99%|█████████▊| 4355639/4411532 [00:05<00:00, 838838.44it/s]\u001b[A\n",
      " 67%|██████▋   | 24/36 [02:20<01:11,  5.96s/it]863843.77it/s]\u001b[A\n",
      "  0%|          | 0/4411532 [00:00<?, ?it/s]\u001b[A\n",
      "  4%|▍         | 168667/4411532 [00:00<00:02, 1686667.59it/s]\u001b[A\n",
      "  8%|▊         | 331304/4411532 [00:00<00:02, 1668112.06it/s]\u001b[A\n",
      " 11%|█▏        | 501482/4411532 [00:00<00:02, 1678069.83it/s]\u001b[A\n",
      " 15%|█▌        | 679646/4411532 [00:00<00:02, 1707852.21it/s]\u001b[A\n",
      " 20%|█▉        | 862944/4411532 [00:00<00:02, 1743557.37it/s]\u001b[A\n",
      " 24%|██▍       | 1050885/4411532 [00:00<00:01, 1782204.51it/s]\u001b[A\n",
      " 28%|██▊       | 1240750/4411532 [00:00<00:01, 1815608.30it/s]\u001b[A\n",
      " 33%|███▎      | 1433980/4411532 [00:00<00:01, 1849106.61it/s]\u001b[A\n",
      " 37%|███▋      | 1628592/4411532 [00:00<00:01, 1877176.26it/s]\u001b[A\n",
      " 41%|████▏     | 1824529/4411532 [00:01<00:01, 1901098.97it/s]\u001b[A\n",
      " 46%|████▌     | 2022138/4411532 [00:01<00:01, 1922989.63it/s]\u001b[A\n",
      " 50%|█████     | 2222043/4411532 [00:01<00:01, 1945192.18it/s]\u001b[A\n",
      " 55%|█████▍    | 2419742/4411532 [00:01<00:01, 1954621.39it/s]\u001b[A\n",
      " 59%|█████▉    | 2617056/4411532 [00:01<00:00, 1960138.14it/s]\u001b[A\n",
      " 64%|██████▍   | 2817387/4411532 [00:01<00:00, 1972890.83it/s]\u001b[A\n",
      " 68%|██████▊   | 3017797/4411532 [00:01<00:00, 1982147.39it/s]\u001b[A\n",
      " 73%|███████▎  | 3215550/4411532 [00:01<00:00, 1980449.75it/s]\u001b[A\n",
      " 77%|███████▋  | 3415581/4411532 [00:01<00:00, 1986365.45it/s]\u001b[A\n",
      " 82%|████████▏ | 3615988/4411532 [00:01<00:00, 1991640.20it/s]\u001b[A\n",
      " 86%|████████▋ | 3815000/4411532 [00:02<00:00, 1990972.17it/s]\u001b[A\n",
      " 91%|█████████ | 4015261/4411532 [00:02<00:00, 1994445.60it/s]\u001b[A\n",
      " 96%|█████████▌| 4214841/4411532 [00:02<00:00, 1994849.44it/s]\u001b[A\n",
      " 69%|██████▉   | 25/36 [02:23<00:55,  5.02s/it]1916811.00it/s]\u001b[A\n",
      "  0%|          | 0/4411532 [00:00<?, ?it/s]\u001b[A\n",
      "  4%|▍         | 168220/4411532 [00:00<00:02, 1682185.56it/s]\u001b[A\n",
      "  7%|▋         | 329339/4411532 [00:00<00:02, 1660236.55it/s]\u001b[A\n",
      " 11%|█▏        | 498131/4411532 [00:00<00:02, 1668442.70it/s]\u001b[A\n",
      " 15%|█▌        | 674217/4411532 [00:00<00:02, 1695131.13it/s]\u001b[A\n",
      " 19%|█▉        | 854395/4411532 [00:00<00:02, 1725774.28it/s]\u001b[A\n",
      " 24%|██▎       | 1038927/4411532 [00:00<00:01, 1759975.09it/s]\u001b[A\n",
      " 28%|██▊       | 1225499/4411532 [00:00<00:01, 1790416.21it/s]\u001b[A\n",
      " 32%|███▏      | 1417710/4411532 [00:00<00:01, 1827989.00it/s]\u001b[A\n",
      " 36%|███▋      | 1608765/4411532 [00:00<00:01, 1851996.18it/s]\u001b[A\n",
      " 41%|████      | 1804782/4411532 [00:01<00:01, 1883171.52it/s]\u001b[A\n",
      " 45%|████▌     | 1999971/4411532 [00:01<00:01, 1903271.46it/s]\u001b[A\n",
      " 50%|████▉     | 2195661/4411532 [00:01<00:01, 1919048.02it/s]\u001b[A\n",
      " 54%|█████▍    | 2393074/4411532 [00:01<00:01, 1935246.33it/s]\u001b[A\n",
      " 59%|█████▊    | 2589797/4411532 [00:01<00:00, 1944730.87it/s]\u001b[A\n",
      " 63%|██████▎   | 2787271/4411532 [00:01<00:00, 1953636.58it/s]\u001b[A\n",
      " 68%|██████▊   | 2984354/4411532 [00:01<00:00, 1958758.01it/s]\u001b[A\n",
      " 72%|███████▏  | 3179761/4411532 [00:01<00:00, 1930796.76it/s]\u001b[A\n",
      " 77%|███████▋  | 3375568/4411532 [00:01<00:00, 1938897.80it/s]\u001b[A\n",
      " 81%|████████  | 3570406/4411532 [00:01<00:00, 1941730.54it/s]\u001b[A\n",
      " 85%|████████▌ | 3767752/4411532 [00:02<00:00, 1951140.90it/s]\u001b[A\n",
      " 90%|████████▉ | 3964432/4411532 [00:02<00:00, 1955811.55it/s]\u001b[A\n",
      " 94%|█████████▍| 4160832/4411532 [00:02<00:00, 1958257.28it/s]\u001b[A\n",
      " 99%|█████████▉| 4358631/4411532 [00:02<00:00, 1964134.79it/s]\u001b[A\n",
      " 72%|███████▏  | 26/36 [02:26<00:44,  4.43s/it]1885960.58it/s]\u001b[A\n",
      "  0%|          | 0/4411532 [00:00<?, ?it/s]\u001b[A\n",
      "  4%|▍         | 168759/4411532 [00:00<00:02, 1687583.56it/s]\u001b[A\n",
      "  7%|▋         | 329835/4411532 [00:00<00:02, 1663775.94it/s]\u001b[A\n",
      " 11%|█▏        | 499631/4411532 [00:00<00:02, 1673883.87it/s]\u001b[A\n",
      " 15%|█▌        | 675785/4411532 [00:00<00:02, 1699248.96it/s]\u001b[A\n",
      " 19%|█▉        | 858056/4411532 [00:00<00:02, 1734492.80it/s]\u001b[A\n",
      " 24%|██▎       | 1043080/4411532 [00:00<00:01, 1767666.57it/s]\u001b[A\n",
      " 28%|██▊       | 1229718/4411532 [00:00<00:01, 1796164.53it/s]\u001b[A\n",
      " 32%|███▏      | 1418987/4411532 [00:00<00:01, 1824071.59it/s]\u001b[A\n",
      " 37%|███▋      | 1611969/4411532 [00:00<00:01, 1854558.12it/s]\u001b[A\n",
      " 41%|████      | 1803143/4411532 [00:01<00:01, 1870711.61it/s]\u001b[A\n",
      " 45%|████▌     | 1994214/4411532 [00:01<00:01, 1882533.39it/s]\u001b[A\n",
      " 50%|████▉     | 2190819/4411532 [00:01<00:01, 1906832.93it/s]\u001b[A\n",
      " 54%|█████▍    | 2389326/4411532 [00:01<00:01, 1929645.27it/s]\u001b[A\n",
      " 59%|█████▊    | 2587530/4411532 [00:01<00:00, 1945065.59it/s]\u001b[A\n",
      " 63%|██████▎   | 2786522/4411532 [00:01<00:00, 1958305.94it/s]\u001b[A\n",
      " 68%|██████▊   | 2983278/4411532 [00:01<00:00, 1961069.37it/s]\u001b[A\n",
      " 72%|███████▏  | 3183221/4411532 [00:01<00:00, 1972421.28it/s]\u001b[A\n",
      " 77%|███████▋  | 3382939/4411532 [00:01<00:00, 1979783.35it/s]\u001b[A\n",
      " 81%|████████  | 3580713/4411532 [00:01<00:00, 1978276.98it/s]\u001b[A\n",
      " 86%|████████▌ | 3780908/4411532 [00:02<00:00, 1985319.04it/s]\u001b[A\n",
      " 90%|█████████ | 3979346/4411532 [00:02<00:00, 1981988.89it/s]\u001b[A\n",
      " 95%|█████████▍| 4179271/4411532 [00:02<00:00, 1987133.59it/s]\u001b[A\n",
      " 99%|█████████▉| 4378968/4411532 [00:02<00:00, 1990073.47it/s]\u001b[A\n",
      " 75%|███████▌  | 27/36 [02:29<00:35,  3.97s/it]1896465.18it/s]\u001b[A\n",
      "  0%|          | 0/4411532 [00:00<?, ?it/s]\u001b[A\n",
      "  4%|▍         | 166972/4411532 [00:00<00:02, 1669713.63it/s]\u001b[A\n",
      "  7%|▋         | 327937/4411532 [00:00<00:02, 1651227.15it/s]\u001b[A\n",
      " 11%|█         | 495461/4411532 [00:00<00:02, 1658355.36it/s]\u001b[A\n",
      " 15%|█▌        | 668772/4411532 [00:00<00:02, 1680092.72it/s]\u001b[A\n",
      " 19%|█▉        | 845787/4411532 [00:00<00:02, 1706130.95it/s]\u001b[A\n",
      " 23%|██▎       | 1019917/4411532 [00:00<00:01, 1716530.86it/s]\u001b[A\n",
      " 27%|██▋       | 1206167/4411532 [00:00<00:01, 1757860.65it/s]\u001b[A\n",
      " 32%|███▏      | 1389773/4411532 [00:00<00:01, 1780611.24it/s]\u001b[A\n",
      " 36%|███▌      | 1577262/4411532 [00:00<00:01, 1807879.56it/s]\u001b[A\n",
      " 40%|████      | 1765455/4411532 [00:01<00:01, 1829474.73it/s]\u001b[A\n",
      " 44%|████▍     | 1954284/4411532 [00:01<00:01, 1846730.20it/s]\u001b[A\n",
      " 49%|████▊     | 2146471/4411532 [00:01<00:01, 1868647.11it/s]\u001b[A\n",
      " 53%|█████▎    | 2341788/4411532 [00:01<00:01, 1893223.66it/s]\u001b[A\n",
      " 58%|█████▊    | 2537251/4411532 [00:01<00:00, 1911235.79it/s]\u001b[A\n",
      " 62%|██████▏   | 2734422/4411532 [00:01<00:00, 1928984.11it/s]\u001b[A\n",
      " 66%|██████▋   | 2932557/4411532 [00:01<00:00, 1944400.10it/s]\u001b[A\n",
      " 71%|███████   | 3128965/4411532 [00:01<00:00, 1950260.32it/s]\u001b[A\n",
      " 75%|███████▌  | 3327932/4411532 [00:01<00:00, 1961917.49it/s]\u001b[A\n",
      " 80%|███████▉  | 3527075/4411532 [00:01<00:00, 1970676.75it/s]\u001b[A\n",
      " 84%|████████▍ | 3725220/4411532 [00:02<00:00, 1973895.56it/s]\u001b[A\n",
      " 89%|████████▉ | 3922532/4411532 [00:02<00:00, 1972243.88it/s]\u001b[A\n",
      " 93%|█████████▎| 4119703/4411532 [00:02<00:00, 1971950.23it/s]\u001b[A\n",
      " 98%|█████████▊| 4316861/4411532 [00:02<00:00, 1969982.35it/s]\u001b[A\n",
      " 78%|███████▊  | 28/36 [02:32<00:29,  3.67s/it]1873164.32it/s]\u001b[A\n",
      "  0%|          | 0/4411532 [00:00<?, ?it/s]\u001b[A\n",
      "  4%|▍         | 169204/4411532 [00:00<00:02, 1692033.55it/s]\u001b[A\n",
      "  7%|▋         | 330051/4411532 [00:00<00:02, 1666064.82it/s]\u001b[A\n",
      " 11%|█▏        | 499886/4411532 [00:00<00:02, 1675620.04it/s]\u001b[A\n",
      " 15%|█▌        | 679268/4411532 [00:00<00:02, 1709410.75it/s]\u001b[A\n",
      " 20%|█▉        | 861775/4411532 [00:00<00:02, 1742536.38it/s]\u001b[A\n",
      " 24%|██▍       | 1049342/4411532 [00:00<00:01, 1780448.13it/s]\u001b[A\n",
      " 28%|██▊       | 1240199/4411532 [00:00<00:01, 1817040.66it/s]\u001b[A\n",
      " 33%|███▎      | 1435296/4411532 [00:00<00:01, 1855247.38it/s]\u001b[A\n",
      " 37%|███▋      | 1627318/4411532 [00:00<00:01, 1867149.48it/s]\u001b[A\n",
      " 41%|████▏     | 1824970/4411532 [00:01<00:01, 1898667.47it/s]\u001b[A\n",
      " 46%|████▌     | 2022352/4411532 [00:01<00:01, 1920604.59it/s]\u001b[A\n",
      " 50%|█████     | 2220127/4411532 [00:01<00:01, 1937397.62it/s]\u001b[A\n",
      " 55%|█████▍    | 2417328/4411532 [00:01<00:01, 1947652.26it/s]\u001b[A\n",
      " 59%|█████▉    | 2617258/4411532 [00:01<00:00, 1962862.00it/s]\u001b[A\n",
      " 64%|██████▍   | 2816553/4411532 [00:01<00:00, 1971790.34it/s]\u001b[A\n",
      " 68%|██████▊   | 3016693/4411532 [00:01<00:00, 1980578.59it/s]\u001b[A\n",
      " 73%|███████▎  | 3218177/4411532 [00:01<00:00, 1990733.20it/s]\u001b[A\n",
      " 78%|███████▊  | 3420237/4411532 [00:01<00:00, 1999597.85it/s]\u001b[A\n",
      " 82%|████████▏ | 3623150/4411532 [00:01<00:00, 2008361.72it/s]\u001b[A\n",
      " 87%|████████▋ | 3824946/4411532 [00:02<00:00, 2011229.31it/s]\u001b[A\n",
      " 91%|█████████▏| 4027855/4411532 [00:02<00:00, 2016552.12it/s]\u001b[A\n",
      " 96%|█████████▌| 4229448/4411532 [00:02<00:00, 1859836.54it/s]\u001b[A\n",
      " 81%|████████  | 29/36 [02:35<00:24,  3.44s/it]1894921.74it/s]\u001b[A\n",
      "  0%|          | 0/4411532 [00:00<?, ?it/s]\u001b[A\n",
      "  4%|▍         | 167912/4411532 [00:00<00:02, 1679117.60it/s]\u001b[A\n",
      "  7%|▋         | 329196/4411532 [00:00<00:02, 1658668.60it/s]\u001b[A\n",
      " 11%|█▏        | 500194/4411532 [00:00<00:02, 1673724.49it/s]\u001b[A\n",
      " 15%|█▌        | 680156/4411532 [00:00<00:02, 1709603.28it/s]\u001b[A\n",
      " 20%|█▉        | 863642/4411532 [00:00<00:02, 1745345.22it/s]\u001b[A\n",
      " 24%|██▍       | 1050855/4411532 [00:00<00:01, 1781539.44it/s]\u001b[A\n",
      " 28%|██▊       | 1239500/4411532 [00:00<00:01, 1811765.86it/s]\u001b[A\n",
      " 32%|███▏      | 1433501/4411532 [00:00<00:01, 1848422.04it/s]\u001b[A\n",
      " 37%|███▋      | 1630131/4411532 [00:00<00:01, 1882272.18it/s]\u001b[A\n",
      " 41%|████▏     | 1824974/4411532 [00:01<00:01, 1901640.82it/s]\u001b[A\n",
      " 46%|████▌     | 2019640/4411532 [00:01<00:01, 1914925.60it/s]\u001b[A\n",
      " 50%|█████     | 2214948/4411532 [00:01<00:01, 1926212.29it/s]\u001b[A\n",
      " 55%|█████▍    | 2409405/4411532 [00:01<00:01, 1931680.91it/s]\u001b[A\n",
      " 59%|█████▉    | 2604048/4411532 [00:01<00:00, 1936081.29it/s]\u001b[A\n",
      " 63%|██████▎   | 2799409/4411532 [00:01<00:00, 1941303.20it/s]\u001b[A\n",
      " 68%|██████▊   | 2996191/4411532 [00:01<00:00, 1949182.07it/s]\u001b[A\n",
      " 72%|███████▏  | 3193951/4411532 [00:01<00:00, 1957617.72it/s]\u001b[A\n",
      " 77%|███████▋  | 3392279/4411532 [00:01<00:00, 1965244.17it/s]\u001b[A\n",
      " 81%|████████▏ | 3591049/4411532 [00:01<00:00, 1971925.22it/s]\u001b[A\n",
      " 86%|████████▌ | 3789662/4411532 [00:02<00:00, 1976164.43it/s]\u001b[A\n",
      " 90%|█████████ | 3988244/4411532 [00:02<00:00, 1979048.97it/s]\u001b[A\n",
      " 95%|█████████▍| 4187087/4411532 [00:02<00:00, 1981853.13it/s]\u001b[A\n",
      " 99%|█████████▉| 4386603/4411532 [00:02<00:00, 1985824.25it/s]\u001b[A\n",
      " 83%|████████▎ | 30/36 [02:38<00:19,  3.30s/it]1900022.88it/s]\u001b[A\n",
      "  0%|          | 0/4411532 [00:00<?, ?it/s]\u001b[A\n",
      "  4%|▍         | 168610/4411532 [00:00<00:02, 1686089.55it/s]\u001b[A\n",
      "  7%|▋         | 329381/4411532 [00:00<00:02, 1661784.07it/s]\u001b[A\n",
      " 11%|█▏        | 500308/4411532 [00:00<00:02, 1675748.60it/s]\u001b[A\n",
      " 15%|█▌        | 674149/4411532 [00:00<00:02, 1694066.81it/s]\u001b[A\n",
      " 19%|█▉        | 856244/4411532 [00:00<00:02, 1730233.60it/s]\u001b[A\n",
      " 24%|██▎       | 1040221/4411532 [00:00<00:01, 1761696.94it/s]\u001b[A\n",
      " 28%|██▊       | 1228710/4411532 [00:00<00:01, 1796928.23it/s]\u001b[A\n",
      " 32%|███▏      | 1417288/4411532 [00:00<00:01, 1822687.47it/s]\u001b[A\n",
      " 36%|███▋      | 1609409/4411532 [00:00<00:01, 1851165.89it/s]\u001b[A\n",
      " 41%|████      | 1802958/4411532 [00:01<00:01, 1875680.63it/s]\u001b[A\n",
      " 45%|████▌     | 1994939/4411532 [00:01<00:01, 1888702.82it/s]\u001b[A\n",
      " 50%|████▉     | 2188211/4411532 [00:01<00:01, 1901693.86it/s]\u001b[A\n",
      " 54%|█████▍    | 2384399/4411532 [00:01<00:01, 1919356.21it/s]\u001b[A\n",
      " 59%|█████▊    | 2583046/4411532 [00:01<00:00, 1939008.49it/s]\u001b[A\n",
      " 63%|██████▎   | 2780717/4411532 [00:01<00:00, 1950164.87it/s]\u001b[A\n",
      " 68%|██████▊   | 2978829/4411532 [00:01<00:00, 1959347.14it/s]\u001b[A\n",
      " 72%|███████▏  | 3177294/4411532 [00:01<00:00, 1966867.76it/s]\u001b[A\n",
      " 76%|███████▋  | 3373670/4411532 [00:01<00:00, 1927000.45it/s]\u001b[A\n",
      " 81%|████████  | 3572471/4411532 [00:01<00:00, 1944902.94it/s]\u001b[A\n",
      " 85%|████████▌ | 3766975/4411532 [00:02<00:00, 1942405.07it/s]\u001b[A\n",
      " 90%|████████▉ | 3964713/4411532 [00:02<00:00, 1952763.36it/s]\u001b[A\n",
      " 94%|█████████▍| 4165502/4411532 [00:02<00:00, 1968978.67it/s]\u001b[A\n",
      " 99%|█████████▉| 4362887/4411532 [00:02<00:00, 1970436.70it/s]\u001b[A\n",
      " 86%|████████▌ | 31/36 [02:41<00:15,  3.19s/it]1885892.91it/s]\u001b[A\n",
      "  0%|          | 0/4411532 [00:00<?, ?it/s]\u001b[A\n",
      "  4%|▍         | 167709/4411532 [00:00<00:02, 1677083.60it/s]\u001b[A\n",
      "  7%|▋         | 328493/4411532 [00:00<00:02, 1655691.54it/s]\u001b[A\n",
      " 11%|█▏        | 498508/4411532 [00:00<00:02, 1668782.31it/s]\u001b[A\n",
      " 15%|█▌        | 675382/4411532 [00:00<00:02, 1697559.84it/s]\u001b[A\n",
      " 19%|█▉        | 856936/4411532 [00:00<00:02, 1731309.97it/s]\u001b[A\n",
      " 24%|██▎       | 1042701/4411532 [00:00<00:01, 1767366.85it/s]\u001b[A\n",
      " 28%|██▊       | 1230534/4411532 [00:00<00:01, 1799252.39it/s]\u001b[A\n",
      " 32%|███▏      | 1420461/4411532 [00:00<00:01, 1828131.83it/s]\u001b[A\n",
      " 36%|███▋      | 1609800/4411532 [00:00<00:01, 1847228.66it/s]\u001b[A\n",
      " 41%|████      | 1801167/4411532 [00:01<00:01, 1866669.45it/s]\u001b[A\n",
      " 45%|████▌     | 1998342/4411532 [00:01<00:01, 1896993.80it/s]\u001b[A\n",
      " 50%|████▉     | 2193850/4411532 [00:01<00:01, 1914050.50it/s]\u001b[A\n",
      " 54%|█████▍    | 2390869/4411532 [00:01<00:01, 1930552.71it/s]\u001b[A\n",
      " 59%|█████▊    | 2588685/4411532 [00:01<00:00, 1944591.72it/s]\u001b[A\n",
      " 63%|██████▎   | 2787681/4411532 [00:01<00:00, 1957979.92it/s]\u001b[A\n",
      " 68%|██████▊   | 2985781/4411532 [00:01<00:00, 1964827.34it/s]\u001b[A\n",
      " 72%|███████▏  | 3184446/4411532 [00:01<00:00, 1971322.79it/s]\u001b[A\n",
      " 77%|███████▋  | 3381369/4411532 [00:01<00:00, 1970690.82it/s]\u001b[A\n",
      " 81%|████████  | 3581555/4411532 [00:01<00:00, 1979938.34it/s]\u001b[A\n",
      " 86%|████████▌ | 3783037/4411532 [00:02<00:00, 1990271.70it/s]\u001b[A\n",
      " 90%|█████████ | 3981978/4411532 [00:02<00:00, 1977630.12it/s]\u001b[A\n",
      " 95%|█████████▍| 4179897/4411532 [00:02<00:00, 1978095.57it/s]\u001b[A\n",
      " 99%|█████████▉| 4379785/4411532 [00:02<00:00, 1984283.12it/s]\u001b[A\n",
      " 89%|████████▉ | 32/36 [02:44<00:12,  3.11s/it]1895398.08it/s]\u001b[A\n",
      "  0%|          | 0/4411532 [00:00<?, ?it/s]\u001b[A\n",
      "  4%|▍         | 170792/4411532 [00:00<00:02, 1707917.56it/s]\u001b[A\n",
      "  8%|▊         | 332245/4411532 [00:00<00:02, 1678784.28it/s]\u001b[A\n",
      " 11%|█▏        | 502746/4411532 [00:00<00:02, 1686566.17it/s]\u001b[A\n",
      " 15%|█▌        | 680567/4411532 [00:00<00:02, 1713048.84it/s]\u001b[A\n",
      " 20%|█▉        | 862317/4411532 [00:00<00:02, 1743098.38it/s]\u001b[A\n",
      " 24%|██▍       | 1049907/4411532 [00:00<00:01, 1780919.77it/s]\u001b[A\n",
      " 28%|██▊       | 1233395/4411532 [00:00<00:01, 1796769.62it/s]\u001b[A\n",
      " 32%|███▏      | 1424324/4411532 [00:00<00:01, 1829104.87it/s]\u001b[A\n",
      " 37%|███▋      | 1618120/4411532 [00:00<00:01, 1860453.33it/s]\u001b[A\n",
      " 41%|████      | 1811084/4411532 [00:01<00:01, 1880681.94it/s]\u001b[A\n",
      " 45%|████▌     | 2006303/4411532 [00:01<00:01, 1901576.07it/s]\u001b[A\n",
      " 50%|████▉     | 2204578/4411532 [00:01<00:01, 1925220.88it/s]\u001b[A\n",
      " 54%|█████▍    | 2403681/4411532 [00:01<00:01, 1944500.08it/s]\u001b[A\n",
      " 59%|█████▉    | 2601169/4411532 [00:01<00:00, 1953513.25it/s]\u001b[A\n",
      " 63%|██████▎   | 2800050/4411532 [00:01<00:00, 1963966.41it/s]\u001b[A\n",
      " 68%|██████▊   | 3001061/4411532 [00:01<00:00, 1977584.67it/s]\u001b[A\n",
      " 73%|███████▎  | 3202931/4411532 [00:01<00:00, 1989740.09it/s]\u001b[A\n",
      " 77%|███████▋  | 3401664/4411532 [00:01<00:00, 1989012.74it/s]\u001b[A\n",
      " 82%|████████▏ | 3601661/4411532 [00:01<00:00, 1992285.02it/s]\u001b[A\n",
      " 86%|████████▌ | 3803489/4411532 [00:02<00:00, 2000009.25it/s]\u001b[A\n",
      " 91%|█████████ | 4005706/4411532 [00:02<00:00, 2006602.60it/s]\u001b[A\n",
      " 95%|█████████▌| 4207821/4411532 [00:02<00:00, 2010943.93it/s]\u001b[A\n",
      "100%|█████████▉| 4408890/4411532 [00:02<00:00, 2010864.00it/s]\u001b[A\n",
      " 92%|█████████▏| 33/36 [02:47<00:09,  3.06s/it]1908861.28it/s]\u001b[A\n",
      "  0%|          | 0/4411532 [00:00<?, ?it/s]\u001b[A\n",
      "  4%|▍         | 170335/4411532 [00:00<00:02, 1703347.56it/s]\u001b[A\n",
      "  8%|▊         | 332402/4411532 [00:00<00:02, 1677669.93it/s]\u001b[A\n",
      " 11%|█▏        | 501989/4411532 [00:00<00:02, 1683086.89it/s]\u001b[A\n",
      " 15%|█▌        | 675726/4411532 [00:00<00:02, 1699008.01it/s]\u001b[A\n",
      " 19%|█▉        | 853120/4411532 [00:00<00:02, 1720813.67it/s]\u001b[A\n",
      " 24%|██▎       | 1037890/4411532 [00:00<00:01, 1757006.92it/s]\u001b[A\n",
      " 28%|██▊       | 1227238/4411532 [00:00<00:01, 1795834.39it/s]\u001b[A\n",
      " 32%|███▏      | 1418868/4411532 [00:00<00:01, 1830352.45it/s]\u001b[A\n",
      " 37%|███▋      | 1614419/4411532 [00:00<00:01, 1866183.83it/s]\u001b[A\n",
      " 41%|████      | 1810054/4411532 [00:01<00:01, 1892345.35it/s]\u001b[A\n",
      " 45%|████▌     | 2006275/4411532 [00:01<00:01, 1912775.92it/s]\u001b[A\n",
      " 50%|████▉     | 2203576/4411532 [00:01<00:01, 1930455.60it/s]\u001b[A\n",
      " 54%|█████▍    | 2400928/4411532 [00:01<00:01, 1943175.46it/s]\u001b[A\n",
      " 59%|█████▉    | 2599746/4411532 [00:01<00:00, 1956459.22it/s]\u001b[A\n",
      " 63%|██████▎   | 2797489/4411532 [00:01<00:00, 1962702.77it/s]\u001b[A\n",
      " 68%|██████▊   | 2995895/4411532 [00:01<00:00, 1969059.27it/s]\u001b[A\n",
      " 72%|███████▏  | 3196940/4411532 [00:01<00:00, 1981295.59it/s]\u001b[A\n",
      " 77%|███████▋  | 3397313/4411532 [00:01<00:00, 1987969.32it/s]\u001b[A\n",
      " 82%|████████▏ | 3598805/4411532 [00:01<00:00, 1995977.67it/s]\u001b[A\n",
      " 86%|████████▌ | 3798732/4411532 [00:02<00:00, 1996963.37it/s]\u001b[A\n",
      " 91%|█████████ | 3998963/4411532 [00:02<00:00, 1998560.65it/s]\u001b[A\n",
      " 95%|█████████▌| 4198998/4411532 [00:02<00:00, 1999096.26it/s]\u001b[A\n",
      "100%|█████████▉| 4400700/4411532 [00:02<00:00, 2004438.99it/s]\u001b[A\n",
      " 94%|█████████▍| 34/36 [02:50<00:06,  3.02s/it]1905836.99it/s]\u001b[A\n",
      "  0%|          | 0/4411532 [00:00<?, ?it/s]\u001b[A\n",
      "  4%|▎         | 160506/4411532 [00:00<00:02, 1605053.88it/s]\u001b[A\n",
      "  7%|▋         | 320646/4411532 [00:00<00:02, 1603955.28it/s]\u001b[A\n",
      " 11%|█         | 489506/4411532 [00:00<00:02, 1628442.26it/s]\u001b[A\n",
      " 15%|█▌        | 666164/4411532 [00:00<00:02, 1667558.94it/s]\u001b[A\n",
      " 19%|█▉        | 845845/4411532 [00:00<00:02, 1704335.71it/s]\u001b[A\n",
      " 23%|██▎       | 1031543/4411532 [00:00<00:01, 1747424.36it/s]\u001b[A\n",
      " 28%|██▊       | 1217690/4411532 [00:00<00:01, 1780142.54it/s]\u001b[A\n",
      " 32%|███▏      | 1407675/4411532 [00:00<00:01, 1814437.09it/s]\u001b[A\n",
      " 36%|███▋      | 1600036/4411532 [00:00<00:01, 1845864.50it/s]\u001b[A\n",
      " 41%|████      | 1794382/4411532 [00:01<00:01, 1874094.84it/s]\u001b[A\n",
      " 45%|████▌     | 1989185/4411532 [00:01<00:01, 1895678.52it/s]\u001b[A\n",
      " 50%|████▉     | 2185101/4411532 [00:01<00:01, 1914285.96it/s]\u001b[A\n",
      " 54%|█████▍    | 2383104/4411532 [00:01<00:01, 1933545.34it/s]\u001b[A\n",
      " 59%|█████▊    | 2581267/4411532 [00:01<00:00, 1947721.72it/s]\u001b[A\n",
      " 63%|██████▎   | 2780419/4411532 [00:01<00:00, 1960656.76it/s]\u001b[A\n",
      " 68%|██████▊   | 2979499/4411532 [00:01<00:00, 1969601.22it/s]\u001b[A\n",
      " 72%|███████▏  | 3178454/4411532 [00:01<00:00, 1975542.88it/s]\u001b[A\n",
      " 77%|███████▋  | 3378141/4411532 [00:01<00:00, 1981890.78it/s]\u001b[A\n",
      " 81%|████████  | 3576181/4411532 [00:01<00:00, 1981439.62it/s]\u001b[A\n",
      " 86%|████████▌ | 3776243/4411532 [00:02<00:00, 1987154.16it/s]\u001b[A\n",
      " 90%|█████████ | 3975273/4411532 [00:02<00:00, 1988094.59it/s]\u001b[A\n",
      " 95%|█████████▍| 4177626/4411532 [00:02<00:00, 1998593.37it/s]\u001b[A\n",
      " 99%|█████████▉| 4378010/4411532 [00:02<00:00, 2000163.61it/s]\u001b[A\n",
      " 97%|█████████▋| 35/36 [02:52<00:02,  2.98s/it]1897099.64it/s]\u001b[A\n",
      "  0%|          | 0/4411532 [00:00<?, ?it/s]\u001b[A\n",
      "  4%|▍         | 168311/4411532 [00:00<00:02, 1683103.58it/s]\u001b[A\n",
      "  7%|▋         | 326036/4411532 [00:00<00:02, 1649884.34it/s]\u001b[A\n",
      " 11%|█         | 494905/4411532 [00:00<00:02, 1661336.77it/s]\u001b[A\n",
      " 15%|█▌        | 667512/4411532 [00:00<00:02, 1680239.25it/s]\u001b[A\n",
      " 19%|█▉        | 839706/4411532 [00:00<00:02, 1692535.13it/s]\u001b[A\n",
      " 23%|██▎       | 1024545/4411532 [00:00<00:01, 1736459.54it/s]\u001b[A\n",
      " 27%|██▋       | 1211725/4411532 [00:00<00:01, 1774960.38it/s]\u001b[A\n",
      " 32%|███▏      | 1403930/4411532 [00:00<00:01, 1816667.14it/s]\u001b[A\n",
      " 36%|███▌      | 1598107/4411532 [00:00<00:01, 1852471.27it/s]\u001b[A\n",
      " 41%|████      | 1792462/4411532 [00:01<00:01, 1878883.72it/s]\u001b[A\n",
      " 45%|████▌     | 1987185/4411532 [00:01<00:01, 1898877.68it/s]\u001b[A\n",
      " 50%|████▉     | 2183781/4411532 [00:01<00:01, 1918514.58it/s]\u001b[A\n",
      " 54%|█████▍    | 2381817/4411532 [00:01<00:01, 1936657.96it/s]\u001b[A\n",
      " 58%|█████▊    | 2578280/4411532 [00:01<00:00, 1944963.38it/s]\u001b[A\n",
      " 63%|██████▎   | 2775602/4411532 [00:01<00:00, 1953352.81it/s]\u001b[A\n",
      " 67%|██████▋   | 2973593/4411532 [00:01<00:00, 1961244.03it/s]\u001b[A\n",
      " 72%|███████▏  | 3169763/4411532 [00:01<00:00, 1961378.55it/s]\u001b[A\n",
      " 76%|███████▋  | 3369542/4411532 [00:01<00:00, 1972159.63it/s]\u001b[A\n",
      " 81%|████████  | 3566857/4411532 [00:01<00:00, 1968870.25it/s]\u001b[A\n",
      " 85%|████████▌ | 3763601/4411532 [00:02<00:00, 1952092.94it/s]\u001b[A\n",
      " 90%|████████▉ | 3961558/4411532 [00:02<00:00, 1960253.41it/s]\u001b[A\n",
      " 94%|█████████▍| 4158141/4411532 [00:02<00:00, 1961919.42it/s]\u001b[A\n",
      " 99%|█████████▊| 4355834/4411532 [00:02<00:00, 1966394.97it/s]\u001b[A\n",
      "100%|██████████| 36/36 [02:55<00:00,  2.97s/it]1885678.62it/s]\u001b[A\n"
     ]
    }
   ],
   "source": [
    "listOf_AmbRegions_DFs = []\n",
    "\n",
    "for SampleID in tqdm(SampleIDs_36CI_SOI): # tqdm( [\"M0011368_9\"])\n",
    "    \n",
    "    #print(f\"{sample_Counter} - Sample: {SampleID}\")\n",
    "    #SampleID = \"M0011368_9\"\n",
    "\n",
    "    Sample_Output_Dir = PMP_SM_TB_Portals_R1_Illumina_WGS_201201_OutputDir + \"/\" + SampleID\n",
    "\n",
    "    EBR_Ambigous_Regions_OutputDir = f\"{Sample_Output_Dir}/VariantCallingVersusH37Rv/EBR_Analysis_PB_MM2_AmbigousRegions\"\n",
    "    \n",
    "    #!mkdir $EBR_Ambigous_Regions_OutputDir\n",
    "    \n",
    "    # EBR_Ambigous_Regions_BED_PATH = f\"{EBR_Ambigous_Regions_OutputDir}/{SampleID}.EBR.V7.Amb.Regions.bed\"\n",
    "    \n",
    "    \n",
    "    #i_EBR_BED_DF = dictOf_BED_DFs_IndivSample_EBRs.get(SampleID, Sample_EBR_N0153_DF[ Sample_EBR_N0153_DF[\"score\"] == \"NotReal\" ] )   \n",
    "    #i_EBR_BED_DF = dictOf_BED_DFs_IndivSample_EBRs[SampleID]\n",
    "\n",
    "    i_EBR_BED_DF = convert_GenomeNParray_To_BED_DF( pd.Series(dictOf_EBR_IndivIsolate_NPYs[SampleID]).fillna(\"Ambiguous\").values )   \n",
    "\n",
    "    \n",
    "    \n",
    "    i_EBR_BED_DF_AMB_ONLY = i_EBR_BED_DF[ i_EBR_BED_DF[\"score\"] == \"Ambiguous\" ]\n",
    "\n",
    "    \n",
    "    i_EBR_BED_DF_AMB_ONLY[\"SampleID\"] = SampleID\n",
    "    \n",
    "    listOf_AmbRegions_DFs.append( i_EBR_BED_DF_AMB_ONLY )\n",
    "    \n",
    "    "
   ]
  },
  {
   "cell_type": "code",
   "execution_count": 35,
   "metadata": {},
   "outputs": [
    {
     "data": {
      "text/plain": [
       "(21, 6)"
      ]
     },
     "execution_count": 35,
     "metadata": {},
     "output_type": "execute_result"
    }
   ],
   "source": [
    "listOf_AmbRegions_DFs[0].shape"
   ]
  },
  {
   "cell_type": "code",
   "execution_count": 36,
   "metadata": {},
   "outputs": [],
   "source": [
    "All_EBR_AmbRegions_ForEach_36CI_DF = pd.concat(listOf_AmbRegions_DFs)\n",
    "All_EBR_AmbRegions_ForEach_36CI_DF[\"Length\"] = All_EBR_AmbRegions_ForEach_36CI_DF[\"chromEnd\"]  -  All_EBR_AmbRegions_ForEach_36CI_DF[\"chromStart\"]\n",
    "\n",
    "\n",
    "\n"
   ]
  },
  {
   "cell_type": "code",
   "execution_count": 37,
   "metadata": {},
   "outputs": [
    {
     "data": {
      "text/plain": [
       "(994, 7)"
      ]
     },
     "execution_count": 37,
     "metadata": {},
     "output_type": "execute_result"
    }
   ],
   "source": [
    "All_EBR_AmbRegions_ForEach_36CI_DF.shape"
   ]
  },
  {
   "cell_type": "code",
   "execution_count": null,
   "metadata": {},
   "outputs": [],
   "source": []
  },
  {
   "cell_type": "code",
   "execution_count": 38,
   "metadata": {},
   "outputs": [
    {
     "data": {
      "text/html": [
       "<div>\n",
       "<style scoped>\n",
       "    .dataframe tbody tr th:only-of-type {\n",
       "        vertical-align: middle;\n",
       "    }\n",
       "\n",
       "    .dataframe tbody tr th {\n",
       "        vertical-align: top;\n",
       "    }\n",
       "\n",
       "    .dataframe thead th {\n",
       "        text-align: right;\n",
       "    }\n",
       "</style>\n",
       "<table border=\"1\" class=\"dataframe\">\n",
       "  <thead>\n",
       "    <tr style=\"text-align: right;\">\n",
       "      <th></th>\n",
       "      <th>chrom</th>\n",
       "      <th>chromStart</th>\n",
       "      <th>chromEnd</th>\n",
       "      <th>name</th>\n",
       "      <th>score</th>\n",
       "      <th>SampleID</th>\n",
       "      <th>Length</th>\n",
       "    </tr>\n",
       "  </thead>\n",
       "  <tbody>\n",
       "    <tr>\n",
       "      <th>67</th>\n",
       "      <td>NC_000962.3</td>\n",
       "      <td>334694</td>\n",
       "      <td>334723</td>\n",
       "      <td>Region68_Length_29_bp</td>\n",
       "      <td>Ambiguous</td>\n",
       "      <td>M0011368_9</td>\n",
       "      <td>29</td>\n",
       "    </tr>\n",
       "    <tr>\n",
       "      <th>221</th>\n",
       "      <td>NC_000962.3</td>\n",
       "      <td>888762</td>\n",
       "      <td>889020</td>\n",
       "      <td>Region222_Length_258_bp</td>\n",
       "      <td>Ambiguous</td>\n",
       "      <td>M0011368_9</td>\n",
       "      <td>258</td>\n",
       "    </tr>\n",
       "    <tr>\n",
       "      <th>224</th>\n",
       "      <td>NC_000962.3</td>\n",
       "      <td>890379</td>\n",
       "      <td>890450</td>\n",
       "      <td>Region225_Length_71_bp</td>\n",
       "      <td>Ambiguous</td>\n",
       "      <td>M0011368_9</td>\n",
       "      <td>71</td>\n",
       "    </tr>\n",
       "    <tr>\n",
       "      <th>280</th>\n",
       "      <td>NC_000962.3</td>\n",
       "      <td>1074324</td>\n",
       "      <td>1074327</td>\n",
       "      <td>Region281_Length_3_bp</td>\n",
       "      <td>Ambiguous</td>\n",
       "      <td>M0011368_9</td>\n",
       "      <td>3</td>\n",
       "    </tr>\n",
       "    <tr>\n",
       "      <th>296</th>\n",
       "      <td>NC_000962.3</td>\n",
       "      <td>1093947</td>\n",
       "      <td>1094062</td>\n",
       "      <td>Region297_Length_115_bp</td>\n",
       "      <td>Ambiguous</td>\n",
       "      <td>M0011368_9</td>\n",
       "      <td>115</td>\n",
       "    </tr>\n",
       "  </tbody>\n",
       "</table>\n",
       "</div>"
      ],
      "text/plain": [
       "           chrom  chromStart  chromEnd                     name      score    SampleID  Length\n",
       "67   NC_000962.3      334694    334723    Region68_Length_29_bp  Ambiguous  M0011368_9      29\n",
       "221  NC_000962.3      888762    889020  Region222_Length_258_bp  Ambiguous  M0011368_9     258\n",
       "224  NC_000962.3      890379    890450   Region225_Length_71_bp  Ambiguous  M0011368_9      71\n",
       "280  NC_000962.3     1074324   1074327    Region281_Length_3_bp  Ambiguous  M0011368_9       3\n",
       "296  NC_000962.3     1093947   1094062  Region297_Length_115_bp  Ambiguous  M0011368_9     115"
      ]
     },
     "execution_count": 38,
     "metadata": {},
     "output_type": "execute_result"
    }
   ],
   "source": [
    "All_EBR_AmbRegions_ForEach_36CI_DF.head()"
   ]
  },
  {
   "cell_type": "code",
   "execution_count": 39,
   "metadata": {},
   "outputs": [
    {
     "data": {
      "text/html": [
       "<div>\n",
       "<style scoped>\n",
       "    .dataframe tbody tr th:only-of-type {\n",
       "        vertical-align: middle;\n",
       "    }\n",
       "\n",
       "    .dataframe tbody tr th {\n",
       "        vertical-align: top;\n",
       "    }\n",
       "\n",
       "    .dataframe thead th {\n",
       "        text-align: right;\n",
       "    }\n",
       "</style>\n",
       "<table border=\"1\" class=\"dataframe\">\n",
       "  <thead>\n",
       "    <tr style=\"text-align: right;\">\n",
       "      <th></th>\n",
       "      <th>chrom</th>\n",
       "      <th>chromStart</th>\n",
       "      <th>chromEnd</th>\n",
       "      <th>name</th>\n",
       "      <th>score</th>\n",
       "      <th>SampleID</th>\n",
       "      <th>Length</th>\n",
       "    </tr>\n",
       "  </thead>\n",
       "  <tbody>\n",
       "    <tr>\n",
       "      <th>20</th>\n",
       "      <td>NC_000962.3</td>\n",
       "      <td>334641</td>\n",
       "      <td>334653</td>\n",
       "      <td>Region21_Length_12_bp</td>\n",
       "      <td>Ambiguous</td>\n",
       "      <td>N0072</td>\n",
       "      <td>12</td>\n",
       "    </tr>\n",
       "    <tr>\n",
       "      <th>192</th>\n",
       "      <td>NC_000962.3</td>\n",
       "      <td>888762</td>\n",
       "      <td>889020</td>\n",
       "      <td>Region193_Length_258_bp</td>\n",
       "      <td>Ambiguous</td>\n",
       "      <td>N0072</td>\n",
       "      <td>258</td>\n",
       "    </tr>\n",
       "    <tr>\n",
       "      <th>233</th>\n",
       "      <td>NC_000962.3</td>\n",
       "      <td>1093947</td>\n",
       "      <td>1094062</td>\n",
       "      <td>Region234_Length_115_bp</td>\n",
       "      <td>Ambiguous</td>\n",
       "      <td>N0072</td>\n",
       "      <td>115</td>\n",
       "    </tr>\n",
       "    <tr>\n",
       "      <th>254</th>\n",
       "      <td>NC_000962.3</td>\n",
       "      <td>1190171</td>\n",
       "      <td>1190175</td>\n",
       "      <td>Region255_Length_4_bp</td>\n",
       "      <td>Ambiguous</td>\n",
       "      <td>N0072</td>\n",
       "      <td>4</td>\n",
       "    </tr>\n",
       "    <tr>\n",
       "      <th>303</th>\n",
       "      <td>NC_000962.3</td>\n",
       "      <td>1414948</td>\n",
       "      <td>1415887</td>\n",
       "      <td>Region304_Length_939_bp</td>\n",
       "      <td>Ambiguous</td>\n",
       "      <td>N0072</td>\n",
       "      <td>939</td>\n",
       "    </tr>\n",
       "  </tbody>\n",
       "</table>\n",
       "</div>"
      ],
      "text/plain": [
       "           chrom  chromStart  chromEnd                     name      score SampleID  Length\n",
       "20   NC_000962.3      334641    334653    Region21_Length_12_bp  Ambiguous    N0072      12\n",
       "192  NC_000962.3      888762    889020  Region193_Length_258_bp  Ambiguous    N0072     258\n",
       "233  NC_000962.3     1093947   1094062  Region234_Length_115_bp  Ambiguous    N0072     115\n",
       "254  NC_000962.3     1190171   1190175    Region255_Length_4_bp  Ambiguous    N0072       4\n",
       "303  NC_000962.3     1414948   1415887  Region304_Length_939_bp  Ambiguous    N0072     939"
      ]
     },
     "execution_count": 39,
     "metadata": {},
     "output_type": "execute_result"
    }
   ],
   "source": [
    "All_EBR_AmbRegions_ForEach_36CI_DF[All_EBR_AmbRegions_ForEach_36CI_DF[\"SampleID\"] == \"N0072\"].sort_values(\"chromStart\").head(5)"
   ]
  },
  {
   "cell_type": "code",
   "execution_count": 40,
   "metadata": {},
   "outputs": [
    {
     "data": {
      "text/html": [
       "<div>\n",
       "<style scoped>\n",
       "    .dataframe tbody tr th:only-of-type {\n",
       "        vertical-align: middle;\n",
       "    }\n",
       "\n",
       "    .dataframe tbody tr th {\n",
       "        vertical-align: top;\n",
       "    }\n",
       "\n",
       "    .dataframe thead th {\n",
       "        text-align: right;\n",
       "    }\n",
       "</style>\n",
       "<table border=\"1\" class=\"dataframe\">\n",
       "  <thead>\n",
       "    <tr style=\"text-align: right;\">\n",
       "      <th></th>\n",
       "      <th>chrom</th>\n",
       "      <th>chromStart</th>\n",
       "      <th>chromEnd</th>\n",
       "      <th>name</th>\n",
       "      <th>score</th>\n",
       "      <th>SampleID</th>\n",
       "      <th>Length</th>\n",
       "    </tr>\n",
       "  </thead>\n",
       "  <tbody>\n",
       "    <tr>\n",
       "      <th>451</th>\n",
       "      <td>NC_000962.3</td>\n",
       "      <td>2268721</td>\n",
       "      <td>2268725</td>\n",
       "      <td>Region452_Length_4_bp</td>\n",
       "      <td>Ambiguous</td>\n",
       "      <td>RW-TB008</td>\n",
       "      <td>4</td>\n",
       "    </tr>\n",
       "    <tr>\n",
       "      <th>359</th>\n",
       "      <td>NC_000962.3</td>\n",
       "      <td>1981814</td>\n",
       "      <td>1981819</td>\n",
       "      <td>Region360_Length_5_bp</td>\n",
       "      <td>Ambiguous</td>\n",
       "      <td>RW-TB008</td>\n",
       "      <td>5</td>\n",
       "    </tr>\n",
       "    <tr>\n",
       "      <th>472</th>\n",
       "      <td>NC_000962.3</td>\n",
       "      <td>2366969</td>\n",
       "      <td>2366975</td>\n",
       "      <td>Region473_Length_6_bp</td>\n",
       "      <td>Ambiguous</td>\n",
       "      <td>RW-TB008</td>\n",
       "      <td>6</td>\n",
       "    </tr>\n",
       "    <tr>\n",
       "      <th>42</th>\n",
       "      <td>NC_000962.3</td>\n",
       "      <td>334641</td>\n",
       "      <td>334653</td>\n",
       "      <td>Region43_Length_12_bp</td>\n",
       "      <td>Ambiguous</td>\n",
       "      <td>RW-TB008</td>\n",
       "      <td>12</td>\n",
       "    </tr>\n",
       "    <tr>\n",
       "      <th>694</th>\n",
       "      <td>NC_000962.3</td>\n",
       "      <td>3732552</td>\n",
       "      <td>3732570</td>\n",
       "      <td>Region695_Length_18_bp</td>\n",
       "      <td>Ambiguous</td>\n",
       "      <td>RW-TB008</td>\n",
       "      <td>18</td>\n",
       "    </tr>\n",
       "  </tbody>\n",
       "</table>\n",
       "</div>"
      ],
      "text/plain": [
       "           chrom  chromStart  chromEnd                    name      score  SampleID  Length\n",
       "451  NC_000962.3     2268721   2268725   Region452_Length_4_bp  Ambiguous  RW-TB008       4\n",
       "359  NC_000962.3     1981814   1981819   Region360_Length_5_bp  Ambiguous  RW-TB008       5\n",
       "472  NC_000962.3     2366969   2366975   Region473_Length_6_bp  Ambiguous  RW-TB008       6\n",
       "42   NC_000962.3      334641    334653   Region43_Length_12_bp  Ambiguous  RW-TB008      12\n",
       "694  NC_000962.3     3732552   3732570  Region695_Length_18_bp  Ambiguous  RW-TB008      18"
      ]
     },
     "execution_count": 40,
     "metadata": {},
     "output_type": "execute_result"
    }
   ],
   "source": [
    "All_EBR_AmbRegions_ForEach_36CI_DF[All_EBR_AmbRegions_ForEach_36CI_DF[\"SampleID\"] == \"RW-TB008\"].sort_values(\"Length\").head(5)"
   ]
  },
  {
   "cell_type": "code",
   "execution_count": null,
   "metadata": {},
   "outputs": [],
   "source": []
  },
  {
   "cell_type": "code",
   "execution_count": 41,
   "metadata": {},
   "outputs": [
    {
     "data": {
      "text/html": [
       "<div>\n",
       "<style scoped>\n",
       "    .dataframe tbody tr th:only-of-type {\n",
       "        vertical-align: middle;\n",
       "    }\n",
       "\n",
       "    .dataframe tbody tr th {\n",
       "        vertical-align: top;\n",
       "    }\n",
       "\n",
       "    .dataframe thead th {\n",
       "        text-align: right;\n",
       "    }\n",
       "</style>\n",
       "<table border=\"1\" class=\"dataframe\">\n",
       "  <thead>\n",
       "    <tr style=\"text-align: right;\">\n",
       "      <th></th>\n",
       "      <th>chrom</th>\n",
       "      <th>chromStart</th>\n",
       "      <th>chromEnd</th>\n",
       "      <th>name</th>\n",
       "      <th>score</th>\n",
       "      <th>SampleID</th>\n",
       "      <th>Length</th>\n",
       "    </tr>\n",
       "  </thead>\n",
       "  <tbody>\n",
       "    <tr>\n",
       "      <th>532</th>\n",
       "      <td>NC_000962.3</td>\n",
       "      <td>1987701</td>\n",
       "      <td>1987702</td>\n",
       "      <td>Region533_Length_1_bp</td>\n",
       "      <td>Ambiguous</td>\n",
       "      <td>M0016395_7</td>\n",
       "      <td>1</td>\n",
       "    </tr>\n",
       "    <tr>\n",
       "      <th>509</th>\n",
       "      <td>NC_000962.3</td>\n",
       "      <td>3501664</td>\n",
       "      <td>3501665</td>\n",
       "      <td>Region510_Length_1_bp</td>\n",
       "      <td>Ambiguous</td>\n",
       "      <td>DNA044</td>\n",
       "      <td>1</td>\n",
       "    </tr>\n",
       "  </tbody>\n",
       "</table>\n",
       "</div>"
      ],
      "text/plain": [
       "           chrom  chromStart  chromEnd                   name      score    SampleID  Length\n",
       "532  NC_000962.3     1987701   1987702  Region533_Length_1_bp  Ambiguous  M0016395_7       1\n",
       "509  NC_000962.3     3501664   3501665  Region510_Length_1_bp  Ambiguous      DNA044       1"
      ]
     },
     "execution_count": 41,
     "metadata": {},
     "output_type": "execute_result"
    }
   ],
   "source": [
    "All_EBR_AmbRegions_ForEach_36CI_DF.sort_values(\"Length\").head(2)"
   ]
  },
  {
   "cell_type": "code",
   "execution_count": null,
   "metadata": {},
   "outputs": [],
   "source": []
  },
  {
   "cell_type": "code",
   "execution_count": 42,
   "metadata": {},
   "outputs": [
    {
     "data": {
      "text/plain": [
       "(array([606., 154., 165.,  13.,  14.,  13.,   7.,   8.,   4.,   1.,   0.,\n",
       "          0.,   0.,   0.,   0.,   0.,   0.,   0.,   2.,   1.,   1.,   3.,\n",
       "          0.,   1.,   1.]),\n",
       " array([    0,   500,  1000,  1500,  2000,  2500,  3000,  3500,  4000,\n",
       "         4500,  5000,  5500,  6000,  6500,  7000,  7500,  8000,  8500,\n",
       "         9000,  9500, 10000, 10500, 11000, 11500, 12000, 12500]),\n",
       " <a list of 25 Patch objects>)"
      ]
     },
     "execution_count": 42,
     "metadata": {},
     "output_type": "execute_result"
    },
    {
     "data": {
      "image/png": "[encoded data removed]",
      "text/plain": [
       "<Figure size 432x288 with 1 Axes>"
      ]
     },
     "metadata": {
      "needs_background": "light"
     },
     "output_type": "display_data"
    }
   ],
   "source": [
    "plt.hist(All_EBR_AmbRegions_ForEach_36CI_DF[\"Length\"], bins = np.arange(0, 13000, 500))"
   ]
  },
  {
   "cell_type": "code",
   "execution_count": 43,
   "metadata": {},
   "outputs": [
    {
     "data": {
      "image/png": "[encoded data removed]",
      "text/plain": [
       "<Figure size 432x288 with 1 Axes>"
      ]
     },
     "metadata": {
      "needs_background": "light"
     },
     "output_type": "display_data"
    }
   ],
   "source": [
    "plt.hist(All_EBR_AmbRegions_ForEach_36CI_DF[\"Length\"], bins = np.arange(0, 13000, 10))\n",
    "\n",
    "plt.xlim(0,500)\n",
    "plt.show()"
   ]
  },
  {
   "cell_type": "code",
   "execution_count": null,
   "metadata": {},
   "outputs": [],
   "source": []
  },
  {
   "cell_type": "markdown",
   "metadata": {},
   "source": [
    "# Output AMB regions for all 36 individual isolates in 1 table"
   ]
  },
  {
   "cell_type": "code",
   "execution_count": 44,
   "metadata": {},
   "outputs": [
    {
     "data": {
      "text/html": [
       "<div>\n",
       "<style scoped>\n",
       "    .dataframe tbody tr th:only-of-type {\n",
       "        vertical-align: middle;\n",
       "    }\n",
       "\n",
       "    .dataframe tbody tr th {\n",
       "        vertical-align: top;\n",
       "    }\n",
       "\n",
       "    .dataframe thead th {\n",
       "        text-align: right;\n",
       "    }\n",
       "</style>\n",
       "<table border=\"1\" class=\"dataframe\">\n",
       "  <thead>\n",
       "    <tr style=\"text-align: right;\">\n",
       "      <th></th>\n",
       "      <th>chrom</th>\n",
       "      <th>chromStart</th>\n",
       "      <th>chromEnd</th>\n",
       "      <th>name</th>\n",
       "      <th>score</th>\n",
       "      <th>SampleID</th>\n",
       "      <th>Length</th>\n",
       "    </tr>\n",
       "  </thead>\n",
       "  <tbody>\n",
       "    <tr>\n",
       "      <th>67</th>\n",
       "      <td>NC_000962.3</td>\n",
       "      <td>334694</td>\n",
       "      <td>334723</td>\n",
       "      <td>Region68_Length_29_bp</td>\n",
       "      <td>Ambiguous</td>\n",
       "      <td>M0011368_9</td>\n",
       "      <td>29</td>\n",
       "    </tr>\n",
       "    <tr>\n",
       "      <th>221</th>\n",
       "      <td>NC_000962.3</td>\n",
       "      <td>888762</td>\n",
       "      <td>889020</td>\n",
       "      <td>Region222_Length_258_bp</td>\n",
       "      <td>Ambiguous</td>\n",
       "      <td>M0011368_9</td>\n",
       "      <td>258</td>\n",
       "    </tr>\n",
       "    <tr>\n",
       "      <th>224</th>\n",
       "      <td>NC_000962.3</td>\n",
       "      <td>890379</td>\n",
       "      <td>890450</td>\n",
       "      <td>Region225_Length_71_bp</td>\n",
       "      <td>Ambiguous</td>\n",
       "      <td>M0011368_9</td>\n",
       "      <td>71</td>\n",
       "    </tr>\n",
       "    <tr>\n",
       "      <th>280</th>\n",
       "      <td>NC_000962.3</td>\n",
       "      <td>1074324</td>\n",
       "      <td>1074327</td>\n",
       "      <td>Region281_Length_3_bp</td>\n",
       "      <td>Ambiguous</td>\n",
       "      <td>M0011368_9</td>\n",
       "      <td>3</td>\n",
       "    </tr>\n",
       "    <tr>\n",
       "      <th>296</th>\n",
       "      <td>NC_000962.3</td>\n",
       "      <td>1093947</td>\n",
       "      <td>1094062</td>\n",
       "      <td>Region297_Length_115_bp</td>\n",
       "      <td>Ambiguous</td>\n",
       "      <td>M0011368_9</td>\n",
       "      <td>115</td>\n",
       "    </tr>\n",
       "  </tbody>\n",
       "</table>\n",
       "</div>"
      ],
      "text/plain": [
       "           chrom  chromStart  chromEnd                     name      score    SampleID  Length\n",
       "67   NC_000962.3      334694    334723    Region68_Length_29_bp  Ambiguous  M0011368_9      29\n",
       "221  NC_000962.3      888762    889020  Region222_Length_258_bp  Ambiguous  M0011368_9     258\n",
       "224  NC_000962.3      890379    890450   Region225_Length_71_bp  Ambiguous  M0011368_9      71\n",
       "280  NC_000962.3     1074324   1074327    Region281_Length_3_bp  Ambiguous  M0011368_9       3\n",
       "296  NC_000962.3     1093947   1094062  Region297_Length_115_bp  Ambiguous  M0011368_9     115"
      ]
     },
     "execution_count": 44,
     "metadata": {},
     "output_type": "execute_result"
    }
   ],
   "source": [
    "All_EBR_AmbRegions_ForEach_36CI_DF.head()"
   ]
  },
  {
   "cell_type": "code",
   "execution_count": 45,
   "metadata": {},
   "outputs": [],
   "source": [
    "EBR_Ambigously_Regions_PerIsolate_BED_PATH = f\"{PBvIll_EBR_Ambigous_RegionsDir}/Mtb_AmbigouslyDefinedRegions_PerIsolate_V1.bed\"\n",
    "EBR_Ambigously_Regions_PerIsolate_WiHeader_BED_PATH = f\"{PBvIll_EBR_Ambigous_RegionsDir}/Mtb_AmbigouslyDefinedRegions_PerIsolate_V1.WithHeader.bed\"\n",
    "\n",
    "\n",
    "All_EBR_AmbRegions_ForEach_36CI_DF.to_csv(EBR_Ambigously_Regions_PerIsolate_WiHeader_BED_PATH,\n",
    "                           sep = \"\\t\",\n",
    "                           index = False,\n",
    "                           header = True)\n",
    "\n"
   ]
  },
  {
   "cell_type": "code",
   "execution_count": 46,
   "metadata": {},
   "outputs": [
    {
     "name": "stdout",
     "output_type": "stream",
     "text": [
      "total 184K\n",
      "drwxrwsr-x 2 mm774 farhat  188 Mar 26 14:49 .\n",
      "drwxrwsr-x 4 mm774 farhat  269 Mar 26 14:46 ..\n",
      "-rw-rw-r-- 1 mm774 farhat 1.6K Mar 26 16:19 EBR_36CI_AmbigousRegions_V1.bed\n",
      "-rw-rw-r-- 1 mm774 farhat 1.7K Mar 26 16:19 EBR_36CI_AmbigousRegions_V1.WithHeader.bed.tsv\n",
      "-rw-rw-r-- 1 mm774 farhat  72K Mar 26 16:22 Mtb_AmbigouslyDefinedRegions_PerIsolate_V1.WithHeader.bed\n"
     ]
    }
   ],
   "source": [
    "!ls -lah $PBvIll_EBR_Ambigous_RegionsDir"
   ]
  },
  {
   "cell_type": "code",
   "execution_count": null,
   "metadata": {},
   "outputs": [],
   "source": []
  },
  {
   "cell_type": "markdown",
   "metadata": {},
   "source": [
    "## Parse % of genome that Amb regions make up (On Per Isolate Basis)"
   ]
  },
  {
   "cell_type": "code",
   "execution_count": 47,
   "metadata": {},
   "outputs": [
    {
     "name": "stdout",
     "output_type": "stream",
     "text": [
      "1 - Sample: M0011368_9\n",
      "0.7142857142857143\n"
     ]
    },
    {
     "name": "stderr",
     "output_type": "stream",
     "text": [
      "100%|██████████| 4411532/4411532 [00:02<00:00, 2011334.32it/s]\n"
     ]
    },
    {
     "name": "stdout",
     "output_type": "stream",
     "text": [
      "% of genome w/ N/A for EBR: 0.2539480615804215\n",
      "\n",
      "2 - Sample: M0014888_3\n"
     ]
    },
    {
     "name": "stderr",
     "output_type": "stream",
     "text": [
      "/home/mm774/conda3/envs/py37_S/lib/python3.7/site-packages/ipykernel_launcher.py:46: SettingWithCopyWarning: \n",
      "A value is trying to be set on a copy of a slice from a DataFrame.\n",
      "Try using .loc[row_indexer,col_indexer] = value instead\n",
      "\n",
      "See the caveats in the documentation: https://pandas.pydata.org/pandas-docs/stable/user_guide/indexing.html#returning-a-view-versus-a-copy\n"
     ]
    },
    {
     "name": "stdout",
     "output_type": "stream",
     "text": [
      "0.8888888888888888\n"
     ]
    },
    {
     "name": "stderr",
     "output_type": "stream",
     "text": [
      "100%|██████████| 4411532/4411532 [00:02<00:00, 1760201.62it/s]\n"
     ]
    },
    {
     "name": "stdout",
     "output_type": "stream",
     "text": [
      "% of genome w/ N/A for EBR: 0.25127325382656185\n",
      "\n",
      "3 - Sample: M0016395_7\n",
      "0.52\n"
     ]
    },
    {
     "name": "stderr",
     "output_type": "stream",
     "text": [
      "100%|██████████| 4411532/4411532 [00:02<00:00, 1972683.15it/s]"
     ]
    },
    {
     "name": "stdout",
     "output_type": "stream",
     "text": [
      "% of genome w/ N/A for EBR: 0.19997588139449063\n",
      "\n",
      "4 - Sample: M0010874_7\n"
     ]
    },
    {
     "name": "stderr",
     "output_type": "stream",
     "text": [
      "\n"
     ]
    },
    {
     "name": "stdout",
     "output_type": "stream",
     "text": [
      "0.6666666666666666\n"
     ]
    },
    {
     "name": "stderr",
     "output_type": "stream",
     "text": [
      "100%|██████████| 4411532/4411532 [00:02<00:00, 1992808.68it/s]"
     ]
    },
    {
     "name": "stdout",
     "output_type": "stream",
     "text": [
      "% of genome w/ N/A for EBR: 0.4823947780498929\n",
      "\n",
      "5 - Sample: 01_R1430\n"
     ]
    },
    {
     "name": "stderr",
     "output_type": "stream",
     "text": [
      "\n"
     ]
    },
    {
     "name": "stdout",
     "output_type": "stream",
     "text": [
      "0.6190476190476191\n"
     ]
    },
    {
     "name": "stderr",
     "output_type": "stream",
     "text": [
      "100%|██████████| 4411532/4411532 [00:02<00:00, 1858282.97it/s]\n"
     ]
    },
    {
     "name": "stdout",
     "output_type": "stream",
     "text": [
      "% of genome w/ N/A for EBR: 0.3044067231066214\n",
      "\n",
      "6 - Sample: 02_R0894\n",
      "0.7619047619047619\n"
     ]
    },
    {
     "name": "stderr",
     "output_type": "stream",
     "text": [
      "100%|██████████| 4411532/4411532 [00:02<00:00, 1990230.72it/s]"
     ]
    },
    {
     "name": "stdout",
     "output_type": "stream",
     "text": [
      "% of genome w/ N/A for EBR: 0.21763414614242851\n",
      "\n",
      "7 - Sample: 02_R1708\n"
     ]
    },
    {
     "name": "stderr",
     "output_type": "stream",
     "text": [
      "\n"
     ]
    },
    {
     "name": "stdout",
     "output_type": "stream",
     "text": [
      "0.7142857142857143\n"
     ]
    },
    {
     "name": "stderr",
     "output_type": "stream",
     "text": [
      "100%|██████████| 4411532/4411532 [00:02<00:00, 1994582.42it/s]"
     ]
    },
    {
     "name": "stdout",
     "output_type": "stream",
     "text": [
      "% of genome w/ N/A for EBR: 0.21743013538154093\n",
      "\n",
      "8 - Sample: 02_R1896\n"
     ]
    },
    {
     "name": "stderr",
     "output_type": "stream",
     "text": [
      "\n"
     ]
    },
    {
     "name": "stdout",
     "output_type": "stream",
     "text": [
      "0.8636363636363636\n"
     ]
    },
    {
     "name": "stderr",
     "output_type": "stream",
     "text": [
      "100%|██████████| 4411532/4411532 [00:02<00:00, 1970099.69it/s]\n"
     ]
    },
    {
     "name": "stdout",
     "output_type": "stream",
     "text": [
      "% of genome w/ N/A for EBR: 0.3811374370626803\n",
      "\n",
      "9 - Sample: M0016737_0\n",
      "0.7916666666666666\n"
     ]
    },
    {
     "name": "stderr",
     "output_type": "stream",
     "text": [
      "100%|██████████| 4411532/4411532 [00:02<00:00, 2001443.63it/s]"
     ]
    },
    {
     "name": "stdout",
     "output_type": "stream",
     "text": [
      "% of genome w/ N/A for EBR: 0.44805296663381333\n",
      "\n",
      "10 - Sample: M0017522_5\n"
     ]
    },
    {
     "name": "stderr",
     "output_type": "stream",
     "text": [
      "\n"
     ]
    },
    {
     "name": "stdout",
     "output_type": "stream",
     "text": [
      "0.8571428571428571\n"
     ]
    },
    {
     "name": "stderr",
     "output_type": "stream",
     "text": [
      "100%|██████████| 4411532/4411532 [00:02<00:00, 1993961.03it/s]"
     ]
    },
    {
     "name": "stdout",
     "output_type": "stream",
     "text": [
      "% of genome w/ N/A for EBR: 0.4330468417774143\n",
      "\n",
      "11 - Sample: 01_R1134\n"
     ]
    },
    {
     "name": "stderr",
     "output_type": "stream",
     "text": [
      "\n"
     ]
    },
    {
     "name": "stdout",
     "output_type": "stream",
     "text": [
      "0.8235294117647058\n"
     ]
    },
    {
     "name": "stderr",
     "output_type": "stream",
     "text": [
      "100%|██████████| 4411532/4411532 [00:02<00:00, 1990316.56it/s]"
     ]
    },
    {
     "name": "stdout",
     "output_type": "stream",
     "text": [
      "% of genome w/ N/A for EBR: 0.26732210034971976\n",
      "\n",
      "12 - Sample: M0003941_3\n"
     ]
    },
    {
     "name": "stderr",
     "output_type": "stream",
     "text": [
      "\n"
     ]
    },
    {
     "name": "stdout",
     "output_type": "stream",
     "text": [
      "0.6388888888888888\n"
     ]
    },
    {
     "name": "stderr",
     "output_type": "stream",
     "text": [
      "100%|██████████| 4411532/4411532 [00:02<00:00, 2000919.43it/s]"
     ]
    },
    {
     "name": "stdout",
     "output_type": "stream",
     "text": [
      "% of genome w/ N/A for EBR: 0.4084748790216188\n",
      "\n",
      "13 - Sample: 02_R1179\n"
     ]
    },
    {
     "name": "stderr",
     "output_type": "stream",
     "text": [
      "\n"
     ]
    },
    {
     "name": "stdout",
     "output_type": "stream",
     "text": [
      "0.6818181818181818\n"
     ]
    },
    {
     "name": "stderr",
     "output_type": "stream",
     "text": [
      "100%|██████████| 4411532/4411532 [00:02<00:00, 1987061.53it/s]"
     ]
    },
    {
     "name": "stdout",
     "output_type": "stream",
     "text": [
      "% of genome w/ N/A for EBR: 0.23798988650654695\n",
      "\n",
      "14 - Sample: N1176\n"
     ]
    },
    {
     "name": "stderr",
     "output_type": "stream",
     "text": [
      "\n"
     ]
    },
    {
     "name": "stdout",
     "output_type": "stream",
     "text": [
      "0.6857142857142857\n"
     ]
    },
    {
     "name": "stderr",
     "output_type": "stream",
     "text": [
      "100%|██████████| 4411532/4411532 [00:02<00:00, 1985274.72it/s]"
     ]
    },
    {
     "name": "stdout",
     "output_type": "stream",
     "text": [
      "% of genome w/ N/A for EBR: 0.4899885119273758\n",
      "\n",
      "15 - Sample: N0072\n"
     ]
    },
    {
     "name": "stderr",
     "output_type": "stream",
     "text": [
      "\n"
     ]
    },
    {
     "name": "stdout",
     "output_type": "stream",
     "text": [
      "0.7407407407407407\n"
     ]
    },
    {
     "name": "stderr",
     "output_type": "stream",
     "text": [
      "100%|██████████| 4411532/4411532 [00:02<00:00, 1988338.20it/s]"
     ]
    },
    {
     "name": "stdout",
     "output_type": "stream",
     "text": [
      "% of genome w/ N/A for EBR: 0.2685461649150454\n",
      "\n",
      "16 - Sample: N0153\n"
     ]
    },
    {
     "name": "stderr",
     "output_type": "stream",
     "text": [
      "\n"
     ]
    },
    {
     "name": "stdout",
     "output_type": "stream",
     "text": [
      "0.6923076923076923\n"
     ]
    },
    {
     "name": "stderr",
     "output_type": "stream",
     "text": [
      "100%|██████████| 4411532/4411532 [00:02<00:00, 1981464.97it/s]"
     ]
    },
    {
     "name": "stdout",
     "output_type": "stream",
     "text": [
      "% of genome w/ N/A for EBR: 0.650658320057522\n",
      "\n",
      "17 - Sample: N0145\n"
     ]
    },
    {
     "name": "stderr",
     "output_type": "stream",
     "text": [
      "\n"
     ]
    },
    {
     "name": "stdout",
     "output_type": "stream",
     "text": [
      "0.6666666666666666\n"
     ]
    },
    {
     "name": "stderr",
     "output_type": "stream",
     "text": [
      "100%|██████████| 4411532/4411532 [00:02<00:00, 1999560.43it/s]"
     ]
    },
    {
     "name": "stdout",
     "output_type": "stream",
     "text": [
      "% of genome w/ N/A for EBR: 0.49010185123898\n",
      "\n",
      "18 - Sample: N0155\n"
     ]
    },
    {
     "name": "stderr",
     "output_type": "stream",
     "text": [
      "\n"
     ]
    },
    {
     "name": "stdout",
     "output_type": "stream",
     "text": [
      "0.6666666666666666\n"
     ]
    },
    {
     "name": "stderr",
     "output_type": "stream",
     "text": [
      "100%|██████████| 4411532/4411532 [00:02<00:00, 1993658.75it/s]"
     ]
    },
    {
     "name": "stdout",
     "output_type": "stream",
     "text": [
      "% of genome w/ N/A for EBR: 0.5419432523667514\n",
      "\n",
      "19 - Sample: N0004\n"
     ]
    },
    {
     "name": "stderr",
     "output_type": "stream",
     "text": [
      "\n"
     ]
    },
    {
     "name": "stdout",
     "output_type": "stream",
     "text": [
      "0.7714285714285715\n"
     ]
    },
    {
     "name": "stderr",
     "output_type": "stream",
     "text": [
      "100%|██████████| 4411532/4411532 [00:02<00:00, 1947633.83it/s]\n"
     ]
    },
    {
     "name": "stdout",
     "output_type": "stream",
     "text": [
      "% of genome w/ N/A for EBR: 0.4317547736251261\n",
      "\n",
      "20 - Sample: N1274\n",
      "0.7647058823529411\n"
     ]
    },
    {
     "name": "stderr",
     "output_type": "stream",
     "text": [
      "100%|██████████| 4411532/4411532 [00:02<00:00, 1951695.65it/s]"
     ]
    },
    {
     "name": "stdout",
     "output_type": "stream",
     "text": [
      "% of genome w/ N/A for EBR: 0.45156648529354426\n",
      "\n",
      "21 - Sample: N0054\n"
     ]
    },
    {
     "name": "stderr",
     "output_type": "stream",
     "text": [
      "\n"
     ]
    },
    {
     "name": "stdout",
     "output_type": "stream",
     "text": [
      "0.7714285714285715\n"
     ]
    },
    {
     "name": "stderr",
     "output_type": "stream",
     "text": [
      "100%|██████████| 4411532/4411532 [00:02<00:00, 2004683.66it/s]"
     ]
    },
    {
     "name": "stdout",
     "output_type": "stream",
     "text": [
      "% of genome w/ N/A for EBR: 0.4481209702207759\n",
      "\n",
      "22 - Sample: N1272\n"
     ]
    },
    {
     "name": "stderr",
     "output_type": "stream",
     "text": [
      "\n"
     ]
    },
    {
     "name": "stdout",
     "output_type": "stream",
     "text": [
      "0.6875\n"
     ]
    },
    {
     "name": "stderr",
     "output_type": "stream",
     "text": [
      "100%|██████████| 4411532/4411532 [00:02<00:00, 1996681.17it/s]"
     ]
    },
    {
     "name": "stdout",
     "output_type": "stream",
     "text": [
      "% of genome w/ N/A for EBR: 0.4935473663117484\n",
      "\n",
      "23 - Sample: N0091\n"
     ]
    },
    {
     "name": "stderr",
     "output_type": "stream",
     "text": [
      "\n"
     ]
    },
    {
     "name": "stdout",
     "output_type": "stream",
     "text": [
      "0.6666666666666666\n"
     ]
    },
    {
     "name": "stderr",
     "output_type": "stream",
     "text": [
      "100%|██████████| 4411532/4411532 [00:02<00:00, 1999204.38it/s]"
     ]
    },
    {
     "name": "stdout",
     "output_type": "stream",
     "text": [
      "% of genome w/ N/A for EBR: 0.6953593445542274\n",
      "\n",
      "24 - Sample: N1202\n"
     ]
    },
    {
     "name": "stderr",
     "output_type": "stream",
     "text": [
      "\n"
     ]
    },
    {
     "name": "stdout",
     "output_type": "stream",
     "text": [
      "0.7241379310344828\n"
     ]
    },
    {
     "name": "stderr",
     "output_type": "stream",
     "text": [
      "100%|██████████| 4411532/4411532 [00:02<00:00, 1983290.21it/s]"
     ]
    },
    {
     "name": "stdout",
     "output_type": "stream",
     "text": [
      "% of genome w/ N/A for EBR: 0.6635563337180825\n",
      "\n",
      "25 - Sample: N1177\n"
     ]
    },
    {
     "name": "stderr",
     "output_type": "stream",
     "text": [
      "\n"
     ]
    },
    {
     "name": "stdout",
     "output_type": "stream",
     "text": [
      "0.6774193548387096\n"
     ]
    },
    {
     "name": "stderr",
     "output_type": "stream",
     "text": [
      "100%|██████████| 4411532/4411532 [00:02<00:00, 1986290.85it/s]"
     ]
    },
    {
     "name": "stdout",
     "output_type": "stream",
     "text": [
      "% of genome w/ N/A for EBR: 0.6417271823031092\n",
      "\n",
      "26 - Sample: RW-TB008\n"
     ]
    },
    {
     "name": "stderr",
     "output_type": "stream",
     "text": [
      "\n"
     ]
    },
    {
     "name": "stdout",
     "output_type": "stream",
     "text": [
      "0.8214285714285714\n"
     ]
    },
    {
     "name": "stderr",
     "output_type": "stream",
     "text": [
      "100%|██████████| 4411532/4411532 [00:02<00:00, 1993547.48it/s]"
     ]
    },
    {
     "name": "stdout",
     "output_type": "stream",
     "text": [
      "% of genome w/ N/A for EBR: 0.7857361116274346\n",
      "\n",
      "27 - Sample: DNA028\n"
     ]
    },
    {
     "name": "stderr",
     "output_type": "stream",
     "text": [
      "\n"
     ]
    },
    {
     "name": "stdout",
     "output_type": "stream",
     "text": [
      "0.5952380952380952\n"
     ]
    },
    {
     "name": "stderr",
     "output_type": "stream",
     "text": [
      "100%|██████████| 4411532/4411532 [00:02<00:00, 1992214.99it/s]"
     ]
    },
    {
     "name": "stdout",
     "output_type": "stream",
     "text": [
      "% of genome w/ N/A for EBR: 0.5260304130175186\n",
      "\n",
      "28 - Sample: DNA075\n"
     ]
    },
    {
     "name": "stderr",
     "output_type": "stream",
     "text": [
      "\n"
     ]
    },
    {
     "name": "stdout",
     "output_type": "stream",
     "text": [
      "0.5714285714285714\n"
     ]
    },
    {
     "name": "stderr",
     "output_type": "stream",
     "text": [
      "100%|██████████| 4411532/4411532 [00:02<00:00, 2006472.73it/s]\n"
     ]
    },
    {
     "name": "stdout",
     "output_type": "stream",
     "text": [
      "% of genome w/ N/A for EBR: 0.40457600670243354\n",
      "\n",
      "29 - Sample: DNA091\n",
      "0.5833333333333334\n"
     ]
    },
    {
     "name": "stderr",
     "output_type": "stream",
     "text": [
      "100%|██████████| 4411532/4411532 [00:02<00:00, 2015021.13it/s]\n"
     ]
    },
    {
     "name": "stdout",
     "output_type": "stream",
     "text": [
      "% of genome w/ N/A for EBR: 0.41946879224722844\n",
      "\n",
      "30 - Sample: DNA044\n",
      "0.71875\n"
     ]
    },
    {
     "name": "stderr",
     "output_type": "stream",
     "text": [
      "100%|██████████| 4411532/4411532 [00:02<00:00, 1965296.13it/s]\n"
     ]
    },
    {
     "name": "stdout",
     "output_type": "stream",
     "text": [
      "% of genome w/ N/A for EBR: 0.28677112622100437\n",
      "\n",
      "31 - Sample: DNA020\n",
      "0.7142857142857143\n"
     ]
    },
    {
     "name": "stderr",
     "output_type": "stream",
     "text": [
      "100%|██████████| 4411532/4411532 [00:02<00:00, 2011556.04it/s]\n"
     ]
    },
    {
     "name": "stdout",
     "output_type": "stream",
     "text": [
      "% of genome w/ N/A for EBR: 0.2756638736837906\n",
      "\n",
      "32 - Sample: AZE_02_042\n",
      "0.6923076923076923\n"
     ]
    },
    {
     "name": "stderr",
     "output_type": "stream",
     "text": [
      "100%|██████████| 4411532/4411532 [00:02<00:00, 1957319.48it/s]\n"
     ]
    },
    {
     "name": "stdout",
     "output_type": "stream",
     "text": [
      "% of genome w/ N/A for EBR: 0.3742917426417852\n",
      "\n",
      "33 - Sample: DNA019_Rose\n",
      "0.8461538461538461\n"
     ]
    },
    {
     "name": "stderr",
     "output_type": "stream",
     "text": [
      "100%|██████████| 4411532/4411532 [00:02<00:00, 1950475.66it/s]\n"
     ]
    },
    {
     "name": "stdout",
     "output_type": "stream",
     "text": [
      "% of genome w/ N/A for EBR: 0.3408113099938978\n",
      "\n",
      "34 - Sample: DNA120\n",
      "0.75\n"
     ]
    },
    {
     "name": "stderr",
     "output_type": "stream",
     "text": [
      "100%|██████████| 4411532/4411532 [00:02<00:00, 1997672.78it/s]"
     ]
    },
    {
     "name": "stdout",
     "output_type": "stream",
     "text": [
      "% of genome w/ N/A for EBR: 0.31605800433953557\n",
      "\n",
      "35 - Sample: DNA188\n"
     ]
    },
    {
     "name": "stderr",
     "output_type": "stream",
     "text": [
      "\n"
     ]
    },
    {
     "name": "stdout",
     "output_type": "stream",
     "text": [
      "0.8636363636363636\n"
     ]
    },
    {
     "name": "stderr",
     "output_type": "stream",
     "text": [
      "100%|██████████| 4411532/4411532 [00:02<00:00, 1707826.36it/s]\n"
     ]
    },
    {
     "name": "stdout",
     "output_type": "stream",
     "text": [
      "% of genome w/ N/A for EBR: 0.42731187261024056\n",
      "\n",
      "36 - Sample: DNA086\n",
      "0.5555555555555556\n"
     ]
    },
    {
     "name": "stderr",
     "output_type": "stream",
     "text": [
      "100%|██████████| 4411532/4411532 [00:02<00:00, 1991191.93it/s]"
     ]
    },
    {
     "name": "stdout",
     "output_type": "stream",
     "text": [
      "% of genome w/ N/A for EBR: 0.29998648995405675\n",
      "\n"
     ]
    },
    {
     "name": "stderr",
     "output_type": "stream",
     "text": [
      "\n"
     ]
    }
   ],
   "source": [
    "sample_Counter = 1\n",
    "\n",
    "dictOf_SampleID_To_PercentOfGenomeAMB = {}\n",
    "\n",
    "for SampleID in (SampleIDs_36CI_SOI): # tqdm( [\"M0011368_9\"])\n",
    "#for SampleID in tqdm(SampleIDs_35CI_AllSamples): # tqdm( [\"M0011368_9\"])\n",
    "\n",
    "    \n",
    "    print(f\"{sample_Counter} - Sample: {SampleID}\")\n",
    "    #SampleID = \"M0011368_9\"\n",
    "\n",
    "    Sample_Output_Dir = PMP_SM_TB_Portals_R1_Illumina_WGS_201201_OutputDir + \"/\" + SampleID\n",
    "\n",
    "    EBR_Ambigous_Regions_OutputDir = f\"{Sample_Output_Dir}/EmpiricalBasePairRecall_Analysis_V7_PacBio_Vs_IlluminaPilon\"\n",
    "    \n",
    "    #!mkdir $EBR_Ambigous_Regions_OutputDir\n",
    "    \n",
    "    EBR_Ambigous_Regions_BED_PATH = f\"{EBR_Ambigous_Regions_OutputDir}/EBR.V7.IndivIsolate.{SampleID}.Ambiguous.Regions.bed\"\n",
    "    #EBR_Ambigous_Regions_HighSeqDivergence_BED_PATH = f\"{EBR_Ambigous_Regions_OutputDir}/EBR.V7.IndivIsolate.{SampleID}.Ambiguous.NoDupRegions.HighSeqDivergenceOnly.Regions.bed\"\n",
    "    #EBR_Ambigous_Regions_DUPregions_BED_PATH = f\"{EBR_Ambigous_Regions_OutputDir}/EBR.V7.IndivIsolate.{SampleID}.Ambiguous.DupRegions.Regions.bed\"\n",
    "\n",
    "    \n",
    "    Total_Num_AmbRegions = !wc -l $EBR_Ambigous_Regions_BED_PATH\n",
    "    Total_Num_AmbRegions = int(Total_Num_AmbRegions[0].split(\" \")[0])\n",
    "\n",
    "    Num_AmbRegions_OverlapWithPLC = !bedtools intersect -a $EBR_Ambigous_Regions_BED_PATH -b $Mtb_H37rv_pLCRegions_Coscolla_BED_PATH -wa | bedtools merge | wc -l\n",
    "    Num_AmbRegions_OverlapWithPLC = int(Num_AmbRegions_OverlapWithPLC[0].split(\" \")[0])\n",
    "  \n",
    "    i_FractionOf_AmbRegions_OverlapWithPLC = Num_AmbRegions_OverlapWithPLC / Total_Num_AmbRegions\n",
    "\n",
    "    print( i_FractionOf_AmbRegions_OverlapWithPLC)\n",
    "    \n",
    "    \n",
    "    \n",
    "    #i_EBR_BED_DF = dictOf_BED_DFs_IndivSample_EBRs[SampleID]\n",
    "\n",
    "    \n",
    "    \n",
    "    \n",
    "    i_EBR_BED_DF = convert_GenomeNParray_To_BED_DF( pd.Series(dictOf_EBR_IndivIsolate_NPYs[SampleID]).fillna(\"Ambiguous\").values )     \n",
    "\n",
    "    i_EBR_BED_DF_AMB_ONLY = i_EBR_BED_DF[ i_EBR_BED_DF[\"score\"] == \"Ambiguous\" ]\n",
    "    \n",
    "    \n",
    "    \n",
    "    i_EBR_BED_DF_AMB_ONLY[\"Length\"] = i_EBR_BED_DF_AMB_ONLY[\"chromEnd\"] - i_EBR_BED_DF_AMB_ONLY[\"chromStart\"]\n",
    "\n",
    "    \n",
    "    Percent_NA_i = float(  ( (i_EBR_BED_DF_AMB_ONLY[\"Length\"].values.astype(int).sum()) / 4411532) * 100 )\n",
    "    \n",
    "    dictOf_SampleID_To_PercentOfGenomeAMB[SampleID] = Percent_NA_i\n",
    "    \n",
    "    print(\"% of genome w/ N/A for EBR:\", Percent_NA_i)   \n",
    "    \n",
    "    \n",
    "    #!ls -lah $EBR_Ambigous_Regions_BED_PATH \n",
    "    #!wc -l $EBR_Ambigous_Regions_BED_PATH \n",
    "    #!head -n 3 $EBR_Ambigous_Regions_BED_PATH \n",
    "    \n",
    "    print()\n",
    "    sample_Counter += 1\n",
    "    \n",
    "    \n",
    "    "
   ]
  },
  {
   "cell_type": "code",
   "execution_count": 48,
   "metadata": {},
   "outputs": [
    {
     "name": "stdout",
     "output_type": "stream",
     "text": [
      "NC_000962.3\t334641\t334653\tRegion46_Length_12_bp\tAmbiguous\n",
      "NC_000962.3\t1093947\t1094062\tRegion349_Length_115_bp\tAmbiguous\n",
      "NC_000962.3\t1096042\t1096157\tRegion351_Length_115_bp\tAmbiguous\n",
      "NC_000962.3\t1637087\t1637214\tRegion466_Length_127_bp\tAmbiguous\n",
      "NC_000962.3\t1996098\t1997461\tRegion503_Length_1363_bp\tAmbiguous\n",
      "NC_000962.3\t1996098\t1997461\tRegion503_Length_1363_bp\tAmbiguous\n",
      "NC_000962.3\t1996098\t1997461\tRegion503_Length_1363_bp\tAmbiguous\n",
      "NC_000962.3\t2306452\t2306724\tRegion568_Length_272_bp\tAmbiguous\n",
      "NC_000962.3\t2550013\t2551366\tRegion618_Length_1353_bp\tAmbiguous\n",
      "NC_000962.3\t2550013\t2551366\tRegion618_Length_1353_bp\tAmbiguous\n",
      "NC_000962.3\t2550013\t2551366\tRegion618_Length_1353_bp\tAmbiguous\n",
      "NC_000962.3\t2632922\t2634201\tRegion627_Length_1279_bp\tAmbiguous\n",
      "NC_000962.3\t2635576\t2636375\tRegion635_Length_799_bp\tAmbiguous\n",
      "NC_000962.3\t2635576\t2636375\tRegion635_Length_799_bp\tAmbiguous\n",
      "NC_000962.3\t2635576\t2636375\tRegion635_Length_799_bp\tAmbiguous\n",
      "NC_000962.3\t2638985\t2639613\tRegion638_Length_628_bp\tAmbiguous\n",
      "NC_000962.3\t3551229\t3552585\tRegion772_Length_1356_bp\tAmbiguous\n",
      "NC_000962.3\t3551229\t3552585\tRegion772_Length_1356_bp\tAmbiguous\n",
      "NC_000962.3\t3731460\t3732089\tRegion813_Length_629_bp\tAmbiguous\n",
      "NC_000962.3\t3793906\t3796412\tRegion832_Length_2506_bp\tAmbiguous\n",
      "NC_000962.3\t3793906\t3796412\tRegion832_Length_2506_bp\tAmbiguous\n",
      "NC_000962.3\t3842437\t3842766\tRegion850_Length_329_bp\tAmbiguous\n",
      "NC_000962.3\t3946794\t3946879\tRegion939_Length_85_bp\tAmbiguous\n"
     ]
    }
   ],
   "source": [
    "!bedtools intersect -a $EBR_Ambigous_Regions_BED_PATH -b $Mtb_H37rv_pLCRegions_Coscolla_BED_PATH -wa"
   ]
  },
  {
   "cell_type": "code",
   "execution_count": null,
   "metadata": {},
   "outputs": [],
   "source": []
  },
  {
   "cell_type": "code",
   "execution_count": null,
   "metadata": {},
   "outputs": [],
   "source": []
  },
  {
   "cell_type": "code",
   "execution_count": 49,
   "metadata": {},
   "outputs": [
    {
     "data": {
      "text/plain": [
       "13234"
      ]
     },
     "execution_count": 49,
     "metadata": {},
     "output_type": "execute_result"
    }
   ],
   "source": [
    "i_EBR_BED_DF_AMB_ONLY[\"Length\"].values.astype(int).sum()"
   ]
  },
  {
   "cell_type": "code",
   "execution_count": 50,
   "metadata": {},
   "outputs": [
    {
     "data": {
      "text/plain": [
       "1.0          495\n",
       "0.0          483\n",
       "Ambiguous     27\n",
       "Name: score, dtype: int64"
      ]
     },
     "execution_count": 50,
     "metadata": {},
     "output_type": "execute_result"
    }
   ],
   "source": [
    "i_EBR_BED_DF[\"score\"].value_counts()"
   ]
  },
  {
   "cell_type": "code",
   "execution_count": null,
   "metadata": {},
   "outputs": [],
   "source": []
  },
  {
   "cell_type": "code",
   "execution_count": 51,
   "metadata": {},
   "outputs": [
    {
     "data": {
      "text/plain": [
       "{'M0011368_9': 0.2539480615804215,\n",
       " 'M0014888_3': 0.25127325382656185,\n",
       " 'M0016395_7': 0.19997588139449063,\n",
       " 'M0010874_7': 0.4823947780498929,\n",
       " '01_R1430': 0.3044067231066214,\n",
       " '02_R0894': 0.21763414614242851,\n",
       " '02_R1708': 0.21743013538154093,\n",
       " '02_R1896': 0.3811374370626803,\n",
       " 'M0016737_0': 0.44805296663381333,\n",
       " 'M0017522_5': 0.4330468417774143,\n",
       " '01_R1134': 0.26732210034971976,\n",
       " 'M0003941_3': 0.4084748790216188,\n",
       " '02_R1179': 0.23798988650654695,\n",
       " 'N1176': 0.4899885119273758,\n",
       " 'N0072': 0.2685461649150454,\n",
       " 'N0153': 0.650658320057522,\n",
       " 'N0145': 0.49010185123898,\n",
       " 'N0155': 0.5419432523667514,\n",
       " 'N0004': 0.4317547736251261,\n",
       " 'N1274': 0.45156648529354426,\n",
       " 'N0054': 0.4481209702207759,\n",
       " 'N1272': 0.4935473663117484,\n",
       " 'N0091': 0.6953593445542274,\n",
       " 'N1202': 0.6635563337180825,\n",
       " 'N1177': 0.6417271823031092,\n",
       " 'RW-TB008': 0.7857361116274346,\n",
       " 'DNA028': 0.5260304130175186,\n",
       " 'DNA075': 0.40457600670243354,\n",
       " 'DNA091': 0.41946879224722844,\n",
       " 'DNA044': 0.28677112622100437,\n",
       " 'DNA020': 0.2756638736837906,\n",
       " 'AZE_02_042': 0.3742917426417852,\n",
       " 'DNA019_Rose': 0.3408113099938978,\n",
       " 'DNA120': 0.31605800433953557,\n",
       " 'DNA188': 0.42731187261024056,\n",
       " 'DNA086': 0.29998648995405675}"
      ]
     },
     "execution_count": 51,
     "metadata": {},
     "output_type": "execute_result"
    }
   ],
   "source": [
    "dictOf_SampleID_To_PercentOfGenomeAMB"
   ]
  },
  {
   "cell_type": "code",
   "execution_count": 52,
   "metadata": {},
   "outputs": [],
   "source": [
    "PMP_36CI_AnalysisSet_AssemblySummary[\"Percent_Amb_RelativeToH37Rv\"] = PMP_36CI_AnalysisSet_AssemblySummary[\"SampleID\"].map(dictOf_SampleID_To_PercentOfGenomeAMB)"
   ]
  },
  {
   "cell_type": "code",
   "execution_count": 53,
   "metadata": {},
   "outputs": [
    {
     "data": {
      "text/plain": [
       "count    36.000000\n",
       "mean      0.411852\n",
       "std       0.148348\n",
       "min       0.199976\n",
       "25%       0.283994\n",
       "50%       0.413972\n",
       "75%       0.490017\n",
       "max       0.785736\n",
       "Name: Percent_Amb_RelativeToH37Rv, dtype: float64"
      ]
     },
     "execution_count": 53,
     "metadata": {},
     "output_type": "execute_result"
    }
   ],
   "source": [
    "PMP_36CI_AnalysisSet_AssemblySummary[\"Percent_Amb_RelativeToH37Rv\"].describe()"
   ]
  },
  {
   "cell_type": "markdown",
   "metadata": {},
   "source": [
    "### What does the distribution of % AMB look like across all 36 Mtb isolates evaluated?\n",
    "Median = 0.41% (IQR: 0.28% - 0.49%)"
   ]
  },
  {
   "cell_type": "code",
   "execution_count": 54,
   "metadata": {},
   "outputs": [
    {
     "data": {
      "text/html": [
       "<div>\n",
       "<style scoped>\n",
       "    .dataframe tbody tr th:only-of-type {\n",
       "        vertical-align: middle;\n",
       "    }\n",
       "\n",
       "    .dataframe tbody tr th {\n",
       "        vertical-align: top;\n",
       "    }\n",
       "\n",
       "    .dataframe thead th {\n",
       "        text-align: right;\n",
       "    }\n",
       "</style>\n",
       "<table border=\"1\" class=\"dataframe\">\n",
       "  <thead>\n",
       "    <tr style=\"text-align: right;\">\n",
       "      <th></th>\n",
       "      <th>SampleID</th>\n",
       "      <th>numContigs_Complete</th>\n",
       "      <th>circContig_Length</th>\n",
       "      <th>circContig_Cov</th>\n",
       "      <th>PacBio_Subread_Median_Length</th>\n",
       "      <th>LineageCall_Illumina</th>\n",
       "      <th>LineageCall_PacBio</th>\n",
       "      <th>F2_Illumina</th>\n",
       "      <th>F2_PacBio</th>\n",
       "      <th>ANI_I3</th>\n",
       "      <th>ANI_I3_PP</th>\n",
       "      <th>IlluminaWGSToH37rv_AvrgCov</th>\n",
       "      <th>PacBio_Subreads_H37Rv_AvrgCov</th>\n",
       "      <th>NumAnno_ORFs_PB_PilonPolished</th>\n",
       "      <th>NumAnno_ORFs_PB_DeNovo</th>\n",
       "      <th>GCcontent_PB_PP_GBK</th>\n",
       "      <th>NumChanges_PilonPolished</th>\n",
       "      <th>NumSNPs_PilonPolished</th>\n",
       "      <th>NumTotalInsertions_PilonPolished</th>\n",
       "      <th>Num1bpInsertion_PilonPolished</th>\n",
       "      <th>Num2bpInsertion_PilonPolished</th>\n",
       "      <th>NumTotalDeletions_PilonPolished</th>\n",
       "      <th>Num1bpDeletion_PilonPolished</th>\n",
       "      <th>PrimaryLineage_PB</th>\n",
       "      <th>PrimaryLineage_Ill</th>\n",
       "      <th>Dataset_Tag</th>\n",
       "      <th>Percent_Amb_RelativeToH37Rv</th>\n",
       "    </tr>\n",
       "  </thead>\n",
       "  <tbody>\n",
       "    <tr>\n",
       "      <th>0</th>\n",
       "      <td>M0011368_9</td>\n",
       "      <td>1</td>\n",
       "      <td>4397765</td>\n",
       "      <td>203</td>\n",
       "      <td>3773.0</td>\n",
       "      <td>lineage4,lineage4.4,lineage4.4.1</td>\n",
       "      <td>lineage4,lineage4.4,lineage4.4.1</td>\n",
       "      <td>0.004937</td>\n",
       "      <td>0.305222</td>\n",
       "      <td>99.9368</td>\n",
       "      <td>99.9364</td>\n",
       "      <td>40</td>\n",
       "      <td>191</td>\n",
       "      <td>4050</td>\n",
       "      <td>4075</td>\n",
       "      <td>65.614721</td>\n",
       "      <td>63</td>\n",
       "      <td>0</td>\n",
       "      <td>59</td>\n",
       "      <td>58</td>\n",
       "      <td>1</td>\n",
       "      <td>4</td>\n",
       "      <td>4</td>\n",
       "      <td>lineage4</td>\n",
       "      <td>lineage4</td>\n",
       "      <td>Farhat_Peru_2019</td>\n",
       "      <td>0.253948</td>\n",
       "    </tr>\n",
       "    <tr>\n",
       "      <th>1</th>\n",
       "      <td>M0014888_3</td>\n",
       "      <td>1</td>\n",
       "      <td>4399966</td>\n",
       "      <td>194</td>\n",
       "      <td>5038.0</td>\n",
       "      <td>lineage4,lineage4.1,lineage4.1.2,lineage4.1.2.1</td>\n",
       "      <td>lineage4,lineage4.1,lineage4.1.2,lineage4.1.2.1</td>\n",
       "      <td>0.007132</td>\n",
       "      <td>0.279607</td>\n",
       "      <td>99.9185</td>\n",
       "      <td>99.9193</td>\n",
       "      <td>77</td>\n",
       "      <td>182</td>\n",
       "      <td>4048</td>\n",
       "      <td>4060</td>\n",
       "      <td>65.635971</td>\n",
       "      <td>39</td>\n",
       "      <td>0</td>\n",
       "      <td>39</td>\n",
       "      <td>39</td>\n",
       "      <td>0</td>\n",
       "      <td>0</td>\n",
       "      <td>0</td>\n",
       "      <td>lineage4</td>\n",
       "      <td>lineage4</td>\n",
       "      <td>Farhat_Peru_2019</td>\n",
       "      <td>0.251273</td>\n",
       "    </tr>\n",
       "    <tr>\n",
       "      <th>2</th>\n",
       "      <td>M0016395_7</td>\n",
       "      <td>1</td>\n",
       "      <td>4420916</td>\n",
       "      <td>195</td>\n",
       "      <td>4621.0</td>\n",
       "      <td>lineage4,lineage4.3,lineage4.3.2</td>\n",
       "      <td>lineage4,lineage4.3,lineage4.3.2</td>\n",
       "      <td>0.003671</td>\n",
       "      <td>0.299199</td>\n",
       "      <td>99.9248</td>\n",
       "      <td>99.9262</td>\n",
       "      <td>43</td>\n",
       "      <td>183</td>\n",
       "      <td>4068</td>\n",
       "      <td>4096</td>\n",
       "      <td>65.615829</td>\n",
       "      <td>71</td>\n",
       "      <td>1</td>\n",
       "      <td>66</td>\n",
       "      <td>65</td>\n",
       "      <td>1</td>\n",
       "      <td>4</td>\n",
       "      <td>4</td>\n",
       "      <td>lineage4</td>\n",
       "      <td>lineage4</td>\n",
       "      <td>Farhat_Peru_2019</td>\n",
       "      <td>0.199976</td>\n",
       "    </tr>\n",
       "    <tr>\n",
       "      <th>3</th>\n",
       "      <td>M0010874_7</td>\n",
       "      <td>1</td>\n",
       "      <td>4396274</td>\n",
       "      <td>172</td>\n",
       "      <td>4675.0</td>\n",
       "      <td>lineage4,lineage4.3,lineage4.3.3</td>\n",
       "      <td>lineage4,lineage4.3,lineage4.3.3</td>\n",
       "      <td>0.002880</td>\n",
       "      <td>0.289791</td>\n",
       "      <td>99.9283</td>\n",
       "      <td>99.9310</td>\n",
       "      <td>89</td>\n",
       "      <td>161</td>\n",
       "      <td>4054</td>\n",
       "      <td>4103</td>\n",
       "      <td>65.614744</td>\n",
       "      <td>111</td>\n",
       "      <td>9</td>\n",
       "      <td>95</td>\n",
       "      <td>95</td>\n",
       "      <td>0</td>\n",
       "      <td>7</td>\n",
       "      <td>6</td>\n",
       "      <td>lineage4</td>\n",
       "      <td>lineage4</td>\n",
       "      <td>Farhat_Peru_2019</td>\n",
       "      <td>0.482395</td>\n",
       "    </tr>\n",
       "    <tr>\n",
       "      <th>4</th>\n",
       "      <td>01_R1430</td>\n",
       "      <td>1</td>\n",
       "      <td>4409128</td>\n",
       "      <td>227</td>\n",
       "      <td>6009.0</td>\n",
       "      <td>lineage4,lineage4.4,lineage4.4.1</td>\n",
       "      <td>lineage4,lineage4.4,lineage4.4.1</td>\n",
       "      <td>0.005372</td>\n",
       "      <td>0.295069</td>\n",
       "      <td>99.9284</td>\n",
       "      <td>99.9290</td>\n",
       "      <td>253</td>\n",
       "      <td>212</td>\n",
       "      <td>4070</td>\n",
       "      <td>4119</td>\n",
       "      <td>65.613390</td>\n",
       "      <td>93</td>\n",
       "      <td>0</td>\n",
       "      <td>90</td>\n",
       "      <td>89</td>\n",
       "      <td>0</td>\n",
       "      <td>3</td>\n",
       "      <td>3</td>\n",
       "      <td>lineage4</td>\n",
       "      <td>lineage4</td>\n",
       "      <td>Farhat_Peru_2019</td>\n",
       "      <td>0.304407</td>\n",
       "    </tr>\n",
       "  </tbody>\n",
       "</table>\n",
       "</div>"
      ],
      "text/plain": [
       "     SampleID  numContigs_Complete  circContig_Length  circContig_Cov  PacBio_Subread_Median_Length                             LineageCall_Illumina                               LineageCall_PacBio  F2_Illumina  F2_PacBio   ANI_I3  ANI_I3_PP  IlluminaWGSToH37rv_AvrgCov  PacBio_Subreads_H37Rv_AvrgCov  NumAnno_ORFs_PB_PilonPolished  NumAnno_ORFs_PB_DeNovo  GCcontent_PB_PP_GBK  NumChanges_PilonPolished  NumSNPs_PilonPolished  NumTotalInsertions_PilonPolished  Num1bpInsertion_PilonPolished  Num2bpInsertion_PilonPolished  NumTotalDeletions_PilonPolished  Num1bpDeletion_PilonPolished PrimaryLineage_PB PrimaryLineage_Ill       Dataset_Tag  Percent_Amb_RelativeToH37Rv\n",
       "0  M0011368_9                    1            4397765             203                        3773.0                 lineage4,lineage4.4,lineage4.4.1                 lineage4,lineage4.4,lineage4.4.1     0.004937   0.305222  99.9368    99.9364                          40                            191                           4050                    4075            65.614721                        63                      0                                59                             58                              1                                4                             4          lineage4           lineage4  Farhat_Peru_2019                     0.253948\n",
       "1  M0014888_3                    1            4399966             194                        5038.0  lineage4,lineage4.1,lineage4.1.2,lineage4.1.2.1  lineage4,lineage4.1,lineage4.1.2,lineage4.1.2.1     0.007132   0.279607  99.9185    99.9193                          77                            182                           4048                    4060            65.635971                        39                      0                                39                             39                              0                                0                             0          lineage4           lineage4  Farhat_Peru_2019                     0.251273\n",
       "2  M0016395_7                    1            4420916             195                        4621.0                 lineage4,lineage4.3,lineage4.3.2                 lineage4,lineage4.3,lineage4.3.2     0.003671   0.299199  99.9248    99.9262                          43                            183                           4068                    4096            65.615829                        71                      1                                66                             65                              1                                4                             4          lineage4           lineage4  Farhat_Peru_2019                     0.199976\n",
       "3  M0010874_7                    1            4396274             172                        4675.0                 lineage4,lineage4.3,lineage4.3.3                 lineage4,lineage4.3,lineage4.3.3     0.002880   0.289791  99.9283    99.9310                          89                            161                           4054                    4103            65.614744                       111                      9                                95                             95                              0                                7                             6          lineage4           lineage4  Farhat_Peru_2019                     0.482395\n",
       "4    01_R1430                    1            4409128             227                        6009.0                 lineage4,lineage4.4,lineage4.4.1                 lineage4,lineage4.4,lineage4.4.1     0.005372   0.295069  99.9284    99.9290                         253                            212                           4070                    4119            65.613390                        93                      0                                90                             89                              0                                3                             3          lineage4           lineage4  Farhat_Peru_2019                     0.304407"
      ]
     },
     "execution_count": 54,
     "metadata": {},
     "output_type": "execute_result"
    }
   ],
   "source": [
    "PMP_36CI_AnalysisSet_AssemblySummary.head()"
   ]
  },
  {
   "cell_type": "code",
   "execution_count": null,
   "metadata": {},
   "outputs": [],
   "source": []
  },
  {
   "cell_type": "code",
   "execution_count": null,
   "metadata": {},
   "outputs": [],
   "source": []
  },
  {
   "cell_type": "code",
   "execution_count": null,
   "metadata": {},
   "outputs": [],
   "source": []
  },
  {
   "cell_type": "code",
   "execution_count": null,
   "metadata": {},
   "outputs": [],
   "source": []
  },
  {
   "cell_type": "code",
   "execution_count": null,
   "metadata": {},
   "outputs": [],
   "source": []
  }
 ],
 "metadata": {
  "kernelspec": {
   "display_name": "py37_S",
   "language": "python",
   "name": "py37_s"
  },
  "language_info": {
   "codemirror_mode": {
    "name": "ipython",
    "version": 3
   },
   "file_extension": ".py",
   "mimetype": "text/x-python",
   "name": "python",
   "nbconvert_exporter": "python",
   "pygments_lexer": "ipython3",
   "version": "3.7.3"
  }
 },
 "nbformat": 4,
 "nbformat_minor": 4
}
