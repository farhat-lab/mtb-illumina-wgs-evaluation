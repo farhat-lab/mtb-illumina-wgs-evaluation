{
 "cells": [
  {
   "cell_type": "markdown",
   "metadata": {},
   "source": [
    "# Exploring regions that with ambiguously defined ground truths relative to the H37Rv reference genome\n",
    "\n",
    "### Goal: To summarize the variant caller annotations associated with poorly recalled genomic positions. "
   ]
  },
  {
   "cell_type": "code",
   "execution_count": null,
   "metadata": {},
   "outputs": [],
   "source": []
  },
  {
   "cell_type": "code",
   "execution_count": 1,
   "metadata": {},
   "outputs": [],
   "source": [
    "import numpy as np\n",
    "import pandas as pd\n",
    "import vcf\n",
    "from tqdm import tqdm\n",
    "import matplotlib.pyplot as plt\n",
    "import seaborn as sns\n",
    "import pickle\n",
    "import json\n",
    "\n",
    "%matplotlib inline"
   ]
  },
  {
   "cell_type": "markdown",
   "metadata": {},
   "source": [
    "#### Pandas Viewing Settings"
   ]
  },
  {
   "cell_type": "code",
   "execution_count": 2,
   "metadata": {},
   "outputs": [],
   "source": [
    "pd.set_option('display.max_rows', 500)\n",
    "pd.set_option('display.max_columns', 500)\n",
    "pd.set_option('display.width', 1000)"
   ]
  },
  {
   "cell_type": "code",
   "execution_count": null,
   "metadata": {},
   "outputs": [],
   "source": []
  },
  {
   "cell_type": "markdown",
   "metadata": {},
   "source": [
    "## Parse Assembly and Sequence analysis results Sample Info"
   ]
  },
  {
   "cell_type": "code",
   "execution_count": 3,
   "metadata": {},
   "outputs": [
    {
     "name": "stdout",
     "output_type": "stream",
     "text": [
      "M0011368_9,M0014888_3,M0016395_7,M0010874_7,01_R1430,02_R0894,02_R1708,02_R1896,M0016737_0,M0017522_5,01_R1134,M0003941_3,02_R1179,N1176,N0072,N0153,N0145,N0155,N0004,N1274,N0054,N1272,N0091,N1202,N1177,RW-TB008,DNA028,DNA075,DNA091,DNA044,DNA020,AZE_02_042,DNA019_Rose,DNA120,DNA188,DNA086\n"
     ]
    }
   ],
   "source": [
    "Repo_DataDir = \"../../Data\"\n",
    "\n",
    "PMP_SM_ResultsSummary_Dir_210108 = Repo_DataDir + \"/210108_PMP_SM_50CI_V7_ResultsSummary\"\n",
    "\n",
    "PMP_36CI_CicularOnly_F2Filtered_AtLeast40XIllDepth_AssemblySummary_TSV_PATH = PMP_SM_ResultsSummary_Dir_210108 + \"/210108_PMP_36CI_CircularOnly_F2Filtered_AtLeast40XMeanDepthIllumina_AssemblySummary_V7.tsv\"       \n",
    "\n",
    "PMP_36CI_CicularOnly_F2Filtered_AtLeast40XDepth_AssemblySummary = pd.read_csv(PMP_36CI_CicularOnly_F2Filtered_AtLeast40XIllDepth_AssemblySummary_TSV_PATH, sep = \"\\t\")\n",
    "\n",
    "PMP_36CI_AnalysisSet_AssemblySummary = PMP_36CI_CicularOnly_F2Filtered_AtLeast40XDepth_AssemblySummary\n",
    "\n",
    "\n",
    "SampleIDs_36CI_SOI = list( PMP_36CI_AnalysisSet_AssemblySummary[\"SampleID\"].values )\n",
    "\n",
    "\n",
    "print(','.join(SampleIDs_36CI_SOI) )\n",
    "\n",
    "# Make sample to metadata mapping dicts\n",
    "\n",
    "ID_To_IlluminaAvrgCov_Dict = dict(PMP_36CI_AnalysisSet_AssemblySummary[['SampleID', 'IlluminaWGSToH37rv_AvrgCov']].values)                     \n",
    "ID_To_Lineage_Dict = dict(PMP_36CI_AnalysisSet_AssemblySummary[['SampleID', 'PrimaryLineage_PB']].values)\n",
    "ID_To_Dataset_Dict = dict(PMP_36CI_AnalysisSet_AssemblySummary[['SampleID', 'Dataset_Tag']].values)"
   ]
  },
  {
   "cell_type": "code",
   "execution_count": null,
   "metadata": {},
   "outputs": [],
   "source": []
  },
  {
   "cell_type": "markdown",
   "metadata": {},
   "source": [
    "# 0) Read in pickles of processed data"
   ]
  },
  {
   "cell_type": "markdown",
   "metadata": {},
   "source": [
    "## Read back in NPY for EBR-36CI"
   ]
  },
  {
   "cell_type": "code",
   "execution_count": 4,
   "metadata": {},
   "outputs": [],
   "source": [
    "PB_Vs_Illumina_DataAnalysis_Dir = \"../../../210112_PBvsI_VCeval_AnalysisDir_V7_36CI\"\n",
    "\n",
    "# Define directory for EBR analysis data\n",
    "PBvIll_EBR_Dir = PB_Vs_Illumina_DataAnalysis_Dir + \"/210112_EBR_H37rv_36CI_MM2vsPilon_V7\"         \n",
    "\n",
    "PBvsIll_EBR_IndivSample_NPZs = f\"{PBvIll_EBR_Dir}/210112_EBR_H37rv_IndividualSampleRecall_NPZs\"\n",
    "\n",
    "\n",
    "# Parse in aggregated EBR-36CI array\n",
    "EBR_36CI_WGS40X_NPZ_PATH = f\"{PBvIll_EBR_Dir}/210112_EBR_V7_36CI.npz\"\n",
    "\n",
    "EBR_36CI_Array_A4 = np.load(EBR_36CI_WGS40X_NPZ_PATH)[\"arr_0\"]\n"
   ]
  },
  {
   "cell_type": "code",
   "execution_count": 5,
   "metadata": {},
   "outputs": [],
   "source": [
    "#print(EBR_31CI_Array.shape)"
   ]
  },
  {
   "cell_type": "code",
   "execution_count": 6,
   "metadata": {},
   "outputs": [
    {
     "name": "stdout",
     "output_type": "stream",
     "text": [
      "# of total H37Rv positions: 4411532\n"
     ]
    }
   ],
   "source": [
    "print(\"# of total H37Rv positions:\", EBR_36CI_Array_A4.shape[0]  )"
   ]
  },
  {
   "cell_type": "code",
   "execution_count": 7,
   "metadata": {},
   "outputs": [
    {
     "name": "stdout",
     "output_type": "stream",
     "text": [
      "# of H37Rv positions w/ EBR < 1: 267471\n"
     ]
    },
    {
     "name": "stderr",
     "output_type": "stream",
     "text": [
      "/home/mm774/conda3/envs/py37_S/lib/python3.7/site-packages/ipykernel_launcher.py:1: RuntimeWarning: invalid value encountered in less\n",
      "  \"\"\"Entry point for launching an IPython kernel.\n"
     ]
    }
   ],
   "source": [
    "print(\"# of H37Rv positions w/ EBR < 1:\", EBR_36CI_Array_A4[ EBR_36CI_Array_A4 < 1].shape[0])    "
   ]
  },
  {
   "cell_type": "code",
   "execution_count": 8,
   "metadata": {},
   "outputs": [
    {
     "name": "stderr",
     "output_type": "stream",
     "text": [
      "/home/mm774/conda3/envs/py37_S/lib/python3.7/site-packages/ipykernel_launcher.py:1: RuntimeWarning: invalid value encountered in less\n",
      "  \"\"\"Entry point for launching an IPython kernel.\n"
     ]
    },
    {
     "data": {
      "text/plain": [
       "0.060629958028186125"
      ]
     },
     "execution_count": 8,
     "metadata": {},
     "output_type": "execute_result"
    }
   ],
   "source": [
    "EBR_36CI_Array_A4[ EBR_36CI_Array_A4 < 1].shape[0] /  EBR_36CI_Array_A4.shape[0]"
   ]
  },
  {
   "cell_type": "code",
   "execution_count": 9,
   "metadata": {},
   "outputs": [
    {
     "name": "stderr",
     "output_type": "stream",
     "text": [
      "/home/mm774/conda3/envs/py37_S/lib/python3.7/site-packages/ipykernel_launcher.py:1: RuntimeWarning: invalid value encountered in less\n",
      "  \"\"\"Entry point for launching an IPython kernel.\n"
     ]
    },
    {
     "data": {
      "text/plain": [
       "0.03752596603628853"
      ]
     },
     "execution_count": 9,
     "metadata": {},
     "output_type": "execute_result"
    }
   ],
   "source": [
    "EBR_36CI_Array_A4[ EBR_36CI_Array_A4 < 0.95].shape[0] /  EBR_36CI_Array_A4.shape[0]"
   ]
  },
  {
   "cell_type": "code",
   "execution_count": 10,
   "metadata": {},
   "outputs": [
    {
     "name": "stderr",
     "output_type": "stream",
     "text": [
      "/home/mm774/conda3/envs/py37_S/lib/python3.7/site-packages/ipykernel_launcher.py:1: RuntimeWarning: invalid value encountered in less\n",
      "  \"\"\"Entry point for launching an IPython kernel.\n"
     ]
    },
    {
     "data": {
      "text/plain": [
       "0.028594828281875775"
      ]
     },
     "execution_count": 10,
     "metadata": {},
     "output_type": "execute_result"
    }
   ],
   "source": [
    "EBR_36CI_Array_A4[ EBR_36CI_Array_A4 < 0.9].shape[0] /  EBR_36CI_Array_A4.shape[0]"
   ]
  },
  {
   "cell_type": "code",
   "execution_count": null,
   "metadata": {},
   "outputs": [],
   "source": []
  },
  {
   "cell_type": "code",
   "execution_count": null,
   "metadata": {},
   "outputs": [],
   "source": []
  },
  {
   "cell_type": "markdown",
   "metadata": {},
   "source": [
    "### Define directories of PMP-SM pipeline"
   ]
  },
  {
   "cell_type": "code",
   "execution_count": 11,
   "metadata": {},
   "outputs": [],
   "source": [
    "# Define varaint calling pipeline output directories\n",
    "\n",
    "PacBio_ProjectDir = \"/n/data1/hms/dbmi/farhat/mm774/Projects/PacBio_Evaluation_Project\"\n",
    "PMP_SM_Outputs_Dir = PacBio_ProjectDir + \"/PacmanPipe_SM_Outputs\"\n",
    "PMP_SM_TB_Portals_R1_Illumina_WGS_201201_OutputDir = PMP_SM_Outputs_Dir + \"/201201_PMP_SM_TB_Portals_R1_Output_V2\"     \n",
    "\n"
   ]
  },
  {
   "cell_type": "code",
   "execution_count": 12,
   "metadata": {
    "scrolled": true
   },
   "outputs": [
    {
     "name": "stderr",
     "output_type": "stream",
     "text": [
      "100%|██████████| 36/36 [02:19<00:00,  3.99s/it]\n"
     ]
    }
   ],
   "source": [
    "dictOf_EBR_IndivIsolate_DFs = {}\n",
    "\n",
    "#dictOf_EBR_IndivIsolate_NPYs = {}\n",
    "\n",
    "#dictOf_BED_DFs_IndivSample_EBRs = {}\n",
    "\n",
    "dictOf_EBR_Breakdown_Dicts = {}\n",
    "\n",
    "SumOf_EBR_Breakdown_Dicts = {\"Outcome_5\" : 0,\n",
    "                             \"Outcome_7\" : 0}\n",
    "\n",
    "\n",
    "sample_Counter = 1\n",
    "\n",
    "for SampleID in tqdm(SampleIDs_36CI_SOI):\n",
    "    \n",
    "    Sample_Output_Dir = PMP_SM_TB_Portals_R1_Illumina_WGS_201201_OutputDir + \"/\" + SampleID\n",
    "    \n",
    "    EBR_Output_Dir = f\"{Sample_Output_Dir}/EmpiricalBasePairRecall_Analysis_V7_PacBio_Vs_IlluminaPilon\"\n",
    "    \n",
    "    # Let's read in EBR TSV\n",
    "    i_EBR_Agreement_DF_TSV_PATH = f\"{EBR_Output_Dir}/EBR.V7.IndivIsolate.{SampleID}.tsv\"\n",
    "        \n",
    "    i_EBR_Outcome_Breakdown_Dict_JSON_PATH = f\"{EBR_Output_Dir}/EBR.V7.IndivIsolate.{SampleID}.OutcomeBreakdown.json\"        \n",
    "    \n",
    "    with open(i_EBR_Outcome_Breakdown_Dict_JSON_PATH) as json_file: i_count_EBR_Outcomes_Dict = json.load(json_file) \n",
    "    \n",
    "    i_EBR_DF = pd.read_csv(i_EBR_Agreement_DF_TSV_PATH, sep = \"\\t\" )\n",
    "\n",
    "    #i_EBR_WithAmbFilled_Array = i_EBR_DF[\"Agreement\"].fillna(\"Ambiguous\").values\n",
    "    \n",
    "    #dictOf_BED_DFs_IndivSample_EBRs[SampleID] = convert_GenomeNParray_To_BED_DF(i_EBR_WithAmbFilled_Array)\n",
    "    \n",
    "    \n",
    "    dictOf_EBR_IndivIsolate_DFs[SampleID] = i_EBR_DF\n",
    "\n",
    "    #dictOf_EBR_IndivIsolate_NPYs[SampleID] = i_EBR_DF[\"Agreement\"].values\n",
    "        \n",
    "    dictOf_EBR_Breakdown_Dicts[SampleID] = i_count_EBR_Outcomes_Dict\n",
    "\n",
    "    \n",
    "    SumOf_EBR_Breakdown_Dicts[\"Outcome_5\"] += i_count_EBR_Outcomes_Dict[\"Outcome_5\"]\n",
    "    SumOf_EBR_Breakdown_Dicts[\"Outcome_7\"] += i_count_EBR_Outcomes_Dict[\"Outcome_7\"]\n",
    "\n",
    "    \n",
    "    \n",
    "    "
   ]
  },
  {
   "cell_type": "code",
   "execution_count": null,
   "metadata": {},
   "outputs": [],
   "source": []
  },
  {
   "cell_type": "code",
   "execution_count": 13,
   "metadata": {},
   "outputs": [
    {
     "data": {
      "text/plain": [
       "{'Outcome_5': 669, 'Outcome_7': 113848}"
      ]
     },
     "execution_count": 13,
     "metadata": {},
     "output_type": "execute_result"
    }
   ],
   "source": [
    "SumOf_EBR_Breakdown_Dicts"
   ]
  },
  {
   "cell_type": "code",
   "execution_count": 14,
   "metadata": {},
   "outputs": [
    {
     "data": {
      "text/plain": [
       "117665"
      ]
     },
     "execution_count": 14,
     "metadata": {},
     "output_type": "execute_result"
    }
   ],
   "source": [
    "117074 + 591"
   ]
  },
  {
   "cell_type": "code",
   "execution_count": 15,
   "metadata": {},
   "outputs": [
    {
     "data": {
      "text/plain": [
       "0.0003230954181133524"
      ]
     },
     "execution_count": 15,
     "metadata": {},
     "output_type": "execute_result"
    }
   ],
   "source": [
    "591 / 1829181"
   ]
  },
  {
   "cell_type": "code",
   "execution_count": 16,
   "metadata": {},
   "outputs": [
    {
     "data": {
      "text/plain": [
       "0.0643358967756608"
      ]
     },
     "execution_count": 16,
     "metadata": {},
     "output_type": "execute_result"
    }
   ],
   "source": [
    "117682 / 1829181 "
   ]
  },
  {
   "cell_type": "code",
   "execution_count": null,
   "metadata": {},
   "outputs": [],
   "source": []
  },
  {
   "cell_type": "code",
   "execution_count": null,
   "metadata": {},
   "outputs": [],
   "source": []
  },
  {
   "cell_type": "code",
   "execution_count": 17,
   "metadata": {},
   "outputs": [
    {
     "data": {
      "text/html": [
       "<div>\n",
       "<style scoped>\n",
       "    .dataframe tbody tr th:only-of-type {\n",
       "        vertical-align: middle;\n",
       "    }\n",
       "\n",
       "    .dataframe tbody tr th {\n",
       "        vertical-align: top;\n",
       "    }\n",
       "\n",
       "    .dataframe thead th {\n",
       "        text-align: right;\n",
       "    }\n",
       "</style>\n",
       "<table border=\"1\" class=\"dataframe\">\n",
       "  <thead>\n",
       "    <tr style=\"text-align: right;\">\n",
       "      <th></th>\n",
       "      <th>Agreement</th>\n",
       "      <th>Ill_Pilon_Tag</th>\n",
       "      <th>Ill_Pilon_TD</th>\n",
       "      <th>Ill_Pilon_DP</th>\n",
       "      <th>Ill_Pilon_MQ</th>\n",
       "    </tr>\n",
       "  </thead>\n",
       "  <tbody>\n",
       "    <tr>\n",
       "      <th>0</th>\n",
       "      <td>1.0</td>\n",
       "      <td>PASS</td>\n",
       "      <td>65.0</td>\n",
       "      <td>40.0</td>\n",
       "      <td>42.0</td>\n",
       "    </tr>\n",
       "    <tr>\n",
       "      <th>1</th>\n",
       "      <td>1.0</td>\n",
       "      <td>PASS</td>\n",
       "      <td>66.0</td>\n",
       "      <td>41.0</td>\n",
       "      <td>42.0</td>\n",
       "    </tr>\n",
       "    <tr>\n",
       "      <th>2</th>\n",
       "      <td>1.0</td>\n",
       "      <td>PASS</td>\n",
       "      <td>66.0</td>\n",
       "      <td>41.0</td>\n",
       "      <td>42.0</td>\n",
       "    </tr>\n",
       "    <tr>\n",
       "      <th>3</th>\n",
       "      <td>1.0</td>\n",
       "      <td>PASS</td>\n",
       "      <td>66.0</td>\n",
       "      <td>41.0</td>\n",
       "      <td>42.0</td>\n",
       "    </tr>\n",
       "    <tr>\n",
       "      <th>4</th>\n",
       "      <td>1.0</td>\n",
       "      <td>PASS</td>\n",
       "      <td>66.0</td>\n",
       "      <td>41.0</td>\n",
       "      <td>42.0</td>\n",
       "    </tr>\n",
       "  </tbody>\n",
       "</table>\n",
       "</div>"
      ],
      "text/plain": [
       "   Agreement Ill_Pilon_Tag  Ill_Pilon_TD  Ill_Pilon_DP  Ill_Pilon_MQ\n",
       "0        1.0          PASS          65.0          40.0          42.0\n",
       "1        1.0          PASS          66.0          41.0          42.0\n",
       "2        1.0          PASS          66.0          41.0          42.0\n",
       "3        1.0          PASS          66.0          41.0          42.0\n",
       "4        1.0          PASS          66.0          41.0          42.0"
      ]
     },
     "execution_count": 17,
     "metadata": {},
     "output_type": "execute_result"
    }
   ],
   "source": [
    "dictOf_EBR_IndivIsolate_DFs[\"N0153\"].head()"
   ]
  },
  {
   "cell_type": "code",
   "execution_count": null,
   "metadata": {},
   "outputs": [],
   "source": []
  },
  {
   "cell_type": "code",
   "execution_count": null,
   "metadata": {},
   "outputs": [],
   "source": []
  },
  {
   "cell_type": "code",
   "execution_count": 18,
   "metadata": {},
   "outputs": [
    {
     "data": {
      "text/plain": [
       "(1825385, 6)"
      ]
     },
     "execution_count": 18,
     "metadata": {},
     "output_type": "execute_result"
    }
   ],
   "source": [
    "ListOf_lowEBRpos_DFs = []\n",
    "pd.set_option('mode.chained_assignment', None)\n",
    "\n",
    "for SampleID in ( SampleIDs_36CI_SOI ) :\n",
    "    \n",
    "    i_EBR_DF = dictOf_EBR_IndivIsolate_DFs[SampleID]\n",
    "    \n",
    "    i_EBR_DF_lowEBRpos = i_EBR_DF[ i_EBR_DF[\"Agreement\"] == 0]\n",
    "        \n",
    "    i_EBR_DF_lowEBRpos[\"SampleID\"] = SampleID\n",
    "    \n",
    "    ListOf_lowEBRpos_DFs.append(i_EBR_DF_lowEBRpos)\n",
    "    \n",
    "    #print(SampleID, i_EBR_DF_lowEBRpos.shape)\n",
    "    \n",
    "ALL_lowEBRpos_36CI_DF = pd.concat(ListOf_lowEBRpos_DFs)\n",
    "ALL_lowEBRpos_36CI_DF.shape\n"
   ]
  },
  {
   "cell_type": "code",
   "execution_count": null,
   "metadata": {},
   "outputs": [],
   "source": []
  },
  {
   "cell_type": "code",
   "execution_count": 19,
   "metadata": {},
   "outputs": [
    {
     "data": {
      "text/html": [
       "<div>\n",
       "<style scoped>\n",
       "    .dataframe tbody tr th:only-of-type {\n",
       "        vertical-align: middle;\n",
       "    }\n",
       "\n",
       "    .dataframe tbody tr th {\n",
       "        vertical-align: top;\n",
       "    }\n",
       "\n",
       "    .dataframe thead th {\n",
       "        text-align: right;\n",
       "    }\n",
       "</style>\n",
       "<table border=\"1\" class=\"dataframe\">\n",
       "  <thead>\n",
       "    <tr style=\"text-align: right;\">\n",
       "      <th></th>\n",
       "      <th>Agreement</th>\n",
       "      <th>Ill_Pilon_Tag</th>\n",
       "      <th>Ill_Pilon_TD</th>\n",
       "      <th>Ill_Pilon_DP</th>\n",
       "      <th>Ill_Pilon_MQ</th>\n",
       "      <th>SampleID</th>\n",
       "    </tr>\n",
       "  </thead>\n",
       "  <tbody>\n",
       "    <tr>\n",
       "      <th>71335</th>\n",
       "      <td>0.0</td>\n",
       "      <td>Del;LowCov</td>\n",
       "      <td>4.0</td>\n",
       "      <td>4.0</td>\n",
       "      <td>60.0</td>\n",
       "      <td>M0011368_9</td>\n",
       "    </tr>\n",
       "    <tr>\n",
       "      <th>71336</th>\n",
       "      <td>0.0</td>\n",
       "      <td>Del;LowCov</td>\n",
       "      <td>4.0</td>\n",
       "      <td>4.0</td>\n",
       "      <td>60.0</td>\n",
       "      <td>M0011368_9</td>\n",
       "    </tr>\n",
       "    <tr>\n",
       "      <th>71337</th>\n",
       "      <td>0.0</td>\n",
       "      <td>Del;LowCov</td>\n",
       "      <td>4.0</td>\n",
       "      <td>4.0</td>\n",
       "      <td>60.0</td>\n",
       "      <td>M0011368_9</td>\n",
       "    </tr>\n",
       "  </tbody>\n",
       "</table>\n",
       "</div>"
      ],
      "text/plain": [
       "       Agreement Ill_Pilon_Tag  Ill_Pilon_TD  Ill_Pilon_DP  Ill_Pilon_MQ    SampleID\n",
       "71335        0.0    Del;LowCov           4.0           4.0          60.0  M0011368_9\n",
       "71336        0.0    Del;LowCov           4.0           4.0          60.0  M0011368_9\n",
       "71337        0.0    Del;LowCov           4.0           4.0          60.0  M0011368_9"
      ]
     },
     "execution_count": 19,
     "metadata": {},
     "output_type": "execute_result"
    }
   ],
   "source": [
    "ALL_lowEBRpos_36CI_DF.head(3)"
   ]
  },
  {
   "cell_type": "code",
   "execution_count": null,
   "metadata": {},
   "outputs": [],
   "source": []
  },
  {
   "cell_type": "code",
   "execution_count": null,
   "metadata": {},
   "outputs": [],
   "source": []
  },
  {
   "cell_type": "code",
   "execution_count": 20,
   "metadata": {},
   "outputs": [
    {
     "data": {
      "text/plain": [
       "1825385"
      ]
     },
     "execution_count": 20,
     "metadata": {},
     "output_type": "execute_result"
    }
   ],
   "source": [
    "ALL_lowEBRpos_36CI_DF[\"Ill_Pilon_Tag\"].value_counts().sum()"
   ]
  },
  {
   "cell_type": "code",
   "execution_count": 21,
   "metadata": {},
   "outputs": [
    {
     "data": {
      "text/plain": [
       "LowCov            1145079\n",
       "Del;LowCov         302826\n",
       "Del                257423\n",
       "PASS               114517\n",
       "Amb                  3773\n",
       "Amb;LowCov            858\n",
       "Del;Amb               719\n",
       "Del;Amb;LowCov        190\n",
       "Name: Ill_Pilon_Tag, dtype: int64"
      ]
     },
     "execution_count": 21,
     "metadata": {},
     "output_type": "execute_result"
    }
   ],
   "source": [
    "ALL_lowEBRpos_36CI_DF[\"Ill_Pilon_Tag\"].value_counts()"
   ]
  },
  {
   "cell_type": "code",
   "execution_count": 22,
   "metadata": {},
   "outputs": [
    {
     "data": {
      "text/plain": [
       "LowCov            0.627308\n",
       "Del;LowCov        0.165897\n",
       "Del               0.141024\n",
       "PASS              0.062736\n",
       "Amb               0.002067\n",
       "Amb;LowCov        0.000470\n",
       "Del;Amb           0.000394\n",
       "Del;Amb;LowCov    0.000104\n",
       "Name: Ill_Pilon_Tag, dtype: float64"
      ]
     },
     "execution_count": 22,
     "metadata": {},
     "output_type": "execute_result"
    }
   ],
   "source": [
    "ALL_lowEBRpos_36CI_DF[\"Ill_Pilon_Tag\"].value_counts(normalize=True)"
   ]
  },
  {
   "cell_type": "code",
   "execution_count": null,
   "metadata": {},
   "outputs": [],
   "source": []
  },
  {
   "cell_type": "code",
   "execution_count": 23,
   "metadata": {},
   "outputs": [],
   "source": [
    "\n",
    "PilonTags_For_Del_Classification = [\"Del\", \"Del;LowCov\", \"Del;Amb\", \"Del;Amb;LowCov\"]\n",
    "\n",
    "#PilonTags_For_LowCov_Classification = [\"LowCov\",\"Amb;LowCov\",]\n",
    "\n",
    "#PilonTags_For_LowCov_Classification = [\"LowCov\", \"Del;LowCov\", \"Amb;LowCov\", \"Del;Amb;LowCov\"]\n",
    "\n",
    "\n",
    "PilonTags_For_LowCov_Classification = [\"LowCov\",\"Amb;LowCov\",]\n",
    "\n",
    "\n",
    "PilonTags_For_Amb_Classification = [\"Amb\"]\n",
    "\n",
    "PilonTags_For_PASS_Classification = [\"PASS\"]\n",
    "\n"
   ]
  },
  {
   "cell_type": "code",
   "execution_count": 24,
   "metadata": {},
   "outputs": [],
   "source": [
    "Del_Class_lowEBRpos_36CI_DF = ALL_lowEBRpos_36CI_DF[ ALL_lowEBRpos_36CI_DF[\"Ill_Pilon_Tag\"].isin(PilonTags_For_Del_Classification) ]\n",
    "\n",
    "LowCov_Class_lowEBRpos_36CI_DF = ALL_lowEBRpos_36CI_DF[ ALL_lowEBRpos_36CI_DF[\"Ill_Pilon_Tag\"].isin(PilonTags_For_LowCov_Classification) ]\n",
    "\n",
    "Amb_Class_lowEBRpos_36CI_DF = ALL_lowEBRpos_36CI_DF[ ALL_lowEBRpos_36CI_DF[\"Ill_Pilon_Tag\"].isin([\"Amb\"]) ]\n",
    "\n",
    "PASS_Class_lowEBRpos_36CI_DF = ALL_lowEBRpos_36CI_DF[ ALL_lowEBRpos_36CI_DF[\"Ill_Pilon_Tag\"].isin([\"PASS\"]) ]\n"
   ]
  },
  {
   "cell_type": "code",
   "execution_count": null,
   "metadata": {},
   "outputs": [],
   "source": []
  },
  {
   "cell_type": "code",
   "execution_count": null,
   "metadata": {},
   "outputs": [],
   "source": []
  },
  {
   "cell_type": "code",
   "execution_count": 25,
   "metadata": {},
   "outputs": [
    {
     "data": {
      "text/plain": [
       "1825385"
      ]
     },
     "execution_count": 25,
     "metadata": {},
     "output_type": "execute_result"
    }
   ],
   "source": [
    "ALL_lowEBRpos_36CI_DF[\"Ill_Pilon_Tag\"].value_counts().sum()"
   ]
  },
  {
   "cell_type": "markdown",
   "metadata": {},
   "source": [
    "# What are the breakdown Pilon tags associated with positions of poor recall. "
   ]
  },
  {
   "cell_type": "markdown",
   "metadata": {},
   "source": [
    "### A) How many low recall positions were FALSE deletion calls (Del)?"
   ]
  },
  {
   "cell_type": "code",
   "execution_count": 26,
   "metadata": {},
   "outputs": [
    {
     "data": {
      "text/plain": [
       "(561158, 6)"
      ]
     },
     "execution_count": 26,
     "metadata": {},
     "output_type": "execute_result"
    }
   ],
   "source": [
    "Del_Class_lowEBRpos_36CI_DF.shape"
   ]
  },
  {
   "cell_type": "code",
   "execution_count": 27,
   "metadata": {},
   "outputs": [
    {
     "data": {
      "text/plain": [
       "0.30741898284471497"
      ]
     },
     "execution_count": 27,
     "metadata": {},
     "output_type": "execute_result"
    }
   ],
   "source": [
    "Del_Class_lowEBRpos_36CI_DF.shape[0] / ALL_lowEBRpos_36CI_DF.shape[0]"
   ]
  },
  {
   "cell_type": "markdown",
   "metadata": {},
   "source": [
    "### B) How many low recall positions were tagged as LowCov (with no deletion call)?"
   ]
  },
  {
   "cell_type": "code",
   "execution_count": 28,
   "metadata": {},
   "outputs": [
    {
     "data": {
      "text/plain": [
       "(1145937, 6)"
      ]
     },
     "execution_count": 28,
     "metadata": {},
     "output_type": "execute_result"
    }
   ],
   "source": [
    "LowCov_Class_lowEBRpos_36CI_DF.shape"
   ]
  },
  {
   "cell_type": "code",
   "execution_count": 29,
   "metadata": {},
   "outputs": [
    {
     "data": {
      "text/plain": [
       "0.6277782495199643"
      ]
     },
     "execution_count": 29,
     "metadata": {},
     "output_type": "execute_result"
    }
   ],
   "source": [
    "LowCov_Class_lowEBRpos_36CI_DF.shape[0] / ALL_lowEBRpos_36CI_DF.shape[0]"
   ]
  },
  {
   "cell_type": "markdown",
   "metadata": {},
   "source": [
    "### C) How many low recall positions were tagged as Amb (with no Del or LowCov tag)?"
   ]
  },
  {
   "cell_type": "code",
   "execution_count": 30,
   "metadata": {},
   "outputs": [
    {
     "data": {
      "text/plain": [
       "(3773, 6)"
      ]
     },
     "execution_count": 30,
     "metadata": {},
     "output_type": "execute_result"
    }
   ],
   "source": [
    "Amb_Class_lowEBRpos_36CI_DF.shape"
   ]
  },
  {
   "cell_type": "code",
   "execution_count": 31,
   "metadata": {},
   "outputs": [
    {
     "data": {
      "text/plain": [
       "0.0020669612164009236"
      ]
     },
     "execution_count": 31,
     "metadata": {},
     "output_type": "execute_result"
    }
   ],
   "source": [
    "Amb_Class_lowEBRpos_36CI_DF.shape[0] / ALL_lowEBRpos_36CI_DF.shape[0]"
   ]
  },
  {
   "cell_type": "markdown",
   "metadata": {},
   "source": [
    "### D) How many low recall positions were FALSEY tagged as PASS?"
   ]
  },
  {
   "cell_type": "code",
   "execution_count": 32,
   "metadata": {},
   "outputs": [
    {
     "data": {
      "text/plain": [
       "(114517, 6)"
      ]
     },
     "execution_count": 32,
     "metadata": {},
     "output_type": "execute_result"
    }
   ],
   "source": [
    "PASS_Class_lowEBRpos_36CI_DF.shape"
   ]
  },
  {
   "cell_type": "code",
   "execution_count": 33,
   "metadata": {},
   "outputs": [
    {
     "data": {
      "text/plain": [
       "0.06273580641891985"
      ]
     },
     "execution_count": 33,
     "metadata": {},
     "output_type": "execute_result"
    }
   ],
   "source": [
    "PASS_Class_lowEBRpos_36CI_DF.shape[0] / ALL_lowEBRpos_36CI_DF.shape[0]"
   ]
  },
  {
   "cell_type": "code",
   "execution_count": null,
   "metadata": {},
   "outputs": [],
   "source": []
  },
  {
   "cell_type": "markdown",
   "metadata": {},
   "source": [
    "## Verify that total counts match up"
   ]
  },
  {
   "cell_type": "code",
   "execution_count": 34,
   "metadata": {},
   "outputs": [
    {
     "data": {
      "text/plain": [
       "1825385"
      ]
     },
     "execution_count": 34,
     "metadata": {},
     "output_type": "execute_result"
    }
   ],
   "source": [
    "ALL_lowEBRpos_36CI_DF[\"Ill_Pilon_Tag\"].value_counts().sum()"
   ]
  },
  {
   "cell_type": "code",
   "execution_count": 35,
   "metadata": {},
   "outputs": [
    {
     "data": {
      "text/plain": [
       "1825385"
      ]
     },
     "execution_count": 35,
     "metadata": {},
     "output_type": "execute_result"
    }
   ],
   "source": [
    "Del_Class_lowEBRpos_36CI_DF.shape[0]+ LowCov_Class_lowEBRpos_36CI_DF.shape[0] + Amb_Class_lowEBRpos_36CI_DF.shape[0] + PASS_Class_lowEBRpos_36CI_DF.shape[0]"
   ]
  },
  {
   "cell_type": "code",
   "execution_count": null,
   "metadata": {},
   "outputs": [],
   "source": []
  },
  {
   "cell_type": "code",
   "execution_count": null,
   "metadata": {},
   "outputs": [],
   "source": []
  },
  {
   "cell_type": "code",
   "execution_count": 36,
   "metadata": {},
   "outputs": [],
   "source": [
    "\n",
    "#TF_Array_WithLowCov = ( (ALL_lowEBRpos_36CI_DF[\"Ill_Pilon_Tag\"].isin(listOf_PilonTags_For_LowCov_Outcome) ) )\n",
    "\n",
    "#lowEBRpos_36CI_LowCov_DF = ALL_lowEBRpos_36CI_DF[TF_Array_WithLowCov]\n",
    "\n",
    "lowEBRpos_36CI_LowCov_MQZero_DF = LowCov_Class_lowEBRpos_36CI_DF.query(\"(Ill_Pilon_TD >= 5) & (Ill_Pilon_DP < 5) & (Ill_Pilon_MQ == 0) \")\n",
    "lowEBRpos_36CI_LowCov_InvalidPairs_DF = LowCov_Class_lowEBRpos_36CI_DF.query(\"(Ill_Pilon_TD >= 5) & (Ill_Pilon_DP < 5) & (Ill_Pilon_MQ > 0) \")      \n",
    "lowEBRpos_36CI_LowCov_Insufficient_TotalCov_DF = LowCov_Class_lowEBRpos_36CI_DF.query(\"(Ill_Pilon_TD < 5)  \")\n",
    "\n"
   ]
  },
  {
   "cell_type": "markdown",
   "metadata": {},
   "source": [
    "## How much total low-EBR positions have the LowCov tag?\n",
    "Answer: 1,446,305"
   ]
  },
  {
   "cell_type": "code",
   "execution_count": 37,
   "metadata": {},
   "outputs": [
    {
     "data": {
      "text/plain": [
       "(1145937, 6)"
      ]
     },
     "execution_count": 37,
     "metadata": {},
     "output_type": "execute_result"
    }
   ],
   "source": [
    "LowCov_Class_lowEBRpos_36CI_DF.shape"
   ]
  },
  {
   "cell_type": "markdown",
   "metadata": {},
   "source": [
    "## How much total low-EBR positions have the LowCov and had insufficient total depth ?\n",
    "Answer: ____ (__% of all Low-EBR and LowCov positions)"
   ]
  },
  {
   "cell_type": "code",
   "execution_count": 38,
   "metadata": {},
   "outputs": [
    {
     "data": {
      "text/plain": [
       "(525373, 6)"
      ]
     },
     "execution_count": 38,
     "metadata": {},
     "output_type": "execute_result"
    }
   ],
   "source": [
    "lowEBRpos_36CI_LowCov_Insufficient_TotalCov_DF.shape"
   ]
  },
  {
   "cell_type": "code",
   "execution_count": 39,
   "metadata": {},
   "outputs": [
    {
     "data": {
      "text/plain": [
       "0.45846586679721485"
      ]
     },
     "execution_count": 39,
     "metadata": {},
     "output_type": "execute_result"
    }
   ],
   "source": [
    "lowEBRpos_36CI_LowCov_Insufficient_TotalCov_DF.shape[0] / LowCov_Class_lowEBRpos_36CI_DF.shape[0]"
   ]
  },
  {
   "cell_type": "markdown",
   "metadata": {},
   "source": [
    "## How much total low-EBR positions have the LowCov and had insufficient depth due to MQ = 0 ?\n",
    "Answer: 316,473 (27.6% of all Low-EBR and LowCov positions)"
   ]
  },
  {
   "cell_type": "code",
   "execution_count": 40,
   "metadata": {},
   "outputs": [
    {
     "data": {
      "text/plain": [
       "(316304, 6)"
      ]
     },
     "execution_count": 40,
     "metadata": {},
     "output_type": "execute_result"
    }
   ],
   "source": [
    "lowEBRpos_36CI_LowCov_MQZero_DF.shape"
   ]
  },
  {
   "cell_type": "code",
   "execution_count": 41,
   "metadata": {},
   "outputs": [
    {
     "data": {
      "text/plain": [
       "0.2760221547955952"
      ]
     },
     "execution_count": 41,
     "metadata": {},
     "output_type": "execute_result"
    }
   ],
   "source": [
    "lowEBRpos_36CI_LowCov_MQZero_DF.shape[0] / LowCov_Class_lowEBRpos_36CI_DF.shape[0]"
   ]
  },
  {
   "cell_type": "markdown",
   "metadata": {},
   "source": [
    "## How much total low-EBR positions have the LowCov and had insufficient depth due to Invalid Pairs (MQ > 0)?\n",
    "Answer: _____ (__% of all Low-EBR and LowCov positions)"
   ]
  },
  {
   "cell_type": "code",
   "execution_count": 42,
   "metadata": {},
   "outputs": [
    {
     "data": {
      "text/plain": [
       "(304260, 6)"
      ]
     },
     "execution_count": 42,
     "metadata": {},
     "output_type": "execute_result"
    }
   ],
   "source": [
    "lowEBRpos_36CI_LowCov_InvalidPairs_DF.shape"
   ]
  },
  {
   "cell_type": "code",
   "execution_count": 43,
   "metadata": {},
   "outputs": [
    {
     "data": {
      "text/plain": [
       "0.26551197840718993"
      ]
     },
     "execution_count": 43,
     "metadata": {},
     "output_type": "execute_result"
    }
   ],
   "source": [
    "lowEBRpos_36CI_LowCov_InvalidPairs_DF.shape[0] / LowCov_Class_lowEBRpos_36CI_DF.shape[0]"
   ]
  },
  {
   "cell_type": "code",
   "execution_count": null,
   "metadata": {},
   "outputs": [],
   "source": []
  },
  {
   "cell_type": "code",
   "execution_count": null,
   "metadata": {},
   "outputs": [],
   "source": []
  },
  {
   "cell_type": "markdown",
   "metadata": {},
   "source": [
    "### Verify that total counts add up"
   ]
  },
  {
   "cell_type": "code",
   "execution_count": 44,
   "metadata": {},
   "outputs": [
    {
     "data": {
      "text/plain": [
       "1145937"
      ]
     },
     "execution_count": 44,
     "metadata": {},
     "output_type": "execute_result"
    }
   ],
   "source": [
    "LowCov_Class_lowEBRpos_36CI_DF.shape[0]"
   ]
  },
  {
   "cell_type": "code",
   "execution_count": 45,
   "metadata": {},
   "outputs": [
    {
     "data": {
      "text/plain": [
       "1145937"
      ]
     },
     "execution_count": 45,
     "metadata": {},
     "output_type": "execute_result"
    }
   ],
   "source": [
    "lowEBRpos_36CI_LowCov_Insufficient_TotalCov_DF.shape[0] + lowEBRpos_36CI_LowCov_InvalidPairs_DF.shape[0] + lowEBRpos_36CI_LowCov_MQZero_DF.shape[0]"
   ]
  },
  {
   "cell_type": "code",
   "execution_count": null,
   "metadata": {},
   "outputs": [],
   "source": []
  },
  {
   "cell_type": "code",
   "execution_count": null,
   "metadata": {},
   "outputs": [],
   "source": []
  },
  {
   "cell_type": "code",
   "execution_count": null,
   "metadata": {},
   "outputs": [],
   "source": []
  },
  {
   "cell_type": "code",
   "execution_count": null,
   "metadata": {},
   "outputs": [],
   "source": []
  },
  {
   "cell_type": "code",
   "execution_count": null,
   "metadata": {},
   "outputs": [],
   "source": []
  },
  {
   "cell_type": "code",
   "execution_count": null,
   "metadata": {},
   "outputs": [],
   "source": []
  },
  {
   "cell_type": "code",
   "execution_count": null,
   "metadata": {},
   "outputs": [],
   "source": []
  },
  {
   "cell_type": "raw",
   "metadata": {},
   "source": [
    "## What is the breakdown of Pilon Tags at low EBR positions"
   ]
  },
  {
   "cell_type": "code",
   "execution_count": 46,
   "metadata": {},
   "outputs": [
    {
     "data": {
      "text/plain": [
       "LowCov            28905\n",
       "Del;LowCov         5936\n",
       "Del                4560\n",
       "PASS                906\n",
       "Amb                  79\n",
       "Amb;LowCov           23\n",
       "Del;Amb              22\n",
       "Del;Amb;LowCov        4\n",
       "Name: Ill_Pilon_Tag, dtype: int64"
      ]
     },
     "execution_count": 46,
     "metadata": {},
     "output_type": "execute_result"
    }
   ],
   "source": [
    "i_EBR_DF_lowEBRpos[\"Ill_Pilon_Tag\"].value_counts()"
   ]
  },
  {
   "cell_type": "code",
   "execution_count": 47,
   "metadata": {},
   "outputs": [
    {
     "data": {
      "text/plain": [
       "LowCov            0.714851\n",
       "Del;LowCov        0.146804\n",
       "Del               0.112774\n",
       "PASS              0.022406\n",
       "Amb               0.001954\n",
       "Amb;LowCov        0.000569\n",
       "Del;Amb           0.000544\n",
       "Del;Amb;LowCov    0.000099\n",
       "Name: Ill_Pilon_Tag, dtype: float64"
      ]
     },
     "execution_count": 47,
     "metadata": {},
     "output_type": "execute_result"
    }
   ],
   "source": [
    "i_EBR_DF_lowEBRpos[\"Ill_Pilon_Tag\"].value_counts(normalize=True)"
   ]
  },
  {
   "cell_type": "code",
   "execution_count": null,
   "metadata": {},
   "outputs": [],
   "source": []
  },
  {
   "cell_type": "code",
   "execution_count": null,
   "metadata": {},
   "outputs": [],
   "source": []
  },
  {
   "cell_type": "code",
   "execution_count": 48,
   "metadata": {},
   "outputs": [
    {
     "data": {
      "text/html": [
       "<div>\n",
       "<style scoped>\n",
       "    .dataframe tbody tr th:only-of-type {\n",
       "        vertical-align: middle;\n",
       "    }\n",
       "\n",
       "    .dataframe tbody tr th {\n",
       "        vertical-align: top;\n",
       "    }\n",
       "\n",
       "    .dataframe thead th {\n",
       "        text-align: right;\n",
       "    }\n",
       "</style>\n",
       "<table border=\"1\" class=\"dataframe\">\n",
       "  <thead>\n",
       "    <tr style=\"text-align: right;\">\n",
       "      <th></th>\n",
       "      <th>Agreement</th>\n",
       "      <th>Ill_Pilon_Tag</th>\n",
       "      <th>Ill_Pilon_TD</th>\n",
       "      <th>Ill_Pilon_DP</th>\n",
       "      <th>Ill_Pilon_MQ</th>\n",
       "      <th>SampleID</th>\n",
       "    </tr>\n",
       "  </thead>\n",
       "  <tbody>\n",
       "    <tr>\n",
       "      <th>86769</th>\n",
       "      <td>0.0</td>\n",
       "      <td>LowCov</td>\n",
       "      <td>4.0</td>\n",
       "      <td>4.0</td>\n",
       "      <td>60.0</td>\n",
       "      <td>DNA086</td>\n",
       "    </tr>\n",
       "    <tr>\n",
       "      <th>86770</th>\n",
       "      <td>0.0</td>\n",
       "      <td>LowCov</td>\n",
       "      <td>4.0</td>\n",
       "      <td>4.0</td>\n",
       "      <td>60.0</td>\n",
       "      <td>DNA086</td>\n",
       "    </tr>\n",
       "    <tr>\n",
       "      <th>86771</th>\n",
       "      <td>0.0</td>\n",
       "      <td>LowCov</td>\n",
       "      <td>3.0</td>\n",
       "      <td>3.0</td>\n",
       "      <td>60.0</td>\n",
       "      <td>DNA086</td>\n",
       "    </tr>\n",
       "    <tr>\n",
       "      <th>86772</th>\n",
       "      <td>0.0</td>\n",
       "      <td>LowCov</td>\n",
       "      <td>3.0</td>\n",
       "      <td>3.0</td>\n",
       "      <td>60.0</td>\n",
       "      <td>DNA086</td>\n",
       "    </tr>\n",
       "    <tr>\n",
       "      <th>86773</th>\n",
       "      <td>0.0</td>\n",
       "      <td>LowCov</td>\n",
       "      <td>3.0</td>\n",
       "      <td>3.0</td>\n",
       "      <td>60.0</td>\n",
       "      <td>DNA086</td>\n",
       "    </tr>\n",
       "  </tbody>\n",
       "</table>\n",
       "</div>"
      ],
      "text/plain": [
       "       Agreement Ill_Pilon_Tag  Ill_Pilon_TD  Ill_Pilon_DP  Ill_Pilon_MQ SampleID\n",
       "86769        0.0        LowCov           4.0           4.0          60.0   DNA086\n",
       "86770        0.0        LowCov           4.0           4.0          60.0   DNA086\n",
       "86771        0.0        LowCov           3.0           3.0          60.0   DNA086\n",
       "86772        0.0        LowCov           3.0           3.0          60.0   DNA086\n",
       "86773        0.0        LowCov           3.0           3.0          60.0   DNA086"
      ]
     },
     "execution_count": 48,
     "metadata": {},
     "output_type": "execute_result"
    }
   ],
   "source": [
    "i_EBR_DF_lowEBRpos.head()"
   ]
  },
  {
   "cell_type": "code",
   "execution_count": 49,
   "metadata": {},
   "outputs": [
    {
     "data": {
      "text/html": [
       "<div>\n",
       "<style scoped>\n",
       "    .dataframe tbody tr th:only-of-type {\n",
       "        vertical-align: middle;\n",
       "    }\n",
       "\n",
       "    .dataframe tbody tr th {\n",
       "        vertical-align: top;\n",
       "    }\n",
       "\n",
       "    .dataframe thead th {\n",
       "        text-align: right;\n",
       "    }\n",
       "</style>\n",
       "<table border=\"1\" class=\"dataframe\">\n",
       "  <thead>\n",
       "    <tr style=\"text-align: right;\">\n",
       "      <th></th>\n",
       "      <th>Agreement</th>\n",
       "      <th>Ill_Pilon_Tag</th>\n",
       "      <th>Ill_Pilon_TD</th>\n",
       "      <th>Ill_Pilon_DP</th>\n",
       "      <th>Ill_Pilon_MQ</th>\n",
       "      <th>SampleID</th>\n",
       "    </tr>\n",
       "  </thead>\n",
       "  <tbody>\n",
       "    <tr>\n",
       "      <th>154138</th>\n",
       "      <td>0.0</td>\n",
       "      <td>PASS</td>\n",
       "      <td>54.0</td>\n",
       "      <td>50.0</td>\n",
       "      <td>54.0</td>\n",
       "      <td>DNA086</td>\n",
       "    </tr>\n",
       "    <tr>\n",
       "      <th>154139</th>\n",
       "      <td>0.0</td>\n",
       "      <td>PASS</td>\n",
       "      <td>54.0</td>\n",
       "      <td>50.0</td>\n",
       "      <td>54.0</td>\n",
       "      <td>DNA086</td>\n",
       "    </tr>\n",
       "    <tr>\n",
       "      <th>154140</th>\n",
       "      <td>0.0</td>\n",
       "      <td>PASS</td>\n",
       "      <td>54.0</td>\n",
       "      <td>49.0</td>\n",
       "      <td>54.0</td>\n",
       "      <td>DNA086</td>\n",
       "    </tr>\n",
       "    <tr>\n",
       "      <th>154141</th>\n",
       "      <td>0.0</td>\n",
       "      <td>PASS</td>\n",
       "      <td>54.0</td>\n",
       "      <td>49.0</td>\n",
       "      <td>54.0</td>\n",
       "      <td>DNA086</td>\n",
       "    </tr>\n",
       "    <tr>\n",
       "      <th>154142</th>\n",
       "      <td>0.0</td>\n",
       "      <td>PASS</td>\n",
       "      <td>54.0</td>\n",
       "      <td>47.0</td>\n",
       "      <td>54.0</td>\n",
       "      <td>DNA086</td>\n",
       "    </tr>\n",
       "    <tr>\n",
       "      <th>...</th>\n",
       "      <td>...</td>\n",
       "      <td>...</td>\n",
       "      <td>...</td>\n",
       "      <td>...</td>\n",
       "      <td>...</td>\n",
       "      <td>...</td>\n",
       "    </tr>\n",
       "    <tr>\n",
       "      <th>3933629</th>\n",
       "      <td>0.0</td>\n",
       "      <td>PASS</td>\n",
       "      <td>11.0</td>\n",
       "      <td>5.0</td>\n",
       "      <td>40.0</td>\n",
       "      <td>DNA086</td>\n",
       "    </tr>\n",
       "    <tr>\n",
       "      <th>3933630</th>\n",
       "      <td>0.0</td>\n",
       "      <td>PASS</td>\n",
       "      <td>11.0</td>\n",
       "      <td>5.0</td>\n",
       "      <td>40.0</td>\n",
       "      <td>DNA086</td>\n",
       "    </tr>\n",
       "    <tr>\n",
       "      <th>3933631</th>\n",
       "      <td>0.0</td>\n",
       "      <td>PASS</td>\n",
       "      <td>11.0</td>\n",
       "      <td>5.0</td>\n",
       "      <td>40.0</td>\n",
       "      <td>DNA086</td>\n",
       "    </tr>\n",
       "    <tr>\n",
       "      <th>3933632</th>\n",
       "      <td>0.0</td>\n",
       "      <td>PASS</td>\n",
       "      <td>11.0</td>\n",
       "      <td>5.0</td>\n",
       "      <td>40.0</td>\n",
       "      <td>DNA086</td>\n",
       "    </tr>\n",
       "    <tr>\n",
       "      <th>3933633</th>\n",
       "      <td>0.0</td>\n",
       "      <td>PASS</td>\n",
       "      <td>11.0</td>\n",
       "      <td>5.0</td>\n",
       "      <td>40.0</td>\n",
       "      <td>DNA086</td>\n",
       "    </tr>\n",
       "  </tbody>\n",
       "</table>\n",
       "<p>906 rows × 6 columns</p>\n",
       "</div>"
      ],
      "text/plain": [
       "         Agreement Ill_Pilon_Tag  Ill_Pilon_TD  Ill_Pilon_DP  Ill_Pilon_MQ SampleID\n",
       "154138         0.0          PASS          54.0          50.0          54.0   DNA086\n",
       "154139         0.0          PASS          54.0          50.0          54.0   DNA086\n",
       "154140         0.0          PASS          54.0          49.0          54.0   DNA086\n",
       "154141         0.0          PASS          54.0          49.0          54.0   DNA086\n",
       "154142         0.0          PASS          54.0          47.0          54.0   DNA086\n",
       "...            ...           ...           ...           ...           ...      ...\n",
       "3933629        0.0          PASS          11.0           5.0          40.0   DNA086\n",
       "3933630        0.0          PASS          11.0           5.0          40.0   DNA086\n",
       "3933631        0.0          PASS          11.0           5.0          40.0   DNA086\n",
       "3933632        0.0          PASS          11.0           5.0          40.0   DNA086\n",
       "3933633        0.0          PASS          11.0           5.0          40.0   DNA086\n",
       "\n",
       "[906 rows x 6 columns]"
      ]
     },
     "execution_count": 49,
     "metadata": {},
     "output_type": "execute_result"
    }
   ],
   "source": [
    "i_EBR_DF_lowEBRpos[   i_EBR_DF_lowEBRpos[\"Ill_Pilon_Tag\"] == \"PASS\"]"
   ]
  },
  {
   "cell_type": "code",
   "execution_count": null,
   "metadata": {},
   "outputs": [],
   "source": []
  },
  {
   "cell_type": "code",
   "execution_count": null,
   "metadata": {},
   "outputs": [],
   "source": []
  },
  {
   "cell_type": "code",
   "execution_count": 50,
   "metadata": {},
   "outputs": [
    {
     "data": {
      "text/plain": [
       "LowCov            28905\n",
       "Del;LowCov         5936\n",
       "Del                4560\n",
       "PASS                906\n",
       "Amb                  79\n",
       "Amb;LowCov           23\n",
       "Del;Amb              22\n",
       "Del;Amb;LowCov        4\n",
       "Name: Ill_Pilon_Tag, dtype: int64"
      ]
     },
     "execution_count": 50,
     "metadata": {},
     "output_type": "execute_result"
    }
   ],
   "source": [
    "i_EBR_DF_lowEBRpos[\"Ill_Pilon_Tag\"].value_counts()"
   ]
  },
  {
   "cell_type": "code",
   "execution_count": 59,
   "metadata": {},
   "outputs": [
    {
     "data": {
      "text/plain": [
       "LowCov            0.714851\n",
       "Del;LowCov        0.146804\n",
       "Del               0.112774\n",
       "PASS              0.022406\n",
       "Amb               0.001954\n",
       "Amb;LowCov        0.000569\n",
       "Del;Amb           0.000544\n",
       "Del;Amb;LowCov    0.000099\n",
       "Name: Ill_Pilon_Tag, dtype: float64"
      ]
     },
     "execution_count": 59,
     "metadata": {},
     "output_type": "execute_result"
    }
   ],
   "source": [
    "i_EBR_DF_lowEBRpos[\"Ill_Pilon_Tag\"].value_counts(normalize=True)"
   ]
  },
  {
   "cell_type": "code",
   "execution_count": null,
   "metadata": {},
   "outputs": [],
   "source": []
  },
  {
   "cell_type": "code",
   "execution_count": null,
   "metadata": {},
   "outputs": [],
   "source": []
  },
  {
   "cell_type": "code",
   "execution_count": null,
   "metadata": {},
   "outputs": [],
   "source": []
  },
  {
   "cell_type": "code",
   "execution_count": null,
   "metadata": {},
   "outputs": [],
   "source": []
  },
  {
   "cell_type": "code",
   "execution_count": null,
   "metadata": {},
   "outputs": [],
   "source": []
  },
  {
   "cell_type": "code",
   "execution_count": null,
   "metadata": {},
   "outputs": [],
   "source": []
  },
  {
   "cell_type": "code",
   "execution_count": null,
   "metadata": {},
   "outputs": [],
   "source": []
  },
  {
   "cell_type": "code",
   "execution_count": 52,
   "metadata": {},
   "outputs": [
    {
     "data": {
      "text/plain": [
       "LowCov            0.627308\n",
       "Del;LowCov        0.165897\n",
       "Del               0.141024\n",
       "PASS              0.062736\n",
       "Amb               0.002067\n",
       "Amb;LowCov        0.000470\n",
       "Del;Amb           0.000394\n",
       "Del;Amb;LowCov    0.000104\n",
       "Name: Ill_Pilon_Tag, dtype: float64"
      ]
     },
     "execution_count": 52,
     "metadata": {},
     "output_type": "execute_result"
    }
   ],
   "source": [
    "ALL_lowEBRpos_36CI_DF[\"Ill_Pilon_Tag\"].value_counts(normalize=True)"
   ]
  },
  {
   "cell_type": "code",
   "execution_count": null,
   "metadata": {},
   "outputs": [],
   "source": []
  },
  {
   "cell_type": "code",
   "execution_count": 53,
   "metadata": {},
   "outputs": [
    {
     "data": {
      "text/plain": [
       "(1825385, 6)"
      ]
     },
     "execution_count": 53,
     "metadata": {},
     "output_type": "execute_result"
    }
   ],
   "source": [
    "ALL_lowEBRpos_36CI_DF.shape"
   ]
  },
  {
   "cell_type": "code",
   "execution_count": null,
   "metadata": {},
   "outputs": [],
   "source": []
  },
  {
   "cell_type": "code",
   "execution_count": 54,
   "metadata": {},
   "outputs": [],
   "source": [
    "## "
   ]
  },
  {
   "cell_type": "code",
   "execution_count": 55,
   "metadata": {},
   "outputs": [
    {
     "data": {
      "text/html": [
       "<div>\n",
       "<style scoped>\n",
       "    .dataframe tbody tr th:only-of-type {\n",
       "        vertical-align: middle;\n",
       "    }\n",
       "\n",
       "    .dataframe tbody tr th {\n",
       "        vertical-align: top;\n",
       "    }\n",
       "\n",
       "    .dataframe thead th {\n",
       "        text-align: right;\n",
       "    }\n",
       "</style>\n",
       "<table border=\"1\" class=\"dataframe\">\n",
       "  <thead>\n",
       "    <tr style=\"text-align: right;\">\n",
       "      <th></th>\n",
       "      <th>Agreement</th>\n",
       "      <th>Ill_Pilon_Tag</th>\n",
       "      <th>Ill_Pilon_TD</th>\n",
       "      <th>Ill_Pilon_DP</th>\n",
       "      <th>Ill_Pilon_MQ</th>\n",
       "      <th>SampleID</th>\n",
       "    </tr>\n",
       "  </thead>\n",
       "  <tbody>\n",
       "    <tr>\n",
       "      <th>71335</th>\n",
       "      <td>0.0</td>\n",
       "      <td>Del;LowCov</td>\n",
       "      <td>4.0</td>\n",
       "      <td>4.0</td>\n",
       "      <td>60.0</td>\n",
       "      <td>M0011368_9</td>\n",
       "    </tr>\n",
       "    <tr>\n",
       "      <th>71336</th>\n",
       "      <td>0.0</td>\n",
       "      <td>Del;LowCov</td>\n",
       "      <td>4.0</td>\n",
       "      <td>4.0</td>\n",
       "      <td>60.0</td>\n",
       "      <td>M0011368_9</td>\n",
       "    </tr>\n",
       "  </tbody>\n",
       "</table>\n",
       "</div>"
      ],
      "text/plain": [
       "       Agreement Ill_Pilon_Tag  Ill_Pilon_TD  Ill_Pilon_DP  Ill_Pilon_MQ    SampleID\n",
       "71335        0.0    Del;LowCov           4.0           4.0          60.0  M0011368_9\n",
       "71336        0.0    Del;LowCov           4.0           4.0          60.0  M0011368_9"
      ]
     },
     "execution_count": 55,
     "metadata": {},
     "output_type": "execute_result"
    }
   ],
   "source": [
    "ALL_lowEBRpos_36CI_DF.head(2)"
   ]
  },
  {
   "cell_type": "code",
   "execution_count": 56,
   "metadata": {},
   "outputs": [],
   "source": [
    "\n",
    "listOf_PilonTags_WithDel = [\"Del\", \"Del;LowCov\", \"Del;Amb\", \"Del;Amb;LowCov\"]\n",
    "listOf_PilonTags_WithLowCov = [\"LowCov\", \"Del;LowCov\", \"Amb;LowCov\", \"Del;Amb;LowCov\"]\n",
    "            \n",
    "#listOf_PilonTags_WithLowCov = [\"LowCov\", \"Del;LowCov\", \"Amb;LowCov\", \"Del;Amb;LowCov\"]\n",
    "\n",
    "#listOf_PilonTags_WithLowCov = [\"LowCov\",\"Amb;LowCov\", \"Del;Amb;LowCov\"]\n",
    "\n",
    "listOf_PilonTags_For_LowCov_Outcome = [\"LowCov\",\"Amb;LowCov\",]\n",
    "\n",
    "TF_Array_WithLowCov = ( (ALL_lowEBRpos_36CI_DF[\"Ill_Pilon_Tag\"].isin(listOf_PilonTags_For_LowCov_Outcome) ) )\n",
    "\n",
    "lowEBRpos_36CI_LowCov_DF = ALL_lowEBRpos_36CI_DF[TF_Array_WithLowCov]\n",
    "\n",
    "lowEBRpos_36CI_LowCov_MQZero_DF = lowEBRpos_36CI_LowCov_DF.query(\"(Ill_Pilon_TD >= 5) & (Ill_Pilon_DP < 5) & (Ill_Pilon_MQ == 0) \")\n",
    "lowEBRpos_36CI_LowCov_InvalidPairs_DF = lowEBRpos_36CI_LowCov_DF.query(\"(Ill_Pilon_TD >= 5) & (Ill_Pilon_DP < 5) & (Ill_Pilon_MQ > 0) \")      \n",
    "lowEBRpos_36CI_LowCov_Insufficient_TotalCov_DF = lowEBRpos_36CI_LowCov_DF.query(\"(Ill_Pilon_TD < 5)  \")\n",
    "\n",
    "\n"
   ]
  },
  {
   "cell_type": "code",
   "execution_count": null,
   "metadata": {},
   "outputs": [],
   "source": []
  },
  {
   "cell_type": "code",
   "execution_count": 64,
   "metadata": {},
   "outputs": [
    {
     "data": {
      "text/plain": [
       "(1145937, 6)"
      ]
     },
     "execution_count": 64,
     "metadata": {},
     "output_type": "execute_result"
    }
   ],
   "source": [
    "lowEBRpos_36CI_LowCov_DF.shape"
   ]
  },
  {
   "cell_type": "code",
   "execution_count": 65,
   "metadata": {},
   "outputs": [
    {
     "data": {
      "text/plain": [
       "(316304, 6)"
      ]
     },
     "execution_count": 65,
     "metadata": {},
     "output_type": "execute_result"
    }
   ],
   "source": [
    "lowEBRpos_36CI_LowCov_MQZero_DF.shape"
   ]
  },
  {
   "cell_type": "code",
   "execution_count": 66,
   "metadata": {},
   "outputs": [
    {
     "data": {
      "text/plain": [
       "0.2760221547955952"
      ]
     },
     "execution_count": 66,
     "metadata": {},
     "output_type": "execute_result"
    }
   ],
   "source": [
    "lowEBRpos_36CI_LowCov_MQZero_DF.shape[0] / lowEBRpos_36CI_LowCov_DF.shape[0]"
   ]
  },
  {
   "cell_type": "code",
   "execution_count": null,
   "metadata": {},
   "outputs": [],
   "source": []
  },
  {
   "cell_type": "code",
   "execution_count": 67,
   "metadata": {},
   "outputs": [
    {
     "data": {
      "text/plain": [
       "(304260, 6)"
      ]
     },
     "execution_count": 67,
     "metadata": {},
     "output_type": "execute_result"
    }
   ],
   "source": [
    "lowEBRpos_36CI_LowCov_InvalidPairs_DF.shape"
   ]
  },
  {
   "cell_type": "code",
   "execution_count": 68,
   "metadata": {},
   "outputs": [
    {
     "data": {
      "text/plain": [
       "0.26551197840718993"
      ]
     },
     "execution_count": 68,
     "metadata": {},
     "output_type": "execute_result"
    }
   ],
   "source": [
    "lowEBRpos_36CI_LowCov_InvalidPairs_DF.shape[0] / lowEBRpos_36CI_LowCov_DF.shape[0]"
   ]
  },
  {
   "cell_type": "code",
   "execution_count": null,
   "metadata": {},
   "outputs": [],
   "source": []
  },
  {
   "cell_type": "code",
   "execution_count": 69,
   "metadata": {},
   "outputs": [
    {
     "data": {
      "text/plain": [
       "(525373, 6)"
      ]
     },
     "execution_count": 69,
     "metadata": {},
     "output_type": "execute_result"
    }
   ],
   "source": [
    "lowEBRpos_36CI_LowCov_Insufficient_TotalCov_DF.shape"
   ]
  },
  {
   "cell_type": "code",
   "execution_count": 70,
   "metadata": {},
   "outputs": [
    {
     "data": {
      "text/plain": [
       "0.45846586679721485"
      ]
     },
     "execution_count": 70,
     "metadata": {},
     "output_type": "execute_result"
    }
   ],
   "source": [
    "lowEBRpos_36CI_LowCov_Insufficient_TotalCov_DF.shape[0] / lowEBRpos_36CI_LowCov_DF.shape[0]"
   ]
  },
  {
   "cell_type": "code",
   "execution_count": null,
   "metadata": {},
   "outputs": [],
   "source": []
  },
  {
   "cell_type": "code",
   "execution_count": null,
   "metadata": {},
   "outputs": [],
   "source": []
  },
  {
   "cell_type": "code",
   "execution_count": 57,
   "metadata": {},
   "outputs": [
    {
     "ename": "SyntaxError",
     "evalue": "invalid syntax (<ipython-input-57-480d53eab50e>, line 1)",
     "output_type": "error",
     "traceback": [
      "\u001b[0;36m  File \u001b[0;32m\"<ipython-input-57-480d53eab50e>\"\u001b[0;36m, line \u001b[0;32m1\u001b[0m\n\u001b[0;31m    STOP!!\u001b[0m\n\u001b[0m        ^\u001b[0m\n\u001b[0;31mSyntaxError\u001b[0m\u001b[0;31m:\u001b[0m invalid syntax\n"
     ]
    }
   ],
   "source": [
    "STOP!!"
   ]
  },
  {
   "cell_type": "code",
   "execution_count": null,
   "metadata": {},
   "outputs": [],
   "source": []
  },
  {
   "cell_type": "markdown",
   "metadata": {},
   "source": [
    "\n",
    "### Outcome 1) PB-MM2 and Pilon are both confident, and AGREE on nucleotide identity (EBR = 1)\n",
    "\n",
    "\n",
    "\n",
    "### Outcome 2) PB-MM2 and Pilon BOTH AGREE that position is deleted (EBR = 1)\n",
    "\n",
    "\n",
    "### Outcome 3) PB-MM2 supports deletion, but Pilon FAILS and does not support deletion (EBR = 0)\n",
    "\n",
    "3.22%\n",
    "\n",
    "\n",
    "### Outcome 4) PB-MM2 and Pilon don’t support position (With no Deletion) (EBR = NAN)\n",
    "\n",
    "### Outcome 5) PB-MM2 and Pilon are both confident, and DISAGREE (EBR = 0)\n",
    "\n",
    "### Outcome 6) PB-MM2 is confident, Pilon != PASS (EBR = 0)\n",
    "\n",
    "### Outcome 7) PB-MM2 DP = 0, PB supports deletion, but Pilon = PASS (EBR = 0)\n",
    "\n",
    "### Outcome 8) PB-MM2 DP = 0, PB does not support deletion but Pilon = PASS (EBR = NAN)\n",
    "\n",
    "### Outcome 9) PB-MM2 DP > 1 (DUPLCIATION), and Pilon = PASS (EBR = NAN) \n",
    "\n",
    "### Outcome 10) PB-MM2 DP > 1 (DUPLCIATION), and Pilon != PASS (EBR = NAN) \n"
   ]
  },
  {
   "cell_type": "code",
   "execution_count": null,
   "metadata": {},
   "outputs": [],
   "source": []
  },
  {
   "cell_type": "code",
   "execution_count": null,
   "metadata": {},
   "outputs": [],
   "source": [
    "print(\"total low EBR positions:\", All_LowEBR_Counter)"
   ]
  },
  {
   "cell_type": "code",
   "execution_count": null,
   "metadata": {},
   "outputs": [],
   "source": []
  },
  {
   "cell_type": "code",
   "execution_count": null,
   "metadata": {},
   "outputs": [],
   "source": []
  },
  {
   "cell_type": "code",
   "execution_count": null,
   "metadata": {},
   "outputs": [],
   "source": []
  },
  {
   "cell_type": "code",
   "execution_count": null,
   "metadata": {},
   "outputs": [],
   "source": [
    "Total_Pos_HighAndLow_EBR = All_HighEBR_Counter + All_LowEBR_Counter"
   ]
  },
  {
   "cell_type": "code",
   "execution_count": null,
   "metadata": {},
   "outputs": [],
   "source": [
    "\n",
    "\n",
    "total = 0\n",
    "\n",
    "for keyname in [ 'Outcome_3', 'Outcome_5', 'Outcome_6', 'Outcome_7', ]:        \n",
    "    \n",
    "    num_Outcome = EBR_Breakdown_Dict_SumAcrossAll28CI[keyname]\n",
    "    \n",
    "    propOf_LowEBR = num_Outcome / All_LowEBR_Counter\n",
    "    propOf_TotalEBR = num_Outcome / Total_Pos_HighAndLow_EBR\n",
    "    \n",
    "    \n",
    "    print(keyname, num_Outcome, \"    \", propOf_LowEBR, propOf_TotalEBR)\n",
    "    \n",
    "    print(propOf_LowEBR * 100 )\n",
    "    print()\n",
    "    total += propOf_LowEBR\n",
    "    \n",
    "print(total)"
   ]
  },
  {
   "cell_type": "code",
   "execution_count": null,
   "metadata": {},
   "outputs": [],
   "source": [
    "ALL_lowEBRpos_28CI_DF[\"Ill_Pilon_Tag\"].value_counts(normalize=True)"
   ]
  },
  {
   "cell_type": "code",
   "execution_count": null,
   "metadata": {},
   "outputs": [],
   "source": [
    "ALL_lowEBRpos_28CI_DF[\"Ill_Pilon_Tag\"].value_counts()"
   ]
  },
  {
   "cell_type": "code",
   "execution_count": null,
   "metadata": {},
   "outputs": [],
   "source": [
    "84045 - 83587"
   ]
  },
  {
   "cell_type": "code",
   "execution_count": null,
   "metadata": {},
   "outputs": [],
   "source": [
    "83587 / 84045"
   ]
  },
  {
   "cell_type": "code",
   "execution_count": null,
   "metadata": {},
   "outputs": [],
   "source": []
  },
  {
   "cell_type": "code",
   "execution_count": null,
   "metadata": {},
   "outputs": [],
   "source": []
  },
  {
   "cell_type": "code",
   "execution_count": null,
   "metadata": {},
   "outputs": [],
   "source": []
  },
  {
   "cell_type": "markdown",
   "metadata": {},
   "source": [
    "### Outcome 3) PB-MM2 supports deletion, but Pilon FAILS and does not support deletion (EBR = 0)\n",
    "\n",
    "4.37%\n",
    "\n",
    "### Outcome 5) PB-MM2 and Pilon are both confident, and DISAGREE (EBR = 0) \"Genotypes Disagree\" \n",
    "\n",
    "\"Illumina WGS erroneously supports the wrong nucleotide identity (SNP disagreement)\"\n",
    "\n",
    "0.029% (456 positions across 28 isolates, ~16.3 false positive genotypes per isolate for Illumina WGS)\n",
    "\n",
    "### Outcome 6) PB-MM2 is confident, Pilon != PASS (EBR = 0)\n",
    "\n",
    "\"Illumina WGS does not confidently support the presence of a genomic position which PacBio confidently supports the presence of.\n",
    "\n",
    "90.21%\n",
    "\n",
    "\n",
    "\n",
    "\n",
    "### Outcome 7) PB-MM2 PB supports deletion, but Pilon = PASS (EBR = 0)\n",
    "\n",
    "\"Illumina WGS erroneously supports presence of \"deleted\" genomic position.\n",
    "\n",
    "5.39%\n",
    "\n"
   ]
  },
  {
   "cell_type": "code",
   "execution_count": null,
   "metadata": {},
   "outputs": [],
   "source": []
  },
  {
   "cell_type": "code",
   "execution_count": null,
   "metadata": {},
   "outputs": [],
   "source": [
    "ALL_lowEBRpos_28CI_DF[\"Ill_Pilon_Tag\"].value_counts()"
   ]
  },
  {
   "cell_type": "code",
   "execution_count": null,
   "metadata": {},
   "outputs": [],
   "source": []
  },
  {
   "cell_type": "code",
   "execution_count": null,
   "metadata": {},
   "outputs": [],
   "source": [
    "83587"
   ]
  },
  {
   "cell_type": "code",
   "execution_count": null,
   "metadata": {},
   "outputs": [],
   "source": []
  },
  {
   "cell_type": "code",
   "execution_count": null,
   "metadata": {},
   "outputs": [],
   "source": []
  },
  {
   "cell_type": "code",
   "execution_count": null,
   "metadata": {},
   "outputs": [],
   "source": [
    "SumOfAll_LowCov_O6 = 242855 + 242800 + 454905"
   ]
  },
  {
   "cell_type": "code",
   "execution_count": null,
   "metadata": {},
   "outputs": [],
   "source": [
    "242855 / SumOfAll_LowCov_O6"
   ]
  },
  {
   "cell_type": "code",
   "execution_count": null,
   "metadata": {},
   "outputs": [],
   "source": [
    "242800 / SumOfAll_LowCov_O6"
   ]
  },
  {
   "cell_type": "code",
   "execution_count": null,
   "metadata": {},
   "outputs": [],
   "source": [
    "454905 / SumOfAll_LowCov_O6"
   ]
  },
  {
   "cell_type": "code",
   "execution_count": null,
   "metadata": {},
   "outputs": [],
   "source": []
  },
  {
   "cell_type": "code",
   "execution_count": null,
   "metadata": {},
   "outputs": [],
   "source": []
  },
  {
   "cell_type": "code",
   "execution_count": null,
   "metadata": {},
   "outputs": [],
   "source": []
  },
  {
   "cell_type": "code",
   "execution_count": null,
   "metadata": {},
   "outputs": [],
   "source": [
    "EBR_Breakdown_Dict_SumAcrossAll28CI.keys()"
   ]
  },
  {
   "cell_type": "code",
   "execution_count": null,
   "metadata": {},
   "outputs": [],
   "source": [
    "\n",
    "total = 0\n",
    "\n",
    "for keyname in [ 'Outcome_3', 'Outcome_5', 'Outcome_6', 'Outcome_7', 'Outcome_6_SO_LowCov_Insufficient_ValidCoverage_LowMQ', 'Outcome_6_SO_LowCov_Insufficient_ValidCoverage_FlaggedPairs', 'Outcome_6_SO_LowCov_Insufficient_TotalCoverage', 'Outcome_6_SO_Amb', 'Outcome_6_SO_Del', 'Outcome_6_SO_Amb;LowCov', 'Outcome_6_SO_Del;Amb', 'Outcome_6_SO_Del;LowCov', 'Outcome_6_SO_Del;Amb;LowCov',]:        \n",
    "    \n",
    "    num_Outcome = EBR_Breakdown_Dict_SumAcrossAll28CI[keyname]\n",
    "    \n",
    "    propOf_LowEBR = num_Outcome / All_LowEBR_Counter\n",
    "    propOf_TotalEBR = num_Outcome / Total_Pos_HighAndLow_EBR\n",
    "    \n",
    "    \n",
    "    print(keyname, num_Outcome, \"    \", propOf_LowEBR, propOf_TotalEBR)\n",
    "    \n",
    "    print(propOf_LowEBR * 100 )\n",
    "    print()\n",
    "    total += propOf_LowEBR\n",
    "    \n",
    "print(total)"
   ]
  },
  {
   "cell_type": "code",
   "execution_count": null,
   "metadata": {},
   "outputs": [],
   "source": []
  },
  {
   "cell_type": "code",
   "execution_count": null,
   "metadata": {},
   "outputs": [],
   "source": []
  },
  {
   "cell_type": "code",
   "execution_count": null,
   "metadata": {},
   "outputs": [],
   "source": []
  },
  {
   "cell_type": "markdown",
   "metadata": {},
   "source": [
    "Outcome_6_SO_LowCov_Insufficient_ValidCoverage_LowMQ          15.376957420547646  \n",
    "\n",
    "Outcome_6_SO_LowCov_Insufficient_ValidCoverage_FlaggedPairs   15.3716241955719\n",
    "\n",
    "Outcome_6_SO_LowCov_Insufficient_TotalCoverage                28.881127494552494\n",
    "\n",
    "Outcome_6_SO_Del                                              12.930784898338574\n",
    "\n",
    "Outcome_6_SO_Del;LowCov                                       17.56021464960712"
   ]
  },
  {
   "cell_type": "code",
   "execution_count": null,
   "metadata": {},
   "outputs": [],
   "source": []
  },
  {
   "cell_type": "code",
   "execution_count": null,
   "metadata": {},
   "outputs": [],
   "source": [
    "# Proportion of EBR =0 cases where position was inferred to be DELETED\n",
    "0.1756 + 0.1293"
   ]
  },
  {
   "cell_type": "code",
   "execution_count": null,
   "metadata": {},
   "outputs": [],
   "source": [
    "# Proportion of EBR = 0 cases where position was not confidently supported by Illumina-Pilon (LowCov, Amb)\n",
    "90.39 - 30.49"
   ]
  },
  {
   "cell_type": "code",
   "execution_count": null,
   "metadata": {},
   "outputs": [],
   "source": []
  },
  {
   "cell_type": "code",
   "execution_count": null,
   "metadata": {},
   "outputs": [],
   "source": []
  },
  {
   "cell_type": "code",
   "execution_count": null,
   "metadata": {},
   "outputs": [],
   "source": [
    "30.5 % of poorly recalled positions were due to incorrectly inferred deletions"
   ]
  },
  {
   "cell_type": "code",
   "execution_count": null,
   "metadata": {},
   "outputs": [],
   "source": []
  },
  {
   "cell_type": "code",
   "execution_count": null,
   "metadata": {},
   "outputs": [],
   "source": [
    "12.93 + 17.56 + 0.03 + 0.008"
   ]
  },
  {
   "cell_type": "code",
   "execution_count": null,
   "metadata": {},
   "outputs": [],
   "source": [
    "### Falsely inferring the deletion of "
   ]
  },
  {
   "cell_type": "code",
   "execution_count": null,
   "metadata": {},
   "outputs": [],
   "source": []
  },
  {
   "cell_type": "code",
   "execution_count": null,
   "metadata": {},
   "outputs": [],
   "source": [
    "15.37 + 15.37 + 28.88 + 12.93 + 17.56"
   ]
  },
  {
   "cell_type": "code",
   "execution_count": null,
   "metadata": {},
   "outputs": [],
   "source": []
  },
  {
   "cell_type": "code",
   "execution_count": null,
   "metadata": {},
   "outputs": [],
   "source": [
    "### Outcome 3) PB-MM2 supports deletion, but Pilon FAILS and does not support deletion (EBR = 0)\n",
    "\n",
    "4.27%\n",
    "\n",
    "### Outcome 5) PB-MM2 and Pilon are both confident, and DISAGREE (EBR = 0) \"Genotypes Disagree\" \n",
    "\n",
    "# \"Illumina WGS erroneously supports the wrong nucleotide identity (SNP disagreement)\"\n",
    "\n",
    "0.029% (456 positions across 28 isolates, ~16.3 false positive genotypes per isolate for Illumina WGS)\n",
    "\n",
    "\n",
    "\n",
    "\n",
    "### Outcome 6) PB-MM2 is confident, Pilon != PASS (EBR = 0)\n",
    "\n",
    "# \"Illumina WGS does not confidently support the presence of a genomic position which PacBio confidently supports the presence of.\n",
    "\n",
    "90.39%\n",
    "\n",
    "\n",
    "#### Breakdown of Outcome 6)\n",
    "\n",
    "### Outcome 6.1) PacBio supports position, Pilon calls LowCov OR Amb\n",
    "\n",
    "59.9%\n",
    "\n",
    "\n",
    "### Outcome 6.2) PacBio supports position, Pilon calls DEL\n",
    "\n",
    "30.5%\n",
    "\n",
    "\n",
    "\n",
    "#Outcome_6_SO_Del;LowCov\n",
    "\n",
    "\n",
    "### Outcome 7) PB-MM2  supports deletion, but Pilon = PASS (EBR = 0)\n",
    "\n",
    "# \"Illumina WGS erroneously supports presence of PacBio supported \"deleted\" genomic position.\n",
    "\n",
    "5.31%\n",
    "\n"
   ]
  },
  {
   "cell_type": "code",
   "execution_count": null,
   "metadata": {},
   "outputs": [],
   "source": [
    "We found that the most common reasons for a genomic position not being confidently recalled was due to:\n",
    "    a) low or no sequencing depth,\n",
    "    b) inability to uniquely align a read due to repetitive sequence content,\n",
    "    c) invalid alignment orientation of paired-end reads due to reference bias (changes in the genome sequenced relative to the reference).\n",
    "    \n",
    "    \n",
    "    "
   ]
  },
  {
   "cell_type": "code",
   "execution_count": null,
   "metadata": {},
   "outputs": [],
   "source": [
    "Illumina - Pilon erronously supports infering a deletion - 30.5%\n",
    "\n",
    "Insufficient sequencing depth to support a variant call - 59.9% \n",
    "\n",
    "\n",
    "# Merge outcomes #3 and #7 \n",
    "Illumina - Pilon erronously failed to detect the deletion of a genomic region - 9.6%\n",
    "5.3%\n",
    "4.3%\n",
    "\n",
    "# Outcome #5\n",
    "The remaining << 1% of poorly recalled positions were due to cases where the Illumina WGS inferred genotype disagreed with our ground truth\n"
   ]
  },
  {
   "cell_type": "code",
   "execution_count": null,
   "metadata": {},
   "outputs": [],
   "source": [
    "9.6 + 30.5 + 59.9"
   ]
  },
  {
   "cell_type": "code",
   "execution_count": null,
   "metadata": {},
   "outputs": [],
   "source": []
  },
  {
   "cell_type": "code",
   "execution_count": null,
   "metadata": {},
   "outputs": [],
   "source": []
  },
  {
   "cell_type": "code",
   "execution_count": null,
   "metadata": {},
   "outputs": [],
   "source": []
  },
  {
   "cell_type": "code",
   "execution_count": null,
   "metadata": {},
   "outputs": [],
   "source": [
    "\n",
    "total = 0\n",
    "\n",
    "for keyname in ['Outcome_1', 'Outcome_2', 'Outcome_3', 'Outcome_4', 'Outcome_5', 'Outcome_6', 'Outcome_7', 'Outcome_8', 'Outcome_9', 'Outcome_10', 'Outcome_11_Unknown', ]:        \n",
    "    \n",
    "    num_Outcome = EBR_Breakdown_Dict_SumAcrossAll28CI[keyname]\n",
    "    \n",
    "    propOf_LowEBR = num_Outcome / All_LowEBR_Counter\n",
    "    propOf_TotalEBR = num_Outcome / Total_Pos_HighAndLow_EBR\n",
    "    \n",
    "    \n",
    "    print(keyname, num_Outcome, \"    \", propOf_LowEBR, propOf_TotalEBR)\n",
    "    \n",
    "    total += propOf_LowEBR\n",
    "    \n",
    "#print(total)"
   ]
  },
  {
   "cell_type": "code",
   "execution_count": null,
   "metadata": {},
   "outputs": [],
   "source": []
  },
  {
   "cell_type": "code",
   "execution_count": null,
   "metadata": {},
   "outputs": [],
   "source": []
  },
  {
   "cell_type": "code",
   "execution_count": null,
   "metadata": {},
   "outputs": [],
   "source": [
    "EBR_Breakdown_Dict_SumAcrossAll28CI[\"Outcome_4\"] "
   ]
  },
  {
   "cell_type": "code",
   "execution_count": null,
   "metadata": {},
   "outputs": [],
   "source": [
    "EBR_Breakdown_Dict_SumAcrossAll28CI[\"Outcome_4\"] / 494707"
   ]
  },
  {
   "cell_type": "code",
   "execution_count": null,
   "metadata": {},
   "outputs": [],
   "source": [
    "EBR_Breakdown_Dict_SumAcrossAll28CI[\"Outcome_8\"]"
   ]
  },
  {
   "cell_type": "code",
   "execution_count": null,
   "metadata": {},
   "outputs": [],
   "source": [
    "EBR_Breakdown_Dict_SumAcrossAll28CI[\"Outcome_8\"] / 494707"
   ]
  },
  {
   "cell_type": "code",
   "execution_count": null,
   "metadata": {},
   "outputs": [],
   "source": [
    "EBR_Breakdown_Dict_SumAcrossAll28CI[\"Outcome_9\"]"
   ]
  },
  {
   "cell_type": "code",
   "execution_count": null,
   "metadata": {},
   "outputs": [],
   "source": [
    "EBR_Breakdown_Dict_SumAcrossAll28CI[\"Outcome_9\"] / 494707"
   ]
  },
  {
   "cell_type": "code",
   "execution_count": null,
   "metadata": {},
   "outputs": [],
   "source": [
    "EBR_Breakdown_Dict_SumAcrossAll28CI[\"Outcome_10\"]"
   ]
  },
  {
   "cell_type": "code",
   "execution_count": null,
   "metadata": {},
   "outputs": [],
   "source": [
    "EBR_Breakdown_Dict_SumAcrossAll28CI[\"Outcome_10\"] / 494707"
   ]
  },
  {
   "cell_type": "code",
   "execution_count": null,
   "metadata": {},
   "outputs": [],
   "source": []
  },
  {
   "cell_type": "code",
   "execution_count": null,
   "metadata": {},
   "outputs": [],
   "source": []
  },
  {
   "cell_type": "code",
   "execution_count": null,
   "metadata": {},
   "outputs": [],
   "source": []
  },
  {
   "cell_type": "markdown",
   "metadata": {},
   "source": [
    "### Breakdown of NAN counts:\n",
    "\n",
    "Outcome_4:    (PacBio does not support deletion and )\n",
    "\n",
    "Outcome_8:\n",
    "Outcome_9:\n",
    "Outcome_10:"
   ]
  },
  {
   "cell_type": "code",
   "execution_count": null,
   "metadata": {},
   "outputs": [],
   "source": []
  },
  {
   "cell_type": "code",
   "execution_count": null,
   "metadata": {},
   "outputs": [],
   "source": []
  },
  {
   "cell_type": "code",
   "execution_count": null,
   "metadata": {},
   "outputs": [],
   "source": []
  },
  {
   "cell_type": "code",
   "execution_count": null,
   "metadata": {},
   "outputs": [],
   "source": []
  },
  {
   "cell_type": "code",
   "execution_count": null,
   "metadata": {},
   "outputs": [],
   "source": [
    "EBR_Breakdown_Dict_SumAcrossAll28CI.keys()"
   ]
  },
  {
   "cell_type": "code",
   "execution_count": null,
   "metadata": {},
   "outputs": [],
   "source": []
  },
  {
   "cell_type": "code",
   "execution_count": null,
   "metadata": {},
   "outputs": [],
   "source": [
    "\n",
    "total = 0\n",
    "\n",
    "for keyname in [ 'Outcome_3', 'Outcome_4', 'Outcome_5', 'Outcome_6', 'Outcome_7', 'Outcome_8', 'Outcome_9', 'Outcome_10', 'Outcome_11_Unknown', ]:        \n",
    "    \n",
    "    num_Outcome = EBR_Breakdown_Dict_SumAcrossAll28CI[keyname]\n",
    "    \n",
    "    propOf_LowEBR = num_Outcome / All_LowEBR_Counter\n",
    "    propOf_TotalEBR = num_Outcome / Total_Pos_HighAndLow_EBR\n",
    "    \n",
    "    \n",
    "    print(keyname, num_Outcome, \"    \", propOf_LowEBR)\n",
    "    \n",
    "    total += propOf_LowEBR\n",
    "    \n",
    "    \n",
    "print(total)"
   ]
  },
  {
   "cell_type": "code",
   "execution_count": null,
   "metadata": {},
   "outputs": [],
   "source": []
  },
  {
   "cell_type": "code",
   "execution_count": null,
   "metadata": {},
   "outputs": [],
   "source": [
    "1137411 / 1264540"
   ]
  },
  {
   "cell_type": "code",
   "execution_count": null,
   "metadata": {},
   "outputs": [],
   "source": [
    "\n",
    "total = 0\n",
    "\n",
    "for keyname in ['Outcome_2', 'Outcome_3', 'Outcome_4', 'Outcome_5', 'Outcome_6', 'Outcome_7',]:\n",
    "    \n",
    "    num_Outcome = EBR_Breakdown_Dict_SumAcrossAll28CI[keyname]\n",
    "    \n",
    "    propOf_LowEBR = num_Outcome / All_LowEBR_Counter\n",
    "    propOf_TotalEBR = num_Outcome / Total_Pos_HighAndLow_EBR\n",
    "    \n",
    "    \n",
    "    print(keyname, num_Outcome, \"    \", propOf_LowEBR, propOf_TotalEBR)\n",
    "    \n",
    "    total += propOf_LowEBR\n",
    "    \n",
    "    \n",
    "print(total)"
   ]
  },
  {
   "cell_type": "code",
   "execution_count": null,
   "metadata": {},
   "outputs": [],
   "source": []
  },
  {
   "cell_type": "code",
   "execution_count": null,
   "metadata": {},
   "outputs": [],
   "source": [
    "EBR_Breakdown_Dict_SumAcrossAll28CI"
   ]
  },
  {
   "cell_type": "code",
   "execution_count": null,
   "metadata": {},
   "outputs": [],
   "source": []
  },
  {
   "cell_type": "code",
   "execution_count": null,
   "metadata": {},
   "outputs": [],
   "source": []
  },
  {
   "cell_type": "code",
   "execution_count": null,
   "metadata": {},
   "outputs": [],
   "source": []
  },
  {
   "cell_type": "code",
   "execution_count": null,
   "metadata": {},
   "outputs": [],
   "source": []
  },
  {
   "cell_type": "code",
   "execution_count": null,
   "metadata": {},
   "outputs": [],
   "source": []
  },
  {
   "cell_type": "code",
   "execution_count": null,
   "metadata": {},
   "outputs": [],
   "source": []
  },
  {
   "cell_type": "code",
   "execution_count": null,
   "metadata": {},
   "outputs": [],
   "source": []
  },
  {
   "cell_type": "code",
   "execution_count": null,
   "metadata": {},
   "outputs": [],
   "source": [
    "STOPPP!!!"
   ]
  },
  {
   "cell_type": "code",
   "execution_count": null,
   "metadata": {},
   "outputs": [],
   "source": []
  },
  {
   "cell_type": "code",
   "execution_count": null,
   "metadata": {},
   "outputs": [],
   "source": []
  },
  {
   "cell_type": "code",
   "execution_count": null,
   "metadata": {},
   "outputs": [],
   "source": []
  },
  {
   "cell_type": "code",
   "execution_count": null,
   "metadata": {},
   "outputs": [],
   "source": []
  },
  {
   "cell_type": "code",
   "execution_count": null,
   "metadata": {},
   "outputs": [],
   "source": []
  },
  {
   "cell_type": "code",
   "execution_count": null,
   "metadata": {},
   "outputs": [],
   "source": []
  },
  {
   "cell_type": "code",
   "execution_count": null,
   "metadata": {},
   "outputs": [],
   "source": []
  },
  {
   "cell_type": "code",
   "execution_count": null,
   "metadata": {},
   "outputs": [],
   "source": []
  },
  {
   "cell_type": "code",
   "execution_count": null,
   "metadata": {},
   "outputs": [],
   "source": []
  },
  {
   "cell_type": "code",
   "execution_count": null,
   "metadata": {},
   "outputs": [],
   "source": []
  },
  {
   "cell_type": "code",
   "execution_count": null,
   "metadata": {},
   "outputs": [],
   "source": [
    "\n",
    "EBR_Breakdown_Dict_SumAcrossAll28CI = {}\n",
    "\n",
    "for keyname in dictOf_EBR_Breakdown_Dicts_28CI['N0153'].keys():\n",
    "    \n",
    "    EBR_Breakdown_Dict_SumAcrossAll28CI[keyname] = 0\n",
    "\n",
    "All_HighEBR_Counter = 0\n",
    "\n",
    "All_HighEBR_Outcome1_Counter = 0 \n",
    "#All_HighEBR_Outcome2_Counter = 0\n",
    "\n",
    "\n",
    "All_LowEBR_Counter = 0\n",
    "\n",
    "All_LowEBR_Outcome2_Counter = 0\n",
    "\n",
    "All_LowEBR_Outcome4_Counter = 0\n",
    "All_LowEBR_Outcome4_LowCov_Invalid_Counter = 0\n",
    "All_LowEBR_Outcome4_LowCov_Total_Counter = 0\n",
    "\n",
    "All_LowEBR_Outcome4_LowCov_Invalid_LowMQ_Counter = 0\n",
    "All_LowEBR_Outcome4_LowCov_Invalid_FlaggedPairs_Counter = 0\n",
    "\n",
    "\n",
    "All_LowEBR_Outcome5_FalsePASS_Counter = 0 \n",
    "\n",
    "All_HighEBR_Outcome6_DP2_NtAgree_Counter = 0 \n",
    "All_LowEBR_Outcome6_DP2_NtDisagree_Counter = 0 \n",
    "\n",
    "\n",
    "All_LowEBR_Outcome7_Counter = 0 \n",
    "\n",
    "All_LowEBR_Outcome3_Counter = 0 \n",
    "\n",
    "\n",
    "for SampleID in tqdm(SampleIDs_28CI_WiCircA): \n",
    "    \n",
    "    \n",
    "    i_count_EBR_Outcomes_Dict = dictOf_EBR_Breakdown_Dicts_28CI[SampleID]\n",
    "    \n",
    "    TotalPos_HighEBR = i_count_EBR_Outcomes_Dict[\"Outcome_1\"]  \n",
    "    TotalPos_LowEBR = i_count_EBR_Outcomes_Dict[\"Outcome_2\"] + i_count_EBR_Outcomes_Dict[\"Outcome_3\"] + i_count_EBR_Outcomes_Dict[\"Outcome_4\"] + i_count_EBR_Outcomes_Dict[\"Outcome_5\"] + i_count_EBR_Outcomes_Dict[\"Outcome_6_DP2_NtAgree\"] + i_count_EBR_Outcomes_Dict[\"Outcome_6_DP2_NtDisagree\"] + i_count_EBR_Outcomes_Dict[\"Outcome_7\"]       \n",
    "    \n",
    "    \n",
    "    \n",
    "    All_LowEBR_Counter += TotalPos_LowEBR\n",
    "    All_HighEBR_Counter += TotalPos_HighEBR\n",
    "    \n",
    "    TotalPos = TotalPos_HighEBR + TotalPos_LowEBR\n",
    "\n",
    "    All_HighEBR_Outcome1_Counter += i_count_EBR_Outcomes_Dict[\"Outcome_1\"]\n",
    "    All_LowEBR_Outcome2_Counter += i_count_EBR_Outcomes_Dict[\"Outcome_2\"]\n",
    "\n",
    "\n",
    "\n",
    "    PropOfLowEBR_By_General_LowCov = i_count_EBR_Outcomes_Dict[\"Outcome_4\"] / TotalPos_LowEBR\n",
    "    All_LowEBR_Outcome4_Counter += i_count_EBR_Outcomes_Dict[\"Outcome_4\"]\n",
    "    All_LowEBR_Outcome5_FalsePASS_Counter += i_count_EBR_Outcomes_Dict[\"Outcome_5\"]\n",
    "\n",
    "    All_LowEBR_Outcome4_LowCov_Invalid_LowMQ_Counter += i_count_EBR_Outcomes_Dict[\"Outcome_4_SO_LowCov_Insufficient_ValidCoverage_LowMQ\"]\n",
    "    All_LowEBR_Outcome4_LowCov_Invalid_FlaggedPairs_Counter += i_count_EBR_Outcomes_Dict[\"Outcome_4_SO_LowCov_Insufficient_ValidCoverage_FlaggedPairs\"]\n",
    "\n",
    "    All_LowEBR_Outcome4_LowCov_Total_Counter += i_count_EBR_Outcomes_Dict[\"Outcome_4_SO_LowCov_Insufficient_TotalCoverage\"]\n",
    "    \n",
    "    \n",
    "    #All_LowEBR_Outcome6_Counter += i_count_EBR_Outcomes_Dict[\"Outcome_6\"]\n",
    "    All_HighEBR_Outcome6_DP2_NtAgree_Counter += i_count_EBR_Outcomes_Dict[\"Outcome_6_DP2_NtAgree\"]    \n",
    "    All_LowEBR_Outcome6_DP2_NtDisagree_Counter += i_count_EBR_Outcomes_Dict[\"Outcome_6_DP2_NtDisagree\"]    \n",
    "    \n",
    "    \n",
    "    All_LowEBR_Outcome7_Counter += i_count_EBR_Outcomes_Dict[\"Outcome_7\"]\n",
    "\n",
    "    \n",
    "    All_LowEBR_Outcome3_Counter += i_count_EBR_Outcomes_Dict[\"Outcome_3\"]\n",
    "\n",
    "    \n",
    "    PropOfLowEBR_By_Insufficient_Cov = i_count_EBR_Outcomes_Dict[\"Outcome_4_SO_LowCov_Insufficient_TotalCoverage\"] / TotalPos_LowEBR    \n",
    "    \n",
    "    PropOfLowEBR_By_Insufficient_Valid_Cov_LowMQ = i_count_EBR_Outcomes_Dict[\"Outcome_4_SO_LowCov_Insufficient_ValidCoverage_LowMQ\"] / TotalPos_LowEBR    \n",
    "    PropOfLowEBR_By_Insufficient_Valid_Cov_FlaggedPairs = i_count_EBR_Outcomes_Dict[\"Outcome_4_SO_LowCov_Insufficient_ValidCoverage_FlaggedPairs\"] / TotalPos_LowEBR    \n",
    "    \n",
    "    \n",
    "    for keyname in EBR_Breakdown_Dict_SumAcrossAll28CI.keys():\n",
    "    \n",
    "        EBR_Breakdown_Dict_SumAcrossAll28CI[keyname] += i_count_EBR_Outcomes_Dict[keyname]\n",
    "    \n",
    "\n",
    "\n",
    "    print(SampleID,)\n",
    "    print(\"Number of Cat-3 outcomes (Nucleotide disagreement) :\", i_count_EBR_Outcomes_Dict[\"Outcome_3\"])\n",
    "    print(\"PropOfLowEBR_By_General_LowCov :\", PropOfLowEBR_By_General_LowCov)\n",
    "\n",
    "    print(\"PropOfLowEBR_By_Insufficient_Cov :\", PropOfLowEBR_By_Insufficient_Cov)\n",
    "\n",
    "    print(\"PropOfLowEBR_By_Insufficient_Valid_Cov B/c MQ = 0 :\", PropOfLowEBR_By_Insufficient_Valid_Cov_LowMQ)\n",
    "    print(\"PropOfLowEBR_By_Insufficient_Valid_Cov B/c Flagged Pairs :\", PropOfLowEBR_By_Insufficient_Valid_Cov_FlaggedPairs)                \n",
    "\n",
    "    print()\n"
   ]
  },
  {
   "cell_type": "code",
   "execution_count": null,
   "metadata": {},
   "outputs": [],
   "source": []
  },
  {
   "cell_type": "code",
   "execution_count": null,
   "metadata": {},
   "outputs": [],
   "source": []
  },
  {
   "cell_type": "code",
   "execution_count": null,
   "metadata": {},
   "outputs": [],
   "source": [
    "All_HighEBR_Counter"
   ]
  },
  {
   "cell_type": "code",
   "execution_count": null,
   "metadata": {},
   "outputs": [],
   "source": [
    "All_LowEBR_Counter"
   ]
  },
  {
   "cell_type": "code",
   "execution_count": null,
   "metadata": {},
   "outputs": [],
   "source": [
    "Total_Pos_HighAndLow_EBR = All_LowEBR_Counter + All_HighEBR_Counter"
   ]
  },
  {
   "cell_type": "code",
   "execution_count": null,
   "metadata": {
    "jupyter": {
     "source_hidden": true
    }
   },
   "outputs": [],
   "source": [
    "All_LowEBR_Counter / (All_LowEBR_Counter + All_HighEBR_Counter)"
   ]
  },
  {
   "cell_type": "code",
   "execution_count": null,
   "metadata": {},
   "outputs": [],
   "source": []
  },
  {
   "cell_type": "code",
   "execution_count": null,
   "metadata": {},
   "outputs": [],
   "source": []
  },
  {
   "cell_type": "code",
   "execution_count": null,
   "metadata": {},
   "outputs": [],
   "source": []
  },
  {
   "cell_type": "code",
   "execution_count": null,
   "metadata": {},
   "outputs": [],
   "source": []
  },
  {
   "cell_type": "code",
   "execution_count": null,
   "metadata": {},
   "outputs": [],
   "source": []
  },
  {
   "cell_type": "code",
   "execution_count": null,
   "metadata": {},
   "outputs": [],
   "source": []
  },
  {
   "cell_type": "code",
   "execution_count": null,
   "metadata": {},
   "outputs": [],
   "source": []
  },
  {
   "cell_type": "code",
   "execution_count": null,
   "metadata": {},
   "outputs": [],
   "source": []
  },
  {
   "cell_type": "code",
   "execution_count": null,
   "metadata": {},
   "outputs": [],
   "source": [
    "All_HighEBR_Counter"
   ]
  },
  {
   "cell_type": "code",
   "execution_count": null,
   "metadata": {},
   "outputs": [],
   "source": [
    "All_LowEBR_Counter"
   ]
  },
  {
   "cell_type": "code",
   "execution_count": null,
   "metadata": {},
   "outputs": [],
   "source": [
    "All_LowEBR_Outcome4_Counter / All_LowEBR_Counter"
   ]
  },
  {
   "cell_type": "code",
   "execution_count": null,
   "metadata": {},
   "outputs": [],
   "source": []
  },
  {
   "cell_type": "code",
   "execution_count": null,
   "metadata": {},
   "outputs": [],
   "source": [
    "All_LowEBR_Outcome4_Counter / All_LowEBR_Counter"
   ]
  },
  {
   "cell_type": "code",
   "execution_count": null,
   "metadata": {},
   "outputs": [],
   "source": []
  },
  {
   "cell_type": "code",
   "execution_count": null,
   "metadata": {},
   "outputs": [],
   "source": [
    "All_HighEBR_Outcome6_DP2_NtAgree_Counter"
   ]
  },
  {
   "cell_type": "code",
   "execution_count": null,
   "metadata": {},
   "outputs": [],
   "source": [
    "All_LowEBR_Outcome6_DP2_NtDisagree_Counter"
   ]
  },
  {
   "cell_type": "code",
   "execution_count": null,
   "metadata": {},
   "outputs": [],
   "source": []
  },
  {
   "cell_type": "code",
   "execution_count": null,
   "metadata": {},
   "outputs": [],
   "source": [
    "All_LowEBR_Outcome5_FalsePASS_Counter "
   ]
  },
  {
   "cell_type": "code",
   "execution_count": null,
   "metadata": {},
   "outputs": [],
   "source": [
    "All_LowEBR_Outcome5_FalsePASS_Counter / All_LowEBR_Counter"
   ]
  },
  {
   "cell_type": "code",
   "execution_count": null,
   "metadata": {},
   "outputs": [],
   "source": []
  },
  {
   "cell_type": "code",
   "execution_count": null,
   "metadata": {},
   "outputs": [],
   "source": [
    "All_LowEBR_Outcome7_Counter / All_LowEBR_Counter"
   ]
  },
  {
   "cell_type": "code",
   "execution_count": null,
   "metadata": {},
   "outputs": [],
   "source": []
  },
  {
   "cell_type": "code",
   "execution_count": null,
   "metadata": {},
   "outputs": [],
   "source": [
    "All_LowEBR_Outcome4_LowCov_Invalid_LowMQ_Counter / All_LowEBR_Counter"
   ]
  },
  {
   "cell_type": "code",
   "execution_count": null,
   "metadata": {},
   "outputs": [],
   "source": [
    "All_LowEBR_Outcome4_LowCov_Invalid_FlaggedPairs_Counter / All_LowEBR_Counter"
   ]
  },
  {
   "cell_type": "code",
   "execution_count": null,
   "metadata": {},
   "outputs": [],
   "source": [
    "All_LowEBR_Outcome4_LowCov_Invalid_LowMQ_Counter + All_LowEBR_Outcome4_LowCov_Invalid_FlaggedPairs_Counter "
   ]
  },
  {
   "cell_type": "code",
   "execution_count": null,
   "metadata": {},
   "outputs": [],
   "source": [
    "689215 / All_LowEBR_Counter"
   ]
  },
  {
   "cell_type": "code",
   "execution_count": null,
   "metadata": {},
   "outputs": [],
   "source": []
  },
  {
   "cell_type": "code",
   "execution_count": null,
   "metadata": {},
   "outputs": [],
   "source": []
  },
  {
   "cell_type": "code",
   "execution_count": null,
   "metadata": {},
   "outputs": [],
   "source": []
  },
  {
   "cell_type": "code",
   "execution_count": null,
   "metadata": {},
   "outputs": [],
   "source": []
  },
  {
   "cell_type": "markdown",
   "metadata": {},
   "source": [
    "### 27% of all zero EBR positions were due to insufficient \"Valid covereage\" by MQ = 0 (No unique reads)"
   ]
  },
  {
   "cell_type": "code",
   "execution_count": null,
   "metadata": {},
   "outputs": [],
   "source": [
    "All_LowEBR_Outcome4_LowCov_Invalid_LowMQ_Counter / All_LowEBR_Counter"
   ]
  },
  {
   "cell_type": "markdown",
   "metadata": {},
   "source": [
    "### 20% of all zero EBR positions were due to insufficient \"Valid covereage\" by Pilon Hueristics"
   ]
  },
  {
   "cell_type": "code",
   "execution_count": null,
   "metadata": {},
   "outputs": [],
   "source": [
    "All_LowEBR_Outcome4_LowCov_Invalid_FlaggedPairs_Counter / All_LowEBR_Counter"
   ]
  },
  {
   "cell_type": "markdown",
   "metadata": {},
   "source": [
    "### 36% of all zero EBR positions were due to insufficient \"Total Coverage\""
   ]
  },
  {
   "cell_type": "code",
   "execution_count": null,
   "metadata": {},
   "outputs": [],
   "source": [
    "All_LowEBR_Outcome4_LowCov_Total_Counter / All_LowEBR_Counter"
   ]
  },
  {
   "cell_type": "code",
   "execution_count": null,
   "metadata": {},
   "outputs": [],
   "source": []
  },
  {
   "cell_type": "code",
   "execution_count": null,
   "metadata": {},
   "outputs": [],
   "source": [
    "All_LowEBR_Outcome2_Counter / All_LowEBR_Counter"
   ]
  },
  {
   "cell_type": "code",
   "execution_count": null,
   "metadata": {},
   "outputs": [],
   "source": []
  },
  {
   "cell_type": "code",
   "execution_count": null,
   "metadata": {},
   "outputs": [],
   "source": [
    "All_LowEBR_Outcome4_LowCov_Counter / All_LowEBR_Counter"
   ]
  },
  {
   "cell_type": "code",
   "execution_count": null,
   "metadata": {},
   "outputs": [],
   "source": []
  },
  {
   "cell_type": "code",
   "execution_count": null,
   "metadata": {},
   "outputs": [],
   "source": []
  },
  {
   "cell_type": "code",
   "execution_count": null,
   "metadata": {},
   "outputs": [],
   "source": []
  },
  {
   "cell_type": "code",
   "execution_count": null,
   "metadata": {},
   "outputs": [],
   "source": [
    "27 + 20 + 36"
   ]
  },
  {
   "cell_type": "code",
   "execution_count": null,
   "metadata": {},
   "outputs": [],
   "source": [
    "NumAll_LowCov_LowEBR_Pos = (All_LowEBR_Outcome4_LowCov_Total_Counter + All_LowEBR_Outcome4_LowCov_Invalid_LowMQ_Counter + All_LowEBR_Outcome4_LowCov_Invalid_FlaggedPairs_Counter)\n",
    "\n",
    "NumAll_LowCov_LowEBR_Pos / All_LowEBR_Counter"
   ]
  },
  {
   "cell_type": "code",
   "execution_count": null,
   "metadata": {},
   "outputs": [],
   "source": [
    "All_LowEBR_Outcome4_LowCov_Counter / All_LowEBR_Counter"
   ]
  },
  {
   "cell_type": "markdown",
   "metadata": {},
   "source": [
    "### 14% of all zero EBR positions were due to false confidence by Pilon (PASS when PacBio does not support)"
   ]
  },
  {
   "cell_type": "code",
   "execution_count": null,
   "metadata": {},
   "outputs": [],
   "source": [
    "All_LowEBR_Outcome5_FalsePASS_Counter / All_LowEBR_Counter"
   ]
  },
  {
   "cell_type": "markdown",
   "metadata": {},
   "source": [
    "### 0.03% of all zero EBR positions were due to GENOTYPE DISAGREEMENTS in DUPLICATed regions in the PacBio assembly and Pilon being PASS"
   ]
  },
  {
   "cell_type": "code",
   "execution_count": null,
   "metadata": {},
   "outputs": [],
   "source": [
    "All_HighEBR_Outcome6_DP2_NtAgree_Counter"
   ]
  },
  {
   "cell_type": "code",
   "execution_count": null,
   "metadata": {},
   "outputs": [],
   "source": [
    "All_LowEBR_Outcome6_DP2_NtDisagree_Counter"
   ]
  },
  {
   "cell_type": "code",
   "execution_count": null,
   "metadata": {},
   "outputs": [],
   "source": [
    "All_LowEBR_Outcome6_DP2_NtDisagree_Counter / All_LowEBR_Counter"
   ]
  },
  {
   "cell_type": "code",
   "execution_count": null,
   "metadata": {},
   "outputs": [],
   "source": []
  },
  {
   "cell_type": "code",
   "execution_count": null,
   "metadata": {},
   "outputs": [],
   "source": [
    "All_LowEBR_Outcome6_DP2_NtDisagree_Counter / All_LowEBR_Counter"
   ]
  },
  {
   "cell_type": "code",
   "execution_count": null,
   "metadata": {},
   "outputs": [],
   "source": [
    "All_HighEBR_Counter"
   ]
  },
  {
   "cell_type": "code",
   "execution_count": null,
   "metadata": {},
   "outputs": [],
   "source": [
    "All_LowEBR_Counter"
   ]
  },
  {
   "cell_type": "code",
   "execution_count": null,
   "metadata": {},
   "outputs": [],
   "source": [
    "All_HighEBR_Outcome6_DP2_NtAgree_Counter / All_HighEBR_Counter"
   ]
  },
  {
   "cell_type": "code",
   "execution_count": null,
   "metadata": {},
   "outputs": [],
   "source": [
    "All_HighEBR_Outcome6_DP2_NtAgree_Counter / (All_HighEBR_Counter + All_LowEBR_Counter)"
   ]
  },
  {
   "cell_type": "code",
   "execution_count": null,
   "metadata": {},
   "outputs": [],
   "source": [
    "(All_HighEBR_Outcome6_DP2_NtAgree_Counter +  All_LowEBR_Outcome6_DP2_NtDisagree_Counter) / (All_HighEBR_Counter + All_LowEBR_Counter)"
   ]
  },
  {
   "cell_type": "code",
   "execution_count": null,
   "metadata": {},
   "outputs": [],
   "source": []
  },
  {
   "cell_type": "code",
   "execution_count": null,
   "metadata": {},
   "outputs": [],
   "source": []
  },
  {
   "cell_type": "markdown",
   "metadata": {},
   "source": [
    "### 1% of all zero EBR positions were due to DUPLICATIONS in the PacBio assembly and Pilon being NOT PASS"
   ]
  },
  {
   "cell_type": "code",
   "execution_count": null,
   "metadata": {},
   "outputs": [],
   "source": [
    "All_LowEBR_Outcome7_Counter / All_LowEBR_Counter"
   ]
  },
  {
   "cell_type": "code",
   "execution_count": null,
   "metadata": {},
   "outputs": [],
   "source": []
  },
  {
   "cell_type": "markdown",
   "metadata": {},
   "source": [
    "### **<<< 1%** of all zero EBR positions were due to nucleotide disagreements between"
   ]
  },
  {
   "cell_type": "code",
   "execution_count": null,
   "metadata": {},
   "outputs": [],
   "source": [
    "All_LowEBR_Outcome3_Counter"
   ]
  },
  {
   "cell_type": "code",
   "execution_count": null,
   "metadata": {},
   "outputs": [],
   "source": [
    "All_LowEBR_Outcome3_Counter / All_LowEBR_Counter"
   ]
  },
  {
   "cell_type": "code",
   "execution_count": null,
   "metadata": {},
   "outputs": [],
   "source": [
    "All_LowEBR_Outcome3_Counter / All_LowEBR_Counter"
   ]
  },
  {
   "cell_type": "code",
   "execution_count": null,
   "metadata": {},
   "outputs": [],
   "source": [
    "All_LowEBR_Counter"
   ]
  },
  {
   "cell_type": "code",
   "execution_count": null,
   "metadata": {},
   "outputs": [],
   "source": []
  },
  {
   "cell_type": "code",
   "execution_count": null,
   "metadata": {},
   "outputs": [],
   "source": []
  },
  {
   "cell_type": "code",
   "execution_count": null,
   "metadata": {},
   "outputs": [],
   "source": [
    "44 + 34 + 13 + 8 + 1 "
   ]
  },
  {
   "cell_type": "code",
   "execution_count": null,
   "metadata": {},
   "outputs": [],
   "source": []
  },
  {
   "cell_type": "code",
   "execution_count": null,
   "metadata": {},
   "outputs": [],
   "source": []
  },
  {
   "cell_type": "code",
   "execution_count": null,
   "metadata": {},
   "outputs": [],
   "source": [
    "All_HighEBR_Counter"
   ]
  },
  {
   "cell_type": "code",
   "execution_count": null,
   "metadata": {},
   "outputs": [],
   "source": [
    "All_HighEBR_Outcome1_Counter \n",
    "All_HighEBR_Outcome2_Counter\n",
    "    "
   ]
  },
  {
   "cell_type": "code",
   "execution_count": null,
   "metadata": {},
   "outputs": [],
   "source": [
    "All_HighEBR_Outcome1_Counter / All_HighEBR_Counter"
   ]
  },
  {
   "cell_type": "code",
   "execution_count": null,
   "metadata": {},
   "outputs": [],
   "source": [
    "All_HighEBR_Outcome2_Counter / All_HighEBR_Counter"
   ]
  },
  {
   "cell_type": "code",
   "execution_count": null,
   "metadata": {},
   "outputs": [],
   "source": [
    "All_HighEBR_Outcome6_DP2_NtAgree_Counter / All_HighEBR_Counter"
   ]
  },
  {
   "cell_type": "code",
   "execution_count": null,
   "metadata": {},
   "outputs": [],
   "source": []
  }
 ],
 "metadata": {
  "kernelspec": {
   "display_name": "py37_S",
   "language": "python",
   "name": "py37_s"
  },
  "language_info": {
   "codemirror_mode": {
    "name": "ipython",
    "version": 3
   },
   "file_extension": ".py",
   "mimetype": "text/x-python",
   "name": "python",
   "nbconvert_exporter": "python",
   "pygments_lexer": "ipython3",
   "version": "3.7.3"
  }
 },
 "nbformat": 4,
 "nbformat_minor": 4
}
