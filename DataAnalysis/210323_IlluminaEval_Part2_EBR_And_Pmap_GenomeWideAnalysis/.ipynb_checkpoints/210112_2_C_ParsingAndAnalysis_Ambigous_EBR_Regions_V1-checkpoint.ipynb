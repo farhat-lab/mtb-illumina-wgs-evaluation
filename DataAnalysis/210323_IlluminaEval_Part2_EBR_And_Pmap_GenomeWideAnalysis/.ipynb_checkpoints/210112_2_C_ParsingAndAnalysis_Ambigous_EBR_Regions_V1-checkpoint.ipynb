{
 "cells": [
  {
   "cell_type": "code",
   "execution_count": null,
   "metadata": {},
   "outputs": [],
   "source": []
  },
  {
   "cell_type": "code",
   "execution_count": 1,
   "metadata": {},
   "outputs": [],
   "source": [
    "import numpy as np\n",
    "import pandas as pd\n",
    "from tqdm import tqdm\n",
    "import matplotlib.pyplot as plt\n",
    "import seaborn as sns\n",
    "import pickle\n",
    "# import gffutils\n",
    "\n",
    "%matplotlib inline"
   ]
  },
  {
   "cell_type": "code",
   "execution_count": 2,
   "metadata": {},
   "outputs": [],
   "source": [
    "from Bio import SeqIO"
   ]
  },
  {
   "cell_type": "markdown",
   "metadata": {},
   "source": [
    "#### Pandas Viewing Settings"
   ]
  },
  {
   "cell_type": "code",
   "execution_count": 3,
   "metadata": {},
   "outputs": [],
   "source": [
    "pd.set_option('display.max_rows', 500)\n",
    "pd.set_option('display.max_columns', 500)\n",
    "pd.set_option('display.width', 1000)"
   ]
  },
  {
   "cell_type": "code",
   "execution_count": null,
   "metadata": {},
   "outputs": [],
   "source": []
  },
  {
   "cell_type": "markdown",
   "metadata": {},
   "source": [
    "## Define function for output of a BED file from a NP array with values for each basepair position"
   ]
  },
  {
   "cell_type": "code",
   "execution_count": 4,
   "metadata": {},
   "outputs": [],
   "source": [
    "# BED format specifications: https://useast.ensembl.org/info/website/upload/bed.html\n",
    "\n",
    "def convert_GenomeNParray_To_BED_DF(input_GenomeNParray, genomeChrom = \"NC_000962.3\"):\n",
    "    \"\"\" \"\"\"\n",
    "    last_Score = input_GenomeNParray[0]\n",
    "\n",
    "    startOfRegion = 0\n",
    "    listOfBED_Tuples = []\n",
    "    RegionCounter = 1\n",
    "\n",
    "    for RefPos_0based in tqdm(np.arange(len(input_GenomeNParray))):\n",
    "\n",
    "        EBR_Score = input_GenomeNParray[RefPos_0based]\n",
    "\n",
    "        if EBR_Score != last_Score:\n",
    "\n",
    "            endOfRegion = RefPos_0based\n",
    "            lengthOfRegion = endOfRegion - startOfRegion \n",
    "\n",
    "            BED_EntryTuple = (genomeChrom, startOfRegion, endOfRegion, f\"Region{RegionCounter}_Length_{lengthOfRegion}_bp\", last_Score,)\n",
    "            listOfBED_Tuples.append(BED_EntryTuple)\n",
    "\n",
    "            RegionCounter += 1\n",
    "\n",
    "            #print(f\"{H37rv_ChrName}, {startOfRegion}, {RefPos_0based}, {lengthOfRegion}_bp, {last_Score}, .\")\n",
    "\n",
    "            startOfRegion = RefPos_0based \n",
    "\n",
    "            #1 Output the last range\n",
    "            #2 Store the new score    \n",
    "\n",
    "        last_Score = EBR_Score #2 Store the new score   \n",
    "\n",
    "        \n",
    "        \n",
    "    endOfRegion = RefPos_0based + 1\n",
    "    lengthOfRegion = endOfRegion - startOfRegion \n",
    "\n",
    "    BED_EntryTuple = (genomeChrom, startOfRegion, endOfRegion, f\"Region{RegionCounter}_Length_{lengthOfRegion}_bp\", last_Score)\n",
    "    listOfBED_Tuples.append(BED_EntryTuple)       \n",
    "\n",
    "    BED_DF = pd.DataFrame(listOfBED_Tuples)\n",
    "    \n",
    "    BED_DF.columns = [\"chrom\", \"chromStart\", \"chromEnd\", \"name\", \"score\" ]\n",
    "    \n",
    "    \n",
    "    return BED_DF"
   ]
  },
  {
   "cell_type": "code",
   "execution_count": null,
   "metadata": {},
   "outputs": [],
   "source": []
  },
  {
   "cell_type": "code",
   "execution_count": null,
   "metadata": {},
   "outputs": [],
   "source": []
  },
  {
   "cell_type": "code",
   "execution_count": null,
   "metadata": {},
   "outputs": [],
   "source": []
  },
  {
   "cell_type": "markdown",
   "metadata": {},
   "source": [
    "# Parse in BED file annotations of H37Rv genome (PLC groups)"
   ]
  },
  {
   "cell_type": "code",
   "execution_count": 5,
   "metadata": {},
   "outputs": [],
   "source": [
    "RepoRef_Dir = \"../../References\"\n",
    "pLC_ExcludedRegionsScheme_RepoRef_Dir = f\"{RepoRef_Dir}/pLowConfideceRegions_CoscollaEtAlScheme_Files\"\n",
    "\n",
    "\n",
    "Mtb_H37rv_pLCRegions_Coscolla_BED_PATH = f\"{pLC_ExcludedRegionsScheme_RepoRef_Dir}/201027_Mtb_H37rv_pLC_Regions_CoscollaExcludedGenes.bed\"\n",
    "\n",
    "Mtb_H37rv_pLCRegions_Coscolla_Subset_PEPPEs_BED_PATH = f\"{pLC_ExcludedRegionsScheme_RepoRef_Dir}/201027_Mtb_H37rv_pLC_Regions_CoscollaExcludedGenes.PEPPEs.bed\"\n",
    "\n",
    "Mtb_H37rv_pLCRegions_Coscolla_Subset_MGEs_BED_PATH = f\"{pLC_ExcludedRegionsScheme_RepoRef_Dir}/201027_Mtb_H37rv_pLC_Regions_CoscollaExcludedGenes.MGEs.bed\"\n",
    "\n",
    "Mtb_H37rv_pLCRegions_Coscolla_Subset_RepetitiveGenes_BED_PATH = f\"{pLC_ExcludedRegionsScheme_RepoRef_Dir}/201027_Mtb_H37rv_pLC_Regions_CoscollaExcludedGenes.RepetitiveGenes.bed\"\n",
    "\n",
    "Mtb_H37rv_pLCRegions_Only_PE_PGRS_And_PPE_MPTR_BED_PATH = f\"{pLC_ExcludedRegionsScheme_RepoRef_Dir}/201027_Mtb_H37rv_pLC_Regions_Subset_For_PE_PGRS_And_PPE_MPTR_Only_85_genes.bed\"\n",
    "\n",
    "Mtb_H37rv_pLCRegions_Coscolla_BED_MERGED_PATH = f\"{pLC_ExcludedRegionsScheme_RepoRef_Dir}/201027_Mtb_H37rv_pLC_Regions_CoscollaExcludedRegion.Merged.bed\"\n",
    "\n",
    "Mtb_H37rv_HighConfidenceRegions_NONCoscollaRegions_BED_PATH = f\"{pLC_ExcludedRegionsScheme_RepoRef_Dir}/201027_Mtb_H37rv_HighConfidence_Regions_NONpLC_Regions.bed\"\n"
   ]
  },
  {
   "cell_type": "code",
   "execution_count": 6,
   "metadata": {},
   "outputs": [
    {
     "name": "stdout",
     "output_type": "stream",
     "text": [
      "NC_000962.3\t33581\t33794\tRv0031\tRv0031\tInsertionSeqs_And_Phages\tNone\n",
      "NC_000962.3\t103709\t104663\tRv0094c\tRv0094c\tInsertionSeqs_And_Phages\tNone\n",
      "NC_000962.3\t104804\t105215\tRv0095c\tRv0095c\tInsertionSeqs_And_Phages\tNone\n",
      "NC_000962.3\t105323\t106715\tRv0096\tPPE1\tPE/PPEs\tPPE_SL-2_PPE-PPW\n",
      "NC_000962.3\t131381\t132872\tRv0109\tPE_PGRS1\tPE/PPEs\tPE_V_PGRS\n",
      "NC_000962.3\t149532\t150996\tRv0124\tPE_PGRS2\tPE/PPEs\tPE_V_PGRS\n",
      "NC_000962.3\t177542\t179309\tRv0151c\tPE1\tPE/PPEs\tPE_V_\n",
      "NC_000962.3\t179318\t180896\tRv0152c\tPE2\tPE/PPEs\tPE_V_\n",
      "NC_000962.3\t187432\t188839\tRv0159c\tPE3\tPE/PPEs\tPE_V_\n",
      "NC_000962.3\t188930\t190439\tRv0160c\tPE4\tPE/PPEs\tPE_V_\n"
     ]
    }
   ],
   "source": [
    "!head $Mtb_H37rv_pLCRegions_Coscolla_BED_PATH"
   ]
  },
  {
   "cell_type": "code",
   "execution_count": null,
   "metadata": {},
   "outputs": [],
   "source": []
  },
  {
   "cell_type": "code",
   "execution_count": null,
   "metadata": {},
   "outputs": [],
   "source": []
  },
  {
   "cell_type": "code",
   "execution_count": null,
   "metadata": {},
   "outputs": [],
   "source": []
  },
  {
   "cell_type": "code",
   "execution_count": null,
   "metadata": {},
   "outputs": [],
   "source": []
  },
  {
   "cell_type": "code",
   "execution_count": null,
   "metadata": {},
   "outputs": [],
   "source": []
  },
  {
   "cell_type": "markdown",
   "metadata": {},
   "source": [
    "## Parse Assembly and Sequence analysis results Sample Info"
   ]
  },
  {
   "cell_type": "code",
   "execution_count": 7,
   "metadata": {},
   "outputs": [
    {
     "name": "stdout",
     "output_type": "stream",
     "text": [
      "M0011368_9,M0014888_3,M0016395_7,M0010874_7,01_R1430,02_R0894,02_R1708,02_R1896,M0016737_0,M0017522_5,01_R1134,M0003941_3,02_R1179,N1176,N0072,N0153,N0145,N0155,N0004,N1274,N0054,N1272,N0091,N1202,N1177,RW-TB008,DNA028,DNA075,DNA091,DNA044,DNA020,AZE_02_042,DNA019_Rose,DNA120,DNA188,DNA086\n"
     ]
    }
   ],
   "source": [
    "Repo_DataDir = \"../../Data\"\n",
    "\n",
    "PMP_SM_ResultsSummary_Dir_210108 = Repo_DataDir + \"/210108_PMP_SM_50CI_V7_ResultsSummary\"\n",
    "\n",
    "PMP_36CI_CicularOnly_F2Filtered_AtLeast40XIllDepth_AssemblySummary_TSV_PATH = PMP_SM_ResultsSummary_Dir_210108 + \"/210108_PMP_36CI_CircularOnly_F2Filtered_AtLeast40XMeanDepthIllumina_AssemblySummary_V7.tsv\"       \n",
    "\n",
    "PMP_36CI_CicularOnly_F2Filtered_AtLeast40XDepth_AssemblySummary = pd.read_csv(PMP_36CI_CicularOnly_F2Filtered_AtLeast40XIllDepth_AssemblySummary_TSV_PATH, sep = \"\\t\")\n",
    "\n",
    "PMP_36CI_AnalysisSet_AssemblySummary = PMP_36CI_CicularOnly_F2Filtered_AtLeast40XDepth_AssemblySummary\n",
    "\n",
    "\n",
    "SampleIDs_36CI_SOI = list( PMP_36CI_AnalysisSet_AssemblySummary[\"SampleID\"].values )\n",
    "\n",
    "\n",
    "print(','.join(SampleIDs_36CI_SOI) )\n",
    "\n",
    "# Make sample to metadata mapping dicts\n",
    "\n",
    "ID_To_IlluminaAvrgCov_Dict = dict(PMP_36CI_AnalysisSet_AssemblySummary[['SampleID', 'IlluminaWGSToH37rv_AvrgCov']].values)                     \n",
    "ID_To_Lineage_Dict = dict(PMP_36CI_AnalysisSet_AssemblySummary[['SampleID', 'PrimaryLineage_PB']].values)\n",
    "ID_To_Dataset_Dict = dict(PMP_36CI_AnalysisSet_AssemblySummary[['SampleID', 'Dataset_Tag']].values)"
   ]
  },
  {
   "cell_type": "code",
   "execution_count": null,
   "metadata": {},
   "outputs": [],
   "source": []
  },
  {
   "cell_type": "code",
   "execution_count": null,
   "metadata": {},
   "outputs": [],
   "source": []
  },
  {
   "cell_type": "markdown",
   "metadata": {},
   "source": [
    "# 0) Read in pickles of processed data"
   ]
  },
  {
   "cell_type": "markdown",
   "metadata": {},
   "source": [
    "## Read back in EBR NPY arrays "
   ]
  },
  {
   "cell_type": "code",
   "execution_count": 8,
   "metadata": {},
   "outputs": [],
   "source": [
    "PB_Vs_Illumina_DataAnalysis_Dir = \"../../../210112_PBvsI_VCeval_AnalysisDir_V7_36CI\"\n",
    "\n",
    "# Define directory for EBR analysis data\n",
    "PBvIll_EBR_Dir = PB_Vs_Illumina_DataAnalysis_Dir + \"/210112_EBR_H37rv_36CI_MM2vsPilon_V7\"         \n",
    "\n",
    "EBR_36CI_WGS40X_NPY_PATH = f\"{PBvIll_EBR_Dir}/210112_EBR_V7_36CI.npy\"\n",
    "\n",
    "# Parse in aggregated EBR-40CI array\n",
    "EBR_36CI_Array_A4 = np.load(EBR_36CI_WGS40X_NPY_PATH)\n",
    "\n",
    "\n",
    "# Parse in pickle of individual arrays\n",
    "Pickle_PATH_dictOf_EBR_IndivIsolate_NPYs = PBvIll_EBR_Dir + \"/210112_dictOf_EBR_V7_IndivIsolate_NPYs_36CI.pickle\"                   \n",
    "\n",
    "with open(Pickle_PATH_dictOf_EBR_IndivIsolate_NPYs, \"rb\") as f: dictOf_EBR_IndivIsolate_NPYs = pickle.load(f)\n"
   ]
  },
  {
   "cell_type": "code",
   "execution_count": 9,
   "metadata": {},
   "outputs": [
    {
     "data": {
      "text/plain": [
       "dict_keys(['M0011368_9', 'M0014888_3', 'M0016395_7', 'M0010874_7', '01_R1430', '02_R0894', '02_R1708', '02_R1896', 'M0016737_0', 'M0017522_5', '01_R1134', 'M0003941_3', '02_R1179', 'N1176', 'N0072', 'N0153', 'N0145', 'N0155', 'N0004', 'N1274', 'N0054', 'N1272', 'N0091', 'N1202', 'N1177', 'RW-TB008', 'DNA028', 'DNA075', 'DNA091', 'DNA044', 'DNA020', 'AZE_02_042', 'DNA019_Rose', 'DNA120', 'DNA188', 'DNA086'])"
      ]
     },
     "execution_count": 9,
     "metadata": {},
     "output_type": "execute_result"
    }
   ],
   "source": [
    "dictOf_EBR_IndivIsolate_NPYs.keys()"
   ]
  },
  {
   "cell_type": "code",
   "execution_count": null,
   "metadata": {},
   "outputs": [],
   "source": []
  },
  {
   "cell_type": "markdown",
   "metadata": {},
   "source": [
    "# Let's define AMB regions for the EBR-36CI calculation (> 25% N/A)"
   ]
  },
  {
   "cell_type": "code",
   "execution_count": 58,
   "metadata": {},
   "outputs": [
    {
     "name": "stderr",
     "output_type": "stream",
     "text": [
      "100%|██████████| 4411532/4411532 [00:02<00:00, 1893843.78it/s]\n"
     ]
    }
   ],
   "source": [
    "i_EBR_Array = pd.Series(EBR_36CI_Array_A4).fillna(\"Ambiguous\").values\n",
    "\n",
    "EBR_36CI_BED_DF = convert_GenomeNParray_To_BED_DF(i_EBR_Array)\n",
    "\n",
    "EBR_36CI_BED_DF[\"Length\"] = EBR_36CI_BED_DF[\"chromEnd\"] - EBR_36CI_BED_DF[\"chromStart\"]      \n",
    "\n",
    "EBR_36CI_BED_DF_AMB_ONLY = EBR_36CI_BED_DF[ EBR_36CI_BED_DF[\"score\"] == \"Ambiguous\" ]"
   ]
  },
  {
   "cell_type": "code",
   "execution_count": null,
   "metadata": {},
   "outputs": [],
   "source": []
  },
  {
   "cell_type": "code",
   "execution_count": null,
   "metadata": {},
   "outputs": [],
   "source": []
  },
  {
   "cell_type": "markdown",
   "metadata": {},
   "source": [
    "### What % of the genome had high levels of ambiguouity in EBR analysis? (> 25% of isolates with Amb at position) \n",
    "\n",
    "#### Answer: 0.35% (15,813 bp of the genome, largely in MGEs)"
   ]
  },
  {
   "cell_type": "code",
   "execution_count": 11,
   "metadata": {},
   "outputs": [
    {
     "data": {
      "text/plain": [
       "15813"
      ]
     },
     "execution_count": 11,
     "metadata": {},
     "output_type": "execute_result"
    }
   ],
   "source": [
    "EBR_36CI_BED_DF_AMB_ONLY[\"Length\"].sum()"
   ]
  },
  {
   "cell_type": "code",
   "execution_count": 12,
   "metadata": {},
   "outputs": [
    {
     "data": {
      "text/plain": [
       "0.35844690687951486"
      ]
     },
     "execution_count": 12,
     "metadata": {},
     "output_type": "execute_result"
    }
   ],
   "source": [
    "(EBR_36CI_BED_DF_AMB_ONLY[\"Length\"].sum() / 4411532) * 100"
   ]
  },
  {
   "cell_type": "code",
   "execution_count": null,
   "metadata": {},
   "outputs": [],
   "source": []
  },
  {
   "cell_type": "code",
   "execution_count": null,
   "metadata": {},
   "outputs": [],
   "source": []
  },
  {
   "cell_type": "code",
   "execution_count": null,
   "metadata": {},
   "outputs": [],
   "source": []
  },
  {
   "cell_type": "markdown",
   "metadata": {},
   "source": [
    "# Output AMB Regions (Individual & Aggregated Levels)"
   ]
  },
  {
   "cell_type": "code",
   "execution_count": 13,
   "metadata": {},
   "outputs": [
    {
     "name": "stdout",
     "output_type": "stream",
     "text": [
      "mkdir: cannot create directory ‘../../../210112_PBvsI_VCeval_AnalysisDir_V7_36CI/210112_EBR_H37rv_36CI_MM2vsPilon_V7/EBR_36CI_AmbigousRegions’: File exists\n"
     ]
    }
   ],
   "source": [
    "# Define directory for analysis\n",
    "\n",
    "PBvIll_EBR_Ambigous_RegionsDir = f\"{PBvIll_EBR_Dir}/EBR_36CI_AmbigousRegions\"\n",
    "\n",
    "!mkdir $PBvIll_EBR_Ambigous_RegionsDir\n"
   ]
  },
  {
   "cell_type": "code",
   "execution_count": null,
   "metadata": {},
   "outputs": [],
   "source": []
  },
  {
   "cell_type": "markdown",
   "metadata": {},
   "source": [
    "## A) Ouput AMB regions from the aggregated EBR-36CI score"
   ]
  },
  {
   "cell_type": "code",
   "execution_count": 14,
   "metadata": {},
   "outputs": [],
   "source": [
    "EBR_36CI_Ambigous_Regions_BED_PATH = f\"{PBvIll_EBR_Ambigous_RegionsDir}/EBR_36CI_AmbigousRegions_V1.bed\"\n",
    "EBR_36CI_Ambigous_Regions_WithHeader_BED_PATH = f\"{PBvIll_EBR_Ambigous_RegionsDir}/EBR_36CI_AmbigousRegions_V1.WithHeader.bed.tsv\"\n",
    "\n",
    "\n",
    "EBR_36CI_BED_DF_AMB_ONLY.to_csv(EBR_36CI_Ambigous_Regions_BED_PATH,\n",
    "                           sep = \"\\t\",\n",
    "                           index = False,\n",
    "                           header = False)\n",
    "\n",
    "\n",
    "EBR_36CI_BED_DF_AMB_ONLY.to_csv(EBR_36CI_Ambigous_Regions_WithHeader_BED_PATH,\n",
    "                           sep = \"\\t\",\n",
    "                           index = False,\n",
    "                           header = True)\n",
    "\n"
   ]
  },
  {
   "cell_type": "code",
   "execution_count": null,
   "metadata": {},
   "outputs": [],
   "source": []
  },
  {
   "cell_type": "code",
   "execution_count": 15,
   "metadata": {},
   "outputs": [
    {
     "name": "stdout",
     "output_type": "stream",
     "text": [
      "total 184K\n",
      "drwxrwsr-x 2 mm774 farhat  184 Feb 20 00:46 .\n",
      "drwxrwsr-x 4 mm774 farhat  438 Mar 16 14:18 ..\n",
      "-rw-rw-r-- 1 mm774 farhat 1.6K Mar 24 20:01 EBR_36CI_AmbigousRegions_V1.bed\n",
      "-rw-rw-r-- 1 mm774 farhat 1.7K Mar 24 20:01 EBR_36CI_AmbigousRegions_V1.WithHeader.bed\n",
      "-rw-rw-r-- 1 mm774 farhat  72K Feb 26 16:22 Mtb_AmbigouslyDefinedRegions_PerIsolate_V1.WithHeader.bed\n"
     ]
    }
   ],
   "source": [
    "!ls -lah $PBvIll_EBR_Ambigous_RegionsDir"
   ]
  },
  {
   "cell_type": "code",
   "execution_count": null,
   "metadata": {},
   "outputs": [],
   "source": []
  },
  {
   "cell_type": "code",
   "execution_count": 16,
   "metadata": {},
   "outputs": [
    {
     "data": {
      "text/plain": [
       "(21613, 6)"
      ]
     },
     "execution_count": 16,
     "metadata": {},
     "output_type": "execute_result"
    }
   ],
   "source": [
    "EBR_36CI_BED_DF.shape"
   ]
  },
  {
   "cell_type": "code",
   "execution_count": 17,
   "metadata": {},
   "outputs": [
    {
     "data": {
      "text/plain": [
       "(24, 6)"
      ]
     },
     "execution_count": 17,
     "metadata": {},
     "output_type": "execute_result"
    }
   ],
   "source": [
    "EBR_36CI_BED_DF_AMB_ONLY.shape"
   ]
  },
  {
   "cell_type": "code",
   "execution_count": null,
   "metadata": {},
   "outputs": [],
   "source": []
  },
  {
   "cell_type": "code",
   "execution_count": 18,
   "metadata": {},
   "outputs": [
    {
     "data": {
      "text/html": [
       "<div>\n",
       "<style scoped>\n",
       "    .dataframe tbody tr th:only-of-type {\n",
       "        vertical-align: middle;\n",
       "    }\n",
       "\n",
       "    .dataframe tbody tr th {\n",
       "        vertical-align: top;\n",
       "    }\n",
       "\n",
       "    .dataframe thead th {\n",
       "        text-align: right;\n",
       "    }\n",
       "</style>\n",
       "<table border=\"1\" class=\"dataframe\">\n",
       "  <thead>\n",
       "    <tr style=\"text-align: right;\">\n",
       "      <th></th>\n",
       "      <th>chrom</th>\n",
       "      <th>chromStart</th>\n",
       "      <th>chromEnd</th>\n",
       "      <th>name</th>\n",
       "      <th>score</th>\n",
       "      <th>Length</th>\n",
       "    </tr>\n",
       "  </thead>\n",
       "  <tbody>\n",
       "    <tr>\n",
       "      <th>995</th>\n",
       "      <td>NC_000962.3</td>\n",
       "      <td>334641</td>\n",
       "      <td>334653</td>\n",
       "      <td>Region996_Length_12_bp</td>\n",
       "      <td>Ambiguous</td>\n",
       "      <td>12</td>\n",
       "    </tr>\n",
       "    <tr>\n",
       "      <th>997</th>\n",
       "      <td>NC_000962.3</td>\n",
       "      <td>334694</td>\n",
       "      <td>334723</td>\n",
       "      <td>Region998_Length_29_bp</td>\n",
       "      <td>Ambiguous</td>\n",
       "      <td>29</td>\n",
       "    </tr>\n",
       "    <tr>\n",
       "      <th>4251</th>\n",
       "      <td>NC_000962.3</td>\n",
       "      <td>888762</td>\n",
       "      <td>889020</td>\n",
       "      <td>Region4252_Length_258_bp</td>\n",
       "      <td>Ambiguous</td>\n",
       "      <td>258</td>\n",
       "    </tr>\n",
       "    <tr>\n",
       "      <th>4253</th>\n",
       "      <td>NC_000962.3</td>\n",
       "      <td>889033</td>\n",
       "      <td>890373</td>\n",
       "      <td>Region4254_Length_1340_bp</td>\n",
       "      <td>Ambiguous</td>\n",
       "      <td>1340</td>\n",
       "    </tr>\n",
       "    <tr>\n",
       "      <th>5513</th>\n",
       "      <td>NC_000962.3</td>\n",
       "      <td>1093947</td>\n",
       "      <td>1094062</td>\n",
       "      <td>Region5514_Length_115_bp</td>\n",
       "      <td>Ambiguous</td>\n",
       "      <td>115</td>\n",
       "    </tr>\n",
       "  </tbody>\n",
       "</table>\n",
       "</div>"
      ],
      "text/plain": [
       "            chrom  chromStart  chromEnd                       name      score  Length\n",
       "995   NC_000962.3      334641    334653     Region996_Length_12_bp  Ambiguous      12\n",
       "997   NC_000962.3      334694    334723     Region998_Length_29_bp  Ambiguous      29\n",
       "4251  NC_000962.3      888762    889020   Region4252_Length_258_bp  Ambiguous     258\n",
       "4253  NC_000962.3      889033    890373  Region4254_Length_1340_bp  Ambiguous    1340\n",
       "5513  NC_000962.3     1093947   1094062   Region5514_Length_115_bp  Ambiguous     115"
      ]
     },
     "execution_count": 18,
     "metadata": {},
     "output_type": "execute_result"
    }
   ],
   "source": [
    "EBR_36CI_BED_DF_AMB_ONLY.head(5)"
   ]
  },
  {
   "cell_type": "code",
   "execution_count": null,
   "metadata": {},
   "outputs": [],
   "source": []
  },
  {
   "cell_type": "code",
   "execution_count": 19,
   "metadata": {},
   "outputs": [
    {
     "name": "stdout",
     "output_type": "stream",
     "text": [
      "24 ../../../210112_PBvsI_VCeval_AnalysisDir_V7_36CI/210112_EBR_H37rv_36CI_MM2vsPilon_V7/EBR_36CI_AmbigousRegions/EBR_36CI_AmbigousRegions_V1.bed\n"
     ]
    }
   ],
   "source": [
    "!wc -l $EBR_36CI_Ambigous_Regions_BED_PATH"
   ]
  },
  {
   "cell_type": "code",
   "execution_count": 20,
   "metadata": {},
   "outputs": [
    {
     "name": "stdout",
     "output_type": "stream",
     "text": [
      "168 ../../References/pLowConfideceRegions_CoscollaEtAlScheme_Files/201027_Mtb_H37rv_pLC_Regions_CoscollaExcludedGenes.PEPPEs.bed\n"
     ]
    }
   ],
   "source": [
    "!wc -l $Mtb_H37rv_pLCRegions_Coscolla_Subset_PEPPEs_BED_PATH"
   ]
  },
  {
   "cell_type": "code",
   "execution_count": 21,
   "metadata": {},
   "outputs": [
    {
     "name": "stdout",
     "output_type": "stream",
     "text": [
      "147 ../../References/pLowConfideceRegions_CoscollaEtAlScheme_Files/201027_Mtb_H37rv_pLC_Regions_CoscollaExcludedGenes.MGEs.bed\n"
     ]
    }
   ],
   "source": [
    "!wc -l $Mtb_H37rv_pLCRegions_Coscolla_Subset_MGEs_BED_PATH"
   ]
  },
  {
   "cell_type": "code",
   "execution_count": 22,
   "metadata": {},
   "outputs": [
    {
     "name": "stdout",
     "output_type": "stream",
     "text": [
      "69 ../../References/pLowConfideceRegions_CoscollaEtAlScheme_Files/201027_Mtb_H37rv_pLC_Regions_CoscollaExcludedGenes.RepetitiveGenes.bed\n"
     ]
    }
   ],
   "source": [
    "!wc -l $Mtb_H37rv_pLCRegions_Coscolla_Subset_RepetitiveGenes_BED_PATH"
   ]
  },
  {
   "cell_type": "code",
   "execution_count": null,
   "metadata": {},
   "outputs": [],
   "source": []
  },
  {
   "cell_type": "code",
   "execution_count": 23,
   "metadata": {},
   "outputs": [],
   "source": [
    "#!bedtools coverage -a $EBR_36CI_Ambigous_Regions_BED_PATH -b $Mtb_H37rv_pLCRegions_Coscolla_BED_MERGED_PATH"
   ]
  },
  {
   "cell_type": "code",
   "execution_count": null,
   "metadata": {},
   "outputs": [],
   "source": []
  },
  {
   "cell_type": "code",
   "execution_count": 24,
   "metadata": {},
   "outputs": [],
   "source": [
    "#!bedtools coverage -a $EBR_36CI_Ambigous_Regions_BED_PATH -b $Mtb_H37rv_pLCRegions_Coscolla_Subset_MGEs_BED_PATH"
   ]
  },
  {
   "cell_type": "code",
   "execution_count": 25,
   "metadata": {},
   "outputs": [],
   "source": [
    "#!bedtools coverage -a $EBR_36CI_Ambigous_Regions_BED_PATH -b $Mtb_H37rv_pLCRegions_Coscolla_Subset_PEPPEs_BED_PATH"
   ]
  },
  {
   "cell_type": "code",
   "execution_count": 26,
   "metadata": {},
   "outputs": [],
   "source": [
    "#!bedtools coverage -a $EBR_36CI_Ambigous_Regions_BED_PATH -b $Mtb_H37rv_pLCRegions_Coscolla_Subset_RepetitiveGenes_BED_PATH"
   ]
  },
  {
   "cell_type": "code",
   "execution_count": null,
   "metadata": {},
   "outputs": [],
   "source": []
  },
  {
   "cell_type": "code",
   "execution_count": 27,
   "metadata": {},
   "outputs": [
    {
     "data": {
      "text/plain": [
       "15551"
      ]
     },
     "execution_count": 27,
     "metadata": {},
     "output_type": "execute_result"
    }
   ],
   "source": [
    "15813 - 262"
   ]
  },
  {
   "cell_type": "code",
   "execution_count": 28,
   "metadata": {},
   "outputs": [
    {
     "data": {
      "text/plain": [
       "0.9834313539492823"
      ]
     },
     "execution_count": 28,
     "metadata": {},
     "output_type": "execute_result"
    }
   ],
   "source": [
    "15551/15813"
   ]
  },
  {
   "cell_type": "markdown",
   "metadata": {},
   "source": [
    "## Evaluate coverage of all 3 PLC subcategories with AMB regions\n",
    "A total of 262 bp were from regions which didn't overlap with regions that were already part of the PLC regions\n"
   ]
  },
  {
   "cell_type": "code",
   "execution_count": 29,
   "metadata": {},
   "outputs": [
    {
     "name": "stdout",
     "output_type": "stream",
     "text": [
      "NC_000962.3\t334641\t334653\tRegion996_Length_12_bp\tAmbiguous\t12\t1\t12\t12\t1.0000000\n",
      "NC_000962.3\t334694\t334723\tRegion998_Length_29_bp\tAmbiguous\t29\t1\t29\t29\t1.0000000\n",
      "NC_000962.3\t888762\t889020\tRegion4252_Length_258_bp\tAmbiguous\t258\t0\t0\t258\t0.0000000\n",
      "NC_000962.3\t889033\t890373\tRegion4254_Length_1340_bp\tAmbiguous\t1340\t2\t1262\t1340\t0.9417911\n",
      "NC_000962.3\t1093947\t1094062\tRegion5514_Length_115_bp\tAmbiguous\t115\t1\t115\t115\t1.0000000\n",
      "NC_000962.3\t1480948\t1481670\tRegion7844_Length_722_bp\tAmbiguous\t722\t1\t722\t722\t1.0000000\n",
      "NC_000962.3\t1541951\t1543304\tRegion8088_Length_1353_bp\tAmbiguous\t1353\t2\t1262\t1353\t0.9327421\n",
      "NC_000962.3\t1637087\t1637214\tRegion8717_Length_127_bp\tAmbiguous\t127\t1\t127\t127\t1.0000000\n",
      "NC_000962.3\t1987702\t1989057\tRegion9675_Length_1355_bp\tAmbiguous\t1355\t2\t1262\t1355\t0.9313653\n",
      "NC_000962.3\t1996100\t1997452\tRegion9810_Length_1352_bp\tAmbiguous\t1352\t3\t1297\t1352\t0.9593195\n",
      "NC_000962.3\t2268721\t2268725\tRegion11088_Length_4_bp\tAmbiguous\t4\t0\t0\t4\t0.0000000\n",
      "NC_000962.3\t2550013\t2551366\tRegion12413_Length_1353_bp\tAmbiguous\t1353\t3\t1278\t1353\t0.9445676\n",
      "NC_000962.3\t2632922\t2636929\tRegion12611_Length_4007_bp\tAmbiguous\t4007\t4\t3503\t4007\t0.8742201\n",
      "NC_000962.3\t2638985\t2639613\tRegion12647_Length_628_bp\tAmbiguous\t628\t1\t550\t628\t0.8757962\n",
      "NC_000962.3\t2866882\t2867400\tRegion13779_Length_518_bp\tAmbiguous\t518\t2\t518\t518\t1.0000000\n",
      "NC_000962.3\t3528674\t3528971\tRegion16381_Length_297_bp\tAmbiguous\t297\t1\t297\t297\t1.0000000\n",
      "NC_000962.3\t3528974\t3529181\tRegion16383_Length_207_bp\tAmbiguous\t207\t1\t189\t207\t0.9130435\n",
      "NC_000962.3\t3552587\t3552712\tRegion16414_Length_125_bp\tAmbiguous\t125\t0\t0\t125\t0.0000000\n",
      "NC_000962.3\t3732552\t3732570\tRegion16840_Length_18_bp\tAmbiguous\t18\t1\t18\t18\t1.0000000\n",
      "NC_000962.3\t3846591\t3846841\tRegion18146_Length_250_bp\tAmbiguous\t250\t0\t0\t250\t0.0000000\n",
      "NC_000962.3\t3890778\t3892133\tRegion18450_Length_1355_bp\tAmbiguous\t1355\t2\t1262\t1355\t0.9313653\n",
      "NC_000962.3\t3936085\t3936296\tRegion19317_Length_211_bp\tAmbiguous\t211\t1\t211\t211\t1.0000000\n",
      "NC_000962.3\t3946794\t3946879\tRegion19916_Length_85_bp\tAmbiguous\t85\t1\t85\t85\t1.0000000\n",
      "NC_000962.3\t3949264\t3949356\tRegion20221_Length_92_bp\tAmbiguous\t92\t1\t92\t92\t1.0000000\n"
     ]
    }
   ],
   "source": [
    "!bedtools coverage -a $EBR_36CI_Ambigous_Regions_BED_PATH -b $Mtb_H37rv_pLCRegions_Coscolla_Subset_PEPPEs_BED_PATH $Mtb_H37rv_pLCRegions_Coscolla_Subset_MGEs_BED_PATH $Mtb_H37rv_pLCRegions_Coscolla_Subset_RepetitiveGenes_BED_PATH"
   ]
  },
  {
   "cell_type": "code",
   "execution_count": null,
   "metadata": {},
   "outputs": [],
   "source": []
  },
  {
   "cell_type": "code",
   "execution_count": null,
   "metadata": {},
   "outputs": [],
   "source": []
  },
  {
   "cell_type": "code",
   "execution_count": null,
   "metadata": {},
   "outputs": [],
   "source": []
  },
  {
   "cell_type": "code",
   "execution_count": null,
   "metadata": {},
   "outputs": [],
   "source": []
  },
  {
   "cell_type": "markdown",
   "metadata": {},
   "source": [
    "# Let's parse and output BED files for all of the \"Ambigous Regions\" for each sample "
   ]
  },
  {
   "cell_type": "code",
   "execution_count": 32,
   "metadata": {},
   "outputs": [],
   "source": [
    "### Step 1: Parse all Ambigous Regions to a BED file formatted Pandas DF\n",
    "### Step 2: Output the AmbRegions to a BED  "
   ]
  },
  {
   "cell_type": "markdown",
   "metadata": {},
   "source": [
    "### Define directories of PMP-SM pipeline"
   ]
  },
  {
   "cell_type": "code",
   "execution_count": 33,
   "metadata": {},
   "outputs": [],
   "source": [
    "# Define varaint calling pipeline output directories\n",
    "\n",
    "PacBio_ProjectDir = \"/n/data1/hms/dbmi/farhat/mm774/Projects/PacBio_Evaluation_Project\"\n",
    "PMP_SM_Outputs_Dir = PacBio_ProjectDir + \"/PacmanPipe_SM_Outputs\"\n",
    "PMP_SM_TB_Portals_R1_Illumina_WGS_201201_OutputDir = PMP_SM_Outputs_Dir + \"/201201_PMP_SM_TB_Portals_R1_Output_V2\"      \n"
   ]
  },
  {
   "cell_type": "code",
   "execution_count": 34,
   "metadata": {},
   "outputs": [
    {
     "data": {
      "text/plain": [
       "dict_keys(['M0011368_9', 'M0014888_3', 'M0016395_7', 'M0010874_7', '01_R1430', '02_R0894', '02_R1708', '02_R1896', 'M0016737_0', 'M0017522_5', '01_R1134', 'M0003941_3', '02_R1179', 'N1176', 'N0072', 'N0153', 'N0145', 'N0155', 'N0004', 'N1274', 'N0054', 'N1272', 'N0091', 'N1202', 'N1177', 'RW-TB008', 'DNA028', 'DNA075', 'DNA091', 'DNA044', 'DNA020', 'AZE_02_042', 'DNA019_Rose', 'DNA120', 'DNA188', 'DNA086'])"
      ]
     },
     "execution_count": 34,
     "metadata": {},
     "output_type": "execute_result"
    }
   ],
   "source": [
    "dictOf_EBR_IndivIsolate_NPYs.keys()"
   ]
  },
  {
   "cell_type": "code",
   "execution_count": null,
   "metadata": {},
   "outputs": [],
   "source": []
  },
  {
   "cell_type": "code",
   "execution_count": null,
   "metadata": {},
   "outputs": [],
   "source": []
  },
  {
   "cell_type": "markdown",
   "metadata": {},
   "source": [
    "## Files to save:\n",
    "\n",
    "1) Save a BED file each for sampleID's ambigous regions <br>\n",
    "1) Save a BED-TSV file each for EBR-28CI ambigous regions (Ambigous across > 25% of isolates) <br>\n"
   ]
  },
  {
   "cell_type": "code",
   "execution_count": null,
   "metadata": {},
   "outputs": [],
   "source": []
  },
  {
   "cell_type": "markdown",
   "metadata": {},
   "source": [
    "### Define directories of Snakemake pipeline output"
   ]
  },
  {
   "cell_type": "code",
   "execution_count": 35,
   "metadata": {},
   "outputs": [],
   "source": [
    "# Define varaint calling pipeline output directories\n",
    "\n",
    "PacBio_ProjectDir = \"/n/data1/hms/dbmi/farhat/mm774/Projects/PacBio_Evaluation_Project\"\n",
    "PMP_SM_Outputs_Dir = PacBio_ProjectDir + \"/PacmanPipe_SM_Outputs\"\n",
    "PMP_SM_TB_Portals_R1_Illumina_WGS_201201_OutputDir = PMP_SM_Outputs_Dir + \"/201201_PMP_SM_TB_Portals_R1_Output_V2\"      \n"
   ]
  },
  {
   "cell_type": "code",
   "execution_count": null,
   "metadata": {},
   "outputs": [],
   "source": []
  },
  {
   "cell_type": "code",
   "execution_count": null,
   "metadata": {},
   "outputs": [],
   "source": []
  },
  {
   "cell_type": "code",
   "execution_count": 37,
   "metadata": {
    "scrolled": true
   },
   "outputs": [
    {
     "name": "stderr",
     "output_type": "stream",
     "text": [
      "  0%|          | 0/36 [00:00<?, ?it/s]\n",
      "  0%|          | 0/4411532 [00:00<?, ?it/s]\u001b[A\n",
      "  4%|▍         | 178033/4411532 [00:00<00:02, 1780327.45it/s]\u001b[A\n",
      "  8%|▊         | 346620/4411532 [00:00<00:02, 1750896.42it/s]\u001b[A\n",
      " 12%|█▏        | 523311/4411532 [00:00<00:02, 1755669.18it/s]\u001b[A\n",
      " 16%|█▌        | 703975/4411532 [00:00<00:02, 1770653.87it/s]\u001b[A\n",
      " 20%|██        | 891713/4411532 [00:00<00:01, 1801374.75it/s]\u001b[A\n",
      " 25%|██▍       | 1084306/4411532 [00:00<00:01, 1837012.98it/s]\u001b[A\n",
      " 29%|██▉       | 1278862/4411532 [00:00<00:01, 1868282.89it/s]\u001b[A\n",
      " 33%|███▎      | 1476619/4411532 [00:00<00:01, 1899777.24it/s]\u001b[A\n",
      " 38%|███▊      | 1674708/4411532 [00:00<00:01, 1923404.10it/s]\u001b[A\n",
      " 42%|████▏     | 1872588/4411532 [00:01<00:01, 1939693.63it/s]\u001b[A\n",
      " 47%|████▋     | 2072751/4411532 [00:01<00:01, 1957866.12it/s]\u001b[A\n",
      " 51%|█████▏    | 2271857/4411532 [00:01<00:01, 1967705.26it/s]\u001b[A\n",
      " 56%|█████▌    | 2473020/4411532 [00:01<00:00, 1980679.10it/s]\u001b[A\n",
      " 61%|██████    | 2675522/4411532 [00:01<00:00, 1993773.89it/s]\u001b[A\n",
      " 65%|██████▌   | 2878864/4411532 [00:01<00:00, 2005503.59it/s]\u001b[A\n",
      " 70%|██████▉   | 3078668/4411532 [00:01<00:00, 1986678.64it/s]\u001b[A\n",
      " 74%|███████▍  | 3280310/4411532 [00:01<00:00, 1995507.67it/s]\u001b[A\n",
      " 79%|███████▉  | 3483477/4411532 [00:01<00:00, 2006219.62it/s]\u001b[A\n",
      " 84%|████████▎ | 3684769/4411532 [00:01<00:00, 2008224.19it/s]\u001b[A\n",
      " 88%|████████▊ | 3887187/4411532 [00:02<00:00, 2012980.73it/s]\u001b[A\n",
      " 93%|█████████▎| 4091898/4411532 [00:02<00:00, 2023098.56it/s]\u001b[A\n",
      " 97%|█████████▋| 4294913/4411532 [00:02<00:00, 2025206.53it/s]\u001b[A\n",
      "100%|██████████| 4411532/4411532 [00:02<00:00, 1947281.49it/s]\u001b[A/home/mm774/conda3/envs/py37_S/lib/python3.7/site-packages/ipykernel_launcher.py:27: SettingWithCopyWarning: \n",
      "A value is trying to be set on a copy of a slice from a DataFrame.\n",
      "Try using .loc[row_indexer,col_indexer] = value instead\n",
      "\n",
      "See the caveats in the documentation: https://pandas.pydata.org/pandas-docs/stable/user_guide/indexing.html#returning-a-view-versus-a-copy\n",
      "  3%|▎         | 1/36 [00:02<01:39,  2.85s/it]\n",
      "  0%|          | 0/4411532 [00:00<?, ?it/s]\u001b[A\n",
      "  4%|▍         | 172549/4411532 [00:00<00:02, 1725487.53it/s]\u001b[A\n",
      "  8%|▊         | 339859/4411532 [00:00<00:02, 1709429.26it/s]\u001b[A\n",
      " 12%|█▏        | 517218/4411532 [00:00<00:02, 1728181.58it/s]\u001b[A\n",
      " 16%|█▌        | 701147/4411532 [00:00<00:02, 1760077.87it/s]\u001b[A\n",
      " 20%|██        | 890840/4411532 [00:00<00:01, 1799013.57it/s]\u001b[A\n",
      " 25%|██▍       | 1085155/4411532 [00:00<00:01, 1839957.42it/s]\u001b[A\n",
      " 29%|██▉       | 1281919/4411532 [00:00<00:01, 1876486.93it/s]\u001b[A\n",
      " 34%|███▎      | 1481802/4411532 [00:00<00:01, 1911583.19it/s]\u001b[A\n",
      " 38%|███▊      | 1682828/4411532 [00:00<00:01, 1940153.05it/s]\u001b[A\n",
      " 43%|████▎     | 1886343/4411532 [00:01<00:01, 1967702.81it/s]\u001b[A\n",
      " 47%|████▋     | 2090264/4411532 [00:01<00:01, 1988620.58it/s]\u001b[A\n",
      " 52%|█████▏    | 2290989/4411532 [00:01<00:01, 1994172.14it/s]\u001b[A\n",
      " 57%|█████▋    | 2496171/4411532 [00:01<00:00, 2011122.63it/s]\u001b[A\n",
      " 61%|██████    | 2702017/4411532 [00:01<00:00, 2025091.37it/s]\u001b[A\n",
      " 66%|██████▌   | 2907772/4411532 [00:01<00:00, 2034718.62it/s]\u001b[A\n",
      " 71%|███████   | 3114931/4411532 [00:01<00:00, 2045640.61it/s]\u001b[A\n",
      " 75%|███████▌  | 3321101/4411532 [00:01<00:00, 2050431.22it/s]\u001b[A\n",
      " 80%|███████▉  | 3528368/4411532 [00:01<00:00, 2057050.25it/s]\u001b[A\n",
      " 85%|████████▍ | 3735154/4411532 [00:01<00:00, 2060278.94it/s]\u001b[A\n",
      " 89%|████████▉ | 3941568/4411532 [00:02<00:00, 2061428.97it/s]\u001b[A\n",
      " 94%|█████████▍| 4149810/4411532 [00:02<00:00, 2067680.83it/s]\u001b[A\n",
      " 99%|█████████▉| 4357490/4411532 [00:02<00:00, 2070405.80it/s]\u001b[A\n",
      "  6%|▌         | 2/36 [00:05<01:36,  2.84s/it] 1975272.76it/s]\u001b[A\n",
      "  0%|          | 0/4411532 [00:00<?, ?it/s]\u001b[A\n",
      "  4%|▍         | 176468/4411532 [00:00<00:02, 1764677.48it/s]\u001b[A\n",
      "  8%|▊         | 346913/4411532 [00:00<00:02, 1746164.96it/s]\u001b[A\n",
      " 12%|█▏        | 521699/4411532 [00:00<00:02, 1746669.88it/s]\u001b[A\n",
      " 16%|█▌        | 707027/4411532 [00:00<00:02, 1777340.47it/s]\u001b[A\n",
      " 20%|██        | 897027/4411532 [00:00<00:01, 1812441.84it/s]\u001b[A\n",
      " 25%|██▍       | 1089957/4411532 [00:00<00:01, 1845983.35it/s]\u001b[A\n",
      " 29%|██▉       | 1289254/4411532 [00:00<00:01, 1887749.25it/s]\u001b[A\n",
      " 34%|███▍      | 1490299/4411532 [00:00<00:01, 1922956.75it/s]\u001b[A\n",
      " 38%|███▊      | 1693704/4411532 [00:00<00:01, 1954988.51it/s]\u001b[A\n",
      " 43%|████▎     | 1897732/4411532 [00:01<00:01, 1979815.49it/s]\u001b[A\n",
      " 48%|████▊     | 2102703/4411532 [00:01<00:01, 2000277.32it/s]\u001b[A\n",
      " 52%|█████▏    | 2306719/4411532 [00:01<00:01, 2012076.58it/s]\u001b[A\n",
      " 57%|█████▋    | 2513989/4411532 [00:01<00:00, 2029885.67it/s]\u001b[A\n",
      " 62%|██████▏   | 2721904/4411532 [00:01<00:00, 2044415.78it/s]\u001b[A\n",
      " 66%|██████▋   | 2931330/4411532 [00:01<00:00, 2059117.26it/s]\u001b[A\n",
      " 71%|███████   | 3140344/4411532 [00:01<00:00, 2068324.61it/s]\u001b[A\n",
      " 76%|███████▌  | 3346721/4411532 [00:01<00:00, 2066953.75it/s]\u001b[A\n",
      " 81%|████████  | 3555405/4411532 [00:01<00:00, 2072877.36it/s]\u001b[A\n",
      " 85%|████████▌ | 3763748/4411532 [00:01<00:00, 2076029.54it/s]\u001b[A\n",
      " 90%|█████████ | 3971351/4411532 [00:02<00:00, 2075988.70it/s]\u001b[A\n",
      " 95%|█████████▍| 4178839/4411532 [00:02<00:00, 2059153.31it/s]\u001b[A\n",
      " 99%|█████████▉| 4384708/4411532 [00:02<00:00, 2057879.86it/s]\u001b[A\n",
      "  8%|▊         | 3/36 [00:08<01:33,  2.82s/it] 1983651.87it/s]\u001b[A\n",
      "  0%|          | 0/4411532 [00:00<?, ?it/s]\u001b[A\n",
      "  4%|▍         | 175169/4411532 [00:00<00:02, 1751683.32it/s]\u001b[A\n",
      "  8%|▊         | 345932/4411532 [00:00<00:02, 1738229.73it/s]\u001b[A\n",
      " 12%|█▏        | 523390/4411532 [00:00<00:02, 1748975.51it/s]\u001b[A\n",
      " 16%|█▌        | 706053/4411532 [00:00<00:02, 1771566.44it/s]\u001b[A\n",
      " 20%|██        | 894992/4411532 [00:00<00:01, 1805340.36it/s]\u001b[A\n",
      " 25%|██▍       | 1091130/4411532 [00:00<00:01, 1849480.85it/s]\u001b[A\n",
      " 29%|██▉       | 1288337/4411532 [00:00<00:01, 1884624.82it/s]\u001b[A\n",
      " 34%|███▎      | 1488041/4411532 [00:00<00:01, 1916996.89it/s]\u001b[A\n",
      " 38%|███▊      | 1687893/4411532 [00:00<00:01, 1940743.32it/s]\u001b[A\n",
      " 43%|████▎     | 1890999/4411532 [00:01<00:01, 1966981.34it/s]\u001b[A\n",
      " 47%|████▋     | 2094421/4411532 [00:01<00:01, 1986680.71it/s]\u001b[A\n",
      " 52%|█████▏    | 2297921/4411532 [00:01<00:01, 2000930.18it/s]\u001b[A\n",
      " 57%|█████▋    | 2504644/4411532 [00:01<00:00, 2020366.99it/s]\u001b[A\n",
      " 61%|██████▏   | 2711630/4411532 [00:01<00:00, 2034960.85it/s]\u001b[A\n",
      " 66%|██████▌   | 2920375/4411532 [00:01<00:00, 2050427.46it/s]\u001b[A\n",
      " 71%|███████   | 3128723/4411532 [00:01<00:00, 2060231.71it/s]\u001b[A\n",
      " 76%|███████▌  | 3335340/4411532 [00:01<00:00, 2062007.25it/s]\u001b[A\n",
      " 80%|████████  | 3541824/4411532 [00:01<00:00, 2062855.38it/s]\u001b[A\n",
      " 85%|████████▍ | 3749525/4411532 [00:01<00:00, 2067080.58it/s]\u001b[A\n",
      " 90%|████████▉ | 3957692/4411532 [00:02<00:00, 2071435.00it/s]\u001b[A\n",
      " 94%|█████████▍| 4167724/4411532 [00:02<00:00, 2080015.85it/s]\u001b[A\n",
      " 99%|█████████▉| 4377040/4411532 [00:02<00:00, 2083939.36it/s]\u001b[A\n",
      " 11%|█         | 4/36 [00:11<01:29,  2.80s/it] 1983301.69it/s]\u001b[A\n",
      "  0%|          | 0/4411532 [00:00<?, ?it/s]\u001b[A\n",
      "  4%|▍         | 173999/4411532 [00:00<00:02, 1739983.36it/s]\u001b[A\n",
      "  8%|▊         | 338647/4411532 [00:00<00:02, 1710833.89it/s]\u001b[A\n",
      " 12%|█▏        | 513305/4411532 [00:00<00:02, 1721401.20it/s]\u001b[A\n",
      " 16%|█▌        | 697077/4411532 [00:00<00:02, 1754720.09it/s]\u001b[A\n",
      " 20%|█▉        | 877724/4411532 [00:00<00:01, 1769927.82it/s]\u001b[A\n",
      " 24%|██▍       | 1069334/4411532 [00:00<00:01, 1811380.97it/s]\u001b[A\n",
      " 29%|██▊       | 1263692/4411532 [00:00<00:01, 1849112.28it/s]\u001b[A\n",
      " 33%|███▎      | 1457709/4411532 [00:00<00:01, 1875517.25it/s]\u001b[A\n",
      " 38%|███▊      | 1658091/4411532 [00:00<00:01, 1912247.02it/s]\u001b[A\n",
      " 42%|████▏     | 1858421/4411532 [00:01<00:01, 1938679.67it/s]\u001b[A\n",
      " 47%|████▋     | 2061141/4411532 [00:01<00:01, 1964409.73it/s]\u001b[A\n",
      " 51%|█████▏    | 2263935/4411532 [00:01<00:01, 1983043.29it/s]\u001b[A\n",
      " 56%|█████▌    | 2467409/4411532 [00:01<00:00, 1998273.52it/s]\u001b[A\n",
      " 61%|██████    | 2670926/4411532 [00:01<00:00, 2009200.37it/s]\u001b[A\n",
      " 65%|██████▌   | 2875892/4411532 [00:01<00:00, 2021168.69it/s]\u001b[A\n",
      " 70%|██████▉   | 3082109/4411532 [00:01<00:00, 2033294.56it/s]\u001b[A\n",
      " 75%|███████▍  | 3288644/4411532 [00:01<00:00, 2042805.36it/s]\u001b[A\n",
      " 79%|███████▉  | 3492613/4411532 [00:01<00:00, 2039364.59it/s]\u001b[A\n",
      " 84%|████████▍ | 3700129/4411532 [00:01<00:00, 2049972.00it/s]\u001b[A\n",
      " 89%|████████▊ | 3905006/4411532 [00:02<00:00, 2049607.44it/s]\u001b[A\n",
      " 93%|█████████▎| 4109870/4411532 [00:02<00:00, 2043851.40it/s]\u001b[A\n",
      " 98%|█████████▊| 4315412/4411532 [00:02<00:00, 2047305.95it/s]\u001b[A\n",
      " 14%|█▍        | 5/36 [00:14<01:26,  2.81s/it] 1956762.67it/s]\u001b[A\n",
      "  0%|          | 0/4411532 [00:00<?, ?it/s]\u001b[A\n",
      "  4%|▍         | 175034/4411532 [00:00<00:02, 1750337.50it/s]\u001b[A\n",
      "  8%|▊         | 341778/4411532 [00:00<00:02, 1724614.73it/s]\u001b[A\n",
      " 12%|█▏        | 514350/4411532 [00:00<00:02, 1724945.42it/s]\u001b[A\n",
      " 16%|█▌        | 696742/4411532 [00:00<00:02, 1753489.33it/s]\u001b[A\n",
      " 20%|██        | 884769/4411532 [00:00<00:01, 1789690.57it/s]\u001b[A\n",
      " 24%|██▍       | 1078222/4411532 [00:00<00:01, 1830812.04it/s]\u001b[A\n",
      " 29%|██▉       | 1274615/4411532 [00:00<00:01, 1868811.25it/s]\u001b[A\n",
      " 33%|███▎      | 1470900/4411532 [00:00<00:01, 1896060.86it/s]\u001b[A\n",
      " 38%|███▊      | 1670259/4411532 [00:00<00:01, 1924300.59it/s]\u001b[A\n",
      " 42%|████▏     | 1869484/4411532 [00:01<00:01, 1944190.17it/s]\u001b[A\n",
      " 47%|████▋     | 2066822/4411532 [00:01<00:01, 1952853.83it/s]\u001b[A\n",
      " 51%|█████▏    | 2267226/4411532 [00:01<00:01, 1967929.42it/s]\u001b[A\n",
      " 56%|█████▌    | 2470957/4411532 [00:01<00:00, 1988240.07it/s]\u001b[A\n",
      " 61%|██████    | 2676554/4411532 [00:01<00:00, 2008083.57it/s]\u001b[A\n",
      " 65%|██████▌   | 2878972/4411532 [00:01<00:00, 2012881.83it/s]\u001b[A\n",
      " 70%|██████▉   | 3085948/4411532 [00:01<00:00, 2029613.46it/s]\u001b[A\n",
      " 75%|███████▍  | 3291968/4411532 [00:01<00:00, 2038692.77it/s]\u001b[A\n",
      " 79%|███████▉  | 3499251/4411532 [00:01<00:00, 2048814.42it/s]\u001b[A\n",
      " 84%|████████▍ | 3706972/4411532 [00:01<00:00, 2057247.45it/s]\u001b[A\n",
      " 89%|████████▊ | 3912561/4411532 [00:02<00:00, 2043041.06it/s]\u001b[A\n",
      " 93%|█████████▎| 4119971/4411532 [00:02<00:00, 2052258.31it/s]\u001b[A\n",
      " 98%|█████████▊| 4328470/4411532 [00:02<00:00, 2061968.52it/s]\u001b[A\n",
      " 17%|█▋        | 6/36 [00:16<01:24,  2.81s/it] 1962106.34it/s]\u001b[A\n",
      "  0%|          | 0/4411532 [00:00<?, ?it/s]\u001b[A\n",
      "  4%|▍         | 177014/4411532 [00:00<00:02, 1770133.25it/s]\u001b[A\n",
      "  8%|▊         | 346544/4411532 [00:00<00:02, 1746997.88it/s]\u001b[A\n",
      " 12%|█▏        | 523380/4411532 [00:00<00:02, 1753351.38it/s]\u001b[A\n",
      " 16%|█▌        | 707167/4411532 [00:00<00:02, 1777878.59it/s]\u001b[A\n",
      " 20%|██        | 898949/4411532 [00:00<00:01, 1817665.42it/s]\u001b[A\n",
      " 25%|██▍       | 1087431/4411532 [00:00<00:01, 1837303.14it/s]\u001b[A\n",
      " 29%|██▉       | 1285442/4411532 [00:00<00:01, 1877932.47it/s]\u001b[A\n",
      " 34%|███▎      | 1484049/4411532 [00:00<00:01, 1909115.96it/s]\u001b[A\n",
      " 38%|███▊      | 1685246/4411532 [00:00<00:01, 1938848.65it/s]\u001b[A\n",
      " 43%|████▎     | 1885572/4411532 [00:01<00:01, 1957730.71it/s]\u001b[A\n",
      " 47%|████▋     | 2090386/4411532 [00:01<00:01, 1984003.35it/s]\u001b[A\n",
      " 52%|█████▏    | 2294575/4411532 [00:01<00:01, 2001020.92it/s]\u001b[A\n",
      " 57%|█████▋    | 2498273/4411532 [00:01<00:00, 2011673.78it/s]\u001b[A\n",
      " 61%|██████▏   | 2702510/4411532 [00:01<00:00, 2020783.03it/s]\u001b[A\n",
      " 66%|██████▌   | 2909727/4411532 [00:01<00:00, 2035927.22it/s]\u001b[A\n",
      " 71%|███████   | 3112607/4411532 [00:01<00:00, 2032873.39it/s]\u001b[A\n",
      " 75%|███████▌  | 3316910/4411532 [00:01<00:00, 2035907.43it/s]\u001b[A\n",
      " 80%|███████▉  | 3521526/4411532 [00:01<00:00, 2038970.07it/s]\u001b[A\n",
      " 84%|████████▍ | 3725606/4411532 [00:01<00:00, 2039517.83it/s]\u001b[A\n",
      " 89%|████████▉ | 3929389/4411532 [00:02<00:00, 2033185.59it/s]\u001b[A\n",
      " 94%|█████████▍| 4136610/4411532 [00:02<00:00, 2044736.84it/s]\u001b[A\n",
      " 99%|█████████▊| 4345851/4411532 [00:02<00:00, 2058806.80it/s]\u001b[A\n",
      " 19%|█▉        | 7/36 [00:19<01:21,  2.80s/it] 1969841.09it/s]\u001b[A\n",
      "  0%|          | 0/4411532 [00:00<?, ?it/s]\u001b[A\n",
      "  4%|▍         | 176599/4411532 [00:00<00:02, 1765987.47it/s]\u001b[A\n",
      "  8%|▊         | 345595/4411532 [00:00<00:02, 1742468.48it/s]\u001b[A\n",
      " 12%|█▏        | 522967/4411532 [00:00<00:02, 1751726.95it/s]\u001b[A\n",
      " 16%|█▌        | 707396/4411532 [00:00<00:02, 1778504.63it/s]\u001b[A\n",
      " 20%|██        | 897897/4411532 [00:00<00:01, 1814655.47it/s]\u001b[A\n",
      " 25%|██▍       | 1092017/4411532 [00:00<00:01, 1850848.64it/s]\u001b[A\n",
      " 29%|██▉       | 1286434/4411532 [00:00<00:01, 1877888.54it/s]\u001b[A\n",
      " 34%|███▎      | 1483931/4411532 [00:00<00:01, 1905995.04it/s]\u001b[A\n",
      " 38%|███▊      | 1682856/4411532 [00:00<00:01, 1930229.69it/s]\u001b[A\n",
      " 43%|████▎     | 1884744/4411532 [00:01<00:01, 1955995.59it/s]\u001b[A\n",
      " 47%|████▋     | 2084472/4411532 [00:01<00:01, 1968199.76it/s]\u001b[A\n",
      " 52%|█████▏    | 2286574/4411532 [00:01<00:01, 1983751.41it/s]\u001b[A\n",
      " 56%|█████▋    | 2491087/4411532 [00:01<00:00, 2001773.79it/s]\u001b[A\n",
      " 61%|██████    | 2693772/4411532 [00:01<00:00, 2009227.56it/s]\u001b[A\n",
      " 66%|██████▌   | 2898802/4411532 [00:01<00:00, 2021371.75it/s]\u001b[A\n",
      " 70%|███████   | 3105200/4411532 [00:01<00:00, 2033967.50it/s]\u001b[A\n",
      " 75%|███████▌  | 3310452/4411532 [00:01<00:00, 2039497.07it/s]\u001b[A\n",
      " 80%|███████▉  | 3515916/4411532 [00:01<00:00, 2044014.13it/s]\u001b[A\n",
      " 84%|████████▍ | 3722724/4411532 [00:01<00:00, 2051172.55it/s]\u001b[A\n",
      " 89%|████████▉ | 3928237/4411532 [00:02<00:00, 2052357.30it/s]\u001b[A\n",
      " 94%|█████████▎| 4133361/4411532 [00:02<00:00, 2024839.61it/s]\u001b[A\n",
      " 98%|█████████▊| 4338024/4411532 [00:02<00:00, 2031322.66it/s]\u001b[A\n",
      " 22%|██▏       | 8/36 [00:22<01:18,  2.80s/it] 1963149.70it/s]\u001b[A\n",
      "  0%|          | 0/4411532 [00:00<?, ?it/s]\u001b[A\n",
      "  4%|▍         | 173916/4411532 [00:00<00:02, 1739157.51it/s]\u001b[A\n",
      "  8%|▊         | 341443/4411532 [00:00<00:02, 1719484.65it/s]\u001b[A\n",
      " 12%|█▏        | 521203/4411532 [00:00<00:02, 1742196.26it/s]\u001b[A\n",
      " 16%|█▌        | 705206/4411532 [00:00<00:02, 1770435.57it/s]\u001b[A\n",
      " 20%|██        | 893301/4411532 [00:00<00:01, 1802201.11it/s]\u001b[A\n",
      " 25%|██▍       | 1081320/4411532 [00:00<00:01, 1824907.86it/s]\u001b[A\n",
      " 29%|██▉       | 1279084/4411532 [00:00<00:01, 1868188.43it/s]\u001b[A\n",
      " 33%|███▎      | 1477564/4411532 [00:00<00:01, 1901705.25it/s]\u001b[A\n",
      " 38%|███▊      | 1677464/4411532 [00:00<00:01, 1929882.35it/s]\u001b[A\n",
      " 42%|████▏     | 1864906/4411532 [00:01<00:01, 1912899.82it/s]\u001b[A\n",
      " 47%|████▋     | 2066776/4411532 [00:01<00:01, 1943456.02it/s]\u001b[A\n",
      " 51%|█████▏    | 2269651/4411532 [00:01<00:01, 1968227.45it/s]\u001b[A\n",
      " 56%|█████▌    | 2472951/4411532 [00:01<00:00, 1987218.05it/s]\u001b[A\n",
      " 61%|██████    | 2676109/4411532 [00:01<00:00, 2000318.20it/s]\u001b[A\n",
      " 65%|██████▌   | 2881062/4411532 [00:01<00:00, 2014830.95it/s]\u001b[A\n",
      " 70%|██████▉   | 3086558/4411532 [00:01<00:00, 2026701.84it/s]\u001b[A\n",
      " 75%|███████▍  | 3294932/4411532 [00:01<00:00, 2043481.84it/s]\u001b[A\n",
      " 79%|███████▉  | 3501731/4411532 [00:01<00:00, 2050770.75it/s]\u001b[A\n",
      " 84%|████████▍ | 3707162/4411532 [00:01<00:00, 2051830.36it/s]\u001b[A\n",
      " 89%|████████▊ | 3913183/4411532 [00:02<00:00, 2054336.21it/s]\u001b[A\n",
      " 93%|█████████▎| 4119707/4411532 [00:02<00:00, 2057594.36it/s]\u001b[A\n",
      " 98%|█████████▊| 4325404/4411532 [00:02<00:00, 2053567.27it/s]\u001b[A\n",
      " 25%|██▌       | 9/36 [00:25<01:15,  2.80s/it] 1962228.27it/s]\u001b[A\n",
      "  0%|          | 0/4411532 [00:00<?, ?it/s]\u001b[A\n",
      "  4%|▍         | 175649/4411532 [00:00<00:02, 1756479.11it/s]\u001b[A\n",
      "  8%|▊         | 343678/4411532 [00:00<00:02, 1732905.87it/s]\u001b[A\n",
      " 12%|█▏        | 522214/4411532 [00:00<00:02, 1748312.42it/s]\u001b[A\n",
      " 16%|█▌        | 705938/4411532 [00:00<00:02, 1774072.73it/s]\u001b[A\n",
      " 20%|██        | 897043/4411532 [00:00<00:01, 1813058.07it/s]\u001b[A\n",
      " 25%|██▍       | 1091595/4411532 [00:00<00:01, 1850862.47it/s]\u001b[A\n",
      " 29%|██▉       | 1288471/4411532 [00:00<00:01, 1884719.90it/s]\u001b[A\n",
      " 34%|███▎      | 1485169/4411532 [00:00<00:01, 1908664.20it/s]\u001b[A\n",
      " 38%|███▊      | 1686003/4411532 [00:00<00:01, 1937510.23it/s]\u001b[A\n",
      " 43%|████▎     | 1890778/4411532 [00:01<00:01, 1969314.60it/s]\u001b[A\n",
      " 47%|████▋     | 2093588/4411532 [00:01<00:01, 1986587.03it/s]\u001b[A\n",
      " 52%|█████▏    | 2298401/4411532 [00:01<00:01, 2004655.80it/s]\u001b[A\n",
      " 57%|█████▋    | 2502874/4411532 [00:01<00:00, 2016511.29it/s]\u001b[A\n",
      " 61%|██████▏   | 2706220/4411532 [00:01<00:00, 2021563.87it/s]\u001b[A\n",
      " 66%|██████▌   | 2910328/4411532 [00:01<00:00, 2027378.54it/s]\u001b[A\n",
      " 71%|███████   | 3116764/4411532 [00:01<00:00, 2038329.36it/s]\u001b[A\n",
      " 75%|███████▌  | 3321206/4411532 [00:01<00:00, 2040150.41it/s]\u001b[A\n",
      " 80%|███████▉  | 3524873/4411532 [00:01<00:00, 2034740.15it/s]\u001b[A\n",
      " 85%|████████▍ | 3728107/4411532 [00:01<00:00, 2033692.53it/s]\u001b[A\n",
      " 89%|████████▉ | 3933794/4411532 [00:02<00:00, 2040589.87it/s]\u001b[A\n",
      " 94%|█████████▍| 4139893/4411532 [00:02<00:00, 2046665.05it/s]\u001b[A\n",
      " 99%|█████████▊| 4346333/4411532 [00:02<00:00, 2051952.59it/s]\u001b[A\n",
      " 28%|██▊       | 10/36 [00:28<01:12,  2.80s/it]1970181.92it/s]\u001b[A\n",
      "  0%|          | 0/4411532 [00:00<?, ?it/s]\u001b[A\n",
      "  4%|▍         | 175963/4411532 [00:00<00:02, 1759627.48it/s]\u001b[A\n",
      "  8%|▊         | 343598/4411532 [00:00<00:02, 1733784.88it/s]\u001b[A\n",
      " 12%|█▏        | 519206/4411532 [00:00<00:02, 1740413.01it/s]\u001b[A\n",
      " 16%|█▌        | 701943/4411532 [00:00<00:02, 1765615.38it/s]\u001b[A\n",
      " 20%|██        | 887528/4411532 [00:00<00:01, 1791747.57it/s]\u001b[A\n",
      " 24%|██▍       | 1070476/4411532 [00:00<00:01, 1802897.01it/s]\u001b[A\n",
      " 29%|██▊       | 1261953/4411532 [00:00<00:01, 1835061.03it/s]\u001b[A\n",
      " 33%|███▎      | 1454770/4411532 [00:00<00:01, 1862032.32it/s]\u001b[A\n",
      " 37%|███▋      | 1650598/4411532 [00:00<00:01, 1889896.26it/s]\u001b[A\n",
      " 42%|████▏     | 1848311/4411532 [00:01<00:01, 1915243.83it/s]\u001b[A\n",
      " 46%|████▋     | 2049408/4411532 [00:01<00:01, 1942987.41it/s]\u001b[A\n",
      " 51%|█████     | 2248048/4411532 [00:01<00:01, 1955809.80it/s]\u001b[A\n",
      " 55%|█████▌    | 2447701/4411532 [00:01<00:00, 1967848.16it/s]\u001b[A\n",
      " 60%|█████▉    | 2646683/4411532 [00:01<00:00, 1974387.75it/s]\u001b[A\n",
      " 65%|██████▍   | 2847408/4411532 [00:01<00:00, 1984130.64it/s]\u001b[A\n",
      " 69%|██████▉   | 3048509/4411532 [00:01<00:00, 1992115.03it/s]\u001b[A\n",
      " 74%|███████▎  | 3249122/4411532 [00:01<00:00, 1996298.06it/s]\u001b[A\n",
      " 78%|███████▊  | 3450656/4411532 [00:01<00:00, 2001971.90it/s]\u001b[A\n",
      " 83%|████████▎ | 3650611/4411532 [00:01<00:00, 2001026.12it/s]\u001b[A\n",
      " 87%|████████▋ | 3850544/4411532 [00:02<00:00, 2000375.82it/s]\u001b[A\n",
      " 92%|█████████▏| 4052025/4411532 [00:02<00:00, 2004682.03it/s]\u001b[A\n",
      " 96%|█████████▋| 4254656/4411532 [00:02<00:00, 2011119.50it/s]\u001b[A\n",
      " 31%|███       | 11/36 [00:30<01:10,  2.81s/it]1934395.80it/s]\u001b[A\n",
      "  0%|          | 0/4411532 [00:00<?, ?it/s]\u001b[A\n",
      "  4%|▍         | 174928/4411532 [00:00<00:02, 1749277.50it/s]\u001b[A\n",
      "  8%|▊         | 344646/4411532 [00:00<00:02, 1733313.45it/s]\u001b[A\n",
      " 12%|█▏        | 521681/4411532 [00:00<00:02, 1744259.94it/s]\u001b[A\n",
      " 16%|█▌        | 704911/4411532 [00:00<00:02, 1769769.88it/s]\u001b[A\n",
      " 20%|██        | 893096/4411532 [00:00<00:01, 1801965.86it/s]\u001b[A\n",
      " 25%|██▍       | 1088104/4411532 [00:00<00:01, 1843980.58it/s]\u001b[A\n",
      " 29%|██▉       | 1284270/4411532 [00:00<00:01, 1877772.68it/s]\u001b[A\n",
      " 34%|███▎      | 1485230/4411532 [00:00<00:01, 1915467.61it/s]\u001b[A\n",
      " 38%|███▊      | 1678623/4411532 [00:00<00:01, 1920968.39it/s]\u001b[A\n",
      " 43%|████▎     | 1881683/4411532 [00:01<00:01, 1952592.27it/s]\u001b[A\n",
      " 47%|████▋     | 2084707/4411532 [00:01<00:01, 1975253.52it/s]\u001b[A\n",
      " 52%|█████▏    | 2289050/4411532 [00:01<00:01, 1995223.13it/s]\u001b[A\n",
      " 57%|█████▋    | 2493467/4411532 [00:01<00:00, 2009658.44it/s]\u001b[A\n",
      " 61%|██████    | 2699597/4411532 [00:01<00:00, 2024876.30it/s]\u001b[A\n",
      " 66%|██████▌   | 2904038/4411532 [00:01<00:00, 2030696.24it/s]\u001b[A\n",
      " 70%|███████   | 3108812/4411532 [00:01<00:00, 2035777.19it/s]\u001b[A\n",
      " 75%|███████▌  | 3314251/4411532 [00:01<00:00, 2041321.75it/s]\u001b[A\n",
      " 80%|███████▉  | 3520496/4411532 [00:01<00:00, 2047612.31it/s]\u001b[A\n",
      " 85%|████████▍ | 3727985/4411532 [00:01<00:00, 2055719.13it/s]\u001b[A\n",
      " 89%|████████▉ | 3933986/4411532 [00:02<00:00, 2057002.16it/s]\u001b[A\n",
      " 94%|█████████▍| 4141537/4411532 [00:02<00:00, 2062515.95it/s]\u001b[A\n",
      " 99%|█████████▊| 4347717/4411532 [00:02<00:00, 2049932.55it/s]\u001b[A\n",
      " 33%|███▎      | 12/36 [00:33<01:07,  2.81s/it]1969232.29it/s]\u001b[A\n",
      "  0%|          | 0/4411532 [00:00<?, ?it/s]\u001b[A\n",
      "  4%|▍         | 174451/4411532 [00:00<00:02, 1744507.50it/s]\u001b[A\n",
      "  8%|▊         | 343080/4411532 [00:00<00:02, 1726623.74it/s]\u001b[A\n",
      " 12%|█▏        | 519396/4411532 [00:00<00:02, 1737422.67it/s]\u001b[A\n",
      " 16%|█▌        | 705285/4411532 [00:00<00:02, 1772162.01it/s]\u001b[A\n",
      " 20%|██        | 896166/4411532 [00:00<00:01, 1811055.06it/s]\u001b[A\n",
      " 25%|██▍       | 1088166/4411532 [00:00<00:01, 1842414.60it/s]\u001b[A\n",
      " 29%|██▉       | 1286116/4411532 [00:00<00:01, 1881502.24it/s]\u001b[A\n",
      " 34%|███▎      | 1485451/4411532 [00:00<00:01, 1913713.98it/s]\u001b[A\n",
      " 38%|███▊      | 1686514/4411532 [00:00<00:01, 1941791.22it/s]\u001b[A\n",
      " 43%|████▎     | 1889082/4411532 [00:01<00:01, 1966216.94it/s]\u001b[A\n",
      " 47%|████▋     | 2088600/4411532 [00:01<00:01, 1974813.54it/s]\u001b[A\n",
      " 52%|█████▏    | 2292668/4411532 [00:01<00:01, 1994119.04it/s]\u001b[A\n",
      " 57%|█████▋    | 2495544/4411532 [00:01<00:00, 2004382.79it/s]\u001b[A\n",
      " 61%|██████    | 2701028/4411532 [00:01<00:00, 2019255.57it/s]\u001b[A\n",
      " 66%|██████▌   | 2904725/4411532 [00:01<00:00, 2024533.72it/s]\u001b[A\n",
      " 71%|███████   | 3111497/4411532 [00:01<00:00, 2037295.26it/s]\u001b[A\n",
      " 75%|███████▌  | 3317247/4411532 [00:01<00:00, 2043308.21it/s]\u001b[A\n",
      " 80%|███████▉  | 3522702/4411532 [00:01<00:00, 2046666.94it/s]\u001b[A\n",
      " 85%|████████▍ | 3728028/4411532 [00:01<00:00, 2048639.53it/s]\u001b[A\n",
      " 89%|████████▉ | 3932729/4411532 [00:02<00:00, 2044588.05it/s]\u001b[A\n",
      " 94%|█████████▍| 4137119/4411532 [00:02<00:00, 2044379.24it/s]\u001b[A\n",
      " 98%|█████████▊| 4341479/4411532 [00:02<00:00, 2039948.54it/s]\u001b[A\n",
      " 36%|███▌      | 13/36 [00:36<01:04,  2.81s/it]1967819.70it/s]\u001b[A\n",
      "  0%|          | 0/4411532 [00:00<?, ?it/s]\u001b[A\n",
      "  4%|▍         | 174850/4411532 [00:00<00:02, 1748489.16it/s]\u001b[A\n",
      "  8%|▊         | 341962/4411532 [00:00<00:02, 1724535.73it/s]\u001b[A\n",
      " 12%|█▏        | 519261/4411532 [00:00<00:02, 1738789.68it/s]\u001b[A\n",
      " 16%|█▌        | 703925/4411532 [00:00<00:02, 1769795.27it/s]\u001b[A\n",
      " 20%|██        | 892599/4411532 [00:00<00:01, 1803324.46it/s]\u001b[A\n",
      " 25%|██▍       | 1085832/4411532 [00:00<00:01, 1840178.50it/s]\u001b[A\n",
      " 29%|██▉       | 1280191/4411532 [00:00<00:01, 1870024.41it/s]\u001b[A\n",
      " 33%|███▎      | 1477198/4411532 [00:00<00:01, 1898953.87it/s]\u001b[A\n",
      " 38%|███▊      | 1676904/4411532 [00:00<00:01, 1927356.35it/s]\u001b[A\n",
      " 42%|████▏     | 1874252/4411532 [00:01<00:01, 1940963.28it/s]\u001b[A\n",
      " 47%|████▋     | 2076652/4411532 [00:01<00:01, 1965146.43it/s]\u001b[A\n",
      " 52%|█████▏    | 2278653/4411532 [00:01<00:01, 1981289.18it/s]\u001b[A\n",
      " 56%|█████▋    | 2482306/4411532 [00:01<00:00, 1997543.34it/s]\u001b[A\n",
      " 61%|██████    | 2686409/4411532 [00:01<00:00, 2010391.25it/s]\u001b[A\n",
      " 66%|██████▌   | 2892169/4411532 [00:01<00:00, 2024323.98it/s]\u001b[A\n",
      " 70%|███████   | 3095638/4411532 [00:01<00:00, 2027418.92it/s]\u001b[A\n",
      " 75%|███████▍  | 3299975/4411532 [00:01<00:00, 2032177.17it/s]\u001b[A\n",
      " 79%|███████▉  | 3506356/4411532 [00:01<00:00, 2041562.42it/s]\u001b[A\n",
      " 84%|████████▍ | 3712718/4411532 [00:01<00:00, 2048126.24it/s]\u001b[A\n",
      " 89%|████████▉ | 3918900/4411532 [00:02<00:00, 2052214.36it/s]\u001b[A\n",
      " 93%|█████████▎| 4124015/4411532 [00:02<00:00, 2047750.48it/s]\u001b[A\n",
      " 98%|█████████▊| 4331274/4411532 [00:02<00:00, 2055137.26it/s]\u001b[A\n",
      " 39%|███▉      | 14/36 [00:39<01:01,  2.81s/it]1963470.51it/s]\u001b[A\n",
      "  0%|          | 0/4411532 [00:00<?, ?it/s]\u001b[A\n",
      "  4%|▍         | 176397/4411532 [00:00<00:02, 1763959.07it/s]\u001b[A\n",
      "  8%|▊         | 346809/4411532 [00:00<00:02, 1745569.92it/s]\u001b[A\n",
      " 12%|█▏        | 522628/4411532 [00:00<00:02, 1749334.89it/s]\u001b[A\n",
      " 16%|█▌        | 700229/4411532 [00:00<00:02, 1757250.92it/s]\u001b[A\n",
      " 20%|██        | 887942/4411532 [00:00<00:01, 1791573.56it/s]\u001b[A\n",
      " 24%|██▍       | 1079245/4411532 [00:00<00:01, 1826357.71it/s]\u001b[A\n",
      " 29%|██▉       | 1275531/4411532 [00:00<00:01, 1865271.69it/s]\u001b[A\n",
      " 33%|███▎      | 1471886/4411532 [00:00<00:01, 1893703.06it/s]\u001b[A\n",
      " 38%|███▊      | 1670535/4411532 [00:00<00:01, 1920613.94it/s]\u001b[A\n",
      " 42%|████▏     | 1869422/4411532 [00:01<00:01, 1940592.91it/s]\u001b[A\n",
      " 47%|████▋     | 2071003/4411532 [00:01<00:01, 1962559.79it/s]\u001b[A\n",
      " 52%|█████▏    | 2272758/4411532 [00:01<00:01, 1978738.67it/s]\u001b[A\n",
      " 56%|█████▌    | 2474985/4411532 [00:01<00:00, 1991597.77it/s]\u001b[A\n",
      " 61%|██████    | 2676495/4411532 [00:01<00:00, 1998589.82it/s]\u001b[A\n",
      " 65%|██████▌   | 2880321/4411532 [00:01<00:00, 2010326.93it/s]\u001b[A\n",
      " 70%|██████▉   | 3085405/4411532 [00:01<00:00, 2022310.93it/s]\u001b[A\n",
      " 75%|███████▍  | 3287142/4411532 [00:01<00:00, 2010812.32it/s]\u001b[A\n",
      " 79%|███████▉  | 3491436/4411532 [00:01<00:00, 2020341.73it/s]\u001b[A\n",
      " 84%|████████▍ | 3696909/4411532 [00:01<00:00, 2030534.45it/s]\u001b[A\n",
      " 88%|████████▊ | 3901834/4411532 [00:02<00:00, 2036110.80it/s]\u001b[A\n",
      " 93%|█████████▎| 4107038/4411532 [00:02<00:00, 2040861.21it/s]\u001b[A\n",
      " 98%|█████████▊| 4311825/4411532 [00:02<00:00, 2042956.47it/s]\u001b[A\n",
      " 42%|████▏     | 15/36 [00:42<00:58,  2.80s/it]1955025.16it/s]\u001b[A\n",
      "  0%|          | 0/4411532 [00:00<?, ?it/s]\u001b[A\n",
      "  4%|▍         | 175580/4411532 [00:00<00:02, 1755793.30it/s]\u001b[A\n",
      "  8%|▊         | 344666/4411532 [00:00<00:02, 1735794.85it/s]\u001b[A\n",
      " 12%|█▏        | 521438/4411532 [00:00<00:02, 1745248.69it/s]\u001b[A\n",
      " 16%|█▌        | 706644/4411532 [00:00<00:02, 1775973.76it/s]\u001b[A\n",
      " 20%|██        | 895526/4411532 [00:00<00:01, 1808384.01it/s]\u001b[A\n",
      " 25%|██▍       | 1080906/4411532 [00:00<00:01, 1821771.37it/s]\u001b[A\n",
      " 29%|██▉       | 1278092/4411532 [00:00<00:01, 1864339.57it/s]\u001b[A\n",
      " 33%|███▎      | 1474300/4411532 [00:00<00:01, 1892621.63it/s]\u001b[A\n",
      " 38%|███▊      | 1674603/4411532 [00:00<00:01, 1924443.84it/s]\u001b[A\n",
      " 43%|████▎     | 1875056/4411532 [00:01<00:01, 1947787.45it/s]\u001b[A\n",
      " 47%|████▋     | 2074688/4411532 [00:01<00:01, 1962096.79it/s]\u001b[A\n",
      " 52%|█████▏    | 2276455/4411532 [00:01<00:01, 1978442.42it/s]\u001b[A\n",
      " 56%|█████▌    | 2478777/4411532 [00:01<00:00, 1991663.94it/s]\u001b[A\n",
      " 61%|██████    | 2682753/4411532 [00:01<00:00, 2005852.06it/s]\u001b[A\n",
      " 65%|██████▌   | 2887530/4411532 [00:01<00:00, 2018243.86it/s]\u001b[A\n",
      " 70%|███████   | 3094456/4411532 [00:01<00:00, 2033281.75it/s]\u001b[A\n",
      " 75%|███████▍  | 3299786/4411532 [00:01<00:00, 2039243.80it/s]\u001b[A\n",
      " 79%|███████▉  | 3503748/4411532 [00:01<00:00, 2039355.77it/s]\u001b[A\n",
      " 84%|████████▍ | 3708210/4411532 [00:01<00:00, 2040931.32it/s]\u001b[A\n",
      " 89%|████████▊ | 3913616/4411532 [00:02<00:00, 2044848.48it/s]\u001b[A\n",
      " 93%|█████████▎| 4120734/4411532 [00:02<00:00, 2052676.49it/s]\u001b[A\n",
      " 98%|█████████▊| 4327233/4411532 [00:02<00:00, 2056352.76it/s]\u001b[A\n",
      " 44%|████▍     | 16/36 [00:44<00:56,  2.80s/it]1963216.36it/s]\u001b[A\n",
      "  0%|          | 0/4411532 [00:00<?, ?it/s]\u001b[A\n",
      "  4%|▍         | 174602/4411532 [00:00<00:02, 1746017.50it/s]\u001b[A\n",
      "  8%|▊         | 343803/4411532 [00:00<00:02, 1729453.38it/s]\u001b[A\n",
      " 12%|█▏        | 519378/4411532 [00:00<00:02, 1737257.32it/s]\u001b[A\n",
      " 16%|█▌        | 703733/4411532 [00:00<00:02, 1767834.77it/s]\u001b[A\n",
      " 20%|██        | 892572/4411532 [00:00<00:01, 1802351.59it/s]\u001b[A\n",
      " 25%|██▍       | 1087311/4411532 [00:00<00:01, 1843539.56it/s]\u001b[A\n",
      " 29%|██▉       | 1282708/4411532 [00:00<00:01, 1875334.69it/s]\u001b[A\n",
      " 34%|███▎      | 1482678/4411532 [00:00<00:01, 1910987.06it/s]\u001b[A\n",
      " 38%|███▊      | 1680579/4411532 [00:00<00:01, 1930897.02it/s]\u001b[A\n",
      " 43%|████▎     | 1883152/4411532 [00:01<00:01, 1958399.16it/s]\u001b[A\n",
      " 47%|████▋     | 2087399/4411532 [00:01<00:01, 1982882.43it/s]\u001b[A\n",
      " 52%|█████▏    | 2287205/4411532 [00:01<00:01, 1987407.76it/s]\u001b[A\n",
      " 56%|█████▋    | 2491960/4411532 [00:01<00:00, 2005072.51it/s]\u001b[A\n",
      " 61%|██████    | 2698323/4411532 [00:01<00:00, 2022284.13it/s]\u001b[A\n",
      " 66%|██████▌   | 2903091/4411532 [00:01<00:00, 2029834.20it/s]\u001b[A\n",
      " 70%|███████   | 3107760/4411532 [00:01<00:00, 2034857.95it/s]\u001b[A\n",
      " 75%|███████▌  | 3314559/4411532 [00:01<00:00, 2044684.69it/s]\u001b[A\n",
      " 80%|███████▉  | 3523469/4411532 [00:01<00:00, 2057808.84it/s]\u001b[A\n",
      " 85%|████████▍ | 3729039/4411532 [00:01<00:00, 2043958.09it/s]\u001b[A\n",
      " 89%|████████▉ | 3936760/4411532 [00:02<00:00, 2053820.47it/s]\u001b[A\n",
      " 94%|█████████▍| 4144044/4411532 [00:02<00:00, 2059487.24it/s]\u001b[A\n",
      " 99%|█████████▊| 4351706/4411532 [00:02<00:00, 2064596.43it/s]\u001b[A\n",
      " 47%|████▋     | 17/36 [00:47<00:53,  2.80s/it]1970989.48it/s]\u001b[A\n",
      "  0%|          | 0/4411532 [00:00<?, ?it/s]\u001b[A\n",
      "  4%|▍         | 174281/4411532 [00:00<00:02, 1742807.51it/s]\u001b[A\n",
      "  8%|▊         | 342875/4411532 [00:00<00:02, 1725346.45it/s]\u001b[A\n",
      " 12%|█▏        | 520411/4411532 [00:00<00:02, 1740051.39it/s]\u001b[A\n",
      " 16%|█▌        | 703159/4411532 [00:00<00:02, 1765386.87it/s]\u001b[A\n",
      " 20%|██        | 893784/4411532 [00:00<00:01, 1805409.60it/s]\u001b[A\n",
      " 25%|██▍       | 1086944/4411532 [00:00<00:01, 1841498.87it/s]\u001b[A\n",
      " 29%|██▉       | 1283672/4411532 [00:00<00:01, 1877509.31it/s]\u001b[A\n",
      " 34%|███▎      | 1483900/4411532 [00:00<00:01, 1913275.88it/s]\u001b[A\n",
      " 38%|███▊      | 1685724/4411532 [00:00<00:01, 1943598.42it/s]\u001b[A\n",
      " 43%|████▎     | 1888969/4411532 [00:01<00:01, 1969426.54it/s]\u001b[A\n",
      " 47%|████▋     | 2093567/4411532 [00:01<00:01, 1991780.63it/s]\u001b[A\n",
      " 52%|█████▏    | 2298986/4411532 [00:01<00:01, 2010100.75it/s]\u001b[A\n",
      " 57%|█████▋    | 2504070/4411532 [00:01<00:00, 2022147.85it/s]\u001b[A\n",
      " 61%|██████▏   | 2710623/4411532 [00:01<00:00, 2034967.65it/s]\u001b[A\n",
      " 66%|██████▌   | 2916119/4411532 [00:01<00:00, 2040922.07it/s]\u001b[A\n",
      " 71%|███████   | 3122418/4411532 [00:01<00:00, 2047490.39it/s]\u001b[A\n",
      " 75%|███████▌  | 3327707/4411532 [00:01<00:00, 2049106.41it/s]\u001b[A\n",
      " 80%|████████  | 3533698/4411532 [00:01<00:00, 2052334.69it/s]\u001b[A\n",
      " 85%|████████▍ | 3739114/4411532 [00:01<00:00, 2052881.06it/s]\u001b[A\n",
      " 89%|████████▉ | 3944236/4411532 [00:02<00:00, 2026196.23it/s]\u001b[A\n",
      " 94%|█████████▍| 4151367/4411532 [00:02<00:00, 2039518.93it/s]\u001b[A\n",
      " 99%|█████████▉| 4358351/4411532 [00:02<00:00, 2048520.69it/s]\u001b[A\n",
      " 50%|█████     | 18/36 [00:50<00:50,  2.80s/it]1971554.20it/s]\u001b[A\n",
      "  0%|          | 0/4411532 [00:00<?, ?it/s]\u001b[A\n",
      "  4%|▍         | 175266/4411532 [00:00<00:02, 1752653.31it/s]\u001b[A\n",
      "  8%|▊         | 346084/4411532 [00:00<00:02, 1739066.76it/s]\u001b[A\n",
      " 12%|█▏        | 520916/4411532 [00:00<00:02, 1741829.20it/s]\u001b[A\n",
      " 16%|█▌        | 704401/4411532 [00:00<00:02, 1768727.87it/s]\u001b[A\n",
      " 20%|██        | 894945/4411532 [00:00<00:01, 1807635.60it/s]\u001b[A\n",
      " 25%|██▍       | 1088746/4411532 [00:00<00:01, 1844867.40it/s]\u001b[A\n",
      " 29%|██▉       | 1282027/4411532 [00:00<00:01, 1870394.90it/s]\u001b[A\n",
      " 33%|███▎      | 1454992/4411532 [00:00<00:01, 1682995.61it/s]\u001b[A\n",
      " 37%|███▋      | 1616990/4411532 [00:00<00:01, 1425414.17it/s]\u001b[A\n",
      " 41%|████      | 1810635/4411532 [00:01<00:01, 1547967.90it/s]\u001b[A\n",
      " 45%|████▌     | 1997142/4411532 [00:01<00:01, 1631167.41it/s]\u001b[A\n",
      " 50%|████▉     | 2195586/4411532 [00:01<00:01, 1723195.43it/s]\u001b[A\n",
      " 54%|█████▍    | 2396776/4411532 [00:01<00:01, 1800714.71it/s]\u001b[A\n",
      " 59%|█████▉    | 2598952/4411532 [00:01<00:00, 1861779.04it/s]\u001b[A\n",
      " 64%|██████▎   | 2802330/4411532 [00:01<00:00, 1910241.71it/s]\u001b[A\n",
      " 68%|██████▊   | 3007751/4411532 [00:01<00:00, 1951265.68it/s]\u001b[A\n",
      " 73%|███████▎  | 3212726/4411532 [00:01<00:00, 1979799.19it/s]\u001b[A\n",
      " 77%|███████▋  | 3418632/4411532 [00:01<00:00, 2002925.61it/s]\u001b[A\n",
      " 82%|████████▏ | 3625215/4411532 [00:01<00:00, 2021390.13it/s]\u001b[A\n",
      " 87%|████████▋ | 3831506/4411532 [00:02<00:00, 2033668.67it/s]\u001b[A\n",
      " 92%|█████████▏| 4037636/4411532 [00:02<00:00, 2041877.66it/s]\u001b[A\n",
      " 96%|█████████▌| 4244237/4411532 [00:02<00:00, 2049055.63it/s]\u001b[A\n",
      " 53%|█████▎    | 19/36 [00:53<00:48,  2.83s/it]1865572.36it/s]\u001b[A\n",
      "  0%|          | 0/4411532 [00:00<?, ?it/s]\u001b[A\n",
      "  4%|▎         | 163762/4411532 [00:00<00:02, 1563909.78it/s]\u001b[A\n",
      "  8%|▊         | 332909/4411532 [00:00<00:02, 1600110.28it/s]\u001b[A\n",
      " 12%|█▏        | 508780/4411532 [00:00<00:02, 1644601.40it/s]\u001b[A\n",
      " 16%|█▌        | 692297/4411532 [00:00<00:02, 1697481.97it/s]\u001b[A\n",
      " 20%|█▉        | 880191/4411532 [00:00<00:02, 1748128.78it/s]\u001b[A\n",
      " 24%|██▍       | 1072660/4411532 [00:00<00:01, 1797598.84it/s]\u001b[A\n",
      " 29%|██▊       | 1267896/4411532 [00:00<00:01, 1841387.46it/s]\u001b[A\n",
      " 33%|███▎      | 1461845/4411532 [00:00<00:01, 1869758.05it/s]\u001b[A\n",
      " 38%|███▊      | 1661178/4411532 [00:00<00:01, 1905188.35it/s]\u001b[A\n",
      " 42%|████▏     | 1863168/4411532 [00:01<00:01, 1938206.61it/s]\u001b[A\n",
      " 47%|████▋     | 2065671/4411532 [00:01<00:01, 1963459.53it/s]\u001b[A\n",
      " 51%|█████▏    | 2268857/4411532 [00:01<00:01, 1983490.35it/s]\u001b[A\n",
      " 56%|█████▌    | 2472297/4411532 [00:01<00:00, 1998492.84it/s]\u001b[A\n",
      " 61%|██████    | 2675594/4411532 [00:01<00:00, 2008711.72it/s]\u001b[A\n",
      " 65%|██████▌   | 2881194/4411532 [00:01<00:00, 2022667.36it/s]\u001b[A\n",
      " 70%|██████▉   | 3087927/4411532 [00:01<00:00, 2035861.34it/s]\u001b[A\n",
      " 75%|███████▍  | 3293987/4411532 [00:01<00:00, 2043218.03it/s]\u001b[A\n",
      " 79%|███████▉  | 3498414/4411532 [00:01<00:00, 2043532.63it/s]\u001b[A\n",
      " 84%|████████▍ | 3702615/4411532 [00:01<00:00, 2043071.80it/s]\u001b[A\n",
      " 89%|████████▊ | 3907436/4411532 [00:02<00:00, 2044609.68it/s]\u001b[A\n",
      " 93%|█████████▎| 4112259/4411532 [00:02<00:00, 2045690.63it/s]\u001b[A\n",
      " 98%|█████████▊| 4316768/4411532 [00:02<00:00, 2044824.90it/s]\u001b[A\n",
      " 56%|█████▌    | 20/36 [00:56<00:45,  2.82s/it]1953997.42it/s]\u001b[A\n",
      "  0%|          | 0/4411532 [00:00<?, ?it/s]\u001b[A\n",
      "  4%|▍         | 175496/4411532 [00:00<00:02, 1754957.49it/s]\u001b[A\n",
      "  8%|▊         | 344522/4411532 [00:00<00:02, 1735033.34it/s]\u001b[A\n",
      " 12%|█▏        | 515980/4411532 [00:00<00:02, 1728845.53it/s]\u001b[A\n",
      " 14%|█▍        | 629605/4411532 [00:00<00:02, 1494944.28it/s]\u001b[A\n",
      " 17%|█▋        | 742604/4411532 [00:00<00:02, 1291902.33it/s]\u001b[A\n",
      " 20%|█▉        | 865528/4411532 [00:00<00:02, 1220302.05it/s]\u001b[A\n",
      " 22%|██▏       | 977625/4411532 [00:00<00:02, 1171189.08it/s]\u001b[A\n",
      " 25%|██▍       | 1090724/4411532 [00:00<00:02, 1135995.67it/s]\u001b[A\n",
      " 29%|██▉       | 1271693/4411532 [00:00<00:02, 1278814.87it/s]\u001b[A\n",
      " 33%|███▎      | 1459828/4411532 [00:01<00:02, 1414742.56it/s]\u001b[A\n",
      " 37%|███▋      | 1651696/4411532 [00:01<00:01, 1535747.98it/s]\u001b[A\n",
      " 42%|████▏     | 1847536/4411532 [00:01<00:01, 1642061.88it/s]\u001b[A\n",
      " 46%|████▋     | 2047231/4411532 [00:01<00:01, 1734535.14it/s]\u001b[A\n",
      " 51%|█████     | 2248980/4411532 [00:01<00:01, 1810719.91it/s]\u001b[A\n",
      " 56%|█████▌    | 2449960/4411532 [00:01<00:01, 1866173.96it/s]\u001b[A\n",
      " 60%|██████    | 2650758/4411532 [00:01<00:00, 1906565.13it/s]\u001b[A\n",
      " 65%|██████▍   | 2850539/4411532 [00:01<00:00, 1933049.15it/s]\u001b[A\n",
      " 69%|██████▉   | 3051491/4411532 [00:01<00:00, 1955367.34it/s]\u001b[A\n",
      " 74%|███████▍  | 3255385/4411532 [00:01<00:00, 1979707.25it/s]\u001b[A\n",
      " 78%|███████▊  | 3461206/4411532 [00:02<00:00, 2002619.79it/s]\u001b[A\n",
      " 83%|████████▎ | 3664792/4411532 [00:02<00:00, 2012475.04it/s]\u001b[A\n",
      " 88%|████████▊ | 3867710/4411532 [00:02<00:00, 2017455.28it/s]\u001b[A\n",
      " 92%|█████████▏| 4075444/4411532 [00:02<00:00, 2035054.15it/s]\u001b[A\n",
      " 97%|█████████▋| 4281268/4411532 [00:02<00:00, 2041954.00it/s]\u001b[A\n",
      " 58%|█████▊    | 21/36 [00:59<00:43,  2.89s/it]1756732.62it/s]\u001b[A\n",
      "  0%|          | 0/4411532 [00:00<?, ?it/s]\u001b[A\n",
      "  4%|▍         | 174887/4411532 [00:00<00:02, 1748867.50it/s]\u001b[A\n",
      "  8%|▊         | 341549/4411532 [00:00<00:02, 1723352.55it/s]\u001b[A\n",
      " 12%|█▏        | 518337/4411532 [00:00<00:02, 1736471.52it/s]\u001b[A\n",
      " 16%|█▌        | 697835/4411532 [00:00<00:02, 1746621.79it/s]\u001b[A\n",
      " 20%|██        | 885547/4411532 [00:00<00:01, 1783824.76it/s]\u001b[A\n",
      " 24%|██▍       | 1076731/4411532 [00:00<00:01, 1820390.37it/s]\u001b[A\n",
      " 29%|██▊       | 1267336/4411532 [00:00<00:01, 1845266.75it/s]\u001b[A\n",
      " 33%|███▎      | 1462578/4411532 [00:00<00:01, 1876156.30it/s]\u001b[A\n",
      " 38%|███▊      | 1662236/4411532 [00:00<00:01, 1910729.22it/s]\u001b[A\n",
      " 42%|████▏     | 1864623/4411532 [00:01<00:01, 1943317.09it/s]\u001b[A\n",
      " 47%|████▋     | 2067033/4411532 [00:01<00:01, 1966863.14it/s]\u001b[A\n",
      " 51%|█████▏    | 2270636/4411532 [00:01<00:01, 1987112.46it/s]\u001b[A\n",
      " 56%|█████▌    | 2472118/4411532 [00:01<00:00, 1995342.12it/s]\u001b[A\n",
      " 61%|██████    | 2676820/4411532 [00:01<00:00, 2010567.16it/s]\u001b[A\n",
      " 65%|██████▌   | 2881795/4411532 [00:01<00:00, 2022161.53it/s]\u001b[A\n",
      " 70%|██████▉   | 3086345/4411532 [00:01<00:00, 2029106.09it/s]\u001b[A\n",
      " 75%|███████▍  | 3291863/4411532 [00:01<00:00, 2036856.22it/s]\u001b[A\n",
      " 79%|███████▉  | 3499438/4411532 [00:01<00:00, 2048368.14it/s]\u001b[A\n",
      " 84%|████████▍ | 3705553/4411532 [00:01<00:00, 2052183.68it/s]\u001b[A\n",
      " 89%|████████▊ | 3910625/4411532 [00:02<00:00, 2044848.32it/s]\u001b[A\n",
      " 93%|█████████▎| 4115013/4411532 [00:02<00:00, 2039111.97it/s]\u001b[A\n",
      " 98%|█████████▊| 4319627/4411532 [00:02<00:00, 2041214.43it/s]\u001b[A\n",
      " 61%|██████    | 22/36 [01:01<00:40,  2.86s/it]1956720.87it/s]\u001b[A\n",
      "  0%|          | 0/4411532 [00:00<?, ?it/s]\u001b[A\n",
      "  4%|▍         | 176909/4411532 [00:00<00:02, 1769083.25it/s]\u001b[A\n",
      "  8%|▊         | 346054/4411532 [00:00<00:02, 1745053.11it/s]\u001b[A\n",
      " 12%|█▏        | 521908/4411532 [00:00<00:02, 1749074.17it/s]\u001b[A\n",
      " 16%|█▌        | 704531/4411532 [00:00<00:02, 1771526.85it/s]\u001b[A\n",
      " 20%|██        | 890879/4411532 [00:00<00:01, 1798143.64it/s]\u001b[A\n",
      " 25%|██▍       | 1084737/4411532 [00:00<00:01, 1838088.63it/s]\u001b[A\n",
      " 29%|██▉       | 1279291/4411532 [00:00<00:01, 1869056.03it/s]\u001b[A\n",
      " 33%|███▎      | 1474666/4411532 [00:00<00:01, 1893680.96it/s]\u001b[A\n",
      " 38%|███▊      | 1674039/4411532 [00:00<00:01, 1922624.42it/s]\u001b[A\n",
      " 43%|████▎     | 1875826/4411532 [00:01<00:01, 1950236.94it/s]\u001b[A\n",
      " 47%|████▋     | 2076709/4411532 [00:01<00:01, 1967451.96it/s]\u001b[A\n",
      " 52%|█████▏    | 2279546/4411532 [00:01<00:01, 1985338.84it/s]\u001b[A\n",
      " 56%|█████▋    | 2484074/4411532 [00:01<00:00, 2002948.17it/s]\u001b[A\n",
      " 61%|██████    | 2689939/4411532 [00:01<00:00, 2019335.94it/s]\u001b[A\n",
      " 66%|██████▌   | 2892896/4411532 [00:01<00:00, 2022394.44it/s]\u001b[A\n",
      " 70%|███████   | 3097873/4411532 [00:01<00:00, 2030527.72it/s]\u001b[A\n",
      " 75%|███████▍  | 3302827/4411532 [00:01<00:00, 2036193.40it/s]\u001b[A\n",
      " 79%|███████▉  | 3506103/4411532 [00:01<00:00, 2030956.70it/s]\u001b[A\n",
      " 84%|████████▍ | 3710873/4411532 [00:01<00:00, 2035948.56it/s]\u001b[A\n",
      " 89%|████████▉ | 3916216/4411532 [00:02<00:00, 2041157.88it/s]\u001b[A\n",
      " 93%|█████████▎| 4121638/4411532 [00:02<00:00, 2045058.17it/s]\u001b[A\n",
      " 98%|█████████▊| 4326068/4411532 [00:02<00:00, 2044006.47it/s]\u001b[A\n",
      " 64%|██████▍   | 23/36 [01:04<00:36,  2.84s/it]1962096.35it/s]\u001b[A\n",
      "  0%|          | 0/4411532 [00:00<?, ?it/s]\u001b[A\n",
      "  4%|▍         | 175858/4411532 [00:00<00:02, 1758573.29it/s]\u001b[A\n",
      "  8%|▊         | 346099/4411532 [00:00<00:02, 1741335.71it/s]\u001b[A\n",
      " 12%|█▏        | 523735/4411532 [00:00<00:02, 1751696.37it/s]\u001b[A\n",
      " 16%|█▌        | 707819/4411532 [00:00<00:02, 1777516.37it/s]\u001b[A\n",
      " 20%|██        | 897847/4411532 [00:00<00:01, 1812645.08it/s]\u001b[A\n",
      " 25%|██▍       | 1091431/4411532 [00:00<00:01, 1847921.83it/s]\u001b[A\n",
      " 29%|██▉       | 1287144/4411532 [00:00<00:01, 1879379.43it/s]\u001b[A\n",
      " 34%|███▎      | 1487936/4411532 [00:00<00:01, 1916178.94it/s]\u001b[A\n",
      " 38%|███▊      | 1689748/4411532 [00:00<00:01, 1945661.11it/s]\u001b[A\n",
      " 43%|████▎     | 1894473/4411532 [00:01<00:01, 1975060.98it/s]\u001b[A\n",
      " 48%|████▊     | 2099499/4411532 [00:01<00:01, 1997034.20it/s]\u001b[A\n",
      " 52%|█████▏    | 2306164/4411532 [00:01<00:01, 2017420.61it/s]\u001b[A\n",
      " 57%|█████▋    | 2513153/4411532 [00:01<00:00, 2032877.69it/s]\u001b[A\n",
      " 62%|██████▏   | 2721472/4411532 [00:01<00:00, 2047712.04it/s]\u001b[A\n",
      " 66%|██████▋   | 2925236/4411532 [00:01<00:00, 2041256.72it/s]\u001b[A\n",
      " 71%|███████   | 3132764/4411532 [00:01<00:00, 2051345.12it/s]\u001b[A\n",
      " 76%|███████▌  | 3339470/4411532 [00:01<00:00, 2056033.56it/s]\u001b[A\n",
      " 80%|████████  | 3545654/4411532 [00:01<00:00, 2057769.70it/s]\u001b[A\n",
      " 85%|████████▌ | 3754509/4411532 [00:01<00:00, 2066907.23it/s]\u001b[A\n",
      " 90%|████████▉ | 3961946/4411532 [00:02<00:00, 2069138.05it/s]\u001b[A\n",
      " 95%|█████████▍| 4170052/4411532 [00:02<00:00, 2072697.91it/s]\u001b[A\n",
      " 99%|█████████▉| 4378994/4411532 [00:02<00:00, 2077685.48it/s]\u001b[A\n",
      " 67%|██████▋   | 24/36 [01:07<00:33,  2.81s/it]1983363.98it/s]\u001b[A\n",
      "  0%|          | 0/4411532 [00:00<?, ?it/s]\u001b[A\n",
      "  4%|▍         | 175138/4411532 [00:00<00:02, 1751377.49it/s]\u001b[A\n",
      "  8%|▊         | 344245/4411532 [00:00<00:02, 1732836.35it/s]\u001b[A\n",
      " 12%|█▏        | 522043/4411532 [00:00<00:02, 1746134.93it/s]\u001b[A\n",
      " 16%|█▌        | 707001/4411532 [00:00<00:02, 1775932.01it/s]\u001b[A\n",
      " 20%|██        | 897554/4411532 [00:00<00:01, 1812921.14it/s]\u001b[A\n",
      " 25%|██▍       | 1091143/4411532 [00:00<00:01, 1848136.33it/s]\u001b[A\n",
      " 29%|██▉       | 1285535/4411532 [00:00<00:01, 1875862.08it/s]\u001b[A\n",
      " 34%|███▎      | 1485492/4411532 [00:00<00:01, 1911334.74it/s]\u001b[A\n",
      " 38%|███▊      | 1685005/4411532 [00:00<00:01, 1935722.67it/s]\u001b[A\n",
      " 43%|████▎     | 1886841/4411532 [00:01<00:01, 1959792.34it/s]\u001b[A\n",
      " 47%|████▋     | 2090086/4411532 [00:01<00:01, 1981037.44it/s]\u001b[A\n",
      " 52%|█████▏    | 2294897/4411532 [00:01<00:01, 2000692.52it/s]\u001b[A\n",
      " 57%|█████▋    | 2498475/4411532 [00:01<00:00, 2011087.41it/s]\u001b[A\n",
      " 61%|██████▏   | 2704886/4411532 [00:01<00:00, 2026703.66it/s]\u001b[A\n",
      " 66%|██████▌   | 2906528/4411532 [00:01<00:00, 2017238.46it/s]\u001b[A\n",
      " 70%|███████   | 3109233/4411532 [00:01<00:00, 2020171.07it/s]\u001b[A\n",
      " 75%|███████▌  | 3310754/4411532 [00:01<00:00, 2012236.18it/s]\u001b[A\n",
      " 80%|███████▉  | 3511638/4411532 [00:01<00:00, 2010922.93it/s]\u001b[A\n",
      " 84%|████████▍ | 3714634/4411532 [00:01<00:00, 2016594.16it/s]\u001b[A\n",
      " 89%|████████▉ | 3917625/4411532 [00:02<00:00, 2020568.23it/s]\u001b[A\n",
      " 93%|█████████▎| 4119570/4411532 [00:02<00:00, 2000780.30it/s]\u001b[A\n",
      " 98%|█████████▊| 4320436/4411532 [00:02<00:00, 2003136.85it/s]\u001b[A\n",
      " 69%|██████▉   | 25/36 [01:10<00:30,  2.81s/it]1954561.74it/s]\u001b[A\n",
      "  0%|          | 0/4411532 [00:00<?, ?it/s]\u001b[A\n",
      "  4%|▍         | 173936/4411532 [00:00<00:02, 1739353.36it/s]\u001b[A\n",
      "  8%|▊         | 340699/4411532 [00:00<00:02, 1717194.78it/s]\u001b[A\n",
      " 12%|█▏        | 517395/4411532 [00:00<00:02, 1731826.78it/s]\u001b[A\n",
      " 16%|█▌        | 702430/4411532 [00:00<00:02, 1765756.27it/s]\u001b[A\n",
      " 20%|██        | 890689/4411532 [00:00<00:01, 1799251.65it/s]\u001b[A\n",
      " 25%|██▍       | 1084679/4411532 [00:00<00:01, 1839256.34it/s]\u001b[A\n",
      " 29%|██▉       | 1281188/4411532 [00:00<00:01, 1875279.13it/s]\u001b[A\n",
      " 34%|███▎      | 1482212/4411532 [00:00<00:01, 1913824.72it/s]\u001b[A\n",
      " 38%|███▊      | 1683310/4411532 [00:00<00:01, 1941970.31it/s]\u001b[A\n",
      " 43%|████▎     | 1886818/4411532 [00:01<00:01, 1968993.99it/s]\u001b[A\n",
      " 47%|████▋     | 2091372/4411532 [00:01<00:01, 1991347.21it/s]\u001b[A\n",
      " 52%|█████▏    | 2296599/4411532 [00:01<00:01, 2009237.19it/s]\u001b[A\n",
      " 57%|█████▋    | 2501344/4411532 [00:01<00:00, 2020548.14it/s]\u001b[A\n",
      " 61%|██████▏   | 2708003/4411532 [00:01<00:00, 2034141.54it/s]\u001b[A\n",
      " 66%|██████▌   | 2913809/4411532 [00:01<00:00, 2041257.63it/s]\u001b[A\n",
      " 71%|███████   | 3119419/4411532 [00:01<00:00, 2045686.92it/s]\u001b[A\n",
      " 75%|███████▌  | 3325561/4411532 [00:01<00:00, 2050379.24it/s]\u001b[A\n",
      " 80%|████████  | 3532922/4411532 [00:01<00:00, 2057292.75it/s]\u001b[A\n",
      " 85%|████████▍ | 3740057/4411532 [00:01<00:00, 2061487.50it/s]\u001b[A\n",
      " 89%|████████▉ | 3946745/4411532 [00:02<00:00, 2063098.47it/s]\u001b[A\n",
      " 94%|█████████▍| 4153570/4411532 [00:02<00:00, 2064638.87it/s]\u001b[A\n",
      " 99%|█████████▉| 4359956/4411532 [00:02<00:00, 2059325.68it/s]\u001b[A\n",
      " 72%|███████▏  | 26/36 [01:13<00:27,  2.79s/it]1975322.73it/s]\u001b[A\n",
      "  0%|          | 0/4411532 [00:00<?, ?it/s]\u001b[A\n",
      "  4%|▍         | 176450/4411532 [00:00<00:02, 1764493.27it/s]\u001b[A\n",
      "  8%|▊         | 347040/4411532 [00:00<00:02, 1746496.20it/s]\u001b[A\n",
      " 12%|█▏        | 524416/4411532 [00:00<00:02, 1754584.94it/s]\u001b[A\n",
      " 16%|█▌        | 708582/4411532 [00:00<00:02, 1779828.49it/s]\u001b[A\n",
      " 20%|██        | 895296/4411532 [00:00<00:01, 1805150.34it/s]\u001b[A\n",
      " 25%|██▍       | 1088083/4411532 [00:00<00:01, 1840291.82it/s]\u001b[A\n",
      " 29%|██▉       | 1284783/4411532 [00:00<00:01, 1876555.67it/s]\u001b[A\n",
      " 34%|███▎      | 1483399/4411532 [00:00<00:01, 1908143.32it/s]\u001b[A\n",
      " 38%|███▊      | 1684943/4411532 [00:00<00:01, 1939112.50it/s]\u001b[A\n",
      " 43%|████▎     | 1886851/4411532 [00:01<00:01, 1962427.46it/s]\u001b[A\n",
      " 47%|████▋     | 2090316/4411532 [00:01<00:01, 1983549.23it/s]\u001b[A\n",
      " 52%|█████▏    | 2293507/4411532 [00:01<00:01, 1997813.17it/s]\u001b[A\n",
      " 57%|█████▋    | 2498269/4411532 [00:01<00:00, 2012498.08it/s]\u001b[A\n",
      " 61%|██████    | 2701913/4411532 [00:01<00:00, 2019620.48it/s]\u001b[A\n",
      " 66%|██████▌   | 2907301/4411532 [00:01<00:00, 2029776.86it/s]\u001b[A\n",
      " 71%|███████   | 3115326/4411532 [00:01<00:00, 2044658.88it/s]\u001b[A\n",
      " 75%|███████▌  | 3322627/4411532 [00:01<00:00, 2053080.13it/s]\u001b[A\n",
      " 80%|████████  | 3529733/4411532 [00:01<00:00, 2058437.42it/s]\u001b[A\n",
      " 85%|████████▍ | 3735628/4411532 [00:01<00:00, 2058588.81it/s]\u001b[A\n",
      " 89%|████████▉ | 3941519/4411532 [00:02<00:00, 2058684.28it/s]\u001b[A\n",
      " 94%|█████████▍| 4147276/4411532 [00:02<00:00, 2056046.62it/s]\u001b[A\n",
      " 99%|█████████▊| 4352804/4411532 [00:02<00:00, 2047890.71it/s]\u001b[A\n",
      " 75%|███████▌  | 27/36 [01:15<00:25,  2.79s/it]1971577.94it/s]\u001b[A\n",
      "  0%|          | 0/4411532 [00:00<?, ?it/s]\u001b[A\n",
      "  4%|▍         | 172859/4411532 [00:00<00:02, 1728583.41it/s]\u001b[A\n",
      "  8%|▊         | 342497/4411532 [00:00<00:02, 1718793.98it/s]\u001b[A\n",
      " 12%|█▏        | 513861/4411532 [00:00<00:02, 1717243.80it/s]\u001b[A\n",
      " 16%|█▌        | 696655/4411532 [00:00<00:02, 1749018.15it/s]\u001b[A\n",
      " 20%|██        | 886816/4411532 [00:00<00:01, 1792160.21it/s]\u001b[A\n",
      " 24%|██▍       | 1077853/4411532 [00:00<00:01, 1826057.28it/s]\u001b[A\n",
      " 29%|██▉       | 1271753/4411532 [00:00<00:01, 1858533.24it/s]\u001b[A\n",
      " 33%|███▎      | 1470646/4411532 [00:00<00:01, 1895818.90it/s]\u001b[A\n",
      " 38%|███▊      | 1670979/4411532 [00:00<00:01, 1926838.64it/s]\u001b[A\n",
      " 42%|████▏     | 1870327/4411532 [00:01<00:01, 1946356.30it/s]\u001b[A\n",
      " 47%|████▋     | 2070632/4411532 [00:01<00:01, 1963023.72it/s]\u001b[A\n",
      " 52%|█████▏    | 2273423/4411532 [00:01<00:01, 1982048.56it/s]\u001b[A\n",
      " 56%|█████▌    | 2477772/4411532 [00:01<00:00, 2000088.67it/s]\u001b[A\n",
      " 61%|██████    | 2681019/4411532 [00:01<00:00, 2009693.36it/s]\u001b[A\n",
      " 65%|██████▌   | 2885997/4411532 [00:01<00:00, 2021550.04it/s]\u001b[A\n",
      " 70%|███████   | 3088316/4411532 [00:01<00:00, 2022040.88it/s]\u001b[A\n",
      " 75%|███████▍  | 3290036/4411532 [00:01<00:00, 2011247.82it/s]\u001b[A\n",
      " 79%|███████▉  | 3495495/4411532 [00:01<00:00, 2024056.39it/s]\u001b[A\n",
      " 84%|████████▍ | 3701085/4411532 [00:01<00:00, 2033503.11it/s]\u001b[A\n",
      " 89%|████████▊ | 3906644/4411532 [00:02<00:00, 2040078.31it/s]\u001b[A\n",
      " 93%|█████████▎| 4112274/4411532 [00:02<00:00, 2044915.55it/s]\u001b[A\n",
      " 98%|█████████▊| 4319831/4411532 [00:02<00:00, 2054014.06it/s]\u001b[A\n",
      " 78%|███████▊  | 28/36 [01:18<00:22,  2.80s/it]1957014.95it/s]\u001b[A\n",
      "  0%|          | 0/4411532 [00:00<?, ?it/s]\u001b[A\n",
      "  4%|▍         | 175368/4411532 [00:00<00:02, 1753669.13it/s]\u001b[A\n",
      "  8%|▊         | 345061/4411532 [00:00<00:02, 1736249.64it/s]\u001b[A\n",
      " 12%|█▏        | 520081/4411532 [00:00<00:02, 1740410.60it/s]\u001b[A\n",
      " 16%|█▌        | 696535/4411532 [00:00<00:02, 1746439.69it/s]\u001b[A\n",
      " 19%|█▉        | 829100/4411532 [00:00<00:02, 1444086.22it/s]\u001b[A\n",
      " 22%|██▏       | 952753/4411532 [00:00<00:02, 1295035.05it/s]\u001b[A\n",
      " 24%|██▍       | 1070621/4411532 [00:00<00:02, 1210804.77it/s]\u001b[A\n",
      " 27%|██▋       | 1184666/4411532 [00:00<00:02, 1135645.26it/s]\u001b[A\n",
      " 29%|██▉       | 1294257/4411532 [00:00<00:02, 1077396.21it/s]\u001b[A\n",
      " 32%|███▏      | 1399838/4411532 [00:01<00:02, 1039979.79it/s]\u001b[A\n",
      " 34%|███▍      | 1513384/4411532 [00:01<00:02, 1066508.82it/s]\u001b[A\n",
      " 37%|███▋      | 1619342/4411532 [00:01<00:02, 1062885.17it/s]\u001b[A\n",
      " 39%|███▉      | 1725148/4411532 [00:01<00:02, 1019769.81it/s]\u001b[A\n",
      " 41%|████▏     | 1827160/4411532 [00:01<00:02, 1009618.93it/s]\u001b[A\n",
      " 44%|████▎     | 1928170/4411532 [00:01<00:02, 1008826.49it/s]\u001b[A\n",
      " 47%|████▋     | 2064234/4411532 [00:01<00:02, 1093659.51it/s]\u001b[A\n",
      " 49%|████▉     | 2177334/4411532 [00:01<00:02, 1088677.00it/s]\u001b[A\n",
      " 53%|█████▎    | 2349236/4411532 [00:01<00:01, 1223240.14it/s]\u001b[A\n",
      " 57%|█████▋    | 2534725/4411532 [00:02<00:01, 1362423.18it/s]\u001b[A\n",
      " 62%|██████▏   | 2725180/4411532 [00:02<00:01, 1489627.96it/s]\u001b[A\n",
      " 66%|██████▌   | 2920378/4411532 [00:02<00:00, 1603574.87it/s]\u001b[A\n",
      " 71%|███████   | 3117580/4411532 [00:02<00:00, 1698793.20it/s]\u001b[A\n",
      " 75%|███████▌  | 3317107/4411532 [00:02<00:00, 1778052.71it/s]\u001b[A\n",
      " 80%|███████▉  | 3515135/4411532 [00:02<00:00, 1834246.28it/s]\u001b[A\n",
      " 84%|████████▍ | 3717586/4411532 [00:02<00:00, 1887460.69it/s]\u001b[A\n",
      " 89%|████████▉ | 3919608/4411532 [00:02<00:00, 1925416.12it/s]\u001b[A\n",
      " 93%|█████████▎| 4122614/4411532 [00:02<00:00, 1955656.57it/s]\u001b[A\n",
      " 98%|█████████▊| 4326952/4411532 [00:02<00:00, 1981167.47it/s]\u001b[A\n",
      " 81%|████████  | 29/36 [01:22<00:21,  3.01s/it]1486193.70it/s]\u001b[A\n",
      "  0%|          | 0/4411532 [00:00<?, ?it/s]\u001b[A\n",
      "  4%|▍         | 174517/4411532 [00:00<00:02, 1745163.34it/s]\u001b[A\n",
      "  8%|▊         | 343914/4411532 [00:00<00:02, 1729480.08it/s]\u001b[A\n",
      " 12%|█▏        | 520341/4411532 [00:00<00:02, 1739771.40it/s]\u001b[A\n",
      " 16%|█▌        | 704050/4411532 [00:00<00:02, 1767864.92it/s]\u001b[A\n",
      " 20%|██        | 893683/4411532 [00:00<00:01, 1804538.22it/s]\u001b[A\n",
      " 25%|██▍       | 1088124/4411532 [00:00<00:01, 1844338.18it/s]\u001b[A\n",
      " 29%|██▉       | 1284483/4411532 [00:00<00:01, 1878563.84it/s]\u001b[A\n",
      " 34%|███▎      | 1483919/4411532 [00:00<00:01, 1911864.97it/s]\u001b[A\n",
      " 38%|███▊      | 1684015/4411532 [00:00<00:01, 1937748.31it/s]\u001b[A\n",
      " 43%|████▎     | 1885807/4411532 [00:01<00:01, 1961119.31it/s]\u001b[A\n",
      " 47%|████▋     | 2086516/4411532 [00:01<00:01, 1974684.26it/s]\u001b[A\n",
      " 52%|█████▏    | 2290907/4411532 [00:01<00:01, 1994953.72it/s]\u001b[A\n",
      " 56%|█████▋    | 2489348/4411532 [00:01<00:00, 1952654.25it/s]\u001b[A\n",
      " 61%|██████    | 2691536/4411532 [00:01<00:00, 1972918.25it/s]\u001b[A\n",
      " 66%|██████▌   | 2894244/4411532 [00:01<00:00, 1988859.58it/s]\u001b[A\n",
      " 70%|███████   | 3096570/4411532 [00:01<00:00, 1999053.99it/s]\u001b[A\n",
      " 75%|███████▍  | 3298724/4411532 [00:01<00:00, 2005744.81it/s]\u001b[A\n",
      " 79%|███████▉  | 3501840/4411532 [00:01<00:00, 2013301.48it/s]\u001b[A\n",
      " 84%|████████▍ | 3706275/4411532 [00:01<00:00, 2022515.70it/s]\u001b[A\n",
      " 89%|████████▊ | 3913513/4411532 [00:02<00:00, 2037218.91it/s]\u001b[A\n",
      " 93%|█████████▎| 4118622/4411532 [00:02<00:00, 2041356.72it/s]\u001b[A\n",
      " 98%|█████████▊| 4323062/4411532 [00:02<00:00, 2042267.87it/s]\u001b[A\n",
      " 83%|████████▎ | 30/36 [01:24<00:17,  2.95s/it]1955343.94it/s]\u001b[A\n",
      "  0%|          | 0/4411532 [00:00<?, ?it/s]\u001b[A\n",
      "  4%|▍         | 174103/4411532 [00:00<00:02, 1741023.36it/s]\u001b[A\n",
      "  8%|▊         | 340875/4411532 [00:00<00:02, 1718362.51it/s]\u001b[A\n",
      " 12%|█▏        | 516986/4411532 [00:00<00:02, 1730965.31it/s]\u001b[A\n",
      " 16%|█▌        | 700570/4411532 [00:00<00:02, 1761145.72it/s]\u001b[A\n",
      " 20%|██        | 888247/4411532 [00:00<00:01, 1794305.73it/s]\u001b[A\n",
      " 25%|██▍       | 1080976/4411532 [00:00<00:01, 1832232.57it/s]\u001b[A\n",
      " 29%|██▉       | 1275199/4411532 [00:00<00:01, 1863898.91it/s]\u001b[A\n",
      " 33%|███▎      | 1473564/4411532 [00:00<00:01, 1898277.31it/s]\u001b[A\n",
      " 38%|███▊      | 1673573/4411532 [00:00<00:01, 1927715.08it/s]\u001b[A\n",
      " 42%|████▏     | 1873144/4411532 [00:01<00:01, 1947619.87it/s]\u001b[A\n",
      " 47%|████▋     | 2073895/4411532 [00:01<00:01, 1965207.48it/s]\u001b[A\n",
      " 52%|█████▏    | 2275713/4411532 [00:01<00:01, 1980804.10it/s]\u001b[A\n",
      " 56%|█████▌    | 2479390/4411532 [00:01<00:00, 1997264.60it/s]\u001b[A\n",
      " 61%|██████    | 2683643/4411532 [00:01<00:00, 2010628.47it/s]\u001b[A\n",
      " 65%|██████▌   | 2889014/4411532 [00:01<00:00, 2023361.09it/s]\u001b[A\n",
      " 70%|███████   | 3092509/4411532 [00:01<00:00, 2026820.12it/s]\u001b[A\n",
      " 75%|███████▍  | 3298576/4411532 [00:01<00:00, 2036856.88it/s]\u001b[A\n",
      " 79%|███████▉  | 3502823/4411532 [00:01<00:00, 2038536.70it/s]\u001b[A\n",
      " 84%|████████▍ | 3710353/4411532 [00:01<00:00, 2049427.33it/s]\u001b[A\n",
      " 89%|████████▊ | 3915148/4411532 [00:02<00:00, 2048900.92it/s]\u001b[A\n",
      " 93%|█████████▎| 4122338/4411532 [00:02<00:00, 2055744.51it/s]\u001b[A\n",
      " 98%|█████████▊| 4328018/4411532 [00:02<00:00, 2056057.22it/s]\u001b[A\n",
      " 86%|████████▌ | 31/36 [01:27<00:14,  2.90s/it]1962904.17it/s]\u001b[A\n",
      "  0%|          | 0/4411532 [00:00<?, ?it/s]\u001b[A\n",
      "  4%|▍         | 169627/4411532 [00:00<00:02, 1696267.57it/s]\u001b[A\n",
      "  8%|▊         | 336789/4411532 [00:00<00:02, 1688794.15it/s]\u001b[A\n",
      " 12%|█▏        | 512506/4411532 [00:00<00:02, 1708739.66it/s]\u001b[A\n",
      " 16%|█▌        | 697083/4411532 [00:00<00:02, 1747663.02it/s]\u001b[A\n",
      " 20%|██        | 883384/4411532 [00:00<00:01, 1780737.04it/s]\u001b[A\n",
      " 24%|██▍       | 1075489/4411532 [00:00<00:01, 1820627.34it/s]\u001b[A\n",
      " 29%|██▉       | 1271781/4411532 [00:00<00:01, 1861098.85it/s]\u001b[A\n",
      " 33%|███▎      | 1471926/4411532 [00:00<00:01, 1901092.16it/s]\u001b[A\n",
      " 38%|███▊      | 1672852/4411532 [00:00<00:01, 1932298.78it/s]\u001b[A\n",
      " 42%|████▏     | 1873993/4411532 [00:01<00:01, 1955370.10it/s]\u001b[A\n",
      " 47%|████▋     | 2079461/4411532 [00:01<00:01, 1984139.42it/s]\u001b[A\n",
      " 52%|█████▏    | 2283544/4411532 [00:01<00:01, 2000809.47it/s]\u001b[A\n",
      " 56%|█████▋    | 2481599/4411532 [00:01<00:00, 1990610.63it/s]\u001b[A\n",
      " 61%|██████    | 2684695/4411532 [00:01<00:00, 2002545.24it/s]\u001b[A\n",
      " 66%|██████▌   | 2889649/4411532 [00:01<00:00, 2016413.55it/s]\u001b[A\n",
      " 70%|███████   | 3093312/4411532 [00:01<00:00, 2022435.35it/s]\u001b[A\n",
      " 75%|███████▍  | 3298529/4411532 [00:01<00:00, 2031262.57it/s]\u001b[A\n",
      " 79%|███████▉  | 3505076/4411532 [00:01<00:00, 2041402.93it/s]\u001b[A\n",
      " 84%|████████▍ | 3709013/4411532 [00:01<00:00, 2009430.52it/s]\u001b[A\n",
      " 89%|████████▊ | 3913750/4411532 [00:02<00:00, 2020663.04it/s]\u001b[A\n",
      " 93%|█████████▎| 4115811/4411532 [00:02<00:00, 2016549.92it/s]\u001b[A\n",
      " 98%|█████████▊| 4320033/4411532 [00:02<00:00, 2024182.06it/s]\u001b[A\n",
      " 89%|████████▉ | 32/36 [01:30<00:11,  2.87s/it]1953707.55it/s]\u001b[A\n",
      "  0%|          | 0/4411532 [00:00<?, ?it/s]\u001b[A\n",
      "  4%|▍         | 174411/4411532 [00:00<00:02, 1744107.51it/s]\u001b[A\n",
      "  8%|▊         | 342070/4411532 [00:00<00:02, 1723287.32it/s]\u001b[A\n",
      " 12%|█▏        | 517055/4411532 [00:00<00:02, 1731169.10it/s]\u001b[A\n",
      " 16%|█▌        | 700426/4411532 [00:00<00:02, 1760703.53it/s]\u001b[A\n",
      " 20%|██        | 887240/4411532 [00:00<00:01, 1791612.20it/s]\u001b[A\n",
      " 24%|██▍       | 1079109/4411532 [00:00<00:01, 1827931.49it/s]\u001b[A\n",
      " 29%|██▉       | 1274728/4411532 [00:00<00:01, 1864605.62it/s]\u001b[A\n",
      " 33%|███▎      | 1473946/4411532 [00:00<00:01, 1901125.35it/s]\u001b[A\n",
      " 38%|███▊      | 1674408/4411532 [00:00<00:01, 1931031.88it/s]\u001b[A\n",
      " 42%|████▏     | 1873757/4411532 [00:01<00:01, 1949352.29it/s]\u001b[A\n",
      " 47%|████▋     | 2076553/4411532 [00:01<00:01, 1972286.39it/s]\u001b[A\n",
      " 52%|█████▏    | 2280241/4411532 [00:01<00:01, 1991229.34it/s]\u001b[A\n",
      " 56%|█████▋    | 2485451/4411532 [00:01<00:00, 2009105.71it/s]\u001b[A\n",
      " 61%|██████    | 2691273/4411532 [00:01<00:00, 2023589.83it/s]\u001b[A\n",
      " 66%|██████▌   | 2898996/4411532 [00:01<00:00, 2039387.87it/s]\u001b[A\n",
      " 70%|███████   | 3106800/4411532 [00:01<00:00, 2050830.81it/s]\u001b[A\n",
      " 75%|███████▌  | 3313570/4411532 [00:01<00:00, 2055858.80it/s]\u001b[A\n",
      " 80%|███████▉  | 3518840/4411532 [00:01<00:00, 2050591.06it/s]\u001b[A\n",
      " 84%|████████▍ | 3724185/4411532 [00:01<00:00, 2051445.56it/s]\u001b[A\n",
      " 89%|████████▉ | 3929461/4411532 [00:02<00:00, 2051837.37it/s]\u001b[A\n",
      " 94%|█████████▍| 4136383/4411532 [00:02<00:00, 2057017.61it/s]\u001b[A\n",
      " 98%|█████████▊| 4342266/4411532 [00:02<00:00, 2057558.64it/s]\u001b[A\n",
      " 92%|█████████▏| 33/36 [01:33<00:08,  2.85s/it]1968608.15it/s]\u001b[A\n",
      "  0%|          | 0/4411532 [00:00<?, ?it/s]\u001b[A\n",
      "  4%|▍         | 174255/4411532 [00:00<00:02, 1742543.35it/s]\u001b[A\n",
      "  8%|▊         | 340375/4411532 [00:00<00:02, 1717315.24it/s]\u001b[A\n",
      " 12%|█▏        | 515540/4411532 [00:00<00:02, 1727471.55it/s]\u001b[A\n",
      " 16%|█▌        | 696975/4411532 [00:00<00:02, 1752648.01it/s]\u001b[A\n",
      " 20%|██        | 886212/4411532 [00:00<00:01, 1792347.17it/s]\u001b[A\n",
      " 24%|██▍       | 1076701/4411532 [00:00<00:01, 1824685.25it/s]\u001b[A\n",
      " 29%|██▉       | 1272321/4411532 [00:00<00:01, 1862243.94it/s]\u001b[A\n",
      " 33%|███▎      | 1469393/4411532 [00:00<00:01, 1893508.42it/s]\u001b[A\n",
      " 38%|███▊      | 1668506/4411532 [00:00<00:01, 1921771.34it/s]\u001b[A\n",
      " 42%|████▏     | 1870875/4411532 [00:01<00:01, 1951250.34it/s]\u001b[A\n",
      " 47%|████▋     | 2076578/4411532 [00:01<00:01, 1981820.48it/s]\u001b[A\n",
      " 52%|█████▏    | 2281086/4411532 [00:01<00:01, 2000382.72it/s]\u001b[A\n",
      " 56%|█████▋    | 2485625/4411532 [00:01<00:00, 2013673.28it/s]\u001b[A\n",
      " 61%|██████    | 2690595/4411532 [00:01<00:00, 2024346.76it/s]\u001b[A\n",
      " 66%|██████▌   | 2896945/4411532 [00:01<00:00, 2035932.09it/s]\u001b[A\n",
      " 70%|███████   | 3104845/4411532 [00:01<00:00, 2048661.62it/s]\u001b[A\n",
      " 75%|███████▌  | 3310917/4411532 [00:01<00:00, 2052263.42it/s]\u001b[A\n",
      " 80%|███████▉  | 3515824/4411532 [00:01<00:00, 2050137.90it/s]\u001b[A\n",
      " 84%|████████▍ | 3720615/4411532 [00:01<00:00, 2048484.25it/s]\u001b[A\n",
      " 89%|████████▉ | 3926122/4411532 [00:02<00:00, 2050454.66it/s]\u001b[A\n",
      " 94%|█████████▎| 4131376/4411532 [00:02<00:00, 2051077.47it/s]\u001b[A\n",
      " 98%|█████████▊| 4336408/4411532 [00:02<00:00, 2050569.08it/s]\u001b[A\n",
      " 94%|█████████▍| 34/36 [01:36<00:05,  2.83s/it]1965942.60it/s]\u001b[A\n",
      "  0%|          | 0/4411532 [00:00<?, ?it/s]\u001b[A\n",
      "  4%|▍         | 174930/4411532 [00:00<00:02, 1749293.33it/s]\u001b[A\n",
      "  8%|▊         | 343195/4411532 [00:00<00:02, 1728751.78it/s]\u001b[A\n",
      " 12%|█▏        | 519366/4411532 [00:00<00:02, 1738507.07it/s]\u001b[A\n",
      " 16%|█▌        | 700927/4411532 [00:00<00:02, 1760939.52it/s]\u001b[A\n",
      " 20%|██        | 887939/4411532 [00:00<00:01, 1792329.27it/s]\u001b[A\n",
      " 25%|██▍       | 1081238/4411532 [00:00<00:01, 1832329.28it/s]\u001b[A\n",
      " 29%|██▉       | 1275741/4411532 [00:00<00:01, 1864741.85it/s]\u001b[A\n",
      " 33%|███▎      | 1473227/4411532 [00:00<00:01, 1896465.14it/s]\u001b[A\n",
      " 38%|███▊      | 1667244/4411532 [00:00<00:01, 1909366.29it/s]\u001b[A\n",
      " 42%|████▏     | 1869066/4411532 [00:01<00:01, 1940765.73it/s]\u001b[A\n",
      " 47%|████▋     | 2071240/4411532 [00:01<00:01, 1964367.84it/s]\u001b[A\n",
      " 52%|█████▏    | 2272628/4411532 [00:01<00:01, 1978961.74it/s]\u001b[A\n",
      " 56%|█████▌    | 2476896/4411532 [00:01<00:00, 1997653.64it/s]\u001b[A\n",
      " 61%|██████    | 2681925/4411532 [00:01<00:00, 2013157.72it/s]\u001b[A\n",
      " 65%|██████▌   | 2887309/4411532 [00:01<00:00, 2025189.88it/s]\u001b[A\n",
      " 70%|███████   | 3090939/4411532 [00:01<00:00, 2028507.86it/s]\u001b[A\n",
      " 75%|███████▍  | 3295000/4411532 [00:01<00:00, 2032119.64it/s]\u001b[A\n",
      " 79%|███████▉  | 3499564/4411532 [00:01<00:00, 2036153.17it/s]\u001b[A\n",
      " 84%|████████▍ | 3706477/4411532 [00:01<00:00, 2045934.45it/s]\u001b[A\n",
      " 89%|████████▊ | 3912832/4411532 [00:02<00:00, 2051185.12it/s]\u001b[A\n",
      " 93%|█████████▎| 4118371/4411532 [00:02<00:00, 2052443.90it/s]\u001b[A\n",
      " 98%|█████████▊| 4323544/4411532 [00:02<00:00, 2051421.59it/s]\u001b[A\n",
      " 97%|█████████▋| 35/36 [01:38<00:02,  2.82s/it]1962020.41it/s]\u001b[A\n",
      "  0%|          | 0/4411532 [00:00<?, ?it/s]\u001b[A\n",
      "  4%|▍         | 175111/4411532 [00:00<00:02, 1751103.32it/s]\u001b[A\n",
      "  8%|▊         | 335457/4411532 [00:00<00:02, 1704031.40it/s]\u001b[A\n",
      " 12%|█▏        | 512158/4411532 [00:00<00:02, 1722446.59it/s]\u001b[A\n",
      " 16%|█▌        | 695451/4411532 [00:00<00:02, 1754165.42it/s]\u001b[A\n",
      " 20%|██        | 883992/4411532 [00:00<00:01, 1791577.36it/s]\u001b[A\n",
      " 24%|██▍       | 1076983/4411532 [00:00<00:01, 1830948.41it/s]\u001b[A\n",
      " 29%|██▊       | 1264719/4411532 [00:00<00:01, 1844627.06it/s]\u001b[A\n",
      " 33%|███▎      | 1457533/4411532 [00:00<00:01, 1868909.26it/s]\u001b[A\n",
      " 38%|███▊      | 1655029/4411532 [00:00<00:01, 1899508.24it/s]\u001b[A\n",
      " 42%|████▏     | 1855803/4411532 [00:01<00:01, 1930730.26it/s]\u001b[A\n",
      " 47%|████▋     | 2056572/4411532 [00:01<00:01, 1953189.29it/s]\u001b[A\n",
      " 51%|█████     | 2256473/4411532 [00:01<00:01, 1966712.58it/s]\u001b[A\n",
      " 56%|█████▌    | 2457193/4411532 [00:01<00:00, 1978684.03it/s]\u001b[A\n",
      " 60%|██████    | 2660632/4411532 [00:01<00:00, 1995070.61it/s]\u001b[A\n",
      " 65%|██████▍   | 2863970/4411532 [00:01<00:00, 2006405.90it/s]\u001b[A\n",
      " 70%|██████▉   | 3068927/4411532 [00:01<00:00, 2019162.16it/s]\u001b[A\n",
      " 74%|███████▍  | 3272212/4411532 [00:01<00:00, 2023245.37it/s]\u001b[A\n",
      " 79%|███████▉  | 3478696/4411532 [00:01<00:00, 2035543.00it/s]\u001b[A\n",
      " 83%|████████▎ | 3683287/4411532 [00:01<00:00, 2038639.73it/s]\u001b[A\n",
      " 88%|████████▊ | 3889424/4411532 [00:02<00:00, 2045403.68it/s]\u001b[A\n",
      " 93%|█████████▎| 4093867/4411532 [00:02<00:00, 2043582.63it/s]\u001b[A\n",
      " 97%|█████████▋| 4298659/4411532 [00:02<00:00, 2044878.11it/s]\u001b[A\n",
      "100%|██████████| 36/36 [01:41<00:00,  2.82s/it]1950845.61it/s]\u001b[A\n"
     ]
    }
   ],
   "source": [
    "listOf_AmbRegions_DFs = []\n",
    "\n",
    "for SampleID in tqdm(SampleIDs_36CI_SOI): # tqdm( [\"M0011368_9\"])\n",
    "    \n",
    "    #print(f\"{sample_Counter} - Sample: {SampleID}\")\n",
    "    #SampleID = \"M0011368_9\"\n",
    "\n",
    "    Sample_Output_Dir = PMP_SM_TB_Portals_R1_Illumina_WGS_201201_OutputDir + \"/\" + SampleID\n",
    "\n",
    "    EBR_Ambigous_Regions_OutputDir = f\"{Sample_Output_Dir}/VariantCallingVersusH37Rv/EBR_Analysis_PB_MM2_AmbigousRegions\"\n",
    "    \n",
    "    #!mkdir $EBR_Ambigous_Regions_OutputDir\n",
    "    \n",
    "    # EBR_Ambigous_Regions_BED_PATH = f\"{EBR_Ambigous_Regions_OutputDir}/{SampleID}.EBR.V7.Amb.Regions.bed\"\n",
    "    \n",
    "    \n",
    "    #i_EBR_BED_DF = dictOf_BED_DFs_IndivSample_EBRs.get(SampleID, Sample_EBR_N0153_DF[ Sample_EBR_N0153_DF[\"score\"] == \"NotReal\" ] )   \n",
    "    #i_EBR_BED_DF = dictOf_BED_DFs_IndivSample_EBRs[SampleID]\n",
    "\n",
    "    i_EBR_BED_DF = convert_GenomeNParray_To_BED_DF( pd.Series(dictOf_EBR_IndivIsolate_NPYs[SampleID]).fillna(\"Ambiguous\").values )   \n",
    "\n",
    "    \n",
    "    \n",
    "    i_EBR_BED_DF_AMB_ONLY = i_EBR_BED_DF[ i_EBR_BED_DF[\"score\"] == \"Ambiguous\" ]\n",
    "\n",
    "    \n",
    "    i_EBR_BED_DF_AMB_ONLY[\"SampleID\"] = SampleID\n",
    "    \n",
    "    listOf_AmbRegions_DFs.append( i_EBR_BED_DF_AMB_ONLY )\n",
    "    \n",
    "    "
   ]
  },
  {
   "cell_type": "code",
   "execution_count": 38,
   "metadata": {},
   "outputs": [
    {
     "data": {
      "text/plain": [
       "(21, 6)"
      ]
     },
     "execution_count": 38,
     "metadata": {},
     "output_type": "execute_result"
    }
   ],
   "source": [
    "listOf_AmbRegions_DFs[0].shape"
   ]
  },
  {
   "cell_type": "code",
   "execution_count": 39,
   "metadata": {},
   "outputs": [],
   "source": [
    "All_EBR_AmbRegions_ForEach_36CI_DF = pd.concat(listOf_AmbRegions_DFs)\n",
    "All_EBR_AmbRegions_ForEach_36CI_DF[\"Length\"] = All_EBR_AmbRegions_ForEach_36CI_DF[\"chromEnd\"]  -  All_EBR_AmbRegions_ForEach_36CI_DF[\"chromStart\"]\n",
    "\n",
    "\n",
    "\n"
   ]
  },
  {
   "cell_type": "code",
   "execution_count": 40,
   "metadata": {},
   "outputs": [
    {
     "data": {
      "text/plain": [
       "(994, 7)"
      ]
     },
     "execution_count": 40,
     "metadata": {},
     "output_type": "execute_result"
    }
   ],
   "source": [
    "All_EBR_AmbRegions_ForEach_36CI_DF.shape"
   ]
  },
  {
   "cell_type": "code",
   "execution_count": null,
   "metadata": {},
   "outputs": [],
   "source": []
  },
  {
   "cell_type": "code",
   "execution_count": 41,
   "metadata": {},
   "outputs": [
    {
     "data": {
      "text/html": [
       "<div>\n",
       "<style scoped>\n",
       "    .dataframe tbody tr th:only-of-type {\n",
       "        vertical-align: middle;\n",
       "    }\n",
       "\n",
       "    .dataframe tbody tr th {\n",
       "        vertical-align: top;\n",
       "    }\n",
       "\n",
       "    .dataframe thead th {\n",
       "        text-align: right;\n",
       "    }\n",
       "</style>\n",
       "<table border=\"1\" class=\"dataframe\">\n",
       "  <thead>\n",
       "    <tr style=\"text-align: right;\">\n",
       "      <th></th>\n",
       "      <th>chrom</th>\n",
       "      <th>chromStart</th>\n",
       "      <th>chromEnd</th>\n",
       "      <th>name</th>\n",
       "      <th>score</th>\n",
       "      <th>SampleID</th>\n",
       "      <th>Length</th>\n",
       "    </tr>\n",
       "  </thead>\n",
       "  <tbody>\n",
       "    <tr>\n",
       "      <th>67</th>\n",
       "      <td>NC_000962.3</td>\n",
       "      <td>334694</td>\n",
       "      <td>334723</td>\n",
       "      <td>Region68_Length_29_bp</td>\n",
       "      <td>Ambiguous</td>\n",
       "      <td>M0011368_9</td>\n",
       "      <td>29</td>\n",
       "    </tr>\n",
       "    <tr>\n",
       "      <th>221</th>\n",
       "      <td>NC_000962.3</td>\n",
       "      <td>888762</td>\n",
       "      <td>889020</td>\n",
       "      <td>Region222_Length_258_bp</td>\n",
       "      <td>Ambiguous</td>\n",
       "      <td>M0011368_9</td>\n",
       "      <td>258</td>\n",
       "    </tr>\n",
       "    <tr>\n",
       "      <th>224</th>\n",
       "      <td>NC_000962.3</td>\n",
       "      <td>890379</td>\n",
       "      <td>890450</td>\n",
       "      <td>Region225_Length_71_bp</td>\n",
       "      <td>Ambiguous</td>\n",
       "      <td>M0011368_9</td>\n",
       "      <td>71</td>\n",
       "    </tr>\n",
       "    <tr>\n",
       "      <th>280</th>\n",
       "      <td>NC_000962.3</td>\n",
       "      <td>1074324</td>\n",
       "      <td>1074327</td>\n",
       "      <td>Region281_Length_3_bp</td>\n",
       "      <td>Ambiguous</td>\n",
       "      <td>M0011368_9</td>\n",
       "      <td>3</td>\n",
       "    </tr>\n",
       "    <tr>\n",
       "      <th>296</th>\n",
       "      <td>NC_000962.3</td>\n",
       "      <td>1093947</td>\n",
       "      <td>1094062</td>\n",
       "      <td>Region297_Length_115_bp</td>\n",
       "      <td>Ambiguous</td>\n",
       "      <td>M0011368_9</td>\n",
       "      <td>115</td>\n",
       "    </tr>\n",
       "  </tbody>\n",
       "</table>\n",
       "</div>"
      ],
      "text/plain": [
       "           chrom  chromStart  chromEnd                     name      score    SampleID  Length\n",
       "67   NC_000962.3      334694    334723    Region68_Length_29_bp  Ambiguous  M0011368_9      29\n",
       "221  NC_000962.3      888762    889020  Region222_Length_258_bp  Ambiguous  M0011368_9     258\n",
       "224  NC_000962.3      890379    890450   Region225_Length_71_bp  Ambiguous  M0011368_9      71\n",
       "280  NC_000962.3     1074324   1074327    Region281_Length_3_bp  Ambiguous  M0011368_9       3\n",
       "296  NC_000962.3     1093947   1094062  Region297_Length_115_bp  Ambiguous  M0011368_9     115"
      ]
     },
     "execution_count": 41,
     "metadata": {},
     "output_type": "execute_result"
    }
   ],
   "source": [
    "All_EBR_AmbRegions_ForEach_36CI_DF.head()"
   ]
  },
  {
   "cell_type": "code",
   "execution_count": 42,
   "metadata": {},
   "outputs": [
    {
     "data": {
      "text/html": [
       "<div>\n",
       "<style scoped>\n",
       "    .dataframe tbody tr th:only-of-type {\n",
       "        vertical-align: middle;\n",
       "    }\n",
       "\n",
       "    .dataframe tbody tr th {\n",
       "        vertical-align: top;\n",
       "    }\n",
       "\n",
       "    .dataframe thead th {\n",
       "        text-align: right;\n",
       "    }\n",
       "</style>\n",
       "<table border=\"1\" class=\"dataframe\">\n",
       "  <thead>\n",
       "    <tr style=\"text-align: right;\">\n",
       "      <th></th>\n",
       "      <th>chrom</th>\n",
       "      <th>chromStart</th>\n",
       "      <th>chromEnd</th>\n",
       "      <th>name</th>\n",
       "      <th>score</th>\n",
       "      <th>SampleID</th>\n",
       "      <th>Length</th>\n",
       "    </tr>\n",
       "  </thead>\n",
       "  <tbody>\n",
       "    <tr>\n",
       "      <th>20</th>\n",
       "      <td>NC_000962.3</td>\n",
       "      <td>334641</td>\n",
       "      <td>334653</td>\n",
       "      <td>Region21_Length_12_bp</td>\n",
       "      <td>Ambiguous</td>\n",
       "      <td>N0072</td>\n",
       "      <td>12</td>\n",
       "    </tr>\n",
       "    <tr>\n",
       "      <th>192</th>\n",
       "      <td>NC_000962.3</td>\n",
       "      <td>888762</td>\n",
       "      <td>889020</td>\n",
       "      <td>Region193_Length_258_bp</td>\n",
       "      <td>Ambiguous</td>\n",
       "      <td>N0072</td>\n",
       "      <td>258</td>\n",
       "    </tr>\n",
       "    <tr>\n",
       "      <th>233</th>\n",
       "      <td>NC_000962.3</td>\n",
       "      <td>1093947</td>\n",
       "      <td>1094062</td>\n",
       "      <td>Region234_Length_115_bp</td>\n",
       "      <td>Ambiguous</td>\n",
       "      <td>N0072</td>\n",
       "      <td>115</td>\n",
       "    </tr>\n",
       "    <tr>\n",
       "      <th>254</th>\n",
       "      <td>NC_000962.3</td>\n",
       "      <td>1190171</td>\n",
       "      <td>1190175</td>\n",
       "      <td>Region255_Length_4_bp</td>\n",
       "      <td>Ambiguous</td>\n",
       "      <td>N0072</td>\n",
       "      <td>4</td>\n",
       "    </tr>\n",
       "    <tr>\n",
       "      <th>303</th>\n",
       "      <td>NC_000962.3</td>\n",
       "      <td>1414948</td>\n",
       "      <td>1415887</td>\n",
       "      <td>Region304_Length_939_bp</td>\n",
       "      <td>Ambiguous</td>\n",
       "      <td>N0072</td>\n",
       "      <td>939</td>\n",
       "    </tr>\n",
       "  </tbody>\n",
       "</table>\n",
       "</div>"
      ],
      "text/plain": [
       "           chrom  chromStart  chromEnd                     name      score SampleID  Length\n",
       "20   NC_000962.3      334641    334653    Region21_Length_12_bp  Ambiguous    N0072      12\n",
       "192  NC_000962.3      888762    889020  Region193_Length_258_bp  Ambiguous    N0072     258\n",
       "233  NC_000962.3     1093947   1094062  Region234_Length_115_bp  Ambiguous    N0072     115\n",
       "254  NC_000962.3     1190171   1190175    Region255_Length_4_bp  Ambiguous    N0072       4\n",
       "303  NC_000962.3     1414948   1415887  Region304_Length_939_bp  Ambiguous    N0072     939"
      ]
     },
     "execution_count": 42,
     "metadata": {},
     "output_type": "execute_result"
    }
   ],
   "source": [
    "All_EBR_AmbRegions_ForEach_36CI_DF[All_EBR_AmbRegions_ForEach_36CI_DF[\"SampleID\"] == \"N0072\"].sort_values(\"chromStart\").head(5)"
   ]
  },
  {
   "cell_type": "code",
   "execution_count": 43,
   "metadata": {},
   "outputs": [
    {
     "data": {
      "text/html": [
       "<div>\n",
       "<style scoped>\n",
       "    .dataframe tbody tr th:only-of-type {\n",
       "        vertical-align: middle;\n",
       "    }\n",
       "\n",
       "    .dataframe tbody tr th {\n",
       "        vertical-align: top;\n",
       "    }\n",
       "\n",
       "    .dataframe thead th {\n",
       "        text-align: right;\n",
       "    }\n",
       "</style>\n",
       "<table border=\"1\" class=\"dataframe\">\n",
       "  <thead>\n",
       "    <tr style=\"text-align: right;\">\n",
       "      <th></th>\n",
       "      <th>chrom</th>\n",
       "      <th>chromStart</th>\n",
       "      <th>chromEnd</th>\n",
       "      <th>name</th>\n",
       "      <th>score</th>\n",
       "      <th>SampleID</th>\n",
       "      <th>Length</th>\n",
       "    </tr>\n",
       "  </thead>\n",
       "  <tbody>\n",
       "    <tr>\n",
       "      <th>451</th>\n",
       "      <td>NC_000962.3</td>\n",
       "      <td>2268721</td>\n",
       "      <td>2268725</td>\n",
       "      <td>Region452_Length_4_bp</td>\n",
       "      <td>Ambiguous</td>\n",
       "      <td>RW-TB008</td>\n",
       "      <td>4</td>\n",
       "    </tr>\n",
       "    <tr>\n",
       "      <th>359</th>\n",
       "      <td>NC_000962.3</td>\n",
       "      <td>1981814</td>\n",
       "      <td>1981819</td>\n",
       "      <td>Region360_Length_5_bp</td>\n",
       "      <td>Ambiguous</td>\n",
       "      <td>RW-TB008</td>\n",
       "      <td>5</td>\n",
       "    </tr>\n",
       "    <tr>\n",
       "      <th>472</th>\n",
       "      <td>NC_000962.3</td>\n",
       "      <td>2366969</td>\n",
       "      <td>2366975</td>\n",
       "      <td>Region473_Length_6_bp</td>\n",
       "      <td>Ambiguous</td>\n",
       "      <td>RW-TB008</td>\n",
       "      <td>6</td>\n",
       "    </tr>\n",
       "    <tr>\n",
       "      <th>42</th>\n",
       "      <td>NC_000962.3</td>\n",
       "      <td>334641</td>\n",
       "      <td>334653</td>\n",
       "      <td>Region43_Length_12_bp</td>\n",
       "      <td>Ambiguous</td>\n",
       "      <td>RW-TB008</td>\n",
       "      <td>12</td>\n",
       "    </tr>\n",
       "    <tr>\n",
       "      <th>694</th>\n",
       "      <td>NC_000962.3</td>\n",
       "      <td>3732552</td>\n",
       "      <td>3732570</td>\n",
       "      <td>Region695_Length_18_bp</td>\n",
       "      <td>Ambiguous</td>\n",
       "      <td>RW-TB008</td>\n",
       "      <td>18</td>\n",
       "    </tr>\n",
       "  </tbody>\n",
       "</table>\n",
       "</div>"
      ],
      "text/plain": [
       "           chrom  chromStart  chromEnd                    name      score  SampleID  Length\n",
       "451  NC_000962.3     2268721   2268725   Region452_Length_4_bp  Ambiguous  RW-TB008       4\n",
       "359  NC_000962.3     1981814   1981819   Region360_Length_5_bp  Ambiguous  RW-TB008       5\n",
       "472  NC_000962.3     2366969   2366975   Region473_Length_6_bp  Ambiguous  RW-TB008       6\n",
       "42   NC_000962.3      334641    334653   Region43_Length_12_bp  Ambiguous  RW-TB008      12\n",
       "694  NC_000962.3     3732552   3732570  Region695_Length_18_bp  Ambiguous  RW-TB008      18"
      ]
     },
     "execution_count": 43,
     "metadata": {},
     "output_type": "execute_result"
    }
   ],
   "source": [
    "All_EBR_AmbRegions_ForEach_36CI_DF[All_EBR_AmbRegions_ForEach_36CI_DF[\"SampleID\"] == \"RW-TB008\"].sort_values(\"Length\").head(5)"
   ]
  },
  {
   "cell_type": "code",
   "execution_count": null,
   "metadata": {},
   "outputs": [],
   "source": []
  },
  {
   "cell_type": "code",
   "execution_count": 44,
   "metadata": {},
   "outputs": [
    {
     "data": {
      "text/html": [
       "<div>\n",
       "<style scoped>\n",
       "    .dataframe tbody tr th:only-of-type {\n",
       "        vertical-align: middle;\n",
       "    }\n",
       "\n",
       "    .dataframe tbody tr th {\n",
       "        vertical-align: top;\n",
       "    }\n",
       "\n",
       "    .dataframe thead th {\n",
       "        text-align: right;\n",
       "    }\n",
       "</style>\n",
       "<table border=\"1\" class=\"dataframe\">\n",
       "  <thead>\n",
       "    <tr style=\"text-align: right;\">\n",
       "      <th></th>\n",
       "      <th>chrom</th>\n",
       "      <th>chromStart</th>\n",
       "      <th>chromEnd</th>\n",
       "      <th>name</th>\n",
       "      <th>score</th>\n",
       "      <th>SampleID</th>\n",
       "      <th>Length</th>\n",
       "    </tr>\n",
       "  </thead>\n",
       "  <tbody>\n",
       "    <tr>\n",
       "      <th>532</th>\n",
       "      <td>NC_000962.3</td>\n",
       "      <td>1987701</td>\n",
       "      <td>1987702</td>\n",
       "      <td>Region533_Length_1_bp</td>\n",
       "      <td>Ambiguous</td>\n",
       "      <td>M0016395_7</td>\n",
       "      <td>1</td>\n",
       "    </tr>\n",
       "    <tr>\n",
       "      <th>509</th>\n",
       "      <td>NC_000962.3</td>\n",
       "      <td>3501664</td>\n",
       "      <td>3501665</td>\n",
       "      <td>Region510_Length_1_bp</td>\n",
       "      <td>Ambiguous</td>\n",
       "      <td>DNA044</td>\n",
       "      <td>1</td>\n",
       "    </tr>\n",
       "  </tbody>\n",
       "</table>\n",
       "</div>"
      ],
      "text/plain": [
       "           chrom  chromStart  chromEnd                   name      score    SampleID  Length\n",
       "532  NC_000962.3     1987701   1987702  Region533_Length_1_bp  Ambiguous  M0016395_7       1\n",
       "509  NC_000962.3     3501664   3501665  Region510_Length_1_bp  Ambiguous      DNA044       1"
      ]
     },
     "execution_count": 44,
     "metadata": {},
     "output_type": "execute_result"
    }
   ],
   "source": [
    "All_EBR_AmbRegions_ForEach_36CI_DF.sort_values(\"Length\").head(2)"
   ]
  },
  {
   "cell_type": "code",
   "execution_count": null,
   "metadata": {},
   "outputs": [],
   "source": []
  },
  {
   "cell_type": "code",
   "execution_count": 45,
   "metadata": {},
   "outputs": [
    {
     "data": {
      "text/plain": [
       "(array([606., 154., 165.,  13.,  14.,  13.,   7.,   8.,   4.,   1.,   0.,\n",
       "          0.,   0.,   0.,   0.,   0.,   0.,   0.,   2.,   1.,   1.,   3.,\n",
       "          0.,   1.,   1.]),\n",
       " array([    0,   500,  1000,  1500,  2000,  2500,  3000,  3500,  4000,\n",
       "         4500,  5000,  5500,  6000,  6500,  7000,  7500,  8000,  8500,\n",
       "         9000,  9500, 10000, 10500, 11000, 11500, 12000, 12500]),\n",
       " <a list of 25 Patch objects>)"
      ]
     },
     "execution_count": 45,
     "metadata": {},
     "output_type": "execute_result"
    },
    {
     "data": {
      "image/png": "[encoded data removed]",
      "text/plain": [
       "<Figure size 432x288 with 1 Axes>"
      ]
     },
     "metadata": {
      "needs_background": "light"
     },
     "output_type": "display_data"
    }
   ],
   "source": [
    "plt.hist(All_EBR_AmbRegions_ForEach_36CI_DF[\"Length\"], bins = np.arange(0, 13000, 500))"
   ]
  },
  {
   "cell_type": "code",
   "execution_count": 46,
   "metadata": {},
   "outputs": [
    {
     "data": {
      "image/png": "[encoded data removed]",
      "text/plain": [
       "<Figure size 432x288 with 1 Axes>"
      ]
     },
     "metadata": {
      "needs_background": "light"
     },
     "output_type": "display_data"
    }
   ],
   "source": [
    "plt.hist(All_EBR_AmbRegions_ForEach_36CI_DF[\"Length\"], bins = np.arange(0, 13000, 10))\n",
    "\n",
    "plt.xlim(0,500)\n",
    "plt.show()"
   ]
  },
  {
   "cell_type": "code",
   "execution_count": null,
   "metadata": {},
   "outputs": [],
   "source": []
  },
  {
   "cell_type": "markdown",
   "metadata": {},
   "source": [
    "# Output AMB regions for all 36 individual isolates in 1 table"
   ]
  },
  {
   "cell_type": "code",
   "execution_count": 47,
   "metadata": {},
   "outputs": [
    {
     "data": {
      "text/html": [
       "<div>\n",
       "<style scoped>\n",
       "    .dataframe tbody tr th:only-of-type {\n",
       "        vertical-align: middle;\n",
       "    }\n",
       "\n",
       "    .dataframe tbody tr th {\n",
       "        vertical-align: top;\n",
       "    }\n",
       "\n",
       "    .dataframe thead th {\n",
       "        text-align: right;\n",
       "    }\n",
       "</style>\n",
       "<table border=\"1\" class=\"dataframe\">\n",
       "  <thead>\n",
       "    <tr style=\"text-align: right;\">\n",
       "      <th></th>\n",
       "      <th>chrom</th>\n",
       "      <th>chromStart</th>\n",
       "      <th>chromEnd</th>\n",
       "      <th>name</th>\n",
       "      <th>score</th>\n",
       "      <th>SampleID</th>\n",
       "      <th>Length</th>\n",
       "    </tr>\n",
       "  </thead>\n",
       "  <tbody>\n",
       "    <tr>\n",
       "      <th>67</th>\n",
       "      <td>NC_000962.3</td>\n",
       "      <td>334694</td>\n",
       "      <td>334723</td>\n",
       "      <td>Region68_Length_29_bp</td>\n",
       "      <td>Ambiguous</td>\n",
       "      <td>M0011368_9</td>\n",
       "      <td>29</td>\n",
       "    </tr>\n",
       "    <tr>\n",
       "      <th>221</th>\n",
       "      <td>NC_000962.3</td>\n",
       "      <td>888762</td>\n",
       "      <td>889020</td>\n",
       "      <td>Region222_Length_258_bp</td>\n",
       "      <td>Ambiguous</td>\n",
       "      <td>M0011368_9</td>\n",
       "      <td>258</td>\n",
       "    </tr>\n",
       "    <tr>\n",
       "      <th>224</th>\n",
       "      <td>NC_000962.3</td>\n",
       "      <td>890379</td>\n",
       "      <td>890450</td>\n",
       "      <td>Region225_Length_71_bp</td>\n",
       "      <td>Ambiguous</td>\n",
       "      <td>M0011368_9</td>\n",
       "      <td>71</td>\n",
       "    </tr>\n",
       "    <tr>\n",
       "      <th>280</th>\n",
       "      <td>NC_000962.3</td>\n",
       "      <td>1074324</td>\n",
       "      <td>1074327</td>\n",
       "      <td>Region281_Length_3_bp</td>\n",
       "      <td>Ambiguous</td>\n",
       "      <td>M0011368_9</td>\n",
       "      <td>3</td>\n",
       "    </tr>\n",
       "    <tr>\n",
       "      <th>296</th>\n",
       "      <td>NC_000962.3</td>\n",
       "      <td>1093947</td>\n",
       "      <td>1094062</td>\n",
       "      <td>Region297_Length_115_bp</td>\n",
       "      <td>Ambiguous</td>\n",
       "      <td>M0011368_9</td>\n",
       "      <td>115</td>\n",
       "    </tr>\n",
       "  </tbody>\n",
       "</table>\n",
       "</div>"
      ],
      "text/plain": [
       "           chrom  chromStart  chromEnd                     name      score    SampleID  Length\n",
       "67   NC_000962.3      334694    334723    Region68_Length_29_bp  Ambiguous  M0011368_9      29\n",
       "221  NC_000962.3      888762    889020  Region222_Length_258_bp  Ambiguous  M0011368_9     258\n",
       "224  NC_000962.3      890379    890450   Region225_Length_71_bp  Ambiguous  M0011368_9      71\n",
       "280  NC_000962.3     1074324   1074327    Region281_Length_3_bp  Ambiguous  M0011368_9       3\n",
       "296  NC_000962.3     1093947   1094062  Region297_Length_115_bp  Ambiguous  M0011368_9     115"
      ]
     },
     "execution_count": 47,
     "metadata": {},
     "output_type": "execute_result"
    }
   ],
   "source": [
    "All_EBR_AmbRegions_ForEach_36CI_DF.head()"
   ]
  },
  {
   "cell_type": "code",
   "execution_count": 48,
   "metadata": {},
   "outputs": [],
   "source": [
    "EBR_Ambigously_Regions_PerIsolate_BED_PATH = f\"{PBvIll_EBR_Ambigous_RegionsDir}/Mtb_AmbigouslyDefinedRegions_PerIsolate_V1.bed\"\n",
    "EBR_Ambigously_Regions_PerIsolate_WiHeader_BED_PATH = f\"{PBvIll_EBR_Ambigous_RegionsDir}/Mtb_AmbigouslyDefinedRegions_PerIsolate_V1.WithHeader.bed\"\n",
    "\n",
    "\n",
    "All_EBR_AmbRegions_ForEach_36CI_DF.to_csv(EBR_Ambigously_Regions_PerIsolate_WiHeader_BED_PATH,\n",
    "                           sep = \"\\t\",\n",
    "                           index = False,\n",
    "                           header = True)\n",
    "\n"
   ]
  },
  {
   "cell_type": "code",
   "execution_count": 49,
   "metadata": {},
   "outputs": [
    {
     "name": "stdout",
     "output_type": "stream",
     "text": [
      "total 184K\n",
      "drwxrwsr-x 2 mm774 farhat  184 Feb 20 00:46 .\n",
      "drwxrwsr-x 4 mm774 farhat  438 Mar 16 14:18 ..\n",
      "-rw-rw-r-- 1 mm774 farhat 1.6K Mar 24 20:01 EBR_36CI_AmbigousRegions_V1.bed\n",
      "-rw-rw-r-- 1 mm774 farhat 1.7K Mar 24 20:01 EBR_36CI_AmbigousRegions_V1.WithHeader.bed\n",
      "-rw-rw-r-- 1 mm774 farhat  72K Mar 24 20:03 Mtb_AmbigouslyDefinedRegions_PerIsolate_V1.WithHeader.bed\n"
     ]
    }
   ],
   "source": [
    "!ls -lah $PBvIll_EBR_Ambigous_RegionsDir"
   ]
  },
  {
   "cell_type": "code",
   "execution_count": null,
   "metadata": {},
   "outputs": [],
   "source": []
  },
  {
   "cell_type": "markdown",
   "metadata": {},
   "source": [
    "## Parse % of genome that Amb regions make up (On Per Isolate Basis)"
   ]
  },
  {
   "cell_type": "code",
   "execution_count": 50,
   "metadata": {},
   "outputs": [
    {
     "name": "stdout",
     "output_type": "stream",
     "text": [
      "1 - Sample: M0011368_9\n",
      "0.7142857142857143\n"
     ]
    },
    {
     "name": "stderr",
     "output_type": "stream",
     "text": [
      "100%|██████████| 4411532/4411532 [00:02<00:00, 2047775.96it/s]\n"
     ]
    },
    {
     "name": "stdout",
     "output_type": "stream",
     "text": [
      "% of genome w/ N/A for EBR: 0.2539480615804215\n",
      "\n",
      "2 - Sample: M0014888_3\n"
     ]
    },
    {
     "name": "stderr",
     "output_type": "stream",
     "text": [
      "/home/mm774/conda3/envs/py37_S/lib/python3.7/site-packages/ipykernel_launcher.py:46: SettingWithCopyWarning: \n",
      "A value is trying to be set on a copy of a slice from a DataFrame.\n",
      "Try using .loc[row_indexer,col_indexer] = value instead\n",
      "\n",
      "See the caveats in the documentation: https://pandas.pydata.org/pandas-docs/stable/user_guide/indexing.html#returning-a-view-versus-a-copy\n"
     ]
    },
    {
     "name": "stdout",
     "output_type": "stream",
     "text": [
      "0.8888888888888888\n"
     ]
    },
    {
     "name": "stderr",
     "output_type": "stream",
     "text": [
      "100%|██████████| 4411532/4411532 [00:02<00:00, 2051926.68it/s]\n"
     ]
    },
    {
     "name": "stdout",
     "output_type": "stream",
     "text": [
      "% of genome w/ N/A for EBR: 0.25127325382656185\n",
      "\n",
      "3 - Sample: M0016395_7\n",
      "0.52\n"
     ]
    },
    {
     "name": "stderr",
     "output_type": "stream",
     "text": [
      "100%|██████████| 4411532/4411532 [00:02<00:00, 2045564.41it/s]\n"
     ]
    },
    {
     "name": "stdout",
     "output_type": "stream",
     "text": [
      "% of genome w/ N/A for EBR: 0.19997588139449063\n",
      "\n",
      "4 - Sample: M0010874_7\n",
      "0.6666666666666666\n"
     ]
    },
    {
     "name": "stderr",
     "output_type": "stream",
     "text": [
      "100%|██████████| 4411532/4411532 [00:02<00:00, 2046657.70it/s]\n"
     ]
    },
    {
     "name": "stdout",
     "output_type": "stream",
     "text": [
      "% of genome w/ N/A for EBR: 0.4823947780498929\n",
      "\n",
      "5 - Sample: 01_R1430\n",
      "0.6190476190476191\n"
     ]
    },
    {
     "name": "stderr",
     "output_type": "stream",
     "text": [
      "100%|██████████| 4411532/4411532 [00:02<00:00, 2035502.54it/s]\n"
     ]
    },
    {
     "name": "stdout",
     "output_type": "stream",
     "text": [
      "% of genome w/ N/A for EBR: 0.3044067231066214\n",
      "\n",
      "6 - Sample: 02_R0894\n",
      "0.7619047619047619\n"
     ]
    },
    {
     "name": "stderr",
     "output_type": "stream",
     "text": [
      "100%|██████████| 4411532/4411532 [00:02<00:00, 2041497.48it/s]\n"
     ]
    },
    {
     "name": "stdout",
     "output_type": "stream",
     "text": [
      "% of genome w/ N/A for EBR: 0.21763414614242851\n",
      "\n",
      "7 - Sample: 02_R1708\n",
      "0.7142857142857143\n"
     ]
    },
    {
     "name": "stderr",
     "output_type": "stream",
     "text": [
      "100%|██████████| 4411532/4411532 [00:02<00:00, 2049326.82it/s]\n"
     ]
    },
    {
     "name": "stdout",
     "output_type": "stream",
     "text": [
      "% of genome w/ N/A for EBR: 0.21743013538154093\n",
      "\n",
      "8 - Sample: 02_R1896\n",
      "0.8636363636363636\n"
     ]
    },
    {
     "name": "stderr",
     "output_type": "stream",
     "text": [
      "100%|██████████| 4411532/4411532 [00:02<00:00, 2046317.51it/s]\n"
     ]
    },
    {
     "name": "stdout",
     "output_type": "stream",
     "text": [
      "% of genome w/ N/A for EBR: 0.3811374370626803\n",
      "\n",
      "9 - Sample: M0016737_0\n",
      "0.7916666666666666\n"
     ]
    },
    {
     "name": "stderr",
     "output_type": "stream",
     "text": [
      "100%|██████████| 4411532/4411532 [00:04<00:00, 1005181.59it/s]\n"
     ]
    },
    {
     "name": "stdout",
     "output_type": "stream",
     "text": [
      "% of genome w/ N/A for EBR: 0.44805296663381333\n",
      "\n",
      "10 - Sample: M0017522_5\n",
      "0.8571428571428571\n"
     ]
    },
    {
     "name": "stderr",
     "output_type": "stream",
     "text": [
      "100%|██████████| 4411532/4411532 [00:04<00:00, 1026819.13it/s]\n"
     ]
    },
    {
     "name": "stdout",
     "output_type": "stream",
     "text": [
      "% of genome w/ N/A for EBR: 0.4330468417774143\n",
      "\n",
      "11 - Sample: 01_R1134\n",
      "0.8235294117647058\n"
     ]
    },
    {
     "name": "stderr",
     "output_type": "stream",
     "text": [
      "100%|██████████| 4411532/4411532 [00:04<00:00, 1018084.46it/s]\n"
     ]
    },
    {
     "name": "stdout",
     "output_type": "stream",
     "text": [
      "% of genome w/ N/A for EBR: 0.26732210034971976\n",
      "\n",
      "12 - Sample: M0003941_3\n",
      "0.6388888888888888\n"
     ]
    },
    {
     "name": "stderr",
     "output_type": "stream",
     "text": [
      "100%|██████████| 4411532/4411532 [00:04<00:00, 1030930.71it/s]\n"
     ]
    },
    {
     "name": "stdout",
     "output_type": "stream",
     "text": [
      "% of genome w/ N/A for EBR: 0.4084748790216188\n",
      "\n",
      "13 - Sample: 02_R1179\n",
      "0.6818181818181818\n"
     ]
    },
    {
     "name": "stderr",
     "output_type": "stream",
     "text": [
      "100%|██████████| 4411532/4411532 [00:04<00:00, 1029535.05it/s]\n"
     ]
    },
    {
     "name": "stdout",
     "output_type": "stream",
     "text": [
      "% of genome w/ N/A for EBR: 0.23798988650654695\n",
      "\n",
      "14 - Sample: N1176\n",
      "0.6857142857142857\n"
     ]
    },
    {
     "name": "stderr",
     "output_type": "stream",
     "text": [
      "100%|██████████| 4411532/4411532 [00:04<00:00, 1022086.11it/s]\n"
     ]
    },
    {
     "name": "stdout",
     "output_type": "stream",
     "text": [
      "% of genome w/ N/A for EBR: 0.4899885119273758\n",
      "\n",
      "15 - Sample: N0072\n",
      "0.7407407407407407\n"
     ]
    },
    {
     "name": "stderr",
     "output_type": "stream",
     "text": [
      "100%|██████████| 4411532/4411532 [00:04<00:00, 1031271.21it/s]\n"
     ]
    },
    {
     "name": "stdout",
     "output_type": "stream",
     "text": [
      "% of genome w/ N/A for EBR: 0.2685461649150454\n",
      "\n",
      "16 - Sample: N0153\n",
      "0.6923076923076923\n"
     ]
    },
    {
     "name": "stderr",
     "output_type": "stream",
     "text": [
      "100%|██████████| 4411532/4411532 [00:04<00:00, 994656.55it/s] \n"
     ]
    },
    {
     "name": "stdout",
     "output_type": "stream",
     "text": [
      "% of genome w/ N/A for EBR: 0.650658320057522\n",
      "\n",
      "17 - Sample: N0145\n",
      "0.6666666666666666\n"
     ]
    },
    {
     "name": "stderr",
     "output_type": "stream",
     "text": [
      "100%|██████████| 4411532/4411532 [00:04<00:00, 1025061.11it/s]\n"
     ]
    },
    {
     "name": "stdout",
     "output_type": "stream",
     "text": [
      "% of genome w/ N/A for EBR: 0.49010185123898\n",
      "\n",
      "18 - Sample: N0155\n",
      "0.6666666666666666\n"
     ]
    },
    {
     "name": "stderr",
     "output_type": "stream",
     "text": [
      "100%|██████████| 4411532/4411532 [00:04<00:00, 1033570.82it/s]\n"
     ]
    },
    {
     "name": "stdout",
     "output_type": "stream",
     "text": [
      "% of genome w/ N/A for EBR: 0.5419432523667514\n",
      "\n",
      "19 - Sample: N0004\n",
      "0.7714285714285715\n"
     ]
    },
    {
     "name": "stderr",
     "output_type": "stream",
     "text": [
      "100%|██████████| 4411532/4411532 [00:04<00:00, 971872.38it/s] \n"
     ]
    },
    {
     "name": "stdout",
     "output_type": "stream",
     "text": [
      "% of genome w/ N/A for EBR: 0.4317547736251261\n",
      "\n",
      "20 - Sample: N1274\n",
      "0.7647058823529411\n"
     ]
    },
    {
     "name": "stderr",
     "output_type": "stream",
     "text": [
      "100%|██████████| 4411532/4411532 [00:04<00:00, 1031809.54it/s]\n"
     ]
    },
    {
     "name": "stdout",
     "output_type": "stream",
     "text": [
      "% of genome w/ N/A for EBR: 0.45156648529354426\n",
      "\n",
      "21 - Sample: N0054\n",
      "0.7714285714285715\n"
     ]
    },
    {
     "name": "stderr",
     "output_type": "stream",
     "text": [
      "100%|██████████| 4411532/4411532 [00:04<00:00, 1031105.76it/s]\n"
     ]
    },
    {
     "name": "stdout",
     "output_type": "stream",
     "text": [
      "% of genome w/ N/A for EBR: 0.4481209702207759\n",
      "\n",
      "22 - Sample: N1272\n",
      "0.6875\n"
     ]
    },
    {
     "name": "stderr",
     "output_type": "stream",
     "text": [
      "100%|██████████| 4411532/4411532 [00:04<00:00, 1023496.23it/s]\n"
     ]
    },
    {
     "name": "stdout",
     "output_type": "stream",
     "text": [
      "% of genome w/ N/A for EBR: 0.4935473663117484\n",
      "\n",
      "23 - Sample: N0091\n",
      "0.6666666666666666\n"
     ]
    },
    {
     "name": "stderr",
     "output_type": "stream",
     "text": [
      "100%|██████████| 4411532/4411532 [00:04<00:00, 1027949.07it/s]\n"
     ]
    },
    {
     "name": "stdout",
     "output_type": "stream",
     "text": [
      "% of genome w/ N/A for EBR: 0.6953593445542274\n",
      "\n",
      "24 - Sample: N1202\n",
      "0.7241379310344828\n"
     ]
    },
    {
     "name": "stderr",
     "output_type": "stream",
     "text": [
      "100%|██████████| 4411532/4411532 [00:04<00:00, 1038702.63it/s]\n"
     ]
    },
    {
     "name": "stdout",
     "output_type": "stream",
     "text": [
      "% of genome w/ N/A for EBR: 0.6635563337180825\n",
      "\n",
      "25 - Sample: N1177\n",
      "0.6774193548387096\n"
     ]
    },
    {
     "name": "stderr",
     "output_type": "stream",
     "text": [
      "100%|██████████| 4411532/4411532 [00:04<00:00, 1031488.06it/s]"
     ]
    },
    {
     "name": "stdout",
     "output_type": "stream",
     "text": [
      "% of genome w/ N/A for EBR: 0.6417271823031092\n",
      "\n",
      "26 - Sample: RW-TB008\n"
     ]
    },
    {
     "name": "stderr",
     "output_type": "stream",
     "text": [
      "\n"
     ]
    },
    {
     "name": "stdout",
     "output_type": "stream",
     "text": [
      "0.8214285714285714\n"
     ]
    },
    {
     "name": "stderr",
     "output_type": "stream",
     "text": [
      "100%|██████████| 4411532/4411532 [00:04<00:00, 1031500.83it/s]\n"
     ]
    },
    {
     "name": "stdout",
     "output_type": "stream",
     "text": [
      "% of genome w/ N/A for EBR: 0.7857361116274346\n",
      "\n",
      "27 - Sample: DNA028\n",
      "0.5952380952380952\n"
     ]
    },
    {
     "name": "stderr",
     "output_type": "stream",
     "text": [
      "100%|██████████| 4411532/4411532 [00:04<00:00, 1036832.43it/s]\n"
     ]
    },
    {
     "name": "stdout",
     "output_type": "stream",
     "text": [
      "% of genome w/ N/A for EBR: 0.5260304130175186\n",
      "\n",
      "28 - Sample: DNA075\n",
      "0.5714285714285714\n"
     ]
    },
    {
     "name": "stderr",
     "output_type": "stream",
     "text": [
      "100%|██████████| 4411532/4411532 [00:04<00:00, 1033244.79it/s]\n"
     ]
    },
    {
     "name": "stdout",
     "output_type": "stream",
     "text": [
      "% of genome w/ N/A for EBR: 0.40457600670243354\n",
      "\n",
      "29 - Sample: DNA091\n",
      "0.5833333333333334\n"
     ]
    },
    {
     "name": "stderr",
     "output_type": "stream",
     "text": [
      "100%|██████████| 4411532/4411532 [00:04<00:00, 1023243.68it/s]\n"
     ]
    },
    {
     "name": "stdout",
     "output_type": "stream",
     "text": [
      "% of genome w/ N/A for EBR: 0.41946879224722844\n",
      "\n",
      "30 - Sample: DNA044\n",
      "0.71875\n"
     ]
    },
    {
     "name": "stderr",
     "output_type": "stream",
     "text": [
      "100%|██████████| 4411532/4411532 [00:04<00:00, 1020025.38it/s]\n"
     ]
    },
    {
     "name": "stdout",
     "output_type": "stream",
     "text": [
      "% of genome w/ N/A for EBR: 0.28677112622100437\n",
      "\n",
      "31 - Sample: DNA020\n",
      "0.7142857142857143\n"
     ]
    },
    {
     "name": "stderr",
     "output_type": "stream",
     "text": [
      "100%|██████████| 4411532/4411532 [00:02<00:00, 1896951.24it/s]"
     ]
    },
    {
     "name": "stdout",
     "output_type": "stream",
     "text": [
      "% of genome w/ N/A for EBR: 0.2756638736837906\n",
      "\n",
      "32 - Sample: AZE_02_042\n"
     ]
    },
    {
     "name": "stderr",
     "output_type": "stream",
     "text": [
      "\n"
     ]
    },
    {
     "name": "stdout",
     "output_type": "stream",
     "text": [
      "0.6923076923076923\n"
     ]
    },
    {
     "name": "stderr",
     "output_type": "stream",
     "text": [
      "100%|██████████| 4411532/4411532 [00:02<00:00, 2059836.84it/s]"
     ]
    },
    {
     "name": "stdout",
     "output_type": "stream",
     "text": [
      "% of genome w/ N/A for EBR: 0.3742917426417852\n",
      "\n",
      "33 - Sample: DNA019_Rose\n"
     ]
    },
    {
     "name": "stderr",
     "output_type": "stream",
     "text": [
      "\n"
     ]
    },
    {
     "name": "stdout",
     "output_type": "stream",
     "text": [
      "0.8461538461538461\n"
     ]
    },
    {
     "name": "stderr",
     "output_type": "stream",
     "text": [
      "100%|██████████| 4411532/4411532 [00:02<00:00, 2017851.23it/s]\n"
     ]
    },
    {
     "name": "stdout",
     "output_type": "stream",
     "text": [
      "% of genome w/ N/A for EBR: 0.3408113099938978\n",
      "\n",
      "34 - Sample: DNA120\n",
      "0.75\n"
     ]
    },
    {
     "name": "stderr",
     "output_type": "stream",
     "text": [
      "100%|██████████| 4411532/4411532 [00:02<00:00, 2055507.03it/s]\n"
     ]
    },
    {
     "name": "stdout",
     "output_type": "stream",
     "text": [
      "% of genome w/ N/A for EBR: 0.31605800433953557\n",
      "\n",
      "35 - Sample: DNA188\n",
      "0.8636363636363636\n"
     ]
    },
    {
     "name": "stderr",
     "output_type": "stream",
     "text": [
      "100%|██████████| 4411532/4411532 [00:02<00:00, 2044524.70it/s]\n"
     ]
    },
    {
     "name": "stdout",
     "output_type": "stream",
     "text": [
      "% of genome w/ N/A for EBR: 0.42731187261024056\n",
      "\n",
      "36 - Sample: DNA086\n",
      "0.5555555555555556\n"
     ]
    },
    {
     "name": "stderr",
     "output_type": "stream",
     "text": [
      "100%|██████████| 4411532/4411532 [00:02<00:00, 2022789.41it/s]\n"
     ]
    },
    {
     "name": "stdout",
     "output_type": "stream",
     "text": [
      "% of genome w/ N/A for EBR: 0.29998648995405675\n",
      "\n"
     ]
    }
   ],
   "source": [
    "sample_Counter = 1\n",
    "\n",
    "dictOf_SampleID_To_PercentOfGenomeAMB = {}\n",
    "\n",
    "for SampleID in (SampleIDs_36CI_SOI): # tqdm( [\"M0011368_9\"])\n",
    "#for SampleID in tqdm(SampleIDs_35CI_AllSamples): # tqdm( [\"M0011368_9\"])\n",
    "\n",
    "    \n",
    "    print(f\"{sample_Counter} - Sample: {SampleID}\")\n",
    "    #SampleID = \"M0011368_9\"\n",
    "\n",
    "    Sample_Output_Dir = PMP_SM_TB_Portals_R1_Illumina_WGS_201201_OutputDir + \"/\" + SampleID\n",
    "\n",
    "    EBR_Ambigous_Regions_OutputDir = f\"{Sample_Output_Dir}/EmpiricalBasePairRecall_Analysis_V7_PacBio_Vs_IlluminaPilon\"\n",
    "    \n",
    "    #!mkdir $EBR_Ambigous_Regions_OutputDir\n",
    "    \n",
    "    EBR_Ambigous_Regions_BED_PATH = f\"{EBR_Ambigous_Regions_OutputDir}/EBR.V7.IndivIsolate.{SampleID}.Ambiguous.Regions.bed\"\n",
    "    #EBR_Ambigous_Regions_HighSeqDivergence_BED_PATH = f\"{EBR_Ambigous_Regions_OutputDir}/EBR.V7.IndivIsolate.{SampleID}.Ambiguous.NoDupRegions.HighSeqDivergenceOnly.Regions.bed\"\n",
    "    #EBR_Ambigous_Regions_DUPregions_BED_PATH = f\"{EBR_Ambigous_Regions_OutputDir}/EBR.V7.IndivIsolate.{SampleID}.Ambiguous.DupRegions.Regions.bed\"\n",
    "\n",
    "    \n",
    "    Total_Num_AmbRegions = !wc -l $EBR_Ambigous_Regions_BED_PATH\n",
    "    Total_Num_AmbRegions = int(Total_Num_AmbRegions[0].split(\" \")[0])\n",
    "\n",
    "    Num_AmbRegions_OverlapWithPLC = !bedtools intersect -a $EBR_Ambigous_Regions_BED_PATH -b $Mtb_H37rv_pLCRegions_Coscolla_BED_PATH -wa | bedtools merge | wc -l\n",
    "    Num_AmbRegions_OverlapWithPLC = int(Num_AmbRegions_OverlapWithPLC[0].split(\" \")[0])\n",
    "  \n",
    "    i_FractionOf_AmbRegions_OverlapWithPLC = Num_AmbRegions_OverlapWithPLC / Total_Num_AmbRegions\n",
    "\n",
    "    print( i_FractionOf_AmbRegions_OverlapWithPLC)\n",
    "    \n",
    "    \n",
    "    \n",
    "    #i_EBR_BED_DF = dictOf_BED_DFs_IndivSample_EBRs[SampleID]\n",
    "\n",
    "    \n",
    "    \n",
    "    \n",
    "    i_EBR_BED_DF = convert_GenomeNParray_To_BED_DF( pd.Series(dictOf_EBR_IndivIsolate_NPYs[SampleID]).fillna(\"Ambiguous\").values )     \n",
    "\n",
    "    i_EBR_BED_DF_AMB_ONLY = i_EBR_BED_DF[ i_EBR_BED_DF[\"score\"] == \"Ambiguous\" ]\n",
    "    \n",
    "    \n",
    "    \n",
    "    i_EBR_BED_DF_AMB_ONLY[\"Length\"] = i_EBR_BED_DF_AMB_ONLY[\"chromEnd\"] - i_EBR_BED_DF_AMB_ONLY[\"chromStart\"]\n",
    "\n",
    "    \n",
    "    Percent_NA_i = float(  ( (i_EBR_BED_DF_AMB_ONLY[\"Length\"].values.astype(int).sum()) / 4411532) * 100 )\n",
    "    \n",
    "    dictOf_SampleID_To_PercentOfGenomeAMB[SampleID] = Percent_NA_i\n",
    "    \n",
    "    print(\"% of genome w/ N/A for EBR:\", Percent_NA_i)   \n",
    "    \n",
    "    \n",
    "    #!ls -lah $EBR_Ambigous_Regions_BED_PATH \n",
    "    #!wc -l $EBR_Ambigous_Regions_BED_PATH \n",
    "    #!head -n 3 $EBR_Ambigous_Regions_BED_PATH \n",
    "    \n",
    "    print()\n",
    "    sample_Counter += 1\n",
    "    \n",
    "    \n",
    "    "
   ]
  },
  {
   "cell_type": "code",
   "execution_count": 51,
   "metadata": {},
   "outputs": [
    {
     "name": "stdout",
     "output_type": "stream",
     "text": [
      "NC_000962.3\t334641\t334653\tRegion46_Length_12_bp\tAmbiguous\n",
      "NC_000962.3\t1093947\t1094062\tRegion349_Length_115_bp\tAmbiguous\n",
      "NC_000962.3\t1096042\t1096157\tRegion351_Length_115_bp\tAmbiguous\n",
      "NC_000962.3\t1637087\t1637214\tRegion466_Length_127_bp\tAmbiguous\n",
      "NC_000962.3\t1996098\t1997461\tRegion503_Length_1363_bp\tAmbiguous\n",
      "NC_000962.3\t1996098\t1997461\tRegion503_Length_1363_bp\tAmbiguous\n",
      "NC_000962.3\t1996098\t1997461\tRegion503_Length_1363_bp\tAmbiguous\n",
      "NC_000962.3\t2306452\t2306724\tRegion568_Length_272_bp\tAmbiguous\n",
      "NC_000962.3\t2550013\t2551366\tRegion618_Length_1353_bp\tAmbiguous\n",
      "NC_000962.3\t2550013\t2551366\tRegion618_Length_1353_bp\tAmbiguous\n",
      "NC_000962.3\t2550013\t2551366\tRegion618_Length_1353_bp\tAmbiguous\n",
      "NC_000962.3\t2632922\t2634201\tRegion627_Length_1279_bp\tAmbiguous\n",
      "NC_000962.3\t2635576\t2636375\tRegion635_Length_799_bp\tAmbiguous\n",
      "NC_000962.3\t2635576\t2636375\tRegion635_Length_799_bp\tAmbiguous\n",
      "NC_000962.3\t2635576\t2636375\tRegion635_Length_799_bp\tAmbiguous\n",
      "NC_000962.3\t2638985\t2639613\tRegion638_Length_628_bp\tAmbiguous\n",
      "NC_000962.3\t3551229\t3552585\tRegion772_Length_1356_bp\tAmbiguous\n",
      "NC_000962.3\t3551229\t3552585\tRegion772_Length_1356_bp\tAmbiguous\n",
      "NC_000962.3\t3731460\t3732089\tRegion813_Length_629_bp\tAmbiguous\n",
      "NC_000962.3\t3793906\t3796412\tRegion832_Length_2506_bp\tAmbiguous\n",
      "NC_000962.3\t3793906\t3796412\tRegion832_Length_2506_bp\tAmbiguous\n",
      "NC_000962.3\t3842437\t3842766\tRegion850_Length_329_bp\tAmbiguous\n",
      "NC_000962.3\t3946794\t3946879\tRegion939_Length_85_bp\tAmbiguous\n"
     ]
    }
   ],
   "source": [
    "!bedtools intersect -a $EBR_Ambigous_Regions_BED_PATH -b $Mtb_H37rv_pLCRegions_Coscolla_BED_PATH -wa"
   ]
  },
  {
   "cell_type": "code",
   "execution_count": null,
   "metadata": {},
   "outputs": [],
   "source": []
  },
  {
   "cell_type": "code",
   "execution_count": null,
   "metadata": {},
   "outputs": [],
   "source": []
  },
  {
   "cell_type": "code",
   "execution_count": 52,
   "metadata": {},
   "outputs": [
    {
     "data": {
      "text/plain": [
       "13234"
      ]
     },
     "execution_count": 52,
     "metadata": {},
     "output_type": "execute_result"
    }
   ],
   "source": [
    "i_EBR_BED_DF_AMB_ONLY[\"Length\"].values.astype(int).sum()"
   ]
  },
  {
   "cell_type": "code",
   "execution_count": 53,
   "metadata": {},
   "outputs": [
    {
     "data": {
      "text/plain": [
       "1.0          495\n",
       "0.0          483\n",
       "Ambiguous     27\n",
       "Name: score, dtype: int64"
      ]
     },
     "execution_count": 53,
     "metadata": {},
     "output_type": "execute_result"
    }
   ],
   "source": [
    "i_EBR_BED_DF[\"score\"].value_counts()"
   ]
  },
  {
   "cell_type": "code",
   "execution_count": null,
   "metadata": {},
   "outputs": [],
   "source": []
  },
  {
   "cell_type": "code",
   "execution_count": 54,
   "metadata": {},
   "outputs": [
    {
     "data": {
      "text/plain": [
       "{'M0011368_9': 0.2539480615804215,\n",
       " 'M0014888_3': 0.25127325382656185,\n",
       " 'M0016395_7': 0.19997588139449063,\n",
       " 'M0010874_7': 0.4823947780498929,\n",
       " '01_R1430': 0.3044067231066214,\n",
       " '02_R0894': 0.21763414614242851,\n",
       " '02_R1708': 0.21743013538154093,\n",
       " '02_R1896': 0.3811374370626803,\n",
       " 'M0016737_0': 0.44805296663381333,\n",
       " 'M0017522_5': 0.4330468417774143,\n",
       " '01_R1134': 0.26732210034971976,\n",
       " 'M0003941_3': 0.4084748790216188,\n",
       " '02_R1179': 0.23798988650654695,\n",
       " 'N1176': 0.4899885119273758,\n",
       " 'N0072': 0.2685461649150454,\n",
       " 'N0153': 0.650658320057522,\n",
       " 'N0145': 0.49010185123898,\n",
       " 'N0155': 0.5419432523667514,\n",
       " 'N0004': 0.4317547736251261,\n",
       " 'N1274': 0.45156648529354426,\n",
       " 'N0054': 0.4481209702207759,\n",
       " 'N1272': 0.4935473663117484,\n",
       " 'N0091': 0.6953593445542274,\n",
       " 'N1202': 0.6635563337180825,\n",
       " 'N1177': 0.6417271823031092,\n",
       " 'RW-TB008': 0.7857361116274346,\n",
       " 'DNA028': 0.5260304130175186,\n",
       " 'DNA075': 0.40457600670243354,\n",
       " 'DNA091': 0.41946879224722844,\n",
       " 'DNA044': 0.28677112622100437,\n",
       " 'DNA020': 0.2756638736837906,\n",
       " 'AZE_02_042': 0.3742917426417852,\n",
       " 'DNA019_Rose': 0.3408113099938978,\n",
       " 'DNA120': 0.31605800433953557,\n",
       " 'DNA188': 0.42731187261024056,\n",
       " 'DNA086': 0.29998648995405675}"
      ]
     },
     "execution_count": 54,
     "metadata": {},
     "output_type": "execute_result"
    }
   ],
   "source": [
    "dictOf_SampleID_To_PercentOfGenomeAMB"
   ]
  },
  {
   "cell_type": "code",
   "execution_count": 55,
   "metadata": {},
   "outputs": [],
   "source": [
    "PMP_36CI_AnalysisSet_AssemblySummary[\"Percent_Amb_RelativeToH37Rv\"] = PMP_36CI_AnalysisSet_AssemblySummary[\"SampleID\"].map(dictOf_SampleID_To_PercentOfGenomeAMB)"
   ]
  },
  {
   "cell_type": "code",
   "execution_count": 56,
   "metadata": {},
   "outputs": [
    {
     "data": {
      "text/plain": [
       "count    36.000000\n",
       "mean      0.411852\n",
       "std       0.148348\n",
       "min       0.199976\n",
       "25%       0.283994\n",
       "50%       0.413972\n",
       "75%       0.490017\n",
       "max       0.785736\n",
       "Name: Percent_Amb_RelativeToH37Rv, dtype: float64"
      ]
     },
     "execution_count": 56,
     "metadata": {},
     "output_type": "execute_result"
    }
   ],
   "source": [
    "PMP_36CI_AnalysisSet_AssemblySummary[\"Percent_Amb_RelativeToH37Rv\"].describe()"
   ]
  },
  {
   "cell_type": "markdown",
   "metadata": {},
   "source": [
    "### What does the distribution of % AMB look like across all 36 Mtb isolates evaluated?\n",
    "Median = 0.41% (IQR: 0.28% - 0.48%)"
   ]
  },
  {
   "cell_type": "code",
   "execution_count": 57,
   "metadata": {},
   "outputs": [
    {
     "data": {
      "text/html": [
       "<div>\n",
       "<style scoped>\n",
       "    .dataframe tbody tr th:only-of-type {\n",
       "        vertical-align: middle;\n",
       "    }\n",
       "\n",
       "    .dataframe tbody tr th {\n",
       "        vertical-align: top;\n",
       "    }\n",
       "\n",
       "    .dataframe thead th {\n",
       "        text-align: right;\n",
       "    }\n",
       "</style>\n",
       "<table border=\"1\" class=\"dataframe\">\n",
       "  <thead>\n",
       "    <tr style=\"text-align: right;\">\n",
       "      <th></th>\n",
       "      <th>SampleID</th>\n",
       "      <th>numContigs_Complete</th>\n",
       "      <th>circContig_Length</th>\n",
       "      <th>circContig_Cov</th>\n",
       "      <th>PacBio_Subread_Median_Length</th>\n",
       "      <th>LineageCall_Illumina</th>\n",
       "      <th>LineageCall_PacBio</th>\n",
       "      <th>F2_Illumina</th>\n",
       "      <th>F2_PacBio</th>\n",
       "      <th>ANI_I3</th>\n",
       "      <th>ANI_I3_PP</th>\n",
       "      <th>IlluminaWGSToH37rv_AvrgCov</th>\n",
       "      <th>PacBio_Subreads_H37Rv_AvrgCov</th>\n",
       "      <th>NumAnno_ORFs_PB_PilonPolished</th>\n",
       "      <th>NumAnno_ORFs_PB_DeNovo</th>\n",
       "      <th>GCcontent_PB_PP_GBK</th>\n",
       "      <th>NumChanges_PilonPolished</th>\n",
       "      <th>NumSNPs_PilonPolished</th>\n",
       "      <th>NumTotalInsertions_PilonPolished</th>\n",
       "      <th>Num1bpInsertion_PilonPolished</th>\n",
       "      <th>Num2bpInsertion_PilonPolished</th>\n",
       "      <th>NumTotalDeletions_PilonPolished</th>\n",
       "      <th>Num1bpDeletion_PilonPolished</th>\n",
       "      <th>PrimaryLineage_PB</th>\n",
       "      <th>PrimaryLineage_Ill</th>\n",
       "      <th>Dataset_Tag</th>\n",
       "      <th>Percent_Amb_RelativeToH37Rv</th>\n",
       "    </tr>\n",
       "  </thead>\n",
       "  <tbody>\n",
       "    <tr>\n",
       "      <th>0</th>\n",
       "      <td>M0011368_9</td>\n",
       "      <td>1</td>\n",
       "      <td>4397765</td>\n",
       "      <td>203</td>\n",
       "      <td>3773.0</td>\n",
       "      <td>lineage4,lineage4.4,lineage4.4.1</td>\n",
       "      <td>lineage4,lineage4.4,lineage4.4.1</td>\n",
       "      <td>0.004937</td>\n",
       "      <td>0.305222</td>\n",
       "      <td>99.9368</td>\n",
       "      <td>99.9364</td>\n",
       "      <td>40</td>\n",
       "      <td>191</td>\n",
       "      <td>4050</td>\n",
       "      <td>4075</td>\n",
       "      <td>65.614721</td>\n",
       "      <td>63</td>\n",
       "      <td>0</td>\n",
       "      <td>59</td>\n",
       "      <td>58</td>\n",
       "      <td>1</td>\n",
       "      <td>4</td>\n",
       "      <td>4</td>\n",
       "      <td>lineage4</td>\n",
       "      <td>lineage4</td>\n",
       "      <td>Farhat_Peru_2019</td>\n",
       "      <td>0.253948</td>\n",
       "    </tr>\n",
       "    <tr>\n",
       "      <th>1</th>\n",
       "      <td>M0014888_3</td>\n",
       "      <td>1</td>\n",
       "      <td>4399966</td>\n",
       "      <td>194</td>\n",
       "      <td>5038.0</td>\n",
       "      <td>lineage4,lineage4.1,lineage4.1.2,lineage4.1.2.1</td>\n",
       "      <td>lineage4,lineage4.1,lineage4.1.2,lineage4.1.2.1</td>\n",
       "      <td>0.007132</td>\n",
       "      <td>0.279607</td>\n",
       "      <td>99.9185</td>\n",
       "      <td>99.9193</td>\n",
       "      <td>77</td>\n",
       "      <td>182</td>\n",
       "      <td>4048</td>\n",
       "      <td>4060</td>\n",
       "      <td>65.635971</td>\n",
       "      <td>39</td>\n",
       "      <td>0</td>\n",
       "      <td>39</td>\n",
       "      <td>39</td>\n",
       "      <td>0</td>\n",
       "      <td>0</td>\n",
       "      <td>0</td>\n",
       "      <td>lineage4</td>\n",
       "      <td>lineage4</td>\n",
       "      <td>Farhat_Peru_2019</td>\n",
       "      <td>0.251273</td>\n",
       "    </tr>\n",
       "    <tr>\n",
       "      <th>2</th>\n",
       "      <td>M0016395_7</td>\n",
       "      <td>1</td>\n",
       "      <td>4420916</td>\n",
       "      <td>195</td>\n",
       "      <td>4621.0</td>\n",
       "      <td>lineage4,lineage4.3,lineage4.3.2</td>\n",
       "      <td>lineage4,lineage4.3,lineage4.3.2</td>\n",
       "      <td>0.003671</td>\n",
       "      <td>0.299199</td>\n",
       "      <td>99.9248</td>\n",
       "      <td>99.9262</td>\n",
       "      <td>43</td>\n",
       "      <td>183</td>\n",
       "      <td>4068</td>\n",
       "      <td>4096</td>\n",
       "      <td>65.615829</td>\n",
       "      <td>71</td>\n",
       "      <td>1</td>\n",
       "      <td>66</td>\n",
       "      <td>65</td>\n",
       "      <td>1</td>\n",
       "      <td>4</td>\n",
       "      <td>4</td>\n",
       "      <td>lineage4</td>\n",
       "      <td>lineage4</td>\n",
       "      <td>Farhat_Peru_2019</td>\n",
       "      <td>0.199976</td>\n",
       "    </tr>\n",
       "    <tr>\n",
       "      <th>3</th>\n",
       "      <td>M0010874_7</td>\n",
       "      <td>1</td>\n",
       "      <td>4396274</td>\n",
       "      <td>172</td>\n",
       "      <td>4675.0</td>\n",
       "      <td>lineage4,lineage4.3,lineage4.3.3</td>\n",
       "      <td>lineage4,lineage4.3,lineage4.3.3</td>\n",
       "      <td>0.002880</td>\n",
       "      <td>0.289791</td>\n",
       "      <td>99.9283</td>\n",
       "      <td>99.9310</td>\n",
       "      <td>89</td>\n",
       "      <td>161</td>\n",
       "      <td>4054</td>\n",
       "      <td>4103</td>\n",
       "      <td>65.614744</td>\n",
       "      <td>111</td>\n",
       "      <td>9</td>\n",
       "      <td>95</td>\n",
       "      <td>95</td>\n",
       "      <td>0</td>\n",
       "      <td>7</td>\n",
       "      <td>6</td>\n",
       "      <td>lineage4</td>\n",
       "      <td>lineage4</td>\n",
       "      <td>Farhat_Peru_2019</td>\n",
       "      <td>0.482395</td>\n",
       "    </tr>\n",
       "    <tr>\n",
       "      <th>4</th>\n",
       "      <td>01_R1430</td>\n",
       "      <td>1</td>\n",
       "      <td>4409128</td>\n",
       "      <td>227</td>\n",
       "      <td>6009.0</td>\n",
       "      <td>lineage4,lineage4.4,lineage4.4.1</td>\n",
       "      <td>lineage4,lineage4.4,lineage4.4.1</td>\n",
       "      <td>0.005372</td>\n",
       "      <td>0.295069</td>\n",
       "      <td>99.9284</td>\n",
       "      <td>99.9290</td>\n",
       "      <td>253</td>\n",
       "      <td>212</td>\n",
       "      <td>4070</td>\n",
       "      <td>4119</td>\n",
       "      <td>65.613390</td>\n",
       "      <td>93</td>\n",
       "      <td>0</td>\n",
       "      <td>90</td>\n",
       "      <td>89</td>\n",
       "      <td>0</td>\n",
       "      <td>3</td>\n",
       "      <td>3</td>\n",
       "      <td>lineage4</td>\n",
       "      <td>lineage4</td>\n",
       "      <td>Farhat_Peru_2019</td>\n",
       "      <td>0.304407</td>\n",
       "    </tr>\n",
       "  </tbody>\n",
       "</table>\n",
       "</div>"
      ],
      "text/plain": [
       "     SampleID  numContigs_Complete  circContig_Length  circContig_Cov  PacBio_Subread_Median_Length                             LineageCall_Illumina                               LineageCall_PacBio  F2_Illumina  F2_PacBio   ANI_I3  ANI_I3_PP  IlluminaWGSToH37rv_AvrgCov  PacBio_Subreads_H37Rv_AvrgCov  NumAnno_ORFs_PB_PilonPolished  NumAnno_ORFs_PB_DeNovo  GCcontent_PB_PP_GBK  NumChanges_PilonPolished  NumSNPs_PilonPolished  NumTotalInsertions_PilonPolished  Num1bpInsertion_PilonPolished  Num2bpInsertion_PilonPolished  NumTotalDeletions_PilonPolished  Num1bpDeletion_PilonPolished PrimaryLineage_PB PrimaryLineage_Ill       Dataset_Tag  Percent_Amb_RelativeToH37Rv\n",
       "0  M0011368_9                    1            4397765             203                        3773.0                 lineage4,lineage4.4,lineage4.4.1                 lineage4,lineage4.4,lineage4.4.1     0.004937   0.305222  99.9368    99.9364                          40                            191                           4050                    4075            65.614721                        63                      0                                59                             58                              1                                4                             4          lineage4           lineage4  Farhat_Peru_2019                     0.253948\n",
       "1  M0014888_3                    1            4399966             194                        5038.0  lineage4,lineage4.1,lineage4.1.2,lineage4.1.2.1  lineage4,lineage4.1,lineage4.1.2,lineage4.1.2.1     0.007132   0.279607  99.9185    99.9193                          77                            182                           4048                    4060            65.635971                        39                      0                                39                             39                              0                                0                             0          lineage4           lineage4  Farhat_Peru_2019                     0.251273\n",
       "2  M0016395_7                    1            4420916             195                        4621.0                 lineage4,lineage4.3,lineage4.3.2                 lineage4,lineage4.3,lineage4.3.2     0.003671   0.299199  99.9248    99.9262                          43                            183                           4068                    4096            65.615829                        71                      1                                66                             65                              1                                4                             4          lineage4           lineage4  Farhat_Peru_2019                     0.199976\n",
       "3  M0010874_7                    1            4396274             172                        4675.0                 lineage4,lineage4.3,lineage4.3.3                 lineage4,lineage4.3,lineage4.3.3     0.002880   0.289791  99.9283    99.9310                          89                            161                           4054                    4103            65.614744                       111                      9                                95                             95                              0                                7                             6          lineage4           lineage4  Farhat_Peru_2019                     0.482395\n",
       "4    01_R1430                    1            4409128             227                        6009.0                 lineage4,lineage4.4,lineage4.4.1                 lineage4,lineage4.4,lineage4.4.1     0.005372   0.295069  99.9284    99.9290                         253                            212                           4070                    4119            65.613390                        93                      0                                90                             89                              0                                3                             3          lineage4           lineage4  Farhat_Peru_2019                     0.304407"
      ]
     },
     "execution_count": 57,
     "metadata": {},
     "output_type": "execute_result"
    }
   ],
   "source": [
    "PMP_36CI_AnalysisSet_AssemblySummary.head()"
   ]
  },
  {
   "cell_type": "code",
   "execution_count": null,
   "metadata": {},
   "outputs": [],
   "source": []
  },
  {
   "cell_type": "code",
   "execution_count": null,
   "metadata": {},
   "outputs": [],
   "source": []
  },
  {
   "cell_type": "code",
   "execution_count": null,
   "metadata": {},
   "outputs": [],
   "source": []
  },
  {
   "cell_type": "code",
   "execution_count": null,
   "metadata": {},
   "outputs": [],
   "source": []
  },
  {
   "cell_type": "code",
   "execution_count": null,
   "metadata": {},
   "outputs": [],
   "source": []
  }
 ],
 "metadata": {
  "kernelspec": {
   "display_name": "py37_S",
   "language": "python",
   "name": "py37_s"
  },
  "language_info": {
   "codemirror_mode": {
    "name": "ipython",
    "version": 3
   },
   "file_extension": ".py",
   "mimetype": "text/x-python",
   "name": "python",
   "nbconvert_exporter": "python",
   "pygments_lexer": "ipython3",
   "version": "3.7.3"
  }
 },
 "nbformat": 4,
 "nbformat_minor": 4
}
