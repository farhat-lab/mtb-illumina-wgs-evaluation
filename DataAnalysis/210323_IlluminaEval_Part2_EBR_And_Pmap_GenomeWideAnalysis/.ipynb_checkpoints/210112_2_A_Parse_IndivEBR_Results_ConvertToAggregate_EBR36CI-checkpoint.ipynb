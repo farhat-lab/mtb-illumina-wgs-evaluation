{
 "cells": [
  {
   "cell_type": "markdown",
   "metadata": {},
   "source": [
    "# Parsing EBR calculations from EBR TSVs\n",
    "\n",
    "### Maximillian Marin\n",
    "### mgmarin@g.harvard.edu\n",
    "\n",
    "### Goal: To write code that will read EBR results from Disc and produce same data structures as before (in memory).\n",
    "\n"
   ]
  },
  {
   "cell_type": "code",
   "execution_count": 1,
   "metadata": {},
   "outputs": [],
   "source": [
    "import numpy as np\n",
    "import pandas as pd\n",
    "import vcf\n",
    "from tqdm import tqdm\n",
    "import matplotlib.pyplot as plt\n",
    "import seaborn as sns\n",
    "import pickle\n",
    "import json\n",
    "\n",
    "%matplotlib inline"
   ]
  },
  {
   "cell_type": "markdown",
   "metadata": {},
   "source": [
    "#### Pandas Viewing Settings"
   ]
  },
  {
   "cell_type": "code",
   "execution_count": 2,
   "metadata": {},
   "outputs": [],
   "source": [
    "pd.set_option('display.max_rows', 500)\n",
    "pd.set_option('display.max_columns', 500)\n",
    "pd.set_option('display.width', 1000)"
   ]
  },
  {
   "cell_type": "code",
   "execution_count": 3,
   "metadata": {},
   "outputs": [
    {
     "name": "stdout",
     "output_type": "stream",
     "text": [
      "bedtools v2.29.2\n"
     ]
    }
   ],
   "source": [
    "!bedtools --version"
   ]
  },
  {
   "cell_type": "markdown",
   "metadata": {},
   "source": [
    "## Define function for output of a BED file from a NP array with values for each basepair position"
   ]
  },
  {
   "cell_type": "code",
   "execution_count": 70,
   "metadata": {},
   "outputs": [],
   "source": [
    "# BED format specifications: https://useast.ensembl.org/info/website/upload/bed.html\n",
    "\n",
    "def convert_EBR_GenomeNParray_To_BED_DF(input_GenomeNParray, genomeChrom = \"NC_000962.3\"):\n",
    "    \"\"\" \"\"\"\n",
    "     \n",
    "    #input_GenomeNParray = pd.Series(input_GenomeNParray).fillna(\"Ambiguous\")\n",
    "    #input_GenomeNParray = pd.Series(input_GenomeNParray).fillna(0)\n",
    "    input_GenomeNParray = pd.Series(input_GenomeNParray).fillna(-1)\n",
    "    \n",
    "    last_Score = input_GenomeNParray[0]\n",
    "\n",
    "    startOfRegion = 0\n",
    "    listOfBED_Tuples = []\n",
    "    RegionCounter = 1\n",
    "\n",
    "    for RefPos_0based in (np.arange(len(input_GenomeNParray))):\n",
    "\n",
    "        EBR_Score = input_GenomeNParray[RefPos_0based]\n",
    "\n",
    "        if EBR_Score != last_Score:\n",
    "\n",
    "            endOfRegion = RefPos_0based\n",
    "            lengthOfRegion = endOfRegion - startOfRegion \n",
    "\n",
    "            BED_EntryTuple = (genomeChrom, startOfRegion, endOfRegion, f\"Region{RegionCounter}_Length_{lengthOfRegion}_bp\", last_Score,)\n",
    "            listOfBED_Tuples.append(BED_EntryTuple)\n",
    "\n",
    "            RegionCounter += 1\n",
    "\n",
    "            #print(f\"{H37rv_ChrName}, {startOfRegion}, {RefPos_0based}, {lengthOfRegion}_bp, {last_Score}, .\")\n",
    "\n",
    "            startOfRegion = RefPos_0based \n",
    "\n",
    "            #1 Output the last range\n",
    "            #2 Store the new score    \n",
    "\n",
    "        last_Score = EBR_Score #2 Store the new score   \n",
    "\n",
    "        \n",
    "        \n",
    "    endOfRegion = RefPos_0based + 1\n",
    "    lengthOfRegion = endOfRegion - startOfRegion \n",
    "\n",
    "    BED_EntryTuple = (genomeChrom, startOfRegion, endOfRegion, f\"Region{RegionCounter}_Length_{lengthOfRegion}_bp\", last_Score)\n",
    "    listOfBED_Tuples.append(BED_EntryTuple)       \n",
    "\n",
    "    BED_DF = pd.DataFrame(listOfBED_Tuples)\n",
    "    \n",
    "    BED_DF.columns = [\"chrom\", \"chromStart\", \"chromEnd\", \"name\", \"score\" ]\n",
    "    \n",
    "    \n",
    "    return BED_DF"
   ]
  },
  {
   "cell_type": "code",
   "execution_count": 5,
   "metadata": {},
   "outputs": [],
   "source": [
    "def convert_EBR_Array_To_TSV(input_EBR_Array, EBR_Output_TSV_PATH):\n",
    "    \n",
    "    input_EBR_TSV_DF = pd.DataFrame(input_EBR_Array)\n",
    "\n",
    "    input_EBR_TSV_DF.columns = [\"EmpiricalBasePairRecall\"]\n",
    "    input_EBR_TSV_DF[\"H37rv_RefPos_0based\"] = input_EBR_TSV_DF.index\n",
    "    input_EBR_TSV_DF[\"H37rv_RefPos_1based\"] = input_EBR_TSV_DF[\"H37rv_RefPos_0based\"] + 1\n",
    "\n",
    "    input_EBR_TSV_DF = input_EBR_TSV_DF[[\"H37rv_RefPos_0based\", \"H37rv_RefPos_1based\", \"EmpiricalBasePairRecall\"]  ]     \n",
    "\n",
    "    input_EBR_TSV_DF.to_csv(EBR_Output_TSV_PATH, sep = \"\\t\", index = False)\n",
    "    \n",
    "    print(\"TSV output to:\", EBR_Output_TSV_PATH)\n",
    "    \n",
    "    return input_EBR_TSV_DF"
   ]
  },
  {
   "cell_type": "code",
   "execution_count": null,
   "metadata": {},
   "outputs": [],
   "source": []
  },
  {
   "cell_type": "code",
   "execution_count": null,
   "metadata": {},
   "outputs": [],
   "source": []
  },
  {
   "cell_type": "code",
   "execution_count": null,
   "metadata": {},
   "outputs": [],
   "source": []
  },
  {
   "cell_type": "markdown",
   "metadata": {},
   "source": [
    "# Parse Assembly and Sequence analysis results Sample Info"
   ]
  },
  {
   "cell_type": "code",
   "execution_count": 6,
   "metadata": {},
   "outputs": [
    {
     "name": "stdout",
     "output_type": "stream",
     "text": [
      "M0011368_9,M0014888_3,M0016395_7,M0010874_7,01_R1430,02_R0894,02_R1708,02_R1896,M0016737_0,M0017522_5,01_R1134,M0003941_3,02_R1179,N1176,N0072,N0153,N0145,N0155,N0004,N1274,N0054,N1272,N0091,N1202,N1177,RW-TB008,DNA028,DNA075,DNA091,DNA044,DNA020,AZE_02_042,DNA019_Rose,DNA120,DNA188,DNA086\n"
     ]
    }
   ],
   "source": [
    "Repo_DataDir = \"../../Data\"\n",
    "\n",
    "PMP_SM_ResultsSummary_Dir_210108 = Repo_DataDir + \"/210108_PMP_SM_50CI_V7_ResultsSummary\"\n",
    "\n",
    "PMP_36CI_CicularOnly_F2Filtered_AtLeast40XIllDepth_AssemblySummary_TSV_PATH = PMP_SM_ResultsSummary_Dir_210108 + \"/210108_PMP_36CI_CircularOnly_F2Filtered_AtLeast40XMeanDepthIllumina_AssemblySummary_V7.tsv\"       \n",
    "\n",
    "PMP_36CI_CicularOnly_F2Filtered_AtLeast40XDepth_AssemblySummary = pd.read_csv(PMP_36CI_CicularOnly_F2Filtered_AtLeast40XIllDepth_AssemblySummary_TSV_PATH, sep = \"\\t\")\n",
    "\n",
    "PMP_36CI_AnalysisSet_AssemblySummary = PMP_36CI_CicularOnly_F2Filtered_AtLeast40XDepth_AssemblySummary\n",
    "\n",
    "\n",
    "SampleIDs_36CI_SOI = list( PMP_36CI_AnalysisSet_AssemblySummary[\"SampleID\"].values )\n",
    "\n",
    "\n",
    "print(','.join(SampleIDs_36CI_SOI) )\n",
    "\n",
    "# Make sample to metadata mapping dicts\n",
    "\n",
    "ID_To_IlluminaAvrgCov_Dict = dict(PMP_36CI_AnalysisSet_AssemblySummary[['SampleID', 'IlluminaWGSToH37rv_AvrgCov']].values)                     \n",
    "ID_To_Lineage_Dict = dict(PMP_36CI_AnalysisSet_AssemblySummary[['SampleID', 'PrimaryLineage_PB']].values)\n",
    "ID_To_Dataset_Dict = dict(PMP_36CI_AnalysisSet_AssemblySummary[['SampleID', 'Dataset_Tag']].values)"
   ]
  },
  {
   "cell_type": "code",
   "execution_count": null,
   "metadata": {},
   "outputs": [],
   "source": []
  },
  {
   "cell_type": "markdown",
   "metadata": {},
   "source": [
    "#### What is the distribution of samples from each dataset?"
   ]
  },
  {
   "cell_type": "code",
   "execution_count": 7,
   "metadata": {},
   "outputs": [
    {
     "data": {
      "text/plain": [
       "Farhat_Peru_2019        13\n",
       "ChinerOms_2019          12\n",
       "TB_Portals_15CI_R1      10\n",
       "Ngabonziza_Lin8_2020     1\n",
       "Name: Dataset_Tag, dtype: int64"
      ]
     },
     "execution_count": 7,
     "metadata": {},
     "output_type": "execute_result"
    }
   ],
   "source": [
    "PMP_36CI_AnalysisSet_AssemblySummary[\"Dataset_Tag\"].value_counts()"
   ]
  },
  {
   "cell_type": "code",
   "execution_count": 8,
   "metadata": {},
   "outputs": [
    {
     "data": {
      "text/plain": [
       "36"
      ]
     },
     "execution_count": 8,
     "metadata": {},
     "output_type": "execute_result"
    }
   ],
   "source": [
    "len(SampleIDs_36CI_SOI)"
   ]
  },
  {
   "cell_type": "code",
   "execution_count": null,
   "metadata": {},
   "outputs": [],
   "source": []
  },
  {
   "cell_type": "code",
   "execution_count": null,
   "metadata": {},
   "outputs": [],
   "source": []
  },
  {
   "cell_type": "markdown",
   "metadata": {},
   "source": [
    "# Define directory for output of EBR results"
   ]
  },
  {
   "cell_type": "code",
   "execution_count": 9,
   "metadata": {},
   "outputs": [
    {
     "name": "stdout",
     "output_type": "stream",
     "text": [
      "mkdir: cannot create directory ‘../../../210112_PBvsI_VCeval_AnalysisDir_V7_36CI’: File exists\n",
      "mkdir: cannot create directory ‘../../../210112_PBvsI_VCeval_AnalysisDir_V7_36CI/210112_EBR_H37rv_36CI_MM2vsPilon_V7’: File exists\n",
      "mkdir: cannot create directory ‘../../../210112_PBvsI_VCeval_AnalysisDir_V7_36CI/210112_EBR_H37rv_36CI_MM2vsPilon_V7/210112_EBR_H37rv_IndividualSampleRecall_NPZs’: File exists\n"
     ]
    }
   ],
   "source": [
    "PB_Vs_Illumina_DataAnalysis_Dir = \"../../../210112_PBvsI_VCeval_AnalysisDir_V7_36CI\"\n",
    "\n",
    "PBvIll_EBR_Dir = PB_Vs_Illumina_DataAnalysis_Dir + \"/210112_EBR_H37rv_36CI_MM2vsPilon_V7\"     \n",
    "\n",
    "PBvsIll_EBR_IndivSample_NPZs = f\"{PBvIll_EBR_Dir}/210112_EBR_H37rv_IndividualSampleRecall_NPZs\"\n",
    "\n",
    "!mkdir $PB_Vs_Illumina_DataAnalysis_Dir\n",
    "!mkdir $PBvIll_EBR_Dir\n",
    "!mkdir $PBvsIll_EBR_IndivSample_NPZs"
   ]
  },
  {
   "cell_type": "code",
   "execution_count": 10,
   "metadata": {},
   "outputs": [],
   "source": [
    "#!ls -lah $PB_Vs_Illumina_DataAnalysis_Dir"
   ]
  },
  {
   "cell_type": "code",
   "execution_count": 11,
   "metadata": {},
   "outputs": [],
   "source": [
    "#!ls -lah $PBvIll_IndivEBR_Results_Dir | head "
   ]
  },
  {
   "cell_type": "code",
   "execution_count": null,
   "metadata": {},
   "outputs": [],
   "source": []
  },
  {
   "cell_type": "code",
   "execution_count": null,
   "metadata": {},
   "outputs": [],
   "source": []
  },
  {
   "cell_type": "markdown",
   "metadata": {},
   "source": [
    "# Parse EBR results from all individual isolates "
   ]
  },
  {
   "cell_type": "markdown",
   "metadata": {},
   "source": [
    "### Define directories of PMP-SM pipeline"
   ]
  },
  {
   "cell_type": "code",
   "execution_count": 12,
   "metadata": {},
   "outputs": [],
   "source": [
    "# Define varaint calling pipeline output directories\n",
    "\n",
    "PacBio_ProjectDir = \"/n/data1/hms/dbmi/farhat/mm774/Projects/PacBio_Evaluation_Project\"\n",
    "PMP_SM_Outputs_Dir = PacBio_ProjectDir + \"/PacmanPipe_SM_Outputs\"\n",
    "PMP_SM_TB_Portals_R1_Illumina_WGS_201201_OutputDir = PMP_SM_Outputs_Dir + \"/201201_PMP_SM_TB_Portals_R1_Output_V2\"\n"
   ]
  },
  {
   "cell_type": "code",
   "execution_count": 13,
   "metadata": {
    "scrolled": true
   },
   "outputs": [
    {
     "name": "stderr",
     "output_type": "stream",
     "text": [
      "100%|██████████| 36/36 [08:52<00:00, 14.67s/it]\n"
     ]
    }
   ],
   "source": [
    "dictOf_EBR_IndivIsolate_DFs = {}\n",
    "\n",
    "dictOf_EBR_IndivIsolate_NPYs = {}\n",
    "\n",
    "dictOf_BED_DFs_IndivSample_EBRs = {}\n",
    "\n",
    "dictOf_EBR_Breakdown_Dicts = {}\n",
    "\n",
    "sample_Counter = 1\n",
    "\n",
    "for SampleID in tqdm(SampleIDs_36CI_SOI):\n",
    "    \n",
    "    Sample_Output_Dir = PMP_SM_TB_Portals_R1_Illumina_WGS_201201_OutputDir + \"/\" + SampleID\n",
    "    \n",
    "    EBR_Output_Dir = f\"{Sample_Output_Dir}/EmpiricalBasePairRecall_Analysis_V7_PacBio_Vs_IlluminaPilon\"\n",
    "    \n",
    "    # Let's read in EBR TSV\n",
    "    i_EBR_Agreement_DF_TSV_PATH = f\"{EBR_Output_Dir}/EBR.V7.IndivIsolate.{SampleID}.tsv\"\n",
    "        \n",
    "    i_EBR_Outcome_Breakdown_Dict_JSON_PATH = f\"{EBR_Output_Dir}/EBR.V7.IndivIsolate.{SampleID}.OutcomeBreakdown.json\"        \n",
    "\n",
    "    \n",
    "    \n",
    "    \n",
    "    with open(i_EBR_Outcome_Breakdown_Dict_JSON_PATH) as json_file: i_count_EBR_Outcomes_Dict = json.load(json_file) \n",
    "    \n",
    "    i_EBR_DF = pd.read_csv(i_EBR_Agreement_DF_TSV_PATH, sep = \"\\t\" )\n",
    "\n",
    "    i_EBR_Array_WiNA = i_EBR_DF[\"Agreement\"].values\n",
    "\n",
    "    i_EBR_WithAmbFilled_Array = i_EBR_DF[\"Agreement\"].fillna(\"Ambiguous\").values\n",
    "\n",
    "    \n",
    "    \n",
    "    \n",
    "    output_i_EBR_Agreement_NPZ_PATH = f\"{PBvsIll_EBR_IndivSample_NPZs}/EBR.V7.IndivIsolate.{SampleID}.npz\"\n",
    "    np.savez_compressed(output_i_EBR_Agreement_NPZ_PATH, i_EBR_Array_WiNA )\n",
    "\n",
    "    \n",
    "    dictOf_BED_DFs_IndivSample_EBRs[SampleID] = convert_EBR_GenomeNParray_To_BED_DF(i_EBR_WithAmbFilled_Array)\n",
    "    \n",
    "    \n",
    "    dictOf_EBR_IndivIsolate_DFs[SampleID] = i_EBR_DF\n",
    "\n",
    "    dictOf_EBR_IndivIsolate_NPYs[SampleID] = i_EBR_Array_WiNA\n",
    "        \n",
    "    dictOf_EBR_Breakdown_Dicts[SampleID] = i_count_EBR_Outcomes_Dict\n"
   ]
  },
  {
   "cell_type": "code",
   "execution_count": null,
   "metadata": {},
   "outputs": [],
   "source": []
  },
  {
   "cell_type": "code",
   "execution_count": 14,
   "metadata": {},
   "outputs": [
    {
     "data": {
      "text/plain": [
       "['M0011368_9', 'M0014888_3']"
      ]
     },
     "execution_count": 14,
     "metadata": {},
     "output_type": "execute_result"
    }
   ],
   "source": [
    "SampleIDs_36CI_SOI[:2]"
   ]
  },
  {
   "cell_type": "code",
   "execution_count": 15,
   "metadata": {},
   "outputs": [
    {
     "data": {
      "text/html": [
       "<div>\n",
       "<style scoped>\n",
       "    .dataframe tbody tr th:only-of-type {\n",
       "        vertical-align: middle;\n",
       "    }\n",
       "\n",
       "    .dataframe tbody tr th {\n",
       "        vertical-align: top;\n",
       "    }\n",
       "\n",
       "    .dataframe thead th {\n",
       "        text-align: right;\n",
       "    }\n",
       "</style>\n",
       "<table border=\"1\" class=\"dataframe\">\n",
       "  <thead>\n",
       "    <tr style=\"text-align: right;\">\n",
       "      <th></th>\n",
       "      <th>chrom</th>\n",
       "      <th>chromStart</th>\n",
       "      <th>chromEnd</th>\n",
       "      <th>name</th>\n",
       "      <th>score</th>\n",
       "    </tr>\n",
       "  </thead>\n",
       "  <tbody>\n",
       "    <tr>\n",
       "      <th>0</th>\n",
       "      <td>NC_000962.3</td>\n",
       "      <td>0</td>\n",
       "      <td>71335</td>\n",
       "      <td>Region1_Length_71335_bp</td>\n",
       "      <td>1</td>\n",
       "    </tr>\n",
       "    <tr>\n",
       "      <th>1</th>\n",
       "      <td>NC_000962.3</td>\n",
       "      <td>71335</td>\n",
       "      <td>71584</td>\n",
       "      <td>Region2_Length_249_bp</td>\n",
       "      <td>0</td>\n",
       "    </tr>\n",
       "    <tr>\n",
       "      <th>2</th>\n",
       "      <td>NC_000962.3</td>\n",
       "      <td>71584</td>\n",
       "      <td>79504</td>\n",
       "      <td>Region3_Length_7920_bp</td>\n",
       "      <td>1</td>\n",
       "    </tr>\n",
       "    <tr>\n",
       "      <th>3</th>\n",
       "      <td>NC_000962.3</td>\n",
       "      <td>79504</td>\n",
       "      <td>79513</td>\n",
       "      <td>Region4_Length_9_bp</td>\n",
       "      <td>0</td>\n",
       "    </tr>\n",
       "    <tr>\n",
       "      <th>4</th>\n",
       "      <td>NC_000962.3</td>\n",
       "      <td>79513</td>\n",
       "      <td>91786</td>\n",
       "      <td>Region5_Length_12273_bp</td>\n",
       "      <td>1</td>\n",
       "    </tr>\n",
       "  </tbody>\n",
       "</table>\n",
       "</div>"
      ],
      "text/plain": [
       "         chrom  chromStart  chromEnd                     name score\n",
       "0  NC_000962.3           0     71335  Region1_Length_71335_bp     1\n",
       "1  NC_000962.3       71335     71584    Region2_Length_249_bp     0\n",
       "2  NC_000962.3       71584     79504   Region3_Length_7920_bp     1\n",
       "3  NC_000962.3       79504     79513      Region4_Length_9_bp     0\n",
       "4  NC_000962.3       79513     91786  Region5_Length_12273_bp     1"
      ]
     },
     "execution_count": 15,
     "metadata": {},
     "output_type": "execute_result"
    }
   ],
   "source": [
    "dictOf_BED_DFs_IndivSample_EBRs[\"M0011368_9\"].head()"
   ]
  },
  {
   "cell_type": "code",
   "execution_count": 16,
   "metadata": {},
   "outputs": [],
   "source": [
    "#dictOf_BED_DFs_IndivSample_EBRs[\"M0011368_9\"][\"score\"].value_counts()"
   ]
  },
  {
   "cell_type": "code",
   "execution_count": null,
   "metadata": {},
   "outputs": [],
   "source": []
  },
  {
   "cell_type": "code",
   "execution_count": null,
   "metadata": {},
   "outputs": [],
   "source": []
  },
  {
   "cell_type": "markdown",
   "metadata": {
    "toc-hr-collapsed": true
   },
   "source": [
    "# Saving parsed data (as Python Pickle)"
   ]
  },
  {
   "cell_type": "markdown",
   "metadata": {},
   "source": [
    "## Lets save (\"Pickle\") the dictionary of EBR np arrays on O2\n",
    "\n",
    "### NOTE: Commented out b/c .pickle file is > 1 Gb in size"
   ]
  },
  {
   "cell_type": "code",
   "execution_count": 45,
   "metadata": {},
   "outputs": [],
   "source": [
    "\n",
    "# Pickle_PATH_dictOf_EBR_IndivIsolate_NPYs = PBvIll_EBR_Dir + \"/210112_dictOf_EBR_V7_IndivIsolate_NPYs_36CI.pickle\"         \n",
    "\n",
    "#with open(Pickle_PATH_dictOf_EBR_IndivIsolate_NPYs, 'wb') as outputFile:\n",
    "    #pickle.dump(dictOf_EBR_IndivIsolate_NPYs, outputFile)"
   ]
  },
  {
   "cell_type": "code",
   "execution_count": null,
   "metadata": {},
   "outputs": [],
   "source": []
  },
  {
   "cell_type": "markdown",
   "metadata": {},
   "source": [
    "# Create Empirical Base Pair Recall Arrays"
   ]
  },
  {
   "cell_type": "markdown",
   "metadata": {},
   "source": [
    "## EBR_36CI_WGS40X_Array: EBR for all 36 Mtb CI that have >= 40X Illumina WGS coverage\n"
   ]
  },
  {
   "cell_type": "markdown",
   "metadata": {},
   "source": [
    "# Finalizing EBR Calculation"
   ]
  },
  {
   "cell_type": "markdown",
   "metadata": {},
   "source": [
    "https://numpy.org/doc/stable/reference/generated/numpy.nanmean.html"
   ]
  },
  {
   "cell_type": "markdown",
   "metadata": {},
   "source": [
    "### Aggregated EBR will be calculated the following way:\n",
    "    \n",
    "Aggregated-EBR = the mean EBR score of all VALID (0 or 1) EBR scores at a position of interest.\n",
    "\n",
    "IF there are <= 25% (10 or more) NAN values at a position\n",
    "only average EBR between VALID EBR scores.\n",
    "\n",
    "IF there are more than 25% NAN values at a position, set EBR-36CI to \"AMB\" to signify that position has issues.\n",
    "\n"
   ]
  },
  {
   "cell_type": "code",
   "execution_count": 71,
   "metadata": {},
   "outputs": [
    {
     "data": {
      "text/plain": [
       "36"
      ]
     },
     "execution_count": 71,
     "metadata": {},
     "output_type": "execute_result"
    }
   ],
   "source": [
    "len(SampleIDs_36CI_SOI)"
   ]
  },
  {
   "cell_type": "code",
   "execution_count": 72,
   "metadata": {},
   "outputs": [
    {
     "data": {
      "text/plain": [
       "9.0"
      ]
     },
     "execution_count": 72,
     "metadata": {},
     "output_type": "execute_result"
    }
   ],
   "source": [
    "0.25 * 36"
   ]
  },
  {
   "cell_type": "code",
   "execution_count": null,
   "metadata": {},
   "outputs": [],
   "source": []
  },
  {
   "cell_type": "code",
   "execution_count": 73,
   "metadata": {},
   "outputs": [
    {
     "name": "stdout",
     "output_type": "stream",
     "text": [
      "(4411532,) 35.4379576074706\n",
      "(4411532,) nan\n",
      "(4411532,) nan\n",
      "(4411532,) 0.9886257598437438\n"
     ]
    },
    {
     "name": "stderr",
     "output_type": "stream",
     "text": [
      "/home/mm774/conda3/envs/py37_S/lib/python3.7/site-packages/ipykernel_launcher.py:28: RuntimeWarning: invalid value encountered in true_divide\n"
     ]
    }
   ],
   "source": [
    "EBR_36CI_Array_A4 = np.zeros( (4411532,) )\n",
    "\n",
    "Num_NonNAN_Values_Array_A4 = np.zeros( (4411532,) )\n",
    "\n",
    "NumTotalSamples = len(SampleIDs_36CI_SOI)\n",
    "\n",
    "\n",
    "for SampleID in ( SampleIDs_36CI_SOI ) :\n",
    "    \n",
    "    i_EBR_Array = dictOf_EBR_IndivIsolate_DFs[SampleID][\"Agreement\"].values\n",
    "    \n",
    "    #This numpy array represents the counts of VALID EBR scores at a given position.\n",
    "    Num_NonNAN_Values_Array_A4 += (dictOf_EBR_IndivIsolate_DFs[SampleID][\"Agreement\"].fillna(-1).values != -1).astype(int)\n",
    "    \n",
    "    i_EBR_Array = np.nan_to_num(i_EBR_Array, nan=0 ) \n",
    "    \n",
    "    EBR_36CI_Array_A4 += i_EBR_Array\n",
    "    \n",
    "# \n",
    "\n",
    "NumNANs_H37Rv_Pos_36CI_NPY = (NumTotalSamples - Num_NonNAN_Values_Array_A4)\n",
    "    \n",
    "Pos_WithGreaterThan_9NANs_36CI = (NumNANs_H37Rv_Pos_36CI_NPY > 10)\n",
    "    \n",
    "    \n",
    "print(EBR_36CI_Array_A4.shape, np.mean(EBR_36CI_Array_A4) )\n",
    "\n",
    "EBR_36CI_Array_A4 = EBR_36CI_Array_A4 / Num_NonNAN_Values_Array_A4 \n",
    "\n",
    "\n",
    "print(EBR_36CI_Array_A4.shape, np.mean(EBR_36CI_Array_A4) )\n",
    "\n",
    "EBR_36CI_Array_A4[np.isposinf(EBR_36CI_Array_A4)] = np.nan\n",
    "\n",
    "\n",
    "EBR_36CI_Array_A4 = EBR_36CI_Array_A4.astype('float')\n",
    "\n",
    "\n",
    "EBR_36CI_Array_A4[Pos_WithGreaterThan_9NANs_36CI] = np.nan\n",
    "\n",
    "\n",
    "print(EBR_36CI_Array_A4.shape, np.mean(EBR_36CI_Array_A4) )\n",
    "print(EBR_36CI_Array_A4.shape, np.nanmean(EBR_36CI_Array_A4) )\n"
   ]
  },
  {
   "cell_type": "code",
   "execution_count": null,
   "metadata": {},
   "outputs": [],
   "source": []
  },
  {
   "cell_type": "markdown",
   "metadata": {},
   "source": [
    "#### Some QC of Aggregated EBR-36CI array"
   ]
  },
  {
   "cell_type": "code",
   "execution_count": 74,
   "metadata": {},
   "outputs": [
    {
     "data": {
      "text/plain": [
       "15813"
      ]
     },
     "execution_count": 74,
     "metadata": {},
     "output_type": "execute_result"
    }
   ],
   "source": [
    "np.isnan(EBR_36CI_Array_A4).sum()"
   ]
  },
  {
   "cell_type": "code",
   "execution_count": 75,
   "metadata": {},
   "outputs": [
    {
     "data": {
      "text/plain": [
       "2619"
      ]
     },
     "execution_count": 75,
     "metadata": {},
     "output_type": "execute_result"
    }
   ],
   "source": [
    "(EBR_36CI_Array_A4 == 0).sum()"
   ]
  },
  {
   "cell_type": "code",
   "execution_count": 76,
   "metadata": {},
   "outputs": [
    {
     "data": {
      "text/plain": [
       "0.9357855729030187"
      ]
     },
     "execution_count": 76,
     "metadata": {},
     "output_type": "execute_result"
    }
   ],
   "source": [
    "(EBR_36CI_Array_A4 == 1).sum() / EBR_36CI_Array_A4.shape[0]"
   ]
  },
  {
   "cell_type": "code",
   "execution_count": 77,
   "metadata": {},
   "outputs": [
    {
     "name": "stderr",
     "output_type": "stream",
     "text": [
      "/home/mm774/conda3/envs/py37_S/lib/python3.7/site-packages/ipykernel_launcher.py:1: RuntimeWarning: invalid value encountered in less\n",
      "  \"\"\"Entry point for launching an IPython kernel.\n"
     ]
    },
    {
     "data": {
      "text/plain": [
       "4411532"
      ]
     },
     "execution_count": 77,
     "metadata": {},
     "output_type": "execute_result"
    }
   ],
   "source": [
    "(EBR_36CI_Array_A4 == 1).sum() + (EBR_36CI_Array_A4 < 1).sum() + np.isnan(EBR_36CI_Array_A4).sum()"
   ]
  },
  {
   "cell_type": "code",
   "execution_count": 78,
   "metadata": {},
   "outputs": [
    {
     "data": {
      "text/plain": [
       "(4411532,)"
      ]
     },
     "execution_count": 78,
     "metadata": {},
     "output_type": "execute_result"
    }
   ],
   "source": [
    "EBR_36CI_Array_A4.shape"
   ]
  },
  {
   "cell_type": "code",
   "execution_count": 79,
   "metadata": {},
   "outputs": [
    {
     "data": {
      "text/plain": [
       "15813"
      ]
     },
     "execution_count": 79,
     "metadata": {},
     "output_type": "execute_result"
    }
   ],
   "source": [
    "np.isnan(EBR_36CI_Array_A4).sum()"
   ]
  },
  {
   "cell_type": "code",
   "execution_count": 80,
   "metadata": {},
   "outputs": [
    {
     "data": {
      "text/plain": [
       "0.9886257598437431"
      ]
     },
     "execution_count": 80,
     "metadata": {},
     "output_type": "execute_result"
    }
   ],
   "source": [
    "np.mean( EBR_36CI_Array_A4[ ~np.isnan(EBR_36CI_Array_A4) ] )"
   ]
  },
  {
   "cell_type": "code",
   "execution_count": 81,
   "metadata": {},
   "outputs": [
    {
     "data": {
      "text/plain": [
       "0.9886257598437438"
      ]
     },
     "execution_count": 81,
     "metadata": {},
     "output_type": "execute_result"
    }
   ],
   "source": [
    "np.nanmean( EBR_36CI_Array_A4 )"
   ]
  },
  {
   "cell_type": "markdown",
   "metadata": {},
   "source": [
    "#### END QC "
   ]
  },
  {
   "cell_type": "code",
   "execution_count": null,
   "metadata": {},
   "outputs": [],
   "source": []
  },
  {
   "cell_type": "code",
   "execution_count": 82,
   "metadata": {},
   "outputs": [
    {
     "data": {
      "text/plain": [
       "False"
      ]
     },
     "execution_count": 82,
     "metadata": {},
     "output_type": "execute_result"
    }
   ],
   "source": [
    "np.nan == np.nan"
   ]
  },
  {
   "cell_type": "markdown",
   "metadata": {},
   "source": [
    "# Output EBR-36CI data into various formats (TSV, BED, BEDGRAPH etc)"
   ]
  },
  {
   "cell_type": "markdown",
   "metadata": {},
   "source": [
    "## Let's output the Numpy array of Aggregated Empirical Basepair Recall (EBR-36CI)"
   ]
  },
  {
   "cell_type": "code",
   "execution_count": 83,
   "metadata": {},
   "outputs": [],
   "source": [
    "## Let's output the arrays as .npy files \n",
    "\n",
    "EBR_36CI_WGS40X_NPY_PATH = f\"{PBvIll_EBR_Dir}/210112_EBR_V7_36CI.npy\"\n",
    "EBR_36CI_WGS40X_NPZ_PATH = f\"{PBvIll_EBR_Dir}/210112_EBR_V7_36CI.npz\"\n",
    "\n",
    "#np.save(EBR_36CI_WGS40X_NPY_PATH, EBR_36CI_Array_A4 )\n",
    "np.savez_compressed(EBR_36CI_WGS40X_NPZ_PATH, EBR_36CI_Array_A4 )\n"
   ]
  },
  {
   "cell_type": "code",
   "execution_count": null,
   "metadata": {},
   "outputs": [],
   "source": []
  },
  {
   "cell_type": "markdown",
   "metadata": {},
   "source": [
    "## Let's output the Empirical Basepair Recall (EBR) BED & BEDGRAPH files"
   ]
  },
  {
   "cell_type": "code",
   "execution_count": 84,
   "metadata": {},
   "outputs": [],
   "source": [
    "\n",
    "EBR_36CI_WGS40X_BED_PATH = f\"{PBvIll_EBR_Dir}/210112_EBR_V7_36CI.bed\"\n",
    "EBR_36CI_WGS40X_BEDGRAPH_PATH = f\"{PBvIll_EBR_Dir}/210112_EBR_V7_36CI.bedgraph\"       \n"
   ]
  },
  {
   "cell_type": "code",
   "execution_count": 85,
   "metadata": {},
   "outputs": [],
   "source": [
    "EBR_36CI_WGS40X_BED_DF = convert_EBR_GenomeNParray_To_BED_DF(EBR_36CI_Array_A4)\n",
    "\n",
    "EBR_36CI_WGS40X_BED_DF.columns = [\"chrom\", \"chromStart\", \"chromEnd\", \"name\", \"EBR_Score\"]\n",
    "\n",
    "EBR_36CI_WGS40X_BED_DF.to_csv(EBR_36CI_WGS40X_BED_PATH,\n",
    "                           sep = \"\\t\",\n",
    "                           index = False,\n",
    "                           header = False)\n",
    "\n",
    "!cut -f 1,2,3,5 $EBR_36CI_WGS40X_BED_PATH > $EBR_36CI_WGS40X_BEDGRAPH_PATH"
   ]
  },
  {
   "cell_type": "code",
   "execution_count": null,
   "metadata": {},
   "outputs": [],
   "source": []
  },
  {
   "cell_type": "code",
   "execution_count": null,
   "metadata": {},
   "outputs": [],
   "source": []
  },
  {
   "cell_type": "markdown",
   "metadata": {},
   "source": [
    "## Let's output the Empirical Basepair Recall (EBR) per position TSV file"
   ]
  },
  {
   "cell_type": "code",
   "execution_count": 86,
   "metadata": {},
   "outputs": [
    {
     "name": "stdout",
     "output_type": "stream",
     "text": [
      "TSV output to: ../../../210112_PBvsI_VCeval_AnalysisDir_V7_36CI/210112_EBR_H37rv_36CI_MM2vsPilon_V7/210112_EBR_V7_36CI.tsv\n"
     ]
    }
   ],
   "source": [
    "EBR_36CI_TSV_PATH = f\"{PBvIll_EBR_Dir}/210112_EBR_V7_36CI.tsv\" \n",
    "\n",
    "EBR_36CI_TSV_DF = convert_EBR_Array_To_TSV(EBR_36CI_Array_A4, EBR_36CI_TSV_PATH)\n"
   ]
  },
  {
   "cell_type": "code",
   "execution_count": null,
   "metadata": {},
   "outputs": [],
   "source": []
  },
  {
   "cell_type": "code",
   "execution_count": 87,
   "metadata": {},
   "outputs": [
    {
     "data": {
      "text/plain": [
       "(4411532, 3)"
      ]
     },
     "execution_count": 87,
     "metadata": {},
     "output_type": "execute_result"
    }
   ],
   "source": [
    "EBR_36CI_TSV_DF.shape"
   ]
  },
  {
   "cell_type": "code",
   "execution_count": 88,
   "metadata": {},
   "outputs": [
    {
     "data": {
      "text/html": [
       "<div>\n",
       "<style scoped>\n",
       "    .dataframe tbody tr th:only-of-type {\n",
       "        vertical-align: middle;\n",
       "    }\n",
       "\n",
       "    .dataframe tbody tr th {\n",
       "        vertical-align: top;\n",
       "    }\n",
       "\n",
       "    .dataframe thead th {\n",
       "        text-align: right;\n",
       "    }\n",
       "</style>\n",
       "<table border=\"1\" class=\"dataframe\">\n",
       "  <thead>\n",
       "    <tr style=\"text-align: right;\">\n",
       "      <th></th>\n",
       "      <th>H37rv_RefPos_0based</th>\n",
       "      <th>H37rv_RefPos_1based</th>\n",
       "      <th>EmpiricalBasePairRecall</th>\n",
       "    </tr>\n",
       "  </thead>\n",
       "  <tbody>\n",
       "    <tr>\n",
       "      <th>0</th>\n",
       "      <td>0</td>\n",
       "      <td>1</td>\n",
       "      <td>0.916667</td>\n",
       "    </tr>\n",
       "    <tr>\n",
       "      <th>1</th>\n",
       "      <td>1</td>\n",
       "      <td>2</td>\n",
       "      <td>0.916667</td>\n",
       "    </tr>\n",
       "    <tr>\n",
       "      <th>2</th>\n",
       "      <td>2</td>\n",
       "      <td>3</td>\n",
       "      <td>0.916667</td>\n",
       "    </tr>\n",
       "  </tbody>\n",
       "</table>\n",
       "</div>"
      ],
      "text/plain": [
       "   H37rv_RefPos_0based  H37rv_RefPos_1based  EmpiricalBasePairRecall\n",
       "0                    0                    1                 0.916667\n",
       "1                    1                    2                 0.916667\n",
       "2                    2                    3                 0.916667"
      ]
     },
     "execution_count": 88,
     "metadata": {},
     "output_type": "execute_result"
    }
   ],
   "source": [
    "EBR_36CI_TSV_DF.head(3)"
   ]
  },
  {
   "cell_type": "code",
   "execution_count": null,
   "metadata": {},
   "outputs": [],
   "source": []
  },
  {
   "cell_type": "markdown",
   "metadata": {},
   "source": [
    "#### Let's look at the output files"
   ]
  },
  {
   "cell_type": "code",
   "execution_count": 89,
   "metadata": {},
   "outputs": [
    {
     "name": "stdout",
     "output_type": "stream",
     "text": [
      "../../../210112_PBvsI_VCeval_AnalysisDir_V7_36CI/210112_EBR_H37rv_36CI_MM2vsPilon_V7\n"
     ]
    }
   ],
   "source": [
    "!echo $PBvIll_EBR_Dir"
   ]
  },
  {
   "cell_type": "code",
   "execution_count": 90,
   "metadata": {},
   "outputs": [
    {
     "name": "stdout",
     "output_type": "stream",
     "text": [
      "total 26M\n",
      "drwxrwsr-x  5 mm774 farhat  329 Mar 26 22:53 .\n",
      "drwxrwsr-x 11 mm774 farhat  529 Mar 26 23:36 ..\n",
      "drwxrwsr-x  2 mm774 farhat 1.8K Mar 26 14:44 210112_EBR_H37rv_IndividualSampleRecall_NPZs\n",
      "-rw-rw-r--  1 mm774 farhat 1.4M Mar 29 17:48 210112_EBR_V7_36CI.bed\n",
      "-rw-rw-r--  1 mm774 farhat 915K Mar 29 17:48 210112_EBR_V7_36CI.bedgraph\n",
      "-rw-rw-r--  1 mm774 farhat 113K Mar 29 17:48 210112_EBR_V7_36CI.npz\n",
      "-rw-rw-r--  1 mm774 farhat  86M Mar 29 17:48 210112_EBR_V7_36CI.tsv\n",
      "drwxrwsr-x  2 mm774 farhat  207 Mar 26 23:17 210113_H37Rv_FeatureLevelAnalysis_EBR_Pmap\n",
      "drwxrwsr-x  2 mm774 farhat  188 Mar 26 14:49 EBR_36CI_AmbigousRegions\n"
     ]
    }
   ],
   "source": [
    "!ls -lah $PBvIll_EBR_Dir"
   ]
  },
  {
   "cell_type": "code",
   "execution_count": null,
   "metadata": {},
   "outputs": [],
   "source": []
  },
  {
   "cell_type": "code",
   "execution_count": null,
   "metadata": {},
   "outputs": [],
   "source": []
  },
  {
   "cell_type": "markdown",
   "metadata": {},
   "source": [
    "# Output regions below certain EBR thresholds (For masking of future analyses)"
   ]
  },
  {
   "cell_type": "code",
   "execution_count": 91,
   "metadata": {},
   "outputs": [
    {
     "data": {
      "text/html": [
       "<div>\n",
       "<style scoped>\n",
       "    .dataframe tbody tr th:only-of-type {\n",
       "        vertical-align: middle;\n",
       "    }\n",
       "\n",
       "    .dataframe tbody tr th {\n",
       "        vertical-align: top;\n",
       "    }\n",
       "\n",
       "    .dataframe thead th {\n",
       "        text-align: right;\n",
       "    }\n",
       "</style>\n",
       "<table border=\"1\" class=\"dataframe\">\n",
       "  <thead>\n",
       "    <tr style=\"text-align: right;\">\n",
       "      <th></th>\n",
       "      <th>chrom</th>\n",
       "      <th>chromStart</th>\n",
       "      <th>chromEnd</th>\n",
       "      <th>name</th>\n",
       "      <th>EBR_Score</th>\n",
       "    </tr>\n",
       "  </thead>\n",
       "  <tbody>\n",
       "    <tr>\n",
       "      <th>0</th>\n",
       "      <td>NC_000962.3</td>\n",
       "      <td>0</td>\n",
       "      <td>8</td>\n",
       "      <td>Region1_Length_8_bp</td>\n",
       "      <td>0.916667</td>\n",
       "    </tr>\n",
       "    <tr>\n",
       "      <th>1</th>\n",
       "      <td>NC_000962.3</td>\n",
       "      <td>8</td>\n",
       "      <td>26</td>\n",
       "      <td>Region2_Length_18_bp</td>\n",
       "      <td>0.944444</td>\n",
       "    </tr>\n",
       "    <tr>\n",
       "      <th>2</th>\n",
       "      <td>NC_000962.3</td>\n",
       "      <td>26</td>\n",
       "      <td>33</td>\n",
       "      <td>Region3_Length_7_bp</td>\n",
       "      <td>0.972222</td>\n",
       "    </tr>\n",
       "    <tr>\n",
       "      <th>3</th>\n",
       "      <td>NC_000962.3</td>\n",
       "      <td>33</td>\n",
       "      <td>174</td>\n",
       "      <td>Region4_Length_141_bp</td>\n",
       "      <td>1.000000</td>\n",
       "    </tr>\n",
       "    <tr>\n",
       "      <th>4</th>\n",
       "      <td>NC_000962.3</td>\n",
       "      <td>174</td>\n",
       "      <td>185</td>\n",
       "      <td>Region5_Length_11_bp</td>\n",
       "      <td>0.972222</td>\n",
       "    </tr>\n",
       "  </tbody>\n",
       "</table>\n",
       "</div>"
      ],
      "text/plain": [
       "         chrom  chromStart  chromEnd                   name  EBR_Score\n",
       "0  NC_000962.3           0         8    Region1_Length_8_bp   0.916667\n",
       "1  NC_000962.3           8        26   Region2_Length_18_bp   0.944444\n",
       "2  NC_000962.3          26        33    Region3_Length_7_bp   0.972222\n",
       "3  NC_000962.3          33       174  Region4_Length_141_bp   1.000000\n",
       "4  NC_000962.3         174       185   Region5_Length_11_bp   0.972222"
      ]
     },
     "execution_count": 91,
     "metadata": {},
     "output_type": "execute_result"
    }
   ],
   "source": [
    "EBR_36CI_WGS40X_BED_DF.head()"
   ]
  },
  {
   "cell_type": "code",
   "execution_count": 92,
   "metadata": {},
   "outputs": [
    {
     "data": {
      "text/plain": [
       "(21613, 5)"
      ]
     },
     "execution_count": 92,
     "metadata": {},
     "output_type": "execute_result"
    }
   ],
   "source": [
    "EBR_36CI_WGS40X_BED_DF.shape"
   ]
  },
  {
   "cell_type": "code",
   "execution_count": 93,
   "metadata": {},
   "outputs": [
    {
     "data": {
      "text/plain": [
       "0.972222    3666\n",
       "1.000000    3379\n",
       "0.944444    1328\n",
       "0.916667    1115\n",
       "0.888889    1009\n",
       "Name: EBR_Score, dtype: int64"
      ]
     },
     "execution_count": 93,
     "metadata": {},
     "output_type": "execute_result"
    }
   ],
   "source": [
    "EBR_36CI_WGS40X_BED_DF[\"EBR_Score\"].value_counts().head()"
   ]
  },
  {
   "cell_type": "code",
   "execution_count": null,
   "metadata": {},
   "outputs": [],
   "source": []
  },
  {
   "cell_type": "markdown",
   "metadata": {},
   "source": [
    "## Filter for regions with EBR < 1 OR AMBIGUOUS "
   ]
  },
  {
   "cell_type": "code",
   "execution_count": null,
   "metadata": {},
   "outputs": [],
   "source": []
  },
  {
   "cell_type": "code",
   "execution_count": 97,
   "metadata": {},
   "outputs": [
    {
     "data": {
      "text/plain": [
       "(18234, 5)"
      ]
     },
     "execution_count": 97,
     "metadata": {},
     "output_type": "execute_result"
    }
   ],
   "source": [
    "EBR_36CI_WGS40X_BED_DF_Below1 = EBR_36CI_WGS40X_BED_DF[ (EBR_36CI_WGS40X_BED_DF[\"EBR_Score\"] < 1) ]  \n",
    "EBR_36CI_WGS40X_BED_DF_Below1.shape"
   ]
  },
  {
   "cell_type": "code",
   "execution_count": null,
   "metadata": {},
   "outputs": [],
   "source": []
  },
  {
   "cell_type": "code",
   "execution_count": null,
   "metadata": {},
   "outputs": [],
   "source": []
  },
  {
   "cell_type": "code",
   "execution_count": 98,
   "metadata": {},
   "outputs": [],
   "source": [
    "EBR_36CI_BED_Below_1_AllPos_PATH = f\"{PBvIll_EBR_Dir}/EBR_V7_36CI.Below_1.And.Ambiguous.AllPositions.bed\"\n",
    "EBR_36CI_BED_Below_1_Regions_PATH = f\"{PBvIll_EBR_Dir}/EBR_V7_36CI.Below_1.And.Ambiguous.Regions.bed\"\n",
    "\n",
    "\n",
    "EBR_36CI_WGS40X_BED_DF_Below1.to_csv(EBR_36CI_BED_Below_1_AllPos_PATH,\n",
    "                           sep = \"\\t\",\n",
    "                           index = False,\n",
    "                           header = False)\n",
    "\n",
    "\n",
    "# Merge/condense adjacent basepairs that are below the defined threshold\n",
    "!bedtools merge -i $EBR_36CI_BED_Below_1_AllPos_PATH > $EBR_36CI_BED_Below_1_Regions_PATH"
   ]
  },
  {
   "cell_type": "code",
   "execution_count": null,
   "metadata": {},
   "outputs": [],
   "source": []
  },
  {
   "cell_type": "markdown",
   "metadata": {},
   "source": [
    "## Filter for regions with EBR < 0.9 OR AMBIGUOUS "
   ]
  },
  {
   "cell_type": "code",
   "execution_count": 99,
   "metadata": {},
   "outputs": [
    {
     "data": {
      "text/plain": [
       "(11672, 5)"
      ]
     },
     "execution_count": 99,
     "metadata": {},
     "output_type": "execute_result"
    }
   ],
   "source": [
    "EBR_36CI_WGS40X_BED_DF_Below09 = EBR_36CI_WGS40X_BED_DF[ (EBR_36CI_WGS40X_BED_DF[\"EBR_Score\"] < 0.9) | (EBR_36CI_WGS40X_BED_DF[\"EBR_Score\"] == \"Ambiguous\")]  \n",
    "EBR_36CI_WGS40X_BED_DF_Below09.shape"
   ]
  },
  {
   "cell_type": "code",
   "execution_count": 100,
   "metadata": {},
   "outputs": [],
   "source": [
    "EBR_36CI_BED_Below_09_AllPos_PATH = f\"{PBvIll_EBR_Dir}/EBR_V7_36CI.Below_0.9.And.Ambiguous.AllPositions.bed\"\n",
    "EBR_36CI_BED_Below_09_Regions_PATH = f\"{PBvIll_EBR_Dir}/EBR_V7_36CI.Below_0.9.And.Ambiguous.Regions.bed\"\n",
    "\n",
    "\n",
    "EBR_36CI_WGS40X_BED_DF_Below09.to_csv(EBR_36CI_BED_Below_09_AllPos_PATH,\n",
    "                           sep = \"\\t\",\n",
    "                           index = False,\n",
    "                           header = False)\n",
    "\n",
    "\n",
    "# Merge/condense adjacent basepairs that are below the defined threshold\n",
    "!bedtools merge -i $EBR_36CI_BED_Below_09_AllPos_PATH > $EBR_36CI_BED_Below_09_Regions_PATH"
   ]
  },
  {
   "cell_type": "code",
   "execution_count": null,
   "metadata": {},
   "outputs": [],
   "source": []
  },
  {
   "cell_type": "markdown",
   "metadata": {},
   "source": [
    "## Filter for regions with EBR < 0.8 OR AMBIGUOUS "
   ]
  },
  {
   "cell_type": "code",
   "execution_count": 101,
   "metadata": {},
   "outputs": [
    {
     "data": {
      "text/plain": [
       "(60, 5)"
      ]
     },
     "execution_count": 101,
     "metadata": {},
     "output_type": "execute_result"
    }
   ],
   "source": [
    "EBR_36CI_WGS40X_BED_DF_Below08 = EBR_36CI_WGS40X_BED_DF[ ( (EBR_36CI_WGS40X_BED_DF[\"EBR_Score\"] == \"Ambiguous\") | EBR_36CI_WGS40X_BED_DF[\"EBR_Score\"] < 0.8)]  \n",
    "EBR_36CI_WGS40X_BED_DF_Below08.shape"
   ]
  },
  {
   "cell_type": "code",
   "execution_count": 102,
   "metadata": {},
   "outputs": [],
   "source": [
    "EBR_36CI_BED_Below_08_AllPos_PATH = f\"{PBvIll_EBR_Dir}/EBR_V7_36CI.Below_0.8.And.Ambiguous.AllPositions.bed\"\n",
    "EBR_36CI_BED_Below_08_Regions_PATH = f\"{PBvIll_EBR_Dir}/EBR_V7_36CI.Below_0.8.And.Ambiguous.Regions.bed\"\n",
    "\n",
    "\n",
    "EBR_36CI_WGS40X_BED_DF_Below09.to_csv(EBR_36CI_BED_Below_08_AllPos_PATH,\n",
    "                           sep = \"\\t\",\n",
    "                           index = False,\n",
    "                           header = False)\n",
    "\n",
    "\n",
    "# Merge/condense adjacent basepairs that are below the defined threshold\n",
    "!bedtools merge -i $EBR_36CI_BED_Below_08_AllPos_PATH > $EBR_36CI_BED_Below_08_Regions_PATH"
   ]
  },
  {
   "cell_type": "code",
   "execution_count": null,
   "metadata": {},
   "outputs": [],
   "source": []
  },
  {
   "cell_type": "code",
   "execution_count": null,
   "metadata": {},
   "outputs": [],
   "source": []
  },
  {
   "cell_type": "code",
   "execution_count": null,
   "metadata": {},
   "outputs": [],
   "source": []
  },
  {
   "cell_type": "code",
   "execution_count": null,
   "metadata": {},
   "outputs": [],
   "source": []
  },
  {
   "cell_type": "code",
   "execution_count": null,
   "metadata": {},
   "outputs": [],
   "source": []
  },
  {
   "cell_type": "code",
   "execution_count": null,
   "metadata": {},
   "outputs": [],
   "source": []
  },
  {
   "cell_type": "code",
   "execution_count": null,
   "metadata": {},
   "outputs": [],
   "source": []
  },
  {
   "cell_type": "code",
   "execution_count": null,
   "metadata": {},
   "outputs": [],
   "source": []
  },
  {
   "cell_type": "code",
   "execution_count": null,
   "metadata": {},
   "outputs": [],
   "source": []
  },
  {
   "cell_type": "code",
   "execution_count": 103,
   "metadata": {},
   "outputs": [],
   "source": [
    "#STOP!!!"
   ]
  },
  {
   "cell_type": "markdown",
   "metadata": {},
   "source": [
    "# Try parsing back in data generated in this notebook"
   ]
  },
  {
   "cell_type": "code",
   "execution_count": 104,
   "metadata": {},
   "outputs": [],
   "source": [
    "#!ls -1 ../../../"
   ]
  },
  {
   "cell_type": "code",
   "execution_count": 105,
   "metadata": {},
   "outputs": [],
   "source": [
    "PB_Vs_Illumina_DataAnalysis_Dir = \"../../../210112_PBvsI_VCeval_AnalysisDir_V7_36CI\"\n",
    "\n",
    "PBvIll_EBR_Dir = PB_Vs_Illumina_DataAnalysis_Dir + \"/210112_EBR_H37rv_36CI_MM2vsPilon_V7\"         \n",
    "\n",
    "PBvsIll_EBR_IndivSample_NPZs = f\"{PBvIll_EBR_Dir}/210112_EBR_H37rv_IndividualSampleRecall_NPZs\"\n"
   ]
  },
  {
   "cell_type": "markdown",
   "metadata": {},
   "source": [
    "## Read back in NPYs to recreate the \"dictOf_EBR_IndivIsolate_NPYs\""
   ]
  },
  {
   "cell_type": "code",
   "execution_count": 106,
   "metadata": {},
   "outputs": [
    {
     "name": "stderr",
     "output_type": "stream",
     "text": [
      "100%|██████████| 36/36 [00:02<00:00, 13.35it/s]\n"
     ]
    }
   ],
   "source": [
    "dictOf_EBR_IndivIsolate_NPYs = {}\n",
    "\n",
    "for SampleID in tqdm(SampleIDs_36CI_SOI):\n",
    "    \n",
    "    i_EBR_Agreement_NPZ_PATH = f\"{PBvsIll_EBR_IndivSample_NPZs}/EBR.V7.IndivIsolate.{SampleID}.npz\"\n",
    "\n",
    "    i_EBR_NP = np.load(i_EBR_Agreement_NPZ_PATH)[\"arr_0\"]\n",
    "\n",
    "    dictOf_EBR_IndivIsolate_NPYs[SampleID] = i_EBR_NP\n"
   ]
  },
  {
   "cell_type": "code",
   "execution_count": null,
   "metadata": {},
   "outputs": [],
   "source": []
  },
  {
   "cell_type": "code",
   "execution_count": null,
   "metadata": {},
   "outputs": [],
   "source": []
  },
  {
   "cell_type": "markdown",
   "metadata": {},
   "source": [
    "## Read back in NP array of \"EBR_36CI_WGS40X_NPY\""
   ]
  },
  {
   "cell_type": "code",
   "execution_count": 107,
   "metadata": {},
   "outputs": [],
   "source": [
    "EBR_36CI_WGS40X_NPY_PATH = f\"{PBvIll_EBR_Dir}/210112_EBR_V7_36CI.npy\"\n",
    "\n",
    "#EBR_36CI_Array_A4 = np.load(EBR_36CI_WGS40X_NPY_PATH)\n"
   ]
  },
  {
   "cell_type": "code",
   "execution_count": null,
   "metadata": {},
   "outputs": [],
   "source": []
  },
  {
   "cell_type": "code",
   "execution_count": 108,
   "metadata": {},
   "outputs": [
    {
     "data": {
      "text/plain": [
       "15813"
      ]
     },
     "execution_count": 108,
     "metadata": {},
     "output_type": "execute_result"
    }
   ],
   "source": [
    "np.isnan(EBR_36CI_Array_A4).sum()"
   ]
  },
  {
   "cell_type": "code",
   "execution_count": 109,
   "metadata": {},
   "outputs": [
    {
     "data": {
      "text/plain": [
       "0.9886257598437431"
      ]
     },
     "execution_count": 109,
     "metadata": {},
     "output_type": "execute_result"
    }
   ],
   "source": [
    "np.mean( EBR_36CI_Array_A4[ ~np.isnan(EBR_36CI_Array_A4) ] )"
   ]
  },
  {
   "cell_type": "code",
   "execution_count": 110,
   "metadata": {},
   "outputs": [
    {
     "data": {
      "text/plain": [
       "0.9886257598437438"
      ]
     },
     "execution_count": 110,
     "metadata": {},
     "output_type": "execute_result"
    }
   ],
   "source": [
    "np.nanmean( EBR_36CI_Array_A4 )"
   ]
  },
  {
   "cell_type": "code",
   "execution_count": null,
   "metadata": {},
   "outputs": [],
   "source": []
  },
  {
   "cell_type": "code",
   "execution_count": null,
   "metadata": {},
   "outputs": [],
   "source": []
  },
  {
   "cell_type": "code",
   "execution_count": null,
   "metadata": {},
   "outputs": [],
   "source": []
  },
  {
   "cell_type": "markdown",
   "metadata": {},
   "source": [
    "## Read back in NP array of \"EBR_36CI_WGS40X_NPZ\""
   ]
  },
  {
   "cell_type": "code",
   "execution_count": 111,
   "metadata": {},
   "outputs": [],
   "source": [
    "EBR_36CI_WGS40X_NPZ_PATH = f\"{PBvIll_EBR_Dir}/210112_EBR_V7_36CI.npz\"\n",
    "\n",
    "EBR_36CI_Array_A4 = np.load(EBR_36CI_WGS40X_NPZ_PATH)[\"arr_0\"]\n"
   ]
  },
  {
   "cell_type": "code",
   "execution_count": 112,
   "metadata": {},
   "outputs": [
    {
     "data": {
      "text/plain": [
       "array([0.91666667, 0.91666667, 0.91666667, ..., 1.        , 1.        ,\n",
       "       1.        ])"
      ]
     },
     "execution_count": 112,
     "metadata": {},
     "output_type": "execute_result"
    }
   ],
   "source": [
    "EBR_36CI_Array_A4"
   ]
  },
  {
   "cell_type": "code",
   "execution_count": 113,
   "metadata": {},
   "outputs": [
    {
     "data": {
      "text/plain": [
       "15813"
      ]
     },
     "execution_count": 113,
     "metadata": {},
     "output_type": "execute_result"
    }
   ],
   "source": [
    "np.isnan(EBR_36CI_Array_A4).sum()"
   ]
  },
  {
   "cell_type": "code",
   "execution_count": 114,
   "metadata": {},
   "outputs": [
    {
     "data": {
      "text/plain": [
       "0.9886257598437431"
      ]
     },
     "execution_count": 114,
     "metadata": {},
     "output_type": "execute_result"
    }
   ],
   "source": [
    "np.mean( EBR_36CI_Array_A4[ ~np.isnan(EBR_36CI_Array_A4) ] )"
   ]
  },
  {
   "cell_type": "code",
   "execution_count": 115,
   "metadata": {},
   "outputs": [
    {
     "data": {
      "text/plain": [
       "0.9886257598437438"
      ]
     },
     "execution_count": 115,
     "metadata": {},
     "output_type": "execute_result"
    }
   ],
   "source": [
    "np.nanmean( EBR_36CI_Array_A4 )"
   ]
  },
  {
   "cell_type": "code",
   "execution_count": null,
   "metadata": {},
   "outputs": [],
   "source": []
  },
  {
   "cell_type": "markdown",
   "metadata": {},
   "source": [
    "### Look at size of output files"
   ]
  },
  {
   "cell_type": "code",
   "execution_count": 116,
   "metadata": {},
   "outputs": [
    {
     "name": "stdout",
     "output_type": "stream",
     "text": [
      "1.8M\t../../../210112_PBvsI_VCeval_AnalysisDir_V7_36CI/210112_EBR_H37rv_36CI_MM2vsPilon_V7/210112_EBR_H37rv_IndividualSampleRecall_NPZs\n",
      "344K\t../../../210112_PBvsI_VCeval_AnalysisDir_V7_36CI/210112_EBR_H37rv_36CI_MM2vsPilon_V7/210112_EBR_V7_36CI.bed\n",
      "248K\t../../../210112_PBvsI_VCeval_AnalysisDir_V7_36CI/210112_EBR_H37rv_36CI_MM2vsPilon_V7/210112_EBR_V7_36CI.bedgraph\n",
      "240K\t../../../210112_PBvsI_VCeval_AnalysisDir_V7_36CI/210112_EBR_H37rv_36CI_MM2vsPilon_V7/210112_EBR_V7_36CI.npz\n",
      "25M\t../../../210112_PBvsI_VCeval_AnalysisDir_V7_36CI/210112_EBR_H37rv_36CI_MM2vsPilon_V7/210112_EBR_V7_36CI.tsv\n",
      "2.9M\t../../../210112_PBvsI_VCeval_AnalysisDir_V7_36CI/210112_EBR_H37rv_36CI_MM2vsPilon_V7/210113_H37Rv_FeatureLevelAnalysis_EBR_Pmap\n",
      "200K\t../../../210112_PBvsI_VCeval_AnalysisDir_V7_36CI/210112_EBR_H37rv_36CI_MM2vsPilon_V7/EBR_36CI_AmbigousRegions\n",
      "816K\t../../../210112_PBvsI_VCeval_AnalysisDir_V7_36CI/210112_EBR_H37rv_36CI_MM2vsPilon_V7/EBR_V7_36CI.Below_0.8.And.Ambiguous.AllPositions.bed\n",
      "24K\t../../../210112_PBvsI_VCeval_AnalysisDir_V7_36CI/210112_EBR_H37rv_36CI_MM2vsPilon_V7/EBR_V7_36CI.Below_0.8.And.Ambiguous.Regions.bed\n",
      "224K\t../../../210112_PBvsI_VCeval_AnalysisDir_V7_36CI/210112_EBR_H37rv_36CI_MM2vsPilon_V7/EBR_V7_36CI.Below_0.9.And.Ambiguous.AllPositions.bed\n",
      "24K\t../../../210112_PBvsI_VCeval_AnalysisDir_V7_36CI/210112_EBR_H37rv_36CI_MM2vsPilon_V7/EBR_V7_36CI.Below_0.9.And.Ambiguous.Regions.bed\n",
      "304K\t../../../210112_PBvsI_VCeval_AnalysisDir_V7_36CI/210112_EBR_H37rv_36CI_MM2vsPilon_V7/EBR_V7_36CI.Below_1.And.Ambiguous.AllPositions.bed\n",
      "24K\t../../../210112_PBvsI_VCeval_AnalysisDir_V7_36CI/210112_EBR_H37rv_36CI_MM2vsPilon_V7/EBR_V7_36CI.Below_1.And.Ambiguous.Regions.bed\n"
     ]
    }
   ],
   "source": [
    "!du -sh $PBvIll_EBR_Dir/*"
   ]
  },
  {
   "cell_type": "code",
   "execution_count": null,
   "metadata": {},
   "outputs": [],
   "source": []
  }
 ],
 "metadata": {
  "kernelspec": {
   "display_name": "py37_S",
   "language": "python",
   "name": "py37_s"
  },
  "language_info": {
   "codemirror_mode": {
    "name": "ipython",
    "version": 3
   },
   "file_extension": ".py",
   "mimetype": "text/x-python",
   "name": "python",
   "nbconvert_exporter": "python",
   "pygments_lexer": "ipython3",
   "version": "3.7.3"
  }
 },
 "nbformat": 4,
 "nbformat_minor": 4
}
