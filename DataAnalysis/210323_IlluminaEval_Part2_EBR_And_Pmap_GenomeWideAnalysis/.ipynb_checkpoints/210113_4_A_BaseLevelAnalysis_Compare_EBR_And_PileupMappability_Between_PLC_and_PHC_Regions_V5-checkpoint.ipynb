{
 "cells": [
  {
   "cell_type": "markdown",
   "metadata": {},
   "source": [
    "# Comparing the distribution of EBR and Pileup Mappability scores between putative Low Confidence and High Confidence Regions\n",
    "\n",
    "### Maximillian Marin\n",
    "### mgmarin@g.harvard.edu\n",
    "\n",
    "### Goal: Compare the distribution of EBR and pileup mappability scores between the positions of pLC and HC regions of the genome.\n",
    "\n",
    "### Outline of approach:\n",
    "\n",
    "1) Create a True-False mask in Numpy defining positions of the H37Rv genome which are PLC vs non-PLC\n",
    "2) Subset\n",
    "\n"
   ]
  },
  {
   "cell_type": "code",
   "execution_count": 1,
   "metadata": {},
   "outputs": [],
   "source": [
    "import numpy as np\n",
    "import pandas as pd\n",
    "import vcf\n",
    "from tqdm import tqdm\n",
    "import matplotlib.pyplot as plt\n",
    "import seaborn as sns\n",
    "import pickle\n",
    "\n",
    "%matplotlib inline"
   ]
  },
  {
   "cell_type": "code",
   "execution_count": 2,
   "metadata": {},
   "outputs": [],
   "source": [
    "from scipy.stats import pearsonr\n",
    "from scipy.stats import spearmanr"
   ]
  },
  {
   "cell_type": "code",
   "execution_count": null,
   "metadata": {},
   "outputs": [],
   "source": []
  },
  {
   "cell_type": "code",
   "execution_count": null,
   "metadata": {},
   "outputs": [],
   "source": []
  },
  {
   "cell_type": "markdown",
   "metadata": {},
   "source": [
    "### Set matplotlib text export settings for Adobe Illustrator"
   ]
  },
  {
   "cell_type": "code",
   "execution_count": 3,
   "metadata": {},
   "outputs": [],
   "source": [
    "import matplotlib\n",
    "matplotlib.rcParams['pdf.fonttype'] = 42\n",
    "matplotlib.rcParams['ps.fonttype'] = 42"
   ]
  },
  {
   "cell_type": "code",
   "execution_count": null,
   "metadata": {},
   "outputs": [],
   "source": []
  },
  {
   "cell_type": "markdown",
   "metadata": {},
   "source": [
    "#### Pandas Viewing Settings"
   ]
  },
  {
   "cell_type": "code",
   "execution_count": 4,
   "metadata": {},
   "outputs": [],
   "source": [
    "pd.set_option('display.max_rows', 500)\n",
    "pd.set_option('display.max_columns', 500)\n",
    "pd.set_option('display.width', 1000)"
   ]
  },
  {
   "cell_type": "code",
   "execution_count": null,
   "metadata": {},
   "outputs": [],
   "source": []
  },
  {
   "cell_type": "markdown",
   "metadata": {},
   "source": [
    "# 1) Parse Assembly and Sequence analysis results Sample Info"
   ]
  },
  {
   "cell_type": "code",
   "execution_count": 5,
   "metadata": {},
   "outputs": [
    {
     "name": "stdout",
     "output_type": "stream",
     "text": [
      "M0011368_9,M0014888_3,M0016395_7,M0010874_7,01_R1430,02_R0894,02_R1708,02_R1896,M0016737_0,M0017522_5,01_R1134,M0003941_3,02_R1179,N1176,N0072,N0153,N0145,N0155,N0004,N1274,N0054,N1272,N0091,N1202,N1177,RW-TB008,DNA028,DNA075,DNA091,DNA044,DNA020,AZE_02_042,DNA019_Rose,DNA120,DNA188,DNA086\n"
     ]
    }
   ],
   "source": [
    "Repo_DataDir = \"../../Data\"\n",
    "\n",
    "PMP_SM_ResultsSummary_Dir_210108 = Repo_DataDir + \"/210108_PMP_SM_50CI_V7_ResultsSummary\"\n",
    "\n",
    "PMP_36CI_CicularOnly_F2Filtered_AtLeast40XIllDepth_AssemblySummary_TSV_PATH = PMP_SM_ResultsSummary_Dir_210108 + \"/210108_PMP_36CI_CircularOnly_F2Filtered_AtLeast40XMeanDepthIllumina_AssemblySummary_V7.tsv\"       \n",
    "\n",
    "PMP_36CI_CicularOnly_F2Filtered_AtLeast40XDepth_AssemblySummary = pd.read_csv(PMP_36CI_CicularOnly_F2Filtered_AtLeast40XIllDepth_AssemblySummary_TSV_PATH, sep = \"\\t\")\n",
    "\n",
    "PMP_36CI_AnalysisSet_AssemblySummary = PMP_36CI_CicularOnly_F2Filtered_AtLeast40XDepth_AssemblySummary\n",
    "\n",
    "\n",
    "SampleIDs_36CI_SOI = list( PMP_36CI_AnalysisSet_AssemblySummary[\"SampleID\"].values )\n",
    "\n",
    "\n",
    "print(','.join(SampleIDs_36CI_SOI) )\n",
    "\n",
    "# Make sample to metadata mapping dicts\n",
    "\n",
    "ID_To_IlluminaAvrgCov_Dict = dict(PMP_36CI_AnalysisSet_AssemblySummary[['SampleID', 'IlluminaWGSToH37rv_AvrgCov']].values)                     \n",
    "ID_To_Lineage_Dict = dict(PMP_36CI_AnalysisSet_AssemblySummary[['SampleID', 'PrimaryLineage_PB']].values)\n",
    "ID_To_Dataset_Dict = dict(PMP_36CI_AnalysisSet_AssemblySummary[['SampleID', 'Dataset_Tag']].values)"
   ]
  },
  {
   "cell_type": "code",
   "execution_count": null,
   "metadata": {},
   "outputs": [],
   "source": []
  },
  {
   "cell_type": "code",
   "execution_count": null,
   "metadata": {},
   "outputs": [],
   "source": []
  },
  {
   "cell_type": "code",
   "execution_count": 6,
   "metadata": {},
   "outputs": [],
   "source": [
    "PB_Vs_Illumina_DataAnalysis_Dir = \"../../../210112_PBvsI_VCeval_AnalysisDir_V7_36CI\"\n",
    "\n",
    "# Define directory for EBR analysis data\n",
    "PBvIll_EBR_Dir = PB_Vs_Illumina_DataAnalysis_Dir + \"/210112_EBR_H37rv_36CI_MM2vsPilon_V7\"         \n"
   ]
  },
  {
   "cell_type": "code",
   "execution_count": null,
   "metadata": {},
   "outputs": [],
   "source": []
  },
  {
   "cell_type": "code",
   "execution_count": null,
   "metadata": {},
   "outputs": [],
   "source": []
  },
  {
   "cell_type": "code",
   "execution_count": null,
   "metadata": {},
   "outputs": [],
   "source": []
  },
  {
   "cell_type": "code",
   "execution_count": null,
   "metadata": {},
   "outputs": [],
   "source": []
  },
  {
   "cell_type": "code",
   "execution_count": null,
   "metadata": {},
   "outputs": [],
   "source": []
  },
  {
   "cell_type": "markdown",
   "metadata": {},
   "source": [
    "# 2) Read in pickles of processed data (across H37rv)"
   ]
  },
  {
   "cell_type": "code",
   "execution_count": null,
   "metadata": {},
   "outputs": [],
   "source": []
  },
  {
   "cell_type": "markdown",
   "metadata": {},
   "source": [
    "## Read back in pickle of Genmap pileup mappability calculations"
   ]
  },
  {
   "cell_type": "code",
   "execution_count": 7,
   "metadata": {},
   "outputs": [],
   "source": [
    "Genmap_Map_AnalysisDir = PB_Vs_Illumina_DataAnalysis_Dir + \"/201027_Genmap_Mappability_H37rv_V1\"  \n",
    "ParsedAndPickled_GenmapOutput = f\"{Genmap_Map_AnalysisDir}/201027_ParsedAndPickled_GenmapOutput\"\n",
    "\n",
    "Pickle_PATH_dictOf_GM_PileupMap_Arrays = ParsedAndPickled_GenmapOutput + \"/201027_dictOf_GM_PileupMap_Arrays.pickle\"   \n",
    "\n",
    "with open(Pickle_PATH_dictOf_GM_PileupMap_Arrays, \"rb\") as f: dictOf_GM_PileupMap_Arrays = pickle.load(f)"
   ]
  },
  {
   "cell_type": "code",
   "execution_count": 8,
   "metadata": {},
   "outputs": [
    {
     "data": {
      "text/plain": [
       "dict_keys(['K50_E0', 'K50_E2', 'K50_E4', 'K75_E0', 'K75_E2', 'K75_E4', 'K100_E0', 'K100_E2', 'K100_E4', 'K125_E0', 'K125_E2', 'K125_E4', 'K150_E0', 'K150_E2', 'K150_E4'])"
      ]
     },
     "execution_count": 8,
     "metadata": {},
     "output_type": "execute_result"
    }
   ],
   "source": [
    "dictOf_GM_PileupMap_Arrays.keys()"
   ]
  },
  {
   "cell_type": "code",
   "execution_count": null,
   "metadata": {},
   "outputs": [],
   "source": []
  },
  {
   "cell_type": "code",
   "execution_count": null,
   "metadata": {},
   "outputs": [],
   "source": []
  },
  {
   "cell_type": "markdown",
   "metadata": {},
   "source": [
    "## Read back in .npy and .pickle files of EBR scores "
   ]
  },
  {
   "cell_type": "code",
   "execution_count": 9,
   "metadata": {},
   "outputs": [
    {
     "name": "stderr",
     "output_type": "stream",
     "text": [
      "100%|██████████| 36/36 [00:03<00:00, 11.77it/s]\n"
     ]
    }
   ],
   "source": [
    "PB_Vs_Illumina_DataAnalysis_Dir = \"../../../210112_PBvsI_VCeval_AnalysisDir_V7_36CI\"\n",
    "\n",
    "# Define directory for EBR analysis data\n",
    "PBvIll_EBR_Dir = PB_Vs_Illumina_DataAnalysis_Dir + \"/210112_EBR_H37rv_36CI_MM2vsPilon_V7\"         \n",
    "\n",
    "PBvsIll_EBR_IndivSample_NPZs = f\"{PBvIll_EBR_Dir}/210112_EBR_H37rv_IndividualSampleRecall_NPZs\"\n",
    "\n",
    "\n",
    "# Parse in aggregated EBR-36CI array\n",
    "EBR_36CI_WGS40X_NPZ_PATH = f\"{PBvIll_EBR_Dir}/210112_EBR_V7_36CI.npz\"\n",
    "\n",
    "EBR_36CI_Array_A4 = np.load(EBR_36CI_WGS40X_NPZ_PATH)[\"arr_0\"]\n",
    "\n",
    "\n",
    "\n",
    "# Parse in individual EBR arrays for each isolate and store in dictionary\n",
    "dictOf_EBR_IndivIsolate_NPYs= {}\n",
    "\n",
    "for SampleID in tqdm(SampleIDs_36CI_SOI):\n",
    "    \n",
    "    i_EBR_Agreement_NPZ_PATH = f\"{PBvsIll_EBR_IndivSample_NPZs}/EBR.V7.IndivIsolate.{SampleID}.npz\"\n",
    "\n",
    "    i_EBR_NP = np.load(i_EBR_Agreement_NPZ_PATH)[\"arr_0\"]\n",
    "\n",
    "    dictOf_EBR_IndivIsolate_NPYs[SampleID] = i_EBR_NP\n"
   ]
  },
  {
   "cell_type": "code",
   "execution_count": 10,
   "metadata": {},
   "outputs": [
    {
     "name": "stdout",
     "output_type": "stream",
     "text": [
      "(4411532,)\n"
     ]
    }
   ],
   "source": [
    "print(EBR_36CI_Array_A4.shape)"
   ]
  },
  {
   "cell_type": "code",
   "execution_count": 11,
   "metadata": {},
   "outputs": [
    {
     "data": {
      "text/plain": [
       "15813"
      ]
     },
     "execution_count": 11,
     "metadata": {},
     "output_type": "execute_result"
    }
   ],
   "source": [
    "np.isnan(EBR_36CI_Array_A4).sum()"
   ]
  },
  {
   "cell_type": "code",
   "execution_count": 12,
   "metadata": {},
   "outputs": [
    {
     "data": {
      "text/plain": [
       "0.9886257598437431"
      ]
     },
     "execution_count": 12,
     "metadata": {},
     "output_type": "execute_result"
    }
   ],
   "source": [
    "np.mean( EBR_36CI_Array_A4[ ~np.isnan(EBR_36CI_Array_A4) ] )"
   ]
  },
  {
   "cell_type": "code",
   "execution_count": 13,
   "metadata": {},
   "outputs": [
    {
     "data": {
      "text/plain": [
       "0.9886257598437438"
      ]
     },
     "execution_count": 13,
     "metadata": {},
     "output_type": "execute_result"
    }
   ],
   "source": [
    "np.nanmean(EBR_36CI_Array_A4)"
   ]
  },
  {
   "cell_type": "code",
   "execution_count": null,
   "metadata": {},
   "outputs": [],
   "source": []
  },
  {
   "cell_type": "markdown",
   "metadata": {},
   "source": [
    "## Read in GC content pickles (GC% calculated as a sliding window)"
   ]
  },
  {
   "cell_type": "code",
   "execution_count": 14,
   "metadata": {},
   "outputs": [],
   "source": [
    "Mtb_RefDir=\"/n/data1/hms/dbmi/farhat/mm774/References\"\n",
    "GCcontent_OutputDir = f\"{Mtb_RefDir}/191217_H37rv_GC_CircGenome_Arrays\"\n",
    "\n",
    "Pickle_PATH_H37rv_GC_10bp_SW_Array = GCcontent_OutputDir + \"/191217_H37rv_GC_10bp_SW_Array.pickle\"   \n",
    "Pickle_PATH_H37rv_GC_50bp_SW_Array = GCcontent_OutputDir + \"/191217_H37rv_GC_50bp_SW_Array.pickle\"   \n",
    "Pickle_PATH_H37rv_GC_100bp_SW_Array = GCcontent_OutputDir + \"/191217_H37rv_GC_100bp_SW_Array.pickle\"   \n",
    "\n",
    "#with open(Pickle_PATH_H37rv_GC_10bp_SW_Array, \"rb\") as f: H37rv_GC_10bp_SW_Array = pickle.load(f)\n",
    "#with open(Pickle_PATH_H37rv_GC_50bp_SW_Array, \"rb\") as f: H37rv_GC_50bp_SW_Array = pickle.load(f)\n",
    "with open(Pickle_PATH_H37rv_GC_100bp_SW_Array, \"rb\") as f: H37rv_GC_100bp_SW_Array = pickle.load(f)"
   ]
  },
  {
   "cell_type": "code",
   "execution_count": null,
   "metadata": {},
   "outputs": [],
   "source": []
  },
  {
   "cell_type": "code",
   "execution_count": null,
   "metadata": {},
   "outputs": [],
   "source": []
  },
  {
   "cell_type": "code",
   "execution_count": null,
   "metadata": {},
   "outputs": [],
   "source": []
  },
  {
   "cell_type": "markdown",
   "metadata": {},
   "source": [
    "# 3) Read back in EBR and P-mappability H37rv gene level analysis"
   ]
  },
  {
   "cell_type": "code",
   "execution_count": null,
   "metadata": {},
   "outputs": [],
   "source": []
  },
  {
   "cell_type": "code",
   "execution_count": 15,
   "metadata": {},
   "outputs": [],
   "source": [
    "#Repo_DataDir = \"../../Data\"\n",
    "\n",
    "\n",
    "FeatureLevelAnalysis_Dir_O2 = PBvIll_EBR_Dir + \"/210113_H37Rv_FeatureLevelAnalysis_EBR_Pmap\" \n",
    "\n",
    "\n",
    "H37Rv_FeatureLevelAnalysis_EBR_Pmap_TSV_O2_Repo = f\"{FeatureLevelAnalysis_Dir_O2}/H37Rv_FeatureLevelAnalysis.EBR_And_Pmap.tsv\"\n",
    "H37Rv_GeneLevelAnalysis_EBR_Pmap_TSV_O2_Repo = f\"{FeatureLevelAnalysis_Dir_O2}/H37Rv_FeatureLevelAnalysis.EBR_And_Pmap.Genes.tsv\"\n",
    "H37Rv_IntergenicLevelAnalysis_EBR_Pmap_TSV_O2_Repo = f\"{FeatureLevelAnalysis_Dir_O2}/H37Rv_FeatureLevelAnalysis.EBR_And_Pmap.IntergenicRegions.tsv\"\n",
    "\n",
    "FLA_DF = pd.read_csv(H37Rv_FeatureLevelAnalysis_EBR_Pmap_TSV_O2_Repo, sep = \"\\t\",)\n",
    "\n",
    "GLA_DF = pd.read_csv(H37Rv_GeneLevelAnalysis_EBR_Pmap_TSV_O2_Repo, sep = \"\\t\",)"
   ]
  },
  {
   "cell_type": "code",
   "execution_count": 16,
   "metadata": {},
   "outputs": [
    {
     "data": {
      "text/plain": [
       "(4079, 20)"
      ]
     },
     "execution_count": 16,
     "metadata": {},
     "output_type": "execute_result"
    }
   ],
   "source": [
    "GLA_DF.shape"
   ]
  },
  {
   "cell_type": "code",
   "execution_count": 17,
   "metadata": {},
   "outputs": [
    {
     "data": {
      "text/html": [
       "<div>\n",
       "<style scoped>\n",
       "    .dataframe tbody tr th:only-of-type {\n",
       "        vertical-align: middle;\n",
       "    }\n",
       "\n",
       "    .dataframe tbody tr th {\n",
       "        vertical-align: top;\n",
       "    }\n",
       "\n",
       "    .dataframe thead th {\n",
       "        text-align: right;\n",
       "    }\n",
       "</style>\n",
       "<table border=\"1\" class=\"dataframe\">\n",
       "  <thead>\n",
       "    <tr style=\"text-align: right;\">\n",
       "      <th></th>\n",
       "      <th>Chrom</th>\n",
       "      <th>Start</th>\n",
       "      <th>End</th>\n",
       "      <th>Strand</th>\n",
       "      <th>H37rv_GeneID</th>\n",
       "      <th>Symbol</th>\n",
       "      <th>Feature</th>\n",
       "      <th>ExcludedGroup_Category</th>\n",
       "      <th>PEandPPE_Subfamily</th>\n",
       "      <th>Product</th>\n",
       "      <th>Functional_Category</th>\n",
       "      <th>Is_Pseudogene</th>\n",
       "      <th>Mean_EBR_36CI</th>\n",
       "      <th>gene_PercentPerfect_EBR_36CI</th>\n",
       "      <th>gene_ProportionWith_NANs_EBR_36CI</th>\n",
       "      <th>gene_GC_Content</th>\n",
       "      <th>Mean_PileupMapScore_K50_E4</th>\n",
       "      <th>Mean_PileupMapScore_K100_E4</th>\n",
       "      <th>Mean_PileupMapScore_K125_E4</th>\n",
       "      <th>Length</th>\n",
       "    </tr>\n",
       "  </thead>\n",
       "  <tbody>\n",
       "    <tr>\n",
       "      <th>0</th>\n",
       "      <td>NC_000962.3</td>\n",
       "      <td>0</td>\n",
       "      <td>1524</td>\n",
       "      <td>+</td>\n",
       "      <td>Rv0001</td>\n",
       "      <td>dnaA</td>\n",
       "      <td>CDS</td>\n",
       "      <td>NotExcluded</td>\n",
       "      <td>None</td>\n",
       "      <td>Chromosomal replication initiator protein DnaA</td>\n",
       "      <td>information pathways</td>\n",
       "      <td>No</td>\n",
       "      <td>0.997430</td>\n",
       "      <td>92.979003</td>\n",
       "      <td>0.0</td>\n",
       "      <td>58.923885</td>\n",
       "      <td>1.0</td>\n",
       "      <td>1.0</td>\n",
       "      <td>1.0</td>\n",
       "      <td>1524</td>\n",
       "    </tr>\n",
       "    <tr>\n",
       "      <th>1</th>\n",
       "      <td>NC_000962.3</td>\n",
       "      <td>2051</td>\n",
       "      <td>3260</td>\n",
       "      <td>+</td>\n",
       "      <td>Rv0002</td>\n",
       "      <td>dnaN</td>\n",
       "      <td>CDS</td>\n",
       "      <td>NotExcluded</td>\n",
       "      <td>None</td>\n",
       "      <td>DNA polymerase III (beta chain) DnaN (DNA nucl...</td>\n",
       "      <td>information pathways</td>\n",
       "      <td>No</td>\n",
       "      <td>0.998093</td>\n",
       "      <td>93.134822</td>\n",
       "      <td>0.0</td>\n",
       "      <td>59.966915</td>\n",
       "      <td>1.0</td>\n",
       "      <td>1.0</td>\n",
       "      <td>1.0</td>\n",
       "      <td>1209</td>\n",
       "    </tr>\n",
       "  </tbody>\n",
       "</table>\n",
       "</div>"
      ],
      "text/plain": [
       "         Chrom  Start   End Strand H37rv_GeneID Symbol Feature ExcludedGroup_Category PEandPPE_Subfamily                                            Product   Functional_Category Is_Pseudogene  Mean_EBR_36CI  gene_PercentPerfect_EBR_36CI  gene_ProportionWith_NANs_EBR_36CI  gene_GC_Content  Mean_PileupMapScore_K50_E4  Mean_PileupMapScore_K100_E4  Mean_PileupMapScore_K125_E4  Length\n",
       "0  NC_000962.3      0  1524      +       Rv0001   dnaA     CDS            NotExcluded               None     Chromosomal replication initiator protein DnaA  information pathways            No       0.997430                     92.979003                                0.0        58.923885                         1.0                          1.0                          1.0    1524\n",
       "1  NC_000962.3   2051  3260      +       Rv0002   dnaN     CDS            NotExcluded               None  DNA polymerase III (beta chain) DnaN (DNA nucl...  information pathways            No       0.998093                     93.134822                                0.0        59.966915                         1.0                          1.0                          1.0    1209"
      ]
     },
     "execution_count": 17,
     "metadata": {},
     "output_type": "execute_result"
    }
   ],
   "source": [
    "GLA_DF.head(2)"
   ]
  },
  {
   "cell_type": "code",
   "execution_count": null,
   "metadata": {},
   "outputs": [],
   "source": []
  },
  {
   "cell_type": "code",
   "execution_count": null,
   "metadata": {},
   "outputs": [],
   "source": []
  },
  {
   "cell_type": "code",
   "execution_count": null,
   "metadata": {},
   "outputs": [],
   "source": []
  },
  {
   "cell_type": "markdown",
   "metadata": {
    "toc-hr-collapsed": false
   },
   "source": [
    "# 4) Read in BED files defining the PLC and PHC Regions (Coscolla et al scheme)"
   ]
  },
  {
   "cell_type": "code",
   "execution_count": 18,
   "metadata": {},
   "outputs": [],
   "source": [
    "RepoRef_Dir = \"../../References\"\n",
    "pLC_ExcludedRegionsScheme_RepoRef_Dir = f\"{RepoRef_Dir}/pLowConfideceRegions_CoscollaEtAlScheme_Files\"\n",
    "\n",
    "Mtb_H37rv_pLCRegions_Coscolla_BED_PATH = f\"{pLC_ExcludedRegionsScheme_RepoRef_Dir}/201027_Mtb_H37rv_pLC_Regions_CoscollaExcludedGenes.bed\"\n",
    "Mtb_H37rv_pLCRegions_Coscolla_BED_MERGED_PATH = f\"{pLC_ExcludedRegionsScheme_RepoRef_Dir}/201027_Mtb_H37rv_pLC_Regions_CoscollaExcludedRegion.Merged.bed\"\n",
    "Mtb_H37rv_HighConfidenceRegions_NONCoscollaRegions_BED_PATH = f\"{pLC_ExcludedRegionsScheme_RepoRef_Dir}/201027_Mtb_H37rv_HighConfidence_Regions_NONpLC_Regions.bed\"\n"
   ]
  },
  {
   "cell_type": "code",
   "execution_count": 19,
   "metadata": {},
   "outputs": [
    {
     "data": {
      "text/plain": [
       "(331, 4)"
      ]
     },
     "execution_count": 19,
     "metadata": {},
     "output_type": "execute_result"
    }
   ],
   "source": [
    "HighConfidenceRegions_BED_DF = pd.read_csv(Mtb_H37rv_HighConfidenceRegions_NONCoscollaRegions_BED_PATH, sep = \"\\t\", header = None)\n",
    "HighConfidenceRegions_BED_DF.columns = [\"Chrom\", \"Start\", \"End\"]\n",
    "HighConfidenceRegions_BED_DF[\"Length\"] = HighConfidenceRegions_BED_DF[\"End\"] - HighConfidenceRegions_BED_DF[\"Start\"]\n",
    "HighConfidenceRegions_BED_DF.shape"
   ]
  },
  {
   "cell_type": "code",
   "execution_count": 20,
   "metadata": {},
   "outputs": [
    {
     "data": {
      "text/plain": [
       "(330, 4)"
      ]
     },
     "execution_count": 20,
     "metadata": {},
     "output_type": "execute_result"
    }
   ],
   "source": [
    "LowConfidenceRegions_BED_DF = pd.read_csv(Mtb_H37rv_pLCRegions_Coscolla_BED_MERGED_PATH, sep = \"\\t\", header = None)\n",
    "LowConfidenceRegions_BED_DF.columns = [\"Chrom\", \"Start\", \"End\"]\n",
    "LowConfidenceRegions_BED_DF[\"Length\"] = LowConfidenceRegions_BED_DF[\"End\"] - LowConfidenceRegions_BED_DF[\"Start\"]\n",
    "LowConfidenceRegions_BED_DF.shape"
   ]
  },
  {
   "cell_type": "code",
   "execution_count": 21,
   "metadata": {},
   "outputs": [],
   "source": [
    "#HighConfidenceRegions_BED_DF[\"Length\"].sum() + LowConfidenceRegions_BED_DF[\"Length\"].sum()"
   ]
  },
  {
   "cell_type": "markdown",
   "metadata": {},
   "source": [
    "### What % of the genome is excluded as defined by the Putative Low Confidence filtering scheme?\n",
    "\n",
    "Answer: 10.6% of the H37rv reference genome is systematically excluded from a majority of analyses"
   ]
  },
  {
   "cell_type": "code",
   "execution_count": 22,
   "metadata": {},
   "outputs": [
    {
     "data": {
      "text/plain": [
       "469501"
      ]
     },
     "execution_count": 22,
     "metadata": {},
     "output_type": "execute_result"
    }
   ],
   "source": [
    "LowConfidenceRegions_BED_DF[\"Length\"].sum()"
   ]
  },
  {
   "cell_type": "code",
   "execution_count": 23,
   "metadata": {},
   "outputs": [
    {
     "data": {
      "text/plain": [
       "0.10642584027498837"
      ]
     },
     "execution_count": 23,
     "metadata": {},
     "output_type": "execute_result"
    }
   ],
   "source": [
    "LowConfidenceRegions_BED_DF[\"Length\"].sum() / 4411532"
   ]
  },
  {
   "cell_type": "code",
   "execution_count": 24,
   "metadata": {},
   "outputs": [
    {
     "data": {
      "text/plain": [
       "3942031"
      ]
     },
     "execution_count": 24,
     "metadata": {},
     "output_type": "execute_result"
    }
   ],
   "source": [
    "HighConfidenceRegions_BED_DF[\"Length\"].sum()"
   ]
  },
  {
   "cell_type": "code",
   "execution_count": 25,
   "metadata": {},
   "outputs": [
    {
     "data": {
      "text/plain": [
       "4411532"
      ]
     },
     "execution_count": 25,
     "metadata": {},
     "output_type": "execute_result"
    }
   ],
   "source": [
    "HighConfidenceRegions_BED_DF[\"Length\"].sum() + LowConfidenceRegions_BED_DF[\"Length\"].sum()"
   ]
  },
  {
   "cell_type": "code",
   "execution_count": null,
   "metadata": {},
   "outputs": [],
   "source": []
  },
  {
   "cell_type": "markdown",
   "metadata": {},
   "source": [
    "# 5) Create a True-False NPY mask for PLC and non-PLC regions"
   ]
  },
  {
   "cell_type": "code",
   "execution_count": 26,
   "metadata": {},
   "outputs": [
    {
     "data": {
      "text/plain": [
       "(384, 20)"
      ]
     },
     "execution_count": 26,
     "metadata": {},
     "output_type": "execute_result"
    }
   ],
   "source": [
    "# Split GLA to PLC and Non-PLC\n",
    "GLA_DF_NonPLC = GLA_DF[ GLA_DF[\"ExcludedGroup_Category\"] == \"NotExcluded\"]\n",
    "GLA_DF_PLC = GLA_DF[ GLA_DF[\"ExcludedGroup_Category\"] != \"NotExcluded\"]\n",
    "\n",
    "GLA_DF_PLC.shape"
   ]
  },
  {
   "cell_type": "markdown",
   "metadata": {},
   "source": [
    "### Set all PLC positions to True, then invert numpy array to get Non-PLC regions too"
   ]
  },
  {
   "cell_type": "code",
   "execution_count": 27,
   "metadata": {},
   "outputs": [],
   "source": [
    "PLC_Regions_TF_Array = np.full((4411532,), False, dtype=bool)\n",
    "\n",
    "for index, row  in GLA_DF_PLC.iterrows():    \n",
    "    PLC_Regions_TF_Array[ row['Start'] : row['End']] = True\n",
    "\n",
    "NonPLC_Regions_TF_Array = ~PLC_Regions_TF_Array"
   ]
  },
  {
   "cell_type": "code",
   "execution_count": null,
   "metadata": {},
   "outputs": [],
   "source": []
  },
  {
   "cell_type": "markdown",
   "metadata": {},
   "source": [
    "### How many PLC positions?"
   ]
  },
  {
   "cell_type": "code",
   "execution_count": 28,
   "metadata": {},
   "outputs": [
    {
     "data": {
      "text/plain": [
       "469501"
      ]
     },
     "execution_count": 28,
     "metadata": {},
     "output_type": "execute_result"
    }
   ],
   "source": [
    "PLC_Regions_TF_Array.sum()"
   ]
  },
  {
   "cell_type": "markdown",
   "metadata": {},
   "source": [
    "### How many Non-PLC positions?"
   ]
  },
  {
   "cell_type": "code",
   "execution_count": 29,
   "metadata": {},
   "outputs": [
    {
     "data": {
      "text/plain": [
       "3942031"
      ]
     },
     "execution_count": 29,
     "metadata": {},
     "output_type": "execute_result"
    }
   ],
   "source": [
    "NonPLC_Regions_TF_Array.sum()"
   ]
  },
  {
   "cell_type": "code",
   "execution_count": null,
   "metadata": {},
   "outputs": [],
   "source": []
  },
  {
   "cell_type": "code",
   "execution_count": 30,
   "metadata": {},
   "outputs": [
    {
     "data": {
      "text/plain": [
       "(469501,)"
      ]
     },
     "execution_count": 30,
     "metadata": {},
     "output_type": "execute_result"
    }
   ],
   "source": [
    "EBR_36CI_Array_A4[PLC_Regions_TF_Array].shape"
   ]
  },
  {
   "cell_type": "code",
   "execution_count": 31,
   "metadata": {},
   "outputs": [
    {
     "data": {
      "text/plain": [
       "(3942031,)"
      ]
     },
     "execution_count": 31,
     "metadata": {},
     "output_type": "execute_result"
    }
   ],
   "source": [
    "EBR_36CI_Array_A4[NonPLC_Regions_TF_Array].shape"
   ]
  },
  {
   "cell_type": "code",
   "execution_count": null,
   "metadata": {},
   "outputs": [],
   "source": []
  },
  {
   "cell_type": "code",
   "execution_count": 32,
   "metadata": {},
   "outputs": [],
   "source": [
    "\n",
    "H37Rv_EBR_Pmap_Metrics_DF = pd.concat( [ pd.Series(EBR_36CI_Array_A4),\n",
    "                                 pd.Series(dictOf_GM_PileupMap_Arrays[\"K50_E4\"]),\n",
    "                                 pd.Series(dictOf_GM_PileupMap_Arrays[\"K100_E4\"]),\n",
    "                                 pd.Series(dictOf_GM_PileupMap_Arrays[\"K150_E4\"]),\n",
    "                                 pd.Series(H37rv_GC_100bp_SW_Array), ],\n",
    "                                 axis = 1 )\n",
    "\n",
    "H37Rv_EBR_Pmap_Metrics_DF.columns = [\"EBR_36CI\", \"Pmap_K50_E4\", \"Pmap_K100_E4\", \"Pmap_K150_E4\", \"GC%_100bpWindowSize\"]\n",
    "\n",
    "\n",
    "H37Rv_EBR_Pmap_Metrics_DF[\"PLC_Tag\"] = PLC_Regions_TF_Array\n",
    "\n",
    "H37Rv_EBR_Pmap_Metrics_DF[\"PLC_Tag\"] = H37Rv_EBR_Pmap_Metrics_DF[\"PLC_Tag\"].replace(True, \"PLC\")\n",
    "H37Rv_EBR_Pmap_Metrics_DF[\"PLC_Tag\"] = H37Rv_EBR_Pmap_Metrics_DF[\"PLC_Tag\"].replace(False, \"Non-PLC\")\n"
   ]
  },
  {
   "cell_type": "code",
   "execution_count": null,
   "metadata": {},
   "outputs": [],
   "source": []
  },
  {
   "cell_type": "code",
   "execution_count": 33,
   "metadata": {},
   "outputs": [
    {
     "data": {
      "text/html": [
       "<div>\n",
       "<style scoped>\n",
       "    .dataframe tbody tr th:only-of-type {\n",
       "        vertical-align: middle;\n",
       "    }\n",
       "\n",
       "    .dataframe tbody tr th {\n",
       "        vertical-align: top;\n",
       "    }\n",
       "\n",
       "    .dataframe thead th {\n",
       "        text-align: right;\n",
       "    }\n",
       "</style>\n",
       "<table border=\"1\" class=\"dataframe\">\n",
       "  <thead>\n",
       "    <tr style=\"text-align: right;\">\n",
       "      <th></th>\n",
       "      <th>EBR_36CI</th>\n",
       "      <th>Pmap_K50_E4</th>\n",
       "      <th>Pmap_K100_E4</th>\n",
       "      <th>Pmap_K150_E4</th>\n",
       "      <th>GC%_100bpWindowSize</th>\n",
       "      <th>PLC_Tag</th>\n",
       "    </tr>\n",
       "  </thead>\n",
       "  <tbody>\n",
       "    <tr>\n",
       "      <th>0</th>\n",
       "      <td>0.916667</td>\n",
       "      <td>NaN</td>\n",
       "      <td>NaN</td>\n",
       "      <td>NaN</td>\n",
       "      <td>59.0</td>\n",
       "      <td>Non-PLC</td>\n",
       "    </tr>\n",
       "    <tr>\n",
       "      <th>1</th>\n",
       "      <td>0.916667</td>\n",
       "      <td>NaN</td>\n",
       "      <td>NaN</td>\n",
       "      <td>NaN</td>\n",
       "      <td>60.0</td>\n",
       "      <td>Non-PLC</td>\n",
       "    </tr>\n",
       "    <tr>\n",
       "      <th>2</th>\n",
       "      <td>0.916667</td>\n",
       "      <td>NaN</td>\n",
       "      <td>NaN</td>\n",
       "      <td>NaN</td>\n",
       "      <td>59.0</td>\n",
       "      <td>Non-PLC</td>\n",
       "    </tr>\n",
       "  </tbody>\n",
       "</table>\n",
       "</div>"
      ],
      "text/plain": [
       "   EBR_36CI  Pmap_K50_E4  Pmap_K100_E4  Pmap_K150_E4  GC%_100bpWindowSize  PLC_Tag\n",
       "0  0.916667          NaN           NaN           NaN                 59.0  Non-PLC\n",
       "1  0.916667          NaN           NaN           NaN                 60.0  Non-PLC\n",
       "2  0.916667          NaN           NaN           NaN                 59.0  Non-PLC"
      ]
     },
     "execution_count": 33,
     "metadata": {},
     "output_type": "execute_result"
    }
   ],
   "source": [
    "H37Rv_EBR_Pmap_Metrics_DF.head(3)"
   ]
  },
  {
   "cell_type": "code",
   "execution_count": 34,
   "metadata": {},
   "outputs": [
    {
     "data": {
      "text/html": [
       "<div>\n",
       "<style scoped>\n",
       "    .dataframe tbody tr th:only-of-type {\n",
       "        vertical-align: middle;\n",
       "    }\n",
       "\n",
       "    .dataframe tbody tr th {\n",
       "        vertical-align: top;\n",
       "    }\n",
       "\n",
       "    .dataframe thead th {\n",
       "        text-align: right;\n",
       "    }\n",
       "</style>\n",
       "<table border=\"1\" class=\"dataframe\">\n",
       "  <thead>\n",
       "    <tr style=\"text-align: right;\">\n",
       "      <th></th>\n",
       "      <th>EBR_36CI</th>\n",
       "      <th>Pmap_K50_E4</th>\n",
       "      <th>Pmap_K100_E4</th>\n",
       "      <th>Pmap_K150_E4</th>\n",
       "      <th>GC%_100bpWindowSize</th>\n",
       "      <th>PLC_Tag</th>\n",
       "    </tr>\n",
       "  </thead>\n",
       "  <tbody>\n",
       "    <tr>\n",
       "      <th>280</th>\n",
       "      <td>1.0</td>\n",
       "      <td>1.0</td>\n",
       "      <td>1.0</td>\n",
       "      <td>1.0</td>\n",
       "      <td>69.0</td>\n",
       "      <td>Non-PLC</td>\n",
       "    </tr>\n",
       "    <tr>\n",
       "      <th>281</th>\n",
       "      <td>1.0</td>\n",
       "      <td>1.0</td>\n",
       "      <td>1.0</td>\n",
       "      <td>1.0</td>\n",
       "      <td>69.0</td>\n",
       "      <td>Non-PLC</td>\n",
       "    </tr>\n",
       "    <tr>\n",
       "      <th>282</th>\n",
       "      <td>1.0</td>\n",
       "      <td>1.0</td>\n",
       "      <td>1.0</td>\n",
       "      <td>1.0</td>\n",
       "      <td>69.0</td>\n",
       "      <td>Non-PLC</td>\n",
       "    </tr>\n",
       "    <tr>\n",
       "      <th>283</th>\n",
       "      <td>1.0</td>\n",
       "      <td>1.0</td>\n",
       "      <td>1.0</td>\n",
       "      <td>1.0</td>\n",
       "      <td>69.0</td>\n",
       "      <td>Non-PLC</td>\n",
       "    </tr>\n",
       "    <tr>\n",
       "      <th>284</th>\n",
       "      <td>1.0</td>\n",
       "      <td>1.0</td>\n",
       "      <td>1.0</td>\n",
       "      <td>1.0</td>\n",
       "      <td>68.0</td>\n",
       "      <td>Non-PLC</td>\n",
       "    </tr>\n",
       "    <tr>\n",
       "      <th>285</th>\n",
       "      <td>1.0</td>\n",
       "      <td>1.0</td>\n",
       "      <td>1.0</td>\n",
       "      <td>1.0</td>\n",
       "      <td>68.0</td>\n",
       "      <td>Non-PLC</td>\n",
       "    </tr>\n",
       "    <tr>\n",
       "      <th>286</th>\n",
       "      <td>1.0</td>\n",
       "      <td>1.0</td>\n",
       "      <td>1.0</td>\n",
       "      <td>1.0</td>\n",
       "      <td>68.0</td>\n",
       "      <td>Non-PLC</td>\n",
       "    </tr>\n",
       "    <tr>\n",
       "      <th>287</th>\n",
       "      <td>1.0</td>\n",
       "      <td>1.0</td>\n",
       "      <td>1.0</td>\n",
       "      <td>1.0</td>\n",
       "      <td>68.0</td>\n",
       "      <td>Non-PLC</td>\n",
       "    </tr>\n",
       "    <tr>\n",
       "      <th>288</th>\n",
       "      <td>1.0</td>\n",
       "      <td>1.0</td>\n",
       "      <td>1.0</td>\n",
       "      <td>1.0</td>\n",
       "      <td>67.0</td>\n",
       "      <td>Non-PLC</td>\n",
       "    </tr>\n",
       "    <tr>\n",
       "      <th>289</th>\n",
       "      <td>1.0</td>\n",
       "      <td>1.0</td>\n",
       "      <td>1.0</td>\n",
       "      <td>1.0</td>\n",
       "      <td>67.0</td>\n",
       "      <td>Non-PLC</td>\n",
       "    </tr>\n",
       "    <tr>\n",
       "      <th>290</th>\n",
       "      <td>1.0</td>\n",
       "      <td>1.0</td>\n",
       "      <td>1.0</td>\n",
       "      <td>1.0</td>\n",
       "      <td>67.0</td>\n",
       "      <td>Non-PLC</td>\n",
       "    </tr>\n",
       "    <tr>\n",
       "      <th>291</th>\n",
       "      <td>1.0</td>\n",
       "      <td>1.0</td>\n",
       "      <td>1.0</td>\n",
       "      <td>1.0</td>\n",
       "      <td>67.0</td>\n",
       "      <td>Non-PLC</td>\n",
       "    </tr>\n",
       "    <tr>\n",
       "      <th>292</th>\n",
       "      <td>1.0</td>\n",
       "      <td>1.0</td>\n",
       "      <td>1.0</td>\n",
       "      <td>1.0</td>\n",
       "      <td>67.0</td>\n",
       "      <td>Non-PLC</td>\n",
       "    </tr>\n",
       "    <tr>\n",
       "      <th>293</th>\n",
       "      <td>1.0</td>\n",
       "      <td>1.0</td>\n",
       "      <td>1.0</td>\n",
       "      <td>1.0</td>\n",
       "      <td>67.0</td>\n",
       "      <td>Non-PLC</td>\n",
       "    </tr>\n",
       "    <tr>\n",
       "      <th>294</th>\n",
       "      <td>1.0</td>\n",
       "      <td>1.0</td>\n",
       "      <td>1.0</td>\n",
       "      <td>1.0</td>\n",
       "      <td>68.0</td>\n",
       "      <td>Non-PLC</td>\n",
       "    </tr>\n",
       "    <tr>\n",
       "      <th>295</th>\n",
       "      <td>1.0</td>\n",
       "      <td>1.0</td>\n",
       "      <td>1.0</td>\n",
       "      <td>1.0</td>\n",
       "      <td>68.0</td>\n",
       "      <td>Non-PLC</td>\n",
       "    </tr>\n",
       "    <tr>\n",
       "      <th>296</th>\n",
       "      <td>1.0</td>\n",
       "      <td>1.0</td>\n",
       "      <td>1.0</td>\n",
       "      <td>1.0</td>\n",
       "      <td>68.0</td>\n",
       "      <td>Non-PLC</td>\n",
       "    </tr>\n",
       "    <tr>\n",
       "      <th>297</th>\n",
       "      <td>1.0</td>\n",
       "      <td>1.0</td>\n",
       "      <td>1.0</td>\n",
       "      <td>1.0</td>\n",
       "      <td>69.0</td>\n",
       "      <td>Non-PLC</td>\n",
       "    </tr>\n",
       "    <tr>\n",
       "      <th>298</th>\n",
       "      <td>1.0</td>\n",
       "      <td>1.0</td>\n",
       "      <td>1.0</td>\n",
       "      <td>1.0</td>\n",
       "      <td>69.0</td>\n",
       "      <td>Non-PLC</td>\n",
       "    </tr>\n",
       "    <tr>\n",
       "      <th>299</th>\n",
       "      <td>1.0</td>\n",
       "      <td>1.0</td>\n",
       "      <td>1.0</td>\n",
       "      <td>1.0</td>\n",
       "      <td>69.0</td>\n",
       "      <td>Non-PLC</td>\n",
       "    </tr>\n",
       "  </tbody>\n",
       "</table>\n",
       "</div>"
      ],
      "text/plain": [
       "     EBR_36CI  Pmap_K50_E4  Pmap_K100_E4  Pmap_K150_E4  GC%_100bpWindowSize  PLC_Tag\n",
       "280       1.0          1.0           1.0           1.0                 69.0  Non-PLC\n",
       "281       1.0          1.0           1.0           1.0                 69.0  Non-PLC\n",
       "282       1.0          1.0           1.0           1.0                 69.0  Non-PLC\n",
       "283       1.0          1.0           1.0           1.0                 69.0  Non-PLC\n",
       "284       1.0          1.0           1.0           1.0                 68.0  Non-PLC\n",
       "285       1.0          1.0           1.0           1.0                 68.0  Non-PLC\n",
       "286       1.0          1.0           1.0           1.0                 68.0  Non-PLC\n",
       "287       1.0          1.0           1.0           1.0                 68.0  Non-PLC\n",
       "288       1.0          1.0           1.0           1.0                 67.0  Non-PLC\n",
       "289       1.0          1.0           1.0           1.0                 67.0  Non-PLC\n",
       "290       1.0          1.0           1.0           1.0                 67.0  Non-PLC\n",
       "291       1.0          1.0           1.0           1.0                 67.0  Non-PLC\n",
       "292       1.0          1.0           1.0           1.0                 67.0  Non-PLC\n",
       "293       1.0          1.0           1.0           1.0                 67.0  Non-PLC\n",
       "294       1.0          1.0           1.0           1.0                 68.0  Non-PLC\n",
       "295       1.0          1.0           1.0           1.0                 68.0  Non-PLC\n",
       "296       1.0          1.0           1.0           1.0                 68.0  Non-PLC\n",
       "297       1.0          1.0           1.0           1.0                 69.0  Non-PLC\n",
       "298       1.0          1.0           1.0           1.0                 69.0  Non-PLC\n",
       "299       1.0          1.0           1.0           1.0                 69.0  Non-PLC"
      ]
     },
     "execution_count": 34,
     "metadata": {},
     "output_type": "execute_result"
    }
   ],
   "source": [
    "H37Rv_EBR_Pmap_Metrics_DF.head(300).tail(20)"
   ]
  },
  {
   "cell_type": "code",
   "execution_count": null,
   "metadata": {},
   "outputs": [],
   "source": []
  },
  {
   "cell_type": "code",
   "execution_count": 35,
   "metadata": {},
   "outputs": [
    {
     "data": {
      "text/plain": [
       "0          0.0\n",
       "1          0.0\n",
       "2          0.0\n",
       "3          0.0\n",
       "4          0.0\n",
       "          ... \n",
       "4411527    0.0\n",
       "4411528    0.0\n",
       "4411529    0.0\n",
       "4411530    0.0\n",
       "4411531    0.0\n",
       "Name: Pmap_K50_E4, Length: 4411532, dtype: float64"
      ]
     },
     "execution_count": 35,
     "metadata": {},
     "output_type": "execute_result"
    }
   ],
   "source": [
    "H37Rv_EBR_Pmap_Metrics_DF[\"Pmap_K50_E4\"].fillna(0)"
   ]
  },
  {
   "cell_type": "code",
   "execution_count": null,
   "metadata": {},
   "outputs": [],
   "source": []
  },
  {
   "cell_type": "markdown",
   "metadata": {},
   "source": [
    "## Outputing Table: Containing EBR, Pmap, and GC% values for all H37Rv genomic coordinates"
   ]
  },
  {
   "cell_type": "code",
   "execution_count": 36,
   "metadata": {},
   "outputs": [
    {
     "name": "stdout",
     "output_type": "stream",
     "text": [
      "mkdir: cannot create directory ‘../../../210112_PBvsI_VCeval_AnalysisDir_V7_36CI/BaseLevel_Analysis_GenomicChacteristics’: File exists\n"
     ]
    }
   ],
   "source": [
    "PB_Vs_Illumina_DataAnalysis_Dir = \"../../../210112_PBvsI_VCeval_AnalysisDir_V7_36CI\"\n",
    "\n",
    "BaseLevelAnalysis_Subdir = f\"{PB_Vs_Illumina_DataAnalysis_Dir}/BaseLevel_Analysis_GenomicChacteristics\"\n",
    "\n",
    "!mkdir $BaseLevelAnalysis_Subdir\n",
    "\n",
    "H37Rv_EBR_Pmap_GC_Metrics_TSV_PATH = f\"{BaseLevelAnalysis_Subdir}/H37Rv.BaseLevelAnalyis.EBR.Pmap.GC.tsv\"\n"
   ]
  },
  {
   "cell_type": "code",
   "execution_count": 37,
   "metadata": {},
   "outputs": [],
   "source": [
    "H37Rv_EBR_Pmap_Metrics_DF.to_csv(H37Rv_EBR_Pmap_GC_Metrics_TSV_PATH, sep = \"\\t\", index=False)"
   ]
  },
  {
   "cell_type": "code",
   "execution_count": 38,
   "metadata": {},
   "outputs": [
    {
     "name": "stdout",
     "output_type": "stream",
     "text": [
      "/n/data1/hms/dbmi/farhat/mm774/Projects/PacBio_Evaluation_Project/FarhatLab_GeneralRepo/JupyterNotebooks/210323_IlluminaEval_Part2_EBR_And_Pmap_GenomeWideAnalysis\n"
     ]
    }
   ],
   "source": [
    "!pwd"
   ]
  },
  {
   "cell_type": "code",
   "execution_count": 39,
   "metadata": {},
   "outputs": [
    {
     "name": "stdout",
     "output_type": "stream",
     "text": [
      "total 11M\n",
      "drwxrwsr-x  2 mm774 farhat   56 Mar 26 23:36 .\n",
      "drwxrwsr-x 12 mm774 farhat  574 Mar 29 19:36 ..\n",
      "-rw-rw-r--  1 mm774 farhat 126M Apr  2 16:45 H37Rv.BaseLevelAnalyis.EBR.Pmap.GC.tsv\n"
     ]
    }
   ],
   "source": [
    "!ls -alh $BaseLevelAnalysis_Subdir"
   ]
  },
  {
   "cell_type": "code",
   "execution_count": null,
   "metadata": {},
   "outputs": [],
   "source": []
  },
  {
   "cell_type": "markdown",
   "metadata": {},
   "source": [
    "# Measuring Spearman's R correlations"
   ]
  },
  {
   "cell_type": "code",
   "execution_count": 40,
   "metadata": {},
   "outputs": [],
   "source": [
    "EBR_36CI_FillNA = pd.Series(EBR_36CI_Array_A4).fillna(0)\n",
    "Pmap_K100E4_FIllNA = pd.Series(dictOf_GM_PileupMap_Arrays[\"K50_E0\"]).fillna(0)\n",
    "\n",
    "H37rv_GC_100bp_PD_SRS = pd.Series(H37rv_GC_100bp_SW_Array).fillna(0)\n",
    "\n"
   ]
  },
  {
   "cell_type": "code",
   "execution_count": 41,
   "metadata": {},
   "outputs": [
    {
     "data": {
      "text/plain": [
       "SpearmanrResult(correlation=0.4651683022888965, pvalue=0.0)"
      ]
     },
     "execution_count": 41,
     "metadata": {},
     "output_type": "execute_result"
    }
   ],
   "source": [
    "spearmanr(EBR_36CI_FillNA, Pmap_K100E4_FIllNA)"
   ]
  },
  {
   "cell_type": "code",
   "execution_count": 42,
   "metadata": {},
   "outputs": [
    {
     "data": {
      "text/plain": [
       "SpearmanrResult(correlation=-0.11956379953461804, pvalue=0.0)"
      ]
     },
     "execution_count": 42,
     "metadata": {},
     "output_type": "execute_result"
    }
   ],
   "source": [
    "spearmanr(EBR_36CI_FillNA, H37rv_GC_100bp_PD_SRS)"
   ]
  },
  {
   "cell_type": "code",
   "execution_count": 43,
   "metadata": {},
   "outputs": [
    {
     "data": {
      "text/plain": [
       "SpearmanrResult(correlation=-0.028062936693005816, pvalue=0.0)"
      ]
     },
     "execution_count": 43,
     "metadata": {},
     "output_type": "execute_result"
    }
   ],
   "source": [
    "spearmanr(Pmap_K100E4_FIllNA, H37rv_GC_100bp_PD_SRS)"
   ]
  },
  {
   "cell_type": "code",
   "execution_count": null,
   "metadata": {},
   "outputs": [],
   "source": []
  },
  {
   "cell_type": "code",
   "execution_count": null,
   "metadata": {},
   "outputs": [],
   "source": []
  },
  {
   "cell_type": "code",
   "execution_count": 44,
   "metadata": {},
   "outputs": [],
   "source": [
    "H37Rv_EBR_Pmap_Melted = pd.melt(H37Rv_EBR_Pmap_Metrics_DF, id_vars=['PLC_Tag'], value_vars=['EBR_36CI', 'Pmap_K50_E4' ],\n",
    "                                var_name='Metric_Type', value_name='Score')"
   ]
  },
  {
   "cell_type": "code",
   "execution_count": 45,
   "metadata": {},
   "outputs": [
    {
     "data": {
      "text/html": [
       "<div>\n",
       "<style scoped>\n",
       "    .dataframe tbody tr th:only-of-type {\n",
       "        vertical-align: middle;\n",
       "    }\n",
       "\n",
       "    .dataframe tbody tr th {\n",
       "        vertical-align: top;\n",
       "    }\n",
       "\n",
       "    .dataframe thead th {\n",
       "        text-align: right;\n",
       "    }\n",
       "</style>\n",
       "<table border=\"1\" class=\"dataframe\">\n",
       "  <thead>\n",
       "    <tr style=\"text-align: right;\">\n",
       "      <th></th>\n",
       "      <th>PLC_Tag</th>\n",
       "      <th>Metric_Type</th>\n",
       "      <th>Score</th>\n",
       "    </tr>\n",
       "  </thead>\n",
       "  <tbody>\n",
       "    <tr>\n",
       "      <th>0</th>\n",
       "      <td>Non-PLC</td>\n",
       "      <td>EBR_36CI</td>\n",
       "      <td>0.916667</td>\n",
       "    </tr>\n",
       "    <tr>\n",
       "      <th>1</th>\n",
       "      <td>Non-PLC</td>\n",
       "      <td>EBR_36CI</td>\n",
       "      <td>0.916667</td>\n",
       "    </tr>\n",
       "    <tr>\n",
       "      <th>2</th>\n",
       "      <td>Non-PLC</td>\n",
       "      <td>EBR_36CI</td>\n",
       "      <td>0.916667</td>\n",
       "    </tr>\n",
       "    <tr>\n",
       "      <th>3</th>\n",
       "      <td>Non-PLC</td>\n",
       "      <td>EBR_36CI</td>\n",
       "      <td>0.916667</td>\n",
       "    </tr>\n",
       "    <tr>\n",
       "      <th>4</th>\n",
       "      <td>Non-PLC</td>\n",
       "      <td>EBR_36CI</td>\n",
       "      <td>0.916667</td>\n",
       "    </tr>\n",
       "  </tbody>\n",
       "</table>\n",
       "</div>"
      ],
      "text/plain": [
       "   PLC_Tag Metric_Type     Score\n",
       "0  Non-PLC    EBR_36CI  0.916667\n",
       "1  Non-PLC    EBR_36CI  0.916667\n",
       "2  Non-PLC    EBR_36CI  0.916667\n",
       "3  Non-PLC    EBR_36CI  0.916667\n",
       "4  Non-PLC    EBR_36CI  0.916667"
      ]
     },
     "execution_count": 45,
     "metadata": {},
     "output_type": "execute_result"
    }
   ],
   "source": [
    "H37Rv_EBR_Pmap_Melted.head()"
   ]
  },
  {
   "cell_type": "code",
   "execution_count": 46,
   "metadata": {},
   "outputs": [
    {
     "data": {
      "text/plain": [
       "Non-PLC    3942031\n",
       "PLC         469501\n",
       "Name: PLC_Tag, dtype: int64"
      ]
     },
     "execution_count": 46,
     "metadata": {},
     "output_type": "execute_result"
    }
   ],
   "source": [
    "H37Rv_EBR_Pmap_Metrics_DF[\"PLC_Tag\"].value_counts()"
   ]
  },
  {
   "cell_type": "code",
   "execution_count": 47,
   "metadata": {},
   "outputs": [
    {
     "data": {
      "text/plain": [
       "(4411532, 6)"
      ]
     },
     "execution_count": 47,
     "metadata": {},
     "output_type": "execute_result"
    }
   ],
   "source": [
    "H37Rv_EBR_Pmap_Metrics_DF.shape"
   ]
  },
  {
   "cell_type": "code",
   "execution_count": 48,
   "metadata": {},
   "outputs": [
    {
     "name": "stdout",
     "output_type": "stream",
     "text": [
      "<class 'pandas.core.frame.DataFrame'>\n",
      "RangeIndex: 4411532 entries, 0 to 4411531\n",
      "Data columns (total 6 columns):\n",
      " #   Column               Dtype  \n",
      "---  ------               -----  \n",
      " 0   EBR_36CI             float64\n",
      " 1   Pmap_K50_E4          float64\n",
      " 2   Pmap_K100_E4         float64\n",
      " 3   Pmap_K150_E4         float64\n",
      " 4   GC%_100bpWindowSize  float64\n",
      " 5   PLC_Tag              object \n",
      "dtypes: float64(5), object(1)\n",
      "memory usage: 556.1 MB\n"
     ]
    }
   ],
   "source": [
    "H37Rv_EBR_Pmap_Metrics_DF.info(memory_usage=\"deep\")"
   ]
  },
  {
   "cell_type": "code",
   "execution_count": null,
   "metadata": {},
   "outputs": [],
   "source": []
  },
  {
   "cell_type": "code",
   "execution_count": null,
   "metadata": {},
   "outputs": [],
   "source": []
  },
  {
   "cell_type": "code",
   "execution_count": 49,
   "metadata": {},
   "outputs": [
    {
     "name": "stdout",
     "output_type": "stream",
     "text": [
      "mkdir: cannot create directory ‘./H37Rv_EBR_Pmap_BasePairResolutions_Plots/’: File exists\n"
     ]
    },
    {
     "data": {
      "image/png": "[encoded data removed]",
      "text/plain": [
       "<Figure size 1080x576 with 1 Axes>"
      ]
     },
     "metadata": {
      "needs_background": "light"
     },
     "output_type": "display_data"
    }
   ],
   "source": [
    "fig, axs = plt.subplots(1, 1, figsize=(15, 8), sharex=False)\n",
    "#fig.tight_layout(pad=0.0)\n",
    "\n",
    "sns.violinplot( x = \"Score\", y = \"PLC_Tag\", hue = \"Metric_Type\", width = 1, linewidth=0.2,\n",
    "                data = H37Rv_EBR_Pmap_Melted, ax = axs)\n",
    "\n",
    "\n",
    "#axs.legend([\"EBR\", \"Pileup Mappability (k = 50 bp)\"])\n",
    "\n",
    "plt.legend(frameon=False)\n",
    "\n",
    "axs.set_xlim(0, 1.05)\n",
    "\n",
    "!mkdir ./H37Rv_EBR_Pmap_BasePairResolutions_Plots/\n",
    "\n",
    "\n",
    "Output_PDF_PATH = \"./H37Rv_EBR_Pmap_BasePairResolutions_Plots/Fig3a_EBR36_And_Pmap_K50E4_ViolinPlots_BasePairDistribution_pLC_vs_pHC.pdf\"\n",
    "Output_SVG_PATH = \"./H37Rv_EBR_Pmap_BasePairResolutions_Plots/Fig3a_EBR36_And_Pmap_K50E4_ViolinPlots_BasePairDistribution_pLC_vs_pHC.svg\"\n",
    "Output_PNG_PATH = \"./H37Rv_EBR_Pmap_BasePairResolutions_Plots/Fig3a_EBR36_And_Pmap_K50E4_ViolinPlots_BasePairDistribution_pLC_vs_pHC.png\"\n",
    "\n",
    "plt.savefig(Output_PNG_PATH, bbox_inches='tight', dpi=125)\n",
    "plt.savefig(Output_SVG_PATH, bbox_inches='tight')\n",
    "plt.savefig(Output_PDF_PATH, bbox_inches='tight')\n",
    "\n",
    "plt.show()"
   ]
  },
  {
   "cell_type": "code",
   "execution_count": 50,
   "metadata": {},
   "outputs": [
    {
     "name": "stdout",
     "output_type": "stream",
     "text": [
      "mkdir: cannot create directory ‘./H37Rv_EBR_Pmap_BasePairResolutions_Plots/’: File exists\n"
     ]
    },
    {
     "data": {
      "image/png": "[encoded data removed]",
      "text/plain": [
       "<Figure size 1080x576 with 1 Axes>"
      ]
     },
     "metadata": {
      "needs_background": "light"
     },
     "output_type": "display_data"
    }
   ],
   "source": [
    "fig, axs = plt.subplots(1, 1, figsize=(15, 8), sharex=False)\n",
    "#fig.tight_layout(pad=0.0)\n",
    "\n",
    "# creating a dictionary with one specific color per group:\n",
    "my_pal = {\"Pmap_K50_E4\": \"#E76754\", \"EBR_36CI\": \"#3A4C92\", }\n",
    " \n",
    "\n",
    "sns.violinplot( x = \"Score\", y = \"PLC_Tag\", hue = \"Metric_Type\", width = 1, linewidth=0.2,\n",
    "                data = H37Rv_EBR_Pmap_Melted, ax = axs, palette=my_pal)\n",
    "\n",
    "\n",
    "#axs.legend([\"EBR\", \"Pileup Mappability (k = 50 bp)\"])\n",
    "\n",
    "plt.legend(frameon=False, loc=2)\n",
    "\n",
    "axs.set_xlim(0, 1.05)\n",
    "\n",
    "!mkdir ./H37Rv_EBR_Pmap_BasePairResolutions_Plots/\n",
    "\n",
    "\n",
    "Output_PDF_PATH = \"./H37Rv_EBR_Pmap_BasePairResolutions_Plots/Fig3a_EBR36_And_Pmap_K50E4_ViolinPlots_BasePairDistribution_pLC_vs_pHC.ColoredBlueOrange.pdf\"\n",
    "Output_SVG_PATH = \"./H37Rv_EBR_Pmap_BasePairResolutions_Plots/Fig3a_EBR36_And_Pmap_K50E4_ViolinPlots_BasePairDistribution_pLC_vs_pHC.ColoredBlueOrange.svg\"\n",
    "Output_PNG_PATH = \"./H37Rv_EBR_Pmap_BasePairResolutions_Plots/Fig3a_EBR36_And_Pmap_K50E4_ViolinPlots_BasePairDistribution_pLC_vs_pHC.ColoredBlueOrange.png\"\n",
    "\n",
    "plt.savefig(Output_PNG_PATH, bbox_inches='tight', dpi=125)\n",
    "plt.savefig(Output_SVG_PATH, bbox_inches='tight')\n",
    "plt.savefig(Output_PDF_PATH, bbox_inches='tight')\n",
    "\n",
    "plt.show()"
   ]
  },
  {
   "cell_type": "code",
   "execution_count": null,
   "metadata": {},
   "outputs": [],
   "source": []
  },
  {
   "cell_type": "code",
   "execution_count": null,
   "metadata": {},
   "outputs": [],
   "source": []
  },
  {
   "cell_type": "code",
   "execution_count": null,
   "metadata": {},
   "outputs": [],
   "source": []
  },
  {
   "cell_type": "code",
   "execution_count": 51,
   "metadata": {},
   "outputs": [
    {
     "data": {
      "image/png": "[encoded data removed]",
      "text/plain": [
       "<Figure size 1080x576 with 1 Axes>"
      ]
     },
     "metadata": {
      "needs_background": "light"
     },
     "output_type": "display_data"
    }
   ],
   "source": [
    "fig, axs = plt.subplots(1, 1, figsize=(15, 8), sharex=False)\n",
    "#fig.tight_layout(pad=5.0)\n",
    "\n",
    "sns.boxplot( x = \"Score\", y = \"PLC_Tag\", hue = \"Metric_Type\", width = 1, linewidth=1, fliersize = 0,\n",
    "                data = H37Rv_EBR_Pmap_Melted, ax = axs)\n",
    "\n",
    "\n",
    "Output_PNG_PATH = \"./H37Rv_EBR_Pmap_BasePairResolutions_Plots/Fig3a_ALT_EBR36_And_Pmap_K50E4_BoxPlots_BasePairDistribution_pLC_vs_pHC.png\"\n",
    "\n",
    "plt.savefig(Output_PNG_PATH, bbox_inches='tight', dpi=125)\n",
    "\n",
    "\n",
    "plt.show()"
   ]
  },
  {
   "cell_type": "code",
   "execution_count": null,
   "metadata": {},
   "outputs": [],
   "source": []
  },
  {
   "cell_type": "markdown",
   "metadata": {
    "toc-hr-collapsed": true
   },
   "source": [
    "# Plotting histogram of EBR and P-map (K50,E4) scores between positions of PLC and Non-PLC regions"
   ]
  },
  {
   "cell_type": "code",
   "execution_count": 52,
   "metadata": {},
   "outputs": [],
   "source": [
    "\n",
    "pLC_BP_Metrics_DF = H37Rv_EBR_Pmap_Metrics_DF[ H37Rv_EBR_Pmap_Metrics_DF['PLC_Tag'] == 'PLC' ]\n",
    "\n",
    "pHC_BP_Metrics_DF = H37Rv_EBR_Pmap_Metrics_DF[ H37Rv_EBR_Pmap_Metrics_DF['PLC_Tag'] == 'Non-PLC' ]\n"
   ]
  },
  {
   "cell_type": "code",
   "execution_count": null,
   "metadata": {},
   "outputs": [],
   "source": []
  },
  {
   "cell_type": "code",
   "execution_count": 53,
   "metadata": {},
   "outputs": [
    {
     "name": "stdout",
     "output_type": "stream",
     "text": [
      "mkdir: cannot create directory ‘./H37Rv_EBR_Pmap_BasePairResolutions_Plots/’: File exists\n"
     ]
    },
    {
     "data": {
      "image/png": "[encoded data removed]",
      "text/plain": [
       "<Figure size 1440x576 with 4 Axes>"
      ]
     },
     "metadata": {
      "needs_background": "light"
     },
     "output_type": "display_data"
    }
   ],
   "source": [
    "binwidth = 0.025\n",
    "Min = 0\n",
    "Max = 1.00\n",
    "bins_I = np.arange(Min , Max + binwidth, binwidth)\n",
    "\n",
    "\n",
    "fig, axs = plt.subplots(2, 2, figsize=(20, 8), sharey=False,  sharex=True)\n",
    "fig.tight_layout(pad=5.0)\n",
    "\n",
    "# EBR_28CI\n",
    "axs[0][0].hist(pLC_BP_Metrics_DF[\"EBR_36CI\"], bins = bins_I, density=False, color='#1f77b4')\n",
    "axs[0][0].set_xlim(0, 1.05)\n",
    "axs[0][0].set_ylim(0, 350000)\n",
    "axs[0][0].set_title(\"PLC Regions (469,501 bp)\", fontsize=16)\n",
    "axs[0][0].set_ylabel(\"# of bp\", fontsize=16)\n",
    "axs[0][0].set_xlabel(\"Empirical Base Pair Recall (EBR)\", fontsize=16)\n",
    "\n",
    "axs[1][0].hist(pHC_BP_Metrics_DF[\"EBR_36CI\"], bins = bins_I, density=False, color='#1f77b4')\n",
    "axs[1][0].set_xlim(0, 1.05)\n",
    "axs[1][0].set_ylim(0, 4000000)\n",
    "axs[1][0].set_title(\"Non-PLC Regions (3,942,031 bp)\", fontsize=16)\n",
    "axs[1][0].set_ylabel(\"# of bp\", fontsize=16)\n",
    "axs[1][0].set_xlabel(\"Empirical Base Pair Recall (EBR)\", fontsize=16)\n",
    "\n",
    "\n",
    "# Pmap_K50_E4\n",
    "axs[0][1].hist(pLC_BP_Metrics_DF[\"Pmap_K50_E4\"], bins = bins_I, density=False, color=\"#D58540\")\n",
    "axs[0][1].set_xlim(0, 1.05)\n",
    "axs[0][1].set_ylim(0, 350000)\n",
    "axs[0][1].set_title(\"PLC Regions (469,501 bp)\", fontsize=16)\n",
    "axs[0][1].set_ylabel(\"# of bp\", fontsize=16)\n",
    "axs[0][1].set_xlabel(\"Pileup Mappability (K=50, E=4)\", fontsize=16)\n",
    "\n",
    "axs[1][1].hist(pHC_BP_Metrics_DF[\"Pmap_K50_E4\"], bins = bins_I, density=False, color=\"#D58540\")\n",
    "axs[1][1].set_xlim(0, 1.05)\n",
    "axs[1][1].set_ylim(0, 4000000)\n",
    "axs[1][1].set_title(\"Non-PLC Regions (3,942,031 bp)\", fontsize=16)\n",
    "axs[1][1].set_ylabel(\"# of bp\", fontsize=16)\n",
    "axs[1][1].set_xlabel(\"Pileup Mappability (K=50, E=4)\", fontsize=16)\n",
    "\n",
    "\n",
    "!mkdir ./H37Rv_EBR_Pmap_BasePairResolutions_Plots/\n",
    "\n",
    "Output_PDF_PATH = \"./H37Rv_EBR_Pmap_BasePairResolutions_Plots/HistogramPlots_2by2_Grid_BasePairDistribution_EBR36_vs_Pmap_K50E4_And_pLC_vs_pHC.pdf\"\n",
    "Output_SVG_PATH = \"./H37Rv_EBR_Pmap_BasePairResolutions_Plots/HistogramPlots_2by2_Grid_BasePairDistribution_EBR36_vs_Pmap_K50E4_And_pLC_vs_pHC.svg\"\n",
    "Output_PNG_PATH = \"./H37Rv_EBR_Pmap_BasePairResolutions_Plots/HistogramPlots_2by2_Grid_BasePairDistribution_EBR36_vs_Pmap_K50E4_And_pLC_vs_pHC.png\"\n",
    "\n",
    "plt.savefig(Output_PNG_PATH, bbox_inches='tight', dpi=125)\n",
    "plt.savefig(Output_SVG_PATH, bbox_inches='tight')\n",
    "plt.savefig(Output_PDF_PATH, bbox_inches='tight')\n",
    "\n",
    "plt.show()\n"
   ]
  },
  {
   "cell_type": "code",
   "execution_count": null,
   "metadata": {},
   "outputs": [],
   "source": []
  },
  {
   "cell_type": "code",
   "execution_count": null,
   "metadata": {},
   "outputs": [],
   "source": []
  },
  {
   "cell_type": "code",
   "execution_count": 54,
   "metadata": {},
   "outputs": [
    {
     "name": "stdout",
     "output_type": "stream",
     "text": [
      "mkdir: cannot create directory ‘./H37Rv_EBR_Pmap_BasePairResolutions_Plots/’: File exists\n"
     ]
    },
    {
     "data": {
      "image/png": "[encoded data removed]",
      "text/plain": [
       "<Figure size 864x576 with 2 Axes>"
      ]
     },
     "metadata": {
      "needs_background": "light"
     },
     "output_type": "display_data"
    }
   ],
   "source": [
    "\n",
    "binwidth = 0.025\n",
    "Min = 0\n",
    "Max = 1.00\n",
    "bins_I = np.arange(Min , Max + binwidth, binwidth)\n",
    "\n",
    "\n",
    "fig, axs = plt.subplots(2, 1, figsize=(12, 8), sharex=True)\n",
    "fig.tight_layout(pad=5.0)\n",
    "\n",
    "\n",
    "axs[0].hist(  [pLC_BP_Metrics_DF[\"EBR_36CI\"], pLC_BP_Metrics_DF[\"Pmap_K50_E4\"]  ], bins = bins_I, density=False, color=['#1f77b4', \"#D58540\" ], label = [\"EBR\", \"Pmap\"])\n",
    "\n",
    "axs[0].set_xlim(0, 1.05)\n",
    "axs[0].set_ylim(0, 350000)\n",
    "\n",
    "axs[0].set_title(\"PLC Regions (469,501 bp)\", fontsize=16)\n",
    "\n",
    "axs[0].set_ylabel(\"# of bp\", fontsize=16)\n",
    "axs[0].set_xlabel(\"Score\", fontsize=16)\n",
    "\n",
    "axs[0].legend()\n",
    "\n",
    "\n",
    "axs[1].hist(  [pHC_BP_Metrics_DF[\"EBR_36CI\"], pHC_BP_Metrics_DF[\"Pmap_K50_E4\"]  ], bins = bins_I, density=False, color=['#1f77b4', \"#D58540\" ], label = [\"EBR\", \"Pmap\"])\n",
    "\n",
    "axs[1].set_xlim(0, 1.05)\n",
    "axs[1].set_ylim(0, 4000000)\n",
    "\n",
    "axs[1].set_title(\"Non-PLC Regions (3,942,031 bp)\", fontsize=16)\n",
    "\n",
    "axs[1].set_ylabel(\"# of bp\", fontsize=16)\n",
    "axs[1].set_xlabel(\"Score\", fontsize=16)\n",
    "axs[1].legend()\n",
    "\n",
    "\n",
    "!mkdir ./H37Rv_EBR_Pmap_BasePairResolutions_Plots/\n",
    "\n",
    "Output_PDF_PATH = \"./H37Rv_EBR_Pmap_BasePairResolutions_Plots/Fig3a_Alternative_HistogramPlots_2by1_Overlapping_BasePairDistribution_EBR36_vs_Pmap_K50E4_And_pLC_vs_pHC.pdf\"\n",
    "Output_SVG_PATH = \"./H37Rv_EBR_Pmap_BasePairResolutions_Plots/Fig3a_Alternative_HistogramPlots_2by1_Overlapping_BasePairDistribution_EBR36_vs_Pmap_K50E4_And_pLC_vs_pHC.svg\"\n",
    "Output_PNG_PATH = \"./H37Rv_EBR_Pmap_BasePairResolutions_Plots/Fig3a_Alternative_HistogramPlots_2by1_Overlapping_BasePairDistribution_EBR36_vs_Pmap_K50E4_And_pLC_vs_pHC.png\"\n",
    "\n",
    "plt.savefig(Output_PNG_PATH, bbox_inches='tight', dpi=125)\n",
    "plt.savefig(Output_SVG_PATH, bbox_inches='tight')\n",
    "plt.savefig(Output_PDF_PATH, bbox_inches='tight')\n",
    "\n",
    "plt.show()\n"
   ]
  },
  {
   "cell_type": "code",
   "execution_count": null,
   "metadata": {},
   "outputs": [],
   "source": []
  },
  {
   "cell_type": "code",
   "execution_count": null,
   "metadata": {},
   "outputs": [],
   "source": []
  },
  {
   "cell_type": "code",
   "execution_count": null,
   "metadata": {},
   "outputs": [],
   "source": []
  },
  {
   "cell_type": "code",
   "execution_count": null,
   "metadata": {},
   "outputs": [],
   "source": []
  },
  {
   "cell_type": "code",
   "execution_count": null,
   "metadata": {},
   "outputs": [],
   "source": []
  },
  {
   "cell_type": "code",
   "execution_count": null,
   "metadata": {},
   "outputs": [],
   "source": []
  },
  {
   "cell_type": "code",
   "execution_count": null,
   "metadata": {},
   "outputs": [],
   "source": []
  },
  {
   "cell_type": "code",
   "execution_count": null,
   "metadata": {},
   "outputs": [],
   "source": []
  },
  {
   "cell_type": "code",
   "execution_count": null,
   "metadata": {},
   "outputs": [],
   "source": []
  },
  {
   "cell_type": "code",
   "execution_count": null,
   "metadata": {},
   "outputs": [],
   "source": []
  },
  {
   "cell_type": "code",
   "execution_count": null,
   "metadata": {},
   "outputs": [],
   "source": []
  },
  {
   "cell_type": "code",
   "execution_count": null,
   "metadata": {},
   "outputs": [],
   "source": []
  },
  {
   "cell_type": "markdown",
   "metadata": {},
   "source": [
    "## A) Plotting histogram of EBR scores between positions of PLC and Non-PLC regions"
   ]
  },
  {
   "cell_type": "code",
   "execution_count": 55,
   "metadata": {},
   "outputs": [],
   "source": [
    "\n",
    "pLC_BP_Metrics_DF = H37Rv_EBR_Pmap_Metrics_DF[ H37Rv_EBR_Pmap_Metrics_DF['PLC_Tag'] == 'PLC' ]\n",
    "\n",
    "pHC_BP_Metrics_DF = H37Rv_EBR_Pmap_Metrics_DF[ H37Rv_EBR_Pmap_Metrics_DF['PLC_Tag'] == 'Non-PLC' ]\n"
   ]
  },
  {
   "cell_type": "code",
   "execution_count": 56,
   "metadata": {},
   "outputs": [
    {
     "data": {
      "text/plain": [
       "(3942031, 6)"
      ]
     },
     "execution_count": 56,
     "metadata": {},
     "output_type": "execute_result"
    }
   ],
   "source": [
    "pHC_BP_Metrics_DF.shape"
   ]
  },
  {
   "cell_type": "code",
   "execution_count": 57,
   "metadata": {},
   "outputs": [
    {
     "data": {
      "text/plain": [
       "(469501, 6)"
      ]
     },
     "execution_count": 57,
     "metadata": {},
     "output_type": "execute_result"
    }
   ],
   "source": [
    "pLC_BP_Metrics_DF.shape"
   ]
  },
  {
   "cell_type": "code",
   "execution_count": 58,
   "metadata": {},
   "outputs": [
    {
     "name": "stdout",
     "output_type": "stream",
     "text": [
      "mkdir: cannot create directory ‘./H37Rv_EBR_Pmap_BasePairResolutions_Plots/’: File exists\n"
     ]
    },
    {
     "data": {
      "image/png": "[encoded data removed]",
      "text/plain": [
       "<Figure size 720x432 with 2 Axes>"
      ]
     },
     "metadata": {
      "needs_background": "light"
     },
     "output_type": "display_data"
    }
   ],
   "source": [
    "binwidth = 0.025\n",
    "Min = 0\n",
    "Max = 1.00\n",
    "bins_I = np.arange(Min , Max + binwidth, binwidth)\n",
    "\n",
    "# binwidth = 1/56\n",
    "# Min = 0\n",
    "# Max = 1.0\n",
    "# bins_I = np.arange(Min + (binwidth/2), Max + (binwidth*1.5), binwidth)\n",
    "\n",
    "\n",
    "fig, axs = plt.subplots(2, 1, figsize=(10, 6), sharex=False)\n",
    "fig.tight_layout(pad=5.0)\n",
    "\n",
    "axs[0].hist(pLC_BP_Metrics_DF[\"EBR_36CI\"], bins = bins_I, density=False)\n",
    "axs[0].set_xlim(0, 1.05)\n",
    "axs[0].set_title(\"Excluded Base Pair Positions (PLC Regions)\", fontsize=16)\n",
    "axs[0].set_ylabel(\"# of bp\", fontsize=16)\n",
    "axs[0].set_xlabel(\"Empirical Base Pair Recall (EBR)\", fontsize=16)\n",
    "\n",
    "axs[1].hist(pHC_BP_Metrics_DF[\"EBR_36CI\"], bins = bins_I, density=False)\n",
    "axs[1].set_xlim(0, 1.05)\n",
    "axs[1].set_title(\"Included Base Pair Positions (PHC Regions)\", fontsize=16)\n",
    "axs[1].set_ylabel(\"# of bp\", fontsize=16)\n",
    "axs[1].set_xlabel(\"Empirical Base Pair Recall (EBR)\", fontsize=16)\n",
    "\n",
    "\n",
    "!mkdir ./H37Rv_EBR_Pmap_BasePairResolutions_Plots/\n",
    "\n",
    "#Output_PNG_PATH = \"./H37Rv_EBR_Pmap_BasePairResolutions_Plots/EBR_36CI_AllBPpositions_Excluded_vs_Included_pLC_vs_pHC_H37rv.png\"         \n",
    "#Output_PDF_PATH = \"./H37Rv_EBR_Pmap_BasePairResolutions_Plots/EBR_36CI_AllBPpositions_Excluded_vs_Included_pLC_vs_pHC_H37rv.pdf\"         \n",
    "\n",
    "#plt.savefig(Output_PNG_PATH, bbox_inches='tight', dpi=125)\n",
    "#plt.savefig(Output_PDF_PATH, bbox_inches='tight', transparent=True)\n",
    "\n",
    "plt.show()\n",
    "\n",
    "\n"
   ]
  },
  {
   "cell_type": "code",
   "execution_count": null,
   "metadata": {},
   "outputs": [],
   "source": []
  },
  {
   "cell_type": "markdown",
   "metadata": {},
   "source": [
    "## B) Plotting histograms of Pileup Mappability (k=50, e=4) scores between positions of PLC and Non-PLC regions"
   ]
  },
  {
   "cell_type": "code",
   "execution_count": 59,
   "metadata": {},
   "outputs": [
    {
     "data": {
      "image/png": "[encoded data removed]",
      "text/plain": [
       "<Figure size 720x432 with 2 Axes>"
      ]
     },
     "metadata": {
      "needs_background": "light"
     },
     "output_type": "display_data"
    }
   ],
   "source": [
    "binwidth = 0.025\n",
    "Min = 0\n",
    "Max = 1.00\n",
    "bins_I = np.arange(Min , Max + binwidth, binwidth)\n",
    "\n",
    "fig, axs = plt.subplots(2, 1, figsize=(10, 6), sharex=False)\n",
    "fig.tight_layout(pad=5.0)\n",
    "\n",
    "axs[0].hist(pLC_BP_Metrics_DF[\"Pmap_K50_E4\"], bins = bins_I, density=False)\n",
    "axs[0].set_xlim(0, 1.05)\n",
    "axs[0].set_title(\"Excluded Base Pair Positions (PLC Regions)\", fontsize=16)\n",
    "axs[0].set_ylabel(\"# of bp\", fontsize=16)\n",
    "axs[0].set_xlabel(\"Pileup Mappability (K=50, E=4)\", fontsize=16)\n",
    "\n",
    "axs[1].hist(pHC_BP_Metrics_DF[\"Pmap_K50_E4\"], bins = bins_I, density=False)\n",
    "axs[1].set_xlim(0, 1.05)\n",
    "axs[1].set_title(\"Included Base Pair Positions (PHC Regions)\", fontsize=16)\n",
    "axs[1].set_ylabel(\"# of bp\", fontsize=16)\n",
    "axs[1].set_xlabel(\"Pileup Mappability (K=50, E=4)\", fontsize=16)\n",
    "\n",
    "\n",
    "#Output_PNG_PATH = \"./H37Rv_EBR_Pmap_BasePairResolutions_Plots/Pmappability_K50E4_AllBPpositions_Excluded_vs_Included_pLC_vs_pHC_H37rv.png\"\n",
    "#Output_PDF_PATH = \"./H37Rv_EBR_Pmap_BasePairResolutions_Plots/Pmappability_K50E4_AllBPpositions_Excluded_vs_Included_pLC_vs_pHC_H37rv.pdf\"         \n",
    "\n",
    "#plt.savefig(Output_PNG_PATH, bbox_inches='tight', dpi=125)\n",
    "#plt.savefig(Output_PDF_PATH, bbox_inches='tight', transparent=True)\n",
    "\n",
    "plt.show()"
   ]
  },
  {
   "cell_type": "code",
   "execution_count": null,
   "metadata": {},
   "outputs": [],
   "source": []
  },
  {
   "cell_type": "code",
   "execution_count": null,
   "metadata": {},
   "outputs": [],
   "source": []
  },
  {
   "cell_type": "code",
   "execution_count": null,
   "metadata": {},
   "outputs": [],
   "source": []
  },
  {
   "cell_type": "code",
   "execution_count": null,
   "metadata": {},
   "outputs": [],
   "source": []
  },
  {
   "cell_type": "code",
   "execution_count": null,
   "metadata": {},
   "outputs": [],
   "source": []
  },
  {
   "cell_type": "code",
   "execution_count": null,
   "metadata": {},
   "outputs": [],
   "source": []
  },
  {
   "cell_type": "code",
   "execution_count": null,
   "metadata": {},
   "outputs": [],
   "source": []
  },
  {
   "cell_type": "code",
   "execution_count": null,
   "metadata": {},
   "outputs": [],
   "source": []
  },
  {
   "cell_type": "code",
   "execution_count": null,
   "metadata": {},
   "outputs": [],
   "source": []
  },
  {
   "cell_type": "code",
   "execution_count": null,
   "metadata": {},
   "outputs": [],
   "source": []
  },
  {
   "cell_type": "code",
   "execution_count": null,
   "metadata": {},
   "outputs": [],
   "source": []
  },
  {
   "cell_type": "code",
   "execution_count": null,
   "metadata": {},
   "outputs": [],
   "source": []
  },
  {
   "cell_type": "code",
   "execution_count": null,
   "metadata": {},
   "outputs": [],
   "source": []
  },
  {
   "cell_type": "code",
   "execution_count": null,
   "metadata": {},
   "outputs": [],
   "source": []
  },
  {
   "cell_type": "code",
   "execution_count": null,
   "metadata": {},
   "outputs": [],
   "source": []
  },
  {
   "cell_type": "markdown",
   "metadata": {
    "toc-hr-collapsed": false
   },
   "source": [
    "# Comparison of EBR-36 between pLC and pHC regions"
   ]
  },
  {
   "cell_type": "code",
   "execution_count": 60,
   "metadata": {},
   "outputs": [
    {
     "data": {
      "text/html": [
       "<div>\n",
       "<style scoped>\n",
       "    .dataframe tbody tr th:only-of-type {\n",
       "        vertical-align: middle;\n",
       "    }\n",
       "\n",
       "    .dataframe tbody tr th {\n",
       "        vertical-align: top;\n",
       "    }\n",
       "\n",
       "    .dataframe thead th {\n",
       "        text-align: right;\n",
       "    }\n",
       "</style>\n",
       "<table border=\"1\" class=\"dataframe\">\n",
       "  <thead>\n",
       "    <tr style=\"text-align: right;\">\n",
       "      <th></th>\n",
       "      <th>EBR_36CI</th>\n",
       "      <th>Pmap_K50_E4</th>\n",
       "      <th>Pmap_K100_E4</th>\n",
       "      <th>Pmap_K150_E4</th>\n",
       "      <th>GC%_100bpWindowSize</th>\n",
       "      <th>PLC_Tag</th>\n",
       "    </tr>\n",
       "  </thead>\n",
       "  <tbody>\n",
       "    <tr>\n",
       "      <th>33581</th>\n",
       "      <td>1.0</td>\n",
       "      <td>1.0</td>\n",
       "      <td>1.0</td>\n",
       "      <td>1.0</td>\n",
       "      <td>67.0</td>\n",
       "      <td>PLC</td>\n",
       "    </tr>\n",
       "    <tr>\n",
       "      <th>33582</th>\n",
       "      <td>1.0</td>\n",
       "      <td>1.0</td>\n",
       "      <td>1.0</td>\n",
       "      <td>1.0</td>\n",
       "      <td>67.0</td>\n",
       "      <td>PLC</td>\n",
       "    </tr>\n",
       "  </tbody>\n",
       "</table>\n",
       "</div>"
      ],
      "text/plain": [
       "       EBR_36CI  Pmap_K50_E4  Pmap_K100_E4  Pmap_K150_E4  GC%_100bpWindowSize PLC_Tag\n",
       "33581       1.0          1.0           1.0           1.0                 67.0     PLC\n",
       "33582       1.0          1.0           1.0           1.0                 67.0     PLC"
      ]
     },
     "execution_count": 60,
     "metadata": {},
     "output_type": "execute_result"
    }
   ],
   "source": [
    "pLC_BP_Metrics_DF.head(2)"
   ]
  },
  {
   "cell_type": "code",
   "execution_count": 61,
   "metadata": {},
   "outputs": [
    {
     "data": {
      "text/html": [
       "<div>\n",
       "<style scoped>\n",
       "    .dataframe tbody tr th:only-of-type {\n",
       "        vertical-align: middle;\n",
       "    }\n",
       "\n",
       "    .dataframe tbody tr th {\n",
       "        vertical-align: top;\n",
       "    }\n",
       "\n",
       "    .dataframe thead th {\n",
       "        text-align: right;\n",
       "    }\n",
       "</style>\n",
       "<table border=\"1\" class=\"dataframe\">\n",
       "  <thead>\n",
       "    <tr style=\"text-align: right;\">\n",
       "      <th></th>\n",
       "      <th>EBR_36CI</th>\n",
       "      <th>Pmap_K50_E4</th>\n",
       "      <th>Pmap_K100_E4</th>\n",
       "      <th>Pmap_K150_E4</th>\n",
       "      <th>GC%_100bpWindowSize</th>\n",
       "      <th>PLC_Tag</th>\n",
       "    </tr>\n",
       "  </thead>\n",
       "  <tbody>\n",
       "    <tr>\n",
       "      <th>0</th>\n",
       "      <td>0.916667</td>\n",
       "      <td>NaN</td>\n",
       "      <td>NaN</td>\n",
       "      <td>NaN</td>\n",
       "      <td>59.0</td>\n",
       "      <td>Non-PLC</td>\n",
       "    </tr>\n",
       "    <tr>\n",
       "      <th>1</th>\n",
       "      <td>0.916667</td>\n",
       "      <td>NaN</td>\n",
       "      <td>NaN</td>\n",
       "      <td>NaN</td>\n",
       "      <td>60.0</td>\n",
       "      <td>Non-PLC</td>\n",
       "    </tr>\n",
       "  </tbody>\n",
       "</table>\n",
       "</div>"
      ],
      "text/plain": [
       "   EBR_36CI  Pmap_K50_E4  Pmap_K100_E4  Pmap_K150_E4  GC%_100bpWindowSize  PLC_Tag\n",
       "0  0.916667          NaN           NaN           NaN                 59.0  Non-PLC\n",
       "1  0.916667          NaN           NaN           NaN                 60.0  Non-PLC"
      ]
     },
     "execution_count": 61,
     "metadata": {},
     "output_type": "execute_result"
    }
   ],
   "source": [
    "pHC_BP_Metrics_DF.head(2)"
   ]
  },
  {
   "cell_type": "code",
   "execution_count": 121,
   "metadata": {},
   "outputs": [
    {
     "data": {
      "text/plain": [
       "3940309"
      ]
     },
     "execution_count": 121,
     "metadata": {},
     "output_type": "execute_result"
    }
   ],
   "source": [
    "pHC_BP_Metrics_DF[\"EBR_36CI\"].value_counts().sum()"
   ]
  },
  {
   "cell_type": "code",
   "execution_count": 122,
   "metadata": {},
   "outputs": [
    {
     "data": {
      "text/plain": [
       "0.9699872843721312"
      ]
     },
     "execution_count": 122,
     "metadata": {},
     "output_type": "execute_result"
    }
   ],
   "source": [
    "pLC_BP_Metrics_DF[\"EBR_36CI\"].value_counts().sum() / pLC_BP_Metrics_DF.shape[0]"
   ]
  },
  {
   "cell_type": "code",
   "execution_count": null,
   "metadata": {},
   "outputs": [],
   "source": []
  },
  {
   "cell_type": "code",
   "execution_count": null,
   "metadata": {},
   "outputs": [],
   "source": []
  },
  {
   "cell_type": "markdown",
   "metadata": {
    "toc-hr-collapsed": true
   },
   "source": [
    "## What proportion of pLC and pHC Regions are above 97% EBR (36CI)?"
   ]
  },
  {
   "cell_type": "markdown",
   "metadata": {},
   "source": [
    "### pLC"
   ]
  },
  {
   "cell_type": "code",
   "execution_count": 117,
   "metadata": {},
   "outputs": [
    {
     "data": {
      "text/plain": [
       "141488"
      ]
     },
     "execution_count": 117,
     "metadata": {},
     "output_type": "execute_result"
    }
   ],
   "source": [
    "pLC_BP_Metrics_DF[ pLC_BP_Metrics_DF[\"EBR_36CI\"] < 0.97].shape[0]"
   ]
  },
  {
   "cell_type": "code",
   "execution_count": 118,
   "metadata": {},
   "outputs": [
    {
     "data": {
      "text/plain": [
       "0.3013582505681564"
      ]
     },
     "execution_count": 118,
     "metadata": {},
     "output_type": "execute_result"
    }
   ],
   "source": [
    "pLC_BP_Metrics_DF[ pLC_BP_Metrics_DF[\"EBR_36CI\"] < 0.97].shape[0] / pLC_BP_Metrics_DF.shape[0]"
   ]
  },
  {
   "cell_type": "code",
   "execution_count": null,
   "metadata": {},
   "outputs": [],
   "source": []
  },
  {
   "cell_type": "code",
   "execution_count": 130,
   "metadata": {},
   "outputs": [
    {
     "data": {
      "text/plain": [
       "313922"
      ]
     },
     "execution_count": 130,
     "metadata": {},
     "output_type": "execute_result"
    }
   ],
   "source": [
    "pLC_BP_Metrics_DF[ pLC_BP_Metrics_DF[\"EBR_36CI\"] >= 0.97].shape[0]"
   ]
  },
  {
   "cell_type": "code",
   "execution_count": 131,
   "metadata": {},
   "outputs": [
    {
     "data": {
      "text/plain": [
       "0.6686290338039749"
      ]
     },
     "execution_count": 131,
     "metadata": {},
     "output_type": "execute_result"
    }
   ],
   "source": [
    "pLC_BP_Metrics_DF[ pLC_BP_Metrics_DF[\"EBR_36CI\"] >= 0.97].shape[0] / pLC_BP_Metrics_DF.shape[0]"
   ]
  },
  {
   "cell_type": "markdown",
   "metadata": {},
   "source": [
    "### pHC "
   ]
  },
  {
   "cell_type": "code",
   "execution_count": 116,
   "metadata": {},
   "outputs": [
    {
     "data": {
      "text/plain": [
       "27001"
      ]
     },
     "execution_count": 116,
     "metadata": {},
     "output_type": "execute_result"
    }
   ],
   "source": [
    "pHC_BP_Metrics_DF[ pHC_BP_Metrics_DF[\"EBR_36CI\"] < 0.97].shape[0]"
   ]
  },
  {
   "cell_type": "code",
   "execution_count": 106,
   "metadata": {},
   "outputs": [
    {
     "data": {
      "text/plain": [
       "0.00684951488204938"
      ]
     },
     "execution_count": 106,
     "metadata": {},
     "output_type": "execute_result"
    }
   ],
   "source": [
    "pHC_BP_Metrics_DF[ pHC_BP_Metrics_DF[\"EBR_36CI\"] < 0.97].shape[0] / pHC_BP_Metrics_DF.shape[0]"
   ]
  },
  {
   "cell_type": "code",
   "execution_count": null,
   "metadata": {},
   "outputs": [],
   "source": []
  },
  {
   "cell_type": "code",
   "execution_count": 129,
   "metadata": {},
   "outputs": [
    {
     "data": {
      "text/plain": [
       "0.992713654458831"
      ]
     },
     "execution_count": 129,
     "metadata": {},
     "output_type": "execute_result"
    }
   ],
   "source": [
    "pHC_BP_Metrics_DF[ pHC_BP_Metrics_DF[\"EBR_36CI\"] >= 0.97].shape[0] / pHC_BP_Metrics_DF.shape[0]"
   ]
  },
  {
   "cell_type": "code",
   "execution_count": null,
   "metadata": {},
   "outputs": [],
   "source": []
  },
  {
   "cell_type": "code",
   "execution_count": null,
   "metadata": {},
   "outputs": [],
   "source": []
  },
  {
   "cell_type": "code",
   "execution_count": null,
   "metadata": {},
   "outputs": [],
   "source": []
  },
  {
   "cell_type": "code",
   "execution_count": null,
   "metadata": {},
   "outputs": [],
   "source": []
  },
  {
   "cell_type": "markdown",
   "metadata": {
    "toc-hr-collapsed": true
   },
   "source": [
    "## What proportion of pLC and pHC Regions are below 100% EBR (36CI)?"
   ]
  },
  {
   "cell_type": "markdown",
   "metadata": {},
   "source": [
    "### pLC"
   ]
  },
  {
   "cell_type": "code",
   "execution_count": 102,
   "metadata": {},
   "outputs": [
    {
     "data": {
      "text/plain": [
       "469501"
      ]
     },
     "execution_count": 102,
     "metadata": {},
     "output_type": "execute_result"
    }
   ],
   "source": [
    "pLC_BP_Metrics_DF.shape[0]"
   ]
  },
  {
   "cell_type": "code",
   "execution_count": 103,
   "metadata": {},
   "outputs": [
    {
     "data": {
      "text/plain": [
       "174525"
      ]
     },
     "execution_count": 103,
     "metadata": {},
     "output_type": "execute_result"
    }
   ],
   "source": [
    "pLC_BP_Metrics_DF[ pLC_BP_Metrics_DF[\"EBR_36CI\"] < 1].shape[0]"
   ]
  },
  {
   "cell_type": "code",
   "execution_count": 104,
   "metadata": {},
   "outputs": [
    {
     "data": {
      "text/plain": [
       "0.37172444787125053"
      ]
     },
     "execution_count": 104,
     "metadata": {},
     "output_type": "execute_result"
    }
   ],
   "source": [
    "pLC_BP_Metrics_DF[ pLC_BP_Metrics_DF[\"EBR_36CI\"] < 1].shape[0] / pLC_BP_Metrics_DF.shape[0]"
   ]
  },
  {
   "cell_type": "code",
   "execution_count": 125,
   "metadata": {},
   "outputs": [
    {
     "data": {
      "text/plain": [
       "280885"
      ]
     },
     "execution_count": 125,
     "metadata": {},
     "output_type": "execute_result"
    }
   ],
   "source": [
    "pLC_BP_Metrics_DF[ pLC_BP_Metrics_DF[\"EBR_36CI\"] == 1].shape[0]"
   ]
  },
  {
   "cell_type": "code",
   "execution_count": 124,
   "metadata": {},
   "outputs": [
    {
     "data": {
      "text/plain": [
       "0.5982628365008807"
      ]
     },
     "execution_count": 124,
     "metadata": {},
     "output_type": "execute_result"
    }
   ],
   "source": [
    "pLC_BP_Metrics_DF[ pLC_BP_Metrics_DF[\"EBR_36CI\"] == 1].shape[0] / pLC_BP_Metrics_DF.shape[0]b"
   ]
  },
  {
   "cell_type": "markdown",
   "metadata": {},
   "source": [
    "### pHC "
   ]
  },
  {
   "cell_type": "code",
   "execution_count": 113,
   "metadata": {},
   "outputs": [
    {
     "data": {
      "text/plain": [
       "469501"
      ]
     },
     "execution_count": 113,
     "metadata": {},
     "output_type": "execute_result"
    }
   ],
   "source": [
    "pLC_BP_Metrics_DF.shape[0]"
   ]
  },
  {
   "cell_type": "code",
   "execution_count": 114,
   "metadata": {},
   "outputs": [
    {
     "data": {
      "text/plain": [
       "92946"
      ]
     },
     "execution_count": 114,
     "metadata": {},
     "output_type": "execute_result"
    }
   ],
   "source": [
    "pHC_BP_Metrics_DF[ pHC_BP_Metrics_DF[\"EBR_36CI\"] < 1].shape[0]"
   ]
  },
  {
   "cell_type": "code",
   "execution_count": 128,
   "metadata": {},
   "outputs": [
    {
     "data": {
      "text/plain": [
       "3847363"
      ]
     },
     "execution_count": 128,
     "metadata": {},
     "output_type": "execute_result"
    }
   ],
   "source": [
    "pHC_BP_Metrics_DF[ pHC_BP_Metrics_DF[\"EBR_36CI\"] == 1].shape[0]"
   ]
  },
  {
   "cell_type": "code",
   "execution_count": 126,
   "metadata": {},
   "outputs": [
    {
     "data": {
      "text/plain": [
       "0.9759849681547406"
      ]
     },
     "execution_count": 126,
     "metadata": {},
     "output_type": "execute_result"
    }
   ],
   "source": [
    "pHC_BP_Metrics_DF[ pHC_BP_Metrics_DF[\"EBR_36CI\"] == 1].shape[0] / pHC_BP_Metrics_DF.shape[0]"
   ]
  },
  {
   "cell_type": "code",
   "execution_count": 115,
   "metadata": {},
   "outputs": [
    {
     "data": {
      "text/plain": [
       "0.023578201186139836"
      ]
     },
     "execution_count": 115,
     "metadata": {},
     "output_type": "execute_result"
    }
   ],
   "source": [
    "pHC_BP_Metrics_DF[ pHC_BP_Metrics_DF[\"EBR_36CI\"] < 1].shape[0] / pHC_BP_Metrics_DF.shape[0]"
   ]
  },
  {
   "cell_type": "code",
   "execution_count": null,
   "metadata": {},
   "outputs": [],
   "source": []
  },
  {
   "cell_type": "markdown",
   "metadata": {
    "toc-hr-collapsed": true
   },
   "source": [
    "## Statistical tests for differences between EBR scores of pLC vs pHC\n",
    "\n",
    "### Links:\n",
    "#### https://docs.scipy.org/doc/scipy/reference/generated/scipy.stats.ranksums.html\n",
    "#### https://docs.scipy.org/doc/scipy/reference/generated/scipy.stats.mannwhitneyu.html#scipy.stats.mannwhitneyu\n",
    "#### https://stats.idre.ucla.edu/other/mult-pkg/faq/general/faq-why-is-the-mann-whitney-significant-when-the-medians-are-equal/\n",
    "#### https://en.wikipedia.org/wiki/Mann%E2%80%93Whitney_U_test\n",
    "\n",
    "\n",
    "### How to report/describe the results of the Mann-Whitney U test -> https://www.slideshare.net/plummer48/reporting-the-wilcoxon-signed-ranks-test"
   ]
  },
  {
   "cell_type": "markdown",
   "metadata": {},
   "source": [
    "#### NOTE: a Wilcoxon signed-rank test (scipy.stats.wilcoxon) is not appropriate for this comparison.\n",
    "It requires paired data (of the same length)"
   ]
  },
  {
   "cell_type": "code",
   "execution_count": 66,
   "metadata": {},
   "outputs": [],
   "source": [
    "from scipy.stats import ranksums\n",
    "from scipy.stats import mannwhitneyu\n",
    "# from scipy.stats import wilcoxon"
   ]
  },
  {
   "cell_type": "code",
   "execution_count": 67,
   "metadata": {},
   "outputs": [],
   "source": [
    "pLC_EBRs = pLC_BP_Metrics_DF[\"EBR_36CI\"]\n",
    "pHC_EBRs = pHC_BP_Metrics_DF[\"EBR_36CI\"]"
   ]
  },
  {
   "cell_type": "markdown",
   "metadata": {},
   "source": [
    "## ranksums (The Wilcoxon rank-sum test)"
   ]
  },
  {
   "cell_type": "code",
   "execution_count": 68,
   "metadata": {},
   "outputs": [
    {
     "data": {
      "text/plain": [
       "RanksumsResult(statistic=-363.7769302964985, pvalue=0.0)"
      ]
     },
     "execution_count": 68,
     "metadata": {},
     "output_type": "execute_result"
    }
   ],
   "source": [
    "ranksums(pLC_EBRs, pHC_EBRs)"
   ]
  },
  {
   "cell_type": "code",
   "execution_count": null,
   "metadata": {},
   "outputs": [],
   "source": []
  },
  {
   "cell_type": "code",
   "execution_count": 69,
   "metadata": {},
   "outputs": [
    {
     "name": "stdout",
     "output_type": "stream",
     "text": [
      "pLC - Median = 1.0  (IQR 0.9166666666666666 - 1.0)\n"
     ]
    }
   ],
   "source": [
    "pLC_EBRs_50th_Quantile = np.nanmedian(pLC_EBRs)\n",
    "pLC_EBRs_25th_Quantile = np.nanquantile(pLC_EBRs, 0.25)\n",
    "pLC_EBRs_75th_Quantile = np.nanquantile(pLC_EBRs, 0.75)\n",
    "\n",
    "print( f\"pLC - Median = {pLC_EBRs_50th_Quantile}  (IQR {pLC_EBRs_25th_Quantile} - {pLC_EBRs_75th_Quantile})\")\n"
   ]
  },
  {
   "cell_type": "code",
   "execution_count": null,
   "metadata": {},
   "outputs": [],
   "source": []
  },
  {
   "cell_type": "code",
   "execution_count": 70,
   "metadata": {},
   "outputs": [
    {
     "name": "stdout",
     "output_type": "stream",
     "text": [
      "pLC - Median = 1.0  (IQR 1.0 - 1.0)\n"
     ]
    }
   ],
   "source": [
    "pHC_EBRs_50th_Quantile = np.nanmedian(pHC_EBRs)\n",
    "pHC_EBRs_25th_Quantile = np.nanquantile(pHC_EBRs, 0.25)\n",
    "pHC_EBRs_75th_Quantile = np.nanquantile(pHC_EBRs, 0.75)\n",
    "\n",
    "print( f\"pLC - Median = {pHC_EBRs_50th_Quantile}  (IQR {pHC_EBRs_25th_Quantile} - {pHC_EBRs_75th_Quantile})\")\n"
   ]
  },
  {
   "cell_type": "code",
   "execution_count": null,
   "metadata": {},
   "outputs": [],
   "source": []
  },
  {
   "cell_type": "code",
   "execution_count": 71,
   "metadata": {},
   "outputs": [
    {
     "data": {
      "text/plain": [
       "(469501,)"
      ]
     },
     "execution_count": 71,
     "metadata": {},
     "output_type": "execute_result"
    }
   ],
   "source": [
    "pLC_EBRs.shape"
   ]
  },
  {
   "cell_type": "code",
   "execution_count": 72,
   "metadata": {},
   "outputs": [
    {
     "data": {
      "text/plain": [
       "(3942031,)"
      ]
     },
     "execution_count": 72,
     "metadata": {},
     "output_type": "execute_result"
    }
   ],
   "source": [
    "pHC_EBRs.shape"
   ]
  },
  {
   "cell_type": "code",
   "execution_count": 73,
   "metadata": {},
   "outputs": [
    {
     "data": {
      "text/plain": [
       "0.9982841562507916"
      ]
     },
     "execution_count": 73,
     "metadata": {},
     "output_type": "execute_result"
    }
   ],
   "source": [
    "np.nanmean(pHC_EBRs)"
   ]
  },
  {
   "cell_type": "code",
   "execution_count": 74,
   "metadata": {},
   "outputs": [
    {
     "data": {
      "text/plain": [
       "0.9982841562507916"
      ]
     },
     "execution_count": 74,
     "metadata": {},
     "output_type": "execute_result"
    }
   ],
   "source": [
    "np.mean(pHC_EBRs)"
   ]
  },
  {
   "cell_type": "code",
   "execution_count": 75,
   "metadata": {},
   "outputs": [
    {
     "data": {
      "text/plain": [
       "0.9050591576868673"
      ]
     },
     "execution_count": 75,
     "metadata": {},
     "output_type": "execute_result"
    }
   ],
   "source": [
    "np.nanmean(pLC_EBRs)"
   ]
  },
  {
   "cell_type": "code",
   "execution_count": 76,
   "metadata": {},
   "outputs": [
    {
     "data": {
      "text/plain": [
       "0.9050591576868673"
      ]
     },
     "execution_count": 76,
     "metadata": {},
     "output_type": "execute_result"
    }
   ],
   "source": [
    "np.mean(pLC_EBRs)"
   ]
  },
  {
   "cell_type": "code",
   "execution_count": null,
   "metadata": {},
   "outputs": [],
   "source": []
  },
  {
   "cell_type": "code",
   "execution_count": null,
   "metadata": {},
   "outputs": [],
   "source": []
  },
  {
   "cell_type": "code",
   "execution_count": null,
   "metadata": {},
   "outputs": [],
   "source": []
  },
  {
   "cell_type": "markdown",
   "metadata": {
    "toc-hr-collapsed": false
   },
   "source": [
    "# Comparison of P-map (K50, E4) between pLC and pHC regions"
   ]
  },
  {
   "cell_type": "markdown",
   "metadata": {
    "toc-hr-collapsed": true
   },
   "source": [
    "## Statistical tests for differences between P-map (K50, E4) scores of pLC vs pHC\n",
    "\n",
    "### Links:\n",
    "#### https://docs.scipy.org/doc/scipy/reference/generated/scipy.stats.ranksums.html\n",
    "#### https://docs.scipy.org/doc/scipy/reference/generated/scipy.stats.mannwhitneyu.html#scipy.stats.mannwhitneyu\n",
    "#### https://stats.idre.ucla.edu/other/mult-pkg/faq/general/faq-why-is-the-mann-whitney-significant-when-the-medians-are-equal/\n",
    "#### https://en.wikipedia.org/wiki/Mann%E2%80%93Whitney_U_test\n",
    "\n",
    "\n",
    "### How to report/describe the results of the Mann-Whitney U test -> https://www.slideshare.net/plummer48/reporting-the-wilcoxon-signed-ranks-test"
   ]
  },
  {
   "cell_type": "markdown",
   "metadata": {},
   "source": [
    "#### NOTE: a Wilcoxon signed-rank test (scipy.stats.wilcoxon) is not appropriate for this comparison.\n",
    "It requires paired data (of the same length)"
   ]
  },
  {
   "cell_type": "code",
   "execution_count": 77,
   "metadata": {},
   "outputs": [],
   "source": [
    "from scipy.stats import ranksums\n",
    "from scipy.stats import mannwhitneyu\n",
    "# from scipy.stats import wilcoxon"
   ]
  },
  {
   "cell_type": "code",
   "execution_count": 78,
   "metadata": {},
   "outputs": [],
   "source": [
    "pLC_Pmap_K50_E4_Scores = pLC_BP_Metrics_DF[\"Pmap_K50_E4\"]\n",
    "pHC_Pmap_K50_E4_Scores = pHC_BP_Metrics_DF[\"Pmap_K50_E4\"]"
   ]
  },
  {
   "cell_type": "markdown",
   "metadata": {
    "toc-hr-collapsed": true
   },
   "source": [
    "## ranksums (The Wilcoxon rank-sum test)"
   ]
  },
  {
   "cell_type": "code",
   "execution_count": 79,
   "metadata": {},
   "outputs": [
    {
     "data": {
      "text/plain": [
       "RanksumsResult(statistic=-328.4270817399701, pvalue=0.0)"
      ]
     },
     "execution_count": 79,
     "metadata": {},
     "output_type": "execute_result"
    }
   ],
   "source": [
    "ranksums(pLC_Pmap_K50_E4_Scores, pHC_Pmap_K50_E4_Scores)"
   ]
  },
  {
   "cell_type": "code",
   "execution_count": null,
   "metadata": {},
   "outputs": [],
   "source": []
  },
  {
   "cell_type": "code",
   "execution_count": 80,
   "metadata": {},
   "outputs": [
    {
     "name": "stdout",
     "output_type": "stream",
     "text": [
      "pLC - Median = 1.0  (IQR 0.89 - 1.0)\n",
      "pLC - Mean = 0.8563654659436423\n"
     ]
    }
   ],
   "source": [
    "pLC_Pmap_K50_E4_50th_Quantile = np.nanmedian(pLC_Pmap_K50_E4_Scores)\n",
    "pLC_Pmap_K50_E4_25th_Quantile = np.nanquantile(pLC_Pmap_K50_E4_Scores, 0.25)\n",
    "pLC_Pmap_K50_E4_75th_Quantile = np.nanquantile(pLC_Pmap_K50_E4_Scores, 0.75)\n",
    "\n",
    "print( f\"pLC - Median = {pLC_Pmap_K50_E4_50th_Quantile}  (IQR {pLC_Pmap_K50_E4_25th_Quantile} - {pLC_Pmap_K50_E4_75th_Quantile})\")\n",
    "print( f\"pLC - Mean = {np.mean(pLC_Pmap_K50_E4_Scores)}\" )"
   ]
  },
  {
   "cell_type": "code",
   "execution_count": 81,
   "metadata": {},
   "outputs": [
    {
     "name": "stdout",
     "output_type": "stream",
     "text": [
      "pHC - Median = 1.0  (IQR 1.0 - 1.0)\n",
      "pHC - Mean = 0.9968318747105902\n"
     ]
    }
   ],
   "source": [
    "pHC_Pmap_K50_E4_50th_Quantile = np.nanmedian(pHC_Pmap_K50_E4_Scores)\n",
    "pHC_Pmap_K50_E4_25th_Quantile = np.nanquantile(pHC_Pmap_K50_E4_Scores, 0.25)\n",
    "pHC_Pmap_K50_E4_75th_Quantile = np.nanquantile(pHC_Pmap_K50_E4_Scores, 0.75)\n",
    "\n",
    "print( f\"pHC - Median = {pHC_Pmap_K50_E4_50th_Quantile}  (IQR {pHC_Pmap_K50_E4_25th_Quantile} - {pHC_Pmap_K50_E4_75th_Quantile})\")\n",
    "print( f\"pHC - Mean = {np.mean(pHC_Pmap_K50_E4_Scores)}\" )"
   ]
  },
  {
   "cell_type": "code",
   "execution_count": null,
   "metadata": {},
   "outputs": [],
   "source": []
  },
  {
   "cell_type": "code",
   "execution_count": null,
   "metadata": {},
   "outputs": [],
   "source": []
  },
  {
   "cell_type": "code",
   "execution_count": 82,
   "metadata": {},
   "outputs": [
    {
     "data": {
      "text/plain": [
       "(3942031,)"
      ]
     },
     "execution_count": 82,
     "metadata": {},
     "output_type": "execute_result"
    }
   ],
   "source": [
    "pHC_Pmap_K50_E4_Scores.shape"
   ]
  },
  {
   "cell_type": "code",
   "execution_count": 83,
   "metadata": {},
   "outputs": [
    {
     "data": {
      "text/plain": [
       "0.9968318747105902"
      ]
     },
     "execution_count": 83,
     "metadata": {},
     "output_type": "execute_result"
    }
   ],
   "source": [
    "np.nanmean(pHC_Pmap_K50_E4_Scores)"
   ]
  },
  {
   "cell_type": "code",
   "execution_count": 84,
   "metadata": {},
   "outputs": [
    {
     "data": {
      "text/plain": [
       "0.9968318747105902"
      ]
     },
     "execution_count": 84,
     "metadata": {},
     "output_type": "execute_result"
    }
   ],
   "source": [
    "np.mean(pHC_Pmap_K50_E4_Scores)"
   ]
  },
  {
   "cell_type": "code",
   "execution_count": null,
   "metadata": {},
   "outputs": [],
   "source": []
  },
  {
   "cell_type": "code",
   "execution_count": 85,
   "metadata": {},
   "outputs": [
    {
     "data": {
      "text/plain": [
       "(469501,)"
      ]
     },
     "execution_count": 85,
     "metadata": {},
     "output_type": "execute_result"
    }
   ],
   "source": [
    "pLC_Pmap_K50_E4_Scores.shape"
   ]
  },
  {
   "cell_type": "code",
   "execution_count": 86,
   "metadata": {},
   "outputs": [
    {
     "data": {
      "text/plain": [
       "0.8563654659436423"
      ]
     },
     "execution_count": 86,
     "metadata": {},
     "output_type": "execute_result"
    }
   ],
   "source": [
    "np.nanmean(pLC_Pmap_K50_E4_Scores)"
   ]
  },
  {
   "cell_type": "code",
   "execution_count": 87,
   "metadata": {},
   "outputs": [
    {
     "data": {
      "text/plain": [
       "0.8563654659436423"
      ]
     },
     "execution_count": 87,
     "metadata": {},
     "output_type": "execute_result"
    }
   ],
   "source": [
    "np.mean(pLC_Pmap_K50_E4_Scores)"
   ]
  },
  {
   "cell_type": "code",
   "execution_count": null,
   "metadata": {},
   "outputs": [],
   "source": []
  },
  {
   "cell_type": "code",
   "execution_count": null,
   "metadata": {},
   "outputs": [],
   "source": []
  },
  {
   "cell_type": "code",
   "execution_count": null,
   "metadata": {},
   "outputs": [],
   "source": []
  },
  {
   "cell_type": "markdown",
   "metadata": {},
   "source": [
    "## What proportion of pLC and pHC Regions are below 100% K50E4-Pmap?"
   ]
  },
  {
   "cell_type": "code",
   "execution_count": 88,
   "metadata": {},
   "outputs": [
    {
     "data": {
      "text/html": [
       "<div>\n",
       "<style scoped>\n",
       "    .dataframe tbody tr th:only-of-type {\n",
       "        vertical-align: middle;\n",
       "    }\n",
       "\n",
       "    .dataframe tbody tr th {\n",
       "        vertical-align: top;\n",
       "    }\n",
       "\n",
       "    .dataframe thead th {\n",
       "        text-align: right;\n",
       "    }\n",
       "</style>\n",
       "<table border=\"1\" class=\"dataframe\">\n",
       "  <thead>\n",
       "    <tr style=\"text-align: right;\">\n",
       "      <th></th>\n",
       "      <th>EBR_36CI</th>\n",
       "      <th>Pmap_K50_E4</th>\n",
       "      <th>Pmap_K100_E4</th>\n",
       "      <th>Pmap_K150_E4</th>\n",
       "      <th>GC%_100bpWindowSize</th>\n",
       "      <th>PLC_Tag</th>\n",
       "    </tr>\n",
       "  </thead>\n",
       "  <tbody>\n",
       "    <tr>\n",
       "      <th>33581</th>\n",
       "      <td>1.0</td>\n",
       "      <td>1.0</td>\n",
       "      <td>1.0</td>\n",
       "      <td>1.0</td>\n",
       "      <td>67.0</td>\n",
       "      <td>PLC</td>\n",
       "    </tr>\n",
       "    <tr>\n",
       "      <th>33582</th>\n",
       "      <td>1.0</td>\n",
       "      <td>1.0</td>\n",
       "      <td>1.0</td>\n",
       "      <td>1.0</td>\n",
       "      <td>67.0</td>\n",
       "      <td>PLC</td>\n",
       "    </tr>\n",
       "  </tbody>\n",
       "</table>\n",
       "</div>"
      ],
      "text/plain": [
       "       EBR_36CI  Pmap_K50_E4  Pmap_K100_E4  Pmap_K150_E4  GC%_100bpWindowSize PLC_Tag\n",
       "33581       1.0          1.0           1.0           1.0                 67.0     PLC\n",
       "33582       1.0          1.0           1.0           1.0                 67.0     PLC"
      ]
     },
     "execution_count": 88,
     "metadata": {},
     "output_type": "execute_result"
    }
   ],
   "source": [
    "pLC_BP_Metrics_DF.head(2)"
   ]
  },
  {
   "cell_type": "markdown",
   "metadata": {},
   "source": [
    "### pLC"
   ]
  },
  {
   "cell_type": "code",
   "execution_count": 89,
   "metadata": {},
   "outputs": [
    {
     "data": {
      "text/plain": [
       "0.6968377064159608"
      ]
     },
     "execution_count": 89,
     "metadata": {},
     "output_type": "execute_result"
    }
   ],
   "source": [
    "totalNum_BP_pLC = pLC_BP_Metrics_DF.shape[0]\n",
    "\n",
    "numPerfect_Pmap_K50E4_BP_pLC = pLC_BP_Metrics_DF[ pLC_BP_Metrics_DF[\"Pmap_K50_E4\"] >= 1].shape[0]\n",
    "\n",
    "num_NotPerfect_Pmap_K50E4_BP_pLC = totalNum_BP_pLC - numPerfect_Pmap_K50E4_BP_pLC\n",
    "\n",
    "proportion_Perfect_Pmap_K50E4_pLC = numPerfect_Pmap_K50E4_BP_pLC / totalNum_BP_pLC\n",
    "proportion_Perfect_Pmap_K50E4_pLC"
   ]
  },
  {
   "cell_type": "code",
   "execution_count": null,
   "metadata": {},
   "outputs": [],
   "source": []
  },
  {
   "cell_type": "code",
   "execution_count": 90,
   "metadata": {},
   "outputs": [
    {
     "data": {
      "text/plain": [
       "0.4924313260248647"
      ]
     },
     "execution_count": 90,
     "metadata": {},
     "output_type": "execute_result"
    }
   ],
   "source": [
    "totalNum_BP_pLC = pLC_BP_Metrics_DF.shape[0]\n",
    "\n",
    "numPerfect_EBR_Pmap_BP_pLC = pLC_BP_Metrics_DF[ (pLC_BP_Metrics_DF[\"EBR_36CI\"] >= 1) & (pLC_BP_Metrics_DF[\"Pmap_K50_E4\"] >= 1)].shape[0]\n",
    "\n",
    "num_NotPerfect_EBR_Pmap_BP_pLC = totalNum_BP_pLC - numPerfect_EBR_Pmap_BP_pLC\n",
    "\n",
    "\n",
    "proportion_Perfect_EBR_Pmap_BP_pLC = numPerfect_EBR_Pmap_BP_pLC / totalNum_BP_pLC\n",
    "proportion_Perfect_EBR_Pmap_BP_pLC"
   ]
  },
  {
   "cell_type": "code",
   "execution_count": null,
   "metadata": {},
   "outputs": [],
   "source": []
  },
  {
   "cell_type": "code",
   "execution_count": 91,
   "metadata": {},
   "outputs": [
    {
     "data": {
      "text/plain": [
       "0.5402970387709505"
      ]
     },
     "execution_count": 91,
     "metadata": {},
     "output_type": "execute_result"
    }
   ],
   "source": [
    "totalNum_BP_pLC = pLC_BP_Metrics_DF.shape[0]\n",
    "\n",
    "numPerfect_EBR_Pmap_BP_pLC = pLC_BP_Metrics_DF[ (pLC_BP_Metrics_DF[\"EBR_36CI\"] >= 0.97) & (pLC_BP_Metrics_DF[\"Pmap_K50_E4\"] >= 1)].shape[0]\n",
    "\n",
    "num_NotPerfect_EBR_Pmap_BP_pLC = totalNum_BP_pLC - numPerfect_EBR_Pmap_BP_pLC\n",
    "\n",
    "\n",
    "proportion_Perfect_EBR_Pmap_BP_pLC = numPerfect_EBR_Pmap_BP_pLC / totalNum_BP_pLC\n",
    "proportion_Perfect_EBR_Pmap_BP_pLC"
   ]
  },
  {
   "cell_type": "code",
   "execution_count": null,
   "metadata": {},
   "outputs": [],
   "source": []
  },
  {
   "cell_type": "code",
   "execution_count": null,
   "metadata": {},
   "outputs": [],
   "source": []
  },
  {
   "cell_type": "code",
   "execution_count": null,
   "metadata": {},
   "outputs": [],
   "source": []
  },
  {
   "cell_type": "code",
   "execution_count": null,
   "metadata": {},
   "outputs": [],
   "source": []
  },
  {
   "cell_type": "code",
   "execution_count": null,
   "metadata": {},
   "outputs": [],
   "source": []
  },
  {
   "cell_type": "code",
   "execution_count": 92,
   "metadata": {},
   "outputs": [
    {
     "name": "stdout",
     "output_type": "stream",
     "text": [
      " Pmap_K50_E4 - proportion NOT Perfect in pLC = 0.30316229358403923\n"
     ]
    }
   ],
   "source": [
    "\n",
    "for Pmap_ParamCombo in [\"Pmap_K50_E4\", ]: #\"Pmap_K75_E4\", \"Pmap_K100_E4\", \"Pmap_K125_E4\", \"Pmap_K150_E4\"]:\n",
    "\n",
    "    totalNum_BP_pLC = pLC_BP_Metrics_DF.shape[0]\n",
    "\n",
    "    numPerfect_Pmap_K50E4_BP_pLC = pLC_BP_Metrics_DF[ pLC_BP_Metrics_DF[Pmap_ParamCombo] >= 1].shape[0]\n",
    "\n",
    "    num_NotPerfect_Pmap_K50E4_BP_pLC = totalNum_BP_pLC - numPerfect_Pmap_K50E4_BP_pLC\n",
    "\n",
    "    proportion_Perfect_Pmap_K50E4_pLC = numPerfect_Pmap_K50E4_BP_pLC / totalNum_BP_pLC\n",
    "    \n",
    "    proportion_NOT_Perfect_Pmap_K50E4_pLC = 1 - proportion_Perfect_Pmap_K50E4_pLC\n",
    "    \n",
    "    \n",
    "    print( f\" {Pmap_ParamCombo} - proportion NOT Perfect in pLC = {proportion_NOT_Perfect_Pmap_K50E4_pLC}\")"
   ]
  },
  {
   "cell_type": "code",
   "execution_count": null,
   "metadata": {},
   "outputs": [],
   "source": []
  },
  {
   "cell_type": "code",
   "execution_count": 93,
   "metadata": {},
   "outputs": [
    {
     "data": {
      "text/plain": [
       "327166"
      ]
     },
     "execution_count": 93,
     "metadata": {},
     "output_type": "execute_result"
    }
   ],
   "source": [
    "numPerfect_Pmap_K50E4_BP_pLC"
   ]
  },
  {
   "cell_type": "code",
   "execution_count": 94,
   "metadata": {},
   "outputs": [
    {
     "data": {
      "text/plain": [
       "142335"
      ]
     },
     "execution_count": 94,
     "metadata": {},
     "output_type": "execute_result"
    }
   ],
   "source": [
    "num_NotPerfect_Pmap_K50E4_BP_pLC"
   ]
  },
  {
   "cell_type": "code",
   "execution_count": null,
   "metadata": {},
   "outputs": [],
   "source": []
  },
  {
   "cell_type": "code",
   "execution_count": 95,
   "metadata": {},
   "outputs": [
    {
     "data": {
      "text/plain": [
       "469501"
      ]
     },
     "execution_count": 95,
     "metadata": {},
     "output_type": "execute_result"
    }
   ],
   "source": [
    "totalNum_BP_pLC"
   ]
  },
  {
   "cell_type": "code",
   "execution_count": 96,
   "metadata": {},
   "outputs": [
    {
     "ename": "NameError",
     "evalue": "name 'numPerfect_EBR_BP_pLC' is not defined",
     "output_type": "error",
     "traceback": [
      "\u001b[0;31m---------------------------------------------------------------------------\u001b[0m",
      "\u001b[0;31mNameError\u001b[0m                                 Traceback (most recent call last)",
      "\u001b[0;32m<ipython-input-96-c13cf2575d33>\u001b[0m in \u001b[0;36m<module>\u001b[0;34m\u001b[0m\n\u001b[0;32m----> 1\u001b[0;31m \u001b[0mnumPerfect_EBR_BP_pLC\u001b[0m\u001b[0;34m\u001b[0m\u001b[0;34m\u001b[0m\u001b[0m\n\u001b[0m",
      "\u001b[0;31mNameError\u001b[0m: name 'numPerfect_EBR_BP_pLC' is not defined"
     ]
    }
   ],
   "source": [
    "numPerfect_EBR_BP_pLC"
   ]
  },
  {
   "cell_type": "code",
   "execution_count": null,
   "metadata": {},
   "outputs": [],
   "source": [
    "print( numPerfect_EBR_BP_pLC / totalNum_BP_pLC )"
   ]
  },
  {
   "cell_type": "code",
   "execution_count": null,
   "metadata": {},
   "outputs": [],
   "source": []
  },
  {
   "cell_type": "markdown",
   "metadata": {},
   "source": [
    "### pHC "
   ]
  },
  {
   "cell_type": "code",
   "execution_count": null,
   "metadata": {},
   "outputs": [],
   "source": [
    "totalNum_BP_pHC = pHC_BP_Metrics_DF.shape[0]\n",
    "\n",
    "numPerfect_Pmap_K50E4_BP_pHC = pHC_BP_Metrics_DF[ pHC_BP_Metrics_DF[\"Pmap_K50_E4\"] >= 1].shape[0]\n",
    "\n",
    "num_NotPerfect_Pmap_K50E4_BP_pHC = totalNum_BP_pHC - numPerfect_Pmap_K50E4_BP_pHC\n",
    "\n",
    "\n",
    "proportion_Perfect_Pmap_K50E4_pHC = numPerfect_Pmap_K50E4_BP_pHC / totalNum_BP_pHC\n",
    "proportion_Perfect_Pmap_K50E4_pHC"
   ]
  },
  {
   "cell_type": "code",
   "execution_count": null,
   "metadata": {},
   "outputs": [],
   "source": [
    "1 - proportion_Perfect_Pmap_K50E4_pHC"
   ]
  },
  {
   "cell_type": "code",
   "execution_count": null,
   "metadata": {},
   "outputs": [],
   "source": [
    "num_NotPerfect_Pmap_K50E4_BP_pHC"
   ]
  },
  {
   "cell_type": "code",
   "execution_count": null,
   "metadata": {},
   "outputs": [],
   "source": [
    "numPerfect_Pmap_K50E4_BP_pHC"
   ]
  },
  {
   "cell_type": "code",
   "execution_count": null,
   "metadata": {},
   "outputs": [],
   "source": [
    "totalNum_BP_pHC - numPerfect_Pmap_K50E4_BP_pHC"
   ]
  },
  {
   "cell_type": "code",
   "execution_count": null,
   "metadata": {},
   "outputs": [],
   "source": []
  },
  {
   "cell_type": "code",
   "execution_count": null,
   "metadata": {},
   "outputs": [],
   "source": [
    "\n",
    "for Pmap_ParamCombo in [\"Pmap_K50_E4\", \"Pmap_K100_E4\", \"Pmap_K150_E4\"]:\n",
    "\n",
    "    totalNum_BP_pHC = pHC_BP_Metrics_DF.shape[0]\n",
    "\n",
    "    numPerfect_Pmap_K50E4_BP_pHC = pHC_BP_Metrics_DF[ pHC_BP_Metrics_DF[Pmap_ParamCombo] >= 1].shape[0]\n",
    "\n",
    "    num_NotPerfect_Pmap_K50E4_BP_pHC = totalNum_BP_pHC - numPerfect_Pmap_K50E4_BP_pHC\n",
    "\n",
    "    proportion_Perfect_Pmap_K50E4_pHC = numPerfect_Pmap_K50E4_BP_pHC / totalNum_BP_pHC\n",
    "    \n",
    "    proportion_NOT_Perfect_Pmap_K50E4_pHC = 1 - proportion_Perfect_Pmap_K50E4_pHC\n",
    "    \n",
    "    \n",
    "    print( f\" {Pmap_ParamCombo} - proportion NOT Perfect in pHC = {proportion_NOT_Perfect_Pmap_K50E4_pHC}\")"
   ]
  },
  {
   "cell_type": "code",
   "execution_count": null,
   "metadata": {},
   "outputs": [],
   "source": []
  },
  {
   "cell_type": "code",
   "execution_count": null,
   "metadata": {},
   "outputs": [],
   "source": []
  },
  {
   "cell_type": "code",
   "execution_count": null,
   "metadata": {},
   "outputs": [],
   "source": []
  },
  {
   "cell_type": "code",
   "execution_count": null,
   "metadata": {},
   "outputs": [],
   "source": []
  }
 ],
 "metadata": {
  "kernelspec": {
   "display_name": "py37_S",
   "language": "python",
   "name": "py37_s"
  },
  "language_info": {
   "codemirror_mode": {
    "name": "ipython",
    "version": 3
   },
   "file_extension": ".py",
   "mimetype": "text/x-python",
   "name": "python",
   "nbconvert_exporter": "python",
   "pygments_lexer": "ipython3",
   "version": "3.7.3"
  }
 },
 "nbformat": 4,
 "nbformat_minor": 4
}
