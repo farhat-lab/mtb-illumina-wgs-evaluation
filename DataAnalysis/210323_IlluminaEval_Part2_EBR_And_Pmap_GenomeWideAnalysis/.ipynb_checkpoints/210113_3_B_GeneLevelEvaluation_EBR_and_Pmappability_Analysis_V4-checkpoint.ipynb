{
 "cells": [
  {
   "cell_type": "markdown",
   "metadata": {},
   "source": [
    "# Analysis & gene level exploration of Empirical Base pair Recall (EBR) and pileup mappability\n",
    "\n",
    "### Maximillian Marin\n",
    "### mgmarin@g.harvard.edu\n",
    "### 20/10/30\n",
    "\n",
    "\n",
    "## Analysis Outline \n",
    "    \n",
    "### 1) Provide a general overview of the frequency of different gene categories in the H37Rv reference\n",
    "\n",
    "### 2) Evaluation of gene-level EBR across: \n",
    "    a) Functional Categories of H37Rv\n",
    "    b) PLC and non-PLC gene categories: PE/PPEs, MGEs, identified repetitive genes \n",
    "\n",
    "### 3) Evaluation of Pileup Mappability Across:\n",
    "    a) Functional Categories of H37Rv \n",
    "    b) PLC and non-PLC gene categories: PE/PPEs, MGEs, identified repetitive genes \n",
    "        \n",
    "        \n",
    "### 4) Plot a gene-level analysis of EBR and Pileup Mappability TOGETHER\n",
    "        "
   ]
  },
  {
   "cell_type": "markdown",
   "metadata": {},
   "source": [
    "### Import statements"
   ]
  },
  {
   "cell_type": "code",
   "execution_count": 1,
   "metadata": {},
   "outputs": [],
   "source": [
    "import numpy as np\n",
    "import pandas as pd\n",
    "from tqdm import tqdm\n",
    "import matplotlib.pyplot as plt\n",
    "import seaborn as sns\n",
    "import pickle\n",
    "\n",
    "%matplotlib inline"
   ]
  },
  {
   "cell_type": "code",
   "execution_count": 2,
   "metadata": {},
   "outputs": [],
   "source": [
    "import plotly.express as px"
   ]
  },
  {
   "cell_type": "code",
   "execution_count": 3,
   "metadata": {},
   "outputs": [],
   "source": [
    "#from Bio import SeqIO"
   ]
  },
  {
   "cell_type": "code",
   "execution_count": null,
   "metadata": {},
   "outputs": [],
   "source": []
  },
  {
   "cell_type": "markdown",
   "metadata": {},
   "source": [
    "### Set matplotlib text export settings for Adobe Illustrator"
   ]
  },
  {
   "cell_type": "code",
   "execution_count": 4,
   "metadata": {},
   "outputs": [],
   "source": [
    "import matplotlib\n",
    "matplotlib.rcParams['pdf.fonttype'] = 42\n",
    "matplotlib.rcParams['ps.fonttype'] = 42"
   ]
  },
  {
   "cell_type": "code",
   "execution_count": null,
   "metadata": {},
   "outputs": [],
   "source": []
  },
  {
   "cell_type": "markdown",
   "metadata": {},
   "source": [
    "#### Pandas Viewing Settings"
   ]
  },
  {
   "cell_type": "code",
   "execution_count": 5,
   "metadata": {},
   "outputs": [],
   "source": [
    "pd.set_option('display.max_rows', 500)\n",
    "pd.set_option('display.max_columns', 500)\n",
    "pd.set_option('display.width', 1000)"
   ]
  },
  {
   "cell_type": "code",
   "execution_count": null,
   "metadata": {},
   "outputs": [],
   "source": []
  },
  {
   "cell_type": "markdown",
   "metadata": {},
   "source": [
    "## Read in BED files defining the putative Low Confidence Regions (Coscolla et al scheme)"
   ]
  },
  {
   "cell_type": "code",
   "execution_count": 6,
   "metadata": {},
   "outputs": [],
   "source": [
    "RepoRef_Dir = \"../../References\"\n",
    "pLC_ExcludedRegionsScheme_RepoRef_Dir = f\"{RepoRef_Dir}/pLowConfideceRegions_CoscollaEtAlScheme_Files\"\n",
    "\n",
    "Mtb_H37rv_pLCRegions_Coscolla_BED_PATH = f\"{pLC_ExcludedRegionsScheme_RepoRef_Dir}/200819_Mtb_H37rv_pLC_Regions_CoscollaExcludedGenes.bed\"\n",
    "Mtb_H37rv_pLCRegions_Coscolla_BED_MERGED_PATH = f\"{pLC_ExcludedRegionsScheme_RepoRef_Dir}/200819_Mtb_H37rv_pLC_Regions_CoscollaExcludedRegion.Merged.bed\"\n",
    "Mtb_H37rv_HighConfidenceRegions_NONCoscollaRegions_BED_PATH = f\"{pLC_ExcludedRegionsScheme_RepoRef_Dir}/200819_Mtb_H37rv_HighConfidence_Regions_NONpLC_Regions.bed\"\n"
   ]
  },
  {
   "cell_type": "code",
   "execution_count": null,
   "metadata": {},
   "outputs": [],
   "source": []
  },
  {
   "cell_type": "markdown",
   "metadata": {},
   "source": [
    "# 0) Read in processed gene-level analysis of H37Rv"
   ]
  },
  {
   "cell_type": "code",
   "execution_count": 7,
   "metadata": {},
   "outputs": [],
   "source": [
    "PB_Vs_Illumina_DataAnalysis_Dir = \"../../../210112_PBvsI_VCeval_AnalysisDir_V7_36CI\"\n",
    "\n",
    "PBvIll_EBR_Dir = PB_Vs_Illumina_DataAnalysis_Dir + \"/210112_EBR_H37rv_36CI_MM2vsPilon_V7\"         \n"
   ]
  },
  {
   "cell_type": "code",
   "execution_count": null,
   "metadata": {},
   "outputs": [],
   "source": []
  },
  {
   "cell_type": "markdown",
   "metadata": {},
   "source": [
    "## A) Read back in EBR and Pmappability H37rv gene level analysis"
   ]
  },
  {
   "cell_type": "code",
   "execution_count": 8,
   "metadata": {},
   "outputs": [],
   "source": [
    "#Repo_DataDir = \"../../Data\"\n",
    "\n",
    "\n",
    "FeatureLevelAnalysis_Dir_O2 = PBvIll_EBR_Dir + \"/210113_H37Rv_FeatureLevelAnalysis_EBR_Pmap\" \n",
    "\n",
    "\n",
    "H37Rv_FeatureLevelAnalysis_EBR_Pmap_TSV_O2_Repo = f\"{FeatureLevelAnalysis_Dir_O2}/H37Rv_FeatureLevelAnalysis.EBR_And_Pmap.tsv\"\n",
    "H37Rv_GeneLevelAnalysis_EBR_Pmap_TSV_O2_Repo = f\"{FeatureLevelAnalysis_Dir_O2}/H37Rv_FeatureLevelAnalysis.EBR_And_Pmap.Genes.tsv\"\n",
    "H37Rv_IntergenicLevelAnalysis_EBR_Pmap_TSV_O2_Repo = f\"{FeatureLevelAnalysis_Dir_O2}/H37Rv_FeatureLevelAnalysis.EBR_And_Pmap.IntergenicRegions.tsv\"\n",
    "\n",
    "FLA_DF = pd.read_csv(H37Rv_FeatureLevelAnalysis_EBR_Pmap_TSV_O2_Repo, sep = \"\\t\",)\n",
    "\n",
    "GLA_DF = pd.read_csv(H37Rv_GeneLevelAnalysis_EBR_Pmap_TSV_O2_Repo, sep = \"\\t\",)"
   ]
  },
  {
   "cell_type": "code",
   "execution_count": null,
   "metadata": {},
   "outputs": [],
   "source": []
  },
  {
   "cell_type": "code",
   "execution_count": 9,
   "metadata": {},
   "outputs": [
    {
     "data": {
      "text/plain": [
       "(4079, 20)"
      ]
     },
     "execution_count": 9,
     "metadata": {},
     "output_type": "execute_result"
    }
   ],
   "source": [
    "GLA_DF.shape"
   ]
  },
  {
   "cell_type": "code",
   "execution_count": 10,
   "metadata": {},
   "outputs": [
    {
     "data": {
      "text/plain": [
       "(4079, 20)"
      ]
     },
     "execution_count": 10,
     "metadata": {},
     "output_type": "execute_result"
    }
   ],
   "source": [
    "GLA_DF.shape"
   ]
  },
  {
   "cell_type": "code",
   "execution_count": 11,
   "metadata": {},
   "outputs": [
    {
     "data": {
      "text/html": [
       "<div>\n",
       "<style scoped>\n",
       "    .dataframe tbody tr th:only-of-type {\n",
       "        vertical-align: middle;\n",
       "    }\n",
       "\n",
       "    .dataframe tbody tr th {\n",
       "        vertical-align: top;\n",
       "    }\n",
       "\n",
       "    .dataframe thead th {\n",
       "        text-align: right;\n",
       "    }\n",
       "</style>\n",
       "<table border=\"1\" class=\"dataframe\">\n",
       "  <thead>\n",
       "    <tr style=\"text-align: right;\">\n",
       "      <th></th>\n",
       "      <th>Chrom</th>\n",
       "      <th>Start</th>\n",
       "      <th>End</th>\n",
       "      <th>Strand</th>\n",
       "      <th>H37rv_GeneID</th>\n",
       "      <th>Symbol</th>\n",
       "      <th>Feature</th>\n",
       "      <th>ExcludedGroup_Category</th>\n",
       "      <th>PEandPPE_Subfamily</th>\n",
       "      <th>Product</th>\n",
       "      <th>Functional_Category</th>\n",
       "      <th>Is_Pseudogene</th>\n",
       "      <th>Mean_EBR_36CI</th>\n",
       "      <th>gene_PercentPerfect_EBR_36CI</th>\n",
       "      <th>gene_ProportionWith_NANs_EBR_36CI</th>\n",
       "      <th>gene_GC_Content</th>\n",
       "      <th>Mean_PileupMapScore_K50_E4</th>\n",
       "      <th>Mean_PileupMapScore_K100_E4</th>\n",
       "      <th>Mean_PileupMapScore_K125_E4</th>\n",
       "      <th>Length</th>\n",
       "    </tr>\n",
       "  </thead>\n",
       "  <tbody>\n",
       "    <tr>\n",
       "      <th>0</th>\n",
       "      <td>NC_000962.3</td>\n",
       "      <td>0</td>\n",
       "      <td>1524</td>\n",
       "      <td>+</td>\n",
       "      <td>Rv0001</td>\n",
       "      <td>dnaA</td>\n",
       "      <td>CDS</td>\n",
       "      <td>NotExcluded</td>\n",
       "      <td>None</td>\n",
       "      <td>Chromosomal replication initiator protein DnaA</td>\n",
       "      <td>information pathways</td>\n",
       "      <td>No</td>\n",
       "      <td>0.997430</td>\n",
       "      <td>92.979003</td>\n",
       "      <td>0.0</td>\n",
       "      <td>58.923885</td>\n",
       "      <td>1.0</td>\n",
       "      <td>1.0</td>\n",
       "      <td>1.0</td>\n",
       "      <td>1524</td>\n",
       "    </tr>\n",
       "    <tr>\n",
       "      <th>1</th>\n",
       "      <td>NC_000962.3</td>\n",
       "      <td>2051</td>\n",
       "      <td>3260</td>\n",
       "      <td>+</td>\n",
       "      <td>Rv0002</td>\n",
       "      <td>dnaN</td>\n",
       "      <td>CDS</td>\n",
       "      <td>NotExcluded</td>\n",
       "      <td>None</td>\n",
       "      <td>DNA polymerase III (beta chain) DnaN (DNA nucl...</td>\n",
       "      <td>information pathways</td>\n",
       "      <td>No</td>\n",
       "      <td>0.998093</td>\n",
       "      <td>93.134822</td>\n",
       "      <td>0.0</td>\n",
       "      <td>59.966915</td>\n",
       "      <td>1.0</td>\n",
       "      <td>1.0</td>\n",
       "      <td>1.0</td>\n",
       "      <td>1209</td>\n",
       "    </tr>\n",
       "    <tr>\n",
       "      <th>2</th>\n",
       "      <td>NC_000962.3</td>\n",
       "      <td>3279</td>\n",
       "      <td>4437</td>\n",
       "      <td>+</td>\n",
       "      <td>Rv0003</td>\n",
       "      <td>recF</td>\n",
       "      <td>CDS</td>\n",
       "      <td>NotExcluded</td>\n",
       "      <td>None</td>\n",
       "      <td>DNA replication and repair protein RecF (singl...</td>\n",
       "      <td>information pathways</td>\n",
       "      <td>No</td>\n",
       "      <td>1.000000</td>\n",
       "      <td>100.000000</td>\n",
       "      <td>0.0</td>\n",
       "      <td>59.930915</td>\n",
       "      <td>1.0</td>\n",
       "      <td>1.0</td>\n",
       "      <td>1.0</td>\n",
       "      <td>1158</td>\n",
       "    </tr>\n",
       "  </tbody>\n",
       "</table>\n",
       "</div>"
      ],
      "text/plain": [
       "         Chrom  Start   End Strand H37rv_GeneID Symbol Feature ExcludedGroup_Category PEandPPE_Subfamily                                            Product   Functional_Category Is_Pseudogene  Mean_EBR_36CI  gene_PercentPerfect_EBR_36CI  gene_ProportionWith_NANs_EBR_36CI  gene_GC_Content  Mean_PileupMapScore_K50_E4  Mean_PileupMapScore_K100_E4  Mean_PileupMapScore_K125_E4  Length\n",
       "0  NC_000962.3      0  1524      +       Rv0001   dnaA     CDS            NotExcluded               None     Chromosomal replication initiator protein DnaA  information pathways            No       0.997430                     92.979003                                0.0        58.923885                         1.0                          1.0                          1.0    1524\n",
       "1  NC_000962.3   2051  3260      +       Rv0002   dnaN     CDS            NotExcluded               None  DNA polymerase III (beta chain) DnaN (DNA nucl...  information pathways            No       0.998093                     93.134822                                0.0        59.966915                         1.0                          1.0                          1.0    1209\n",
       "2  NC_000962.3   3279  4437      +       Rv0003   recF     CDS            NotExcluded               None  DNA replication and repair protein RecF (singl...  information pathways            No       1.000000                    100.000000                                0.0        59.930915                         1.0                          1.0                          1.0    1158"
      ]
     },
     "execution_count": 11,
     "metadata": {},
     "output_type": "execute_result"
    }
   ],
   "source": [
    "GLA_DF.head(3)"
   ]
  },
  {
   "cell_type": "code",
   "execution_count": 12,
   "metadata": {},
   "outputs": [
    {
     "data": {
      "text/html": [
       "<div>\n",
       "<style scoped>\n",
       "    .dataframe tbody tr th:only-of-type {\n",
       "        vertical-align: middle;\n",
       "    }\n",
       "\n",
       "    .dataframe tbody tr th {\n",
       "        vertical-align: top;\n",
       "    }\n",
       "\n",
       "    .dataframe thead th {\n",
       "        text-align: right;\n",
       "    }\n",
       "</style>\n",
       "<table border=\"1\" class=\"dataframe\">\n",
       "  <thead>\n",
       "    <tr style=\"text-align: right;\">\n",
       "      <th></th>\n",
       "      <th>Chrom</th>\n",
       "      <th>Start</th>\n",
       "      <th>End</th>\n",
       "      <th>Strand</th>\n",
       "      <th>H37rv_GeneID</th>\n",
       "      <th>Symbol</th>\n",
       "      <th>Feature</th>\n",
       "      <th>ExcludedGroup_Category</th>\n",
       "      <th>PEandPPE_Subfamily</th>\n",
       "      <th>Product</th>\n",
       "      <th>Functional_Category</th>\n",
       "      <th>Is_Pseudogene</th>\n",
       "      <th>IntergenicRegion_IsNextTo_PLC_Gene</th>\n",
       "      <th>Intergenic_GeneToTheLeft</th>\n",
       "      <th>Intergenic_GeneToTheLeft_FuncCategory</th>\n",
       "      <th>Intergenic_GeneToTheRight</th>\n",
       "      <th>Intergenic_GeneToTheRight_FuncCategory</th>\n",
       "      <th>Mean_EBR_36CI</th>\n",
       "      <th>gene_PercentPerfect_EBR_36CI</th>\n",
       "      <th>gene_ProportionWith_NANs_EBR_36CI</th>\n",
       "      <th>gene_GC_Content</th>\n",
       "      <th>Mean_PileupMapScore_K50_E4</th>\n",
       "      <th>Mean_PileupMapScore_K100_E4</th>\n",
       "      <th>Mean_PileupMapScore_K125_E4</th>\n",
       "      <th>Length</th>\n",
       "    </tr>\n",
       "  </thead>\n",
       "  <tbody>\n",
       "    <tr>\n",
       "      <th>0</th>\n",
       "      <td>NC_000962.3</td>\n",
       "      <td>0</td>\n",
       "      <td>1524</td>\n",
       "      <td>+</td>\n",
       "      <td>Rv0001</td>\n",
       "      <td>dnaA</td>\n",
       "      <td>CDS</td>\n",
       "      <td>NotExcluded</td>\n",
       "      <td>None</td>\n",
       "      <td>Chromosomal replication initiator protein DnaA</td>\n",
       "      <td>information pathways</td>\n",
       "      <td>No</td>\n",
       "      <td>NaN</td>\n",
       "      <td>NaN</td>\n",
       "      <td>NaN</td>\n",
       "      <td>NaN</td>\n",
       "      <td>NaN</td>\n",
       "      <td>0.997430</td>\n",
       "      <td>92.979003</td>\n",
       "      <td>0.0</td>\n",
       "      <td>58.923885</td>\n",
       "      <td>1.0</td>\n",
       "      <td>1.0</td>\n",
       "      <td>1.0</td>\n",
       "      <td>1524</td>\n",
       "    </tr>\n",
       "    <tr>\n",
       "      <th>1</th>\n",
       "      <td>NC_000962.3</td>\n",
       "      <td>1524</td>\n",
       "      <td>2051</td>\n",
       "      <td>NaN</td>\n",
       "      <td>IntergenicRegion_1_Rv0001-Rv0002</td>\n",
       "      <td>NaN</td>\n",
       "      <td>Intergenic</td>\n",
       "      <td>Intergenic</td>\n",
       "      <td>NaN</td>\n",
       "      <td>NaN</td>\n",
       "      <td>Intergenic</td>\n",
       "      <td>NaN</td>\n",
       "      <td>False</td>\n",
       "      <td>Rv0001</td>\n",
       "      <td>NotExcluded</td>\n",
       "      <td>Rv0002</td>\n",
       "      <td>NotExcluded</td>\n",
       "      <td>0.999315</td>\n",
       "      <td>97.533207</td>\n",
       "      <td>0.0</td>\n",
       "      <td>56.925996</td>\n",
       "      <td>1.0</td>\n",
       "      <td>1.0</td>\n",
       "      <td>1.0</td>\n",
       "      <td>527</td>\n",
       "    </tr>\n",
       "    <tr>\n",
       "      <th>2</th>\n",
       "      <td>NC_000962.3</td>\n",
       "      <td>2051</td>\n",
       "      <td>3260</td>\n",
       "      <td>+</td>\n",
       "      <td>Rv0002</td>\n",
       "      <td>dnaN</td>\n",
       "      <td>CDS</td>\n",
       "      <td>NotExcluded</td>\n",
       "      <td>None</td>\n",
       "      <td>DNA polymerase III (beta chain) DnaN (DNA nucl...</td>\n",
       "      <td>information pathways</td>\n",
       "      <td>No</td>\n",
       "      <td>NaN</td>\n",
       "      <td>NaN</td>\n",
       "      <td>NaN</td>\n",
       "      <td>NaN</td>\n",
       "      <td>NaN</td>\n",
       "      <td>0.998093</td>\n",
       "      <td>93.134822</td>\n",
       "      <td>0.0</td>\n",
       "      <td>59.966915</td>\n",
       "      <td>1.0</td>\n",
       "      <td>1.0</td>\n",
       "      <td>1.0</td>\n",
       "      <td>1209</td>\n",
       "    </tr>\n",
       "    <tr>\n",
       "      <th>3</th>\n",
       "      <td>NC_000962.3</td>\n",
       "      <td>3260</td>\n",
       "      <td>3279</td>\n",
       "      <td>NaN</td>\n",
       "      <td>IntergenicRegion_2_Rv0002-Rv0003</td>\n",
       "      <td>NaN</td>\n",
       "      <td>Intergenic</td>\n",
       "      <td>Intergenic</td>\n",
       "      <td>NaN</td>\n",
       "      <td>NaN</td>\n",
       "      <td>Intergenic</td>\n",
       "      <td>NaN</td>\n",
       "      <td>False</td>\n",
       "      <td>Rv0002</td>\n",
       "      <td>NotExcluded</td>\n",
       "      <td>Rv0003</td>\n",
       "      <td>NotExcluded</td>\n",
       "      <td>1.000000</td>\n",
       "      <td>100.000000</td>\n",
       "      <td>0.0</td>\n",
       "      <td>73.684211</td>\n",
       "      <td>1.0</td>\n",
       "      <td>1.0</td>\n",
       "      <td>1.0</td>\n",
       "      <td>19</td>\n",
       "    </tr>\n",
       "    <tr>\n",
       "      <th>4</th>\n",
       "      <td>NC_000962.3</td>\n",
       "      <td>3279</td>\n",
       "      <td>4437</td>\n",
       "      <td>+</td>\n",
       "      <td>Rv0003</td>\n",
       "      <td>recF</td>\n",
       "      <td>CDS</td>\n",
       "      <td>NotExcluded</td>\n",
       "      <td>None</td>\n",
       "      <td>DNA replication and repair protein RecF (singl...</td>\n",
       "      <td>information pathways</td>\n",
       "      <td>No</td>\n",
       "      <td>NaN</td>\n",
       "      <td>NaN</td>\n",
       "      <td>NaN</td>\n",
       "      <td>NaN</td>\n",
       "      <td>NaN</td>\n",
       "      <td>1.000000</td>\n",
       "      <td>100.000000</td>\n",
       "      <td>0.0</td>\n",
       "      <td>59.930915</td>\n",
       "      <td>1.0</td>\n",
       "      <td>1.0</td>\n",
       "      <td>1.0</td>\n",
       "      <td>1158</td>\n",
       "    </tr>\n",
       "  </tbody>\n",
       "</table>\n",
       "</div>"
      ],
      "text/plain": [
       "         Chrom  Start   End Strand                      H37rv_GeneID Symbol     Feature ExcludedGroup_Category PEandPPE_Subfamily                                            Product   Functional_Category Is_Pseudogene IntergenicRegion_IsNextTo_PLC_Gene Intergenic_GeneToTheLeft Intergenic_GeneToTheLeft_FuncCategory Intergenic_GeneToTheRight Intergenic_GeneToTheRight_FuncCategory  Mean_EBR_36CI  gene_PercentPerfect_EBR_36CI  gene_ProportionWith_NANs_EBR_36CI  gene_GC_Content  Mean_PileupMapScore_K50_E4  Mean_PileupMapScore_K100_E4  Mean_PileupMapScore_K125_E4  Length\n",
       "0  NC_000962.3      0  1524      +                            Rv0001   dnaA         CDS            NotExcluded               None     Chromosomal replication initiator protein DnaA  information pathways            No                                NaN                      NaN                                   NaN                       NaN                                    NaN       0.997430                     92.979003                                0.0        58.923885                         1.0                          1.0                          1.0    1524\n",
       "1  NC_000962.3   1524  2051    NaN  IntergenicRegion_1_Rv0001-Rv0002    NaN  Intergenic             Intergenic                NaN                                                NaN            Intergenic           NaN                              False                   Rv0001                           NotExcluded                    Rv0002                            NotExcluded       0.999315                     97.533207                                0.0        56.925996                         1.0                          1.0                          1.0     527\n",
       "2  NC_000962.3   2051  3260      +                            Rv0002   dnaN         CDS            NotExcluded               None  DNA polymerase III (beta chain) DnaN (DNA nucl...  information pathways            No                                NaN                      NaN                                   NaN                       NaN                                    NaN       0.998093                     93.134822                                0.0        59.966915                         1.0                          1.0                          1.0    1209\n",
       "3  NC_000962.3   3260  3279    NaN  IntergenicRegion_2_Rv0002-Rv0003    NaN  Intergenic             Intergenic                NaN                                                NaN            Intergenic           NaN                              False                   Rv0002                           NotExcluded                    Rv0003                            NotExcluded       1.000000                    100.000000                                0.0        73.684211                         1.0                          1.0                          1.0      19\n",
       "4  NC_000962.3   3279  4437      +                            Rv0003   recF         CDS            NotExcluded               None  DNA replication and repair protein RecF (singl...  information pathways            No                                NaN                      NaN                                   NaN                       NaN                                    NaN       1.000000                    100.000000                                0.0        59.930915                         1.0                          1.0                          1.0    1158"
      ]
     },
     "execution_count": 12,
     "metadata": {},
     "output_type": "execute_result"
    }
   ],
   "source": [
    "FLA_DF.head(5)"
   ]
  },
  {
   "cell_type": "code",
   "execution_count": null,
   "metadata": {},
   "outputs": [],
   "source": []
  },
  {
   "cell_type": "code",
   "execution_count": 13,
   "metadata": {},
   "outputs": [
    {
     "data": {
      "text/plain": [
       "NotExcluded                  3695\n",
       "PE/PPEs                       168\n",
       "InsertionSeqs_And_Phages      147\n",
       "Coscolla Repetitive Genes      69\n",
       "Name: ExcludedGroup_Category, dtype: int64"
      ]
     },
     "execution_count": 13,
     "metadata": {},
     "output_type": "execute_result"
    }
   ],
   "source": [
    "GLA_DF[\"ExcludedGroup_Category\"].value_counts()"
   ]
  },
  {
   "cell_type": "code",
   "execution_count": null,
   "metadata": {},
   "outputs": [],
   "source": []
  },
  {
   "cell_type": "markdown",
   "metadata": {
    "toc-hr-collapsed": false
   },
   "source": [
    "## B) Split GeneLevel Analysis based on Groups of interest"
   ]
  },
  {
   "cell_type": "code",
   "execution_count": 14,
   "metadata": {},
   "outputs": [],
   "source": [
    "GLA_ExcludedGenes_384_DF =  GLA_DF[GLA_DF[\"ExcludedGroup_Category\"] != \"NotExcluded\"]\n",
    "ListOf_ExcludedGenes_384 = GLA_ExcludedGenes_384_DF[\"H37rv_GeneID\"]\n",
    "\n",
    "GLA_PEPPEs_DF = GLA_DF[ GLA_DF[\"ExcludedGroup_Category\"] == \"PE/PPEs\"]\n",
    "\n",
    "GLA_69_CoscollaGenes_NoMGE_DF = GLA_DF[ GLA_DF[\"ExcludedGroup_Category\"] == \"Coscolla Repetitive Genes\"]\n",
    "\n",
    "GLA_MGEs_DF = GLA_DF[ GLA_DF[\"ExcludedGroup_Category\"] == \"insertion seqs and phages\"]\n"
   ]
  },
  {
   "cell_type": "code",
   "execution_count": 15,
   "metadata": {},
   "outputs": [
    {
     "data": {
      "text/plain": [
       "(168, 20)"
      ]
     },
     "execution_count": 15,
     "metadata": {},
     "output_type": "execute_result"
    }
   ],
   "source": [
    "GLA_PEPPEs_DF.shape"
   ]
  },
  {
   "cell_type": "code",
   "execution_count": null,
   "metadata": {},
   "outputs": [],
   "source": []
  },
  {
   "cell_type": "markdown",
   "metadata": {},
   "source": [
    "## Quick Exploration of specific genes of interest"
   ]
  },
  {
   "cell_type": "code",
   "execution_count": 16,
   "metadata": {},
   "outputs": [
    {
     "data": {
      "text/html": [
       "<div>\n",
       "<style scoped>\n",
       "    .dataframe tbody tr th:only-of-type {\n",
       "        vertical-align: middle;\n",
       "    }\n",
       "\n",
       "    .dataframe tbody tr th {\n",
       "        vertical-align: top;\n",
       "    }\n",
       "\n",
       "    .dataframe thead th {\n",
       "        text-align: right;\n",
       "    }\n",
       "</style>\n",
       "<table border=\"1\" class=\"dataframe\">\n",
       "  <thead>\n",
       "    <tr style=\"text-align: right;\">\n",
       "      <th></th>\n",
       "      <th>Chrom</th>\n",
       "      <th>Start</th>\n",
       "      <th>End</th>\n",
       "      <th>Strand</th>\n",
       "      <th>H37rv_GeneID</th>\n",
       "      <th>Symbol</th>\n",
       "      <th>Feature</th>\n",
       "      <th>ExcludedGroup_Category</th>\n",
       "      <th>PEandPPE_Subfamily</th>\n",
       "      <th>Product</th>\n",
       "      <th>Functional_Category</th>\n",
       "      <th>Is_Pseudogene</th>\n",
       "      <th>Mean_EBR_36CI</th>\n",
       "      <th>gene_PercentPerfect_EBR_36CI</th>\n",
       "      <th>gene_ProportionWith_NANs_EBR_36CI</th>\n",
       "      <th>gene_GC_Content</th>\n",
       "      <th>Mean_PileupMapScore_K50_E4</th>\n",
       "      <th>Mean_PileupMapScore_K100_E4</th>\n",
       "      <th>Mean_PileupMapScore_K125_E4</th>\n",
       "      <th>Length</th>\n",
       "    </tr>\n",
       "  </thead>\n",
       "  <tbody>\n",
       "    <tr>\n",
       "      <th>3648</th>\n",
       "      <td>NC_000962.3</td>\n",
       "      <td>3931004</td>\n",
       "      <td>3936710</td>\n",
       "      <td>+</td>\n",
       "      <td>Rv3508</td>\n",
       "      <td>PE_PGRS54</td>\n",
       "      <td>CDS</td>\n",
       "      <td>PE/PPEs</td>\n",
       "      <td>PE_V_PGRS</td>\n",
       "      <td>PE-PGRS family protein PE_PGRS54</td>\n",
       "      <td>PE/PPE</td>\n",
       "      <td>No</td>\n",
       "      <td>0.533376</td>\n",
       "      <td>2.225727</td>\n",
       "      <td>0.036979</td>\n",
       "      <td>80.529267</td>\n",
       "      <td>0.583865</td>\n",
       "      <td>0.662627</td>\n",
       "      <td>0.68047</td>\n",
       "      <td>5706</td>\n",
       "    </tr>\n",
       "  </tbody>\n",
       "</table>\n",
       "</div>"
      ],
      "text/plain": [
       "            Chrom    Start      End Strand H37rv_GeneID     Symbol Feature ExcludedGroup_Category PEandPPE_Subfamily                           Product Functional_Category Is_Pseudogene  Mean_EBR_36CI  gene_PercentPerfect_EBR_36CI  gene_ProportionWith_NANs_EBR_36CI  gene_GC_Content  Mean_PileupMapScore_K50_E4  Mean_PileupMapScore_K100_E4  Mean_PileupMapScore_K125_E4  Length\n",
       "3648  NC_000962.3  3931004  3936710      +       Rv3508  PE_PGRS54     CDS                PE/PPEs          PE_V_PGRS  PE-PGRS family protein PE_PGRS54              PE/PPE            No       0.533376                      2.225727                           0.036979        80.529267                    0.583865                     0.662627                      0.68047    5706"
      ]
     },
     "execution_count": 16,
     "metadata": {},
     "output_type": "execute_result"
    }
   ],
   "source": [
    "GLA_DF[ GLA_DF[\"Symbol\"] == \"PE_PGRS54\"]"
   ]
  },
  {
   "cell_type": "code",
   "execution_count": null,
   "metadata": {},
   "outputs": [],
   "source": []
  },
  {
   "cell_type": "code",
   "execution_count": null,
   "metadata": {},
   "outputs": [],
   "source": []
  },
  {
   "cell_type": "code",
   "execution_count": null,
   "metadata": {},
   "outputs": [],
   "source": []
  },
  {
   "cell_type": "markdown",
   "metadata": {
    "toc-hr-collapsed": true
   },
   "source": [
    "# 1) Making PieCharts of abundance of gene categories across H37rv"
   ]
  },
  {
   "cell_type": "markdown",
   "metadata": {},
   "source": [
    "### A) What does the distribution of Functional Categories look like across the genome?"
   ]
  },
  {
   "cell_type": "code",
   "execution_count": 17,
   "metadata": {},
   "outputs": [
    {
     "data": {
      "text/plain": [
       "conserved hypotheticals                    1042\n",
       "intermediary metabolism and respiration     936\n",
       "cell wall and cell processes                772\n",
       "lipid metabolism                            272\n",
       "information pathways                        242\n",
       "virulence, detoxification, adaptation       239\n",
       "regulatory proteins                         198\n",
       "PE/PPE                                      168\n",
       "insertion seqs and phages                   147\n",
       "stable RNAs                                  48\n",
       "unknown                                      15\n",
       "Name: Functional_Category, dtype: int64"
      ]
     },
     "execution_count": 17,
     "metadata": {},
     "output_type": "execute_result"
    }
   ],
   "source": [
    "GLA_DF[\"Functional_Category\"].value_counts()"
   ]
  },
  {
   "cell_type": "code",
   "execution_count": 18,
   "metadata": {},
   "outputs": [
    {
     "data": {
      "image/png": "[encoded data removed]",
      "text/plain": [
       "<Figure size 576x576 with 1 Axes>"
      ]
     },
     "metadata": {},
     "output_type": "display_data"
    }
   ],
   "source": [
    "FuncCat_Counts = GLA_DF[\"Functional_Category\"].value_counts()\n",
    "dictOf_NumGenes_GeneCategory = dict(FuncCat_Counts)\n",
    "\n",
    "PieChart_GeneCat_Labels = [ f\"{geneCat} (N={dictOf_NumGenes_GeneCategory[geneCat]})\"  for geneCat in FuncCat_Counts.index]\n",
    "\n",
    "plt.figure( figsize=(8,8))\n",
    "plt.pie(FuncCat_Counts, labels = PieChart_GeneCat_Labels)\n",
    "plt.show()"
   ]
  },
  {
   "cell_type": "markdown",
   "metadata": {},
   "source": [
    "### B) What does the distribution of Excluded gene categories look like across the genome?"
   ]
  },
  {
   "cell_type": "code",
   "execution_count": 19,
   "metadata": {},
   "outputs": [
    {
     "data": {
      "text/plain": [
       "NotExcluded                  3695\n",
       "PE/PPEs                       168\n",
       "InsertionSeqs_And_Phages      147\n",
       "Coscolla Repetitive Genes      69\n",
       "Name: ExcludedGroup_Category, dtype: int64"
      ]
     },
     "execution_count": 19,
     "metadata": {},
     "output_type": "execute_result"
    }
   ],
   "source": [
    "GLA_DF[\"ExcludedGroup_Category\"].value_counts()"
   ]
  },
  {
   "cell_type": "code",
   "execution_count": 20,
   "metadata": {},
   "outputs": [
    {
     "data": {
      "image/png": "[encoded data removed]",
      "text/plain": [
       "<Figure size 576x576 with 1 Axes>"
      ]
     },
     "metadata": {},
     "output_type": "display_data"
    }
   ],
   "source": [
    "ExcludedGenes_pLC_Counts = GLA_DF[\"ExcludedGroup_Category\"].value_counts()\n",
    "dictOf_NumGenes_ExcludedGenes_pLC = dict(ExcludedGenes_pLC_Counts)\n",
    "\n",
    "PieChart_GeneCat_Labels = [ f\"{geneCat} (N={dictOf_NumGenes_ExcludedGenes_pLC[geneCat]})\"  for geneCat in ExcludedGenes_pLC_Counts.index]\n",
    "\n",
    "plt.figure( figsize=(8,8))\n",
    "plt.pie(ExcludedGenes_pLC_Counts, labels = PieChart_GeneCat_Labels)\n",
    "plt.show()"
   ]
  },
  {
   "cell_type": "code",
   "execution_count": null,
   "metadata": {},
   "outputs": [],
   "source": []
  },
  {
   "cell_type": "code",
   "execution_count": null,
   "metadata": {},
   "outputs": [],
   "source": []
  },
  {
   "cell_type": "markdown",
   "metadata": {},
   "source": [
    "# 2) Evaluation of gene-level EBR"
   ]
  },
  {
   "cell_type": "code",
   "execution_count": 21,
   "metadata": {},
   "outputs": [
    {
     "data": {
      "text/plain": [
       "NotExcluded                  3695\n",
       "PE/PPEs                       168\n",
       "InsertionSeqs_And_Phages      147\n",
       "Coscolla Repetitive Genes      69\n",
       "Name: ExcludedGroup_Category, dtype: int64"
      ]
     },
     "execution_count": 21,
     "metadata": {},
     "output_type": "execute_result"
    }
   ],
   "source": [
    "GLA_DF[\"ExcludedGroup_Category\"].value_counts()"
   ]
  },
  {
   "cell_type": "markdown",
   "metadata": {},
   "source": [
    "## A) Plotting EBR BoxPlots across Excluded groups of genes + \"Not Excluded\" genes"
   ]
  },
  {
   "cell_type": "code",
   "execution_count": 22,
   "metadata": {},
   "outputs": [],
   "source": [
    "H37rv_ExcludedCategories_SortByMean_EBR = list(GLA_DF.groupby(\"ExcludedGroup_Category\").mean().sort_values(\"Mean_EBR_36CI\", ascending=False).index)\n",
    "dictOf_NumGenes_ExcludedCategory = dict(GLA_DF[\"ExcludedGroup_Category\"].value_counts())\n",
    "\n",
    "ExcludedGeneCat_Labels_SortByMeanEBR  = [ f\"{geneCat} (N={dictOf_NumGenes_ExcludedCategory[geneCat]})\"  for geneCat in H37rv_ExcludedCategories_SortByMean_EBR]"
   ]
  },
  {
   "cell_type": "code",
   "execution_count": 23,
   "metadata": {},
   "outputs": [
    {
     "data": {
      "text/plain": [
       "{'NotExcluded': 3695,\n",
       " 'PE/PPEs': 168,\n",
       " 'InsertionSeqs_And_Phages': 147,\n",
       " 'Coscolla Repetitive Genes': 69}"
      ]
     },
     "execution_count": 23,
     "metadata": {},
     "output_type": "execute_result"
    }
   ],
   "source": [
    "dictOf_NumGenes_ExcludedCategory"
   ]
  },
  {
   "cell_type": "code",
   "execution_count": 24,
   "metadata": {},
   "outputs": [
    {
     "data": {
      "text/plain": [
       "['NotExcluded (N=3695)',\n",
       " 'Coscolla Repetitive Genes (N=69)',\n",
       " 'PE/PPEs (N=168)',\n",
       " 'InsertionSeqs_And_Phages (N=147)']"
      ]
     },
     "execution_count": 24,
     "metadata": {},
     "output_type": "execute_result"
    }
   ],
   "source": [
    "ExcludedGeneCat_Labels_SortByMeanEBR"
   ]
  },
  {
   "cell_type": "code",
   "execution_count": 25,
   "metadata": {},
   "outputs": [
    {
     "name": "stdout",
     "output_type": "stream",
     "text": [
      "mkdir: cannot create directory ‘./H37Rv_EBR_Pmap_GeneLevel_Plots/’: File exists\n"
     ]
    },
    {
     "data": {
      "image/png": "[encoded data removed]",
      "text/plain": [
       "<Figure size 432x432 with 1 Axes>"
      ]
     },
     "metadata": {
      "needs_background": "light"
     },
     "output_type": "display_data"
    }
   ],
   "source": [
    "fig, axs = plt.subplots(1, 1, figsize=(6, 6) ) #, sharex=True)\n",
    "\n",
    "\n",
    "sns.boxplot(y = \"ExcludedGroup_Category\", x = \"Mean_EBR_36CI\", width = 0.5, \n",
    "            data = GLA_DF, order = H37rv_ExcludedCategories_SortByMean_EBR,\n",
    "            whis = 1.5, \n",
    "            fliersize = 2, ax = axs)\n",
    "\n",
    "\n",
    "axs.set_yticklabels(ExcludedGeneCat_Labels_SortByMeanEBR)\n",
    "\n",
    "axs.set(xlabel='Mean Gene-EBR', ylabel='Gene Category')\n",
    "\n",
    "axs.set_xlim(0, 1.05)\n",
    "\n",
    "!mkdir ./H37Rv_EBR_Pmap_GeneLevel_Plots/\n",
    "\n",
    "Output_PNG_PATH = \"./H37Rv_EBR_Pmap_GeneLevel_Plots/EBR36_BoxPlots_GeneLevel_PLC_vs_PHC_SetsOfGenes.png\"\n",
    "Output_SVG_PATH = \"./H37Rv_EBR_Pmap_GeneLevel_Plots/EBR36_BoxPlots_GeneLevel_PLC_vs_PHC_SetsOfGenes.svg\"\n",
    "Output_PDF_PATH = \"./H37Rv_EBR_Pmap_GeneLevel_Plots/EBR36_BoxPlots_GeneLevel_PLC_vs_PHC_SetsOfGenes.pdf\"\n",
    "\n",
    "plt.savefig(Output_PNG_PATH, bbox_inches='tight', dpi=125)\n",
    "plt.savefig(Output_SVG_PATH, bbox_inches='tight')\n",
    "plt.savefig(Output_PDF_PATH, bbox_inches='tight')\n",
    "\n",
    "plt.show()"
   ]
  },
  {
   "cell_type": "code",
   "execution_count": 26,
   "metadata": {},
   "outputs": [
    {
     "data": {
      "text/html": [
       "<div>\n",
       "<style scoped>\n",
       "    .dataframe tbody tr th:only-of-type {\n",
       "        vertical-align: middle;\n",
       "    }\n",
       "\n",
       "    .dataframe tbody tr th {\n",
       "        vertical-align: top;\n",
       "    }\n",
       "\n",
       "    .dataframe thead tr th {\n",
       "        text-align: left;\n",
       "    }\n",
       "\n",
       "    .dataframe thead tr:last-of-type th {\n",
       "        text-align: right;\n",
       "    }\n",
       "</style>\n",
       "<table border=\"1\" class=\"dataframe\">\n",
       "  <thead>\n",
       "    <tr>\n",
       "      <th></th>\n",
       "      <th colspan=\"8\" halign=\"left\">Mean_EBR_36CI</th>\n",
       "    </tr>\n",
       "    <tr>\n",
       "      <th></th>\n",
       "      <th>count</th>\n",
       "      <th>mean</th>\n",
       "      <th>std</th>\n",
       "      <th>min</th>\n",
       "      <th>25%</th>\n",
       "      <th>50%</th>\n",
       "      <th>75%</th>\n",
       "      <th>max</th>\n",
       "    </tr>\n",
       "    <tr>\n",
       "      <th>ExcludedGroup_Category</th>\n",
       "      <th></th>\n",
       "      <th></th>\n",
       "      <th></th>\n",
       "      <th></th>\n",
       "      <th></th>\n",
       "      <th></th>\n",
       "      <th></th>\n",
       "      <th></th>\n",
       "    </tr>\n",
       "  </thead>\n",
       "  <tbody>\n",
       "    <tr>\n",
       "      <th>Coscolla Repetitive Genes</th>\n",
       "      <td>69.0</td>\n",
       "      <td>0.965902</td>\n",
       "      <td>0.110154</td>\n",
       "      <td>0.321186</td>\n",
       "      <td>0.985867</td>\n",
       "      <td>0.997436</td>\n",
       "      <td>0.999639</td>\n",
       "      <td>1.0</td>\n",
       "    </tr>\n",
       "    <tr>\n",
       "      <th>InsertionSeqs_And_Phages</th>\n",
       "      <td>133.0</td>\n",
       "      <td>0.850882</td>\n",
       "      <td>0.211970</td>\n",
       "      <td>0.296762</td>\n",
       "      <td>0.764706</td>\n",
       "      <td>0.997432</td>\n",
       "      <td>1.000000</td>\n",
       "      <td>1.0</td>\n",
       "    </tr>\n",
       "    <tr>\n",
       "      <th>NotExcluded</th>\n",
       "      <td>3695.0</td>\n",
       "      <td>0.998870</td>\n",
       "      <td>0.013844</td>\n",
       "      <td>0.454969</td>\n",
       "      <td>0.999906</td>\n",
       "      <td>1.000000</td>\n",
       "      <td>1.000000</td>\n",
       "      <td>1.0</td>\n",
       "    </tr>\n",
       "    <tr>\n",
       "      <th>PE/PPEs</th>\n",
       "      <td>166.0</td>\n",
       "      <td>0.941537</td>\n",
       "      <td>0.092322</td>\n",
       "      <td>0.498909</td>\n",
       "      <td>0.902590</td>\n",
       "      <td>0.995254</td>\n",
       "      <td>0.999832</td>\n",
       "      <td>1.0</td>\n",
       "    </tr>\n",
       "  </tbody>\n",
       "</table>\n",
       "</div>"
      ],
      "text/plain": [
       "                          Mean_EBR_36CI                                                                 \n",
       "                                  count      mean       std       min       25%       50%       75%  max\n",
       "ExcludedGroup_Category                                                                                  \n",
       "Coscolla Repetitive Genes          69.0  0.965902  0.110154  0.321186  0.985867  0.997436  0.999639  1.0\n",
       "InsertionSeqs_And_Phages          133.0  0.850882  0.211970  0.296762  0.764706  0.997432  1.000000  1.0\n",
       "NotExcluded                      3695.0  0.998870  0.013844  0.454969  0.999906  1.000000  1.000000  1.0\n",
       "PE/PPEs                           166.0  0.941537  0.092322  0.498909  0.902590  0.995254  0.999832  1.0"
      ]
     },
     "execution_count": 26,
     "metadata": {},
     "output_type": "execute_result"
    }
   ],
   "source": [
    "ColOfInterest = [\"ExcludedGroup_Category\", \"Mean_EBR_36CI\"]\n",
    "\n",
    "GLA_DF[ColOfInterest].groupby(\"ExcludedGroup_Category\").describe()"
   ]
  },
  {
   "cell_type": "code",
   "execution_count": null,
   "metadata": {},
   "outputs": [],
   "source": []
  },
  {
   "cell_type": "code",
   "execution_count": 27,
   "metadata": {},
   "outputs": [
    {
     "name": "stdout",
     "output_type": "stream",
     "text": [
      "mkdir: cannot create directory ‘./H37Rv_EBR_Pmap_GeneLevel_Plots/’: File exists\n"
     ]
    },
    {
     "data": {
      "image/png": "[encoded data removed]",
      "text/plain": [
       "<Figure size 432x432 with 1 Axes>"
      ]
     },
     "metadata": {
      "needs_background": "light"
     },
     "output_type": "display_data"
    }
   ],
   "source": [
    "fig, axs = plt.subplots(1, 1, figsize=(6, 6) ) #, sharex=True)\n",
    "\n",
    "\n",
    "sns.boxplot(y = \"ExcludedGroup_Category\", x = \"Mean_EBR_36CI\", width = 0.5, \n",
    "            data = GLA_DF, order = H37rv_ExcludedCategories_SortByMean_EBR,\n",
    "            whis = 1.5, color = \"#3A4C92\",\n",
    "            fliersize = 2, ax = axs)\n",
    "\n",
    "\n",
    "axs.set_yticklabels(ExcludedGeneCat_Labels_SortByMeanEBR)\n",
    "\n",
    "axs.set(xlabel='Mean Gene-EBR', ylabel='Gene Category')\n",
    "\n",
    "axs.set_xlim(0, 1.05)\n",
    "\n",
    "!mkdir ./H37Rv_EBR_Pmap_GeneLevel_Plots/\n",
    "\n",
    "Output_PNG_PATH = \"./H37Rv_EBR_Pmap_GeneLevel_Plots/EBR36_BoxPlots_GeneLevel_PLC_vs_PHC_SetsOfGenes.ColoredBlue.png\"\n",
    "Output_SVG_PATH = \"./H37Rv_EBR_Pmap_GeneLevel_Plots/EBR36_BoxPlots_GeneLevel_PLC_vs_PHC_SetsOfGenes.ColoredBlue.svg\"\n",
    "Output_PDF_PATH = \"./H37Rv_EBR_Pmap_GeneLevel_Plots/EBR36_BoxPlots_GeneLevel_PLC_vs_PHC_SetsOfGenes.ColoredBlue.pdf\"\n",
    "\n",
    "plt.savefig(Output_PNG_PATH, bbox_inches='tight', dpi=125)\n",
    "plt.savefig(Output_SVG_PATH, bbox_inches='tight')\n",
    "plt.savefig(Output_PDF_PATH, bbox_inches='tight')\n",
    "\n",
    "plt.show()"
   ]
  },
  {
   "cell_type": "code",
   "execution_count": null,
   "metadata": {},
   "outputs": [],
   "source": []
  },
  {
   "cell_type": "code",
   "execution_count": null,
   "metadata": {},
   "outputs": [],
   "source": []
  },
  {
   "cell_type": "code",
   "execution_count": null,
   "metadata": {},
   "outputs": [],
   "source": []
  },
  {
   "cell_type": "code",
   "execution_count": null,
   "metadata": {},
   "outputs": [],
   "source": []
  },
  {
   "cell_type": "code",
   "execution_count": 28,
   "metadata": {},
   "outputs": [
    {
     "data": {
      "text/html": [
       "<div>\n",
       "<style scoped>\n",
       "    .dataframe tbody tr th:only-of-type {\n",
       "        vertical-align: middle;\n",
       "    }\n",
       "\n",
       "    .dataframe tbody tr th {\n",
       "        vertical-align: top;\n",
       "    }\n",
       "\n",
       "    .dataframe thead tr th {\n",
       "        text-align: left;\n",
       "    }\n",
       "\n",
       "    .dataframe thead tr:last-of-type th {\n",
       "        text-align: right;\n",
       "    }\n",
       "</style>\n",
       "<table border=\"1\" class=\"dataframe\">\n",
       "  <thead>\n",
       "    <tr>\n",
       "      <th></th>\n",
       "      <th colspan=\"8\" halign=\"left\">Mean_EBR_36CI</th>\n",
       "    </tr>\n",
       "    <tr>\n",
       "      <th></th>\n",
       "      <th>count</th>\n",
       "      <th>mean</th>\n",
       "      <th>std</th>\n",
       "      <th>min</th>\n",
       "      <th>25%</th>\n",
       "      <th>50%</th>\n",
       "      <th>75%</th>\n",
       "      <th>max</th>\n",
       "    </tr>\n",
       "    <tr>\n",
       "      <th>ExcludedGroup_Category</th>\n",
       "      <th></th>\n",
       "      <th></th>\n",
       "      <th></th>\n",
       "      <th></th>\n",
       "      <th></th>\n",
       "      <th></th>\n",
       "      <th></th>\n",
       "      <th></th>\n",
       "    </tr>\n",
       "  </thead>\n",
       "  <tbody>\n",
       "    <tr>\n",
       "      <th>Coscolla Repetitive Genes</th>\n",
       "      <td>69.0</td>\n",
       "      <td>0.965902</td>\n",
       "      <td>0.110154</td>\n",
       "      <td>0.321186</td>\n",
       "      <td>0.985867</td>\n",
       "      <td>0.997436</td>\n",
       "      <td>0.999639</td>\n",
       "      <td>1.0</td>\n",
       "    </tr>\n",
       "    <tr>\n",
       "      <th>InsertionSeqs_And_Phages</th>\n",
       "      <td>133.0</td>\n",
       "      <td>0.850882</td>\n",
       "      <td>0.211970</td>\n",
       "      <td>0.296762</td>\n",
       "      <td>0.764706</td>\n",
       "      <td>0.997432</td>\n",
       "      <td>1.000000</td>\n",
       "      <td>1.0</td>\n",
       "    </tr>\n",
       "    <tr>\n",
       "      <th>NotExcluded</th>\n",
       "      <td>3695.0</td>\n",
       "      <td>0.998870</td>\n",
       "      <td>0.013844</td>\n",
       "      <td>0.454969</td>\n",
       "      <td>0.999906</td>\n",
       "      <td>1.000000</td>\n",
       "      <td>1.000000</td>\n",
       "      <td>1.0</td>\n",
       "    </tr>\n",
       "    <tr>\n",
       "      <th>PE/PPEs</th>\n",
       "      <td>166.0</td>\n",
       "      <td>0.941537</td>\n",
       "      <td>0.092322</td>\n",
       "      <td>0.498909</td>\n",
       "      <td>0.902590</td>\n",
       "      <td>0.995254</td>\n",
       "      <td>0.999832</td>\n",
       "      <td>1.0</td>\n",
       "    </tr>\n",
       "  </tbody>\n",
       "</table>\n",
       "</div>"
      ],
      "text/plain": [
       "                          Mean_EBR_36CI                                                                 \n",
       "                                  count      mean       std       min       25%       50%       75%  max\n",
       "ExcludedGroup_Category                                                                                  \n",
       "Coscolla Repetitive Genes          69.0  0.965902  0.110154  0.321186  0.985867  0.997436  0.999639  1.0\n",
       "InsertionSeqs_And_Phages          133.0  0.850882  0.211970  0.296762  0.764706  0.997432  1.000000  1.0\n",
       "NotExcluded                      3695.0  0.998870  0.013844  0.454969  0.999906  1.000000  1.000000  1.0\n",
       "PE/PPEs                           166.0  0.941537  0.092322  0.498909  0.902590  0.995254  0.999832  1.0"
      ]
     },
     "execution_count": 28,
     "metadata": {},
     "output_type": "execute_result"
    }
   ],
   "source": [
    "ColOfInterest = [\"ExcludedGroup_Category\", \"Mean_EBR_36CI\"]\n",
    "\n",
    "GLA_DF[ColOfInterest].groupby(\"ExcludedGroup_Category\").describe()"
   ]
  },
  {
   "cell_type": "markdown",
   "metadata": {},
   "source": [
    "## Evaluate the number of genes (in each category) with mean EBR scores above certain thresholds"
   ]
  },
  {
   "cell_type": "code",
   "execution_count": 29,
   "metadata": {},
   "outputs": [
    {
     "data": {
      "text/plain": [
       "NotExcluded                  3695\n",
       "PE/PPEs                       168\n",
       "InsertionSeqs_And_Phages      147\n",
       "Coscolla Repetitive Genes      69\n",
       "Name: ExcludedGroup_Category, dtype: int64"
      ]
     },
     "execution_count": 29,
     "metadata": {},
     "output_type": "execute_result"
    }
   ],
   "source": [
    "GLA_DF[\"ExcludedGroup_Category\"].value_counts()"
   ]
  },
  {
   "cell_type": "code",
   "execution_count": 30,
   "metadata": {},
   "outputs": [
    {
     "data": {
      "text/plain": [
       "PE/PPEs                      65\n",
       "InsertionSeqs_And_Phages     55\n",
       "NotExcluded                  14\n",
       "Coscolla Repetitive Genes    12\n",
       "Name: ExcludedGroup_Category, dtype: int64"
      ]
     },
     "execution_count": 30,
     "metadata": {},
     "output_type": "execute_result"
    }
   ],
   "source": [
    "GLA_DF_Below97_EBR = GLA_DF[ GLA_DF[\"Mean_EBR_36CI\"] < 0.97]\n",
    "GLA_DF_Below97_EBR[\"ExcludedGroup_Category\"].value_counts()"
   ]
  },
  {
   "cell_type": "markdown",
   "metadata": {},
   "source": [
    "## How many gene-level EBR < 0.97?"
   ]
  },
  {
   "cell_type": "code",
   "execution_count": 31,
   "metadata": {},
   "outputs": [
    {
     "data": {
      "text/plain": [
       "Coscolla Repetitive Genes    0.173913\n",
       "InsertionSeqs_And_Phages     0.374150\n",
       "NotExcluded                  0.003789\n",
       "PE/PPEs                      0.386905\n",
       "Name: ExcludedGroup_Category, dtype: float64"
      ]
     },
     "execution_count": 31,
     "metadata": {},
     "output_type": "execute_result"
    }
   ],
   "source": [
    "GLA_DF_Below97_EBR[\"ExcludedGroup_Category\"].value_counts() / GLA_DF[\"ExcludedGroup_Category\"].value_counts()"
   ]
  },
  {
   "cell_type": "markdown",
   "metadata": {},
   "source": [
    "## How many gene-level EBR >= 0.97?"
   ]
  },
  {
   "cell_type": "code",
   "execution_count": 32,
   "metadata": {},
   "outputs": [
    {
     "data": {
      "text/plain": [
       "Coscolla Repetitive Genes    0.826087\n",
       "InsertionSeqs_And_Phages     0.625850\n",
       "NotExcluded                  0.996211\n",
       "PE/PPEs                      0.613095\n",
       "Name: ExcludedGroup_Category, dtype: float64"
      ]
     },
     "execution_count": 32,
     "metadata": {},
     "output_type": "execute_result"
    }
   ],
   "source": [
    "1 - (GLA_DF_Below97_EBR[\"ExcludedGroup_Category\"].value_counts() / GLA_DF[\"ExcludedGroup_Category\"].value_counts())"
   ]
  },
  {
   "cell_type": "code",
   "execution_count": null,
   "metadata": {},
   "outputs": [],
   "source": []
  },
  {
   "cell_type": "code",
   "execution_count": null,
   "metadata": {},
   "outputs": [],
   "source": []
  },
  {
   "cell_type": "code",
   "execution_count": null,
   "metadata": {},
   "outputs": [],
   "source": []
  },
  {
   "cell_type": "code",
   "execution_count": null,
   "metadata": {},
   "outputs": [],
   "source": []
  },
  {
   "cell_type": "markdown",
   "metadata": {},
   "source": [
    "## How many EBR < 1?"
   ]
  },
  {
   "cell_type": "code",
   "execution_count": 36,
   "metadata": {},
   "outputs": [
    {
     "data": {
      "text/plain": [
       "Coscolla Repetitive Genes    0.173913\n",
       "InsertionSeqs_And_Phages     0.374150\n",
       "NotExcluded                  0.003789\n",
       "PE/PPEs                      0.386905\n",
       "Name: ExcludedGroup_Category, dtype: float64"
      ]
     },
     "execution_count": 36,
     "metadata": {},
     "output_type": "execute_result"
    }
   ],
   "source": [
    "GLA_DF_Below97_EBR[\"ExcludedGroup_Category\"].value_counts() / GLA_DF[\"ExcludedGroup_Category\"].value_counts()"
   ]
  },
  {
   "cell_type": "markdown",
   "metadata": {},
   "source": [
    "## How many EBR == 1?"
   ]
  },
  {
   "cell_type": "code",
   "execution_count": 37,
   "metadata": {},
   "outputs": [
    {
     "data": {
      "text/plain": [
       "Coscolla Repetitive Genes    0.826087\n",
       "InsertionSeqs_And_Phages     0.625850\n",
       "NotExcluded                  0.996211\n",
       "PE/PPEs                      0.613095\n",
       "Name: ExcludedGroup_Category, dtype: float64"
      ]
     },
     "execution_count": 37,
     "metadata": {},
     "output_type": "execute_result"
    }
   ],
   "source": [
    "1 - (GLA_DF_Below97_EBR[\"ExcludedGroup_Category\"].value_counts() / GLA_DF[\"ExcludedGroup_Category\"].value_counts())"
   ]
  },
  {
   "cell_type": "code",
   "execution_count": null,
   "metadata": {},
   "outputs": [],
   "source": []
  },
  {
   "cell_type": "code",
   "execution_count": null,
   "metadata": {},
   "outputs": [],
   "source": []
  },
  {
   "cell_type": "code",
   "execution_count": null,
   "metadata": {},
   "outputs": [],
   "source": []
  },
  {
   "cell_type": "markdown",
   "metadata": {},
   "source": [
    "## B) Analysis of Gene-Level EBR across H37rv in all Functional Categories"
   ]
  },
  {
   "cell_type": "markdown",
   "metadata": {},
   "source": [
    "#### Determine plotting order based on median EBR-36CI"
   ]
  },
  {
   "cell_type": "code",
   "execution_count": 38,
   "metadata": {},
   "outputs": [],
   "source": [
    "H37rv_GeneCategories_SortByMean_EBR = list(GLA_DF.groupby(\"Functional_Category\").median().sort_values(\"Mean_EBR_36CI\", ascending=False).index)\n",
    "dictOf_NumGenes_GeneCategory = dict(GLA_DF[\"Functional_Category\"].value_counts())\n",
    "\n",
    "FunctionalGeneCat_Labels_SortByMeanEBR  = [ f\"{geneCat} (N={dictOf_NumGenes_GeneCategory[geneCat]})\"  for geneCat in H37rv_GeneCategories_SortByMean_EBR]"
   ]
  },
  {
   "cell_type": "code",
   "execution_count": 39,
   "metadata": {},
   "outputs": [
    {
     "data": {
      "text/plain": [
       "['cell wall and cell processes (N=772)',\n",
       " 'conserved hypotheticals (N=1042)',\n",
       " 'information pathways (N=242)',\n",
       " 'intermediary metabolism and respiration (N=936)',\n",
       " 'lipid metabolism (N=272)',\n",
       " 'regulatory proteins (N=198)',\n",
       " 'stable RNAs (N=48)',\n",
       " 'unknown (N=15)',\n",
       " 'virulence, detoxification, adaptation (N=239)',\n",
       " 'insertion seqs and phages (N=147)',\n",
       " 'PE/PPE (N=168)']"
      ]
     },
     "execution_count": 39,
     "metadata": {},
     "output_type": "execute_result"
    }
   ],
   "source": [
    "FunctionalGeneCat_Labels_SortByMeanEBR"
   ]
  },
  {
   "cell_type": "markdown",
   "metadata": {},
   "source": [
    "### Plotting EBR BoxPlots across MycoBrowser functional categories"
   ]
  },
  {
   "cell_type": "code",
   "execution_count": 40,
   "metadata": {},
   "outputs": [
    {
     "name": "stdout",
     "output_type": "stream",
     "text": [
      "mkdir: cannot create directory ‘./H37Rv_EBR_Pmap_GeneLevel_Plots/’: File exists\n"
     ]
    },
    {
     "data": {
      "image/png": "[encoded data removed]",
      "text/plain": [
       "<Figure size 576x432 with 1 Axes>"
      ]
     },
     "metadata": {
      "needs_background": "light"
     },
     "output_type": "display_data"
    }
   ],
   "source": [
    "fig, axs = plt.subplots(1, 1, figsize=(8, 6) ) #, sharex=True)\n",
    "\n",
    "sns.boxplot(y=\"Functional_Category\", x=\"Mean_EBR_36CI\",\n",
    "            data=GLA_DF, order = H37rv_GeneCategories_SortByMean_EBR,\n",
    "            whis=1.5,\n",
    "            fliersize = 2, ax = axs)\n",
    "\n",
    "axs.set_yticklabels(FunctionalGeneCat_Labels_SortByMeanEBR)\n",
    "axs.set(xlabel='Gene-level EBR', ylabel='')\n",
    "\n",
    "axs.set_xlim(0, 1.05)\n",
    "\n",
    "!mkdir ./H37Rv_EBR_Pmap_GeneLevel_Plots/\n",
    "\n",
    "Output_PNG_PATH = \"./H37Rv_EBR_Pmap_GeneLevel_Plots/SupFig3_EBR36_BoxPlots_GeneLevel_FunctionalCategories.png\"\n",
    "Output_PDF_PATH = \"./H37Rv_EBR_Pmap_GeneLevel_Plots/SupFig3_EBR36_BoxPlots_GeneLevel_FunctionalCategories.pdf\"\n",
    "\n",
    "plt.savefig(Output_PNG_PATH, bbox_inches='tight', dpi=125)\n",
    "plt.savefig(Output_PDF_PATH, bbox_inches='tight', transparent=True)\n",
    "plt.show()"
   ]
  },
  {
   "cell_type": "markdown",
   "metadata": {},
   "source": [
    "### Look at distribution statistics"
   ]
  },
  {
   "cell_type": "code",
   "execution_count": 41,
   "metadata": {},
   "outputs": [
    {
     "data": {
      "text/html": [
       "<div>\n",
       "<style scoped>\n",
       "    .dataframe tbody tr th:only-of-type {\n",
       "        vertical-align: middle;\n",
       "    }\n",
       "\n",
       "    .dataframe tbody tr th {\n",
       "        vertical-align: top;\n",
       "    }\n",
       "\n",
       "    .dataframe thead tr th {\n",
       "        text-align: left;\n",
       "    }\n",
       "\n",
       "    .dataframe thead tr:last-of-type th {\n",
       "        text-align: right;\n",
       "    }\n",
       "</style>\n",
       "<table border=\"1\" class=\"dataframe\">\n",
       "  <thead>\n",
       "    <tr>\n",
       "      <th></th>\n",
       "      <th colspan=\"8\" halign=\"left\">Mean_EBR_36CI</th>\n",
       "    </tr>\n",
       "    <tr>\n",
       "      <th></th>\n",
       "      <th>count</th>\n",
       "      <th>mean</th>\n",
       "      <th>std</th>\n",
       "      <th>min</th>\n",
       "      <th>25%</th>\n",
       "      <th>50%</th>\n",
       "      <th>75%</th>\n",
       "      <th>max</th>\n",
       "    </tr>\n",
       "    <tr>\n",
       "      <th>Functional_Category</th>\n",
       "      <th></th>\n",
       "      <th></th>\n",
       "      <th></th>\n",
       "      <th></th>\n",
       "      <th></th>\n",
       "      <th></th>\n",
       "      <th></th>\n",
       "      <th></th>\n",
       "    </tr>\n",
       "  </thead>\n",
       "  <tbody>\n",
       "    <tr>\n",
       "      <th>PE/PPE</th>\n",
       "      <td>166.0</td>\n",
       "      <td>0.941537</td>\n",
       "      <td>0.092322</td>\n",
       "      <td>0.498909</td>\n",
       "      <td>0.902590</td>\n",
       "      <td>0.995254</td>\n",
       "      <td>0.999832</td>\n",
       "      <td>1.0</td>\n",
       "    </tr>\n",
       "    <tr>\n",
       "      <th>cell wall and cell processes</th>\n",
       "      <td>772.0</td>\n",
       "      <td>0.998391</td>\n",
       "      <td>0.009688</td>\n",
       "      <td>0.833333</td>\n",
       "      <td>0.999684</td>\n",
       "      <td>1.000000</td>\n",
       "      <td>1.000000</td>\n",
       "      <td>1.0</td>\n",
       "    </tr>\n",
       "    <tr>\n",
       "      <th>conserved hypotheticals</th>\n",
       "      <td>1042.0</td>\n",
       "      <td>0.997513</td>\n",
       "      <td>0.029079</td>\n",
       "      <td>0.321186</td>\n",
       "      <td>0.999963</td>\n",
       "      <td>1.000000</td>\n",
       "      <td>1.000000</td>\n",
       "      <td>1.0</td>\n",
       "    </tr>\n",
       "    <tr>\n",
       "      <th>information pathways</th>\n",
       "      <td>242.0</td>\n",
       "      <td>0.998907</td>\n",
       "      <td>0.009895</td>\n",
       "      <td>0.850910</td>\n",
       "      <td>0.999933</td>\n",
       "      <td>1.000000</td>\n",
       "      <td>1.000000</td>\n",
       "      <td>1.0</td>\n",
       "    </tr>\n",
       "    <tr>\n",
       "      <th>insertion seqs and phages</th>\n",
       "      <td>133.0</td>\n",
       "      <td>0.850882</td>\n",
       "      <td>0.211970</td>\n",
       "      <td>0.296762</td>\n",
       "      <td>0.764706</td>\n",
       "      <td>0.997432</td>\n",
       "      <td>1.000000</td>\n",
       "      <td>1.0</td>\n",
       "    </tr>\n",
       "    <tr>\n",
       "      <th>intermediary metabolism and respiration</th>\n",
       "      <td>936.0</td>\n",
       "      <td>0.998192</td>\n",
       "      <td>0.025278</td>\n",
       "      <td>0.454969</td>\n",
       "      <td>0.999831</td>\n",
       "      <td>1.000000</td>\n",
       "      <td>1.000000</td>\n",
       "      <td>1.0</td>\n",
       "    </tr>\n",
       "    <tr>\n",
       "      <th>lipid metabolism</th>\n",
       "      <td>272.0</td>\n",
       "      <td>0.998422</td>\n",
       "      <td>0.010202</td>\n",
       "      <td>0.856586</td>\n",
       "      <td>0.999767</td>\n",
       "      <td>1.000000</td>\n",
       "      <td>1.000000</td>\n",
       "      <td>1.0</td>\n",
       "    </tr>\n",
       "    <tr>\n",
       "      <th>regulatory proteins</th>\n",
       "      <td>198.0</td>\n",
       "      <td>0.999617</td>\n",
       "      <td>0.001436</td>\n",
       "      <td>0.988682</td>\n",
       "      <td>1.000000</td>\n",
       "      <td>1.000000</td>\n",
       "      <td>1.000000</td>\n",
       "      <td>1.0</td>\n",
       "    </tr>\n",
       "    <tr>\n",
       "      <th>stable RNAs</th>\n",
       "      <td>48.0</td>\n",
       "      <td>0.998738</td>\n",
       "      <td>0.003999</td>\n",
       "      <td>0.980710</td>\n",
       "      <td>1.000000</td>\n",
       "      <td>1.000000</td>\n",
       "      <td>1.000000</td>\n",
       "      <td>1.0</td>\n",
       "    </tr>\n",
       "    <tr>\n",
       "      <th>unknown</th>\n",
       "      <td>15.0</td>\n",
       "      <td>0.998874</td>\n",
       "      <td>0.003219</td>\n",
       "      <td>0.987760</td>\n",
       "      <td>1.000000</td>\n",
       "      <td>1.000000</td>\n",
       "      <td>1.000000</td>\n",
       "      <td>1.0</td>\n",
       "    </tr>\n",
       "    <tr>\n",
       "      <th>virulence, detoxification, adaptation</th>\n",
       "      <td>239.0</td>\n",
       "      <td>0.999354</td>\n",
       "      <td>0.003044</td>\n",
       "      <td>0.972222</td>\n",
       "      <td>1.000000</td>\n",
       "      <td>1.000000</td>\n",
       "      <td>1.000000</td>\n",
       "      <td>1.0</td>\n",
       "    </tr>\n",
       "  </tbody>\n",
       "</table>\n",
       "</div>"
      ],
      "text/plain": [
       "                                        Mean_EBR_36CI                                                                 \n",
       "                                                count      mean       std       min       25%       50%       75%  max\n",
       "Functional_Category                                                                                                   \n",
       "PE/PPE                                          166.0  0.941537  0.092322  0.498909  0.902590  0.995254  0.999832  1.0\n",
       "cell wall and cell processes                    772.0  0.998391  0.009688  0.833333  0.999684  1.000000  1.000000  1.0\n",
       "conserved hypotheticals                        1042.0  0.997513  0.029079  0.321186  0.999963  1.000000  1.000000  1.0\n",
       "information pathways                            242.0  0.998907  0.009895  0.850910  0.999933  1.000000  1.000000  1.0\n",
       "insertion seqs and phages                       133.0  0.850882  0.211970  0.296762  0.764706  0.997432  1.000000  1.0\n",
       "intermediary metabolism and respiration         936.0  0.998192  0.025278  0.454969  0.999831  1.000000  1.000000  1.0\n",
       "lipid metabolism                                272.0  0.998422  0.010202  0.856586  0.999767  1.000000  1.000000  1.0\n",
       "regulatory proteins                             198.0  0.999617  0.001436  0.988682  1.000000  1.000000  1.000000  1.0\n",
       "stable RNAs                                      48.0  0.998738  0.003999  0.980710  1.000000  1.000000  1.000000  1.0\n",
       "unknown                                          15.0  0.998874  0.003219  0.987760  1.000000  1.000000  1.000000  1.0\n",
       "virulence, detoxification, adaptation           239.0  0.999354  0.003044  0.972222  1.000000  1.000000  1.000000  1.0"
      ]
     },
     "execution_count": 41,
     "metadata": {},
     "output_type": "execute_result"
    }
   ],
   "source": [
    "ColOfInterest = [\"Functional_Category\", \"Mean_EBR_36CI\"]\n",
    "\n",
    "GLA_DF[ColOfInterest].groupby(\"Functional_Category\").describe()"
   ]
  },
  {
   "cell_type": "code",
   "execution_count": null,
   "metadata": {},
   "outputs": [],
   "source": []
  },
  {
   "cell_type": "code",
   "execution_count": null,
   "metadata": {},
   "outputs": [],
   "source": []
  },
  {
   "cell_type": "code",
   "execution_count": 139,
   "metadata": {},
   "outputs": [
    {
     "data": {
      "text/plain": [
       "conserved hypotheticals                    1042\n",
       "intermediary metabolism and respiration     936\n",
       "cell wall and cell processes                772\n",
       "lipid metabolism                            272\n",
       "information pathways                        242\n",
       "virulence, detoxification, adaptation       239\n",
       "regulatory proteins                         198\n",
       "PE/PPE                                      168\n",
       "insertion seqs and phages                   147\n",
       "stable RNAs                                  48\n",
       "unknown                                      15\n",
       "Name: Functional_Category, dtype: int64"
      ]
     },
     "execution_count": 139,
     "metadata": {},
     "output_type": "execute_result"
    }
   ],
   "source": [
    "GLA_DF[\"Functional_Category\"].value_counts()"
   ]
  },
  {
   "cell_type": "code",
   "execution_count": null,
   "metadata": {},
   "outputs": [],
   "source": []
  },
  {
   "cell_type": "code",
   "execution_count": 42,
   "metadata": {},
   "outputs": [
    {
     "data": {
      "text/plain": [
       "PE/PPE                                     65\n",
       "insertion seqs and phages                  55\n",
       "cell wall and cell processes                7\n",
       "conserved hypotheticals                     7\n",
       "intermediary metabolism and respiration     6\n",
       "lipid metabolism                            4\n",
       "information pathways                        2\n",
       "Name: Functional_Category, dtype: int64"
      ]
     },
     "execution_count": 42,
     "metadata": {},
     "output_type": "execute_result"
    }
   ],
   "source": [
    "GLA_DF_Below97_EBR = GLA_DF[ GLA_DF[\"Mean_EBR_36CI\"] < 0.97]\n",
    "GLA_DF_Below97_EBR[\"Functional_Category\"].value_counts()"
   ]
  },
  {
   "cell_type": "code",
   "execution_count": 43,
   "metadata": {},
   "outputs": [
    {
     "data": {
      "text/plain": [
       "PE/PPE                                     0.386905\n",
       "cell wall and cell processes               0.009067\n",
       "conserved hypotheticals                    0.006718\n",
       "information pathways                       0.008264\n",
       "insertion seqs and phages                  0.374150\n",
       "intermediary metabolism and respiration    0.006410\n",
       "lipid metabolism                           0.014706\n",
       "regulatory proteins                             NaN\n",
       "stable RNAs                                     NaN\n",
       "unknown                                         NaN\n",
       "virulence, detoxification, adaptation           NaN\n",
       "Name: Functional_Category, dtype: float64"
      ]
     },
     "execution_count": 43,
     "metadata": {},
     "output_type": "execute_result"
    }
   ],
   "source": [
    "GLA_DF_Below97_EBR[\"Functional_Category\"].value_counts() / GLA_DF[\"Functional_Category\"].value_counts()"
   ]
  },
  {
   "cell_type": "code",
   "execution_count": null,
   "metadata": {},
   "outputs": [],
   "source": []
  },
  {
   "cell_type": "code",
   "execution_count": null,
   "metadata": {},
   "outputs": [],
   "source": []
  },
  {
   "cell_type": "markdown",
   "metadata": {},
   "source": [
    "# 2) Evaluation of Gene-Level Pileup Mappability (k=50, e=4)"
   ]
  },
  {
   "cell_type": "markdown",
   "metadata": {},
   "source": [
    "## A) Analysis of Gene-Level Pileup Mappability (k=50, e=4) across Excluded groups of genes + \"Not Excluded\" genes"
   ]
  },
  {
   "cell_type": "code",
   "execution_count": 44,
   "metadata": {},
   "outputs": [],
   "source": [
    "H37rv_ExcludedCategories_SortByMean_Pmap_K50E4 = list(GLA_DF.groupby(\"ExcludedGroup_Category\").mean().sort_values(\"Mean_EBR_36CI\", ascending=False).index)\n",
    "dictOf_NumGenes_ExcludedCategory = dict(GLA_DF[\"ExcludedGroup_Category\"].value_counts())\n",
    "\n",
    "ExcludedGeneCat_Labels_SortByMeanPmap_K50E4  = [ f\"{geneCat} (N={dictOf_NumGenes_ExcludedCategory[geneCat]})\"  for geneCat in H37rv_ExcludedCategories_SortByMean_Pmap_K50E4]"
   ]
  },
  {
   "cell_type": "code",
   "execution_count": 45,
   "metadata": {},
   "outputs": [
    {
     "name": "stdout",
     "output_type": "stream",
     "text": [
      "mkdir: cannot create directory ‘./H37Rv_EBR_Pmap_GeneLevel_Plots/’: File exists\n"
     ]
    },
    {
     "data": {
      "image/png": "[encoded data removed]",
      "text/plain": [
       "<Figure size 576x432 with 1 Axes>"
      ]
     },
     "metadata": {
      "needs_background": "light"
     },
     "output_type": "display_data"
    }
   ],
   "source": [
    "fig, axs = plt.subplots(1, 1, figsize=(8, 6) ) #, sharex=True)\n",
    "\n",
    "\n",
    "boxprops_V1 = dict( linewidth=0)\n",
    "flierprops_V1 = dict(marker='o', markerfacecolor='black', markersize=3.5, markeredgewidth = 0 , \n",
    "                  linestyle='none')\n",
    "\n",
    "\n",
    "sns.boxplot(y = \"ExcludedGroup_Category\", x = \"Mean_PileupMapScore_K50_E4\", width = 0.5,\n",
    "            data = GLA_DF, order = H37rv_ExcludedCategories_SortByMean_EBR,\n",
    "            whis = 1.5, ax = axs,\n",
    "            flierprops=flierprops_V1, boxprops = boxprops_V1)\n",
    "\n",
    "axs.set_yticklabels(ExcludedGeneCat_Labels_SortByMeanEBR)\n",
    "\n",
    "axs.set_xlim(0, 1.05)\n",
    "\n",
    "\n",
    "!mkdir ./H37Rv_EBR_Pmap_GeneLevel_Plots/\n",
    "\n",
    "Output_PNG_PATH = \"./H37Rv_EBR_Pmap_GeneLevel_Plots/Pmap_K50E4_BoxPlots_GeneLevel_pLC_vs_pHC_SetsOfGenes.png\"\n",
    "Output_SVG_PATH = \"./H37Rv_EBR_Pmap_GeneLevel_Plots/Pmap_K50E4_BoxPlots_GeneLevel_pLC_vs_pHC_SetsOfGenes.svg\"\n",
    "Output_PDF_PATH = \"./H37Rv_EBR_Pmap_GeneLevel_Plots/Pmap_K50E4_BoxPlots_GeneLevel_pLC_vs_pHC_SetsOfGenes.pdf\"\n",
    "\n",
    "plt.savefig(Output_PNG_PATH, bbox_inches='tight', dpi=125)\n",
    "plt.savefig(Output_SVG_PATH, bbox_inches='tight')\n",
    "plt.savefig(Output_PDF_PATH, bbox_inches='tight')\n",
    "\n",
    "plt.show()"
   ]
  },
  {
   "cell_type": "code",
   "execution_count": null,
   "metadata": {},
   "outputs": [],
   "source": []
  },
  {
   "cell_type": "code",
   "execution_count": 46,
   "metadata": {},
   "outputs": [
    {
     "data": {
      "text/html": [
       "<div>\n",
       "<style scoped>\n",
       "    .dataframe tbody tr th:only-of-type {\n",
       "        vertical-align: middle;\n",
       "    }\n",
       "\n",
       "    .dataframe tbody tr th {\n",
       "        vertical-align: top;\n",
       "    }\n",
       "\n",
       "    .dataframe thead tr th {\n",
       "        text-align: left;\n",
       "    }\n",
       "\n",
       "    .dataframe thead tr:last-of-type th {\n",
       "        text-align: right;\n",
       "    }\n",
       "</style>\n",
       "<table border=\"1\" class=\"dataframe\">\n",
       "  <thead>\n",
       "    <tr>\n",
       "      <th></th>\n",
       "      <th colspan=\"8\" halign=\"left\">Mean_PileupMapScore_K50_E4</th>\n",
       "    </tr>\n",
       "    <tr>\n",
       "      <th></th>\n",
       "      <th>count</th>\n",
       "      <th>mean</th>\n",
       "      <th>std</th>\n",
       "      <th>min</th>\n",
       "      <th>25%</th>\n",
       "      <th>50%</th>\n",
       "      <th>75%</th>\n",
       "      <th>max</th>\n",
       "    </tr>\n",
       "    <tr>\n",
       "      <th>ExcludedGroup_Category</th>\n",
       "      <th></th>\n",
       "      <th></th>\n",
       "      <th></th>\n",
       "      <th></th>\n",
       "      <th></th>\n",
       "      <th></th>\n",
       "      <th></th>\n",
       "      <th></th>\n",
       "    </tr>\n",
       "  </thead>\n",
       "  <tbody>\n",
       "    <tr>\n",
       "      <th>Coscolla Repetitive Genes</th>\n",
       "      <td>69.0</td>\n",
       "      <td>0.792742</td>\n",
       "      <td>0.248627</td>\n",
       "      <td>0.235077</td>\n",
       "      <td>0.626722</td>\n",
       "      <td>0.945926</td>\n",
       "      <td>0.990506</td>\n",
       "      <td>0.999879</td>\n",
       "    </tr>\n",
       "    <tr>\n",
       "      <th>InsertionSeqs_And_Phages</th>\n",
       "      <td>147.0</td>\n",
       "      <td>0.664344</td>\n",
       "      <td>0.385916</td>\n",
       "      <td>0.062500</td>\n",
       "      <td>0.193621</td>\n",
       "      <td>0.877863</td>\n",
       "      <td>1.000000</td>\n",
       "      <td>1.000000</td>\n",
       "    </tr>\n",
       "    <tr>\n",
       "      <th>NotExcluded</th>\n",
       "      <td>3695.0</td>\n",
       "      <td>0.998370</td>\n",
       "      <td>0.020730</td>\n",
       "      <td>0.286631</td>\n",
       "      <td>1.000000</td>\n",
       "      <td>1.000000</td>\n",
       "      <td>1.000000</td>\n",
       "      <td>1.000000</td>\n",
       "    </tr>\n",
       "    <tr>\n",
       "      <th>PE/PPEs</th>\n",
       "      <td>168.0</td>\n",
       "      <td>0.943995</td>\n",
       "      <td>0.114547</td>\n",
       "      <td>0.449548</td>\n",
       "      <td>0.967591</td>\n",
       "      <td>0.995771</td>\n",
       "      <td>1.000000</td>\n",
       "      <td>1.000000</td>\n",
       "    </tr>\n",
       "  </tbody>\n",
       "</table>\n",
       "</div>"
      ],
      "text/plain": [
       "                          Mean_PileupMapScore_K50_E4                                                                      \n",
       "                                               count      mean       std       min       25%       50%       75%       max\n",
       "ExcludedGroup_Category                                                                                                    \n",
       "Coscolla Repetitive Genes                       69.0  0.792742  0.248627  0.235077  0.626722  0.945926  0.990506  0.999879\n",
       "InsertionSeqs_And_Phages                       147.0  0.664344  0.385916  0.062500  0.193621  0.877863  1.000000  1.000000\n",
       "NotExcluded                                   3695.0  0.998370  0.020730  0.286631  1.000000  1.000000  1.000000  1.000000\n",
       "PE/PPEs                                        168.0  0.943995  0.114547  0.449548  0.967591  0.995771  1.000000  1.000000"
      ]
     },
     "execution_count": 46,
     "metadata": {},
     "output_type": "execute_result"
    }
   ],
   "source": [
    "ColOfInterest = [\"ExcludedGroup_Category\", \"Mean_PileupMapScore_K50_E4\"]\n",
    "\n",
    "GLA_DF[ColOfInterest].groupby(\"ExcludedGroup_Category\").describe()"
   ]
  },
  {
   "cell_type": "code",
   "execution_count": 47,
   "metadata": {},
   "outputs": [
    {
     "name": "stdout",
     "output_type": "stream",
     "text": [
      "mkdir: cannot create directory ‘./H37Rv_EBR_Pmap_GeneLevel_Plots/’: File exists\n"
     ]
    },
    {
     "data": {
      "image/png": "[encoded data removed]",
      "text/plain": [
       "<Figure size 432x432 with 1 Axes>"
      ]
     },
     "metadata": {
      "needs_background": "light"
     },
     "output_type": "display_data"
    }
   ],
   "source": [
    "fig, axs = plt.subplots(1, 1, figsize=(6, 6) ) #, sharex=True)\n",
    "\n",
    "\n",
    "boxprops_V1 = dict( linewidth=0)\n",
    "flierprops_V1 = dict(marker='o', markerfacecolor='black', markersize=3.5, markeredgewidth = 0 , \n",
    "                  linestyle='none')\n",
    "\n",
    "\n",
    "sns.boxplot(y = \"ExcludedGroup_Category\", x = \"Mean_PileupMapScore_K50_E4\", width = 0.5,\n",
    "            data = GLA_DF, order = H37rv_ExcludedCategories_SortByMean_EBR,\n",
    "            whis = 1.5, ax = axs, color = \"#E76754\",\n",
    "            flierprops=flierprops_V1, boxprops = boxprops_V1)\n",
    "\n",
    "axs.set_yticklabels(ExcludedGeneCat_Labels_SortByMeanEBR)\n",
    "\n",
    "axs.set_xlim(0, 1.05)\n",
    "\n",
    "\n",
    "!mkdir ./H37Rv_EBR_Pmap_GeneLevel_Plots/\n",
    "\n",
    "Output_PNG_PATH = \"./H37Rv_EBR_Pmap_GeneLevel_Plots/Pmap_K50E4_BoxPlots_GeneLevel_pLC_vs_pHC_SetsOfGenes.ColoredOrange.png\"\n",
    "Output_SVG_PATH = \"./H37Rv_EBR_Pmap_GeneLevel_Plots/Pmap_K50E4_BoxPlots_GeneLevel_pLC_vs_pHC_SetsOfGenes.ColoredOrange.svg\"\n",
    "Output_PDF_PATH = \"./H37Rv_EBR_Pmap_GeneLevel_Plots/Pmap_K50E4_BoxPlots_GeneLevel_pLC_vs_pHC_SetsOfGenes.ColoredOrange.pdf\"\n",
    "\n",
    "plt.savefig(Output_PNG_PATH, bbox_inches='tight', dpi=125)\n",
    "plt.savefig(Output_SVG_PATH, bbox_inches='tight')\n",
    "plt.savefig(Output_PDF_PATH, bbox_inches='tight')\n",
    "\n",
    "plt.show()"
   ]
  },
  {
   "cell_type": "code",
   "execution_count": null,
   "metadata": {},
   "outputs": [],
   "source": []
  },
  {
   "cell_type": "code",
   "execution_count": null,
   "metadata": {},
   "outputs": [],
   "source": []
  },
  {
   "cell_type": "code",
   "execution_count": null,
   "metadata": {},
   "outputs": [],
   "source": []
  },
  {
   "cell_type": "code",
   "execution_count": null,
   "metadata": {},
   "outputs": [],
   "source": []
  },
  {
   "cell_type": "code",
   "execution_count": null,
   "metadata": {},
   "outputs": [],
   "source": []
  },
  {
   "cell_type": "code",
   "execution_count": null,
   "metadata": {},
   "outputs": [],
   "source": []
  },
  {
   "cell_type": "code",
   "execution_count": null,
   "metadata": {},
   "outputs": [],
   "source": []
  },
  {
   "cell_type": "code",
   "execution_count": 48,
   "metadata": {},
   "outputs": [],
   "source": [
    "GLA_DF_Below1_Pmap_K50E4 = GLA_DF[ GLA_DF[\"Mean_PileupMapScore_K50_E4\"] < 1]"
   ]
  },
  {
   "cell_type": "code",
   "execution_count": 49,
   "metadata": {},
   "outputs": [
    {
     "data": {
      "text/plain": [
       "NotExcluded                  233\n",
       "PE/PPEs                      110\n",
       "InsertionSeqs_And_Phages      99\n",
       "Coscolla Repetitive Genes     69\n",
       "Name: ExcludedGroup_Category, dtype: int64"
      ]
     },
     "execution_count": 49,
     "metadata": {},
     "output_type": "execute_result"
    }
   ],
   "source": [
    "GLA_DF_Below1_Pmap_K50E4[\"ExcludedGroup_Category\"].value_counts()"
   ]
  },
  {
   "cell_type": "code",
   "execution_count": 50,
   "metadata": {},
   "outputs": [
    {
     "data": {
      "text/plain": [
       "NotExcluded                  0.063058\n",
       "PE/PPEs                      0.654762\n",
       "InsertionSeqs_And_Phages     0.673469\n",
       "Coscolla Repetitive Genes    1.000000\n",
       "Name: ExcludedGroup_Category, dtype: float64"
      ]
     },
     "execution_count": 50,
     "metadata": {},
     "output_type": "execute_result"
    }
   ],
   "source": [
    "GLA_DF_Below1_Pmap_K50E4[\"ExcludedGroup_Category\"].value_counts() / GLA_DF[\"ExcludedGroup_Category\"].value_counts()"
   ]
  },
  {
   "cell_type": "code",
   "execution_count": null,
   "metadata": {},
   "outputs": [],
   "source": []
  },
  {
   "cell_type": "code",
   "execution_count": 51,
   "metadata": {},
   "outputs": [
    {
     "data": {
      "text/plain": [
       "Coscolla Repetitive Genes         NaN\n",
       "InsertionSeqs_And_Phages     0.326531\n",
       "NotExcluded                  0.936942\n",
       "PE/PPEs                      0.345238\n",
       "Name: ExcludedGroup_Category, dtype: float64"
      ]
     },
     "execution_count": 51,
     "metadata": {},
     "output_type": "execute_result"
    }
   ],
   "source": [
    "GLA_DF[ GLA_DF[\"Mean_PileupMapScore_K50_E4\"] >= 1][\"ExcludedGroup_Category\"].value_counts() / GLA_DF[\"ExcludedGroup_Category\"].value_counts()"
   ]
  },
  {
   "cell_type": "code",
   "execution_count": null,
   "metadata": {},
   "outputs": [],
   "source": []
  },
  {
   "cell_type": "code",
   "execution_count": null,
   "metadata": {},
   "outputs": [],
   "source": []
  },
  {
   "cell_type": "markdown",
   "metadata": {},
   "source": [
    "## B) Analysis of Gene-Level Pileup Mappability (k=50, e=4) across H37rv in all Functional Categories"
   ]
  },
  {
   "cell_type": "code",
   "execution_count": 52,
   "metadata": {},
   "outputs": [],
   "source": [
    "H37rv_GeneCategories_SortByMean_Pmap_K50E4 = list(GLA_DF.groupby(\"Functional_Category\").median().sort_values(\"Mean_PileupMapScore_K50_E4\", ascending=False).index)          \n",
    "dictOf_NumGenes_GeneCategory = dict(GLA_DF[\"Functional_Category\"].value_counts())\n",
    "\n",
    "\n",
    "FunctionalGeneCat_Labels_SortByMeanPmap_K50E4 = [ f\"{geneCat} (N={dictOf_NumGenes_GeneCategory[geneCat]})\"  for geneCat in H37rv_GeneCategories_SortByMean_Pmap_K50E4]"
   ]
  },
  {
   "cell_type": "code",
   "execution_count": 53,
   "metadata": {},
   "outputs": [],
   "source": [
    "#H37rv_GeneCategories_SortByMedian_Pmap_K50E4"
   ]
  },
  {
   "cell_type": "code",
   "execution_count": 54,
   "metadata": {},
   "outputs": [
    {
     "name": "stdout",
     "output_type": "stream",
     "text": [
      "mkdir: cannot create directory ‘./H37Rv_EBR_Pmap_GeneLevel_Plots/’: File exists\n"
     ]
    },
    {
     "data": {
      "image/png": "[encoded data removed]",
      "text/plain": [
       "<Figure size 576x432 with 1 Axes>"
      ]
     },
     "metadata": {
      "needs_background": "light"
     },
     "output_type": "display_data"
    }
   ],
   "source": [
    "fig, axs = plt.subplots(1, 1, figsize=(8, 6) ) #, sharex=True)\n",
    "\n",
    "sns.boxplot(y=\"Functional_Category\", x=\"Mean_PileupMapScore_K50_E4\",\n",
    "            data=GLA_DF, order = H37rv_GeneCategories_SortByMean_Pmap_K50E4,\n",
    "            whis=1.5,\n",
    "            fliersize = 2, ax = axs)\n",
    "\n",
    "axs.set_yticklabels(FunctionalGeneCat_Labels_SortByMeanPmap_K50E4)\n",
    "axs.set_xlim(0, 1.05)\n",
    "\n",
    "\n",
    "axs.set(xlabel='Gene-level Pilup Mappability (K50E4)', ylabel='')\n",
    "\n",
    "!mkdir ./H37Rv_EBR_Pmap_GeneLevel_Plots/\n",
    "Output_PDF_PATH = \"./H37Rv_EBR_Pmap_GeneLevel_Plots/SupFig4_Pmap_K50E4_BoxPlots_GeneLevel_FunctionalCategories.pdf\"\n",
    "Output_PNG_PATH = \"./H37Rv_EBR_Pmap_GeneLevel_Plots/SupFig4_Pmap_K50E4_BoxPlots_GeneLevel_FunctionalCategories.png\"\n",
    "\n",
    "plt.savefig(Output_PDF_PATH, bbox_inches='tight')\n",
    "plt.savefig(Output_PNG_PATH, bbox_inches='tight', dpi=75)\n",
    "plt.show()"
   ]
  },
  {
   "cell_type": "code",
   "execution_count": 55,
   "metadata": {},
   "outputs": [
    {
     "data": {
      "text/html": [
       "<div>\n",
       "<style scoped>\n",
       "    .dataframe tbody tr th:only-of-type {\n",
       "        vertical-align: middle;\n",
       "    }\n",
       "\n",
       "    .dataframe tbody tr th {\n",
       "        vertical-align: top;\n",
       "    }\n",
       "\n",
       "    .dataframe thead tr th {\n",
       "        text-align: left;\n",
       "    }\n",
       "\n",
       "    .dataframe thead tr:last-of-type th {\n",
       "        text-align: right;\n",
       "    }\n",
       "</style>\n",
       "<table border=\"1\" class=\"dataframe\">\n",
       "  <thead>\n",
       "    <tr>\n",
       "      <th></th>\n",
       "      <th colspan=\"8\" halign=\"left\">Mean_PileupMapScore_K50_E4</th>\n",
       "    </tr>\n",
       "    <tr>\n",
       "      <th></th>\n",
       "      <th>count</th>\n",
       "      <th>mean</th>\n",
       "      <th>std</th>\n",
       "      <th>min</th>\n",
       "      <th>25%</th>\n",
       "      <th>50%</th>\n",
       "      <th>75%</th>\n",
       "      <th>max</th>\n",
       "    </tr>\n",
       "    <tr>\n",
       "      <th>Functional_Category</th>\n",
       "      <th></th>\n",
       "      <th></th>\n",
       "      <th></th>\n",
       "      <th></th>\n",
       "      <th></th>\n",
       "      <th></th>\n",
       "      <th></th>\n",
       "      <th></th>\n",
       "    </tr>\n",
       "  </thead>\n",
       "  <tbody>\n",
       "    <tr>\n",
       "      <th>PE/PPE</th>\n",
       "      <td>168.0</td>\n",
       "      <td>0.943995</td>\n",
       "      <td>0.114547</td>\n",
       "      <td>0.449548</td>\n",
       "      <td>0.967591</td>\n",
       "      <td>0.995771</td>\n",
       "      <td>1.0</td>\n",
       "      <td>1.0</td>\n",
       "    </tr>\n",
       "    <tr>\n",
       "      <th>cell wall and cell processes</th>\n",
       "      <td>772.0</td>\n",
       "      <td>0.988272</td>\n",
       "      <td>0.083071</td>\n",
       "      <td>0.235077</td>\n",
       "      <td>1.000000</td>\n",
       "      <td>1.000000</td>\n",
       "      <td>1.0</td>\n",
       "      <td>1.0</td>\n",
       "    </tr>\n",
       "    <tr>\n",
       "      <th>conserved hypotheticals</th>\n",
       "      <td>1042.0</td>\n",
       "      <td>0.994928</td>\n",
       "      <td>0.040174</td>\n",
       "      <td>0.340979</td>\n",
       "      <td>1.000000</td>\n",
       "      <td>1.000000</td>\n",
       "      <td>1.0</td>\n",
       "      <td>1.0</td>\n",
       "    </tr>\n",
       "    <tr>\n",
       "      <th>information pathways</th>\n",
       "      <td>242.0</td>\n",
       "      <td>0.998866</td>\n",
       "      <td>0.009816</td>\n",
       "      <td>0.891248</td>\n",
       "      <td>1.000000</td>\n",
       "      <td>1.000000</td>\n",
       "      <td>1.0</td>\n",
       "      <td>1.0</td>\n",
       "    </tr>\n",
       "    <tr>\n",
       "      <th>insertion seqs and phages</th>\n",
       "      <td>147.0</td>\n",
       "      <td>0.664344</td>\n",
       "      <td>0.385916</td>\n",
       "      <td>0.062500</td>\n",
       "      <td>0.193621</td>\n",
       "      <td>0.877863</td>\n",
       "      <td>1.0</td>\n",
       "      <td>1.0</td>\n",
       "    </tr>\n",
       "    <tr>\n",
       "      <th>intermediary metabolism and respiration</th>\n",
       "      <td>936.0</td>\n",
       "      <td>0.997304</td>\n",
       "      <td>0.031769</td>\n",
       "      <td>0.501631</td>\n",
       "      <td>1.000000</td>\n",
       "      <td>1.000000</td>\n",
       "      <td>1.0</td>\n",
       "      <td>1.0</td>\n",
       "    </tr>\n",
       "    <tr>\n",
       "      <th>lipid metabolism</th>\n",
       "      <td>272.0</td>\n",
       "      <td>0.994525</td>\n",
       "      <td>0.030422</td>\n",
       "      <td>0.645403</td>\n",
       "      <td>1.000000</td>\n",
       "      <td>1.000000</td>\n",
       "      <td>1.0</td>\n",
       "      <td>1.0</td>\n",
       "    </tr>\n",
       "    <tr>\n",
       "      <th>regulatory proteins</th>\n",
       "      <td>198.0</td>\n",
       "      <td>0.999924</td>\n",
       "      <td>0.000514</td>\n",
       "      <td>0.993769</td>\n",
       "      <td>1.000000</td>\n",
       "      <td>1.000000</td>\n",
       "      <td>1.0</td>\n",
       "      <td>1.0</td>\n",
       "    </tr>\n",
       "    <tr>\n",
       "      <th>stable RNAs</th>\n",
       "      <td>48.0</td>\n",
       "      <td>0.996964</td>\n",
       "      <td>0.014716</td>\n",
       "      <td>0.927126</td>\n",
       "      <td>1.000000</td>\n",
       "      <td>1.000000</td>\n",
       "      <td>1.0</td>\n",
       "      <td>1.0</td>\n",
       "    </tr>\n",
       "    <tr>\n",
       "      <th>unknown</th>\n",
       "      <td>15.0</td>\n",
       "      <td>0.998716</td>\n",
       "      <td>0.004974</td>\n",
       "      <td>0.980734</td>\n",
       "      <td>1.000000</td>\n",
       "      <td>1.000000</td>\n",
       "      <td>1.0</td>\n",
       "      <td>1.0</td>\n",
       "    </tr>\n",
       "    <tr>\n",
       "      <th>virulence, detoxification, adaptation</th>\n",
       "      <td>239.0</td>\n",
       "      <td>0.993655</td>\n",
       "      <td>0.039822</td>\n",
       "      <td>0.595594</td>\n",
       "      <td>1.000000</td>\n",
       "      <td>1.000000</td>\n",
       "      <td>1.0</td>\n",
       "      <td>1.0</td>\n",
       "    </tr>\n",
       "  </tbody>\n",
       "</table>\n",
       "</div>"
      ],
      "text/plain": [
       "                                        Mean_PileupMapScore_K50_E4                                                            \n",
       "                                                             count      mean       std       min       25%       50%  75%  max\n",
       "Functional_Category                                                                                                           \n",
       "PE/PPE                                                       168.0  0.943995  0.114547  0.449548  0.967591  0.995771  1.0  1.0\n",
       "cell wall and cell processes                                 772.0  0.988272  0.083071  0.235077  1.000000  1.000000  1.0  1.0\n",
       "conserved hypotheticals                                     1042.0  0.994928  0.040174  0.340979  1.000000  1.000000  1.0  1.0\n",
       "information pathways                                         242.0  0.998866  0.009816  0.891248  1.000000  1.000000  1.0  1.0\n",
       "insertion seqs and phages                                    147.0  0.664344  0.385916  0.062500  0.193621  0.877863  1.0  1.0\n",
       "intermediary metabolism and respiration                      936.0  0.997304  0.031769  0.501631  1.000000  1.000000  1.0  1.0\n",
       "lipid metabolism                                             272.0  0.994525  0.030422  0.645403  1.000000  1.000000  1.0  1.0\n",
       "regulatory proteins                                          198.0  0.999924  0.000514  0.993769  1.000000  1.000000  1.0  1.0\n",
       "stable RNAs                                                   48.0  0.996964  0.014716  0.927126  1.000000  1.000000  1.0  1.0\n",
       "unknown                                                       15.0  0.998716  0.004974  0.980734  1.000000  1.000000  1.0  1.0\n",
       "virulence, detoxification, adaptation                        239.0  0.993655  0.039822  0.595594  1.000000  1.000000  1.0  1.0"
      ]
     },
     "execution_count": 55,
     "metadata": {},
     "output_type": "execute_result"
    }
   ],
   "source": [
    "ColOfInterest = [\"Functional_Category\", \"Mean_PileupMapScore_K50_E4\"]\n",
    "\n",
    "GLA_DF[ColOfInterest].groupby(\"Functional_Category\").describe()"
   ]
  },
  {
   "cell_type": "code",
   "execution_count": null,
   "metadata": {},
   "outputs": [],
   "source": []
  },
  {
   "cell_type": "code",
   "execution_count": 56,
   "metadata": {},
   "outputs": [],
   "source": [
    "GLA_DF_Below1_Pmap_K50E4 = GLA_DF[ GLA_DF[\"Mean_PileupMapScore_K50_E4\"] < 1]"
   ]
  },
  {
   "cell_type": "code",
   "execution_count": 57,
   "metadata": {},
   "outputs": [
    {
     "data": {
      "text/plain": [
       "PE/PPE                                     110\n",
       "insertion seqs and phages                   99\n",
       "intermediary metabolism and respiration     73\n",
       "conserved hypotheticals                     68\n",
       "cell wall and cell processes                63\n",
       "lipid metabolism                            46\n",
       "virulence, detoxification, adaptation       26\n",
       "information pathways                        13\n",
       "regulatory proteins                         10\n",
       "stable RNAs                                  2\n",
       "unknown                                      1\n",
       "Name: Functional_Category, dtype: int64"
      ]
     },
     "execution_count": 57,
     "metadata": {},
     "output_type": "execute_result"
    }
   ],
   "source": [
    "GLA_DF_Below1_Pmap_K50E4[\"Functional_Category\"].value_counts()"
   ]
  },
  {
   "cell_type": "code",
   "execution_count": 58,
   "metadata": {},
   "outputs": [
    {
     "data": {
      "text/plain": [
       "PE/PPE                                     0.654762\n",
       "cell wall and cell processes               0.081606\n",
       "conserved hypotheticals                    0.065259\n",
       "information pathways                       0.053719\n",
       "insertion seqs and phages                  0.673469\n",
       "intermediary metabolism and respiration    0.077991\n",
       "lipid metabolism                           0.169118\n",
       "regulatory proteins                        0.050505\n",
       "stable RNAs                                0.041667\n",
       "unknown                                    0.066667\n",
       "virulence, detoxification, adaptation      0.108787\n",
       "Name: Functional_Category, dtype: float64"
      ]
     },
     "execution_count": 58,
     "metadata": {},
     "output_type": "execute_result"
    }
   ],
   "source": [
    "GLA_DF_Below1_Pmap_K50E4[\"Functional_Category\"].value_counts() / GLA_DF[\"Functional_Category\"].value_counts()"
   ]
  },
  {
   "cell_type": "code",
   "execution_count": null,
   "metadata": {},
   "outputs": [],
   "source": []
  },
  {
   "cell_type": "code",
   "execution_count": null,
   "metadata": {},
   "outputs": [],
   "source": []
  },
  {
   "cell_type": "code",
   "execution_count": null,
   "metadata": {},
   "outputs": [],
   "source": []
  },
  {
   "cell_type": "code",
   "execution_count": null,
   "metadata": {},
   "outputs": [],
   "source": []
  },
  {
   "cell_type": "markdown",
   "metadata": {},
   "source": [
    "# 3) Plot the distribution of gene-level EBR and Pmap scores across PLC and non-PLC genes"
   ]
  },
  {
   "cell_type": "markdown",
   "metadata": {},
   "source": [
    "### https://matplotlib.org/api/_as_gen/matplotlib.axes.Axes.boxplot.html#matplotlib.axes.Axes.boxplot"
   ]
  },
  {
   "cell_type": "code",
   "execution_count": null,
   "metadata": {},
   "outputs": [],
   "source": []
  },
  {
   "cell_type": "code",
   "execution_count": 59,
   "metadata": {},
   "outputs": [
    {
     "name": "stdout",
     "output_type": "stream",
     "text": [
      "mkdir: cannot create directory ‘./H37Rv_EBR_Pmap_GeneLevel_Plots/’: File exists\n"
     ]
    },
    {
     "data": {
      "image/png": "[encoded data removed]",
      "text/plain": [
       "<Figure size 1008x432 with 2 Axes>"
      ]
     },
     "metadata": {
      "needs_background": "light"
     },
     "output_type": "display_data"
    }
   ],
   "source": [
    "fig, axs = plt.subplots(1, 2, figsize=(14, 6) , sharey=True)\n",
    "\n",
    "\n",
    "boxprops_V1 = dict( linewidth=0)\n",
    "flierprops_V1 = dict(marker='o', markerfacecolor='black', markersize=3.5, markeredgewidth = 0 , \n",
    "                  linestyle='none')\n",
    "\n",
    "whiskerprops_V1 = dict(color=\"black\")\n",
    "\n",
    "\n",
    "Box_Width = 0.5\n",
    "\n",
    "\n",
    "sns.boxplot(y = \"ExcludedGroup_Category\", x = \"Mean_EBR_36CI\", width = Box_Width,\n",
    "            data = GLA_DF, order = H37rv_ExcludedCategories_SortByMean_EBR,\n",
    "            whis = 1.5,\n",
    "            fliersize = 2, ax = axs[0], boxprops = boxprops_V1, flierprops = flierprops_V1, whiskerprops = whiskerprops_V1)\n",
    "\n",
    "\n",
    "axs[0].set(xlabel='Gene-level EBR', ylabel='')\n",
    "axs[0].set_xlim(0, 1.05)\n",
    "\n",
    "#axs[0].set_yticklabels(ExcludedGeneCat_Labels_SortByMeanPmap_K50E4)\n",
    "\n",
    "\n",
    "\n",
    "sns.boxplot(y = \"ExcludedGroup_Category\", x = \"Mean_PileupMapScore_K50_E4\", width = Box_Width,\n",
    "            data = GLA_DF, order = H37rv_ExcludedCategories_SortByMean_EBR,\n",
    "            whis = 1.5, \n",
    "            fliersize = 2, ax = axs[1], boxprops = boxprops_V1, flierprops = flierprops_V1, whiskerprops = whiskerprops_V1)\n",
    "\n",
    "axs[1].set(xlabel='Gene-level Pilup Mappability (K50E4)', ylabel='')\n",
    "axs[1].set_xlim(0, 1.05)\n",
    "\n",
    "#axs[1].set_yticklabels(ExcludedGeneCat_Labels_SortByMeanPmap_K50E4)\n",
    "\n",
    "\n",
    "\n",
    "#axs[0].xaxis.grid(True)\n",
    "#axs[1].xaxis.grid(True)\n",
    "\n",
    "\n",
    "\n",
    "!mkdir ./H37Rv_EBR_Pmap_GeneLevel_Plots/\n",
    "\n",
    "Output_PDF_PATH = \"./H37Rv_EBR_Pmap_GeneLevel_Plots/Fig3b_EBR36_And_Pmap_K50E4_BoxPlots_GeneLevel_pLC_vs_pHC_SetsOfGenes_SideBySide.pdf\"\n",
    "Output_SVG_PATH = \"./H37Rv_EBR_Pmap_GeneLevel_Plots/Fig3b_EBR36_And_Pmap_K50E4_BoxPlots_GeneLevel_pLC_vs_pHC_SetsOfGenes_SideBySide.svg\"\n",
    "Output_PNG_PATH = \"./H37Rv_EBR_Pmap_GeneLevel_Plots/Fig3b_EBR36_And_Pmap_K50E4_BoxPlots_GeneLevel_pLC_vs_pHC_SetsOfGenes_SideBySide.png\"\n",
    "\n",
    "plt.savefig(Output_PNG_PATH, bbox_inches='tight', dpi=125)\n",
    "plt.savefig(Output_SVG_PATH, bbox_inches='tight')\n",
    "plt.savefig(Output_PDF_PATH, bbox_inches='tight')\n",
    "\n",
    "plt.show()\n"
   ]
  },
  {
   "cell_type": "code",
   "execution_count": 60,
   "metadata": {},
   "outputs": [
    {
     "name": "stdout",
     "output_type": "stream",
     "text": [
      "mkdir: cannot create directory ‘./H37Rv_EBR_Pmap_GeneLevel_Plots/’: File exists\n"
     ]
    },
    {
     "data": {
      "image/png": "[encoded data removed]",
      "text/plain": [
       "<Figure size 1008x432 with 2 Axes>"
      ]
     },
     "metadata": {
      "needs_background": "light"
     },
     "output_type": "display_data"
    }
   ],
   "source": [
    "fig, axs = plt.subplots(1, 2, figsize=(14, 6) , sharey=True)\n",
    "\n",
    "\n",
    "boxprops_V1 = dict( linewidth=0)\n",
    "flierprops_V1 = dict(marker='o', markerfacecolor='black', markersize=3.5, markeredgewidth = 0 , \n",
    "                  linestyle='none')\n",
    "\n",
    "whiskerprops_V1 = dict(color=\"black\")\n",
    "\n",
    "\n",
    "Box_Width = 0.5\n",
    "\n",
    "\n",
    "sns.boxplot(y = \"ExcludedGroup_Category\", x = \"Mean_EBR_36CI\", width = Box_Width,\n",
    "            data = GLA_DF, order = H37rv_ExcludedCategories_SortByMean_EBR,\n",
    "            whis = 1.5, color = \"#3A4C92\",\n",
    "            fliersize = 2, ax = axs[0], boxprops = boxprops_V1, flierprops = flierprops_V1, whiskerprops = whiskerprops_V1)\n",
    "\n",
    "\n",
    "axs[0].set(xlabel='Gene-level EBR', ylabel='')\n",
    "axs[0].set_xlim(0, 1.05)\n",
    "\n",
    "#axs[0].set_yticklabels(ExcludedGeneCat_Labels_SortByMeanPmap_K50E4)\n",
    "\n",
    "\n",
    "\n",
    "sns.boxplot(y = \"ExcludedGroup_Category\", x = \"Mean_PileupMapScore_K50_E4\", width = Box_Width,\n",
    "            data = GLA_DF, order = H37rv_ExcludedCategories_SortByMean_EBR,\n",
    "            whis = 1.5, color = \"#E76754\",\n",
    "            fliersize = 2, ax = axs[1], boxprops = boxprops_V1, flierprops = flierprops_V1, whiskerprops = whiskerprops_V1)\n",
    "\n",
    "axs[1].set(xlabel='Gene-level Pilup Mappability (K50E4)', ylabel='')\n",
    "axs[1].set_xlim(0, 1.05)\n",
    "\n",
    "#axs[1].set_yticklabels(ExcludedGeneCat_Labels_SortByMeanPmap_K50E4)\n",
    "\n",
    "\n",
    "\n",
    "#axs[0].xaxis.grid(True)\n",
    "#axs[1].xaxis.grid(True)\n",
    "\n",
    "\n",
    "\n",
    "!mkdir ./H37Rv_EBR_Pmap_GeneLevel_Plots/\n",
    "\n",
    "Output_PDF_PATH = \"./H37Rv_EBR_Pmap_GeneLevel_Plots/Fig3b_EBR36_And_Pmap_K50E4_BoxPlots_GeneLevel_pLC_vs_pHC_SetsOfGenes_SideBySide.ColoredBlueOrange.pdf\"\n",
    "Output_SVG_PATH = \"./H37Rv_EBR_Pmap_GeneLevel_Plots/Fig3b_EBR36_And_Pmap_K50E4_BoxPlots_GeneLevel_pLC_vs_pHC_SetsOfGenes_SideBySide.ColoredBlueOrange.svg\"\n",
    "Output_PNG_PATH = \"./H37Rv_EBR_Pmap_GeneLevel_Plots/Fig3b_EBR36_And_Pmap_K50E4_BoxPlots_GeneLevel_pLC_vs_pHC_SetsOfGenes_SideBySide.ColoredBlueOrange.png\"\n",
    "\n",
    "plt.savefig(Output_PNG_PATH, bbox_inches='tight', dpi=125)\n",
    "plt.savefig(Output_SVG_PATH, bbox_inches='tight')\n",
    "plt.savefig(Output_PDF_PATH, bbox_inches='tight')\n",
    "\n",
    "plt.show()\n"
   ]
  },
  {
   "cell_type": "code",
   "execution_count": 61,
   "metadata": {},
   "outputs": [
    {
     "data": {
      "text/html": [
       "<div>\n",
       "<style scoped>\n",
       "    .dataframe tbody tr th:only-of-type {\n",
       "        vertical-align: middle;\n",
       "    }\n",
       "\n",
       "    .dataframe tbody tr th {\n",
       "        vertical-align: top;\n",
       "    }\n",
       "\n",
       "    .dataframe thead tr th {\n",
       "        text-align: left;\n",
       "    }\n",
       "\n",
       "    .dataframe thead tr:last-of-type th {\n",
       "        text-align: right;\n",
       "    }\n",
       "</style>\n",
       "<table border=\"1\" class=\"dataframe\">\n",
       "  <thead>\n",
       "    <tr>\n",
       "      <th></th>\n",
       "      <th colspan=\"8\" halign=\"left\">Mean_EBR_36CI</th>\n",
       "    </tr>\n",
       "    <tr>\n",
       "      <th></th>\n",
       "      <th>count</th>\n",
       "      <th>mean</th>\n",
       "      <th>std</th>\n",
       "      <th>min</th>\n",
       "      <th>25%</th>\n",
       "      <th>50%</th>\n",
       "      <th>75%</th>\n",
       "      <th>max</th>\n",
       "    </tr>\n",
       "    <tr>\n",
       "      <th>ExcludedGroup_Category</th>\n",
       "      <th></th>\n",
       "      <th></th>\n",
       "      <th></th>\n",
       "      <th></th>\n",
       "      <th></th>\n",
       "      <th></th>\n",
       "      <th></th>\n",
       "      <th></th>\n",
       "    </tr>\n",
       "  </thead>\n",
       "  <tbody>\n",
       "    <tr>\n",
       "      <th>Coscolla Repetitive Genes</th>\n",
       "      <td>69.0</td>\n",
       "      <td>0.965902</td>\n",
       "      <td>0.110154</td>\n",
       "      <td>0.321186</td>\n",
       "      <td>0.985867</td>\n",
       "      <td>0.997436</td>\n",
       "      <td>0.999639</td>\n",
       "      <td>1.0</td>\n",
       "    </tr>\n",
       "    <tr>\n",
       "      <th>InsertionSeqs_And_Phages</th>\n",
       "      <td>133.0</td>\n",
       "      <td>0.850882</td>\n",
       "      <td>0.211970</td>\n",
       "      <td>0.296762</td>\n",
       "      <td>0.764706</td>\n",
       "      <td>0.997432</td>\n",
       "      <td>1.000000</td>\n",
       "      <td>1.0</td>\n",
       "    </tr>\n",
       "    <tr>\n",
       "      <th>NotExcluded</th>\n",
       "      <td>3695.0</td>\n",
       "      <td>0.998870</td>\n",
       "      <td>0.013844</td>\n",
       "      <td>0.454969</td>\n",
       "      <td>0.999906</td>\n",
       "      <td>1.000000</td>\n",
       "      <td>1.000000</td>\n",
       "      <td>1.0</td>\n",
       "    </tr>\n",
       "    <tr>\n",
       "      <th>PE/PPEs</th>\n",
       "      <td>166.0</td>\n",
       "      <td>0.941537</td>\n",
       "      <td>0.092322</td>\n",
       "      <td>0.498909</td>\n",
       "      <td>0.902590</td>\n",
       "      <td>0.995254</td>\n",
       "      <td>0.999832</td>\n",
       "      <td>1.0</td>\n",
       "    </tr>\n",
       "  </tbody>\n",
       "</table>\n",
       "</div>"
      ],
      "text/plain": [
       "                          Mean_EBR_36CI                                                                 \n",
       "                                  count      mean       std       min       25%       50%       75%  max\n",
       "ExcludedGroup_Category                                                                                  \n",
       "Coscolla Repetitive Genes          69.0  0.965902  0.110154  0.321186  0.985867  0.997436  0.999639  1.0\n",
       "InsertionSeqs_And_Phages          133.0  0.850882  0.211970  0.296762  0.764706  0.997432  1.000000  1.0\n",
       "NotExcluded                      3695.0  0.998870  0.013844  0.454969  0.999906  1.000000  1.000000  1.0\n",
       "PE/PPEs                           166.0  0.941537  0.092322  0.498909  0.902590  0.995254  0.999832  1.0"
      ]
     },
     "execution_count": 61,
     "metadata": {},
     "output_type": "execute_result"
    }
   ],
   "source": [
    "ColOfInterest = [\"ExcludedGroup_Category\", \"Mean_EBR_36CI\"]\n",
    "\n",
    "GLA_DF[ColOfInterest].groupby(\"ExcludedGroup_Category\").describe()"
   ]
  },
  {
   "cell_type": "code",
   "execution_count": 62,
   "metadata": {},
   "outputs": [
    {
     "data": {
      "text/html": [
       "<div>\n",
       "<style scoped>\n",
       "    .dataframe tbody tr th:only-of-type {\n",
       "        vertical-align: middle;\n",
       "    }\n",
       "\n",
       "    .dataframe tbody tr th {\n",
       "        vertical-align: top;\n",
       "    }\n",
       "\n",
       "    .dataframe thead tr th {\n",
       "        text-align: left;\n",
       "    }\n",
       "\n",
       "    .dataframe thead tr:last-of-type th {\n",
       "        text-align: right;\n",
       "    }\n",
       "</style>\n",
       "<table border=\"1\" class=\"dataframe\">\n",
       "  <thead>\n",
       "    <tr>\n",
       "      <th></th>\n",
       "      <th colspan=\"8\" halign=\"left\">Mean_PileupMapScore_K50_E4</th>\n",
       "    </tr>\n",
       "    <tr>\n",
       "      <th></th>\n",
       "      <th>count</th>\n",
       "      <th>mean</th>\n",
       "      <th>std</th>\n",
       "      <th>min</th>\n",
       "      <th>25%</th>\n",
       "      <th>50%</th>\n",
       "      <th>75%</th>\n",
       "      <th>max</th>\n",
       "    </tr>\n",
       "    <tr>\n",
       "      <th>ExcludedGroup_Category</th>\n",
       "      <th></th>\n",
       "      <th></th>\n",
       "      <th></th>\n",
       "      <th></th>\n",
       "      <th></th>\n",
       "      <th></th>\n",
       "      <th></th>\n",
       "      <th></th>\n",
       "    </tr>\n",
       "  </thead>\n",
       "  <tbody>\n",
       "    <tr>\n",
       "      <th>Coscolla Repetitive Genes</th>\n",
       "      <td>69.0</td>\n",
       "      <td>0.792742</td>\n",
       "      <td>0.248627</td>\n",
       "      <td>0.235077</td>\n",
       "      <td>0.626722</td>\n",
       "      <td>0.945926</td>\n",
       "      <td>0.990506</td>\n",
       "      <td>0.999879</td>\n",
       "    </tr>\n",
       "    <tr>\n",
       "      <th>InsertionSeqs_And_Phages</th>\n",
       "      <td>147.0</td>\n",
       "      <td>0.664344</td>\n",
       "      <td>0.385916</td>\n",
       "      <td>0.062500</td>\n",
       "      <td>0.193621</td>\n",
       "      <td>0.877863</td>\n",
       "      <td>1.000000</td>\n",
       "      <td>1.000000</td>\n",
       "    </tr>\n",
       "    <tr>\n",
       "      <th>NotExcluded</th>\n",
       "      <td>3695.0</td>\n",
       "      <td>0.998370</td>\n",
       "      <td>0.020730</td>\n",
       "      <td>0.286631</td>\n",
       "      <td>1.000000</td>\n",
       "      <td>1.000000</td>\n",
       "      <td>1.000000</td>\n",
       "      <td>1.000000</td>\n",
       "    </tr>\n",
       "    <tr>\n",
       "      <th>PE/PPEs</th>\n",
       "      <td>168.0</td>\n",
       "      <td>0.943995</td>\n",
       "      <td>0.114547</td>\n",
       "      <td>0.449548</td>\n",
       "      <td>0.967591</td>\n",
       "      <td>0.995771</td>\n",
       "      <td>1.000000</td>\n",
       "      <td>1.000000</td>\n",
       "    </tr>\n",
       "  </tbody>\n",
       "</table>\n",
       "</div>"
      ],
      "text/plain": [
       "                          Mean_PileupMapScore_K50_E4                                                                      \n",
       "                                               count      mean       std       min       25%       50%       75%       max\n",
       "ExcludedGroup_Category                                                                                                    \n",
       "Coscolla Repetitive Genes                       69.0  0.792742  0.248627  0.235077  0.626722  0.945926  0.990506  0.999879\n",
       "InsertionSeqs_And_Phages                       147.0  0.664344  0.385916  0.062500  0.193621  0.877863  1.000000  1.000000\n",
       "NotExcluded                                   3695.0  0.998370  0.020730  0.286631  1.000000  1.000000  1.000000  1.000000\n",
       "PE/PPEs                                        168.0  0.943995  0.114547  0.449548  0.967591  0.995771  1.000000  1.000000"
      ]
     },
     "execution_count": 62,
     "metadata": {},
     "output_type": "execute_result"
    }
   ],
   "source": [
    "ColOfInterest = [\"ExcludedGroup_Category\", \"Mean_PileupMapScore_K50_E4\"]\n",
    "\n",
    "GLA_DF[ColOfInterest].groupby(\"ExcludedGroup_Category\").describe()"
   ]
  },
  {
   "cell_type": "code",
   "execution_count": null,
   "metadata": {},
   "outputs": [],
   "source": []
  },
  {
   "cell_type": "code",
   "execution_count": 63,
   "metadata": {},
   "outputs": [],
   "source": [
    "GLA_DF_Below1_Pmap_K50E4 = GLA_DF[ GLA_DF[\"Mean_PileupMapScore_K50_E4\"] < 1]"
   ]
  },
  {
   "cell_type": "code",
   "execution_count": 64,
   "metadata": {},
   "outputs": [
    {
     "data": {
      "text/plain": [
       "NotExcluded                  233\n",
       "PE/PPEs                      110\n",
       "InsertionSeqs_And_Phages      99\n",
       "Coscolla Repetitive Genes     69\n",
       "Name: ExcludedGroup_Category, dtype: int64"
      ]
     },
     "execution_count": 64,
     "metadata": {},
     "output_type": "execute_result"
    }
   ],
   "source": [
    "GLA_DF_Below1_Pmap_K50E4[\"ExcludedGroup_Category\"].value_counts()"
   ]
  },
  {
   "cell_type": "code",
   "execution_count": 65,
   "metadata": {},
   "outputs": [
    {
     "data": {
      "text/plain": [
       "NotExcluded                  0.063058\n",
       "PE/PPEs                      0.654762\n",
       "InsertionSeqs_And_Phages     0.673469\n",
       "Coscolla Repetitive Genes    1.000000\n",
       "Name: ExcludedGroup_Category, dtype: float64"
      ]
     },
     "execution_count": 65,
     "metadata": {},
     "output_type": "execute_result"
    }
   ],
   "source": [
    "GLA_DF_Below1_Pmap_K50E4[\"ExcludedGroup_Category\"].value_counts() / GLA_DF[\"ExcludedGroup_Category\"].value_counts()"
   ]
  },
  {
   "cell_type": "code",
   "execution_count": null,
   "metadata": {},
   "outputs": [],
   "source": []
  },
  {
   "cell_type": "code",
   "execution_count": 66,
   "metadata": {},
   "outputs": [],
   "source": [
    "GLA_DF_Below097_EBR = GLA_DF[ GLA_DF[\"Mean_PileupMapScore_K50_E4\"] < 0.97]"
   ]
  },
  {
   "cell_type": "code",
   "execution_count": 67,
   "metadata": {},
   "outputs": [
    {
     "data": {
      "text/plain": [
       "NotExcluded                  93\n",
       "InsertionSeqs_And_Phages     90\n",
       "PE/PPEs                      72\n",
       "Coscolla Repetitive Genes    51\n",
       "Name: ExcludedGroup_Category, dtype: int64"
      ]
     },
     "execution_count": 67,
     "metadata": {},
     "output_type": "execute_result"
    }
   ],
   "source": [
    "GLA_DF[ GLA_DF[\"Mean_PileupMapScore_K50_E4\"] < 0.99][\"ExcludedGroup_Category\"].value_counts()"
   ]
  },
  {
   "cell_type": "code",
   "execution_count": 68,
   "metadata": {},
   "outputs": [
    {
     "data": {
      "text/plain": [
       "NotExcluded                  93\n",
       "InsertionSeqs_And_Phages     90\n",
       "PE/PPEs                      72\n",
       "Coscolla Repetitive Genes    51\n",
       "Name: ExcludedGroup_Category, dtype: int64"
      ]
     },
     "execution_count": 68,
     "metadata": {},
     "output_type": "execute_result"
    }
   ],
   "source": [
    "GLA_DF[ GLA_DF[\"Mean_PileupMapScore_K50_E4\"] < 0.99][\"ExcludedGroup_Category\"].value_counts()"
   ]
  },
  {
   "cell_type": "code",
   "execution_count": null,
   "metadata": {},
   "outputs": [],
   "source": []
  },
  {
   "cell_type": "code",
   "execution_count": null,
   "metadata": {},
   "outputs": [],
   "source": []
  },
  {
   "cell_type": "markdown",
   "metadata": {},
   "source": [
    "## What proportion of each PLC gene group has Pmap < 0.97?"
   ]
  },
  {
   "cell_type": "code",
   "execution_count": 69,
   "metadata": {},
   "outputs": [
    {
     "data": {
      "text/plain": [
       "InsertionSeqs_And_Phages     82\n",
       "PE/PPEs                      45\n",
       "Coscolla Repetitive Genes    41\n",
       "NotExcluded                  40\n",
       "Name: ExcludedGroup_Category, dtype: int64"
      ]
     },
     "execution_count": 69,
     "metadata": {},
     "output_type": "execute_result"
    }
   ],
   "source": [
    "GLA_DF[ GLA_DF[\"Mean_PileupMapScore_K50_E4\"] < 0.97][\"ExcludedGroup_Category\"].value_counts()"
   ]
  },
  {
   "cell_type": "code",
   "execution_count": null,
   "metadata": {},
   "outputs": [],
   "source": []
  },
  {
   "cell_type": "code",
   "execution_count": 70,
   "metadata": {},
   "outputs": [
    {
     "data": {
      "text/plain": [
       "Coscolla Repetitive Genes    0.594203\n",
       "InsertionSeqs_And_Phages     0.557823\n",
       "NotExcluded                  0.010825\n",
       "PE/PPEs                      0.267857\n",
       "Name: ExcludedGroup_Category, dtype: float64"
      ]
     },
     "execution_count": 70,
     "metadata": {},
     "output_type": "execute_result"
    }
   ],
   "source": [
    "GLA_DF[ GLA_DF[\"Mean_PileupMapScore_K50_E4\"] < 0.97][\"ExcludedGroup_Category\"].value_counts() / GLA_DF[\"ExcludedGroup_Category\"].value_counts()"
   ]
  },
  {
   "cell_type": "code",
   "execution_count": null,
   "metadata": {},
   "outputs": [],
   "source": []
  },
  {
   "cell_type": "code",
   "execution_count": null,
   "metadata": {},
   "outputs": [],
   "source": []
  },
  {
   "cell_type": "code",
   "execution_count": null,
   "metadata": {},
   "outputs": [],
   "source": []
  },
  {
   "cell_type": "markdown",
   "metadata": {},
   "source": [
    "## Median Gene-Level mean MapScore_K50_E4 across H37rv in all Excluded Gene Categories"
   ]
  },
  {
   "cell_type": "code",
   "execution_count": 71,
   "metadata": {},
   "outputs": [
    {
     "data": {
      "text/html": [
       "<div>\n",
       "<style scoped>\n",
       "    .dataframe tbody tr th:only-of-type {\n",
       "        vertical-align: middle;\n",
       "    }\n",
       "\n",
       "    .dataframe tbody tr th {\n",
       "        vertical-align: top;\n",
       "    }\n",
       "\n",
       "    .dataframe thead th {\n",
       "        text-align: right;\n",
       "    }\n",
       "</style>\n",
       "<table border=\"1\" class=\"dataframe\">\n",
       "  <thead>\n",
       "    <tr style=\"text-align: right;\">\n",
       "      <th></th>\n",
       "      <th>Mean_PileupMapScore_K50_E4</th>\n",
       "    </tr>\n",
       "    <tr>\n",
       "      <th>ExcludedGroup_Category</th>\n",
       "      <th></th>\n",
       "    </tr>\n",
       "  </thead>\n",
       "  <tbody>\n",
       "    <tr>\n",
       "      <th>NotExcluded</th>\n",
       "      <td>1.000000</td>\n",
       "    </tr>\n",
       "    <tr>\n",
       "      <th>PE/PPEs</th>\n",
       "      <td>0.995771</td>\n",
       "    </tr>\n",
       "    <tr>\n",
       "      <th>Coscolla Repetitive Genes</th>\n",
       "      <td>0.945926</td>\n",
       "    </tr>\n",
       "    <tr>\n",
       "      <th>InsertionSeqs_And_Phages</th>\n",
       "      <td>0.877863</td>\n",
       "    </tr>\n",
       "  </tbody>\n",
       "</table>\n",
       "</div>"
      ],
      "text/plain": [
       "                           Mean_PileupMapScore_K50_E4\n",
       "ExcludedGroup_Category                               \n",
       "NotExcluded                                  1.000000\n",
       "PE/PPEs                                      0.995771\n",
       "Coscolla Repetitive Genes                    0.945926\n",
       "InsertionSeqs_And_Phages                     0.877863"
      ]
     },
     "execution_count": 71,
     "metadata": {},
     "output_type": "execute_result"
    }
   ],
   "source": [
    "ColOfInterest = [\"ExcludedGroup_Category\", \"Mean_PileupMapScore_K50_E4\"]\n",
    "\n",
    "GLA_DF[ColOfInterest].groupby(\"ExcludedGroup_Category\").median().sort_values(\"Mean_PileupMapScore_K50_E4\", ascending=False)       "
   ]
  },
  {
   "cell_type": "code",
   "execution_count": 72,
   "metadata": {},
   "outputs": [
    {
     "data": {
      "text/html": [
       "<div>\n",
       "<style scoped>\n",
       "    .dataframe tbody tr th:only-of-type {\n",
       "        vertical-align: middle;\n",
       "    }\n",
       "\n",
       "    .dataframe tbody tr th {\n",
       "        vertical-align: top;\n",
       "    }\n",
       "\n",
       "    .dataframe thead th {\n",
       "        text-align: right;\n",
       "    }\n",
       "</style>\n",
       "<table border=\"1\" class=\"dataframe\">\n",
       "  <thead>\n",
       "    <tr style=\"text-align: right;\">\n",
       "      <th></th>\n",
       "      <th>Mean_PileupMapScore_K50_E4</th>\n",
       "    </tr>\n",
       "    <tr>\n",
       "      <th>ExcludedGroup_Category</th>\n",
       "      <th></th>\n",
       "    </tr>\n",
       "  </thead>\n",
       "  <tbody>\n",
       "    <tr>\n",
       "      <th>NotExcluded</th>\n",
       "      <td>1.000000</td>\n",
       "    </tr>\n",
       "    <tr>\n",
       "      <th>PE/PPEs</th>\n",
       "      <td>0.967591</td>\n",
       "    </tr>\n",
       "    <tr>\n",
       "      <th>Coscolla Repetitive Genes</th>\n",
       "      <td>0.626722</td>\n",
       "    </tr>\n",
       "    <tr>\n",
       "      <th>InsertionSeqs_And_Phages</th>\n",
       "      <td>0.193621</td>\n",
       "    </tr>\n",
       "  </tbody>\n",
       "</table>\n",
       "</div>"
      ],
      "text/plain": [
       "                           Mean_PileupMapScore_K50_E4\n",
       "ExcludedGroup_Category                               \n",
       "NotExcluded                                  1.000000\n",
       "PE/PPEs                                      0.967591\n",
       "Coscolla Repetitive Genes                    0.626722\n",
       "InsertionSeqs_And_Phages                     0.193621"
      ]
     },
     "execution_count": 72,
     "metadata": {},
     "output_type": "execute_result"
    }
   ],
   "source": [
    "ColOfInterest = [\"ExcludedGroup_Category\", \"Mean_PileupMapScore_K50_E4\"]\n",
    "\n",
    "GLA_DF[ColOfInterest].groupby(\"ExcludedGroup_Category\").quantile(0.25).sort_values(\"Mean_PileupMapScore_K50_E4\", ascending=False)       "
   ]
  },
  {
   "cell_type": "code",
   "execution_count": 73,
   "metadata": {},
   "outputs": [
    {
     "data": {
      "text/html": [
       "<div>\n",
       "<style scoped>\n",
       "    .dataframe tbody tr th:only-of-type {\n",
       "        vertical-align: middle;\n",
       "    }\n",
       "\n",
       "    .dataframe tbody tr th {\n",
       "        vertical-align: top;\n",
       "    }\n",
       "\n",
       "    .dataframe thead th {\n",
       "        text-align: right;\n",
       "    }\n",
       "</style>\n",
       "<table border=\"1\" class=\"dataframe\">\n",
       "  <thead>\n",
       "    <tr style=\"text-align: right;\">\n",
       "      <th></th>\n",
       "      <th>Mean_PileupMapScore_K50_E4</th>\n",
       "    </tr>\n",
       "    <tr>\n",
       "      <th>ExcludedGroup_Category</th>\n",
       "      <th></th>\n",
       "    </tr>\n",
       "  </thead>\n",
       "  <tbody>\n",
       "    <tr>\n",
       "      <th>InsertionSeqs_And_Phages</th>\n",
       "      <td>1.000000</td>\n",
       "    </tr>\n",
       "    <tr>\n",
       "      <th>NotExcluded</th>\n",
       "      <td>1.000000</td>\n",
       "    </tr>\n",
       "    <tr>\n",
       "      <th>PE/PPEs</th>\n",
       "      <td>1.000000</td>\n",
       "    </tr>\n",
       "    <tr>\n",
       "      <th>Coscolla Repetitive Genes</th>\n",
       "      <td>0.990506</td>\n",
       "    </tr>\n",
       "  </tbody>\n",
       "</table>\n",
       "</div>"
      ],
      "text/plain": [
       "                           Mean_PileupMapScore_K50_E4\n",
       "ExcludedGroup_Category                               \n",
       "InsertionSeqs_And_Phages                     1.000000\n",
       "NotExcluded                                  1.000000\n",
       "PE/PPEs                                      1.000000\n",
       "Coscolla Repetitive Genes                    0.990506"
      ]
     },
     "execution_count": 73,
     "metadata": {},
     "output_type": "execute_result"
    }
   ],
   "source": [
    "ColOfInterest = [\"ExcludedGroup_Category\", \"Mean_PileupMapScore_K50_E4\"]\n",
    "\n",
    "GLA_DF[ColOfInterest].groupby(\"ExcludedGroup_Category\").quantile(0.75).sort_values(\"Mean_PileupMapScore_K50_E4\", ascending=False)       "
   ]
  },
  {
   "cell_type": "code",
   "execution_count": null,
   "metadata": {},
   "outputs": [],
   "source": []
  },
  {
   "cell_type": "code",
   "execution_count": null,
   "metadata": {},
   "outputs": [],
   "source": []
  },
  {
   "cell_type": "markdown",
   "metadata": {},
   "source": [
    "# Investigating Gene's with Ambigous base pair positions"
   ]
  },
  {
   "cell_type": "markdown",
   "metadata": {},
   "source": [
    "### Let's look at all of the genes with any EBR-36CI scores that are NANs"
   ]
  },
  {
   "cell_type": "code",
   "execution_count": 74,
   "metadata": {},
   "outputs": [
    {
     "data": {
      "text/html": [
       "<div>\n",
       "<style scoped>\n",
       "    .dataframe tbody tr th:only-of-type {\n",
       "        vertical-align: middle;\n",
       "    }\n",
       "\n",
       "    .dataframe tbody tr th {\n",
       "        vertical-align: top;\n",
       "    }\n",
       "\n",
       "    .dataframe thead th {\n",
       "        text-align: right;\n",
       "    }\n",
       "</style>\n",
       "<table border=\"1\" class=\"dataframe\">\n",
       "  <thead>\n",
       "    <tr style=\"text-align: right;\">\n",
       "      <th></th>\n",
       "      <th>Chrom</th>\n",
       "      <th>Start</th>\n",
       "      <th>End</th>\n",
       "      <th>Strand</th>\n",
       "      <th>H37rv_GeneID</th>\n",
       "      <th>Symbol</th>\n",
       "      <th>Feature</th>\n",
       "      <th>ExcludedGroup_Category</th>\n",
       "      <th>PEandPPE_Subfamily</th>\n",
       "      <th>Product</th>\n",
       "      <th>Functional_Category</th>\n",
       "      <th>Is_Pseudogene</th>\n",
       "      <th>Mean_EBR_36CI</th>\n",
       "      <th>gene_PercentPerfect_EBR_36CI</th>\n",
       "      <th>gene_ProportionWith_NANs_EBR_36CI</th>\n",
       "      <th>gene_GC_Content</th>\n",
       "      <th>Mean_PileupMapScore_K50_E4</th>\n",
       "      <th>Mean_PileupMapScore_K100_E4</th>\n",
       "      <th>Mean_PileupMapScore_K125_E4</th>\n",
       "      <th>Length</th>\n",
       "    </tr>\n",
       "  </thead>\n",
       "  <tbody>\n",
       "    <tr>\n",
       "      <th>0</th>\n",
       "      <td>NC_000962.3</td>\n",
       "      <td>0</td>\n",
       "      <td>1524</td>\n",
       "      <td>+</td>\n",
       "      <td>Rv0001</td>\n",
       "      <td>dnaA</td>\n",
       "      <td>CDS</td>\n",
       "      <td>NotExcluded</td>\n",
       "      <td>None</td>\n",
       "      <td>Chromosomal replication initiator protein DnaA</td>\n",
       "      <td>information pathways</td>\n",
       "      <td>No</td>\n",
       "      <td>0.99743</td>\n",
       "      <td>92.979003</td>\n",
       "      <td>0.0</td>\n",
       "      <td>58.923885</td>\n",
       "      <td>1.0</td>\n",
       "      <td>1.0</td>\n",
       "      <td>1.0</td>\n",
       "      <td>1524</td>\n",
       "    </tr>\n",
       "  </tbody>\n",
       "</table>\n",
       "</div>"
      ],
      "text/plain": [
       "         Chrom  Start   End Strand H37rv_GeneID Symbol Feature ExcludedGroup_Category PEandPPE_Subfamily                                         Product   Functional_Category Is_Pseudogene  Mean_EBR_36CI  gene_PercentPerfect_EBR_36CI  gene_ProportionWith_NANs_EBR_36CI  gene_GC_Content  Mean_PileupMapScore_K50_E4  Mean_PileupMapScore_K100_E4  Mean_PileupMapScore_K125_E4  Length\n",
       "0  NC_000962.3      0  1524      +       Rv0001   dnaA     CDS            NotExcluded               None  Chromosomal replication initiator protein DnaA  information pathways            No        0.99743                     92.979003                                0.0        58.923885                         1.0                          1.0                          1.0    1524"
      ]
     },
     "execution_count": 74,
     "metadata": {},
     "output_type": "execute_result"
    }
   ],
   "source": [
    "GLA_DF.head(1)"
   ]
  },
  {
   "cell_type": "code",
   "execution_count": 75,
   "metadata": {},
   "outputs": [
    {
     "data": {
      "text/html": [
       "<div>\n",
       "<style scoped>\n",
       "    .dataframe tbody tr th:only-of-type {\n",
       "        vertical-align: middle;\n",
       "    }\n",
       "\n",
       "    .dataframe tbody tr th {\n",
       "        vertical-align: top;\n",
       "    }\n",
       "\n",
       "    .dataframe thead th {\n",
       "        text-align: right;\n",
       "    }\n",
       "</style>\n",
       "<table border=\"1\" class=\"dataframe\">\n",
       "  <thead>\n",
       "    <tr style=\"text-align: right;\">\n",
       "      <th></th>\n",
       "      <th>Chrom</th>\n",
       "      <th>Start</th>\n",
       "      <th>End</th>\n",
       "      <th>Strand</th>\n",
       "      <th>H37rv_GeneID</th>\n",
       "      <th>Symbol</th>\n",
       "      <th>Feature</th>\n",
       "      <th>ExcludedGroup_Category</th>\n",
       "      <th>PEandPPE_Subfamily</th>\n",
       "      <th>Product</th>\n",
       "      <th>Functional_Category</th>\n",
       "      <th>Is_Pseudogene</th>\n",
       "      <th>Mean_EBR_36CI</th>\n",
       "      <th>gene_PercentPerfect_EBR_36CI</th>\n",
       "      <th>gene_ProportionWith_NANs_EBR_36CI</th>\n",
       "      <th>gene_GC_Content</th>\n",
       "      <th>Mean_PileupMapScore_K50_E4</th>\n",
       "      <th>Mean_PileupMapScore_K100_E4</th>\n",
       "      <th>Mean_PileupMapScore_K125_E4</th>\n",
       "      <th>Length</th>\n",
       "    </tr>\n",
       "  </thead>\n",
       "  <tbody>\n",
       "    <tr>\n",
       "      <th>1427</th>\n",
       "      <td>NC_000962.3</td>\n",
       "      <td>1541993</td>\n",
       "      <td>1542980</td>\n",
       "      <td>-</td>\n",
       "      <td>Rv1369c</td>\n",
       "      <td>Rv1369c</td>\n",
       "      <td>CDS</td>\n",
       "      <td>InsertionSeqs_And_Phages</td>\n",
       "      <td>None</td>\n",
       "      <td>Probable transposase</td>\n",
       "      <td>insertion seqs and phages</td>\n",
       "      <td>No</td>\n",
       "      <td>NaN</td>\n",
       "      <td>0.000000</td>\n",
       "      <td>1.000000</td>\n",
       "      <td>64.032421</td>\n",
       "      <td>0.062521</td>\n",
       "      <td>0.074917</td>\n",
       "      <td>0.084520</td>\n",
       "      <td>987</td>\n",
       "    </tr>\n",
       "    <tr>\n",
       "      <th>2364</th>\n",
       "      <td>NC_000962.3</td>\n",
       "      <td>2550339</td>\n",
       "      <td>2551326</td>\n",
       "      <td>+</td>\n",
       "      <td>Rv2279</td>\n",
       "      <td>Rv2279</td>\n",
       "      <td>CDS</td>\n",
       "      <td>InsertionSeqs_And_Phages</td>\n",
       "      <td>None</td>\n",
       "      <td>Probable transposase</td>\n",
       "      <td>insertion seqs and phages</td>\n",
       "      <td>No</td>\n",
       "      <td>NaN</td>\n",
       "      <td>0.000000</td>\n",
       "      <td>1.000000</td>\n",
       "      <td>64.032421</td>\n",
       "      <td>0.062501</td>\n",
       "      <td>0.073655</td>\n",
       "      <td>0.083003</td>\n",
       "      <td>987</td>\n",
       "    </tr>\n",
       "    <tr>\n",
       "      <th>1824</th>\n",
       "      <td>NC_000962.3</td>\n",
       "      <td>1988679</td>\n",
       "      <td>1989006</td>\n",
       "      <td>-</td>\n",
       "      <td>Rv1757c</td>\n",
       "      <td>Rv1757c</td>\n",
       "      <td>CDS</td>\n",
       "      <td>InsertionSeqs_And_Phages</td>\n",
       "      <td>None</td>\n",
       "      <td>Putative transposase for insertion sequence el...</td>\n",
       "      <td>insertion seqs and phages</td>\n",
       "      <td>No</td>\n",
       "      <td>NaN</td>\n",
       "      <td>0.000000</td>\n",
       "      <td>1.000000</td>\n",
       "      <td>65.749235</td>\n",
       "      <td>0.062500</td>\n",
       "      <td>0.084164</td>\n",
       "      <td>0.109273</td>\n",
       "      <td>327</td>\n",
       "    </tr>\n",
       "    <tr>\n",
       "      <th>1428</th>\n",
       "      <td>NC_000962.3</td>\n",
       "      <td>1542928</td>\n",
       "      <td>1543255</td>\n",
       "      <td>-</td>\n",
       "      <td>Rv1370c</td>\n",
       "      <td>Rv1370c</td>\n",
       "      <td>CDS</td>\n",
       "      <td>InsertionSeqs_And_Phages</td>\n",
       "      <td>None</td>\n",
       "      <td>Putative transposase for insertion sequence el...</td>\n",
       "      <td>insertion seqs and phages</td>\n",
       "      <td>No</td>\n",
       "      <td>NaN</td>\n",
       "      <td>0.000000</td>\n",
       "      <td>1.000000</td>\n",
       "      <td>65.749235</td>\n",
       "      <td>0.062500</td>\n",
       "      <td>0.086054</td>\n",
       "      <td>0.111746</td>\n",
       "      <td>327</td>\n",
       "    </tr>\n",
       "    <tr>\n",
       "      <th>1830</th>\n",
       "      <td>NC_000962.3</td>\n",
       "      <td>1996151</td>\n",
       "      <td>1996478</td>\n",
       "      <td>+</td>\n",
       "      <td>Rv1763</td>\n",
       "      <td>Rv1763</td>\n",
       "      <td>CDS</td>\n",
       "      <td>InsertionSeqs_And_Phages</td>\n",
       "      <td>None</td>\n",
       "      <td>Putative transposase for insertion sequence el...</td>\n",
       "      <td>insertion seqs and phages</td>\n",
       "      <td>No</td>\n",
       "      <td>NaN</td>\n",
       "      <td>0.000000</td>\n",
       "      <td>1.000000</td>\n",
       "      <td>65.749235</td>\n",
       "      <td>0.062500</td>\n",
       "      <td>0.087036</td>\n",
       "      <td>0.113010</td>\n",
       "      <td>327</td>\n",
       "    </tr>\n",
       "    <tr>\n",
       "      <th>1831</th>\n",
       "      <td>NC_000962.3</td>\n",
       "      <td>1996426</td>\n",
       "      <td>1997413</td>\n",
       "      <td>+</td>\n",
       "      <td>Rv1764</td>\n",
       "      <td>Rv1764</td>\n",
       "      <td>CDS</td>\n",
       "      <td>InsertionSeqs_And_Phages</td>\n",
       "      <td>None</td>\n",
       "      <td>Putative transposase</td>\n",
       "      <td>insertion seqs and phages</td>\n",
       "      <td>No</td>\n",
       "      <td>NaN</td>\n",
       "      <td>0.000000</td>\n",
       "      <td>1.000000</td>\n",
       "      <td>64.032421</td>\n",
       "      <td>0.062501</td>\n",
       "      <td>0.073615</td>\n",
       "      <td>0.082955</td>\n",
       "      <td>987</td>\n",
       "    </tr>\n",
       "    <tr>\n",
       "      <th>2448</th>\n",
       "      <td>NC_000962.3</td>\n",
       "      <td>2635902</td>\n",
       "      <td>2636889</td>\n",
       "      <td>+</td>\n",
       "      <td>Rv2355</td>\n",
       "      <td>Rv2355</td>\n",
       "      <td>CDS</td>\n",
       "      <td>InsertionSeqs_And_Phages</td>\n",
       "      <td>None</td>\n",
       "      <td>Probable transposase</td>\n",
       "      <td>insertion seqs and phages</td>\n",
       "      <td>No</td>\n",
       "      <td>NaN</td>\n",
       "      <td>0.000000</td>\n",
       "      <td>1.000000</td>\n",
       "      <td>64.032421</td>\n",
       "      <td>0.062501</td>\n",
       "      <td>0.074387</td>\n",
       "      <td>0.083888</td>\n",
       "      <td>987</td>\n",
       "    </tr>\n",
       "    <tr>\n",
       "      <th>2447</th>\n",
       "      <td>NC_000962.3</td>\n",
       "      <td>2635627</td>\n",
       "      <td>2635954</td>\n",
       "      <td>+</td>\n",
       "      <td>Rv2354</td>\n",
       "      <td>Rv2354</td>\n",
       "      <td>CDS</td>\n",
       "      <td>InsertionSeqs_And_Phages</td>\n",
       "      <td>None</td>\n",
       "      <td>Probable transposase for insertion sequence el...</td>\n",
       "      <td>insertion seqs and phages</td>\n",
       "      <td>No</td>\n",
       "      <td>NaN</td>\n",
       "      <td>0.000000</td>\n",
       "      <td>1.000000</td>\n",
       "      <td>65.749235</td>\n",
       "      <td>0.062500</td>\n",
       "      <td>0.086955</td>\n",
       "      <td>0.112908</td>\n",
       "      <td>327</td>\n",
       "    </tr>\n",
       "    <tr>\n",
       "      <th>2446</th>\n",
       "      <td>NC_000962.3</td>\n",
       "      <td>2634527</td>\n",
       "      <td>2635592</td>\n",
       "      <td>-</td>\n",
       "      <td>Rv2353c</td>\n",
       "      <td>PPE39</td>\n",
       "      <td>CDS</td>\n",
       "      <td>PE/PPEs</td>\n",
       "      <td>None</td>\n",
       "      <td>PPE family protein PPE39</td>\n",
       "      <td>PE/PPE</td>\n",
       "      <td>No</td>\n",
       "      <td>NaN</td>\n",
       "      <td>0.000000</td>\n",
       "      <td>1.000000</td>\n",
       "      <td>57.276995</td>\n",
       "      <td>0.933542</td>\n",
       "      <td>0.988602</td>\n",
       "      <td>0.998018</td>\n",
       "      <td>1065</td>\n",
       "    </tr>\n",
       "    <tr>\n",
       "      <th>2445</th>\n",
       "      <td>NC_000962.3</td>\n",
       "      <td>2632922</td>\n",
       "      <td>2634098</td>\n",
       "      <td>-</td>\n",
       "      <td>Rv2352c</td>\n",
       "      <td>PPE38</td>\n",
       "      <td>CDS</td>\n",
       "      <td>PE/PPEs</td>\n",
       "      <td>PPE_SL-4_PPE-SVP</td>\n",
       "      <td>PPE family protein PPE38</td>\n",
       "      <td>PE/PPE</td>\n",
       "      <td>No</td>\n",
       "      <td>NaN</td>\n",
       "      <td>0.000000</td>\n",
       "      <td>1.000000</td>\n",
       "      <td>69.387755</td>\n",
       "      <td>0.976134</td>\n",
       "      <td>1.000000</td>\n",
       "      <td>1.000000</td>\n",
       "      <td>1176</td>\n",
       "    </tr>\n",
       "    <tr>\n",
       "      <th>3615</th>\n",
       "      <td>NC_000962.3</td>\n",
       "      <td>3891104</td>\n",
       "      <td>3892091</td>\n",
       "      <td>+</td>\n",
       "      <td>Rv3475</td>\n",
       "      <td>Rv3475</td>\n",
       "      <td>CDS</td>\n",
       "      <td>InsertionSeqs_And_Phages</td>\n",
       "      <td>None</td>\n",
       "      <td>Possible transposase for insertion element IS6...</td>\n",
       "      <td>insertion seqs and phages</td>\n",
       "      <td>No</td>\n",
       "      <td>NaN</td>\n",
       "      <td>0.000000</td>\n",
       "      <td>1.000000</td>\n",
       "      <td>64.032421</td>\n",
       "      <td>0.062501</td>\n",
       "      <td>0.073384</td>\n",
       "      <td>0.082675</td>\n",
       "      <td>987</td>\n",
       "    </tr>\n",
       "    <tr>\n",
       "      <th>2363</th>\n",
       "      <td>NC_000962.3</td>\n",
       "      <td>2550064</td>\n",
       "      <td>2550391</td>\n",
       "      <td>+</td>\n",
       "      <td>Rv2278</td>\n",
       "      <td>Rv2278</td>\n",
       "      <td>CDS</td>\n",
       "      <td>InsertionSeqs_And_Phages</td>\n",
       "      <td>None</td>\n",
       "      <td>Putative transposase for insertion sequence el...</td>\n",
       "      <td>insertion seqs and phages</td>\n",
       "      <td>No</td>\n",
       "      <td>NaN</td>\n",
       "      <td>0.000000</td>\n",
       "      <td>1.000000</td>\n",
       "      <td>65.749235</td>\n",
       "      <td>0.062500</td>\n",
       "      <td>0.084967</td>\n",
       "      <td>0.110302</td>\n",
       "      <td>327</td>\n",
       "    </tr>\n",
       "    <tr>\n",
       "      <th>3614</th>\n",
       "      <td>NC_000962.3</td>\n",
       "      <td>3890829</td>\n",
       "      <td>3891156</td>\n",
       "      <td>+</td>\n",
       "      <td>Rv3474</td>\n",
       "      <td>Rv3474</td>\n",
       "      <td>CDS</td>\n",
       "      <td>InsertionSeqs_And_Phages</td>\n",
       "      <td>None</td>\n",
       "      <td>Possible transposase for insertion element IS6...</td>\n",
       "      <td>insertion seqs and phages</td>\n",
       "      <td>No</td>\n",
       "      <td>NaN</td>\n",
       "      <td>0.000000</td>\n",
       "      <td>1.000000</td>\n",
       "      <td>65.749235</td>\n",
       "      <td>0.062500</td>\n",
       "      <td>0.088159</td>\n",
       "      <td>0.114449</td>\n",
       "      <td>327</td>\n",
       "    </tr>\n",
       "    <tr>\n",
       "      <th>1823</th>\n",
       "      <td>NC_000962.3</td>\n",
       "      <td>1987744</td>\n",
       "      <td>1988731</td>\n",
       "      <td>-</td>\n",
       "      <td>Rv1756c</td>\n",
       "      <td>Rv1756c</td>\n",
       "      <td>CDS</td>\n",
       "      <td>InsertionSeqs_And_Phages</td>\n",
       "      <td>None</td>\n",
       "      <td>Putative transposase</td>\n",
       "      <td>insertion seqs and phages</td>\n",
       "      <td>No</td>\n",
       "      <td>NaN</td>\n",
       "      <td>0.000000</td>\n",
       "      <td>1.000000</td>\n",
       "      <td>64.032421</td>\n",
       "      <td>0.062510</td>\n",
       "      <td>0.074163</td>\n",
       "      <td>0.083615</td>\n",
       "      <td>987</td>\n",
       "    </tr>\n",
       "    <tr>\n",
       "      <th>830</th>\n",
       "      <td>NC_000962.3</td>\n",
       "      <td>889346</td>\n",
       "      <td>890333</td>\n",
       "      <td>+</td>\n",
       "      <td>Rv0796</td>\n",
       "      <td>Rv0796</td>\n",
       "      <td>CDS</td>\n",
       "      <td>InsertionSeqs_And_Phages</td>\n",
       "      <td>None</td>\n",
       "      <td>Putative transposase for insertion sequence el...</td>\n",
       "      <td>insertion seqs and phages</td>\n",
       "      <td>No</td>\n",
       "      <td>NaN</td>\n",
       "      <td>0.000000</td>\n",
       "      <td>1.000000</td>\n",
       "      <td>64.032421</td>\n",
       "      <td>0.062503</td>\n",
       "      <td>0.067848</td>\n",
       "      <td>0.072238</td>\n",
       "      <td>987</td>\n",
       "    </tr>\n",
       "    <tr>\n",
       "      <th>829</th>\n",
       "      <td>NC_000962.3</td>\n",
       "      <td>889071</td>\n",
       "      <td>889398</td>\n",
       "      <td>+</td>\n",
       "      <td>Rv0795</td>\n",
       "      <td>Rv0795</td>\n",
       "      <td>CDS</td>\n",
       "      <td>InsertionSeqs_And_Phages</td>\n",
       "      <td>None</td>\n",
       "      <td>Putative transposase for insertion sequence el...</td>\n",
       "      <td>insertion seqs and phages</td>\n",
       "      <td>No</td>\n",
       "      <td>NaN</td>\n",
       "      <td>0.000000</td>\n",
       "      <td>1.000000</td>\n",
       "      <td>65.749235</td>\n",
       "      <td>0.062500</td>\n",
       "      <td>0.087750</td>\n",
       "      <td>0.113928</td>\n",
       "      <td>327</td>\n",
       "    </tr>\n",
       "    <tr>\n",
       "      <th>1374</th>\n",
       "      <td>NC_000962.3</td>\n",
       "      <td>1480893</td>\n",
       "      <td>1482501</td>\n",
       "      <td>-</td>\n",
       "      <td>Rv1319c</td>\n",
       "      <td>Rv1319c</td>\n",
       "      <td>CDS</td>\n",
       "      <td>Coscolla Repetitive Genes</td>\n",
       "      <td>None</td>\n",
       "      <td>Possible adenylate cyclase (ATP pyrophosphate-...</td>\n",
       "      <td>intermediary metabolism and respiration</td>\n",
       "      <td>No</td>\n",
       "      <td>0.998621</td>\n",
       "      <td>54.975124</td>\n",
       "      <td>0.449005</td>\n",
       "      <td>64.241294</td>\n",
       "      <td>0.971289</td>\n",
       "      <td>1.000000</td>\n",
       "      <td>1.000000</td>\n",
       "      <td>1608</td>\n",
       "    </tr>\n",
       "    <tr>\n",
       "      <th>2649</th>\n",
       "      <td>NC_000962.3</td>\n",
       "      <td>2867123</td>\n",
       "      <td>2867786</td>\n",
       "      <td>+</td>\n",
       "      <td>Rv2544</td>\n",
       "      <td>lppB</td>\n",
       "      <td>CDS</td>\n",
       "      <td>Coscolla Repetitive Genes</td>\n",
       "      <td>None</td>\n",
       "      <td>Probable conserved lipoprotein LppB</td>\n",
       "      <td>cell wall and cell processes</td>\n",
       "      <td>No</td>\n",
       "      <td>0.989005</td>\n",
       "      <td>35.897436</td>\n",
       "      <td>0.417798</td>\n",
       "      <td>59.426848</td>\n",
       "      <td>0.718748</td>\n",
       "      <td>0.948741</td>\n",
       "      <td>0.998492</td>\n",
       "      <td>663</td>\n",
       "    </tr>\n",
       "    <tr>\n",
       "      <th>2648</th>\n",
       "      <td>NC_000962.3</td>\n",
       "      <td>2866467</td>\n",
       "      <td>2867127</td>\n",
       "      <td>+</td>\n",
       "      <td>Rv2543</td>\n",
       "      <td>lppA</td>\n",
       "      <td>CDS</td>\n",
       "      <td>Coscolla Repetitive Genes</td>\n",
       "      <td>None</td>\n",
       "      <td>Probable conserved lipoprotein LppA</td>\n",
       "      <td>cell wall and cell processes</td>\n",
       "      <td>No</td>\n",
       "      <td>0.991049</td>\n",
       "      <td>61.060606</td>\n",
       "      <td>0.371212</td>\n",
       "      <td>61.060606</td>\n",
       "      <td>0.717152</td>\n",
       "      <td>0.948348</td>\n",
       "      <td>0.998485</td>\n",
       "      <td>660</td>\n",
       "    </tr>\n",
       "    <tr>\n",
       "      <th>2449</th>\n",
       "      <td>NC_000962.3</td>\n",
       "      <td>2637687</td>\n",
       "      <td>2639535</td>\n",
       "      <td>-</td>\n",
       "      <td>Rv2356c</td>\n",
       "      <td>PPE40</td>\n",
       "      <td>CDS</td>\n",
       "      <td>PE/PPEs</td>\n",
       "      <td>PPE_SL-5_PPE-MPTR</td>\n",
       "      <td>PPE family protein PPE40</td>\n",
       "      <td>PE/PPE</td>\n",
       "      <td>No</td>\n",
       "      <td>0.989899</td>\n",
       "      <td>48.430736</td>\n",
       "      <td>0.297619</td>\n",
       "      <td>61.634199</td>\n",
       "      <td>0.948391</td>\n",
       "      <td>0.994191</td>\n",
       "      <td>1.000000</td>\n",
       "      <td>1848</td>\n",
       "    </tr>\n",
       "    <tr>\n",
       "      <th>3287</th>\n",
       "      <td>NC_000962.3</td>\n",
       "      <td>3527390</td>\n",
       "      <td>3529163</td>\n",
       "      <td>-</td>\n",
       "      <td>Rv3159c</td>\n",
       "      <td>PPE53</td>\n",
       "      <td>CDS</td>\n",
       "      <td>PE/PPEs</td>\n",
       "      <td>PPE_SL-5_PPE-MPTR</td>\n",
       "      <td>PPE family protein PPE53</td>\n",
       "      <td>PE/PPE</td>\n",
       "      <td>No</td>\n",
       "      <td>0.995738</td>\n",
       "      <td>69.091935</td>\n",
       "      <td>0.274112</td>\n",
       "      <td>61.590525</td>\n",
       "      <td>0.969898</td>\n",
       "      <td>1.000000</td>\n",
       "      <td>1.000000</td>\n",
       "      <td>1773</td>\n",
       "    </tr>\n",
       "    <tr>\n",
       "      <th>1018</th>\n",
       "      <td>NC_000962.3</td>\n",
       "      <td>1093360</td>\n",
       "      <td>1094356</td>\n",
       "      <td>-</td>\n",
       "      <td>Rv0978c</td>\n",
       "      <td>PE_PGRS17</td>\n",
       "      <td>CDS</td>\n",
       "      <td>PE/PPEs</td>\n",
       "      <td>PE_V_PGRS</td>\n",
       "      <td>PE-PGRS family protein PE_PGRS17</td>\n",
       "      <td>PE/PPE</td>\n",
       "      <td>No</td>\n",
       "      <td>0.891067</td>\n",
       "      <td>36.244980</td>\n",
       "      <td>0.115462</td>\n",
       "      <td>70.883534</td>\n",
       "      <td>0.517888</td>\n",
       "      <td>0.619645</td>\n",
       "      <td>0.656292</td>\n",
       "      <td>996</td>\n",
       "    </tr>\n",
       "    <tr>\n",
       "      <th>1510</th>\n",
       "      <td>NC_000962.3</td>\n",
       "      <td>1636003</td>\n",
       "      <td>1638229</td>\n",
       "      <td>-</td>\n",
       "      <td>Rv1452c</td>\n",
       "      <td>PE_PGRS28</td>\n",
       "      <td>CDS</td>\n",
       "      <td>PE/PPEs</td>\n",
       "      <td>PE_V_PGRS</td>\n",
       "      <td>PE-PGRS family protein PE_PGRS28</td>\n",
       "      <td>PE/PPE</td>\n",
       "      <td>No</td>\n",
       "      <td>0.619514</td>\n",
       "      <td>10.197664</td>\n",
       "      <td>0.057053</td>\n",
       "      <td>77.268643</td>\n",
       "      <td>0.768104</td>\n",
       "      <td>0.792689</td>\n",
       "      <td>0.798796</td>\n",
       "      <td>2226</td>\n",
       "    </tr>\n",
       "    <tr>\n",
       "      <th>3654</th>\n",
       "      <td>NC_000962.3</td>\n",
       "      <td>3945793</td>\n",
       "      <td>3950263</td>\n",
       "      <td>+</td>\n",
       "      <td>Rv3514</td>\n",
       "      <td>PE_PGRS57</td>\n",
       "      <td>CDS</td>\n",
       "      <td>PE/PPEs</td>\n",
       "      <td>PE_V_PGRS</td>\n",
       "      <td>PE-PGRS family protein PE_PGRS57</td>\n",
       "      <td>PE/PPE</td>\n",
       "      <td>No</td>\n",
       "      <td>0.498909</td>\n",
       "      <td>4.362416</td>\n",
       "      <td>0.039597</td>\n",
       "      <td>80.581655</td>\n",
       "      <td>0.449548</td>\n",
       "      <td>0.569545</td>\n",
       "      <td>0.612959</td>\n",
       "      <td>4470</td>\n",
       "    </tr>\n",
       "    <tr>\n",
       "      <th>3648</th>\n",
       "      <td>NC_000962.3</td>\n",
       "      <td>3931004</td>\n",
       "      <td>3936710</td>\n",
       "      <td>+</td>\n",
       "      <td>Rv3508</td>\n",
       "      <td>PE_PGRS54</td>\n",
       "      <td>CDS</td>\n",
       "      <td>PE/PPEs</td>\n",
       "      <td>PE_V_PGRS</td>\n",
       "      <td>PE-PGRS family protein PE_PGRS54</td>\n",
       "      <td>PE/PPE</td>\n",
       "      <td>No</td>\n",
       "      <td>0.533376</td>\n",
       "      <td>2.225727</td>\n",
       "      <td>0.036979</td>\n",
       "      <td>80.529267</td>\n",
       "      <td>0.583865</td>\n",
       "      <td>0.662627</td>\n",
       "      <td>0.680470</td>\n",
       "      <td>5706</td>\n",
       "    </tr>\n",
       "    <tr>\n",
       "      <th>1832</th>\n",
       "      <td>NC_000962.3</td>\n",
       "      <td>1997417</td>\n",
       "      <td>1998515</td>\n",
       "      <td>-</td>\n",
       "      <td>Rv1765c</td>\n",
       "      <td>Rv1765c</td>\n",
       "      <td>CDS</td>\n",
       "      <td>Coscolla Repetitive Genes</td>\n",
       "      <td>None</td>\n",
       "      <td>Conserved hypothetical protein</td>\n",
       "      <td>conserved hypotheticals</td>\n",
       "      <td>No</td>\n",
       "      <td>0.518709</td>\n",
       "      <td>0.000000</td>\n",
       "      <td>0.031876</td>\n",
       "      <td>65.027322</td>\n",
       "      <td>0.505438</td>\n",
       "      <td>0.526512</td>\n",
       "      <td>0.534984</td>\n",
       "      <td>1098</td>\n",
       "    </tr>\n",
       "    <tr>\n",
       "      <th>1825</th>\n",
       "      <td>NC_000962.3</td>\n",
       "      <td>1989041</td>\n",
       "      <td>1989566</td>\n",
       "      <td>+</td>\n",
       "      <td>Rv1758</td>\n",
       "      <td>cut1</td>\n",
       "      <td>CDS</td>\n",
       "      <td>NotExcluded</td>\n",
       "      <td>None</td>\n",
       "      <td>Probable cutinase Cut1</td>\n",
       "      <td>cell wall and cell processes</td>\n",
       "      <td>No</td>\n",
       "      <td>0.971273</td>\n",
       "      <td>0.000000</td>\n",
       "      <td>0.030476</td>\n",
       "      <td>64.380952</td>\n",
       "      <td>0.987748</td>\n",
       "      <td>0.993874</td>\n",
       "      <td>0.995099</td>\n",
       "      <td>525</td>\n",
       "    </tr>\n",
       "    <tr>\n",
       "      <th>2362</th>\n",
       "      <td>NC_000962.3</td>\n",
       "      <td>2549123</td>\n",
       "      <td>2550029</td>\n",
       "      <td>-</td>\n",
       "      <td>Rv2277c</td>\n",
       "      <td>Rv2277c</td>\n",
       "      <td>CDS</td>\n",
       "      <td>Coscolla Repetitive Genes</td>\n",
       "      <td>None</td>\n",
       "      <td>Possible glycerolphosphodiesterase</td>\n",
       "      <td>intermediary metabolism and respiration</td>\n",
       "      <td>No</td>\n",
       "      <td>0.998252</td>\n",
       "      <td>95.364238</td>\n",
       "      <td>0.017660</td>\n",
       "      <td>61.920530</td>\n",
       "      <td>0.993226</td>\n",
       "      <td>0.996613</td>\n",
       "      <td>0.997290</td>\n",
       "      <td>906</td>\n",
       "    </tr>\n",
       "    <tr>\n",
       "      <th>288</th>\n",
       "      <td>NC_000962.3</td>\n",
       "      <td>333436</td>\n",
       "      <td>336310</td>\n",
       "      <td>-</td>\n",
       "      <td>Rv0278c</td>\n",
       "      <td>PE_PGRS3</td>\n",
       "      <td>CDS</td>\n",
       "      <td>PE/PPEs</td>\n",
       "      <td>PE_V_PGRS</td>\n",
       "      <td>PE-PGRS family protein PE_PGRS3</td>\n",
       "      <td>PE/PPE</td>\n",
       "      <td>No</td>\n",
       "      <td>0.800054</td>\n",
       "      <td>16.562283</td>\n",
       "      <td>0.014266</td>\n",
       "      <td>77.139875</td>\n",
       "      <td>0.894888</td>\n",
       "      <td>0.974339</td>\n",
       "      <td>0.986256</td>\n",
       "      <td>2874</td>\n",
       "    </tr>\n",
       "    <tr>\n",
       "      <th>2097</th>\n",
       "      <td>NC_000962.3</td>\n",
       "      <td>2268267</td>\n",
       "      <td>2268726</td>\n",
       "      <td>-</td>\n",
       "      <td>Rv2023A</td>\n",
       "      <td>Rv2023A</td>\n",
       "      <td>CDS</td>\n",
       "      <td>NotExcluded</td>\n",
       "      <td>None</td>\n",
       "      <td>Hypothetical protein, pseudogene</td>\n",
       "      <td>conserved hypotheticals</td>\n",
       "      <td>Yes</td>\n",
       "      <td>0.991575</td>\n",
       "      <td>69.063181</td>\n",
       "      <td>0.008715</td>\n",
       "      <td>46.405229</td>\n",
       "      <td>1.000000</td>\n",
       "      <td>1.000000</td>\n",
       "      <td>1.000000</td>\n",
       "      <td>459</td>\n",
       "    </tr>\n",
       "    <tr>\n",
       "      <th>2098</th>\n",
       "      <td>NC_000962.3</td>\n",
       "      <td>2268692</td>\n",
       "      <td>2270240</td>\n",
       "      <td>-</td>\n",
       "      <td>Rv2024c</td>\n",
       "      <td>Rv2024c</td>\n",
       "      <td>CDS</td>\n",
       "      <td>NotExcluded</td>\n",
       "      <td>None</td>\n",
       "      <td>Conserved hypothetical protein</td>\n",
       "      <td>conserved hypotheticals</td>\n",
       "      <td>No</td>\n",
       "      <td>0.997337</td>\n",
       "      <td>90.180879</td>\n",
       "      <td>0.002584</td>\n",
       "      <td>65.762274</td>\n",
       "      <td>1.000000</td>\n",
       "      <td>1.000000</td>\n",
       "      <td>1.000000</td>\n",
       "      <td>1548</td>\n",
       "    </tr>\n",
       "    <tr>\n",
       "      <th>3482</th>\n",
       "      <td>NC_000962.3</td>\n",
       "      <td>3729363</td>\n",
       "      <td>3736935</td>\n",
       "      <td>-</td>\n",
       "      <td>Rv3343c</td>\n",
       "      <td>PPE54</td>\n",
       "      <td>CDS</td>\n",
       "      <td>PE/PPEs</td>\n",
       "      <td>PPE_SL-5_PPE-MPTR</td>\n",
       "      <td>PPE family protein PPE54</td>\n",
       "      <td>PE/PPE</td>\n",
       "      <td>No</td>\n",
       "      <td>0.892788</td>\n",
       "      <td>20.192816</td>\n",
       "      <td>0.002377</td>\n",
       "      <td>61.529319</td>\n",
       "      <td>0.824617</td>\n",
       "      <td>0.857303</td>\n",
       "      <td>0.868067</td>\n",
       "      <td>7572</td>\n",
       "    </tr>\n",
       "    <tr>\n",
       "      <th>2724</th>\n",
       "      <td>NC_000962.3</td>\n",
       "      <td>2945329</td>\n",
       "      <td>2945830</td>\n",
       "      <td>+</td>\n",
       "      <td>Rv2616</td>\n",
       "      <td>Rv2616</td>\n",
       "      <td>CDS</td>\n",
       "      <td>NotExcluded</td>\n",
       "      <td>None</td>\n",
       "      <td>Conserved protein</td>\n",
       "      <td>conserved hypotheticals</td>\n",
       "      <td>No</td>\n",
       "      <td>1.000000</td>\n",
       "      <td>100.000000</td>\n",
       "      <td>0.000000</td>\n",
       "      <td>68.662675</td>\n",
       "      <td>1.000000</td>\n",
       "      <td>1.000000</td>\n",
       "      <td>1.000000</td>\n",
       "      <td>501</td>\n",
       "    </tr>\n",
       "    <tr>\n",
       "      <th>2735</th>\n",
       "      <td>NC_000962.3</td>\n",
       "      <td>2953506</td>\n",
       "      <td>2954748</td>\n",
       "      <td>-</td>\n",
       "      <td>Rv2627c</td>\n",
       "      <td>Rv2627c</td>\n",
       "      <td>CDS</td>\n",
       "      <td>NotExcluded</td>\n",
       "      <td>None</td>\n",
       "      <td>Conserved protein</td>\n",
       "      <td>conserved hypotheticals</td>\n",
       "      <td>No</td>\n",
       "      <td>0.999843</td>\n",
       "      <td>99.436393</td>\n",
       "      <td>0.000000</td>\n",
       "      <td>61.996779</td>\n",
       "      <td>0.999775</td>\n",
       "      <td>1.000000</td>\n",
       "      <td>1.000000</td>\n",
       "      <td>1242</td>\n",
       "    </tr>\n",
       "    <tr>\n",
       "      <th>2722</th>\n",
       "      <td>NC_000962.3</td>\n",
       "      <td>2943375</td>\n",
       "      <td>2943603</td>\n",
       "      <td>+</td>\n",
       "      <td>Rv2614A</td>\n",
       "      <td>Rv2614A</td>\n",
       "      <td>CDS</td>\n",
       "      <td>NotExcluded</td>\n",
       "      <td>None</td>\n",
       "      <td>Conserved hypothetical protein</td>\n",
       "      <td>conserved hypotheticals</td>\n",
       "      <td>No</td>\n",
       "      <td>0.995614</td>\n",
       "      <td>84.210526</td>\n",
       "      <td>0.000000</td>\n",
       "      <td>67.982456</td>\n",
       "      <td>1.000000</td>\n",
       "      <td>1.000000</td>\n",
       "      <td>1.000000</td>\n",
       "      <td>228</td>\n",
       "    </tr>\n",
       "    <tr>\n",
       "      <th>2723</th>\n",
       "      <td>NC_000962.3</td>\n",
       "      <td>2943599</td>\n",
       "      <td>2944985</td>\n",
       "      <td>-</td>\n",
       "      <td>Rv2615c</td>\n",
       "      <td>PE_PGRS45</td>\n",
       "      <td>CDS</td>\n",
       "      <td>PE/PPEs</td>\n",
       "      <td>PE_V_PGRS</td>\n",
       "      <td>PE-PGRS family protein PE_PGRS45</td>\n",
       "      <td>PE/PPE</td>\n",
       "      <td>No</td>\n",
       "      <td>0.859869</td>\n",
       "      <td>15.440115</td>\n",
       "      <td>0.000000</td>\n",
       "      <td>73.376623</td>\n",
       "      <td>0.726719</td>\n",
       "      <td>0.743627</td>\n",
       "      <td>0.750481</td>\n",
       "      <td>1386</td>\n",
       "    </tr>\n",
       "    <tr>\n",
       "      <th>2726</th>\n",
       "      <td>NC_000962.3</td>\n",
       "      <td>2946433</td>\n",
       "      <td>2947111</td>\n",
       "      <td>+</td>\n",
       "      <td>Rv2618</td>\n",
       "      <td>Rv2618</td>\n",
       "      <td>CDS</td>\n",
       "      <td>NotExcluded</td>\n",
       "      <td>None</td>\n",
       "      <td>Conserved hypothetical protein</td>\n",
       "      <td>conserved hypotheticals</td>\n",
       "      <td>No</td>\n",
       "      <td>1.000000</td>\n",
       "      <td>100.000000</td>\n",
       "      <td>0.000000</td>\n",
       "      <td>69.469027</td>\n",
       "      <td>1.000000</td>\n",
       "      <td>1.000000</td>\n",
       "      <td>1.000000</td>\n",
       "      <td>678</td>\n",
       "    </tr>\n",
       "    <tr>\n",
       "      <th>2725</th>\n",
       "      <td>NC_000962.3</td>\n",
       "      <td>2945846</td>\n",
       "      <td>2946287</td>\n",
       "      <td>-</td>\n",
       "      <td>Rv2617c</td>\n",
       "      <td>Rv2617c</td>\n",
       "      <td>CDS</td>\n",
       "      <td>NotExcluded</td>\n",
       "      <td>None</td>\n",
       "      <td>Probable transmembrane protein</td>\n",
       "      <td>cell wall and cell processes</td>\n",
       "      <td>No</td>\n",
       "      <td>1.000000</td>\n",
       "      <td>100.000000</td>\n",
       "      <td>0.000000</td>\n",
       "      <td>62.811791</td>\n",
       "      <td>1.000000</td>\n",
       "      <td>1.000000</td>\n",
       "      <td>1.000000</td>\n",
       "      <td>441</td>\n",
       "    </tr>\n",
       "    <tr>\n",
       "      <th>2734</th>\n",
       "      <td>NC_000962.3</td>\n",
       "      <td>2952561</td>\n",
       "      <td>2952993</td>\n",
       "      <td>-</td>\n",
       "      <td>Rv2626c</td>\n",
       "      <td>hrp1</td>\n",
       "      <td>CDS</td>\n",
       "      <td>NotExcluded</td>\n",
       "      <td>None</td>\n",
       "      <td>Hypoxic response protein 1 Hrp1</td>\n",
       "      <td>conserved hypotheticals</td>\n",
       "      <td>No</td>\n",
       "      <td>1.000000</td>\n",
       "      <td>100.000000</td>\n",
       "      <td>0.000000</td>\n",
       "      <td>61.805556</td>\n",
       "      <td>1.000000</td>\n",
       "      <td>1.000000</td>\n",
       "      <td>1.000000</td>\n",
       "      <td>432</td>\n",
       "    </tr>\n",
       "    <tr>\n",
       "      <th>2733</th>\n",
       "      <td>NC_000962.3</td>\n",
       "      <td>2951321</td>\n",
       "      <td>2952503</td>\n",
       "      <td>-</td>\n",
       "      <td>Rv2625c</td>\n",
       "      <td>Rv2625c</td>\n",
       "      <td>CDS</td>\n",
       "      <td>NotExcluded</td>\n",
       "      <td>None</td>\n",
       "      <td>Probable conserved transmembrane alanine and l...</td>\n",
       "      <td>cell wall and cell processes</td>\n",
       "      <td>No</td>\n",
       "      <td>1.000000</td>\n",
       "      <td>100.000000</td>\n",
       "      <td>0.000000</td>\n",
       "      <td>65.989848</td>\n",
       "      <td>1.000000</td>\n",
       "      <td>1.000000</td>\n",
       "      <td>1.000000</td>\n",
       "      <td>1182</td>\n",
       "    </tr>\n",
       "  </tbody>\n",
       "</table>\n",
       "</div>"
      ],
      "text/plain": [
       "            Chrom    Start      End Strand H37rv_GeneID     Symbol Feature     ExcludedGroup_Category PEandPPE_Subfamily                                            Product                      Functional_Category Is_Pseudogene  Mean_EBR_36CI  gene_PercentPerfect_EBR_36CI  gene_ProportionWith_NANs_EBR_36CI  gene_GC_Content  Mean_PileupMapScore_K50_E4  Mean_PileupMapScore_K100_E4  Mean_PileupMapScore_K125_E4  Length\n",
       "1427  NC_000962.3  1541993  1542980      -      Rv1369c    Rv1369c     CDS   InsertionSeqs_And_Phages               None                               Probable transposase                insertion seqs and phages            No            NaN                      0.000000                           1.000000        64.032421                    0.062521                     0.074917                     0.084520     987\n",
       "2364  NC_000962.3  2550339  2551326      +       Rv2279     Rv2279     CDS   InsertionSeqs_And_Phages               None                               Probable transposase                insertion seqs and phages            No            NaN                      0.000000                           1.000000        64.032421                    0.062501                     0.073655                     0.083003     987\n",
       "1824  NC_000962.3  1988679  1989006      -      Rv1757c    Rv1757c     CDS   InsertionSeqs_And_Phages               None  Putative transposase for insertion sequence el...                insertion seqs and phages            No            NaN                      0.000000                           1.000000        65.749235                    0.062500                     0.084164                     0.109273     327\n",
       "1428  NC_000962.3  1542928  1543255      -      Rv1370c    Rv1370c     CDS   InsertionSeqs_And_Phages               None  Putative transposase for insertion sequence el...                insertion seqs and phages            No            NaN                      0.000000                           1.000000        65.749235                    0.062500                     0.086054                     0.111746     327\n",
       "1830  NC_000962.3  1996151  1996478      +       Rv1763     Rv1763     CDS   InsertionSeqs_And_Phages               None  Putative transposase for insertion sequence el...                insertion seqs and phages            No            NaN                      0.000000                           1.000000        65.749235                    0.062500                     0.087036                     0.113010     327\n",
       "1831  NC_000962.3  1996426  1997413      +       Rv1764     Rv1764     CDS   InsertionSeqs_And_Phages               None                               Putative transposase                insertion seqs and phages            No            NaN                      0.000000                           1.000000        64.032421                    0.062501                     0.073615                     0.082955     987\n",
       "2448  NC_000962.3  2635902  2636889      +       Rv2355     Rv2355     CDS   InsertionSeqs_And_Phages               None                               Probable transposase                insertion seqs and phages            No            NaN                      0.000000                           1.000000        64.032421                    0.062501                     0.074387                     0.083888     987\n",
       "2447  NC_000962.3  2635627  2635954      +       Rv2354     Rv2354     CDS   InsertionSeqs_And_Phages               None  Probable transposase for insertion sequence el...                insertion seqs and phages            No            NaN                      0.000000                           1.000000        65.749235                    0.062500                     0.086955                     0.112908     327\n",
       "2446  NC_000962.3  2634527  2635592      -      Rv2353c      PPE39     CDS                    PE/PPEs               None                           PPE family protein PPE39                                   PE/PPE            No            NaN                      0.000000                           1.000000        57.276995                    0.933542                     0.988602                     0.998018    1065\n",
       "2445  NC_000962.3  2632922  2634098      -      Rv2352c      PPE38     CDS                    PE/PPEs   PPE_SL-4_PPE-SVP                           PPE family protein PPE38                                   PE/PPE            No            NaN                      0.000000                           1.000000        69.387755                    0.976134                     1.000000                     1.000000    1176\n",
       "3615  NC_000962.3  3891104  3892091      +       Rv3475     Rv3475     CDS   InsertionSeqs_And_Phages               None  Possible transposase for insertion element IS6...                insertion seqs and phages            No            NaN                      0.000000                           1.000000        64.032421                    0.062501                     0.073384                     0.082675     987\n",
       "2363  NC_000962.3  2550064  2550391      +       Rv2278     Rv2278     CDS   InsertionSeqs_And_Phages               None  Putative transposase for insertion sequence el...                insertion seqs and phages            No            NaN                      0.000000                           1.000000        65.749235                    0.062500                     0.084967                     0.110302     327\n",
       "3614  NC_000962.3  3890829  3891156      +       Rv3474     Rv3474     CDS   InsertionSeqs_And_Phages               None  Possible transposase for insertion element IS6...                insertion seqs and phages            No            NaN                      0.000000                           1.000000        65.749235                    0.062500                     0.088159                     0.114449     327\n",
       "1823  NC_000962.3  1987744  1988731      -      Rv1756c    Rv1756c     CDS   InsertionSeqs_And_Phages               None                               Putative transposase                insertion seqs and phages            No            NaN                      0.000000                           1.000000        64.032421                    0.062510                     0.074163                     0.083615     987\n",
       "830   NC_000962.3   889346   890333      +       Rv0796     Rv0796     CDS   InsertionSeqs_And_Phages               None  Putative transposase for insertion sequence el...                insertion seqs and phages            No            NaN                      0.000000                           1.000000        64.032421                    0.062503                     0.067848                     0.072238     987\n",
       "829   NC_000962.3   889071   889398      +       Rv0795     Rv0795     CDS   InsertionSeqs_And_Phages               None  Putative transposase for insertion sequence el...                insertion seqs and phages            No            NaN                      0.000000                           1.000000        65.749235                    0.062500                     0.087750                     0.113928     327\n",
       "1374  NC_000962.3  1480893  1482501      -      Rv1319c    Rv1319c     CDS  Coscolla Repetitive Genes               None  Possible adenylate cyclase (ATP pyrophosphate-...  intermediary metabolism and respiration            No       0.998621                     54.975124                           0.449005        64.241294                    0.971289                     1.000000                     1.000000    1608\n",
       "2649  NC_000962.3  2867123  2867786      +       Rv2544       lppB     CDS  Coscolla Repetitive Genes               None                Probable conserved lipoprotein LppB             cell wall and cell processes            No       0.989005                     35.897436                           0.417798        59.426848                    0.718748                     0.948741                     0.998492     663\n",
       "2648  NC_000962.3  2866467  2867127      +       Rv2543       lppA     CDS  Coscolla Repetitive Genes               None                Probable conserved lipoprotein LppA             cell wall and cell processes            No       0.991049                     61.060606                           0.371212        61.060606                    0.717152                     0.948348                     0.998485     660\n",
       "2449  NC_000962.3  2637687  2639535      -      Rv2356c      PPE40     CDS                    PE/PPEs  PPE_SL-5_PPE-MPTR                           PPE family protein PPE40                                   PE/PPE            No       0.989899                     48.430736                           0.297619        61.634199                    0.948391                     0.994191                     1.000000    1848\n",
       "3287  NC_000962.3  3527390  3529163      -      Rv3159c      PPE53     CDS                    PE/PPEs  PPE_SL-5_PPE-MPTR                           PPE family protein PPE53                                   PE/PPE            No       0.995738                     69.091935                           0.274112        61.590525                    0.969898                     1.000000                     1.000000    1773\n",
       "1018  NC_000962.3  1093360  1094356      -      Rv0978c  PE_PGRS17     CDS                    PE/PPEs          PE_V_PGRS                   PE-PGRS family protein PE_PGRS17                                   PE/PPE            No       0.891067                     36.244980                           0.115462        70.883534                    0.517888                     0.619645                     0.656292     996\n",
       "1510  NC_000962.3  1636003  1638229      -      Rv1452c  PE_PGRS28     CDS                    PE/PPEs          PE_V_PGRS                   PE-PGRS family protein PE_PGRS28                                   PE/PPE            No       0.619514                     10.197664                           0.057053        77.268643                    0.768104                     0.792689                     0.798796    2226\n",
       "3654  NC_000962.3  3945793  3950263      +       Rv3514  PE_PGRS57     CDS                    PE/PPEs          PE_V_PGRS                   PE-PGRS family protein PE_PGRS57                                   PE/PPE            No       0.498909                      4.362416                           0.039597        80.581655                    0.449548                     0.569545                     0.612959    4470\n",
       "3648  NC_000962.3  3931004  3936710      +       Rv3508  PE_PGRS54     CDS                    PE/PPEs          PE_V_PGRS                   PE-PGRS family protein PE_PGRS54                                   PE/PPE            No       0.533376                      2.225727                           0.036979        80.529267                    0.583865                     0.662627                     0.680470    5706\n",
       "1832  NC_000962.3  1997417  1998515      -      Rv1765c    Rv1765c     CDS  Coscolla Repetitive Genes               None                     Conserved hypothetical protein                  conserved hypotheticals            No       0.518709                      0.000000                           0.031876        65.027322                    0.505438                     0.526512                     0.534984    1098\n",
       "1825  NC_000962.3  1989041  1989566      +       Rv1758       cut1     CDS                NotExcluded               None                             Probable cutinase Cut1             cell wall and cell processes            No       0.971273                      0.000000                           0.030476        64.380952                    0.987748                     0.993874                     0.995099     525\n",
       "2362  NC_000962.3  2549123  2550029      -      Rv2277c    Rv2277c     CDS  Coscolla Repetitive Genes               None                 Possible glycerolphosphodiesterase  intermediary metabolism and respiration            No       0.998252                     95.364238                           0.017660        61.920530                    0.993226                     0.996613                     0.997290     906\n",
       "288   NC_000962.3   333436   336310      -      Rv0278c   PE_PGRS3     CDS                    PE/PPEs          PE_V_PGRS                    PE-PGRS family protein PE_PGRS3                                   PE/PPE            No       0.800054                     16.562283                           0.014266        77.139875                    0.894888                     0.974339                     0.986256    2874\n",
       "2097  NC_000962.3  2268267  2268726      -      Rv2023A    Rv2023A     CDS                NotExcluded               None                   Hypothetical protein, pseudogene                  conserved hypotheticals           Yes       0.991575                     69.063181                           0.008715        46.405229                    1.000000                     1.000000                     1.000000     459\n",
       "2098  NC_000962.3  2268692  2270240      -      Rv2024c    Rv2024c     CDS                NotExcluded               None                     Conserved hypothetical protein                  conserved hypotheticals            No       0.997337                     90.180879                           0.002584        65.762274                    1.000000                     1.000000                     1.000000    1548\n",
       "3482  NC_000962.3  3729363  3736935      -      Rv3343c      PPE54     CDS                    PE/PPEs  PPE_SL-5_PPE-MPTR                           PPE family protein PPE54                                   PE/PPE            No       0.892788                     20.192816                           0.002377        61.529319                    0.824617                     0.857303                     0.868067    7572\n",
       "2724  NC_000962.3  2945329  2945830      +       Rv2616     Rv2616     CDS                NotExcluded               None                                  Conserved protein                  conserved hypotheticals            No       1.000000                    100.000000                           0.000000        68.662675                    1.000000                     1.000000                     1.000000     501\n",
       "2735  NC_000962.3  2953506  2954748      -      Rv2627c    Rv2627c     CDS                NotExcluded               None                                  Conserved protein                  conserved hypotheticals            No       0.999843                     99.436393                           0.000000        61.996779                    0.999775                     1.000000                     1.000000    1242\n",
       "2722  NC_000962.3  2943375  2943603      +      Rv2614A    Rv2614A     CDS                NotExcluded               None                     Conserved hypothetical protein                  conserved hypotheticals            No       0.995614                     84.210526                           0.000000        67.982456                    1.000000                     1.000000                     1.000000     228\n",
       "2723  NC_000962.3  2943599  2944985      -      Rv2615c  PE_PGRS45     CDS                    PE/PPEs          PE_V_PGRS                   PE-PGRS family protein PE_PGRS45                                   PE/PPE            No       0.859869                     15.440115                           0.000000        73.376623                    0.726719                     0.743627                     0.750481    1386\n",
       "2726  NC_000962.3  2946433  2947111      +       Rv2618     Rv2618     CDS                NotExcluded               None                     Conserved hypothetical protein                  conserved hypotheticals            No       1.000000                    100.000000                           0.000000        69.469027                    1.000000                     1.000000                     1.000000     678\n",
       "2725  NC_000962.3  2945846  2946287      -      Rv2617c    Rv2617c     CDS                NotExcluded               None                     Probable transmembrane protein             cell wall and cell processes            No       1.000000                    100.000000                           0.000000        62.811791                    1.000000                     1.000000                     1.000000     441\n",
       "2734  NC_000962.3  2952561  2952993      -      Rv2626c       hrp1     CDS                NotExcluded               None                    Hypoxic response protein 1 Hrp1                  conserved hypotheticals            No       1.000000                    100.000000                           0.000000        61.805556                    1.000000                     1.000000                     1.000000     432\n",
       "2733  NC_000962.3  2951321  2952503      -      Rv2625c    Rv2625c     CDS                NotExcluded               None  Probable conserved transmembrane alanine and l...             cell wall and cell processes            No       1.000000                    100.000000                           0.000000        65.989848                    1.000000                     1.000000                     1.000000    1182"
      ]
     },
     "execution_count": 75,
     "metadata": {},
     "output_type": "execute_result"
    }
   ],
   "source": [
    "GLA_DF.sort_values(\"gene_ProportionWith_NANs_EBR_36CI\", ascending=False).head(40)"
   ]
  },
  {
   "cell_type": "code",
   "execution_count": null,
   "metadata": {},
   "outputs": [],
   "source": []
  },
  {
   "cell_type": "code",
   "execution_count": 76,
   "metadata": {},
   "outputs": [
    {
     "data": {
      "text/plain": [
       "conserved hypotheticals                    1042\n",
       "intermediary metabolism and respiration     936\n",
       "cell wall and cell processes                772\n",
       "lipid metabolism                            272\n",
       "information pathways                        242\n",
       "virulence, detoxification, adaptation       239\n",
       "regulatory proteins                         198\n",
       "PE/PPE                                      168\n",
       "insertion seqs and phages                   147\n",
       "stable RNAs                                  48\n",
       "unknown                                      15\n",
       "Name: Functional_Category, dtype: int64"
      ]
     },
     "execution_count": 76,
     "metadata": {},
     "output_type": "execute_result"
    }
   ],
   "source": [
    "GLA_DF[\"Functional_Category\"].value_counts()"
   ]
  },
  {
   "cell_type": "code",
   "execution_count": null,
   "metadata": {},
   "outputs": [],
   "source": []
  },
  {
   "cell_type": "code",
   "execution_count": null,
   "metadata": {},
   "outputs": [],
   "source": []
  },
  {
   "cell_type": "markdown",
   "metadata": {},
   "source": [
    "## Further QC and exploration of data - Eval coorelation between Pmap and EBR (@ gene level)"
   ]
  },
  {
   "cell_type": "code",
   "execution_count": 77,
   "metadata": {},
   "outputs": [],
   "source": [
    "#GLA_DF.head(3)"
   ]
  },
  {
   "cell_type": "code",
   "execution_count": 78,
   "metadata": {},
   "outputs": [],
   "source": [
    "from scipy.stats import pearsonr\n",
    "from scipy.stats import spearmanr"
   ]
  },
  {
   "cell_type": "markdown",
   "metadata": {},
   "source": [
    "### \"Mean_EBR_36CI\" vs \"Mean_MapScore_K50_E4\""
   ]
  },
  {
   "cell_type": "code",
   "execution_count": 79,
   "metadata": {},
   "outputs": [
    {
     "data": {
      "image/png": "[encoded data removed]",
      "text/plain": [
       "<Figure size 432x288 with 1 Axes>"
      ]
     },
     "metadata": {
      "needs_background": "light"
     },
     "output_type": "display_data"
    },
    {
     "name": "stdout",
     "output_type": "stream",
     "text": [
      "Pearson:  0.7250984552518909\n",
      "Spearman:  0.3442239560708048\n"
     ]
    }
   ],
   "source": [
    "plt.scatter(x = GLA_DF[\"Mean_EBR_36CI\"],\n",
    "            y = GLA_DF[\"Mean_PileupMapScore_K50_E4\"],\n",
    "            alpha = 0.2)\n",
    "\n",
    "plt.xlabel(\"Mean_EBR_36CI\")\n",
    "plt.ylabel(\"Mean_PileupMapScore_K50_E4\")\n",
    "\n",
    "plt.show()\n",
    "\n",
    "print(\"Pearson: \", pearsonr(  GLA_DF[\"Mean_EBR_36CI\"].fillna(0), GLA_DF[\"Mean_PileupMapScore_K50_E4\"].fillna(0) )[0]  ) \n",
    "print( \"Spearman: \", spearmanr(  GLA_DF[\"Mean_EBR_36CI\"].fillna(0), GLA_DF[\"Mean_PileupMapScore_K50_E4\"].fillna(0) )[0]  )  \n"
   ]
  },
  {
   "cell_type": "markdown",
   "metadata": {},
   "source": [
    "### \"Mean_EBR_36CI\" vs \"Mean_MapScore_K100_E4\""
   ]
  },
  {
   "cell_type": "code",
   "execution_count": 80,
   "metadata": {},
   "outputs": [
    {
     "data": {
      "image/png": "[encoded data removed]",
      "text/plain": [
       "<Figure size 432x288 with 1 Axes>"
      ]
     },
     "metadata": {
      "needs_background": "light"
     },
     "output_type": "display_data"
    },
    {
     "name": "stdout",
     "output_type": "stream",
     "text": [
      "Pearson:  0.7410152150103362\n",
      "Spearman:  0.3259010795842268\n"
     ]
    }
   ],
   "source": [
    "plt.scatter(x = GLA_DF[\"Mean_EBR_36CI\"],\n",
    "            y = GLA_DF[\"Mean_PileupMapScore_K100_E4\"],\n",
    "            alpha = 0.2)\n",
    "\n",
    "plt.xlabel(\"Mean_EBR_28CI\")\n",
    "plt.ylabel(\"Mean_MapScore_K100_E4\")\n",
    "\n",
    "plt.show()\n",
    "\n",
    "print(\"Pearson: \", pearsonr(  GLA_DF[\"Mean_EBR_36CI\"].fillna(0), GLA_DF[\"Mean_PileupMapScore_K100_E4\"].fillna(0) )[0]  ) \n",
    "print( \"Spearman: \", spearmanr(  GLA_DF[\"Mean_EBR_36CI\"].fillna(0), GLA_DF[\"Mean_PileupMapScore_K100_E4\"].fillna(0) )[0]  )  \n"
   ]
  },
  {
   "cell_type": "code",
   "execution_count": null,
   "metadata": {},
   "outputs": [],
   "source": []
  },
  {
   "cell_type": "code",
   "execution_count": null,
   "metadata": {},
   "outputs": [],
   "source": []
  },
  {
   "cell_type": "code",
   "execution_count": null,
   "metadata": {},
   "outputs": [],
   "source": []
  },
  {
   "cell_type": "code",
   "execution_count": null,
   "metadata": {},
   "outputs": [],
   "source": []
  },
  {
   "cell_type": "code",
   "execution_count": null,
   "metadata": {},
   "outputs": [],
   "source": []
  },
  {
   "cell_type": "code",
   "execution_count": null,
   "metadata": {},
   "outputs": [],
   "source": []
  },
  {
   "cell_type": "code",
   "execution_count": null,
   "metadata": {},
   "outputs": [],
   "source": []
  },
  {
   "cell_type": "markdown",
   "metadata": {},
   "source": [
    "# PE & PPE gene family analysis"
   ]
  },
  {
   "cell_type": "code",
   "execution_count": 81,
   "metadata": {},
   "outputs": [
    {
     "data": {
      "text/html": [
       "<div>\n",
       "<style scoped>\n",
       "    .dataframe tbody tr th:only-of-type {\n",
       "        vertical-align: middle;\n",
       "    }\n",
       "\n",
       "    .dataframe tbody tr th {\n",
       "        vertical-align: top;\n",
       "    }\n",
       "\n",
       "    .dataframe thead th {\n",
       "        text-align: right;\n",
       "    }\n",
       "</style>\n",
       "<table border=\"1\" class=\"dataframe\">\n",
       "  <thead>\n",
       "    <tr style=\"text-align: right;\">\n",
       "      <th></th>\n",
       "      <th>Chrom</th>\n",
       "      <th>Start</th>\n",
       "      <th>End</th>\n",
       "      <th>Strand</th>\n",
       "      <th>H37rv_GeneID</th>\n",
       "      <th>Symbol</th>\n",
       "      <th>Feature</th>\n",
       "      <th>ExcludedGroup_Category</th>\n",
       "      <th>PEandPPE_Subfamily</th>\n",
       "      <th>Product</th>\n",
       "      <th>Functional_Category</th>\n",
       "      <th>Is_Pseudogene</th>\n",
       "      <th>Mean_EBR_36CI</th>\n",
       "      <th>gene_PercentPerfect_EBR_36CI</th>\n",
       "      <th>gene_ProportionWith_NANs_EBR_36CI</th>\n",
       "      <th>gene_GC_Content</th>\n",
       "      <th>Mean_PileupMapScore_K50_E4</th>\n",
       "      <th>Mean_PileupMapScore_K100_E4</th>\n",
       "      <th>Mean_PileupMapScore_K125_E4</th>\n",
       "      <th>Length</th>\n",
       "    </tr>\n",
       "  </thead>\n",
       "  <tbody>\n",
       "    <tr>\n",
       "      <th>101</th>\n",
       "      <td>NC_000962.3</td>\n",
       "      <td>105323</td>\n",
       "      <td>106715</td>\n",
       "      <td>+</td>\n",
       "      <td>Rv0096</td>\n",
       "      <td>PPE1</td>\n",
       "      <td>CDS</td>\n",
       "      <td>PE/PPEs</td>\n",
       "      <td>PPE_SL-2_PPE-PPW</td>\n",
       "      <td>PPE family protein PPE1</td>\n",
       "      <td>PE/PPE</td>\n",
       "      <td>No</td>\n",
       "      <td>0.999800</td>\n",
       "      <td>99.281609</td>\n",
       "      <td>0.0</td>\n",
       "      <td>65.086207</td>\n",
       "      <td>1.000000</td>\n",
       "      <td>1.0</td>\n",
       "      <td>1.0</td>\n",
       "      <td>1392</td>\n",
       "    </tr>\n",
       "    <tr>\n",
       "      <th>114</th>\n",
       "      <td>NC_000962.3</td>\n",
       "      <td>131381</td>\n",
       "      <td>132872</td>\n",
       "      <td>+</td>\n",
       "      <td>Rv0109</td>\n",
       "      <td>PE_PGRS1</td>\n",
       "      <td>CDS</td>\n",
       "      <td>PE/PPEs</td>\n",
       "      <td>PE_V_PGRS</td>\n",
       "      <td>PE-PGRS family protein PE_PGRS1</td>\n",
       "      <td>PE/PPE</td>\n",
       "      <td>No</td>\n",
       "      <td>0.946661</td>\n",
       "      <td>38.363514</td>\n",
       "      <td>0.0</td>\n",
       "      <td>72.568746</td>\n",
       "      <td>0.996199</td>\n",
       "      <td>1.0</td>\n",
       "      <td>1.0</td>\n",
       "      <td>1491</td>\n",
       "    </tr>\n",
       "  </tbody>\n",
       "</table>\n",
       "</div>"
      ],
      "text/plain": [
       "           Chrom   Start     End Strand H37rv_GeneID    Symbol Feature ExcludedGroup_Category PEandPPE_Subfamily                          Product Functional_Category Is_Pseudogene  Mean_EBR_36CI  gene_PercentPerfect_EBR_36CI  gene_ProportionWith_NANs_EBR_36CI  gene_GC_Content  Mean_PileupMapScore_K50_E4  Mean_PileupMapScore_K100_E4  Mean_PileupMapScore_K125_E4  Length\n",
       "101  NC_000962.3  105323  106715      +       Rv0096      PPE1     CDS                PE/PPEs   PPE_SL-2_PPE-PPW          PPE family protein PPE1              PE/PPE            No       0.999800                     99.281609                                0.0        65.086207                    1.000000                          1.0                          1.0    1392\n",
       "114  NC_000962.3  131381  132872      +       Rv0109  PE_PGRS1     CDS                PE/PPEs          PE_V_PGRS  PE-PGRS family protein PE_PGRS1              PE/PPE            No       0.946661                     38.363514                                0.0        72.568746                    0.996199                          1.0                          1.0    1491"
      ]
     },
     "execution_count": 81,
     "metadata": {},
     "output_type": "execute_result"
    }
   ],
   "source": [
    "GLA_PEPPEs_DF.head(2)"
   ]
  },
  {
   "cell_type": "code",
   "execution_count": 82,
   "metadata": {},
   "outputs": [
    {
     "data": {
      "text/plain": [
       "(40, 20)"
      ]
     },
     "execution_count": 82,
     "metadata": {},
     "output_type": "execute_result"
    }
   ],
   "source": [
    "GLA_PEPPEs_DF[  GLA_PEPPEs_DF[\"Mean_EBR_36CI\"] == 1.0  ].shape"
   ]
  },
  {
   "cell_type": "code",
   "execution_count": 83,
   "metadata": {},
   "outputs": [
    {
     "data": {
      "text/plain": [
       "(88, 20)"
      ]
     },
     "execution_count": 83,
     "metadata": {},
     "output_type": "execute_result"
    }
   ],
   "source": [
    "GLA_PEPPEs_DF[  GLA_PEPPEs_DF[\"Mean_EBR_36CI\"] >= 0.99  ].shape"
   ]
  },
  {
   "cell_type": "code",
   "execution_count": null,
   "metadata": {},
   "outputs": [],
   "source": []
  },
  {
   "cell_type": "code",
   "execution_count": 84,
   "metadata": {},
   "outputs": [],
   "source": [
    "## Top 5 PE/PPE genes with the lowest EBR"
   ]
  },
  {
   "cell_type": "code",
   "execution_count": 85,
   "metadata": {},
   "outputs": [
    {
     "data": {
      "text/html": [
       "<div>\n",
       "<style scoped>\n",
       "    .dataframe tbody tr th:only-of-type {\n",
       "        vertical-align: middle;\n",
       "    }\n",
       "\n",
       "    .dataframe tbody tr th {\n",
       "        vertical-align: top;\n",
       "    }\n",
       "\n",
       "    .dataframe thead th {\n",
       "        text-align: right;\n",
       "    }\n",
       "</style>\n",
       "<table border=\"1\" class=\"dataframe\">\n",
       "  <thead>\n",
       "    <tr style=\"text-align: right;\">\n",
       "      <th></th>\n",
       "      <th>Chrom</th>\n",
       "      <th>Start</th>\n",
       "      <th>End</th>\n",
       "      <th>Strand</th>\n",
       "      <th>H37rv_GeneID</th>\n",
       "      <th>Symbol</th>\n",
       "      <th>Feature</th>\n",
       "      <th>ExcludedGroup_Category</th>\n",
       "      <th>PEandPPE_Subfamily</th>\n",
       "      <th>Product</th>\n",
       "      <th>Functional_Category</th>\n",
       "      <th>Is_Pseudogene</th>\n",
       "      <th>Mean_EBR_36CI</th>\n",
       "      <th>gene_PercentPerfect_EBR_36CI</th>\n",
       "      <th>gene_ProportionWith_NANs_EBR_36CI</th>\n",
       "      <th>gene_GC_Content</th>\n",
       "      <th>Mean_PileupMapScore_K50_E4</th>\n",
       "      <th>Mean_PileupMapScore_K100_E4</th>\n",
       "      <th>Mean_PileupMapScore_K125_E4</th>\n",
       "      <th>Length</th>\n",
       "    </tr>\n",
       "  </thead>\n",
       "  <tbody>\n",
       "    <tr>\n",
       "      <th>3654</th>\n",
       "      <td>NC_000962.3</td>\n",
       "      <td>3945793</td>\n",
       "      <td>3950263</td>\n",
       "      <td>+</td>\n",
       "      <td>Rv3514</td>\n",
       "      <td>PE_PGRS57</td>\n",
       "      <td>CDS</td>\n",
       "      <td>PE/PPEs</td>\n",
       "      <td>PE_V_PGRS</td>\n",
       "      <td>PE-PGRS family protein PE_PGRS57</td>\n",
       "      <td>PE/PPE</td>\n",
       "      <td>No</td>\n",
       "      <td>0.498909</td>\n",
       "      <td>4.362416</td>\n",
       "      <td>0.039597</td>\n",
       "      <td>80.581655</td>\n",
       "      <td>0.449548</td>\n",
       "      <td>0.569545</td>\n",
       "      <td>0.612959</td>\n",
       "      <td>4470</td>\n",
       "    </tr>\n",
       "    <tr>\n",
       "      <th>3648</th>\n",
       "      <td>NC_000962.3</td>\n",
       "      <td>3931004</td>\n",
       "      <td>3936710</td>\n",
       "      <td>+</td>\n",
       "      <td>Rv3508</td>\n",
       "      <td>PE_PGRS54</td>\n",
       "      <td>CDS</td>\n",
       "      <td>PE/PPEs</td>\n",
       "      <td>PE_V_PGRS</td>\n",
       "      <td>PE-PGRS family protein PE_PGRS54</td>\n",
       "      <td>PE/PPE</td>\n",
       "      <td>No</td>\n",
       "      <td>0.533376</td>\n",
       "      <td>2.225727</td>\n",
       "      <td>0.036979</td>\n",
       "      <td>80.529267</td>\n",
       "      <td>0.583865</td>\n",
       "      <td>0.662627</td>\n",
       "      <td>0.680470</td>\n",
       "      <td>5706</td>\n",
       "    </tr>\n",
       "    <tr>\n",
       "      <th>1510</th>\n",
       "      <td>NC_000962.3</td>\n",
       "      <td>1636003</td>\n",
       "      <td>1638229</td>\n",
       "      <td>-</td>\n",
       "      <td>Rv1452c</td>\n",
       "      <td>PE_PGRS28</td>\n",
       "      <td>CDS</td>\n",
       "      <td>PE/PPEs</td>\n",
       "      <td>PE_V_PGRS</td>\n",
       "      <td>PE-PGRS family protein PE_PGRS28</td>\n",
       "      <td>PE/PPE</td>\n",
       "      <td>No</td>\n",
       "      <td>0.619514</td>\n",
       "      <td>10.197664</td>\n",
       "      <td>0.057053</td>\n",
       "      <td>77.268643</td>\n",
       "      <td>0.768104</td>\n",
       "      <td>0.792689</td>\n",
       "      <td>0.798796</td>\n",
       "      <td>2226</td>\n",
       "    </tr>\n",
       "    <tr>\n",
       "      <th>871</th>\n",
       "      <td>NC_000962.3</td>\n",
       "      <td>925360</td>\n",
       "      <td>927610</td>\n",
       "      <td>+</td>\n",
       "      <td>Rv0833</td>\n",
       "      <td>PE_PGRS13</td>\n",
       "      <td>CDS</td>\n",
       "      <td>PE/PPEs</td>\n",
       "      <td>PE_V_PGRS</td>\n",
       "      <td>PE-PGRS family protein PE_PGRS13</td>\n",
       "      <td>PE/PPE</td>\n",
       "      <td>No</td>\n",
       "      <td>0.661951</td>\n",
       "      <td>2.800000</td>\n",
       "      <td>0.000000</td>\n",
       "      <td>81.288889</td>\n",
       "      <td>0.947138</td>\n",
       "      <td>1.000000</td>\n",
       "      <td>1.000000</td>\n",
       "      <td>2250</td>\n",
       "    </tr>\n",
       "    <tr>\n",
       "      <th>3145</th>\n",
       "      <td>NC_000962.3</td>\n",
       "      <td>3380439</td>\n",
       "      <td>3380682</td>\n",
       "      <td>-</td>\n",
       "      <td>Rv3022c</td>\n",
       "      <td>PPE48</td>\n",
       "      <td>CDS</td>\n",
       "      <td>PE/PPEs</td>\n",
       "      <td>PPE_SL-2_PPE-PPW</td>\n",
       "      <td>PPE family protein PPE48</td>\n",
       "      <td>PE/PPE</td>\n",
       "      <td>Yes</td>\n",
       "      <td>0.711020</td>\n",
       "      <td>0.000000</td>\n",
       "      <td>0.000000</td>\n",
       "      <td>70.370370</td>\n",
       "      <td>0.547325</td>\n",
       "      <td>0.638889</td>\n",
       "      <td>0.688066</td>\n",
       "      <td>243</td>\n",
       "    </tr>\n",
       "  </tbody>\n",
       "</table>\n",
       "</div>"
      ],
      "text/plain": [
       "            Chrom    Start      End Strand H37rv_GeneID     Symbol Feature ExcludedGroup_Category PEandPPE_Subfamily                           Product Functional_Category Is_Pseudogene  Mean_EBR_36CI  gene_PercentPerfect_EBR_36CI  gene_ProportionWith_NANs_EBR_36CI  gene_GC_Content  Mean_PileupMapScore_K50_E4  Mean_PileupMapScore_K100_E4  Mean_PileupMapScore_K125_E4  Length\n",
       "3654  NC_000962.3  3945793  3950263      +       Rv3514  PE_PGRS57     CDS                PE/PPEs          PE_V_PGRS  PE-PGRS family protein PE_PGRS57              PE/PPE            No       0.498909                      4.362416                           0.039597        80.581655                    0.449548                     0.569545                     0.612959    4470\n",
       "3648  NC_000962.3  3931004  3936710      +       Rv3508  PE_PGRS54     CDS                PE/PPEs          PE_V_PGRS  PE-PGRS family protein PE_PGRS54              PE/PPE            No       0.533376                      2.225727                           0.036979        80.529267                    0.583865                     0.662627                     0.680470    5706\n",
       "1510  NC_000962.3  1636003  1638229      -      Rv1452c  PE_PGRS28     CDS                PE/PPEs          PE_V_PGRS  PE-PGRS family protein PE_PGRS28              PE/PPE            No       0.619514                     10.197664                           0.057053        77.268643                    0.768104                     0.792689                     0.798796    2226\n",
       "871   NC_000962.3   925360   927610      +       Rv0833  PE_PGRS13     CDS                PE/PPEs          PE_V_PGRS  PE-PGRS family protein PE_PGRS13              PE/PPE            No       0.661951                      2.800000                           0.000000        81.288889                    0.947138                     1.000000                     1.000000    2250\n",
       "3145  NC_000962.3  3380439  3380682      -      Rv3022c      PPE48     CDS                PE/PPEs   PPE_SL-2_PPE-PPW          PPE family protein PPE48              PE/PPE           Yes       0.711020                      0.000000                           0.000000        70.370370                    0.547325                     0.638889                     0.688066     243"
      ]
     },
     "execution_count": 85,
     "metadata": {},
     "output_type": "execute_result"
    }
   ],
   "source": [
    "GLA_DF[ GLA_DF[\"Functional_Category\"] == \"PE/PPE\"].sort_values(\"Mean_EBR_36CI\").head(5)"
   ]
  },
  {
   "cell_type": "code",
   "execution_count": 86,
   "metadata": {},
   "outputs": [],
   "source": [
    "## Top 5 PE/PPE genes with the highest EBR"
   ]
  },
  {
   "cell_type": "code",
   "execution_count": 87,
   "metadata": {},
   "outputs": [
    {
     "data": {
      "text/html": [
       "<div>\n",
       "<style scoped>\n",
       "    .dataframe tbody tr th:only-of-type {\n",
       "        vertical-align: middle;\n",
       "    }\n",
       "\n",
       "    .dataframe tbody tr th {\n",
       "        vertical-align: top;\n",
       "    }\n",
       "\n",
       "    .dataframe thead th {\n",
       "        text-align: right;\n",
       "    }\n",
       "</style>\n",
       "<table border=\"1\" class=\"dataframe\">\n",
       "  <thead>\n",
       "    <tr style=\"text-align: right;\">\n",
       "      <th></th>\n",
       "      <th>Chrom</th>\n",
       "      <th>Start</th>\n",
       "      <th>End</th>\n",
       "      <th>Strand</th>\n",
       "      <th>H37rv_GeneID</th>\n",
       "      <th>Symbol</th>\n",
       "      <th>Feature</th>\n",
       "      <th>ExcludedGroup_Category</th>\n",
       "      <th>PEandPPE_Subfamily</th>\n",
       "      <th>Product</th>\n",
       "      <th>Functional_Category</th>\n",
       "      <th>Is_Pseudogene</th>\n",
       "      <th>Mean_EBR_36CI</th>\n",
       "      <th>gene_PercentPerfect_EBR_36CI</th>\n",
       "      <th>gene_ProportionWith_NANs_EBR_36CI</th>\n",
       "      <th>gene_GC_Content</th>\n",
       "      <th>Mean_PileupMapScore_K50_E4</th>\n",
       "      <th>Mean_PileupMapScore_K100_E4</th>\n",
       "      <th>Mean_PileupMapScore_K125_E4</th>\n",
       "      <th>Length</th>\n",
       "    </tr>\n",
       "  </thead>\n",
       "  <tbody>\n",
       "    <tr>\n",
       "      <th>1874</th>\n",
       "      <td>NC_000962.3</td>\n",
       "      <td>2048397</td>\n",
       "      <td>2049597</td>\n",
       "      <td>+</td>\n",
       "      <td>Rv1807</td>\n",
       "      <td>PPE31</td>\n",
       "      <td>CDS</td>\n",
       "      <td>PE/PPEs</td>\n",
       "      <td>PPE_SL-4_PPE-SVP</td>\n",
       "      <td>PPE family protein PPE31</td>\n",
       "      <td>PE/PPE</td>\n",
       "      <td>No</td>\n",
       "      <td>1.0</td>\n",
       "      <td>100.0</td>\n",
       "      <td>0.0</td>\n",
       "      <td>68.750000</td>\n",
       "      <td>0.998194</td>\n",
       "      <td>1.0</td>\n",
       "      <td>1.0</td>\n",
       "      <td>1200</td>\n",
       "    </tr>\n",
       "    <tr>\n",
       "      <th>1444</th>\n",
       "      <td>NC_000962.3</td>\n",
       "      <td>1561463</td>\n",
       "      <td>1561772</td>\n",
       "      <td>+</td>\n",
       "      <td>Rv1386</td>\n",
       "      <td>PE15</td>\n",
       "      <td>CDS</td>\n",
       "      <td>PE/PPEs</td>\n",
       "      <td>PE_II_</td>\n",
       "      <td>PE family protein PE15</td>\n",
       "      <td>PE/PPE</td>\n",
       "      <td>No</td>\n",
       "      <td>1.0</td>\n",
       "      <td>100.0</td>\n",
       "      <td>0.0</td>\n",
       "      <td>68.284790</td>\n",
       "      <td>1.000000</td>\n",
       "      <td>1.0</td>\n",
       "      <td>1.0</td>\n",
       "      <td>309</td>\n",
       "    </tr>\n",
       "    <tr>\n",
       "      <th>2199</th>\n",
       "      <td>NC_000962.3</td>\n",
       "      <td>2381070</td>\n",
       "      <td>2382492</td>\n",
       "      <td>+</td>\n",
       "      <td>Rv2123</td>\n",
       "      <td>PPE37</td>\n",
       "      <td>CDS</td>\n",
       "      <td>PE/PPEs</td>\n",
       "      <td>PPE_SL-2_PPE-PPW</td>\n",
       "      <td>PPE family protein PPE37</td>\n",
       "      <td>PE/PPE</td>\n",
       "      <td>No</td>\n",
       "      <td>1.0</td>\n",
       "      <td>100.0</td>\n",
       "      <td>0.0</td>\n",
       "      <td>66.877637</td>\n",
       "      <td>0.996953</td>\n",
       "      <td>1.0</td>\n",
       "      <td>1.0</td>\n",
       "      <td>1422</td>\n",
       "    </tr>\n",
       "  </tbody>\n",
       "</table>\n",
       "</div>"
      ],
      "text/plain": [
       "            Chrom    Start      End Strand H37rv_GeneID Symbol Feature ExcludedGroup_Category PEandPPE_Subfamily                   Product Functional_Category Is_Pseudogene  Mean_EBR_36CI  gene_PercentPerfect_EBR_36CI  gene_ProportionWith_NANs_EBR_36CI  gene_GC_Content  Mean_PileupMapScore_K50_E4  Mean_PileupMapScore_K100_E4  Mean_PileupMapScore_K125_E4  Length\n",
       "1874  NC_000962.3  2048397  2049597      +       Rv1807  PPE31     CDS                PE/PPEs   PPE_SL-4_PPE-SVP  PPE family protein PPE31              PE/PPE            No            1.0                         100.0                                0.0        68.750000                    0.998194                          1.0                          1.0    1200\n",
       "1444  NC_000962.3  1561463  1561772      +       Rv1386   PE15     CDS                PE/PPEs             PE_II_    PE family protein PE15              PE/PPE            No            1.0                         100.0                                0.0        68.284790                    1.000000                          1.0                          1.0     309\n",
       "2199  NC_000962.3  2381070  2382492      +       Rv2123  PPE37     CDS                PE/PPEs   PPE_SL-2_PPE-PPW  PPE family protein PPE37              PE/PPE            No            1.0                         100.0                                0.0        66.877637                    0.996953                          1.0                          1.0    1422"
      ]
     },
     "execution_count": 87,
     "metadata": {},
     "output_type": "execute_result"
    }
   ],
   "source": [
    "GLA_DF[ GLA_DF[\"Functional_Category\"] == \"PE/PPE\"].sort_values(\"Mean_EBR_36CI\", ascending=False).head(3)"
   ]
  },
  {
   "cell_type": "code",
   "execution_count": null,
   "metadata": {},
   "outputs": [],
   "source": []
  },
  {
   "cell_type": "code",
   "execution_count": null,
   "metadata": {},
   "outputs": [],
   "source": []
  },
  {
   "cell_type": "code",
   "execution_count": null,
   "metadata": {},
   "outputs": [],
   "source": []
  },
  {
   "cell_type": "code",
   "execution_count": 88,
   "metadata": {},
   "outputs": [],
   "source": [
    "H37rv_PEandPPEsubfamily_SortByMean_EBPR = list(GLA_PEPPEs_DF.groupby(\"PEandPPE_Subfamily\").mean().sort_values(\"Mean_EBR_36CI\", ascending=False).index)     \n",
    "\n",
    "dictOf_NumGenes_PEandPPEsubfamily = dict(GLA_PEPPEs_DF[\"PEandPPE_Subfamily\"].value_counts())\n",
    "\n",
    "PEandPPEsubfamily_Labels = [ f\"{geneCat} (N={dictOf_NumGenes_PEandPPEsubfamily[geneCat]})\"  for geneCat in H37rv_PEandPPEsubfamily_SortByMean_EBPR]"
   ]
  },
  {
   "cell_type": "code",
   "execution_count": 89,
   "metadata": {},
   "outputs": [],
   "source": [
    "#GLA_PEPPEs_DF[[\"PEandPPE_Subfamily\", \"Mean_EBR_27CI\"]].groupby(\"PEandPPE_Subfamily\").mean().sort_values(\"Mean_EBR_27CI\", ascending=False)"
   ]
  },
  {
   "cell_type": "code",
   "execution_count": 90,
   "metadata": {},
   "outputs": [
    {
     "data": {
      "text/plain": [
       "['PE_III_ (N=2)',\n",
       " 'PE_II_ (N=2)',\n",
       " 'PE_I_ (N=2)',\n",
       " 'PPE_SL-1_nan (N=1)',\n",
       " 'PE_V_ (N=15)',\n",
       " 'PE_IV_ (N=11)',\n",
       " 'PPE_SL-N.A._Inconclusive (N=1)',\n",
       " 'PPE_SL-4_PPE-SVP (N=25)',\n",
       " 'PPE_SL-5_PPE-MPTR (N=20)',\n",
       " 'PPE_SL-2_PPE-PPW (N=10)',\n",
       " 'PPE_SL-3_nan (N=6)',\n",
       " 'None (N=13)',\n",
       " 'PE_V_PGRS (N=60)']"
      ]
     },
     "execution_count": 90,
     "metadata": {},
     "output_type": "execute_result"
    }
   ],
   "source": [
    "PEandPPEsubfamily_Labels"
   ]
  },
  {
   "cell_type": "code",
   "execution_count": 91,
   "metadata": {},
   "outputs": [
    {
     "data": {
      "text/plain": [
       "(168, 20)"
      ]
     },
     "execution_count": 91,
     "metadata": {},
     "output_type": "execute_result"
    }
   ],
   "source": [
    "GLA_PEPPEs_DF.shape"
   ]
  },
  {
   "cell_type": "markdown",
   "metadata": {},
   "source": [
    "# Plotting EBPR BoxPlots across PE and PPE subfamilies"
   ]
  },
  {
   "cell_type": "code",
   "execution_count": 92,
   "metadata": {},
   "outputs": [
    {
     "data": {
      "image/png": "[encoded data removed]",
      "text/plain": [
       "<Figure size 1080x432 with 1 Axes>"
      ]
     },
     "metadata": {
      "needs_background": "light"
     },
     "output_type": "display_data"
    }
   ],
   "source": [
    "fig, axs = plt.subplots(1, 1, figsize=(15, 6) ) #, sharex=True)\n",
    "\n",
    "sns.boxplot(y=\"PEandPPE_Subfamily\", x=\"Mean_EBR_36CI\",\n",
    "            data=GLA_PEPPEs_DF, order = H37rv_PEandPPEsubfamily_SortByMean_EBPR,\n",
    "            #whis=np.inf,\n",
    "            fliersize = 2, ax = axs)\n",
    "\n",
    "#sns.stripplot(y=\"PEandPPE_Subfamily\", x=\"Mean_EBPR_31CI\", data=H37rv_GeneLevelAnalysis_PEPPEs_DF,alpha = 0.7 , ax = axs, order = FuncCat_Counts.index)\n",
    "\n",
    "axs.set_yticklabels(PEandPPEsubfamily_Labels)\n",
    "plt.xlim(0.2, 1.05)\n",
    "\n",
    "#Output_PNG_PATH = \"./H37Rv_EBR_Pmap_GeneLevel_Plots/EBR28_BoxPlots_PEPPE_Subfamilies.png\"\n",
    "#plt.savefig(Output_PNG_PATH, bbox_inches='tight', dpi=75)\n",
    "plt.show()"
   ]
  },
  {
   "cell_type": "code",
   "execution_count": 93,
   "metadata": {},
   "outputs": [
    {
     "data": {
      "text/html": [
       "<div>\n",
       "<style scoped>\n",
       "    .dataframe tbody tr th:only-of-type {\n",
       "        vertical-align: middle;\n",
       "    }\n",
       "\n",
       "    .dataframe tbody tr th {\n",
       "        vertical-align: top;\n",
       "    }\n",
       "\n",
       "    .dataframe thead tr th {\n",
       "        text-align: left;\n",
       "    }\n",
       "\n",
       "    .dataframe thead tr:last-of-type th {\n",
       "        text-align: right;\n",
       "    }\n",
       "</style>\n",
       "<table border=\"1\" class=\"dataframe\">\n",
       "  <thead>\n",
       "    <tr>\n",
       "      <th></th>\n",
       "      <th colspan=\"8\" halign=\"left\">Mean_EBR_36CI</th>\n",
       "    </tr>\n",
       "    <tr>\n",
       "      <th></th>\n",
       "      <th>count</th>\n",
       "      <th>mean</th>\n",
       "      <th>std</th>\n",
       "      <th>min</th>\n",
       "      <th>25%</th>\n",
       "      <th>50%</th>\n",
       "      <th>75%</th>\n",
       "      <th>max</th>\n",
       "    </tr>\n",
       "    <tr>\n",
       "      <th>PEandPPE_Subfamily</th>\n",
       "      <th></th>\n",
       "      <th></th>\n",
       "      <th></th>\n",
       "      <th></th>\n",
       "      <th></th>\n",
       "      <th></th>\n",
       "      <th></th>\n",
       "      <th></th>\n",
       "    </tr>\n",
       "  </thead>\n",
       "  <tbody>\n",
       "    <tr>\n",
       "      <th>None</th>\n",
       "      <td>3909.0</td>\n",
       "      <td>0.993078</td>\n",
       "      <td>0.051587</td>\n",
       "      <td>0.296762</td>\n",
       "      <td>0.999827</td>\n",
       "      <td>1.000000</td>\n",
       "      <td>1.000000</td>\n",
       "      <td>1.000000</td>\n",
       "    </tr>\n",
       "    <tr>\n",
       "      <th>PE_III_</th>\n",
       "      <td>2.0</td>\n",
       "      <td>1.000000</td>\n",
       "      <td>0.000000</td>\n",
       "      <td>1.000000</td>\n",
       "      <td>1.000000</td>\n",
       "      <td>1.000000</td>\n",
       "      <td>1.000000</td>\n",
       "      <td>1.000000</td>\n",
       "    </tr>\n",
       "    <tr>\n",
       "      <th>PE_II_</th>\n",
       "      <td>2.0</td>\n",
       "      <td>1.000000</td>\n",
       "      <td>0.000000</td>\n",
       "      <td>1.000000</td>\n",
       "      <td>1.000000</td>\n",
       "      <td>1.000000</td>\n",
       "      <td>1.000000</td>\n",
       "      <td>1.000000</td>\n",
       "    </tr>\n",
       "    <tr>\n",
       "      <th>PE_IV_</th>\n",
       "      <td>11.0</td>\n",
       "      <td>0.999604</td>\n",
       "      <td>0.001194</td>\n",
       "      <td>0.996019</td>\n",
       "      <td>1.000000</td>\n",
       "      <td>1.000000</td>\n",
       "      <td>1.000000</td>\n",
       "      <td>1.000000</td>\n",
       "    </tr>\n",
       "    <tr>\n",
       "      <th>PE_I_</th>\n",
       "      <td>2.0</td>\n",
       "      <td>1.000000</td>\n",
       "      <td>0.000000</td>\n",
       "      <td>1.000000</td>\n",
       "      <td>1.000000</td>\n",
       "      <td>1.000000</td>\n",
       "      <td>1.000000</td>\n",
       "      <td>1.000000</td>\n",
       "    </tr>\n",
       "    <tr>\n",
       "      <th>PE_V_</th>\n",
       "      <td>15.0</td>\n",
       "      <td>0.999857</td>\n",
       "      <td>0.000452</td>\n",
       "      <td>0.998243</td>\n",
       "      <td>1.000000</td>\n",
       "      <td>1.000000</td>\n",
       "      <td>1.000000</td>\n",
       "      <td>1.000000</td>\n",
       "    </tr>\n",
       "    <tr>\n",
       "      <th>PE_V_PGRS</th>\n",
       "      <td>60.0</td>\n",
       "      <td>0.870116</td>\n",
       "      <td>0.110882</td>\n",
       "      <td>0.498909</td>\n",
       "      <td>0.822999</td>\n",
       "      <td>0.886224</td>\n",
       "      <td>0.954550</td>\n",
       "      <td>1.000000</td>\n",
       "    </tr>\n",
       "    <tr>\n",
       "      <th>PPE_SL-1_nan</th>\n",
       "      <td>1.0</td>\n",
       "      <td>1.000000</td>\n",
       "      <td>NaN</td>\n",
       "      <td>1.000000</td>\n",
       "      <td>1.000000</td>\n",
       "      <td>1.000000</td>\n",
       "      <td>1.000000</td>\n",
       "      <td>1.000000</td>\n",
       "    </tr>\n",
       "    <tr>\n",
       "      <th>PPE_SL-2_PPE-PPW</th>\n",
       "      <td>10.0</td>\n",
       "      <td>0.963882</td>\n",
       "      <td>0.089670</td>\n",
       "      <td>0.711020</td>\n",
       "      <td>0.984086</td>\n",
       "      <td>0.997624</td>\n",
       "      <td>0.999096</td>\n",
       "      <td>1.000000</td>\n",
       "    </tr>\n",
       "    <tr>\n",
       "      <th>PPE_SL-3_nan</th>\n",
       "      <td>6.0</td>\n",
       "      <td>0.958112</td>\n",
       "      <td>0.055892</td>\n",
       "      <td>0.861280</td>\n",
       "      <td>0.935151</td>\n",
       "      <td>0.980514</td>\n",
       "      <td>0.999878</td>\n",
       "      <td>1.000000</td>\n",
       "    </tr>\n",
       "    <tr>\n",
       "      <th>PPE_SL-4_PPE-SVP</th>\n",
       "      <td>24.0</td>\n",
       "      <td>0.991282</td>\n",
       "      <td>0.023488</td>\n",
       "      <td>0.912366</td>\n",
       "      <td>0.997857</td>\n",
       "      <td>0.999200</td>\n",
       "      <td>0.999894</td>\n",
       "      <td>1.000000</td>\n",
       "    </tr>\n",
       "    <tr>\n",
       "      <th>PPE_SL-5_PPE-MPTR</th>\n",
       "      <td>20.0</td>\n",
       "      <td>0.980745</td>\n",
       "      <td>0.033823</td>\n",
       "      <td>0.884756</td>\n",
       "      <td>0.985359</td>\n",
       "      <td>0.995295</td>\n",
       "      <td>0.997083</td>\n",
       "      <td>0.999294</td>\n",
       "    </tr>\n",
       "    <tr>\n",
       "      <th>PPE_SL-N.A._Inconclusive</th>\n",
       "      <td>1.0</td>\n",
       "      <td>0.998804</td>\n",
       "      <td>NaN</td>\n",
       "      <td>0.998804</td>\n",
       "      <td>0.998804</td>\n",
       "      <td>0.998804</td>\n",
       "      <td>0.998804</td>\n",
       "      <td>0.998804</td>\n",
       "    </tr>\n",
       "  </tbody>\n",
       "</table>\n",
       "</div>"
      ],
      "text/plain": [
       "                         Mean_EBR_36CI                                                                      \n",
       "                                 count      mean       std       min       25%       50%       75%       max\n",
       "PEandPPE_Subfamily                                                                                          \n",
       "None                            3909.0  0.993078  0.051587  0.296762  0.999827  1.000000  1.000000  1.000000\n",
       "PE_III_                            2.0  1.000000  0.000000  1.000000  1.000000  1.000000  1.000000  1.000000\n",
       "PE_II_                             2.0  1.000000  0.000000  1.000000  1.000000  1.000000  1.000000  1.000000\n",
       "PE_IV_                            11.0  0.999604  0.001194  0.996019  1.000000  1.000000  1.000000  1.000000\n",
       "PE_I_                              2.0  1.000000  0.000000  1.000000  1.000000  1.000000  1.000000  1.000000\n",
       "PE_V_                             15.0  0.999857  0.000452  0.998243  1.000000  1.000000  1.000000  1.000000\n",
       "PE_V_PGRS                         60.0  0.870116  0.110882  0.498909  0.822999  0.886224  0.954550  1.000000\n",
       "PPE_SL-1_nan                       1.0  1.000000       NaN  1.000000  1.000000  1.000000  1.000000  1.000000\n",
       "PPE_SL-2_PPE-PPW                  10.0  0.963882  0.089670  0.711020  0.984086  0.997624  0.999096  1.000000\n",
       "PPE_SL-3_nan                       6.0  0.958112  0.055892  0.861280  0.935151  0.980514  0.999878  1.000000\n",
       "PPE_SL-4_PPE-SVP                  24.0  0.991282  0.023488  0.912366  0.997857  0.999200  0.999894  1.000000\n",
       "PPE_SL-5_PPE-MPTR                 20.0  0.980745  0.033823  0.884756  0.985359  0.995295  0.997083  0.999294\n",
       "PPE_SL-N.A._Inconclusive           1.0  0.998804       NaN  0.998804  0.998804  0.998804  0.998804  0.998804"
      ]
     },
     "execution_count": 93,
     "metadata": {},
     "output_type": "execute_result"
    }
   ],
   "source": [
    "ColOfInterest = [\"PEandPPE_Subfamily\", \"Mean_EBR_36CI\"]\n",
    "\n",
    "GLA_DF[ColOfInterest].groupby(\"PEandPPE_Subfamily\").describe()"
   ]
  },
  {
   "cell_type": "code",
   "execution_count": null,
   "metadata": {},
   "outputs": [],
   "source": []
  },
  {
   "cell_type": "code",
   "execution_count": 94,
   "metadata": {},
   "outputs": [
    {
     "data": {
      "image/png": "[encoded data removed]",
      "text/plain": [
       "<Figure size 864x432 with 1 Axes>"
      ]
     },
     "metadata": {
      "needs_background": "light"
     },
     "output_type": "display_data"
    }
   ],
   "source": [
    "fig, axs = plt.subplots(1, 1, figsize=(12, 6) ) #, sharex=True)\n",
    "\n",
    "\n",
    "sns.stripplot(y=\"PEandPPE_Subfamily\", x=\"Mean_EBR_36CI\",\n",
    "              data = GLA_PEPPEs_DF, alpha = 0.7,\n",
    "              ax = axs, order = H37rv_PEandPPEsubfamily_SortByMean_EBPR)      \n",
    "\n",
    "axs.set_yticklabels(PEandPPEsubfamily_Labels)\n",
    "plt.xlim(0.2, 1.05)\n",
    "plt.show()"
   ]
  },
  {
   "cell_type": "code",
   "execution_count": 95,
   "metadata": {},
   "outputs": [
    {
     "data": {
      "text/plain": [
       "(168, 20)"
      ]
     },
     "execution_count": 95,
     "metadata": {},
     "output_type": "execute_result"
    }
   ],
   "source": [
    "GLA_PEPPEs_DF.shape"
   ]
  },
  {
   "cell_type": "code",
   "execution_count": null,
   "metadata": {},
   "outputs": [],
   "source": []
  },
  {
   "cell_type": "code",
   "execution_count": 96,
   "metadata": {},
   "outputs": [],
   "source": [
    "CellWall_Genes_Mean_EBPRs = GLA_DF[GLA_DF[\"Functional_Category\"] == \"cell wall and cell processes\"][\"Mean_EBR_36CI\"].values   \n",
    "InfoPathways_Genes_Mean_EBPRs = GLA_DF[GLA_DF[\"Functional_Category\"] == \"information pathways\"][\"Mean_EBR_36CI\"].values   \n",
    "Reg_Genes_Mean_EBPRs = GLA_DF[GLA_DF[\"Functional_Category\"] == \"regulatory proteins\"][\"Mean_EBR_36CI\"].values   \n",
    "\n",
    "PEPPE_Genes_Mean_EBPRs = GLA_DF[GLA_DF[\"Functional_Category\"] == \"PE/PPE\"][\"Mean_EBR_36CI\"].values \n",
    "MGE_Genes_Mean_EBPRs = GLA_DF[GLA_DF[\"Functional_Category\"] == \"insertion seqs and phages\"][\"Mean_EBR_36CI\"].values                "
   ]
  },
  {
   "cell_type": "code",
   "execution_count": null,
   "metadata": {},
   "outputs": [],
   "source": []
  },
  {
   "cell_type": "code",
   "execution_count": 97,
   "metadata": {},
   "outputs": [
    {
     "data": {
      "text/html": [
       "<div>\n",
       "<style scoped>\n",
       "    .dataframe tbody tr th:only-of-type {\n",
       "        vertical-align: middle;\n",
       "    }\n",
       "\n",
       "    .dataframe tbody tr th {\n",
       "        vertical-align: top;\n",
       "    }\n",
       "\n",
       "    .dataframe thead th {\n",
       "        text-align: right;\n",
       "    }\n",
       "</style>\n",
       "<table border=\"1\" class=\"dataframe\">\n",
       "  <thead>\n",
       "    <tr style=\"text-align: right;\">\n",
       "      <th></th>\n",
       "      <th>Chrom</th>\n",
       "      <th>Start</th>\n",
       "      <th>End</th>\n",
       "      <th>Strand</th>\n",
       "      <th>H37rv_GeneID</th>\n",
       "      <th>Symbol</th>\n",
       "      <th>Feature</th>\n",
       "      <th>ExcludedGroup_Category</th>\n",
       "      <th>PEandPPE_Subfamily</th>\n",
       "      <th>Product</th>\n",
       "      <th>Functional_Category</th>\n",
       "      <th>Is_Pseudogene</th>\n",
       "      <th>Mean_EBR_36CI</th>\n",
       "      <th>gene_PercentPerfect_EBR_36CI</th>\n",
       "      <th>gene_ProportionWith_NANs_EBR_36CI</th>\n",
       "      <th>gene_GC_Content</th>\n",
       "      <th>Mean_PileupMapScore_K50_E4</th>\n",
       "      <th>Mean_PileupMapScore_K100_E4</th>\n",
       "      <th>Mean_PileupMapScore_K125_E4</th>\n",
       "      <th>Length</th>\n",
       "    </tr>\n",
       "  </thead>\n",
       "  <tbody>\n",
       "    <tr>\n",
       "      <th>0</th>\n",
       "      <td>NC_000962.3</td>\n",
       "      <td>0</td>\n",
       "      <td>1524</td>\n",
       "      <td>+</td>\n",
       "      <td>Rv0001</td>\n",
       "      <td>dnaA</td>\n",
       "      <td>CDS</td>\n",
       "      <td>NotExcluded</td>\n",
       "      <td>None</td>\n",
       "      <td>Chromosomal replication initiator protein DnaA</td>\n",
       "      <td>information pathways</td>\n",
       "      <td>No</td>\n",
       "      <td>0.997430</td>\n",
       "      <td>92.979003</td>\n",
       "      <td>0.0</td>\n",
       "      <td>58.923885</td>\n",
       "      <td>1.0</td>\n",
       "      <td>1.0</td>\n",
       "      <td>1.0</td>\n",
       "      <td>1524</td>\n",
       "    </tr>\n",
       "    <tr>\n",
       "      <th>1</th>\n",
       "      <td>NC_000962.3</td>\n",
       "      <td>2051</td>\n",
       "      <td>3260</td>\n",
       "      <td>+</td>\n",
       "      <td>Rv0002</td>\n",
       "      <td>dnaN</td>\n",
       "      <td>CDS</td>\n",
       "      <td>NotExcluded</td>\n",
       "      <td>None</td>\n",
       "      <td>DNA polymerase III (beta chain) DnaN (DNA nucl...</td>\n",
       "      <td>information pathways</td>\n",
       "      <td>No</td>\n",
       "      <td>0.998093</td>\n",
       "      <td>93.134822</td>\n",
       "      <td>0.0</td>\n",
       "      <td>59.966915</td>\n",
       "      <td>1.0</td>\n",
       "      <td>1.0</td>\n",
       "      <td>1.0</td>\n",
       "      <td>1209</td>\n",
       "    </tr>\n",
       "  </tbody>\n",
       "</table>\n",
       "</div>"
      ],
      "text/plain": [
       "         Chrom  Start   End Strand H37rv_GeneID Symbol Feature ExcludedGroup_Category PEandPPE_Subfamily                                            Product   Functional_Category Is_Pseudogene  Mean_EBR_36CI  gene_PercentPerfect_EBR_36CI  gene_ProportionWith_NANs_EBR_36CI  gene_GC_Content  Mean_PileupMapScore_K50_E4  Mean_PileupMapScore_K100_E4  Mean_PileupMapScore_K125_E4  Length\n",
       "0  NC_000962.3      0  1524      +       Rv0001   dnaA     CDS            NotExcluded               None     Chromosomal replication initiator protein DnaA  information pathways            No       0.997430                     92.979003                                0.0        58.923885                         1.0                          1.0                          1.0    1524\n",
       "1  NC_000962.3   2051  3260      +       Rv0002   dnaN     CDS            NotExcluded               None  DNA polymerase III (beta chain) DnaN (DNA nucl...  information pathways            No       0.998093                     93.134822                                0.0        59.966915                         1.0                          1.0                          1.0    1209"
      ]
     },
     "execution_count": 97,
     "metadata": {},
     "output_type": "execute_result"
    }
   ],
   "source": [
    "GLA_DF.head(2)"
   ]
  },
  {
   "cell_type": "code",
   "execution_count": 98,
   "metadata": {},
   "outputs": [
    {
     "data": {
      "text/plain": [
       "NotExcluded                  3695\n",
       "PE/PPEs                       168\n",
       "InsertionSeqs_And_Phages      147\n",
       "Coscolla Repetitive Genes      69\n",
       "Name: ExcludedGroup_Category, dtype: int64"
      ]
     },
     "execution_count": 98,
     "metadata": {},
     "output_type": "execute_result"
    }
   ],
   "source": [
    "GLA_DF[\"ExcludedGroup_Category\"].value_counts()"
   ]
  },
  {
   "cell_type": "code",
   "execution_count": 99,
   "metadata": {},
   "outputs": [
    {
     "data": {
      "text/plain": [
       "(30, 20)"
      ]
     },
     "execution_count": 99,
     "metadata": {},
     "output_type": "execute_result"
    }
   ],
   "source": [
    "Y = GLA_DF[  (GLA_DF[\"Functional_Category\"] == \"PE/PPE\") & (GLA_DF[\"Mean_EBR_36CI\"] >= 1) & (GLA_DF[\"Mean_PileupMapScore_K50_E4\"] == 1) ]\n",
    "Y.shape"
   ]
  },
  {
   "cell_type": "code",
   "execution_count": 100,
   "metadata": {},
   "outputs": [
    {
     "data": {
      "text/plain": [
       "(52, 20)"
      ]
     },
     "execution_count": 100,
     "metadata": {},
     "output_type": "execute_result"
    }
   ],
   "source": [
    "X = GLA_DF[  (GLA_DF[\"Functional_Category\"] == \"PE/PPE\") & (GLA_DF[\"Mean_EBR_36CI\"] >= 0.99) & (GLA_DF[\"Mean_PileupMapScore_K50_E4\"] == 1) ]\n",
    "X.shape"
   ]
  },
  {
   "cell_type": "code",
   "execution_count": null,
   "metadata": {},
   "outputs": [],
   "source": []
  },
  {
   "cell_type": "code",
   "execution_count": 101,
   "metadata": {},
   "outputs": [
    {
     "data": {
      "text/plain": [
       "(2497, 20)"
      ]
     },
     "execution_count": 101,
     "metadata": {},
     "output_type": "execute_result"
    }
   ],
   "source": [
    "X = GLA_DF[  (GLA_DF[\"ExcludedGroup_Category\"] == \"NotExcluded\") & (GLA_DF[\"Mean_EBR_36CI\"] >= 1) & (GLA_DF[\"Mean_PileupMapScore_K50_E4\"] == 1) ]\n",
    "X.shape"
   ]
  },
  {
   "cell_type": "code",
   "execution_count": 102,
   "metadata": {},
   "outputs": [
    {
     "data": {
      "text/plain": [
       "(3414, 20)"
      ]
     },
     "execution_count": 102,
     "metadata": {},
     "output_type": "execute_result"
    }
   ],
   "source": [
    "X = GLA_DF[  (GLA_DF[\"ExcludedGroup_Category\"] == \"NotExcluded\") & (GLA_DF[\"Mean_EBR_36CI\"] >= 0.99) & (GLA_DF[\"Mean_PileupMapScore_K50_E4\"] == 1) ]\n",
    "X.shape"
   ]
  },
  {
   "cell_type": "code",
   "execution_count": null,
   "metadata": {},
   "outputs": [],
   "source": []
  },
  {
   "cell_type": "code",
   "execution_count": null,
   "metadata": {},
   "outputs": [],
   "source": []
  },
  {
   "cell_type": "code",
   "execution_count": 103,
   "metadata": {},
   "outputs": [
    {
     "data": {
      "text/plain": [
       "(168, 20)"
      ]
     },
     "execution_count": 103,
     "metadata": {},
     "output_type": "execute_result"
    }
   ],
   "source": [
    "GLA_DF.query(' ExcludedGroup_Category == \"PE/PPEs\"  ').shape"
   ]
  },
  {
   "cell_type": "code",
   "execution_count": null,
   "metadata": {},
   "outputs": [],
   "source": []
  },
  {
   "cell_type": "code",
   "execution_count": null,
   "metadata": {},
   "outputs": [],
   "source": []
  },
  {
   "cell_type": "code",
   "execution_count": null,
   "metadata": {},
   "outputs": [],
   "source": []
  },
  {
   "cell_type": "code",
   "execution_count": null,
   "metadata": {},
   "outputs": [],
   "source": []
  },
  {
   "cell_type": "markdown",
   "metadata": {},
   "source": [
    "## PE/PPE genes (What proportion is == 100% gene-level EBPR?)"
   ]
  },
  {
   "cell_type": "code",
   "execution_count": 104,
   "metadata": {},
   "outputs": [
    {
     "data": {
      "text/plain": [
       "40"
      ]
     },
     "execution_count": 104,
     "metadata": {},
     "output_type": "execute_result"
    }
   ],
   "source": [
    "(PEPPE_Genes_Mean_EBPRs == 1 ).sum() "
   ]
  },
  {
   "cell_type": "code",
   "execution_count": 105,
   "metadata": {},
   "outputs": [
    {
     "data": {
      "text/plain": [
       "0.23809523809523808"
      ]
     },
     "execution_count": 105,
     "metadata": {},
     "output_type": "execute_result"
    }
   ],
   "source": [
    "(PEPPE_Genes_Mean_EBPRs == 1).sum()  / len(PEPPE_Genes_Mean_EBPRs)"
   ]
  },
  {
   "cell_type": "code",
   "execution_count": null,
   "metadata": {},
   "outputs": [],
   "source": []
  },
  {
   "cell_type": "markdown",
   "metadata": {},
   "source": [
    "## PE/PPE genes (What proportion is >= 99% gene-level EBPR?)"
   ]
  },
  {
   "cell_type": "code",
   "execution_count": 106,
   "metadata": {},
   "outputs": [
    {
     "name": "stderr",
     "output_type": "stream",
     "text": [
      "/home/mm774/conda3/envs/py37_S/lib/python3.7/site-packages/ipykernel_launcher.py:1: RuntimeWarning:\n",
      "\n",
      "invalid value encountered in greater_equal\n",
      "\n"
     ]
    },
    {
     "data": {
      "text/plain": [
       "40"
      ]
     },
     "execution_count": 106,
     "metadata": {},
     "output_type": "execute_result"
    }
   ],
   "source": [
    "(PEPPE_Genes_Mean_EBPRs >= 1 ).sum() "
   ]
  },
  {
   "cell_type": "code",
   "execution_count": 107,
   "metadata": {},
   "outputs": [
    {
     "name": "stderr",
     "output_type": "stream",
     "text": [
      "/home/mm774/conda3/envs/py37_S/lib/python3.7/site-packages/ipykernel_launcher.py:1: RuntimeWarning:\n",
      "\n",
      "invalid value encountered in greater_equal\n",
      "\n"
     ]
    },
    {
     "data": {
      "text/plain": [
       "88"
      ]
     },
     "execution_count": 107,
     "metadata": {},
     "output_type": "execute_result"
    }
   ],
   "source": [
    "(PEPPE_Genes_Mean_EBPRs >= 0.99 ).sum() "
   ]
  },
  {
   "cell_type": "code",
   "execution_count": 108,
   "metadata": {},
   "outputs": [
    {
     "name": "stderr",
     "output_type": "stream",
     "text": [
      "/home/mm774/conda3/envs/py37_S/lib/python3.7/site-packages/ipykernel_launcher.py:1: RuntimeWarning:\n",
      "\n",
      "invalid value encountered in greater_equal\n",
      "\n"
     ]
    },
    {
     "data": {
      "text/plain": [
       "97"
      ]
     },
     "execution_count": 108,
     "metadata": {},
     "output_type": "execute_result"
    }
   ],
   "source": [
    "(PEPPE_Genes_Mean_EBPRs >= 0.98 ).sum() "
   ]
  },
  {
   "cell_type": "code",
   "execution_count": null,
   "metadata": {},
   "outputs": [],
   "source": []
  },
  {
   "cell_type": "markdown",
   "metadata": {},
   "source": [
    "## PE/PPE genes (What proportion is >= 97% gene-level EBPR?)"
   ]
  },
  {
   "cell_type": "code",
   "execution_count": 109,
   "metadata": {},
   "outputs": [
    {
     "name": "stderr",
     "output_type": "stream",
     "text": [
      "/home/mm774/conda3/envs/py37_S/lib/python3.7/site-packages/ipykernel_launcher.py:1: RuntimeWarning:\n",
      "\n",
      "invalid value encountered in greater_equal\n",
      "\n"
     ]
    },
    {
     "data": {
      "text/plain": [
       "101"
      ]
     },
     "execution_count": 109,
     "metadata": {},
     "output_type": "execute_result"
    }
   ],
   "source": [
    "(PEPPE_Genes_Mean_EBPRs >= 0.97 ).sum() "
   ]
  },
  {
   "cell_type": "code",
   "execution_count": 110,
   "metadata": {},
   "outputs": [
    {
     "name": "stderr",
     "output_type": "stream",
     "text": [
      "/home/mm774/conda3/envs/py37_S/lib/python3.7/site-packages/ipykernel_launcher.py:1: RuntimeWarning:\n",
      "\n",
      "invalid value encountered in greater_equal\n",
      "\n"
     ]
    },
    {
     "data": {
      "text/plain": [
       "0.6011904761904762"
      ]
     },
     "execution_count": 110,
     "metadata": {},
     "output_type": "execute_result"
    }
   ],
   "source": [
    "(PEPPE_Genes_Mean_EBPRs >= 0.97 ).sum()  / len(PEPPE_Genes_Mean_EBPRs)"
   ]
  },
  {
   "cell_type": "code",
   "execution_count": null,
   "metadata": {},
   "outputs": [],
   "source": []
  },
  {
   "cell_type": "code",
   "execution_count": 111,
   "metadata": {},
   "outputs": [
    {
     "data": {
      "text/plain": [
       "168"
      ]
     },
     "execution_count": 111,
     "metadata": {},
     "output_type": "execute_result"
    }
   ],
   "source": [
    "len(PEPPE_Genes_Mean_EBPRs)"
   ]
  },
  {
   "cell_type": "code",
   "execution_count": 112,
   "metadata": {},
   "outputs": [
    {
     "name": "stderr",
     "output_type": "stream",
     "text": [
      "/home/mm774/conda3/envs/py37_S/lib/python3.7/site-packages/ipykernel_launcher.py:1: RuntimeWarning:\n",
      "\n",
      "invalid value encountered in greater_equal\n",
      "\n"
     ]
    },
    {
     "data": {
      "text/plain": [
       "0.5238095238095238"
      ]
     },
     "execution_count": 112,
     "metadata": {},
     "output_type": "execute_result"
    }
   ],
   "source": [
    "(PEPPE_Genes_Mean_EBPRs >= 0.99 ).sum()  / len(PEPPE_Genes_Mean_EBPRs)"
   ]
  },
  {
   "cell_type": "code",
   "execution_count": 113,
   "metadata": {},
   "outputs": [
    {
     "name": "stderr",
     "output_type": "stream",
     "text": [
      "/home/mm774/conda3/envs/py37_S/lib/python3.7/site-packages/ipykernel_launcher.py:1: RuntimeWarning:\n",
      "\n",
      "invalid value encountered in greater_equal\n",
      "\n"
     ]
    },
    {
     "data": {
      "text/plain": [
       "0.23809523809523808"
      ]
     },
     "execution_count": 113,
     "metadata": {},
     "output_type": "execute_result"
    }
   ],
   "source": [
    "(PEPPE_Genes_Mean_EBPRs >= 1 ).sum()  / len(PEPPE_Genes_Mean_EBPRs)"
   ]
  },
  {
   "cell_type": "code",
   "execution_count": 114,
   "metadata": {},
   "outputs": [
    {
     "name": "stderr",
     "output_type": "stream",
     "text": [
      "/home/mm774/conda3/envs/py37_S/lib/python3.7/site-packages/ipykernel_launcher.py:1: RuntimeWarning:\n",
      "\n",
      "invalid value encountered in greater_equal\n",
      "\n"
     ]
    },
    {
     "data": {
      "text/plain": [
       "0.5773809523809523"
      ]
     },
     "execution_count": 114,
     "metadata": {},
     "output_type": "execute_result"
    }
   ],
   "source": [
    "(PEPPE_Genes_Mean_EBPRs >= 0.98 ).sum()  / len(PEPPE_Genes_Mean_EBPRs)"
   ]
  },
  {
   "cell_type": "code",
   "execution_count": 115,
   "metadata": {},
   "outputs": [
    {
     "name": "stderr",
     "output_type": "stream",
     "text": [
      "/home/mm774/conda3/envs/py37_S/lib/python3.7/site-packages/ipykernel_launcher.py:1: RuntimeWarning:\n",
      "\n",
      "invalid value encountered in greater_equal\n",
      "\n"
     ]
    },
    {
     "data": {
      "text/plain": [
       "0.23809523809523808"
      ]
     },
     "execution_count": 115,
     "metadata": {},
     "output_type": "execute_result"
    }
   ],
   "source": [
    "(PEPPE_Genes_Mean_EBPRs >= 1).sum()  / len(PEPPE_Genes_Mean_EBPRs)"
   ]
  },
  {
   "cell_type": "code",
   "execution_count": null,
   "metadata": {},
   "outputs": [],
   "source": []
  },
  {
   "cell_type": "markdown",
   "metadata": {},
   "source": [
    "## MGEs (What proportion is >= 99% gene-level EBPR?)"
   ]
  },
  {
   "cell_type": "code",
   "execution_count": 116,
   "metadata": {},
   "outputs": [
    {
     "name": "stderr",
     "output_type": "stream",
     "text": [
      "/home/mm774/conda3/envs/py37_S/lib/python3.7/site-packages/ipykernel_launcher.py:1: RuntimeWarning:\n",
      "\n",
      "invalid value encountered in greater_equal\n",
      "\n"
     ]
    },
    {
     "data": {
      "text/plain": [
       "72"
      ]
     },
     "execution_count": 116,
     "metadata": {},
     "output_type": "execute_result"
    }
   ],
   "source": [
    "(MGE_Genes_Mean_EBPRs >= 0.99 ).sum() "
   ]
  },
  {
   "cell_type": "code",
   "execution_count": 117,
   "metadata": {},
   "outputs": [
    {
     "data": {
      "text/plain": [
       "147"
      ]
     },
     "execution_count": 117,
     "metadata": {},
     "output_type": "execute_result"
    }
   ],
   "source": [
    "len(MGE_Genes_Mean_EBPRs)"
   ]
  },
  {
   "cell_type": "code",
   "execution_count": 118,
   "metadata": {},
   "outputs": [
    {
     "name": "stderr",
     "output_type": "stream",
     "text": [
      "/home/mm774/conda3/envs/py37_S/lib/python3.7/site-packages/ipykernel_launcher.py:1: RuntimeWarning:\n",
      "\n",
      "invalid value encountered in greater_equal\n",
      "\n"
     ]
    },
    {
     "data": {
      "text/plain": [
       "0.4897959183673469"
      ]
     },
     "execution_count": 118,
     "metadata": {},
     "output_type": "execute_result"
    }
   ],
   "source": [
    "(MGE_Genes_Mean_EBPRs >= 0.99 ).sum()  / len(MGE_Genes_Mean_EBPRs)"
   ]
  },
  {
   "cell_type": "code",
   "execution_count": 119,
   "metadata": {},
   "outputs": [
    {
     "name": "stderr",
     "output_type": "stream",
     "text": [
      "/home/mm774/conda3/envs/py37_S/lib/python3.7/site-packages/ipykernel_launcher.py:1: RuntimeWarning:\n",
      "\n",
      "invalid value encountered in greater_equal\n",
      "\n"
     ]
    },
    {
     "data": {
      "text/plain": [
       "0.40816326530612246"
      ]
     },
     "execution_count": 119,
     "metadata": {},
     "output_type": "execute_result"
    }
   ],
   "source": [
    "(MGE_Genes_Mean_EBPRs >= 1).sum()  / len(MGE_Genes_Mean_EBPRs)"
   ]
  },
  {
   "cell_type": "code",
   "execution_count": 120,
   "metadata": {},
   "outputs": [
    {
     "name": "stderr",
     "output_type": "stream",
     "text": [
      "/home/mm774/conda3/envs/py37_S/lib/python3.7/site-packages/ipykernel_launcher.py:1: RuntimeWarning:\n",
      "\n",
      "invalid value encountered in greater_equal\n",
      "\n"
     ]
    },
    {
     "data": {
      "text/plain": [
       "78"
      ]
     },
     "execution_count": 120,
     "metadata": {},
     "output_type": "execute_result"
    }
   ],
   "source": [
    "(MGE_Genes_Mean_EBPRs >= 0.97 ).sum() "
   ]
  },
  {
   "cell_type": "code",
   "execution_count": 121,
   "metadata": {},
   "outputs": [
    {
     "name": "stderr",
     "output_type": "stream",
     "text": [
      "/home/mm774/conda3/envs/py37_S/lib/python3.7/site-packages/ipykernel_launcher.py:1: RuntimeWarning:\n",
      "\n",
      "invalid value encountered in greater_equal\n",
      "\n"
     ]
    },
    {
     "data": {
      "text/plain": [
       "0.5306122448979592"
      ]
     },
     "execution_count": 121,
     "metadata": {},
     "output_type": "execute_result"
    }
   ],
   "source": [
    "(MGE_Genes_Mean_EBPRs >= 0.97 ).sum()  / len(MGE_Genes_Mean_EBPRs)"
   ]
  },
  {
   "cell_type": "code",
   "execution_count": null,
   "metadata": {},
   "outputs": [],
   "source": []
  },
  {
   "cell_type": "code",
   "execution_count": 122,
   "metadata": {},
   "outputs": [
    {
     "data": {
      "text/plain": [
       "NotExcluded                  3695\n",
       "PE/PPEs                       168\n",
       "InsertionSeqs_And_Phages      147\n",
       "Coscolla Repetitive Genes      69\n",
       "Name: ExcludedGroup_Category, dtype: int64"
      ]
     },
     "execution_count": 122,
     "metadata": {},
     "output_type": "execute_result"
    }
   ],
   "source": [
    "GLA_DF[\"ExcludedGroup_Category\"].value_counts()"
   ]
  },
  {
   "cell_type": "markdown",
   "metadata": {},
   "source": [
    "## Coscolla repetitive genes (What proportion is >= 99% gene-level EBPR?)"
   ]
  },
  {
   "cell_type": "code",
   "execution_count": 123,
   "metadata": {},
   "outputs": [],
   "source": [
    "Repetitive_Genes_Mean_EBPRs = GLA_DF[GLA_DF[\"ExcludedGroup_Category\"] == \"Coscolla Repetitive Genes\"][\"Mean_EBR_36CI\"].values   \n"
   ]
  },
  {
   "cell_type": "code",
   "execution_count": 124,
   "metadata": {},
   "outputs": [
    {
     "data": {
      "text/plain": [
       "0.8260869565217391"
      ]
     },
     "execution_count": 124,
     "metadata": {},
     "output_type": "execute_result"
    }
   ],
   "source": [
    "(Repetitive_Genes_Mean_EBPRs >= 0.97 ).sum()  / len(Repetitive_Genes_Mean_EBPRs)"
   ]
  },
  {
   "cell_type": "code",
   "execution_count": null,
   "metadata": {},
   "outputs": [],
   "source": []
  },
  {
   "cell_type": "markdown",
   "metadata": {},
   "source": [
    "## Not Excluded / High Confidence Genes (What proportion is >= 97% gene-level EBPR?)"
   ]
  },
  {
   "cell_type": "code",
   "execution_count": 125,
   "metadata": {},
   "outputs": [],
   "source": [
    "NotExcluded_Genes_Mean_EBPRs = GLA_DF[GLA_DF[\"ExcludedGroup_Category\"] == \"NotExcluded\"][\"Mean_EBR_36CI\"].values   \n"
   ]
  },
  {
   "cell_type": "code",
   "execution_count": 126,
   "metadata": {},
   "outputs": [
    {
     "data": {
      "text/plain": [
       "14"
      ]
     },
     "execution_count": 126,
     "metadata": {},
     "output_type": "execute_result"
    }
   ],
   "source": [
    "(NotExcluded_Genes_Mean_EBPRs <= 0.97 ).sum()  "
   ]
  },
  {
   "cell_type": "code",
   "execution_count": 127,
   "metadata": {},
   "outputs": [
    {
     "data": {
      "text/plain": [
       "3687"
      ]
     },
     "execution_count": 127,
     "metadata": {},
     "output_type": "execute_result"
    }
   ],
   "source": [
    "(NotExcluded_Genes_Mean_EBPRs >= 0.95 ).sum()  "
   ]
  },
  {
   "cell_type": "code",
   "execution_count": 128,
   "metadata": {},
   "outputs": [
    {
     "data": {
      "text/plain": [
       "0.9962110960757781"
      ]
     },
     "execution_count": 128,
     "metadata": {},
     "output_type": "execute_result"
    }
   ],
   "source": [
    "(NotExcluded_Genes_Mean_EBPRs >= 0.97 ).sum()  / len(NotExcluded_Genes_Mean_EBPRs)"
   ]
  },
  {
   "cell_type": "code",
   "execution_count": null,
   "metadata": {},
   "outputs": [],
   "source": []
  },
  {
   "cell_type": "code",
   "execution_count": 129,
   "metadata": {},
   "outputs": [
    {
     "data": {
      "text/plain": [
       "0.7085250338294993"
      ]
     },
     "execution_count": 129,
     "metadata": {},
     "output_type": "execute_result"
    }
   ],
   "source": [
    "(NotExcluded_Genes_Mean_EBPRs == 1 ).sum()  / len(NotExcluded_Genes_Mean_EBPRs)"
   ]
  },
  {
   "cell_type": "code",
   "execution_count": null,
   "metadata": {},
   "outputs": [],
   "source": []
  },
  {
   "cell_type": "code",
   "execution_count": 130,
   "metadata": {},
   "outputs": [
    {
     "data": {
      "text/plain": [
       "0.9978349120433018"
      ]
     },
     "execution_count": 130,
     "metadata": {},
     "output_type": "execute_result"
    }
   ],
   "source": [
    "(NotExcluded_Genes_Mean_EBPRs >= 0.95 ).sum()  / len(NotExcluded_Genes_Mean_EBPRs)"
   ]
  },
  {
   "cell_type": "code",
   "execution_count": 131,
   "metadata": {},
   "outputs": [
    {
     "data": {
      "text/plain": [
       "0.9824086603518268"
      ]
     },
     "execution_count": 131,
     "metadata": {},
     "output_type": "execute_result"
    }
   ],
   "source": [
    "(NotExcluded_Genes_Mean_EBPRs >= 0.99 ).sum()  / len(NotExcluded_Genes_Mean_EBPRs)"
   ]
  },
  {
   "cell_type": "code",
   "execution_count": 132,
   "metadata": {},
   "outputs": [
    {
     "data": {
      "text/plain": [
       "0.7085250338294993"
      ]
     },
     "execution_count": 132,
     "metadata": {},
     "output_type": "execute_result"
    }
   ],
   "source": [
    "(NotExcluded_Genes_Mean_EBPRs >= 1 ).sum()  / len(NotExcluded_Genes_Mean_EBPRs)"
   ]
  },
  {
   "cell_type": "markdown",
   "metadata": {},
   "source": [
    "## All Genes (What proportion is >= 99% gene-level EBR?)"
   ]
  },
  {
   "cell_type": "code",
   "execution_count": 133,
   "metadata": {},
   "outputs": [],
   "source": [
    "All_Genes_Mean_EBRs = GLA_DF[\"Mean_EBR_36CI\"].values"
   ]
  },
  {
   "cell_type": "code",
   "execution_count": 134,
   "metadata": {},
   "outputs": [
    {
     "name": "stderr",
     "output_type": "stream",
     "text": [
      "/home/mm774/conda3/envs/py37_S/lib/python3.7/site-packages/ipykernel_launcher.py:1: RuntimeWarning:\n",
      "\n",
      "invalid value encountered in greater_equal\n",
      "\n"
     ]
    },
    {
     "data": {
      "text/plain": [
       "0.9602843834273106"
      ]
     },
     "execution_count": 134,
     "metadata": {},
     "output_type": "execute_result"
    }
   ],
   "source": [
    "(All_Genes_Mean_EBRs >= 0.97 ).sum()  / len(All_Genes_Mean_EBRs)"
   ]
  },
  {
   "cell_type": "code",
   "execution_count": 135,
   "metadata": {},
   "outputs": [
    {
     "name": "stderr",
     "output_type": "stream",
     "text": [
      "/home/mm774/conda3/envs/py37_S/lib/python3.7/site-packages/ipykernel_launcher.py:1: RuntimeWarning:\n",
      "\n",
      "invalid value encountered in greater_equal\n",
      "\n"
     ]
    },
    {
     "data": {
      "text/plain": [
       "0.940426575140966"
      ]
     },
     "execution_count": 135,
     "metadata": {},
     "output_type": "execute_result"
    }
   ],
   "source": [
    "(All_Genes_Mean_EBRs >= 0.99 ).sum()  / len(All_Genes_Mean_EBRs)"
   ]
  },
  {
   "cell_type": "code",
   "execution_count": 136,
   "metadata": {},
   "outputs": [
    {
     "name": "stderr",
     "output_type": "stream",
     "text": [
      "/home/mm774/conda3/envs/py37_S/lib/python3.7/site-packages/ipykernel_launcher.py:1: RuntimeWarning:\n",
      "\n",
      "invalid value encountered in greater_equal\n",
      "\n"
     ]
    },
    {
     "data": {
      "text/plain": [
       "0.6692816866879137"
      ]
     },
     "execution_count": 136,
     "metadata": {},
     "output_type": "execute_result"
    }
   ],
   "source": [
    "(All_Genes_Mean_EBRs >= 1 ).sum()  / len(All_Genes_Mean_EBRs)"
   ]
  },
  {
   "cell_type": "code",
   "execution_count": null,
   "metadata": {},
   "outputs": [],
   "source": []
  },
  {
   "cell_type": "code",
   "execution_count": null,
   "metadata": {},
   "outputs": [],
   "source": []
  },
  {
   "cell_type": "code",
   "execution_count": null,
   "metadata": {},
   "outputs": [],
   "source": []
  },
  {
   "cell_type": "code",
   "execution_count": null,
   "metadata": {},
   "outputs": [],
   "source": []
  },
  {
   "cell_type": "markdown",
   "metadata": {},
   "source": [
    "## What PE/PPE genes have very high EBR ( >= 0.99)"
   ]
  },
  {
   "cell_type": "code",
   "execution_count": 137,
   "metadata": {},
   "outputs": [
    {
     "data": {
      "text/plain": [
       "(7, 20)"
      ]
     },
     "execution_count": 137,
     "metadata": {},
     "output_type": "execute_result"
    }
   ],
   "source": [
    "GLA_DF[ (GLA_DF[\"PEandPPE_Subfamily\"] == \"PE_V_PGRS\" ) &  (GLA_DF[\"Mean_EBR_36CI\"] >= 0.99) ].shape"
   ]
  },
  {
   "cell_type": "code",
   "execution_count": null,
   "metadata": {},
   "outputs": [],
   "source": []
  },
  {
   "cell_type": "code",
   "execution_count": 138,
   "metadata": {},
   "outputs": [
    {
     "data": {
      "text/html": [
       "<div>\n",
       "<style scoped>\n",
       "    .dataframe tbody tr th:only-of-type {\n",
       "        vertical-align: middle;\n",
       "    }\n",
       "\n",
       "    .dataframe tbody tr th {\n",
       "        vertical-align: top;\n",
       "    }\n",
       "\n",
       "    .dataframe thead th {\n",
       "        text-align: right;\n",
       "    }\n",
       "</style>\n",
       "<table border=\"1\" class=\"dataframe\">\n",
       "  <thead>\n",
       "    <tr style=\"text-align: right;\">\n",
       "      <th></th>\n",
       "      <th>Chrom</th>\n",
       "      <th>Start</th>\n",
       "      <th>End</th>\n",
       "      <th>Strand</th>\n",
       "      <th>H37rv_GeneID</th>\n",
       "      <th>Symbol</th>\n",
       "      <th>Feature</th>\n",
       "      <th>ExcludedGroup_Category</th>\n",
       "      <th>PEandPPE_Subfamily</th>\n",
       "      <th>Product</th>\n",
       "      <th>Functional_Category</th>\n",
       "      <th>Is_Pseudogene</th>\n",
       "      <th>Mean_EBR_36CI</th>\n",
       "      <th>gene_PercentPerfect_EBR_36CI</th>\n",
       "      <th>gene_ProportionWith_NANs_EBR_36CI</th>\n",
       "      <th>gene_GC_Content</th>\n",
       "      <th>Mean_PileupMapScore_K50_E4</th>\n",
       "      <th>Mean_PileupMapScore_K100_E4</th>\n",
       "      <th>Mean_PileupMapScore_K125_E4</th>\n",
       "      <th>Length</th>\n",
       "    </tr>\n",
       "  </thead>\n",
       "  <tbody>\n",
       "    <tr>\n",
       "      <th>785</th>\n",
       "      <td>NC_000962.3</td>\n",
       "      <td>846158</td>\n",
       "      <td>847913</td>\n",
       "      <td>+</td>\n",
       "      <td>Rv0754</td>\n",
       "      <td>PE_PGRS11</td>\n",
       "      <td>CDS</td>\n",
       "      <td>PE/PPEs</td>\n",
       "      <td>PE_V_PGRS</td>\n",
       "      <td>PE-PGRS family protein PE_PGRS11</td>\n",
       "      <td>PE/PPE</td>\n",
       "      <td>No</td>\n",
       "      <td>0.995568</td>\n",
       "      <td>89.800570</td>\n",
       "      <td>0.0</td>\n",
       "      <td>68.490028</td>\n",
       "      <td>1.000000</td>\n",
       "      <td>1.0</td>\n",
       "      <td>1.0</td>\n",
       "      <td>1755</td>\n",
       "    </tr>\n",
       "    <tr>\n",
       "      <th>870</th>\n",
       "      <td>NC_000962.3</td>\n",
       "      <td>924950</td>\n",
       "      <td>925364</td>\n",
       "      <td>+</td>\n",
       "      <td>Rv0832</td>\n",
       "      <td>PE_PGRS12</td>\n",
       "      <td>CDS</td>\n",
       "      <td>PE/PPEs</td>\n",
       "      <td>PE_V_PGRS</td>\n",
       "      <td>PE-PGRS family protein PE_PGRS12</td>\n",
       "      <td>PE/PPE</td>\n",
       "      <td>No</td>\n",
       "      <td>0.997585</td>\n",
       "      <td>96.135266</td>\n",
       "      <td>0.0</td>\n",
       "      <td>72.222222</td>\n",
       "      <td>0.953969</td>\n",
       "      <td>1.0</td>\n",
       "      <td>1.0</td>\n",
       "      <td>414</td>\n",
       "    </tr>\n",
       "    <tr>\n",
       "      <th>2054</th>\n",
       "      <td>NC_000962.3</td>\n",
       "      <td>2226243</td>\n",
       "      <td>2227920</td>\n",
       "      <td>+</td>\n",
       "      <td>Rv1983</td>\n",
       "      <td>PE_PGRS35</td>\n",
       "      <td>CDS</td>\n",
       "      <td>PE/PPEs</td>\n",
       "      <td>PE_V_PGRS</td>\n",
       "      <td>PE-PGRS family protein PE_PGRS35</td>\n",
       "      <td>PE/PPE</td>\n",
       "      <td>No</td>\n",
       "      <td>0.998344</td>\n",
       "      <td>94.036971</td>\n",
       "      <td>0.0</td>\n",
       "      <td>64.877758</td>\n",
       "      <td>1.000000</td>\n",
       "      <td>1.0</td>\n",
       "      <td>1.0</td>\n",
       "      <td>1677</td>\n",
       "    </tr>\n",
       "    <tr>\n",
       "      <th>2432</th>\n",
       "      <td>NC_000962.3</td>\n",
       "      <td>2617666</td>\n",
       "      <td>2618908</td>\n",
       "      <td>-</td>\n",
       "      <td>Rv2340c</td>\n",
       "      <td>PE_PGRS39</td>\n",
       "      <td>CDS</td>\n",
       "      <td>PE/PPEs</td>\n",
       "      <td>PE_V_PGRS</td>\n",
       "      <td>PE-PGRS family protein PE_PGRS39</td>\n",
       "      <td>PE/PPE</td>\n",
       "      <td>No</td>\n",
       "      <td>0.999665</td>\n",
       "      <td>98.792271</td>\n",
       "      <td>0.0</td>\n",
       "      <td>70.853462</td>\n",
       "      <td>1.000000</td>\n",
       "      <td>1.0</td>\n",
       "      <td>1.0</td>\n",
       "      <td>1242</td>\n",
       "    </tr>\n",
       "    <tr>\n",
       "      <th>2623</th>\n",
       "      <td>NC_000962.3</td>\n",
       "      <td>2835784</td>\n",
       "      <td>2837263</td>\n",
       "      <td>+</td>\n",
       "      <td>Rv2519</td>\n",
       "      <td>PE26</td>\n",
       "      <td>CDS</td>\n",
       "      <td>PE/PPEs</td>\n",
       "      <td>PE_V_PGRS</td>\n",
       "      <td>PE family protein PE26</td>\n",
       "      <td>PE/PPE</td>\n",
       "      <td>No</td>\n",
       "      <td>0.999305</td>\n",
       "      <td>97.498310</td>\n",
       "      <td>0.0</td>\n",
       "      <td>65.246788</td>\n",
       "      <td>0.998986</td>\n",
       "      <td>1.0</td>\n",
       "      <td>1.0</td>\n",
       "      <td>1479</td>\n",
       "    </tr>\n",
       "  </tbody>\n",
       "</table>\n",
       "</div>"
      ],
      "text/plain": [
       "            Chrom    Start      End Strand H37rv_GeneID     Symbol Feature ExcludedGroup_Category PEandPPE_Subfamily                           Product Functional_Category Is_Pseudogene  Mean_EBR_36CI  gene_PercentPerfect_EBR_36CI  gene_ProportionWith_NANs_EBR_36CI  gene_GC_Content  Mean_PileupMapScore_K50_E4  Mean_PileupMapScore_K100_E4  Mean_PileupMapScore_K125_E4  Length\n",
       "785   NC_000962.3   846158   847913      +       Rv0754  PE_PGRS11     CDS                PE/PPEs          PE_V_PGRS  PE-PGRS family protein PE_PGRS11              PE/PPE            No       0.995568                     89.800570                                0.0        68.490028                    1.000000                          1.0                          1.0    1755\n",
       "870   NC_000962.3   924950   925364      +       Rv0832  PE_PGRS12     CDS                PE/PPEs          PE_V_PGRS  PE-PGRS family protein PE_PGRS12              PE/PPE            No       0.997585                     96.135266                                0.0        72.222222                    0.953969                          1.0                          1.0     414\n",
       "2054  NC_000962.3  2226243  2227920      +       Rv1983  PE_PGRS35     CDS                PE/PPEs          PE_V_PGRS  PE-PGRS family protein PE_PGRS35              PE/PPE            No       0.998344                     94.036971                                0.0        64.877758                    1.000000                          1.0                          1.0    1677\n",
       "2432  NC_000962.3  2617666  2618908      -      Rv2340c  PE_PGRS39     CDS                PE/PPEs          PE_V_PGRS  PE-PGRS family protein PE_PGRS39              PE/PPE            No       0.999665                     98.792271                                0.0        70.853462                    1.000000                          1.0                          1.0    1242\n",
       "2623  NC_000962.3  2835784  2837263      +       Rv2519       PE26     CDS                PE/PPEs          PE_V_PGRS            PE family protein PE26              PE/PPE            No       0.999305                     97.498310                                0.0        65.246788                    0.998986                          1.0                          1.0    1479"
      ]
     },
     "execution_count": 138,
     "metadata": {},
     "output_type": "execute_result"
    }
   ],
   "source": [
    "GLA_DF[ (GLA_DF[\"PEandPPE_Subfamily\"] == \"PE_V_PGRS\" ) &  (GLA_DF[\"Mean_EBR_36CI\"] >= 0.99) ].head()"
   ]
  },
  {
   "cell_type": "code",
   "execution_count": null,
   "metadata": {},
   "outputs": [],
   "source": []
  },
  {
   "cell_type": "code",
   "execution_count": null,
   "metadata": {},
   "outputs": [],
   "source": []
  },
  {
   "cell_type": "code",
   "execution_count": null,
   "metadata": {},
   "outputs": [],
   "source": []
  },
  {
   "cell_type": "code",
   "execution_count": null,
   "metadata": {},
   "outputs": [],
   "source": []
  },
  {
   "cell_type": "code",
   "execution_count": null,
   "metadata": {},
   "outputs": [],
   "source": []
  },
  {
   "cell_type": "code",
   "execution_count": null,
   "metadata": {},
   "outputs": [],
   "source": []
  },
  {
   "cell_type": "code",
   "execution_count": null,
   "metadata": {},
   "outputs": [],
   "source": []
  },
  {
   "cell_type": "code",
   "execution_count": null,
   "metadata": {},
   "outputs": [],
   "source": []
  },
  {
   "cell_type": "code",
   "execution_count": null,
   "metadata": {},
   "outputs": [],
   "source": []
  },
  {
   "cell_type": "code",
   "execution_count": null,
   "metadata": {},
   "outputs": [],
   "source": []
  },
  {
   "cell_type": "code",
   "execution_count": null,
   "metadata": {},
   "outputs": [],
   "source": []
  },
  {
   "cell_type": "code",
   "execution_count": null,
   "metadata": {},
   "outputs": [],
   "source": []
  }
 ],
 "metadata": {
  "kernelspec": {
   "display_name": "py37_S",
   "language": "python",
   "name": "py37_s"
  },
  "language_info": {
   "codemirror_mode": {
    "name": "ipython",
    "version": 3
   },
   "file_extension": ".py",
   "mimetype": "text/x-python",
   "name": "python",
   "nbconvert_exporter": "python",
   "pygments_lexer": "ipython3",
   "version": "3.7.3"
  }
 },
 "nbformat": 4,
 "nbformat_minor": 4
}
