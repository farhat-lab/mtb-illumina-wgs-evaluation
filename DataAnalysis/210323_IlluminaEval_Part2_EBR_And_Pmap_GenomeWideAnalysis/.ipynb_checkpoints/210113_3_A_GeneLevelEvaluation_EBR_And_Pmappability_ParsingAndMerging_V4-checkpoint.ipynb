{
 "cells": [
  {
   "cell_type": "markdown",
   "metadata": {},
   "source": [
    "# Parsing and merging data for gene level exploration of PB vs Illumina agreement and mappability\n",
    "\n",
    "### Maximillian Marin\n",
    "### mgmarin@g.harvard.edu\n",
    "### 20/07/23\n",
    "\n",
    "Goal: "
   ]
  },
  {
   "cell_type": "code",
   "execution_count": 1,
   "metadata": {},
   "outputs": [],
   "source": [
    "import numpy as np\n",
    "import pandas as pd\n",
    "from tqdm import tqdm\n",
    "import matplotlib.pyplot as plt\n",
    "import seaborn as sns\n",
    "import pickle\n",
    "# import gffutils\n",
    "\n",
    "%matplotlib inline"
   ]
  },
  {
   "cell_type": "code",
   "execution_count": 2,
   "metadata": {},
   "outputs": [],
   "source": [
    "from Bio import SeqIO"
   ]
  },
  {
   "cell_type": "markdown",
   "metadata": {},
   "source": [
    "#### Pandas Viewing Settings"
   ]
  },
  {
   "cell_type": "code",
   "execution_count": 3,
   "metadata": {},
   "outputs": [],
   "source": [
    "pd.set_option('display.max_rows', 500)\n",
    "pd.set_option('display.max_columns', 500)\n",
    "pd.set_option('display.width', 1000)"
   ]
  },
  {
   "cell_type": "markdown",
   "metadata": {},
   "source": [
    "## Define functions"
   ]
  },
  {
   "cell_type": "code",
   "execution_count": 4,
   "metadata": {},
   "outputs": [],
   "source": [
    "gc_content = lambda s: 100.0*len([c for c in s if c in \"GC\"]) / len(s)"
   ]
  },
  {
   "cell_type": "markdown",
   "metadata": {},
   "source": [
    "## Parse the H37rv Genbank (GBK) file with BioPython\n",
    "H37rv genome is stored as a SeqIO record"
   ]
  },
  {
   "cell_type": "code",
   "execution_count": 5,
   "metadata": {},
   "outputs": [
    {
     "name": "stdout",
     "output_type": "stream",
     "text": [
      "4411532\n"
     ]
    }
   ],
   "source": [
    "Mtb_RefDir=\"/n/data1/hms/dbmi/farhat/mm774/References\"\n",
    "H37rv_Ref_GBK_PATH = f\"{Mtb_RefDir}/GCF_000195955.2_ASM19595v2_genomic.gbk\"\n",
    "records = list(SeqIO.parse(H37rv_Ref_GBK_PATH, \"genbank\"))\n",
    "\n",
    "Mtb_H37rv_SeqIO_Record = records[0]\n",
    "\n",
    "# Convert sequence of SeqIO record to just a normal string\n",
    "Mtb_H37rv_Sequence = str( Mtb_H37rv_SeqIO_Record.seq )\n",
    "\n",
    "print( len(Mtb_H37rv_Sequence) )"
   ]
  },
  {
   "cell_type": "code",
   "execution_count": null,
   "metadata": {},
   "outputs": [],
   "source": []
  },
  {
   "cell_type": "code",
   "execution_count": null,
   "metadata": {},
   "outputs": [],
   "source": []
  },
  {
   "cell_type": "markdown",
   "metadata": {},
   "source": [
    "## Parse Assembly and Sequence analysis results Sample Info"
   ]
  },
  {
   "cell_type": "code",
   "execution_count": 6,
   "metadata": {},
   "outputs": [
    {
     "name": "stdout",
     "output_type": "stream",
     "text": [
      "M0011368_9,M0014888_3,M0016395_7,M0010874_7,01_R1430,02_R0894,02_R1708,02_R1896,M0016737_0,M0017522_5,01_R1134,M0003941_3,02_R1179,N1176,N0072,N0153,N0145,N0155,N0004,N1274,N0054,N1272,N0091,N1202,N1177,RW-TB008,DNA028,DNA075,DNA091,DNA044,DNA020,AZE_02_042,DNA019_Rose,DNA120,DNA188,DNA086\n"
     ]
    }
   ],
   "source": [
    "Repo_DataDir = \"../../Data\"\n",
    "\n",
    "PMP_SM_ResultsSummary_Dir_210108 = Repo_DataDir + \"/210108_PMP_SM_50CI_V7_ResultsSummary\"\n",
    "\n",
    "\n",
    "PMP_50CI_AssemblySummary_TSV_PATH = PMP_SM_ResultsSummary_Dir_210108 + \"/210108_PMP_50CI_AssemblySummary_V7.tsv\"\n",
    "\n",
    "PMP_42CI_CicularOnly_AssemblySummary_TSV_PATH = PMP_SM_ResultsSummary_Dir_210108 + \"/210108_PMP_42CI_CircularOnly_F2Filtered_AssemblySummary_V7.tsv\" \n",
    "\n",
    "PMP_36CI_CicularOnly_F2Filtered_AtLeast40XIllDepth_AssemblySummary_TSV_PATH = PMP_SM_ResultsSummary_Dir_210108 + \"/210108_PMP_36CI_CircularOnly_F2Filtered_AtLeast40XMeanDepthIllumina_AssemblySummary_V7.tsv\"       \n",
    "\n",
    "\n",
    "PMP_50CI_AssemblySummary = pd.read_csv(PMP_50CI_AssemblySummary_TSV_PATH, sep = \"\\t\")\n",
    "\n",
    "PMP_42CI_CicularOnly_AssemblySummary = pd.read_csv(PMP_42CI_CicularOnly_AssemblySummary_TSV_PATH, sep = \"\\t\")\n",
    "\n",
    "PMP_36CI_CicularOnly_F2Filtered_AtLeast40XDepth_AssemblySummary = pd.read_csv(PMP_36CI_CicularOnly_F2Filtered_AtLeast40XIllDepth_AssemblySummary_TSV_PATH, sep = \"\\t\")\n",
    "\n",
    "PMP_36CI_AnalysisSet_AssemblySummary = PMP_36CI_CicularOnly_F2Filtered_AtLeast40XDepth_AssemblySummary\n",
    "\n",
    "\n",
    "SampleIDs_36CI_SOI = list( PMP_36CI_AnalysisSet_AssemblySummary[\"SampleID\"].values )\n",
    "\n",
    "\n",
    "print(','.join(SampleIDs_36CI_SOI) )\n",
    "\n",
    "# Make sample to lineage mapping dict\n",
    "\n",
    "ID_To_IlluminaAvrgCov_Dict = dict(PMP_50CI_AssemblySummary[['SampleID', 'IlluminaWGSToH37rv_AvrgCov']].values)                     \n",
    "ID_To_Lineage_Dict = dict(PMP_50CI_AssemblySummary[['SampleID', 'PrimaryLineage_PB']].values)\n",
    "ID_To_Dataset_Dict = dict(PMP_50CI_AssemblySummary[['SampleID', 'Dataset_Tag']].values)"
   ]
  },
  {
   "cell_type": "code",
   "execution_count": null,
   "metadata": {},
   "outputs": [],
   "source": []
  },
  {
   "cell_type": "markdown",
   "metadata": {},
   "source": [
    "#### What is the distribution of samples from each dataset?"
   ]
  },
  {
   "cell_type": "code",
   "execution_count": 7,
   "metadata": {},
   "outputs": [
    {
     "data": {
      "text/plain": [
       "Farhat_Peru_2019        13\n",
       "ChinerOms_2019          12\n",
       "TB_Portals_15CI_R1      10\n",
       "Ngabonziza_Lin8_2020     1\n",
       "Name: Dataset_Tag, dtype: int64"
      ]
     },
     "execution_count": 7,
     "metadata": {},
     "output_type": "execute_result"
    }
   ],
   "source": [
    "PMP_36CI_AnalysisSet_AssemblySummary[\"Dataset_Tag\"].value_counts()"
   ]
  },
  {
   "cell_type": "code",
   "execution_count": 8,
   "metadata": {},
   "outputs": [
    {
     "data": {
      "text/plain": [
       "36"
      ]
     },
     "execution_count": 8,
     "metadata": {},
     "output_type": "execute_result"
    }
   ],
   "source": [
    "len(SampleIDs_36CI_SOI)"
   ]
  },
  {
   "cell_type": "code",
   "execution_count": null,
   "metadata": {},
   "outputs": [],
   "source": []
  },
  {
   "cell_type": "markdown",
   "metadata": {},
   "source": [
    "# 0) Read in pickles of processed data"
   ]
  },
  {
   "cell_type": "markdown",
   "metadata": {},
   "source": [
    "## Read back in .npy and .pickle files of EBR scores "
   ]
  },
  {
   "cell_type": "code",
   "execution_count": 9,
   "metadata": {},
   "outputs": [],
   "source": [
    "PB_Vs_Illumina_DataAnalysis_Dir = \"../../../210112_PBvsI_VCeval_AnalysisDir_V7_36CI\"\n",
    "\n",
    "# Define directory for EBR analysis data\n",
    "PBvIll_EBR_Dir = PB_Vs_Illumina_DataAnalysis_Dir + \"/210112_EBR_H37rv_36CI_MM2vsPilon_V7\"         \n",
    "\n",
    "EBR_36CI_WGS40X_NPY_PATH = f\"{PBvIll_EBR_Dir}/210112_EBR_V7_36CI.npy\"\n",
    "\n",
    "# Parse in aggregated EBR-40CI array\n",
    "EBR_36CI_Array_A4 = np.load(EBR_36CI_WGS40X_NPY_PATH)\n",
    "\n",
    "\n",
    "# Parse in pickle of individual arrays\n",
    "Pickle_PATH_dictOf_EBR_IndivIsolate_NPYs = PBvIll_EBR_Dir + \"/210112_dictOf_EBR_V7_IndivIsolate_NPYs_36CI.pickle\"                   \n",
    "\n",
    "#with open(Pickle_PATH_dictOf_EBR_IndivIsolate_NPYs, \"rb\") as f: dictOf_EBR_IndivIsolate_NPYs = pickle.load(f)\n"
   ]
  },
  {
   "cell_type": "code",
   "execution_count": 10,
   "metadata": {},
   "outputs": [
    {
     "data": {
      "text/plain": [
       "nan"
      ]
     },
     "execution_count": 10,
     "metadata": {},
     "output_type": "execute_result"
    }
   ],
   "source": [
    "np.mean(EBR_36CI_Array_A4)"
   ]
  },
  {
   "cell_type": "code",
   "execution_count": 11,
   "metadata": {},
   "outputs": [
    {
     "data": {
      "text/plain": [
       "0.9886257528374396"
      ]
     },
     "execution_count": 11,
     "metadata": {},
     "output_type": "execute_result"
    }
   ],
   "source": [
    "np.nanmean(EBR_36CI_Array_A4)"
   ]
  },
  {
   "cell_type": "code",
   "execution_count": 12,
   "metadata": {},
   "outputs": [
    {
     "data": {
      "text/plain": [
       "array([0.91666667, 0.91666667, 0.91666667, ..., 1.        , 1.        ,\n",
       "       1.        ])"
      ]
     },
     "execution_count": 12,
     "metadata": {},
     "output_type": "execute_result"
    }
   ],
   "source": [
    "EBR_36CI_Array_A4"
   ]
  },
  {
   "cell_type": "code",
   "execution_count": 13,
   "metadata": {},
   "outputs": [
    {
     "name": "stdout",
     "output_type": "stream",
     "text": [
      "(4411532,)\n"
     ]
    }
   ],
   "source": [
    "print(EBR_36CI_Array_A4.shape)"
   ]
  },
  {
   "cell_type": "code",
   "execution_count": 14,
   "metadata": {},
   "outputs": [],
   "source": [
    "#len( dictOf_EBR_IndivIsolate_NPYs.keys() )"
   ]
  },
  {
   "cell_type": "code",
   "execution_count": null,
   "metadata": {},
   "outputs": [],
   "source": []
  },
  {
   "cell_type": "code",
   "execution_count": null,
   "metadata": {},
   "outputs": [],
   "source": []
  },
  {
   "cell_type": "markdown",
   "metadata": {},
   "source": [
    "## Read back in pickle of Genmap pileup mappability calculations"
   ]
  },
  {
   "cell_type": "code",
   "execution_count": 15,
   "metadata": {},
   "outputs": [],
   "source": [
    "Genmap_Map_AnalysisDir = PB_Vs_Illumina_DataAnalysis_Dir + \"/201027_Genmap_Mappability_H37rv_V1\"  \n",
    "ParsedAndPickled_GenmapOutput = f\"{Genmap_Map_AnalysisDir}/201027_ParsedAndPickled_GenmapOutput\"\n",
    "\n",
    "Pickle_PATH_dictOf_GM_PileupMap_Arrays = ParsedAndPickled_GenmapOutput + \"/201027_dictOf_GM_PileupMap_Arrays.pickle\"   \n",
    "\n",
    "with open(Pickle_PATH_dictOf_GM_PileupMap_Arrays, \"rb\") as f: dictOf_GM_PileupMap_Arrays = pickle.load(f)"
   ]
  },
  {
   "cell_type": "code",
   "execution_count": 16,
   "metadata": {},
   "outputs": [
    {
     "data": {
      "text/plain": [
       "dict_keys(['K50_E0', 'K50_E2', 'K50_E4', 'K75_E0', 'K75_E2', 'K75_E4', 'K100_E0', 'K100_E2', 'K100_E4', 'K125_E0', 'K125_E2', 'K125_E4', 'K150_E0', 'K150_E2', 'K150_E4'])"
      ]
     },
     "execution_count": 16,
     "metadata": {},
     "output_type": "execute_result"
    }
   ],
   "source": [
    "dictOf_GM_PileupMap_Arrays.keys()"
   ]
  },
  {
   "cell_type": "code",
   "execution_count": null,
   "metadata": {},
   "outputs": [],
   "source": []
  },
  {
   "cell_type": "markdown",
   "metadata": {},
   "source": [
    "## Read in GC content pickles (GC% calculated as a sliding window)"
   ]
  },
  {
   "cell_type": "code",
   "execution_count": 17,
   "metadata": {},
   "outputs": [],
   "source": [
    "Mtb_RefDir=\"/n/data1/hms/dbmi/farhat/mm774/References\"\n",
    "GCcontent_OutputDir = f\"{Mtb_RefDir}/191217_H37rv_GC_CircGenome_Arrays\"\n",
    "\n",
    "Pickle_PATH_H37rv_GC_10bp_SW_Array = GCcontent_OutputDir + \"/191217_H37rv_GC_10bp_SW_Array.pickle\"   \n",
    "Pickle_PATH_H37rv_GC_50bp_SW_Array = GCcontent_OutputDir + \"/191217_H37rv_GC_50bp_SW_Array.pickle\"   \n",
    "Pickle_PATH_H37rv_GC_100bp_SW_Array = GCcontent_OutputDir + \"/191217_H37rv_GC_100bp_SW_Array.pickle\"   \n",
    "\n",
    "with open(Pickle_PATH_H37rv_GC_10bp_SW_Array, \"rb\") as f: H37rv_GC_10bp_SW_Array = pickle.load(f)\n",
    "with open(Pickle_PATH_H37rv_GC_50bp_SW_Array, \"rb\") as f: H37rv_GC_50bp_SW_Array = pickle.load(f)\n",
    "with open(Pickle_PATH_H37rv_GC_100bp_SW_Array, \"rb\") as f: H37rv_GC_100bp_SW_Array = pickle.load(f)"
   ]
  },
  {
   "cell_type": "code",
   "execution_count": null,
   "metadata": {},
   "outputs": [],
   "source": []
  },
  {
   "cell_type": "code",
   "execution_count": null,
   "metadata": {},
   "outputs": [],
   "source": []
  },
  {
   "cell_type": "code",
   "execution_count": null,
   "metadata": {},
   "outputs": [],
   "source": []
  },
  {
   "cell_type": "markdown",
   "metadata": {},
   "source": [
    "# Import and parse processed H37rv genome annotations"
   ]
  },
  {
   "cell_type": "code",
   "execution_count": 18,
   "metadata": {},
   "outputs": [],
   "source": [
    "RepoRef_Dir = \"../../References\"\n",
    "\n",
    "AnnotatedGenes_And_IntergenicRegions_RepoRef_Dir = f\"{RepoRef_Dir}/201027_H37rv_AnnotatedGenes_And_IntergenicRegions\"\n",
    "\n",
    "H37Rv_GenomeAnnotations_Genes_TSV = f\"{AnnotatedGenes_And_IntergenicRegions_RepoRef_Dir}/H37Rv_GenomeAnnotations.Genes.tsv\"\n",
    "H37Rv_GenomeAnnotations_IntergenicRegions_TSV = f\"{AnnotatedGenes_And_IntergenicRegions_RepoRef_Dir}/H37Rv_GenomeAnnotations.IntergenicRegions.tsv\"\n",
    "H37Rv_GenomeAnnotations_Genes_And_IntergenicRegions_TSV = f\"{AnnotatedGenes_And_IntergenicRegions_RepoRef_Dir}/H37Rv_GenomeAnnotations.Genes.And.IntergenicRegions.tsv\"    \n",
    "\n",
    "\n",
    "## H37Rv Gene Annotations TSV\n",
    "#H37Rv_GenomeAnno_Genes_DF = pd.read_csv(H37Rv_GenomeAnnotations_Genes_TSV, sep = \"\\t\")\n",
    "\n",
    "## H37Rv_Integenic_Regions_TSV\n",
    "#H37Rv_IntergenicRegions_DF = pd.read_csv(H37Rv_GenomeAnnotations_IntergenicRegions_TSV, sep = \"\\t\")\n",
    "\n",
    "## H37Rv_GeneAndIntegenic_Regions_TSV\n",
    "H37Rv_AllRegions_DF = pd.read_csv(H37Rv_GenomeAnnotations_Genes_And_IntergenicRegions_TSV, sep = \"\\t\")\n"
   ]
  },
  {
   "cell_type": "code",
   "execution_count": 19,
   "metadata": {},
   "outputs": [
    {
     "data": {
      "text/plain": [
       "(7151, 17)"
      ]
     },
     "execution_count": 19,
     "metadata": {},
     "output_type": "execute_result"
    }
   ],
   "source": [
    "H37Rv_AllRegions_DF.shape"
   ]
  },
  {
   "cell_type": "code",
   "execution_count": 20,
   "metadata": {},
   "outputs": [
    {
     "data": {
      "text/html": [
       "<div>\n",
       "<style scoped>\n",
       "    .dataframe tbody tr th:only-of-type {\n",
       "        vertical-align: middle;\n",
       "    }\n",
       "\n",
       "    .dataframe tbody tr th {\n",
       "        vertical-align: top;\n",
       "    }\n",
       "\n",
       "    .dataframe thead th {\n",
       "        text-align: right;\n",
       "    }\n",
       "</style>\n",
       "<table border=\"1\" class=\"dataframe\">\n",
       "  <thead>\n",
       "    <tr style=\"text-align: right;\">\n",
       "      <th></th>\n",
       "      <th>Chrom</th>\n",
       "      <th>Start</th>\n",
       "      <th>End</th>\n",
       "      <th>Strand</th>\n",
       "      <th>H37rv_GeneID</th>\n",
       "      <th>Symbol</th>\n",
       "      <th>Feature</th>\n",
       "      <th>ExcludedGroup_Category</th>\n",
       "      <th>PEandPPE_Subfamily</th>\n",
       "      <th>Product</th>\n",
       "      <th>Functional_Category</th>\n",
       "      <th>Is_Pseudogene</th>\n",
       "      <th>IntergenicRegion_IsNextTo_PLC_Gene</th>\n",
       "      <th>Intergenic_GeneToTheLeft</th>\n",
       "      <th>Intergenic_GeneToTheLeft_FuncCategory</th>\n",
       "      <th>Intergenic_GeneToTheRight</th>\n",
       "      <th>Intergenic_GeneToTheRight_FuncCategory</th>\n",
       "    </tr>\n",
       "  </thead>\n",
       "  <tbody>\n",
       "    <tr>\n",
       "      <th>0</th>\n",
       "      <td>NC_000962.3</td>\n",
       "      <td>0</td>\n",
       "      <td>1524</td>\n",
       "      <td>+</td>\n",
       "      <td>Rv0001</td>\n",
       "      <td>dnaA</td>\n",
       "      <td>CDS</td>\n",
       "      <td>NotExcluded</td>\n",
       "      <td>None</td>\n",
       "      <td>Chromosomal replication initiator protein DnaA</td>\n",
       "      <td>information pathways</td>\n",
       "      <td>No</td>\n",
       "      <td>NaN</td>\n",
       "      <td>NaN</td>\n",
       "      <td>NaN</td>\n",
       "      <td>NaN</td>\n",
       "      <td>NaN</td>\n",
       "    </tr>\n",
       "    <tr>\n",
       "      <th>1</th>\n",
       "      <td>NC_000962.3</td>\n",
       "      <td>1524</td>\n",
       "      <td>2051</td>\n",
       "      <td>NaN</td>\n",
       "      <td>IntergenicRegion_1_Rv0001-Rv0002</td>\n",
       "      <td>NaN</td>\n",
       "      <td>Intergenic</td>\n",
       "      <td>Intergenic</td>\n",
       "      <td>NaN</td>\n",
       "      <td>NaN</td>\n",
       "      <td>Intergenic</td>\n",
       "      <td>NaN</td>\n",
       "      <td>False</td>\n",
       "      <td>Rv0001</td>\n",
       "      <td>NotExcluded</td>\n",
       "      <td>Rv0002</td>\n",
       "      <td>NotExcluded</td>\n",
       "    </tr>\n",
       "    <tr>\n",
       "      <th>2</th>\n",
       "      <td>NC_000962.3</td>\n",
       "      <td>2051</td>\n",
       "      <td>3260</td>\n",
       "      <td>+</td>\n",
       "      <td>Rv0002</td>\n",
       "      <td>dnaN</td>\n",
       "      <td>CDS</td>\n",
       "      <td>NotExcluded</td>\n",
       "      <td>None</td>\n",
       "      <td>DNA polymerase III (beta chain) DnaN (DNA nucl...</td>\n",
       "      <td>information pathways</td>\n",
       "      <td>No</td>\n",
       "      <td>NaN</td>\n",
       "      <td>NaN</td>\n",
       "      <td>NaN</td>\n",
       "      <td>NaN</td>\n",
       "      <td>NaN</td>\n",
       "    </tr>\n",
       "  </tbody>\n",
       "</table>\n",
       "</div>"
      ],
      "text/plain": [
       "         Chrom  Start   End Strand                      H37rv_GeneID Symbol     Feature ExcludedGroup_Category PEandPPE_Subfamily                                            Product   Functional_Category Is_Pseudogene IntergenicRegion_IsNextTo_PLC_Gene Intergenic_GeneToTheLeft Intergenic_GeneToTheLeft_FuncCategory Intergenic_GeneToTheRight Intergenic_GeneToTheRight_FuncCategory\n",
       "0  NC_000962.3      0  1524      +                            Rv0001   dnaA         CDS            NotExcluded               None     Chromosomal replication initiator protein DnaA  information pathways            No                                NaN                      NaN                                   NaN                       NaN                                    NaN\n",
       "1  NC_000962.3   1524  2051    NaN  IntergenicRegion_1_Rv0001-Rv0002    NaN  Intergenic             Intergenic                NaN                                                NaN            Intergenic           NaN                              False                   Rv0001                           NotExcluded                    Rv0002                            NotExcluded\n",
       "2  NC_000962.3   2051  3260      +                            Rv0002   dnaN         CDS            NotExcluded               None  DNA polymerase III (beta chain) DnaN (DNA nucl...  information pathways            No                                NaN                      NaN                                   NaN                       NaN                                    NaN"
      ]
     },
     "execution_count": 20,
     "metadata": {},
     "output_type": "execute_result"
    }
   ],
   "source": [
    "H37Rv_AllRegions_DF.head(3)"
   ]
  },
  {
   "cell_type": "code",
   "execution_count": 21,
   "metadata": {},
   "outputs": [
    {
     "data": {
      "text/plain": [
       "CDS           4031\n",
       "Intergenic    3072\n",
       "tRNA            45\n",
       "rRNA             3\n",
       "Name: Feature, dtype: int64"
      ]
     },
     "execution_count": 21,
     "metadata": {},
     "output_type": "execute_result"
    }
   ],
   "source": [
    "H37Rv_AllRegions_DF[\"Feature\"].value_counts()"
   ]
  },
  {
   "cell_type": "code",
   "execution_count": null,
   "metadata": {},
   "outputs": [],
   "source": []
  },
  {
   "cell_type": "code",
   "execution_count": null,
   "metadata": {},
   "outputs": [],
   "source": []
  },
  {
   "cell_type": "markdown",
   "metadata": {},
   "source": [
    "# Calculate feature-level EBR, Pileup Mappability, and GC% across all annotated features of H37Rv"
   ]
  },
  {
   "cell_type": "code",
   "execution_count": 22,
   "metadata": {},
   "outputs": [
    {
     "name": "stderr",
     "output_type": "stream",
     "text": [
      "0it [00:00, ?it/s]/home/mm774/conda3/envs/py37_S/lib/python3.7/site-packages/ipykernel_launcher.py:33: RuntimeWarning: invalid value encountered in greater_equal\n",
      "506it [00:04, 102.60it/s]/home/mm774/conda3/envs/py37_S/lib/python3.7/site-packages/ipykernel_launcher.py:23: RuntimeWarning: invalid value encountered in greater_equal\n",
      "1458it [00:14, 102.99it/s]/home/mm774/conda3/envs/py37_S/lib/python3.7/site-packages/ipykernel_launcher.py:15: RuntimeWarning: Mean of empty slice\n",
      "  from ipykernel import kernelapp as app\n",
      "7151it [00:59, 120.94it/s]\n"
     ]
    }
   ],
   "source": [
    "listOf_FeatureLevelAnalysis_Rows = []\n",
    "\n",
    "\n",
    "for index, row  in tqdm(H37Rv_AllRegions_DF.iterrows()) :\n",
    "\n",
    "    gene_StartPos_0based = row[\"Start\"]\n",
    "    gene_EndPos_0based = row[\"End\"]\n",
    "    \n",
    "    ### EBR Analysis ###\n",
    "    EBR_Aggr_Subset = EBR_36CI_Array_A4[gene_StartPos_0based :gene_EndPos_0based ]\n",
    "    \n",
    "    #gene_Mean_EBR_28CI_Score = np.mean(EBR_28CI_Subset)\n",
    "    \n",
    "    \n",
    "    gene_Mean_EBR_Aggr_Score = np.nanmean(EBR_Aggr_Subset) # Calculate mean EBR score across gene (EXCLUDING NANs)\n",
    "    \n",
    "    gene_NumberOfNANs = np.isnan(EBR_Aggr_Subset).sum()\n",
    "    \n",
    "    gene_Length = gene_EndPos_0based - gene_StartPos_0based\n",
    "    \n",
    "    gene_ProportionWith_NANs_EBR_Aggr = gene_NumberOfNANs / gene_Length\n",
    "    \n",
    "    gene_PercentPerfect_EBR_Aggr = (EBR_Aggr_Subset >= 1).sum() / len(EBR_Aggr_Subset) * 100\n",
    "    \n",
    "    ### Pileup Mappabiltiy Analysis ###\n",
    "\n",
    "    gene_Mean_PBvI_MapScore_K50_E4 = np.nanmean(  dictOf_GM_PileupMap_Arrays[\"K50_E4\"][gene_StartPos_0based :gene_EndPos_0based ] )\n",
    "    gene_Mean_PBvI_MapScore_K100_E4 = np.nanmean(  dictOf_GM_PileupMap_Arrays[\"K100_E4\"][gene_StartPos_0based :gene_EndPos_0based ] )\n",
    "    gene_Mean_PBvI_MapScore_K125_E4 = np.nanmean(  dictOf_GM_PileupMap_Arrays[\"K125_E4\"][gene_StartPos_0based :gene_EndPos_0based ] )\n",
    "\n",
    "\n",
    "    GM_Pmap_K50_E4_Subset = dictOf_GM_PileupMap_Arrays[\"K50_E4\"][gene_StartPos_0based :gene_EndPos_0based ]\n",
    "    gene_PercentPerfect_MapScore_K50_E4 = (GM_Pmap_K50_E4_Subset >= 1).sum() / len(GM_Pmap_K50_E4_Subset) * 100   \n",
    "    \n",
    "    \n",
    "    ### GC Content ###\n",
    "    gene_GC_Content = gc_content( Mtb_H37rv_Sequence[gene_StartPos_0based :gene_EndPos_0based] )\n",
    "    \n",
    "    ### Add columns to row ###\n",
    "    row[\"Mean_EBR_36CI\"] =  gene_Mean_EBR_Aggr_Score\n",
    "    row[\"gene_PercentPerfect_EBR_36CI\"] =  gene_PercentPerfect_EBR_Aggr\n",
    "    row[\"gene_ProportionWith_NANs_EBR_36CI\"] = gene_ProportionWith_NANs_EBR_Aggr\n",
    "    \n",
    "    row[\"gene_GC_Content\"]  = gene_GC_Content\n",
    "    row[\"Mean_MapScore_K50_E4\"]   = gene_Mean_PBvI_MapScore_K50_E4\n",
    "    row[\"Mean_MapScore_K100_E4\"]  = gene_Mean_PBvI_MapScore_K100_E4 \n",
    "    row[\"Mean_MapScore_K125_E4\"]  = gene_Mean_PBvI_MapScore_K125_E4 \n",
    "\n",
    "    \n",
    "    listOf_FeatureLevelAnalysis_Rows.append(row)\n"
   ]
  },
  {
   "cell_type": "code",
   "execution_count": null,
   "metadata": {},
   "outputs": [],
   "source": []
  },
  {
   "cell_type": "code",
   "execution_count": 23,
   "metadata": {},
   "outputs": [
    {
     "data": {
      "text/plain": [
       "(7151, 25)"
      ]
     },
     "execution_count": 23,
     "metadata": {},
     "output_type": "execute_result"
    }
   ],
   "source": [
    "H37rv_FeatureLevelAnalysis_DF = pd.DataFrame(listOf_FeatureLevelAnalysis_Rows)\n",
    "\n",
    "H37rv_FeatureLevelAnalysis_DF[\"Length\"] = H37rv_FeatureLevelAnalysis_DF[\"End\"] - H37rv_FeatureLevelAnalysis_DF[\"Start\"]\n",
    "H37rv_FeatureLevelAnalysis_DF.shape"
   ]
  },
  {
   "cell_type": "code",
   "execution_count": 24,
   "metadata": {},
   "outputs": [
    {
     "data": {
      "text/plain": [
       "CDS           4031\n",
       "Intergenic    3072\n",
       "tRNA            45\n",
       "rRNA             3\n",
       "Name: Feature, dtype: int64"
      ]
     },
     "execution_count": 24,
     "metadata": {},
     "output_type": "execute_result"
    }
   ],
   "source": [
    "H37rv_FeatureLevelAnalysis_DF[\"Feature\"].value_counts()"
   ]
  },
  {
   "cell_type": "code",
   "execution_count": null,
   "metadata": {},
   "outputs": [],
   "source": []
  },
  {
   "cell_type": "markdown",
   "metadata": {},
   "source": [
    "### Subset for gene's (creating the gene-level analysis DF)"
   ]
  },
  {
   "cell_type": "code",
   "execution_count": 25,
   "metadata": {},
   "outputs": [],
   "source": [
    "H37rv_GeneLevelAnalysis_DF = H37rv_FeatureLevelAnalysis_DF[ H37rv_FeatureLevelAnalysis_DF[\"Feature\"].isin( [\"CDS\", \"tRNA\", \"rRNA\"])  ]\n",
    "\n",
    "Columns_ToDropFrom_GLA = ['IntergenicRegion_IsNextTo_PLC_Gene', 'Intergenic_GeneToTheLeft', 'Intergenic_GeneToTheLeft_FuncCategory', \n",
    "                          'Intergenic_GeneToTheRight', 'Intergenic_GeneToTheRight_FuncCategory']\n",
    "\n",
    "H37rv_GeneLevelAnalysis_DF = H37rv_GeneLevelAnalysis_DF.drop(Columns_ToDropFrom_GLA, axis = 1)\n",
    "\n",
    "\n",
    "H37rv_IntergenicLevelAnalysis_DF = H37rv_FeatureLevelAnalysis_DF[ H37rv_FeatureLevelAnalysis_DF[\"Feature\"].isin( [\"Intergenic\"])  ]\n",
    "\n",
    "\n",
    "FLA_DF = H37rv_FeatureLevelAnalysis_DF\n",
    "GLA_DF = H37rv_GeneLevelAnalysis_DF\n",
    "ILA_DF = H37rv_IntergenicLevelAnalysis_DF\n"
   ]
  },
  {
   "cell_type": "code",
   "execution_count": 26,
   "metadata": {},
   "outputs": [
    {
     "data": {
      "text/plain": [
       "Index(['Chrom', 'Start', 'End', 'Strand', 'H37rv_GeneID', 'Symbol', 'Feature', 'ExcludedGroup_Category', 'PEandPPE_Subfamily', 'Product', 'Functional_Category', 'Is_Pseudogene', 'Mean_EBR_36CI', 'gene_PercentPerfect_EBR_36CI', 'gene_ProportionWith_NANs_EBR_36CI', 'gene_GC_Content', 'Mean_MapScore_K50_E4', 'Mean_MapScore_K100_E4', 'Mean_MapScore_K125_E4', 'Length'], dtype='object')"
      ]
     },
     "execution_count": 26,
     "metadata": {},
     "output_type": "execute_result"
    }
   ],
   "source": [
    "H37rv_GeneLevelAnalysis_DF.columns"
   ]
  },
  {
   "cell_type": "code",
   "execution_count": null,
   "metadata": {},
   "outputs": [],
   "source": []
  },
  {
   "cell_type": "code",
   "execution_count": 27,
   "metadata": {},
   "outputs": [
    {
     "data": {
      "text/plain": [
       "(7151, 25)"
      ]
     },
     "execution_count": 27,
     "metadata": {},
     "output_type": "execute_result"
    }
   ],
   "source": [
    "FLA_DF.shape"
   ]
  },
  {
   "cell_type": "code",
   "execution_count": 28,
   "metadata": {},
   "outputs": [
    {
     "data": {
      "text/plain": [
       "(4079, 20)"
      ]
     },
     "execution_count": 28,
     "metadata": {},
     "output_type": "execute_result"
    }
   ],
   "source": [
    "GLA_DF.shape"
   ]
  },
  {
   "cell_type": "code",
   "execution_count": 29,
   "metadata": {},
   "outputs": [
    {
     "data": {
      "text/plain": [
       "(3072, 25)"
      ]
     },
     "execution_count": 29,
     "metadata": {},
     "output_type": "execute_result"
    }
   ],
   "source": [
    "ILA_DF.shape"
   ]
  },
  {
   "cell_type": "code",
   "execution_count": 30,
   "metadata": {},
   "outputs": [
    {
     "data": {
      "text/plain": [
       "Index(['Chrom', 'Start', 'End', 'Strand', 'H37rv_GeneID', 'Symbol', 'Feature', 'ExcludedGroup_Category', 'PEandPPE_Subfamily', 'Product', 'Functional_Category', 'Is_Pseudogene', 'IntergenicRegion_IsNextTo_PLC_Gene', 'Intergenic_GeneToTheLeft', 'Intergenic_GeneToTheLeft_FuncCategory', 'Intergenic_GeneToTheRight', 'Intergenic_GeneToTheRight_FuncCategory', 'Mean_EBR_36CI', 'gene_PercentPerfect_EBR_36CI', 'gene_ProportionWith_NANs_EBR_36CI', 'gene_GC_Content', 'Mean_MapScore_K50_E4', 'Mean_MapScore_K100_E4', 'Mean_MapScore_K125_E4', 'Length'], dtype='object')"
      ]
     },
     "execution_count": 30,
     "metadata": {},
     "output_type": "execute_result"
    }
   ],
   "source": [
    "FLA_DF.columns"
   ]
  },
  {
   "cell_type": "code",
   "execution_count": 31,
   "metadata": {},
   "outputs": [
    {
     "data": {
      "text/html": [
       "<div>\n",
       "<style scoped>\n",
       "    .dataframe tbody tr th:only-of-type {\n",
       "        vertical-align: middle;\n",
       "    }\n",
       "\n",
       "    .dataframe tbody tr th {\n",
       "        vertical-align: top;\n",
       "    }\n",
       "\n",
       "    .dataframe thead th {\n",
       "        text-align: right;\n",
       "    }\n",
       "</style>\n",
       "<table border=\"1\" class=\"dataframe\">\n",
       "  <thead>\n",
       "    <tr style=\"text-align: right;\">\n",
       "      <th></th>\n",
       "      <th>Chrom</th>\n",
       "      <th>Start</th>\n",
       "      <th>End</th>\n",
       "      <th>Strand</th>\n",
       "      <th>H37rv_GeneID</th>\n",
       "      <th>Symbol</th>\n",
       "      <th>Feature</th>\n",
       "      <th>ExcludedGroup_Category</th>\n",
       "      <th>PEandPPE_Subfamily</th>\n",
       "      <th>Product</th>\n",
       "      <th>Functional_Category</th>\n",
       "      <th>Is_Pseudogene</th>\n",
       "      <th>IntergenicRegion_IsNextTo_PLC_Gene</th>\n",
       "      <th>Intergenic_GeneToTheLeft</th>\n",
       "      <th>Intergenic_GeneToTheLeft_FuncCategory</th>\n",
       "      <th>Intergenic_GeneToTheRight</th>\n",
       "      <th>Intergenic_GeneToTheRight_FuncCategory</th>\n",
       "      <th>Mean_EBR_36CI</th>\n",
       "      <th>gene_PercentPerfect_EBR_36CI</th>\n",
       "      <th>gene_ProportionWith_NANs_EBR_36CI</th>\n",
       "      <th>gene_GC_Content</th>\n",
       "      <th>Mean_MapScore_K50_E4</th>\n",
       "      <th>Mean_MapScore_K100_E4</th>\n",
       "      <th>Mean_MapScore_K125_E4</th>\n",
       "      <th>Length</th>\n",
       "    </tr>\n",
       "  </thead>\n",
       "  <tbody>\n",
       "    <tr>\n",
       "      <th>0</th>\n",
       "      <td>NC_000962.3</td>\n",
       "      <td>0</td>\n",
       "      <td>1524</td>\n",
       "      <td>+</td>\n",
       "      <td>Rv0001</td>\n",
       "      <td>dnaA</td>\n",
       "      <td>CDS</td>\n",
       "      <td>NotExcluded</td>\n",
       "      <td>None</td>\n",
       "      <td>Chromosomal replication initiator protein DnaA</td>\n",
       "      <td>information pathways</td>\n",
       "      <td>No</td>\n",
       "      <td>NaN</td>\n",
       "      <td>NaN</td>\n",
       "      <td>NaN</td>\n",
       "      <td>NaN</td>\n",
       "      <td>NaN</td>\n",
       "      <td>0.997430</td>\n",
       "      <td>92.979003</td>\n",
       "      <td>0.0</td>\n",
       "      <td>58.923885</td>\n",
       "      <td>1.0</td>\n",
       "      <td>1.0</td>\n",
       "      <td>1.0</td>\n",
       "      <td>1524</td>\n",
       "    </tr>\n",
       "    <tr>\n",
       "      <th>1</th>\n",
       "      <td>NC_000962.3</td>\n",
       "      <td>1524</td>\n",
       "      <td>2051</td>\n",
       "      <td>NaN</td>\n",
       "      <td>IntergenicRegion_1_Rv0001-Rv0002</td>\n",
       "      <td>NaN</td>\n",
       "      <td>Intergenic</td>\n",
       "      <td>Intergenic</td>\n",
       "      <td>NaN</td>\n",
       "      <td>NaN</td>\n",
       "      <td>Intergenic</td>\n",
       "      <td>NaN</td>\n",
       "      <td>False</td>\n",
       "      <td>Rv0001</td>\n",
       "      <td>NotExcluded</td>\n",
       "      <td>Rv0002</td>\n",
       "      <td>NotExcluded</td>\n",
       "      <td>0.999315</td>\n",
       "      <td>97.533207</td>\n",
       "      <td>0.0</td>\n",
       "      <td>56.925996</td>\n",
       "      <td>1.0</td>\n",
       "      <td>1.0</td>\n",
       "      <td>1.0</td>\n",
       "      <td>527</td>\n",
       "    </tr>\n",
       "  </tbody>\n",
       "</table>\n",
       "</div>"
      ],
      "text/plain": [
       "         Chrom  Start   End Strand                      H37rv_GeneID Symbol     Feature ExcludedGroup_Category PEandPPE_Subfamily                                         Product   Functional_Category Is_Pseudogene IntergenicRegion_IsNextTo_PLC_Gene Intergenic_GeneToTheLeft Intergenic_GeneToTheLeft_FuncCategory Intergenic_GeneToTheRight Intergenic_GeneToTheRight_FuncCategory  Mean_EBR_36CI  gene_PercentPerfect_EBR_36CI  gene_ProportionWith_NANs_EBR_36CI  gene_GC_Content  Mean_MapScore_K50_E4  Mean_MapScore_K100_E4  Mean_MapScore_K125_E4  Length\n",
       "0  NC_000962.3      0  1524      +                            Rv0001   dnaA         CDS            NotExcluded               None  Chromosomal replication initiator protein DnaA  information pathways            No                                NaN                      NaN                                   NaN                       NaN                                    NaN       0.997430                     92.979003                                0.0        58.923885                   1.0                    1.0                    1.0    1524\n",
       "1  NC_000962.3   1524  2051    NaN  IntergenicRegion_1_Rv0001-Rv0002    NaN  Intergenic             Intergenic                NaN                                             NaN            Intergenic           NaN                              False                   Rv0001                           NotExcluded                    Rv0002                            NotExcluded       0.999315                     97.533207                                0.0        56.925996                   1.0                    1.0                    1.0     527"
      ]
     },
     "execution_count": 31,
     "metadata": {},
     "output_type": "execute_result"
    }
   ],
   "source": [
    "FLA_DF.head(2)"
   ]
  },
  {
   "cell_type": "code",
   "execution_count": 32,
   "metadata": {},
   "outputs": [
    {
     "data": {
      "text/html": [
       "<div>\n",
       "<style scoped>\n",
       "    .dataframe tbody tr th:only-of-type {\n",
       "        vertical-align: middle;\n",
       "    }\n",
       "\n",
       "    .dataframe tbody tr th {\n",
       "        vertical-align: top;\n",
       "    }\n",
       "\n",
       "    .dataframe thead th {\n",
       "        text-align: right;\n",
       "    }\n",
       "</style>\n",
       "<table border=\"1\" class=\"dataframe\">\n",
       "  <thead>\n",
       "    <tr style=\"text-align: right;\">\n",
       "      <th></th>\n",
       "      <th>Chrom</th>\n",
       "      <th>Start</th>\n",
       "      <th>End</th>\n",
       "      <th>Strand</th>\n",
       "      <th>H37rv_GeneID</th>\n",
       "      <th>Symbol</th>\n",
       "      <th>Feature</th>\n",
       "      <th>ExcludedGroup_Category</th>\n",
       "      <th>PEandPPE_Subfamily</th>\n",
       "      <th>Product</th>\n",
       "      <th>Functional_Category</th>\n",
       "      <th>Is_Pseudogene</th>\n",
       "      <th>Mean_EBR_36CI</th>\n",
       "      <th>gene_PercentPerfect_EBR_36CI</th>\n",
       "      <th>gene_ProportionWith_NANs_EBR_36CI</th>\n",
       "      <th>gene_GC_Content</th>\n",
       "      <th>Mean_MapScore_K50_E4</th>\n",
       "      <th>Mean_MapScore_K100_E4</th>\n",
       "      <th>Mean_MapScore_K125_E4</th>\n",
       "      <th>Length</th>\n",
       "    </tr>\n",
       "  </thead>\n",
       "  <tbody>\n",
       "    <tr>\n",
       "      <th>0</th>\n",
       "      <td>NC_000962.3</td>\n",
       "      <td>0</td>\n",
       "      <td>1524</td>\n",
       "      <td>+</td>\n",
       "      <td>Rv0001</td>\n",
       "      <td>dnaA</td>\n",
       "      <td>CDS</td>\n",
       "      <td>NotExcluded</td>\n",
       "      <td>None</td>\n",
       "      <td>Chromosomal replication initiator protein DnaA</td>\n",
       "      <td>information pathways</td>\n",
       "      <td>No</td>\n",
       "      <td>0.997430</td>\n",
       "      <td>92.979003</td>\n",
       "      <td>0.0</td>\n",
       "      <td>58.923885</td>\n",
       "      <td>1.0</td>\n",
       "      <td>1.0</td>\n",
       "      <td>1.0</td>\n",
       "      <td>1524</td>\n",
       "    </tr>\n",
       "    <tr>\n",
       "      <th>2</th>\n",
       "      <td>NC_000962.3</td>\n",
       "      <td>2051</td>\n",
       "      <td>3260</td>\n",
       "      <td>+</td>\n",
       "      <td>Rv0002</td>\n",
       "      <td>dnaN</td>\n",
       "      <td>CDS</td>\n",
       "      <td>NotExcluded</td>\n",
       "      <td>None</td>\n",
       "      <td>DNA polymerase III (beta chain) DnaN (DNA nucl...</td>\n",
       "      <td>information pathways</td>\n",
       "      <td>No</td>\n",
       "      <td>0.998093</td>\n",
       "      <td>93.134822</td>\n",
       "      <td>0.0</td>\n",
       "      <td>59.966915</td>\n",
       "      <td>1.0</td>\n",
       "      <td>1.0</td>\n",
       "      <td>1.0</td>\n",
       "      <td>1209</td>\n",
       "    </tr>\n",
       "  </tbody>\n",
       "</table>\n",
       "</div>"
      ],
      "text/plain": [
       "         Chrom  Start   End Strand H37rv_GeneID Symbol Feature ExcludedGroup_Category PEandPPE_Subfamily                                            Product   Functional_Category Is_Pseudogene  Mean_EBR_36CI  gene_PercentPerfect_EBR_36CI  gene_ProportionWith_NANs_EBR_36CI  gene_GC_Content  Mean_MapScore_K50_E4  Mean_MapScore_K100_E4  Mean_MapScore_K125_E4  Length\n",
       "0  NC_000962.3      0  1524      +       Rv0001   dnaA     CDS            NotExcluded               None     Chromosomal replication initiator protein DnaA  information pathways            No       0.997430                     92.979003                                0.0        58.923885                   1.0                    1.0                    1.0    1524\n",
       "2  NC_000962.3   2051  3260      +       Rv0002   dnaN     CDS            NotExcluded               None  DNA polymerase III (beta chain) DnaN (DNA nucl...  information pathways            No       0.998093                     93.134822                                0.0        59.966915                   1.0                    1.0                    1.0    1209"
      ]
     },
     "execution_count": 32,
     "metadata": {},
     "output_type": "execute_result"
    }
   ],
   "source": [
    "GLA_DF.head(2)"
   ]
  },
  {
   "cell_type": "code",
   "execution_count": 33,
   "metadata": {},
   "outputs": [
    {
     "data": {
      "text/html": [
       "<div>\n",
       "<style scoped>\n",
       "    .dataframe tbody tr th:only-of-type {\n",
       "        vertical-align: middle;\n",
       "    }\n",
       "\n",
       "    .dataframe tbody tr th {\n",
       "        vertical-align: top;\n",
       "    }\n",
       "\n",
       "    .dataframe thead th {\n",
       "        text-align: right;\n",
       "    }\n",
       "</style>\n",
       "<table border=\"1\" class=\"dataframe\">\n",
       "  <thead>\n",
       "    <tr style=\"text-align: right;\">\n",
       "      <th></th>\n",
       "      <th>Chrom</th>\n",
       "      <th>Start</th>\n",
       "      <th>End</th>\n",
       "      <th>Strand</th>\n",
       "      <th>H37rv_GeneID</th>\n",
       "      <th>Symbol</th>\n",
       "      <th>Feature</th>\n",
       "      <th>ExcludedGroup_Category</th>\n",
       "      <th>PEandPPE_Subfamily</th>\n",
       "      <th>Product</th>\n",
       "      <th>Functional_Category</th>\n",
       "      <th>Is_Pseudogene</th>\n",
       "      <th>IntergenicRegion_IsNextTo_PLC_Gene</th>\n",
       "      <th>Intergenic_GeneToTheLeft</th>\n",
       "      <th>Intergenic_GeneToTheLeft_FuncCategory</th>\n",
       "      <th>Intergenic_GeneToTheRight</th>\n",
       "      <th>Intergenic_GeneToTheRight_FuncCategory</th>\n",
       "      <th>Mean_EBR_36CI</th>\n",
       "      <th>gene_PercentPerfect_EBR_36CI</th>\n",
       "      <th>gene_ProportionWith_NANs_EBR_36CI</th>\n",
       "      <th>gene_GC_Content</th>\n",
       "      <th>Mean_MapScore_K50_E4</th>\n",
       "      <th>Mean_MapScore_K100_E4</th>\n",
       "      <th>Mean_MapScore_K125_E4</th>\n",
       "      <th>Length</th>\n",
       "    </tr>\n",
       "  </thead>\n",
       "  <tbody>\n",
       "    <tr>\n",
       "      <th>1</th>\n",
       "      <td>NC_000962.3</td>\n",
       "      <td>1524</td>\n",
       "      <td>2051</td>\n",
       "      <td>NaN</td>\n",
       "      <td>IntergenicRegion_1_Rv0001-Rv0002</td>\n",
       "      <td>NaN</td>\n",
       "      <td>Intergenic</td>\n",
       "      <td>Intergenic</td>\n",
       "      <td>NaN</td>\n",
       "      <td>NaN</td>\n",
       "      <td>Intergenic</td>\n",
       "      <td>NaN</td>\n",
       "      <td>False</td>\n",
       "      <td>Rv0001</td>\n",
       "      <td>NotExcluded</td>\n",
       "      <td>Rv0002</td>\n",
       "      <td>NotExcluded</td>\n",
       "      <td>0.999315</td>\n",
       "      <td>97.533207</td>\n",
       "      <td>0.0</td>\n",
       "      <td>56.925996</td>\n",
       "      <td>1.0</td>\n",
       "      <td>1.0</td>\n",
       "      <td>1.0</td>\n",
       "      <td>527</td>\n",
       "    </tr>\n",
       "    <tr>\n",
       "      <th>3</th>\n",
       "      <td>NC_000962.3</td>\n",
       "      <td>3260</td>\n",
       "      <td>3279</td>\n",
       "      <td>NaN</td>\n",
       "      <td>IntergenicRegion_2_Rv0002-Rv0003</td>\n",
       "      <td>NaN</td>\n",
       "      <td>Intergenic</td>\n",
       "      <td>Intergenic</td>\n",
       "      <td>NaN</td>\n",
       "      <td>NaN</td>\n",
       "      <td>Intergenic</td>\n",
       "      <td>NaN</td>\n",
       "      <td>False</td>\n",
       "      <td>Rv0002</td>\n",
       "      <td>NotExcluded</td>\n",
       "      <td>Rv0003</td>\n",
       "      <td>NotExcluded</td>\n",
       "      <td>1.000000</td>\n",
       "      <td>100.000000</td>\n",
       "      <td>0.0</td>\n",
       "      <td>73.684211</td>\n",
       "      <td>1.0</td>\n",
       "      <td>1.0</td>\n",
       "      <td>1.0</td>\n",
       "      <td>19</td>\n",
       "    </tr>\n",
       "  </tbody>\n",
       "</table>\n",
       "</div>"
      ],
      "text/plain": [
       "         Chrom  Start   End Strand                      H37rv_GeneID Symbol     Feature ExcludedGroup_Category PEandPPE_Subfamily Product Functional_Category Is_Pseudogene IntergenicRegion_IsNextTo_PLC_Gene Intergenic_GeneToTheLeft Intergenic_GeneToTheLeft_FuncCategory Intergenic_GeneToTheRight Intergenic_GeneToTheRight_FuncCategory  Mean_EBR_36CI  gene_PercentPerfect_EBR_36CI  gene_ProportionWith_NANs_EBR_36CI  gene_GC_Content  Mean_MapScore_K50_E4  Mean_MapScore_K100_E4  Mean_MapScore_K125_E4  Length\n",
       "1  NC_000962.3   1524  2051    NaN  IntergenicRegion_1_Rv0001-Rv0002    NaN  Intergenic             Intergenic                NaN     NaN          Intergenic           NaN                              False                   Rv0001                           NotExcluded                    Rv0002                            NotExcluded       0.999315                     97.533207                                0.0        56.925996                   1.0                    1.0                    1.0     527\n",
       "3  NC_000962.3   3260  3279    NaN  IntergenicRegion_2_Rv0002-Rv0003    NaN  Intergenic             Intergenic                NaN     NaN          Intergenic           NaN                              False                   Rv0002                           NotExcluded                    Rv0003                            NotExcluded       1.000000                    100.000000                                0.0        73.684211                   1.0                    1.0                    1.0      19"
      ]
     },
     "execution_count": 33,
     "metadata": {},
     "output_type": "execute_result"
    }
   ],
   "source": [
    "ILA_DF.head(2)"
   ]
  },
  {
   "cell_type": "code",
   "execution_count": null,
   "metadata": {},
   "outputs": [],
   "source": []
  },
  {
   "cell_type": "code",
   "execution_count": null,
   "metadata": {},
   "outputs": [],
   "source": []
  },
  {
   "cell_type": "code",
   "execution_count": null,
   "metadata": {},
   "outputs": [],
   "source": []
  },
  {
   "cell_type": "markdown",
   "metadata": {},
   "source": [
    "## Save TSV of gene level mappability and PBvsIll agreement + annotations (On O2)"
   ]
  },
  {
   "cell_type": "code",
   "execution_count": 34,
   "metadata": {},
   "outputs": [
    {
     "name": "stdout",
     "output_type": "stream",
     "text": [
      "mkdir: cannot create directory ‘../../../210112_PBvsI_VCeval_AnalysisDir_V7_36CI/210112_EBR_H37rv_36CI_MM2vsPilon_V7/210113_H37Rv_FeatureLevelAnalysis_EBR_Pmap’: File exists\n"
     ]
    }
   ],
   "source": [
    "# Define directory for analysis of SNP data\n",
    "\n",
    "Repo_DataDir = \"../../Data\"\n",
    "\n",
    "FeatureLevelAnalysis_Dir_GitRepo = Repo_DataDir + \"/210113_H37Rv_FeatureLevelAnalysis_EBR_Pmap\" \n",
    "FeatureLevelAnalysis_Dir_O2 = PBvIll_EBR_Dir + \"/210113_H37Rv_FeatureLevelAnalysis_EBR_Pmap\" \n",
    "\n",
    "#!mkdir $FeatureLevelAnalysis_Dir_O2 $FeatureLevelAnalysis_Dir_GitRepo\n",
    "!mkdir $FeatureLevelAnalysis_Dir_O2\n",
    "\n",
    "\n",
    "H37Rv_FeatureLevelAnalysis_EBR_Pmap_TSV_O2 = f\"{FeatureLevelAnalysis_Dir_O2}/H37Rv_FeatureLevelAnalysis.EBR_And_Pmap.tsv\"\n",
    "H37Rv_FeatureLevelAnalysis_EBR_Pmap_TSV_GitRepo = f\"{FeatureLevelAnalysis_Dir_GitRepo}/H37Rv_FeatureLevelAnalysis.EBR_And_Pmap.tsv\"\n",
    "\n",
    "H37Rv_GeneLevelAnalysis_EBR_Pmap_TSV_O2 = f\"{FeatureLevelAnalysis_Dir_O2}/H37Rv_FeatureLevelAnalysis.EBR_And_Pmap.Genes.tsv\"\n",
    "H37Rv_GeneLevelAnalysis_EBR_Pmap_TSV_GitRepo = f\"{FeatureLevelAnalysis_Dir_GitRepo}/H37Rv_FeatureLevelAnalysis.EBR_And_Pmap.Genes.tsv\"\n",
    "\n",
    "H37Rv_IntergenicLevelAnalysis_EBR_Pmap_TSV_O2 = f\"{FeatureLevelAnalysis_Dir_O2}/H37Rv_FeatureLevelAnalysis.EBR_And_Pmap.IntergenicRegions.tsv\"\n",
    "H37Rv_IntergenicLevelAnalysis_EBR_Pmap_TSV_GitRepo = f\"{FeatureLevelAnalysis_Dir_GitRepo}/H37Rv_FeatureLevelAnalysis.EBR_And_Pmap.IntergenicRegions.tsv\"        \n",
    "\n",
    "\n",
    "\n",
    "# Feature Level Analysis (Gene + intergenic)\n",
    "FLA_DF.to_csv(H37Rv_FeatureLevelAnalysis_EBR_Pmap_TSV_O2, sep = \"\\t\", index = False)\n",
    "#FLA_DF.to_csv(H37Rv_FeatureLevelAnalysis_EBR_Pmap_TSV_GitRepo, sep = \"\\t\", index = False)\n",
    "\n",
    "\n",
    "# Gene level Analysis \n",
    "GLA_DF.to_csv(H37Rv_GeneLevelAnalysis_EBR_Pmap_TSV_O2, sep = \"\\t\", index = False)\n",
    "#GLA_DF.to_csv(H37Rv_GeneLevelAnalysis_EBR_Pmap_TSV_GitRepo, sep = \"\\t\", index = False)\n",
    "\n",
    "\n",
    "# Intergenic Region Analysis \n",
    "ILA_DF.to_csv(H37Rv_IntergenicLevelAnalysis_EBR_Pmap_TSV_O2, sep = \"\\t\", index = False)\n",
    "#ILA_DF.to_csv(H37Rv_IntergenicLevelAnalysis_EBR_Pmap_TSV_GitRepo, sep = \"\\t\", index = False)\n",
    "\n"
   ]
  },
  {
   "cell_type": "markdown",
   "metadata": {},
   "source": [
    "## Look at output directory on O2 directory"
   ]
  },
  {
   "cell_type": "code",
   "execution_count": 35,
   "metadata": {},
   "outputs": [
    {
     "name": "stdout",
     "output_type": "stream",
     "text": [
      "total 4.1M\n",
      "drwxrwsr-x 2 mm774 farhat  207 Jan 18 13:29 .\n",
      "drwxrwsr-x 4 mm774 farhat  398 Feb  2 19:19 ..\n",
      "-rw-rw-r-- 1 mm774 farhat 808K Feb 26 16:24 H37Rv_FeatureLevelAnalysis.EBR_And_Pmap.Genes.tsv\n",
      "-rw-rw-r-- 1 mm774 farhat 597K Feb 26 16:24 H37Rv_FeatureLevelAnalysis.EBR_And_Pmap.IntergenicRegions.tsv\n",
      "-rw-rw-r-- 1 mm774 farhat 1.4M Feb 26 16:24 H37Rv_FeatureLevelAnalysis.EBR_And_Pmap.tsv\n"
     ]
    }
   ],
   "source": [
    "!ls -lah $FeatureLevelAnalysis_Dir_O2"
   ]
  },
  {
   "cell_type": "code",
   "execution_count": 41,
   "metadata": {},
   "outputs": [
    {
     "name": "stdout",
     "output_type": "stream",
     "text": [
      "   4080 ../../../210112_PBvsI_VCeval_AnalysisDir_V7_36CI/210112_EBR_H37rv_36CI_MM2vsPilon_V7/210113_H37Rv_FeatureLevelAnalysis_EBR_Pmap/H37Rv_FeatureLevelAnalysis.EBR_And_Pmap.Genes.tsv\n",
      "   3073 ../../../210112_PBvsI_VCeval_AnalysisDir_V7_36CI/210112_EBR_H37rv_36CI_MM2vsPilon_V7/210113_H37Rv_FeatureLevelAnalysis_EBR_Pmap/H37Rv_FeatureLevelAnalysis.EBR_And_Pmap.IntergenicRegions.tsv\n",
      "   7152 ../../../210112_PBvsI_VCeval_AnalysisDir_V7_36CI/210112_EBR_H37rv_36CI_MM2vsPilon_V7/210113_H37Rv_FeatureLevelAnalysis_EBR_Pmap/H37Rv_FeatureLevelAnalysis.EBR_And_Pmap.tsv\n",
      "  14305 total\n"
     ]
    }
   ],
   "source": [
    "!wc -l $FeatureLevelAnalysis_Dir_O2/*"
   ]
  },
  {
   "cell_type": "markdown",
   "metadata": {},
   "source": [
    "## Look at output directory on in Git Repo Data/ directory"
   ]
  },
  {
   "cell_type": "code",
   "execution_count": 40,
   "metadata": {},
   "outputs": [
    {
     "name": "stdout",
     "output_type": "stream",
     "text": [
      "ls: cannot access ../../Data/210113_H37Rv_FeatureLevelAnalysis_EBR_Pmap: No such file or directory\n"
     ]
    }
   ],
   "source": [
    "!ls -lah $FeatureLevelAnalysis_Dir_GitRepo"
   ]
  },
  {
   "cell_type": "code",
   "execution_count": 39,
   "metadata": {},
   "outputs": [
    {
     "name": "stdout",
     "output_type": "stream",
     "text": [
      "wc: ../../Data/210113_H37Rv_FeatureLevelAnalysis_EBR_Pmap/*: No such file or directory\n"
     ]
    }
   ],
   "source": [
    "!wc -l $FeatureLevelAnalysis_Dir_GitRepo/*"
   ]
  },
  {
   "cell_type": "code",
   "execution_count": null,
   "metadata": {},
   "outputs": [],
   "source": []
  },
  {
   "cell_type": "code",
   "execution_count": null,
   "metadata": {},
   "outputs": [],
   "source": []
  },
  {
   "cell_type": "code",
   "execution_count": null,
   "metadata": {},
   "outputs": [],
   "source": []
  },
  {
   "cell_type": "code",
   "execution_count": null,
   "metadata": {},
   "outputs": [],
   "source": []
  },
  {
   "cell_type": "code",
   "execution_count": null,
   "metadata": {},
   "outputs": [],
   "source": []
  },
  {
   "cell_type": "code",
   "execution_count": null,
   "metadata": {},
   "outputs": [],
   "source": []
  },
  {
   "cell_type": "code",
   "execution_count": null,
   "metadata": {},
   "outputs": [],
   "source": []
  }
 ],
 "metadata": {
  "kernelspec": {
   "display_name": "py37_S",
   "language": "python",
   "name": "py37_s"
  },
  "language_info": {
   "codemirror_mode": {
    "name": "ipython",
    "version": 3
   },
   "file_extension": ".py",
   "mimetype": "text/x-python",
   "name": "python",
   "nbconvert_exporter": "python",
   "pygments_lexer": "ipython3",
   "version": "3.7.3"
  }
 },
 "nbformat": 4,
 "nbformat_minor": 4
}
