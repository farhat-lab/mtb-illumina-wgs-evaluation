{
 "cells": [
  {
   "cell_type": "markdown",
   "metadata": {},
   "source": [
    "# 20/12/11 - Calculating Genmap Mappability across the H37rv reference genome \n",
    "\n",
    "### Maximillian Marin\n",
    "### mgmarin@g.harvard.edu\n",
    "\n",
    "Goal: To run Genmap (https://github.com/cpockrandt/genmap) on the H37rv reference genome with varying parameters (varying Kmer size and error rate)\n"
   ]
  },
  {
   "cell_type": "code",
   "execution_count": 1,
   "metadata": {},
   "outputs": [],
   "source": [
    "import numpy as np\n",
    "import pandas as pd\n",
    "from tqdm import tqdm\n",
    "import matplotlib.pyplot as plt\n",
    "import seaborn as sns\n",
    "import pickle\n",
    "# import gffutils\n",
    "\n",
    "%matplotlib inline"
   ]
  },
  {
   "cell_type": "markdown",
   "metadata": {},
   "source": [
    "#### Pandas Viewing Settings"
   ]
  },
  {
   "cell_type": "code",
   "execution_count": 2,
   "metadata": {},
   "outputs": [],
   "source": [
    "pd.set_option('display.max_rows', 500)\n",
    "pd.set_option('display.max_columns', 500)\n",
    "pd.set_option('display.width', 1000)"
   ]
  },
  {
   "cell_type": "code",
   "execution_count": null,
   "metadata": {},
   "outputs": [],
   "source": []
  },
  {
   "cell_type": "markdown",
   "metadata": {},
   "source": [
    "## Test installation of Genmap\n",
    "\n",
    "#### NOTE: 19/12/17 it works!"
   ]
  },
  {
   "cell_type": "code",
   "execution_count": 3,
   "metadata": {},
   "outputs": [
    {
     "name": "stdout",
     "output_type": "stream",
     "text": [
      "GenMap version: 1.3.0\n",
      "SeqAn version: 2.4.1\n"
     ]
    }
   ],
   "source": [
    "!genmap --version"
   ]
  },
  {
   "cell_type": "code",
   "execution_count": 4,
   "metadata": {},
   "outputs": [],
   "source": [
    "#!genmap -h"
   ]
  },
  {
   "cell_type": "code",
   "execution_count": 5,
   "metadata": {
    "scrolled": true
   },
   "outputs": [
    {
     "name": "stdout",
     "output_type": "stream",
     "text": [
      "GenMap index\n",
      "============\n",
      "\n",
      "\u001b[1mSYNOPSIS\u001b[0m\n",
      "\n",
      "\u001b[1mDESCRIPTION\u001b[0m\n",
      "    GenMap is a tool for fast and exact computation of genome mappability and\n",
      "    can also be used for multiple genomes, e.g., to search for marker\n",
      "    sequences.\n",
      "\n",
      "    Detailed information is available in the wiki:\n",
      "    <https://github.com/cpockrandt/genmap/wiki>\n",
      "\n",
      "    Index creation. Only supports DNA and RNA (A, C, G, T/U, N). Other\n",
      "    characters will be converted to N. Choose between the following index\n",
      "    construction algorithms (-A / --algorithm): * divsufsort (recommended,\n",
      "    faster, needs about `6n` space in main memory/RAM, `10n` for sequences\n",
      "    >2GB), * skew (needs more than `25n` space on secondary memory/disk, i.e.,\n",
      "    in TMPDIR), where `n` is the total number of bases in your fasta file(s).\n",
      "\n",
      "\u001b[1mOPTIONS\u001b[0m\n",
      "    \u001b[1m-h\u001b[0m, \u001b[1m--help\u001b[0m\n",
      "          Display the help message.\n",
      "    \u001b[1m--version-check\u001b[0m \u001b[4mBOOL\u001b[0m\n",
      "          Turn this option off to disable version update notifications of the\n",
      "          application. One of \u001b[4m1\u001b[0m, \u001b[4mON\u001b[0m, \u001b[4mTRUE\u001b[0m, \u001b[4mT\u001b[0m, \u001b[4mYES\u001b[0m, \u001b[4m0\u001b[0m, \u001b[4mOFF\u001b[0m, \u001b[4mFALSE\u001b[0m, \u001b[4mF\u001b[0m, and \u001b[4mNO\u001b[0m.\n",
      "          Default: \u001b[4m1\u001b[0m.\n",
      "    \u001b[1m--version\u001b[0m\n",
      "          Display version information.\n",
      "    \u001b[1m--copyright\u001b[0m\n",
      "          Display long copyright information.\n",
      "    \u001b[1m-F\u001b[0m, \u001b[1m--fasta-file\u001b[0m \u001b[4mINPUT_FILE\u001b[0m\n",
      "          Path to the fasta file. Valid filetypes are: \u001b[4m.fsa\u001b[0m, \u001b[4m.fna\u001b[0m, \u001b[4m.fastq\u001b[0m,\n",
      "          \u001b[4m.fasta\u001b[0m, \u001b[4m.fas\u001b[0m, \u001b[4m.faa\u001b[0m, and \u001b[4m.fa\u001b[0m.\n",
      "    \u001b[1m-FD\u001b[0m, \u001b[1m--fasta-directory\u001b[0m \u001b[4mINPUT_FILE\u001b[0m\n",
      "          Path to the directory of fasta files (indexes all .fsa .fna .fastq\n",
      "          .fasta .fas .faa and .fa files in there, not including\n",
      "          subdirectories).\n",
      "    \u001b[1m-I\u001b[0m, \u001b[1m--index\u001b[0m \u001b[4mOUTPUT_FILE\u001b[0m\n",
      "          Path to the index.\n",
      "    \u001b[1m-A\u001b[0m, \u001b[1m--algorithm\u001b[0m \u001b[4mSTRING\u001b[0m\n",
      "          Algorithm for suffix array construction (needed for the FM index).\n",
      "          One of \u001b[4mdivsufsort\u001b[0m and \u001b[4mskew\u001b[0m. Default: \u001b[4mdivsufsort\u001b[0m.\n",
      "    \u001b[1m-S\u001b[0m, \u001b[1m--sampling\u001b[0m \u001b[4mINTEGER\u001b[0m\n",
      "          Sampling rate of suffix array In range [1..64]. Default: \u001b[4m10\u001b[0m.\n",
      "    \u001b[1m-v\u001b[0m, \u001b[1m--verbose\u001b[0m\n",
      "          Outputs some additional information on the constructed index.\n",
      "\n",
      "\u001b[1mVERSION\u001b[0m\n",
      "    \u001b[1mLast update: \u001b[0mJun 17 2020\n",
      "    \u001b[1mGenMap index version: \u001b[0m1.3.0\n",
      "    \u001b[1mSeqAn version: \u001b[0m2.4.1\n",
      "\n",
      "\u001b[1mLEGAL\u001b[0m\n",
      "    \u001b[1mGenMap index Copyright: \u001b[0m2019-2020 Christopher Pockrandt, released under the 3-clause-BSD; 2016-2019 Knut Reinert and Freie Universität Berlin, released under the 3-clause-BSD\n",
      "    \u001b[1mSeqAn Copyright: \u001b[0m2006-2015 Knut Reinert, FU-Berlin; released under the 3-clause BSDL.\n",
      "    \u001b[1mIn your academic works please cite: \u001b[0mPockrandt et al (2020). GenMap: Ultra-fast Computation of Genome Mappability.\n",
      "doi: https://doi.org/10.1093/bioinformatics/btaa222\n",
      "    For full copyright and/or warranty information see \u001b[1m--copyright\u001b[0m.\n"
     ]
    }
   ],
   "source": [
    "## Let's look at options for running genmap map\n",
    "!genmap index --help"
   ]
  },
  {
   "cell_type": "code",
   "execution_count": 6,
   "metadata": {
    "scrolled": true
   },
   "outputs": [
    {
     "name": "stdout",
     "output_type": "stream",
     "text": [
      "GenMap map\n",
      "==========\n",
      "\n",
      "\u001b[1mSYNOPSIS\u001b[0m\n",
      "\n",
      "\u001b[1mDESCRIPTION\u001b[0m\n",
      "    GenMap is a tool for fast and exact computation of genome mappability and\n",
      "    can also be used for multiple genomes, e.g., to search for marker\n",
      "    sequences.\n",
      "\n",
      "    Detailed information is available in the wiki:\n",
      "    <https://github.com/cpockrandt/genmap/wiki>\n",
      "\n",
      "    Tool for computing the mappability/frequency on nucleotide sequences. It\n",
      "    supports multi-fasta files with DNA or RNA alphabets (A, C, G, T/U, N).\n",
      "    Frequency is the absolute number of occurrences, mappability is the\n",
      "    inverse, i.e., 1 / frequency-value.\n",
      "\n",
      "\u001b[1mOPTIONS\u001b[0m\n",
      "    \u001b[1m-h\u001b[0m, \u001b[1m--help\u001b[0m\n",
      "          Display the help message.\n",
      "    \u001b[1m--version-check\u001b[0m \u001b[4mBOOL\u001b[0m\n",
      "          Turn this option off to disable version update notifications of the\n",
      "          application. One of \u001b[4m1\u001b[0m, \u001b[4mON\u001b[0m, \u001b[4mTRUE\u001b[0m, \u001b[4mT\u001b[0m, \u001b[4mYES\u001b[0m, \u001b[4m0\u001b[0m, \u001b[4mOFF\u001b[0m, \u001b[4mFALSE\u001b[0m, \u001b[4mF\u001b[0m, and \u001b[4mNO\u001b[0m.\n",
      "          Default: \u001b[4m1\u001b[0m.\n",
      "    \u001b[1m--version\u001b[0m\n",
      "          Display version information.\n",
      "    \u001b[1m--copyright\u001b[0m\n",
      "          Display long copyright information.\n",
      "    \u001b[1m-I\u001b[0m, \u001b[1m--index\u001b[0m \u001b[4mINPUT_FILE\u001b[0m\n",
      "          Path to the index\n",
      "    \u001b[1m-O\u001b[0m, \u001b[1m--output\u001b[0m \u001b[4mOUTPUT_FILE\u001b[0m\n",
      "          Path to output directory (or path to filename if only a single fasta\n",
      "          files has been indexed)\n",
      "    \u001b[1m-E\u001b[0m, \u001b[1m--errors\u001b[0m \u001b[4mINTEGER\u001b[0m\n",
      "          Number of errors\n",
      "    \u001b[1m-K\u001b[0m, \u001b[1m--length\u001b[0m \u001b[4mINTEGER\u001b[0m\n",
      "          Length of k-mers\n",
      "    \u001b[1m-S\u001b[0m, \u001b[1m--selection\u001b[0m \u001b[4mOUTPUT_FILE\u001b[0m\n",
      "          Path to a bed file (3 columns: chromosome, start, end) with selected\n",
      "          coordinates to compute the mappability (e.g., exon coordinates)\n",
      "    \u001b[1m-nc\u001b[0m, \u001b[1m--no-reverse-complement\u001b[0m\n",
      "          Searches the k-mers *NOT* on the reverse strand.\n",
      "    \u001b[1m-ep\u001b[0m, \u001b[1m--exclude-pseudo\u001b[0m\n",
      "          Mappability only counts the number of fasta files that contain the\n",
      "          k-mer, not the total number of occurrences (i.e., neglects so\n",
      "          called- pseudo genes / sequences). This has no effect on the csv\n",
      "          output.\n",
      "    \u001b[1m-fs\u001b[0m, \u001b[1m--frequency-small\u001b[0m\n",
      "          Stores frequencies using 8 bit per value (max. value 255) instead of\n",
      "          the mappbility using a float per value (32 bit). Applies to all\n",
      "          formats (raw, txt, wig, bedgraph).\n",
      "    \u001b[1m-fl\u001b[0m, \u001b[1m--frequency-large\u001b[0m\n",
      "          Stores frequencies using 16 bit per value (max. value 65535) instead\n",
      "          of the mappbility using a float per value (32 bit). Applies to all\n",
      "          formats (raw, txt, wig, bedgraph).\n",
      "    \u001b[1m-r\u001b[0m, \u001b[1m--raw\u001b[0m\n",
      "          Output raw files, i.e., the binary format of std::vector<T> with T =\n",
      "          float, uint8_t or uint16_t (depending on whether -fs or -fl is set).\n",
      "          For each fasta file that was indexed a separate file is created.\n",
      "          File type is .map, .freq8 or .freq16.\n",
      "    \u001b[1m-t\u001b[0m, \u001b[1m--txt\u001b[0m\n",
      "          Output human readable text files, i.e., the mappability respectively\n",
      "          frequency values separated by spaces (depending on whether -fs or\n",
      "          -fl is set). For each fasta file that was indexed a separate txt\n",
      "          file is created. WARNING: This output is significantly larger than\n",
      "          raw files.\n",
      "    \u001b[1m-w\u001b[0m, \u001b[1m--wig\u001b[0m\n",
      "          Output wig files, e.g., for adding a custom feature track to genome\n",
      "          browsers. For each fasta file that was indexed a separate wig file\n",
      "          and chrom.size file is created.\n",
      "    \u001b[1m-bg\u001b[0m, \u001b[1m--bedgraph\u001b[0m\n",
      "          Output bedgraph files. For each fasta file that was indexed a\n",
      "          separate bedgraph-file is created.\n",
      "    \u001b[1m-d\u001b[0m, \u001b[1m--csv\u001b[0m\n",
      "          Output a detailed csv file reporting the locations of each k-mer\n",
      "          (WARNING: This will produce large files and makes computing the\n",
      "          mappability significantly slower).\n",
      "    \u001b[1m-m\u001b[0m, \u001b[1m--memory-mapping\u001b[0m\n",
      "          Turns memory-mapping on, i.e. the index is not loaded into RAM but\n",
      "          accessed directly from secondary-memory. This may increase the\n",
      "          overall running time, but do NOT use it if the index lies on network\n",
      "          storage.\n",
      "    \u001b[1m-T\u001b[0m, \u001b[1m--threads\u001b[0m \u001b[4mINTEGER\u001b[0m\n",
      "          Number of threads Default: \u001b[4m1\u001b[0m.\n",
      "    \u001b[1m-v\u001b[0m, \u001b[1m--verbose\u001b[0m\n",
      "          Outputs some additional information.\n",
      "\n",
      "\u001b[1mVERSION\u001b[0m\n",
      "    \u001b[1mLast update: \u001b[0mJun 17 2020\n",
      "    \u001b[1mGenMap map version: \u001b[0m1.3.0\n",
      "    \u001b[1mSeqAn version: \u001b[0m2.4.1\n",
      "\n",
      "\u001b[1mLEGAL\u001b[0m\n",
      "    \u001b[1mGenMap map Copyright: \u001b[0m2019-2020 Christopher Pockrandt, released under the 3-clause-BSD; 2016-2019 Knut Reinert and Freie Universität Berlin, released under the 3-clause-BSD\n",
      "    \u001b[1mSeqAn Copyright: \u001b[0m2006-2015 Knut Reinert, FU-Berlin; released under the 3-clause BSDL.\n",
      "    \u001b[1mIn your academic works please cite: \u001b[0mPockrandt et al (2020). GenMap: Ultra-fast Computation of Genome Mappability.\n",
      "doi: https://doi.org/10.1093/bioinformatics/btaa222\n",
      "    For full copyright and/or warranty information see \u001b[1m--copyright\u001b[0m.\n"
     ]
    }
   ],
   "source": [
    "## Let's look at options for running genmap map\n",
    "!genmap map --help"
   ]
  },
  {
   "cell_type": "code",
   "execution_count": null,
   "metadata": {},
   "outputs": [],
   "source": []
  },
  {
   "cell_type": "markdown",
   "metadata": {},
   "source": [
    "## Define directories"
   ]
  },
  {
   "cell_type": "markdown",
   "metadata": {},
   "source": [
    "### Make output directory for this analysis"
   ]
  },
  {
   "cell_type": "code",
   "execution_count": null,
   "metadata": {},
   "outputs": [],
   "source": []
  },
  {
   "cell_type": "markdown",
   "metadata": {},
   "source": [
    "## Step 0) Creating a Genmap Index of H37rv"
   ]
  },
  {
   "cell_type": "markdown",
   "metadata": {},
   "source": [
    "#### Definie path to Genmap index for H37rv reference genome FASTA"
   ]
  },
  {
   "cell_type": "code",
   "execution_count": 7,
   "metadata": {},
   "outputs": [],
   "source": [
    "Mtb_RefDir=\"/n/data1/hms/dbmi/farhat/mm774/References\"\n",
    "H37rv_Genmap_IDX_Dir_PATH = f\"{Mtb_RefDir}/H37rv_Genmap_IDX_Dir\"\n",
    "\n",
    "H37rv_FA_PATH = f\"{Mtb_RefDir}/GCF_000195955.2_ASM19595v2_genomic.fasta\"\n",
    "\n",
    "H37rv_FA_SeqNameTrimmed_PATH = f\"{Mtb_RefDir}/GCF_000195955.2_ASM19595v2_genomic.TrimmedSeqName.fasta\""
   ]
  },
  {
   "cell_type": "code",
   "execution_count": null,
   "metadata": {},
   "outputs": [],
   "source": []
  },
  {
   "cell_type": "code",
   "execution_count": 8,
   "metadata": {},
   "outputs": [
    {
     "name": "stdout",
     "output_type": "stream",
     "text": [
      "samtools: error while loading shared libraries: libcrypto.so.1.0.0: cannot open shared object file: No such file or directory\n"
     ]
    }
   ],
   "source": [
    "## https://askubuntu.com/questions/974459/remove-all-letters-after-space-in-a-line-that-start-with-specific-character\n",
    "!sed '/^>/ s/ .*//' $H37rv_FA_PATH > $H37rv_FA_SeqNameTrimmed_PATH\n",
    "!samtools faidx $H37rv_FA_SeqNameTrimmed_PATH"
   ]
  },
  {
   "cell_type": "code",
   "execution_count": 9,
   "metadata": {},
   "outputs": [
    {
     "name": "stdout",
     "output_type": "stream",
     "text": [
      ">NC_000962.3 Mycobacterium tuberculosis H37Rv, complete genome\n",
      ">NC_000962.3\n"
     ]
    }
   ],
   "source": [
    "!head -1 $H37rv_FA_PATH\n",
    "!head -1 $H37rv_FA_SeqNameTrimmed_PATH"
   ]
  },
  {
   "cell_type": "markdown",
   "metadata": {},
   "source": [
    "### Run genmap index"
   ]
  },
  {
   "cell_type": "code",
   "execution_count": 10,
   "metadata": {},
   "outputs": [
    {
     "name": "stdout",
     "output_type": "stream",
     "text": [
      "ERROR: The directory for the index already exists at /n/data1/hms/dbmi/farhat/mm774/References/H37rv_Genmap_IDX_Dir\n",
      "       Please remove it, or choose a different location.\n"
     ]
    }
   ],
   "source": [
    "!genmap index -v -F $H37rv_FA_SeqNameTrimmed_PATH -I $H37rv_Genmap_IDX_Dir_PATH"
   ]
  },
  {
   "cell_type": "code",
   "execution_count": null,
   "metadata": {},
   "outputs": [],
   "source": []
  },
  {
   "cell_type": "markdown",
   "metadata": {},
   "source": [
    "## Step 1) Run Genmap with varying parameters"
   ]
  },
  {
   "cell_type": "code",
   "execution_count": 11,
   "metadata": {},
   "outputs": [],
   "source": [
    "Mtb_RefDir=\"/n/data1/hms/dbmi/farhat/mm774/References\"\n",
    "H37rv_Genmap_IDX_Dir_PATH = f\"{Mtb_RefDir}/H37rv_Genmap_IDX_Dir\""
   ]
  },
  {
   "cell_type": "code",
   "execution_count": 12,
   "metadata": {},
   "outputs": [
    {
     "name": "stdout",
     "output_type": "stream",
     "text": [
      "mkdir: cannot create directory ‘../../../210112_PBvsI_VCeval_AnalysisDir_V7_36CI’: File exists\n",
      "mkdir: cannot create directory ‘../../../210112_PBvsI_VCeval_AnalysisDir_V7_36CI/201027_Genmap_Mappability_H37rv_V1’: File exists\n"
     ]
    }
   ],
   "source": [
    "PB_Vs_Illumina_DataAnalysis_Dir = \"../../../210112_PBvsI_VCeval_AnalysisDir_V7_36CI\"\n",
    "\n",
    "!mkdir $PB_Vs_Illumina_DataAnalysis_Dir\n",
    "\n",
    "Genmap_Map_AnalysisDir = PB_Vs_Illumina_DataAnalysis_Dir + \"/201027_Genmap_Mappability_H37rv_V1\"  \n",
    "\n",
    "!mkdir $Genmap_Map_AnalysisDir"
   ]
  },
  {
   "cell_type": "code",
   "execution_count": null,
   "metadata": {},
   "outputs": [],
   "source": []
  },
  {
   "cell_type": "code",
   "execution_count": 13,
   "metadata": {},
   "outputs": [
    {
     "name": "stdout",
     "output_type": "stream",
     "text": [
      "201016_FP_TP_FN_And_SV_DistributionAcrossH37Rv_Analysis_V3_PB_MM2_GT\n",
      "201027_Genmap_Mappability_H37rv_V1\n",
      "210112_EBR_H37rv_36CI_MM2vsPilon_V7\n",
      "210113_CoverageBiasAnalysis_GC_V2\n",
      "210126_FalsePositivesAnalysis_V4\n",
      "Happy_VC_Eval_ResultsDir_36CI\n"
     ]
    }
   ],
   "source": [
    "!ls -1 $PB_Vs_Illumina_DataAnalysis_Dir"
   ]
  },
  {
   "cell_type": "code",
   "execution_count": null,
   "metadata": {},
   "outputs": [],
   "source": []
  },
  {
   "cell_type": "code",
   "execution_count": 14,
   "metadata": {
    "scrolled": true
   },
   "outputs": [
    {
     "name": "stdout",
     "output_type": "stream",
     "text": [
      "RunID: 1   -   K = 50  E = 0\n",
      "mkdir: cannot create directory ‘../../../210112_PBvsI_VCeval_AnalysisDir_V7_36CI/201027_Genmap_Mappability_H37rv_V1/Genmap_Map_K50_E0_Output’: File exists\n",
      "Index was loaded (dna4 alphabet, sampling rate of 10).\n",
      "- The BWT is represented by 32 bit values.\n",
      "- The sampled suffix array is represented by pairs of 16 and 32 bit values.\n",
      "- Index was built on a single fasta file.\n",
      "Progress: 100.00%\u001b[K\n",
      "- TXT file written in 4.38 seconds\n",
      "- WIG file written in 0.04 seconds\n",
      "- bedgraph file written in 0.03 seconds\n",
      "Mappability computed in 8.95 seconds\n",
      "\n",
      "\n",
      "RunID: 2   -   K = 50  E = 2\n",
      "mkdir: cannot create directory ‘../../../210112_PBvsI_VCeval_AnalysisDir_V7_36CI/201027_Genmap_Mappability_H37rv_V1/Genmap_Map_K50_E2_Output’: File exists\n",
      "Index was loaded (dna4 alphabet, sampling rate of 10).\n",
      "- The BWT is represented by 32 bit values.\n",
      "- The sampled suffix array is represented by pairs of 16 and 32 bit values.\n",
      "- Index was built on a single fasta file.\n",
      "Progress: 100.00%\u001b[K\n",
      "- TXT file written in 3.72 seconds\n",
      "- WIG file written in 0.04 seconds\n",
      "- bedgraph file written in 0.03 seconds\n",
      "Mappability computed in 33.64 seconds\n",
      "\n",
      "\n",
      "RunID: 3   -   K = 50  E = 4\n",
      "mkdir: cannot create directory ‘../../../210112_PBvsI_VCeval_AnalysisDir_V7_36CI/201027_Genmap_Mappability_H37rv_V1/Genmap_Map_K50_E4_Output’: File exists\n",
      "Index was loaded (dna4 alphabet, sampling rate of 10).\n",
      "- The BWT is represented by 32 bit values.\n",
      "- The sampled suffix array is represented by pairs of 16 and 32 bit values.\n",
      "- Index was built on a single fasta file.\n",
      "Progress: 100.00%\u001b[K\n",
      "- TXT file written in 1.86 seconds\n",
      "- WIG file written in 0.03 seconds\n",
      "- bedgraph file written in 0.03 seconds\n",
      "Mappability computed in 107.77 seconds\n",
      "\n",
      "\n",
      "RunID: 4   -   K = 75  E = 0\n",
      "mkdir: cannot create directory ‘../../../210112_PBvsI_VCeval_AnalysisDir_V7_36CI/201027_Genmap_Mappability_H37rv_V1/Genmap_Map_K75_E0_Output’: File exists\n",
      "Index was loaded (dna4 alphabet, sampling rate of 10).\n",
      "- The BWT is represented by 32 bit values.\n",
      "- The sampled suffix array is represented by pairs of 16 and 32 bit values.\n",
      "- Index was built on a single fasta file.\n",
      "Progress: 100.00%\u001b[K\n",
      "- TXT file written in 1.85 seconds\n",
      "- WIG file written in 0.02 seconds\n",
      "- bedgraph file written in 0.02 seconds\n",
      "Mappability computed in 4.01 seconds\n",
      "\n",
      "\n",
      "RunID: 5   -   K = 75  E = 2\n",
      "mkdir: cannot create directory ‘../../../210112_PBvsI_VCeval_AnalysisDir_V7_36CI/201027_Genmap_Mappability_H37rv_V1/Genmap_Map_K75_E2_Output’: File exists\n",
      "Index was loaded (dna4 alphabet, sampling rate of 10).\n",
      "- The BWT is represented by 32 bit values.\n",
      "- The sampled suffix array is represented by pairs of 16 and 32 bit values.\n",
      "- Index was built on a single fasta file.\n",
      "Progress: 100.00%\u001b[K\n",
      "- TXT file written in 1.85 seconds\n",
      "- WIG file written in 0.05 seconds\n",
      "- bedgraph file written in 0.03 seconds\n",
      "Mappability computed in 11.26 seconds\n",
      "\n",
      "\n",
      "RunID: 6   -   K = 75  E = 4\n",
      "mkdir: cannot create directory ‘../../../210112_PBvsI_VCeval_AnalysisDir_V7_36CI/201027_Genmap_Mappability_H37rv_V1/Genmap_Map_K75_E4_Output’: File exists\n",
      "Index was loaded (dna4 alphabet, sampling rate of 10).\n",
      "- The BWT is represented by 32 bit values.\n",
      "- The sampled suffix array is represented by pairs of 16 and 32 bit values.\n",
      "- Index was built on a single fasta file.\n",
      "Progress: 100.00%\u001b[K\n",
      "- TXT file written in 1.83 seconds\n",
      "- WIG file written in 0.03 seconds\n",
      "- bedgraph file written in 0.02 seconds\n",
      "Mappability computed in 26.89 seconds\n",
      "\n",
      "\n",
      "RunID: 7   -   K = 100  E = 0\n",
      "mkdir: cannot create directory ‘../../../210112_PBvsI_VCeval_AnalysisDir_V7_36CI/201027_Genmap_Mappability_H37rv_V1/Genmap_Map_K100_E0_Output’: File exists\n",
      "Index was loaded (dna4 alphabet, sampling rate of 10).\n",
      "- The BWT is represented by 32 bit values.\n",
      "- The sampled suffix array is represented by pairs of 16 and 32 bit values.\n",
      "- Index was built on a single fasta file.\n",
      "Progress: 100.00%\u001b[K\n",
      "- TXT file written in 1.85 seconds\n",
      "- WIG file written in 0.02 seconds\n",
      "- bedgraph file written in 0.03 seconds\n",
      "Mappability computed in 4.02 seconds\n",
      "\n",
      "\n",
      "RunID: 8   -   K = 100  E = 2\n",
      "mkdir: cannot create directory ‘../../../210112_PBvsI_VCeval_AnalysisDir_V7_36CI/201027_Genmap_Mappability_H37rv_V1/Genmap_Map_K100_E2_Output’: File exists\n",
      "Index was loaded (dna4 alphabet, sampling rate of 10).\n",
      "- The BWT is represented by 32 bit values.\n",
      "- The sampled suffix array is represented by pairs of 16 and 32 bit values.\n",
      "- Index was built on a single fasta file.\n",
      "Progress: 100.00%\u001b[K\n",
      "- TXT file written in 1.85 seconds\n",
      "- WIG file written in 0.02 seconds\n",
      "- bedgraph file written in 0.02 seconds\n",
      "Mappability computed in 10.26 seconds\n",
      "\n",
      "\n",
      "RunID: 9   -   K = 100  E = 4\n",
      "mkdir: cannot create directory ‘../../../210112_PBvsI_VCeval_AnalysisDir_V7_36CI/201027_Genmap_Mappability_H37rv_V1/Genmap_Map_K100_E4_Output’: File exists\n",
      "Index was loaded (dna4 alphabet, sampling rate of 10).\n",
      "- The BWT is represented by 32 bit values.\n",
      "- The sampled suffix array is represented by pairs of 16 and 32 bit values.\n",
      "- Index was built on a single fasta file.\n",
      "Progress: 100.00%\u001b[K\n",
      "- TXT file written in 1.83 seconds\n",
      "- WIG file written in 0.03 seconds\n",
      "- bedgraph file written in 0.02 seconds\n",
      "Mappability computed in 18.34 seconds\n",
      "\n",
      "\n",
      "RunID: 10   -   K = 125  E = 0\n",
      "mkdir: cannot create directory ‘../../../210112_PBvsI_VCeval_AnalysisDir_V7_36CI/201027_Genmap_Mappability_H37rv_V1/Genmap_Map_K125_E0_Output’: File exists\n",
      "Index was loaded (dna4 alphabet, sampling rate of 10).\n",
      "- The BWT is represented by 32 bit values.\n",
      "- The sampled suffix array is represented by pairs of 16 and 32 bit values.\n",
      "- Index was built on a single fasta file.\n",
      "Progress: 100.00%\u001b[K\n",
      "- TXT file written in 1.85 seconds\n",
      "- WIG file written in 0.03 seconds\n",
      "- bedgraph file written in 0.02 seconds\n",
      "Mappability computed in 4.02 seconds\n",
      "\n",
      "\n",
      "RunID: 11   -   K = 125  E = 2\n",
      "mkdir: cannot create directory ‘../../../210112_PBvsI_VCeval_AnalysisDir_V7_36CI/201027_Genmap_Mappability_H37rv_V1/Genmap_Map_K125_E2_Output’: File exists\n",
      "Index was loaded (dna4 alphabet, sampling rate of 10).\n",
      "- The BWT is represented by 32 bit values.\n",
      "- The sampled suffix array is represented by pairs of 16 and 32 bit values.\n",
      "- Index was built on a single fasta file.\n",
      "Progress: 100.00%\u001b[K\n",
      "- TXT file written in 1.84 seconds\n",
      "- WIG file written in 0.03 seconds\n",
      "- bedgraph file written in 0.02 seconds\n",
      "Mappability computed in 10.08 seconds\n",
      "\n",
      "\n",
      "RunID: 12   -   K = 125  E = 4\n",
      "mkdir: cannot create directory ‘../../../210112_PBvsI_VCeval_AnalysisDir_V7_36CI/201027_Genmap_Mappability_H37rv_V1/Genmap_Map_K125_E4_Output’: File exists\n",
      "Index was loaded (dna4 alphabet, sampling rate of 10).\n",
      "- The BWT is represented by 32 bit values.\n",
      "- The sampled suffix array is represented by pairs of 16 and 32 bit values.\n",
      "- Index was built on a single fasta file.\n",
      "Progress: 100.00%\u001b[K\n",
      "- TXT file written in 1.84 seconds\n",
      "- WIG file written in 0.03 seconds\n",
      "- bedgraph file written in 0.02 seconds\n",
      "Mappability computed in 18.41 seconds\n",
      "\n",
      "\n",
      "RunID: 13   -   K = 150  E = 0\n",
      "mkdir: cannot create directory ‘../../../210112_PBvsI_VCeval_AnalysisDir_V7_36CI/201027_Genmap_Mappability_H37rv_V1/Genmap_Map_K150_E0_Output’: File exists\n",
      "Index was loaded (dna4 alphabet, sampling rate of 10).\n",
      "- The BWT is represented by 32 bit values.\n",
      "- The sampled suffix array is represented by pairs of 16 and 32 bit values.\n",
      "- Index was built on a single fasta file.\n",
      "Progress: 100.00%\u001b[K\n",
      "- TXT file written in 1.84 seconds\n",
      "- WIG file written in 0.03 seconds\n",
      "- bedgraph file written in 0.02 seconds\n",
      "Mappability computed in 4.25 seconds\n",
      "\n",
      "\n",
      "RunID: 14   -   K = 150  E = 2\n",
      "mkdir: cannot create directory ‘../../../210112_PBvsI_VCeval_AnalysisDir_V7_36CI/201027_Genmap_Mappability_H37rv_V1/Genmap_Map_K150_E2_Output’: File exists\n",
      "Index was loaded (dna4 alphabet, sampling rate of 10).\n",
      "- The BWT is represented by 32 bit values.\n",
      "- The sampled suffix array is represented by pairs of 16 and 32 bit values.\n",
      "- Index was built on a single fasta file.\n",
      "Progress: 100.00%\u001b[K\n",
      "- TXT file written in 1.83 seconds\n",
      "- WIG file written in 0.03 seconds\n",
      "- bedgraph file written in 0.02 seconds\n",
      "Mappability computed in 10.57 seconds\n",
      "\n",
      "\n",
      "RunID: 15   -   K = 150  E = 4\n",
      "mkdir: cannot create directory ‘../../../210112_PBvsI_VCeval_AnalysisDir_V7_36CI/201027_Genmap_Mappability_H37rv_V1/Genmap_Map_K150_E4_Output’: File exists\n",
      "Index was loaded (dna4 alphabet, sampling rate of 10).\n",
      "- The BWT is represented by 32 bit values.\n",
      "- The sampled suffix array is represented by pairs of 16 and 32 bit values.\n",
      "- Index was built on a single fasta file.\n",
      "Progress: 100.00%\u001b[K\n",
      "- TXT file written in 1.84 seconds\n",
      "- WIG file written in 0.03 seconds\n",
      "- bedgraph file written in 0.02 seconds\n",
      "Mappability computed in 18.31 seconds\n",
      "\n",
      "\n"
     ]
    }
   ],
   "source": [
    "i = 1\n",
    "\n",
    "for Kmer_Size in np.arange(50, 150 + 25, 25):\n",
    "    for E_Mismatches in [0, 2, 4]:\n",
    "            \n",
    "        print(\"RunID:\", i, \"  -  \", \"K =\", Kmer_Size, \" E =\", E_Mismatches)\n",
    "        i += 1\n",
    "        \n",
    "        run_Genmap_OutputDir = f\"{Genmap_Map_AnalysisDir}/Genmap_Map_K{Kmer_Size}_E{E_Mismatches}_Output\"\n",
    "        !mkdir $run_Genmap_OutputDir\n",
    "        \n",
    "        # Run Genmap with given parameters (K and E)\n",
    "        !genmap map -K $Kmer_Size -E $E_Mismatches -I $H37rv_Genmap_IDX_Dir_PATH -O $run_Genmap_OutputDir -t -w -bg -v  # --reverse-complement\n",
    "\n",
    "        print(\"\\n\")\n",
    "        "
   ]
  },
  {
   "cell_type": "code",
   "execution_count": null,
   "metadata": {},
   "outputs": [],
   "source": []
  },
  {
   "cell_type": "markdown",
   "metadata": {},
   "source": [
    "## Look at main output directory (for all runs)"
   ]
  },
  {
   "cell_type": "code",
   "execution_count": 15,
   "metadata": {},
   "outputs": [
    {
     "name": "stdout",
     "output_type": "stream",
     "text": [
      "201027_ParsedAndPickled_GenmapOutput\n",
      "201027_PMap_K100E4_BaseLevelInfo_BELOW_1.bed\n",
      "201027_PMap_K100E4_Regions_BELOW_1.bed\n",
      "201027_PMap_K50E4_BaseLevelInfo_BELOW_1.bed\n",
      "201027_PMap_K50E4_Regions_BELOW_1.bed\n",
      "Genmap_Map_K100_E0_Output\n",
      "Genmap_Map_K100_E2_Output\n",
      "Genmap_Map_K100_E4_Output\n",
      "Genmap_Map_K125_E0_Output\n",
      "Genmap_Map_K125_E2_Output\n",
      "Genmap_Map_K125_E4_Output\n",
      "Genmap_Map_K150_E0_Output\n",
      "Genmap_Map_K150_E2_Output\n",
      "Genmap_Map_K150_E4_Output\n",
      "Genmap_Map_K50_E0_Output\n",
      "Genmap_Map_K50_E2_Output\n",
      "Genmap_Map_K50_E4_Output\n",
      "Genmap_Map_K75_E0_Output\n",
      "Genmap_Map_K75_E2_Output\n",
      "Genmap_Map_K75_E4_Output\n"
     ]
    }
   ],
   "source": [
    "!ls -1 $Genmap_Map_AnalysisDir"
   ]
  },
  {
   "cell_type": "markdown",
   "metadata": {},
   "source": [
    "### Let's look at a specific output directory"
   ]
  },
  {
   "cell_type": "code",
   "execution_count": 16,
   "metadata": {},
   "outputs": [
    {
     "name": "stdout",
     "output_type": "stream",
     "text": [
      "201027_H37rv_PileupMappability_K100_E2.bed\n",
      "201027_H37rv_PileupMappability_K100_E2.bedgraph\n",
      "201027_H37rv_PileupMappability_K100_E2.npy\n",
      "201027_H37rv_PileupMappability_K100_E2.npy.npz\n",
      "201027_H37rv_PileupMappability_K100_E2.npz\n",
      "GCF_000195955.2_ASM19595v2_genomic.TrimmedSeqName.genmap.bedgraph\n",
      "GCF_000195955.2_ASM19595v2_genomic.TrimmedSeqName.genmap.chrom.sizes\n",
      "GCF_000195955.2_ASM19595v2_genomic.TrimmedSeqName.genmap.txt\n",
      "GCF_000195955.2_ASM19595v2_genomic.TrimmedSeqName.genmap.wig\n"
     ]
    }
   ],
   "source": [
    "!ls -1 $Genmap_Map_AnalysisDir/Genmap_Map_K100_E2_Output"
   ]
  },
  {
   "cell_type": "code",
   "execution_count": null,
   "metadata": {},
   "outputs": [],
   "source": []
  },
  {
   "cell_type": "markdown",
   "metadata": {},
   "source": [
    "## Step 2) Calculate PILEUP mappability across H37rv \n",
    "\n",
    "#### Parse Genmap outputs and calculate pileup mappability across H37rv using varying K and E parameters"
   ]
  },
  {
   "cell_type": "code",
   "execution_count": 17,
   "metadata": {},
   "outputs": [],
   "source": [
    "def Genmap_TXT_OutputParser(input_Genmap_Output_TXT_PATH, window_size):\n",
    "    \"\"\"\n",
    "    Function that parses the text output of Genmap and then returns two numpy arrays.\n",
    "    OUTPUT:\n",
    "    1) H37rv_Kmer_Mappability_Array: \n",
    "    2) H37rv_Pileup_Mappability_Array: \n",
    "    \"\"\"\n",
    "    \n",
    "    with open(input_Genmap_Output_TXT_PATH, \"r\") as InputFile_Genmap_TXT:\n",
    "        H37rv_Kmer_Mappability_List = InputFile_Genmap_TXT.readlines()[1].split(\" \")\n",
    "        H37rv_Kmer_Mappability_Array = np.array(H37rv_Kmer_Mappability_List).astype(float)\n",
    "    \n",
    "    \n",
    "    H37rv_Pileup_Mappability_Array = np.array( [ np.mean( H37rv_Kmer_Mappability_Array[i - (window_size): i ] ) for i in np.arange(window_size, len(H37rv_Kmer_Mappability_Array) - window_size ) ])    \n",
    "    \n",
    "    #H37rv_Pileup_Mappability_Array_PaddedEnds = np.concatenate([ np.full((window_size,), -1),\n",
    "    #                                                  H37rv_Pileup_Mappability_Array,\n",
    "    #                                                  np.full((window_size,), -1) ])  \n",
    "    \n",
    "    H37rv_Pileup_Mappability_Array_PaddedEnds = np.concatenate([ np.full((window_size,), np.nan),\n",
    "                                                      H37rv_Pileup_Mappability_Array,\n",
    "                                                      np.full((window_size,), np.nan) ]) \n",
    "    \n",
    "    \n",
    "    return H37rv_Kmer_Mappability_Array, H37rv_Pileup_Mappability_Array_PaddedEnds\n"
   ]
  },
  {
   "cell_type": "code",
   "execution_count": 18,
   "metadata": {},
   "outputs": [
    {
     "data": {
      "text/plain": [
       "'../../../210112_PBvsI_VCeval_AnalysisDir_V7_36CI/201027_Genmap_Mappability_H37rv_V1'"
      ]
     },
     "execution_count": 18,
     "metadata": {},
     "output_type": "execute_result"
    }
   ],
   "source": [
    "Genmap_Map_AnalysisDir"
   ]
  },
  {
   "cell_type": "code",
   "execution_count": 19,
   "metadata": {},
   "outputs": [
    {
     "name": "stdout",
     "output_type": "stream",
     "text": [
      "1 RunID: K50_E0\n",
      "2 RunID: K50_E2\n",
      "3 RunID: K50_E4\n",
      "4 RunID: K75_E0\n",
      "5 RunID: K75_E2\n",
      "6 RunID: K75_E4\n",
      "7 RunID: K100_E0\n",
      "8 RunID: K100_E2\n",
      "9 RunID: K100_E4\n",
      "10 RunID: K125_E0\n",
      "11 RunID: K125_E2\n",
      "12 RunID: K125_E4\n",
      "13 RunID: K150_E0\n",
      "14 RunID: K150_E2\n",
      "15 RunID: K150_E4\n"
     ]
    }
   ],
   "source": [
    "dictOf_GM_PileupMap_Arrays = {}\n",
    "dictOf_GM_KmerMap_Arrays = {}\n",
    "\n",
    "\n",
    "i = 1\n",
    "for Kmer_Size in np.arange(50, 150 + 25, 25):\n",
    "    for E_Mismatches in [0, 2, 4]:\n",
    "            \n",
    "        RunID = f\"K{Kmer_Size}_E{E_Mismatches}\"\n",
    "    \n",
    "        print(i, \"RunID:\", RunID)\n",
    "        i += 1\n",
    "        \n",
    "        i_GM_OutputDir = f\"{Genmap_Map_AnalysisDir}/Genmap_Map_K{Kmer_Size}_E{E_Mismatches}_Output\"\n",
    "        \n",
    "        i_GM_Map_TXT = f\"{i_GM_OutputDir}/GCF_000195955.2_ASM19595v2_genomic.TrimmedSeqName.genmap.txt\"       \n",
    "        \n",
    "        i_GM_KmerMap_Array, i_GM_PileupMap_Array = Genmap_TXT_OutputParser(i_GM_Map_TXT, Kmer_Size)\n",
    "        \n",
    "        dictOf_GM_PileupMap_Arrays[RunID] = i_GM_PileupMap_Array\n",
    "        dictOf_GM_KmerMap_Arrays[RunID] = i_GM_KmerMap_Array\n",
    "        \n",
    "        "
   ]
  },
  {
   "cell_type": "code",
   "execution_count": 20,
   "metadata": {},
   "outputs": [
    {
     "data": {
      "text/plain": [
       "dict_keys(['K50_E0', 'K50_E2', 'K50_E4', 'K75_E0', 'K75_E2', 'K75_E4', 'K100_E0', 'K100_E2', 'K100_E4', 'K125_E0', 'K125_E2', 'K125_E4', 'K150_E0', 'K150_E2', 'K150_E4'])"
      ]
     },
     "execution_count": 20,
     "metadata": {},
     "output_type": "execute_result"
    }
   ],
   "source": [
    "dictOf_GM_PileupMap_Arrays.keys()"
   ]
  },
  {
   "cell_type": "code",
   "execution_count": 21,
   "metadata": {},
   "outputs": [
    {
     "data": {
      "text/plain": [
       "dict_keys(['K50_E0', 'K50_E2', 'K50_E4', 'K75_E0', 'K75_E2', 'K75_E4', 'K100_E0', 'K100_E2', 'K100_E4', 'K125_E0', 'K125_E2', 'K125_E4', 'K150_E0', 'K150_E2', 'K150_E4'])"
      ]
     },
     "execution_count": 21,
     "metadata": {},
     "output_type": "execute_result"
    }
   ],
   "source": [
    "dictOf_GM_KmerMap_Arrays.keys()"
   ]
  },
  {
   "cell_type": "code",
   "execution_count": 22,
   "metadata": {},
   "outputs": [
    {
     "data": {
      "text/plain": [
       "array([nan, nan, nan, ..., nan, nan, nan])"
      ]
     },
     "execution_count": 22,
     "metadata": {},
     "output_type": "execute_result"
    }
   ],
   "source": [
    "dictOf_GM_PileupMap_Arrays[\"K50_E0\"]"
   ]
  },
  {
   "cell_type": "code",
   "execution_count": 23,
   "metadata": {},
   "outputs": [
    {
     "data": {
      "text/plain": [
       "array([nan, nan, nan, ..., nan, nan, nan])"
      ]
     },
     "execution_count": 23,
     "metadata": {},
     "output_type": "execute_result"
    }
   ],
   "source": [
    "dictOf_GM_PileupMap_Arrays[\"K50_E2\"]"
   ]
  },
  {
   "cell_type": "code",
   "execution_count": 24,
   "metadata": {},
   "outputs": [
    {
     "data": {
      "text/plain": [
       "array([1., 1., 1., ..., 0., 0., 0.])"
      ]
     },
     "execution_count": 24,
     "metadata": {},
     "output_type": "execute_result"
    }
   ],
   "source": [
    "dictOf_GM_KmerMap_Arrays[\"K50_E2\"]"
   ]
  },
  {
   "cell_type": "code",
   "execution_count": null,
   "metadata": {},
   "outputs": [],
   "source": []
  },
  {
   "cell_type": "code",
   "execution_count": null,
   "metadata": {},
   "outputs": [],
   "source": []
  },
  {
   "cell_type": "markdown",
   "metadata": {
    "toc-hr-collapsed": true
   },
   "source": [
    "# Saving parsed data (as Python Pickle)"
   ]
  },
  {
   "cell_type": "code",
   "execution_count": 25,
   "metadata": {},
   "outputs": [],
   "source": [
    "import pickle"
   ]
  },
  {
   "cell_type": "markdown",
   "metadata": {},
   "source": [
    "## Lets save (\"Pickle\") the dictionary of SNP Comparison dataframes on O2"
   ]
  },
  {
   "cell_type": "code",
   "execution_count": 26,
   "metadata": {},
   "outputs": [
    {
     "name": "stdout",
     "output_type": "stream",
     "text": [
      "mkdir: cannot create directory ‘../../../210112_PBvsI_VCeval_AnalysisDir_V7_36CI/201027_Genmap_Mappability_H37rv_V1/201027_ParsedAndPickled_GenmapOutput’: File exists\n"
     ]
    }
   ],
   "source": [
    "ParsedAndPickled_GenmapOutput = f\"{Genmap_Map_AnalysisDir}/201027_ParsedAndPickled_GenmapOutput\"\n",
    "\n",
    "!mkdir $ParsedAndPickled_GenmapOutput"
   ]
  },
  {
   "cell_type": "code",
   "execution_count": 27,
   "metadata": {},
   "outputs": [],
   "source": [
    "Pickle_PATH_dictOf_GM_KmerMap_Arrays = ParsedAndPickled_GenmapOutput + \"/201027_dictOf_GM_KmerMap_Arrays.pickle\"   \n",
    "\n",
    "with open(Pickle_PATH_dictOf_GM_KmerMap_Arrays, 'wb') as outputFile:\n",
    "    pickle.dump(dictOf_GM_KmerMap_Arrays, outputFile)\n",
    "    "
   ]
  },
  {
   "cell_type": "code",
   "execution_count": 28,
   "metadata": {},
   "outputs": [],
   "source": [
    "Pickle_PATH_dictOf_GM_PileupMap_Arrays = ParsedAndPickled_GenmapOutput + \"/201027_dictOf_GM_PileupMap_Arrays.pickle\"   \n",
    "with open(Pickle_PATH_dictOf_GM_PileupMap_Arrays, 'wb') as outputFile:\n",
    "    pickle.dump(dictOf_GM_PileupMap_Arrays, outputFile)"
   ]
  },
  {
   "cell_type": "code",
   "execution_count": null,
   "metadata": {},
   "outputs": [],
   "source": []
  },
  {
   "cell_type": "markdown",
   "metadata": {},
   "source": [
    "### Look at pickled files:"
   ]
  },
  {
   "cell_type": "code",
   "execution_count": 29,
   "metadata": {},
   "outputs": [
    {
     "name": "stdout",
     "output_type": "stream",
     "text": [
      "total 550M\n",
      "drwxrwsr-x  2 mm774 farhat  114 Jan 18 13:25 .\n",
      "drwxrwsr-x 18 mm774 farhat  927 Jan 18 13:26 ..\n",
      "-rw-rw-r--  1 mm774 farhat 505M Mar 16 14:25 201027_dictOf_GM_KmerMap_Arrays.pickle\n",
      "-rw-rw-r--  1 mm774 farhat 505M Mar 16 14:25 201027_dictOf_GM_PileupMap_Arrays.pickle\n"
     ]
    }
   ],
   "source": [
    "!ls -lah $ParsedAndPickled_GenmapOutput"
   ]
  },
  {
   "cell_type": "code",
   "execution_count": 30,
   "metadata": {},
   "outputs": [
    {
     "name": "stdout",
     "output_type": "stream",
     "text": [
      "3d08e447c9b2d3bd092971db466b6f64  ../../../210112_PBvsI_VCeval_AnalysisDir_V7_36CI/201027_Genmap_Mappability_H37rv_V1/201027_ParsedAndPickled_GenmapOutput/201027_dictOf_GM_KmerMap_Arrays.pickle\n",
      "6573b503acbd4b90785b1e73e024301f  ../../../210112_PBvsI_VCeval_AnalysisDir_V7_36CI/201027_Genmap_Mappability_H37rv_V1/201027_ParsedAndPickled_GenmapOutput/201027_dictOf_GM_PileupMap_Arrays.pickle\n"
     ]
    }
   ],
   "source": [
    "!md5sum $ParsedAndPickled_GenmapOutput/*"
   ]
  },
  {
   "cell_type": "code",
   "execution_count": null,
   "metadata": {},
   "outputs": [],
   "source": []
  },
  {
   "cell_type": "code",
   "execution_count": null,
   "metadata": {},
   "outputs": [],
   "source": []
  },
  {
   "cell_type": "code",
   "execution_count": null,
   "metadata": {},
   "outputs": [],
   "source": []
  },
  {
   "cell_type": "markdown",
   "metadata": {},
   "source": [
    "## Read back in pickle of Genmap pileup mappability calculations"
   ]
  },
  {
   "cell_type": "code",
   "execution_count": 31,
   "metadata": {},
   "outputs": [],
   "source": [
    "PB_Vs_Illumina_DataAnalysis_Dir = \"../../../210112_PBvsI_VCeval_AnalysisDir_V7_36CI\"\n",
    "\n",
    "Genmap_Map_AnalysisDir = PB_Vs_Illumina_DataAnalysis_Dir + \"/201027_Genmap_Mappability_H37rv_V1\"  \n",
    "\n",
    "ParsedAndPickled_GenmapOutput = f\"{Genmap_Map_AnalysisDir}/201027_ParsedAndPickled_GenmapOutput\"\n"
   ]
  },
  {
   "cell_type": "code",
   "execution_count": 32,
   "metadata": {},
   "outputs": [
    {
     "name": "stdout",
     "output_type": "stream",
     "text": [
      "total 2.2M\n",
      "drwxrwsr-x 18 mm774 farhat  927 Jan 18 13:26 .\n",
      "drwxrwsr-x  8 mm774 farhat  339 Mar 15 18:02 ..\n",
      "drwxrwsr-x  2 mm774 farhat  114 Jan 18 13:25 201027_ParsedAndPickled_GenmapOutput\n",
      "-rw-rw-r--  1 mm774 farhat 2.5M Mar 16 14:03 201027_PMap_K100E4_BaseLevelInfo_BELOW_1.bed\n",
      "-rw-rw-r--  1 mm774 farhat 6.0K Mar 16 14:03 201027_PMap_K100E4_Regions_BELOW_1.bed\n",
      "-rw-rw-r--  1 mm774 farhat 4.3M Mar 16 14:03 201027_PMap_K50E4_BaseLevelInfo_BELOW_1.bed\n",
      "-rw-rw-r--  1 mm774 farhat  30K Mar 16 14:03 201027_PMap_K50E4_Regions_BELOW_1.bed\n",
      "drwxrwsr-x  2 mm774 farhat  634 Mar 16 14:03 Genmap_Map_K100_E0_Output\n",
      "drwxrwsr-x  2 mm774 farhat  634 Mar 16 14:03 Genmap_Map_K100_E2_Output\n",
      "drwxrwsr-x  2 mm774 farhat  570 Mar 16 14:04 Genmap_Map_K100_E4_Output\n",
      "drwxrwsr-x  2 mm774 farhat  570 Mar 16 14:04 Genmap_Map_K125_E0_Output\n",
      "drwxrwsr-x  2 mm774 farhat  570 Mar 16 14:04 Genmap_Map_K125_E2_Output\n",
      "drwxrwsr-x  2 mm774 farhat  570 Mar 16 14:04 Genmap_Map_K125_E4_Output\n",
      "drwxrwsr-x  2 mm774 farhat  570 Mar 16 14:04 Genmap_Map_K150_E0_Output\n",
      "drwxrwsr-x  2 mm774 farhat  570 Mar 16 14:04 Genmap_Map_K150_E2_Output\n",
      "drwxrwsr-x  2 mm774 farhat  570 Mar 16 14:04 Genmap_Map_K150_E4_Output\n",
      "drwxrwsr-x  2 mm774 farhat  629 Mar 16 14:03 Genmap_Map_K50_E0_Output\n",
      "drwxrwsr-x  2 mm774 farhat  629 Mar 16 14:03 Genmap_Map_K50_E2_Output\n",
      "drwxrwsr-x  2 mm774 farhat  566 Mar 16 14:04 Genmap_Map_K50_E4_Output\n",
      "drwxrwsr-x  2 mm774 farhat  629 Mar 16 14:03 Genmap_Map_K75_E0_Output\n",
      "drwxrwsr-x  2 mm774 farhat  629 Mar 16 14:03 Genmap_Map_K75_E2_Output\n",
      "drwxrwsr-x  2 mm774 farhat  629 Mar 16 14:03 Genmap_Map_K75_E4_Output\n"
     ]
    }
   ],
   "source": [
    "!ls -lah $Genmap_Map_AnalysisDir"
   ]
  },
  {
   "cell_type": "code",
   "execution_count": null,
   "metadata": {},
   "outputs": [],
   "source": []
  },
  {
   "cell_type": "code",
   "execution_count": 33,
   "metadata": {},
   "outputs": [],
   "source": [
    "### !rm ______ $Genmap_Map_AnalysisDir/200819*"
   ]
  },
  {
   "cell_type": "code",
   "execution_count": null,
   "metadata": {},
   "outputs": [],
   "source": []
  },
  {
   "cell_type": "code",
   "execution_count": 34,
   "metadata": {},
   "outputs": [],
   "source": [
    "\n",
    "\n",
    "Pickle_PATH_dictOf_GM_PileupMap_Arrays = ParsedAndPickled_GenmapOutput + \"/201027_dictOf_GM_PileupMap_Arrays.pickle\"   \n",
    "Pickle_PATH_dictOf_GM_KmerMap_Arrays = ParsedAndPickled_GenmapOutput + \"/201027_dictOf_GM_KmerMap_Arrays.pickle\"   \n",
    "\n",
    "with open(Pickle_PATH_dictOf_GM_PileupMap_Arrays, \"rb\") as f: dictOf_GM_PileupMap_Arrays = pickle.load(f)       \n",
    "with open(Pickle_PATH_dictOf_GM_KmerMap_Arrays, \"rb\") as f: dictOf_GM_KmerMap_Arrays = pickle.load(f)                                        "
   ]
  },
  {
   "cell_type": "code",
   "execution_count": null,
   "metadata": {},
   "outputs": [],
   "source": []
  },
  {
   "cell_type": "code",
   "execution_count": 35,
   "metadata": {},
   "outputs": [
    {
     "data": {
      "text/plain": [
       "dict_keys(['K50_E0', 'K50_E2', 'K50_E4', 'K75_E0', 'K75_E2', 'K75_E4', 'K100_E0', 'K100_E2', 'K100_E4', 'K125_E0', 'K125_E2', 'K125_E4', 'K150_E0', 'K150_E2', 'K150_E4'])"
      ]
     },
     "execution_count": 35,
     "metadata": {},
     "output_type": "execute_result"
    }
   ],
   "source": [
    "dictOf_GM_PileupMap_Arrays.keys()"
   ]
  },
  {
   "cell_type": "code",
   "execution_count": 36,
   "metadata": {},
   "outputs": [
    {
     "data": {
      "text/plain": [
       "dict_keys(['K50_E0', 'K50_E2', 'K50_E4', 'K75_E0', 'K75_E2', 'K75_E4', 'K100_E0', 'K100_E2', 'K100_E4', 'K125_E0', 'K125_E2', 'K125_E4', 'K150_E0', 'K150_E2', 'K150_E4'])"
      ]
     },
     "execution_count": 36,
     "metadata": {},
     "output_type": "execute_result"
    }
   ],
   "source": [
    "dictOf_GM_KmerMap_Arrays.keys()"
   ]
  },
  {
   "cell_type": "code",
   "execution_count": null,
   "metadata": {},
   "outputs": [],
   "source": []
  },
  {
   "cell_type": "code",
   "execution_count": 37,
   "metadata": {},
   "outputs": [
    {
     "data": {
      "text/plain": [
       "['K50_E0',\n",
       " 'K50_E2',\n",
       " 'K50_E4',\n",
       " 'K75_E0',\n",
       " 'K75_E2',\n",
       " 'K75_E4',\n",
       " 'K100_E0',\n",
       " 'K100_E2',\n",
       " 'K100_E4',\n",
       " 'K125_E0',\n",
       " 'K125_E2',\n",
       " 'K125_E4',\n",
       " 'K150_E0',\n",
       " 'K150_E2',\n",
       " 'K150_E4']"
      ]
     },
     "execution_count": 37,
     "metadata": {},
     "output_type": "execute_result"
    }
   ],
   "source": [
    "Genmap_ParamsUsed = list( dictOf_GM_PileupMap_Arrays.keys() )\n",
    "Genmap_ParamsUsed"
   ]
  },
  {
   "cell_type": "code",
   "execution_count": null,
   "metadata": {},
   "outputs": [],
   "source": []
  },
  {
   "cell_type": "code",
   "execution_count": null,
   "metadata": {},
   "outputs": [],
   "source": []
  },
  {
   "cell_type": "code",
   "execution_count": null,
   "metadata": {},
   "outputs": [],
   "source": []
  },
  {
   "cell_type": "code",
   "execution_count": null,
   "metadata": {},
   "outputs": [],
   "source": []
  },
  {
   "cell_type": "markdown",
   "metadata": {},
   "source": [
    "# Output Mappability data into various formats (NPY, TSV, BED, BEDGRAPH etc)"
   ]
  },
  {
   "cell_type": "markdown",
   "metadata": {},
   "source": [
    "## Define function for output of a BED file from a NP array with values for each basepair position"
   ]
  },
  {
   "cell_type": "code",
   "execution_count": 38,
   "metadata": {},
   "outputs": [],
   "source": [
    "# BED format specifications: https://useast.ensembl.org/info/website/upload/bed.html\n",
    "\n",
    "def convert_GenomeNParray_To_BED_DF(input_GenomeNParray, genomeChrom = \"NC_000962.3\"):\n",
    "    \"\"\" \"\"\"\n",
    "    last_Score = input_GenomeNParray[0]\n",
    "\n",
    "    startOfRegion = 0\n",
    "    listOfBED_Tuples = []\n",
    "    RegionCounter = 1\n",
    "\n",
    "    for RefPos_0based in tqdm(np.arange(len(input_GenomeNParray))):\n",
    "\n",
    "        EBR_Score = input_GenomeNParray[RefPos_0based]\n",
    "\n",
    "        if EBR_Score != last_Score:\n",
    "\n",
    "            endOfRegion = RefPos_0based\n",
    "            lengthOfRegion = endOfRegion - startOfRegion \n",
    "\n",
    "            BED_EntryTuple = (genomeChrom, startOfRegion, endOfRegion, f\"Region{RegionCounter}_Length_{lengthOfRegion}_bp\", last_Score,)\n",
    "            listOfBED_Tuples.append(BED_EntryTuple)\n",
    "\n",
    "            RegionCounter += 1\n",
    "\n",
    "            #print(f\"{H37rv_ChrName}, {startOfRegion}, {RefPos_0based}, {lengthOfRegion}_bp, {last_Score}, .\")\n",
    "\n",
    "            startOfRegion = RefPos_0based \n",
    "\n",
    "            #1 Output the last range\n",
    "            #2 Store the new score    \n",
    "\n",
    "        last_Score = EBR_Score #2 Store the new score   \n",
    "\n",
    "        \n",
    "        \n",
    "    endOfRegion = RefPos_0based + 1\n",
    "    lengthOfRegion = endOfRegion - startOfRegion \n",
    "\n",
    "    BED_EntryTuple = (genomeChrom, startOfRegion, endOfRegion, f\"Region{RegionCounter}_Length_{lengthOfRegion}_bp\", last_Score)\n",
    "    listOfBED_Tuples.append(BED_EntryTuple)       \n",
    "\n",
    "    BED_DF = pd.DataFrame(listOfBED_Tuples)\n",
    "    \n",
    "    BED_DF.columns = [\"chrom\", \"chromStart\", \"chromEnd\", \"name\", \"score\" ]\n",
    "    \n",
    "    \n",
    "    return BED_DF"
   ]
  },
  {
   "cell_type": "code",
   "execution_count": null,
   "metadata": {},
   "outputs": [],
   "source": []
  },
  {
   "cell_type": "code",
   "execution_count": 39,
   "metadata": {},
   "outputs": [
    {
     "name": "stdout",
     "output_type": "stream",
     "text": [
      "total 76M\n",
      "drwxrwsr-x  2 mm774 farhat  114 Jan 18 13:25 .\n",
      "drwxrwsr-x 18 mm774 farhat  927 Jan 18 13:26 ..\n",
      "-rw-rw-r--  1 mm774 farhat 505M Mar 16 14:25 201027_dictOf_GM_KmerMap_Arrays.pickle\n",
      "-rw-rw-r--  1 mm774 farhat 505M Mar 16 14:25 201027_dictOf_GM_PileupMap_Arrays.pickle\n"
     ]
    }
   ],
   "source": [
    "!ls -lah $ParsedAndPickled_GenmapOutput"
   ]
  },
  {
   "cell_type": "code",
   "execution_count": null,
   "metadata": {},
   "outputs": [],
   "source": []
  },
  {
   "cell_type": "code",
   "execution_count": 40,
   "metadata": {},
   "outputs": [
    {
     "data": {
      "text/plain": [
       "['K50_E0',\n",
       " 'K50_E2',\n",
       " 'K50_E4',\n",
       " 'K75_E0',\n",
       " 'K75_E2',\n",
       " 'K75_E4',\n",
       " 'K100_E0',\n",
       " 'K100_E2',\n",
       " 'K100_E4',\n",
       " 'K125_E0',\n",
       " 'K125_E2',\n",
       " 'K125_E4',\n",
       " 'K150_E0',\n",
       " 'K150_E2',\n",
       " 'K150_E4']"
      ]
     },
     "execution_count": 40,
     "metadata": {},
     "output_type": "execute_result"
    }
   ],
   "source": [
    "list( dictOf_GM_PileupMap_Arrays.keys() )"
   ]
  },
  {
   "cell_type": "markdown",
   "metadata": {},
   "source": [
    "## Output EBR data into various formats (TSV, BED, BEDGRAPH etc)"
   ]
  },
  {
   "cell_type": "code",
   "execution_count": 41,
   "metadata": {},
   "outputs": [
    {
     "data": {
      "text/plain": [
       "['K50_E0',\n",
       " 'K50_E2',\n",
       " 'K50_E4',\n",
       " 'K75_E0',\n",
       " 'K75_E2',\n",
       " 'K75_E4',\n",
       " 'K100_E0',\n",
       " 'K100_E2',\n",
       " 'K100_E4',\n",
       " 'K125_E0',\n",
       " 'K125_E2',\n",
       " 'K125_E4',\n",
       " 'K150_E0',\n",
       " 'K150_E2',\n",
       " 'K150_E4']"
      ]
     },
     "execution_count": 41,
     "metadata": {},
     "output_type": "execute_result"
    }
   ],
   "source": [
    "Genmap_ParamsUsed = list( dictOf_GM_PileupMap_Arrays.keys() )\n",
    "Genmap_ParamsUsed"
   ]
  },
  {
   "cell_type": "code",
   "execution_count": 42,
   "metadata": {},
   "outputs": [
    {
     "data": {
      "text/plain": [
       "['K50_E0',\n",
       " 'K50_E2',\n",
       " 'K50_E4',\n",
       " 'K75_E0',\n",
       " 'K75_E2',\n",
       " 'K75_E4',\n",
       " 'K100_E0',\n",
       " 'K100_E2',\n",
       " 'K100_E4',\n",
       " 'K125_E0',\n",
       " 'K125_E2',\n",
       " 'K125_E4',\n",
       " 'K150_E0',\n",
       " 'K150_E2',\n",
       " 'K150_E4']"
      ]
     },
     "execution_count": 42,
     "metadata": {},
     "output_type": "execute_result"
    }
   ],
   "source": [
    "Genmap_ParamsUsed"
   ]
  },
  {
   "cell_type": "code",
   "execution_count": 43,
   "metadata": {
    "scrolled": true
   },
   "outputs": [
    {
     "name": "stderr",
     "output_type": "stream",
     "text": [
      "100%|██████████| 4411532/4411532 [00:02<00:00, 1590078.51it/s]\n",
      "100%|██████████| 4411532/4411532 [00:02<00:00, 1496988.86it/s]\n",
      "100%|██████████| 4411532/4411532 [00:02<00:00, 1559522.43it/s]\n",
      "100%|██████████| 4411532/4411532 [00:02<00:00, 1591890.41it/s]\n",
      "100%|██████████| 4411532/4411532 [00:02<00:00, 1584139.85it/s]\n",
      "100%|██████████| 4411532/4411532 [00:02<00:00, 1590157.63it/s]\n",
      "100%|██████████| 4411532/4411532 [00:02<00:00, 1595023.79it/s]\n",
      "100%|██████████| 4411532/4411532 [00:02<00:00, 1578940.05it/s]\n",
      "100%|██████████| 4411532/4411532 [00:02<00:00, 1581794.04it/s]\n",
      "100%|██████████| 4411532/4411532 [00:02<00:00, 1597365.59it/s]\n",
      "100%|██████████| 4411532/4411532 [00:02<00:00, 1580191.38it/s]\n",
      "100%|██████████| 4411532/4411532 [00:02<00:00, 1578406.81it/s]\n",
      "100%|██████████| 4411532/4411532 [00:02<00:00, 1581286.71it/s]\n",
      "100%|██████████| 4411532/4411532 [00:02<00:00, 1574716.64it/s]\n",
      "100%|██████████| 4411532/4411532 [00:02<00:00, 1567559.51it/s]\n"
     ]
    }
   ],
   "source": [
    "Genmap_ParamsUsed = list( dictOf_GM_PileupMap_Arrays.keys() )\n",
    "\n",
    "for Genmap_Params in Genmap_ParamsUsed:\n",
    "    \n",
    "    run_Genmap_OutputDir = f\"{Genmap_Map_AnalysisDir}/Genmap_Map_{Genmap_Params}_Output\"\n",
    "        \n",
    "    Run_PileupMappability_Array = dictOf_GM_PileupMap_Arrays[Genmap_Params]\n",
    "    \n",
    "    PMap_BED_DF = convert_GenomeNParray_To_BED_DF(Run_PileupMappability_Array)\n",
    "\n",
    "    PMap_BED_DF.columns = [\"chrom\", \"chromStart\", \"chromEnd\", \"name\", \"PileupMap_Score\"]\n",
    "    #PMap_BED_DF[\"name\"] = PMap_BED_DF.index + 1\n",
    "\n",
    "    PileupMappability_WiParams_200328_BED = f\"{run_Genmap_OutputDir}/201027_H37rv_PileupMappability_{Genmap_Params}.bed\"\n",
    "    PileupMappability_WiParams_200328_BEDGRAPH = f\"{run_Genmap_OutputDir}/201027_H37rv_PileupMappability_{Genmap_Params}.bedgraph\"      \n",
    "\n",
    "    PileupMappability_WiParams_200328_NPY_PATH = f\"{run_Genmap_OutputDir}/201027_H37rv_PileupMappability_{Genmap_Params}.npy\"\n",
    "    PileupMappability_WiParams_200328_NPZ_PATH = f\"{run_Genmap_OutputDir}/201027_H37rv_PileupMappability_{Genmap_Params}.npz\"\n",
    "\n",
    "    #np.save(PileupMappability_WiParams_200328_NPY_PATH, Run_PileupMappability_Array )\n",
    "    np.savez_compressed(PileupMappability_WiParams_200328_NPZ_PATH, Run_PileupMappability_Array )\n",
    "\n",
    "    PMap_BED_DF.to_csv(PileupMappability_WiParams_200328_BED,\n",
    "                           sep = \"\\t\",\n",
    "                           index = False,\n",
    "                           header = False)\n",
    "    \n",
    "    !cut -f 1,2,3,5 $PileupMappability_WiParams_200328_BED > $PileupMappability_WiParams_200328_BEDGRAPH\n"
   ]
  },
  {
   "cell_type": "code",
   "execution_count": 44,
   "metadata": {},
   "outputs": [
    {
     "name": "stdout",
     "output_type": "stream",
     "text": [
      "201027_ParsedAndPickled_GenmapOutput\n",
      "201027_PMap_K100E4_BaseLevelInfo_BELOW_1.bed\n",
      "201027_PMap_K100E4_Regions_BELOW_1.bed\n",
      "201027_PMap_K50E4_BaseLevelInfo_BELOW_1.bed\n",
      "201027_PMap_K50E4_Regions_BELOW_1.bed\n",
      "Genmap_Map_K100_E0_Output\n",
      "Genmap_Map_K100_E2_Output\n",
      "Genmap_Map_K100_E4_Output\n",
      "Genmap_Map_K125_E0_Output\n",
      "Genmap_Map_K125_E2_Output\n",
      "Genmap_Map_K125_E4_Output\n",
      "Genmap_Map_K150_E0_Output\n",
      "Genmap_Map_K150_E2_Output\n",
      "Genmap_Map_K150_E4_Output\n",
      "Genmap_Map_K50_E0_Output\n",
      "Genmap_Map_K50_E2_Output\n",
      "Genmap_Map_K50_E4_Output\n",
      "Genmap_Map_K75_E0_Output\n",
      "Genmap_Map_K75_E2_Output\n",
      "Genmap_Map_K75_E4_Output\n"
     ]
    }
   ],
   "source": [
    "!ls -1 $Genmap_Map_AnalysisDir"
   ]
  },
  {
   "cell_type": "code",
   "execution_count": 45,
   "metadata": {},
   "outputs": [
    {
     "name": "stdout",
     "output_type": "stream",
     "text": [
      "201027_H37rv_PileupMappability_K100_E4.bed\n",
      "201027_H37rv_PileupMappability_K100_E4.bedgraph\n",
      "201027_H37rv_PileupMappability_K100_E4.npy\n",
      "201027_H37rv_PileupMappability_K100_E4.npz\n",
      "GCF_000195955.2_ASM19595v2_genomic.TrimmedSeqName.genmap.bedgraph\n",
      "GCF_000195955.2_ASM19595v2_genomic.TrimmedSeqName.genmap.chrom.sizes\n",
      "GCF_000195955.2_ASM19595v2_genomic.TrimmedSeqName.genmap.txt\n",
      "GCF_000195955.2_ASM19595v2_genomic.TrimmedSeqName.genmap.wig\n"
     ]
    }
   ],
   "source": [
    "!ls -1 $Genmap_Map_AnalysisDir/Genmap_Map_K100_E4_Output"
   ]
  },
  {
   "cell_type": "code",
   "execution_count": null,
   "metadata": {},
   "outputs": [],
   "source": []
  },
  {
   "cell_type": "code",
   "execution_count": 75,
   "metadata": {},
   "outputs": [
    {
     "name": "stdout",
     "output_type": "stream",
     "text": [
      "201027_H37rv_PileupMappability_K50_E0.bed\n",
      "201027_H37rv_PileupMappability_K50_E0.bedgraph\n",
      "201027_H37rv_PileupMappability_K50_E0.npy\n",
      "201027_H37rv_PileupMappability_K50_E0.npy.npz\n",
      "201027_H37rv_PileupMappability_K50_E0.npz\n",
      "GCF_000195955.2_ASM19595v2_genomic.TrimmedSeqName.genmap.bedgraph\n",
      "GCF_000195955.2_ASM19595v2_genomic.TrimmedSeqName.genmap.chrom.sizes\n",
      "GCF_000195955.2_ASM19595v2_genomic.TrimmedSeqName.genmap.txt\n",
      "GCF_000195955.2_ASM19595v2_genomic.TrimmedSeqName.genmap.wig\n"
     ]
    }
   ],
   "source": [
    "!ls -1 $Genmap_Map_AnalysisDir/Genmap_Map_K50_E0_Output"
   ]
  },
  {
   "cell_type": "code",
   "execution_count": 76,
   "metadata": {},
   "outputs": [
    {
     "name": "stdout",
     "output_type": "stream",
     "text": [
      "201027_H37rv_PileupMappability_K100_E0.bed\n",
      "201027_H37rv_PileupMappability_K100_E0.bedgraph\n",
      "201027_H37rv_PileupMappability_K100_E0.npy\n",
      "201027_H37rv_PileupMappability_K100_E0.npy.npz\n",
      "201027_H37rv_PileupMappability_K100_E0.npz\n",
      "GCF_000195955.2_ASM19595v2_genomic.TrimmedSeqName.genmap.bedgraph\n",
      "GCF_000195955.2_ASM19595v2_genomic.TrimmedSeqName.genmap.chrom.sizes\n",
      "GCF_000195955.2_ASM19595v2_genomic.TrimmedSeqName.genmap.txt\n",
      "GCF_000195955.2_ASM19595v2_genomic.TrimmedSeqName.genmap.wig\n"
     ]
    }
   ],
   "source": [
    "!ls -1 $Genmap_Map_AnalysisDir/Genmap_Map_K100_E0_Output"
   ]
  },
  {
   "cell_type": "code",
   "execution_count": null,
   "metadata": {},
   "outputs": [],
   "source": []
  },
  {
   "cell_type": "markdown",
   "metadata": {},
   "source": [
    "## K50_E4 - Output bedfiles specifiying all regions below 1 Pmap score"
   ]
  },
  {
   "cell_type": "code",
   "execution_count": 48,
   "metadata": {},
   "outputs": [
    {
     "name": "stderr",
     "output_type": "stream",
     "text": [
      "100%|██████████| 4411532/4411532 [00:02<00:00, 1538128.40it/s]\n"
     ]
    }
   ],
   "source": [
    "K50_E4_PileupMappability_NPA = dictOf_GM_PileupMap_Arrays[\"K50_E4\"]\n",
    "PMap_BED_DF = convert_GenomeNParray_To_BED_DF(K50_E4_PileupMappability_NPA)\n",
    "\n",
    "PMap_BED_DF.columns = [\"chrom\", \"chromStart\", \"chromEnd\", \"name\", \"PileupMap_Score\"]\n",
    "#PMap_BED_DF[\"name\"] = PMap_BED_DF.index + 1\n",
    "PMap_BED_DF_NoLengthColn = PMap_BED_DF.copy()\n",
    "\n",
    "PMap_BED_DF[\"Length\"] = PMap_BED_DF[\"chromEnd\"] - PMap_BED_DF[\"chromStart\"]\n",
    "\n",
    "PMap_K50E4_BED_DF_Below1 = PMap_BED_DF[ (PMap_BED_DF[\"PileupMap_Score\"] < 1) & (PMap_BED_DF[\"PileupMap_Score\"] > 0)]  \n",
    "\n",
    "PMap_K50E4_200730_BED_BELOW_1_PATH = f\"{Genmap_Map_AnalysisDir}/201027_PMap_K50E4_BaseLevelInfo_BELOW_1.bed\"\n",
    "\n",
    "PMap_K50E4_BED_DF_Below1.to_csv(PMap_K50E4_200730_BED_BELOW_1_PATH,\n",
    "                           sep = \"\\t\",\n",
    "                           index = False,\n",
    "                           header = False)\n",
    "\n",
    "PMap_K50E4_200730_BED_REGIONS_BELOW_1_PATH = f\"{Genmap_Map_AnalysisDir}/201027_PMap_K50E4_Regions_BELOW_1.bed\"\n",
    "\n",
    "# Merge/condense adjacent basepairs that are below the defined threshold\n",
    "!bedtools merge -i $PMap_K50E4_200730_BED_BELOW_1_PATH > $PMap_K50E4_200730_BED_REGIONS_BELOW_1_PATH\n"
   ]
  },
  {
   "cell_type": "code",
   "execution_count": 49,
   "metadata": {},
   "outputs": [
    {
     "name": "stdout",
     "output_type": "stream",
     "text": [
      "201027_ParsedAndPickled_GenmapOutput\n",
      "201027_PMap_K100E4_BaseLevelInfo_BELOW_1.bed\n",
      "201027_PMap_K100E4_Regions_BELOW_1.bed\n",
      "201027_PMap_K50E4_BaseLevelInfo_BELOW_1.bed\n",
      "201027_PMap_K50E4_Regions_BELOW_1.bed\n",
      "Genmap_Map_K100_E0_Output\n",
      "Genmap_Map_K100_E2_Output\n",
      "Genmap_Map_K100_E4_Output\n",
      "Genmap_Map_K125_E0_Output\n",
      "Genmap_Map_K125_E2_Output\n",
      "Genmap_Map_K125_E4_Output\n",
      "Genmap_Map_K150_E0_Output\n",
      "Genmap_Map_K150_E2_Output\n",
      "Genmap_Map_K150_E4_Output\n",
      "Genmap_Map_K50_E0_Output\n",
      "Genmap_Map_K50_E2_Output\n",
      "Genmap_Map_K50_E4_Output\n",
      "Genmap_Map_K75_E0_Output\n",
      "Genmap_Map_K75_E2_Output\n",
      "Genmap_Map_K75_E4_Output\n"
     ]
    }
   ],
   "source": [
    "!ls -1 $Genmap_Map_AnalysisDir"
   ]
  },
  {
   "cell_type": "markdown",
   "metadata": {},
   "source": [
    "## K100_E4 - Output bedfiles specifiying all regions below 1 Pmap score"
   ]
  },
  {
   "cell_type": "code",
   "execution_count": 50,
   "metadata": {},
   "outputs": [
    {
     "name": "stderr",
     "output_type": "stream",
     "text": [
      "100%|██████████| 4411532/4411532 [00:02<00:00, 1549629.00it/s]\n"
     ]
    }
   ],
   "source": [
    "K100_E4_PileupMappability_NPA = dictOf_GM_PileupMap_Arrays[\"K100_E4\"]\n",
    "PMap_BED_DF = convert_GenomeNParray_To_BED_DF(K100_E4_PileupMappability_NPA)\n",
    "\n",
    "PMap_BED_DF.columns = [\"chrom\", \"chromStart\", \"chromEnd\", \"name\", \"PileupMap_Score\"]\n",
    "#PMap_BED_DF[\"name\"] = PMap_BED_DF.index + 1\n",
    "PMap_BED_DF_NoLengthColn = PMap_BED_DF.copy()\n",
    "\n",
    "PMap_BED_DF[\"Length\"] = PMap_BED_DF[\"chromEnd\"] - PMap_BED_DF[\"chromStart\"]\n",
    "\n",
    "PMap_K100E4_BED_DF_Below1 = PMap_BED_DF[ (PMap_BED_DF[\"PileupMap_Score\"] < 1) & (PMap_BED_DF[\"PileupMap_Score\"] > 0)]  \n",
    "\n",
    "PMap_K100E4_200730_BED_BELOW_1_PATH = f\"{Genmap_Map_AnalysisDir}/201027_PMap_K100E4_BaseLevelInfo_BELOW_1.bed\"\n",
    "\n",
    "PMap_K100E4_BED_DF_Below1.to_csv(PMap_K100E4_200730_BED_BELOW_1_PATH,\n",
    "                           sep = \"\\t\",\n",
    "                           index = False,\n",
    "                           header = False)\n",
    "\n",
    "PMap_K100E4_200730_BED_REGIONS_BELOW_1_PATH = f\"{Genmap_Map_AnalysisDir}/201027_PMap_K100E4_Regions_BELOW_1.bed\"\n",
    "\n",
    "# Merge/condense adjacent basepairs that are below the defined threshold\n",
    "!bedtools merge -i $PMap_K100E4_200730_BED_BELOW_1_PATH > $PMap_K100E4_200730_BED_REGIONS_BELOW_1_PATH"
   ]
  },
  {
   "cell_type": "code",
   "execution_count": null,
   "metadata": {},
   "outputs": [],
   "source": []
  },
  {
   "cell_type": "code",
   "execution_count": null,
   "metadata": {},
   "outputs": [],
   "source": []
  },
  {
   "cell_type": "code",
   "execution_count": null,
   "metadata": {},
   "outputs": [],
   "source": []
  },
  {
   "cell_type": "code",
   "execution_count": 51,
   "metadata": {},
   "outputs": [
    {
     "name": "stdout",
     "output_type": "stream",
     "text": [
      "total 42M\n",
      "drwxrwsr-x  2 mm774 farhat  566 Mar 16 14:04 .\n",
      "drwxrwsr-x 18 mm774 farhat  927 Jan 18 13:26 ..\n",
      "-rw-rw-r--  1 mm774 farhat 4.2M Mar 16 14:25 201027_H37rv_PileupMappability_K50_E4.bed\n",
      "-rw-rw-r--  1 mm774 farhat 2.6M Mar 16 14:25 201027_H37rv_PileupMappability_K50_E4.bedgraph\n",
      "-rw-rw-r--  1 mm774 farhat  34M Mar 16 13:48 201027_H37rv_PileupMappability_K50_E4.npy\n",
      "-rw-rw-r--  1 mm774 farhat 323K Mar 16 14:25 201027_H37rv_PileupMappability_K50_E4.npz\n",
      "-rw-rw-r--  1 mm774 farhat 235K Mar 16 14:09 GCF_000195955.2_ASM19595v2_genomic.TrimmedSeqName.genmap.bedgraph\n",
      "-rw-rw-r--  1 mm774 farhat   20 Mar 16 14:09 GCF_000195955.2_ASM19595v2_genomic.TrimmedSeqName.genmap.chrom.sizes\n",
      "-rw-rw-r--  1 mm774 farhat 8.9M Mar 16 14:09 GCF_000195955.2_ASM19595v2_genomic.TrimmedSeqName.genmap.txt\n",
      "-rw-rw-r--  1 mm774 farhat 343K Mar 16 14:09 GCF_000195955.2_ASM19595v2_genomic.TrimmedSeqName.genmap.wig\n"
     ]
    }
   ],
   "source": [
    "!ls -lah $Genmap_Map_AnalysisDir/Genmap_Map_K50_E4_Output"
   ]
  },
  {
   "cell_type": "code",
   "execution_count": null,
   "metadata": {},
   "outputs": [],
   "source": []
  },
  {
   "cell_type": "code",
   "execution_count": null,
   "metadata": {},
   "outputs": [],
   "source": []
  },
  {
   "cell_type": "code",
   "execution_count": null,
   "metadata": {},
   "outputs": [],
   "source": []
  },
  {
   "cell_type": "code",
   "execution_count": null,
   "metadata": {},
   "outputs": [],
   "source": []
  },
  {
   "cell_type": "code",
   "execution_count": 52,
   "metadata": {},
   "outputs": [
    {
     "data": {
      "text/plain": [
       "dict_keys(['K50_E0', 'K50_E2', 'K50_E4', 'K75_E0', 'K75_E2', 'K75_E4', 'K100_E0', 'K100_E2', 'K100_E4', 'K125_E0', 'K125_E2', 'K125_E4', 'K150_E0', 'K150_E2', 'K150_E4'])"
      ]
     },
     "execution_count": 52,
     "metadata": {},
     "output_type": "execute_result"
    }
   ],
   "source": [
    "dictOf_GM_PileupMap_Arrays.keys()"
   ]
  },
  {
   "cell_type": "code",
   "execution_count": 53,
   "metadata": {},
   "outputs": [
    {
     "data": {
      "text/plain": [
       "array([ 1.,  1.,  1.,  1.,  1.,  1.,  1.,  1.,  1.,  1.,  1.,  1.,  1.,\n",
       "        1.,  1.,  1.,  1.,  1.,  1.,  1.,  1.,  1.,  1.,  1.,  1.,  1.,\n",
       "        1.,  1.,  1.,  1.,  1.,  1.,  1.,  1.,  1.,  1.,  1.,  1.,  1.,\n",
       "        1.,  1.,  1.,  1.,  1.,  1.,  1.,  1.,  1.,  1.,  1., nan, nan,\n",
       "       nan, nan, nan, nan, nan, nan, nan, nan, nan, nan, nan, nan, nan,\n",
       "       nan, nan, nan, nan, nan, nan, nan, nan, nan, nan, nan, nan, nan,\n",
       "       nan, nan, nan, nan, nan, nan, nan, nan, nan, nan, nan, nan, nan,\n",
       "       nan, nan, nan, nan, nan, nan, nan, nan, nan])"
      ]
     },
     "execution_count": 53,
     "metadata": {},
     "output_type": "execute_result"
    }
   ],
   "source": [
    "dictOf_GM_PileupMap_Arrays['K50_E0'][-100:]"
   ]
  },
  {
   "cell_type": "code",
   "execution_count": 54,
   "metadata": {},
   "outputs": [
    {
     "data": {
      "text/plain": [
       "array([nan, nan, nan, nan, nan, nan, nan, nan, nan, nan, nan, nan, nan,\n",
       "       nan, nan, nan, nan, nan, nan, nan, nan, nan, nan, nan, nan, nan,\n",
       "       nan, nan, nan, nan, nan, nan, nan, nan, nan, nan, nan, nan, nan,\n",
       "       nan, nan, nan, nan, nan, nan, nan, nan, nan, nan, nan,  1.,  1.,\n",
       "        1.,  1.,  1.,  1.,  1.,  1.,  1.,  1.,  1.,  1.,  1.,  1.,  1.,\n",
       "        1.,  1.,  1.,  1.,  1.,  1.,  1.,  1.,  1.,  1.,  1.,  1.,  1.,\n",
       "        1.,  1.,  1.,  1.,  1.,  1.,  1.,  1.,  1.,  1.,  1.,  1.,  1.,\n",
       "        1.,  1.,  1.,  1.,  1.,  1.,  1.,  1.,  1.])"
      ]
     },
     "execution_count": 54,
     "metadata": {},
     "output_type": "execute_result"
    }
   ],
   "source": [
    "dictOf_GM_PileupMap_Arrays['K50_E0'][:100]"
   ]
  },
  {
   "cell_type": "code",
   "execution_count": null,
   "metadata": {},
   "outputs": [],
   "source": []
  },
  {
   "cell_type": "markdown",
   "metadata": {},
   "source": [
    "## What proportion of the genome has Pileup mappability < 1 ?"
   ]
  },
  {
   "cell_type": "code",
   "execution_count": 55,
   "metadata": {},
   "outputs": [],
   "source": [
    "Pmap_K50E0_NP = dictOf_GM_PileupMap_Arrays['K50_E0']\n",
    "Pmap_K75E0_NP = dictOf_GM_PileupMap_Arrays['K75_E0']\n",
    "Pmap_K100E0_NP = dictOf_GM_PileupMap_Arrays['K100_E0']\n",
    "Pmap_K150E0_NP = dictOf_GM_PileupMap_Arrays['K150_E0']"
   ]
  },
  {
   "cell_type": "code",
   "execution_count": 56,
   "metadata": {},
   "outputs": [
    {
     "name": "stderr",
     "output_type": "stream",
     "text": [
      "/home/mm774/conda3/envs/py37_S/lib/python3.7/site-packages/ipykernel_launcher.py:1: RuntimeWarning: invalid value encountered in less\n",
      "  \"\"\"Entry point for launching an IPython kernel.\n",
      "/home/mm774/conda3/envs/py37_S/lib/python3.7/site-packages/ipykernel_launcher.py:1: RuntimeWarning: invalid value encountered in greater_equal\n",
      "  \"\"\"Entry point for launching an IPython kernel.\n"
     ]
    },
    {
     "data": {
      "text/plain": [
       "105136"
      ]
     },
     "execution_count": 56,
     "metadata": {},
     "output_type": "execute_result"
    }
   ],
   "source": [
    "((Pmap_K50E0_NP < 1) & (Pmap_K50E0_NP >= 0)).sum()"
   ]
  },
  {
   "cell_type": "code",
   "execution_count": 57,
   "metadata": {},
   "outputs": [
    {
     "name": "stderr",
     "output_type": "stream",
     "text": [
      "/home/mm774/conda3/envs/py37_S/lib/python3.7/site-packages/ipykernel_launcher.py:1: RuntimeWarning: invalid value encountered in less\n",
      "  \"\"\"Entry point for launching an IPython kernel.\n",
      "/home/mm774/conda3/envs/py37_S/lib/python3.7/site-packages/ipykernel_launcher.py:1: RuntimeWarning: invalid value encountered in greater_equal\n",
      "  \"\"\"Entry point for launching an IPython kernel.\n"
     ]
    },
    {
     "data": {
      "text/plain": [
       "95896"
      ]
     },
     "execution_count": 57,
     "metadata": {},
     "output_type": "execute_result"
    }
   ],
   "source": [
    "((Pmap_K75E0_NP < 1) & (Pmap_K75E0_NP >= 0)).sum()"
   ]
  },
  {
   "cell_type": "code",
   "execution_count": 58,
   "metadata": {},
   "outputs": [
    {
     "name": "stderr",
     "output_type": "stream",
     "text": [
      "/home/mm774/conda3/envs/py37_S/lib/python3.7/site-packages/ipykernel_launcher.py:1: RuntimeWarning: invalid value encountered in less\n",
      "  \"\"\"Entry point for launching an IPython kernel.\n",
      "/home/mm774/conda3/envs/py37_S/lib/python3.7/site-packages/ipykernel_launcher.py:1: RuntimeWarning: invalid value encountered in greater_equal\n",
      "  \"\"\"Entry point for launching an IPython kernel.\n"
     ]
    },
    {
     "data": {
      "text/plain": [
       "91143"
      ]
     },
     "execution_count": 58,
     "metadata": {},
     "output_type": "execute_result"
    }
   ],
   "source": [
    "((Pmap_K100E0_NP < 1) & (Pmap_K100E0_NP >= 0)).sum()"
   ]
  },
  {
   "cell_type": "code",
   "execution_count": 59,
   "metadata": {},
   "outputs": [
    {
     "name": "stderr",
     "output_type": "stream",
     "text": [
      "/home/mm774/conda3/envs/py37_S/lib/python3.7/site-packages/ipykernel_launcher.py:1: RuntimeWarning: invalid value encountered in less\n",
      "  \"\"\"Entry point for launching an IPython kernel.\n",
      "/home/mm774/conda3/envs/py37_S/lib/python3.7/site-packages/ipykernel_launcher.py:1: RuntimeWarning: invalid value encountered in greater_equal\n",
      "  \"\"\"Entry point for launching an IPython kernel.\n"
     ]
    },
    {
     "data": {
      "text/plain": [
       "84199"
      ]
     },
     "execution_count": 59,
     "metadata": {},
     "output_type": "execute_result"
    }
   ],
   "source": [
    "((Pmap_K150E0_NP < 1) & (Pmap_K150E0_NP >= 0)).sum()"
   ]
  },
  {
   "cell_type": "code",
   "execution_count": 60,
   "metadata": {},
   "outputs": [],
   "source": [
    "## What proportion of the genome has Pileup mappability < 1 ?"
   ]
  },
  {
   "cell_type": "code",
   "execution_count": 61,
   "metadata": {},
   "outputs": [
    {
     "data": {
      "text/plain": [
       "2.3832623964281896"
      ]
     },
     "execution_count": 61,
     "metadata": {},
     "output_type": "execute_result"
    }
   ],
   "source": [
    "(105136 / 4411432 ) * 100"
   ]
  },
  {
   "cell_type": "code",
   "execution_count": null,
   "metadata": {},
   "outputs": [],
   "source": []
  },
  {
   "cell_type": "code",
   "execution_count": 62,
   "metadata": {},
   "outputs": [
    {
     "data": {
      "text/plain": [
       "2.173806600668445"
      ]
     },
     "execution_count": 62,
     "metadata": {},
     "output_type": "execute_result"
    }
   ],
   "source": [
    "(95896 / 4411432 ) * 100"
   ]
  },
  {
   "cell_type": "code",
   "execution_count": 63,
   "metadata": {},
   "outputs": [
    {
     "data": {
      "text/plain": [
       "2.066063808758698"
      ]
     },
     "execution_count": 63,
     "metadata": {},
     "output_type": "execute_result"
    }
   ],
   "source": [
    "(91143 / 4411432 ) * 100"
   ]
  },
  {
   "cell_type": "code",
   "execution_count": 64,
   "metadata": {},
   "outputs": [
    {
     "data": {
      "text/plain": [
       "1.908654604672587"
      ]
     },
     "execution_count": 64,
     "metadata": {},
     "output_type": "execute_result"
    }
   ],
   "source": [
    "(84199 / 4411432 ) * 100"
   ]
  },
  {
   "cell_type": "code",
   "execution_count": null,
   "metadata": {},
   "outputs": [],
   "source": []
  },
  {
   "cell_type": "code",
   "execution_count": null,
   "metadata": {},
   "outputs": [],
   "source": []
  },
  {
   "cell_type": "code",
   "execution_count": 65,
   "metadata": {},
   "outputs": [
    {
     "data": {
      "text/plain": [
       "(4411532,)"
      ]
     },
     "execution_count": 65,
     "metadata": {},
     "output_type": "execute_result"
    }
   ],
   "source": [
    "Pmap_K50E0_NP.shape"
   ]
  },
  {
   "cell_type": "code",
   "execution_count": 66,
   "metadata": {},
   "outputs": [
    {
     "name": "stderr",
     "output_type": "stream",
     "text": [
      "/home/mm774/conda3/envs/py37_S/lib/python3.7/site-packages/ipykernel_launcher.py:1: RuntimeWarning: invalid value encountered in less\n",
      "  \"\"\"Entry point for launching an IPython kernel.\n",
      "/home/mm774/conda3/envs/py37_S/lib/python3.7/site-packages/ipykernel_launcher.py:1: RuntimeWarning: invalid value encountered in greater_equal\n",
      "  \"\"\"Entry point for launching an IPython kernel.\n"
     ]
    },
    {
     "data": {
      "text/plain": [
       "(105136,)"
      ]
     },
     "execution_count": 66,
     "metadata": {},
     "output_type": "execute_result"
    }
   ],
   "source": [
    "Pmap_K50E0_NP[ (Pmap_K50E0_NP < 1) & (Pmap_K50E0_NP >= 0) ].shape"
   ]
  },
  {
   "cell_type": "code",
   "execution_count": null,
   "metadata": {},
   "outputs": [],
   "source": []
  },
  {
   "cell_type": "code",
   "execution_count": 67,
   "metadata": {},
   "outputs": [
    {
     "data": {
      "text/plain": [
       "105136"
      ]
     },
     "execution_count": 67,
     "metadata": {},
     "output_type": "execute_result"
    }
   ],
   "source": [
    "105136"
   ]
  },
  {
   "cell_type": "code",
   "execution_count": 68,
   "metadata": {},
   "outputs": [
    {
     "data": {
      "text/plain": [
       "0.023832623964281895"
      ]
     },
     "execution_count": 68,
     "metadata": {},
     "output_type": "execute_result"
    }
   ],
   "source": [
    "105136 / 4411432"
   ]
  },
  {
   "cell_type": "code",
   "execution_count": 69,
   "metadata": {},
   "outputs": [],
   "source": [
    "### 2.38%"
   ]
  },
  {
   "cell_type": "code",
   "execution_count": 70,
   "metadata": {},
   "outputs": [
    {
     "data": {
      "text/plain": [
       "4411432.0"
      ]
     },
     "execution_count": 70,
     "metadata": {},
     "output_type": "execute_result"
    }
   ],
   "source": [
    "105136 / 0.023832623964281895"
   ]
  },
  {
   "cell_type": "code",
   "execution_count": 71,
   "metadata": {},
   "outputs": [
    {
     "name": "stderr",
     "output_type": "stream",
     "text": [
      "/home/mm774/conda3/envs/py37_S/lib/python3.7/site-packages/ipykernel_launcher.py:1: RuntimeWarning: invalid value encountered in greater_equal\n",
      "  \"\"\"Entry point for launching an IPython kernel.\n"
     ]
    },
    {
     "data": {
      "text/plain": [
       "4306296"
      ]
     },
     "execution_count": 71,
     "metadata": {},
     "output_type": "execute_result"
    }
   ],
   "source": [
    "((Pmap_K50E0_NP == 1) & (Pmap_K50E0_NP >= 0)).sum()"
   ]
  },
  {
   "cell_type": "code",
   "execution_count": 72,
   "metadata": {},
   "outputs": [
    {
     "data": {
      "text/plain": [
       "4411432"
      ]
     },
     "execution_count": 72,
     "metadata": {},
     "output_type": "execute_result"
    }
   ],
   "source": [
    "105136 + 4306296"
   ]
  },
  {
   "cell_type": "code",
   "execution_count": 73,
   "metadata": {},
   "outputs": [
    {
     "name": "stderr",
     "output_type": "stream",
     "text": [
      "/home/mm774/conda3/envs/py37_S/lib/python3.7/site-packages/ipykernel_launcher.py:1: RuntimeWarning: invalid value encountered in less\n",
      "  \"\"\"Entry point for launching an IPython kernel.\n",
      "/home/mm774/conda3/envs/py37_S/lib/python3.7/site-packages/ipykernel_launcher.py:1: RuntimeWarning: invalid value encountered in greater_equal\n",
      "  \"\"\"Entry point for launching an IPython kernel.\n"
     ]
    },
    {
     "data": {
      "text/plain": [
       "(4411532,)"
      ]
     },
     "execution_count": 73,
     "metadata": {},
     "output_type": "execute_result"
    }
   ],
   "source": [
    "((Pmap_K50E0_NP < 1) & (Pmap_K50E0_NP >= 0)).shape"
   ]
  },
  {
   "cell_type": "code",
   "execution_count": null,
   "metadata": {},
   "outputs": [],
   "source": []
  },
  {
   "cell_type": "code",
   "execution_count": 74,
   "metadata": {},
   "outputs": [],
   "source": [
    "### OutDir: /n/data1/hms/dbmi/farhat/mm774/Projects/PacBio_Evaluation_Project/200328_PBvsI_VCeval_AnalysisDir"
   ]
  },
  {
   "cell_type": "code",
   "execution_count": null,
   "metadata": {},
   "outputs": [],
   "source": []
  }
 ],
 "metadata": {
  "kernelspec": {
   "display_name": "py37_S",
   "language": "python",
   "name": "py37_s"
  },
  "language_info": {
   "codemirror_mode": {
    "name": "ipython",
    "version": 3
   },
   "file_extension": ".py",
   "mimetype": "text/x-python",
   "name": "python",
   "nbconvert_exporter": "python",
   "pygments_lexer": "ipython3",
   "version": "3.7.3"
  }
 },
 "nbformat": 4,
 "nbformat_minor": 4
}
