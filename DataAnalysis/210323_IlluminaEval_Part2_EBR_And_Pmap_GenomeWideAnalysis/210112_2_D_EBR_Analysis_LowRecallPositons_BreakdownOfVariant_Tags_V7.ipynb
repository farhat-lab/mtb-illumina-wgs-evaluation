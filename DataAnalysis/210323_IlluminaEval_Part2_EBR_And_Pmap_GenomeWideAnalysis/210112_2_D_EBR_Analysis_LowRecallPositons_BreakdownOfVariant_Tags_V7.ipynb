{
 "cells": [
  {
   "cell_type": "markdown",
   "metadata": {},
   "source": [
    "# Exploring variant caller (Pilon) tags associated with poorly recalled genomic positions (Across all 36 isolates evaluated) \n",
    "\n",
    "### Goal: To summarize the variant caller annotations associated with poorly recalled genomic positions. "
   ]
  },
  {
   "cell_type": "code",
   "execution_count": null,
   "metadata": {},
   "outputs": [],
   "source": []
  },
  {
   "cell_type": "code",
   "execution_count": 1,
   "metadata": {},
   "outputs": [],
   "source": [
    "import numpy as np\n",
    "import pandas as pd\n",
    "import vcf\n",
    "from tqdm import tqdm\n",
    "import matplotlib.pyplot as plt\n",
    "import seaborn as sns\n",
    "import pickle\n",
    "import json\n",
    "\n",
    "%matplotlib inline"
   ]
  },
  {
   "cell_type": "markdown",
   "metadata": {},
   "source": [
    "#### Pandas Viewing Settings"
   ]
  },
  {
   "cell_type": "code",
   "execution_count": 2,
   "metadata": {},
   "outputs": [],
   "source": [
    "pd.set_option('display.max_rows', 500)\n",
    "pd.set_option('display.max_columns', 500)\n",
    "pd.set_option('display.width', 1000)"
   ]
  },
  {
   "cell_type": "code",
   "execution_count": null,
   "metadata": {},
   "outputs": [],
   "source": []
  },
  {
   "cell_type": "markdown",
   "metadata": {},
   "source": [
    "## Parse Assembly and Sequence analysis results Sample Info"
   ]
  },
  {
   "cell_type": "code",
   "execution_count": 3,
   "metadata": {},
   "outputs": [
    {
     "name": "stdout",
     "output_type": "stream",
     "text": [
      "M0011368_9,M0014888_3,M0016395_7,M0010874_7,01_R1430,02_R0894,02_R1708,02_R1896,M0016737_0,M0017522_5,01_R1134,M0003941_3,02_R1179,N1176,N0072,N0153,N0145,N0155,N0004,N1274,N0054,N1272,N0091,N1202,N1177,RW-TB008,DNA028,DNA075,DNA091,DNA044,DNA020,AZE_02_042,DNA019_Rose,DNA120,DNA188,DNA086\n"
     ]
    }
   ],
   "source": [
    "Repo_DataDir = \"../../Data\"\n",
    "\n",
    "PMP_SM_ResultsSummary_Dir_210108 = Repo_DataDir + \"/210108_PMP_SM_50CI_V7_ResultsSummary\"\n",
    "\n",
    "PMP_36CI_CicularOnly_F2Filtered_AtLeast40XIllDepth_AssemblySummary_TSV_PATH = PMP_SM_ResultsSummary_Dir_210108 + \"/210108_PMP_36CI_CircularOnly_F2Filtered_AtLeast40XMeanDepthIllumina_AssemblySummary_V7.tsv\"       \n",
    "\n",
    "PMP_36CI_CicularOnly_F2Filtered_AtLeast40XDepth_AssemblySummary = pd.read_csv(PMP_36CI_CicularOnly_F2Filtered_AtLeast40XIllDepth_AssemblySummary_TSV_PATH, sep = \"\\t\")\n",
    "\n",
    "PMP_36CI_AnalysisSet_AssemblySummary = PMP_36CI_CicularOnly_F2Filtered_AtLeast40XDepth_AssemblySummary\n",
    "\n",
    "\n",
    "SampleIDs_36CI_SOI = list( PMP_36CI_AnalysisSet_AssemblySummary[\"SampleID\"].values )\n",
    "\n",
    "\n",
    "print(','.join(SampleIDs_36CI_SOI) )\n",
    "\n",
    "# Make sample to metadata mapping dicts\n",
    "\n",
    "ID_To_IlluminaAvrgCov_Dict = dict(PMP_36CI_AnalysisSet_AssemblySummary[['SampleID', 'IlluminaWGSToH37rv_AvrgCov']].values)                     \n",
    "ID_To_Lineage_Dict = dict(PMP_36CI_AnalysisSet_AssemblySummary[['SampleID', 'PrimaryLineage_PB']].values)\n",
    "ID_To_Dataset_Dict = dict(PMP_36CI_AnalysisSet_AssemblySummary[['SampleID', 'Dataset_Tag']].values)"
   ]
  },
  {
   "cell_type": "code",
   "execution_count": null,
   "metadata": {},
   "outputs": [],
   "source": []
  },
  {
   "cell_type": "markdown",
   "metadata": {},
   "source": [
    "# 0) Read in pickles of processed data"
   ]
  },
  {
   "cell_type": "markdown",
   "metadata": {},
   "source": [
    "## Read back in NPY for EBR-36CI"
   ]
  },
  {
   "cell_type": "code",
   "execution_count": 4,
   "metadata": {},
   "outputs": [],
   "source": [
    "PB_Vs_Illumina_DataAnalysis_Dir = \"../../../210112_PBvsI_VCeval_AnalysisDir_V7_36CI\"\n",
    "\n",
    "# Define directory for EBR analysis data\n",
    "PBvIll_EBR_Dir = PB_Vs_Illumina_DataAnalysis_Dir + \"/210112_EBR_H37rv_36CI_MM2vsPilon_V7\"         \n",
    "\n",
    "PBvsIll_EBR_IndivSample_NPZs = f\"{PBvIll_EBR_Dir}/210112_EBR_H37rv_IndividualSampleRecall_NPZs\"\n",
    "\n",
    "\n",
    "# Parse in aggregated EBR-36CI array\n",
    "EBR_36CI_WGS40X_NPZ_PATH = f\"{PBvIll_EBR_Dir}/210112_EBR_V7_36CI.npz\"\n",
    "\n",
    "EBR_36CI_Array_A4 = np.load(EBR_36CI_WGS40X_NPZ_PATH)[\"arr_0\"]\n"
   ]
  },
  {
   "cell_type": "code",
   "execution_count": 5,
   "metadata": {},
   "outputs": [],
   "source": [
    "#print(EBR_31CI_Array.shape)"
   ]
  },
  {
   "cell_type": "code",
   "execution_count": 6,
   "metadata": {},
   "outputs": [
    {
     "name": "stdout",
     "output_type": "stream",
     "text": [
      "# of total H37Rv positions: 4411532\n"
     ]
    }
   ],
   "source": [
    "print(\"# of total H37Rv positions:\", EBR_36CI_Array_A4.shape[0]  )"
   ]
  },
  {
   "cell_type": "code",
   "execution_count": 7,
   "metadata": {},
   "outputs": [
    {
     "name": "stdout",
     "output_type": "stream",
     "text": [
      "# of H37Rv positions w/ EBR < 1: 267471\n"
     ]
    },
    {
     "name": "stderr",
     "output_type": "stream",
     "text": [
      "/home/mm774/conda3/envs/py37_S/lib/python3.7/site-packages/ipykernel_launcher.py:1: RuntimeWarning: invalid value encountered in less\n",
      "  \"\"\"Entry point for launching an IPython kernel.\n"
     ]
    }
   ],
   "source": [
    "print(\"# of H37Rv positions w/ EBR < 1:\", EBR_36CI_Array_A4[ EBR_36CI_Array_A4 < 1].shape[0])    "
   ]
  },
  {
   "cell_type": "code",
   "execution_count": 8,
   "metadata": {},
   "outputs": [
    {
     "name": "stderr",
     "output_type": "stream",
     "text": [
      "/home/mm774/conda3/envs/py37_S/lib/python3.7/site-packages/ipykernel_launcher.py:1: RuntimeWarning: invalid value encountered in less\n",
      "  \"\"\"Entry point for launching an IPython kernel.\n"
     ]
    },
    {
     "data": {
      "text/plain": [
       "0.060629958028186125"
      ]
     },
     "execution_count": 8,
     "metadata": {},
     "output_type": "execute_result"
    }
   ],
   "source": [
    "EBR_36CI_Array_A4[ EBR_36CI_Array_A4 < 1].shape[0] /  EBR_36CI_Array_A4.shape[0]"
   ]
  },
  {
   "cell_type": "code",
   "execution_count": 9,
   "metadata": {},
   "outputs": [
    {
     "name": "stderr",
     "output_type": "stream",
     "text": [
      "/home/mm774/conda3/envs/py37_S/lib/python3.7/site-packages/ipykernel_launcher.py:1: RuntimeWarning: invalid value encountered in less\n",
      "  \"\"\"Entry point for launching an IPython kernel.\n"
     ]
    },
    {
     "data": {
      "text/plain": [
       "0.03752596603628853"
      ]
     },
     "execution_count": 9,
     "metadata": {},
     "output_type": "execute_result"
    }
   ],
   "source": [
    "EBR_36CI_Array_A4[ EBR_36CI_Array_A4 < 0.95].shape[0] /  EBR_36CI_Array_A4.shape[0]"
   ]
  },
  {
   "cell_type": "code",
   "execution_count": 10,
   "metadata": {},
   "outputs": [
    {
     "name": "stderr",
     "output_type": "stream",
     "text": [
      "/home/mm774/conda3/envs/py37_S/lib/python3.7/site-packages/ipykernel_launcher.py:1: RuntimeWarning: invalid value encountered in less\n",
      "  \"\"\"Entry point for launching an IPython kernel.\n"
     ]
    },
    {
     "data": {
      "text/plain": [
       "0.028594828281875775"
      ]
     },
     "execution_count": 10,
     "metadata": {},
     "output_type": "execute_result"
    }
   ],
   "source": [
    "EBR_36CI_Array_A4[ EBR_36CI_Array_A4 < 0.9].shape[0] /  EBR_36CI_Array_A4.shape[0]"
   ]
  },
  {
   "cell_type": "code",
   "execution_count": null,
   "metadata": {},
   "outputs": [],
   "source": []
  },
  {
   "cell_type": "code",
   "execution_count": null,
   "metadata": {},
   "outputs": [],
   "source": []
  },
  {
   "cell_type": "markdown",
   "metadata": {},
   "source": [
    "### Define directories of PMP-SM pipeline"
   ]
  },
  {
   "cell_type": "code",
   "execution_count": 11,
   "metadata": {},
   "outputs": [],
   "source": [
    "# Define varaint calling pipeline output directories\n",
    "\n",
    "PacBio_ProjectDir = \"/n/data1/hms/dbmi/farhat/mm774/Projects/PacBio_Evaluation_Project\"\n",
    "PMP_SM_Outputs_Dir = PacBio_ProjectDir + \"/PacmanPipe_SM_Outputs\"\n",
    "PMP_SM_TB_Portals_R1_Illumina_WGS_201201_OutputDir = PMP_SM_Outputs_Dir + \"/201201_PMP_SM_TB_Portals_R1_Output_V2\"     \n",
    "\n"
   ]
  },
  {
   "cell_type": "code",
   "execution_count": 12,
   "metadata": {
    "scrolled": true
   },
   "outputs": [
    {
     "name": "stderr",
     "output_type": "stream",
     "text": [
      "100%|██████████| 36/36 [02:22<00:00,  3.72s/it]\n"
     ]
    }
   ],
   "source": [
    "dictOf_EBR_IndivIsolate_DFs = {}\n",
    "\n",
    "#dictOf_EBR_IndivIsolate_NPYs = {}\n",
    "\n",
    "#dictOf_BED_DFs_IndivSample_EBRs = {}\n",
    "\n",
    "dictOf_EBR_Breakdown_Dicts = {}\n",
    "\n",
    "SumOf_EBR_Breakdown_Dicts = {\"Outcome_5\" : 0,\n",
    "                             \"Outcome_7\" : 0}\n",
    "\n",
    "\n",
    "sample_Counter = 1\n",
    "\n",
    "for SampleID in tqdm(SampleIDs_36CI_SOI):\n",
    "    \n",
    "    Sample_Output_Dir = PMP_SM_TB_Portals_R1_Illumina_WGS_201201_OutputDir + \"/\" + SampleID\n",
    "    \n",
    "    EBR_Output_Dir = f\"{Sample_Output_Dir}/EmpiricalBasePairRecall_Analysis_V7_PacBio_Vs_IlluminaPilon\"\n",
    "    \n",
    "    # Let's read in EBR TSV\n",
    "    i_EBR_Agreement_DF_TSV_PATH = f\"{EBR_Output_Dir}/EBR.V7.IndivIsolate.{SampleID}.tsv\"\n",
    "        \n",
    "    i_EBR_Outcome_Breakdown_Dict_JSON_PATH = f\"{EBR_Output_Dir}/EBR.V7.IndivIsolate.{SampleID}.OutcomeBreakdown.json\"        \n",
    "    \n",
    "    with open(i_EBR_Outcome_Breakdown_Dict_JSON_PATH) as json_file: i_count_EBR_Outcomes_Dict = json.load(json_file) \n",
    "    \n",
    "    i_EBR_DF = pd.read_csv(i_EBR_Agreement_DF_TSV_PATH, sep = \"\\t\" )\n",
    "\n",
    "    #i_EBR_WithAmbFilled_Array = i_EBR_DF[\"Agreement\"].fillna(\"Ambiguous\").values\n",
    "    \n",
    "    #dictOf_BED_DFs_IndivSample_EBRs[SampleID] = convert_GenomeNParray_To_BED_DF(i_EBR_WithAmbFilled_Array)\n",
    "    \n",
    "    \n",
    "    dictOf_EBR_IndivIsolate_DFs[SampleID] = i_EBR_DF\n",
    "\n",
    "    #dictOf_EBR_IndivIsolate_NPYs[SampleID] = i_EBR_DF[\"Agreement\"].values\n",
    "        \n",
    "    dictOf_EBR_Breakdown_Dicts[SampleID] = i_count_EBR_Outcomes_Dict\n",
    "\n",
    "    \n",
    "    SumOf_EBR_Breakdown_Dicts[\"Outcome_5\"] += i_count_EBR_Outcomes_Dict[\"Outcome_5\"]\n",
    "    SumOf_EBR_Breakdown_Dicts[\"Outcome_7\"] += i_count_EBR_Outcomes_Dict[\"Outcome_7\"]\n",
    "\n",
    "    \n",
    "    \n",
    "    "
   ]
  },
  {
   "cell_type": "code",
   "execution_count": null,
   "metadata": {},
   "outputs": [],
   "source": []
  },
  {
   "cell_type": "code",
   "execution_count": null,
   "metadata": {},
   "outputs": [],
   "source": []
  },
  {
   "cell_type": "code",
   "execution_count": null,
   "metadata": {},
   "outputs": [],
   "source": []
  },
  {
   "cell_type": "code",
   "execution_count": 17,
   "metadata": {},
   "outputs": [
    {
     "data": {
      "text/html": [
       "<div>\n",
       "<style scoped>\n",
       "    .dataframe tbody tr th:only-of-type {\n",
       "        vertical-align: middle;\n",
       "    }\n",
       "\n",
       "    .dataframe tbody tr th {\n",
       "        vertical-align: top;\n",
       "    }\n",
       "\n",
       "    .dataframe thead th {\n",
       "        text-align: right;\n",
       "    }\n",
       "</style>\n",
       "<table border=\"1\" class=\"dataframe\">\n",
       "  <thead>\n",
       "    <tr style=\"text-align: right;\">\n",
       "      <th></th>\n",
       "      <th>Agreement</th>\n",
       "      <th>Ill_Pilon_Tag</th>\n",
       "      <th>Ill_Pilon_TD</th>\n",
       "      <th>Ill_Pilon_DP</th>\n",
       "      <th>Ill_Pilon_MQ</th>\n",
       "    </tr>\n",
       "  </thead>\n",
       "  <tbody>\n",
       "    <tr>\n",
       "      <th>0</th>\n",
       "      <td>1.0</td>\n",
       "      <td>PASS</td>\n",
       "      <td>65.0</td>\n",
       "      <td>40.0</td>\n",
       "      <td>42.0</td>\n",
       "    </tr>\n",
       "    <tr>\n",
       "      <th>1</th>\n",
       "      <td>1.0</td>\n",
       "      <td>PASS</td>\n",
       "      <td>66.0</td>\n",
       "      <td>41.0</td>\n",
       "      <td>42.0</td>\n",
       "    </tr>\n",
       "    <tr>\n",
       "      <th>2</th>\n",
       "      <td>1.0</td>\n",
       "      <td>PASS</td>\n",
       "      <td>66.0</td>\n",
       "      <td>41.0</td>\n",
       "      <td>42.0</td>\n",
       "    </tr>\n",
       "    <tr>\n",
       "      <th>3</th>\n",
       "      <td>1.0</td>\n",
       "      <td>PASS</td>\n",
       "      <td>66.0</td>\n",
       "      <td>41.0</td>\n",
       "      <td>42.0</td>\n",
       "    </tr>\n",
       "    <tr>\n",
       "      <th>4</th>\n",
       "      <td>1.0</td>\n",
       "      <td>PASS</td>\n",
       "      <td>66.0</td>\n",
       "      <td>41.0</td>\n",
       "      <td>42.0</td>\n",
       "    </tr>\n",
       "  </tbody>\n",
       "</table>\n",
       "</div>"
      ],
      "text/plain": [
       "   Agreement Ill_Pilon_Tag  Ill_Pilon_TD  Ill_Pilon_DP  Ill_Pilon_MQ\n",
       "0        1.0          PASS          65.0          40.0          42.0\n",
       "1        1.0          PASS          66.0          41.0          42.0\n",
       "2        1.0          PASS          66.0          41.0          42.0\n",
       "3        1.0          PASS          66.0          41.0          42.0\n",
       "4        1.0          PASS          66.0          41.0          42.0"
      ]
     },
     "execution_count": 17,
     "metadata": {},
     "output_type": "execute_result"
    }
   ],
   "source": [
    "dictOf_EBR_IndivIsolate_DFs[\"N0153\"].head()"
   ]
  },
  {
   "cell_type": "code",
   "execution_count": null,
   "metadata": {},
   "outputs": [],
   "source": []
  },
  {
   "cell_type": "code",
   "execution_count": null,
   "metadata": {},
   "outputs": [],
   "source": []
  },
  {
   "cell_type": "code",
   "execution_count": 18,
   "metadata": {},
   "outputs": [
    {
     "data": {
      "text/plain": [
       "(1825385, 6)"
      ]
     },
     "execution_count": 18,
     "metadata": {},
     "output_type": "execute_result"
    }
   ],
   "source": [
    "ListOf_lowEBRpos_DFs = []\n",
    "pd.set_option('mode.chained_assignment', None)\n",
    "\n",
    "for SampleID in ( SampleIDs_36CI_SOI ) :\n",
    "    \n",
    "    i_EBR_DF = dictOf_EBR_IndivIsolate_DFs[SampleID]\n",
    "    \n",
    "    i_EBR_DF_lowEBRpos = i_EBR_DF[ i_EBR_DF[\"Agreement\"] == 0]\n",
    "        \n",
    "    i_EBR_DF_lowEBRpos[\"SampleID\"] = SampleID\n",
    "    \n",
    "    ListOf_lowEBRpos_DFs.append(i_EBR_DF_lowEBRpos)\n",
    "    \n",
    "    #print(SampleID, i_EBR_DF_lowEBRpos.shape)\n",
    "    \n",
    "ALL_lowEBRpos_36CI_DF = pd.concat(ListOf_lowEBRpos_DFs)\n",
    "ALL_lowEBRpos_36CI_DF.shape\n"
   ]
  },
  {
   "cell_type": "code",
   "execution_count": null,
   "metadata": {},
   "outputs": [],
   "source": []
  },
  {
   "cell_type": "code",
   "execution_count": 19,
   "metadata": {},
   "outputs": [
    {
     "data": {
      "text/html": [
       "<div>\n",
       "<style scoped>\n",
       "    .dataframe tbody tr th:only-of-type {\n",
       "        vertical-align: middle;\n",
       "    }\n",
       "\n",
       "    .dataframe tbody tr th {\n",
       "        vertical-align: top;\n",
       "    }\n",
       "\n",
       "    .dataframe thead th {\n",
       "        text-align: right;\n",
       "    }\n",
       "</style>\n",
       "<table border=\"1\" class=\"dataframe\">\n",
       "  <thead>\n",
       "    <tr style=\"text-align: right;\">\n",
       "      <th></th>\n",
       "      <th>Agreement</th>\n",
       "      <th>Ill_Pilon_Tag</th>\n",
       "      <th>Ill_Pilon_TD</th>\n",
       "      <th>Ill_Pilon_DP</th>\n",
       "      <th>Ill_Pilon_MQ</th>\n",
       "      <th>SampleID</th>\n",
       "    </tr>\n",
       "  </thead>\n",
       "  <tbody>\n",
       "    <tr>\n",
       "      <th>71335</th>\n",
       "      <td>0.0</td>\n",
       "      <td>Del;LowCov</td>\n",
       "      <td>4.0</td>\n",
       "      <td>4.0</td>\n",
       "      <td>60.0</td>\n",
       "      <td>M0011368_9</td>\n",
       "    </tr>\n",
       "    <tr>\n",
       "      <th>71336</th>\n",
       "      <td>0.0</td>\n",
       "      <td>Del;LowCov</td>\n",
       "      <td>4.0</td>\n",
       "      <td>4.0</td>\n",
       "      <td>60.0</td>\n",
       "      <td>M0011368_9</td>\n",
       "    </tr>\n",
       "    <tr>\n",
       "      <th>71337</th>\n",
       "      <td>0.0</td>\n",
       "      <td>Del;LowCov</td>\n",
       "      <td>4.0</td>\n",
       "      <td>4.0</td>\n",
       "      <td>60.0</td>\n",
       "      <td>M0011368_9</td>\n",
       "    </tr>\n",
       "  </tbody>\n",
       "</table>\n",
       "</div>"
      ],
      "text/plain": [
       "       Agreement Ill_Pilon_Tag  Ill_Pilon_TD  Ill_Pilon_DP  Ill_Pilon_MQ    SampleID\n",
       "71335        0.0    Del;LowCov           4.0           4.0          60.0  M0011368_9\n",
       "71336        0.0    Del;LowCov           4.0           4.0          60.0  M0011368_9\n",
       "71337        0.0    Del;LowCov           4.0           4.0          60.0  M0011368_9"
      ]
     },
     "execution_count": 19,
     "metadata": {},
     "output_type": "execute_result"
    }
   ],
   "source": [
    "ALL_lowEBRpos_36CI_DF.head(3)"
   ]
  },
  {
   "cell_type": "code",
   "execution_count": null,
   "metadata": {},
   "outputs": [],
   "source": []
  },
  {
   "cell_type": "code",
   "execution_count": null,
   "metadata": {},
   "outputs": [],
   "source": []
  },
  {
   "cell_type": "code",
   "execution_count": 20,
   "metadata": {},
   "outputs": [
    {
     "data": {
      "text/plain": [
       "1825385"
      ]
     },
     "execution_count": 20,
     "metadata": {},
     "output_type": "execute_result"
    }
   ],
   "source": [
    "ALL_lowEBRpos_36CI_DF[\"Ill_Pilon_Tag\"].value_counts().sum()"
   ]
  },
  {
   "cell_type": "code",
   "execution_count": 21,
   "metadata": {},
   "outputs": [
    {
     "data": {
      "text/plain": [
       "LowCov            1145079\n",
       "Del;LowCov         302826\n",
       "Del                257423\n",
       "PASS               114517\n",
       "Amb                  3773\n",
       "Amb;LowCov            858\n",
       "Del;Amb               719\n",
       "Del;Amb;LowCov        190\n",
       "Name: Ill_Pilon_Tag, dtype: int64"
      ]
     },
     "execution_count": 21,
     "metadata": {},
     "output_type": "execute_result"
    }
   ],
   "source": [
    "ALL_lowEBRpos_36CI_DF[\"Ill_Pilon_Tag\"].value_counts()"
   ]
  },
  {
   "cell_type": "code",
   "execution_count": 22,
   "metadata": {},
   "outputs": [
    {
     "data": {
      "text/plain": [
       "LowCov            0.627308\n",
       "Del;LowCov        0.165897\n",
       "Del               0.141024\n",
       "PASS              0.062736\n",
       "Amb               0.002067\n",
       "Amb;LowCov        0.000470\n",
       "Del;Amb           0.000394\n",
       "Del;Amb;LowCov    0.000104\n",
       "Name: Ill_Pilon_Tag, dtype: float64"
      ]
     },
     "execution_count": 22,
     "metadata": {},
     "output_type": "execute_result"
    }
   ],
   "source": [
    "ALL_lowEBRpos_36CI_DF[\"Ill_Pilon_Tag\"].value_counts(normalize=True)"
   ]
  },
  {
   "cell_type": "code",
   "execution_count": null,
   "metadata": {},
   "outputs": [],
   "source": []
  },
  {
   "cell_type": "code",
   "execution_count": 23,
   "metadata": {},
   "outputs": [],
   "source": [
    "\n",
    "PilonTags_For_Del_Classification = [\"Del\", \"Del;LowCov\", \"Del;Amb\", \"Del;Amb;LowCov\"]\n",
    "\n",
    "#PilonTags_For_LowCov_Classification = [\"LowCov\",\"Amb;LowCov\",]\n",
    "\n",
    "#PilonTags_For_LowCov_Classification = [\"LowCov\", \"Del;LowCov\", \"Amb;LowCov\", \"Del;Amb;LowCov\"]\n",
    "\n",
    "\n",
    "PilonTags_For_LowCov_Classification = [\"LowCov\",\"Amb;LowCov\",]\n",
    "\n",
    "\n",
    "PilonTags_For_Amb_Classification = [\"Amb\"]\n",
    "\n",
    "PilonTags_For_PASS_Classification = [\"PASS\"]\n",
    "\n"
   ]
  },
  {
   "cell_type": "code",
   "execution_count": 24,
   "metadata": {},
   "outputs": [],
   "source": [
    "Del_Class_lowEBRpos_36CI_DF = ALL_lowEBRpos_36CI_DF[ ALL_lowEBRpos_36CI_DF[\"Ill_Pilon_Tag\"].isin(PilonTags_For_Del_Classification) ]\n",
    "\n",
    "LowCov_Class_lowEBRpos_36CI_DF = ALL_lowEBRpos_36CI_DF[ ALL_lowEBRpos_36CI_DF[\"Ill_Pilon_Tag\"].isin(PilonTags_For_LowCov_Classification) ]\n",
    "\n",
    "Amb_Class_lowEBRpos_36CI_DF = ALL_lowEBRpos_36CI_DF[ ALL_lowEBRpos_36CI_DF[\"Ill_Pilon_Tag\"].isin([\"Amb\"]) ]\n",
    "\n",
    "PASS_Class_lowEBRpos_36CI_DF = ALL_lowEBRpos_36CI_DF[ ALL_lowEBRpos_36CI_DF[\"Ill_Pilon_Tag\"].isin([\"PASS\"]) ]\n"
   ]
  },
  {
   "cell_type": "code",
   "execution_count": null,
   "metadata": {},
   "outputs": [],
   "source": []
  },
  {
   "cell_type": "code",
   "execution_count": null,
   "metadata": {},
   "outputs": [],
   "source": []
  },
  {
   "cell_type": "code",
   "execution_count": 25,
   "metadata": {},
   "outputs": [
    {
     "data": {
      "text/plain": [
       "1825385"
      ]
     },
     "execution_count": 25,
     "metadata": {},
     "output_type": "execute_result"
    }
   ],
   "source": [
    "ALL_lowEBRpos_36CI_DF[\"Ill_Pilon_Tag\"].value_counts().sum()"
   ]
  },
  {
   "cell_type": "markdown",
   "metadata": {},
   "source": [
    "# What are the breakdown Pilon tags associated with positions of poor recall. "
   ]
  },
  {
   "cell_type": "markdown",
   "metadata": {},
   "source": [
    "### A) How many low recall positions were FALSE deletion calls (Del)?"
   ]
  },
  {
   "cell_type": "code",
   "execution_count": 26,
   "metadata": {},
   "outputs": [
    {
     "data": {
      "text/plain": [
       "(561158, 6)"
      ]
     },
     "execution_count": 26,
     "metadata": {},
     "output_type": "execute_result"
    }
   ],
   "source": [
    "Del_Class_lowEBRpos_36CI_DF.shape"
   ]
  },
  {
   "cell_type": "code",
   "execution_count": 27,
   "metadata": {},
   "outputs": [
    {
     "data": {
      "text/plain": [
       "0.30741898284471497"
      ]
     },
     "execution_count": 27,
     "metadata": {},
     "output_type": "execute_result"
    }
   ],
   "source": [
    "Del_Class_lowEBRpos_36CI_DF.shape[0] / ALL_lowEBRpos_36CI_DF.shape[0]"
   ]
  },
  {
   "cell_type": "markdown",
   "metadata": {},
   "source": [
    "### B) How many low recall positions were tagged as LowCov (with no deletion call)?"
   ]
  },
  {
   "cell_type": "code",
   "execution_count": 28,
   "metadata": {},
   "outputs": [
    {
     "data": {
      "text/plain": [
       "(1145937, 6)"
      ]
     },
     "execution_count": 28,
     "metadata": {},
     "output_type": "execute_result"
    }
   ],
   "source": [
    "LowCov_Class_lowEBRpos_36CI_DF.shape"
   ]
  },
  {
   "cell_type": "code",
   "execution_count": 29,
   "metadata": {},
   "outputs": [
    {
     "data": {
      "text/plain": [
       "0.6277782495199643"
      ]
     },
     "execution_count": 29,
     "metadata": {},
     "output_type": "execute_result"
    }
   ],
   "source": [
    "LowCov_Class_lowEBRpos_36CI_DF.shape[0] / ALL_lowEBRpos_36CI_DF.shape[0]"
   ]
  },
  {
   "cell_type": "markdown",
   "metadata": {},
   "source": [
    "### C) How many low recall positions were tagged as Amb (with no Del or LowCov tag)?"
   ]
  },
  {
   "cell_type": "code",
   "execution_count": 30,
   "metadata": {},
   "outputs": [
    {
     "data": {
      "text/plain": [
       "(3773, 6)"
      ]
     },
     "execution_count": 30,
     "metadata": {},
     "output_type": "execute_result"
    }
   ],
   "source": [
    "Amb_Class_lowEBRpos_36CI_DF.shape"
   ]
  },
  {
   "cell_type": "code",
   "execution_count": 31,
   "metadata": {},
   "outputs": [
    {
     "data": {
      "text/plain": [
       "0.0020669612164009236"
      ]
     },
     "execution_count": 31,
     "metadata": {},
     "output_type": "execute_result"
    }
   ],
   "source": [
    "Amb_Class_lowEBRpos_36CI_DF.shape[0] / ALL_lowEBRpos_36CI_DF.shape[0]"
   ]
  },
  {
   "cell_type": "markdown",
   "metadata": {},
   "source": [
    "### D) How many low recall positions were FALSEY tagged as PASS?"
   ]
  },
  {
   "cell_type": "code",
   "execution_count": 32,
   "metadata": {},
   "outputs": [
    {
     "data": {
      "text/plain": [
       "(114517, 6)"
      ]
     },
     "execution_count": 32,
     "metadata": {},
     "output_type": "execute_result"
    }
   ],
   "source": [
    "PASS_Class_lowEBRpos_36CI_DF.shape"
   ]
  },
  {
   "cell_type": "code",
   "execution_count": 33,
   "metadata": {},
   "outputs": [
    {
     "data": {
      "text/plain": [
       "0.06273580641891985"
      ]
     },
     "execution_count": 33,
     "metadata": {},
     "output_type": "execute_result"
    }
   ],
   "source": [
    "PASS_Class_lowEBRpos_36CI_DF.shape[0] / ALL_lowEBRpos_36CI_DF.shape[0]"
   ]
  },
  {
   "cell_type": "code",
   "execution_count": 13,
   "metadata": {},
   "outputs": [
    {
     "data": {
      "text/plain": [
       "{'Outcome_5': 669, 'Outcome_7': 113848}"
      ]
     },
     "execution_count": 13,
     "metadata": {},
     "output_type": "execute_result"
    }
   ],
   "source": [
    "SumOf_EBR_Breakdown_Dicts"
   ]
  },
  {
   "cell_type": "code",
   "execution_count": 63,
   "metadata": {},
   "outputs": [
    {
     "data": {
      "text/plain": [
       "114517"
      ]
     },
     "execution_count": 63,
     "metadata": {},
     "output_type": "execute_result"
    }
   ],
   "source": [
    "669 + 113848"
   ]
  },
  {
   "cell_type": "code",
   "execution_count": 64,
   "metadata": {},
   "outputs": [
    {
     "data": {
      "text/plain": [
       "0.0003664980264437365"
      ]
     },
     "execution_count": 64,
     "metadata": {},
     "output_type": "execute_result"
    }
   ],
   "source": [
    "669 / ALL_lowEBRpos_36CI_DF.shape[0]"
   ]
  },
  {
   "cell_type": "code",
   "execution_count": 65,
   "metadata": {},
   "outputs": [
    {
     "data": {
      "text/plain": [
       "0.062369308392476105"
      ]
     },
     "execution_count": 65,
     "metadata": {},
     "output_type": "execute_result"
    }
   ],
   "source": [
    "113848 / ALL_lowEBRpos_36CI_DF.shape[0] "
   ]
  },
  {
   "cell_type": "code",
   "execution_count": null,
   "metadata": {},
   "outputs": [],
   "source": []
  },
  {
   "cell_type": "code",
   "execution_count": null,
   "metadata": {},
   "outputs": [],
   "source": []
  },
  {
   "cell_type": "code",
   "execution_count": null,
   "metadata": {},
   "outputs": [],
   "source": []
  },
  {
   "cell_type": "markdown",
   "metadata": {},
   "source": [
    "## Verify that total counts match up"
   ]
  },
  {
   "cell_type": "code",
   "execution_count": 49,
   "metadata": {},
   "outputs": [
    {
     "data": {
      "text/plain": [
       "1825385"
      ]
     },
     "execution_count": 49,
     "metadata": {},
     "output_type": "execute_result"
    }
   ],
   "source": [
    "ALL_lowEBRpos_36CI_DF[\"Ill_Pilon_Tag\"].value_counts().sum()"
   ]
  },
  {
   "cell_type": "code",
   "execution_count": 50,
   "metadata": {},
   "outputs": [
    {
     "data": {
      "text/plain": [
       "1825385"
      ]
     },
     "execution_count": 50,
     "metadata": {},
     "output_type": "execute_result"
    }
   ],
   "source": [
    "Del_Class_lowEBRpos_36CI_DF.shape[0]+ LowCov_Class_lowEBRpos_36CI_DF.shape[0] + Amb_Class_lowEBRpos_36CI_DF.shape[0] + PASS_Class_lowEBRpos_36CI_DF.shape[0]"
   ]
  },
  {
   "cell_type": "code",
   "execution_count": null,
   "metadata": {},
   "outputs": [],
   "source": []
  },
  {
   "cell_type": "code",
   "execution_count": 51,
   "metadata": {},
   "outputs": [
    {
     "data": {
      "text/html": [
       "<div>\n",
       "<style scoped>\n",
       "    .dataframe tbody tr th:only-of-type {\n",
       "        vertical-align: middle;\n",
       "    }\n",
       "\n",
       "    .dataframe tbody tr th {\n",
       "        vertical-align: top;\n",
       "    }\n",
       "\n",
       "    .dataframe thead th {\n",
       "        text-align: right;\n",
       "    }\n",
       "</style>\n",
       "<table border=\"1\" class=\"dataframe\">\n",
       "  <thead>\n",
       "    <tr style=\"text-align: right;\">\n",
       "      <th></th>\n",
       "      <th>Agreement</th>\n",
       "      <th>Ill_Pilon_Tag</th>\n",
       "      <th>Ill_Pilon_TD</th>\n",
       "      <th>Ill_Pilon_DP</th>\n",
       "      <th>Ill_Pilon_MQ</th>\n",
       "      <th>SampleID</th>\n",
       "    </tr>\n",
       "  </thead>\n",
       "  <tbody>\n",
       "    <tr>\n",
       "      <th>71335</th>\n",
       "      <td>0.0</td>\n",
       "      <td>Del;LowCov</td>\n",
       "      <td>4.0</td>\n",
       "      <td>4.0</td>\n",
       "      <td>60.0</td>\n",
       "      <td>M0011368_9</td>\n",
       "    </tr>\n",
       "    <tr>\n",
       "      <th>71336</th>\n",
       "      <td>0.0</td>\n",
       "      <td>Del;LowCov</td>\n",
       "      <td>4.0</td>\n",
       "      <td>4.0</td>\n",
       "      <td>60.0</td>\n",
       "      <td>M0011368_9</td>\n",
       "    </tr>\n",
       "    <tr>\n",
       "      <th>71337</th>\n",
       "      <td>0.0</td>\n",
       "      <td>Del;LowCov</td>\n",
       "      <td>4.0</td>\n",
       "      <td>4.0</td>\n",
       "      <td>60.0</td>\n",
       "      <td>M0011368_9</td>\n",
       "    </tr>\n",
       "    <tr>\n",
       "      <th>71338</th>\n",
       "      <td>0.0</td>\n",
       "      <td>Del;LowCov</td>\n",
       "      <td>4.0</td>\n",
       "      <td>4.0</td>\n",
       "      <td>60.0</td>\n",
       "      <td>M0011368_9</td>\n",
       "    </tr>\n",
       "    <tr>\n",
       "      <th>71339</th>\n",
       "      <td>0.0</td>\n",
       "      <td>Del;LowCov</td>\n",
       "      <td>4.0</td>\n",
       "      <td>4.0</td>\n",
       "      <td>60.0</td>\n",
       "      <td>M0011368_9</td>\n",
       "    </tr>\n",
       "  </tbody>\n",
       "</table>\n",
       "</div>"
      ],
      "text/plain": [
       "       Agreement Ill_Pilon_Tag  Ill_Pilon_TD  Ill_Pilon_DP  Ill_Pilon_MQ    SampleID\n",
       "71335        0.0    Del;LowCov           4.0           4.0          60.0  M0011368_9\n",
       "71336        0.0    Del;LowCov           4.0           4.0          60.0  M0011368_9\n",
       "71337        0.0    Del;LowCov           4.0           4.0          60.0  M0011368_9\n",
       "71338        0.0    Del;LowCov           4.0           4.0          60.0  M0011368_9\n",
       "71339        0.0    Del;LowCov           4.0           4.0          60.0  M0011368_9"
      ]
     },
     "execution_count": 51,
     "metadata": {},
     "output_type": "execute_result"
    }
   ],
   "source": [
    "ALL_lowEBRpos_36CI_DF.head()"
   ]
  },
  {
   "cell_type": "code",
   "execution_count": 52,
   "metadata": {},
   "outputs": [],
   "source": [
    "\n",
    "AllPilonTags_Containing_LowCov_Classification = [\"LowCov\", \"Del;LowCov\", \"Amb;LowCov\", \"Del;Amb;LowCov\"]\n",
    "\n",
    "\n",
    "lowEBRpos_36CI_AllPositionsWithAnyLowCovTag_DF = ALL_lowEBRpos_36CI_DF[ ALL_lowEBRpos_36CI_DF[\"Ill_Pilon_Tag\"].isin(AllPilonTags_Containing_LowCov_Classification ) ]      \n",
    "\n",
    "lowEBRpos_36CI_LowCov_MQZero_DF = LowCov_Class_lowEBRpos_36CI_DF.query(\"(Ill_Pilon_TD >= 5) & (Ill_Pilon_DP < 5) & (Ill_Pilon_MQ == 0) \")\n",
    "lowEBRpos_36CI_LowCov_InvalidPairs_DF = LowCov_Class_lowEBRpos_36CI_DF.query(\"(Ill_Pilon_TD >= 5) & (Ill_Pilon_DP < 5) & (Ill_Pilon_MQ > 0) \")      \n",
    "lowEBRpos_36CI_LowCov_Insufficient_TotalCov_DF = LowCov_Class_lowEBRpos_36CI_DF.query(\"(Ill_Pilon_TD < 5)  \")\n",
    "\n"
   ]
  },
  {
   "cell_type": "markdown",
   "metadata": {},
   "source": [
    "## How much total low-EBR positions have the LowCov tag?\n",
    "Answer: 1,446,305"
   ]
  },
  {
   "cell_type": "code",
   "execution_count": 53,
   "metadata": {},
   "outputs": [
    {
     "data": {
      "text/plain": [
       "(1145937, 6)"
      ]
     },
     "execution_count": 53,
     "metadata": {},
     "output_type": "execute_result"
    }
   ],
   "source": [
    "LowCov_Class_lowEBRpos_36CI_DF.shape"
   ]
  },
  {
   "cell_type": "markdown",
   "metadata": {},
   "source": [
    "## How much total low-EBR positions have the LowCov and had insufficient total depth ?\n",
    "Answer: ____ (__% of all Low-EBR and LowCov positions)"
   ]
  },
  {
   "cell_type": "code",
   "execution_count": 54,
   "metadata": {},
   "outputs": [
    {
     "data": {
      "text/plain": [
       "(525373, 6)"
      ]
     },
     "execution_count": 54,
     "metadata": {},
     "output_type": "execute_result"
    }
   ],
   "source": [
    "lowEBRpos_36CI_LowCov_Insufficient_TotalCov_DF.shape"
   ]
  },
  {
   "cell_type": "code",
   "execution_count": 55,
   "metadata": {},
   "outputs": [
    {
     "data": {
      "text/plain": [
       "0.45846586679721485"
      ]
     },
     "execution_count": 55,
     "metadata": {},
     "output_type": "execute_result"
    }
   ],
   "source": [
    "lowEBRpos_36CI_LowCov_Insufficient_TotalCov_DF.shape[0] / LowCov_Class_lowEBRpos_36CI_DF.shape[0]"
   ]
  },
  {
   "cell_type": "markdown",
   "metadata": {},
   "source": [
    "## How much total low-EBR positions have the LowCov and had insufficient depth due to MQ = 0 ?\n",
    "Answer: 316,473 (27.6% of all Low-EBR and LowCov positions)"
   ]
  },
  {
   "cell_type": "code",
   "execution_count": 56,
   "metadata": {},
   "outputs": [
    {
     "data": {
      "text/plain": [
       "(316304, 6)"
      ]
     },
     "execution_count": 56,
     "metadata": {},
     "output_type": "execute_result"
    }
   ],
   "source": [
    "lowEBRpos_36CI_LowCov_MQZero_DF.shape"
   ]
  },
  {
   "cell_type": "code",
   "execution_count": 57,
   "metadata": {},
   "outputs": [
    {
     "data": {
      "text/plain": [
       "0.2760221547955952"
      ]
     },
     "execution_count": 57,
     "metadata": {},
     "output_type": "execute_result"
    }
   ],
   "source": [
    "lowEBRpos_36CI_LowCov_MQZero_DF.shape[0] / LowCov_Class_lowEBRpos_36CI_DF.shape[0]"
   ]
  },
  {
   "cell_type": "markdown",
   "metadata": {},
   "source": [
    "## How much total low-EBR positions have the LowCov and had insufficient depth due to Invalid Pairs (MQ > 0)?\n",
    "Answer: _____ (__% of all Low-EBR and LowCov positions)"
   ]
  },
  {
   "cell_type": "code",
   "execution_count": 58,
   "metadata": {},
   "outputs": [
    {
     "data": {
      "text/plain": [
       "(304260, 6)"
      ]
     },
     "execution_count": 58,
     "metadata": {},
     "output_type": "execute_result"
    }
   ],
   "source": [
    "lowEBRpos_36CI_LowCov_InvalidPairs_DF.shape"
   ]
  },
  {
   "cell_type": "code",
   "execution_count": 59,
   "metadata": {},
   "outputs": [
    {
     "data": {
      "text/plain": [
       "0.26551197840718993"
      ]
     },
     "execution_count": 59,
     "metadata": {},
     "output_type": "execute_result"
    }
   ],
   "source": [
    "lowEBRpos_36CI_LowCov_InvalidPairs_DF.shape[0] / LowCov_Class_lowEBRpos_36CI_DF.shape[0]"
   ]
  },
  {
   "cell_type": "code",
   "execution_count": null,
   "metadata": {},
   "outputs": [],
   "source": []
  },
  {
   "cell_type": "code",
   "execution_count": null,
   "metadata": {},
   "outputs": [],
   "source": []
  },
  {
   "cell_type": "markdown",
   "metadata": {},
   "source": [
    "### Verify that total counts add up (For LowCov - LowEBR positions)"
   ]
  },
  {
   "cell_type": "code",
   "execution_count": 60,
   "metadata": {},
   "outputs": [
    {
     "data": {
      "text/plain": [
       "1145937"
      ]
     },
     "execution_count": 60,
     "metadata": {},
     "output_type": "execute_result"
    }
   ],
   "source": [
    "LowCov_Class_lowEBRpos_36CI_DF.shape[0]"
   ]
  },
  {
   "cell_type": "code",
   "execution_count": 61,
   "metadata": {},
   "outputs": [
    {
     "data": {
      "text/plain": [
       "1145937"
      ]
     },
     "execution_count": 61,
     "metadata": {},
     "output_type": "execute_result"
    }
   ],
   "source": [
    "lowEBRpos_36CI_LowCov_Insufficient_TotalCov_DF.shape[0] + lowEBRpos_36CI_LowCov_InvalidPairs_DF.shape[0] + lowEBRpos_36CI_LowCov_MQZero_DF.shape[0]"
   ]
  },
  {
   "cell_type": "code",
   "execution_count": null,
   "metadata": {},
   "outputs": [],
   "source": []
  },
  {
   "cell_type": "code",
   "execution_count": null,
   "metadata": {},
   "outputs": [],
   "source": []
  },
  {
   "cell_type": "code",
   "execution_count": null,
   "metadata": {},
   "outputs": [],
   "source": []
  },
  {
   "cell_type": "code",
   "execution_count": null,
   "metadata": {},
   "outputs": [],
   "source": []
  },
  {
   "cell_type": "code",
   "execution_count": null,
   "metadata": {},
   "outputs": [],
   "source": []
  },
  {
   "cell_type": "code",
   "execution_count": null,
   "metadata": {},
   "outputs": [],
   "source": []
  }
 ],
 "metadata": {
  "kernelspec": {
   "display_name": "py37_S",
   "language": "python",
   "name": "py37_s"
  },
  "language_info": {
   "codemirror_mode": {
    "name": "ipython",
    "version": 3
   },
   "file_extension": ".py",
   "mimetype": "text/x-python",
   "name": "python",
   "nbconvert_exporter": "python",
   "pygments_lexer": "ipython3",
   "version": "3.7.3"
  }
 },
 "nbformat": 4,
 "nbformat_minor": 4
}
