{
 "cells": [
  {
   "cell_type": "markdown",
   "metadata": {},
   "source": [
    "## Defining NEW Refine Low Confidence (RLC) Regions of the MTb genome\n",
    "\n",
    "### Maximillian Marin (mgmarin@g.harvard.edu)\n",
    "\n",
    "### Goal: To output (in BED format) the NEW refined low confidence regions of the Mtb genome.\n",
    "\n",
    "We are defining the RLC regions as follows: <br>\n",
    "   A) Genes and Intergenic Regions with the highest density of FPs\n",
    "\n",
    "   B) Regions which have EBR < 0.9\n",
    "    \n",
    "   C) Regions which were frequenly \"Ambigously defined\"  ground truths due to DUPLICATION or high sequence divergence from H37Rv.\n",
    "\n",
    "**NOTE: Exclusion of these regions does not necessarily mean that Illumina WGS can never accurately variant call these regions. Instead, these definitions highlight any regions which has evidence of difficulty and inconsistent analysis.**\n",
    "\n",
    "This approach is conservative and attempts to minimize the greatest sources of error, as well as remove regions which due to divergence from the reference genome, it is difficult to confidently define a ground truth even with a long read assembly.\n",
    "\n",
    "“The refined low confidence regions are defined to account for the largest sources of error and uncertainty in analysis of Illumina WGS. The refined low confidence regions contain: a) all false positives variant hotspots identified (50 kb), b) poorly recalled positions as identified using Empirical Base Pair Recall, and c) regions containing strong sequence divergence or CNV relative to H37Rv.”\n",
    "\n"
   ]
  },
  {
   "cell_type": "code",
   "execution_count": null,
   "metadata": {},
   "outputs": [],
   "source": []
  },
  {
   "cell_type": "code",
   "execution_count": 1,
   "metadata": {},
   "outputs": [],
   "source": [
    "import numpy as np\n",
    "import pandas as pd\n",
    "from tqdm import tqdm\n",
    "import matplotlib.pyplot as plt\n",
    "import seaborn as sns\n",
    "import pickle\n",
    "from scipy import stats\n",
    "# import gffutils\n",
    "\n",
    "%matplotlib inline"
   ]
  },
  {
   "cell_type": "markdown",
   "metadata": {},
   "source": [
    "#### Pandas Viewing Settings"
   ]
  },
  {
   "cell_type": "code",
   "execution_count": 2,
   "metadata": {},
   "outputs": [],
   "source": [
    "pd.set_option('display.max_rows', 500)\n",
    "pd.set_option('display.max_columns', 500)\n",
    "pd.set_option('display.width', 1000)"
   ]
  },
  {
   "cell_type": "code",
   "execution_count": null,
   "metadata": {},
   "outputs": [],
   "source": []
  },
  {
   "cell_type": "markdown",
   "metadata": {},
   "source": [
    "## Define Directories"
   ]
  },
  {
   "cell_type": "code",
   "execution_count": 3,
   "metadata": {},
   "outputs": [],
   "source": [
    "PB_Vs_Illumina_DataAnalysis_Dir = \"../../../210112_PBvsI_VCeval_AnalysisDir_V7_36CI\"\n",
    "\n",
    "\n",
    "\n",
    "Genmap_Map_AnalysisDir = PB_Vs_Illumina_DataAnalysis_Dir + \"/201027_Genmap_Mappability_H37rv_V1\"  \n",
    "\n",
    "FalsePositive_Analysis_V2_Dir = PB_Vs_Illumina_DataAnalysis_Dir + \"/210126_FalsePositivesAnalysis_V4\"  \n",
    "\n",
    "PBvIll_EBR_Dir = PB_Vs_Illumina_DataAnalysis_Dir + \"/210112_EBR_H37rv_36CI_MM2vsPilon_V7\"         \n",
    "\n"
   ]
  },
  {
   "cell_type": "code",
   "execution_count": null,
   "metadata": {},
   "outputs": [],
   "source": []
  },
  {
   "cell_type": "code",
   "execution_count": null,
   "metadata": {},
   "outputs": [],
   "source": []
  },
  {
   "cell_type": "code",
   "execution_count": null,
   "metadata": {},
   "outputs": [],
   "source": []
  },
  {
   "cell_type": "markdown",
   "metadata": {},
   "source": [
    "# Parse in BED file annotations of H37Rv genome (PLC groups)"
   ]
  },
  {
   "cell_type": "code",
   "execution_count": 4,
   "metadata": {},
   "outputs": [],
   "source": [
    "RepoRef_Dir = \"../../References\"\n",
    "pLC_ExcludedRegionsScheme_RepoRef_Dir = f\"{RepoRef_Dir}/pLowConfideceRegions_CoscollaEtAlScheme_Files\"\n",
    "\n",
    "\n",
    "Mtb_H37rv_pLCRegions_Coscolla_BED_PATH = f\"{pLC_ExcludedRegionsScheme_RepoRef_Dir}/201027_Mtb_H37rv_pLC_Regions_CoscollaExcludedGenes.bed\"\n",
    "\n",
    "Mtb_H37rv_pLCRegions_Coscolla_Subset_PEPPEs_BED_PATH = f\"{pLC_ExcludedRegionsScheme_RepoRef_Dir}/201027_Mtb_H37rv_pLC_Regions_CoscollaExcludedGenes.PEPPEs.bed\"\n",
    "\n",
    "Mtb_H37rv_pLCRegions_Coscolla_Subset_MGEs_BED_PATH = f\"{pLC_ExcludedRegionsScheme_RepoRef_Dir}/201027_Mtb_H37rv_pLC_Regions_CoscollaExcludedGenes.MGEs.bed\"\n",
    "\n",
    "Mtb_H37rv_pLCRegions_Coscolla_Subset_RepetitiveGenes_BED_PATH = f\"{pLC_ExcludedRegionsScheme_RepoRef_Dir}/201027_Mtb_H37rv_pLC_Regions_CoscollaExcludedGenes.RepetitiveGenes.bed\"\n",
    "\n",
    "Mtb_H37rv_pLCRegions_Only_PE_PGRS_And_PPE_MPTR_BED_PATH = f\"{pLC_ExcludedRegionsScheme_RepoRef_Dir}/201027_Mtb_H37rv_pLC_Regions_Subset_For_PE_PGRS_And_PPE_MPTR_Only_85_genes.bed\"\n",
    "\n",
    "Mtb_H37rv_pLCRegions_Coscolla_BED_MERGED_PATH = f\"{pLC_ExcludedRegionsScheme_RepoRef_Dir}/201027_Mtb_H37rv_pLC_Regions_CoscollaExcludedRegion.Merged.bed\"\n",
    "\n",
    "Mtb_H37rv_HighConfidenceRegions_NONCoscollaRegions_BED_PATH = f\"{pLC_ExcludedRegionsScheme_RepoRef_Dir}/201027_Mtb_H37rv_HighConfidence_Regions_NONpLC_Regions.bed\"\n"
   ]
  },
  {
   "cell_type": "code",
   "execution_count": 5,
   "metadata": {},
   "outputs": [
    {
     "name": "stdout",
     "output_type": "stream",
     "text": [
      "NC_000962.3\t33581\t33794\tRv0031\tRv0031\tInsertionSeqs_And_Phages\tNone\n",
      "NC_000962.3\t103709\t104663\tRv0094c\tRv0094c\tInsertionSeqs_And_Phages\tNone\n",
      "NC_000962.3\t104804\t105215\tRv0095c\tRv0095c\tInsertionSeqs_And_Phages\tNone\n",
      "NC_000962.3\t105323\t106715\tRv0096\tPPE1\tPE/PPEs\tPPE_SL-2_PPE-PPW\n",
      "NC_000962.3\t131381\t132872\tRv0109\tPE_PGRS1\tPE/PPEs\tPE_V_PGRS\n",
      "NC_000962.3\t149532\t150996\tRv0124\tPE_PGRS2\tPE/PPEs\tPE_V_PGRS\n",
      "NC_000962.3\t177542\t179309\tRv0151c\tPE1\tPE/PPEs\tPE_V_\n",
      "NC_000962.3\t179318\t180896\tRv0152c\tPE2\tPE/PPEs\tPE_V_\n",
      "NC_000962.3\t187432\t188839\tRv0159c\tPE3\tPE/PPEs\tPE_V_\n",
      "NC_000962.3\t188930\t190439\tRv0160c\tPE4\tPE/PPEs\tPE_V_\n"
     ]
    }
   ],
   "source": [
    "!head $Mtb_H37rv_pLCRegions_Coscolla_BED_PATH"
   ]
  },
  {
   "cell_type": "code",
   "execution_count": null,
   "metadata": {},
   "outputs": [],
   "source": []
  },
  {
   "cell_type": "code",
   "execution_count": 6,
   "metadata": {},
   "outputs": [],
   "source": [
    "#HighConfidenceRegions_BED_DF = pd.read_csv(Mtb_H37rv_HighConfidenceRegions_NONCoscollaRegions_BED_PATH, sep = \"\\t\", header = None)\n",
    "#HighConfidenceRegions_BED_DF.columns = [\"Chrom\", \"Start\", \"End\"]\n",
    "#HighConfidenceRegions_BED_DF[\"Length\"] = HighConfidenceRegions_BED_DF[\"End\"] - HighConfidenceRegions_BED_DF[\"Start\"]\n",
    "#HighConfidenceRegions_BED_DF.shape"
   ]
  },
  {
   "cell_type": "code",
   "execution_count": 7,
   "metadata": {},
   "outputs": [],
   "source": [
    "#HighConfidenceRegions_BED_DF.head()"
   ]
  },
  {
   "cell_type": "code",
   "execution_count": 8,
   "metadata": {},
   "outputs": [
    {
     "data": {
      "text/plain": [
       "(330, 4)"
      ]
     },
     "execution_count": 8,
     "metadata": {},
     "output_type": "execute_result"
    }
   ],
   "source": [
    "LowConfidenceRegions_BED_DF = pd.read_csv(Mtb_H37rv_pLCRegions_Coscolla_BED_MERGED_PATH, sep = \"\\t\", header = None)\n",
    "LowConfidenceRegions_BED_DF.columns = [\"Chrom\", \"Start\", \"End\"]\n",
    "LowConfidenceRegions_BED_DF[\"Length\"] = LowConfidenceRegions_BED_DF[\"End\"] - LowConfidenceRegions_BED_DF[\"Start\"]\n",
    "LowConfidenceRegions_BED_DF.shape"
   ]
  },
  {
   "cell_type": "code",
   "execution_count": 9,
   "metadata": {},
   "outputs": [],
   "source": [
    "#LowConfidenceRegions_BED_DF.head()"
   ]
  },
  {
   "cell_type": "code",
   "execution_count": null,
   "metadata": {},
   "outputs": [],
   "source": []
  },
  {
   "cell_type": "markdown",
   "metadata": {},
   "source": [
    "## Read back in pickle of \"dictOf_EBR_31CI_DFs\""
   ]
  },
  {
   "cell_type": "code",
   "execution_count": 10,
   "metadata": {},
   "outputs": [],
   "source": [
    "PB_Vs_Illumina_DataAnalysis_Dir = \"../../../210112_PBvsI_VCeval_AnalysisDir_V7_36CI\"\n",
    "\n",
    "# Define directory for EBR analysis data\n",
    "PBvIll_EBR_Dir = PB_Vs_Illumina_DataAnalysis_Dir + \"/210112_EBR_H37rv_36CI_MM2vsPilon_V7\"         \n",
    "\n",
    "# Parse in aggregated EBR-36CI array\n",
    "EBR_36CI_WGS40X_NPZ_PATH = f\"{PBvIll_EBR_Dir}/210112_EBR_V7_36CI.npz\"\n",
    "\n",
    "EBR_36CI_Array_A4 = np.load(EBR_36CI_WGS40X_NPZ_PATH)[\"arr_0\"]\n",
    "\n"
   ]
  },
  {
   "cell_type": "code",
   "execution_count": 11,
   "metadata": {},
   "outputs": [],
   "source": [
    "#dictOf_EBR_IndivIsolate_NPYs.keys()"
   ]
  },
  {
   "cell_type": "code",
   "execution_count": 12,
   "metadata": {},
   "outputs": [
    {
     "data": {
      "text/plain": [
       "4411532"
      ]
     },
     "execution_count": 12,
     "metadata": {},
     "output_type": "execute_result"
    }
   ],
   "source": [
    "EBR_36CI_Array_A4.shape[0]"
   ]
  },
  {
   "cell_type": "code",
   "execution_count": 13,
   "metadata": {},
   "outputs": [
    {
     "data": {
      "text/plain": [
       "0.9886257598437438"
      ]
     },
     "execution_count": 13,
     "metadata": {},
     "output_type": "execute_result"
    }
   ],
   "source": [
    "np.nanmean(EBR_36CI_Array_A4)"
   ]
  },
  {
   "cell_type": "code",
   "execution_count": null,
   "metadata": {},
   "outputs": [],
   "source": []
  },
  {
   "cell_type": "markdown",
   "metadata": {},
   "source": [
    "## Read back in EBR and Pmappability H37Rv gene level analysis"
   ]
  },
  {
   "cell_type": "code",
   "execution_count": 14,
   "metadata": {},
   "outputs": [],
   "source": [
    "#Repo_DataDir = \"../../Data\"\n",
    "\n",
    "\n",
    "FeatureLevelAnalysis_Dir_O2 = PBvIll_EBR_Dir + \"/210113_H37Rv_FeatureLevelAnalysis_EBR_Pmap\" \n",
    "\n",
    "\n",
    "H37Rv_FeatureLevelAnalysis_EBR_Pmap_TSV_O2_Repo = f\"{FeatureLevelAnalysis_Dir_O2}/H37Rv_FeatureLevelAnalysis.EBR_And_Pmap.tsv\"\n",
    "H37Rv_GeneLevelAnalysis_EBR_Pmap_TSV_O2_Repo = f\"{FeatureLevelAnalysis_Dir_O2}/H37Rv_FeatureLevelAnalysis.EBR_And_Pmap.Genes.tsv\"\n",
    "H37Rv_IntergenicLevelAnalysis_EBR_Pmap_TSV_O2_Repo = f\"{FeatureLevelAnalysis_Dir_O2}/H37Rv_FeatureLevelAnalysis.EBR_And_Pmap.IntergenicRegions.tsv\"\n",
    "\n",
    "FLA_DF = pd.read_csv(H37Rv_FeatureLevelAnalysis_EBR_Pmap_TSV_O2_Repo, sep = \"\\t\",)\n",
    "\n",
    "GLA_DF = pd.read_csv(H37Rv_GeneLevelAnalysis_EBR_Pmap_TSV_O2_Repo, sep = \"\\t\",)"
   ]
  },
  {
   "cell_type": "code",
   "execution_count": null,
   "metadata": {},
   "outputs": [],
   "source": []
  },
  {
   "cell_type": "markdown",
   "metadata": {},
   "source": [
    "# A) Parsing in Genomic Regions Annotated by False Positives SNSs"
   ]
  },
  {
   "cell_type": "code",
   "execution_count": 15,
   "metadata": {},
   "outputs": [],
   "source": [
    "All_FPs_SNPs_FiltMQ30_VCF_PATH = f\"{FalsePositive_Analysis_V2_Dir}/PMP_36CI.SNPs.All.FPs.FiltMQ30.vcf\"\n",
    "All_FPs_SNPs_VCF_PATH = f\"{FalsePositive_Analysis_V2_Dir}/PMP_36CI.SNPs.All.FPs.vcf\"\n",
    "\n",
    "\n",
    "H37rv_AllRegions_AnnoBy_All_FPs_PATH = f\"{FalsePositive_Analysis_V2_Dir}/200901_Mtb_H37rv_AllRegions_Info.SNPs.All.FPs.bed\" \n",
    "H37rv_AllRegions_AnnoBy_All_FPs_FiltMQ30_PATH = f\"{FalsePositive_Analysis_V2_Dir}/200901_Mtb_H37rv_AllRegions_Info.SNPs.FPs.FiltMQ30.bed\" \n"
   ]
  },
  {
   "cell_type": "code",
   "execution_count": null,
   "metadata": {},
   "outputs": [],
   "source": []
  },
  {
   "cell_type": "code",
   "execution_count": 16,
   "metadata": {},
   "outputs": [
    {
     "data": {
      "text/html": [
       "<div>\n",
       "<style scoped>\n",
       "    .dataframe tbody tr th:only-of-type {\n",
       "        vertical-align: middle;\n",
       "    }\n",
       "\n",
       "    .dataframe tbody tr th {\n",
       "        vertical-align: top;\n",
       "    }\n",
       "\n",
       "    .dataframe thead th {\n",
       "        text-align: right;\n",
       "    }\n",
       "</style>\n",
       "<table border=\"1\" class=\"dataframe\">\n",
       "  <thead>\n",
       "    <tr style=\"text-align: right;\">\n",
       "      <th></th>\n",
       "      <th>Chrom</th>\n",
       "      <th>Start</th>\n",
       "      <th>End</th>\n",
       "      <th>Strand</th>\n",
       "      <th>H37rv_GeneID</th>\n",
       "      <th>Symbol</th>\n",
       "      <th>ExcludedGroup_Category</th>\n",
       "      <th>PEandPPE_Subfamily</th>\n",
       "      <th>Functional_Category</th>\n",
       "      <th>FP_Count</th>\n",
       "      <th>Length</th>\n",
       "    </tr>\n",
       "  </thead>\n",
       "  <tbody>\n",
       "    <tr>\n",
       "      <th>271</th>\n",
       "      <td>NC_000962.3</td>\n",
       "      <td>0</td>\n",
       "      <td>1524</td>\n",
       "      <td>+</td>\n",
       "      <td>Rv0001</td>\n",
       "      <td>dnaA</td>\n",
       "      <td>NotExcluded</td>\n",
       "      <td>None</td>\n",
       "      <td>information pathways</td>\n",
       "      <td>0</td>\n",
       "      <td>1524</td>\n",
       "    </tr>\n",
       "    <tr>\n",
       "      <th>272</th>\n",
       "      <td>NC_000962.3</td>\n",
       "      <td>1524</td>\n",
       "      <td>2051</td>\n",
       "      <td>NaN</td>\n",
       "      <td>IntergenicRegion_1_Rv0001-Rv0002</td>\n",
       "      <td>NaN</td>\n",
       "      <td>Intergenic</td>\n",
       "      <td>NaN</td>\n",
       "      <td>Intergenic</td>\n",
       "      <td>0</td>\n",
       "      <td>527</td>\n",
       "    </tr>\n",
       "    <tr>\n",
       "      <th>273</th>\n",
       "      <td>NC_000962.3</td>\n",
       "      <td>2051</td>\n",
       "      <td>3260</td>\n",
       "      <td>+</td>\n",
       "      <td>Rv0002</td>\n",
       "      <td>dnaN</td>\n",
       "      <td>NotExcluded</td>\n",
       "      <td>None</td>\n",
       "      <td>information pathways</td>\n",
       "      <td>0</td>\n",
       "      <td>1209</td>\n",
       "    </tr>\n",
       "    <tr>\n",
       "      <th>274</th>\n",
       "      <td>NC_000962.3</td>\n",
       "      <td>3260</td>\n",
       "      <td>3279</td>\n",
       "      <td>NaN</td>\n",
       "      <td>IntergenicRegion_2_Rv0002-Rv0003</td>\n",
       "      <td>NaN</td>\n",
       "      <td>Intergenic</td>\n",
       "      <td>NaN</td>\n",
       "      <td>Intergenic</td>\n",
       "      <td>0</td>\n",
       "      <td>19</td>\n",
       "    </tr>\n",
       "    <tr>\n",
       "      <th>275</th>\n",
       "      <td>NC_000962.3</td>\n",
       "      <td>3279</td>\n",
       "      <td>4437</td>\n",
       "      <td>+</td>\n",
       "      <td>Rv0003</td>\n",
       "      <td>recF</td>\n",
       "      <td>NotExcluded</td>\n",
       "      <td>None</td>\n",
       "      <td>information pathways</td>\n",
       "      <td>0</td>\n",
       "      <td>1158</td>\n",
       "    </tr>\n",
       "  </tbody>\n",
       "</table>\n",
       "</div>"
      ],
      "text/plain": [
       "           Chrom  Start   End Strand                      H37rv_GeneID Symbol ExcludedGroup_Category PEandPPE_Subfamily   Functional_Category  FP_Count  Length\n",
       "271  NC_000962.3      0  1524      +                            Rv0001   dnaA            NotExcluded               None  information pathways         0    1524\n",
       "272  NC_000962.3   1524  2051    NaN  IntergenicRegion_1_Rv0001-Rv0002    NaN             Intergenic                NaN            Intergenic         0     527\n",
       "273  NC_000962.3   2051  3260      +                            Rv0002   dnaN            NotExcluded               None  information pathways         0    1209\n",
       "274  NC_000962.3   3260  3279    NaN  IntergenicRegion_2_Rv0002-Rv0003    NaN             Intergenic                NaN            Intergenic         0      19\n",
       "275  NC_000962.3   3279  4437      +                            Rv0003   recF            NotExcluded               None  information pathways         0    1158"
      ]
     },
     "execution_count": 16,
     "metadata": {},
     "output_type": "execute_result"
    }
   ],
   "source": [
    "AllRegions_AnnoByFPs_FiltMQ30_DF = pd.read_csv(H37rv_AllRegions_AnnoBy_All_FPs_FiltMQ30_PATH, sep=\"\\t\", header=None)\n",
    "\n",
    "AllRegions_AnnoByFPs_FiltMQ30_DF.columns = ['Chrom', 'Start', 'End',\n",
    "                                    'Strand', 'H37rv_GeneID', 'Symbol',\n",
    "                                    'ExcludedGroup_Category', 'PEandPPE_Subfamily',\n",
    "                                    'Functional_Category', \"FP_Count\"] \n",
    "                                   \n",
    "AllRegions_AnnoByFPs_FiltMQ30_DF = AllRegions_AnnoByFPs_FiltMQ30_DF.sort_values(\"Start\")\n",
    "AllRegions_AnnoByFPs_FiltMQ30_DF[\"Length\"] = AllRegions_AnnoByFPs_FiltMQ30_DF[\"End\"] - AllRegions_AnnoByFPs_FiltMQ30_DF[\"Start\"]\n",
    "\n",
    "# Select for the top 30 regions based on the total # of FPs detected across all 36 isolates\n",
    "Regions_Top30SourcesOfFPs_FiltMQ30_DF = AllRegions_AnnoByFPs_FiltMQ30_DF.sort_values(\"FP_Count\", ascending=False).head(30)\n",
    "\n",
    "\n",
    "AllRegions_AnnoByFPs_FiltMQ30_DF.head()"
   ]
  },
  {
   "cell_type": "markdown",
   "metadata": {},
   "source": [
    "#### Look at top 5 regions (genes + intergenic regions) in terms of # of FPs"
   ]
  },
  {
   "cell_type": "code",
   "execution_count": 17,
   "metadata": {},
   "outputs": [
    {
     "data": {
      "text/html": [
       "<div>\n",
       "<style scoped>\n",
       "    .dataframe tbody tr th:only-of-type {\n",
       "        vertical-align: middle;\n",
       "    }\n",
       "\n",
       "    .dataframe tbody tr th {\n",
       "        vertical-align: top;\n",
       "    }\n",
       "\n",
       "    .dataframe thead th {\n",
       "        text-align: right;\n",
       "    }\n",
       "</style>\n",
       "<table border=\"1\" class=\"dataframe\">\n",
       "  <thead>\n",
       "    <tr style=\"text-align: right;\">\n",
       "      <th></th>\n",
       "      <th>Chrom</th>\n",
       "      <th>Start</th>\n",
       "      <th>End</th>\n",
       "      <th>Strand</th>\n",
       "      <th>H37rv_GeneID</th>\n",
       "      <th>Symbol</th>\n",
       "      <th>ExcludedGroup_Category</th>\n",
       "      <th>PEandPPE_Subfamily</th>\n",
       "      <th>Functional_Category</th>\n",
       "      <th>FP_Count</th>\n",
       "      <th>Length</th>\n",
       "    </tr>\n",
       "  </thead>\n",
       "  <tbody>\n",
       "    <tr>\n",
       "      <th>6286</th>\n",
       "      <td>NC_000962.3</td>\n",
       "      <td>3845970</td>\n",
       "      <td>3847164</td>\n",
       "      <td>NaN</td>\n",
       "      <td>IntergenicRegion_2683_Rv3428c-Rv3429</td>\n",
       "      <td>NaN</td>\n",
       "      <td>Intergenic</td>\n",
       "      <td>NaN</td>\n",
       "      <td>Intergenic</td>\n",
       "      <td>142</td>\n",
       "      <td>1194</td>\n",
       "    </tr>\n",
       "    <tr>\n",
       "      <th>2840</th>\n",
       "      <td>NC_000962.3</td>\n",
       "      <td>1636003</td>\n",
       "      <td>1638229</td>\n",
       "      <td>-</td>\n",
       "      <td>Rv1452c</td>\n",
       "      <td>PE_PGRS28</td>\n",
       "      <td>PE/PPEs</td>\n",
       "      <td>PE_V_PGRS</td>\n",
       "      <td>PE/PPE</td>\n",
       "      <td>59</td>\n",
       "      <td>2226</td>\n",
       "    </tr>\n",
       "    <tr>\n",
       "      <th>3645</th>\n",
       "      <td>NC_000962.3</td>\n",
       "      <td>2162931</td>\n",
       "      <td>2167311</td>\n",
       "      <td>-</td>\n",
       "      <td>Rv1917c</td>\n",
       "      <td>PPE34</td>\n",
       "      <td>PE/PPEs</td>\n",
       "      <td>PPE_SL-5_PPE-MPTR</td>\n",
       "      <td>PE/PPE</td>\n",
       "      <td>35</td>\n",
       "      <td>4380</td>\n",
       "    </tr>\n",
       "    <tr>\n",
       "      <th>138</th>\n",
       "      <td>NC_000962.3</td>\n",
       "      <td>1981613</td>\n",
       "      <td>1984775</td>\n",
       "      <td>-</td>\n",
       "      <td>Rv1753c</td>\n",
       "      <td>PPE24</td>\n",
       "      <td>PE/PPEs</td>\n",
       "      <td>PPE_SL-5_PPE-MPTR</td>\n",
       "      <td>PE/PPE</td>\n",
       "      <td>24</td>\n",
       "      <td>3162</td>\n",
       "    </tr>\n",
       "    <tr>\n",
       "      <th>6428</th>\n",
       "      <td>NC_000962.3</td>\n",
       "      <td>3941723</td>\n",
       "      <td>3944963</td>\n",
       "      <td>+</td>\n",
       "      <td>Rv3512</td>\n",
       "      <td>PE_PGRS56</td>\n",
       "      <td>PE/PPEs</td>\n",
       "      <td>PE_V_PGRS</td>\n",
       "      <td>PE/PPE</td>\n",
       "      <td>16</td>\n",
       "      <td>3240</td>\n",
       "    </tr>\n",
       "    <tr>\n",
       "      <th>5393</th>\n",
       "      <td>NC_000962.3</td>\n",
       "      <td>3232506</td>\n",
       "      <td>3232870</td>\n",
       "      <td>NaN</td>\n",
       "      <td>IntergenicRegion_2285_Rv2920c-Rv2921c</td>\n",
       "      <td>NaN</td>\n",
       "      <td>Intergenic</td>\n",
       "      <td>NaN</td>\n",
       "      <td>Intergenic</td>\n",
       "      <td>16</td>\n",
       "      <td>364</td>\n",
       "    </tr>\n",
       "    <tr>\n",
       "      <th>30</th>\n",
       "      <td>NC_000962.3</td>\n",
       "      <td>3931004</td>\n",
       "      <td>3936710</td>\n",
       "      <td>+</td>\n",
       "      <td>Rv3508</td>\n",
       "      <td>PE_PGRS54</td>\n",
       "      <td>PE/PPEs</td>\n",
       "      <td>PE_V_PGRS</td>\n",
       "      <td>PE/PPE</td>\n",
       "      <td>16</td>\n",
       "      <td>5706</td>\n",
       "    </tr>\n",
       "    <tr>\n",
       "      <th>5574</th>\n",
       "      <td>NC_000962.3</td>\n",
       "      <td>3379375</td>\n",
       "      <td>3380452</td>\n",
       "      <td>-</td>\n",
       "      <td>Rv3021c</td>\n",
       "      <td>PPE47</td>\n",
       "      <td>PE/PPEs</td>\n",
       "      <td>None</td>\n",
       "      <td>PE/PPE</td>\n",
       "      <td>14</td>\n",
       "      <td>1077</td>\n",
       "    </tr>\n",
       "    <tr>\n",
       "      <th>186</th>\n",
       "      <td>NC_000962.3</td>\n",
       "      <td>2867123</td>\n",
       "      <td>2867786</td>\n",
       "      <td>+</td>\n",
       "      <td>Rv2544</td>\n",
       "      <td>lppB</td>\n",
       "      <td>Coscolla Repetitive Genes</td>\n",
       "      <td>None</td>\n",
       "      <td>cell wall and cell processes</td>\n",
       "      <td>14</td>\n",
       "      <td>663</td>\n",
       "    </tr>\n",
       "    <tr>\n",
       "      <th>245</th>\n",
       "      <td>NC_000962.3</td>\n",
       "      <td>3945793</td>\n",
       "      <td>3950263</td>\n",
       "      <td>+</td>\n",
       "      <td>Rv3514</td>\n",
       "      <td>PE_PGRS57</td>\n",
       "      <td>PE/PPEs</td>\n",
       "      <td>PE_V_PGRS</td>\n",
       "      <td>PE/PPE</td>\n",
       "      <td>14</td>\n",
       "      <td>4470</td>\n",
       "    </tr>\n",
       "  </tbody>\n",
       "</table>\n",
       "</div>"
      ],
      "text/plain": [
       "            Chrom    Start      End Strand                           H37rv_GeneID     Symbol     ExcludedGroup_Category PEandPPE_Subfamily           Functional_Category  FP_Count  Length\n",
       "6286  NC_000962.3  3845970  3847164    NaN   IntergenicRegion_2683_Rv3428c-Rv3429        NaN                 Intergenic                NaN                    Intergenic       142    1194\n",
       "2840  NC_000962.3  1636003  1638229      -                                Rv1452c  PE_PGRS28                    PE/PPEs          PE_V_PGRS                        PE/PPE        59    2226\n",
       "3645  NC_000962.3  2162931  2167311      -                                Rv1917c      PPE34                    PE/PPEs  PPE_SL-5_PPE-MPTR                        PE/PPE        35    4380\n",
       "138   NC_000962.3  1981613  1984775      -                                Rv1753c      PPE24                    PE/PPEs  PPE_SL-5_PPE-MPTR                        PE/PPE        24    3162\n",
       "6428  NC_000962.3  3941723  3944963      +                                 Rv3512  PE_PGRS56                    PE/PPEs          PE_V_PGRS                        PE/PPE        16    3240\n",
       "5393  NC_000962.3  3232506  3232870    NaN  IntergenicRegion_2285_Rv2920c-Rv2921c        NaN                 Intergenic                NaN                    Intergenic        16     364\n",
       "30    NC_000962.3  3931004  3936710      +                                 Rv3508  PE_PGRS54                    PE/PPEs          PE_V_PGRS                        PE/PPE        16    5706\n",
       "5574  NC_000962.3  3379375  3380452      -                                Rv3021c      PPE47                    PE/PPEs               None                        PE/PPE        14    1077\n",
       "186   NC_000962.3  2867123  2867786      +                                 Rv2544       lppB  Coscolla Repetitive Genes               None  cell wall and cell processes        14     663\n",
       "245   NC_000962.3  3945793  3950263      +                                 Rv3514  PE_PGRS57                    PE/PPEs          PE_V_PGRS                        PE/PPE        14    4470"
      ]
     },
     "execution_count": 17,
     "metadata": {},
     "output_type": "execute_result"
    }
   ],
   "source": [
    "Regions_Top30SourcesOfFPs_FiltMQ30_DF.head(10)"
   ]
  },
  {
   "cell_type": "code",
   "execution_count": null,
   "metadata": {},
   "outputs": [],
   "source": []
  },
  {
   "cell_type": "code",
   "execution_count": 18,
   "metadata": {},
   "outputs": [
    {
     "data": {
      "text/plain": [
       "0.6386861313868614"
      ]
     },
     "execution_count": 18,
     "metadata": {},
     "output_type": "execute_result"
    }
   ],
   "source": [
    "AllRegions_AnnoByFPs_FiltMQ30_DF.sort_values(\"FP_Count\", ascending=False).head(10)[\"FP_Count\"].sum() / AllRegions_AnnoByFPs_FiltMQ30_DF[\"FP_Count\"].sum()   "
   ]
  },
  {
   "cell_type": "code",
   "execution_count": 19,
   "metadata": {},
   "outputs": [
    {
     "data": {
      "text/plain": [
       "0.801094890510949"
      ]
     },
     "execution_count": 19,
     "metadata": {},
     "output_type": "execute_result"
    }
   ],
   "source": [
    "AllRegions_AnnoByFPs_FiltMQ30_DF.sort_values(\"FP_Count\", ascending=False).head(20)[\"FP_Count\"].sum() / AllRegions_AnnoByFPs_FiltMQ30_DF[\"FP_Count\"].sum()   "
   ]
  },
  {
   "cell_type": "code",
   "execution_count": 20,
   "metadata": {},
   "outputs": [
    {
     "data": {
      "text/plain": [
       "0.8941605839416058"
      ]
     },
     "execution_count": 20,
     "metadata": {},
     "output_type": "execute_result"
    }
   ],
   "source": [
    "AllRegions_AnnoByFPs_FiltMQ30_DF.sort_values(\"FP_Count\", ascending=False).head(30)[\"FP_Count\"].sum() / AllRegions_AnnoByFPs_FiltMQ30_DF[\"FP_Count\"].sum()"
   ]
  },
  {
   "cell_type": "code",
   "execution_count": null,
   "metadata": {},
   "outputs": [],
   "source": []
  },
  {
   "cell_type": "code",
   "execution_count": 21,
   "metadata": {},
   "outputs": [
    {
     "data": {
      "text/html": [
       "<div>\n",
       "<style scoped>\n",
       "    .dataframe tbody tr th:only-of-type {\n",
       "        vertical-align: middle;\n",
       "    }\n",
       "\n",
       "    .dataframe tbody tr th {\n",
       "        vertical-align: top;\n",
       "    }\n",
       "\n",
       "    .dataframe thead th {\n",
       "        text-align: right;\n",
       "    }\n",
       "</style>\n",
       "<table border=\"1\" class=\"dataframe\">\n",
       "  <thead>\n",
       "    <tr style=\"text-align: right;\">\n",
       "      <th></th>\n",
       "      <th>Chrom</th>\n",
       "      <th>Start</th>\n",
       "      <th>End</th>\n",
       "      <th>Strand</th>\n",
       "      <th>H37rv_GeneID</th>\n",
       "      <th>Symbol</th>\n",
       "      <th>ExcludedGroup_Category</th>\n",
       "      <th>PEandPPE_Subfamily</th>\n",
       "      <th>Functional_Category</th>\n",
       "      <th>FP_Count</th>\n",
       "      <th>Length</th>\n",
       "    </tr>\n",
       "  </thead>\n",
       "  <tbody>\n",
       "    <tr>\n",
       "      <th>6286</th>\n",
       "      <td>NC_000962.3</td>\n",
       "      <td>3845970</td>\n",
       "      <td>3847164</td>\n",
       "      <td>NaN</td>\n",
       "      <td>IntergenicRegion_2683_Rv3428c-Rv3429</td>\n",
       "      <td>NaN</td>\n",
       "      <td>Intergenic</td>\n",
       "      <td>NaN</td>\n",
       "      <td>Intergenic</td>\n",
       "      <td>142</td>\n",
       "      <td>1194</td>\n",
       "    </tr>\n",
       "    <tr>\n",
       "      <th>2840</th>\n",
       "      <td>NC_000962.3</td>\n",
       "      <td>1636003</td>\n",
       "      <td>1638229</td>\n",
       "      <td>-</td>\n",
       "      <td>Rv1452c</td>\n",
       "      <td>PE_PGRS28</td>\n",
       "      <td>PE/PPEs</td>\n",
       "      <td>PE_V_PGRS</td>\n",
       "      <td>PE/PPE</td>\n",
       "      <td>59</td>\n",
       "      <td>2226</td>\n",
       "    </tr>\n",
       "    <tr>\n",
       "      <th>3645</th>\n",
       "      <td>NC_000962.3</td>\n",
       "      <td>2162931</td>\n",
       "      <td>2167311</td>\n",
       "      <td>-</td>\n",
       "      <td>Rv1917c</td>\n",
       "      <td>PPE34</td>\n",
       "      <td>PE/PPEs</td>\n",
       "      <td>PPE_SL-5_PPE-MPTR</td>\n",
       "      <td>PE/PPE</td>\n",
       "      <td>35</td>\n",
       "      <td>4380</td>\n",
       "    </tr>\n",
       "    <tr>\n",
       "      <th>138</th>\n",
       "      <td>NC_000962.3</td>\n",
       "      <td>1981613</td>\n",
       "      <td>1984775</td>\n",
       "      <td>-</td>\n",
       "      <td>Rv1753c</td>\n",
       "      <td>PPE24</td>\n",
       "      <td>PE/PPEs</td>\n",
       "      <td>PPE_SL-5_PPE-MPTR</td>\n",
       "      <td>PE/PPE</td>\n",
       "      <td>24</td>\n",
       "      <td>3162</td>\n",
       "    </tr>\n",
       "    <tr>\n",
       "      <th>6428</th>\n",
       "      <td>NC_000962.3</td>\n",
       "      <td>3941723</td>\n",
       "      <td>3944963</td>\n",
       "      <td>+</td>\n",
       "      <td>Rv3512</td>\n",
       "      <td>PE_PGRS56</td>\n",
       "      <td>PE/PPEs</td>\n",
       "      <td>PE_V_PGRS</td>\n",
       "      <td>PE/PPE</td>\n",
       "      <td>16</td>\n",
       "      <td>3240</td>\n",
       "    </tr>\n",
       "    <tr>\n",
       "      <th>5393</th>\n",
       "      <td>NC_000962.3</td>\n",
       "      <td>3232506</td>\n",
       "      <td>3232870</td>\n",
       "      <td>NaN</td>\n",
       "      <td>IntergenicRegion_2285_Rv2920c-Rv2921c</td>\n",
       "      <td>NaN</td>\n",
       "      <td>Intergenic</td>\n",
       "      <td>NaN</td>\n",
       "      <td>Intergenic</td>\n",
       "      <td>16</td>\n",
       "      <td>364</td>\n",
       "    </tr>\n",
       "    <tr>\n",
       "      <th>30</th>\n",
       "      <td>NC_000962.3</td>\n",
       "      <td>3931004</td>\n",
       "      <td>3936710</td>\n",
       "      <td>+</td>\n",
       "      <td>Rv3508</td>\n",
       "      <td>PE_PGRS54</td>\n",
       "      <td>PE/PPEs</td>\n",
       "      <td>PE_V_PGRS</td>\n",
       "      <td>PE/PPE</td>\n",
       "      <td>16</td>\n",
       "      <td>5706</td>\n",
       "    </tr>\n",
       "    <tr>\n",
       "      <th>5574</th>\n",
       "      <td>NC_000962.3</td>\n",
       "      <td>3379375</td>\n",
       "      <td>3380452</td>\n",
       "      <td>-</td>\n",
       "      <td>Rv3021c</td>\n",
       "      <td>PPE47</td>\n",
       "      <td>PE/PPEs</td>\n",
       "      <td>None</td>\n",
       "      <td>PE/PPE</td>\n",
       "      <td>14</td>\n",
       "      <td>1077</td>\n",
       "    </tr>\n",
       "    <tr>\n",
       "      <th>186</th>\n",
       "      <td>NC_000962.3</td>\n",
       "      <td>2867123</td>\n",
       "      <td>2867786</td>\n",
       "      <td>+</td>\n",
       "      <td>Rv2544</td>\n",
       "      <td>lppB</td>\n",
       "      <td>Coscolla Repetitive Genes</td>\n",
       "      <td>None</td>\n",
       "      <td>cell wall and cell processes</td>\n",
       "      <td>14</td>\n",
       "      <td>663</td>\n",
       "    </tr>\n",
       "    <tr>\n",
       "      <th>245</th>\n",
       "      <td>NC_000962.3</td>\n",
       "      <td>3945793</td>\n",
       "      <td>3950263</td>\n",
       "      <td>+</td>\n",
       "      <td>Rv3514</td>\n",
       "      <td>PE_PGRS57</td>\n",
       "      <td>PE/PPEs</td>\n",
       "      <td>PE_V_PGRS</td>\n",
       "      <td>PE/PPE</td>\n",
       "      <td>14</td>\n",
       "      <td>4470</td>\n",
       "    </tr>\n",
       "    <tr>\n",
       "      <th>3486</th>\n",
       "      <td>NC_000962.3</td>\n",
       "      <td>2074437</td>\n",
       "      <td>2074840</td>\n",
       "      <td>NaN</td>\n",
       "      <td>IntergenicRegion_1445_Rv1829-Rv1830</td>\n",
       "      <td>NaN</td>\n",
       "      <td>Intergenic</td>\n",
       "      <td>NaN</td>\n",
       "      <td>Intergenic</td>\n",
       "      <td>13</td>\n",
       "      <td>403</td>\n",
       "    </tr>\n",
       "    <tr>\n",
       "      <th>6427</th>\n",
       "      <td>NC_000962.3</td>\n",
       "      <td>3939616</td>\n",
       "      <td>3941761</td>\n",
       "      <td>+</td>\n",
       "      <td>Rv3511</td>\n",
       "      <td>PE_PGRS55</td>\n",
       "      <td>PE/PPEs</td>\n",
       "      <td>PE_V_PGRS</td>\n",
       "      <td>PE/PPE</td>\n",
       "      <td>12</td>\n",
       "      <td>2145</td>\n",
       "    </tr>\n",
       "    <tr>\n",
       "      <th>4235</th>\n",
       "      <td>NC_000962.3</td>\n",
       "      <td>2531897</td>\n",
       "      <td>2532244</td>\n",
       "      <td>NaN</td>\n",
       "      <td>IntergenicRegion_1776_Rv2258c-Rv2259</td>\n",
       "      <td>NaN</td>\n",
       "      <td>Intergenic</td>\n",
       "      <td>NaN</td>\n",
       "      <td>Intergenic</td>\n",
       "      <td>10</td>\n",
       "      <td>347</td>\n",
       "    </tr>\n",
       "    <tr>\n",
       "      <th>6917</th>\n",
       "      <td>NC_000962.3</td>\n",
       "      <td>4231319</td>\n",
       "      <td>4232393</td>\n",
       "      <td>+</td>\n",
       "      <td>Rv3785</td>\n",
       "      <td>Rv3785</td>\n",
       "      <td>NotExcluded</td>\n",
       "      <td>None</td>\n",
       "      <td>conserved hypotheticals</td>\n",
       "      <td>9</td>\n",
       "      <td>1074</td>\n",
       "    </tr>\n",
       "    <tr>\n",
       "      <th>1580</th>\n",
       "      <td>NC_000962.3</td>\n",
       "      <td>832980</td>\n",
       "      <td>833508</td>\n",
       "      <td>+</td>\n",
       "      <td>Rv0742</td>\n",
       "      <td>PE_PGRS8</td>\n",
       "      <td>PE/PPEs</td>\n",
       "      <td>PE_V_PGRS</td>\n",
       "      <td>PE/PPE</td>\n",
       "      <td>8</td>\n",
       "      <td>528</td>\n",
       "    </tr>\n",
       "    <tr>\n",
       "      <th>6711</th>\n",
       "      <td>NC_000962.3</td>\n",
       "      <td>4120955</td>\n",
       "      <td>4121197</td>\n",
       "      <td>NaN</td>\n",
       "      <td>IntergenicRegion_2870_Rv3680-Rv3681c</td>\n",
       "      <td>NaN</td>\n",
       "      <td>Intergenic</td>\n",
       "      <td>NaN</td>\n",
       "      <td>Intergenic</td>\n",
       "      <td>8</td>\n",
       "      <td>242</td>\n",
       "    </tr>\n",
       "    <tr>\n",
       "      <th>235</th>\n",
       "      <td>NC_000962.3</td>\n",
       "      <td>3743710</td>\n",
       "      <td>3753184</td>\n",
       "      <td>-</td>\n",
       "      <td>Rv3347c</td>\n",
       "      <td>PPE55</td>\n",
       "      <td>PE/PPEs</td>\n",
       "      <td>PPE_SL-5_PPE-MPTR</td>\n",
       "      <td>PE/PPE</td>\n",
       "      <td>8</td>\n",
       "      <td>9474</td>\n",
       "    </tr>\n",
       "    <tr>\n",
       "      <th>1137</th>\n",
       "      <td>NC_000962.3</td>\n",
       "      <td>580581</td>\n",
       "      <td>580808</td>\n",
       "      <td>NaN</td>\n",
       "      <td>IntergenicRegion_396_Rv0490-Rv0491</td>\n",
       "      <td>NaN</td>\n",
       "      <td>Intergenic</td>\n",
       "      <td>NaN</td>\n",
       "      <td>Intergenic</td>\n",
       "      <td>7</td>\n",
       "      <td>227</td>\n",
       "    </tr>\n",
       "    <tr>\n",
       "      <th>6589</th>\n",
       "      <td>NC_000962.3</td>\n",
       "      <td>4052949</td>\n",
       "      <td>4053603</td>\n",
       "      <td>+</td>\n",
       "      <td>Rv3611</td>\n",
       "      <td>Rv3611</td>\n",
       "      <td>Coscolla Repetitive Genes</td>\n",
       "      <td>None</td>\n",
       "      <td>conserved hypotheticals</td>\n",
       "      <td>7</td>\n",
       "      <td>654</td>\n",
       "    </tr>\n",
       "    <tr>\n",
       "      <th>3052</th>\n",
       "      <td>NC_000962.3</td>\n",
       "      <td>1779313</td>\n",
       "      <td>1779724</td>\n",
       "      <td>+</td>\n",
       "      <td>Rv1573</td>\n",
       "      <td>Rv1573</td>\n",
       "      <td>InsertionSeqs_And_Phages</td>\n",
       "      <td>None</td>\n",
       "      <td>insertion seqs and phages</td>\n",
       "      <td>7</td>\n",
       "      <td>411</td>\n",
       "    </tr>\n",
       "    <tr>\n",
       "      <th>97</th>\n",
       "      <td>NC_000962.3</td>\n",
       "      <td>1211559</td>\n",
       "      <td>1213863</td>\n",
       "      <td>+</td>\n",
       "      <td>Rv1087</td>\n",
       "      <td>PE_PGRS21</td>\n",
       "      <td>PE/PPEs</td>\n",
       "      <td>PE_V_PGRS</td>\n",
       "      <td>PE/PPE</td>\n",
       "      <td>6</td>\n",
       "      <td>2304</td>\n",
       "    </tr>\n",
       "    <tr>\n",
       "      <th>3058</th>\n",
       "      <td>NC_000962.3</td>\n",
       "      <td>1782071</td>\n",
       "      <td>1782584</td>\n",
       "      <td>-</td>\n",
       "      <td>Rv1577c</td>\n",
       "      <td>Rv1577c</td>\n",
       "      <td>InsertionSeqs_And_Phages</td>\n",
       "      <td>None</td>\n",
       "      <td>insertion seqs and phages</td>\n",
       "      <td>6</td>\n",
       "      <td>513</td>\n",
       "    </tr>\n",
       "    <tr>\n",
       "      <th>807</th>\n",
       "      <td>NC_000962.3</td>\n",
       "      <td>366149</td>\n",
       "      <td>372764</td>\n",
       "      <td>-</td>\n",
       "      <td>Rv0304c</td>\n",
       "      <td>PPE5</td>\n",
       "      <td>PE/PPEs</td>\n",
       "      <td>None</td>\n",
       "      <td>PE/PPE</td>\n",
       "      <td>6</td>\n",
       "      <td>6615</td>\n",
       "    </tr>\n",
       "    <tr>\n",
       "      <th>1588</th>\n",
       "      <td>NC_000962.3</td>\n",
       "      <td>838450</td>\n",
       "      <td>840856</td>\n",
       "      <td>+</td>\n",
       "      <td>Rv0747</td>\n",
       "      <td>PE_PGRS10</td>\n",
       "      <td>PE/PPEs</td>\n",
       "      <td>PE_V_PGRS</td>\n",
       "      <td>PE/PPE</td>\n",
       "      <td>6</td>\n",
       "      <td>2406</td>\n",
       "    </tr>\n",
       "    <tr>\n",
       "      <th>1586</th>\n",
       "      <td>NC_000962.3</td>\n",
       "      <td>835700</td>\n",
       "      <td>838052</td>\n",
       "      <td>+</td>\n",
       "      <td>Rv0746</td>\n",
       "      <td>PE_PGRS9</td>\n",
       "      <td>PE/PPEs</td>\n",
       "      <td>PE_V_PGRS</td>\n",
       "      <td>PE/PPE</td>\n",
       "      <td>5</td>\n",
       "      <td>2352</td>\n",
       "    </tr>\n",
       "    <tr>\n",
       "      <th>6421</th>\n",
       "      <td>NC_000962.3</td>\n",
       "      <td>3926568</td>\n",
       "      <td>3930714</td>\n",
       "      <td>+</td>\n",
       "      <td>Rv3507</td>\n",
       "      <td>PE_PGRS53</td>\n",
       "      <td>PE/PPEs</td>\n",
       "      <td>PE_V_PGRS</td>\n",
       "      <td>PE/PPE</td>\n",
       "      <td>5</td>\n",
       "      <td>4146</td>\n",
       "    </tr>\n",
       "    <tr>\n",
       "      <th>3070</th>\n",
       "      <td>NC_000962.3</td>\n",
       "      <td>1786583</td>\n",
       "      <td>1787099</td>\n",
       "      <td>-</td>\n",
       "      <td>Rv1585c</td>\n",
       "      <td>Rv1585c</td>\n",
       "      <td>InsertionSeqs_And_Phages</td>\n",
       "      <td>None</td>\n",
       "      <td>insertion seqs and phages</td>\n",
       "      <td>5</td>\n",
       "      <td>516</td>\n",
       "    </tr>\n",
       "    <tr>\n",
       "      <th>3053</th>\n",
       "      <td>NC_000962.3</td>\n",
       "      <td>1779724</td>\n",
       "      <td>1779929</td>\n",
       "      <td>NaN</td>\n",
       "      <td>IntergenicRegion_1254_Rv1573-Rv1574</td>\n",
       "      <td>NaN</td>\n",
       "      <td>Intergenic</td>\n",
       "      <td>NaN</td>\n",
       "      <td>Intergenic</td>\n",
       "      <td>4</td>\n",
       "      <td>205</td>\n",
       "    </tr>\n",
       "    <tr>\n",
       "      <th>2821</th>\n",
       "      <td>NC_000962.3</td>\n",
       "      <td>1618208</td>\n",
       "      <td>1619684</td>\n",
       "      <td>-</td>\n",
       "      <td>Rv1441c</td>\n",
       "      <td>PE_PGRS26</td>\n",
       "      <td>PE/PPEs</td>\n",
       "      <td>PE_V_PGRS</td>\n",
       "      <td>PE/PPE</td>\n",
       "      <td>4</td>\n",
       "      <td>1476</td>\n",
       "    </tr>\n",
       "    <tr>\n",
       "      <th>767</th>\n",
       "      <td>NC_000962.3</td>\n",
       "      <td>333436</td>\n",
       "      <td>336310</td>\n",
       "      <td>-</td>\n",
       "      <td>Rv0278c</td>\n",
       "      <td>PE_PGRS3</td>\n",
       "      <td>PE/PPEs</td>\n",
       "      <td>PE_V_PGRS</td>\n",
       "      <td>PE/PPE</td>\n",
       "      <td>4</td>\n",
       "      <td>2874</td>\n",
       "    </tr>\n",
       "  </tbody>\n",
       "</table>\n",
       "</div>"
      ],
      "text/plain": [
       "            Chrom    Start      End Strand                           H37rv_GeneID     Symbol     ExcludedGroup_Category PEandPPE_Subfamily           Functional_Category  FP_Count  Length\n",
       "6286  NC_000962.3  3845970  3847164    NaN   IntergenicRegion_2683_Rv3428c-Rv3429        NaN                 Intergenic                NaN                    Intergenic       142    1194\n",
       "2840  NC_000962.3  1636003  1638229      -                                Rv1452c  PE_PGRS28                    PE/PPEs          PE_V_PGRS                        PE/PPE        59    2226\n",
       "3645  NC_000962.3  2162931  2167311      -                                Rv1917c      PPE34                    PE/PPEs  PPE_SL-5_PPE-MPTR                        PE/PPE        35    4380\n",
       "138   NC_000962.3  1981613  1984775      -                                Rv1753c      PPE24                    PE/PPEs  PPE_SL-5_PPE-MPTR                        PE/PPE        24    3162\n",
       "6428  NC_000962.3  3941723  3944963      +                                 Rv3512  PE_PGRS56                    PE/PPEs          PE_V_PGRS                        PE/PPE        16    3240\n",
       "5393  NC_000962.3  3232506  3232870    NaN  IntergenicRegion_2285_Rv2920c-Rv2921c        NaN                 Intergenic                NaN                    Intergenic        16     364\n",
       "30    NC_000962.3  3931004  3936710      +                                 Rv3508  PE_PGRS54                    PE/PPEs          PE_V_PGRS                        PE/PPE        16    5706\n",
       "5574  NC_000962.3  3379375  3380452      -                                Rv3021c      PPE47                    PE/PPEs               None                        PE/PPE        14    1077\n",
       "186   NC_000962.3  2867123  2867786      +                                 Rv2544       lppB  Coscolla Repetitive Genes               None  cell wall and cell processes        14     663\n",
       "245   NC_000962.3  3945793  3950263      +                                 Rv3514  PE_PGRS57                    PE/PPEs          PE_V_PGRS                        PE/PPE        14    4470\n",
       "3486  NC_000962.3  2074437  2074840    NaN    IntergenicRegion_1445_Rv1829-Rv1830        NaN                 Intergenic                NaN                    Intergenic        13     403\n",
       "6427  NC_000962.3  3939616  3941761      +                                 Rv3511  PE_PGRS55                    PE/PPEs          PE_V_PGRS                        PE/PPE        12    2145\n",
       "4235  NC_000962.3  2531897  2532244    NaN   IntergenicRegion_1776_Rv2258c-Rv2259        NaN                 Intergenic                NaN                    Intergenic        10     347\n",
       "6917  NC_000962.3  4231319  4232393      +                                 Rv3785     Rv3785                NotExcluded               None       conserved hypotheticals         9    1074\n",
       "1580  NC_000962.3   832980   833508      +                                 Rv0742   PE_PGRS8                    PE/PPEs          PE_V_PGRS                        PE/PPE         8     528\n",
       "6711  NC_000962.3  4120955  4121197    NaN   IntergenicRegion_2870_Rv3680-Rv3681c        NaN                 Intergenic                NaN                    Intergenic         8     242\n",
       "235   NC_000962.3  3743710  3753184      -                                Rv3347c      PPE55                    PE/PPEs  PPE_SL-5_PPE-MPTR                        PE/PPE         8    9474\n",
       "1137  NC_000962.3   580581   580808    NaN     IntergenicRegion_396_Rv0490-Rv0491        NaN                 Intergenic                NaN                    Intergenic         7     227\n",
       "6589  NC_000962.3  4052949  4053603      +                                 Rv3611     Rv3611  Coscolla Repetitive Genes               None       conserved hypotheticals         7     654\n",
       "3052  NC_000962.3  1779313  1779724      +                                 Rv1573     Rv1573   InsertionSeqs_And_Phages               None     insertion seqs and phages         7     411\n",
       "97    NC_000962.3  1211559  1213863      +                                 Rv1087  PE_PGRS21                    PE/PPEs          PE_V_PGRS                        PE/PPE         6    2304\n",
       "3058  NC_000962.3  1782071  1782584      -                                Rv1577c    Rv1577c   InsertionSeqs_And_Phages               None     insertion seqs and phages         6     513\n",
       "807   NC_000962.3   366149   372764      -                                Rv0304c       PPE5                    PE/PPEs               None                        PE/PPE         6    6615\n",
       "1588  NC_000962.3   838450   840856      +                                 Rv0747  PE_PGRS10                    PE/PPEs          PE_V_PGRS                        PE/PPE         6    2406\n",
       "1586  NC_000962.3   835700   838052      +                                 Rv0746   PE_PGRS9                    PE/PPEs          PE_V_PGRS                        PE/PPE         5    2352\n",
       "6421  NC_000962.3  3926568  3930714      +                                 Rv3507  PE_PGRS53                    PE/PPEs          PE_V_PGRS                        PE/PPE         5    4146\n",
       "3070  NC_000962.3  1786583  1787099      -                                Rv1585c    Rv1585c   InsertionSeqs_And_Phages               None     insertion seqs and phages         5     516\n",
       "3053  NC_000962.3  1779724  1779929    NaN    IntergenicRegion_1254_Rv1573-Rv1574        NaN                 Intergenic                NaN                    Intergenic         4     205\n",
       "2821  NC_000962.3  1618208  1619684      -                                Rv1441c  PE_PGRS26                    PE/PPEs          PE_V_PGRS                        PE/PPE         4    1476\n",
       "767   NC_000962.3   333436   336310      -                                Rv0278c   PE_PGRS3                    PE/PPEs          PE_V_PGRS                        PE/PPE         4    2874"
      ]
     },
     "execution_count": 21,
     "metadata": {},
     "output_type": "execute_result"
    }
   ],
   "source": [
    "Regions_Top30SourcesOfFPs_FiltMQ30_DF"
   ]
  },
  {
   "cell_type": "code",
   "execution_count": 22,
   "metadata": {},
   "outputs": [
    {
     "data": {
      "text/html": [
       "<div>\n",
       "<style scoped>\n",
       "    .dataframe tbody tr th:only-of-type {\n",
       "        vertical-align: middle;\n",
       "    }\n",
       "\n",
       "    .dataframe tbody tr th {\n",
       "        vertical-align: top;\n",
       "    }\n",
       "\n",
       "    .dataframe thead th {\n",
       "        text-align: right;\n",
       "    }\n",
       "</style>\n",
       "<table border=\"1\" class=\"dataframe\">\n",
       "  <thead>\n",
       "    <tr style=\"text-align: right;\">\n",
       "      <th></th>\n",
       "      <th>Chrom</th>\n",
       "      <th>Start</th>\n",
       "      <th>End</th>\n",
       "      <th>Strand</th>\n",
       "      <th>H37rv_GeneID</th>\n",
       "      <th>Symbol</th>\n",
       "      <th>ExcludedGroup_Category</th>\n",
       "      <th>PEandPPE_Subfamily</th>\n",
       "      <th>Functional_Category</th>\n",
       "      <th>FP_Count</th>\n",
       "      <th>Length</th>\n",
       "    </tr>\n",
       "  </thead>\n",
       "  <tbody>\n",
       "    <tr>\n",
       "      <th>6286</th>\n",
       "      <td>NC_000962.3</td>\n",
       "      <td>3845970</td>\n",
       "      <td>3847164</td>\n",
       "      <td>NaN</td>\n",
       "      <td>IntergenicRegion_2683_Rv3428c-Rv3429</td>\n",
       "      <td>NaN</td>\n",
       "      <td>Intergenic</td>\n",
       "      <td>NaN</td>\n",
       "      <td>Intergenic</td>\n",
       "      <td>142</td>\n",
       "      <td>1194</td>\n",
       "    </tr>\n",
       "    <tr>\n",
       "      <th>2840</th>\n",
       "      <td>NC_000962.3</td>\n",
       "      <td>1636003</td>\n",
       "      <td>1638229</td>\n",
       "      <td>-</td>\n",
       "      <td>Rv1452c</td>\n",
       "      <td>PE_PGRS28</td>\n",
       "      <td>PE/PPEs</td>\n",
       "      <td>PE_V_PGRS</td>\n",
       "      <td>PE/PPE</td>\n",
       "      <td>59</td>\n",
       "      <td>2226</td>\n",
       "    </tr>\n",
       "  </tbody>\n",
       "</table>\n",
       "</div>"
      ],
      "text/plain": [
       "            Chrom    Start      End Strand                          H37rv_GeneID     Symbol ExcludedGroup_Category PEandPPE_Subfamily Functional_Category  FP_Count  Length\n",
       "6286  NC_000962.3  3845970  3847164    NaN  IntergenicRegion_2683_Rv3428c-Rv3429        NaN             Intergenic                NaN          Intergenic       142    1194\n",
       "2840  NC_000962.3  1636003  1638229      -                               Rv1452c  PE_PGRS28                PE/PPEs          PE_V_PGRS              PE/PPE        59    2226"
      ]
     },
     "execution_count": 22,
     "metadata": {},
     "output_type": "execute_result"
    }
   ],
   "source": [
    "Regions_Top30SourcesOfFPs_FiltMQ30_DF.head(2)"
   ]
  },
  {
   "cell_type": "code",
   "execution_count": 23,
   "metadata": {},
   "outputs": [
    {
     "data": {
      "text/plain": [
       "65394"
      ]
     },
     "execution_count": 23,
     "metadata": {},
     "output_type": "execute_result"
    }
   ],
   "source": [
    "Regions_Top30SourcesOfFPs_FiltMQ30_DF[\"Length\"].sum()"
   ]
  },
  {
   "cell_type": "code",
   "execution_count": 24,
   "metadata": {},
   "outputs": [
    {
     "data": {
      "text/plain": [
       "1.4823421886093087"
      ]
     },
     "execution_count": 24,
     "metadata": {},
     "output_type": "execute_result"
    }
   ],
   "source": [
    "Regions_Top30SourcesOfFPs_FiltMQ30_DF[\"Length\"].sum() / 4411532 * 100"
   ]
  },
  {
   "cell_type": "code",
   "execution_count": null,
   "metadata": {},
   "outputs": [],
   "source": []
  },
  {
   "cell_type": "markdown",
   "metadata": {},
   "source": [
    "### Output BED file for the top 30 regions ranked by # of FPs"
   ]
  },
  {
   "cell_type": "code",
   "execution_count": 25,
   "metadata": {},
   "outputs": [],
   "source": [
    "Regions_Top30SourcesOfFPs_FiltMQ30_BED_PATH = f\"{FalsePositive_Analysis_V2_Dir}/210202_Mtb_H37rv.Top30SourcesOfFPs.FiltMQ30.bed\" \n",
    "Regions_Top30SourcesOfFPs_FiltMQ30_BED_WithHeader_PATH = f\"{FalsePositive_Analysis_V2_Dir}/210202_Mtb_H37rv.Top30SourcesOfFPs.FiltMQ30.WithHeader.bed\" \n",
    "\n",
    "\n",
    "Regions_Top30SourcesOfFPs_FiltMQ30_DF.to_csv(Regions_Top30SourcesOfFPs_FiltMQ30_BED_PATH,\n",
    "                           sep = \"\\t\",\n",
    "                           index = False,\n",
    "                           header = False)\n",
    "\n",
    "\n",
    "Regions_Top30SourcesOfFPs_FiltMQ30_DF.to_csv(Regions_Top30SourcesOfFPs_FiltMQ30_BED_WithHeader_PATH,\n",
    "                           sep = \"\\t\",\n",
    "                           index = False,\n",
    "                           header = True)\n",
    "\n"
   ]
  },
  {
   "cell_type": "code",
   "execution_count": 26,
   "metadata": {},
   "outputs": [
    {
     "name": "stdout",
     "output_type": "stream",
     "text": [
      "total 1008K\n",
      "drwxrwsr-x  2 mm774 farhat  453 Feb  2 23:37 .\n",
      "drwxrwsr-x 12 mm774 farhat  574 Mar 29 19:36 ..\n",
      "-rw-rw-r--  1 mm774 farhat 637K Mar 28 22:17 200901_Mtb_H37rv_AllRegions_Info.SNPs.All.FPs.bed\n",
      "-rw-rw-r--  1 mm774 farhat 637K Mar 28 22:17 200901_Mtb_H37rv_AllRegions_Info.SNPs.FPs.FiltMQ30.bed\n",
      "-rw-rw-r--  1 mm774 farhat 2.6K Mar 30 13:12 210202_Mtb_H37rv.Top30SourcesOfFPs.FiltMQ30.bed\n",
      "-rw-rw-r--  1 mm774 farhat 2.7K Mar 30 13:12 210202_Mtb_H37rv.Top30SourcesOfFPs.FiltMQ30.WithHeader.bed\n",
      "-rw-rw-r--  1 mm774 farhat 665K Mar 28 22:17 H37Rv_AllRegions_GeneAndIntergenic_NumberOf_FPs.FiltMQ30.tsv\n",
      "-rw-rw-r--  1 mm774 farhat  92K Mar 28 22:17 PMP_36CI.SNPs.All.FPs.FiltMQ30.vcf\n",
      "-rw-rw-r--  1 mm774 farhat 112K Mar 28 22:17 PMP_36CI.SNPs.All.FPs.vcf\n"
     ]
    }
   ],
   "source": [
    "!ls -lah $FalsePositive_Analysis_V2_Dir"
   ]
  },
  {
   "cell_type": "code",
   "execution_count": null,
   "metadata": {},
   "outputs": [],
   "source": []
  },
  {
   "cell_type": "markdown",
   "metadata": {},
   "source": [
    "# B) Regions with EBR scores < 0.9"
   ]
  },
  {
   "cell_type": "code",
   "execution_count": 27,
   "metadata": {},
   "outputs": [],
   "source": [
    "PB_Vs_Illumina_DataAnalysis_Dir = \"../../../210112_PBvsI_VCeval_AnalysisDir_V7_36CI\"\n",
    "PBvIll_EBR_Dir = PB_Vs_Illumina_DataAnalysis_Dir + \"/210112_EBR_H37rv_36CI_MM2vsPilon_V7\"     \n",
    "PBvsIll_EBR_IndivSample_NPZs = f\"{PBvIll_EBR_Dir}/210112_EBR_H37rv_IndividualSampleRecall_NPZs\"\n",
    "\n",
    "EBR_36CI_BED_Below_09_AllPos_PATH = f\"{PBvIll_EBR_Dir}/EBR_V7_36CI.Below_0.9.And.Ambiguous.AllPositions.bed\"\n",
    "EBR_36CI_BED_Below_09_Regions_PATH = f\"{PBvIll_EBR_Dir}/EBR_V7_36CI.Below_0.9.And.Ambiguous.Regions.bed\"\n"
   ]
  },
  {
   "cell_type": "code",
   "execution_count": 28,
   "metadata": {},
   "outputs": [
    {
     "data": {
      "text/plain": [
       "(884, 4)"
      ]
     },
     "execution_count": 28,
     "metadata": {},
     "output_type": "execute_result"
    }
   ],
   "source": [
    "EBR_36CI_WGS40X_BED_DF_Regions_Below09 = pd.read_csv(EBR_36CI_BED_Below_09_Regions_PATH, sep = '\\t', header=None)\n",
    "EBR_36CI_WGS40X_BED_DF_Regions_Below09.columns = [\"Chrom\", \"Start\", \"End\"]\n",
    "EBR_36CI_WGS40X_BED_DF_Regions_Below09[\"Length\"] = EBR_36CI_WGS40X_BED_DF_Regions_Below09[\"End\"] - EBR_36CI_WGS40X_BED_DF_Regions_Below09[\"Start\"]\n",
    "EBR_36CI_WGS40X_BED_DF_Regions_Below09.shape"
   ]
  },
  {
   "cell_type": "code",
   "execution_count": 29,
   "metadata": {},
   "outputs": [
    {
     "data": {
      "text/html": [
       "<div>\n",
       "<style scoped>\n",
       "    .dataframe tbody tr th:only-of-type {\n",
       "        vertical-align: middle;\n",
       "    }\n",
       "\n",
       "    .dataframe tbody tr th {\n",
       "        vertical-align: top;\n",
       "    }\n",
       "\n",
       "    .dataframe thead th {\n",
       "        text-align: right;\n",
       "    }\n",
       "</style>\n",
       "<table border=\"1\" class=\"dataframe\">\n",
       "  <thead>\n",
       "    <tr style=\"text-align: right;\">\n",
       "      <th></th>\n",
       "      <th>Chrom</th>\n",
       "      <th>Start</th>\n",
       "      <th>End</th>\n",
       "      <th>Length</th>\n",
       "    </tr>\n",
       "  </thead>\n",
       "  <tbody>\n",
       "    <tr>\n",
       "      <th>0</th>\n",
       "      <td>NC_000962.3</td>\n",
       "      <td>24720</td>\n",
       "      <td>24738</td>\n",
       "      <td>18</td>\n",
       "    </tr>\n",
       "    <tr>\n",
       "      <th>1</th>\n",
       "      <td>NC_000962.3</td>\n",
       "      <td>39029</td>\n",
       "      <td>39030</td>\n",
       "      <td>1</td>\n",
       "    </tr>\n",
       "    <tr>\n",
       "      <th>2</th>\n",
       "      <td>NC_000962.3</td>\n",
       "      <td>55548</td>\n",
       "      <td>55647</td>\n",
       "      <td>99</td>\n",
       "    </tr>\n",
       "    <tr>\n",
       "      <th>3</th>\n",
       "      <td>NC_000962.3</td>\n",
       "      <td>71464</td>\n",
       "      <td>71584</td>\n",
       "      <td>120</td>\n",
       "    </tr>\n",
       "    <tr>\n",
       "      <th>4</th>\n",
       "      <td>NC_000962.3</td>\n",
       "      <td>79569</td>\n",
       "      <td>83035</td>\n",
       "      <td>3466</td>\n",
       "    </tr>\n",
       "  </tbody>\n",
       "</table>\n",
       "</div>"
      ],
      "text/plain": [
       "         Chrom  Start    End  Length\n",
       "0  NC_000962.3  24720  24738      18\n",
       "1  NC_000962.3  39029  39030       1\n",
       "2  NC_000962.3  55548  55647      99\n",
       "3  NC_000962.3  71464  71584     120\n",
       "4  NC_000962.3  79569  83035    3466"
      ]
     },
     "execution_count": 29,
     "metadata": {},
     "output_type": "execute_result"
    }
   ],
   "source": [
    "EBR_36CI_WGS40X_BED_DF_Regions_Below09.head()"
   ]
  },
  {
   "cell_type": "code",
   "execution_count": 138,
   "metadata": {},
   "outputs": [
    {
     "data": {
      "text/plain": [
       "141960"
      ]
     },
     "execution_count": 138,
     "metadata": {},
     "output_type": "execute_result"
    }
   ],
   "source": [
    "EBR_36CI_WGS40X_BED_DF_Regions_Below09[\"Length\"].sum()"
   ]
  },
  {
   "cell_type": "code",
   "execution_count": null,
   "metadata": {},
   "outputs": [],
   "source": []
  },
  {
   "cell_type": "code",
   "execution_count": null,
   "metadata": {},
   "outputs": [],
   "source": []
  },
  {
   "cell_type": "code",
   "execution_count": null,
   "metadata": {},
   "outputs": [],
   "source": []
  },
  {
   "cell_type": "markdown",
   "metadata": {
    "toc-hr-collapsed": false
   },
   "source": [
    "# C) Regions frequently defined as Ambigous in more than 25% of isolates (in 10 or more isolates)"
   ]
  },
  {
   "cell_type": "code",
   "execution_count": 30,
   "metadata": {},
   "outputs": [
    {
     "data": {
      "text/plain": [
       "9.0"
      ]
     },
     "execution_count": 30,
     "metadata": {},
     "output_type": "execute_result"
    }
   ],
   "source": [
    "36 * 0.25"
   ]
  },
  {
   "cell_type": "code",
   "execution_count": 31,
   "metadata": {},
   "outputs": [
    {
     "name": "stdout",
     "output_type": "stream",
     "text": [
      "total 568K\n",
      "drwxrwsr-x  4 mm774 farhat  288 Mar 30 13:12 .\n",
      "drwxrwsr-x 85 mm774 farhat 4.9K Mar 26 23:43 ..\n",
      "-rw-rw-r--  1 mm774 farhat 133K Mar 30 13:12 210202_3_A_Define_RefinedLowConfidenceRegions_V1.ipynb\n",
      "-rw-rw-r--  1 mm774 farhat 388K Mar 30 12:27 210219_3_B_HapPy_VC_PR_Curves_V2_UsingMinimap2GroundTruth_PilonVCing_SNPs_And_INDELs_EBR_V7_WiRLCRemoved.ipynb\n",
      "drwxrwsr-x  2 mm774 farhat  216 Mar 30 12:25 Illumina_VariantCalling_Eval_Plots\n",
      "drwxrwsr-x  2 mm774 farhat  222 Mar 26 23:44 .ipynb_checkpoints\n"
     ]
    }
   ],
   "source": [
    "!ls -lah $PBvIll_EBR_Ambigous_RegionsDir"
   ]
  },
  {
   "cell_type": "code",
   "execution_count": 32,
   "metadata": {},
   "outputs": [],
   "source": [
    "# Define directory for analysis\n",
    "\n",
    "PBvIll_EBR_Ambigous_RegionsDir = f\"{PBvIll_EBR_Dir}/EBR_36CI_AmbigousRegions\"\n",
    "\n",
    "EBR_36CI_Ambigous_Regions_BED_PATH = f\"{PBvIll_EBR_Ambigous_RegionsDir}/EBR_36CI_AmbigousRegions_V1.bed\"\n",
    "EBR_36CI_Ambigous_Regions_WithHeader_BED_PATH = f\"{PBvIll_EBR_Ambigous_RegionsDir}/EBR_36CI_AmbigousRegions_V1.WithHeader.bed.tsv\"     \n",
    "\n",
    "\n",
    "EBR_36CI_BED_DF_AMB_ONLY = pd.read_csv(EBR_36CI_Ambigous_Regions_WithHeader_BED_PATH, sep = \"\\t\")\n"
   ]
  },
  {
   "cell_type": "code",
   "execution_count": 33,
   "metadata": {},
   "outputs": [
    {
     "name": "stdout",
     "output_type": "stream",
     "text": [
      "chrom\tchromStart\tchromEnd\tname\tscore\tLength\n",
      "NC_000962.3\t334641\t334653\tRegion996_Length_12_bp\tAmbiguous\t12\n",
      "NC_000962.3\t334694\t334723\tRegion998_Length_29_bp\tAmbiguous\t29\n",
      "NC_000962.3\t888762\t889020\tRegion4252_Length_258_bp\tAmbiguous\t258\n",
      "NC_000962.3\t889033\t890373\tRegion4254_Length_1340_bp\tAmbiguous\t1340\n",
      "NC_000962.3\t1093947\t1094062\tRegion5514_Length_115_bp\tAmbiguous\t115\n"
     ]
    }
   ],
   "source": [
    "!head -n 6 $EBR_36CI_Ambigous_Regions_WithHeader_BED_PATH"
   ]
  },
  {
   "cell_type": "code",
   "execution_count": 34,
   "metadata": {},
   "outputs": [
    {
     "data": {
      "text/html": [
       "<div>\n",
       "<style scoped>\n",
       "    .dataframe tbody tr th:only-of-type {\n",
       "        vertical-align: middle;\n",
       "    }\n",
       "\n",
       "    .dataframe tbody tr th {\n",
       "        vertical-align: top;\n",
       "    }\n",
       "\n",
       "    .dataframe thead th {\n",
       "        text-align: right;\n",
       "    }\n",
       "</style>\n",
       "<table border=\"1\" class=\"dataframe\">\n",
       "  <thead>\n",
       "    <tr style=\"text-align: right;\">\n",
       "      <th></th>\n",
       "      <th>chrom</th>\n",
       "      <th>chromStart</th>\n",
       "      <th>chromEnd</th>\n",
       "      <th>name</th>\n",
       "      <th>score</th>\n",
       "      <th>Length</th>\n",
       "    </tr>\n",
       "  </thead>\n",
       "  <tbody>\n",
       "    <tr>\n",
       "      <th>0</th>\n",
       "      <td>NC_000962.3</td>\n",
       "      <td>334641</td>\n",
       "      <td>334653</td>\n",
       "      <td>Region996_Length_12_bp</td>\n",
       "      <td>Ambiguous</td>\n",
       "      <td>12</td>\n",
       "    </tr>\n",
       "    <tr>\n",
       "      <th>1</th>\n",
       "      <td>NC_000962.3</td>\n",
       "      <td>334694</td>\n",
       "      <td>334723</td>\n",
       "      <td>Region998_Length_29_bp</td>\n",
       "      <td>Ambiguous</td>\n",
       "      <td>29</td>\n",
       "    </tr>\n",
       "    <tr>\n",
       "      <th>2</th>\n",
       "      <td>NC_000962.3</td>\n",
       "      <td>888762</td>\n",
       "      <td>889020</td>\n",
       "      <td>Region4252_Length_258_bp</td>\n",
       "      <td>Ambiguous</td>\n",
       "      <td>258</td>\n",
       "    </tr>\n",
       "    <tr>\n",
       "      <th>3</th>\n",
       "      <td>NC_000962.3</td>\n",
       "      <td>889033</td>\n",
       "      <td>890373</td>\n",
       "      <td>Region4254_Length_1340_bp</td>\n",
       "      <td>Ambiguous</td>\n",
       "      <td>1340</td>\n",
       "    </tr>\n",
       "    <tr>\n",
       "      <th>4</th>\n",
       "      <td>NC_000962.3</td>\n",
       "      <td>1093947</td>\n",
       "      <td>1094062</td>\n",
       "      <td>Region5514_Length_115_bp</td>\n",
       "      <td>Ambiguous</td>\n",
       "      <td>115</td>\n",
       "    </tr>\n",
       "  </tbody>\n",
       "</table>\n",
       "</div>"
      ],
      "text/plain": [
       "         chrom  chromStart  chromEnd                       name      score  Length\n",
       "0  NC_000962.3      334641    334653     Region996_Length_12_bp  Ambiguous      12\n",
       "1  NC_000962.3      334694    334723     Region998_Length_29_bp  Ambiguous      29\n",
       "2  NC_000962.3      888762    889020   Region4252_Length_258_bp  Ambiguous     258\n",
       "3  NC_000962.3      889033    890373  Region4254_Length_1340_bp  Ambiguous    1340\n",
       "4  NC_000962.3     1093947   1094062   Region5514_Length_115_bp  Ambiguous     115"
      ]
     },
     "execution_count": 34,
     "metadata": {},
     "output_type": "execute_result"
    }
   ],
   "source": [
    "EBR_36CI_BED_DF_AMB_ONLY.head(5)"
   ]
  },
  {
   "cell_type": "code",
   "execution_count": null,
   "metadata": {},
   "outputs": [],
   "source": []
  },
  {
   "cell_type": "markdown",
   "metadata": {},
   "source": [
    "### What % of the genome had high levels of ambiguouity in EBR analysis? (> 25% of isolates with Amb at position) \n",
    "\n",
    "#### Answer: 0.35% (15,813 bp of the genome, largely in MGEs)"
   ]
  },
  {
   "cell_type": "code",
   "execution_count": 35,
   "metadata": {},
   "outputs": [
    {
     "data": {
      "text/plain": [
       "(24, 6)"
      ]
     },
     "execution_count": 35,
     "metadata": {},
     "output_type": "execute_result"
    }
   ],
   "source": [
    "EBR_36CI_BED_DF_AMB_ONLY.shape"
   ]
  },
  {
   "cell_type": "code",
   "execution_count": 36,
   "metadata": {},
   "outputs": [
    {
     "data": {
      "text/plain": [
       "15813"
      ]
     },
     "execution_count": 36,
     "metadata": {},
     "output_type": "execute_result"
    }
   ],
   "source": [
    "EBR_36CI_BED_DF_AMB_ONLY[\"Length\"].sum()"
   ]
  },
  {
   "cell_type": "code",
   "execution_count": 37,
   "metadata": {},
   "outputs": [
    {
     "data": {
      "text/plain": [
       "0.35844690687951486"
      ]
     },
     "execution_count": 37,
     "metadata": {},
     "output_type": "execute_result"
    }
   ],
   "source": [
    "(EBR_36CI_BED_DF_AMB_ONLY[\"Length\"].sum() / 4411532) * 100"
   ]
  },
  {
   "cell_type": "code",
   "execution_count": null,
   "metadata": {},
   "outputs": [],
   "source": []
  },
  {
   "cell_type": "code",
   "execution_count": null,
   "metadata": {},
   "outputs": [],
   "source": []
  },
  {
   "cell_type": "code",
   "execution_count": null,
   "metadata": {},
   "outputs": [],
   "source": []
  },
  {
   "cell_type": "markdown",
   "metadata": {
    "toc-hr-collapsed": false
   },
   "source": [
    "# Z) Define positions with P-map-K50-E4 < 1.0 (Bonus region masking for ultra-conservative approach)"
   ]
  },
  {
   "cell_type": "markdown",
   "metadata": {},
   "source": [
    "## Read back in pickle of Genmap pileup mappability calculations"
   ]
  },
  {
   "cell_type": "code",
   "execution_count": 38,
   "metadata": {},
   "outputs": [],
   "source": [
    "Genmap_Map_AnalysisDir = PB_Vs_Illumina_DataAnalysis_Dir + \"/201027_Genmap_Mappability_H37rv_V1\"  \n",
    "ParsedAndPickled_GenmapOutput = f\"{Genmap_Map_AnalysisDir}/201027_ParsedAndPickled_GenmapOutput\"\n",
    "\n",
    "Pickle_PATH_dictOf_GM_PileupMap_Arrays = ParsedAndPickled_GenmapOutput + \"/201027_dictOf_GM_PileupMap_Arrays.pickle\"   \n"
   ]
  },
  {
   "cell_type": "code",
   "execution_count": 39,
   "metadata": {},
   "outputs": [
    {
     "data": {
      "text/plain": [
       "dict_keys(['K50_E0', 'K50_E2', 'K50_E4', 'K75_E0', 'K75_E2', 'K75_E4', 'K100_E0', 'K100_E2', 'K100_E4', 'K125_E0', 'K125_E2', 'K125_E4', 'K150_E0', 'K150_E2', 'K150_E4'])"
      ]
     },
     "execution_count": 39,
     "metadata": {},
     "output_type": "execute_result"
    }
   ],
   "source": [
    "with open(Pickle_PATH_dictOf_GM_PileupMap_Arrays, \"rb\") as f: dictOf_GM_PileupMap_Arrays = pickle.load(f)\n",
    "\n",
    "dictOf_GM_PileupMap_Arrays.keys()"
   ]
  },
  {
   "cell_type": "code",
   "execution_count": 40,
   "metadata": {},
   "outputs": [],
   "source": [
    "#!ls -1 $Genmap_Map_AnalysisDir/ "
   ]
  },
  {
   "cell_type": "code",
   "execution_count": 41,
   "metadata": {},
   "outputs": [],
   "source": [
    "PMap_K50E4_200730_BED_BELOW_1_PATH = f\"{Genmap_Map_AnalysisDir}/201027_PMap_K50E4_BaseLevelInfo_BELOW_1.bed\"\n",
    "\n",
    "PMap_K50E4_200730_BED_REGIONS_BELOW_1_PATH = f\"{Genmap_Map_AnalysisDir}/201027_PMap_K50E4_Regions_BELOW_1.bed\"     \n"
   ]
  },
  {
   "cell_type": "code",
   "execution_count": 42,
   "metadata": {},
   "outputs": [
    {
     "name": "stdout",
     "output_type": "stream",
     "text": [
      "NC_000962.3\t23173\t23238\n",
      "NC_000962.3\t79499\t79574\n",
      "NC_000962.3\t80181\t80380\n"
     ]
    }
   ],
   "source": [
    "!head $PMap_K50E4_200730_BED_REGIONS_BELOW_1_PATH | head -n 3"
   ]
  },
  {
   "cell_type": "code",
   "execution_count": 43,
   "metadata": {},
   "outputs": [
    {
     "data": {
      "text/plain": [
       "(1092, 4)"
      ]
     },
     "execution_count": 43,
     "metadata": {},
     "output_type": "execute_result"
    }
   ],
   "source": [
    "PMap_K50E4_BED_Below1_DF = pd.read_csv(PMap_K50E4_200730_BED_REGIONS_BELOW_1_PATH, sep = \"\\t\", header = None)\n",
    "PMap_K50E4_BED_Below1_DF.columns = [\"Chrom\", \"Start\", \"End\"]\n",
    "PMap_K50E4_BED_Below1_DF[\"Length\"] = PMap_K50E4_BED_Below1_DF[\"End\"] - PMap_K50E4_BED_Below1_DF[\"Start\"]\n",
    "PMap_K50E4_BED_Below1_DF.shape"
   ]
  },
  {
   "cell_type": "code",
   "execution_count": 44,
   "metadata": {},
   "outputs": [
    {
     "data": {
      "text/html": [
       "<div>\n",
       "<style scoped>\n",
       "    .dataframe tbody tr th:only-of-type {\n",
       "        vertical-align: middle;\n",
       "    }\n",
       "\n",
       "    .dataframe tbody tr th {\n",
       "        vertical-align: top;\n",
       "    }\n",
       "\n",
       "    .dataframe thead th {\n",
       "        text-align: right;\n",
       "    }\n",
       "</style>\n",
       "<table border=\"1\" class=\"dataframe\">\n",
       "  <thead>\n",
       "    <tr style=\"text-align: right;\">\n",
       "      <th></th>\n",
       "      <th>Chrom</th>\n",
       "      <th>Start</th>\n",
       "      <th>End</th>\n",
       "      <th>Length</th>\n",
       "    </tr>\n",
       "  </thead>\n",
       "  <tbody>\n",
       "    <tr>\n",
       "      <th>0</th>\n",
       "      <td>NC_000962.3</td>\n",
       "      <td>23173</td>\n",
       "      <td>23238</td>\n",
       "      <td>65</td>\n",
       "    </tr>\n",
       "    <tr>\n",
       "      <th>1</th>\n",
       "      <td>NC_000962.3</td>\n",
       "      <td>79499</td>\n",
       "      <td>79574</td>\n",
       "      <td>75</td>\n",
       "    </tr>\n",
       "    <tr>\n",
       "      <th>2</th>\n",
       "      <td>NC_000962.3</td>\n",
       "      <td>80181</td>\n",
       "      <td>80380</td>\n",
       "      <td>199</td>\n",
       "    </tr>\n",
       "    <tr>\n",
       "      <th>3</th>\n",
       "      <td>NC_000962.3</td>\n",
       "      <td>80459</td>\n",
       "      <td>80518</td>\n",
       "      <td>59</td>\n",
       "    </tr>\n",
       "    <tr>\n",
       "      <th>4</th>\n",
       "      <td>NC_000962.3</td>\n",
       "      <td>82166</td>\n",
       "      <td>82238</td>\n",
       "      <td>72</td>\n",
       "    </tr>\n",
       "  </tbody>\n",
       "</table>\n",
       "</div>"
      ],
      "text/plain": [
       "         Chrom  Start    End  Length\n",
       "0  NC_000962.3  23173  23238      65\n",
       "1  NC_000962.3  79499  79574      75\n",
       "2  NC_000962.3  80181  80380     199\n",
       "3  NC_000962.3  80459  80518      59\n",
       "4  NC_000962.3  82166  82238      72"
      ]
     },
     "execution_count": 44,
     "metadata": {},
     "output_type": "execute_result"
    }
   ],
   "source": [
    "PMap_K50E4_BED_Below1_DF.head()"
   ]
  },
  {
   "cell_type": "code",
   "execution_count": null,
   "metadata": {},
   "outputs": [],
   "source": []
  },
  {
   "cell_type": "code",
   "execution_count": null,
   "metadata": {},
   "outputs": [],
   "source": []
  },
  {
   "cell_type": "code",
   "execution_count": null,
   "metadata": {},
   "outputs": [],
   "source": []
  },
  {
   "cell_type": "code",
   "execution_count": null,
   "metadata": {},
   "outputs": [],
   "source": []
  },
  {
   "cell_type": "code",
   "execution_count": null,
   "metadata": {},
   "outputs": [],
   "source": []
  },
  {
   "cell_type": "code",
   "execution_count": null,
   "metadata": {},
   "outputs": [],
   "source": []
  },
  {
   "cell_type": "code",
   "execution_count": null,
   "metadata": {},
   "outputs": [],
   "source": []
  },
  {
   "cell_type": "code",
   "execution_count": null,
   "metadata": {},
   "outputs": [],
   "source": []
  },
  {
   "cell_type": "markdown",
   "metadata": {},
   "source": [
    "## Evaluate coverage of all 3 PLC subcategories with AMB regions\n",
    "A total of 262 bp (1.8% of all 36CI-Amb Regions) were from regions which didn't overlap with regions that were already part of the PLC regions\n"
   ]
  },
  {
   "cell_type": "code",
   "execution_count": 45,
   "metadata": {},
   "outputs": [
    {
     "data": {
      "text/plain": [
       "15551"
      ]
     },
     "execution_count": 45,
     "metadata": {},
     "output_type": "execute_result"
    }
   ],
   "source": [
    "15813 - 262"
   ]
  },
  {
   "cell_type": "code",
   "execution_count": 46,
   "metadata": {},
   "outputs": [
    {
     "data": {
      "text/plain": [
       "0.9834313539492823"
      ]
     },
     "execution_count": 46,
     "metadata": {},
     "output_type": "execute_result"
    }
   ],
   "source": [
    "15551/15813"
   ]
  },
  {
   "cell_type": "code",
   "execution_count": 47,
   "metadata": {},
   "outputs": [
    {
     "name": "stdout",
     "output_type": "stream",
     "text": [
      "NC_000962.3\t334641\t334653\tRegion996_Length_12_bp\tAmbiguous\t12\t1\t12\t12\t1.0000000\n",
      "NC_000962.3\t334694\t334723\tRegion998_Length_29_bp\tAmbiguous\t29\t1\t29\t29\t1.0000000\n",
      "NC_000962.3\t888762\t889020\tRegion4252_Length_258_bp\tAmbiguous\t258\t0\t0\t258\t0.0000000\n",
      "NC_000962.3\t889033\t890373\tRegion4254_Length_1340_bp\tAmbiguous\t1340\t2\t1262\t1340\t0.9417911\n",
      "NC_000962.3\t1093947\t1094062\tRegion5514_Length_115_bp\tAmbiguous\t115\t1\t115\t115\t1.0000000\n",
      "NC_000962.3\t1480948\t1481670\tRegion7844_Length_722_bp\tAmbiguous\t722\t1\t722\t722\t1.0000000\n",
      "NC_000962.3\t1541951\t1543304\tRegion8088_Length_1353_bp\tAmbiguous\t1353\t2\t1262\t1353\t0.9327421\n",
      "NC_000962.3\t1637087\t1637214\tRegion8717_Length_127_bp\tAmbiguous\t127\t1\t127\t127\t1.0000000\n",
      "NC_000962.3\t1987702\t1989057\tRegion9675_Length_1355_bp\tAmbiguous\t1355\t2\t1262\t1355\t0.9313653\n",
      "NC_000962.3\t1996100\t1997452\tRegion9810_Length_1352_bp\tAmbiguous\t1352\t3\t1297\t1352\t0.9593195\n",
      "NC_000962.3\t2268721\t2268725\tRegion11088_Length_4_bp\tAmbiguous\t4\t0\t0\t4\t0.0000000\n",
      "NC_000962.3\t2550013\t2551366\tRegion12413_Length_1353_bp\tAmbiguous\t1353\t3\t1278\t1353\t0.9445676\n",
      "NC_000962.3\t2632922\t2636929\tRegion12611_Length_4007_bp\tAmbiguous\t4007\t4\t3503\t4007\t0.8742201\n",
      "NC_000962.3\t2638985\t2639613\tRegion12647_Length_628_bp\tAmbiguous\t628\t1\t550\t628\t0.8757962\n",
      "NC_000962.3\t2866882\t2867400\tRegion13779_Length_518_bp\tAmbiguous\t518\t2\t518\t518\t1.0000000\n",
      "NC_000962.3\t3528674\t3528971\tRegion16381_Length_297_bp\tAmbiguous\t297\t1\t297\t297\t1.0000000\n",
      "NC_000962.3\t3528974\t3529181\tRegion16383_Length_207_bp\tAmbiguous\t207\t1\t189\t207\t0.9130435\n",
      "NC_000962.3\t3552587\t3552712\tRegion16414_Length_125_bp\tAmbiguous\t125\t0\t0\t125\t0.0000000\n",
      "NC_000962.3\t3732552\t3732570\tRegion16840_Length_18_bp\tAmbiguous\t18\t1\t18\t18\t1.0000000\n",
      "NC_000962.3\t3846591\t3846841\tRegion18146_Length_250_bp\tAmbiguous\t250\t0\t0\t250\t0.0000000\n",
      "NC_000962.3\t3890778\t3892133\tRegion18450_Length_1355_bp\tAmbiguous\t1355\t2\t1262\t1355\t0.9313653\n",
      "NC_000962.3\t3936085\t3936296\tRegion19317_Length_211_bp\tAmbiguous\t211\t1\t211\t211\t1.0000000\n",
      "NC_000962.3\t3946794\t3946879\tRegion19916_Length_85_bp\tAmbiguous\t85\t1\t85\t85\t1.0000000\n",
      "NC_000962.3\t3949264\t3949356\tRegion20221_Length_92_bp\tAmbiguous\t92\t1\t92\t92\t1.0000000\n"
     ]
    }
   ],
   "source": [
    "!bedtools coverage -a $EBR_36CI_Ambigous_Regions_BED_PATH -b $Mtb_H37rv_pLCRegions_Coscolla_Subset_PEPPEs_BED_PATH $Mtb_H37rv_pLCRegions_Coscolla_Subset_MGEs_BED_PATH $Mtb_H37rv_pLCRegions_Coscolla_Subset_RepetitiveGenes_BED_PATH"
   ]
  },
  {
   "cell_type": "markdown",
   "metadata": {},
   "source": [
    "### Evaluate coverage between Amb Regions and Regions w/ P-map-K50-E4 < 1.0"
   ]
  },
  {
   "cell_type": "code",
   "execution_count": 48,
   "metadata": {},
   "outputs": [
    {
     "name": "stdout",
     "output_type": "stream",
     "text": [
      "NC_000962.3\t334641\t334653\tRegion996_Length_12_bp\tAmbiguous\t12\t1\t12\t12\t1.0000000\n",
      "NC_000962.3\t334694\t334723\tRegion998_Length_29_bp\tAmbiguous\t29\t1\t29\t29\t1.0000000\n",
      "NC_000962.3\t888762\t889020\tRegion4252_Length_258_bp\tAmbiguous\t258\t1\t7\t258\t0.0271318\n",
      "NC_000962.3\t889033\t890373\tRegion4254_Length_1340_bp\tAmbiguous\t1340\t1\t1340\t1340\t1.0000000\n",
      "NC_000962.3\t1093947\t1094062\tRegion5514_Length_115_bp\tAmbiguous\t115\t1\t115\t115\t1.0000000\n",
      "NC_000962.3\t1480948\t1481670\tRegion7844_Length_722_bp\tAmbiguous\t722\t5\t375\t722\t0.5193906\n",
      "NC_000962.3\t1541951\t1543304\tRegion8088_Length_1353_bp\tAmbiguous\t1353\t1\t1353\t1353\t1.0000000\n",
      "NC_000962.3\t1637087\t1637214\tRegion8717_Length_127_bp\tAmbiguous\t127\t1\t87\t127\t0.6850393\n",
      "NC_000962.3\t1987702\t1989057\tRegion9675_Length_1355_bp\tAmbiguous\t1355\t1\t1355\t1355\t1.0000000\n",
      "NC_000962.3\t1996100\t1997452\tRegion9810_Length_1352_bp\tAmbiguous\t1352\t1\t1352\t1352\t1.0000000\n",
      "NC_000962.3\t2268721\t2268725\tRegion11088_Length_4_bp\tAmbiguous\t4\t0\t0\t4\t0.0000000\n",
      "NC_000962.3\t2550013\t2551366\tRegion12413_Length_1353_bp\tAmbiguous\t1353\t1\t1353\t1353\t1.0000000\n",
      "NC_000962.3\t2632922\t2636929\tRegion12611_Length_4007_bp\tAmbiguous\t4007\t6\t1813\t4007\t0.4524582\n",
      "NC_000962.3\t2638985\t2639613\tRegion12647_Length_628_bp\tAmbiguous\t628\t4\t358\t628\t0.5700637\n",
      "NC_000962.3\t2866882\t2867400\tRegion13779_Length_518_bp\tAmbiguous\t518\t2\t517\t518\t0.9980695\n",
      "NC_000962.3\t3528674\t3528971\tRegion16381_Length_297_bp\tAmbiguous\t297\t3\t281\t297\t0.9461280\n",
      "NC_000962.3\t3528974\t3529181\tRegion16383_Length_207_bp\tAmbiguous\t207\t2\t74\t207\t0.3574879\n",
      "NC_000962.3\t3552587\t3552712\tRegion16414_Length_125_bp\tAmbiguous\t125\t2\t15\t125\t0.1200000\n",
      "NC_000962.3\t3732552\t3732570\tRegion16840_Length_18_bp\tAmbiguous\t18\t1\t18\t18\t1.0000000\n",
      "NC_000962.3\t3846591\t3846841\tRegion18146_Length_250_bp\tAmbiguous\t250\t1\t250\t250\t1.0000000\n",
      "NC_000962.3\t3890778\t3892133\tRegion18450_Length_1355_bp\tAmbiguous\t1355\t1\t1355\t1355\t1.0000000\n",
      "NC_000962.3\t3936085\t3936296\tRegion19317_Length_211_bp\tAmbiguous\t211\t1\t211\t211\t1.0000000\n",
      "NC_000962.3\t3946794\t3946879\tRegion19916_Length_85_bp\tAmbiguous\t85\t1\t85\t85\t1.0000000\n",
      "NC_000962.3\t3949264\t3949356\tRegion20221_Length_92_bp\tAmbiguous\t92\t1\t92\t92\t1.0000000\n"
     ]
    }
   ],
   "source": [
    "!bedtools coverage -a $EBR_36CI_Ambigous_Regions_BED_PATH -b $PMap_K50E4_200730_BED_REGIONS_BELOW_1_PATH"
   ]
  },
  {
   "cell_type": "code",
   "execution_count": null,
   "metadata": {},
   "outputs": [],
   "source": []
  },
  {
   "cell_type": "code",
   "execution_count": null,
   "metadata": {},
   "outputs": [],
   "source": []
  },
  {
   "cell_type": "markdown",
   "metadata": {},
   "source": [
    "# Calculating proportion overlap between FP hotspots and EBR < 0.9"
   ]
  },
  {
   "cell_type": "code",
   "execution_count": 49,
   "metadata": {},
   "outputs": [
    {
     "name": "stdout",
     "output_type": "stream",
     "text": [
      "NC_000962.3\t3845970\t3847164\t\tIntergenicRegion_2683_Rv3428c-Rv3429\t\tIntergenic\t\tIntergenic\t142\t1194\n",
      "NC_000962.3\t1636003\t1638229\t-\tRv1452c\tPE_PGRS28\tPE/PPEs\tPE_V_PGRS\tPE/PPE\t59\t2226\n",
      "NC_000962.3\t2162931\t2167311\t-\tRv1917c\tPPE34\tPE/PPEs\tPPE_SL-5_PPE-MPTR\tPE/PPE\t35\t4380\n",
      "NC_000962.3\t1981613\t1984775\t-\tRv1753c\tPPE24\tPE/PPEs\tPPE_SL-5_PPE-MPTR\tPE/PPE\t24\t3162\n",
      "NC_000962.3\t3941723\t3944963\t+\tRv3512\tPE_PGRS56\tPE/PPEs\tPE_V_PGRS\tPE/PPE\t16\t3240\n",
      "NC_000962.3\t3232506\t3232870\t\tIntergenicRegion_2285_Rv2920c-Rv2921c\t\tIntergenic\t\tIntergenic\t16\t364\n",
      "NC_000962.3\t3931004\t3936710\t+\tRv3508\tPE_PGRS54\tPE/PPEs\tPE_V_PGRS\tPE/PPE\t16\t5706\n",
      "NC_000962.3\t3379375\t3380452\t-\tRv3021c\tPPE47\tPE/PPEs\tNone\tPE/PPE\t14\t1077\n",
      "NC_000962.3\t2867123\t2867786\t+\tRv2544\tlppB\tCoscolla Repetitive Genes\tNone\tcell wall and cell processes\t14\t663\n",
      "NC_000962.3\t3945793\t3950263\t+\tRv3514\tPE_PGRS57\tPE/PPEs\tPE_V_PGRS\tPE/PPE\t14\t4470\n"
     ]
    }
   ],
   "source": [
    "!head $Regions_Top30SourcesOfFPs_FiltMQ30_BED_PATH"
   ]
  },
  {
   "cell_type": "code",
   "execution_count": 50,
   "metadata": {},
   "outputs": [
    {
     "name": "stdout",
     "output_type": "stream",
     "text": [
      "NC_000962.3\t24720\t24738\n",
      "NC_000962.3\t39029\t39030\n"
     ]
    }
   ],
   "source": [
    "!head -n 2 $EBR_36CI_BED_Below_09_Regions_PATH"
   ]
  },
  {
   "cell_type": "code",
   "execution_count": 51,
   "metadata": {},
   "outputs": [
    {
     "name": "stdout",
     "output_type": "stream",
     "text": [
      "30277\n"
     ]
    }
   ],
   "source": [
    "!bedtools coverage -a $Regions_Top30SourcesOfFPs_FiltMQ30_BED_PATH -b $EBR_36CI_BED_Below_09_Regions_PATH | cut -f 13 | grep -o '[[:digit:]]*' | paste -sd+ - | bc"
   ]
  },
  {
   "cell_type": "code",
   "execution_count": 52,
   "metadata": {},
   "outputs": [
    {
     "name": "stdout",
     "output_type": "stream",
     "text": [
      "30239\n"
     ]
    }
   ],
   "source": [
    "!bedtools coverage -a $EBR_36CI_BED_Below_09_Regions_PATH -b $Regions_Top30SourcesOfFPs_FiltMQ30_BED_PATH | cut -f 5 | grep -o '[[:digit:]]*' | paste -sd+ - | bc"
   ]
  },
  {
   "cell_type": "code",
   "execution_count": 53,
   "metadata": {},
   "outputs": [
    {
     "name": "stdout",
     "output_type": "stream",
     "text": [
      "NC_000962.3\t24720\t24738\t0\t0\t18\t0.0000000\n",
      "NC_000962.3\t39029\t39030\t0\t0\t1\t0.0000000\n",
      "NC_000962.3\t55548\t55647\t0\t0\t99\t0.0000000\n",
      "NC_000962.3\t71464\t71584\t0\t0\t120\t0.0000000\n",
      "NC_000962.3\t79569\t83035\t0\t0\t3466\t0.0000000\n"
     ]
    }
   ],
   "source": [
    "!bedtools coverage -a $EBR_36CI_BED_Below_09_Regions_PATH -b $Regions_Top30SourcesOfFPs_FiltMQ30_BED_PATH | head -n 5"
   ]
  },
  {
   "cell_type": "code",
   "execution_count": 54,
   "metadata": {},
   "outputs": [
    {
     "name": "stdout",
     "output_type": "stream",
     "text": [
      "NC_000962.3\t3845970\t3847164\t\tIntergenicRegion_2683_Rv3428c-Rv3429\t\tIntergenic\t\tIntergenic\t142\t1194\t1\t1194\t1194\t1.0000000\n",
      "NC_000962.3\t1636003\t1638229\t-\tRv1452c\tPE_PGRS28\tPE/PPEs\tPE_V_PGRS\tPE/PPE\t59\t2226\t1\t2226\t2226\t1.0000000\n",
      "NC_000962.3\t2162931\t2167311\t-\tRv1917c\tPPE34\tPE/PPEs\tPPE_SL-5_PPE-MPTR\tPE/PPE\t35\t4380\t1\t4380\t4380\t1.0000000\n",
      "NC_000962.3\t1981613\t1984775\t-\tRv1753c\tPPE24\tPE/PPEs\tPPE_SL-5_PPE-MPTR\tPE/PPE\t24\t3162\t1\t3162\t3162\t1.0000000\n",
      "NC_000962.3\t3941723\t3944963\t+\tRv3512\tPE_PGRS56\tPE/PPEs\tPE_V_PGRS\tPE/PPE\t16\t3240\t2\t3240\t3240\t1.0000000\n"
     ]
    }
   ],
   "source": [
    "!bedtools coverage -a $Regions_Top30SourcesOfFPs_FiltMQ30_BED_PATH -b $Regions_Top30SourcesOfFPs_FiltMQ30_BED_PATH | head -n 5"
   ]
  },
  {
   "cell_type": "code",
   "execution_count": null,
   "metadata": {},
   "outputs": [],
   "source": []
  },
  {
   "cell_type": "code",
   "execution_count": null,
   "metadata": {},
   "outputs": [],
   "source": []
  },
  {
   "cell_type": "markdown",
   "metadata": {},
   "source": [
    "# Calculating proportion overlap between FP hotspots and non-unique sequence"
   ]
  },
  {
   "cell_type": "code",
   "execution_count": 55,
   "metadata": {},
   "outputs": [
    {
     "name": "stdout",
     "output_type": "stream",
     "text": [
      "NC_000962.3\t3845970\t3847164\t\tIntergenicRegion_2683_Rv3428c-Rv3429\t\tIntergenic\t\tIntergenic\t142\t1194\n",
      "NC_000962.3\t1636003\t1638229\t-\tRv1452c\tPE_PGRS28\tPE/PPEs\tPE_V_PGRS\tPE/PPE\t59\t2226\n",
      "NC_000962.3\t2162931\t2167311\t-\tRv1917c\tPPE34\tPE/PPEs\tPPE_SL-5_PPE-MPTR\tPE/PPE\t35\t4380\n",
      "NC_000962.3\t1981613\t1984775\t-\tRv1753c\tPPE24\tPE/PPEs\tPPE_SL-5_PPE-MPTR\tPE/PPE\t24\t3162\n",
      "NC_000962.3\t3941723\t3944963\t+\tRv3512\tPE_PGRS56\tPE/PPEs\tPE_V_PGRS\tPE/PPE\t16\t3240\n",
      "NC_000962.3\t3232506\t3232870\t\tIntergenicRegion_2285_Rv2920c-Rv2921c\t\tIntergenic\t\tIntergenic\t16\t364\n",
      "NC_000962.3\t3931004\t3936710\t+\tRv3508\tPE_PGRS54\tPE/PPEs\tPE_V_PGRS\tPE/PPE\t16\t5706\n",
      "NC_000962.3\t3379375\t3380452\t-\tRv3021c\tPPE47\tPE/PPEs\tNone\tPE/PPE\t14\t1077\n",
      "NC_000962.3\t2867123\t2867786\t+\tRv2544\tlppB\tCoscolla Repetitive Genes\tNone\tcell wall and cell processes\t14\t663\n",
      "NC_000962.3\t3945793\t3950263\t+\tRv3514\tPE_PGRS57\tPE/PPEs\tPE_V_PGRS\tPE/PPE\t14\t4470\n"
     ]
    }
   ],
   "source": [
    "!head $Regions_Top30SourcesOfFPs_FiltMQ30_BED_PATH"
   ]
  },
  {
   "cell_type": "code",
   "execution_count": 56,
   "metadata": {},
   "outputs": [
    {
     "name": "stdout",
     "output_type": "stream",
     "text": [
      "NC_000962.3\t23173\t23238\n",
      "NC_000962.3\t79499\t79574\n"
     ]
    }
   ],
   "source": [
    "!head -n 2 $PMap_K50E4_200730_BED_REGIONS_BELOW_1_PATH"
   ]
  },
  {
   "cell_type": "code",
   "execution_count": 57,
   "metadata": {},
   "outputs": [
    {
     "name": "stdout",
     "output_type": "stream",
     "text": [
      "28695\n"
     ]
    }
   ],
   "source": [
    "!bedtools coverage -a $Regions_Top30SourcesOfFPs_FiltMQ30_BED_PATH -b $PMap_K50E4_200730_BED_REGIONS_BELOW_1_PATH | cut -f 13 | grep -o '[[:digit:]]*' | paste -sd+ - | bc"
   ]
  },
  {
   "cell_type": "code",
   "execution_count": 58,
   "metadata": {},
   "outputs": [
    {
     "name": "stdout",
     "output_type": "stream",
     "text": [
      "28657\n"
     ]
    }
   ],
   "source": [
    "!bedtools coverage -a $PMap_K50E4_200730_BED_REGIONS_BELOW_1_PATH -b $Regions_Top30SourcesOfFPs_FiltMQ30_BED_PATH | cut -f 5 | grep -o '[[:digit:]]*' | paste -sd+ - | bc"
   ]
  },
  {
   "cell_type": "code",
   "execution_count": 59,
   "metadata": {},
   "outputs": [],
   "source": [
    "#!bedtools coverage -a $PMap_K50E4_200730_BED_REGIONS_BELOW_1_PATH -b $Regions_Top30SourcesOfFPs_FiltMQ30_BED_PATH | cut -f 5"
   ]
  },
  {
   "cell_type": "code",
   "execution_count": 60,
   "metadata": {},
   "outputs": [],
   "source": [
    "#!bedtools coverage -a $Regions_Top30SourcesOfFPs_FiltMQ30_BED_PATH -b $PMap_K50E4_200730_BED_REGIONS_BELOW_1_PATH | cut -f 13"
   ]
  },
  {
   "cell_type": "code",
   "execution_count": 61,
   "metadata": {},
   "outputs": [
    {
     "name": "stdout",
     "output_type": "stream",
     "text": [
      "NC_000962.3\t23173\t23238\t0\t0\t65\t0.0000000\n",
      "NC_000962.3\t79499\t79574\t0\t0\t75\t0.0000000\n",
      "NC_000962.3\t80181\t80380\t0\t0\t199\t0.0000000\n",
      "NC_000962.3\t80459\t80518\t0\t0\t59\t0.0000000\n",
      "NC_000962.3\t82166\t82238\t0\t0\t72\t0.0000000\n"
     ]
    }
   ],
   "source": [
    "!bedtools coverage -a $PMap_K50E4_200730_BED_REGIONS_BELOW_1_PATH -b $Regions_Top30SourcesOfFPs_FiltMQ30_BED_PATH | head -n 5"
   ]
  },
  {
   "cell_type": "code",
   "execution_count": null,
   "metadata": {},
   "outputs": [],
   "source": []
  },
  {
   "cell_type": "code",
   "execution_count": null,
   "metadata": {},
   "outputs": [],
   "source": []
  },
  {
   "cell_type": "markdown",
   "metadata": {},
   "source": [
    "# Calc overlap between SVs and RLC subsets (A,B,C, Z)"
   ]
  },
  {
   "cell_type": "markdown",
   "metadata": {},
   "source": [
    "### Parse in SVs"
   ]
  },
  {
   "cell_type": "code",
   "execution_count": 62,
   "metadata": {},
   "outputs": [],
   "source": [
    "Repo_DataDir = \"../../Data\"\n",
    "\n",
    "PMP_28CI_NucDiff_SV_Analysis_Dir = Repo_DataDir + \"/210126_PMP_36CI_NucDiff_SV_Analysis_Dir\"\n",
    "PMP_28CI_NucDiff_AllSVs_Detected_TSV = PMP_28CI_NucDiff_SV_Analysis_Dir + \"/210126.PMP.36CI.NucDiff_AllSVs_Detected.V2.tsv\"\n",
    "PMP_28CI_NucDiff_AllSVs_Detected_50bp_Filtered_BED = PMP_28CI_NucDiff_SV_Analysis_Dir + \"/210126.PMP.36CI.NucDiff_AllSVs_Detected.V2.50bp.bed\"\n",
    "\n",
    "\n",
    "\n",
    "NucDiff_SVs_28CI_DF = pd.read_csv(PMP_28CI_NucDiff_AllSVs_Detected_TSV, sep=\"\\t\")\n",
    "\n",
    "\n",
    "NucDiff_SVs_28CI_50bp_DF = NucDiff_SVs_28CI_DF[ NucDiff_SVs_28CI_DF[\"SV_Length\"] >= 50]\n",
    "\n",
    "\n",
    "NucDiff_SVs_28CI_50bp_DF.to_csv(PMP_28CI_NucDiff_AllSVs_Detected_50bp_Filtered_BED,\n",
    "                           sep = \"\\t\",\n",
    "                           index = False,\n",
    "                           header = False)\n",
    "\n",
    "\n"
   ]
  },
  {
   "cell_type": "code",
   "execution_count": 132,
   "metadata": {},
   "outputs": [
    {
     "data": {
      "text/plain": [
       "(3620, 7)"
      ]
     },
     "execution_count": 132,
     "metadata": {},
     "output_type": "execute_result"
    }
   ],
   "source": [
    "NucDiff_SVs_28CI_50bp_DF.shape"
   ]
  },
  {
   "cell_type": "code",
   "execution_count": 63,
   "metadata": {},
   "outputs": [
    {
     "name": "stdout",
     "output_type": "stream",
     "text": [
      "total 360K\n",
      "drwxrwsr-x  2 mm774 farhat  197 Feb 19 21:30 .\n",
      "drwxrwsr-x 47 mm774 farhat 2.6K Mar 29 19:36 ..\n",
      "-rw-rw-r--  1 mm774 farhat 218K Mar 30 13:12 210126.PMP.36CI.NucDiff_AllSVs_Detected.V2.50bp.bed\n",
      "-rw-rw-r--  1 mm774 farhat 327K Feb 19 21:28 210126.PMP.36CI.NucDiff_AllSVs_Detected.V2.bed\n",
      "-rw-rw-r--  1 mm774 farhat 327K Mar 26 13:42 210126.PMP.36CI.NucDiff_AllSVs_Detected.V2.tsv\n"
     ]
    }
   ],
   "source": [
    "!ls -lah $PMP_28CI_NucDiff_SV_Analysis_Dir"
   ]
  },
  {
   "cell_type": "code",
   "execution_count": 64,
   "metadata": {},
   "outputs": [
    {
     "name": "stdout",
     "output_type": "stream",
     "text": [
      "  3620 ../../Data/210126_PMP_36CI_NucDiff_SV_Analysis_Dir/210126.PMP.36CI.NucDiff_AllSVs_Detected.V2.50bp.bed\n",
      "  5486 ../../Data/210126_PMP_36CI_NucDiff_SV_Analysis_Dir/210126.PMP.36CI.NucDiff_AllSVs_Detected.V2.bed\n",
      "  5485 ../../Data/210126_PMP_36CI_NucDiff_SV_Analysis_Dir/210126.PMP.36CI.NucDiff_AllSVs_Detected.V2.tsv\n",
      " 14591 total\n"
     ]
    }
   ],
   "source": [
    "!wc -l $PMP_28CI_NucDiff_SV_Analysis_Dir/*"
   ]
  },
  {
   "cell_type": "code",
   "execution_count": 65,
   "metadata": {},
   "outputs": [
    {
     "name": "stdout",
     "output_type": "stream",
     "text": [
      "NC_000962.3\t3845970\t3847164\t\tIntergenicRegion_2683_Rv3428c-Rv3429\t\tIntergenic\t\tIntergenic\t142\t1194\n",
      "NC_000962.3\t1636003\t1638229\t-\tRv1452c\tPE_PGRS28\tPE/PPEs\tPE_V_PGRS\tPE/PPE\t59\t2226\n",
      "NC_000962.3\t2162931\t2167311\t-\tRv1917c\tPPE34\tPE/PPEs\tPPE_SL-5_PPE-MPTR\tPE/PPE\t35\t4380\n",
      "NC_000962.3\t1981613\t1984775\t-\tRv1753c\tPPE24\tPE/PPEs\tPPE_SL-5_PPE-MPTR\tPE/PPE\t24\t3162\n",
      "NC_000962.3\t3941723\t3944963\t+\tRv3512\tPE_PGRS56\tPE/PPEs\tPE_V_PGRS\tPE/PPE\t16\t3240\n",
      "NC_000962.3\t3232506\t3232870\t\tIntergenicRegion_2285_Rv2920c-Rv2921c\t\tIntergenic\t\tIntergenic\t16\t364\n",
      "NC_000962.3\t3931004\t3936710\t+\tRv3508\tPE_PGRS54\tPE/PPEs\tPE_V_PGRS\tPE/PPE\t16\t5706\n",
      "NC_000962.3\t3379375\t3380452\t-\tRv3021c\tPPE47\tPE/PPEs\tNone\tPE/PPE\t14\t1077\n",
      "NC_000962.3\t2867123\t2867786\t+\tRv2544\tlppB\tCoscolla Repetitive Genes\tNone\tcell wall and cell processes\t14\t663\n",
      "NC_000962.3\t3945793\t3950263\t+\tRv3514\tPE_PGRS57\tPE/PPEs\tPE_V_PGRS\tPE/PPE\t14\t4470\n"
     ]
    }
   ],
   "source": [
    "!head $Regions_Top30SourcesOfFPs_FiltMQ30_BED_PATH"
   ]
  },
  {
   "cell_type": "markdown",
   "metadata": {},
   "source": [
    "## SV overlap with RLC - (A): FP hotspot regions"
   ]
  },
  {
   "cell_type": "code",
   "execution_count": 66,
   "metadata": {},
   "outputs": [
    {
     "name": "stdout",
     "output_type": "stream",
     "text": [
      "   2610 0\n",
      "    956 1\n",
      "     29 2\n",
      "     25 4\n"
     ]
    }
   ],
   "source": [
    "!bedtools coverage -a $PMP_28CI_NucDiff_AllSVs_Detected_50bp_Filtered_BED -b $Regions_Top30SourcesOfFPs_FiltMQ30_BED_PATH | cut -f 8 | sort | uniq -c"
   ]
  },
  {
   "cell_type": "code",
   "execution_count": 67,
   "metadata": {},
   "outputs": [
    {
     "data": {
      "text/plain": [
       "1012"
      ]
     },
     "execution_count": 67,
     "metadata": {},
     "output_type": "execute_result"
    }
   ],
   "source": [
    "25 + 29 + 958 "
   ]
  },
  {
   "cell_type": "code",
   "execution_count": 68,
   "metadata": {},
   "outputs": [
    {
     "data": {
      "text/plain": [
       "3622"
      ]
     },
     "execution_count": 68,
     "metadata": {},
     "output_type": "execute_result"
    }
   ],
   "source": [
    "25 + 29 + 958 + 2610"
   ]
  },
  {
   "cell_type": "code",
   "execution_count": 133,
   "metadata": {},
   "outputs": [
    {
     "data": {
      "text/plain": [
       "0.2795580110497238"
      ]
     },
     "execution_count": 133,
     "metadata": {},
     "output_type": "execute_result"
    }
   ],
   "source": [
    "1012/3620"
   ]
  },
  {
   "cell_type": "code",
   "execution_count": 70,
   "metadata": {},
   "outputs": [],
   "source": [
    "awk_text=\"'$8 >= 1 '\""
   ]
  },
  {
   "cell_type": "code",
   "execution_count": 71,
   "metadata": {},
   "outputs": [
    {
     "name": "stdout",
     "output_type": "stream",
     "text": [
      "NC_000962.3\t335050\t337913\ttandem_duplication\t2862\tM0011368_9\tlineage4\t1\t1260\t2863\t0.4400978\n",
      "NC_000962.3\t580760\t580814\ttandem_duplication\t53\tM0011368_9\tlineage4\t1\t48\t54\t0.8888889\n",
      "NC_000962.3\t1983037\t1983350\ttandem_duplication\t312\tM0011368_9\tlineage4\t1\t313\t313\t1.0000000\n",
      "NC_000962.3\t2074547\t2074633\tcollapsed_repeat\t86\tM0011368_9\tlineage4\t1\t86\t86\t1.0000000\n",
      "NC_000962.3\t2163326\t2163530\tduplication\t203\tM0011368_9\tlineage4\t1\t204\t204\t1.0000000\n",
      "NC_000962.3\t2164023\t2164092\tcollapsed_tandem_repeat\t69\tM0011368_9\tlineage4\t1\t69\t69\t1.0000000\n",
      "NC_000962.3\t2166574\t2166575\tinsertion\t1355\tM0011368_9\tlineage4\t1\t1\t1\t1.0000000\n"
     ]
    }
   ],
   "source": [
    "!bedtools coverage -a $PMP_28CI_NucDiff_AllSVs_Detected_50bp_Filtered_BED -b $Regions_Top30SourcesOfFPs_FiltMQ30_BED_PATH  | head -n 30 | awk $awk_text"
   ]
  },
  {
   "cell_type": "code",
   "execution_count": 72,
   "metadata": {},
   "outputs": [
    {
     "name": "stdout",
     "output_type": "stream",
     "text": [
      "1010\n"
     ]
    }
   ],
   "source": [
    "!bedtools coverage -a $PMP_28CI_NucDiff_AllSVs_Detected_50bp_Filtered_BED -b $Regions_Top30SourcesOfFPs_FiltMQ30_BED_PATH | awk $awk_text | wc -l "
   ]
  },
  {
   "cell_type": "code",
   "execution_count": 134,
   "metadata": {},
   "outputs": [
    {
     "data": {
      "text/plain": [
       "0.2795580110497238"
      ]
     },
     "execution_count": 134,
     "metadata": {},
     "output_type": "execute_result"
    }
   ],
   "source": [
    "1010 / 3620"
   ]
  },
  {
   "cell_type": "code",
   "execution_count": null,
   "metadata": {},
   "outputs": [],
   "source": []
  },
  {
   "cell_type": "markdown",
   "metadata": {},
   "source": [
    "## SV overlap with RLC - (B): EBR < 0.9 regions"
   ]
  },
  {
   "cell_type": "code",
   "execution_count": 74,
   "metadata": {},
   "outputs": [
    {
     "data": {
      "text/plain": [
       "'../../../210112_PBvsI_VCeval_AnalysisDir_V7_36CI/210112_EBR_H37rv_36CI_MM2vsPilon_V7/EBR_V7_36CI.Below_0.9.And.Ambiguous.Regions.bed'"
      ]
     },
     "execution_count": 74,
     "metadata": {},
     "output_type": "execute_result"
    }
   ],
   "source": [
    "EBR_36CI_BED_Below_09_Regions_PATH"
   ]
  },
  {
   "cell_type": "code",
   "execution_count": 75,
   "metadata": {},
   "outputs": [
    {
     "name": "stdout",
     "output_type": "stream",
     "text": [
      "2340\n"
     ]
    }
   ],
   "source": [
    "!bedtools coverage -a $PMP_28CI_NucDiff_AllSVs_Detected_50bp_Filtered_BED -b $EBR_36CI_BED_Below_09_Regions_PATH | awk $awk_text | wc -l "
   ]
  },
  {
   "cell_type": "code",
   "execution_count": 135,
   "metadata": {},
   "outputs": [
    {
     "data": {
      "text/plain": [
       "0.6464088397790055"
      ]
     },
     "execution_count": 135,
     "metadata": {},
     "output_type": "execute_result"
    }
   ],
   "source": [
    "2340 / 3620"
   ]
  },
  {
   "cell_type": "code",
   "execution_count": null,
   "metadata": {},
   "outputs": [],
   "source": []
  },
  {
   "cell_type": "markdown",
   "metadata": {},
   "source": [
    "## SV overlap with RLC - (C): Amb regions"
   ]
  },
  {
   "cell_type": "code",
   "execution_count": 76,
   "metadata": {},
   "outputs": [
    {
     "name": "stdout",
     "output_type": "stream",
     "text": [
      "505\n"
     ]
    }
   ],
   "source": [
    "!bedtools coverage -a $PMP_28CI_NucDiff_AllSVs_Detected_50bp_Filtered_BED -b $EBR_36CI_Ambigous_Regions_BED_PATH | awk $awk_text | wc -l "
   ]
  },
  {
   "cell_type": "code",
   "execution_count": 136,
   "metadata": {},
   "outputs": [
    {
     "data": {
      "text/plain": [
       "0.13950276243093923"
      ]
     },
     "execution_count": 136,
     "metadata": {},
     "output_type": "execute_result"
    }
   ],
   "source": [
    "505/3620"
   ]
  },
  {
   "cell_type": "code",
   "execution_count": null,
   "metadata": {},
   "outputs": [],
   "source": []
  },
  {
   "cell_type": "code",
   "execution_count": null,
   "metadata": {},
   "outputs": [],
   "source": []
  },
  {
   "cell_type": "markdown",
   "metadata": {},
   "source": [
    "## SV overlap with RLC - (Z): Low Pmap regions (< 1)"
   ]
  },
  {
   "cell_type": "code",
   "execution_count": 78,
   "metadata": {},
   "outputs": [
    {
     "name": "stdout",
     "output_type": "stream",
     "text": [
      "3620 ../../Data/210126_PMP_36CI_NucDiff_SV_Analysis_Dir/210126.PMP.36CI.NucDiff_AllSVs_Detected.V2.50bp.bed\n"
     ]
    }
   ],
   "source": [
    "!wc -l $PMP_28CI_NucDiff_AllSVs_Detected_50bp_Filtered_BED"
   ]
  },
  {
   "cell_type": "code",
   "execution_count": 79,
   "metadata": {},
   "outputs": [
    {
     "name": "stdout",
     "output_type": "stream",
     "text": [
      "2541\n"
     ]
    }
   ],
   "source": [
    "!bedtools coverage -a $PMP_28CI_NucDiff_AllSVs_Detected_50bp_Filtered_BED -b $PMap_K50E4_200730_BED_REGIONS_BELOW_1_PATH | awk $awk_text | wc -l "
   ]
  },
  {
   "cell_type": "code",
   "execution_count": 137,
   "metadata": {},
   "outputs": [
    {
     "data": {
      "text/plain": [
       "0.7022099447513812"
      ]
     },
     "execution_count": 137,
     "metadata": {},
     "output_type": "execute_result"
    }
   ],
   "source": [
    "2541 / 3620"
   ]
  },
  {
   "cell_type": "code",
   "execution_count": null,
   "metadata": {},
   "outputs": [],
   "source": []
  },
  {
   "cell_type": "code",
   "execution_count": null,
   "metadata": {},
   "outputs": [],
   "source": []
  },
  {
   "cell_type": "code",
   "execution_count": null,
   "metadata": {},
   "outputs": [],
   "source": []
  },
  {
   "cell_type": "code",
   "execution_count": null,
   "metadata": {},
   "outputs": [],
   "source": []
  },
  {
   "cell_type": "code",
   "execution_count": null,
   "metadata": {},
   "outputs": [],
   "source": []
  },
  {
   "cell_type": "code",
   "execution_count": null,
   "metadata": {},
   "outputs": [],
   "source": []
  },
  {
   "cell_type": "markdown",
   "metadata": {},
   "source": [
    "# Q: What proportion of genome do the RLC regions overlap with? \n"
   ]
  },
  {
   "cell_type": "code",
   "execution_count": 81,
   "metadata": {},
   "outputs": [
    {
     "data": {
      "text/html": [
       "<div>\n",
       "<style scoped>\n",
       "    .dataframe tbody tr th:only-of-type {\n",
       "        vertical-align: middle;\n",
       "    }\n",
       "\n",
       "    .dataframe tbody tr th {\n",
       "        vertical-align: top;\n",
       "    }\n",
       "\n",
       "    .dataframe thead th {\n",
       "        text-align: right;\n",
       "    }\n",
       "</style>\n",
       "<table border=\"1\" class=\"dataframe\">\n",
       "  <thead>\n",
       "    <tr style=\"text-align: right;\">\n",
       "      <th></th>\n",
       "      <th>Chrom</th>\n",
       "      <th>Start</th>\n",
       "      <th>End</th>\n",
       "      <th>Strand</th>\n",
       "      <th>H37rv_GeneID</th>\n",
       "      <th>Symbol</th>\n",
       "      <th>ExcludedGroup_Category</th>\n",
       "      <th>PEandPPE_Subfamily</th>\n",
       "      <th>Functional_Category</th>\n",
       "      <th>FP_Count</th>\n",
       "      <th>Length</th>\n",
       "    </tr>\n",
       "  </thead>\n",
       "  <tbody>\n",
       "    <tr>\n",
       "      <th>6286</th>\n",
       "      <td>NC_000962.3</td>\n",
       "      <td>3845970</td>\n",
       "      <td>3847164</td>\n",
       "      <td>NaN</td>\n",
       "      <td>IntergenicRegion_2683_Rv3428c-Rv3429</td>\n",
       "      <td>NaN</td>\n",
       "      <td>Intergenic</td>\n",
       "      <td>NaN</td>\n",
       "      <td>Intergenic</td>\n",
       "      <td>142</td>\n",
       "      <td>1194</td>\n",
       "    </tr>\n",
       "    <tr>\n",
       "      <th>2840</th>\n",
       "      <td>NC_000962.3</td>\n",
       "      <td>1636003</td>\n",
       "      <td>1638229</td>\n",
       "      <td>-</td>\n",
       "      <td>Rv1452c</td>\n",
       "      <td>PE_PGRS28</td>\n",
       "      <td>PE/PPEs</td>\n",
       "      <td>PE_V_PGRS</td>\n",
       "      <td>PE/PPE</td>\n",
       "      <td>59</td>\n",
       "      <td>2226</td>\n",
       "    </tr>\n",
       "  </tbody>\n",
       "</table>\n",
       "</div>"
      ],
      "text/plain": [
       "            Chrom    Start      End Strand                          H37rv_GeneID     Symbol ExcludedGroup_Category PEandPPE_Subfamily Functional_Category  FP_Count  Length\n",
       "6286  NC_000962.3  3845970  3847164    NaN  IntergenicRegion_2683_Rv3428c-Rv3429        NaN             Intergenic                NaN          Intergenic       142    1194\n",
       "2840  NC_000962.3  1636003  1638229      -                               Rv1452c  PE_PGRS28                PE/PPEs          PE_V_PGRS              PE/PPE        59    2226"
      ]
     },
     "execution_count": 81,
     "metadata": {},
     "output_type": "execute_result"
    }
   ],
   "source": [
    "Regions_Top30SourcesOfFPs_FiltMQ30_DF.head(2)"
   ]
  },
  {
   "cell_type": "code",
   "execution_count": 82,
   "metadata": {},
   "outputs": [
    {
     "name": "stdout",
     "output_type": "stream",
     "text": [
      "NC_000962.3\t3845970\t3847164\t\tIntergenicRegion_2683_Rv3428c-Rv3429\t\tIntergenic\t\tIntergenic\t142\t1194\n",
      "NC_000962.3\t1636003\t1638229\t-\tRv1452c\tPE_PGRS28\tPE/PPEs\tPE_V_PGRS\tPE/PPE\t59\t2226\n"
     ]
    }
   ],
   "source": [
    "!head -n 2 $Regions_Top30SourcesOfFPs_FiltMQ30_BED_PATH"
   ]
  },
  {
   "cell_type": "code",
   "execution_count": null,
   "metadata": {},
   "outputs": [],
   "source": []
  },
  {
   "cell_type": "code",
   "execution_count": 83,
   "metadata": {},
   "outputs": [
    {
     "data": {
      "text/plain": [
       "65394"
      ]
     },
     "execution_count": 83,
     "metadata": {},
     "output_type": "execute_result"
    }
   ],
   "source": [
    "Regions_Top30SourcesOfFPs_FiltMQ30_DF[\"Length\"].sum()"
   ]
  },
  {
   "cell_type": "code",
   "execution_count": 84,
   "metadata": {},
   "outputs": [
    {
     "data": {
      "text/plain": [
       "1.4823421886093087"
      ]
     },
     "execution_count": 84,
     "metadata": {},
     "output_type": "execute_result"
    }
   ],
   "source": [
    "Regions_Top30SourcesOfFPs_FiltMQ30_DF[\"Length\"].sum()/ 4411532 * 100"
   ]
  },
  {
   "cell_type": "code",
   "execution_count": null,
   "metadata": {},
   "outputs": [],
   "source": []
  },
  {
   "cell_type": "markdown",
   "metadata": {},
   "source": [
    "## B) Overlap of EBR < 0.9 and the entire H37Rv genome"
   ]
  },
  {
   "cell_type": "code",
   "execution_count": 85,
   "metadata": {},
   "outputs": [
    {
     "data": {
      "text/html": [
       "<div>\n",
       "<style scoped>\n",
       "    .dataframe tbody tr th:only-of-type {\n",
       "        vertical-align: middle;\n",
       "    }\n",
       "\n",
       "    .dataframe tbody tr th {\n",
       "        vertical-align: top;\n",
       "    }\n",
       "\n",
       "    .dataframe thead th {\n",
       "        text-align: right;\n",
       "    }\n",
       "</style>\n",
       "<table border=\"1\" class=\"dataframe\">\n",
       "  <thead>\n",
       "    <tr style=\"text-align: right;\">\n",
       "      <th></th>\n",
       "      <th>Chrom</th>\n",
       "      <th>Start</th>\n",
       "      <th>End</th>\n",
       "      <th>Length</th>\n",
       "    </tr>\n",
       "  </thead>\n",
       "  <tbody>\n",
       "    <tr>\n",
       "      <th>0</th>\n",
       "      <td>NC_000962.3</td>\n",
       "      <td>24720</td>\n",
       "      <td>24738</td>\n",
       "      <td>18</td>\n",
       "    </tr>\n",
       "    <tr>\n",
       "      <th>1</th>\n",
       "      <td>NC_000962.3</td>\n",
       "      <td>39029</td>\n",
       "      <td>39030</td>\n",
       "      <td>1</td>\n",
       "    </tr>\n",
       "    <tr>\n",
       "      <th>2</th>\n",
       "      <td>NC_000962.3</td>\n",
       "      <td>55548</td>\n",
       "      <td>55647</td>\n",
       "      <td>99</td>\n",
       "    </tr>\n",
       "  </tbody>\n",
       "</table>\n",
       "</div>"
      ],
      "text/plain": [
       "         Chrom  Start    End  Length\n",
       "0  NC_000962.3  24720  24738      18\n",
       "1  NC_000962.3  39029  39030       1\n",
       "2  NC_000962.3  55548  55647      99"
      ]
     },
     "execution_count": 85,
     "metadata": {},
     "output_type": "execute_result"
    }
   ],
   "source": [
    "EBR_36CI_WGS40X_BED_DF_Regions_Below09.head(3)"
   ]
  },
  {
   "cell_type": "code",
   "execution_count": 86,
   "metadata": {},
   "outputs": [
    {
     "name": "stdout",
     "output_type": "stream",
     "text": [
      "NC_000962.3\t24720\t24738\n",
      "NC_000962.3\t39029\t39030\n",
      "NC_000962.3\t55548\t55647\n"
     ]
    }
   ],
   "source": [
    "!head -n 3 $EBR_36CI_BED_Below_09_Regions_PATH"
   ]
  },
  {
   "cell_type": "code",
   "execution_count": 87,
   "metadata": {},
   "outputs": [
    {
     "data": {
      "text/plain": [
       "141960"
      ]
     },
     "execution_count": 87,
     "metadata": {},
     "output_type": "execute_result"
    }
   ],
   "source": [
    "EBR_36CI_WGS40X_BED_DF_Regions_Below09[\"Length\"].sum()"
   ]
  },
  {
   "cell_type": "code",
   "execution_count": 88,
   "metadata": {},
   "outputs": [
    {
     "data": {
      "text/plain": [
       "3.2179297350670923"
      ]
     },
     "execution_count": 88,
     "metadata": {},
     "output_type": "execute_result"
    }
   ],
   "source": [
    "EBR_36CI_WGS40X_BED_DF_Regions_Below09[\"Length\"].sum() / 4411532 * 100"
   ]
  },
  {
   "cell_type": "code",
   "execution_count": null,
   "metadata": {},
   "outputs": [],
   "source": []
  },
  {
   "cell_type": "code",
   "execution_count": null,
   "metadata": {},
   "outputs": [],
   "source": []
  },
  {
   "cell_type": "code",
   "execution_count": 89,
   "metadata": {},
   "outputs": [],
   "source": [
    "## Z)"
   ]
  },
  {
   "cell_type": "code",
   "execution_count": 90,
   "metadata": {},
   "outputs": [
    {
     "data": {
      "text/html": [
       "<div>\n",
       "<style scoped>\n",
       "    .dataframe tbody tr th:only-of-type {\n",
       "        vertical-align: middle;\n",
       "    }\n",
       "\n",
       "    .dataframe tbody tr th {\n",
       "        vertical-align: top;\n",
       "    }\n",
       "\n",
       "    .dataframe thead th {\n",
       "        text-align: right;\n",
       "    }\n",
       "</style>\n",
       "<table border=\"1\" class=\"dataframe\">\n",
       "  <thead>\n",
       "    <tr style=\"text-align: right;\">\n",
       "      <th></th>\n",
       "      <th>Chrom</th>\n",
       "      <th>Start</th>\n",
       "      <th>End</th>\n",
       "      <th>Length</th>\n",
       "    </tr>\n",
       "  </thead>\n",
       "  <tbody>\n",
       "    <tr>\n",
       "      <th>0</th>\n",
       "      <td>NC_000962.3</td>\n",
       "      <td>23173</td>\n",
       "      <td>23238</td>\n",
       "      <td>65</td>\n",
       "    </tr>\n",
       "    <tr>\n",
       "      <th>1</th>\n",
       "      <td>NC_000962.3</td>\n",
       "      <td>79499</td>\n",
       "      <td>79574</td>\n",
       "      <td>75</td>\n",
       "    </tr>\n",
       "  </tbody>\n",
       "</table>\n",
       "</div>"
      ],
      "text/plain": [
       "         Chrom  Start    End  Length\n",
       "0  NC_000962.3  23173  23238      65\n",
       "1  NC_000962.3  79499  79574      75"
      ]
     },
     "execution_count": 90,
     "metadata": {},
     "output_type": "execute_result"
    }
   ],
   "source": [
    "PMap_K50E4_BED_Below1_DF.head(2)"
   ]
  },
  {
   "cell_type": "code",
   "execution_count": 91,
   "metadata": {},
   "outputs": [
    {
     "data": {
      "text/plain": [
       "189147"
      ]
     },
     "execution_count": 91,
     "metadata": {},
     "output_type": "execute_result"
    }
   ],
   "source": [
    "PMap_K50E4_BED_Below1_DF[\"Length\"].sum()"
   ]
  },
  {
   "cell_type": "code",
   "execution_count": 92,
   "metadata": {},
   "outputs": [
    {
     "data": {
      "text/plain": [
       "4.287558154400784"
      ]
     },
     "execution_count": 92,
     "metadata": {},
     "output_type": "execute_result"
    }
   ],
   "source": [
    "PMap_K50E4_BED_Below1_DF[\"Length\"].sum() / 4411532 * 100"
   ]
  },
  {
   "cell_type": "code",
   "execution_count": 93,
   "metadata": {},
   "outputs": [
    {
     "data": {
      "text/html": [
       "<div>\n",
       "<style scoped>\n",
       "    .dataframe tbody tr th:only-of-type {\n",
       "        vertical-align: middle;\n",
       "    }\n",
       "\n",
       "    .dataframe tbody tr th {\n",
       "        vertical-align: top;\n",
       "    }\n",
       "\n",
       "    .dataframe thead th {\n",
       "        text-align: right;\n",
       "    }\n",
       "</style>\n",
       "<table border=\"1\" class=\"dataframe\">\n",
       "  <thead>\n",
       "    <tr style=\"text-align: right;\">\n",
       "      <th></th>\n",
       "      <th>Chrom</th>\n",
       "      <th>Start</th>\n",
       "      <th>End</th>\n",
       "      <th>Length</th>\n",
       "    </tr>\n",
       "  </thead>\n",
       "  <tbody>\n",
       "    <tr>\n",
       "      <th>0</th>\n",
       "      <td>NC_000962.3</td>\n",
       "      <td>23173</td>\n",
       "      <td>23238</td>\n",
       "      <td>65</td>\n",
       "    </tr>\n",
       "    <tr>\n",
       "      <th>1</th>\n",
       "      <td>NC_000962.3</td>\n",
       "      <td>79499</td>\n",
       "      <td>79574</td>\n",
       "      <td>75</td>\n",
       "    </tr>\n",
       "  </tbody>\n",
       "</table>\n",
       "</div>"
      ],
      "text/plain": [
       "         Chrom  Start    End  Length\n",
       "0  NC_000962.3  23173  23238      65\n",
       "1  NC_000962.3  79499  79574      75"
      ]
     },
     "execution_count": 93,
     "metadata": {},
     "output_type": "execute_result"
    }
   ],
   "source": [
    "PMap_K50E4_BED_Below1_DF.head(2)"
   ]
  },
  {
   "cell_type": "code",
   "execution_count": 94,
   "metadata": {},
   "outputs": [
    {
     "name": "stdout",
     "output_type": "stream",
     "text": [
      "NC_000962.3\t23173\t23238\n",
      "NC_000962.3\t79499\t79574\n"
     ]
    }
   ],
   "source": [
    "!head -n 2 $PMap_K50E4_200730_BED_REGIONS_BELOW_1_PATH"
   ]
  },
  {
   "cell_type": "code",
   "execution_count": null,
   "metadata": {},
   "outputs": [],
   "source": []
  },
  {
   "cell_type": "code",
   "execution_count": null,
   "metadata": {},
   "outputs": [],
   "source": []
  },
  {
   "cell_type": "code",
   "execution_count": 95,
   "metadata": {},
   "outputs": [],
   "source": [
    "## C)"
   ]
  },
  {
   "cell_type": "code",
   "execution_count": 96,
   "metadata": {},
   "outputs": [
    {
     "data": {
      "text/html": [
       "<div>\n",
       "<style scoped>\n",
       "    .dataframe tbody tr th:only-of-type {\n",
       "        vertical-align: middle;\n",
       "    }\n",
       "\n",
       "    .dataframe tbody tr th {\n",
       "        vertical-align: top;\n",
       "    }\n",
       "\n",
       "    .dataframe thead th {\n",
       "        text-align: right;\n",
       "    }\n",
       "</style>\n",
       "<table border=\"1\" class=\"dataframe\">\n",
       "  <thead>\n",
       "    <tr style=\"text-align: right;\">\n",
       "      <th></th>\n",
       "      <th>chrom</th>\n",
       "      <th>chromStart</th>\n",
       "      <th>chromEnd</th>\n",
       "      <th>name</th>\n",
       "      <th>score</th>\n",
       "      <th>Length</th>\n",
       "    </tr>\n",
       "  </thead>\n",
       "  <tbody>\n",
       "    <tr>\n",
       "      <th>0</th>\n",
       "      <td>NC_000962.3</td>\n",
       "      <td>334641</td>\n",
       "      <td>334653</td>\n",
       "      <td>Region996_Length_12_bp</td>\n",
       "      <td>Ambiguous</td>\n",
       "      <td>12</td>\n",
       "    </tr>\n",
       "    <tr>\n",
       "      <th>1</th>\n",
       "      <td>NC_000962.3</td>\n",
       "      <td>334694</td>\n",
       "      <td>334723</td>\n",
       "      <td>Region998_Length_29_bp</td>\n",
       "      <td>Ambiguous</td>\n",
       "      <td>29</td>\n",
       "    </tr>\n",
       "  </tbody>\n",
       "</table>\n",
       "</div>"
      ],
      "text/plain": [
       "         chrom  chromStart  chromEnd                    name      score  Length\n",
       "0  NC_000962.3      334641    334653  Region996_Length_12_bp  Ambiguous      12\n",
       "1  NC_000962.3      334694    334723  Region998_Length_29_bp  Ambiguous      29"
      ]
     },
     "execution_count": 96,
     "metadata": {},
     "output_type": "execute_result"
    }
   ],
   "source": [
    "EBR_36CI_BED_DF_AMB_ONLY.head(2)"
   ]
  },
  {
   "cell_type": "code",
   "execution_count": 97,
   "metadata": {},
   "outputs": [
    {
     "name": "stdout",
     "output_type": "stream",
     "text": [
      "NC_000962.3\t334641\t334653\tRegion996_Length_12_bp\tAmbiguous\t12\n",
      "NC_000962.3\t334694\t334723\tRegion998_Length_29_bp\tAmbiguous\t29\n"
     ]
    }
   ],
   "source": [
    "!head -n 2 $EBR_36CI_Ambigous_Regions_BED_PATH"
   ]
  },
  {
   "cell_type": "code",
   "execution_count": 98,
   "metadata": {},
   "outputs": [
    {
     "data": {
      "text/plain": [
       "15813"
      ]
     },
     "execution_count": 98,
     "metadata": {},
     "output_type": "execute_result"
    }
   ],
   "source": [
    "EBR_36CI_BED_DF_AMB_ONLY[\"Length\"].sum()"
   ]
  },
  {
   "cell_type": "code",
   "execution_count": 99,
   "metadata": {},
   "outputs": [
    {
     "data": {
      "text/plain": [
       "0.35844690687951486"
      ]
     },
     "execution_count": 99,
     "metadata": {},
     "output_type": "execute_result"
    }
   ],
   "source": [
    "(EBR_36CI_BED_DF_AMB_ONLY[\"Length\"].sum() / 4411532) * 100"
   ]
  },
  {
   "cell_type": "code",
   "execution_count": null,
   "metadata": {},
   "outputs": [],
   "source": []
  },
  {
   "cell_type": "code",
   "execution_count": 100,
   "metadata": {},
   "outputs": [
    {
     "name": "stdout",
     "output_type": "stream",
     "text": [
      "1076\n"
     ]
    }
   ],
   "source": [
    "!cat $PMap_K50E4_200730_BED_REGIONS_BELOW_1_PATH $EBR_36CI_Ambigous_Regions_BED_PATH | cut -f 1-3 | bedtools sort  | bedtools merge | wc -l "
   ]
  },
  {
   "cell_type": "code",
   "execution_count": 101,
   "metadata": {},
   "outputs": [
    {
     "name": "stdout",
     "output_type": "stream",
     "text": [
      "NC_000962.3\t23173\t23238\n",
      "NC_000962.3\t79499\t79574\n",
      "NC_000962.3\t80181\t80380\n",
      "NC_000962.3\t80459\t80518\n",
      "NC_000962.3\t82166\t82238\n",
      "NC_000962.3\t82372\t82487\n",
      "NC_000962.3\t103702\t104785\n",
      "NC_000962.3\t104830\t104941\n",
      "NC_000962.3\t104942\t105137\n",
      "NC_000962.3\t131785\t131844\n"
     ]
    }
   ],
   "source": [
    "!cat $PMap_K50E4_200730_BED_REGIONS_BELOW_1_PATH $EBR_36CI_Ambigous_Regions_BED_PATH | cut -f 1-3 | bedtools sort  | bedtools merge | head"
   ]
  },
  {
   "cell_type": "code",
   "execution_count": null,
   "metadata": {},
   "outputs": [],
   "source": []
  },
  {
   "cell_type": "code",
   "execution_count": null,
   "metadata": {},
   "outputs": [],
   "source": []
  },
  {
   "cell_type": "markdown",
   "metadata": {},
   "source": [
    "# Outputting BED files defining RLC regions (+ additional region masking combinations)"
   ]
  },
  {
   "cell_type": "markdown",
   "metadata": {},
   "source": [
    "## A) Define directory for output of RLC results"
   ]
  },
  {
   "cell_type": "code",
   "execution_count": 102,
   "metadata": {},
   "outputs": [
    {
     "name": "stdout",
     "output_type": "stream",
     "text": [
      "mkdir: cannot create directory ‘../../Data/210215_Defining_RLC_Regions’: File exists\n",
      "mkdir: cannot create directory ‘../../../210112_PBvsI_VCeval_AnalysisDir_V7_36CI/210215_Defining_RLC_Regions’: File exists\n"
     ]
    }
   ],
   "source": [
    "Repo_DataDir = \"../../Data\"\n",
    "PB_Vs_Illumina_DataAnalysis_Dir = \"../../../210112_PBvsI_VCeval_AnalysisDir_V7_36CI\"\n",
    "\n",
    "Defining_RLC_Regions_RepoDataDir = Repo_DataDir + \"/210215_Defining_RLC_Regions\"\n",
    "Defining_RLC_Regions_AnalysisDir = PB_Vs_Illumina_DataAnalysis_Dir + \"/210215_Defining_RLC_Regions\"\n",
    "\n",
    "\n",
    "!mkdir $Defining_RLC_Regions_RepoDataDir\n",
    "!mkdir $Defining_RLC_Regions_AnalysisDir\n"
   ]
  },
  {
   "cell_type": "markdown",
   "metadata": {},
   "source": [
    "### Copy all subsets that contribute to RLCs"
   ]
  },
  {
   "cell_type": "code",
   "execution_count": 103,
   "metadata": {},
   "outputs": [],
   "source": [
    "!cp $Regions_Top30SourcesOfFPs_FiltMQ30_BED_PATH $Defining_RLC_Regions_RepoDataDir/\n",
    "!cp $Regions_Top30SourcesOfFPs_FiltMQ30_BED_PATH $Defining_RLC_Regions_AnalysisDir/\n",
    "\n",
    "!cp $EBR_36CI_BED_Below_09_Regions_PATH $Defining_RLC_Regions_RepoDataDir/\n",
    "!cp $EBR_36CI_BED_Below_09_Regions_PATH $Defining_RLC_Regions_AnalysisDir/\n",
    "\n",
    "!cp $PMap_K50E4_200730_BED_REGIONS_BELOW_1_PATH $Defining_RLC_Regions_RepoDataDir/\n",
    "!cp $PMap_K50E4_200730_BED_REGIONS_BELOW_1_PATH $Defining_RLC_Regions_AnalysisDir/\n",
    "\n",
    "!cp $EBR_36CI_Ambigous_Regions_BED_PATH $Defining_RLC_Regions_RepoDataDir/\n",
    "!cp $EBR_36CI_Ambigous_Regions_BED_PATH $Defining_RLC_Regions_AnalysisDir/\n"
   ]
  },
  {
   "cell_type": "code",
   "execution_count": null,
   "metadata": {},
   "outputs": [],
   "source": []
  },
  {
   "cell_type": "code",
   "execution_count": null,
   "metadata": {},
   "outputs": [],
   "source": []
  },
  {
   "cell_type": "markdown",
   "metadata": {},
   "source": [
    "## B) Test merging of different sub-masks"
   ]
  },
  {
   "cell_type": "code",
   "execution_count": 104,
   "metadata": {},
   "outputs": [
    {
     "name": "stdout",
     "output_type": "stream",
     "text": [
      "884\n"
     ]
    }
   ],
   "source": [
    "!cat $EBR_36CI_BED_Below_09_Regions_PATH $EBR_36CI_Ambigous_Regions_BED_PATH | cut -f 1-3 | bedtools sort  | bedtools merge | wc -l"
   ]
  },
  {
   "cell_type": "code",
   "execution_count": 105,
   "metadata": {},
   "outputs": [
    {
     "name": "stdout",
     "output_type": "stream",
     "text": [
      "773\n"
     ]
    }
   ],
   "source": [
    "!cat $Regions_Top30SourcesOfFPs_FiltMQ30_BED_PATH $EBR_36CI_BED_Below_09_Regions_PATH $EBR_36CI_Ambigous_Regions_BED_PATH | cut -f 1-3 | bedtools sort | bedtools merge | wc -l"
   ]
  },
  {
   "cell_type": "code",
   "execution_count": 106,
   "metadata": {},
   "outputs": [
    {
     "name": "stdout",
     "output_type": "stream",
     "text": [
      "NC_000962.3\t24720\t24738\n",
      "NC_000962.3\t39029\t39030\n",
      "NC_000962.3\t55548\t55647\n",
      "NC_000962.3\t71464\t71584\n",
      "NC_000962.3\t79569\t83035\n",
      "NC_000962.3\t86778\t86779\n",
      "NC_000962.3\t86780\t86782\n",
      "NC_000962.3\t103749\t104811\n",
      "NC_000962.3\t104813\t104962\n",
      "NC_000962.3\t131928\t131979\n"
     ]
    }
   ],
   "source": [
    "!cat $Regions_Top30SourcesOfFPs_FiltMQ30_BED_PATH $EBR_36CI_BED_Below_09_Regions_PATH $EBR_36CI_Ambigous_Regions_BED_PATH | cut -f 1-3 | bedtools sort | bedtools merge | head "
   ]
  },
  {
   "cell_type": "code",
   "execution_count": null,
   "metadata": {},
   "outputs": [],
   "source": []
  },
  {
   "cell_type": "markdown",
   "metadata": {},
   "source": [
    "## A) Output RLCs (low EBR, FP Hotspots, and Amb regions)"
   ]
  },
  {
   "cell_type": "code",
   "execution_count": 107,
   "metadata": {},
   "outputs": [],
   "source": [
    "\n",
    "RLC_BED_PATH_O2Dir = f\"{Defining_RLC_Regions_AnalysisDir}/RLC_Regions.H37Rv.bed\" \n",
    "RLC_BED_PATH_RepoDir = f\"{Defining_RLC_Regions_RepoDataDir}/RLC_Regions.H37Rv.bed\"\n",
    "\n",
    "\n",
    "!cat $Regions_Top30SourcesOfFPs_FiltMQ30_BED_PATH $EBR_36CI_BED_Below_09_Regions_PATH $EBR_36CI_Ambigous_Regions_BED_PATH | cut -f 1-3 | bedtools sort | bedtools merge > $RLC_BED_PATH_O2Dir\n",
    "\n",
    "!cp $RLC_BED_PATH_O2Dir $RLC_BED_PATH_RepoDir"
   ]
  },
  {
   "cell_type": "code",
   "execution_count": 108,
   "metadata": {},
   "outputs": [
    {
     "data": {
      "text/plain": [
       "(773, 4)"
      ]
     },
     "execution_count": 108,
     "metadata": {},
     "output_type": "execute_result"
    }
   ],
   "source": [
    "RefinedLCRs_DF = pd.read_csv(RLC_BED_PATH_RepoDir, sep = \"\\t\", header = None)\n",
    "RefinedLCRs_DF.columns = [\"Chrom\", \"Start\", \"End\"]\n",
    "RefinedLCRs_DF[\"Length\"] = RefinedLCRs_DF[\"End\"] - RefinedLCRs_DF[\"Start\"]\n",
    "RefinedLCRs_DF.shape"
   ]
  },
  {
   "cell_type": "code",
   "execution_count": 109,
   "metadata": {},
   "outputs": [
    {
     "data": {
      "text/plain": [
       "177077"
      ]
     },
     "execution_count": 109,
     "metadata": {},
     "output_type": "execute_result"
    }
   ],
   "source": [
    "RefinedLCRs_DF[\"Length\"].sum()"
   ]
  },
  {
   "cell_type": "code",
   "execution_count": null,
   "metadata": {},
   "outputs": [],
   "source": []
  },
  {
   "cell_type": "code",
   "execution_count": 110,
   "metadata": {},
   "outputs": [
    {
     "data": {
      "text/plain": [
       "0.0401395705618819"
      ]
     },
     "execution_count": 110,
     "metadata": {},
     "output_type": "execute_result"
    }
   ],
   "source": [
    "(RefinedLCRs_DF[\"Length\"].sum() / 4411532) "
   ]
  },
  {
   "cell_type": "code",
   "execution_count": 111,
   "metadata": {},
   "outputs": [
    {
     "data": {
      "text/plain": [
       "4.0139570561881905"
      ]
     },
     "execution_count": 111,
     "metadata": {},
     "output_type": "execute_result"
    }
   ],
   "source": [
    "(RefinedLCRs_DF[\"Length\"].sum() / 4411532) * 100"
   ]
  },
  {
   "cell_type": "code",
   "execution_count": 112,
   "metadata": {},
   "outputs": [],
   "source": [
    "### OLD PLC Regions Length "
   ]
  },
  {
   "cell_type": "code",
   "execution_count": 113,
   "metadata": {},
   "outputs": [
    {
     "data": {
      "text/plain": [
       "469501"
      ]
     },
     "execution_count": 113,
     "metadata": {},
     "output_type": "execute_result"
    }
   ],
   "source": [
    "LowConfidenceRegions_BED_DF[\"Length\"].sum()"
   ]
  },
  {
   "cell_type": "code",
   "execution_count": 114,
   "metadata": {},
   "outputs": [
    {
     "data": {
      "text/plain": [
       "10.642584027498838"
      ]
     },
     "execution_count": 114,
     "metadata": {},
     "output_type": "execute_result"
    }
   ],
   "source": [
    "(LowConfidenceRegions_BED_DF[\"Length\"].sum() / 4411532) * 100"
   ]
  },
  {
   "cell_type": "code",
   "execution_count": null,
   "metadata": {},
   "outputs": [],
   "source": []
  },
  {
   "cell_type": "markdown",
   "metadata": {},
   "source": [
    "## B) Output RLCs (low EBR, FP Hotspots, and Amb regions) + Pileup Mappability (K=50bp, E=4)"
   ]
  },
  {
   "cell_type": "code",
   "execution_count": 115,
   "metadata": {},
   "outputs": [],
   "source": [
    "RLC_PlusLowPmapK50E4_BED_PATH_O2Dir = f\"{Defining_RLC_Regions_AnalysisDir}/RLC_Regions.Plus.LowPmapK50E4.H37Rv.bed\" \n",
    "RLC_PlusLowPmapK50E4_BED_PATH_RepoDir = f\"{Defining_RLC_Regions_RepoDataDir}/RLC_Regions.Plus.LowPmapK50E4.H37Rv.bed\"\n",
    "\n",
    "\n",
    "!cat $Regions_Top30SourcesOfFPs_FiltMQ30_BED_PATH $EBR_36CI_BED_Below_09_Regions_PATH $EBR_36CI_Ambigous_Regions_BED_PATH $PMap_K50E4_200730_BED_REGIONS_BELOW_1_PATH | cut -f 1-3 | bedtools sort | bedtools merge > $RLC_PlusLowPmapK50E4_BED_PATH_O2Dir   \n",
    "\n",
    "!cp $RLC_PlusLowPmapK50E4_BED_PATH_O2Dir $RLC_PlusLowPmapK50E4_BED_PATH_RepoDir"
   ]
  },
  {
   "cell_type": "code",
   "execution_count": 116,
   "metadata": {},
   "outputs": [
    {
     "data": {
      "text/plain": [
       "(1324, 4)"
      ]
     },
     "execution_count": 116,
     "metadata": {},
     "output_type": "execute_result"
    }
   ],
   "source": [
    "RefinedLCRs_WiPmapK50E4_DF = pd.read_csv(RLC_PlusLowPmapK50E4_BED_PATH_RepoDir, sep = \"\\t\", header = None)\n",
    "RefinedLCRs_WiPmapK50E4_DF.columns = [\"Chrom\", \"Start\", \"End\"]\n",
    "RefinedLCRs_WiPmapK50E4_DF[\"Length\"] = RefinedLCRs_WiPmapK50E4_DF[\"End\"] - RefinedLCRs_WiPmapK50E4_DF[\"Start\"]\n",
    "RefinedLCRs_WiPmapK50E4_DF.shape"
   ]
  },
  {
   "cell_type": "code",
   "execution_count": 117,
   "metadata": {},
   "outputs": [
    {
     "data": {
      "text/plain": [
       "276750"
      ]
     },
     "execution_count": 117,
     "metadata": {},
     "output_type": "execute_result"
    }
   ],
   "source": [
    "RefinedLCRs_WiPmapK50E4_DF[\"Length\"].sum()"
   ]
  },
  {
   "cell_type": "code",
   "execution_count": 118,
   "metadata": {},
   "outputs": [
    {
     "data": {
      "text/plain": [
       "6.273330897293729"
      ]
     },
     "execution_count": 118,
     "metadata": {},
     "output_type": "execute_result"
    }
   ],
   "source": [
    "(RefinedLCRs_WiPmapK50E4_DF[\"Length\"].sum() / 4411532) * 100"
   ]
  },
  {
   "cell_type": "code",
   "execution_count": null,
   "metadata": {},
   "outputs": [],
   "source": []
  },
  {
   "cell_type": "code",
   "execution_count": null,
   "metadata": {},
   "outputs": [],
   "source": []
  },
  {
   "cell_type": "code",
   "execution_count": null,
   "metadata": {},
   "outputs": [],
   "source": []
  },
  {
   "cell_type": "code",
   "execution_count": null,
   "metadata": {},
   "outputs": [],
   "source": []
  },
  {
   "cell_type": "markdown",
   "metadata": {},
   "source": [
    "## C) Output RLCs (low EBR, FP Hotspots, and Amb regions) + ALL Annotated Mobile Genetic Elements (MGEs)"
   ]
  },
  {
   "cell_type": "code",
   "execution_count": 119,
   "metadata": {},
   "outputs": [],
   "source": [
    "RLC_PlusMGEs_BED_PATH_O2Dir = f\"{Defining_RLC_Regions_AnalysisDir}/RLC_Regions.Plus.MGEs.H37Rv.bed\" \n",
    "RLC_PlusMGEs_BED_PATH_RepoDir = f\"{Defining_RLC_Regions_RepoDataDir}/RLC_Regions.Plus.MGEs.H37Rv.bed\"\n",
    "\n",
    "\n",
    "!cat $Regions_Top30SourcesOfFPs_FiltMQ30_BED_PATH $PMap_K50E4_200730_BED_REGIONS_BELOW_1_PATH $EBR_36CI_Ambigous_Regions_BED_PATH $Mtb_H37rv_pLCRegions_Coscolla_Subset_MGEs_BED_PATH | cut -f 1-3 | bedtools sort | bedtools merge > $RLC_PlusMGEs_BED_PATH_O2Dir\n",
    "\n",
    "!cp $RLC_PlusMGEs_BED_PATH_O2Dir $RLC_PlusMGEs_BED_PATH_RepoDir\n"
   ]
  },
  {
   "cell_type": "code",
   "execution_count": 120,
   "metadata": {},
   "outputs": [
    {
     "data": {
      "text/plain": [
       "(909, 4)"
      ]
     },
     "execution_count": 120,
     "metadata": {},
     "output_type": "execute_result"
    }
   ],
   "source": [
    "RefinedLCRs_WiMGE_DF = pd.read_csv(RLC_PlusMGEs_BED_PATH_RepoDir, sep = \"\\t\", header = None)\n",
    "RefinedLCRs_WiMGE_DF.columns = [\"Chrom\", \"Start\", \"End\"]\n",
    "RefinedLCRs_WiMGE_DF[\"Length\"] = RefinedLCRs_WiMGE_DF[\"End\"] - RefinedLCRs_WiMGE_DF[\"Start\"]\n",
    "RefinedLCRs_WiMGE_DF.shape"
   ]
  },
  {
   "cell_type": "code",
   "execution_count": 121,
   "metadata": {},
   "outputs": [
    {
     "data": {
      "text/plain": [
       "277867"
      ]
     },
     "execution_count": 121,
     "metadata": {},
     "output_type": "execute_result"
    }
   ],
   "source": [
    "RefinedLCRs_WiMGE_DF[\"Length\"].sum()"
   ]
  },
  {
   "cell_type": "code",
   "execution_count": 122,
   "metadata": {},
   "outputs": [
    {
     "data": {
      "text/plain": [
       "6.298650899506113"
      ]
     },
     "execution_count": 122,
     "metadata": {},
     "output_type": "execute_result"
    }
   ],
   "source": [
    "(RefinedLCRs_WiMGE_DF[\"Length\"].sum() / 4411532) * 100"
   ]
  },
  {
   "cell_type": "code",
   "execution_count": null,
   "metadata": {},
   "outputs": [],
   "source": [
    "# 278 kb"
   ]
  },
  {
   "cell_type": "code",
   "execution_count": null,
   "metadata": {},
   "outputs": [],
   "source": []
  },
  {
   "cell_type": "code",
   "execution_count": 123,
   "metadata": {},
   "outputs": [],
   "source": [
    "!cat $Regions_Top30SourcesOfFPs_FiltMQ30_BED_PATH $PMap_K50E4_200730_BED_REGIONS_BELOW_1_PATH | cut -f 1-3 | bedtools sort | bedtools merge > ./RefinedLCRs_NoAmbRemoved.bed             \n"
   ]
  },
  {
   "cell_type": "code",
   "execution_count": null,
   "metadata": {},
   "outputs": [],
   "source": []
  },
  {
   "cell_type": "code",
   "execution_count": 124,
   "metadata": {},
   "outputs": [
    {
     "data": {
      "text/plain": [
       "(961, 4)"
      ]
     },
     "execution_count": 124,
     "metadata": {},
     "output_type": "execute_result"
    }
   ],
   "source": [
    "RefinedLCRs_WiMGE_DF = pd.read_csv(\"./RefinedLCRs_NoAmbRemoved.bed\", sep = \"\\t\", header = None)\n",
    "RefinedLCRs_WiMGE_DF.columns = [\"Chrom\", \"Start\", \"End\"]\n",
    "RefinedLCRs_WiMGE_DF[\"Length\"] = RefinedLCRs_WiMGE_DF[\"End\"] - RefinedLCRs_WiMGE_DF[\"Start\"]\n",
    "RefinedLCRs_WiMGE_DF.shape"
   ]
  },
  {
   "cell_type": "code",
   "execution_count": 125,
   "metadata": {},
   "outputs": [
    {
     "data": {
      "text/plain": [
       "225846"
      ]
     },
     "execution_count": 125,
     "metadata": {},
     "output_type": "execute_result"
    }
   ],
   "source": [
    "RefinedLCRs_WiMGE_DF[\"Length\"].sum()"
   ]
  },
  {
   "cell_type": "code",
   "execution_count": 126,
   "metadata": {},
   "outputs": [
    {
     "data": {
      "text/plain": [
       "5.119446033713458"
      ]
     },
     "execution_count": 126,
     "metadata": {},
     "output_type": "execute_result"
    }
   ],
   "source": [
    "(RefinedLCRs_WiMGE_DF[\"Length\"].sum() / 4411532) * 100"
   ]
  },
  {
   "cell_type": "code",
   "execution_count": null,
   "metadata": {},
   "outputs": [],
   "source": []
  },
  {
   "cell_type": "code",
   "execution_count": 127,
   "metadata": {},
   "outputs": [
    {
     "data": {
      "text/plain": [
       "189147"
      ]
     },
     "execution_count": 127,
     "metadata": {},
     "output_type": "execute_result"
    }
   ],
   "source": [
    "PMap_K50E4_BED_Below1_DF[\"Length\"].sum()"
   ]
  },
  {
   "cell_type": "code",
   "execution_count": 128,
   "metadata": {},
   "outputs": [
    {
     "data": {
      "text/plain": [
       "65394"
      ]
     },
     "execution_count": 128,
     "metadata": {},
     "output_type": "execute_result"
    }
   ],
   "source": [
    "Regions_Top30SourcesOfFPs_FiltMQ30_DF[\"Length\"].sum()"
   ]
  },
  {
   "cell_type": "code",
   "execution_count": 129,
   "metadata": {},
   "outputs": [
    {
     "data": {
      "text/plain": [
       "254541"
      ]
     },
     "execution_count": 129,
     "metadata": {},
     "output_type": "execute_result"
    }
   ],
   "source": [
    "189147 + 65394"
   ]
  },
  {
   "cell_type": "code",
   "execution_count": 130,
   "metadata": {},
   "outputs": [
    {
     "data": {
      "text/plain": [
       "28695"
      ]
     },
     "execution_count": 130,
     "metadata": {},
     "output_type": "execute_result"
    }
   ],
   "source": [
    "254541 - 225846"
   ]
  },
  {
   "cell_type": "code",
   "execution_count": null,
   "metadata": {},
   "outputs": [],
   "source": []
  },
  {
   "cell_type": "code",
   "execution_count": null,
   "metadata": {},
   "outputs": [],
   "source": []
  },
  {
   "cell_type": "markdown",
   "metadata": {},
   "source": [
    "## Look at final output dir"
   ]
  },
  {
   "cell_type": "code",
   "execution_count": 131,
   "metadata": {},
   "outputs": [
    {
     "name": "stdout",
     "output_type": "stream",
     "text": [
      "total 232K\n",
      "drwxrwsr-x  2 mm774 farhat  379 Mar 29 22:17 .\n",
      "drwxrwsr-x 12 mm774 farhat  574 Mar 29 19:36 ..\n",
      "-rw-rw-r--  1 mm774 farhat  30K Mar 30 13:12 201027_PMap_K50E4_Regions_BELOW_1.bed\n",
      "-rw-rw-r--  1 mm774 farhat 2.6K Mar 30 13:12 210202_Mtb_H37rv.Top30SourcesOfFPs.FiltMQ30.bed\n",
      "-rw-rw-r--  1 mm774 farhat 1.6K Mar 30 13:12 EBR_36CI_AmbigousRegions_V1.bed\n",
      "-rw-rw-r--  1 mm774 farhat  24K Mar 30 13:12 EBR_V7_36CI.Below_0.9.And.Ambiguous.Regions.bed\n",
      "-rw-rw-r--  1 mm774 farhat  21K Mar 30 13:12 RLC_Regions.H37Rv.bed\n",
      "-rw-rw-r--  1 mm774 farhat  36K Mar 30 13:12 RLC_Regions.Plus.LowPmapK50E4.H37Rv.bed\n",
      "-rw-rw-r--  1 mm774 farhat  25K Mar 30 13:12 RLC_Regions.Plus.MGEs.H37Rv.bed\n"
     ]
    }
   ],
   "source": [
    "!ls -lah $Defining_RLC_Regions_AnalysisDir"
   ]
  },
  {
   "cell_type": "code",
   "execution_count": null,
   "metadata": {},
   "outputs": [],
   "source": []
  },
  {
   "cell_type": "code",
   "execution_count": null,
   "metadata": {},
   "outputs": [],
   "source": []
  },
  {
   "cell_type": "code",
   "execution_count": null,
   "metadata": {},
   "outputs": [],
   "source": []
  }
 ],
 "metadata": {
  "kernelspec": {
   "display_name": "py37_S",
   "language": "python",
   "name": "py37_s"
  },
  "language_info": {
   "codemirror_mode": {
    "name": "ipython",
    "version": 3
   },
   "file_extension": ".py",
   "mimetype": "text/x-python",
   "name": "python",
   "nbconvert_exporter": "python",
   "pygments_lexer": "ipython3",
   "version": "3.7.3"
  }
 },
 "nbformat": 4,
 "nbformat_minor": 4
}
